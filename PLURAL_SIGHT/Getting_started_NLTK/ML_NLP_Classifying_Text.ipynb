{
 "cells": [
  {
   "cell_type": "markdown",
   "metadata": {},
   "source": [
    "*DOWNLOAD ALL THE URLS:*\n",
    "\n",
    "(each URL will have 7 blog posts)"
   ]
  },
  {
   "cell_type": "code",
   "execution_count": 1,
   "metadata": {},
   "outputs": [],
   "source": [
    "from urllib.request import urlopen\n",
    "from bs4 import BeautifulSoup"
   ]
  },
  {
   "cell_type": "code",
   "execution_count": 4,
   "metadata": {},
   "outputs": [],
   "source": [
    "def getAllDoxyDonkeyPosts(url, links): #{\n",
    "    response = urlopen(url)\n",
    "    soup = BeautifulSoup(response)\n",
    "    # use the 'a' tag to find links\n",
    "    for a in soup.findAll('a'): #{ # <-used to find all links that are present on home page\n",
    "        # try the following\n",
    "        try: #{\n",
    "            url = a['href']\n",
    "            title = a['title']\n",
    "            if title == 'Older Posts': #{\n",
    "                print (title, url)\n",
    "                links.append(url)\n",
    "                getAllDoxyDonkeyPosts(url, links)  # find the next \"Older Posts\" link\n",
    "            #}\n",
    "        #}\n",
    "        except: #{\n",
    "            title = \"\"\n",
    "        #}\n",
    "    #}\n",
    "    return\n",
    "#}"
   ]
  },
  {
   "cell_type": "code",
   "execution_count": 6,
   "metadata": {},
   "outputs": [],
   "source": [
    "blogUrl = 'http://reddit.com'\n",
    "links = []\n",
    "getAllDoxyDonkeyPosts(blogUrl, links)"
   ]
  },
  {
   "cell_type": "code",
   "execution_count": 7,
   "metadata": {},
   "outputs": [
    {
     "data": {
      "text/plain": [
       "[]"
      ]
     },
     "execution_count": 7,
     "metadata": {},
     "output_type": "execute_result"
    }
   ],
   "source": [
    "links"
   ]
  },
  {
   "cell_type": "markdown",
   "metadata": {},
   "source": [
    "## *WHAT IT SHOULD HAVE LOOKED LIKE:*\n",
    "\n",
    "[CLICK_LINK_TO_SEE_IMAGE](2019_10_14_14_18_55_Pluralsight_Offline_Player.png)"
   ]
  },
  {
   "cell_type": "code",
   "execution_count": null,
   "metadata": {},
   "outputs": [],
   "source": [
    "def getDoxyDonkeyText(testUrl): #{\n",
    "    r = urlopen(testUrl)\n",
    "    soup = BeautifulSoup(r)\n",
    "    mydivs = soup.findAll(\"div\", {\"class\":'post-body'})  # FIND ALL POSTS WITHIN THE PAGE\n",
    "    \n",
    "    posts = []\n",
    "    for div in mydivs: #{\n",
    "        posts +=map(lambda p:p.t)\n",
    "        }\n",
    "#}"
   ]
  },
  {
   "cell_type": "markdown",
   "metadata": {},
   "source": [
    "#### setup empty ist where we'll collect all of our articles ^^"
   ]
  },
  {
   "cell_type": "code",
   "execution_count": 5,
   "metadata": {},
   "outputs": [],
   "source": [
    "# CONVERTS text TO TF-IDF representation\n",
    "from sklearn.feature_extraction.text import TfidfVectorizer"
   ]
  },
  {
   "cell_type": "code",
   "execution_count": 6,
   "metadata": {},
   "outputs": [],
   "source": [
    "# INSTANTIATE VECTORIZER OBJECT\n",
    "vectorizer = TfidfVectorizer(max_df=0.5, min_df=2, stop_words='english')"
   ]
  },
  {
   "cell_type": "markdown",
   "metadata": {},
   "source": [
    "## THIS `vectorizer` TAKES A LIST OF STRINGS, and then returns a 2d array in which each row represents one document."
   ]
  },
  {
   "cell_type": "code",
   "execution_count": 7,
   "metadata": {},
   "outputs": [
    {
     "ename": "NameError",
     "evalue": "name 'doxyDonkeyPosts' is not defined",
     "output_type": "error",
     "traceback": [
      "\u001b[1;31m---------------------------------------------------------------------------\u001b[0m",
      "\u001b[1;31mNameError\u001b[0m                                 Traceback (most recent call last)",
      "\u001b[1;32m<ipython-input-7-33e7325a5ae6>\u001b[0m in \u001b[0;36m<module>\u001b[1;34m\u001b[0m\n\u001b[0;32m      1\u001b[0m \u001b[1;31m# ALL ARTICLES IN THE LIST ARE CONVERTED\u001b[0m\u001b[1;33m\u001b[0m\u001b[1;33m\u001b[0m\u001b[1;33m\u001b[0m\u001b[0m\n\u001b[1;32m----> 2\u001b[1;33m \u001b[0mX\u001b[0m \u001b[1;33m=\u001b[0m \u001b[0mvectorizer\u001b[0m\u001b[1;33m.\u001b[0m\u001b[0mfit_transform\u001b[0m\u001b[1;33m(\u001b[0m\u001b[0mdoxyDonkeyPosts\u001b[0m\u001b[1;33m)\u001b[0m\u001b[1;33m\u001b[0m\u001b[1;33m\u001b[0m\u001b[0m\n\u001b[0m",
      "\u001b[1;31mNameError\u001b[0m: name 'doxyDonkeyPosts' is not defined"
     ]
    }
   ],
   "source": [
    "# ALL ARTICLES IN THE LIST ARE CONVERTED\n",
    "X = vectorizer.fit_transform(doxyDonkeyPosts)"
   ]
  },
  {
   "cell_type": "code",
   "execution_count": null,
   "metadata": {},
   "outputs": [],
   "source": []
  }
 ],
 "metadata": {
  "kernelspec": {
   "display_name": "Python 3",
   "language": "python",
   "name": "python3"
  },
  "language_info": {
   "codemirror_mode": {
    "name": "ipython",
    "version": 3
   },
   "file_extension": ".py",
   "mimetype": "text/x-python",
   "name": "python",
   "nbconvert_exporter": "python",
   "pygments_lexer": "ipython3",
   "version": "3.7.3"
  }
 },
 "nbformat": 4,
 "nbformat_minor": 4
}
