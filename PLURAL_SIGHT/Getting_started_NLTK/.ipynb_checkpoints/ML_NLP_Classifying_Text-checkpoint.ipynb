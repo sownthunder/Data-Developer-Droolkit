{
 "cells": [
  {
   "cell_type": "markdown",
   "metadata": {},
   "source": [
    "*DOWNLOAD ALL THE URLS:*\n",
    "\n",
    "(each URL will have 7 blog posts)"
   ]
  },
  {
   "cell_type": "code",
   "execution_count": 3,
   "metadata": {},
   "outputs": [],
   "source": [
    "from urllib.request import urlopen\n",
    "from bs4 import BeautifulSoup"
   ]
  },
  {
   "cell_type": "code",
   "execution_count": 4,
   "metadata": {},
   "outputs": [],
   "source": [
    "def getAllDoxyDonkeyPosts(url, links): #{\n",
    "    response = urlopen(url)\n",
    "    soup = BeautifulSoup(response)\n",
    "    # use the 'a' tag to find links\n",
    "    for a in soup.findAll('a'): #{\n",
    "        # try the following\n",
    "        try: #{\n",
    "            url = a['href']\n",
    "            title = a['title']\n",
    "            if title == 'Older Posts': #{\n",
    "                print (title, url)\n",
    "                links.append(url)\n",
    "                getAllDoxyDonkeyPosts(url, links)  # find the next \"Older Posts\" link\n",
    "            #}\n",
    "        #}\n",
    "        except: #{\n",
    "            title = \"\"\n",
    "        #}\n",
    "    #}\n",
    "    return\n",
    "#}"
   ]
  },
  {
   "cell_type": "code",
   "execution_count": 6,
   "metadata": {},
   "outputs": [],
   "source": [
    "blogUrl = 'http://reddit.com'\n",
    "links = []\n",
    "getAllDoxyDonkeyPosts(blogUrl, links)"
   ]
  },
  {
   "cell_type": "code",
   "execution_count": 7,
   "metadata": {},
   "outputs": [
    {
     "data": {
      "text/plain": [
       "[]"
      ]
     },
     "execution_count": 7,
     "metadata": {},
     "output_type": "execute_result"
    }
   ],
   "source": [
    "links"
   ]
  },
  {
   "cell_type": "code",
   "execution_count": null,
   "metadata": {},
   "outputs": [],
   "source": []
  }
 ],
 "metadata": {
  "kernelspec": {
   "display_name": "Python 3",
   "language": "python",
   "name": "python3"
  },
  "language_info": {
   "codemirror_mode": {
    "name": "ipython",
    "version": 3
   },
   "file_extension": ".py",
   "mimetype": "text/x-python",
   "name": "python",
   "nbconvert_exporter": "python",
   "pygments_lexer": "ipython3",
   "version": "3.7.3"
  }
 },
 "nbformat": 4,
 "nbformat_minor": 4
}
