{
 "cells": [
  {
   "cell_type": "markdown",
   "metadata": {},
   "source": [
    "*DOWNLOAD ALL THE URLS:*\n",
    "\n",
    "(each URL will have 7 blog posts)"
   ]
  },
  {
   "cell_type": "code",
   "execution_count": 1,
   "metadata": {},
   "outputs": [],
   "source": [
    "from urllib.request import urlopen\n",
    "from bs4 import BeautifulSoup"
   ]
  },
  {
   "cell_type": "code",
   "execution_count": 4,
   "metadata": {},
   "outputs": [],
   "source": [
    "def getAllDoxyDonkeyPosts(url, links): #{\n",
    "    response = urlopen(url)\n",
    "    soup = BeautifulSoup(response)\n",
    "    # use the 'a' tag to find links\n",
    "    for a in soup.findAll('a'): #{ # <-used to find all links that are present on home page\n",
    "        # try the following\n",
    "        try: #{\n",
    "            url = a['href']\n",
    "            title = a['title']\n",
    "            if title == 'Older Posts': #{\n",
    "                print (title, url)\n",
    "                links.append(url)\n",
    "                getAllDoxyDonkeyPosts(url, links)  # find the next \"Older Posts\" link\n",
    "            #}\n",
    "        #}\n",
    "        except: #{\n",
    "            title = \"\"\n",
    "        #}\n",
    "    #}\n",
    "    return\n",
    "#}"
   ]
  },
  {
   "cell_type": "code",
   "execution_count": 6,
   "metadata": {},
   "outputs": [],
   "source": [
    "blogUrl = 'http://reddit.com'\n",
    "links = []\n",
    "getAllDoxyDonkeyPosts(blogUrl, links)"
   ]
  },
  {
   "cell_type": "code",
   "execution_count": 7,
   "metadata": {},
   "outputs": [
    {
     "data": {
      "text/plain": [
       "[]"
      ]
     },
     "execution_count": 7,
     "metadata": {},
     "output_type": "execute_result"
    }
   ],
   "source": [
    "links"
   ]
  },
  {
   "cell_type": "markdown",
   "metadata": {},
   "source": [
    "## *WHAT IT SHOULD HAVE LOOKED LIKE:*\n",
    "\n",
    "[CLICK_LINK_TO_SEE_IMAGE](2019_10_14_14_18_55_Pluralsight_Offline_Player.png)"
   ]
  },
  {
   "cell_type": "code",
   "execution_count": null,
   "metadata": {},
   "outputs": [],
   "source": [
    "def getDoxyDonkeyText(testUrl): #{\n",
    "    r = urlopen(testUrl)\n",
    "    soup = BeautifulSoup(r)\n",
    "    mydivs = soup.findAll(\"div\", {\"class\":'post-body'})  # FIND ALL POSTS WITHIN THE PAGE\n",
    "#}"
   ]
  }
 ],
 "metadata": {
  "kernelspec": {
   "display_name": "Python 3",
   "language": "python",
   "name": "python3"
  },
  "language_info": {
   "codemirror_mode": {
    "name": "ipython",
    "version": 3
   },
   "file_extension": ".py",
   "mimetype": "text/x-python",
   "name": "python",
   "nbconvert_exporter": "python",
   "pygments_lexer": "ipython3",
   "version": "3.7.3"
  }
 },
 "nbformat": 4,
 "nbformat_minor": 4
}
