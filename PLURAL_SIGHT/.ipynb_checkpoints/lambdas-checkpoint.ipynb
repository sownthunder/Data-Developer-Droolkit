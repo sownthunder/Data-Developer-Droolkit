{
 "cells": [
  {
   "cell_type": "code",
   "execution_count": 4,
   "metadata": {},
   "outputs": [
    {
     "name": "stdout",
     "output_type": "stream",
     "text": [
      "Marie Curie\n",
      "Albert Einstein\n",
      "Niels Bohr\n",
      "Issac Newton\n",
      "Dimitri Mendeleev\n",
      "Antoine Lavoisier\n",
      "Carl Linnaeus\n",
      "Alfred Wegener\n",
      "Charles Darwin\n"
     ]
    }
   ],
   "source": [
    "scientists = ['Marie Curie', 'Albert Einstein', 'Niels Bohr', 'Issac Newton',\n",
    "             'Dimitri Mendeleev', 'Antoine Lavoisier', 'Carl Linnaeus',\n",
    "             'Alfred Wegener', 'Charles Darwin']\n",
    "for scientist in scientists: #{\n",
    "    print(scientist)\n",
    "#}"
   ]
  },
  {
   "cell_type": "code",
   "execution_count": 2,
   "metadata": {},
   "outputs": [
    {
     "data": {
      "text/plain": [
       "['Niels Bohr',\n",
       " 'Marie Curie',\n",
       " 'Charles Darwin',\n",
       " 'Albert Einstein',\n",
       " 'Antoine Lavoisier',\n",
       " 'Carl Linnaeus',\n",
       " 'Dimitri Mendeleev',\n",
       " 'Issac Newton',\n",
       " 'Alfred Wegener']"
      ]
     },
     "execution_count": 2,
     "metadata": {},
     "output_type": "execute_result"
    }
   ],
   "source": [
    "sorted(scientists, key=lambda name: name.split()[-1])"
   ]
  },
  {
   "cell_type": "code",
   "execution_count": 5,
   "metadata": {},
   "outputs": [],
   "source": [
    "last_name = lambda name: name.split()[-1]"
   ]
  },
  {
   "cell_type": "code",
   "execution_count": 6,
   "metadata": {},
   "outputs": [
    {
     "data": {
      "text/plain": [
       "<function __main__.<lambda>(name)>"
      ]
     },
     "execution_count": 6,
     "metadata": {},
     "output_type": "execute_result"
    }
   ],
   "source": [
    "last_name"
   ]
  },
  {
   "cell_type": "code",
   "execution_count": 7,
   "metadata": {},
   "outputs": [
    {
     "data": {
      "text/plain": [
       "'Tesla'"
      ]
     },
     "execution_count": 7,
     "metadata": {},
     "output_type": "execute_result"
    }
   ],
   "source": [
    "last_name(\"Nikola Tesla\")"
   ]
  },
  {
   "cell_type": "code",
   "execution_count": 8,
   "metadata": {},
   "outputs": [],
   "source": [
    "def first_name(name): #{\n",
    "    return name.split()[0]\n",
    "#}"
   ]
  },
  {
   "cell_type": "code",
   "execution_count": 9,
   "metadata": {},
   "outputs": [
    {
     "data": {
      "text/plain": [
       "'Nikola'"
      ]
     },
     "execution_count": 9,
     "metadata": {},
     "output_type": "execute_result"
    }
   ],
   "source": [
    "first_name(\"Nikola Tesla\")"
   ]
  },
  {
   "cell_type": "code",
   "execution_count": null,
   "metadata": {},
   "outputs": [],
   "source": []
  }
 ],
 "metadata": {
  "kernelspec": {
   "display_name": "Python 3",
   "language": "python",
   "name": "python3"
  },
  "language_info": {
   "codemirror_mode": {
    "name": "ipython",
    "version": 3
   },
   "file_extension": ".py",
   "mimetype": "text/x-python",
   "name": "python",
   "nbconvert_exporter": "python",
   "pygments_lexer": "ipython3",
   "version": "3.7.3"
  }
 },
 "nbformat": 4,
 "nbformat_minor": 2
}
