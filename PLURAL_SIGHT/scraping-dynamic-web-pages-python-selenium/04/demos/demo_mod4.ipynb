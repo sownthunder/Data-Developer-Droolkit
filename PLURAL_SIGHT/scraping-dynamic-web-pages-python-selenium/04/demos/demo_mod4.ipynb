{
 "cells": [
  {
   "cell_type": "markdown",
   "metadata": {},
   "source": [
    "# Extracting information from a dynamic webpage"
   ]
  },
  {
   "cell_type": "markdown",
   "metadata": {},
   "source": [
    "### Navigation"
   ]
  },
  {
   "cell_type": "code",
   "execution_count": 1,
   "metadata": {},
   "outputs": [],
   "source": [
    "# importing required packages\n",
    "from selenium import webdriver\n",
    "from selenium.webdriver.common.keys import Keys\n",
    "from selenium.webdriver.chrome.options import Options\n",
    "from selenium.webdriver.support.ui import WebDriverWait\n",
    "from selenium.webdriver.support import expected_conditions as EC\n",
    "from selenium.webdriver.common.by import By\n",
    "import time"
   ]
  },
  {
   "cell_type": "code",
   "execution_count": 2,
   "metadata": {},
   "outputs": [],
   "source": [
    "# adding options on chrome\n",
    "chromeOptions = Options()\n",
    "chromeOptions.add_argument(\"--kiosk\")"
   ]
  },
  {
   "cell_type": "code",
   "execution_count": 3,
   "metadata": {
    "scrolled": true
   },
   "outputs": [],
   "source": [
    "# navigating to the premier league site\n",
    "\n",
    "driver = webdriver.Chrome(options=chromeOptions)\n",
    "driver.get(\"https://www.premierleague.com/\")\n",
    "\n",
    "# clicking on the players tab\n",
    "players_ele = driver.find_element_by_link_text(\"Players\").click()\n",
    "\n",
    "# searching for wayne rooney\n",
    "# web driver wait\n",
    "element = WebDriverWait(driver, 10).until(\n",
    "    EC.element_to_be_clickable((By.ID, \"search-input\")))\n",
    "\n",
    "search_ele = driver.find_element_by_id(\"search-input\")\n",
    "search_ele.send_keys(\"Wayne Rooney\")\n",
    "search_ele.send_keys(Keys.RETURN)\n",
    "\n",
    "# clicking on wayne rooney\n",
    "driver.implicitly_wait(3)\n",
    "click_wayne = driver.find_element_by_xpath(\"//img[@data-player='p13017']\").click()"
   ]
  },
  {
   "cell_type": "code",
   "execution_count": 4,
   "metadata": {},
   "outputs": [],
   "source": [
    "page_source_overview = driver.page_source"
   ]
  },
  {
   "cell_type": "markdown",
   "metadata": {},
   "source": [
    "### Beautiful Soup"
   ]
  },
  {
   "cell_type": "code",
   "execution_count": 5,
   "metadata": {},
   "outputs": [],
   "source": [
    "from bs4 import BeautifulSoup"
   ]
  },
  {
   "cell_type": "code",
   "execution_count": 6,
   "metadata": {},
   "outputs": [],
   "source": [
    "# loading page source info\n",
    "soup = BeautifulSoup(page_source_overview, 'lxml')"
   ]
  },
  {
   "cell_type": "code",
   "execution_count": 7,
   "metadata": {},
   "outputs": [],
   "source": [
    "# locating the titles\n",
    "title_finder = soup.find_all(\"span\", class_=\"title\")"
   ]
  },
  {
   "cell_type": "code",
   "execution_count": 8,
   "metadata": {},
   "outputs": [
    {
     "data": {
      "text/plain": [
       "[<span class=\"title\">Rooney: I knew my overhead kick would go in</span>,\n",
       " <span class=\"title\">Rooney: I knew I was Everton's best player at 16</span>,\n",
       " <span class=\"title\">Rooney's record career in numbers</span>,\n",
       " <span class=\"title\">Everton confirm Rooney exit</span>,\n",
       " <span class=\"title\">Goal of the day: Rooney's brilliant overhead kick</span>,\n",
       " <span class=\"title\">Classic match: Man Utd 4-3 Man City, 2009/10</span>,\n",
       " <span class=\"title\">Classic match: Everton 2-4 Man Utd, 2006/07</span>,\n",
       " <span class=\"title\">Iconic Moment: Rooney's sweet sixteen</span>]"
      ]
     },
     "execution_count": 8,
     "metadata": {},
     "output_type": "execute_result"
    }
   ],
   "source": [
    "title_finder"
   ]
  },
  {
   "cell_type": "code",
   "execution_count": 9,
   "metadata": {},
   "outputs": [
    {
     "name": "stdout",
     "output_type": "stream",
     "text": [
      "----------These are the latest news headlines about Wayne Rooney----------\n",
      "\n",
      "Rooney: I knew my overhead kick would go in\n",
      "Rooney: I knew I was Everton's best player at 16\n",
      "Rooney's record career in numbers\n",
      "Everton confirm Rooney exit\n",
      "Goal of the day: Rooney's brilliant overhead kick\n",
      "Classic match: Man Utd 4-3 Man City, 2009/10\n",
      "Classic match: Everton 2-4 Man Utd, 2006/07\n",
      "Iconic Moment: Rooney's sweet sixteen\n"
     ]
    }
   ],
   "source": [
    "print(10*\"-\" + \"These are the latest news headlines about Wayne Rooney\" + 10*\"-\" + \"\\n\")\n",
    "for title in title_finder:\n",
    "    print(title.string)"
   ]
  },
  {
   "cell_type": "code",
   "execution_count": 10,
   "metadata": {},
   "outputs": [],
   "source": [
    "# stats button element\n",
    "time.sleep(1)\n",
    "wayne_stats = driver.find_element_by_xpath(\"//a[@href='stats']\").click()"
   ]
  },
  {
   "cell_type": "code",
   "execution_count": 11,
   "metadata": {},
   "outputs": [],
   "source": [
    "page_source_stats = driver.page_source"
   ]
  },
  {
   "cell_type": "code",
   "execution_count": 12,
   "metadata": {},
   "outputs": [],
   "source": [
    "soup = BeautifulSoup(page_source_stats, \"lxml\")"
   ]
  },
  {
   "cell_type": "code",
   "execution_count": 13,
   "metadata": {},
   "outputs": [],
   "source": [
    "# locating all the stats\n",
    "stat_finder = soup.find_all(\"span\", class_=\"allStatContainer\")"
   ]
  },
  {
   "cell_type": "code",
   "execution_count": 14,
   "metadata": {
    "scrolled": true
   },
   "outputs": [
    {
     "name": "stdout",
     "output_type": "stream",
     "text": [
      "[<span class=\"allStatContainer statappearances\" data-stat=\"appearances\">491</span>, <span class=\"allStatContainer statgoals\" data-stat=\"goals\">208</span>, <span class=\"allStatContainer statwins\" data-stat=\"wins\">284</span>, <span class=\"allStatContainer statlosses\" data-stat=\"losses\">103</span>, <span class=\"allStatContainer statgoals\" data-stat=\"goals\">208</span>, <span class=\"allStatContainer statgoals_per_game\" data-denominator=\"appearances\" data-stat=\"goals\">0.42</span>, <span class=\"allStatContainer statatt_hd_goal\" data-stat=\"att_hd_goal\">21</span>, <span class=\"allStatContainer statatt_rf_goal\" data-stat=\"att_rf_goal\">124</span>, <span class=\"allStatContainer statatt_lf_goal\" data-stat=\"att_lf_goal\">21</span>, <span class=\"allStatContainer statatt_pen_goal\" data-stat=\"att_pen_goal\">23</span>, <span class=\"allStatContainer statatt_freekick_goal\" data-stat=\"att_freekick_goal\">7</span>, <span class=\"allStatContainer stattotal_scoring_att\" data-stat=\"total_scoring_att\">1,237</span>, <span class=\"allStatContainer statontarget_scoring_att\" data-stat=\"ontarget_scoring_att\">467</span>, <span class=\"allStatContainer statshot_accuracy\" data-denominator=\"total_scoring_att\" data-percent=\"true\" data-stat=\"ontarget_scoring_att\">38%</span>, <span class=\"allStatContainer stathit_woodwork\" data-stat=\"hit_woodwork\">29</span>, <span class=\"allStatContainer statbig_chance_missed\" data-stat=\"big_chance_missed\">54</span>, <span class=\"allStatContainer statgoal_assist\" data-stat=\"goal_assist\">103</span>, <span class=\"allStatContainer stattotal_pass\" data-stat=\"total_pass\">14,693</span>, <span class=\"allStatContainer stattotal_pass_per_game\" data-denominator=\"appearances\" data-stat=\"total_pass\">29.92</span>, <span class=\"allStatContainer statbig_chance_created\" data-stat=\"big_chance_created\">65</span>, <span class=\"allStatContainer stattotal_cross\" data-stat=\"total_cross\">1,083</span>, <span class=\"allStatContainer statyellow_card\" data-stat=\"yellow_card\">102</span>, <span class=\"allStatContainer statred_card\" data-stat=\"red_card\">3</span>, <span class=\"allStatContainer statfouls\" data-stat=\"fouls\">368</span>, <span class=\"allStatContainer stattotal_offside\" data-stat=\"total_offside\">179</span>, <span class=\"allStatContainer stattotal_tackle\" data-stat=\"total_tackle\">303</span>, <span class=\"allStatContainer statblocked_scoring_att\" data-stat=\"blocked_scoring_att\">301</span>, <span class=\"allStatContainer statinterception\" data-stat=\"interception\">206</span>, <span class=\"allStatContainer stattotal_clearance\" data-stat=\"total_clearance\">240</span>, <span class=\"allStatContainer stateffective_head_clearance\" data-stat=\"effective_head_clearance\">104</span>]\n"
     ]
    }
   ],
   "source": [
    "print(stat_finder)"
   ]
  },
  {
   "cell_type": "code",
   "execution_count": 15,
   "metadata": {
    "scrolled": true
   },
   "outputs": [
    {
     "name": "stdout",
     "output_type": "stream",
     "text": [
      "----------Wayne Rooney Stats----------\n",
      "\n",
      "appearances - 491\n",
      "goals - 208\n",
      "wins - 284\n",
      "losses - 103\n",
      "goals - 208\n",
      "goals - 0.42\n",
      "att_hd_goal - 21\n",
      "att_rf_goal - 124\n",
      "att_lf_goal - 21\n",
      "att_pen_goal - 23\n",
      "att_freekick_goal - 7\n",
      "total_scoring_att - 1,237\n",
      "ontarget_scoring_att - 467\n",
      "ontarget_scoring_att - 38%\n",
      "hit_woodwork - 29\n",
      "big_chance_missed - 54\n",
      "goal_assist - 103\n",
      "total_pass - 14,693\n",
      "total_pass - 29.92\n",
      "big_chance_created - 65\n",
      "total_cross - 1,083\n",
      "yellow_card - 102\n",
      "red_card - 3\n",
      "fouls - 368\n",
      "total_offside - 179\n",
      "total_tackle - 303\n",
      "blocked_scoring_att - 301\n",
      "interception - 206\n",
      "total_clearance - 240\n",
      "effective_head_clearance - 104\n"
     ]
    }
   ],
   "source": [
    "print(10*\"-\" + \"Wayne Rooney Stats\" + 10*\"-\" + \"\\n\")\n",
    "for stat in stat_finder:\n",
    "    print(stat[\"data-stat\"] +  \" - \" + stat.string)"
   ]
  },
  {
   "cell_type": "code",
   "execution_count": null,
   "metadata": {},
   "outputs": [],
   "source": []
  }
 ],
 "metadata": {
  "kernelspec": {
   "display_name": "Python 3",
   "language": "python",
   "name": "python3"
  },
  "language_info": {
   "codemirror_mode": {
    "name": "ipython",
    "version": 3
   },
   "file_extension": ".py",
   "mimetype": "text/x-python",
   "name": "python",
   "nbconvert_exporter": "python",
   "pygments_lexer": "ipython3",
   "version": "3.6.6"
  }
 },
 "nbformat": 4,
 "nbformat_minor": 2
}
