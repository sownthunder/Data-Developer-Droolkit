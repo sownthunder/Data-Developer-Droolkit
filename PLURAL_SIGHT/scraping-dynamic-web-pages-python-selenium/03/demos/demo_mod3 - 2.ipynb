{
 "cells": [
  {
   "cell_type": "markdown",
   "metadata": {},
   "source": [
    "## Navigating a WebPage with Selenium and Python"
   ]
  },
  {
   "cell_type": "markdown",
   "metadata": {},
   "source": [
    "## 1. Dealing with forms and dropdown menus"
   ]
  },
  {
   "cell_type": "code",
   "execution_count": 1,
   "metadata": {},
   "outputs": [],
   "source": [
    "# importing required packages\n",
    "from selenium import webdriver\n",
    "from selenium.webdriver.common.keys import Keys\n",
    "from selenium.webdriver.chrome.options import Options\n",
    "from selenium.webdriver.support.ui import WebDriverWait\n",
    "from selenium.webdriver.support import expected_conditions as EC\n",
    "from selenium.webdriver.common.by import By\n",
    "import time"
   ]
  },
  {
   "cell_type": "code",
   "execution_count": 2,
   "metadata": {},
   "outputs": [],
   "source": [
    "# adding options on chrome\n",
    "chromeOptions = Options()\n",
    "chromeOptions.add_argument(\"--kiosk\")"
   ]
  },
  {
   "cell_type": "markdown",
   "metadata": {},
   "source": [
    "#### 1. a. Locating the elements in the form"
   ]
  },
  {
   "cell_type": "code",
   "execution_count": 3,
   "metadata": {},
   "outputs": [],
   "source": [
    "driver = webdriver.Chrome(options=chromeOptions) \n",
    "driver.get(\"https://www.pluralsight.com/buy?requestId=70a5a334-2be9-4158-a524-f12eb3aac30e&priceOptionId=3424225b-adf2-4e9b-a094-45d31de7f260&legacyTrackingId=IND-M-PLUS&planId=Individual+plan&quantity=1&analyticsStep=1\")\n",
    "\n",
    "# web driver wait\n",
    "element = WebDriverWait(driver, 10).until(\n",
    "    EC.element_to_be_clickable((By.NAME, \"firstName\")))\n",
    "\n",
    "\n",
    "# first name\n",
    "first_name = driver.find_element_by_name(\"firstName\")\n",
    "first_name.clear()\n",
    "first_name.send_keys(\"John\")\n",
    "\n",
    "# last name\n",
    "last_name = driver.find_element_by_name(\"lastName\")\n",
    "last_name.clear()\n",
    "last_name.send_keys(\"Doe\")\n",
    "\n",
    "# email\n",
    "email = driver.find_element_by_name(\"email\")\n",
    "email.clear()\n",
    "email.send_keys(\"john_is_a_doe_6483@gmail.com\")\n",
    "\n",
    "# confirmation email\n",
    "conf_email = driver.find_element_by_name(\"confirmationEmail\")\n",
    "conf_email.clear()\n",
    "conf_email.send_keys(\"john_is_a_doe_6483@gmail.com\")"
   ]
  },
  {
   "cell_type": "markdown",
   "metadata": {},
   "source": [
    "#### 1. b. Dropdown menu, checkbox & submit"
   ]
  },
  {
   "cell_type": "code",
   "execution_count": 4,
   "metadata": {},
   "outputs": [],
   "source": [
    "# country of residence\n",
    "time.sleep(2)\n",
    "country_element = driver.find_element_by_xpath(\"//select[@data-test='country']\")\n",
    "all_options = country_element.find_elements_by_tag_name(\"option\")\n",
    "\n",
    "for option in all_options:\n",
    "    if option.get_attribute(\"value\") == \"US\":\n",
    "        option.click()\n",
    "\n",
    "# checkboxes\n",
    "time.sleep(1)\n",
    "checkbox = driver.find_element_by_xpath(\"//div[@role='checkbox']\")\n",
    "checkbox.click()\n",
    "\n",
    "# submit button\n",
    "submit_ele = driver.find_element_by_xpath(\"//button[@data-test='submitButton']\")\n",
    "time.sleep(2)\n",
    "submit_ele.click()"
   ]
  },
  {
   "cell_type": "code",
   "execution_count": 5,
   "metadata": {},
   "outputs": [],
   "source": [
    "driver.quit()"
   ]
  },
  {
   "cell_type": "markdown",
   "metadata": {},
   "source": [
    "## 2. Handling iFrames"
   ]
  },
  {
   "cell_type": "code",
   "execution_count": null,
   "metadata": {},
   "outputs": [],
   "source": [
    "# switch to iframe by name\n",
    "driver.switch_to_frame(\"frameName\")\n",
    "\n",
    "# switch to parent frame\n",
    "driver.switch_to_default_content()"
   ]
  },
  {
   "cell_type": "markdown",
   "metadata": {},
   "source": [
    "## 3. Handling popups"
   ]
  },
  {
   "cell_type": "code",
   "execution_count": null,
   "metadata": {},
   "outputs": [],
   "source": [
    "popup = driver.switch_to_alert()"
   ]
  }
 ],
 "metadata": {
  "kernelspec": {
   "display_name": "Python 3",
   "language": "python",
   "name": "python3"
  },
  "language_info": {
   "codemirror_mode": {
    "name": "ipython",
    "version": 3
   },
   "file_extension": ".py",
   "mimetype": "text/x-python",
   "name": "python",
   "nbconvert_exporter": "python",
   "pygments_lexer": "ipython3",
   "version": "3.6.6"
  }
 },
 "nbformat": 4,
 "nbformat_minor": 2
}
