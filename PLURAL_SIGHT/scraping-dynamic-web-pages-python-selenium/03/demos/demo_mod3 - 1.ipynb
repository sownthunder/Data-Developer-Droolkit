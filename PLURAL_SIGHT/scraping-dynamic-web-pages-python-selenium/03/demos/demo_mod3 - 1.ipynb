{
 "cells": [
  {
   "cell_type": "markdown",
   "metadata": {},
   "source": [
    "## Locating elements in a webpage with Selenium and Python"
   ]
  },
  {
   "cell_type": "code",
   "execution_count": 1,
   "metadata": {},
   "outputs": [],
   "source": [
    "# importing required packages\n",
    "from selenium import webdriver\n",
    "from selenium.webdriver.common.keys import Keys\n",
    "from selenium.webdriver.chrome.options import Options\n",
    "import time"
   ]
  },
  {
   "cell_type": "code",
   "execution_count": 2,
   "metadata": {},
   "outputs": [],
   "source": [
    "# adding options on chrome\n",
    "chromeOptions = Options()\n",
    "chromeOptions.add_argument(\"--kiosk\")"
   ]
  },
  {
   "cell_type": "markdown",
   "metadata": {},
   "source": [
    "#### Locating elements by name"
   ]
  },
  {
   "cell_type": "code",
   "execution_count": 3,
   "metadata": {},
   "outputs": [],
   "source": [
    "driver = webdriver.Chrome(options=chromeOptions) \n",
    "driver.get(\"https://www.pluralsight.com/\")\n",
    "\n",
    "\n",
    "ele = driver.find_element_by_name(\"q\")\n",
    "time.sleep(1)\n",
    "ele.clear()\n",
    "ele.send_keys(\"Pratheerth Padman\")\n",
    "ele.send_keys(Keys.RETURN)"
   ]
  },
  {
   "cell_type": "code",
   "execution_count": 4,
   "metadata": {},
   "outputs": [],
   "source": [
    "driver.quit()"
   ]
  },
  {
   "cell_type": "markdown",
   "metadata": {},
   "source": [
    "#### Locating elements by ID"
   ]
  },
  {
   "cell_type": "code",
   "execution_count": 5,
   "metadata": {},
   "outputs": [],
   "source": [
    "driver=webdriver.Chrome(options=chromeOptions) \n",
    "driver.get(\"https://www.python.org/\")\n",
    "\n",
    "\n",
    "ele = driver.find_element_by_id(\"id-search-field\")\n",
    "time.sleep(1)\n",
    "ele.clear()\n",
    "ele.send_keys(\"lists\")\n",
    "ele.send_keys(Keys.RETURN)"
   ]
  },
  {
   "cell_type": "code",
   "execution_count": 6,
   "metadata": {
    "scrolled": true
   },
   "outputs": [],
   "source": [
    "driver.quit()"
   ]
  },
  {
   "cell_type": "markdown",
   "metadata": {},
   "source": [
    "#### Locating elements by link text"
   ]
  },
  {
   "cell_type": "code",
   "execution_count": 7,
   "metadata": {
    "scrolled": true
   },
   "outputs": [],
   "source": [
    "driver=webdriver.Chrome(options=chromeOptions) \n",
    "driver.get(\"https://www.pluralsight.com/\")\n",
    "\n",
    "ele = driver.find_element_by_name(\"q\")\n",
    "time.sleep(1)\n",
    "ele.clear()\n",
    "ele.send_keys(\"Pratheerth Padman\")\n",
    "ele.send_keys(Keys.RETURN)\n",
    "\n",
    "\n",
    "ele_link = driver.find_element_by_link_text(\"Building Image Classification Solutions Using Keras and Transfer Learning\")\n",
    "time.sleep(1)\n",
    "ele_link.click()"
   ]
  },
  {
   "cell_type": "code",
   "execution_count": 8,
   "metadata": {},
   "outputs": [],
   "source": [
    "driver.quit()"
   ]
  },
  {
   "cell_type": "markdown",
   "metadata": {},
   "source": [
    "#### Locating elements by partial link text"
   ]
  },
  {
   "cell_type": "code",
   "execution_count": 11,
   "metadata": {},
   "outputs": [],
   "source": [
    "driver=webdriver.Chrome(options=chromeOptions) \n",
    "driver.get(\"https://www.pluralsight.com/\")\n",
    "\n",
    "ele = driver.find_element_by_name(\"q\")\n",
    "time.sleep(1)\n",
    "ele.clear()\n",
    "ele.send_keys(\"Pratheerth Padman\")\n",
    "ele.send_keys(Keys.RETURN)\n",
    "\n",
    "\n",
    "ele_link = driver.find_element_by_partial_link_text(\"Building Image\")\n",
    "time.sleep(1)\n",
    "ele_link.click()"
   ]
  },
  {
   "cell_type": "code",
   "execution_count": 12,
   "metadata": {},
   "outputs": [],
   "source": [
    "driver.quit()"
   ]
  },
  {
   "cell_type": "markdown",
   "metadata": {},
   "source": [
    "#### Locating elements by CSS Selector"
   ]
  },
  {
   "cell_type": "code",
   "execution_count": 9,
   "metadata": {},
   "outputs": [],
   "source": [
    "driver=webdriver.Chrome(options=chromeOptions) \n",
    "driver.get(\"https://www.pluralsight.com/\")\n",
    "\n",
    "\n",
    "ele = driver.find_element_by_css_selector(\"input.header_search--input\")\n",
    "time.sleep(1)\n",
    "ele.clear()\n",
    "ele.send_keys(\"Pratheerth Padman\")\n",
    "ele.send_keys(Keys.RETURN)"
   ]
  },
  {
   "cell_type": "code",
   "execution_count": 10,
   "metadata": {},
   "outputs": [],
   "source": [
    "driver.quit()"
   ]
  },
  {
   "cell_type": "markdown",
   "metadata": {},
   "source": [
    "#### Locating elements by XPath"
   ]
  },
  {
   "cell_type": "code",
   "execution_count": 11,
   "metadata": {},
   "outputs": [],
   "source": [
    "driver=webdriver.Chrome(options=chromeOptions) \n",
    "driver.get(\"https://www.pluralsight.com/\")\n",
    "\n",
    "\n",
    "ele = driver.find_element_by_xpath(\"//input[@name='q']\")\n",
    "time.sleep(1)\n",
    "ele.clear()\n",
    "ele.send_keys(\"Pratheerth Padman\")\n",
    "ele.send_keys(Keys.RETURN)"
   ]
  },
  {
   "cell_type": "code",
   "execution_count": 12,
   "metadata": {
    "scrolled": true
   },
   "outputs": [],
   "source": [
    "driver.quit()"
   ]
  },
  {
   "cell_type": "code",
   "execution_count": null,
   "metadata": {},
   "outputs": [],
   "source": []
  }
 ],
 "metadata": {
  "kernelspec": {
   "display_name": "Python 3",
   "language": "python",
   "name": "python3"
  },
  "language_info": {
   "codemirror_mode": {
    "name": "ipython",
    "version": 3
   },
   "file_extension": ".py",
   "mimetype": "text/x-python",
   "name": "python",
   "nbconvert_exporter": "python",
   "pygments_lexer": "ipython3",
   "version": "3.6.6"
  }
 },
 "nbformat": 4,
 "nbformat_minor": 2
}
