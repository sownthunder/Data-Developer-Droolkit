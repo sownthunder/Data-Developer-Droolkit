{
 "cells": [
  {
   "cell_type": "markdown",
   "metadata": {},
   "source": [
    "### Reading, Displaying, and Writing Images"
   ]
  },
  {
   "cell_type": "code",
   "execution_count": 1,
   "metadata": {},
   "outputs": [],
   "source": [
    "# IMPORT REQUIRED LIBRARIES\n",
    "import cv2\n",
    "import numpy as np"
   ]
  },
  {
   "cell_type": "code",
   "execution_count": 2,
   "metadata": {},
   "outputs": [],
   "source": [
    "# LOAD AN IMAGE USING cv2.imread()\n",
    "img = cv2.imread(\"C:/data/inbound/mining-data-images/justin.jpg\")"
   ]
  },
  {
   "cell_type": "code",
   "execution_count": 3,
   "metadata": {},
   "outputs": [],
   "source": [
    "# SHOW AN IMAGE USING cv2.imshow(), wait for a keystroke then destroy image windows\n",
    "cv2.imshow(\"My Image\", img)\n",
    "cv2.waitKey(0)\n",
    "cv2.destroyAllWindows()"
   ]
  },
  {
   "cell_type": "code",
   "execution_count": 4,
   "metadata": {},
   "outputs": [
    {
     "data": {
      "text/plain": [
       "True"
      ]
     },
     "execution_count": 4,
     "metadata": {},
     "output_type": "execute_result"
    }
   ],
   "source": [
    "# WRITE OUT AN IMAGE USING cv2.imwrite()\n",
    "cv2.imwrite('justin_new.jpg', img)"
   ]
  },
  {
   "cell_type": "markdown",
   "metadata": {},
   "source": [
    "![IMAGE](2019_09_30_10_40_47_Pluralsight_Offline_Player.png)"
   ]
  },
  {
   "cell_type": "markdown",
   "metadata": {},
   "source": [
    "### Accessing and Modifying Pixel Values"
   ]
  },
  {
   "cell_type": "code",
   "execution_count": 5,
   "metadata": {},
   "outputs": [
    {
     "name": "stdout",
     "output_type": "stream",
     "text": [
      "<class 'numpy.ndarray'>\n",
      "(600, 400, 3)\n",
      "720000\n",
      "uint8\n"
     ]
    }
   ],
   "source": [
    "# IMAGE PROPERTIES\n",
    "print(type(img))\n",
    "print(img.shape)\n",
    "print(img.size)\n",
    "print(img.dtype)"
   ]
  },
  {
   "cell_type": "code",
   "execution_count": 5,
   "metadata": {},
   "outputs": [
    {
     "name": "stdout",
     "output_type": "stream",
     "text": [
      "[248 250 251]\n",
      "251\n"
     ]
    }
   ],
   "source": [
    "# ACCESS AND PRINT PIXEL IN TOP LEFT CORNER\n",
    "top_left_px = img[0,0,:]\n",
    "print(top_left_px)\n",
    "\n",
    "# ACCESS AND PRINT ONLY THE RED PIXEL\n",
    "top_left_px_R = img[0,0,2]\n",
    "print(top_left_px_R)"
   ]
  },
  {
   "cell_type": "code",
   "execution_count": 7,
   "metadata": {},
   "outputs": [],
   "source": [
    "# MODIFY PIXEL IN TOP LEFT CORNER TO BE [0,0,0] = black\n",
    "img[0,0] = [0,0,0]\n",
    "\n",
    "# SHOW MODIFIED IMAGE\n",
    "cv2.imshow('My Image', img)\n",
    "cv2.waitKey(0)\n",
    "cv2.destroyAllWindows()"
   ]
  },
  {
   "cell_type": "code",
   "execution_count": 8,
   "metadata": {},
   "outputs": [],
   "source": [
    "# MODIFY RANDOM PIXEL IN TOP RIGHT AREA TO BE [0,0,255] = red\n",
    "img[25,375] = [0,0,255]\n",
    "\n",
    "# SHOW MODIFIED IMAGE\n",
    "cv2.imshow('My Image', img)\n",
    "cv2.waitKey(0)\n",
    "cv2.destroyAllWindows()"
   ]
  },
  {
   "cell_type": "code",
   "execution_count": 10,
   "metadata": {},
   "outputs": [
    {
     "name": "stdout",
     "output_type": "stream",
     "text": [
      "249\n",
      "150\n"
     ]
    }
   ],
   "source": [
    "# CAN ALSO ACCESS AND MODIFY VALUES USING THE NUMPY ITEM() AND ITEMSET() FUNCTIONS\n",
    "\n",
    "# ACCESSING GREEN VALUES\n",
    "print(img.item(25,25,1))\n",
    "\n",
    "# MODIFYING BLUE VALUE\n",
    "img.itemset((15,15,0),150)\n",
    "print(img.item(15,15,0))"
   ]
  },
  {
   "cell_type": "markdown",
   "metadata": {},
   "source": [
    "### Regions of Interest"
   ]
  },
  {
   "cell_type": "code",
   "execution_count": 11,
   "metadata": {},
   "outputs": [],
   "source": [
    "# ROI OF FACE ONLY BY DEFINING PIXEL LOCATION\n",
    "face_ROI = img[25:400, 0:300]\n",
    "\n",
    "# SHOW NEW 'face' ROI IMAGE\n",
    "cv2.imshow('My Image', face_ROI)\n",
    "cv2.waitKey(0)\n",
    "cv2.destroyAllWindows()"
   ]
  },
  {
   "cell_type": "code",
   "execution_count": null,
   "metadata": {},
   "outputs": [],
   "source": []
  }
 ],
 "metadata": {
  "kernelspec": {
   "display_name": "Python 3",
   "language": "python",
   "name": "python3"
  },
  "language_info": {
   "codemirror_mode": {
    "name": "ipython",
    "version": 3
   },
   "file_extension": ".py",
   "mimetype": "text/x-python",
   "name": "python",
   "nbconvert_exporter": "python",
   "pygments_lexer": "ipython3",
   "version": "3.7.3"
  }
 },
 "nbformat": 4,
 "nbformat_minor": 2
}
