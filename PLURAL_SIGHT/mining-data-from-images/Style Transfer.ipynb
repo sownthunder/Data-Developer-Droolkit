{
 "cells": [
  {
   "cell_type": "markdown",
   "metadata": {},
   "source": [
    "## Neural Style Transfer "
   ]
  },
  {
   "cell_type": "code",
   "execution_count": 1,
   "metadata": {},
   "outputs": [],
   "source": [
    "# Import required libraries\n",
    "import cv2\n",
    "import numpy as np"
   ]
  },
  {
   "cell_type": "code",
   "execution_count": 2,
   "metadata": {},
   "outputs": [],
   "source": [
    "# load the input image and image dimensions\n",
    "content_image = cv2.imread(\"justin.jpg\")\n",
    "(h, w) = content_image.shape[:2]\n",
    "\n",
    "# load the style image for visual purposes only\n",
    "style_image = cv2.imread(\"the-scream.jpg\")\n",
    "\n",
    "# Load the network from existing torch network\n",
    "net = cv2.dnn.readNetFromTorch(\"the_scream.t7\")"
   ]
  },
  {
   "cell_type": "code",
   "execution_count": 16,
   "metadata": {},
   "outputs": [],
   "source": [
    "# Find mean RBG color values from content image\n",
    "avg_B = np.sum(content_image[:,:,0])/240000\n",
    "avg_G = np.sum(content_image[:,:,1])/240000\n",
    "avg_R = np.sum(content_image[:,:,2])/240000"
   ]
  },
  {
   "cell_type": "code",
   "execution_count": 17,
   "metadata": {},
   "outputs": [],
   "source": [
    "# Feed image into network and run forward pass\n",
    "blob = cv2.dnn.blobFromImage(content_image, 1.0, (w, h), (avg_R, avg_B, avg_G))\n",
    "net.setInput(blob)\n",
    "output = net.forward()"
   ]
  },
  {
   "cell_type": "code",
   "execution_count": 18,
   "metadata": {},
   "outputs": [],
   "source": [
    "# Reshape the output tensor, add back in the mean subtraction, swap channel order\n",
    "output = output.reshape((3, output.shape[2], output.shape[3]))\n",
    "output[0] += avg_R\n",
    "output[1] += avg_B\n",
    "output[2] += avg_G\n",
    "output /= 255.0\n",
    "output = output.transpose(1, 2, 0)"
   ]
  },
  {
   "cell_type": "code",
   "execution_count": 19,
   "metadata": {},
   "outputs": [],
   "source": [
    "# Show images\n",
    "cv2.imshow(\"Input\", content_image)\n",
    "cv2.imshow(\"Style\", style_image)\n",
    "cv2.imshow(\"Output\", output)\n",
    "cv2.waitKey(0)\n",
    "cv2.destroyAllWindows()"
   ]
  },
  {
   "cell_type": "code",
   "execution_count": null,
   "metadata": {},
   "outputs": [],
   "source": []
  },
  {
   "cell_type": "code",
   "execution_count": null,
   "metadata": {},
   "outputs": [],
   "source": []
  }
 ],
 "metadata": {
  "kernelspec": {
   "display_name": "Python 3",
   "language": "python",
   "name": "python3"
  },
  "language_info": {
   "codemirror_mode": {
    "name": "ipython",
    "version": 3
   },
   "file_extension": ".py",
   "mimetype": "text/x-python",
   "name": "python",
   "nbconvert_exporter": "python",
   "pygments_lexer": "ipython3",
   "version": "3.7.1"
  }
 },
 "nbformat": 4,
 "nbformat_minor": 2
}
