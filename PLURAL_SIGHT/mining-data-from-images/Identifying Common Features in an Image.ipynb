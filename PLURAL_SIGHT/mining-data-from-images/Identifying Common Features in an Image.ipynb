{
 "cells": [
  {
   "cell_type": "markdown",
   "metadata": {},
   "source": [
    "## Corner Detection"
   ]
  },
  {
   "cell_type": "code",
   "execution_count": 1,
   "metadata": {},
   "outputs": [],
   "source": [
    "# Import required libraries\n",
    "import cv2\n",
    "import numpy as np\n",
    "from matplotlib import pyplot as plt"
   ]
  },
  {
   "cell_type": "code",
   "execution_count": 2,
   "metadata": {},
   "outputs": [],
   "source": [
    "# Load simple corners image\n",
    "img = cv2.imread('corners.jpg')\n",
    "\n",
    "# When using cornerHarris() function,input image must be grayscale and float32 \n",
    "img_gray = cv2.cvtColor(img,cv2.COLOR_BGR2GRAY)\n",
    "img_gray = np.float32(img_gray)"
   ]
  },
  {
   "cell_type": "code",
   "execution_count": 3,
   "metadata": {},
   "outputs": [],
   "source": [
    "# Detect corners using cornerHarris() function\n",
    "img_cornerdetect = cv2.cornerHarris(img_gray,2,3,0.04)\n",
    "\n",
    "# Dilate corners to make it easier to see: not necessary only for visual purposes\n",
    "img_cornerdetect = cv2.dilate(img_cornerdetect,None)\n",
    "\n",
    "# Whenever img_cornerdetect is large, put a red pixel to show the corners on the original image\n",
    "img[img_cornerdetect>0.01*img_cornerdetect.max()]=[0,0,255]"
   ]
  },
  {
   "cell_type": "code",
   "execution_count": null,
   "metadata": {},
   "outputs": [],
   "source": [
    "# Show image with red pixels added to indicate corner detection\n",
    "cv2.imshow('My Image',img)         \n",
    "cv2.waitKey(0)\n",
    "cv2.destroyAllWindows() "
   ]
  },
  {
   "cell_type": "markdown",
   "metadata": {},
   "source": [
    "## Template Matching"
   ]
  },
  {
   "cell_type": "code",
   "execution_count": 2,
   "metadata": {},
   "outputs": [],
   "source": [
    "# Load the original larger image and the template image\n",
    "img_original = cv2.imread('i_spy.jpg')\n",
    "img_template = cv2.imread('i_spy_template.jpg')"
   ]
  },
  {
   "cell_type": "code",
   "execution_count": 3,
   "metadata": {},
   "outputs": [],
   "source": [
    "# Apply template Matching\n",
    "res = cv2.matchTemplate(img_original,img_template,0)\n",
    "min_val, max_val, min_loc, max_loc = cv2.minMaxLoc(res)"
   ]
  },
  {
   "cell_type": "code",
   "execution_count": 4,
   "metadata": {},
   "outputs": [],
   "source": [
    "# Create a rectangle to display the location found from template matching\n",
    "h = img_template.shape[0]\n",
    "w = img_template.shape[1]\n",
    "top_left = min_loc\n",
    "bottom_right = (top_left[0] + w, top_left[1] + h)\n",
    "image_with_detection = cv2.rectangle(img_original,top_left, bottom_right, (255,0,0), 2)"
   ]
  },
  {
   "cell_type": "code",
   "execution_count": null,
   "metadata": {},
   "outputs": [],
   "source": [
    "# Plot image and detection rectangle to visualize the results\n",
    "cv2.imshow('My Image',image_with_detection)         \n",
    "cv2.waitKey(0)\n",
    "cv2.destroyAllWindows() "
   ]
  },
  {
   "cell_type": "markdown",
   "metadata": {},
   "source": [
    "## Feature Matching"
   ]
  },
  {
   "cell_type": "code",
   "execution_count": 2,
   "metadata": {},
   "outputs": [],
   "source": [
    "# Load Image files\n",
    "img1 = cv2.imread('magazine.jpg',cv2.IMREAD_GRAYSCALE)         \n",
    "img2 = cv2.imread('magazine_with_distractors2.jpg',cv2.IMREAD_GRAYSCALE)"
   ]
  },
  {
   "cell_type": "code",
   "execution_count": null,
   "metadata": {},
   "outputs": [],
   "source": [
    "# Show the two image files\n",
    "cv2.imshow('My Image 1',img1)\n",
    "cv2.imshow('My Image 2',img2)\n",
    "cv2.waitKey(0)\n",
    "cv2.destroyAllWindows()"
   ]
  },
  {
   "cell_type": "code",
   "execution_count": 3,
   "metadata": {},
   "outputs": [],
   "source": [
    "# Initiate ORB detector\n",
    "orb = cv2.ORB_create()\n",
    "\n",
    "# Find the keypoints and descriptors with ORB\n",
    "kp1, des1 = orb.detectAndCompute(img1,None)\n",
    "kp2, des2 = orb.detectAndCompute(img2,None)"
   ]
  },
  {
   "cell_type": "code",
   "execution_count": 4,
   "metadata": {},
   "outputs": [],
   "source": [
    "# Create BFMatcher object\n",
    "bf = cv2.BFMatcher(cv2.NORM_HAMMING, crossCheck=True)\n",
    "\n",
    "# Match descriptors.\n",
    "matches = bf.match(des1,des2)\n",
    "\n",
    "# Sort them in the order of their distance. Smaller distance = better match.\n",
    "matches = sorted(matches, key = lambda x:x.distance)"
   ]
  },
  {
   "cell_type": "code",
   "execution_count": null,
   "metadata": {},
   "outputs": [],
   "source": [
    "# Draw first 20 matches on new img3 to visualize\n",
    "img3 = cv2.drawMatches(img1, kp1, img2, kp2, matches[:20], None, flags=2)\n",
    "\n",
    "# Show the resulting img3\n",
    "cv2.imshow('Result',img3)\n",
    "cv2.waitKey(0)\n",
    "cv2.destroyAllWindows()"
   ]
  },
  {
   "cell_type": "code",
   "execution_count": null,
   "metadata": {},
   "outputs": [],
   "source": []
  }
 ],
 "metadata": {
  "kernelspec": {
   "display_name": "Python 3",
   "language": "python",
   "name": "python3"
  },
  "language_info": {
   "codemirror_mode": {
    "name": "ipython",
    "version": 3
   },
   "file_extension": ".py",
   "mimetype": "text/x-python",
   "name": "python",
   "nbconvert_exporter": "python",
   "pygments_lexer": "ipython3",
   "version": "3.7.0"
  }
 },
 "nbformat": 4,
 "nbformat_minor": 2
}
