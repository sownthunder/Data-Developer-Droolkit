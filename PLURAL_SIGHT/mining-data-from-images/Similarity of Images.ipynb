{
 "cells": [
  {
   "cell_type": "markdown",
   "metadata": {},
   "source": [
    "## Comparing Images Using Subtract"
   ]
  },
  {
   "cell_type": "code",
   "execution_count": 1,
   "metadata": {},
   "outputs": [],
   "source": [
    "# Import required libraries\n",
    "import cv2\n",
    "import numpy as np\n",
    "from matplotlib import pyplot as plt"
   ]
  },
  {
   "cell_type": "code",
   "execution_count": 2,
   "metadata": {},
   "outputs": [],
   "source": [
    "# Load images to compare\n",
    "img1 = cv2.imread('justin.jpg')\n",
    "img2 = cv2.imread('justin.jpg')\n",
    "img3 = cv2.imread('justin_bluetriangle.jpg')\n",
    "img4 = cv2.imread('justin_2.jpg')\n",
    "img5 = cv2.imread('dog.jpg')"
   ]
  },
  {
   "cell_type": "code",
   "execution_count": 3,
   "metadata": {},
   "outputs": [],
   "source": [
    "# Compare each image to the original using subtract\n",
    "diff_12 = cv2.subtract(img1,img2)\n",
    "diff_13 = cv2.subtract(img1,img3)\n",
    "diff_14 = cv2.subtract(img1,img4)\n",
    "diff_15 = cv2.subtract(img1,img5)"
   ]
  },
  {
   "cell_type": "code",
   "execution_count": 4,
   "metadata": {},
   "outputs": [
    {
     "name": "stdout",
     "output_type": "stream",
     "text": [
      "0\n",
      "1854719\n",
      "18713024\n",
      "55467275\n"
     ]
    }
   ],
   "source": [
    "# Sum all elements of the diff array to get a number representing how similar or different\n",
    "print(np.sum(diff_12))    # exact same image, difference should be 0\n",
    "print(np.sum(diff_13))    # exact same image with blue traingle, difference should be small\n",
    "print(np.sum(diff_14))    # different but similar image, difference should be larger\n",
    "print(np.sum(diff_15))    # completely different image of a dog, difference should be largest"
   ]
  },
  {
   "cell_type": "code",
   "execution_count": 5,
   "metadata": {},
   "outputs": [
    {
     "name": "stdout",
     "output_type": "stream",
     "text": [
      "183600000\n"
     ]
    }
   ],
   "source": [
    "# Find max difference to give more insight into numbers\n",
    "total_pixel_value_count = 600*400*3*255\n",
    "print(total_pixel_value_count)"
   ]
  },
  {
   "cell_type": "code",
   "execution_count": 6,
   "metadata": {},
   "outputs": [
    {
     "name": "stdout",
     "output_type": "stream",
     "text": [
      "100.0\n",
      "98.98980446623094\n",
      "89.8077211328976\n",
      "69.78906590413943\n"
     ]
    }
   ],
   "source": [
    "# Can now convert values into '% of similarity' by dividing by max difference for more insight\n",
    "print((total_pixel_value_count - np.sum(diff_12))/total_pixel_value_count*100)\n",
    "print((total_pixel_value_count - np.sum(diff_13))/total_pixel_value_count*100)\n",
    "print((total_pixel_value_count - np.sum(diff_14))/total_pixel_value_count*100)\n",
    "print((total_pixel_value_count - np.sum(diff_15))/total_pixel_value_count*100)"
   ]
  },
  {
   "cell_type": "code",
   "execution_count": 7,
   "metadata": {},
   "outputs": [],
   "source": [
    "# Show images of difference to get a better idea of whats going on here\n",
    "cv2.imshow('My Image',diff_15)         \n",
    "cv2.waitKey(0)\n",
    "cv2.destroyAllWindows() \n",
    "\n",
    "# Important to note that for this method, all thats being used is the individual pixel colors!  \n",
    "# That means if we have two dark images, they might seem similar regardless of the image \n",
    "# just because they are both dark!"
   ]
  },
  {
   "cell_type": "markdown",
   "metadata": {},
   "source": [
    "## Comparing Images Using Histogram Comparison"
   ]
  },
  {
   "cell_type": "code",
   "execution_count": 8,
   "metadata": {},
   "outputs": [],
   "source": [
    "# Calculate the histograms using calcHist, channel is [0]=Blue in this case but could do for each channel BGR\n",
    "img1_hist = cv2.calcHist([img1],[0],None,[256],[0,256])\n",
    "img2_hist = cv2.calcHist([img2],[0],None,[256],[0,256])\n",
    "img3_hist = cv2.calcHist([img3],[0],None,[256],[0,256])\n",
    "img4_hist = cv2.calcHist([img4],[0],None,[256],[0,256])\n",
    "img5_hist = cv2.calcHist([img5],[0],None,[256],[0,256])"
   ]
  },
  {
   "cell_type": "code",
   "execution_count": 9,
   "metadata": {},
   "outputs": [
    {
     "data": {
      "image/png": "[encoded data removed]",
      "text/plain": [
       "<Figure size 432x288 with 1 Axes>"
      ]
     },
     "metadata": {
      "needs_background": "light"
     },
     "output_type": "display_data"
    }
   ],
   "source": [
    "# Plot one of the histograms to help visualize\n",
    "plt.plot(img1_hist)\n",
    "plt.show()"
   ]
  },
  {
   "cell_type": "code",
   "execution_count": 10,
   "metadata": {},
   "outputs": [],
   "source": [
    "# Calculate correlation values using compareHist()\n",
    "img1_img2 = cv2.compareHist(img1_hist, img2_hist, 0)\n",
    "img1_img3 = cv2.compareHist(img1_hist, img3_hist, 0)\n",
    "img1_img4 = cv2.compareHist(img1_hist, img4_hist, 0)\n",
    "img1_img5 = cv2.compareHist(img1_hist, img5_hist, 0)"
   ]
  },
  {
   "cell_type": "code",
   "execution_count": 11,
   "metadata": {},
   "outputs": [
    {
     "name": "stdout",
     "output_type": "stream",
     "text": [
      "1.0\n",
      "0.9704504745778657\n",
      "0.8451481667497962\n",
      "0.025091676258872722\n"
     ]
    }
   ],
   "source": [
    "# Print out correlation values to show similarities / differences\n",
    "print(img1_img2)\n",
    "print(img1_img3)\n",
    "print(img1_img4)\n",
    "print(img1_img5)"
   ]
  },
  {
   "cell_type": "code",
   "execution_count": null,
   "metadata": {},
   "outputs": [],
   "source": []
  }
 ],
 "metadata": {
  "kernelspec": {
   "display_name": "Python 3",
   "language": "python",
   "name": "python3"
  },
  "language_info": {
   "codemirror_mode": {
    "name": "ipython",
    "version": 3
   },
   "file_extension": ".py",
   "mimetype": "text/x-python",
   "name": "python",
   "nbconvert_exporter": "python",
   "pygments_lexer": "ipython3",
   "version": "3.7.1"
  }
 },
 "nbformat": 4,
 "nbformat_minor": 2
}
