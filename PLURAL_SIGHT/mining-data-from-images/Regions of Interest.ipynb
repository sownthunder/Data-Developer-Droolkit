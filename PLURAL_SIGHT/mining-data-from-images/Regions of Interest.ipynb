{
 "cells": [
  {
   "cell_type": "markdown",
   "metadata": {},
   "source": [
    "## Reading, Displaying, and Writing Images"
   ]
  },
  {
   "cell_type": "code",
   "execution_count": 1,
   "metadata": {},
   "outputs": [],
   "source": [
    "# Import required libraries\n",
    "import cv2\n",
    "import numpy as np"
   ]
  },
  {
   "cell_type": "code",
   "execution_count": 2,
   "metadata": {},
   "outputs": [],
   "source": [
    "# Load an image using cv2.imread()\n",
    "img = cv2.imread('justin.jpg')"
   ]
  },
  {
   "cell_type": "code",
   "execution_count": 3,
   "metadata": {},
   "outputs": [],
   "source": [
    "# Show an image using cv2.imshow(), wait for a keystroke then destroy image windows\n",
    "cv2.imshow('My Image',img)         \n",
    "cv2.waitKey(0)\n",
    "cv2.destroyAllWindows() "
   ]
  },
  {
   "cell_type": "code",
   "execution_count": 4,
   "metadata": {},
   "outputs": [
    {
     "data": {
      "text/plain": [
       "True"
      ]
     },
     "execution_count": 4,
     "metadata": {},
     "output_type": "execute_result"
    }
   ],
   "source": [
    "# Write out an image using cv2.imwrite()\n",
    "cv2.imwrite('justin_new.jpg',img)"
   ]
  },
  {
   "cell_type": "markdown",
   "metadata": {},
   "source": [
    "## Accessing and Modifying Pixel Values"
   ]
  },
  {
   "cell_type": "code",
   "execution_count": 5,
   "metadata": {},
   "outputs": [
    {
     "name": "stdout",
     "output_type": "stream",
     "text": [
      "<class 'numpy.ndarray'>\n",
      "(600, 400, 3)\n",
      "720000\n",
      "uint8\n"
     ]
    }
   ],
   "source": [
    "# Image Properties\n",
    "print(type(img))\n",
    "print(img.shape)\n",
    "print(img.size)\n",
    "print (img.dtype)"
   ]
  },
  {
   "cell_type": "code",
   "execution_count": 6,
   "metadata": {},
   "outputs": [
    {
     "name": "stdout",
     "output_type": "stream",
     "text": [
      "[248 250 251]\n",
      "251\n"
     ]
    }
   ],
   "source": [
    "# Access and print pixel in top left corner\n",
    "top_left_px = img[0,0,:]\n",
    "print(top_left_px)\n",
    "\n",
    "# Access and print only the red pixel\n",
    "top_left_px_R = img[0,0,2]\n",
    "print(top_left_px_R)"
   ]
  },
  {
   "cell_type": "code",
   "execution_count": 7,
   "metadata": {},
   "outputs": [],
   "source": [
    "# Modify pixel in top left corner to be [0,0,0] = black\n",
    "img[0,0] = [0,0,0]\n",
    "\n",
    "# Show modified image\n",
    "cv2.imshow('My Image',img)         \n",
    "cv2.waitKey(0)\n",
    "cv2.destroyAllWindows() "
   ]
  },
  {
   "cell_type": "code",
   "execution_count": 8,
   "metadata": {},
   "outputs": [],
   "source": [
    "# Modify random pixel in top right area to be [0,0,255] = red\n",
    "img[25,375] = [0,0,255]\n",
    "\n",
    "# Show modified image\n",
    "cv2.imshow('My Image',img)         \n",
    "cv2.waitKey(0)\n",
    "cv2.destroyAllWindows() "
   ]
  },
  {
   "cell_type": "code",
   "execution_count": 9,
   "metadata": {},
   "outputs": [
    {
     "name": "stdout",
     "output_type": "stream",
     "text": [
      "249\n",
      "150\n"
     ]
    }
   ],
   "source": [
    "# Can also access and modify values using the numpy item() and itemset() functions\n",
    "\n",
    "# accessing green value\n",
    "print(img.item(25,25,1))\n",
    "\n",
    "# modifying blue value\n",
    "img.itemset((15,15,0),150)\n",
    "print(img.item(15,15,0))"
   ]
  },
  {
   "cell_type": "markdown",
   "metadata": {},
   "source": [
    "## Region of Interest"
   ]
  },
  {
   "cell_type": "code",
   "execution_count": 10,
   "metadata": {},
   "outputs": [],
   "source": [
    "# ROI of face only by defining pixel location\n",
    "face_ROI = img[25:400, 0:300]\n",
    "\n",
    "# Show new 'face' ROI image\n",
    "cv2.imshow('My Image',face_ROI)         \n",
    "cv2.waitKey(0)\n",
    "cv2.destroyAllWindows() "
   ]
  },
  {
   "cell_type": "code",
   "execution_count": 12,
   "metadata": {},
   "outputs": [],
   "source": [
    "# ROI of eyes only by using selectROI to draw a rectangle\n",
    "(x,y,w,h) = cv2.selectROI('My Image', img)\n",
    "eyes_ROI = img[y:y+h , x:x+w]\n",
    "\n",
    "cv2.imshow('My Image', eyes_ROI)\n",
    "cv2.waitKey(0)\n",
    "cv2.destroyAllWindows()"
   ]
  },
  {
   "cell_type": "code",
   "execution_count": null,
   "metadata": {},
   "outputs": [],
   "source": []
  }
 ],
 "metadata": {
  "kernelspec": {
   "display_name": "Python 3",
   "language": "python",
   "name": "python3"
  },
  "language_info": {
   "codemirror_mode": {
    "name": "ipython",
    "version": 3
   },
   "file_extension": ".py",
   "mimetype": "text/x-python",
   "name": "python",
   "nbconvert_exporter": "python",
   "pygments_lexer": "ipython3",
   "version": "3.7.1"
  }
 },
 "nbformat": 4,
 "nbformat_minor": 2
}
