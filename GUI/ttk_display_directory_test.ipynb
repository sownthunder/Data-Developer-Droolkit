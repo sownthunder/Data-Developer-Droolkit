{
 "cells": [
  {
   "cell_type": "code",
   "execution_count": 8,
   "metadata": {},
   "outputs": [],
   "source": [
    "import os, sys, time\n",
    "from time import sleep\n",
    "import tkinter as tk\n",
    "from tkinter import filedialog, messagebox, ttk"
   ]
  },
  {
   "cell_type": "code",
   "execution_count": 16,
   "metadata": {},
   "outputs": [],
   "source": [
    "class gui_test(): #{\n",
    "    \n",
    "    def __init__(self, the_title): #{\n",
    "        # INSTANTIATE GLOBAL VARIABLES\n",
    "        self.the_title = the_title\n",
    "        # SETUP TKINTER\n",
    "        self.root = tk.Tk()\n",
    "        self.root.geometry('400x250+250+250')\n",
    "        self.root.title(self.the_title)\n",
    "        self.root.resizable(width=False, height=True)\n",
    "        \n",
    "        # TOPFRAME\n",
    "        self.topframe = tk.Frame(master=self.root)\n",
    "        self.topframe.pack(side=tk.TOP, fill=tk.BOTH, expand=True)\n",
    "        \n",
    "        ## LABEL\n",
    "        ttk.Label(master=self.topframe, text=\"test\").pack(side=tk.LEFT, fill=tk.BOTH, expand=True)\n",
    "        \n",
    "        ## BUTTON\n",
    "        ttk.Button(master=self.topframe).pack(side=tk.RIGHT, fill=tk.BOTH, expand=True)\n",
    "        \n",
    "        # BOTTOMFRAME\n",
    "        self.bottomframe = tk.Frame(master=self.root)\n",
    "        self.bottomframe.pack(side=tk.BOTTOM, fill=tk.BOTH, expand=True)\n",
    "        \n",
    "        self.tree = ttk.Treeview(master=self.bottomframe, height=5, columns=2)\n",
    "        self.tree.grid(row=4, column=0, columnspan=2)\n",
    "        self.tree.heading('#0', text='Name', anchor=tk.W)\n",
    "        self.tree.heading(2, text='Phone Number', anchor=tk.W)\n",
    "        \n",
    "        self.root.config()\n",
    "        self.root.mainloop()\n",
    "        \n",
    "    #}\n",
    "    \n",
    "#} "
   ]
  },
  {
   "cell_type": "code",
   "execution_count": 17,
   "metadata": {},
   "outputs": [],
   "source": [
    "gui = gui_test(\"poopy_head\")"
   ]
  },
  {
   "cell_type": "code",
   "execution_count": null,
   "metadata": {},
   "outputs": [],
   "source": []
  }
 ],
 "metadata": {
  "kernelspec": {
   "display_name": "Python 3",
   "language": "python",
   "name": "python3"
  },
  "language_info": {
   "codemirror_mode": {
    "name": "ipython",
    "version": 3
   },
   "file_extension": ".py",
   "mimetype": "text/x-python",
   "name": "python",
   "nbconvert_exporter": "python",
   "pygments_lexer": "ipython3",
   "version": "3.7.0"
  }
 },
 "nbformat": 4,
 "nbformat_minor": 2
}
