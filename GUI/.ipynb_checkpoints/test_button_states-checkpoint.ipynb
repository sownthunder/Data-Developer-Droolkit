{
 "cells": [
  {
   "cell_type": "code",
   "execution_count": 1,
   "metadata": {},
   "outputs": [],
   "source": [
    "import os, sys, time\n",
    "from time import sleep\n",
    "from pathlib import Path\n",
    "import tkinter as tk\n",
    "from tkinter import ttk, filedialog, messagebox"
   ]
  },
  {
   "cell_type": "code",
   "execution_count": 2,
   "metadata": {},
   "outputs": [],
   "source": [
    "def clicked(): #{\n",
    "    global b1, b2\n",
    "    \n",
    "    b1.configure(state=tk.ACTIVE, text=\"ACTIVE button\")\n",
    "    b2.configure(state=tk.DISABLED, text=\"inactive button\")\n",
    "    \n",
    "#}"
   ]
  },
  {
   "cell_type": "code",
   "execution_count": 3,
   "metadata": {},
   "outputs": [],
   "source": [
    "if __name__ == \"__main__\": #{\n",
    "    # MAIN APP PROPERTIES\n",
    "    root = tk.Tk()\n",
    "    root.title(\"test\")\n",
    "    root.geometry(\"200x200+350+350\")\n",
    "    \n",
    "    b1 = tk.Button(master=root, state=tk.DISABLED, text=\"inactive button\")\n",
    "    b1.pack(anchor=tk.N, fill=tk.X, expand=False)\n",
    "    \n",
    "    b2 = tk.Button(master=root, state=tk.ACTIVE, text=\"ACTIVE button\", command=clicked)\n",
    "    b2.pack(anchor=tk.S, fill=tk.X, expand=False)\n",
    "    \n",
    "    root.config()\n",
    "    root.mainloop()\n",
    "    \n",
    "#}"
   ]
  },
  {
   "cell_type": "code",
   "execution_count": null,
   "metadata": {},
   "outputs": [],
   "source": []
  }
 ],
 "metadata": {
  "kernelspec": {
   "display_name": "Python 3",
   "language": "python",
   "name": "python3"
  },
  "language_info": {
   "codemirror_mode": {
    "name": "ipython",
    "version": 3
   },
   "file_extension": ".py",
   "mimetype": "text/x-python",
   "name": "python",
   "nbconvert_exporter": "python",
   "pygments_lexer": "ipython3",
   "version": "3.7.3"
  }
 },
 "nbformat": 4,
 "nbformat_minor": 2
}
