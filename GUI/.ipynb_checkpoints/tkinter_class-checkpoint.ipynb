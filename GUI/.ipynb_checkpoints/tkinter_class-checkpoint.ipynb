{
 "cells": [
  {
   "cell_type": "code",
   "execution_count": 1,
   "metadata": {},
   "outputs": [],
   "source": [
    "import os, sys, time\n",
    "from time import sleep\n",
    "from pathlib import Path\n",
    "import pandas as pd\n",
    "import numpy as np\n",
    "from pandas import Series, DataFrame\n",
    "import tkinter as tk\n",
    "from tkinter import ttk"
   ]
  },
  {
   "cell_type": "code",
   "execution_count": 5,
   "metadata": {},
   "outputs": [
    {
     "name": "stdout",
     "output_type": "stream",
     "text": [
      "<module 'tkinter' from 'C:\\\\Users\\\\derbates\\\\anaconda3\\\\lib\\\\tkinter\\\\__init__.py'>\n"
     ]
    }
   ],
   "source": [
    "print(tk)"
   ]
  },
  {
   "cell_type": "code",
   "execution_count": 13,
   "metadata": {},
   "outputs": [],
   "source": [
    "class newPopUp(): #{\n",
    "\n",
    "    def __init__(self): #{\n",
    "        global root\n",
    "        # set window title as NAME\n",
    "        root.title(\"root\")\n",
    "        root.geometry(\"600x600+250+300\")\n",
    "        root.resizable(width=False, height=False)\n",
    "        \n",
    "        root.config()\n",
    "        root.mainloop()\n",
    "    #}\n",
    "    \n",
    "    def create_widgets(self): #{\n",
    "        pass\n",
    "    #}\n",
    "    \n",
    "#}"
   ]
  },
  {
   "cell_type": "code",
   "execution_count": null,
   "metadata": {},
   "outputs": [],
   "source": [
    "def clicked(): #{\n",
    "    # RE-INSTANTIATE GLOBALS\n",
    "    global \n",
    "#}"
   ]
  },
  {
   "cell_type": "code",
   "execution_count": 14,
   "metadata": {},
   "outputs": [],
   "source": [
    "if __name__ == \"__main__\": #{\n",
    "    root = tk.Tk()\n",
    "    test = newPopUp()\n",
    "#}"
   ]
  },
  {
   "cell_type": "code",
   "execution_count": null,
   "metadata": {},
   "outputs": [],
   "source": []
  }
 ],
 "metadata": {
  "kernelspec": {
   "display_name": "Python 3",
   "language": "python",
   "name": "python3"
  },
  "language_info": {
   "codemirror_mode": {
    "name": "ipython",
    "version": 3
   },
   "file_extension": ".py",
   "mimetype": "text/x-python",
   "name": "python",
   "nbconvert_exporter": "python",
   "pygments_lexer": "ipython3",
   "version": "3.7.3"
  }
 },
 "nbformat": 4,
 "nbformat_minor": 2
}
