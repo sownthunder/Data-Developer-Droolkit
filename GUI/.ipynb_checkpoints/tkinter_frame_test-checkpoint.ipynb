{
 "cells": [
  {
   "cell_type": "markdown",
   "metadata": {},
   "source": [
    "## *FRAMES* from `tkinter`"
   ]
  },
  {
   "cell_type": "code",
   "execution_count": 2,
   "metadata": {},
   "outputs": [],
   "source": [
    "import os, sys, time\n",
    "from time import sleep\n",
    "import tkinter as tk\n",
    "from tkinter import ttk, filedialog, messagebox"
   ]
  },
  {
   "cell_type": "code",
   "execution_count": null,
   "metadata": {},
   "outputs": [],
   "source": []
  },
  {
   "cell_type": "code",
   "execution_count": 18,
   "metadata": {},
   "outputs": [],
   "source": [
    "if __name__ == \"__main__\": #{\n",
    "    # MAIN APP PROPERTIES\n",
    "    root = tk.Tk()\n",
    "    root.title(\"FRAMES\")\n",
    "    root.geometry(\"250x250+250+250\")\n",
    "    root.resizable(width=True, height=True)\n",
    "    \n",
    "    # TOP FRAME\n",
    "    topframe = tk.Frame(master=root)\n",
    "    topframe.pack(anchor=tk.CENTER, fill=tk.BOTH, expand=True)\n",
    "    \n",
    "    # b1\n",
    "    button1 = tk.Button(master=topframe, text=\"b1\", background=\"#ffff66\",\n",
    "                       activebackground=\"#000000\", activeforeground=\"#666666\",\n",
    "                        disabledforeground=\"#012562\")\n",
    "    button1.pack(side=tk.LEFT, fill=tk.BOTH, expand=True)\n",
    "    \n",
    "    # b3\n",
    "    button3 = tk.Button(master=topframe, text=\"b3\")\n",
    "    button3.pack(side=tk.RIGHT, fill=tk.BOTH, expand=True)\n",
    "    \n",
    "    # BOTTOM FRAME\n",
    "    bottomframe = tk.Frame(master=root)\n",
    "    bottomframe.pack(anchor=tk.CENTER, fill=tk.BOTH, expand=True)\n",
    "    \n",
    "    # b2\n",
    "    button2 = tk.Button(master=bottomframe, text=\"b2\")\n",
    "    button2.pack(side=tk.RIGHT, fill=tk.BOTH, expand=True)\n",
    "    \n",
    "    # b4, \n",
    "    button4 = tk.Button(master=bottomframe, text=\"b4\", background=\"#e67300\")\n",
    "    button4.pack(side=tk.LEFT, fill=tk.BOTH, expand=True)\n",
    "    \n",
    "    root.config()\n",
    "    root.mainloop()\n",
    "#}"
   ]
  },
  {
   "cell_type": "code",
   "execution_count": null,
   "metadata": {},
   "outputs": [],
   "source": []
  }
 ],
 "metadata": {
  "kernelspec": {
   "display_name": "Python 3",
   "language": "python",
   "name": "python3"
  },
  "language_info": {
   "codemirror_mode": {
    "name": "ipython",
    "version": 3
   },
   "file_extension": ".py",
   "mimetype": "text/x-python",
   "name": "python",
   "nbconvert_exporter": "python",
   "pygments_lexer": "ipython3",
   "version": "3.7.3"
  }
 },
 "nbformat": 4,
 "nbformat_minor": 2
}
