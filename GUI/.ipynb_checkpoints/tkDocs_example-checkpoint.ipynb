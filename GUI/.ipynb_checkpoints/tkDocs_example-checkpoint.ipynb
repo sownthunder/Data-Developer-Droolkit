{
 "cells": [
  {
   "cell_type": "code",
   "execution_count": 1,
   "metadata": {},
   "outputs": [],
   "source": [
    "import tkinter as tk\n",
    "from tkinter import ttk\n",
    "\n",
    "root = tk.Tk()\n",
    "\n",
    "content = ttk.Frame(root)\n",
    "frame = ttk.Frame(content, borderwidth=5, relief=tk.SUNKEN, width=200, height=100)\n",
    "namelbl = ttk.Label(content, text=\"Name\")\n",
    "name = ttk.Entry(content)\n",
    "\n",
    "onevar = tk.BooleanVar()\n",
    "twovar = tk.BooleanVar()\n",
    "threevar = tk.BooleanVar()\n",
    "onevar.set(True)\n",
    "twovar.set(False)\n",
    "threevar.set(True)\n",
    "\n",
    "one = ttk.Checkbutton(content, text=\"One\", variable=onevar, onvalue=True)\n",
    "two = ttk.Checkbutton(content, text=\"Two\", variable=twovar, onvalue=True)\n",
    "three = ttk.Checkbutton(content, text=\"Three\", variable=threevar, onvalue=True)\n",
    "ok = ttk.Button(content, text=\"Okay\")\n",
    "cancel = ttk.Button(content, text=\"Cancel\")\n",
    "\n",
    "content.grid(column=0, row=0)\n",
    "frame.grid(column=0, row=0, columnspan=3, rowspan=2)\n",
    "namelbl.grid(column=3, row=0, columnspan=2)\n",
    "name.grid(column=3, row=1, columnspan=2)\n",
    "one.grid(column=0, row=3)\n",
    "two.grid(column=1, row=3)\n",
    "three.grid(column=2, row=3)\n",
    "ok.grid(column=3, row=3)\n",
    "cancel.grid(column=4, row=3)\n",
    "\n",
    "root.mainloop()"
   ]
  },
  {
   "cell_type": "code",
   "execution_count": null,
   "metadata": {},
   "outputs": [],
   "source": []
  }
 ],
 "metadata": {
  "kernelspec": {
   "display_name": "Python 3",
   "language": "python",
   "name": "python3"
  },
  "language_info": {
   "codemirror_mode": {
    "name": "ipython",
    "version": 3
   },
   "file_extension": ".py",
   "mimetype": "text/x-python",
   "name": "python",
   "nbconvert_exporter": "python",
   "pygments_lexer": "ipython3",
   "version": "3.7.3"
  }
 },
 "nbformat": 4,
 "nbformat_minor": 2
}
