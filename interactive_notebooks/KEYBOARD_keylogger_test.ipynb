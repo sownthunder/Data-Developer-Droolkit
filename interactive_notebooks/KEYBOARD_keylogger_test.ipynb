{
 "cells": [
  {
   "cell_type": "code",
   "execution_count": 3,
   "metadata": {},
   "outputs": [
    {
     "name": "stdout",
     "output_type": "stream",
     "text": [
      "[KeyboardEvent(right shift up), KeyboardEvent(enter up), KeyboardEvent(j down), KeyboardEvent(j up), KeyboardEvent(enter down), KeyboardEvent(enter up), KeyboardEvent(j down), KeyboardEvent(l down), KeyboardEvent(k down), KeyboardEvent(j up), KeyboardEvent(k up), KeyboardEvent(; down), KeyboardEvent(l up), KeyboardEvent(j down), KeyboardEvent(; up), KeyboardEvent(k down), KeyboardEvent(l down), KeyboardEvent(j up), KeyboardEvent(k up), KeyboardEvent(; down), KeyboardEvent(l up), KeyboardEvent(j down), KeyboardEvent(; up), KeyboardEvent(k down), KeyboardEvent(l down), KeyboardEvent(j up), KeyboardEvent(k up), KeyboardEvent(; down), KeyboardEvent(l up), KeyboardEvent(j down), KeyboardEvent(; up), KeyboardEvent(k down), KeyboardEvent(l down), KeyboardEvent(j up), KeyboardEvent(k up), KeyboardEvent(; down), KeyboardEvent(l up), KeyboardEvent(j down), KeyboardEvent(; up), KeyboardEvent(k down), KeyboardEvent(l down), KeyboardEvent(j up), KeyboardEvent(k up), KeyboardEvent(; down), KeyboardEvent(l up), KeyboardEvent(; up), KeyboardEvent(j down), KeyboardEvent(k down), KeyboardEvent(l down), KeyboardEvent(k up), KeyboardEvent(j up), KeyboardEvent(l up), KeyboardEvent(; down), KeyboardEvent(j down), KeyboardEvent(; up), KeyboardEvent(j up), KeyboardEvent(esc down)]\n"
     ]
    }
   ],
   "source": [
    "# Keyboard module in Python\n",
    "import keyboard\n",
    "\n",
    "# It records all the keys until escape is pressed\n",
    "rk = keyboard.record(until = 'Esc')\n",
    "\n",
    "print(rk)"
   ]
  },
  {
   "cell_type": "code",
   "execution_count": 2,
   "metadata": {},
   "outputs": [],
   "source": [
    "# It replay back the all keys\n",
    "keyboard.play(rk, speed_factor = 1)"
   ]
  },
  {
   "cell_type": "code",
   "execution_count": null,
   "metadata": {},
   "outputs": [],
   "source": [
    "ghdsfgsdfgdsfgsdfgok if you say so \n",
    "jlk;jkl;jkl;jkl;jkl;jkl;j"
   ]
  }
 ],
 "metadata": {
  "kernelspec": {
   "display_name": "Python 3",
   "language": "python",
   "name": "python3"
  },
  "language_info": {
   "codemirror_mode": {
    "name": "ipython",
    "version": 3
   },
   "file_extension": ".py",
   "mimetype": "text/x-python",
   "name": "python",
   "nbconvert_exporter": "python",
   "pygments_lexer": "ipython3",
   "version": "3.7.3"
  }
 },
 "nbformat": 4,
 "nbformat_minor": 2
}
