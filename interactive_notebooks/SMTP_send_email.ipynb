{
 "cells": [
  {
   "cell_type": "code",
   "execution_count": 31,
   "metadata": {},
   "outputs": [],
   "source": [
    "import os, sys, time\n",
    "from time import sleep\n",
    "from pathlib import Path\n",
    "import email, smtplib, ssl\n",
    "import os.path as op\n",
    "\n",
    "from email import encoders\n",
    "from email.mime.base import MIMEBase\n",
    "from email.mime.multipart import MIMEMultipart\n",
    "from email.mime.text import MIMEText\n",
    "from email.utils import COMMASPACE, formatdate"
   ]
  },
  {
   "cell_type": "code",
   "execution_count": 30,
   "metadata": {},
   "outputs": [],
   "source": [
    "sender = \"derek.bates@non.agilent.com\"\n",
    "receivers = \"derek.bates@non.agilent.com\"\n",
    "\n",
    "message = \"\"\"From: From Person <derek.bates@non.agilent.com>\n",
    "To: To Person <derek.bates@non.agilent.com>\n",
    "Subject: SMTP e-mail test\n",
    "\n",
    "This is a test e-mail message.\n",
    "\"\"\""
   ]
  },
  {
   "cell_type": "code",
   "execution_count": 3,
   "metadata": {},
   "outputs": [
    {
     "name": "stdout",
     "output_type": "stream",
     "text": [
      "SUCCESSFULLY SENT EMAIL?\n"
     ]
    }
   ],
   "source": [
    "try: #{\n",
    "    smtpObj = smtplib.SMTP(host='cos.smtp.agilent.com')\n",
    "    smtpObj.sendmail(sender, receivers, message)\n",
    "    print(\"SUCCESSFULLY SENT EMAIL?\")\n",
    "#}\n",
    "except SMTPException: #{\n",
    "    print(\"Error: unable to send email\")\n",
    "#}"
   ]
  },
  {
   "cell_type": "raw",
   "metadata": {
    "raw_mimetype": "text/x-python"
   },
   "source": [
    "import smtplib, ssl\n",
    "\n",
    "smtp_server = \"cos.smtp.agilent.com\""
   ]
  },
  {
   "cell_type": "code",
   "execution_count": 36,
   "metadata": {},
   "outputs": [],
   "source": [
    "def send_mail(send_from, send_to, subject, message, files=[],\n",
    "             server=\"cos.smtp.agilent.com\", port=587, use_tls=True): #{\n",
    "    msg = MIMEMultipart()\n",
    "    msg['From'] = send_from\n",
    "    msg['To'] = COMMASPACE.join(send_to)\n",
    "    msg['Date'] = formatdate(localtime=True)\n",
    "    msg['Subject'] = subject\n",
    "\n",
    "    msg.attach(MIMEText(message))\n",
    "\n",
    "    for path in files: #{\n",
    "        part = MIMEBase('application', \"octet-stream\")\n",
    "        with open(path, 'rb') as file: #{\n",
    "            part.set_payload(file.read())\n",
    "        #}\n",
    "        encoders.encode_base64(part)\n",
    "        part.add_header('Content-Disposition',\n",
    "                        'attachment; filename=\"{}\"'.format(op.basename(path)))\n",
    "        msg.attach(part)\n",
    "    #}\n",
    "\n",
    "    smtp = smtplib.SMTP(server, port)\n",
    "    if use_tls: #{\n",
    "        smtp.starttls()\n",
    "    #}\n",
    "    smtp.sendmail(send_from, send_to, msg.as_string())\n",
    "    smtp.quit()\n",
    "#}"
   ]
  },
  {
   "cell_type": "code",
   "execution_count": 34,
   "metadata": {},
   "outputs": [],
   "source": [
    "file_list = ['C:/data/part ICP-079 CofA Lot# 0006479330.pdf']"
   ]
  },
  {
   "cell_type": "code",
   "execution_count": 37,
   "metadata": {},
   "outputs": [],
   "source": [
    "send_mail(send_from=\"derek.bates@non.agilent.com\",\n",
    "         send_to=\"derek.bates@non.agilent.com\",\n",
    "         subject=\"TEST\",\n",
    "         message=\"TESTY\",\n",
    "         files=file_list)"
   ]
  },
  {
   "cell_type": "markdown",
   "metadata": {},
   "source": [
    "---"
   ]
  },
  {
   "cell_type": "raw",
   "metadata": {},
   "source": [
    "subject = \"An email with attachment from Python\"\n",
    "body = \"This is an email with attachment sent from Python\"\n",
    "sender_email = \"derek.bates@non.agilent.com\"\n",
    "receiver_email = \"derek.bates@non.agilent.com\"\n",
    "#password = input(\"Type your password and press enter:\")"
   ]
  },
  {
   "cell_type": "raw",
   "metadata": {},
   "source": [
    "# Create a multipart message and set headers\n",
    "message = MIMEMultipart()\n",
    "message[\"From\"] = sender_email\n",
    "message[\"To\"] = receiver_email\n",
    "message[\"subject\"] = subject\n",
    "message[\"Bcc\"] = receiver_email # Recommended for mass emails"
   ]
  },
  {
   "cell_type": "raw",
   "metadata": {},
   "source": [
    "# Add body to email\n",
    "message.attach(MIMEText(body, \"plain\"))\n",
    "\n",
    "# *NOT* in same Directory as Script\n",
    "filename = \"C:/data/part ICP-079 CofA Lot# 0006479330.pdf\""
   ]
  },
  {
   "cell_type": "raw",
   "metadata": {},
   "source": [
    "# Open PDF file in binary mode\n",
    "with open(filename, \"rb\") as attachment: #{\n",
    "    # Add file as application/octet-stream\n",
    "    # Email client can usually download this automatically as attachment\n",
    "    part = MIMEBase(\"application\", \"octet-stream\")\n",
    "    part.set_payload(attachment.read())\n",
    "#}\n",
    "\n",
    "# Encode file in ASCII characters to send by email\n",
    "encoders.encode_base64(part)\n",
    "\n",
    "# Add header as key/value pair to attachment part\n",
    "part.add_header(\n",
    "    'Content-Disposition',\n",
    "    f'attachment; filename= {filename}',\n",
    ")\n",
    "\n",
    "# Add attachment to message and convert message to string\n",
    "message.attach(part)\n",
    "text = message.as_string\n",
    "\n",
    "# Log in to server using secure context and send email\n",
    "#context = ssl.create_default_context()\n",
    "try: #{\n",
    "    smtpObj = smtplib.SMTP(host=\"cos.smtp.agilent.com\")\n",
    "    smtpObj.sendmail(sender_email, receiver_email, text)\n",
    "#}\n",
    "except: #{\n",
    "    errorMessage = str(sys.exc_info()[0]) + \"\\n\"\n",
    "    errorMessage = errorMessage + str(sys.exc_info()[1]) + \"\\n\"\n",
    "    errorMessage = errorMessage + str(sys.exc_info()[2]) + \"\\n\"\n",
    "    exc_type, exc_obj, exc_tb = sys.exc_info()\n",
    "    fname = os.path.split(exc_tb.tb_frame.f_code.co_filename)[1]\n",
    "    typeE = str(\"TYPE : \" + str(exc_type))\n",
    "    fileE = str(\"FILE : \" + str(fname))\n",
    "    lineE = str(\"LINE : \" + str(exc_tb.tb_lineno))\n",
    "    messageE = str(\"MESG : \" + \"\\n\\n\" + str(errorMessage) + \"\\n\")\n",
    "    print(\"\\n\" + typeE +\n",
    "          \"\\n\" + fileE +\n",
    "          \"\\n\" + lineE +\n",
    "          \"\\n\" + messageE)\n",
    "#}\n",
    "else: #{\n",
    "    print(\"SUCCESSFULLY SENT EMAIL AGAIN !.\")\n",
    "#}"
   ]
  },
  {
   "cell_type": "code",
   "execution_count": null,
   "metadata": {},
   "outputs": [],
   "source": []
  }
 ],
 "metadata": {
  "celltoolbar": "Raw Cell Format",
  "kernelspec": {
   "display_name": "Python 3",
   "language": "python",
   "name": "python3"
  },
  "language_info": {
   "codemirror_mode": {
    "name": "ipython",
    "version": 3
   },
   "file_extension": ".py",
   "mimetype": "text/x-python",
   "name": "python",
   "nbconvert_exporter": "python",
   "pygments_lexer": "ipython3",
   "version": "3.7.3"
  }
 },
 "nbformat": 4,
 "nbformat_minor": 2
}
