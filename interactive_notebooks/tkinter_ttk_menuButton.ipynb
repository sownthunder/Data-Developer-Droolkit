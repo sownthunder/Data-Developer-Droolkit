{
 "cells": [
  {
   "cell_type": "code",
   "execution_count": 1,
   "metadata": {},
   "outputs": [],
   "source": [
    "import os, sys, time\n",
    "from time import sleep\n",
    "import tkinter as tk\n",
    "import tkinter.ttk as ttk\n",
    "from ttkthemes import ThemedStyle\n",
    "from tkinter import filedialog, messagebox, colorchooser, commondialog"
   ]
  },
  {
   "cell_type": "code",
   "execution_count": 2,
   "metadata": {},
   "outputs": [],
   "source": [
    "root = tk.Tk()\n",
    "# [2020-01-02]\\\\root.geometry('600x300') # WIDTH x HEIGHT\n",
    "root.geometry('425x250')\n",
    "root.title(\"Quote Tracker - MODIFY WINDOW\")\n",
    "root.resizable(width=False, height=False)\n",
    "# [2020-01-02]\\\\root.minsize(width=425, height=250)\n",
    "# [2020-01-02]\\\\root.maxsize(width=425, height=750)\n",
    "# Setting Theme\n",
    "style = ThemedStyle(root)\n",
    "style.set_theme(\"radiance\") # radiance, scidblue"
   ]
  },
  {
   "cell_type": "code",
   "execution_count": 3,
   "metadata": {},
   "outputs": [
    {
     "ename": "NameError",
     "evalue": "name 'type_mb_menu' is not defined",
     "output_type": "error",
     "traceback": [
      "\u001b[1;31m-----------------------------------------------------------------------\u001b[0m",
      "\u001b[1;31mNameError\u001b[0m                             Traceback (most recent call last)",
      "\u001b[1;32m<ipython-input-3-1a41be1386f2>\u001b[0m in \u001b[0;36m<module>\u001b[1;34m\u001b[0m\n\u001b[0;32m     12\u001b[0m \u001b[1;31m#type_mb[\"menu\"] = type_mb_menu\u001b[0m\u001b[1;33m\u001b[0m\u001b[1;33m\u001b[0m\u001b[0m\n\u001b[0;32m     13\u001b[0m \u001b[1;33m\u001b[0m\u001b[0m\n\u001b[1;32m---> 14\u001b[1;33m \u001b[0mtype_mb_menu\u001b[0m\u001b[1;33m.\u001b[0m\u001b[0madd_checkbutton\u001b[0m\u001b[1;33m(\u001b[0m \u001b[0mlabel\u001b[0m \u001b[1;33m=\u001b[0m \u001b[1;34m\"web\"\u001b[0m\u001b[1;33m,\u001b[0m \u001b[0mvariable\u001b[0m \u001b[1;33m=\u001b[0m \u001b[0mwebVar\u001b[0m\u001b[1;33m)\u001b[0m\u001b[1;33m\u001b[0m\u001b[0m\n\u001b[0m\u001b[0;32m     15\u001b[0m \u001b[0mtype_mb_menu\u001b[0m\u001b[1;33m.\u001b[0m\u001b[0madd_checkbutton\u001b[0m\u001b[1;33m(\u001b[0m \u001b[0mlabel\u001b[0m \u001b[1;33m=\u001b[0m \u001b[1;34m\"email\"\u001b[0m\u001b[1;33m,\u001b[0m \u001b[0mvariable\u001b[0m \u001b[1;33m=\u001b[0m \u001b[0memailVar\u001b[0m\u001b[1;33m)\u001b[0m\u001b[1;33m\u001b[0m\u001b[0m\n",
      "\u001b[1;31mNameError\u001b[0m: name 'type_mb_menu' is not defined"
     ]
    }
   ],
   "source": [
    "webVar = tk.IntVar()\n",
    "emailVar = tk.IntVar()\n",
    "\n",
    "#type_mb_menu = tk.Menu(master=root, tearoff = 0).pack()\n",
    "\n",
    "type_mb = ttk.Menubutton(master=root, \n",
    "                         text=\"type\",\n",
    "                        ).pack()\n",
    "\n",
    "\n",
    "#OLD#type_mb_menu = tk.Menu(master=type_mb_menu, tearoff = 0)\n",
    "#type_mb[\"menu\"] = type_mb_menu\n",
    "\n",
    "type_mb_menu.add_checkbutton( label = \"web\", variable = webVar)\n",
    "type_mb_menu.add_checkbutton( label = \"email\", variable = emailVar)"
   ]
  },
  {
   "cell_type": "code",
   "execution_count": null,
   "metadata": {},
   "outputs": [],
   "source": [
    "root.config()\n",
    "root.mainloop()"
   ]
  },
  {
   "cell_type": "raw",
   "metadata": {
    "raw_mimetype": "text/x-python"
   },
   "source": [
    "colorchooser.askcolor()"
   ]
  },
  {
   "cell_type": "raw",
   "metadata": {
    "raw_mimetype": "text/x-python"
   },
   "source": [
    "type_mb_menu = tk.Menu(master=type_mb_menu, tearoff = 0)"
   ]
  }
 ],
 "metadata": {
  "celltoolbar": "Raw Cell Format",
  "kernelspec": {
   "display_name": "Python 3",
   "language": "python",
   "name": "python3"
  },
  "language_info": {
   "codemirror_mode": {
    "name": "ipython",
    "version": 3
   },
   "file_extension": ".py",
   "mimetype": "text/x-python",
   "name": "python",
   "nbconvert_exporter": "python",
   "pygments_lexer": "ipython3",
   "version": "3.7.0"
  }
 },
 "nbformat": 4,
 "nbformat_minor": 2
}
