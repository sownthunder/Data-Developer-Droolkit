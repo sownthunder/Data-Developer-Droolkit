{
 "cells": [
  {
   "cell_type": "code",
   "execution_count": 1,
   "metadata": {},
   "outputs": [],
   "source": [
    "import threading\n",
    "# from threading import Thread, Timer"
   ]
  },
  {
   "cell_type": "code",
   "execution_count": 2,
   "metadata": {},
   "outputs": [],
   "source": [
    "def do_some_work(val): #{\n",
    "    print(\"doing some work in thread\")\n",
    "    print(\"echo: {}\".format(val))\n",
    "    return\n",
    "#}"
   ]
  },
  {
   "cell_type": "code",
   "execution_count": 3,
   "metadata": {},
   "outputs": [
    {
     "name": "stdout",
     "output_type": "stream",
     "text": [
      "doing some work in thread\n",
      "echo: text\n"
     ]
    }
   ],
   "source": [
    "val = \"text\"\n",
    "t = threading.Thread(target=do_some_work, args=(val,))\n",
    "t.start()\n",
    "t.join()"
   ]
  },
  {
   "cell_type": "code",
   "execution_count": 4,
   "metadata": {},
   "outputs": [],
   "source": [
    "class FibonacciThread(threading.Thread): #{\n",
    "    def __init__(self, num): #{\n",
    "        threading.Thread.__init__(self)\n",
    "        self.num = num\n",
    "    #}\n",
    "    \n",
    "    def run(self): #{\n",
    "        fib = [0] * (self.num + 1)\n",
    "        fib[0] = 0\n",
    "        fib[1] = 1\n",
    "        for i in range(2, self.num+1): #{\n",
    "            fib[i] = fib[i - 1] + fib[i -2]\n",
    "            print(fib[self.num])\n",
    "        #}\n",
    "    #}\n",
    "#}"
   ]
  },
  {
   "cell_type": "code",
   "execution_count": 5,
   "metadata": {},
   "outputs": [],
   "source": [
    "myFibTask1 = FibonacciThread(9)\n",
    "myFibTask2 = FibonacciThread(12)"
   ]
  },
  {
   "cell_type": "code",
   "execution_count": 6,
   "metadata": {},
   "outputs": [
    {
     "name": "stdout",
     "output_type": "stream",
     "text": [
      "0\n",
      "0\n",
      "0\n",
      "0\n",
      "0\n",
      "0\n",
      "0\n",
      "34\n",
      "0\n",
      "0\n",
      "0\n",
      "0\n",
      "0\n",
      "0\n",
      "0\n",
      "0\n",
      "0\n",
      "0\n",
      "144\n"
     ]
    }
   ],
   "source": [
    "myFibTask1.start()\n",
    "myFibTask2.start()\n",
    "\n",
    "myFibTask1.join()\n",
    "myFibTask2.join()"
   ]
  },
  {
   "cell_type": "code",
   "execution_count": null,
   "metadata": {},
   "outputs": [],
   "source": []
  }
 ],
 "metadata": {
  "kernelspec": {
   "display_name": "Python 3",
   "language": "python",
   "name": "python3"
  },
  "language_info": {
   "codemirror_mode": {
    "name": "ipython",
    "version": 3
   },
   "file_extension": ".py",
   "mimetype": "text/x-python",
   "name": "python",
   "nbconvert_exporter": "python",
   "pygments_lexer": "ipython3",
   "version": "3.7.0"
  }
 },
 "nbformat": 4,
 "nbformat_minor": 2
}
