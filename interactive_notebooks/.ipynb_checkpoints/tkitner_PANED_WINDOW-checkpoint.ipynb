{
 "cells": [
  {
   "cell_type": "code",
   "execution_count": 2,
   "metadata": {},
   "outputs": [],
   "source": [
    "import tkinter as tk\n",
    "from tkinter import ttk, filedialog, messagebox"
   ]
  },
  {
   "cell_type": "raw",
   "metadata": {
    "raw_mimetype": "text/x-python"
   },
   "source": [
    "m1 = tk.PanedWindow()\n",
    "m1.pack(fill = tk.BOTH, expand = 1)\n",
    "\n",
    "left = tk.Entry(master = m1, bd = 5)\n",
    "m1.add(left)\n",
    "\n",
    "m2 = tk.PanedWindow(master = m1, orient = tk.VERTICAL)\n",
    "m1.add(m2)\n",
    "\n",
    "top = tk.Scale(master = m2, orient = tk.HORIZONTAL)\n",
    "m2.add(top)\n",
    "\n",
    "bottom = tk.Button(master = m2, text = \"OK\")\n",
    "m2.add(bottom)\n",
    "\n",
    "tk.mainloop()"
   ]
  },
  {
   "cell_type": "code",
   "execution_count": null,
   "metadata": {},
   "outputs": [],
   "source": [
    "if __name__ == \"__main__\": #{\n",
    "    # LEFT WINDOW\n",
    "    m1 = tk.PanedWindow()\n",
    "    m1.pack(fill = tk.BOTH, expand = 1)\n",
    "    \n",
    "    left = tk.Entry(master = m1, bd = 5)\n",
    "    m1.add(left)\n",
    "    \n",
    "    # RIGHT WINDOW\n",
    "    m2 = tk.PanedWindow(master = m1, orient = tk.VERTICAL)\n",
    "    m1.add(m2)\n",
    "    \n",
    "    top = tk.Scale(master = m2, orient = tk.HORIZONTAL)\n",
    "    m2.add(top)\n",
    "    \n",
    "    bottom = tk.Button(master = m2, text = \"OK\")\n",
    "    m2.add(bottom)\n",
    "    \n",
    "    tk.mainloop()\n",
    "#}"
   ]
  }
 ],
 "metadata": {
  "celltoolbar": "Raw Cell Format",
  "kernelspec": {
   "display_name": "Python 3",
   "language": "python",
   "name": "python3"
  },
  "language_info": {
   "codemirror_mode": {
    "name": "ipython",
    "version": 3
   },
   "file_extension": ".py",
   "mimetype": "text/x-python",
   "name": "python",
   "nbconvert_exporter": "python",
   "pygments_lexer": "ipython3",
   "version": "3.7.0"
  }
 },
 "nbformat": 4,
 "nbformat_minor": 2
}
