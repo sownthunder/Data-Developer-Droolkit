{
 "cells": [
  {
   "cell_type": "code",
   "execution_count": 2,
   "metadata": {},
   "outputs": [],
   "source": [
    "import textwrap"
   ]
  },
  {
   "cell_type": "code",
   "execution_count": 3,
   "metadata": {},
   "outputs": [],
   "source": [
    "from textwrap import wrap"
   ]
  },
  {
   "cell_type": "code",
   "execution_count": 4,
   "metadata": {},
   "outputs": [],
   "source": [
    "text = 'In late summer 1945, guests are gathered for the wedding reception of Don Vito Corleones daughter Connie (Talia Shire) and Carlo Rizzi (Gianni Russo). Vito (Marlon Brando), the head of the Corleone Mafia family, is known to friends and associates as Godfather. He and Tom Hagen (Robert Duvall), the Corleone family lawyer, are hearing requests for favors because, according to Italian tradition, no Sicilian can refuse a request on his daughters wedding day.'"
   ]
  },
  {
   "cell_type": "code",
   "execution_count": 6,
   "metadata": {},
   "outputs": [
    {
     "name": "stdout",
     "output_type": "stream",
     "text": [
      "In late summer 1945, guests\n",
      "are gathered for the wedding\n",
      "reception of Don Vito\n",
      "Corleones daughter Connie\n",
      "(Talia Shire) and Carlo Rizzi\n",
      "(Gianni Russo). Vito (Marlon\n",
      "Brando), the head of the\n",
      "Corleone Mafia family, is\n",
      "known to friends and\n",
      "associates as Godfather. He\n",
      "and Tom Hagen (Robert Duvall),\n",
      "the Corleone family lawyer,\n",
      "are hearing requests for\n",
      "favors because, according to\n",
      "Italian tradition, no Sicilian\n",
      "can refuse a request on his\n",
      "daughters wedding day.\n"
     ]
    }
   ],
   "source": [
    "x = wrap(text, 30)\n",
    "for i in range(len(x)): #{\n",
    "        print(x[i])\n",
    "#}"
   ]
  },
  {
   "cell_type": "code",
   "execution_count": null,
   "metadata": {},
   "outputs": [],
   "source": []
  }
 ],
 "metadata": {
  "kernelspec": {
   "display_name": "Python 3",
   "language": "python",
   "name": "python3"
  },
  "language_info": {
   "codemirror_mode": {
    "name": "ipython",
    "version": 3
   },
   "file_extension": ".py",
   "mimetype": "text/x-python",
   "name": "python",
   "nbconvert_exporter": "python",
   "pygments_lexer": "ipython3",
   "version": "3.7.3"
  }
 },
 "nbformat": 4,
 "nbformat_minor": 2
}
