{
 "cells": [
  {
   "cell_type": "code",
   "execution_count": 1,
   "metadata": {},
   "outputs": [],
   "source": [
    "import os, sys, time\n",
    "from time import sleep\n",
    "import pandas as pd\n",
    "import numpy as np\n",
    "from pandas import Series, DataFrame"
   ]
  },
  {
   "cell_type": "code",
   "execution_count": 3,
   "metadata": {},
   "outputs": [
    {
     "name": "stdout",
     "output_type": "stream",
     "text": [
      "os.stat_result(st_mode=33206, st_ino=281474977738407, st_dev=3960134480, st_nlink=1, st_uid=0, st_gid=0, st_size=269051, st_atime=1568290966, st_mtime=1434561985, st_ctime=1559052555)\n"
     ]
    }
   ],
   "source": [
    "# showing stat information of file\n",
    "stinfo = os.stat(\"F:/APPS/CofA/PST-1810-100MG@NT051068.pdf\")\n",
    "print(stinfo)"
   ]
  },
  {
   "cell_type": "code",
   "execution_count": 4,
   "metadata": {},
   "outputs": [
    {
     "name": "stdout",
     "output_type": "stream",
     "text": [
      "access time of a2.py: 1568290966.2303076\n",
      "modified time of a2.py: 1434561985.3531387\n"
     ]
    }
   ],
   "source": [
    "# Using os.stat to recieve atime and mtime of file\n",
    "print(\"access time of a2.py: %s\" %stinfo.st_atime)\n",
    "print(\"modified time of a2.py: %s\" %stinfo.st_mtime)"
   ]
  },
  {
   "cell_type": "code",
   "execution_count": 5,
   "metadata": {},
   "outputs": [],
   "source": [
    "# modifying atime and mtime\n",
    "os.utime(\"test_time_change.txt\",(1568290966.2303076, 1434561985.3531387))"
   ]
  },
  {
   "cell_type": "code",
   "execution_count": null,
   "metadata": {},
   "outputs": [],
   "source": []
  }
 ],
 "metadata": {
  "kernelspec": {
   "display_name": "Python 3",
   "language": "python",
   "name": "python3"
  },
  "language_info": {
   "codemirror_mode": {
    "name": "ipython",
    "version": 3
   },
   "file_extension": ".py",
   "mimetype": "text/x-python",
   "name": "python",
   "nbconvert_exporter": "python",
   "pygments_lexer": "ipython3",
   "version": "3.7.3"
  }
 },
 "nbformat": 4,
 "nbformat_minor": 2
}
