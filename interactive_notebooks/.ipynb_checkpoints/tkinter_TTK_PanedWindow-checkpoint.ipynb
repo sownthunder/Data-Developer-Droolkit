{
 "cells": [
  {
   "cell_type": "code",
   "execution_count": 2,
   "metadata": {},
   "outputs": [],
   "source": [
    "import os, sys, time\n",
    "from time import sleep\n",
    "import tkinter as tk\n",
    "from tkinter import ttk, filedialog, messagebox"
   ]
  },
  {
   "cell_type": "code",
   "execution_count": 6,
   "metadata": {},
   "outputs": [],
   "source": [
    "if __name__ == \"__main__\": #{\n",
    "    # LEFT WINDOW\n",
    "    m1 = ttk.PanedWindow()\n",
    "    m1.pack(fill = tk.BOTH, expand = 1)\n",
    "    \n",
    "    left = ttk.Entry(master = m1)\n",
    "    m1.add(left)\n",
    "    \n",
    "    # RIGHT WINDOW\n",
    "    m2 = ttk.PanedWindow(master = m1, orient = tk.HORIZONTAL)\n",
    "    m1.add(m2)\n",
    "    \n",
    "    top = ttk.Scale(master = m2, orient = tk.VERTICAL)\n",
    "    m2.add(top)\n",
    "    \n",
    "    bottom = ttk.Button(master = m2, text = \"OK\")\n",
    "    m2.add(bottom)\n",
    "    \n",
    "    tk.mainloop()\n",
    "#}"
   ]
  },
  {
   "cell_type": "code",
   "execution_count": null,
   "metadata": {},
   "outputs": [],
   "source": []
  }
 ],
 "metadata": {
  "kernelspec": {
   "display_name": "Python 3",
   "language": "python",
   "name": "python3"
  },
  "language_info": {
   "codemirror_mode": {
    "name": "ipython",
    "version": 3
   },
   "file_extension": ".py",
   "mimetype": "text/x-python",
   "name": "python",
   "nbconvert_exporter": "python",
   "pygments_lexer": "ipython3",
   "version": "3.7.0"
  }
 },
 "nbformat": 4,
 "nbformat_minor": 2
}
