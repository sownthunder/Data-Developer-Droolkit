{
 "cells": [
  {
   "cell_type": "markdown",
   "metadata": {},
   "source": [
    " # [LINK](http://www.yourownlinux.com/2016/12/python-while-else-loop-break-continue-statement.html)"
   ]
  },
  {
   "cell_type": "markdown",
   "metadata": {},
   "source": [
    "# `break` and `continue` STATEMENTS"
   ]
  },
  {
   "cell_type": "markdown",
   "metadata": {},
   "source": [
    "**Example 1 : Breaking the iteration**"
   ]
  },
  {
   "cell_type": "code",
   "execution_count": null,
   "metadata": {},
   "outputs": [],
   "source": [
    "from keyboard import "
   ]
  },
  {
   "cell_type": "code",
   "execution_count": 4,
   "metadata": {},
   "outputs": [],
   "source": [
    "myNum = 11\n",
    "myVar = 1"
   ]
  },
  {
   "cell_type": "code",
   "execution_count": 5,
   "metadata": {},
   "outputs": [
    {
     "name": "stdout",
     "output_type": "stream",
     "text": [
      "This is iteration #1\n",
      "This is iteration #2\n",
      "This is iteration #3\n",
      "This is iteration #4\n",
      "This is iteration #5\n",
      "This is iteration #6\n",
      "This is the last iteration and we stop here\n"
     ]
    }
   ],
   "source": [
    "while myVar < myNum: #{\n",
    "    print(\"This is iteration #\" + str(myVar))\n",
    "    if myVar == 6: #{\n",
    "        print(\"This is the last iteration and we stop here\")\n",
    "        break\n",
    "    #}\n",
    "    myVar += 1\n",
    "#}"
   ]
  },
  {
   "cell_type": "markdown",
   "metadata": {},
   "source": [
    "In above example, we created a loop which starts with myVar = 1 and is expected to run till myVar reaches myNum. But, with the if condition mentioned, the loop is terminated prematurely when the value of myVar reaches 6."
   ]
  },
  {
   "cell_type": "markdown",
   "metadata": {},
   "source": [
    "**Example 2 : Printing only Even numbers using 'continue' statement**"
   ]
  },
  {
   "cell_type": "code",
   "execution_count": 7,
   "metadata": {},
   "outputs": [
    {
     "name": "stdout",
     "output_type": "stream",
     "text": [
      "This number = 2\n",
      "This number = 4\n",
      "This number = 6\n",
      "This number = 8\n",
      "This number = 10\n",
      "This number = 12\n",
      "This number = 14\n"
     ]
    }
   ],
   "source": [
    "myNum = 15\n",
    "myVar = 1\n",
    "while myVar < myNum : #{\n",
    "    if myVar % 2 != 0 : #{\n",
    "        myVar += 1\n",
    "        continue\n",
    "    #}\n",
    "    print('This number = ' + str(myVar))\n",
    "    myVar += 1\n",
    "#}"
   ]
  },
  {
   "cell_type": "markdown",
   "metadata": {},
   "source": [
    "In above example, we create a loop which is expected to print values from 1 to 14. But, with if statement, we check whether myVar is an Even number, if it is, we print the statement. If myVar is Odd, continue statement is executed, which jumps to the next iteration by skipping the execution of subsequent lines of code. As a result, we get only even numbers printed on the screen."
   ]
  },
  {
   "cell_type": "markdown",
   "metadata": {},
   "source": [
    "# `while-else` LOOPS"
   ]
  },
  {
   "cell_type": "markdown",
   "metadata": {},
   "source": [
    "As in case of for loop, we have an optional else block in case of while loops. It does work in exactly the same way it works in case of for loop. The else block gets executed only when the break statement is not executed. This also means that, absence of break statement will execute the else block once. Please take a look at below examples."
   ]
  },
  {
   "cell_type": "markdown",
   "metadata": {},
   "source": [
    "**EXAMPLE 1**"
   ]
  },
  {
   "cell_type": "code",
   "execution_count": 9,
   "metadata": {},
   "outputs": [
    {
     "name": "stdout",
     "output_type": "stream",
     "text": [
      "This number = 1\n",
      "This number = 2\n",
      "This number = 3\n",
      "This number = 4\n",
      "This number = 5\n",
      "Breaking out of the loop\n"
     ]
    }
   ],
   "source": [
    "# 'break' is executed, hence 'else' will not be executed\n",
    "myNum = 6\n",
    "myVar = 1\n",
    "while myVar <= 10 : #{\n",
    "    if myVar == myNum : #{\n",
    "        print('Breaking out of the loop')\n",
    "        break\n",
    "    print('This number = ' + str(myVar))\n",
    "    myVar += 1\n",
    "    #}\n",
    "#}\n",
    "else: #{\n",
    "    print('Break statement is executed, printing \"else\" block')\n",
    "#}"
   ]
  },
  {
   "cell_type": "code",
   "execution_count": 11,
   "metadata": {},
   "outputs": [
    {
     "name": "stdout",
     "output_type": "stream",
     "text": [
      "0\n",
      "1\n",
      "2\n",
      "3\n",
      "4\n",
      "5\n",
      "6\n",
      "7\n",
      "8\n",
      "9\n",
      "FIN\n"
     ]
    }
   ],
   "source": [
    "count = 0\n",
    "while count < 10: #{\n",
    "    print(count)\n",
    "    count += 1\n",
    "#}\n",
    "else: #{\n",
    "    print(\"FIN\")\n",
    "#}"
   ]
  },
  {
   "cell_type": "code",
   "execution_count": null,
   "metadata": {},
   "outputs": [],
   "source": []
  }
 ],
 "metadata": {
  "kernelspec": {
   "display_name": "Python 3",
   "language": "python",
   "name": "python3"
  },
  "language_info": {
   "codemirror_mode": {
    "name": "ipython",
    "version": 3
   },
   "file_extension": ".py",
   "mimetype": "text/x-python",
   "name": "python",
   "nbconvert_exporter": "python",
   "pygments_lexer": "ipython3",
   "version": "3.7.3"
  }
 },
 "nbformat": 4,
 "nbformat_minor": 2
}
