{
 "cells": [
  {
   "cell_type": "markdown",
   "metadata": {},
   "source": [
    "## 10.1. Keypress events\n",
    "\n",
    "Here’s a program with some new features. Copy it into your workspace, run it. When the turtle window opens, press the arrow keys and make tess move about!"
   ]
  },
  {
   "cell_type": "code",
   "execution_count": null,
   "metadata": {},
   "outputs": [],
   "source": [
    "import turtle\n",
    "\n",
    "turtle.setup(400,500)                # Determine the window size\n",
    "wn = turtle.Screen()                 # Get a reference to the window\n",
    "wn.title(\"Handling keypresses!\")     # Change the window title\n",
    "wn.bgcolor(\"lightgreen\")             # Set the background color\n",
    "tess = turtle.Turtle()               # Create our favorite turtle\n",
    "\n",
    "# The next four functions are our \"event handlers\".\n",
    "def h1(): #{\n",
    "    tess.forward(30)\n",
    "#}\n",
    "\n",
    "def h2(): #{\n",
    "    tess.left(45)\n",
    "#}\n",
    "\n",
    "def h3(): #{\n",
    "    tess.right(45)\n",
    "#}\n",
    "\n",
    "def h4(): #{\n",
    "    wn.bye()                        # Close down the turtle window\n",
    "#}\n",
    "\n",
    "# These lines \"wire up\" keypresses to the handlers we've defined.\n",
    "wn.onkey(h1, \"Up\")\n",
    "wn.onkey(h2, \"Left\")\n",
    "wn.onkey(h3, \"Right\")\n",
    "wn.onkey(h4, \"q\")\n",
    "\n",
    "# Now we need to tell the window to start listening for events,\n",
    "# If any of the keys that we're monitoring is pressed, its\n",
    "# handler will be called.\n",
    "wn.listen()\n",
    "wn.mainloop()"
   ]
  },
  {
   "cell_type": "markdown",
   "metadata": {},
   "source": [
    "## 10.2 Mouse events\n",
    "\n",
    "A mouse event is a bit different from a keypress event because its handler needs two parameters to receive x,y coordinate information telling us where the mouse was when the event occurred."
   ]
  },
  {
   "cell_type": "code",
   "execution_count": null,
   "metadata": {},
   "outputs": [],
   "source": [
    "import turtle\n",
    "\n",
    "turtle.setup(400,500)\n",
    "wn = turtle.Screen()\n",
    "wn.title(\"How to handle mouse clicks on the window!\")\n",
    "wn.bgcolor(\"lightgreen\")\n",
    "\n",
    "tess = turtle.Turtle()\n",
    "tess.color(\"purple\")\n",
    "tess.pensize(3)\n",
    "tess.shape(\"circle\")\n",
    "\n",
    "def h1(x, y): #{\n",
    "    tess.goto(x, y)\n",
    "#}\n",
    "\n",
    "wn.onclick(h1) # Wire up a click on the window.\n",
    "wn.mainloop()"
   ]
  },
  {
   "cell_type": "markdown",
   "metadata": {},
   "source": [
    "There is a new turtle method used at line 14 — this allows us to move the turtle to an absolute coordinate position. (Most of the examples that we’ve seen so far move the turtle relative to where it currently is). So what this program does is move the turtle (and draw a line) to wherever the mouse is clicked. Try it out!\n",
    "If we add this line before line 14, we’ll learn a useful debugging trick too:\n",
    "\n",
    "`wn.title(\"Got click at coords {0}, {1}\".format(x, y))`\n",
    "\n",
    "Because we can easily change the text in the window’s title bar, it is a useful place to display occasional debugging or status information. (Of course, this is not the real purpose of the window title!)\n",
    "\n",
    "But there is more!\n",
    "\n",
    "Not only can the window receive mouse events: individual turtles can also\n",
    "have their own handlers for mouse clicks. The turtle that “receives” the click\n",
    "event will be the one under the mouse. So we’ll create two turtles. Each will bind a handler to its own `onclick` event. And the two handlers can do different\n",
    "things for their turtles."
   ]
  },
  {
   "cell_type": "code",
   "execution_count": null,
   "metadata": {},
   "outputs": [],
   "source": [
    "import turtle\n",
    "\n",
    "turtle.setup(400,500) # Determine the window size\n",
    "wn = turtle.Screen() # Get a reference to the window\n",
    "wn.title(\"Handling mouse clicks!\") # Change the window title\n",
    "wn.bgcolor(\"lightgreen\") # Set the background color\n",
    "tess = turtle.Turtle() # Create two turtles\n",
    "tess.color(\"purple\")\n",
    "alex = turtle.Turtle() # Move them apart\n",
    "alex.color(\"blue\")\n",
    "alex.forward(100)\n",
    "\n",
    "def handler_for_tess(x, y): #{\n",
    "    wn.title(\"Tess clicked at {0}, {1}\".format(x, y))\n",
    "    tess.left(42)\n",
    "    tess.forward(30)\n",
    "#}\n",
    "\n",
    "def handler_for_alex(x, y): #{}\n",
    "    wn.title(\"Alex clicked at {0}, {1}\".format(x, y))\n",
    "    alex.right(84)\n",
    "    alex.forward(50)\n",
    "#}\n",
    "\n",
    "tess.onclick(handler_for_tess)\n",
    "alex.onclick(handler_for_alex)\n",
    "wn.mainloop()"
   ]
  },
  {
   "cell_type": "markdown",
   "metadata": {},
   "source": [
    "## 10.3. Automatic events from a timer\n",
    "\n",
    "Alarm clocks, kitchen timers, and thermonuclear bombs in James Bond movies are set to create an “automatic” event after a certain interval. The turtle module in Python has a timer that can cause an event when its time is up."
   ]
  },
  {
   "cell_type": "code",
   "execution_count": null,
   "metadata": {},
   "outputs": [],
   "source": [
    "import turtle\n",
    "\n",
    "turtle.setup(400,500)\n",
    "wn = turtle.Screen()\n",
    "wn.title(\"Using a timer\")\n",
    "wn.bgcolor(\"lightgreen\")\n",
    "\n",
    "tess = turtle.Turtle()\n",
    "tess.color(\"purple\")\n",
    "tess.pensize(3)\n",
    "\n",
    "def h1(): #{\n",
    "    tess.forward(100)\n",
    "    tess.left(56)\n",
    "    wn.ontimer(h1, 2000)\n",
    "    wn.mainloop()\n",
    "#}"
   ]
  },
  {
   "cell_type": "code",
   "execution_count": null,
   "metadata": {},
   "outputs": [],
   "source": []
  }
 ],
 "metadata": {
  "kernelspec": {
   "display_name": "Python 3",
   "language": "python",
   "name": "python3"
  },
  "language_info": {
   "codemirror_mode": {
    "name": "ipython",
    "version": 3
   },
   "file_extension": ".py",
   "mimetype": "text/x-python",
   "name": "python",
   "nbconvert_exporter": "python",
   "pygments_lexer": "ipython3",
   "version": "3.7.0"
  }
 },
 "nbformat": 4,
 "nbformat_minor": 4
}
