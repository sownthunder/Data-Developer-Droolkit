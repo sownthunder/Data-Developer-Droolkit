{
 "cells": [
  {
   "cell_type": "code",
   "execution_count": 8,
   "metadata": {},
   "outputs": [],
   "source": [
    "#!/usr/bin/python3\n",
    "\n",
    "import threading\n",
    "import time\n",
    "\n",
    "exitFlag = 0"
   ]
  },
  {
   "cell_type": "code",
   "execution_count": 9,
   "metadata": {},
   "outputs": [],
   "source": [
    "class myThread (threading.Thread): #{\n",
    "    \n",
    "    def __init__(self, threadID, name, counter): #{\n",
    "        threading.Thread.__init__(self)\n",
    "        self.threadID = threadID\n",
    "        self.name = name\n",
    "        self.counter = counter\n",
    "    #}\n",
    "    \n",
    "    def run(self): #{\n",
    "        print (\"Starting \" + self.name)\n",
    "        print_time(self.name, self.counter, 5)\n",
    "        print (\"Exiting \" + self.name)\n",
    "    #}\n",
    "#}"
   ]
  },
  {
   "cell_type": "code",
   "execution_count": 10,
   "metadata": {},
   "outputs": [],
   "source": [
    "def print_time(threadName, delay, counter): #{\n",
    "    \n",
    "    while counter: #{\n",
    "        if exitFlag: #{\n",
    "            threadName.exit()\n",
    "        #}\n",
    "        time.sleep(delay)\n",
    "        print (\"%s: %s\" % (threadName, time.ctime(time.time())))\n",
    "        counter -= 1\n",
    "    #}\n",
    "#}"
   ]
  },
  {
   "cell_type": "code",
   "execution_count": 11,
   "metadata": {},
   "outputs": [
    {
     "name": "stdout",
     "output_type": "stream",
     "text": [
      "Starting Thread-1\n",
      "Starting Thread-2\n",
      "Thread-1: Mon Aug  5 09:48:41 2019\n",
      "Thread-1: Mon Aug  5 09:48:42 2019\n",
      "Thread-2: Mon Aug  5 09:48:42 2019\n",
      "Thread-1: Mon Aug  5 09:48:43 2019\n",
      "Thread-1: Mon Aug  5 09:48:44 2019\n",
      "Thread-2: Mon Aug  5 09:48:44 2019\n",
      "Thread-1: Mon Aug  5 09:48:45 2019\n",
      "Exiting Thread-1\n",
      "Thread-2: Mon Aug  5 09:48:46 2019\n",
      "Thread-2: Mon Aug  5 09:48:48 2019\n",
      "Thread-2: Mon Aug  5 09:48:50 2019\n",
      "Exiting Thread-2\n",
      "Exiting Main Thread\n"
     ]
    }
   ],
   "source": [
    "# Create new threads\n",
    "thread1 = myThread(1, \"Thread-1\", 1)\n",
    "thread2 = myThread(2, \"Thread-2\", 2)\n",
    "\n",
    "# Start new Threads\n",
    "thread1.start()\n",
    "thread2.start()\n",
    "thread1.join()\n",
    "thread2.join()\n",
    "print (\"Exiting Main Thread\")"
   ]
  },
  {
   "cell_type": "code",
   "execution_count": 12,
   "metadata": {},
   "outputs": [],
   "source": [
    "from threading import Timer"
   ]
  },
  {
   "cell_type": "code",
   "execution_count": 13,
   "metadata": {},
   "outputs": [
    {
     "name": "stdout",
     "output_type": "stream",
     "text": [
      "HELLO WORLD!\n"
     ]
    }
   ],
   "source": [
    "def hello(): #{\n",
    "    print(\"HELLO WORLD!\")\n",
    "#}\n",
    "\n",
    "t = Timer(30.0, hello)\n",
    "t.start() # After 30 seconds, \"hello, world\" will be printed"
   ]
  },
  {
   "cell_type": "code",
   "execution_count": 14,
   "metadata": {},
   "outputs": [
    {
     "name": "stdout",
     "output_type": "stream",
     "text": [
      "turd sandwich\n",
      "HELLO WORLD!\n"
     ]
    }
   ],
   "source": [
    "t = Timer(30.0, hello)\n",
    "t.start()\n",
    "print(\"turd sandwich\")"
   ]
  },
  {
   "cell_type": "code",
   "execution_count": 15,
   "metadata": {},
   "outputs": [
    {
     "data": {
      "text/plain": [
       "[<_MainThread(MainThread, started 29248)>,\n",
       " <Thread(Thread-4, started daemon 29608)>,\n",
       " <Heartbeat(Thread-5, started daemon 28472)>,\n",
       " <HistorySavingThread(IPythonHistorySavingThread, started 22200)>,\n",
       " <ParentPollerWindows(Thread-3, started daemon 15244)>]"
      ]
     },
     "execution_count": 15,
     "metadata": {},
     "output_type": "execute_result"
    }
   ],
   "source": [
    "threading.enumerate()"
   ]
  },
  {
   "cell_type": "code",
   "execution_count": null,
   "metadata": {},
   "outputs": [],
   "source": []
  }
 ],
 "metadata": {
  "kernelspec": {
   "display_name": "Python 3",
   "language": "python",
   "name": "python3"
  },
  "language_info": {
   "codemirror_mode": {
    "name": "ipython",
    "version": 3
   },
   "file_extension": ".py",
   "mimetype": "text/x-python",
   "name": "python",
   "nbconvert_exporter": "python",
   "pygments_lexer": "ipython3",
   "version": "3.7.3"
  }
 },
 "nbformat": 4,
 "nbformat_minor": 2
}
