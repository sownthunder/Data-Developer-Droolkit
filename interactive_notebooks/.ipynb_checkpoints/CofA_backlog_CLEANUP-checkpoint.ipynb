{
 "cells": [
  {
   "cell_type": "markdown",
   "metadata": {},
   "source": [
    "# `CofA-backlog.txt` CLEANUP\n",
    "---\n",
    "\n",
    "1) import `.txt` via `pandas` into a `DataFrame`\n",
    "\n",
    "2) drop & remove duplicates\n",
    "\n",
    "3) check and make sure every path listed in file **EXISTS** in `F:/APPS/CofA/`\n",
    "\n",
    "4) overwrite & save `.txt` to finalize cleaner list"
   ]
  },
  {
   "cell_type": "code",
   "execution_count": 1,
   "metadata": {},
   "outputs": [],
   "source": [
    "import os, sys, time\n",
    "from time import sleep\n",
    "from pathlib import Path\n",
    "import pandas as pd\n",
    "import numpy as np\n",
    "from pandas import Series, DataFrame"
   ]
  },
  {
   "cell_type": "code",
   "execution_count": 2,
   "metadata": {},
   "outputs": [],
   "source": [
    "in_file = \"CofA-backlog-test.txt\"  # WAS: \"C:/CofA/log/CofA-backlog.txt\""
   ]
  },
  {
   "cell_type": "code",
   "execution_count": 8,
   "metadata": {},
   "outputs": [],
   "source": [
    "in_directory = \"G:/C of A's/#Email Node/\""
   ]
  },
  {
   "cell_type": "code",
   "execution_count": 3,
   "metadata": {},
   "outputs": [],
   "source": [
    "df_backlog = pd.read_csv(in_file, header=None, \n",
    "                         names=['CofA'], dtype=np.str, engine='python')"
   ]
  },
  {
   "cell_type": "code",
   "execution_count": 4,
   "metadata": {},
   "outputs": [
    {
     "data": {
      "text/plain": [
       "3244"
      ]
     },
     "execution_count": 4,
     "metadata": {},
     "output_type": "execute_result"
    }
   ],
   "source": [
    "len(df_backlog)"
   ]
  },
  {
   "cell_type": "code",
   "execution_count": 5,
   "metadata": {},
   "outputs": [],
   "source": [
    "df_dropped = df_backlog.drop_duplicates()"
   ]
  },
  {
   "cell_type": "code",
   "execution_count": 6,
   "metadata": {},
   "outputs": [
    {
     "data": {
      "text/plain": [
       "3244"
      ]
     },
     "execution_count": 6,
     "metadata": {},
     "output_type": "execute_result"
    }
   ],
   "source": [
    "len(df_dropped)"
   ]
  },
  {
   "cell_type": "markdown",
   "metadata": {},
   "source": []
  },
  {
   "cell_type": "markdown",
   "metadata": {},
   "source": [
    "### *get `in_directory` list*"
   ]
  },
  {
   "cell_type": "code",
   "execution_count": 9,
   "metadata": {},
   "outputs": [],
   "source": [
    "check_list = os.listdir(in_directory)"
   ]
  },
  {
   "cell_type": "code",
   "execution_count": 10,
   "metadata": {},
   "outputs": [
    {
     "data": {
      "text/plain": [
       "3243"
      ]
     },
     "execution_count": 10,
     "metadata": {},
     "output_type": "execute_result"
    }
   ],
   "source": [
    "len(check_list)"
   ]
  },
  {
   "cell_type": "code",
   "execution_count": 12,
   "metadata": {},
   "outputs": [],
   "source": [
    "test_frame = pd.DataFrame(check_list, columns=['CofA'], dtype=np.str)"
   ]
  },
  {
   "cell_type": "code",
   "execution_count": 13,
   "metadata": {},
   "outputs": [
    {
     "data": {
      "text/html": [
       "<div>\n",
       "<style scoped>\n",
       "    .dataframe tbody tr th:only-of-type {\n",
       "        vertical-align: middle;\n",
       "    }\n",
       "\n",
       "    .dataframe tbody tr th {\n",
       "        vertical-align: top;\n",
       "    }\n",
       "\n",
       "    .dataframe thead th {\n",
       "        text-align: right;\n",
       "    }\n",
       "</style>\n",
       "<table border=\"1\" class=\"dataframe\">\n",
       "  <thead>\n",
       "    <tr style=\"text-align: right;\">\n",
       "      <th></th>\n",
       "      <th>CofA</th>\n",
       "    </tr>\n",
       "  </thead>\n",
       "  <tbody>\n",
       "    <tr>\n",
       "      <th>0</th>\n",
       "      <td>part 061496-1 CofA Lot# 0006459560.pdf</td>\n",
       "    </tr>\n",
       "    <tr>\n",
       "      <th>1</th>\n",
       "      <td>part 061496-2 CofA Lot# 0006459561.pdf</td>\n",
       "    </tr>\n",
       "    <tr>\n",
       "      <th>2</th>\n",
       "      <td>part 52000 CofA Lot# 0006459935.pdf</td>\n",
       "    </tr>\n",
       "    <tr>\n",
       "      <th>3</th>\n",
       "      <td>part 52000 CofA Lot# 0006464887.pdf</td>\n",
       "    </tr>\n",
       "    <tr>\n",
       "      <th>4</th>\n",
       "      <td>part 52000 CofA Lot# 0006464888.pdf</td>\n",
       "    </tr>\n",
       "    <tr>\n",
       "      <th>5</th>\n",
       "      <td>part 52000 CofA Lot# 0006481325.pdf</td>\n",
       "    </tr>\n",
       "    <tr>\n",
       "      <th>6</th>\n",
       "      <td>part 55400 CofA Lot# 0006459936.pdf</td>\n",
       "    </tr>\n",
       "    <tr>\n",
       "      <th>7</th>\n",
       "      <td>part 55400 CofA Lot# 0006464889.pdf</td>\n",
       "    </tr>\n",
       "    <tr>\n",
       "      <th>8</th>\n",
       "      <td>part 55400 CofA Lot# 0006476615.pdf</td>\n",
       "    </tr>\n",
       "    <tr>\n",
       "      <th>9</th>\n",
       "      <td>part ALD-100-1 CofA Lot# 0006470102.pdf</td>\n",
       "    </tr>\n",
       "    <tr>\n",
       "      <th>10</th>\n",
       "      <td>part ALD-554DA-1 CofA Lot# 0006469075.pdf</td>\n",
       "    </tr>\n",
       "    <tr>\n",
       "      <th>11</th>\n",
       "      <td>part ALD-556X CofA Lot# CT-1415.pdf</td>\n",
       "    </tr>\n",
       "    <tr>\n",
       "      <th>12</th>\n",
       "      <td>part ALD-8315-1 CofA Lot# 0006472762.pdf</td>\n",
       "    </tr>\n",
       "    <tr>\n",
       "      <th>13</th>\n",
       "      <td>part AM-170-1 CofA Lot# 0006459310.pdf</td>\n",
       "    </tr>\n",
       "    <tr>\n",
       "      <th>14</th>\n",
       "      <td>part AM-170-1 CofA Lot# 0006467035.pdf</td>\n",
       "    </tr>\n",
       "  </tbody>\n",
       "</table>\n",
       "</div>"
      ],
      "text/plain": [
       "                                         CofA\n",
       "0      part 061496-1 CofA Lot# 0006459560.pdf\n",
       "1      part 061496-2 CofA Lot# 0006459561.pdf\n",
       "2         part 52000 CofA Lot# 0006459935.pdf\n",
       "3         part 52000 CofA Lot# 0006464887.pdf\n",
       "4         part 52000 CofA Lot# 0006464888.pdf\n",
       "5         part 52000 CofA Lot# 0006481325.pdf\n",
       "6         part 55400 CofA Lot# 0006459936.pdf\n",
       "7         part 55400 CofA Lot# 0006464889.pdf\n",
       "8         part 55400 CofA Lot# 0006476615.pdf\n",
       "9     part ALD-100-1 CofA Lot# 0006470102.pdf\n",
       "10  part ALD-554DA-1 CofA Lot# 0006469075.pdf\n",
       "11        part ALD-556X CofA Lot# CT-1415.pdf\n",
       "12   part ALD-8315-1 CofA Lot# 0006472762.pdf\n",
       "13     part AM-170-1 CofA Lot# 0006459310.pdf\n",
       "14     part AM-170-1 CofA Lot# 0006467035.pdf"
      ]
     },
     "execution_count": 13,
     "metadata": {},
     "output_type": "execute_result"
    }
   ],
   "source": [
    "test_frame.head(15)"
   ]
  },
  {
   "cell_type": "code",
   "execution_count": 14,
   "metadata": {},
   "outputs": [
    {
     "data": {
      "text/html": [
       "<div>\n",
       "<style scoped>\n",
       "    .dataframe tbody tr th:only-of-type {\n",
       "        vertical-align: middle;\n",
       "    }\n",
       "\n",
       "    .dataframe tbody tr th {\n",
       "        vertical-align: top;\n",
       "    }\n",
       "\n",
       "    .dataframe thead th {\n",
       "        text-align: right;\n",
       "    }\n",
       "</style>\n",
       "<table border=\"1\" class=\"dataframe\">\n",
       "  <thead>\n",
       "    <tr style=\"text-align: right;\">\n",
       "      <th></th>\n",
       "      <th>CofA</th>\n",
       "    </tr>\n",
       "  </thead>\n",
       "  <tbody>\n",
       "    <tr>\n",
       "      <th>0</th>\n",
       "      <td>part CUS-17404 CofA Lot# 0006473622.pdf</td>\n",
       "    </tr>\n",
       "    <tr>\n",
       "      <th>1</th>\n",
       "      <td>part CUS-27053 CofA Lot# 0006453288.pdf</td>\n",
       "    </tr>\n",
       "    <tr>\n",
       "      <th>2</th>\n",
       "      <td>part CUS-27005 CofA Lot# 0006453310.pdf</td>\n",
       "    </tr>\n",
       "    <tr>\n",
       "      <th>3</th>\n",
       "      <td>part CUS-27068 CofA Lot# 0006474284.pdf</td>\n",
       "    </tr>\n",
       "    <tr>\n",
       "      <th>4</th>\n",
       "      <td>part CUS-27068 CofA Lot# 0006474285.pdf</td>\n",
       "    </tr>\n",
       "    <tr>\n",
       "      <th>5</th>\n",
       "      <td>part CUS-27084 CofA Lot# 0006468275.pdf</td>\n",
       "    </tr>\n",
       "    <tr>\n",
       "      <th>6</th>\n",
       "      <td>part CUS-27181 CofA Lot# 0006469565.pdf</td>\n",
       "    </tr>\n",
       "    <tr>\n",
       "      <th>7</th>\n",
       "      <td>part CUS-27181 CofA Lot# 0006474724.pdf</td>\n",
       "    </tr>\n",
       "    <tr>\n",
       "      <th>8</th>\n",
       "      <td>part CUS-27279 CofA Lot# 0006465364.pdf</td>\n",
       "    </tr>\n",
       "    <tr>\n",
       "      <th>9</th>\n",
       "      <td>part CUS-27280 CofA Lot# 0006466119.pdf</td>\n",
       "    </tr>\n",
       "    <tr>\n",
       "      <th>10</th>\n",
       "      <td>part CUS-27281 CofA Lot# 0006465365.pdf</td>\n",
       "    </tr>\n",
       "    <tr>\n",
       "      <th>11</th>\n",
       "      <td>part CUS-27698 CofA Lot# 0006453654.pdf</td>\n",
       "    </tr>\n",
       "    <tr>\n",
       "      <th>12</th>\n",
       "      <td>part CUS-27725 CofA Lot# 0006463595.pdf</td>\n",
       "    </tr>\n",
       "    <tr>\n",
       "      <th>13</th>\n",
       "      <td>part CUS-27725 CofA Lot# 0006469992.pdf</td>\n",
       "    </tr>\n",
       "    <tr>\n",
       "      <th>14</th>\n",
       "      <td>part CUS-27735 CofA Lot# 0006453646.pdf</td>\n",
       "    </tr>\n",
       "  </tbody>\n",
       "</table>\n",
       "</div>"
      ],
      "text/plain": [
       "                                       CofA\n",
       "0   part CUS-17404 CofA Lot# 0006473622.pdf\n",
       "1   part CUS-27053 CofA Lot# 0006453288.pdf\n",
       "2   part CUS-27005 CofA Lot# 0006453310.pdf\n",
       "3   part CUS-27068 CofA Lot# 0006474284.pdf\n",
       "4   part CUS-27068 CofA Lot# 0006474285.pdf\n",
       "5   part CUS-27084 CofA Lot# 0006468275.pdf\n",
       "6   part CUS-27181 CofA Lot# 0006469565.pdf\n",
       "7   part CUS-27181 CofA Lot# 0006474724.pdf\n",
       "8   part CUS-27279 CofA Lot# 0006465364.pdf\n",
       "9   part CUS-27280 CofA Lot# 0006466119.pdf\n",
       "10  part CUS-27281 CofA Lot# 0006465365.pdf\n",
       "11  part CUS-27698 CofA Lot# 0006453654.pdf\n",
       "12  part CUS-27725 CofA Lot# 0006463595.pdf\n",
       "13  part CUS-27725 CofA Lot# 0006469992.pdf\n",
       "14  part CUS-27735 CofA Lot# 0006453646.pdf"
      ]
     },
     "execution_count": 14,
     "metadata": {},
     "output_type": "execute_result"
    }
   ],
   "source": [
    "df_dropped.head(15)"
   ]
  },
  {
   "cell_type": "markdown",
   "metadata": {},
   "source": [
    "# *SET_DIFF_DF*"
   ]
  },
  {
   "cell_type": "code",
   "execution_count": 16,
   "metadata": {},
   "outputs": [],
   "source": [
    "set_diff_df = pd.concat([test_frame, df_dropped, df_dropped]).drop_duplicates(keep=False)"
   ]
  },
  {
   "cell_type": "code",
   "execution_count": 17,
   "metadata": {},
   "outputs": [
    {
     "data": {
      "text/plain": [
       "13"
      ]
     },
     "execution_count": 17,
     "metadata": {},
     "output_type": "execute_result"
    }
   ],
   "source": [
    "len(set_diff_df)"
   ]
  },
  {
   "cell_type": "code",
   "execution_count": 18,
   "metadata": {},
   "outputs": [
    {
     "data": {
      "text/html": [
       "<div>\n",
       "<style scoped>\n",
       "    .dataframe tbody tr th:only-of-type {\n",
       "        vertical-align: middle;\n",
       "    }\n",
       "\n",
       "    .dataframe tbody tr th {\n",
       "        vertical-align: top;\n",
       "    }\n",
       "\n",
       "    .dataframe thead th {\n",
       "        text-align: right;\n",
       "    }\n",
       "</style>\n",
       "<table border=\"1\" class=\"dataframe\">\n",
       "  <thead>\n",
       "    <tr style=\"text-align: right;\">\n",
       "      <th></th>\n",
       "      <th>CofA</th>\n",
       "    </tr>\n",
       "  </thead>\n",
       "  <tbody>\n",
       "    <tr>\n",
       "      <th>1050</th>\n",
       "      <td>part FLSA-007 CofA Lot# 0006481767.pdf</td>\n",
       "    </tr>\n",
       "    <tr>\n",
       "      <th>1054</th>\n",
       "      <td>part FLSA-008 CofA Lot# 0006481768.pdf</td>\n",
       "    </tr>\n",
       "    <tr>\n",
       "      <th>1057</th>\n",
       "      <td>part FLSA-009 CofA Lot# 0006481769.pdf</td>\n",
       "    </tr>\n",
       "    <tr>\n",
       "      <th>1621</th>\n",
       "      <td>part N-0000000285 CofA Lot# 0006481938.pdf</td>\n",
       "    </tr>\n",
       "    <tr>\n",
       "      <th>1963</th>\n",
       "      <td>part PST-1620-100MG CofA Lot# 0006482752.pdf</td>\n",
       "    </tr>\n",
       "    <tr>\n",
       "      <th>2077</th>\n",
       "      <td>part PST-1980-10MG CofA Lot# 0006481770.pdf</td>\n",
       "    </tr>\n",
       "    <tr>\n",
       "      <th>2366</th>\n",
       "      <td>part PST-3730-10MG CofA Lot# 0006482751.pdf</td>\n",
       "    </tr>\n",
       "    <tr>\n",
       "      <th>2726</th>\n",
       "      <td>part RCB-031 CofA Lot# 0006481940.pdf</td>\n",
       "    </tr>\n",
       "    <tr>\n",
       "      <th>2748</th>\n",
       "      <td>part RCC-180 CofA Lot# 0006481771.pdf</td>\n",
       "    </tr>\n",
       "    <tr>\n",
       "      <th>2867</th>\n",
       "      <td>part RNA-032 CofA Lot# 0006481941.pdf</td>\n",
       "    </tr>\n",
       "    <tr>\n",
       "      <th>2875</th>\n",
       "      <td>part RNA-034 CofA Lot# 0006481772.pdf</td>\n",
       "    </tr>\n",
       "    <tr>\n",
       "      <th>3023</th>\n",
       "      <td>part STS-110N-1      CofA Lot# 0006476760.pdf</td>\n",
       "    </tr>\n",
       "    <tr>\n",
       "      <th>3242</th>\n",
       "      <td>Thumbs.db</td>\n",
       "    </tr>\n",
       "  </tbody>\n",
       "</table>\n",
       "</div>"
      ],
      "text/plain": [
       "                                               CofA\n",
       "1050         part FLSA-007 CofA Lot# 0006481767.pdf\n",
       "1054         part FLSA-008 CofA Lot# 0006481768.pdf\n",
       "1057         part FLSA-009 CofA Lot# 0006481769.pdf\n",
       "1621     part N-0000000285 CofA Lot# 0006481938.pdf\n",
       "1963   part PST-1620-100MG CofA Lot# 0006482752.pdf\n",
       "2077    part PST-1980-10MG CofA Lot# 0006481770.pdf\n",
       "2366    part PST-3730-10MG CofA Lot# 0006482751.pdf\n",
       "2726          part RCB-031 CofA Lot# 0006481940.pdf\n",
       "2748          part RCC-180 CofA Lot# 0006481771.pdf\n",
       "2867          part RNA-032 CofA Lot# 0006481941.pdf\n",
       "2875          part RNA-034 CofA Lot# 0006481772.pdf\n",
       "3023  part STS-110N-1      CofA Lot# 0006476760.pdf\n",
       "3242                                      Thumbs.db"
      ]
     },
     "execution_count": 18,
     "metadata": {},
     "output_type": "execute_result"
    }
   ],
   "source": [
    "set_diff_df"
   ]
  },
  {
   "cell_type": "code",
   "execution_count": 19,
   "metadata": {},
   "outputs": [],
   "source": [
    "set_diff_df.to_csv(\"set_diff_df.csv\", index=False)"
   ]
  },
  {
   "cell_type": "code",
   "execution_count": null,
   "metadata": {},
   "outputs": [],
   "source": []
  }
 ],
 "metadata": {
  "kernelspec": {
   "display_name": "Python 3",
   "language": "python",
   "name": "python3"
  },
  "language_info": {
   "codemirror_mode": {
    "name": "ipython",
    "version": 3
   },
   "file_extension": ".py",
   "mimetype": "text/x-python",
   "name": "python",
   "nbconvert_exporter": "python",
   "pygments_lexer": "ipython3",
   "version": "3.7.3"
  }
 },
 "nbformat": 4,
 "nbformat_minor": 2
}
