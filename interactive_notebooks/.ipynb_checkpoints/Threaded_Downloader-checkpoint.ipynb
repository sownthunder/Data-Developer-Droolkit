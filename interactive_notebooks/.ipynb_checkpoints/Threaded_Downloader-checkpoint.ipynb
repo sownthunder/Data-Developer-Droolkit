{
 "cells": [
  {
   "cell_type": "code",
   "execution_count": null,
   "metadata": {},
   "outputs": [],
   "source": [
    "# Python 3 version\n",
    "\n",
    "import os\n",
    "import urllib.request\n",
    "\n",
    "from threading import Thread\n",
    "\n",
    "class DownloadThread(Thread): #{\n",
    "    \"\"\"\n",
    "    A threading example that can download a file\n",
    "    \"\"\"\n",
    "\n",
    "    def __init__(self, url, name): #{\n",
    "        \"\"\"Initialize the thread\"\"\"\n",
    "        Thread.__init__(self)\n",
    "        self.name = name\n",
    "        self.url = url\n",
    "    #}\n",
    "\n",
    "    def run(self): #{\n",
    "        \"\"\"Run the thread\"\"\"\n",
    "        handle = urllib.request.urlopen(self.url)\n",
    "        fname = os.path.basename(self.url)\n",
    "        with open(fname, \"wb\") as f_handler: #{\n",
    "            while True: #{\n",
    "                chunk = handle.read(1024)\n",
    "                if not chunk: #{\n",
    "                    break\n",
    "                #}\n",
    "                f_handler.write(chunk)\n",
    "            #}\n",
    "        msg = \"%s has finished downloading %s!\" % (self.name,\n",
    "                                                   self.url)\n",
    "        print(msg)\n",
    "    #}\n",
    "#}\n",
    "def main(urls): #{\n",
    "    \"\"\"\n",
    "    Run the program\n",
    "    \"\"\"\n",
    "    for item, url in enumerate(urls): #{\n",
    "        name = \"Thread %s\" % (item+1)\n",
    "        thread = DownloadThread(url, name)\n",
    "        thread.start()\n",
    "    #}\n",
    "#}\n",
    "if __name__ == \"__main__\": #{\n",
    "    urls = [\"http://www.irs.gov/pub/irs-pdf/f1040.pdf\",\n",
    "            \"http://www.irs.gov/pub/irs-pdf/f1040a.pdf\",\n",
    "            \"http://www.irs.gov/pub/irs-pdf/f1040ez.pdf\",\n",
    "            \"http://www.irs.gov/pub/irs-pdf/f1040es.pdf\",\n",
    "            \"http://www.irs.gov/pub/irs-pdf/f1040sb.pdf\"]\n",
    "    main(urls)\n",
    "#}"
   ]
  }
 ],
 "metadata": {
  "kernelspec": {
   "display_name": "Python 3",
   "language": "python",
   "name": "python3"
  },
  "language_info": {
   "codemirror_mode": {
    "name": "ipython",
    "version": 3
   },
   "file_extension": ".py",
   "mimetype": "text/x-python",
   "name": "python",
   "nbconvert_exporter": "python",
   "pygments_lexer": "ipython3",
   "version": "3.7.0"
  }
 },
 "nbformat": 4,
 "nbformat_minor": 2
}
