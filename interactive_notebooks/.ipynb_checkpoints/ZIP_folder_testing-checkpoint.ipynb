{
 "cells": [
  {
   "cell_type": "code",
   "execution_count": 1,
   "metadata": {},
   "outputs": [],
   "source": [
    "import os, sys, time\n",
    "from time import sleep\n",
    "from pathlib import Path"
   ]
  },
  {
   "cell_type": "code",
   "execution_count": 9,
   "metadata": {},
   "outputs": [],
   "source": [
    "import fnmatch, glob, shutil"
   ]
  },
  {
   "cell_type": "code",
   "execution_count": 2,
   "metadata": {},
   "outputs": [],
   "source": [
    "from zipfile import ZipFile"
   ]
  },
  {
   "cell_type": "code",
   "execution_count": 3,
   "metadata": {},
   "outputs": [],
   "source": [
    "def get_all_file_paths(directory): #{\n",
    "    \n",
    "    # initializing empty file paths list \n",
    "    file_paths = [] \n",
    "    \n",
    "    # crawling through directory and subdirectories \n",
    "    for root, directories, files in os.walk(directory): #{ \n",
    "        for filename in files: #{\n",
    "            # join the two strings in order to form the full filepath. \n",
    "            filepath = os.path.join(root, filename) \n",
    "            file_paths.append(filepath) \n",
    "        #}\n",
    "    #}\n",
    "    \n",
    "    # returning all file paths \n",
    "    return file_paths\n",
    "#}"
   ]
  },
  {
   "cell_type": "markdown",
   "metadata": {},
   "source": [
    "### *make directory for zipping*"
   ]
  },
  {
   "cell_type": "code",
   "execution_count": 4,
   "metadata": {},
   "outputs": [],
   "source": [
    "os.makedirs(\"zip_test\")"
   ]
  },
  {
   "cell_type": "markdown",
   "metadata": {},
   "source": [
    "### *move files FUNCTION*"
   ]
  },
  {
   "cell_type": "code",
   "execution_count": 11,
   "metadata": {},
   "outputs": [],
   "source": [
    "\"\"\"\n",
    "TAKES IN:\n",
    "(1) DIRECTORY TO SCAN\n",
    "(2) destionation directory we are moving files TO\n",
    "\"\"\"\n",
    "def move_files(scan_directory, dst_directory): #{\n",
    "    # create list of dir\n",
    "    file_list = os.listdir(scan_directory)\n",
    "    # ITERATE THRU LIST\n",
    "    for file in file_list: #{\n",
    "        # IF A FILE-TYPE MATCH\n",
    "        if fnmatch.fnmatch(file, \"*.txt\"): #{\n",
    "            # ASSIGN BASE_NAME TO VAR\n",
    "            base_name = os.path.basename(file)\n",
    "            print(\"MATCH!\")\n",
    "            # CREATE FILE_PATH VAR\n",
    "            file_path = Path(file)\n",
    "            # CREATE \"new_path\" VAR FROM PARAMTER\n",
    "            new_path = os.path.join(dst_directory, file)\n",
    "            shutil.move(src=file_path, dst=new_path)\n",
    "        #}\n",
    "        else: #{\n",
    "            print(str(file) + \" NOT A MATCH !!\\n\")\n",
    "        #}\n",
    "    #}\n",
    "#}"
   ]
  },
  {
   "cell_type": "markdown",
   "metadata": {},
   "source": [
    "### *ZIP FOLDER*"
   ]
  },
  {
   "cell_type": "code",
   "execution_count": 13,
   "metadata": {},
   "outputs": [],
   "source": [
    "def main(): #{\n",
    "    # path to folder which needs to be zipped\n",
    "    directory = './zip_test'  # WAS: './python_files'\n",
    "    \n",
    "    # calling function to get all file paths in the directory \n",
    "    file_paths = get_all_file_paths(directory) \n",
    "    \n",
    "    # CALL MOVE FILE FUNCTION\n",
    "    move_files(scan_directory=\".\", dst_directory=directory)\n",
    "    \n",
    "    # printing the list of all files to be zipped \n",
    "    print('Following files will be zipped:') \n",
    "    for file_name in file_paths: #{\n",
    "        print(file_name) \n",
    "    #}\n",
    "    \n",
    "    # writing files to a zipfile \n",
    "    with ZipFile('my_zip_test.zip','w') as zip: #{\n",
    "        # writing each file one by one \n",
    "        for file in file_paths: #{\n",
    "            zip.write(file) \n",
    "        #}\n",
    "    #}\n",
    "    \n",
    "    print(\"ALL FILES ZIPPED SUCCESSFULLY!\")\n",
    "#}"
   ]
  },
  {
   "cell_type": "code",
   "execution_count": 15,
   "metadata": {},
   "outputs": [
    {
     "name": "stdout",
     "output_type": "stream",
     "text": [
      ".ipynb_checkpoints NOT A MATCH !!\n",
      "\n",
      "at_exit.ipynb NOT A MATCH !!\n",
      "\n",
      "codecs_cp1252.ipynb NOT A MATCH !!\n",
      "\n",
      "CofA-backlog-test.docx NOT A MATCH !!\n",
      "\n",
      "CofA_backlog_CLEANUP.ipynb NOT A MATCH !!\n",
      "\n",
      "csv_append_to.ipynb NOT A MATCH !!\n",
      "\n",
      "custom.css NOT A MATCH !!\n",
      "\n",
      "GAMES NOT A MATCH !!\n",
      "\n",
      "global_variable_scope.ipynb NOT A MATCH !!\n",
      "\n",
      "google_drive_downloader.ipynb NOT A MATCH !!\n",
      "\n",
      "GUI NOT A MATCH !!\n",
      "\n",
      "KEYBOARD_keylogger_test.ipynb NOT A MATCH !!\n",
      "\n",
      "keyboard_module.ipynb NOT A MATCH !!\n",
      "\n",
      "mod_function.ipynb NOT A MATCH !!\n",
      "\n",
      "my_zip_test.zip NOT A MATCH !!\n",
      "\n",
      "os_dirname_test.ipynb NOT A MATCH !!\n",
      "\n",
      "os_stat.ipynb NOT A MATCH !!\n",
      "\n",
      "process_PDF.ipynb NOT A MATCH !!\n",
      "\n",
      "pull_specifc_dates_from_TIMESTAMPS.ipynb NOT A MATCH !!\n",
      "\n",
      "pycharm_test_book.ipynb NOT A MATCH !!\n",
      "\n",
      "pynput_guide_bot.ipynb NOT A MATCH !!\n",
      "\n",
      "queue_test_LIFO.ipynb NOT A MATCH !!\n",
      "\n",
      "raise_exception_testing.ipynb NOT A MATCH !!\n",
      "\n",
      "sched_test_2.ipynb NOT A MATCH !!\n",
      "\n",
      "set_diff_df.csv NOT A MATCH !!\n",
      "\n",
      "set_diff_df.xlsx NOT A MATCH !!\n",
      "\n",
      "signals.ipynb NOT A MATCH !!\n",
      "\n",
      "SMTP_send_email.ipynb NOT A MATCH !!\n",
      "\n",
      "string_replace.ipynb NOT A MATCH !!\n",
      "\n",
      "testing_try_else_scope.ipynb NOT A MATCH !!\n",
      "\n",
      "MATCH!\n",
      "MATCH!\n",
      "test_class_call_instance.ipynb NOT A MATCH !!\n",
      "\n",
      "textwrap_wrap.ipynb NOT A MATCH !!\n",
      "\n",
      "thread_implementation.ipynb NOT A MATCH !!\n",
      "\n",
      "tuple_testing.ipynb NOT A MATCH !!\n",
      "\n",
      "WATCHDOG_monitor_dir.ipynb NOT A MATCH !!\n",
      "\n",
      "while-else-loops.ipynb NOT A MATCH !!\n",
      "\n",
      "ZIP_folder_testing.ipynb NOT A MATCH !!\n",
      "\n",
      "zip_test NOT A MATCH !!\n",
      "\n",
      "_PDOC_Python_Snippets.ipynb NOT A MATCH !!\n",
      "\n",
      "Following files will be zipped:\n",
      "./zip_test\\CofA-backlog-test.txt\n",
      "./zip_test\\test_1.txt\n",
      "./zip_test\\test_2.txt\n",
      "./zip_test\\test_3.txt\n",
      "./zip_test\\test_5.txt\n",
      "./zip_test\\test_6.txt\n",
      "ALL FILES ZIPPED SUCCESSFULLY!\n"
     ]
    }
   ],
   "source": [
    "if __name__ == \"__main__\": #{\n",
    "    main()\n",
    "#}"
   ]
  },
  {
   "cell_type": "code",
   "execution_count": null,
   "metadata": {},
   "outputs": [],
   "source": []
  }
 ],
 "metadata": {
  "kernelspec": {
   "display_name": "Python 3",
   "language": "python",
   "name": "python3"
  },
  "language_info": {
   "codemirror_mode": {
    "name": "ipython",
    "version": 3
   },
   "file_extension": ".py",
   "mimetype": "text/x-python",
   "name": "python",
   "nbconvert_exporter": "python",
   "pygments_lexer": "ipython3",
   "version": "3.7.3"
  }
 },
 "nbformat": 4,
 "nbformat_minor": 2
}
