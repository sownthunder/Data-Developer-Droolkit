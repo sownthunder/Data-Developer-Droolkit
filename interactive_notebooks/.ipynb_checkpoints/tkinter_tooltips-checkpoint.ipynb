{
 "cells": [
  {
   "cell_type": "code",
   "execution_count": 3,
   "metadata": {},
   "outputs": [],
   "source": [
    "class ToolTip(object): #{\n",
    "    \n",
    "    def  init (self, widget): #{\n",
    "        self.widget = widget \n",
    "        self.tipwindow = None \n",
    "        self.id = None\n",
    "        self.x = self.y = 0\n",
    "    #}\n",
    "    \n",
    "    def showtip(self, text): #{\n",
    "        \"Display text in tooltip window\" \n",
    "        self.text = text\n",
    "        if self.tipwindow or not self.text: \n",
    "            return\n",
    "        x, y, _cx, cy = self.widget.bbox(\"insert\") \n",
    "        x = x + self.widget.winfo_rootx() + 27\n",
    "        y = y + cy + self.widget.winfo_rooty() +27 \n",
    "        self.tipwindow = tw = tk.Toplevel(self.widget) \n",
    "        tw.wm_overrideredirect(1) \n",
    "        tw.wm_geometry(\"+%d+%d\" % (x, y))\n",
    "        \n",
    "        label = tk.Label(tw, text=self.text, justify=tk.LEFT, \n",
    "                         background=\"#ffffe0\", relief=tk.SOLID, borderwidth=1,\n",
    "                         font=(\"tahoma\", \"8\", \"normal\")) \n",
    "        label.pack(ipadx=1)\n",
    "    #}\n",
    "    \n",
    "    def hidetip(self): #{\n",
    "        tw = self.tipwindow \n",
    "        self.tipwindow = None \n",
    "        if tw: #{\n",
    "            tw.destroy()\n",
    "        #}\n",
    "#===========================================================\n",
    "def createToolTip( widget, text): #{\n",
    "    toolTip = ToolTip(widget)\n",
    "    def enter(event): #{\n",
    "        toolTip.showtip(text)\n",
    "    #}\n",
    "    def leave(event): #{\n",
    "        toolTip.hidetip()\n",
    "    #}\n",
    "    widget.bind('<Enter>', enter)\n",
    "    widget.bind('<Leave>', leave)\n",
    "#}"
   ]
  },
  {
   "cell_type": "code",
   "execution_count": null,
   "metadata": {},
   "outputs": [],
   "source": []
  }
 ],
 "metadata": {
  "kernelspec": {
   "display_name": "Python 3",
   "language": "python",
   "name": "python3"
  },
  "language_info": {
   "codemirror_mode": {
    "name": "ipython",
    "version": 3
   },
   "file_extension": ".py",
   "mimetype": "text/x-python",
   "name": "python",
   "nbconvert_exporter": "python",
   "pygments_lexer": "ipython3",
   "version": "3.7.0"
  }
 },
 "nbformat": 4,
 "nbformat_minor": 2
}
