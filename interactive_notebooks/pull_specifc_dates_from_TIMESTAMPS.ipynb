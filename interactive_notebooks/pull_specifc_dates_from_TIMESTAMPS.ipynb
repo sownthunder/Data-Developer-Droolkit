{
 "cells": [
  {
   "cell_type": "code",
   "execution_count": 1,
   "metadata": {},
   "outputs": [],
   "source": [
    "import pandas as pd\n",
    "import numpy as np\n",
    "import datetime"
   ]
  },
  {
   "cell_type": "code",
   "execution_count": 58,
   "metadata": {},
   "outputs": [],
   "source": [
    "\"\"\"\n",
    "TAKES \n",
    "\"\"\"\n",
    "def run_date_check(the_start_time, the_run_time, the_time_now): #{\n",
    "    start = pd.Timestamp(the_start_time)\n",
    "    print(\"START TIME == \" + str(start))\n",
    "    checker = pd.Timedelta(value=int(the_run_time), unit=\"hours\")\n",
    "    print(\"CHECKING AGAINST == \" + str(checker))\n",
    "    now = pd.Timestamp(the_time_now)\n",
    "    print(\"TIME RIGHT MEOW == \" + str(now) + \"\\n\")\n",
    "    # TIME CHECK\n",
    "    time_check = pd.Timestamp(the_start_time + checker)\n",
    "    print(\"TIME WE WANT TO KNOW IF PASSED OR NOT: \\n <\" + str(time_check) + \">\\n\")\n",
    "    # CREATE TIME-DIFFERENCE VARIABLE\n",
    "    time_diff = pd.Timedelta(now - time_check)\n",
    "    ## CHECK DIFFERENCE BETWEEN TWO TIMES\n",
    "    print(str(time_diff))\n",
    "    return\n",
    "#}"
   ]
  },
  {
   "cell_type": "code",
   "execution_count": null,
   "metadata": {
    "raw_mimetype": "text/x-python"
   },
   "outputs": [],
   "source": [
    "ts_meow = pd.Timestamp.now()\n",
    "print(ts_meow)"
   ]
  },
  {
   "cell_type": "code",
   "execution_count": 60,
   "metadata": {},
   "outputs": [
    {
     "name": "stdout",
     "output_type": "stream",
     "text": [
      "2019-11-06 06:00:00\n"
     ]
    }
   ],
   "source": [
    "ts_morning = pd.Timestamp(year=2019, month=11, day=6, hour=6)\n",
    "print(str(ts_morning))"
   ]
  },
  {
   "cell_type": "code",
   "execution_count": 61,
   "metadata": {},
   "outputs": [
    {
     "name": "stdout",
     "output_type": "stream",
     "text": [
      "START TIME == 2019-11-06 06:00:00\n",
      "CHECKING AGAINST == 0 days 12:00:00\n",
      "TIME RIGHT MEOW == 2019-08-06 14:59:56.865707\n",
      "\n",
      "TIME WE WANT TO KNOW IF PASSED OR NOT: \n",
      " <2019-11-06 18:00:00>\n",
      "\n",
      "-93 days +20:59:56.865707\n"
     ]
    }
   ],
   "source": [
    "run_date_check(ts_morning, 12, ts_meow)"
   ]
  },
  {
   "cell_type": "markdown",
   "metadata": {},
   "source": [
    "---"
   ]
  },
  {
   "cell_type": "code",
   "execution_count": 66,
   "metadata": {},
   "outputs": [],
   "source": [
    "def duration_check(time_start, time_end): #{\n",
    "    t_start = pd.Timestamp(time_start)\n",
    "    t_end = pd.Timestamp(time_end)\n",
    "    t_duration = pd.Timedelta(t_end - t_start)\n",
    "    print(\"DURATION == \" + str(t_duration))\n",
    "    return\n",
    "#}"
   ]
  },
  {
   "cell_type": "code",
   "execution_count": 63,
   "metadata": {},
   "outputs": [
    {
     "name": "stdout",
     "output_type": "stream",
     "text": [
      "0 days 00:01:00.004061\n"
     ]
    }
   ],
   "source": [
    "t_start = pd.Timestamp(\"2019-08-06 15:51:16.265895\")\n",
    "t_end = pd.Timestamp(\"2019-08-06 15:52:16.269956\")\n",
    "print(t_end - t_start)"
   ]
  },
  {
   "cell_type": "code",
   "execution_count": 64,
   "metadata": {},
   "outputs": [
    {
     "name": "stdout",
     "output_type": "stream",
     "text": [
      "0 days 00:02:09.005673\n"
     ]
    }
   ],
   "source": [
    "t_start = pd.Timestamp(\"2019-08-06 16:10:58.571850\")\n",
    "t_end = pd.Timestamp(\"2019-08-06 16:13:07.577523\")\n",
    "print(t_end - t_start)"
   ]
  },
  {
   "cell_type": "code",
   "execution_count": 65,
   "metadata": {},
   "outputs": [
    {
     "name": "stdout",
     "output_type": "stream",
     "text": [
      "0 days 00:05:00.010865\n"
     ]
    }
   ],
   "source": [
    "t_start = pd.Timestamp(\"2019-08-06 16:16:51.193532\")\n",
    "t_end = pd.Timestamp(\"2019-08-06 16:21:51.204397\")\n",
    "print(t_end - t_start)"
   ]
  },
  {
   "cell_type": "code",
   "execution_count": 2,
   "metadata": {},
   "outputs": [
    {
     "name": "stdout",
     "output_type": "stream",
     "text": [
      "0 days 00:12:00.024929\n"
     ]
    }
   ],
   "source": [
    "t_start = pd.Timestamp(\"2019-08-06 16:33:48.557241\")\n",
    "t_end = pd.Timestamp(\"2019-08-06 16:45:48.582170\")\n",
    "print(t_end - t_start)"
   ]
  },
  {
   "cell_type": "code",
   "execution_count": 67,
   "metadata": {},
   "outputs": [
    {
     "name": "stdout",
     "output_type": "stream",
     "text": [
      "DURATION == 0 days 00:08:00.017594\n"
     ]
    }
   ],
   "source": [
    "duration_check(time_start=\"2019-08-06 16:22:43.975514\",\n",
    "              time_end=\"2019-08-06 16:30:43.993108\")"
   ]
  },
  {
   "cell_type": "markdown",
   "metadata": {},
   "source": [
    "# the rest below is garbage..."
   ]
  },
  {
   "cell_type": "code",
   "execution_count": null,
   "metadata": {},
   "outputs": [],
   "source": []
  },
  {
   "cell_type": "code",
   "execution_count": null,
   "metadata": {},
   "outputs": [],
   "source": []
  },
  {
   "cell_type": "code",
   "execution_count": null,
   "metadata": {},
   "outputs": [],
   "source": []
  },
  {
   "cell_type": "code",
   "execution_count": null,
   "metadata": {},
   "outputs": [],
   "source": []
  },
  {
   "cell_type": "code",
   "execution_count": 2,
   "metadata": {},
   "outputs": [
    {
     "name": "stdout",
     "output_type": "stream",
     "text": [
      "           date_given\n",
      "0 2012-01-01 12:00:00\n",
      "1 2012-01-02 12:00:00\n",
      "2 2012-01-03 12:00:00\n",
      "3 2012-01-04 12:00:00\n",
      "4 2012-01-05 12:00:00\n",
      "5 2012-01-06 12:00:00\n",
      "6 2012-01-07 12:00:00\n"
     ]
    }
   ],
   "source": [
    "date1 = pd.Series(pd.date_range('2012-1-1 12:00:00', periods=7, freq='D'))\n",
    "df = pd.DataFrame(dict(date_given=date1))\n",
    "print(df)"
   ]
  },
  {
   "cell_type": "code",
   "execution_count": 3,
   "metadata": {},
   "outputs": [],
   "source": [
    "timestamp_now = pd.Timestamp.now()"
   ]
  },
  {
   "cell_type": "code",
   "execution_count": 4,
   "metadata": {},
   "outputs": [
    {
     "name": "stdout",
     "output_type": "stream",
     "text": [
      "2019-08-06 14:37:00.950167\n"
     ]
    }
   ],
   "source": [
    "print(timestamp_now)"
   ]
  },
  {
   "cell_type": "code",
   "execution_count": 5,
   "metadata": {},
   "outputs": [
    {
     "ename": "AttributeError",
     "evalue": "'Timestamp' object has no attribute 'dt'",
     "output_type": "error",
     "traceback": [
      "\u001b[1;31m---------------------------------------------------------------------------\u001b[0m",
      "\u001b[1;31mAttributeError\u001b[0m                            Traceback (most recent call last)",
      "\u001b[1;32m<ipython-input-5-c25c56763f4c>\u001b[0m in \u001b[0;36m<module>\u001b[1;34m\u001b[0m\n\u001b[1;32m----> 1\u001b[1;33m \u001b[0mprint\u001b[0m\u001b[1;33m(\u001b[0m\u001b[0mtimestamp_now\u001b[0m\u001b[1;33m.\u001b[0m\u001b[0mdt\u001b[0m\u001b[1;33m.\u001b[0m\u001b[0mhour\u001b[0m\u001b[1;33m)\u001b[0m\u001b[1;33m\u001b[0m\u001b[1;33m\u001b[0m\u001b[0m\n\u001b[0m",
      "\u001b[1;31mAttributeError\u001b[0m: 'Timestamp' object has no attribute 'dt'"
     ]
    }
   ],
   "source": [
    "print(timestamp_now.dt.hour)"
   ]
  },
  {
   "cell_type": "code",
   "execution_count": 7,
   "metadata": {},
   "outputs": [
    {
     "name": "stdout",
     "output_type": "stream",
     "text": [
      "2019-08-06\n"
     ]
    }
   ],
   "source": [
    "timestamp_str = str(timestamp_now)\n",
    "timestamp_str = timestamp_str[:10]\n",
    "print(timestamp_str)"
   ]
  },
  {
   "cell_type": "code",
   "execution_count": 8,
   "metadata": {},
   "outputs": [],
   "source": [
    "test_stamp = pd.Timestamp(timestamp_str)"
   ]
  },
  {
   "cell_type": "code",
   "execution_count": 9,
   "metadata": {},
   "outputs": [
    {
     "data": {
      "text/plain": [
       "Timestamp('2019-08-06 00:00:00')"
      ]
     },
     "execution_count": 9,
     "metadata": {},
     "output_type": "execute_result"
    }
   ],
   "source": [
    "test_stamp"
   ]
  },
  {
   "cell_type": "code",
   "execution_count": 15,
   "metadata": {},
   "outputs": [],
   "source": [
    "delta_workday = pd.Timedelta(value=7, unit=\"hours\")"
   ]
  },
  {
   "cell_type": "code",
   "execution_count": 16,
   "metadata": {},
   "outputs": [
    {
     "name": "stdout",
     "output_type": "stream",
     "text": [
      "0 days 07:00:00\n"
     ]
    }
   ],
   "source": [
    "print(delta_workday)"
   ]
  },
  {
   "cell_type": "markdown",
   "metadata": {},
   "source": [
    "### `timestamp_start`"
   ]
  },
  {
   "cell_type": "code",
   "execution_count": 17,
   "metadata": {},
   "outputs": [],
   "source": [
    "timestamp_start = pd.Timestamp.now()"
   ]
  },
  {
   "cell_type": "code",
   "execution_count": 18,
   "metadata": {},
   "outputs": [],
   "source": [
    "sbtr_delta = timestamp_start - delta_workday"
   ]
  },
  {
   "cell_type": "code",
   "execution_count": 19,
   "metadata": {},
   "outputs": [
    {
     "name": "stdout",
     "output_type": "stream",
     "text": [
      "2019-08-06 07:42:53.728862\n"
     ]
    }
   ],
   "source": [
    "print(sbtr_delta)"
   ]
  },
  {
   "cell_type": "code",
   "execution_count": null,
   "metadata": {},
   "outputs": [],
   "source": []
  }
 ],
 "metadata": {
  "celltoolbar": "Raw Cell Format",
  "kernelspec": {
   "display_name": "Python 3",
   "language": "python",
   "name": "python3"
  },
  "language_info": {
   "codemirror_mode": {
    "name": "ipython",
    "version": 3
   },
   "file_extension": ".py",
   "mimetype": "text/x-python",
   "name": "python",
   "nbconvert_exporter": "python",
   "pygments_lexer": "ipython3",
   "version": "3.7.3"
  }
 },
 "nbformat": 4,
 "nbformat_minor": 2
}
