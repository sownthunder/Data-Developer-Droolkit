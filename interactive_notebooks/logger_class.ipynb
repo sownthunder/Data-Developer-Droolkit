{
 "cells": [
  {
   "cell_type": "code",
   "execution_count": 4,
   "metadata": {},
   "outputs": [],
   "source": [
    "import os, sys, time\n",
    "from time import sleep\n",
    "import logging"
   ]
  },
  {
   "cell_type": "code",
   "execution_count": 5,
   "metadata": {},
   "outputs": [],
   "source": [
    "class Logger: #{\n",
    "    \n",
    "    def __init__(self): #{\n",
    "        # Initiating the logger object\n",
    "        self.logger = logging.getLogger(__name__)\n",
    "        \n",
    "        # Set the level of the logger. This is SUPER USEFUL since it enables you to decide what to save in the logs file.\n",
    "        # Explanation regarding the logger levels can be found here - https://docs.python.org/3/howto/logging.html\n",
    "        self.logger.setLevel(logging.DEBUG)\n",
    "        \n",
    "        # Create the logs.log file\n",
    "        handler = logging.FileHandler('logs.log')\n",
    "        \n",
    "        # Format the logs structure so that every line would include the time, name level name and log message\n",
    "        formatter = logging.Formatter('%(asctime)s - %(name)s - %(levelname)s - %(message)s')\n",
    "        handler.setFormatter(formatter)\n",
    "        \n",
    "        # Adding the format handler\n",
    "        self.logger.addHandler(handler)\n",
    "        \n",
    "        # and printing the logs to the console as well\n",
    "        self.logger.addHandler(logging.StreamHandler(sys.stdout))\n",
    "        \n",
    "    #}\n",
    "    \n",
    "#}"
   ]
  },
  {
   "cell_type": "code",
   "execution_count": 6,
   "metadata": {},
   "outputs": [
    {
     "name": "stdout",
     "output_type": "stream",
     "text": [
      "This log's level is 'DEBUG'\n",
      "This log's level is 'info'\n",
      "This log's level is 'error'\n"
     ]
    }
   ],
   "source": [
    "# Usage Example:\n",
    "logger = Logger().logger\n",
    "logger.debug(\"This log's level is 'DEBUG'\")\n",
    "logger.info(\"This log's level is 'info'\")\n",
    "logger.error(\"This log's level is 'error'\")"
   ]
  },
  {
   "cell_type": "code",
   "execution_count": null,
   "metadata": {},
   "outputs": [],
   "source": []
  }
 ],
 "metadata": {
  "kernelspec": {
   "display_name": "Python 3",
   "language": "python",
   "name": "python3"
  },
  "language_info": {
   "codemirror_mode": {
    "name": "ipython",
    "version": 3
   },
   "file_extension": ".py",
   "mimetype": "text/x-python",
   "name": "python",
   "nbconvert_exporter": "python",
   "pygments_lexer": "ipython3",
   "version": "3.7.0"
  }
 },
 "nbformat": 4,
 "nbformat_minor": 2
}
