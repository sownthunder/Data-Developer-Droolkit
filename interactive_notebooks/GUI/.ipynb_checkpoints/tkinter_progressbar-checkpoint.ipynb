{
 "cells": [
  {
   "cell_type": "code",
   "execution_count": 1,
   "metadata": {},
   "outputs": [],
   "source": [
    "import tkinter as tk\n",
    "from tkinter import ttk"
   ]
  },
  {
   "cell_type": "code",
   "execution_count": 8,
   "metadata": {},
   "outputs": [],
   "source": [
    "def start_bar(): #{\n",
    "    global p \n",
    "    p.start(interval=50)\n",
    "#}"
   ]
  },
  {
   "cell_type": "code",
   "execution_count": 9,
   "metadata": {},
   "outputs": [],
   "source": [
    "global p"
   ]
  },
  {
   "cell_type": "code",
   "execution_count": 15,
   "metadata": {},
   "outputs": [],
   "source": [
    "root = tk.Tk()\n",
    "root.title(\"progress_bar\")\n",
    "root.geometry('400x400+250+250')\n",
    "\n",
    "p = ttk.Progressbar(master=root, \n",
    "                    orient=tk.HORIZONTAL, \n",
    "                    length=200, \n",
    "                    mode='determinate')\n",
    "\n",
    "p.pack(expand=True, fill=tk.X, anchor=tk.CENTER)\n",
    "\n",
    "# BUTTON\n",
    "b1 = tk.Button(master=root, command=start_bar, text=\"START_BAR\", width=50)\n",
    "b1.pack(expand=True, fill=tk.BOTH, anchor=tk.CENTER)\n",
    "\n",
    "root.config()\n",
    "root.mainloop()"
   ]
  },
  {
   "cell_type": "code",
   "execution_count": null,
   "metadata": {},
   "outputs": [],
   "source": []
  }
 ],
 "metadata": {
  "kernelspec": {
   "display_name": "Python 3",
   "language": "python",
   "name": "python3"
  },
  "language_info": {
   "codemirror_mode": {
    "name": "ipython",
    "version": 3
   },
   "file_extension": ".py",
   "mimetype": "text/x-python",
   "name": "python",
   "nbconvert_exporter": "python",
   "pygments_lexer": "ipython3",
   "version": "3.7.3"
  }
 },
 "nbformat": 4,
 "nbformat_minor": 2
}
