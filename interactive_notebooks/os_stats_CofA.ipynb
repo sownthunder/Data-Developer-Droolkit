{
 "cells": [
  {
   "cell_type": "code",
   "execution_count": 1,
   "metadata": {},
   "outputs": [],
   "source": [
    "import os, sys, time\n",
    "from time import sleep\n",
    "from pathlib import Path"
   ]
  },
  {
   "cell_type": "code",
   "execution_count": 11,
   "metadata": {},
   "outputs": [],
   "source": [
    "import pandas as pd\n",
    "import numpy as np\n",
    "from pandas import Series, DataFrame"
   ]
  },
  {
   "cell_type": "code",
   "execution_count": 2,
   "metadata": {},
   "outputs": [],
   "source": [
    "\"\"\"\n",
    "TAKES IN:\n",
    "(1) path to pdf \n",
    "RETURNS: \n",
    "the STRING of that PDF to match the naming convention\n",
    "in G:/C of A's/#Email Node/ from F:/APPS/CofA/\n",
    "\"\"\"\n",
    "def generate_naming_convention(the_pdf_path): #{\n",
    "    # get/set filename to variable\n",
    "    the_file_name = str(os.path.basename(the_pdf_path))\n",
    "    # PERFORM STRING OPERATIONS\n",
    "    #################################\n",
    "    idx_mrk = the_file_name.rfind('@', 0, len(the_file_name))\n",
    "    half1 = str(the_file_name[0:idx_mrk])\n",
    "    half2 = str(the_file_name[idx_mrk + 1:len(the_file_name)])\n",
    "    print(\"\\t[*************************]\")\n",
    "    print(\"\\t|>>> HALF 1 == \" + half1)\n",
    "    print(\"\\t|>>> HALF 2 == \" + half2)\n",
    "    #  setup NEW FILE NAME (for copy)\n",
    "    new_name = \"part \"\n",
    "    new_name += str(half1)\n",
    "    new_name += \" CofA Lot# \"\n",
    "    new_name += str(half2)\n",
    "    print(\"\\t|>>> NEW NAME == \" + str(new_name))\n",
    "    print(\"\\t[*************************]\")\n",
    "    #################################\n",
    "    return str(new_name)\n",
    "#}"
   ]
  },
  {
   "cell_type": "code",
   "execution_count": 3,
   "metadata": {},
   "outputs": [],
   "source": [
    "in_file = \"C:/Temp/Inbound/ICP-079@0006479330.pdf\""
   ]
  },
  {
   "cell_type": "code",
   "execution_count": 6,
   "metadata": {},
   "outputs": [
    {
     "name": "stdout",
     "output_type": "stream",
     "text": [
      "ICP-079@0006479330.pdf\n"
     ]
    }
   ],
   "source": [
    "base_name = os.path.basename(in_file)\n",
    "print(base_name)"
   ]
  },
  {
   "cell_type": "code",
   "execution_count": 4,
   "metadata": {},
   "outputs": [
    {
     "name": "stdout",
     "output_type": "stream",
     "text": [
      "\t[*************************]\n",
      "\t|>>> HALF 1 == ICP-079\n",
      "\t|>>> HALF 2 == 0006479330.pdf\n",
      "\t|>>> NEW NAME == part ICP-079 CofA Lot# 0006479330.pdf\n",
      "[*************************]\n"
     ]
    }
   ],
   "source": [
    "file_name_conv = generate_naming_convention(in_file)"
   ]
  },
  {
   "cell_type": "code",
   "execution_count": 5,
   "metadata": {},
   "outputs": [
    {
     "name": "stdout",
     "output_type": "stream",
     "text": [
      "part ICP-079 CofA Lot# 0006479330.pdf\n"
     ]
    }
   ],
   "source": [
    "print(file_name_conv)"
   ]
  },
  {
   "cell_type": "code",
   "execution_count": 7,
   "metadata": {},
   "outputs": [
    {
     "name": "stdout",
     "output_type": "stream",
     "text": [
      "F:/APPS/CofA/ICP-079@0006479330.pdf\n"
     ]
    }
   ],
   "source": [
    "f_file = os.path.join(\"F:/APPS/CofA/\", base_name)\n",
    "print(f_file)"
   ]
  },
  {
   "cell_type": "markdown",
   "metadata": {},
   "source": [
    "### *PRINT* `statinfo`"
   ]
  },
  {
   "cell_type": "code",
   "execution_count": 8,
   "metadata": {},
   "outputs": [
    {
     "name": "stdout",
     "output_type": "stream",
     "text": [
      "os.stat_result(st_mode=33206, st_ino=1407374884567093, st_dev=3960134480, st_nlink=1, st_uid=0, st_gid=0, st_size=917653, st_atime=1566349983, st_mtime=1563965841, st_ctime=1563980562)\n"
     ]
    }
   ],
   "source": [
    "statinfo = os.stat(f_file)\n",
    "print(statinfo)"
   ]
  },
  {
   "cell_type": "code",
   "execution_count": 9,
   "metadata": {},
   "outputs": [
    {
     "data": {
      "text/plain": [
       "10"
      ]
     },
     "execution_count": 9,
     "metadata": {},
     "output_type": "execute_result"
    }
   ],
   "source": [
    "len(statinfo)"
   ]
  },
  {
   "cell_type": "code",
   "execution_count": 13,
   "metadata": {},
   "outputs": [
    {
     "name": "stdout",
     "output_type": "stream",
     "text": [
      "0 days 00:00:00.000033\n",
      "16 days 06:56:14.884567\n",
      "0 days 00:00:03.960134\n",
      "0 days 00:00:00.000000\n",
      "0 days 00:00:00\n",
      "0 days 00:00:00\n",
      "0 days 00:00:00.000917\n",
      "0 days 00:00:01.566349\n",
      "0 days 00:00:01.563965\n",
      "0 days 00:00:01.563980\n"
     ]
    }
   ],
   "source": [
    "for line in statinfo: #{\n",
    "    print(pd.Timestamp(line))\n",
    "#}"
   ]
  },
  {
   "cell_type": "code",
   "execution_count": 15,
   "metadata": {},
   "outputs": [
    {
     "name": "stdout",
     "output_type": "stream",
     "text": [
      "33206\n",
      "1407374884567093\n",
      "3960134480\n",
      "1\n",
      "0\n",
      "0\n",
      "917653\n",
      "1566349983\n",
      "1563965841\n",
      "1563980562\n"
     ]
    }
   ],
   "source": [
    "for line in statinfo: #{\n",
    "    print(line)\n",
    "#}"
   ]
  },
  {
   "cell_type": "code",
   "execution_count": 23,
   "metadata": {},
   "outputs": [
    {
     "ename": "ModuleNotFoundError",
     "evalue": "No module named 'datetime.datetime'; 'datetime' is not a package",
     "output_type": "error",
     "traceback": [
      "\u001b[1;31m---------------------------------------------------------------------------\u001b[0m",
      "\u001b[1;31mModuleNotFoundError\u001b[0m                       Traceback (most recent call last)",
      "\u001b[1;32m<ipython-input-23-7cb6761b9db4>\u001b[0m in \u001b[0;36m<module>\u001b[1;34m\u001b[0m\n\u001b[1;32m----> 1\u001b[1;33m \u001b[1;32mimport\u001b[0m \u001b[0mdatetime\u001b[0m\u001b[1;33m.\u001b[0m\u001b[0mdatetime\u001b[0m\u001b[1;33m\u001b[0m\u001b[1;33m\u001b[0m\u001b[0m\n\u001b[0m",
      "\u001b[1;31mModuleNotFoundError\u001b[0m: No module named 'datetime.datetime'; 'datetime' is not a package"
     ]
    }
   ],
   "source": [
    "import datetime.datetime"
   ]
  },
  {
   "cell_type": "code",
   "execution_count": 25,
   "metadata": {},
   "outputs": [
    {
     "ename": "TypeError",
     "evalue": "function missing required argument 'month' (pos 2)",
     "output_type": "error",
     "traceback": [
      "\u001b[1;31m---------------------------------------------------------------------------\u001b[0m",
      "\u001b[1;31mTypeError\u001b[0m                                 Traceback (most recent call last)",
      "\u001b[1;32m<ipython-input-25-6fd85760ac45>\u001b[0m in \u001b[0;36m<module>\u001b[1;34m\u001b[0m\n\u001b[1;32m----> 1\u001b[1;33m \u001b[0mtest_time\u001b[0m \u001b[1;33m=\u001b[0m \u001b[0mdatetime\u001b[0m\u001b[1;33m(\u001b[0m\u001b[0mstatinfo\u001b[0m\u001b[1;33m[\u001b[0m\u001b[1;36m9\u001b[0m\u001b[1;33m]\u001b[0m\u001b[1;33m)\u001b[0m\u001b[1;33m\u001b[0m\u001b[1;33m\u001b[0m\u001b[0m\n\u001b[0m",
      "\u001b[1;31mTypeError\u001b[0m: function missing required argument 'month' (pos 2)"
     ]
    }
   ],
   "source": [
    "test_time = datetime(statinfo[9])"
   ]
  },
  {
   "cell_type": "code",
   "execution_count": null,
   "metadata": {},
   "outputs": [],
   "source": []
  }
 ],
 "metadata": {
  "kernelspec": {
   "display_name": "Python 3",
   "language": "python",
   "name": "python3"
  },
  "language_info": {
   "codemirror_mode": {
    "name": "ipython",
    "version": 3
   },
   "file_extension": ".py",
   "mimetype": "text/x-python",
   "name": "python",
   "nbconvert_exporter": "python",
   "pygments_lexer": "ipython3",
   "version": "3.7.3"
  }
 },
 "nbformat": 4,
 "nbformat_minor": 2
}
