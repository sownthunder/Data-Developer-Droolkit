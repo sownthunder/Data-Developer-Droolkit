{
 "cells": [
  {
   "cell_type": "code",
   "execution_count": 1,
   "metadata": {},
   "outputs": [],
   "source": [
    "import os, sys, time\n",
    "from time import sleep\n",
    "from pathlib import Path"
   ]
  },
  {
   "cell_type": "code",
   "execution_count": 2,
   "metadata": {},
   "outputs": [],
   "source": [
    "import tkinter as tk\n",
    "from tkinter import ttk, filedialog, messagebox"
   ]
  },
  {
   "cell_type": "code",
   "execution_count": 12,
   "metadata": {},
   "outputs": [],
   "source": [
    "if __name__ == \"__main__\": #{\n",
    "    # MAIN APP PROPERTIES\n",
    "    root = tk.Tk()\n",
    "    root.title(\"PACKED_grid...\")\n",
    "    \n",
    "    centerframe = tk.Frame(master=root)\n",
    "    centerframe.pack(fill=tk.BOTH, expand=True)\n",
    "    \n",
    "    label_1 = tk.Label(master=centerframe, text=\"NAME:\")\n",
    "    label_1.grid(row=0, column=0)\n",
    "    \n",
    "    e1_var = tk.StringVar(value=\"a\")\n",
    "    entry_1 = tk.Entry(master=centerframe, textvariable=e1_var)\n",
    "    entry_1.grid(row=0, column=1, sticky=\"sw\")\n",
    "    \n",
    "    label_2 = tk.Label(master=centerframe, text=\"PASS:\")\n",
    "    label_2.grid(row=1, column=0)\n",
    "    \n",
    "    e2_var = tk.StringVar(value=\"b\")\n",
    "    entry_2 = tk.Entry(master=centerframe, textvariable=e2_var)\n",
    "    entry_2.grid(row=1, column=1, sticky=\"sw\")\n",
    "    \n",
    "    root.mainloop()\n",
    "    \n",
    "#}"
   ]
  },
  {
   "cell_type": "code",
   "execution_count": null,
   "metadata": {},
   "outputs": [],
   "source": []
  }
 ],
 "metadata": {
  "kernelspec": {
   "display_name": "Python 3",
   "language": "python",
   "name": "python3"
  },
  "language_info": {
   "codemirror_mode": {
    "name": "ipython",
    "version": 3
   },
   "file_extension": ".py",
   "mimetype": "text/x-python",
   "name": "python",
   "nbconvert_exporter": "python",
   "pygments_lexer": "ipython3",
   "version": "3.7.0"
  }
 },
 "nbformat": 4,
 "nbformat_minor": 2
}
