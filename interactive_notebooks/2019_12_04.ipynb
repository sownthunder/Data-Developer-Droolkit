{
 "cells": [
  {
   "cell_type": "code",
   "execution_count": 1,
   "metadata": {},
   "outputs": [],
   "source": [
    "import os, sys, time\n",
    "from time import sleep\n",
    "import logging\n",
    "import pandas as pd\n",
    "import numpy as np\n",
    "from pandas import Series, DataFrame"
   ]
  },
  {
   "cell_type": "code",
   "execution_count": 2,
   "metadata": {},
   "outputs": [],
   "source": [
    "class Logger(): #{\n",
    "    \n",
    "    def __init__(self): #{\n",
    "        # Initiating the Logger object\n",
    "        self.logger = logging.getLogger(__name__)\n",
    "        \n",
    "        # Set the level of the logger This is SUPER USEFUL since it enables\n",
    "        # Explanation regarding the logger levels can be founder here:\n",
    "        # https://docs.python.org/3/howto/logging.html\n",
    "        self.logger.setLevel(logging.DEBUG)\n",
    "        \n",
    "        # Create the logs.log file\n",
    "        handler = logging.FileHandler('logs.log')\n",
    "        \n",
    "        # Format the logs structure so that every line would include:\n",
    "        # the time, name level name and log message\n",
    "        formatter = logging.Formatter('%(asctime)s - %(name)s - %(levelname)s - %(message)s')\n",
    "        handler.setFormatter(formatter)\n",
    "        \n",
    "        # Adding the format handler\n",
    "        self.logger.addHandler(handler)\n",
    "        \n",
    "        # and printing the logs to the console as well\n",
    "        self.logger.addHandler(logging.StreamHandler(sys.stdout))\n",
    "    #}\n",
    "    \n",
    "#}"
   ]
  },
  {
   "cell_type": "code",
   "execution_count": 3,
   "metadata": {},
   "outputs": [],
   "source": [
    "class Comment(): #{\n",
    "    \n",
    "    def __init__(self, comment_list): #{\n",
    "        self.comment_list = comment_list\n",
    "    #}\n",
    "    \n",
    "    def run(self): #{\n",
    "        pass\n",
    "    #}\n",
    "    \n",
    "    def setup_driver(self, path_to_executable): #{\n",
    "        pass\n",
    "    #}\n",
    "    \n",
    "    def get_video_link(self, the_driver): #{\n",
    "        pass\n",
    "    #}\n",
    "    \n",
    "    def tear_down(self, the_driver): #{\n",
    "        pass\n",
    "    #}\n",
    "    \n",
    "#}"
   ]
  },
  {
   "cell_type": "code",
   "execution_count": 4,
   "metadata": {},
   "outputs": [],
   "source": [
    "class Watch(): #{\n",
    "    \n",
    "    def __init__(self, video_link, watch_count): #{\n",
    "        self.video_link = video_link\n",
    "        self.watch_count = watch_count\n",
    "        # Usage Example:\n",
    "        logger = Logger().logger\n",
    "        logger.debug(\"This log's level is 'DEBUG'\")\n",
    "        logger.info(\"This log's level is 'info'\")\n",
    "        logger.error(\"This log's level is 'error'\")\n",
    "    #}\n",
    "    \n",
    "    def run(self): #{\n",
    "        pass\n",
    "    #}\n",
    "    \n",
    "    def setup_driver(self, path_to_executable): #{\n",
    "        pass\n",
    "    #}\n",
    "    \n",
    "#}"
   ]
  },
  {
   "cell_type": "code",
   "execution_count": 5,
   "metadata": {},
   "outputs": [],
   "source": [
    "class Scheduler(): #{\n",
    "    \n",
    "    def __init__(self, list_of_events, event_times, run_length): #{\n",
    "        self.list_of_events = list_of_events\n",
    "        self.event_times = event_times\n",
    "        self.run_length = run_length\n",
    "    #}\n",
    "    \n",
    "    def run(self): #{\n",
    "        # INFINITE LOOP\n",
    "        while 1: #{\n",
    "            # CREATE TIMESTAMP OBJECT\n",
    "            current_time = pd.Timestamp.now()\n",
    "            print(\"time-check == \" + str(current_time))\n",
    "            ## PUT COMPARISON CODE HERE\n",
    "            self.countdown(60)\n",
    "        #}\n",
    "    #}\n",
    "    \n",
    "    def countdown(self, n): #{\n",
    "        while n > 0: #{\n",
    "            sleep(1)\n",
    "            print(n)\n",
    "            n -= 1\n",
    "        #}\n",
    "        else: #{\n",
    "            print(\"Blast Off!\")\n",
    "        #}\n",
    "    #}\n",
    "    \n",
    "    def convert_to_timestamps(self, list_to_convert): #{\n",
    "        e = 1\n",
    "        return e\n",
    "    #}\n",
    "    \n",
    "#}"
   ]
  },
  {
   "cell_type": "code",
   "execution_count": 6,
   "metadata": {},
   "outputs": [],
   "source": [
    "class Looper(): #{\n",
    "    \n",
    "    def __init__(self, video_list): #{\n",
    "        self.video_list = video_list\n",
    "        # MAIN RUN\n",
    "        self.run()\n",
    "    #}\n",
    "    \n",
    "    def run(self): #{\n",
    "        while 1: #{\n",
    "            # CREATE INSTANCE OF VIDEO_WATCHER\n",
    "            watch_a_vid = Watch(video_link=\"http://www.reddit.com/\", watch_count=100)\n",
    "        #}\n",
    "    #}\n",
    "    \n",
    "#}"
   ]
  },
  {
   "cell_type": "code",
   "execution_count": null,
   "metadata": {},
   "outputs": [],
   "source": [
    "if __name__ == \"__main__\": #{\n",
    "    s1 = Scheduler(list_of_events=['2019-12-05 16:58:22.843599',\n",
    "                                   '2019-12-06 14:12:33.234957',\n",
    "                                   '2019-12-04 12:00:32.128210'])\n",
    "#}"
   ]
  },
  {
   "cell_type": "markdown",
   "metadata": {},
   "source": [
    "DICT"
   ]
  }
 ],
 "metadata": {
  "kernelspec": {
   "display_name": "Python 3",
   "language": "python",
   "name": "python3"
  },
  "language_info": {
   "codemirror_mode": {
    "name": "ipython",
    "version": 3
   },
   "file_extension": ".py",
   "mimetype": "text/x-python",
   "name": "python",
   "nbconvert_exporter": "python",
   "pygments_lexer": "ipython3",
   "version": "3.7.0"
  }
 },
 "nbformat": 4,
 "nbformat_minor": 2
}
