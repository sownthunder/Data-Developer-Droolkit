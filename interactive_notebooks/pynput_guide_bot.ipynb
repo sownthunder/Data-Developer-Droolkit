{
 "cells": [
  {
   "cell_type": "code",
   "execution_count": 1,
   "metadata": {},
   "outputs": [],
   "source": [
    "import os, sys, time\n",
    "from time import sleep\n",
    "from pynput import mouse, keyboard"
   ]
  },
  {
   "cell_type": "markdown",
   "metadata": {},
   "source": [
    "## *CONTROLLING THE MOUSE*"
   ]
  },
  {
   "cell_type": "code",
   "execution_count": 2,
   "metadata": {},
   "outputs": [],
   "source": [
    "from pynput.mouse import Button, Controller"
   ]
  },
  {
   "cell_type": "code",
   "execution_count": 3,
   "metadata": {},
   "outputs": [],
   "source": [
    "mouse = Controller()"
   ]
  },
  {
   "cell_type": "code",
   "execution_count": 4,
   "metadata": {},
   "outputs": [
    {
     "name": "stdout",
     "output_type": "stream",
     "text": [
      "The current pointer position is (1406, 1079)\n"
     ]
    }
   ],
   "source": [
    "# Read Pointer Position\n",
    "print('The current pointer position is {0}'.format(mouse.position))"
   ]
  },
  {
   "cell_type": "code",
   "execution_count": 5,
   "metadata": {},
   "outputs": [
    {
     "name": "stdout",
     "output_type": "stream",
     "text": [
      "Now we have moved it to (2226, 782)\n"
     ]
    }
   ],
   "source": [
    "# Set pointer position\n",
    "mouse.position = (2226, 782)  # WAS: (10,20)\n",
    "print('Now we have moved it to {0}'.format(mouse.position))"
   ]
  },
  {
   "cell_type": "code",
   "execution_count": 6,
   "metadata": {},
   "outputs": [],
   "source": [
    "# Move pointer relative to current position\n",
    "mouse.move(5, -5)"
   ]
  },
  {
   "cell_type": "raw",
   "metadata": {},
   "source": [
    "# Press and release\n",
    "mouse.press(Button.left)\n",
    "mouse.release(Button.left)"
   ]
  },
  {
   "cell_type": "raw",
   "metadata": {},
   "source": [
    "# Double click; this is different from pressing and releasing\n",
    "# twice on Mac OSX\n",
    "mouse.click(Button.left, 2)"
   ]
  },
  {
   "cell_type": "markdown",
   "metadata": {},
   "source": [
    "## *MONITORING THE MOUSE*"
   ]
  },
  {
   "cell_type": "code",
   "execution_count": 7,
   "metadata": {},
   "outputs": [],
   "source": [
    "from pynput import mouse"
   ]
  },
  {
   "cell_type": "code",
   "execution_count": 8,
   "metadata": {},
   "outputs": [],
   "source": [
    "def on_move(x, y): #{\n",
    "    print('Pointer moved to {0}'.format((x, y)))\n",
    "#}"
   ]
  },
  {
   "cell_type": "code",
   "execution_count": 9,
   "metadata": {},
   "outputs": [],
   "source": [
    "def on_click(x, y, button, pressed): #{\n",
    "    print('{0} at {1}'.format(\n",
    "        'Pressed' if pressed else 'Released',\n",
    "        (x, y)))\n",
    "    if not pressed: #{\n",
    "        # Stop listener\n",
    "        return False\n",
    "    #}\n",
    "#}"
   ]
  },
  {
   "cell_type": "code",
   "execution_count": 10,
   "metadata": {},
   "outputs": [],
   "source": [
    "def on_scroll(x, y, dx, dy): #{\n",
    "    print('Scrolled {0} at {1}'.format(\n",
    "        'down' if dy < 0 else 'up',\n",
    "        (x, y)))\n",
    "#}"
   ]
  },
  {
   "cell_type": "raw",
   "metadata": {},
   "source": [
    "# Collect events until released\n",
    "with mouse.Listener(\n",
    "        on_move=on_move,\n",
    "        on_click=on_click,\n",
    "        on_scroll=on_scroll) as listener:\n",
    "    listener.join()"
   ]
  },
  {
   "cell_type": "code",
   "execution_count": 11,
   "metadata": {},
   "outputs": [
    {
     "name": "stdout",
     "output_type": "stream",
     "text": [
      "Pressed at (2232, 776)\n",
      "Pointer moved to (2232, 776)\n",
      "Released at (2232, 776)\n"
     ]
    }
   ],
   "source": [
    "# ...or, in a non-blocking fashion:\n",
    "listener = mouse.Listener(\n",
    "    on_move=on_move,\n",
    "    on_click=on_click,\n",
    "    on_scroll=on_scroll)\n",
    "listener.start()"
   ]
  },
  {
   "cell_type": "code",
   "execution_count": null,
   "metadata": {},
   "outputs": [],
   "source": []
  }
 ],
 "metadata": {
  "kernelspec": {
   "display_name": "Python 3",
   "language": "python",
   "name": "python3"
  },
  "language_info": {
   "codemirror_mode": {
    "name": "ipython",
    "version": 3
   },
   "file_extension": ".py",
   "mimetype": "text/x-python",
   "name": "python",
   "nbconvert_exporter": "python",
   "pygments_lexer": "ipython3",
   "version": "3.7.3"
  }
 },
 "nbformat": 4,
 "nbformat_minor": 2
}
