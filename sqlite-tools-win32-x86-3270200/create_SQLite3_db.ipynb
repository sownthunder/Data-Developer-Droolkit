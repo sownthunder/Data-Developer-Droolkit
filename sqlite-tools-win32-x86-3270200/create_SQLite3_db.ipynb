{
 "cells": [
  {
   "cell_type": "code",
   "execution_count": 1,
   "metadata": {},
   "outputs": [],
   "source": [
    "import sqlite3"
   ]
  },
  {
   "cell_type": "markdown",
   "metadata": {},
   "source": [
    "### **CREATE/CONNECT TO DATABASE**"
   ]
  },
  {
   "cell_type": "code",
   "execution_count": 13,
   "metadata": {},
   "outputs": [],
   "source": [
    "conn = sqlite3.connect('test.db')"
   ]
  },
  {
   "cell_type": "markdown",
   "metadata": {},
   "source": [
    "### **CREATE** `contacts` **TABLE:**\n",
    "- ID\n",
    "- NAME\n",
    "- EMAIL\n",
    "- TYPE\n",
    "- TIMESTAMP\n",
    "- SENT"
   ]
  },
  {
   "cell_type": "code",
   "execution_count": 5,
   "metadata": {},
   "outputs": [
    {
     "data": {
      "text/plain": [
       "<sqlite3.Cursor at 0x14dffb6e110>"
      ]
     },
     "execution_count": 5,
     "metadata": {},
     "output_type": "execute_result"
    }
   ],
   "source": [
    "conn.execute('''CREATE TABLE contacts\n",
    "         (ID INT PRIMARY KEY     NOT NULL,\n",
    "         NAME           TEXT    NOT NULL,\n",
    "         EMAIL          CHAR(50)     NOT NULL,\n",
    "         TYPE           CHAR(50)     NOT NULL,\n",
    "         TIMESTAMP      TIMESTAMP    NOT NULL,\n",
    "         SENT           BOOLEAN      NOT NULL);''')"
   ]
  },
  {
   "cell_type": "markdown",
   "metadata": {},
   "source": [
    "### **INSERT INTO** `contacts` **TABLE OPERATION**"
   ]
  },
  {
   "cell_type": "code",
   "execution_count": 14,
   "metadata": {},
   "outputs": [],
   "source": [
    "conn.execute(\"INSERT INTO contacts (ID,NAME,EMAIL,TYPE,TIMESTAMP,SENT) \\\n",
    "      VALUES (6, 'Larry Fitzgerald', 'fitzy@phoenix.edu', 'WEB', 2019-12-25, True)\");\n",
    "\n",
    "conn.execute(\"INSERT INTO contacts (ID,NAME,EMAIL,TYPE,TIMESTAMP,SENT) \\\n",
    "      VALUES (7, 'Michael Thomas', 'ixnay@hombre.com', 'WEB', 2019-10-26, True)\");\n",
    "\n",
    "conn.execute(\"INSERT INTO contacts (ID,NAME,EMAIL,TYPE,TIMESTAMP,SENT) \\\n",
    "      VALUES (8, 'Michael Thomas', 'ixnay@hombre.com', 'WEB', 2019-10-24, False)\");\n",
    "\n",
    "conn.execute(\"INSERT INTO contacts (ID,NAME,EMAIL,TYPE,TIMESTAMP,SENT) \\\n",
    "      VALUES (9, 'Larry Fitzgerald', 'fitzy@phoenix.edu', 'EMAIL', 2019-10-16, False)\");\n",
    "\n",
    "conn.commit()\n",
    "print(\"Records created successfully\")"
   ]
  },
  {
   "cell_type": "markdown",
   "metadata": {},
   "source": [
    "### **SELECT FROM** `contacts` **TABLE**"
   ]
  },
  {
   "cell_type": "code",
   "execution_count": 14,
   "metadata": {},
   "outputs": [
    {
     "name": "stdout",
     "output_type": "stream",
     "text": [
      "Records created successfully\n"
     ]
    }
   ],
   "source": [
    "conn.close()"
   ]
  },
  {
   "cell_type": "code",
   "execution_count": null,
   "metadata": {},
   "outputs": [],
   "source": []
  }
 ],
 "metadata": {
  "kernelspec": {
   "display_name": "Python 3",
   "language": "python",
   "name": "python3"
  },
  "language_info": {
   "codemirror_mode": {
    "name": "ipython",
    "version": 3
   },
   "file_extension": ".py",
   "mimetype": "text/x-python",
   "name": "python",
   "nbconvert_exporter": "python",
   "pygments_lexer": "ipython3",
   "version": "3.7.3"
  }
 },
 "nbformat": 4,
 "nbformat_minor": 4
}
