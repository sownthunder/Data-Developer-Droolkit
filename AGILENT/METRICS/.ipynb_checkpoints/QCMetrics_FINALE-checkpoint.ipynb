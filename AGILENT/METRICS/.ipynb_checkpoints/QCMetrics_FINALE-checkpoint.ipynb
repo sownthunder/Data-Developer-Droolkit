{
 "cells": [
  {
   "cell_type": "markdown",
   "metadata": {},
   "source": [
    "# LINKS\n",
    "\n",
    "- ## [join/merge DF python pandas](https://pandas.pydata.org/pandas-docs/stable/reference/api/pandas.DataFrame.join.html)\n",
    "\n",
    "\n",
    "---"
   ]
  },
  {
   "cell_type": "code",
   "execution_count": 1,
   "metadata": {
    "ExecuteTime": {
     "end_time": "2020-02-28T15:23:26.557419Z",
     "start_time": "2020-02-28T15:23:26.552425Z"
    }
   },
   "outputs": [],
   "source": [
    "import os, sys, time\n",
    "from time import sleep\n",
    "from pathlib import Path\n",
    "from datetime import datetime, timedelta"
   ]
  },
  {
   "cell_type": "code",
   "execution_count": 2,
   "metadata": {
    "ExecuteTime": {
     "end_time": "2020-02-28T15:23:28.111089Z",
     "start_time": "2020-02-28T15:23:26.559424Z"
    }
   },
   "outputs": [],
   "source": [
    "import pandas as pd\n",
    "import numpy as np\n",
    "from pandas import Series, DataFrame\n",
    "import pyodbc"
   ]
  },
  {
   "cell_type": "code",
   "execution_count": 3,
   "metadata": {
    "ExecuteTime": {
     "end_time": "2020-02-28T15:23:28.691626Z",
     "start_time": "2020-02-28T15:23:28.113054Z"
    }
   },
   "outputs": [],
   "source": [
    "from openpyxl import Workbook, load_workbook\n",
    "from openpyxl.drawing.image import Image\n",
    "from openpyxl.utils.dataframe import dataframe_to_rows"
   ]
  },
  {
   "cell_type": "code",
   "execution_count": 4,
   "metadata": {
    "ExecuteTime": {
     "end_time": "2020-02-28T15:23:29.346891Z",
     "start_time": "2020-02-28T15:23:28.693624Z"
    }
   },
   "outputs": [],
   "source": [
    "import matplotlib\n",
    "from matplotlib import pyplot as plt\n",
    "%matplotlib inline\n",
    "matplotlib.rcParams['figure.figsize'] = [12.0, 8.0]\n",
    "# [2020-02-19]]\\\\import matplotlib.pyplot as plt\n",
    "import seaborn as sns"
   ]
  },
  {
   "cell_type": "code",
   "execution_count": 5,
   "metadata": {
    "ExecuteTime": {
     "end_time": "2020-02-28T15:23:29.351850Z",
     "start_time": "2020-02-28T15:23:29.347884Z"
    }
   },
   "outputs": [],
   "source": [
    "import tempfile"
   ]
  },
  {
   "cell_type": "raw",
   "metadata": {
    "ExecuteTime": {
     "end_time": "2020-02-25T21:02:09.220189Z",
     "start_time": "2020-02-25T21:02:09.206186Z"
    }
   },
   "source": [
    "[x for x in pyodbc.drivers() if x.startswith('Microsoft Access Driver')]"
   ]
  },
  {
   "cell_type": "markdown",
   "metadata": {},
   "source": [
    "## *FUNCTIONS*"
   ]
  },
  {
   "cell_type": "code",
   "execution_count": 6,
   "metadata": {
    "ExecuteTime": {
     "end_time": "2020-02-28T15:23:29.363858Z",
     "start_time": "2020-02-28T15:23:29.353850Z"
    }
   },
   "outputs": [],
   "source": [
    "def send_mail(send_from, send_to, subject, message, files=[],\n",
    "              server=\"cos.smtp.agilent.com\", port=587, use_tls=True):  # {\n",
    "    print(\"SENDING MAIL... DATE == \" + str(pd.Timestamp.now())[:10])\n",
    "    msg = MIMEMultipart()\n",
    "    msg['From'] = send_from\n",
    "    msg['To'] = COMMASPACE.join(send_to)\n",
    "    msg['Date'] = formatdate(localtime=True)\n",
    "    msg['Subject'] = subject\n",
    "\n",
    "    msg.attach(MIMEText(message))\n",
    "\n",
    "    for path in files:  # {\n",
    "        part = MIMEBase('application', \"octet-stream\")\n",
    "        with open(path, 'rb') as file:  # {\n",
    "            part.set_payload(file.read())\n",
    "        # }\n",
    "        encoders.encode_base64(part)\n",
    "        part.add_header('Content-Disposition',\n",
    "                        'attachment; filename=\"{}\"'.format(op.basename(path)))\n",
    "        msg.attach(part)\n",
    "    # }\n",
    "\n",
    "    smtp = smtplib.SMTP(server, port)\n",
    "    if use_tls:  # {\n",
    "        smtp.starttls()\n",
    "    # }\n",
    "    smtp.sendmail(send_from, send_to, msg.as_string())\n",
    "    smtp.quit()\n",
    "# }"
   ]
  },
  {
   "cell_type": "code",
   "execution_count": 7,
   "metadata": {
    "ExecuteTime": {
     "end_time": "2020-02-28T15:23:29.372605Z",
     "start_time": "2020-02-28T15:23:29.366574Z"
    }
   },
   "outputs": [],
   "source": [
    "def pull_prodflow_data(table_name): # {\n",
    "    pass\n",
    "# }"
   ]
  },
  {
   "cell_type": "code",
   "execution_count": 8,
   "metadata": {
    "ExecuteTime": {
     "end_time": "2020-02-28T15:23:29.380597Z",
     "start_time": "2020-02-28T15:23:29.374581Z"
    }
   },
   "outputs": [],
   "source": [
    "def push_prodflow_data(table_name): # {\n",
    "    pass\n",
    "# }"
   ]
  },
  {
   "cell_type": "markdown",
   "metadata": {},
   "source": [
    "## Ask for `Email Address`:"
   ]
  },
  {
   "cell_type": "raw",
   "metadata": {
    "ExecuteTime": {
     "end_time": "2020-02-24T17:09:51.249723Z",
     "start_time": "2020-02-24T17:09:39.265442Z"
    }
   },
   "source": [
    "# INFINITE LOOP TO INSURE PROPER DATA INPUT\n",
    "while 1: # {\n",
    "    email_address = input(\"Enter email:\")\n",
    "    # ASK FOR CONFIRMATION\n",
    "    confirm_str = input(\"You entered: \" + str(email_address) + \"\\nIs that correct? Y/N? \")\n",
    "    # CHECK CONFIRMATION INPUT\n",
    "    if str(confirm_str).lower() == \"n\": # {\n",
    "        print(\"OK TRY AGAIN!\")\n",
    "    # }\n",
    "    elif str(confirm_str).lower() == \"y\": # {\n",
    "        print(\"okay !\")\n",
    "        break\n",
    "    # }\n",
    "    else: # {\n",
    "        print(\">>> ERROR! \")\n",
    "    #}\n",
    "# }"
   ]
  },
  {
   "cell_type": "markdown",
   "metadata": {},
   "source": [
    "## Ask for `Date`:"
   ]
  },
  {
   "cell_type": "code",
   "execution_count": 9,
   "metadata": {
    "ExecuteTime": {
     "end_time": "2020-02-28T15:23:36.601363Z",
     "start_time": "2020-02-28T15:23:29.382571Z"
    }
   },
   "outputs": [
    {
     "name": "stdout",
     "output_type": "stream",
     "text": [
      "Input a Date:2020-02-27\n"
     ]
    }
   ],
   "source": [
    "date_input = input(\"Input a Date:\")"
   ]
  },
  {
   "cell_type": "code",
   "execution_count": 10,
   "metadata": {
    "ExecuteTime": {
     "end_time": "2020-02-28T15:23:36.619336Z",
     "start_time": "2020-02-28T15:23:36.603332Z"
    }
   },
   "outputs": [
    {
     "name": "stdout",
     "output_type": "stream",
     "text": [
      "2020-02-27 00:00:00\n"
     ]
    }
   ],
   "source": [
    "# the_date = pd.Timestamp.now()\n",
    "test_date = pd.Timestamp(ts_input=str(date_input))\n",
    "print(test_date)"
   ]
  },
  {
   "cell_type": "code",
   "execution_count": 11,
   "metadata": {
    "ExecuteTime": {
     "end_time": "2020-02-28T15:23:36.629335Z",
     "start_time": "2020-02-28T15:23:36.620336Z"
    }
   },
   "outputs": [
    {
     "name": "stdout",
     "output_type": "stream",
     "text": [
      "2020-01-27 13:30:54\n"
     ]
    },
    {
     "name": "stderr",
     "output_type": "stream",
     "text": [
      "C:\\Users\\derbates\\miniconda3\\envs\\py3\\lib\\site-packages\\ipykernel_launcher.py:1: FutureWarning: M and Y units are deprecated and will be removed in a future version.\n",
      "  \"\"\"Entry point for launching an IPython kernel.\n"
     ]
    }
   ],
   "source": [
    "td_one_month_ago = test_date - pd.Timedelta(unit='M', value=1)\n",
    "print(td_one_month_ago)"
   ]
  },
  {
   "cell_type": "code",
   "execution_count": 12,
   "metadata": {
    "ExecuteTime": {
     "end_time": "2020-02-28T15:23:36.637337Z",
     "start_time": "2020-02-28T15:23:36.630338Z"
    }
   },
   "outputs": [],
   "source": [
    "one_month_ago = test_date - timedelta(days = 30)"
   ]
  },
  {
   "cell_type": "code",
   "execution_count": 13,
   "metadata": {
    "ExecuteTime": {
     "end_time": "2020-02-28T15:23:36.645369Z",
     "start_time": "2020-02-28T15:23:36.639337Z"
    }
   },
   "outputs": [
    {
     "name": "stdout",
     "output_type": "stream",
     "text": [
      "ONE MONTH AGO == 2020-01-28 00:00:00\n"
     ]
    }
   ],
   "source": [
    "print(\"ONE MONTH AGO == \" + str(one_month_ago))"
   ]
  },
  {
   "cell_type": "code",
   "execution_count": 14,
   "metadata": {
    "ExecuteTime": {
     "end_time": "2020-02-28T15:23:36.652352Z",
     "start_time": "2020-02-28T15:23:36.647352Z"
    }
   },
   "outputs": [],
   "source": [
    "# DAILY METRICS\n",
    "# df_week_range = pd.date_range(start=one_month_ago, end=test_date, freq=\"M-SAT\")\n",
    "df_month_range = pd.date_range(start=one_month_ago, end=test_date, freq='D') #, periods=30)"
   ]
  },
  {
   "cell_type": "code",
   "execution_count": 15,
   "metadata": {
    "ExecuteTime": {
     "end_time": "2020-02-28T15:23:36.664373Z",
     "start_time": "2020-02-28T15:23:36.654336Z"
    }
   },
   "outputs": [
    {
     "data": {
      "text/plain": [
       "pandas.core.indexes.datetimes.DatetimeIndex"
      ]
     },
     "execution_count": 15,
     "metadata": {},
     "output_type": "execute_result"
    }
   ],
   "source": [
    "type(df_month_range)"
   ]
  },
  {
   "cell_type": "code",
   "execution_count": 16,
   "metadata": {
    "ExecuteTime": {
     "end_time": "2020-02-28T15:23:36.673371Z",
     "start_time": "2020-02-28T15:23:36.666341Z"
    }
   },
   "outputs": [
    {
     "data": {
      "text/plain": [
       "[Timestamp('2020-01-28 00:00:00', freq='D'),\n",
       " Timestamp('2020-01-29 00:00:00', freq='D'),\n",
       " Timestamp('2020-01-30 00:00:00', freq='D'),\n",
       " Timestamp('2020-01-31 00:00:00', freq='D'),\n",
       " Timestamp('2020-02-01 00:00:00', freq='D'),\n",
       " Timestamp('2020-02-02 00:00:00', freq='D'),\n",
       " Timestamp('2020-02-03 00:00:00', freq='D'),\n",
       " Timestamp('2020-02-04 00:00:00', freq='D'),\n",
       " Timestamp('2020-02-05 00:00:00', freq='D'),\n",
       " Timestamp('2020-02-06 00:00:00', freq='D'),\n",
       " Timestamp('2020-02-07 00:00:00', freq='D'),\n",
       " Timestamp('2020-02-08 00:00:00', freq='D'),\n",
       " Timestamp('2020-02-09 00:00:00', freq='D'),\n",
       " Timestamp('2020-02-10 00:00:00', freq='D'),\n",
       " Timestamp('2020-02-11 00:00:00', freq='D'),\n",
       " Timestamp('2020-02-12 00:00:00', freq='D'),\n",
       " Timestamp('2020-02-13 00:00:00', freq='D'),\n",
       " Timestamp('2020-02-14 00:00:00', freq='D'),\n",
       " Timestamp('2020-02-15 00:00:00', freq='D'),\n",
       " Timestamp('2020-02-16 00:00:00', freq='D'),\n",
       " Timestamp('2020-02-17 00:00:00', freq='D'),\n",
       " Timestamp('2020-02-18 00:00:00', freq='D'),\n",
       " Timestamp('2020-02-19 00:00:00', freq='D'),\n",
       " Timestamp('2020-02-20 00:00:00', freq='D'),\n",
       " Timestamp('2020-02-21 00:00:00', freq='D'),\n",
       " Timestamp('2020-02-22 00:00:00', freq='D'),\n",
       " Timestamp('2020-02-23 00:00:00', freq='D'),\n",
       " Timestamp('2020-02-24 00:00:00', freq='D'),\n",
       " Timestamp('2020-02-25 00:00:00', freq='D'),\n",
       " Timestamp('2020-02-26 00:00:00', freq='D'),\n",
       " Timestamp('2020-02-27 00:00:00', freq='D')]"
      ]
     },
     "execution_count": 16,
     "metadata": {},
     "output_type": "execute_result"
    }
   ],
   "source": [
    "list(df_month_range)"
   ]
  },
  {
   "cell_type": "code",
   "execution_count": 17,
   "metadata": {
    "ExecuteTime": {
     "end_time": "2020-02-28T15:23:36.682375Z",
     "start_time": "2020-02-28T15:23:36.675337Z"
    }
   },
   "outputs": [],
   "source": [
    "df_month_range = pd.DataFrame(pd.Series(df_month_range), columns=['QCDate'])"
   ]
  },
  {
   "cell_type": "code",
   "execution_count": 18,
   "metadata": {
    "ExecuteTime": {
     "end_time": "2020-02-28T15:23:36.692343Z",
     "start_time": "2020-02-28T15:23:36.684343Z"
    }
   },
   "outputs": [
    {
     "name": "stdout",
     "output_type": "stream",
     "text": [
      "       QCDate\n",
      "0  2020-01-28\n",
      "1  2020-01-29\n",
      "2  2020-01-30\n",
      "3  2020-01-31\n",
      "4  2020-02-01\n",
      "5  2020-02-02\n",
      "6  2020-02-03\n",
      "7  2020-02-04\n",
      "8  2020-02-05\n",
      "9  2020-02-06\n",
      "10 2020-02-07\n",
      "11 2020-02-08\n",
      "12 2020-02-09\n",
      "13 2020-02-10\n",
      "14 2020-02-11\n",
      "15 2020-02-12\n",
      "16 2020-02-13\n",
      "17 2020-02-14\n",
      "18 2020-02-15\n",
      "19 2020-02-16\n",
      "20 2020-02-17\n",
      "21 2020-02-18\n",
      "22 2020-02-19\n",
      "23 2020-02-20\n",
      "24 2020-02-21\n",
      "25 2020-02-22\n",
      "26 2020-02-23\n",
      "27 2020-02-24\n",
      "28 2020-02-25\n",
      "29 2020-02-26\n",
      "30 2020-02-27\n"
     ]
    }
   ],
   "source": [
    "print(df_month_range)"
   ]
  },
  {
   "cell_type": "code",
   "execution_count": 19,
   "metadata": {
    "ExecuteTime": {
     "end_time": "2020-02-28T15:23:36.708340Z",
     "start_time": "2020-02-28T15:23:36.700342Z"
    }
   },
   "outputs": [
    {
     "data": {
      "text/plain": [
       "pandas.core.frame.DataFrame"
      ]
     },
     "execution_count": 19,
     "metadata": {},
     "output_type": "execute_result"
    }
   ],
   "source": [
    "type(df_month_range)"
   ]
  },
  {
   "cell_type": "code",
   "execution_count": 20,
   "metadata": {
    "ExecuteTime": {
     "end_time": "2020-02-28T15:23:36.722341Z",
     "start_time": "2020-02-28T15:23:36.715341Z"
    }
   },
   "outputs": [
    {
     "name": "stdout",
     "output_type": "stream",
     "text": [
      "<class 'pandas.core.frame.DataFrame'>\n",
      "RangeIndex: 31 entries, 0 to 30\n",
      "Data columns (total 1 columns):\n",
      "QCDate    31 non-null datetime64[ns]\n",
      "dtypes: datetime64[ns](1)\n",
      "memory usage: 376.0 bytes\n"
     ]
    }
   ],
   "source": [
    "df_month_range.info()"
   ]
  },
  {
   "cell_type": "code",
   "execution_count": 21,
   "metadata": {
    "ExecuteTime": {
     "end_time": "2020-02-28T15:23:36.732340Z",
     "start_time": "2020-02-28T15:23:36.725340Z"
    }
   },
   "outputs": [],
   "source": [
    "# MONTHLY METRICS\n",
    "year_range = pd.date_range(end=test_date, freq='M', periods=12, name='QCDate')"
   ]
  },
  {
   "cell_type": "code",
   "execution_count": 22,
   "metadata": {
    "ExecuteTime": {
     "end_time": "2020-02-28T15:23:36.739343Z",
     "start_time": "2020-02-28T15:23:36.733344Z"
    }
   },
   "outputs": [
    {
     "name": "stdout",
     "output_type": "stream",
     "text": [
      "DatetimeIndex(['2019-02-28', '2019-03-31', '2019-04-30', '2019-05-31',\n",
      "               '2019-06-30', '2019-07-31', '2019-08-31', '2019-09-30',\n",
      "               '2019-10-31', '2019-11-30', '2019-12-31', '2020-01-31'],\n",
      "              dtype='datetime64[ns]', name='QCDate', freq='M')\n"
     ]
    }
   ],
   "source": [
    "print(year_range)"
   ]
  },
  {
   "cell_type": "raw",
   "metadata": {
    "raw_mimetype": "text/x-python"
   },
   "source": [
    "df_Metrics = pd.DataFrame(data=None, index=df_month_range, dtype=np.str)\n",
    "len(df_Metrics)"
   ]
  },
  {
   "cell_type": "markdown",
   "metadata": {},
   "source": [
    "---\n",
    "### create *connection string* for [`SQL-Server`][`ProdflowII_Prod`] (for `Products` Table)\n",
    "#### called `cnxn_Prodflow`"
   ]
  },
  {
   "cell_type": "code",
   "execution_count": 23,
   "metadata": {
    "ExecuteTime": {
     "end_time": "2020-02-28T15:23:36.885381Z",
     "start_time": "2020-02-28T15:23:36.742343Z"
    }
   },
   "outputs": [
    {
     "name": "stdout",
     "output_type": "stream",
     "text": [
      "FIN...\n"
     ]
    }
   ],
   "source": [
    "conn_str = str(\n",
    "    r'DRIVER={ODBC Driver 17 for SQL Server};'\n",
    "    r'SERVER=wtkngappflow1.is.agilent.net;'\n",
    "    r'DATABASE=ProdFlowII_Prod;'\n",
    "    r'Trusted_Connection=yes;'\n",
    ")\n",
    "\n",
    "try: #{\n",
    "    cnxn_Prodflow = pyodbc.connect(conn_str)\n",
    "    crsr_Prodflow = cnxn_Prodflow.cursor()\n",
    "#}\n",
    "except: #{\n",
    "    errorMessage = str(sys.exc_info()[0]) + \"\\n\"\n",
    "    errorMessage = errorMessage + str(sys.exc_info()[1]) + \"\\n\\t\\t\"\n",
    "    errorMessage = errorMessage + str(sys.exc_info()[2]) + \"\\n\"\n",
    "    exc_type, exc_obj, exc_tb = sys.exc_info()\n",
    "    fname = os.path.split(exc_tb.tb_frame.f_code.co_filename)[1]\n",
    "    typeE = str(\"TYPE : \" + str(exc_type))\n",
    "    fileE = str(\"FILE : \" + str(fname))\n",
    "    lineE = str(\"LINE : \" + str(exc_tb.tb_lineno))\n",
    "    messageE = str(\"MESG : \" + \"\\n\\n\" + str(errorMessage) + \"\\n\")\n",
    "    print(\"\\n\" + typeE + \n",
    "          \"\\n\" + fileE + \n",
    "          \"\\n\" + lineE + \n",
    "          \"\\n\" + messageE)\n",
    "#}\n",
    "else: #{\n",
    "    print(\"FIN...\")\n",
    "#}"
   ]
  },
  {
   "cell_type": "markdown",
   "metadata": {},
   "source": [
    "### create *connection string* for [`SQL-Server`][`Prodflow`] (for `tblProdflow` table)\n",
    "#### called `cnxn_Prodflow2`"
   ]
  },
  {
   "cell_type": "code",
   "execution_count": 24,
   "metadata": {
    "ExecuteTime": {
     "end_time": "2020-02-28T15:23:36.915388Z",
     "start_time": "2020-02-28T15:23:36.887356Z"
    }
   },
   "outputs": [
    {
     "name": "stdout",
     "output_type": "stream",
     "text": [
      "FIN...\n"
     ]
    }
   ],
   "source": [
    "conn_str = str(\n",
    "    r'DRIVER={ODBC Driver 17 for SQL Server};'\n",
    "    r'SERVER=wtkngappflow1.is.agilent.net;'\n",
    "    r'DATABASE=ProdFlow;'\n",
    "    r'Trusted_Connection=yes;'\n",
    ")\n",
    "\n",
    "try: # {\n",
    "    cnxn_Prodflow2 = pyodbc.connect(conn_str)\n",
    "    crsr_Prodflow2 = cnxn_Prodflow2.cursor()\n",
    "# }\n",
    "except: # { \n",
    "    errorMessage = str(sys.exc_info()[0]) + \"\\n\"\n",
    "    errorMessage = errorMessage + str(sys.exc_info()[1]) + \"\\n\\t\\t\"\n",
    "    errorMessage = errorMessage + str(sys.exc_info()[2]) + \"\\n\"\n",
    "    exc_type, exc_obj, exc_tb = sys.exc_info()\n",
    "    fname = os.path.split(exc_tb.tb_frame.f_code.co_filename)[1]\n",
    "    typeE = str(\"TYPE : \" + str(exc_type))\n",
    "    fileE = str(\"FILE : \" + str(fname))\n",
    "    lineE = str(\"LINE : \" + str(exc_tb.tb_lineno))\n",
    "    messageE = str(\"MESG : \" + \"\\n\\n\" + str(errorMessage) + \"\\n\")\n",
    "    print(\"\\n\" + typeE + \n",
    "          \"\\n\" + fileE + \n",
    "          \"\\n\" + lineE + \n",
    "          \"\\n\" + messageE)\n",
    "# }\n",
    "else: # {\n",
    "    print(\"FIN...\")\n",
    "# }"
   ]
  },
  {
   "cell_type": "raw",
   "metadata": {
    "ExecuteTime": {
     "end_time": "2020-02-25T21:02:32.528626Z",
     "start_time": "2020-02-25T21:02:31.888618Z"
    }
   },
   "source": [
    "try: #{\n",
    "    conn_str = (\n",
    "        r'DRIVER={Microsoft Access Driver (*.mdb, *.accdb)};'\n",
    "        r'DBQ=C:\\Users\\derbates\\OneDrive - Agilent Technologies\\Desktop\\Offline Prodflow II\\Custom Quotes_fe.accdb;'\n",
    "    )\n",
    "#}\n",
    "except: #{\n",
    "    errorMessage = str(sys.exc_info()[0]) + \"\\n\"\n",
    "    errorMessage = errorMessage + str(sys.exc_info()[1]) + \"\\n\\t\\t\"\n",
    "    errorMessage = errorMessage + str(sys.exc_info()[2]) + \"\\n\"\n",
    "    exc_type, exc_obj, exc_tb = sys.exc_info()\n",
    "    fname = os.path.split(exc_tb.tb_frame.f_code.co_filename)[1]\n",
    "    typeE = str(\"TYPE : \" + str(exc_type))\n",
    "    fileE = str(\"FILE : \" + str(fname))\n",
    "    lineE = str(\"LINE : \" + str(exc_tb.tb_lineno))\n",
    "    messageE = str(\"MESG : \" + \"\\n\\n\" + str(errorMessage) + \"\\n\")\n",
    "    print(\"\\n\" + typeE + \n",
    "          \"\\n\" + fileE + \n",
    "          \"\\n\" + lineE + \n",
    "          \"\\n\" + messageE)\n",
    "#}\n",
    "else: #{\n",
    "    print(\"FIN...\")\n",
    "#}"
   ]
  },
  {
   "cell_type": "markdown",
   "metadata": {},
   "source": [
    "## `PRODUCTS` Table"
   ]
  },
  {
   "cell_type": "code",
   "execution_count": 25,
   "metadata": {
    "ExecuteTime": {
     "end_time": "2020-02-28T15:23:41.466614Z",
     "start_time": "2020-02-28T15:23:36.916358Z"
    }
   },
   "outputs": [
    {
     "name": "stdout",
     "output_type": "stream",
     "text": [
      "Operation Completed Successfully...\n",
      "<class 'pandas.core.frame.DataFrame'>\n",
      "RangeIndex: 108334 entries, 0 to 108333\n",
      "Data columns (total 42 columns):\n",
      "ProductID          108334 non-null int64\n",
      "Product#           108334 non-null object\n",
      "ProductName        108306 non-null object\n",
      "LineID             108334 non-null int64\n",
      "Description        5973 non-null object\n",
      "Specials           2443 non-null object\n",
      "OriginationDate    107940 non-null datetime64[ns]\n",
      "EntryDate          108332 non-null datetime64[ns]\n",
      "Status             6036 non-null object\n",
      "MatrixNumber       107450 non-null object\n",
      "Components         108334 non-null int64\n",
      "Availability       4843 non-null object\n",
      "EquivalentSoln     102890 non-null object\n",
      "EquivalentNeat     103048 non-null object\n",
      "Packaging          107533 non-null object\n",
      "Storage            100705 non-null object\n",
      "ExpirationDate     108309 non-null float64\n",
      "ShipType           95131 non-null object\n",
      "UN#                93448 non-null object\n",
      "ShipClass          87356 non-null object\n",
      "PackGrp            87238 non-null object\n",
      "ShipSpecial        83001 non-null object\n",
      "Hazard1            2473 non-null object\n",
      "Hazard2            4255 non-null object\n",
      "Hazard3            124 non-null object\n",
      "Prop65             6137 non-null object\n",
      "MSDS               6135 non-null object\n",
      "Analysis           5693 non-null object\n",
      "CofAHeader         102151 non-null float64\n",
      "Agilent#           694 non-null object\n",
      "Tedia#             2330 non-null object\n",
      "ProdNotes          93872 non-null object\n",
      "MatrixNotes        9196 non-null object\n",
      "RecipeId           81196 non-null object\n",
      "RushPriority       108334 non-null bool\n",
      "IsVoided           93244 non-null object\n",
      "SagePartNumber     32234 non-null object\n",
      "ProductLevel       91262 non-null float64\n",
      "DateInserted       38 non-null datetime64[ns]\n",
      "CofATemplate       79515 non-null object\n",
      "UniqueRequestID    5 non-null object\n",
      "Test_Timestamp     108334 non-null object\n",
      "dtypes: bool(1), datetime64[ns](3), float64(3), int64(3), object(32)\n",
      "memory usage: 34.0+ MB\n",
      "None\n"
     ]
    }
   ],
   "source": [
    "# TRY THE FOLLOWING\n",
    "try: # {\n",
    "    df_products = pd.read_sql_query(sql='SELECT * FROM Products', con=cnxn_Prodflow)\n",
    "# }\n",
    "except: # {\n",
    "    errorMessage = str(sys.exc_info()[0]) + \"\\n\"\n",
    "    errorMessage = errorMessage + str(sys.exc_info()[1]) + \"\\n\\t\\t\"\n",
    "    errorMessage = errorMessage + str(sys.exc_info()[2]) + \"\\n\"\n",
    "    exc_type, exc_obj, exc_tb = sys.exc_info()\n",
    "    fname = os.path.split(exc_tb.tb_frame.f_code.co_filename)[1]\n",
    "    typeE = str(\"TYPE : \" + str(exc_type))\n",
    "    fileE = str(\"FILE : \" + str(fname))\n",
    "    lineE = str(\"LINE : \" + str(exc_tb.tb_lineno))\n",
    "    messageE = str(\"MESG : \" + \"\\n\\n\" + str(errorMessage) + \"\\n\")\n",
    "    print(\"\\n\" + typeE + \n",
    "          \"\\n\" + fileE + \n",
    "          \"\\n\" + lineE + \n",
    "          \"\\n\" + messageE)\n",
    "# }\n",
    "else: # {\n",
    "    print(\"Operation Completed Successfully...\")\n",
    "    print(df_products.info())\n",
    "    # [2020-02-25]\\\\print(products_info)\n",
    "    # [2020-02-25]\\\\products_info.to_csv(\"products_INFO.csv\", index=True)\n",
    "# }"
   ]
  },
  {
   "cell_type": "markdown",
   "metadata": {},
   "source": [
    "## `tblProdflow` Table"
   ]
  },
  {
   "cell_type": "code",
   "execution_count": 26,
   "metadata": {
    "ExecuteTime": {
     "end_time": "2020-02-28T15:23:46.325985Z",
     "start_time": "2020-02-28T15:23:41.468617Z"
    }
   },
   "outputs": [
    {
     "name": "stdout",
     "output_type": "stream",
     "text": [
      "Operation Completed Successfully...\n",
      "<class 'pandas.core.frame.DataFrame'>\n",
      "RangeIndex: 108642 entries, 0 to 108641\n",
      "Data columns (total 53 columns):\n",
      "PfIDNo              108642 non-null int64\n",
      "PfBatchID           108642 non-null object\n",
      "ProductNo           108623 non-null object\n",
      "OrdID               92510 non-null float64\n",
      "QuoteNo             108606 non-null object\n",
      "PfSentTo            108577 non-null object\n",
      "PrepDate            107628 non-null datetime64[ns]\n",
      "PrepVolume          108597 non-null float64\n",
      "PrepUnit            108566 non-null object\n",
      "PrepVessel          108563 non-null float64\n",
      "PrepVBarcode        57956 non-null object\n",
      "PrdSaleUnit         89415 non-null object\n",
      "PrepMatrixNo        108567 non-null object\n",
      "PrepMatrixLot       107699 non-null object\n",
      "PrepInits           107458 non-null object\n",
      "PrepMemo            61244 non-null object\n",
      "PrepNotebookRef     48969 non-null object\n",
      "BulkQCStatus        24 non-null object\n",
      "BulkQCDate          74986 non-null datetime64[ns]\n",
      "BulkPassFail        74092 non-null object\n",
      "BulkQCInits         74970 non-null object\n",
      "BulkQCMemo          2111 non-null object\n",
      "BulkLotNo           73346 non-null object\n",
      "AmpRetains          51844 non-null float64\n",
      "AmpDate             92736 non-null datetime64[ns]\n",
      "AmpPreLabel         108642 non-null bool\n",
      "AmpNumberGood       93064 non-null float64\n",
      "AmpNumberBad        77477 non-null float64\n",
      "AmpBulkRemain       4126 non-null float64\n",
      "AmpTimeIn           92494 non-null datetime64[ns]\n",
      "AmpTimeOut          92494 non-null datetime64[ns]\n",
      "AmpInits            92702 non-null object\n",
      "QCStatus            573 non-null object\n",
      "QCDate              103183 non-null datetime64[ns]\n",
      "QCPassFail          103373 non-null object\n",
      "QCAuthInits         103172 non-null object\n",
      "QCMemo              55357 non-null object\n",
      "QCMethod            1195 non-null object\n",
      "LotNo               100469 non-null object\n",
      "QCExpMonth          93284 non-null float64\n",
      "QCExpDate           91754 non-null datetime64[ns]\n",
      "QCSellBy            0 non-null object\n",
      "QCFullValidation    108642 non-null bool\n",
      "QCValidation        108608 non-null float64\n",
      "FgInvCount          77931 non-null float64\n",
      "FgAccpacNote        19558 non-null object\n",
      "CofAHeaderNo        108610 non-null float64\n",
      "QCChromatogram      0 non-null object\n",
      "Correct             108642 non-null bool\n",
      "DoNotCorrect        108642 non-null bool\n",
      "DensityUnit         0 non-null object\n",
      "DensityTemp         0 non-null object\n",
      "recipeid            1 non-null object\n",
      "dtypes: bool(4), datetime64[ns](7), float64(11), int64(1), object(30)\n",
      "memory usage: 41.0+ MB\n",
      "None\n"
     ]
    }
   ],
   "source": [
    "# TRY THE FOLLOWING\n",
    "try: # {\n",
    "    df_tblProdflow = pd.read_sql_query(sql='SELECT * FROM tblProdflow', \n",
    "                                       parse_dates = ['QCDate'],\n",
    "                                       con=cnxn_Prodflow2)\n",
    "# }\n",
    "except: # {\n",
    "    errorMessage = str(sys.exc_info()[0]) + \"\\n\"\n",
    "    errorMessage = errorMessage + str(sys.exc_info()[1]) + \"\\n\\t\\t\"\n",
    "    errorMessage = errorMessage + str(sys.exc_info()[2]) + \"\\n\"\n",
    "    exc_type, exc_obj, exc_tb = sys.exc_info()\n",
    "    fname = os.path.split(exc_tb.tb_frame.f_code.co_filename)[1]\n",
    "    typeE = str(\"TYPE : \" + str(exc_type))\n",
    "    fileE = str(\"FILE : \" + str(fname))\n",
    "    lineE = str(\"LINE : \" + str(exc_tb.tb_lineno))\n",
    "    messageE = str(\"MESG : \" + \"\\n\\n\" + str(errorMessage) + \"\\n\")\n",
    "    print(\"\\n\" + typeE + \n",
    "          \"\\n\" + fileE + \n",
    "          \"\\n\" + lineE + \n",
    "          \"\\n\" + messageE)\n",
    "# }\n",
    "else: # {\n",
    "    print(\"Operation Completed Successfully...\")\n",
    "    print(df_tblProdflow.info())\n",
    "    # [2020-02-25]\\\\print(tblProdflow_info)\n",
    "    # [2020-02-25]\\\\tblProdflow_info.to_csv(\"tblProdflow_INFO.csv\", index=True)\n",
    "# }"
   ]
  },
  {
   "cell_type": "markdown",
   "metadata": {},
   "source": [
    "### Rename Header Column in `Products` Table"
   ]
  },
  {
   "cell_type": "code",
   "execution_count": 27,
   "metadata": {
    "ExecuteTime": {
     "end_time": "2020-02-28T15:23:46.416991Z",
     "start_time": "2020-02-28T15:23:46.327988Z"
    }
   },
   "outputs": [],
   "source": [
    "df_products.rename(columns={'Product#': 'ProductNo'}, inplace=True)"
   ]
  },
  {
   "cell_type": "code",
   "execution_count": 28,
   "metadata": {
    "ExecuteTime": {
     "end_time": "2020-02-28T15:23:46.454996Z",
     "start_time": "2020-02-28T15:23:46.418994Z"
    }
   },
   "outputs": [
    {
     "data": {
      "text/html": [
       "<div>\n",
       "<style scoped>\n",
       "    .dataframe tbody tr th:only-of-type {\n",
       "        vertical-align: middle;\n",
       "    }\n",
       "\n",
       "    .dataframe tbody tr th {\n",
       "        vertical-align: top;\n",
       "    }\n",
       "\n",
       "    .dataframe thead th {\n",
       "        text-align: right;\n",
       "    }\n",
       "</style>\n",
       "<table border=\"1\" class=\"dataframe\">\n",
       "  <thead>\n",
       "    <tr style=\"text-align: right;\">\n",
       "      <th></th>\n",
       "      <th>ProductID</th>\n",
       "      <th>ProductNo</th>\n",
       "      <th>ProductName</th>\n",
       "      <th>LineID</th>\n",
       "      <th>Description</th>\n",
       "      <th>Specials</th>\n",
       "      <th>OriginationDate</th>\n",
       "      <th>EntryDate</th>\n",
       "      <th>Status</th>\n",
       "      <th>MatrixNumber</th>\n",
       "      <th>...</th>\n",
       "      <th>MatrixNotes</th>\n",
       "      <th>RecipeId</th>\n",
       "      <th>RushPriority</th>\n",
       "      <th>IsVoided</th>\n",
       "      <th>SagePartNumber</th>\n",
       "      <th>ProductLevel</th>\n",
       "      <th>DateInserted</th>\n",
       "      <th>CofATemplate</th>\n",
       "      <th>UniqueRequestID</th>\n",
       "      <th>Test_Timestamp</th>\n",
       "    </tr>\n",
       "  </thead>\n",
       "  <tbody>\n",
       "    <tr>\n",
       "      <td>27214</td>\n",
       "      <td>16452</td>\n",
       "      <td>CUS-7089</td>\n",
       "      <td>Custom Standard</td>\n",
       "      <td>7</td>\n",
       "      <td>None</td>\n",
       "      <td>None</td>\n",
       "      <td>2005-11-04</td>\n",
       "      <td>2005-11-04</td>\n",
       "      <td>None</td>\n",
       "      <td>JHP-040</td>\n",
       "      <td>...</td>\n",
       "      <td>None</td>\n",
       "      <td>RP-14918</td>\n",
       "      <td>False</td>\n",
       "      <td>VOID</td>\n",
       "      <td>CUS-7089</td>\n",
       "      <td>1.0</td>\n",
       "      <td>NaT</td>\n",
       "      <td>GENERIC</td>\n",
       "      <td>None</td>\n",
       "      <td>b'\\x00\\x00\\x00\\x00\\x00 /\\xf6'</td>\n",
       "    </tr>\n",
       "    <tr>\n",
       "      <td>63882</td>\n",
       "      <td>24069</td>\n",
       "      <td>QTE-24069</td>\n",
       "      <td>Custom Standard</td>\n",
       "      <td>7</td>\n",
       "      <td>None</td>\n",
       "      <td>None</td>\n",
       "      <td>2007-03-15</td>\n",
       "      <td>2011-05-09</td>\n",
       "      <td>None</td>\n",
       "      <td>JHP-003</td>\n",
       "      <td>...</td>\n",
       "      <td>None</td>\n",
       "      <td>RP-33314</td>\n",
       "      <td>False</td>\n",
       "      <td>VOID</td>\n",
       "      <td>None</td>\n",
       "      <td>NaN</td>\n",
       "      <td>NaT</td>\n",
       "      <td>None</td>\n",
       "      <td>None</td>\n",
       "      <td>b'\\x00\\x00\\x00\\x00\\x00 \\xbe\\xfd'</td>\n",
       "    </tr>\n",
       "    <tr>\n",
       "      <td>37180</td>\n",
       "      <td>85751</td>\n",
       "      <td>ICUS-4835</td>\n",
       "      <td>Custom Standard</td>\n",
       "      <td>8</td>\n",
       "      <td>None</td>\n",
       "      <td>None</td>\n",
       "      <td>2016-01-28</td>\n",
       "      <td>2016-01-28</td>\n",
       "      <td>None</td>\n",
       "      <td>JHP-377</td>\n",
       "      <td>...</td>\n",
       "      <td>None</td>\n",
       "      <td>RP-21757</td>\n",
       "      <td>False</td>\n",
       "      <td>VOID</td>\n",
       "      <td>None</td>\n",
       "      <td>1.0</td>\n",
       "      <td>NaT</td>\n",
       "      <td>GENERIC</td>\n",
       "      <td>None</td>\n",
       "      <td>b'\\x00\\x00\\x00\\x00\\x00 V\\xac'</td>\n",
       "    </tr>\n",
       "    <tr>\n",
       "      <td>89256</td>\n",
       "      <td>63417</td>\n",
       "      <td>QTE-63417</td>\n",
       "      <td>Custom Standard</td>\n",
       "      <td>8</td>\n",
       "      <td>None</td>\n",
       "      <td>None</td>\n",
       "      <td>2013-03-06</td>\n",
       "      <td>2013-03-06</td>\n",
       "      <td>None</td>\n",
       "      <td>JHP-046</td>\n",
       "      <td>...</td>\n",
       "      <td>Solution contians 5% nitric acid. Light Sensitive</td>\n",
       "      <td>RP-48522</td>\n",
       "      <td>False</td>\n",
       "      <td>VOID</td>\n",
       "      <td>None</td>\n",
       "      <td>1.0</td>\n",
       "      <td>NaT</td>\n",
       "      <td>GENERIC</td>\n",
       "      <td>None</td>\n",
       "      <td>b'\\x00\\x00\\x00\\x00\\x00!\"\\x7f'</td>\n",
       "    </tr>\n",
       "    <tr>\n",
       "      <td>68763</td>\n",
       "      <td>31922</td>\n",
       "      <td>QTE-31922</td>\n",
       "      <td>Custom Standard</td>\n",
       "      <td>7</td>\n",
       "      <td>None</td>\n",
       "      <td>None</td>\n",
       "      <td>2008-05-30</td>\n",
       "      <td>2011-05-09</td>\n",
       "      <td>None</td>\n",
       "      <td>JHP-031</td>\n",
       "      <td>...</td>\n",
       "      <td>None</td>\n",
       "      <td>RP-33931</td>\n",
       "      <td>False</td>\n",
       "      <td>VOID</td>\n",
       "      <td>None</td>\n",
       "      <td>1.0</td>\n",
       "      <td>NaT</td>\n",
       "      <td>GENERIC</td>\n",
       "      <td>None</td>\n",
       "      <td>b'\\x00\\x00\\x00\\x00\\x00 \\xd2\"'</td>\n",
       "    </tr>\n",
       "  </tbody>\n",
       "</table>\n",
       "<p>5 rows × 42 columns</p>\n",
       "</div>"
      ],
      "text/plain": [
       "       ProductID  ProductNo      ProductName  LineID Description Specials  \\\n",
       "27214      16452   CUS-7089  Custom Standard       7        None     None   \n",
       "63882      24069  QTE-24069  Custom Standard       7        None     None   \n",
       "37180      85751  ICUS-4835  Custom Standard       8        None     None   \n",
       "89256      63417  QTE-63417  Custom Standard       8        None     None   \n",
       "68763      31922  QTE-31922  Custom Standard       7        None     None   \n",
       "\n",
       "      OriginationDate  EntryDate Status MatrixNumber  ...  \\\n",
       "27214      2005-11-04 2005-11-04   None      JHP-040  ...   \n",
       "63882      2007-03-15 2011-05-09   None      JHP-003  ...   \n",
       "37180      2016-01-28 2016-01-28   None      JHP-377  ...   \n",
       "89256      2013-03-06 2013-03-06   None      JHP-046  ...   \n",
       "68763      2008-05-30 2011-05-09   None      JHP-031  ...   \n",
       "\n",
       "                                             MatrixNotes         RecipeId  \\\n",
       "27214                                               None  RP-14918          \n",
       "63882                                               None  RP-33314          \n",
       "37180                                               None  RP-21757          \n",
       "89256  Solution contians 5% nitric acid. Light Sensitive  RP-48522          \n",
       "68763                                               None  RP-33931          \n",
       "\n",
       "      RushPriority IsVoided SagePartNumber ProductLevel  DateInserted  \\\n",
       "27214        False     VOID       CUS-7089          1.0           NaT   \n",
       "63882        False     VOID           None          NaN           NaT   \n",
       "37180        False     VOID           None          1.0           NaT   \n",
       "89256        False     VOID           None          1.0           NaT   \n",
       "68763        False     VOID           None          1.0           NaT   \n",
       "\n",
       "      CofATemplate UniqueRequestID                    Test_Timestamp  \n",
       "27214      GENERIC            None     b'\\x00\\x00\\x00\\x00\\x00 /\\xf6'  \n",
       "63882         None            None  b'\\x00\\x00\\x00\\x00\\x00 \\xbe\\xfd'  \n",
       "37180      GENERIC            None     b'\\x00\\x00\\x00\\x00\\x00 V\\xac'  \n",
       "89256      GENERIC            None     b'\\x00\\x00\\x00\\x00\\x00!\"\\x7f'  \n",
       "68763      GENERIC            None     b'\\x00\\x00\\x00\\x00\\x00 \\xd2\"'  \n",
       "\n",
       "[5 rows x 42 columns]"
      ]
     },
     "execution_count": 28,
     "metadata": {},
     "output_type": "execute_result"
    }
   ],
   "source": [
    "df_products.sample(5)"
   ]
  },
  {
   "cell_type": "markdown",
   "metadata": {},
   "source": [
    "---\n",
    "## **CREATE** `df_QCMetrics` Table (calculations table)"
   ]
  },
  {
   "cell_type": "code",
   "execution_count": 29,
   "metadata": {
    "ExecuteTime": {
     "end_time": "2020-02-28T15:23:49.120808Z",
     "start_time": "2020-02-28T15:23:46.456997Z"
    }
   },
   "outputs": [
    {
     "data": {
      "text/plain": [
       "108642"
      ]
     },
     "execution_count": 29,
     "metadata": {},
     "output_type": "execute_result"
    }
   ],
   "source": [
    "#inner join in python pandas\n",
    "df_QCMetrics = pd.merge(df_products, df_tblProdflow, on='ProductNo', how='right')\n",
    "len(df_QCMetrics)"
   ]
  },
  {
   "cell_type": "code",
   "execution_count": 30,
   "metadata": {
    "ExecuteTime": {
     "end_time": "2020-02-28T15:23:49.427842Z",
     "start_time": "2020-02-28T15:23:49.122945Z"
    }
   },
   "outputs": [
    {
     "data": {
      "text/html": [
       "<div>\n",
       "<style scoped>\n",
       "    .dataframe tbody tr th:only-of-type {\n",
       "        vertical-align: middle;\n",
       "    }\n",
       "\n",
       "    .dataframe tbody tr th {\n",
       "        vertical-align: top;\n",
       "    }\n",
       "\n",
       "    .dataframe thead th {\n",
       "        text-align: right;\n",
       "    }\n",
       "</style>\n",
       "<table border=\"1\" class=\"dataframe\">\n",
       "  <thead>\n",
       "    <tr style=\"text-align: right;\">\n",
       "      <th></th>\n",
       "      <th>ProductID</th>\n",
       "      <th>ProductNo</th>\n",
       "      <th>ProductName</th>\n",
       "      <th>LineID</th>\n",
       "      <th>Description</th>\n",
       "      <th>Specials</th>\n",
       "      <th>OriginationDate</th>\n",
       "      <th>EntryDate</th>\n",
       "      <th>Status</th>\n",
       "      <th>MatrixNumber</th>\n",
       "      <th>...</th>\n",
       "      <th>QCValidation</th>\n",
       "      <th>FgInvCount</th>\n",
       "      <th>FgAccpacNote</th>\n",
       "      <th>CofAHeaderNo</th>\n",
       "      <th>QCChromatogram</th>\n",
       "      <th>Correct</th>\n",
       "      <th>DoNotCorrect</th>\n",
       "      <th>DensityUnit</th>\n",
       "      <th>DensityTemp</th>\n",
       "      <th>recipeid</th>\n",
       "    </tr>\n",
       "  </thead>\n",
       "  <tbody>\n",
       "    <tr>\n",
       "      <td>44029</td>\n",
       "      <td>16076.0</td>\n",
       "      <td>CUS-7420</td>\n",
       "      <td>Custom Standard</td>\n",
       "      <td>7.0</td>\n",
       "      <td>None</td>\n",
       "      <td>None</td>\n",
       "      <td>2005-10-11</td>\n",
       "      <td>2011-05-09</td>\n",
       "      <td>None</td>\n",
       "      <td>JHP-076</td>\n",
       "      <td>...</td>\n",
       "      <td>1.0</td>\n",
       "      <td>12.0</td>\n",
       "      <td>Approx. 100 mL in bulk</td>\n",
       "      <td>1.0</td>\n",
       "      <td>None</td>\n",
       "      <td>False</td>\n",
       "      <td>True</td>\n",
       "      <td>None</td>\n",
       "      <td>None</td>\n",
       "      <td>None</td>\n",
       "    </tr>\n",
       "    <tr>\n",
       "      <td>90043</td>\n",
       "      <td>7559.0</td>\n",
       "      <td>SP-140-1</td>\n",
       "      <td>Parathion Standard</td>\n",
       "      <td>1.0</td>\n",
       "      <td>1 analyte @ 100 µg/mL in methanol (methyl alco...</td>\n",
       "      <td>None</td>\n",
       "      <td>1999-01-20</td>\n",
       "      <td>2011-05-09</td>\n",
       "      <td>active</td>\n",
       "      <td>JHP-021</td>\n",
       "      <td>...</td>\n",
       "      <td>2.0</td>\n",
       "      <td>156.0</td>\n",
       "      <td>None</td>\n",
       "      <td>2.0</td>\n",
       "      <td>None</td>\n",
       "      <td>False</td>\n",
       "      <td>False</td>\n",
       "      <td>None</td>\n",
       "      <td>None</td>\n",
       "      <td>None</td>\n",
       "    </tr>\n",
       "    <tr>\n",
       "      <td>84931</td>\n",
       "      <td>82475.0</td>\n",
       "      <td>QCC-00234</td>\n",
       "      <td>Cysteic acid @ 0.453 g/L in 0.1N HCL</td>\n",
       "      <td>5.0</td>\n",
       "      <td>None</td>\n",
       "      <td>None</td>\n",
       "      <td>2015-08-03</td>\n",
       "      <td>2015-08-03</td>\n",
       "      <td>None</td>\n",
       "      <td>JHP-443</td>\n",
       "      <td>...</td>\n",
       "      <td>2.0</td>\n",
       "      <td>NaN</td>\n",
       "      <td>None</td>\n",
       "      <td>2.0</td>\n",
       "      <td>None</td>\n",
       "      <td>False</td>\n",
       "      <td>False</td>\n",
       "      <td>None</td>\n",
       "      <td>None</td>\n",
       "      <td>None</td>\n",
       "    </tr>\n",
       "    <tr>\n",
       "      <td>40324</td>\n",
       "      <td>11753.0</td>\n",
       "      <td>CUS-5962</td>\n",
       "      <td>Custom Standard</td>\n",
       "      <td>7.0</td>\n",
       "      <td>None</td>\n",
       "      <td>None</td>\n",
       "      <td>2004-10-21</td>\n",
       "      <td>2004-10-21</td>\n",
       "      <td>None</td>\n",
       "      <td>JHP-079</td>\n",
       "      <td>...</td>\n",
       "      <td>1.0</td>\n",
       "      <td>0.0</td>\n",
       "      <td>None</td>\n",
       "      <td>1.0</td>\n",
       "      <td>None</td>\n",
       "      <td>False</td>\n",
       "      <td>True</td>\n",
       "      <td>None</td>\n",
       "      <td>None</td>\n",
       "      <td>None</td>\n",
       "    </tr>\n",
       "    <tr>\n",
       "      <td>98307</td>\n",
       "      <td>7587.0</td>\n",
       "      <td>STM-410-1</td>\n",
       "      <td>Internal Standard</td>\n",
       "      <td>1.0</td>\n",
       "      <td>2 analytes @ 2000 µg/mL in methanol (methyl al...</td>\n",
       "      <td>None</td>\n",
       "      <td>1999-01-20</td>\n",
       "      <td>2011-05-09</td>\n",
       "      <td>active</td>\n",
       "      <td>JHP-021</td>\n",
       "      <td>...</td>\n",
       "      <td>2.0</td>\n",
       "      <td>284.0</td>\n",
       "      <td>Zero out lot U-0536 (284); Current</td>\n",
       "      <td>2.0</td>\n",
       "      <td>None</td>\n",
       "      <td>False</td>\n",
       "      <td>True</td>\n",
       "      <td>None</td>\n",
       "      <td>None</td>\n",
       "      <td>None</td>\n",
       "    </tr>\n",
       "  </tbody>\n",
       "</table>\n",
       "<p>5 rows × 94 columns</p>\n",
       "</div>"
      ],
      "text/plain": [
       "       ProductID  ProductNo                           ProductName  LineID  \\\n",
       "44029    16076.0   CUS-7420                       Custom Standard     7.0   \n",
       "90043     7559.0   SP-140-1                    Parathion Standard     1.0   \n",
       "84931    82475.0  QCC-00234  Cysteic acid @ 0.453 g/L in 0.1N HCL     5.0   \n",
       "40324    11753.0   CUS-5962                       Custom Standard     7.0   \n",
       "98307     7587.0  STM-410-1                     Internal Standard     1.0   \n",
       "\n",
       "                                             Description Specials  \\\n",
       "44029                                               None     None   \n",
       "90043  1 analyte @ 100 µg/mL in methanol (methyl alco...     None   \n",
       "84931                                               None     None   \n",
       "40324                                               None     None   \n",
       "98307  2 analytes @ 2000 µg/mL in methanol (methyl al...     None   \n",
       "\n",
       "      OriginationDate  EntryDate  Status MatrixNumber  ...  QCValidation  \\\n",
       "44029      2005-10-11 2011-05-09    None      JHP-076  ...           1.0   \n",
       "90043      1999-01-20 2011-05-09  active      JHP-021  ...           2.0   \n",
       "84931      2015-08-03 2015-08-03    None      JHP-443  ...           2.0   \n",
       "40324      2004-10-21 2004-10-21    None      JHP-079  ...           1.0   \n",
       "98307      1999-01-20 2011-05-09  active      JHP-021  ...           2.0   \n",
       "\n",
       "      FgInvCount                        FgAccpacNote CofAHeaderNo  \\\n",
       "44029       12.0              Approx. 100 mL in bulk          1.0   \n",
       "90043      156.0                                None          2.0   \n",
       "84931        NaN                                None          2.0   \n",
       "40324        0.0                                None          1.0   \n",
       "98307      284.0  Zero out lot U-0536 (284); Current          2.0   \n",
       "\n",
       "      QCChromatogram Correct  DoNotCorrect DensityUnit DensityTemp recipeid  \n",
       "44029           None   False          True        None        None     None  \n",
       "90043           None   False         False        None        None     None  \n",
       "84931           None   False         False        None        None     None  \n",
       "40324           None   False          True        None        None     None  \n",
       "98307           None   False          True        None        None     None  \n",
       "\n",
       "[5 rows x 94 columns]"
      ]
     },
     "execution_count": 30,
     "metadata": {},
     "output_type": "execute_result"
    }
   ],
   "source": [
    "# COPY FOR TESTING\n",
    "TEST_METRICS = pd.DataFrame(data=df_QCMetrics)\n",
    "TEST_METRICS.sample(5)"
   ]
  },
  {
   "cell_type": "markdown",
   "metadata": {},
   "source": [
    "### Drop **ALL** rows without a `QCDate` & `ProductLevel` "
   ]
  },
  {
   "cell_type": "code",
   "execution_count": 31,
   "metadata": {
    "ExecuteTime": {
     "end_time": "2020-02-28T15:23:49.964863Z",
     "start_time": "2020-02-28T15:23:49.428829Z"
    }
   },
   "outputs": [
    {
     "data": {
      "text/plain": [
       "84675"
      ]
     },
     "execution_count": 31,
     "metadata": {},
     "output_type": "execute_result"
    }
   ],
   "source": [
    "df_QCMetrics.dropna(axis=0, subset=['QCDate', 'ProductLevel'], how='any', inplace=True)\n",
    "# [2020-02-24]\\\\df_QCMetrics.dropna(axis=0, subset=['QCDate', 'ProductLevel'], how='any', inplace=True)\n",
    "len(df_QCMetrics)"
   ]
  },
  {
   "cell_type": "code",
   "execution_count": 32,
   "metadata": {
    "ExecuteTime": {
     "end_time": "2020-02-28T15:23:49.971863Z",
     "start_time": "2020-02-28T15:23:49.966863Z"
    }
   },
   "outputs": [
    {
     "data": {
      "text/plain": [
       "pandas.core.frame.DataFrame"
      ]
     },
     "execution_count": 32,
     "metadata": {},
     "output_type": "execute_result"
    }
   ],
   "source": [
    "type(df_month_range)"
   ]
  },
  {
   "cell_type": "markdown",
   "metadata": {},
   "source": [
    "#### TEST_METRICS (dataframe)"
   ]
  },
  {
   "cell_type": "raw",
   "metadata": {},
   "source": [
    "df_Metrics_Monthly = df_QCMetrics.set_index('QCDate'), on=df_month_range)"
   ]
  },
  {
   "cell_type": "code",
   "execution_count": 33,
   "metadata": {
    "ExecuteTime": {
     "end_time": "2020-02-28T15:23:49.981863Z",
     "start_time": "2020-02-28T15:23:49.973865Z"
    }
   },
   "outputs": [],
   "source": [
    "# CONVERT from string to datetime\n",
    "TEST_METRICS['QCDate'] = pd.to_datetime(TEST_METRICS['QCDate'])"
   ]
  },
  {
   "cell_type": "code",
   "execution_count": 34,
   "metadata": {
    "ExecuteTime": {
     "end_time": "2020-02-28T15:23:50.002862Z",
     "start_time": "2020-02-28T15:23:49.982864Z"
    }
   },
   "outputs": [],
   "source": [
    "# CONVERT FROM string to categorical\n",
    "TEST_METRICS['ProductLevel'] = pd.Categorical(TEST_METRICS[\"ProductLevel\"], ordered=False)"
   ]
  },
  {
   "cell_type": "code",
   "execution_count": 35,
   "metadata": {
    "ExecuteTime": {
     "end_time": "2020-02-28T15:23:50.051870Z",
     "start_time": "2020-02-28T15:23:50.004865Z"
    }
   },
   "outputs": [
    {
     "data": {
      "text/html": [
       "<div>\n",
       "<style scoped>\n",
       "    .dataframe tbody tr th:only-of-type {\n",
       "        vertical-align: middle;\n",
       "    }\n",
       "\n",
       "    .dataframe tbody tr th {\n",
       "        vertical-align: top;\n",
       "    }\n",
       "\n",
       "    .dataframe thead th {\n",
       "        text-align: right;\n",
       "    }\n",
       "</style>\n",
       "<table border=\"1\" class=\"dataframe\">\n",
       "  <thead>\n",
       "    <tr style=\"text-align: right;\">\n",
       "      <th></th>\n",
       "      <th></th>\n",
       "      <th>ProductID</th>\n",
       "      <th>ProductNo</th>\n",
       "      <th>ProductName</th>\n",
       "      <th>LineID</th>\n",
       "      <th>Description</th>\n",
       "      <th>Specials</th>\n",
       "      <th>OriginationDate</th>\n",
       "      <th>EntryDate</th>\n",
       "      <th>Status</th>\n",
       "      <th>MatrixNumber</th>\n",
       "      <th>...</th>\n",
       "      <th>QCValidation</th>\n",
       "      <th>FgInvCount</th>\n",
       "      <th>FgAccpacNote</th>\n",
       "      <th>CofAHeaderNo</th>\n",
       "      <th>QCChromatogram</th>\n",
       "      <th>Correct</th>\n",
       "      <th>DoNotCorrect</th>\n",
       "      <th>DensityUnit</th>\n",
       "      <th>DensityTemp</th>\n",
       "      <th>recipeid</th>\n",
       "    </tr>\n",
       "    <tr>\n",
       "      <th>QCDate</th>\n",
       "      <th>ProductLevel</th>\n",
       "      <th></th>\n",
       "      <th></th>\n",
       "      <th></th>\n",
       "      <th></th>\n",
       "      <th></th>\n",
       "      <th></th>\n",
       "      <th></th>\n",
       "      <th></th>\n",
       "      <th></th>\n",
       "      <th></th>\n",
       "      <th></th>\n",
       "      <th></th>\n",
       "      <th></th>\n",
       "      <th></th>\n",
       "      <th></th>\n",
       "      <th></th>\n",
       "      <th></th>\n",
       "      <th></th>\n",
       "      <th></th>\n",
       "      <th></th>\n",
       "      <th></th>\n",
       "    </tr>\n",
       "  </thead>\n",
       "  <tbody>\n",
       "    <tr>\n",
       "      <td>2018-05-01</td>\n",
       "      <td>2.0</td>\n",
       "      <td>13995.0</td>\n",
       "      <td>BULK-PANAL0013</td>\n",
       "      <td>KCl Saturated with AgCl</td>\n",
       "      <td>8.0</td>\n",
       "      <td>None</td>\n",
       "      <td>None</td>\n",
       "      <td>2005-04-13</td>\n",
       "      <td>2005-04-13</td>\n",
       "      <td>None</td>\n",
       "      <td>JHP-040</td>\n",
       "      <td>...</td>\n",
       "      <td>2.0</td>\n",
       "      <td>6000.0</td>\n",
       "      <td>None</td>\n",
       "      <td>2.0</td>\n",
       "      <td>None</td>\n",
       "      <td>False</td>\n",
       "      <td>False</td>\n",
       "      <td>None</td>\n",
       "      <td>None</td>\n",
       "      <td>None</td>\n",
       "    </tr>\n",
       "    <tr>\n",
       "      <td>2018-11-29</td>\n",
       "      <td>1.0</td>\n",
       "      <td>30596.0</td>\n",
       "      <td>ICUS-2381-125</td>\n",
       "      <td>Custom Standard</td>\n",
       "      <td>8.0</td>\n",
       "      <td>None</td>\n",
       "      <td>None</td>\n",
       "      <td>2008-03-25</td>\n",
       "      <td>2008-03-25</td>\n",
       "      <td>None</td>\n",
       "      <td>JHP-040</td>\n",
       "      <td>...</td>\n",
       "      <td>1.0</td>\n",
       "      <td>1.0</td>\n",
       "      <td>None</td>\n",
       "      <td>1.0</td>\n",
       "      <td>None</td>\n",
       "      <td>False</td>\n",
       "      <td>False</td>\n",
       "      <td>None</td>\n",
       "      <td>None</td>\n",
       "      <td>None</td>\n",
       "    </tr>\n",
       "    <tr>\n",
       "      <td>2005-11-17</td>\n",
       "      <td>1.0</td>\n",
       "      <td>16400.0</td>\n",
       "      <td>CUS-7095</td>\n",
       "      <td>Custom Standard</td>\n",
       "      <td>7.0</td>\n",
       "      <td>None</td>\n",
       "      <td>None</td>\n",
       "      <td>2005-10-28</td>\n",
       "      <td>2011-05-09</td>\n",
       "      <td>None</td>\n",
       "      <td>JHP-001</td>\n",
       "      <td>...</td>\n",
       "      <td>1.0</td>\n",
       "      <td>1.0</td>\n",
       "      <td>45 ml in bulk</td>\n",
       "      <td>1.0</td>\n",
       "      <td>None</td>\n",
       "      <td>False</td>\n",
       "      <td>True</td>\n",
       "      <td>None</td>\n",
       "      <td>None</td>\n",
       "      <td>None</td>\n",
       "    </tr>\n",
       "    <tr>\n",
       "      <td>2005-02-14</td>\n",
       "      <td>NaN</td>\n",
       "      <td>6999.0</td>\n",
       "      <td>PST-865S</td>\n",
       "      <td>Propachlor Solution</td>\n",
       "      <td>1.0</td>\n",
       "      <td>1 analyte @ 100 µg/mL in methanol (methyl alco...</td>\n",
       "      <td>None</td>\n",
       "      <td>1999-01-20</td>\n",
       "      <td>2011-05-09</td>\n",
       "      <td>active</td>\n",
       "      <td>JHP-021</td>\n",
       "      <td>...</td>\n",
       "      <td>2.0</td>\n",
       "      <td>160.0</td>\n",
       "      <td>Back up lot; Current lot W-0056</td>\n",
       "      <td>2.0</td>\n",
       "      <td>None</td>\n",
       "      <td>False</td>\n",
       "      <td>True</td>\n",
       "      <td>None</td>\n",
       "      <td>None</td>\n",
       "      <td>None</td>\n",
       "    </tr>\n",
       "    <tr>\n",
       "      <td>NaT</td>\n",
       "      <td>2.0</td>\n",
       "      <td>84256.0</td>\n",
       "      <td>PST-6100A1000</td>\n",
       "      <td>Triticonazole Standard</td>\n",
       "      <td>7.0</td>\n",
       "      <td>None</td>\n",
       "      <td>None</td>\n",
       "      <td>2015-10-29</td>\n",
       "      <td>2015-10-29</td>\n",
       "      <td>None</td>\n",
       "      <td>JHP-003</td>\n",
       "      <td>...</td>\n",
       "      <td>1.0</td>\n",
       "      <td>NaN</td>\n",
       "      <td>None</td>\n",
       "      <td>1.0</td>\n",
       "      <td>None</td>\n",
       "      <td>False</td>\n",
       "      <td>False</td>\n",
       "      <td>None</td>\n",
       "      <td>None</td>\n",
       "      <td>None</td>\n",
       "    </tr>\n",
       "  </tbody>\n",
       "</table>\n",
       "<p>5 rows × 92 columns</p>\n",
       "</div>"
      ],
      "text/plain": [
       "                         ProductID       ProductNo              ProductName  \\\n",
       "QCDate     ProductLevel                                                       \n",
       "2018-05-01 2.0             13995.0  BULK-PANAL0013  KCl Saturated with AgCl   \n",
       "2018-11-29 1.0             30596.0   ICUS-2381-125          Custom Standard   \n",
       "2005-11-17 1.0             16400.0        CUS-7095          Custom Standard   \n",
       "2005-02-14 NaN              6999.0        PST-865S      Propachlor Solution   \n",
       "NaT        2.0             84256.0   PST-6100A1000   Triticonazole Standard   \n",
       "\n",
       "                         LineID  \\\n",
       "QCDate     ProductLevel           \n",
       "2018-05-01 2.0              8.0   \n",
       "2018-11-29 1.0              8.0   \n",
       "2005-11-17 1.0              7.0   \n",
       "2005-02-14 NaN              1.0   \n",
       "NaT        2.0              7.0   \n",
       "\n",
       "                                                               Description  \\\n",
       "QCDate     ProductLevel                                                      \n",
       "2018-05-01 2.0                                                        None   \n",
       "2018-11-29 1.0                                                        None   \n",
       "2005-11-17 1.0                                                        None   \n",
       "2005-02-14 NaN           1 analyte @ 100 µg/mL in methanol (methyl alco...   \n",
       "NaT        2.0                                                        None   \n",
       "\n",
       "                        Specials OriginationDate  EntryDate  Status  \\\n",
       "QCDate     ProductLevel                                               \n",
       "2018-05-01 2.0              None      2005-04-13 2005-04-13    None   \n",
       "2018-11-29 1.0              None      2008-03-25 2008-03-25    None   \n",
       "2005-11-17 1.0              None      2005-10-28 2011-05-09    None   \n",
       "2005-02-14 NaN              None      1999-01-20 2011-05-09  active   \n",
       "NaT        2.0              None      2015-10-29 2015-10-29    None   \n",
       "\n",
       "                        MatrixNumber  ...  QCValidation FgInvCount  \\\n",
       "QCDate     ProductLevel               ...                            \n",
       "2018-05-01 2.0               JHP-040  ...           2.0     6000.0   \n",
       "2018-11-29 1.0               JHP-040  ...           1.0        1.0   \n",
       "2005-11-17 1.0               JHP-001  ...           1.0        1.0   \n",
       "2005-02-14 NaN               JHP-021  ...           2.0      160.0   \n",
       "NaT        2.0               JHP-003  ...           1.0        NaN   \n",
       "\n",
       "                                            FgAccpacNote CofAHeaderNo  \\\n",
       "QCDate     ProductLevel                                                 \n",
       "2018-05-01 2.0                                      None          2.0   \n",
       "2018-11-29 1.0                                      None          1.0   \n",
       "2005-11-17 1.0                             45 ml in bulk          1.0   \n",
       "2005-02-14 NaN           Back up lot; Current lot W-0056          2.0   \n",
       "NaT        2.0                                      None          1.0   \n",
       "\n",
       "                        QCChromatogram Correct  DoNotCorrect DensityUnit  \\\n",
       "QCDate     ProductLevel                                                    \n",
       "2018-05-01 2.0                    None   False         False        None   \n",
       "2018-11-29 1.0                    None   False         False        None   \n",
       "2005-11-17 1.0                    None   False          True        None   \n",
       "2005-02-14 NaN                    None   False          True        None   \n",
       "NaT        2.0                    None   False         False        None   \n",
       "\n",
       "                        DensityTemp recipeid  \n",
       "QCDate     ProductLevel                       \n",
       "2018-05-01 2.0                 None     None  \n",
       "2018-11-29 1.0                 None     None  \n",
       "2005-11-17 1.0                 None     None  \n",
       "2005-02-14 NaN                 None     None  \n",
       "NaT        2.0                 None     None  \n",
       "\n",
       "[5 rows x 92 columns]"
      ]
     },
     "execution_count": 35,
     "metadata": {},
     "output_type": "execute_result"
    }
   ],
   "source": [
    "# SET ['QCDate'] & ['QCValidation'] as the INDEX and delete COLUMNS\n",
    "# [2020-02-24]\\\\TEST_METRICS.set_index([TEST_METRICS['QCDate'], TEST_METRICS['QCValidation']])\n",
    "TEST_METRICS.index = [TEST_METRICS['QCDate'], TEST_METRICS['ProductLevel']]\n",
    "del TEST_METRICS['QCDate'], TEST_METRICS['ProductLevel']\n",
    "TEST_METRICS.sample(5)"
   ]
  },
  {
   "cell_type": "raw",
   "metadata": {},
   "source": [
    "TEST_METRICS.index =  = df_QCMetrics.reindex(['QCDate', 'QCValidation'], inplace=False)"
   ]
  },
  {
   "cell_type": "code",
   "execution_count": 36,
   "metadata": {
    "ExecuteTime": {
     "end_time": "2020-02-28T15:23:51.344989Z",
     "start_time": "2020-02-28T15:23:50.052874Z"
    }
   },
   "outputs": [
    {
     "data": {
      "text/plain": [
       "                            PfBatchID\n",
       "(1996-10-11 00:00:00, nan)  NB961089     1\n",
       "                            NB961088     1\n",
       "                            NB961085     1\n",
       "                            NB961090     1\n",
       "                            NB961091     1\n",
       "                                        ..\n",
       "(2020-02-27 00:00:00, 2.0)  NAB01019     1\n",
       "                            NAB01020     1\n",
       "                            NAB01023     1\n",
       "                            NAB01046     1\n",
       "                            NAB01082     1\n",
       "Name: PfBatchID, Length: 108642, dtype: int64"
      ]
     },
     "execution_count": 36,
     "metadata": {},
     "output_type": "execute_result"
    }
   ],
   "source": [
    "# TEST_METRICS.groupby(TEST_METRICS.index)['PfBatchID'].count()\n",
    "TEST_METRICS.groupby([TEST_METRICS.index, 'PfBatchID'])['PfBatchID'].count()"
   ]
  },
  {
   "cell_type": "code",
   "execution_count": 37,
   "metadata": {
    "ExecuteTime": {
     "end_time": "2020-02-28T15:23:52.115058Z",
     "start_time": "2020-02-28T15:23:51.346958Z"
    }
   },
   "outputs": [
    {
     "name": "stdout",
     "output_type": "stream",
     "text": [
      "FAIL!\n",
      "\n",
      "TypeError:\n",
      "\tOnly valid with:\n",
      "\t\tDatetimeIndex,\n",
      "\t\tTimedeltaIndex,\n",
      "\t\tPeriodIndex;\n",
      "\t\t\tbut got an instance of 'MultiIndex'\n"
     ]
    }
   ],
   "source": [
    "try: # {\n",
    "    TEST_METRICS.resample(\"D\").count()\n",
    "# }\n",
    "except: # {\n",
    "    print(\"FAIL!\\n\\nTypeError:\\n\\tOnly valid with:\\n\\t\\tDatetimeIndex,\\n\\t\\tTimedeltaIndex,\\n\\t\\tPeriodIndex;\\n\\t\\t\\tbut got an instance of 'MultiIndex'\")\n",
    "# }"
   ]
  },
  {
   "cell_type": "code",
   "execution_count": 38,
   "metadata": {
    "ExecuteTime": {
     "end_time": "2020-02-28T15:24:01.743930Z",
     "start_time": "2020-02-28T15:23:52.117061Z"
    }
   },
   "outputs": [],
   "source": [
    "TEST_METRICS.to_csv(\"test_METRICS_index.csv\", index=True)"
   ]
  },
  {
   "cell_type": "markdown",
   "metadata": {},
   "source": [
    "---\n",
    "# CHANGE `index` of `df_QCMetrics`:"
   ]
  },
  {
   "cell_type": "markdown",
   "metadata": {},
   "source": [
    "---\n",
    "## *BEFORE setting `index`:*"
   ]
  },
  {
   "cell_type": "code",
   "execution_count": 39,
   "metadata": {
    "ExecuteTime": {
     "end_time": "2020-02-28T15:24:01.776053Z",
     "start_time": "2020-02-28T15:24:01.745934Z"
    }
   },
   "outputs": [
    {
     "data": {
      "text/html": [
       "<div>\n",
       "<style scoped>\n",
       "    .dataframe tbody tr th:only-of-type {\n",
       "        vertical-align: middle;\n",
       "    }\n",
       "\n",
       "    .dataframe tbody tr th {\n",
       "        vertical-align: top;\n",
       "    }\n",
       "\n",
       "    .dataframe thead th {\n",
       "        text-align: right;\n",
       "    }\n",
       "</style>\n",
       "<table border=\"1\" class=\"dataframe\">\n",
       "  <thead>\n",
       "    <tr style=\"text-align: right;\">\n",
       "      <th></th>\n",
       "      <th>ProductID</th>\n",
       "      <th>ProductNo</th>\n",
       "      <th>ProductName</th>\n",
       "      <th>LineID</th>\n",
       "      <th>Description</th>\n",
       "      <th>Specials</th>\n",
       "      <th>OriginationDate</th>\n",
       "      <th>EntryDate</th>\n",
       "      <th>Status</th>\n",
       "      <th>MatrixNumber</th>\n",
       "      <th>...</th>\n",
       "      <th>QCValidation</th>\n",
       "      <th>FgInvCount</th>\n",
       "      <th>FgAccpacNote</th>\n",
       "      <th>CofAHeaderNo</th>\n",
       "      <th>QCChromatogram</th>\n",
       "      <th>Correct</th>\n",
       "      <th>DoNotCorrect</th>\n",
       "      <th>DensityUnit</th>\n",
       "      <th>DensityTemp</th>\n",
       "      <th>recipeid</th>\n",
       "    </tr>\n",
       "  </thead>\n",
       "  <tbody>\n",
       "    <tr>\n",
       "      <td>30435</td>\n",
       "      <td>2786.0</td>\n",
       "      <td>CUS-2232</td>\n",
       "      <td>Custom Standard</td>\n",
       "      <td>7.0</td>\n",
       "      <td>None</td>\n",
       "      <td>None</td>\n",
       "      <td>2003-08-06</td>\n",
       "      <td>2011-05-09</td>\n",
       "      <td>None</td>\n",
       "      <td>JHP-021</td>\n",
       "      <td>...</td>\n",
       "      <td>1.0</td>\n",
       "      <td>NaN</td>\n",
       "      <td>None</td>\n",
       "      <td>1.0</td>\n",
       "      <td>None</td>\n",
       "      <td>False</td>\n",
       "      <td>True</td>\n",
       "      <td>None</td>\n",
       "      <td>None</td>\n",
       "      <td>None</td>\n",
       "    </tr>\n",
       "    <tr>\n",
       "      <td>25783</td>\n",
       "      <td>66156.0</td>\n",
       "      <td>CUS-14961</td>\n",
       "      <td>Custom Standard</td>\n",
       "      <td>7.0</td>\n",
       "      <td>None</td>\n",
       "      <td>None</td>\n",
       "      <td>2013-07-23</td>\n",
       "      <td>2013-07-23</td>\n",
       "      <td>None</td>\n",
       "      <td>JHP-003</td>\n",
       "      <td>...</td>\n",
       "      <td>3.0</td>\n",
       "      <td>6.0</td>\n",
       "      <td>None</td>\n",
       "      <td>10.0</td>\n",
       "      <td>None</td>\n",
       "      <td>False</td>\n",
       "      <td>False</td>\n",
       "      <td>None</td>\n",
       "      <td>None</td>\n",
       "      <td>None</td>\n",
       "    </tr>\n",
       "    <tr>\n",
       "      <td>1848</td>\n",
       "      <td>5463.0</td>\n",
       "      <td>5080-8842</td>\n",
       "      <td>Flame Ionization Detector Sample</td>\n",
       "      <td>7.0</td>\n",
       "      <td>None</td>\n",
       "      <td>agilent gc</td>\n",
       "      <td>1995-09-22</td>\n",
       "      <td>2011-05-09</td>\n",
       "      <td>oem</td>\n",
       "      <td>JHP-014</td>\n",
       "      <td>...</td>\n",
       "      <td>2.0</td>\n",
       "      <td>5000.0</td>\n",
       "      <td>backup</td>\n",
       "      <td>2.0</td>\n",
       "      <td>None</td>\n",
       "      <td>False</td>\n",
       "      <td>True</td>\n",
       "      <td>None</td>\n",
       "      <td>None</td>\n",
       "      <td>None</td>\n",
       "    </tr>\n",
       "    <tr>\n",
       "      <td>100794</td>\n",
       "      <td>61628.0</td>\n",
       "      <td>TS-7005002-1</td>\n",
       "      <td>Tetrahydroisohumulones</td>\n",
       "      <td>7.0</td>\n",
       "      <td>None</td>\n",
       "      <td>None</td>\n",
       "      <td>2012-11-28</td>\n",
       "      <td>2012-11-28</td>\n",
       "      <td>None</td>\n",
       "      <td>JHP-021</td>\n",
       "      <td>...</td>\n",
       "      <td>2.0</td>\n",
       "      <td>NaN</td>\n",
       "      <td>None</td>\n",
       "      <td>2.0</td>\n",
       "      <td>None</td>\n",
       "      <td>False</td>\n",
       "      <td>False</td>\n",
       "      <td>None</td>\n",
       "      <td>None</td>\n",
       "      <td>None</td>\n",
       "    </tr>\n",
       "    <tr>\n",
       "      <td>80997</td>\n",
       "      <td>79048.0</td>\n",
       "      <td>PST-3300K1000</td>\n",
       "      <td>Thifensulfuron methyl Standard</td>\n",
       "      <td>1.0</td>\n",
       "      <td>None</td>\n",
       "      <td>None</td>\n",
       "      <td>2015-02-14</td>\n",
       "      <td>2015-02-14</td>\n",
       "      <td>None</td>\n",
       "      <td>JHP-001</td>\n",
       "      <td>...</td>\n",
       "      <td>2.0</td>\n",
       "      <td>7.0</td>\n",
       "      <td>None</td>\n",
       "      <td>2.0</td>\n",
       "      <td>None</td>\n",
       "      <td>False</td>\n",
       "      <td>False</td>\n",
       "      <td>None</td>\n",
       "      <td>None</td>\n",
       "      <td>None</td>\n",
       "    </tr>\n",
       "  </tbody>\n",
       "</table>\n",
       "<p>5 rows × 94 columns</p>\n",
       "</div>"
      ],
      "text/plain": [
       "        ProductID      ProductNo                       ProductName  LineID  \\\n",
       "30435      2786.0       CUS-2232                   Custom Standard     7.0   \n",
       "25783     66156.0      CUS-14961                   Custom Standard     7.0   \n",
       "1848       5463.0      5080-8842  Flame Ionization Detector Sample     7.0   \n",
       "100794    61628.0   TS-7005002-1            Tetrahydroisohumulones     7.0   \n",
       "80997     79048.0  PST-3300K1000    Thifensulfuron methyl Standard     1.0   \n",
       "\n",
       "       Description    Specials OriginationDate  EntryDate Status MatrixNumber  \\\n",
       "30435         None        None      2003-08-06 2011-05-09   None      JHP-021   \n",
       "25783         None        None      2013-07-23 2013-07-23   None      JHP-003   \n",
       "1848          None  agilent gc      1995-09-22 2011-05-09    oem      JHP-014   \n",
       "100794        None        None      2012-11-28 2012-11-28   None      JHP-021   \n",
       "80997         None        None      2015-02-14 2015-02-14   None      JHP-001   \n",
       "\n",
       "        ...  QCValidation FgInvCount FgAccpacNote CofAHeaderNo QCChromatogram  \\\n",
       "30435   ...           1.0        NaN         None          1.0           None   \n",
       "25783   ...           3.0        6.0         None         10.0           None   \n",
       "1848    ...           2.0     5000.0       backup          2.0           None   \n",
       "100794  ...           2.0        NaN         None          2.0           None   \n",
       "80997   ...           2.0        7.0         None          2.0           None   \n",
       "\n",
       "       Correct  DoNotCorrect DensityUnit DensityTemp recipeid  \n",
       "30435    False          True        None        None     None  \n",
       "25783    False         False        None        None     None  \n",
       "1848     False          True        None        None     None  \n",
       "100794   False         False        None        None     None  \n",
       "80997    False         False        None        None     None  \n",
       "\n",
       "[5 rows x 94 columns]"
      ]
     },
     "execution_count": 39,
     "metadata": {},
     "output_type": "execute_result"
    }
   ],
   "source": [
    "df_QCMetrics.sample(5)"
   ]
  },
  {
   "cell_type": "markdown",
   "metadata": {},
   "source": [
    "### Convert `QCMetrics`['QCDate'] from `str` to `datetime`"
   ]
  },
  {
   "cell_type": "code",
   "execution_count": 40,
   "metadata": {
    "ExecuteTime": {
     "end_time": "2020-02-28T15:24:01.788045Z",
     "start_time": "2020-02-28T15:24:01.781044Z"
    }
   },
   "outputs": [],
   "source": [
    "# Convert \"QCMetrics\"['QCDate'] from string to datetime\n",
    "df_QCMetrics['QCDate'] = pd.to_datetime(df_QCMetrics['QCDate'])"
   ]
  },
  {
   "cell_type": "markdown",
   "metadata": {},
   "source": [
    "### set `index` of `df_QCMetrics` to be `QCDate` (after changing `dtype`)"
   ]
  },
  {
   "cell_type": "code",
   "execution_count": 41,
   "metadata": {
    "ExecuteTime": {
     "end_time": "2020-02-28T15:24:01.809072Z",
     "start_time": "2020-02-28T15:24:01.792044Z"
    }
   },
   "outputs": [],
   "source": [
    "# set \"QCmetrics\"\"['QCDate'] as the index and delete column\n",
    "df_QCMetrics.index = df_QCMetrics['QCDate']\n",
    "del df_QCMetrics['QCDate']"
   ]
  },
  {
   "cell_type": "raw",
   "metadata": {
    "raw_mimetype": "text/x-python"
   },
   "source": [
    "df_QCMetrics.dropna(axis=\"columns\", subset=df_QCMetrics.index, how='any', inplace=True)\n",
    "len(df_QCMetrics)"
   ]
  },
  {
   "cell_type": "markdown",
   "metadata": {},
   "source": [
    "---\n",
    "## *AFTER setting `index`:*"
   ]
  },
  {
   "cell_type": "code",
   "execution_count": 42,
   "metadata": {
    "ExecuteTime": {
     "end_time": "2020-02-28T15:24:01.854045Z",
     "start_time": "2020-02-28T15:24:01.812047Z"
    }
   },
   "outputs": [
    {
     "data": {
      "text/html": [
       "<div>\n",
       "<style scoped>\n",
       "    .dataframe tbody tr th:only-of-type {\n",
       "        vertical-align: middle;\n",
       "    }\n",
       "\n",
       "    .dataframe tbody tr th {\n",
       "        vertical-align: top;\n",
       "    }\n",
       "\n",
       "    .dataframe thead th {\n",
       "        text-align: right;\n",
       "    }\n",
       "</style>\n",
       "<table border=\"1\" class=\"dataframe\">\n",
       "  <thead>\n",
       "    <tr style=\"text-align: right;\">\n",
       "      <th></th>\n",
       "      <th>ProductID</th>\n",
       "      <th>ProductNo</th>\n",
       "      <th>ProductName</th>\n",
       "      <th>LineID</th>\n",
       "      <th>Description</th>\n",
       "      <th>Specials</th>\n",
       "      <th>OriginationDate</th>\n",
       "      <th>EntryDate</th>\n",
       "      <th>Status</th>\n",
       "      <th>MatrixNumber</th>\n",
       "      <th>...</th>\n",
       "      <th>QCValidation</th>\n",
       "      <th>FgInvCount</th>\n",
       "      <th>FgAccpacNote</th>\n",
       "      <th>CofAHeaderNo</th>\n",
       "      <th>QCChromatogram</th>\n",
       "      <th>Correct</th>\n",
       "      <th>DoNotCorrect</th>\n",
       "      <th>DensityUnit</th>\n",
       "      <th>DensityTemp</th>\n",
       "      <th>recipeid</th>\n",
       "    </tr>\n",
       "    <tr>\n",
       "      <th>QCDate</th>\n",
       "      <th></th>\n",
       "      <th></th>\n",
       "      <th></th>\n",
       "      <th></th>\n",
       "      <th></th>\n",
       "      <th></th>\n",
       "      <th></th>\n",
       "      <th></th>\n",
       "      <th></th>\n",
       "      <th></th>\n",
       "      <th></th>\n",
       "      <th></th>\n",
       "      <th></th>\n",
       "      <th></th>\n",
       "      <th></th>\n",
       "      <th></th>\n",
       "      <th></th>\n",
       "      <th></th>\n",
       "      <th></th>\n",
       "      <th></th>\n",
       "      <th></th>\n",
       "    </tr>\n",
       "  </thead>\n",
       "  <tbody>\n",
       "    <tr>\n",
       "      <td>2017-06-14</td>\n",
       "      <td>5557.0</td>\n",
       "      <td>AMM-802-1</td>\n",
       "      <td>Aromatic Volatiles Standard</td>\n",
       "      <td>1.0</td>\n",
       "      <td>11 analytes @ 100 µg/mL in methanol (methyl al...</td>\n",
       "      <td>None</td>\n",
       "      <td>1999-01-20</td>\n",
       "      <td>2011-05-09</td>\n",
       "      <td>active</td>\n",
       "      <td>JHP-021</td>\n",
       "      <td>...</td>\n",
       "      <td>2.0</td>\n",
       "      <td>65.0</td>\n",
       "      <td>None</td>\n",
       "      <td>2.0</td>\n",
       "      <td>None</td>\n",
       "      <td>False</td>\n",
       "      <td>False</td>\n",
       "      <td>None</td>\n",
       "      <td>None</td>\n",
       "      <td>None</td>\n",
       "    </tr>\n",
       "    <tr>\n",
       "      <td>2008-05-12</td>\n",
       "      <td>11210.0</td>\n",
       "      <td>PANAL0175</td>\n",
       "      <td>Benzonitrile (as N), 1 mg/L</td>\n",
       "      <td>7.0</td>\n",
       "      <td>None</td>\n",
       "      <td>None</td>\n",
       "      <td>2004-09-08</td>\n",
       "      <td>2011-05-09</td>\n",
       "      <td>None</td>\n",
       "      <td>JHP-038</td>\n",
       "      <td>...</td>\n",
       "      <td>1.0</td>\n",
       "      <td>104.0</td>\n",
       "      <td>zero out cc-0750a (108) stab</td>\n",
       "      <td>1.0</td>\n",
       "      <td>None</td>\n",
       "      <td>False</td>\n",
       "      <td>True</td>\n",
       "      <td>None</td>\n",
       "      <td>None</td>\n",
       "      <td>None</td>\n",
       "    </tr>\n",
       "    <tr>\n",
       "      <td>2018-08-02</td>\n",
       "      <td>100450.0</td>\n",
       "      <td>G2421-60001-X</td>\n",
       "      <td>ESI Tuning Mix</td>\n",
       "      <td>20.0</td>\n",
       "      <td>None</td>\n",
       "      <td>None</td>\n",
       "      <td>2017-11-02</td>\n",
       "      <td>2017-11-02</td>\n",
       "      <td>None</td>\n",
       "      <td>JHP-422</td>\n",
       "      <td>...</td>\n",
       "      <td>2.0</td>\n",
       "      <td>332.0</td>\n",
       "      <td>None</td>\n",
       "      <td>2.0</td>\n",
       "      <td>None</td>\n",
       "      <td>False</td>\n",
       "      <td>False</td>\n",
       "      <td>None</td>\n",
       "      <td>None</td>\n",
       "      <td>None</td>\n",
       "    </tr>\n",
       "    <tr>\n",
       "      <td>2016-02-18</td>\n",
       "      <td>85655.0</td>\n",
       "      <td>CUS-19383</td>\n",
       "      <td>Custom Standard</td>\n",
       "      <td>7.0</td>\n",
       "      <td>None</td>\n",
       "      <td>None</td>\n",
       "      <td>2016-01-25</td>\n",
       "      <td>2016-01-25</td>\n",
       "      <td>None</td>\n",
       "      <td>JHP-021</td>\n",
       "      <td>...</td>\n",
       "      <td>1.0</td>\n",
       "      <td>32.0</td>\n",
       "      <td>None</td>\n",
       "      <td>1.0</td>\n",
       "      <td>None</td>\n",
       "      <td>False</td>\n",
       "      <td>False</td>\n",
       "      <td>None</td>\n",
       "      <td>None</td>\n",
       "      <td>None</td>\n",
       "    </tr>\n",
       "    <tr>\n",
       "      <td>2015-06-11</td>\n",
       "      <td>81050.0</td>\n",
       "      <td>CUS-17673</td>\n",
       "      <td>Custom Standard</td>\n",
       "      <td>7.0</td>\n",
       "      <td>None</td>\n",
       "      <td>None</td>\n",
       "      <td>2015-05-12</td>\n",
       "      <td>2015-05-12</td>\n",
       "      <td>None</td>\n",
       "      <td>JHP-266</td>\n",
       "      <td>...</td>\n",
       "      <td>1.0</td>\n",
       "      <td>31.0</td>\n",
       "      <td>None</td>\n",
       "      <td>1.0</td>\n",
       "      <td>None</td>\n",
       "      <td>False</td>\n",
       "      <td>False</td>\n",
       "      <td>None</td>\n",
       "      <td>None</td>\n",
       "      <td>None</td>\n",
       "    </tr>\n",
       "  </tbody>\n",
       "</table>\n",
       "<p>5 rows × 93 columns</p>\n",
       "</div>"
      ],
      "text/plain": [
       "            ProductID      ProductNo                  ProductName  LineID  \\\n",
       "QCDate                                                                      \n",
       "2017-06-14     5557.0      AMM-802-1  Aromatic Volatiles Standard     1.0   \n",
       "2008-05-12    11210.0      PANAL0175  Benzonitrile (as N), 1 mg/L     7.0   \n",
       "2018-08-02   100450.0  G2421-60001-X               ESI Tuning Mix    20.0   \n",
       "2016-02-18    85655.0      CUS-19383              Custom Standard     7.0   \n",
       "2015-06-11    81050.0      CUS-17673              Custom Standard     7.0   \n",
       "\n",
       "                                                  Description Specials  \\\n",
       "QCDate                                                                   \n",
       "2017-06-14  11 analytes @ 100 µg/mL in methanol (methyl al...     None   \n",
       "2008-05-12                                               None     None   \n",
       "2018-08-02                                               None     None   \n",
       "2016-02-18                                               None     None   \n",
       "2015-06-11                                               None     None   \n",
       "\n",
       "           OriginationDate  EntryDate  Status MatrixNumber  ...  QCValidation  \\\n",
       "QCDate                                                      ...                 \n",
       "2017-06-14      1999-01-20 2011-05-09  active      JHP-021  ...           2.0   \n",
       "2008-05-12      2004-09-08 2011-05-09    None      JHP-038  ...           1.0   \n",
       "2018-08-02      2017-11-02 2017-11-02    None      JHP-422  ...           2.0   \n",
       "2016-02-18      2016-01-25 2016-01-25    None      JHP-021  ...           1.0   \n",
       "2015-06-11      2015-05-12 2015-05-12    None      JHP-266  ...           1.0   \n",
       "\n",
       "           FgInvCount                  FgAccpacNote CofAHeaderNo  \\\n",
       "QCDate                                                             \n",
       "2017-06-14       65.0                          None          2.0   \n",
       "2008-05-12      104.0  zero out cc-0750a (108) stab          1.0   \n",
       "2018-08-02      332.0                          None          2.0   \n",
       "2016-02-18       32.0                          None          1.0   \n",
       "2015-06-11       31.0                          None          1.0   \n",
       "\n",
       "           QCChromatogram Correct  DoNotCorrect DensityUnit DensityTemp  \\\n",
       "QCDate                                                                    \n",
       "2017-06-14           None   False         False        None        None   \n",
       "2008-05-12           None   False          True        None        None   \n",
       "2018-08-02           None   False         False        None        None   \n",
       "2016-02-18           None   False         False        None        None   \n",
       "2015-06-11           None   False         False        None        None   \n",
       "\n",
       "           recipeid  \n",
       "QCDate               \n",
       "2017-06-14     None  \n",
       "2008-05-12     None  \n",
       "2018-08-02     None  \n",
       "2016-02-18     None  \n",
       "2015-06-11     None  \n",
       "\n",
       "[5 rows x 93 columns]"
      ]
     },
     "execution_count": 42,
     "metadata": {},
     "output_type": "execute_result"
    }
   ],
   "source": [
    "df_QCMetrics.sample(5)"
   ]
  },
  {
   "cell_type": "raw",
   "metadata": {},
   "source": [
    "---\n",
    "## `resample` dataframe with *QCDate* as `index`:"
   ]
  },
  {
   "cell_type": "raw",
   "metadata": {
    "ExecuteTime": {
     "end_time": "2020-02-24T21:50:25.726189Z",
     "start_time": "2020-02-24T21:50:25.713149Z"
    }
   },
   "source": [
    "metrics_month = df_QCMetrics[str(td_one_month_ago):str(test_date)]"
   ]
  },
  {
   "cell_type": "raw",
   "metadata": {},
   "source": [
    "### `groupBy` the `resample`?"
   ]
  },
  {
   "cell_type": "raw",
   "metadata": {
    "raw_mimetype": "text/x-python"
   },
   "source": [
    "merged = pd.concat([df_QCMetrics, df_month_range], join='inner')"
   ]
  },
  {
   "cell_type": "raw",
   "metadata": {
    "raw_mimetype": "text/x-python"
   },
   "source": [
    "merged"
   ]
  },
  {
   "cell_type": "raw",
   "metadata": {
    "raw_mimetype": "text/x-python"
   },
   "source": [
    "merged = df_QCMetrics.join(df_month_range, on = ['QCDate'], how='right', lsuffix='_x')"
   ]
  },
  {
   "cell_type": "markdown",
   "metadata": {},
   "source": [
    "---\n",
    "# create `df_last_month` DataFrame"
   ]
  },
  {
   "cell_type": "markdown",
   "metadata": {},
   "source": [
    "---\n",
    "### View Observations between One Month Ago and Today"
   ]
  },
  {
   "cell_type": "code",
   "execution_count": 43,
   "metadata": {
    "ExecuteTime": {
     "end_time": "2020-02-28T15:24:01.868048Z",
     "start_time": "2020-02-28T15:24:01.855047Z"
    }
   },
   "outputs": [
    {
     "data": {
      "text/plain": [
       "572"
      ]
     },
     "execution_count": 43,
     "metadata": {},
     "output_type": "execute_result"
    }
   ],
   "source": [
    "df_last_month = df_QCMetrics[str(one_month_ago):str(test_date)]\n",
    "len(df_last_month)\n",
    "# [2020-02-22]\\\\df_last_month.to_csv(\"last_month.csv\", index=True)"
   ]
  },
  {
   "cell_type": "code",
   "execution_count": 44,
   "metadata": {
    "ExecuteTime": {
     "end_time": "2020-02-28T15:24:01.899052Z",
     "start_time": "2020-02-28T15:24:01.869047Z"
    }
   },
   "outputs": [
    {
     "data": {
      "text/html": [
       "<div>\n",
       "<style scoped>\n",
       "    .dataframe tbody tr th:only-of-type {\n",
       "        vertical-align: middle;\n",
       "    }\n",
       "\n",
       "    .dataframe tbody tr th {\n",
       "        vertical-align: top;\n",
       "    }\n",
       "\n",
       "    .dataframe thead th {\n",
       "        text-align: right;\n",
       "    }\n",
       "</style>\n",
       "<table border=\"1\" class=\"dataframe\">\n",
       "  <thead>\n",
       "    <tr style=\"text-align: right;\">\n",
       "      <th></th>\n",
       "      <th>ProductID</th>\n",
       "      <th>ProductNo</th>\n",
       "      <th>ProductName</th>\n",
       "      <th>LineID</th>\n",
       "      <th>Description</th>\n",
       "      <th>Specials</th>\n",
       "      <th>OriginationDate</th>\n",
       "      <th>EntryDate</th>\n",
       "      <th>Status</th>\n",
       "      <th>MatrixNumber</th>\n",
       "      <th>...</th>\n",
       "      <th>QCValidation</th>\n",
       "      <th>FgInvCount</th>\n",
       "      <th>FgAccpacNote</th>\n",
       "      <th>CofAHeaderNo</th>\n",
       "      <th>QCChromatogram</th>\n",
       "      <th>Correct</th>\n",
       "      <th>DoNotCorrect</th>\n",
       "      <th>DensityUnit</th>\n",
       "      <th>DensityTemp</th>\n",
       "      <th>recipeid</th>\n",
       "    </tr>\n",
       "    <tr>\n",
       "      <th>QCDate</th>\n",
       "      <th></th>\n",
       "      <th></th>\n",
       "      <th></th>\n",
       "      <th></th>\n",
       "      <th></th>\n",
       "      <th></th>\n",
       "      <th></th>\n",
       "      <th></th>\n",
       "      <th></th>\n",
       "      <th></th>\n",
       "      <th></th>\n",
       "      <th></th>\n",
       "      <th></th>\n",
       "      <th></th>\n",
       "      <th></th>\n",
       "      <th></th>\n",
       "      <th></th>\n",
       "      <th></th>\n",
       "      <th></th>\n",
       "      <th></th>\n",
       "      <th></th>\n",
       "    </tr>\n",
       "  </thead>\n",
       "  <tbody>\n",
       "    <tr>\n",
       "      <td>2020-02-06</td>\n",
       "      <td>84338.0</td>\n",
       "      <td>ICUS-3529-125ML</td>\n",
       "      <td>Custom Standard</td>\n",
       "      <td>8.0</td>\n",
       "      <td>None</td>\n",
       "      <td>None</td>\n",
       "      <td>2015-11-03</td>\n",
       "      <td>2015-11-03</td>\n",
       "      <td>None</td>\n",
       "      <td>JHP-503</td>\n",
       "      <td>...</td>\n",
       "      <td>1.0</td>\n",
       "      <td>1.0</td>\n",
       "      <td>None</td>\n",
       "      <td>1.0</td>\n",
       "      <td>None</td>\n",
       "      <td>False</td>\n",
       "      <td>False</td>\n",
       "      <td>None</td>\n",
       "      <td>None</td>\n",
       "      <td>None</td>\n",
       "    </tr>\n",
       "    <tr>\n",
       "      <td>2020-02-27</td>\n",
       "      <td>96126.0</td>\n",
       "      <td>BULK-IMS-103</td>\n",
       "      <td>ICP-MS Calibration Standard #3</td>\n",
       "      <td>8.0</td>\n",
       "      <td>None</td>\n",
       "      <td>None</td>\n",
       "      <td>2017-04-17</td>\n",
       "      <td>2017-04-17</td>\n",
       "      <td>None</td>\n",
       "      <td>JHP-451</td>\n",
       "      <td>...</td>\n",
       "      <td>1.0</td>\n",
       "      <td>1950.0</td>\n",
       "      <td>Done by SL 2/27/2020</td>\n",
       "      <td>1.0</td>\n",
       "      <td>None</td>\n",
       "      <td>False</td>\n",
       "      <td>False</td>\n",
       "      <td>None</td>\n",
       "      <td>None</td>\n",
       "      <td>None</td>\n",
       "    </tr>\n",
       "    <tr>\n",
       "      <td>2020-02-27</td>\n",
       "      <td>97891.0</td>\n",
       "      <td>CUS-25143</td>\n",
       "      <td>Custom Standard</td>\n",
       "      <td>7.0</td>\n",
       "      <td>None</td>\n",
       "      <td>None</td>\n",
       "      <td>2017-06-30</td>\n",
       "      <td>2017-06-30</td>\n",
       "      <td>None</td>\n",
       "      <td>JHP-335</td>\n",
       "      <td>...</td>\n",
       "      <td>1.0</td>\n",
       "      <td>5.0</td>\n",
       "      <td>None</td>\n",
       "      <td>1.0</td>\n",
       "      <td>None</td>\n",
       "      <td>False</td>\n",
       "      <td>False</td>\n",
       "      <td>None</td>\n",
       "      <td>None</td>\n",
       "      <td>None</td>\n",
       "    </tr>\n",
       "    <tr>\n",
       "      <td>2020-02-18</td>\n",
       "      <td>56952.0</td>\n",
       "      <td>HBM-505-1</td>\n",
       "      <td>Herbicides Standard</td>\n",
       "      <td>1.0</td>\n",
       "      <td>1 analyte at 1,000 µg/mL in acetone</td>\n",
       "      <td>Chem Korea</td>\n",
       "      <td>2012-05-07</td>\n",
       "      <td>2012-05-07</td>\n",
       "      <td>active</td>\n",
       "      <td>JHP-029</td>\n",
       "      <td>...</td>\n",
       "      <td>1.0</td>\n",
       "      <td>10.0</td>\n",
       "      <td>Quarantine cr-2262 (60)</td>\n",
       "      <td>1.0</td>\n",
       "      <td>None</td>\n",
       "      <td>False</td>\n",
       "      <td>False</td>\n",
       "      <td>None</td>\n",
       "      <td>None</td>\n",
       "      <td>None</td>\n",
       "    </tr>\n",
       "    <tr>\n",
       "      <td>2020-02-04</td>\n",
       "      <td>7570.0</td>\n",
       "      <td>SPM-824-1</td>\n",
       "      <td>Organophosphorous Pesticides Standard</td>\n",
       "      <td>1.0</td>\n",
       "      <td>20 analytes @ 200 µg/mL in hexane/acetone (1:1)</td>\n",
       "      <td>None</td>\n",
       "      <td>1999-01-20</td>\n",
       "      <td>2009-04-30</td>\n",
       "      <td>active</td>\n",
       "      <td>JHP-015</td>\n",
       "      <td>...</td>\n",
       "      <td>1.0</td>\n",
       "      <td>15.0</td>\n",
       "      <td>Quarantine 0006503734 [18] &amp; 0006507574 [5] re...</td>\n",
       "      <td>1.0</td>\n",
       "      <td>None</td>\n",
       "      <td>False</td>\n",
       "      <td>False</td>\n",
       "      <td>None</td>\n",
       "      <td>None</td>\n",
       "      <td>None</td>\n",
       "    </tr>\n",
       "  </tbody>\n",
       "</table>\n",
       "<p>5 rows × 93 columns</p>\n",
       "</div>"
      ],
      "text/plain": [
       "            ProductID        ProductNo                            ProductName  \\\n",
       "QCDate                                                                          \n",
       "2020-02-06    84338.0  ICUS-3529-125ML                        Custom Standard   \n",
       "2020-02-27    96126.0     BULK-IMS-103         ICP-MS Calibration Standard #3   \n",
       "2020-02-27    97891.0        CUS-25143                        Custom Standard   \n",
       "2020-02-18    56952.0        HBM-505-1                    Herbicides Standard   \n",
       "2020-02-04     7570.0        SPM-824-1  Organophosphorous Pesticides Standard   \n",
       "\n",
       "            LineID                                      Description  \\\n",
       "QCDate                                                                \n",
       "2020-02-06     8.0                                             None   \n",
       "2020-02-27     8.0                                             None   \n",
       "2020-02-27     7.0                                             None   \n",
       "2020-02-18     1.0              1 analyte at 1,000 µg/mL in acetone   \n",
       "2020-02-04     1.0  20 analytes @ 200 µg/mL in hexane/acetone (1:1)   \n",
       "\n",
       "              Specials OriginationDate  EntryDate  Status MatrixNumber  ...  \\\n",
       "QCDate                                                                  ...   \n",
       "2020-02-06        None      2015-11-03 2015-11-03    None      JHP-503  ...   \n",
       "2020-02-27        None      2017-04-17 2017-04-17    None      JHP-451  ...   \n",
       "2020-02-27        None      2017-06-30 2017-06-30    None      JHP-335  ...   \n",
       "2020-02-18  Chem Korea      2012-05-07 2012-05-07  active      JHP-029  ...   \n",
       "2020-02-04        None      1999-01-20 2009-04-30  active      JHP-015  ...   \n",
       "\n",
       "            QCValidation FgInvCount  \\\n",
       "QCDate                                \n",
       "2020-02-06           1.0        1.0   \n",
       "2020-02-27           1.0     1950.0   \n",
       "2020-02-27           1.0        5.0   \n",
       "2020-02-18           1.0       10.0   \n",
       "2020-02-04           1.0       15.0   \n",
       "\n",
       "                                                 FgAccpacNote CofAHeaderNo  \\\n",
       "QCDate                                                                       \n",
       "2020-02-06                                               None          1.0   \n",
       "2020-02-27                               Done by SL 2/27/2020          1.0   \n",
       "2020-02-27                                               None          1.0   \n",
       "2020-02-18                            Quarantine cr-2262 (60)          1.0   \n",
       "2020-02-04  Quarantine 0006503734 [18] & 0006507574 [5] re...          1.0   \n",
       "\n",
       "           QCChromatogram Correct  DoNotCorrect DensityUnit DensityTemp  \\\n",
       "QCDate                                                                    \n",
       "2020-02-06           None   False         False        None        None   \n",
       "2020-02-27           None   False         False        None        None   \n",
       "2020-02-27           None   False         False        None        None   \n",
       "2020-02-18           None   False         False        None        None   \n",
       "2020-02-04           None   False         False        None        None   \n",
       "\n",
       "           recipeid  \n",
       "QCDate               \n",
       "2020-02-06     None  \n",
       "2020-02-27     None  \n",
       "2020-02-27     None  \n",
       "2020-02-18     None  \n",
       "2020-02-04     None  \n",
       "\n",
       "[5 rows x 93 columns]"
      ]
     },
     "execution_count": 44,
     "metadata": {},
     "output_type": "execute_result"
    }
   ],
   "source": [
    "df_last_month.sample(5)"
   ]
  },
  {
   "cell_type": "code",
   "execution_count": 45,
   "metadata": {
    "ExecuteTime": {
     "end_time": "2020-02-28T15:24:01.906051Z",
     "start_time": "2020-02-28T15:24:01.900052Z"
    }
   },
   "outputs": [
    {
     "data": {
      "text/plain": [
       "DatetimeIndex(['2020-01-28', '2020-02-19', '2020-02-07', '2020-02-18',\n",
       "               '2020-02-25', '2020-02-24', '2020-01-30', '2020-01-30',\n",
       "               '2020-02-05', '2020-02-13',\n",
       "               ...\n",
       "               '2020-02-21', '2020-02-04', '2020-01-29', '2020-02-26',\n",
       "               '2020-02-26', '2020-02-18', '2020-02-06', '2020-02-07',\n",
       "               '2020-02-19', '2020-01-31'],\n",
       "              dtype='datetime64[ns]', name='QCDate', length=572, freq=None)"
      ]
     },
     "execution_count": 45,
     "metadata": {},
     "output_type": "execute_result"
    }
   ],
   "source": [
    "df_last_month.index"
   ]
  },
  {
   "cell_type": "markdown",
   "metadata": {},
   "source": [
    "## DROP NaN `ProductLevel`:"
   ]
  },
  {
   "cell_type": "code",
   "execution_count": 46,
   "metadata": {
    "ExecuteTime": {
     "end_time": "2020-02-28T15:24:01.912054Z",
     "start_time": "2020-02-28T15:24:01.908052Z"
    }
   },
   "outputs": [],
   "source": [
    "value_list = ['1.0', '2.0', '3.0']"
   ]
  },
  {
   "cell_type": "code",
   "execution_count": 47,
   "metadata": {
    "ExecuteTime": {
     "end_time": "2020-02-28T15:24:01.922050Z",
     "start_time": "2020-02-28T15:24:01.914052Z"
    }
   },
   "outputs": [],
   "source": [
    "# Grab DataFrame rows where column doesn't have certain values\n",
    "df_daily_levels_no_plevel = df_last_month[~df_last_month['ProductLevel'].isin(value_list)]"
   ]
  },
  {
   "cell_type": "code",
   "execution_count": 48,
   "metadata": {
    "ExecuteTime": {
     "end_time": "2020-02-28T15:24:01.931064Z",
     "start_time": "2020-02-28T15:24:01.924052Z"
    }
   },
   "outputs": [],
   "source": [
    "# Grab DataFrame rows where column has certain values\n",
    "df_last_month = df_last_month[df_last_month['ProductLevel'].isin(value_list)]"
   ]
  },
  {
   "cell_type": "code",
   "execution_count": 49,
   "metadata": {
    "ExecuteTime": {
     "end_time": "2020-02-28T15:24:01.936055Z",
     "start_time": "2020-02-28T15:24:01.933053Z"
    },
    "code_folding": []
   },
   "outputs": [],
   "source": [
    "# SET 'df_last_month' to be only rows with ProductLevel >= 0"
   ]
  },
  {
   "cell_type": "markdown",
   "metadata": {},
   "source": [
    "---\n",
    "# create `df_daily_levels` frame"
   ]
  },
  {
   "cell_type": "markdown",
   "metadata": {},
   "source": [
    "---\n",
    "\n",
    "### GroupBy ([df_last_month.index, 'ProductLevel'])['PfBatchID']"
   ]
  },
  {
   "cell_type": "raw",
   "metadata": {
    "ExecuteTime": {
     "end_time": "2020-02-24T15:58:49.979563Z",
     "start_time": "2020-02-24T15:58:49.972564Z"
    },
    "raw_mimetype": "text/x-python"
   },
   "source": [
    "df_last_month.set_index([df_last_month.index, 'ProductLevel'], inplace=True)"
   ]
  },
  {
   "cell_type": "raw",
   "metadata": {
    "raw_mimetype": "text/x-python"
   },
   "source": [
    "df_last_month.QCValidation = pd.Categorical(df_last_month.QCValidation, ['1.0', '2.0', '3.0'], ordered=True)"
   ]
  },
  {
   "cell_type": "raw",
   "metadata": {
    "raw_mimetype": "text/x-python"
   },
   "source": [
    "print(df_last_month.QCValidation)"
   ]
  },
  {
   "cell_type": "raw",
   "metadata": {
    "ExecuteTime": {
     "end_time": "2020-02-28T14:57:59.077296Z",
     "start_time": "2020-02-28T14:57:58.955298Z"
    }
   },
   "source": [
    "df_daily_levels.drop(labels=['ProductLevel'])"
   ]
  },
  {
   "cell_type": "raw",
   "metadata": {
    "ExecuteTime": {
     "end_time": "2020-02-25T16:54:07.654098Z",
     "start_time": "2020-02-25T16:54:07.645098Z"
    },
    "raw_mimetype": "text/x-python"
   },
   "source": [
    "# c = pd.Categorical(['1.0', '2.0', '3.0'])\n",
    "pd.CategoricalIndex(c, name='QCValidation')"
   ]
  },
  {
   "cell_type": "code",
   "execution_count": 50,
   "metadata": {
    "ExecuteTime": {
     "end_time": "2020-02-28T15:24:01.952058Z",
     "start_time": "2020-02-28T15:24:01.937055Z"
    }
   },
   "outputs": [
    {
     "data": {
      "text/plain": [
       "QCDate\n",
       "2020-01-28    10\n",
       "2020-01-29    19\n",
       "2020-01-30    16\n",
       "2020-01-31     7\n",
       "2020-02-03    10\n",
       "2020-02-04    27\n",
       "2020-02-05    22\n",
       "2020-02-06    36\n",
       "2020-02-07    27\n",
       "2020-02-10    43\n",
       "2020-02-11    40\n",
       "2020-02-12    19\n",
       "2020-02-13    32\n",
       "2020-02-14    20\n",
       "2020-02-18    28\n",
       "2020-02-19    34\n",
       "2020-02-20    24\n",
       "2020-02-21    35\n",
       "2020-02-24    15\n",
       "2020-02-25    29\n",
       "2020-02-26    30\n",
       "2020-02-27    25\n",
       "Name: PfBatchID, dtype: int64"
      ]
     },
     "execution_count": 50,
     "metadata": {},
     "output_type": "execute_result"
    }
   ],
   "source": [
    "''' Groupby single column in pandas python'''\n",
    "df_last_month.groupby(df_last_month.index)['PfBatchID'].count()"
   ]
  },
  {
   "cell_type": "code",
   "execution_count": 51,
   "metadata": {
    "ExecuteTime": {
     "end_time": "2020-02-28T15:24:01.973057Z",
     "start_time": "2020-02-28T15:24:01.954058Z"
    }
   },
   "outputs": [
    {
     "data": {
      "text/html": [
       "<div>\n",
       "<style scoped>\n",
       "    .dataframe tbody tr th:only-of-type {\n",
       "        vertical-align: middle;\n",
       "    }\n",
       "\n",
       "    .dataframe tbody tr th {\n",
       "        vertical-align: top;\n",
       "    }\n",
       "\n",
       "    .dataframe thead th {\n",
       "        text-align: right;\n",
       "    }\n",
       "</style>\n",
       "<table border=\"1\" class=\"dataframe\">\n",
       "  <thead>\n",
       "    <tr style=\"text-align: right;\">\n",
       "      <th></th>\n",
       "      <th></th>\n",
       "      <th>Count</th>\n",
       "    </tr>\n",
       "    <tr>\n",
       "      <th>QCDate</th>\n",
       "      <th>ProductLevel</th>\n",
       "      <th></th>\n",
       "    </tr>\n",
       "  </thead>\n",
       "  <tbody>\n",
       "    <tr>\n",
       "      <td rowspan=\"2\" valign=\"top\">2020-01-28</td>\n",
       "      <td>1.0</td>\n",
       "      <td>8</td>\n",
       "    </tr>\n",
       "    <tr>\n",
       "      <td>2.0</td>\n",
       "      <td>2</td>\n",
       "    </tr>\n",
       "    <tr>\n",
       "      <td rowspan=\"2\" valign=\"top\">2020-01-29</td>\n",
       "      <td>1.0</td>\n",
       "      <td>10</td>\n",
       "    </tr>\n",
       "    <tr>\n",
       "      <td>2.0</td>\n",
       "      <td>9</td>\n",
       "    </tr>\n",
       "    <tr>\n",
       "      <td rowspan=\"3\" valign=\"top\">2020-01-30</td>\n",
       "      <td>1.0</td>\n",
       "      <td>11</td>\n",
       "    </tr>\n",
       "    <tr>\n",
       "      <td>2.0</td>\n",
       "      <td>4</td>\n",
       "    </tr>\n",
       "    <tr>\n",
       "      <td>3.0</td>\n",
       "      <td>1</td>\n",
       "    </tr>\n",
       "    <tr>\n",
       "      <td rowspan=\"2\" valign=\"top\">2020-01-31</td>\n",
       "      <td>1.0</td>\n",
       "      <td>2</td>\n",
       "    </tr>\n",
       "    <tr>\n",
       "      <td>2.0</td>\n",
       "      <td>5</td>\n",
       "    </tr>\n",
       "    <tr>\n",
       "      <td rowspan=\"3\" valign=\"top\">2020-02-03</td>\n",
       "      <td>1.0</td>\n",
       "      <td>4</td>\n",
       "    </tr>\n",
       "    <tr>\n",
       "      <td>2.0</td>\n",
       "      <td>4</td>\n",
       "    </tr>\n",
       "    <tr>\n",
       "      <td>3.0</td>\n",
       "      <td>2</td>\n",
       "    </tr>\n",
       "    <tr>\n",
       "      <td rowspan=\"2\" valign=\"top\">2020-02-04</td>\n",
       "      <td>1.0</td>\n",
       "      <td>19</td>\n",
       "    </tr>\n",
       "    <tr>\n",
       "      <td>2.0</td>\n",
       "      <td>8</td>\n",
       "    </tr>\n",
       "    <tr>\n",
       "      <td rowspan=\"3\" valign=\"top\">2020-02-05</td>\n",
       "      <td>1.0</td>\n",
       "      <td>6</td>\n",
       "    </tr>\n",
       "    <tr>\n",
       "      <td>2.0</td>\n",
       "      <td>15</td>\n",
       "    </tr>\n",
       "    <tr>\n",
       "      <td>3.0</td>\n",
       "      <td>1</td>\n",
       "    </tr>\n",
       "    <tr>\n",
       "      <td rowspan=\"3\" valign=\"top\">2020-02-06</td>\n",
       "      <td>1.0</td>\n",
       "      <td>20</td>\n",
       "    </tr>\n",
       "    <tr>\n",
       "      <td>2.0</td>\n",
       "      <td>14</td>\n",
       "    </tr>\n",
       "    <tr>\n",
       "      <td>3.0</td>\n",
       "      <td>2</td>\n",
       "    </tr>\n",
       "    <tr>\n",
       "      <td rowspan=\"2\" valign=\"top\">2020-02-07</td>\n",
       "      <td>1.0</td>\n",
       "      <td>7</td>\n",
       "    </tr>\n",
       "    <tr>\n",
       "      <td>2.0</td>\n",
       "      <td>20</td>\n",
       "    </tr>\n",
       "    <tr>\n",
       "      <td rowspan=\"3\" valign=\"top\">2020-02-10</td>\n",
       "      <td>1.0</td>\n",
       "      <td>24</td>\n",
       "    </tr>\n",
       "    <tr>\n",
       "      <td>2.0</td>\n",
       "      <td>18</td>\n",
       "    </tr>\n",
       "    <tr>\n",
       "      <td>3.0</td>\n",
       "      <td>1</td>\n",
       "    </tr>\n",
       "    <tr>\n",
       "      <td rowspan=\"2\" valign=\"top\">2020-02-11</td>\n",
       "      <td>1.0</td>\n",
       "      <td>24</td>\n",
       "    </tr>\n",
       "    <tr>\n",
       "      <td>2.0</td>\n",
       "      <td>16</td>\n",
       "    </tr>\n",
       "    <tr>\n",
       "      <td rowspan=\"2\" valign=\"top\">2020-02-12</td>\n",
       "      <td>1.0</td>\n",
       "      <td>10</td>\n",
       "    </tr>\n",
       "    <tr>\n",
       "      <td>2.0</td>\n",
       "      <td>9</td>\n",
       "    </tr>\n",
       "    <tr>\n",
       "      <td rowspan=\"3\" valign=\"top\">2020-02-13</td>\n",
       "      <td>1.0</td>\n",
       "      <td>7</td>\n",
       "    </tr>\n",
       "    <tr>\n",
       "      <td>2.0</td>\n",
       "      <td>24</td>\n",
       "    </tr>\n",
       "    <tr>\n",
       "      <td>3.0</td>\n",
       "      <td>1</td>\n",
       "    </tr>\n",
       "    <tr>\n",
       "      <td rowspan=\"2\" valign=\"top\">2020-02-14</td>\n",
       "      <td>1.0</td>\n",
       "      <td>15</td>\n",
       "    </tr>\n",
       "    <tr>\n",
       "      <td>2.0</td>\n",
       "      <td>5</td>\n",
       "    </tr>\n",
       "    <tr>\n",
       "      <td rowspan=\"3\" valign=\"top\">2020-02-18</td>\n",
       "      <td>1.0</td>\n",
       "      <td>8</td>\n",
       "    </tr>\n",
       "    <tr>\n",
       "      <td>2.0</td>\n",
       "      <td>19</td>\n",
       "    </tr>\n",
       "    <tr>\n",
       "      <td>3.0</td>\n",
       "      <td>1</td>\n",
       "    </tr>\n",
       "    <tr>\n",
       "      <td rowspan=\"2\" valign=\"top\">2020-02-19</td>\n",
       "      <td>1.0</td>\n",
       "      <td>21</td>\n",
       "    </tr>\n",
       "    <tr>\n",
       "      <td>2.0</td>\n",
       "      <td>13</td>\n",
       "    </tr>\n",
       "    <tr>\n",
       "      <td rowspan=\"2\" valign=\"top\">2020-02-20</td>\n",
       "      <td>1.0</td>\n",
       "      <td>8</td>\n",
       "    </tr>\n",
       "    <tr>\n",
       "      <td>2.0</td>\n",
       "      <td>16</td>\n",
       "    </tr>\n",
       "    <tr>\n",
       "      <td rowspan=\"2\" valign=\"top\">2020-02-21</td>\n",
       "      <td>1.0</td>\n",
       "      <td>10</td>\n",
       "    </tr>\n",
       "    <tr>\n",
       "      <td>2.0</td>\n",
       "      <td>25</td>\n",
       "    </tr>\n",
       "    <tr>\n",
       "      <td rowspan=\"3\" valign=\"top\">2020-02-24</td>\n",
       "      <td>1.0</td>\n",
       "      <td>9</td>\n",
       "    </tr>\n",
       "    <tr>\n",
       "      <td>2.0</td>\n",
       "      <td>4</td>\n",
       "    </tr>\n",
       "    <tr>\n",
       "      <td>3.0</td>\n",
       "      <td>2</td>\n",
       "    </tr>\n",
       "    <tr>\n",
       "      <td rowspan=\"2\" valign=\"top\">2020-02-25</td>\n",
       "      <td>1.0</td>\n",
       "      <td>7</td>\n",
       "    </tr>\n",
       "    <tr>\n",
       "      <td>2.0</td>\n",
       "      <td>22</td>\n",
       "    </tr>\n",
       "    <tr>\n",
       "      <td rowspan=\"3\" valign=\"top\">2020-02-26</td>\n",
       "      <td>1.0</td>\n",
       "      <td>13</td>\n",
       "    </tr>\n",
       "    <tr>\n",
       "      <td>2.0</td>\n",
       "      <td>13</td>\n",
       "    </tr>\n",
       "    <tr>\n",
       "      <td>3.0</td>\n",
       "      <td>4</td>\n",
       "    </tr>\n",
       "    <tr>\n",
       "      <td rowspan=\"2\" valign=\"top\">2020-02-27</td>\n",
       "      <td>1.0</td>\n",
       "      <td>19</td>\n",
       "    </tr>\n",
       "    <tr>\n",
       "      <td>2.0</td>\n",
       "      <td>6</td>\n",
       "    </tr>\n",
       "  </tbody>\n",
       "</table>\n",
       "</div>"
      ],
      "text/plain": [
       "                         Count\n",
       "QCDate     ProductLevel       \n",
       "2020-01-28 1.0               8\n",
       "           2.0               2\n",
       "2020-01-29 1.0              10\n",
       "           2.0               9\n",
       "2020-01-30 1.0              11\n",
       "           2.0               4\n",
       "           3.0               1\n",
       "2020-01-31 1.0               2\n",
       "           2.0               5\n",
       "2020-02-03 1.0               4\n",
       "           2.0               4\n",
       "           3.0               2\n",
       "2020-02-04 1.0              19\n",
       "           2.0               8\n",
       "2020-02-05 1.0               6\n",
       "           2.0              15\n",
       "           3.0               1\n",
       "2020-02-06 1.0              20\n",
       "           2.0              14\n",
       "           3.0               2\n",
       "2020-02-07 1.0               7\n",
       "           2.0              20\n",
       "2020-02-10 1.0              24\n",
       "           2.0              18\n",
       "           3.0               1\n",
       "2020-02-11 1.0              24\n",
       "           2.0              16\n",
       "2020-02-12 1.0              10\n",
       "           2.0               9\n",
       "2020-02-13 1.0               7\n",
       "           2.0              24\n",
       "           3.0               1\n",
       "2020-02-14 1.0              15\n",
       "           2.0               5\n",
       "2020-02-18 1.0               8\n",
       "           2.0              19\n",
       "           3.0               1\n",
       "2020-02-19 1.0              21\n",
       "           2.0              13\n",
       "2020-02-20 1.0               8\n",
       "           2.0              16\n",
       "2020-02-21 1.0              10\n",
       "           2.0              25\n",
       "2020-02-24 1.0               9\n",
       "           2.0               4\n",
       "           3.0               2\n",
       "2020-02-25 1.0               7\n",
       "           2.0              22\n",
       "2020-02-26 1.0              13\n",
       "           2.0              13\n",
       "           3.0               4\n",
       "2020-02-27 1.0              19\n",
       "           2.0               6"
      ]
     },
     "execution_count": 51,
     "metadata": {},
     "output_type": "execute_result"
    }
   ],
   "source": [
    "''' Groupby multiple columns '''\n",
    "df_daily_levels = pd.DataFrame(data=df_last_month.groupby([df_last_month.index,'ProductLevel'])['PfBatchID'].count())\n",
    "# [2020-02-24]\\\\f_daily_levels = pd.DataFrame(data=df_last_month.groupby([df_last_month.index, 'ProductLevel'])['PfBatchID'].count())\n",
    "# RENAME COLUMNS\n",
    "df_daily_levels.rename(columns={'PfBatchID': 'Count'}, inplace=True)\n",
    "df_daily_levels"
   ]
  },
  {
   "cell_type": "code",
   "execution_count": 52,
   "metadata": {
    "ExecuteTime": {
     "end_time": "2020-02-28T15:24:01.984057Z",
     "start_time": "2020-02-28T15:24:01.975057Z"
    }
   },
   "outputs": [
    {
     "name": "stdout",
     "output_type": "stream",
     "text": [
      "<class 'pandas.core.frame.DataFrame'>\n",
      "MultiIndex: 53 entries, (2020-01-28 00:00:00, 1.0) to (2020-02-27 00:00:00, 2.0)\n",
      "Data columns (total 1 columns):\n",
      "Count    53 non-null int64\n",
      "dtypes: int64(1)\n",
      "memory usage: 846.0 bytes\n"
     ]
    }
   ],
   "source": [
    "df_daily_levels.info()"
   ]
  },
  {
   "cell_type": "markdown",
   "metadata": {},
   "source": [
    "### SORT INDEX"
   ]
  },
  {
   "cell_type": "code",
   "execution_count": 53,
   "metadata": {
    "ExecuteTime": {
     "end_time": "2020-02-28T15:24:02.007060Z",
     "start_time": "2020-02-28T15:24:01.986058Z"
    }
   },
   "outputs": [
    {
     "data": {
      "text/html": [
       "<div>\n",
       "<style scoped>\n",
       "    .dataframe tbody tr th:only-of-type {\n",
       "        vertical-align: middle;\n",
       "    }\n",
       "\n",
       "    .dataframe tbody tr th {\n",
       "        vertical-align: top;\n",
       "    }\n",
       "\n",
       "    .dataframe thead th {\n",
       "        text-align: right;\n",
       "    }\n",
       "</style>\n",
       "<table border=\"1\" class=\"dataframe\">\n",
       "  <thead>\n",
       "    <tr style=\"text-align: right;\">\n",
       "      <th></th>\n",
       "      <th></th>\n",
       "      <th>Count</th>\n",
       "    </tr>\n",
       "    <tr>\n",
       "      <th>QCDate</th>\n",
       "      <th>ProductLevel</th>\n",
       "      <th></th>\n",
       "    </tr>\n",
       "  </thead>\n",
       "  <tbody>\n",
       "    <tr>\n",
       "      <td rowspan=\"2\" valign=\"top\">2020-01-28</td>\n",
       "      <td>1.0</td>\n",
       "      <td>8</td>\n",
       "    </tr>\n",
       "    <tr>\n",
       "      <td>2.0</td>\n",
       "      <td>2</td>\n",
       "    </tr>\n",
       "    <tr>\n",
       "      <td rowspan=\"2\" valign=\"top\">2020-01-29</td>\n",
       "      <td>1.0</td>\n",
       "      <td>10</td>\n",
       "    </tr>\n",
       "    <tr>\n",
       "      <td>2.0</td>\n",
       "      <td>9</td>\n",
       "    </tr>\n",
       "    <tr>\n",
       "      <td rowspan=\"3\" valign=\"top\">2020-01-30</td>\n",
       "      <td>1.0</td>\n",
       "      <td>11</td>\n",
       "    </tr>\n",
       "    <tr>\n",
       "      <td>2.0</td>\n",
       "      <td>4</td>\n",
       "    </tr>\n",
       "    <tr>\n",
       "      <td>3.0</td>\n",
       "      <td>1</td>\n",
       "    </tr>\n",
       "    <tr>\n",
       "      <td rowspan=\"2\" valign=\"top\">2020-01-31</td>\n",
       "      <td>1.0</td>\n",
       "      <td>2</td>\n",
       "    </tr>\n",
       "    <tr>\n",
       "      <td>2.0</td>\n",
       "      <td>5</td>\n",
       "    </tr>\n",
       "    <tr>\n",
       "      <td rowspan=\"3\" valign=\"top\">2020-02-03</td>\n",
       "      <td>1.0</td>\n",
       "      <td>4</td>\n",
       "    </tr>\n",
       "    <tr>\n",
       "      <td>2.0</td>\n",
       "      <td>4</td>\n",
       "    </tr>\n",
       "    <tr>\n",
       "      <td>3.0</td>\n",
       "      <td>2</td>\n",
       "    </tr>\n",
       "    <tr>\n",
       "      <td rowspan=\"2\" valign=\"top\">2020-02-04</td>\n",
       "      <td>1.0</td>\n",
       "      <td>19</td>\n",
       "    </tr>\n",
       "    <tr>\n",
       "      <td>2.0</td>\n",
       "      <td>8</td>\n",
       "    </tr>\n",
       "    <tr>\n",
       "      <td rowspan=\"3\" valign=\"top\">2020-02-05</td>\n",
       "      <td>1.0</td>\n",
       "      <td>6</td>\n",
       "    </tr>\n",
       "    <tr>\n",
       "      <td>2.0</td>\n",
       "      <td>15</td>\n",
       "    </tr>\n",
       "    <tr>\n",
       "      <td>3.0</td>\n",
       "      <td>1</td>\n",
       "    </tr>\n",
       "    <tr>\n",
       "      <td rowspan=\"3\" valign=\"top\">2020-02-06</td>\n",
       "      <td>1.0</td>\n",
       "      <td>20</td>\n",
       "    </tr>\n",
       "    <tr>\n",
       "      <td>2.0</td>\n",
       "      <td>14</td>\n",
       "    </tr>\n",
       "    <tr>\n",
       "      <td>3.0</td>\n",
       "      <td>2</td>\n",
       "    </tr>\n",
       "    <tr>\n",
       "      <td rowspan=\"2\" valign=\"top\">2020-02-07</td>\n",
       "      <td>1.0</td>\n",
       "      <td>7</td>\n",
       "    </tr>\n",
       "    <tr>\n",
       "      <td>2.0</td>\n",
       "      <td>20</td>\n",
       "    </tr>\n",
       "    <tr>\n",
       "      <td rowspan=\"3\" valign=\"top\">2020-02-10</td>\n",
       "      <td>1.0</td>\n",
       "      <td>24</td>\n",
       "    </tr>\n",
       "    <tr>\n",
       "      <td>2.0</td>\n",
       "      <td>18</td>\n",
       "    </tr>\n",
       "    <tr>\n",
       "      <td>3.0</td>\n",
       "      <td>1</td>\n",
       "    </tr>\n",
       "    <tr>\n",
       "      <td rowspan=\"2\" valign=\"top\">2020-02-11</td>\n",
       "      <td>1.0</td>\n",
       "      <td>24</td>\n",
       "    </tr>\n",
       "    <tr>\n",
       "      <td>2.0</td>\n",
       "      <td>16</td>\n",
       "    </tr>\n",
       "    <tr>\n",
       "      <td rowspan=\"2\" valign=\"top\">2020-02-12</td>\n",
       "      <td>1.0</td>\n",
       "      <td>10</td>\n",
       "    </tr>\n",
       "    <tr>\n",
       "      <td>2.0</td>\n",
       "      <td>9</td>\n",
       "    </tr>\n",
       "    <tr>\n",
       "      <td rowspan=\"3\" valign=\"top\">2020-02-13</td>\n",
       "      <td>1.0</td>\n",
       "      <td>7</td>\n",
       "    </tr>\n",
       "    <tr>\n",
       "      <td>2.0</td>\n",
       "      <td>24</td>\n",
       "    </tr>\n",
       "    <tr>\n",
       "      <td>3.0</td>\n",
       "      <td>1</td>\n",
       "    </tr>\n",
       "    <tr>\n",
       "      <td rowspan=\"2\" valign=\"top\">2020-02-14</td>\n",
       "      <td>1.0</td>\n",
       "      <td>15</td>\n",
       "    </tr>\n",
       "    <tr>\n",
       "      <td>2.0</td>\n",
       "      <td>5</td>\n",
       "    </tr>\n",
       "    <tr>\n",
       "      <td rowspan=\"3\" valign=\"top\">2020-02-18</td>\n",
       "      <td>1.0</td>\n",
       "      <td>8</td>\n",
       "    </tr>\n",
       "    <tr>\n",
       "      <td>2.0</td>\n",
       "      <td>19</td>\n",
       "    </tr>\n",
       "    <tr>\n",
       "      <td>3.0</td>\n",
       "      <td>1</td>\n",
       "    </tr>\n",
       "    <tr>\n",
       "      <td rowspan=\"2\" valign=\"top\">2020-02-19</td>\n",
       "      <td>1.0</td>\n",
       "      <td>21</td>\n",
       "    </tr>\n",
       "    <tr>\n",
       "      <td>2.0</td>\n",
       "      <td>13</td>\n",
       "    </tr>\n",
       "    <tr>\n",
       "      <td rowspan=\"2\" valign=\"top\">2020-02-20</td>\n",
       "      <td>1.0</td>\n",
       "      <td>8</td>\n",
       "    </tr>\n",
       "    <tr>\n",
       "      <td>2.0</td>\n",
       "      <td>16</td>\n",
       "    </tr>\n",
       "    <tr>\n",
       "      <td rowspan=\"2\" valign=\"top\">2020-02-21</td>\n",
       "      <td>1.0</td>\n",
       "      <td>10</td>\n",
       "    </tr>\n",
       "    <tr>\n",
       "      <td>2.0</td>\n",
       "      <td>25</td>\n",
       "    </tr>\n",
       "    <tr>\n",
       "      <td rowspan=\"3\" valign=\"top\">2020-02-24</td>\n",
       "      <td>1.0</td>\n",
       "      <td>9</td>\n",
       "    </tr>\n",
       "    <tr>\n",
       "      <td>2.0</td>\n",
       "      <td>4</td>\n",
       "    </tr>\n",
       "    <tr>\n",
       "      <td>3.0</td>\n",
       "      <td>2</td>\n",
       "    </tr>\n",
       "    <tr>\n",
       "      <td rowspan=\"2\" valign=\"top\">2020-02-25</td>\n",
       "      <td>1.0</td>\n",
       "      <td>7</td>\n",
       "    </tr>\n",
       "    <tr>\n",
       "      <td>2.0</td>\n",
       "      <td>22</td>\n",
       "    </tr>\n",
       "    <tr>\n",
       "      <td rowspan=\"3\" valign=\"top\">2020-02-26</td>\n",
       "      <td>1.0</td>\n",
       "      <td>13</td>\n",
       "    </tr>\n",
       "    <tr>\n",
       "      <td>2.0</td>\n",
       "      <td>13</td>\n",
       "    </tr>\n",
       "    <tr>\n",
       "      <td>3.0</td>\n",
       "      <td>4</td>\n",
       "    </tr>\n",
       "    <tr>\n",
       "      <td rowspan=\"2\" valign=\"top\">2020-02-27</td>\n",
       "      <td>1.0</td>\n",
       "      <td>19</td>\n",
       "    </tr>\n",
       "    <tr>\n",
       "      <td>2.0</td>\n",
       "      <td>6</td>\n",
       "    </tr>\n",
       "  </tbody>\n",
       "</table>\n",
       "</div>"
      ],
      "text/plain": [
       "                         Count\n",
       "QCDate     ProductLevel       \n",
       "2020-01-28 1.0               8\n",
       "           2.0               2\n",
       "2020-01-29 1.0              10\n",
       "           2.0               9\n",
       "2020-01-30 1.0              11\n",
       "           2.0               4\n",
       "           3.0               1\n",
       "2020-01-31 1.0               2\n",
       "           2.0               5\n",
       "2020-02-03 1.0               4\n",
       "           2.0               4\n",
       "           3.0               2\n",
       "2020-02-04 1.0              19\n",
       "           2.0               8\n",
       "2020-02-05 1.0               6\n",
       "           2.0              15\n",
       "           3.0               1\n",
       "2020-02-06 1.0              20\n",
       "           2.0              14\n",
       "           3.0               2\n",
       "2020-02-07 1.0               7\n",
       "           2.0              20\n",
       "2020-02-10 1.0              24\n",
       "           2.0              18\n",
       "           3.0               1\n",
       "2020-02-11 1.0              24\n",
       "           2.0              16\n",
       "2020-02-12 1.0              10\n",
       "           2.0               9\n",
       "2020-02-13 1.0               7\n",
       "           2.0              24\n",
       "           3.0               1\n",
       "2020-02-14 1.0              15\n",
       "           2.0               5\n",
       "2020-02-18 1.0               8\n",
       "           2.0              19\n",
       "           3.0               1\n",
       "2020-02-19 1.0              21\n",
       "           2.0              13\n",
       "2020-02-20 1.0               8\n",
       "           2.0              16\n",
       "2020-02-21 1.0              10\n",
       "           2.0              25\n",
       "2020-02-24 1.0               9\n",
       "           2.0               4\n",
       "           3.0               2\n",
       "2020-02-25 1.0               7\n",
       "           2.0              22\n",
       "2020-02-26 1.0              13\n",
       "           2.0              13\n",
       "           3.0               4\n",
       "2020-02-27 1.0              19\n",
       "           2.0               6"
      ]
     },
     "execution_count": 53,
     "metadata": {},
     "output_type": "execute_result"
    }
   ],
   "source": [
    "df_daily_levels.sort_index(inplace=True)\n",
    "df_daily_levels"
   ]
  },
  {
   "cell_type": "code",
   "execution_count": 54,
   "metadata": {
    "ExecuteTime": {
     "end_time": "2020-02-28T15:24:02.019062Z",
     "start_time": "2020-02-28T15:24:02.008058Z"
    }
   },
   "outputs": [
    {
     "name": "stdout",
     "output_type": "stream",
     "text": [
      "<class 'pandas.core.frame.DataFrame'>\n",
      "MultiIndex: 53 entries, (2020-01-28 00:00:00, 1.0) to (2020-02-27 00:00:00, 2.0)\n",
      "Data columns (total 1 columns):\n",
      "Count    53 non-null int64\n",
      "dtypes: int64(1)\n",
      "memory usage: 846.0 bytes\n"
     ]
    }
   ],
   "source": [
    "df_daily_levels.info()"
   ]
  },
  {
   "cell_type": "raw",
   "metadata": {
    "ExecuteTime": {
     "end_time": "2020-02-24T16:02:10.904180Z",
     "start_time": "2020-02-24T16:02:10.601177Z"
    },
    "raw_mimetype": "text/x-python"
   },
   "source": [
    "# SLICE & dice your dataframe\n",
    "df_daily_levels.loc[('2020-01-22', float(\"0\"))]"
   ]
  },
  {
   "cell_type": "raw",
   "metadata": {
    "raw_mimetype": "text/x-python"
   },
   "source": [
    "df_daily_levels.resample('D').count()"
   ]
  },
  {
   "cell_type": "raw",
   "metadata": {
    "raw_mimetype": "text/x-python"
   },
   "source": [
    "# using groupby function\n",
    "# with one key\n",
    "df_daily_levels.groupby('QCValidation')"
   ]
  },
  {
   "cell_type": "code",
   "execution_count": 55,
   "metadata": {
    "ExecuteTime": {
     "end_time": "2020-02-28T15:24:02.055064Z",
     "start_time": "2020-02-28T15:24:02.027060Z"
    }
   },
   "outputs": [
    {
     "data": {
      "text/html": [
       "<div>\n",
       "<style scoped>\n",
       "    .dataframe tbody tr th:only-of-type {\n",
       "        vertical-align: middle;\n",
       "    }\n",
       "\n",
       "    .dataframe tbody tr th {\n",
       "        vertical-align: top;\n",
       "    }\n",
       "\n",
       "    .dataframe thead tr th {\n",
       "        text-align: left;\n",
       "    }\n",
       "</style>\n",
       "<table border=\"1\" class=\"dataframe\">\n",
       "  <thead>\n",
       "    <tr>\n",
       "      <th>QCDate</th>\n",
       "      <th colspan=\"2\" halign=\"left\">2020-01-28</th>\n",
       "      <th colspan=\"2\" halign=\"left\">2020-01-29</th>\n",
       "      <th colspan=\"3\" halign=\"left\">2020-01-30</th>\n",
       "      <th colspan=\"2\" halign=\"left\">2020-01-31</th>\n",
       "      <th>2020-02-03</th>\n",
       "      <th>...</th>\n",
       "      <th colspan=\"3\" halign=\"left\">2020-02-24</th>\n",
       "      <th colspan=\"2\" halign=\"left\">2020-02-25</th>\n",
       "      <th colspan=\"3\" halign=\"left\">2020-02-26</th>\n",
       "      <th colspan=\"2\" halign=\"left\">2020-02-27</th>\n",
       "    </tr>\n",
       "    <tr>\n",
       "      <th>ProductLevel</th>\n",
       "      <th>1.0</th>\n",
       "      <th>2.0</th>\n",
       "      <th>1.0</th>\n",
       "      <th>2.0</th>\n",
       "      <th>1.0</th>\n",
       "      <th>2.0</th>\n",
       "      <th>3.0</th>\n",
       "      <th>1.0</th>\n",
       "      <th>2.0</th>\n",
       "      <th>1.0</th>\n",
       "      <th>...</th>\n",
       "      <th>1.0</th>\n",
       "      <th>2.0</th>\n",
       "      <th>3.0</th>\n",
       "      <th>1.0</th>\n",
       "      <th>2.0</th>\n",
       "      <th>1.0</th>\n",
       "      <th>2.0</th>\n",
       "      <th>3.0</th>\n",
       "      <th>1.0</th>\n",
       "      <th>2.0</th>\n",
       "    </tr>\n",
       "  </thead>\n",
       "  <tbody>\n",
       "    <tr>\n",
       "      <td>Count</td>\n",
       "      <td>8</td>\n",
       "      <td>2</td>\n",
       "      <td>10</td>\n",
       "      <td>9</td>\n",
       "      <td>11</td>\n",
       "      <td>4</td>\n",
       "      <td>1</td>\n",
       "      <td>2</td>\n",
       "      <td>5</td>\n",
       "      <td>4</td>\n",
       "      <td>...</td>\n",
       "      <td>9</td>\n",
       "      <td>4</td>\n",
       "      <td>2</td>\n",
       "      <td>7</td>\n",
       "      <td>22</td>\n",
       "      <td>13</td>\n",
       "      <td>13</td>\n",
       "      <td>4</td>\n",
       "      <td>19</td>\n",
       "      <td>6</td>\n",
       "    </tr>\n",
       "  </tbody>\n",
       "</table>\n",
       "<p>1 rows × 53 columns</p>\n",
       "</div>"
      ],
      "text/plain": [
       "QCDate       2020-01-28     2020-01-29     2020-01-30         2020-01-31      \\\n",
       "ProductLevel        1.0 2.0        1.0 2.0        1.0 2.0 3.0        1.0 2.0   \n",
       "Count                 8   2         10   9         11   4   1          2   5   \n",
       "\n",
       "QCDate       2020-02-03  ... 2020-02-24         2020-02-25     2020-02-26      \\\n",
       "ProductLevel        1.0  ...        1.0 2.0 3.0        1.0 2.0        1.0 2.0   \n",
       "Count                 4  ...          9   4   2          7  22         13  13   \n",
       "\n",
       "QCDate           2020-02-27      \n",
       "ProductLevel 3.0        1.0 2.0  \n",
       "Count          4         19   6  \n",
       "\n",
       "[1 rows x 53 columns]"
      ]
     },
     "execution_count": 55,
     "metadata": {},
     "output_type": "execute_result"
    }
   ],
   "source": [
    "df_daily_levels.T"
   ]
  },
  {
   "cell_type": "raw",
   "metadata": {
    "ExecuteTime": {
     "end_time": "2020-02-24T15:21:01.399212Z",
     "start_time": "2020-02-24T15:21:01.393224Z"
    },
    "raw_mimetype": "text/x-python"
   },
   "source": [
    "df_daily_levels.index[2][0]"
   ]
  },
  {
   "cell_type": "code",
   "execution_count": 56,
   "metadata": {
    "ExecuteTime": {
     "end_time": "2020-02-28T15:24:02.068061Z",
     "start_time": "2020-02-28T15:24:02.058062Z"
    }
   },
   "outputs": [],
   "source": [
    "df_daily_levels.T.to_csv(\"df_daily_levels_TRANPOSE.csv\")"
   ]
  },
  {
   "cell_type": "code",
   "execution_count": 57,
   "metadata": {
    "ExecuteTime": {
     "end_time": "2020-02-28T15:24:02.077062Z",
     "start_time": "2020-02-28T15:24:02.070064Z"
    }
   },
   "outputs": [],
   "source": [
    "df_daily_levels.to_csv(\"df_daily_levels_2020_02_25.csv\", index=True)"
   ]
  },
  {
   "cell_type": "code",
   "execution_count": 58,
   "metadata": {
    "ExecuteTime": {
     "end_time": "2020-02-28T15:24:02.154070Z",
     "start_time": "2020-02-28T15:24:02.079064Z"
    }
   },
   "outputs": [],
   "source": [
    "df_daily_levels.T.to_excel(\"df_daily_level_TRANPOSE.xlsx\", index=True)"
   ]
  },
  {
   "cell_type": "code",
   "execution_count": 59,
   "metadata": {
    "ExecuteTime": {
     "end_time": "2020-02-28T15:24:02.194070Z",
     "start_time": "2020-02-28T15:24:02.155070Z"
    }
   },
   "outputs": [],
   "source": [
    "df_daily_levels.to_excel(\"df_daily_levels_2020_02_25.xlsx\", index=True)"
   ]
  },
  {
   "cell_type": "code",
   "execution_count": 60,
   "metadata": {
    "ExecuteTime": {
     "end_time": "2020-02-28T15:24:02.202075Z",
     "start_time": "2020-02-28T15:24:02.195071Z"
    }
   },
   "outputs": [
    {
     "data": {
      "text/plain": [
       "MultiIndex([('2020-01-28', 1.0),\n",
       "            ('2020-01-28', 2.0),\n",
       "            ('2020-01-29', 1.0),\n",
       "            ('2020-01-29', 2.0),\n",
       "            ('2020-01-30', 1.0),\n",
       "            ('2020-01-30', 2.0),\n",
       "            ('2020-01-30', 3.0),\n",
       "            ('2020-01-31', 1.0),\n",
       "            ('2020-01-31', 2.0),\n",
       "            ('2020-02-03', 1.0),\n",
       "            ('2020-02-03', 2.0),\n",
       "            ('2020-02-03', 3.0),\n",
       "            ('2020-02-04', 1.0),\n",
       "            ('2020-02-04', 2.0),\n",
       "            ('2020-02-05', 1.0),\n",
       "            ('2020-02-05', 2.0),\n",
       "            ('2020-02-05', 3.0),\n",
       "            ('2020-02-06', 1.0),\n",
       "            ('2020-02-06', 2.0),\n",
       "            ('2020-02-06', 3.0),\n",
       "            ('2020-02-07', 1.0),\n",
       "            ('2020-02-07', 2.0),\n",
       "            ('2020-02-10', 1.0),\n",
       "            ('2020-02-10', 2.0),\n",
       "            ('2020-02-10', 3.0),\n",
       "            ('2020-02-11', 1.0),\n",
       "            ('2020-02-11', 2.0),\n",
       "            ('2020-02-12', 1.0),\n",
       "            ('2020-02-12', 2.0),\n",
       "            ('2020-02-13', 1.0),\n",
       "            ('2020-02-13', 2.0),\n",
       "            ('2020-02-13', 3.0),\n",
       "            ('2020-02-14', 1.0),\n",
       "            ('2020-02-14', 2.0),\n",
       "            ('2020-02-18', 1.0),\n",
       "            ('2020-02-18', 2.0),\n",
       "            ('2020-02-18', 3.0),\n",
       "            ('2020-02-19', 1.0),\n",
       "            ('2020-02-19', 2.0),\n",
       "            ('2020-02-20', 1.0),\n",
       "            ('2020-02-20', 2.0),\n",
       "            ('2020-02-21', 1.0),\n",
       "            ('2020-02-21', 2.0),\n",
       "            ('2020-02-24', 1.0),\n",
       "            ('2020-02-24', 2.0),\n",
       "            ('2020-02-24', 3.0),\n",
       "            ('2020-02-25', 1.0),\n",
       "            ('2020-02-25', 2.0),\n",
       "            ('2020-02-26', 1.0),\n",
       "            ('2020-02-26', 2.0),\n",
       "            ('2020-02-26', 3.0),\n",
       "            ('2020-02-27', 1.0),\n",
       "            ('2020-02-27', 2.0)],\n",
       "           names=['QCDate', 'ProductLevel'])"
      ]
     },
     "execution_count": 60,
     "metadata": {},
     "output_type": "execute_result"
    }
   ],
   "source": [
    "df_daily_levels.index"
   ]
  },
  {
   "cell_type": "markdown",
   "metadata": {},
   "source": [
    "---\n",
    "### `.unstack()`\n",
    "\n",
    "#### `unstack` *index* (axis=1)"
   ]
  },
  {
   "cell_type": "code",
   "execution_count": 61,
   "metadata": {
    "ExecuteTime": {
     "end_time": "2020-02-28T15:24:02.222073Z",
     "start_time": "2020-02-28T15:24:02.204074Z"
    }
   },
   "outputs": [
    {
     "data": {
      "text/html": [
       "<div>\n",
       "<style scoped>\n",
       "    .dataframe tbody tr th:only-of-type {\n",
       "        vertical-align: middle;\n",
       "    }\n",
       "\n",
       "    .dataframe tbody tr th {\n",
       "        vertical-align: top;\n",
       "    }\n",
       "\n",
       "    .dataframe thead tr th {\n",
       "        text-align: left;\n",
       "    }\n",
       "\n",
       "    .dataframe thead tr:last-of-type th {\n",
       "        text-align: right;\n",
       "    }\n",
       "</style>\n",
       "<table border=\"1\" class=\"dataframe\">\n",
       "  <thead>\n",
       "    <tr>\n",
       "      <th></th>\n",
       "      <th colspan=\"3\" halign=\"left\">Count</th>\n",
       "    </tr>\n",
       "    <tr>\n",
       "      <th>ProductLevel</th>\n",
       "      <th>1.0</th>\n",
       "      <th>2.0</th>\n",
       "      <th>3.0</th>\n",
       "    </tr>\n",
       "    <tr>\n",
       "      <th>QCDate</th>\n",
       "      <th></th>\n",
       "      <th></th>\n",
       "      <th></th>\n",
       "    </tr>\n",
       "  </thead>\n",
       "  <tbody>\n",
       "    <tr>\n",
       "      <td>2020-01-28</td>\n",
       "      <td>8.0</td>\n",
       "      <td>2.0</td>\n",
       "      <td>NaN</td>\n",
       "    </tr>\n",
       "    <tr>\n",
       "      <td>2020-01-29</td>\n",
       "      <td>10.0</td>\n",
       "      <td>9.0</td>\n",
       "      <td>NaN</td>\n",
       "    </tr>\n",
       "    <tr>\n",
       "      <td>2020-01-30</td>\n",
       "      <td>11.0</td>\n",
       "      <td>4.0</td>\n",
       "      <td>1.0</td>\n",
       "    </tr>\n",
       "    <tr>\n",
       "      <td>2020-01-31</td>\n",
       "      <td>2.0</td>\n",
       "      <td>5.0</td>\n",
       "      <td>NaN</td>\n",
       "    </tr>\n",
       "    <tr>\n",
       "      <td>2020-02-03</td>\n",
       "      <td>4.0</td>\n",
       "      <td>4.0</td>\n",
       "      <td>2.0</td>\n",
       "    </tr>\n",
       "    <tr>\n",
       "      <td>2020-02-04</td>\n",
       "      <td>19.0</td>\n",
       "      <td>8.0</td>\n",
       "      <td>NaN</td>\n",
       "    </tr>\n",
       "    <tr>\n",
       "      <td>2020-02-05</td>\n",
       "      <td>6.0</td>\n",
       "      <td>15.0</td>\n",
       "      <td>1.0</td>\n",
       "    </tr>\n",
       "    <tr>\n",
       "      <td>2020-02-06</td>\n",
       "      <td>20.0</td>\n",
       "      <td>14.0</td>\n",
       "      <td>2.0</td>\n",
       "    </tr>\n",
       "    <tr>\n",
       "      <td>2020-02-07</td>\n",
       "      <td>7.0</td>\n",
       "      <td>20.0</td>\n",
       "      <td>NaN</td>\n",
       "    </tr>\n",
       "    <tr>\n",
       "      <td>2020-02-10</td>\n",
       "      <td>24.0</td>\n",
       "      <td>18.0</td>\n",
       "      <td>1.0</td>\n",
       "    </tr>\n",
       "    <tr>\n",
       "      <td>2020-02-11</td>\n",
       "      <td>24.0</td>\n",
       "      <td>16.0</td>\n",
       "      <td>NaN</td>\n",
       "    </tr>\n",
       "    <tr>\n",
       "      <td>2020-02-12</td>\n",
       "      <td>10.0</td>\n",
       "      <td>9.0</td>\n",
       "      <td>NaN</td>\n",
       "    </tr>\n",
       "    <tr>\n",
       "      <td>2020-02-13</td>\n",
       "      <td>7.0</td>\n",
       "      <td>24.0</td>\n",
       "      <td>1.0</td>\n",
       "    </tr>\n",
       "    <tr>\n",
       "      <td>2020-02-14</td>\n",
       "      <td>15.0</td>\n",
       "      <td>5.0</td>\n",
       "      <td>NaN</td>\n",
       "    </tr>\n",
       "    <tr>\n",
       "      <td>2020-02-18</td>\n",
       "      <td>8.0</td>\n",
       "      <td>19.0</td>\n",
       "      <td>1.0</td>\n",
       "    </tr>\n",
       "    <tr>\n",
       "      <td>2020-02-19</td>\n",
       "      <td>21.0</td>\n",
       "      <td>13.0</td>\n",
       "      <td>NaN</td>\n",
       "    </tr>\n",
       "    <tr>\n",
       "      <td>2020-02-20</td>\n",
       "      <td>8.0</td>\n",
       "      <td>16.0</td>\n",
       "      <td>NaN</td>\n",
       "    </tr>\n",
       "    <tr>\n",
       "      <td>2020-02-21</td>\n",
       "      <td>10.0</td>\n",
       "      <td>25.0</td>\n",
       "      <td>NaN</td>\n",
       "    </tr>\n",
       "    <tr>\n",
       "      <td>2020-02-24</td>\n",
       "      <td>9.0</td>\n",
       "      <td>4.0</td>\n",
       "      <td>2.0</td>\n",
       "    </tr>\n",
       "    <tr>\n",
       "      <td>2020-02-25</td>\n",
       "      <td>7.0</td>\n",
       "      <td>22.0</td>\n",
       "      <td>NaN</td>\n",
       "    </tr>\n",
       "    <tr>\n",
       "      <td>2020-02-26</td>\n",
       "      <td>13.0</td>\n",
       "      <td>13.0</td>\n",
       "      <td>4.0</td>\n",
       "    </tr>\n",
       "    <tr>\n",
       "      <td>2020-02-27</td>\n",
       "      <td>19.0</td>\n",
       "      <td>6.0</td>\n",
       "      <td>NaN</td>\n",
       "    </tr>\n",
       "  </tbody>\n",
       "</table>\n",
       "</div>"
      ],
      "text/plain": [
       "             Count           \n",
       "ProductLevel   1.0   2.0  3.0\n",
       "QCDate                       \n",
       "2020-01-28     8.0   2.0  NaN\n",
       "2020-01-29    10.0   9.0  NaN\n",
       "2020-01-30    11.0   4.0  1.0\n",
       "2020-01-31     2.0   5.0  NaN\n",
       "2020-02-03     4.0   4.0  2.0\n",
       "2020-02-04    19.0   8.0  NaN\n",
       "2020-02-05     6.0  15.0  1.0\n",
       "2020-02-06    20.0  14.0  2.0\n",
       "2020-02-07     7.0  20.0  NaN\n",
       "2020-02-10    24.0  18.0  1.0\n",
       "2020-02-11    24.0  16.0  NaN\n",
       "2020-02-12    10.0   9.0  NaN\n",
       "2020-02-13     7.0  24.0  1.0\n",
       "2020-02-14    15.0   5.0  NaN\n",
       "2020-02-18     8.0  19.0  1.0\n",
       "2020-02-19    21.0  13.0  NaN\n",
       "2020-02-20     8.0  16.0  NaN\n",
       "2020-02-21    10.0  25.0  NaN\n",
       "2020-02-24     9.0   4.0  2.0\n",
       "2020-02-25     7.0  22.0  NaN\n",
       "2020-02-26    13.0  13.0  4.0\n",
       "2020-02-27    19.0   6.0  NaN"
      ]
     },
     "execution_count": 61,
     "metadata": {},
     "output_type": "execute_result"
    }
   ],
   "source": [
    "df_daily_unstacked_1 = df_daily_levels.unstack(level=-1)\n",
    "df_daily_unstacked_1"
   ]
  },
  {
   "cell_type": "code",
   "execution_count": 62,
   "metadata": {
    "ExecuteTime": {
     "end_time": "2020-02-28T15:24:02.234075Z",
     "start_time": "2020-02-28T15:24:02.224073Z"
    }
   },
   "outputs": [],
   "source": [
    "df_daily_unstacked_1.to_csv(\"df_daily_levels_2020_02_25_UNSTACKED_level_1.csv\", index=True)"
   ]
  },
  {
   "cell_type": "code",
   "execution_count": 63,
   "metadata": {
    "ExecuteTime": {
     "end_time": "2020-02-28T15:24:02.271075Z",
     "start_time": "2020-02-28T15:24:02.236074Z"
    }
   },
   "outputs": [],
   "source": [
    "df_daily_unstacked_1.to_excel(\"df_daily_levels_2020_02_25_UNSTACKED_level_1.xlsx\", index=True)"
   ]
  },
  {
   "cell_type": "code",
   "execution_count": 64,
   "metadata": {
    "ExecuteTime": {
     "end_time": "2020-02-28T15:24:02.277078Z",
     "start_time": "2020-02-28T15:24:02.272075Z"
    }
   },
   "outputs": [
    {
     "data": {
      "text/plain": [
       "2"
      ]
     },
     "execution_count": 64,
     "metadata": {},
     "output_type": "execute_result"
    }
   ],
   "source": [
    "len(df_daily_unstacked_1.columns.levels)"
   ]
  },
  {
   "cell_type": "markdown",
   "metadata": {},
   "source": [
    "---\n",
    "# DROP LEVEL"
   ]
  },
  {
   "cell_type": "code",
   "execution_count": 65,
   "metadata": {
    "ExecuteTime": {
     "end_time": "2020-02-28T15:24:02.284079Z",
     "start_time": "2020-02-28T15:24:02.279077Z"
    }
   },
   "outputs": [],
   "source": [
    "df_daily_unstacked_1.columns = df_daily_unstacked_1.columns.droplevel()"
   ]
  },
  {
   "cell_type": "markdown",
   "metadata": {},
   "source": [
    "---"
   ]
  },
  {
   "cell_type": "code",
   "execution_count": 66,
   "metadata": {
    "ExecuteTime": {
     "end_time": "2020-02-28T15:24:02.299080Z",
     "start_time": "2020-02-28T15:24:02.286076Z"
    }
   },
   "outputs": [
    {
     "data": {
      "text/html": [
       "<div>\n",
       "<style scoped>\n",
       "    .dataframe tbody tr th:only-of-type {\n",
       "        vertical-align: middle;\n",
       "    }\n",
       "\n",
       "    .dataframe tbody tr th {\n",
       "        vertical-align: top;\n",
       "    }\n",
       "\n",
       "    .dataframe thead th {\n",
       "        text-align: right;\n",
       "    }\n",
       "</style>\n",
       "<table border=\"1\" class=\"dataframe\">\n",
       "  <thead>\n",
       "    <tr style=\"text-align: right;\">\n",
       "      <th>ProductLevel</th>\n",
       "      <th>1.0</th>\n",
       "      <th>2.0</th>\n",
       "      <th>3.0</th>\n",
       "    </tr>\n",
       "    <tr>\n",
       "      <th>QCDate</th>\n",
       "      <th></th>\n",
       "      <th></th>\n",
       "      <th></th>\n",
       "    </tr>\n",
       "  </thead>\n",
       "  <tbody>\n",
       "    <tr>\n",
       "      <td>2020-01-28</td>\n",
       "      <td>8.0</td>\n",
       "      <td>2.0</td>\n",
       "      <td>NaN</td>\n",
       "    </tr>\n",
       "    <tr>\n",
       "      <td>2020-01-29</td>\n",
       "      <td>10.0</td>\n",
       "      <td>9.0</td>\n",
       "      <td>NaN</td>\n",
       "    </tr>\n",
       "    <tr>\n",
       "      <td>2020-01-30</td>\n",
       "      <td>11.0</td>\n",
       "      <td>4.0</td>\n",
       "      <td>1.0</td>\n",
       "    </tr>\n",
       "    <tr>\n",
       "      <td>2020-01-31</td>\n",
       "      <td>2.0</td>\n",
       "      <td>5.0</td>\n",
       "      <td>NaN</td>\n",
       "    </tr>\n",
       "    <tr>\n",
       "      <td>2020-02-03</td>\n",
       "      <td>4.0</td>\n",
       "      <td>4.0</td>\n",
       "      <td>2.0</td>\n",
       "    </tr>\n",
       "    <tr>\n",
       "      <td>2020-02-04</td>\n",
       "      <td>19.0</td>\n",
       "      <td>8.0</td>\n",
       "      <td>NaN</td>\n",
       "    </tr>\n",
       "    <tr>\n",
       "      <td>2020-02-05</td>\n",
       "      <td>6.0</td>\n",
       "      <td>15.0</td>\n",
       "      <td>1.0</td>\n",
       "    </tr>\n",
       "    <tr>\n",
       "      <td>2020-02-06</td>\n",
       "      <td>20.0</td>\n",
       "      <td>14.0</td>\n",
       "      <td>2.0</td>\n",
       "    </tr>\n",
       "    <tr>\n",
       "      <td>2020-02-07</td>\n",
       "      <td>7.0</td>\n",
       "      <td>20.0</td>\n",
       "      <td>NaN</td>\n",
       "    </tr>\n",
       "    <tr>\n",
       "      <td>2020-02-10</td>\n",
       "      <td>24.0</td>\n",
       "      <td>18.0</td>\n",
       "      <td>1.0</td>\n",
       "    </tr>\n",
       "    <tr>\n",
       "      <td>2020-02-11</td>\n",
       "      <td>24.0</td>\n",
       "      <td>16.0</td>\n",
       "      <td>NaN</td>\n",
       "    </tr>\n",
       "    <tr>\n",
       "      <td>2020-02-12</td>\n",
       "      <td>10.0</td>\n",
       "      <td>9.0</td>\n",
       "      <td>NaN</td>\n",
       "    </tr>\n",
       "    <tr>\n",
       "      <td>2020-02-13</td>\n",
       "      <td>7.0</td>\n",
       "      <td>24.0</td>\n",
       "      <td>1.0</td>\n",
       "    </tr>\n",
       "    <tr>\n",
       "      <td>2020-02-14</td>\n",
       "      <td>15.0</td>\n",
       "      <td>5.0</td>\n",
       "      <td>NaN</td>\n",
       "    </tr>\n",
       "    <tr>\n",
       "      <td>2020-02-18</td>\n",
       "      <td>8.0</td>\n",
       "      <td>19.0</td>\n",
       "      <td>1.0</td>\n",
       "    </tr>\n",
       "    <tr>\n",
       "      <td>2020-02-19</td>\n",
       "      <td>21.0</td>\n",
       "      <td>13.0</td>\n",
       "      <td>NaN</td>\n",
       "    </tr>\n",
       "    <tr>\n",
       "      <td>2020-02-20</td>\n",
       "      <td>8.0</td>\n",
       "      <td>16.0</td>\n",
       "      <td>NaN</td>\n",
       "    </tr>\n",
       "    <tr>\n",
       "      <td>2020-02-21</td>\n",
       "      <td>10.0</td>\n",
       "      <td>25.0</td>\n",
       "      <td>NaN</td>\n",
       "    </tr>\n",
       "    <tr>\n",
       "      <td>2020-02-24</td>\n",
       "      <td>9.0</td>\n",
       "      <td>4.0</td>\n",
       "      <td>2.0</td>\n",
       "    </tr>\n",
       "    <tr>\n",
       "      <td>2020-02-25</td>\n",
       "      <td>7.0</td>\n",
       "      <td>22.0</td>\n",
       "      <td>NaN</td>\n",
       "    </tr>\n",
       "    <tr>\n",
       "      <td>2020-02-26</td>\n",
       "      <td>13.0</td>\n",
       "      <td>13.0</td>\n",
       "      <td>4.0</td>\n",
       "    </tr>\n",
       "    <tr>\n",
       "      <td>2020-02-27</td>\n",
       "      <td>19.0</td>\n",
       "      <td>6.0</td>\n",
       "      <td>NaN</td>\n",
       "    </tr>\n",
       "  </tbody>\n",
       "</table>\n",
       "</div>"
      ],
      "text/plain": [
       "ProductLevel   1.0   2.0  3.0\n",
       "QCDate                       \n",
       "2020-01-28     8.0   2.0  NaN\n",
       "2020-01-29    10.0   9.0  NaN\n",
       "2020-01-30    11.0   4.0  1.0\n",
       "2020-01-31     2.0   5.0  NaN\n",
       "2020-02-03     4.0   4.0  2.0\n",
       "2020-02-04    19.0   8.0  NaN\n",
       "2020-02-05     6.0  15.0  1.0\n",
       "2020-02-06    20.0  14.0  2.0\n",
       "2020-02-07     7.0  20.0  NaN\n",
       "2020-02-10    24.0  18.0  1.0\n",
       "2020-02-11    24.0  16.0  NaN\n",
       "2020-02-12    10.0   9.0  NaN\n",
       "2020-02-13     7.0  24.0  1.0\n",
       "2020-02-14    15.0   5.0  NaN\n",
       "2020-02-18     8.0  19.0  1.0\n",
       "2020-02-19    21.0  13.0  NaN\n",
       "2020-02-20     8.0  16.0  NaN\n",
       "2020-02-21    10.0  25.0  NaN\n",
       "2020-02-24     9.0   4.0  2.0\n",
       "2020-02-25     7.0  22.0  NaN\n",
       "2020-02-26    13.0  13.0  4.0\n",
       "2020-02-27    19.0   6.0  NaN"
      ]
     },
     "execution_count": 66,
     "metadata": {},
     "output_type": "execute_result"
    }
   ],
   "source": [
    "df_daily_unstacked_1"
   ]
  },
  {
   "cell_type": "code",
   "execution_count": 67,
   "metadata": {
    "ExecuteTime": {
     "end_time": "2020-02-28T15:24:02.309080Z",
     "start_time": "2020-02-28T15:24:02.300080Z"
    }
   },
   "outputs": [
    {
     "name": "stdout",
     "output_type": "stream",
     "text": [
      "<class 'pandas.core.frame.DataFrame'>\n",
      "DatetimeIndex: 22 entries, 2020-01-28 to 2020-02-27\n",
      "Data columns (total 3 columns):\n",
      "1.0    22 non-null float64\n",
      "2.0    22 non-null float64\n",
      "3.0    9 non-null float64\n",
      "dtypes: float64(3)\n",
      "memory usage: 704.0 bytes\n"
     ]
    }
   ],
   "source": [
    "df_daily_unstacked_1.info()"
   ]
  },
  {
   "cell_type": "code",
   "execution_count": 68,
   "metadata": {
    "ExecuteTime": {
     "end_time": "2020-02-28T15:24:02.317081Z",
     "start_time": "2020-02-28T15:24:02.311078Z"
    }
   },
   "outputs": [
    {
     "data": {
      "text/plain": [
       "DatetimeIndex(['2020-01-28', '2020-01-29', '2020-01-30', '2020-01-31',\n",
       "               '2020-02-03', '2020-02-04', '2020-02-05', '2020-02-06',\n",
       "               '2020-02-07', '2020-02-10', '2020-02-11', '2020-02-12',\n",
       "               '2020-02-13', '2020-02-14', '2020-02-18', '2020-02-19',\n",
       "               '2020-02-20', '2020-02-21', '2020-02-24', '2020-02-25',\n",
       "               '2020-02-26', '2020-02-27'],\n",
       "              dtype='datetime64[ns]', name='QCDate', freq=None)"
      ]
     },
     "execution_count": 68,
     "metadata": {},
     "output_type": "execute_result"
    }
   ],
   "source": [
    "df_daily_unstacked_1.index"
   ]
  },
  {
   "cell_type": "code",
   "execution_count": 69,
   "metadata": {
    "ExecuteTime": {
     "end_time": "2020-02-28T15:24:02.324082Z",
     "start_time": "2020-02-28T15:24:02.319080Z"
    }
   },
   "outputs": [
    {
     "data": {
      "text/plain": [
       "Float64Index([1.0, 2.0, 3.0], dtype='float64', name='ProductLevel')"
      ]
     },
     "execution_count": 69,
     "metadata": {},
     "output_type": "execute_result"
    }
   ],
   "source": [
    "df_daily_unstacked_1.columns"
   ]
  },
  {
   "cell_type": "code",
   "execution_count": 70,
   "metadata": {
    "ExecuteTime": {
     "end_time": "2020-02-28T15:24:02.363081Z",
     "start_time": "2020-02-28T15:24:02.326082Z"
    }
   },
   "outputs": [],
   "source": [
    "df_daily_unstacked_1.to_excel(\"df_daily_unstacked_2020_02_25.xlsx\", index=True)"
   ]
  },
  {
   "cell_type": "markdown",
   "metadata": {},
   "source": [
    "### test `fillna()`"
   ]
  },
  {
   "cell_type": "code",
   "execution_count": 71,
   "metadata": {
    "ExecuteTime": {
     "end_time": "2020-02-28T15:24:02.369086Z",
     "start_time": "2020-02-28T15:24:02.365081Z"
    }
   },
   "outputs": [],
   "source": [
    "df_daily_unstacked_1.fillna(value=0, inplace=True)"
   ]
  },
  {
   "cell_type": "code",
   "execution_count": 72,
   "metadata": {
    "ExecuteTime": {
     "end_time": "2020-02-28T15:24:02.384088Z",
     "start_time": "2020-02-28T15:24:02.371085Z"
    }
   },
   "outputs": [
    {
     "data": {
      "text/html": [
       "<div>\n",
       "<style scoped>\n",
       "    .dataframe tbody tr th:only-of-type {\n",
       "        vertical-align: middle;\n",
       "    }\n",
       "\n",
       "    .dataframe tbody tr th {\n",
       "        vertical-align: top;\n",
       "    }\n",
       "\n",
       "    .dataframe thead th {\n",
       "        text-align: right;\n",
       "    }\n",
       "</style>\n",
       "<table border=\"1\" class=\"dataframe\">\n",
       "  <thead>\n",
       "    <tr style=\"text-align: right;\">\n",
       "      <th>ProductLevel</th>\n",
       "      <th>1.0</th>\n",
       "      <th>2.0</th>\n",
       "      <th>3.0</th>\n",
       "    </tr>\n",
       "    <tr>\n",
       "      <th>QCDate</th>\n",
       "      <th></th>\n",
       "      <th></th>\n",
       "      <th></th>\n",
       "    </tr>\n",
       "  </thead>\n",
       "  <tbody>\n",
       "    <tr>\n",
       "      <td>2020-02-11</td>\n",
       "      <td>24.0</td>\n",
       "      <td>16.0</td>\n",
       "      <td>0.0</td>\n",
       "    </tr>\n",
       "    <tr>\n",
       "      <td>2020-02-07</td>\n",
       "      <td>7.0</td>\n",
       "      <td>20.0</td>\n",
       "      <td>0.0</td>\n",
       "    </tr>\n",
       "    <tr>\n",
       "      <td>2020-02-06</td>\n",
       "      <td>20.0</td>\n",
       "      <td>14.0</td>\n",
       "      <td>2.0</td>\n",
       "    </tr>\n",
       "    <tr>\n",
       "      <td>2020-02-13</td>\n",
       "      <td>7.0</td>\n",
       "      <td>24.0</td>\n",
       "      <td>1.0</td>\n",
       "    </tr>\n",
       "    <tr>\n",
       "      <td>2020-02-12</td>\n",
       "      <td>10.0</td>\n",
       "      <td>9.0</td>\n",
       "      <td>0.0</td>\n",
       "    </tr>\n",
       "    <tr>\n",
       "      <td>2020-02-21</td>\n",
       "      <td>10.0</td>\n",
       "      <td>25.0</td>\n",
       "      <td>0.0</td>\n",
       "    </tr>\n",
       "    <tr>\n",
       "      <td>2020-02-04</td>\n",
       "      <td>19.0</td>\n",
       "      <td>8.0</td>\n",
       "      <td>0.0</td>\n",
       "    </tr>\n",
       "    <tr>\n",
       "      <td>2020-02-03</td>\n",
       "      <td>4.0</td>\n",
       "      <td>4.0</td>\n",
       "      <td>2.0</td>\n",
       "    </tr>\n",
       "    <tr>\n",
       "      <td>2020-02-26</td>\n",
       "      <td>13.0</td>\n",
       "      <td>13.0</td>\n",
       "      <td>4.0</td>\n",
       "    </tr>\n",
       "    <tr>\n",
       "      <td>2020-01-31</td>\n",
       "      <td>2.0</td>\n",
       "      <td>5.0</td>\n",
       "      <td>0.0</td>\n",
       "    </tr>\n",
       "  </tbody>\n",
       "</table>\n",
       "</div>"
      ],
      "text/plain": [
       "ProductLevel   1.0   2.0  3.0\n",
       "QCDate                       \n",
       "2020-02-11    24.0  16.0  0.0\n",
       "2020-02-07     7.0  20.0  0.0\n",
       "2020-02-06    20.0  14.0  2.0\n",
       "2020-02-13     7.0  24.0  1.0\n",
       "2020-02-12    10.0   9.0  0.0\n",
       "2020-02-21    10.0  25.0  0.0\n",
       "2020-02-04    19.0   8.0  0.0\n",
       "2020-02-03     4.0   4.0  2.0\n",
       "2020-02-26    13.0  13.0  4.0\n",
       "2020-01-31     2.0   5.0  0.0"
      ]
     },
     "execution_count": 72,
     "metadata": {},
     "output_type": "execute_result"
    }
   ],
   "source": [
    "df_daily_unstacked_1.sample(10)"
   ]
  },
  {
   "cell_type": "markdown",
   "metadata": {},
   "source": [
    "### locate `values`:"
   ]
  },
  {
   "cell_type": "code",
   "execution_count": 73,
   "metadata": {
    "ExecuteTime": {
     "end_time": "2020-02-28T15:24:02.392086Z",
     "start_time": "2020-02-28T15:24:02.386089Z"
    }
   },
   "outputs": [
    {
     "data": {
      "text/plain": [
       "8.0"
      ]
     },
     "execution_count": 73,
     "metadata": {},
     "output_type": "execute_result"
    }
   ],
   "source": [
    "df_daily_unstacked_1.iloc[0, 0]"
   ]
  },
  {
   "cell_type": "code",
   "execution_count": 74,
   "metadata": {
    "ExecuteTime": {
     "end_time": "2020-02-28T15:24:02.400088Z",
     "start_time": "2020-02-28T15:24:02.394085Z"
    }
   },
   "outputs": [
    {
     "data": {
      "text/plain": [
       "10.0"
      ]
     },
     "execution_count": 74,
     "metadata": {},
     "output_type": "execute_result"
    }
   ],
   "source": [
    "df_daily_unstacked_1.iloc[17, 0]"
   ]
  },
  {
   "cell_type": "markdown",
   "metadata": {},
   "source": [
    "---\n",
    "# (SHOW) `PLOT` DATA"
   ]
  },
  {
   "cell_type": "code",
   "execution_count": 75,
   "metadata": {
    "ExecuteTime": {
     "end_time": "2020-02-28T15:24:02.647141Z",
     "start_time": "2020-02-28T15:24:02.402087Z"
    }
   },
   "outputs": [
    {
     "data": {
      "text/plain": [
       "<matplotlib.axes._subplots.AxesSubplot at 0x21e5d830160>"
      ]
     },
     "execution_count": 75,
     "metadata": {},
     "output_type": "execute_result"
    },
    {
     "data": {
      "image/png": "[encoded data removed]",
      "text/plain": [
       "<Figure size 432x288 with 1 Axes>"
      ]
     },
     "metadata": {
      "needs_background": "light"
     },
     "output_type": "display_data"
    }
   ],
   "source": [
    "df_daily_unstacked_1.plot()"
   ]
  },
  {
   "cell_type": "code",
   "execution_count": 76,
   "metadata": {
    "ExecuteTime": {
     "end_time": "2020-02-28T15:24:02.921120Z",
     "start_time": "2020-02-28T15:24:02.649103Z"
    }
   },
   "outputs": [
    {
     "data": {
      "text/plain": [
       "<matplotlib.axes._subplots.AxesSubplot at 0x21e5ddfdb38>"
      ]
     },
     "execution_count": 76,
     "metadata": {},
     "output_type": "execute_result"
    },
    {
     "data": {
      "image/png": "[encoded data removed]",
      "text/plain": [
       "<Figure size 432x288 with 1 Axes>"
      ]
     },
     "metadata": {
      "needs_background": "light"
     },
     "output_type": "display_data"
    }
   ],
   "source": [
    "df_daily_unstacked_1.plot(kind='area')"
   ]
  },
  {
   "cell_type": "code",
   "execution_count": 77,
   "metadata": {
    "ExecuteTime": {
     "end_time": "2020-02-28T15:24:03.363682Z",
     "start_time": "2020-02-28T15:24:02.922121Z"
    }
   },
   "outputs": [
    {
     "data": {
      "text/plain": [
       "<matplotlib.axes._subplots.AxesSubplot at 0x21e5e276860>"
      ]
     },
     "execution_count": 77,
     "metadata": {},
     "output_type": "execute_result"
    },
    {
     "data": {
      "image/png": "[encoded data removed]",
      "text/plain": [
       "<Figure size 432x288 with 1 Axes>"
      ]
     },
     "metadata": {
      "needs_background": "light"
     },
     "output_type": "display_data"
    }
   ],
   "source": [
    "df_daily_unstacked_1.plot(kind='barh')"
   ]
  },
  {
   "cell_type": "code",
   "execution_count": 78,
   "metadata": {
    "ExecuteTime": {
     "end_time": "2020-02-28T15:24:03.594695Z",
     "start_time": "2020-02-28T15:24:03.365681Z"
    }
   },
   "outputs": [
    {
     "data": {
      "text/plain": [
       "<matplotlib.axes._subplots.AxesSubplot at 0x21e5ed39390>"
      ]
     },
     "execution_count": 78,
     "metadata": {},
     "output_type": "execute_result"
    },
    {
     "data": {
      "image/png": "[encoded data removed]",
      "text/plain": [
       "<Figure size 432x288 with 1 Axes>"
      ]
     },
     "metadata": {
      "needs_background": "light"
     },
     "output_type": "display_data"
    }
   ],
   "source": [
    "df_daily_unstacked_1.plot(kind='kde')"
   ]
  },
  {
   "cell_type": "raw",
   "metadata": {},
   "source": [
    "kind : str\n",
    "    - 'line' : line plot (default)\n",
    "    - 'bar' : vertical bar plot\n",
    "    - 'barh' : horizontal bar plot\n",
    "    - 'hist' : histogram\n",
    "    - 'box' : boxplot\n",
    "    - 'kde' : Kernel Density Estimation plot\n",
    "    - 'density' : same as 'kde'\n",
    "    - 'area' : area plot\n",
    "    - 'pie' : pie plot\n",
    "    - 'scatter' : scatter plot\n",
    "    - 'hexbin' : hexbin plot"
   ]
  },
  {
   "cell_type": "markdown",
   "metadata": {},
   "source": [
    "---\n",
    "# WorkBook"
   ]
  },
  {
   "cell_type": "markdown",
   "metadata": {},
   "source": [
    "timestamp for filename"
   ]
  },
  {
   "cell_type": "code",
   "execution_count": 79,
   "metadata": {
    "ExecuteTime": {
     "end_time": "2020-02-28T15:24:03.601699Z",
     "start_time": "2020-02-28T15:24:03.597697Z"
    }
   },
   "outputs": [],
   "source": [
    "ts_str = str(test_date)[:10] #str(pd.Timestamp.now())[:10]"
   ]
  },
  {
   "cell_type": "markdown",
   "metadata": {},
   "source": [
    "create filename var"
   ]
  },
  {
   "cell_type": "code",
   "execution_count": 80,
   "metadata": {
    "ExecuteTime": {
     "end_time": "2020-02-28T15:24:03.609697Z",
     "start_time": "2020-02-28T15:24:03.604695Z"
    }
   },
   "outputs": [],
   "source": [
    "filename_str = str(\"QCMetrics_\" + str(ts_str) + \".xlsx\")"
   ]
  },
  {
   "cell_type": "code",
   "execution_count": 81,
   "metadata": {
    "ExecuteTime": {
     "end_time": "2020-02-28T15:24:03.632698Z",
     "start_time": "2020-02-28T15:24:03.612696Z"
    }
   },
   "outputs": [],
   "source": [
    "# CREATE NEW WORKBOOK\n",
    "wb = Workbook()\n",
    "wb.save(filename_str)"
   ]
  },
  {
   "cell_type": "code",
   "execution_count": 82,
   "metadata": {
    "ExecuteTime": {
     "end_time": "2020-02-28T15:24:03.647700Z",
     "start_time": "2020-02-28T15:24:03.634695Z"
    }
   },
   "outputs": [],
   "source": [
    "# LOAD EXISTING WORKBOOK\n",
    "wb = load_workbook(filename_str)"
   ]
  },
  {
   "cell_type": "code",
   "execution_count": 83,
   "metadata": {
    "ExecuteTime": {
     "end_time": "2020-02-28T15:24:03.654707Z",
     "start_time": "2020-02-28T15:24:03.650700Z"
    }
   },
   "outputs": [],
   "source": [
    "# ADD SHEETS TO WORKBOOK\n",
    "# DESGIGNATE SHEET NAME AND POSITION\n",
    "sheet1 = wb.create_sheet('Table', 0)\n",
    "sheet2 = wb.create_sheet('Graphs',1)"
   ]
  },
  {
   "cell_type": "code",
   "execution_count": 84,
   "metadata": {
    "ExecuteTime": {
     "end_time": "2020-02-28T15:24:03.684700Z",
     "start_time": "2020-02-28T15:24:03.657700Z"
    }
   },
   "outputs": [],
   "source": [
    "# ACTIVATE WORKSHEET TO WRITE DATAFRAME\n",
    "active = wb['Table']\n",
    "\n",
    "# WRTIE DATAFRAME TO ACTIVE WORKSHEET\n",
    "for x in dataframe_to_rows(df_daily_unstacked_1): # {\n",
    "    active.append(x)\n",
    "# }\n",
    "\n",
    "# SAVE \n",
    "wb.save(filename_str)"
   ]
  },
  {
   "cell_type": "code",
   "execution_count": 85,
   "metadata": {
    "ExecuteTime": {
     "end_time": "2020-02-28T15:24:03.919235Z",
     "start_time": "2020-02-28T15:24:03.686701Z"
    }
   },
   "outputs": [
    {
     "data": {
      "image/png": "[encoded data removed]",
      "text/plain": [
       "<Figure size 432x288 with 1 Axes>"
      ]
     },
     "metadata": {
      "needs_background": "light"
     },
     "output_type": "display_data"
    }
   ],
   "source": [
    "# CREATE LINE PLOT VARIABLE\n",
    "plot = df_daily_unstacked_1.plot()"
   ]
  },
  {
   "cell_type": "code",
   "execution_count": 86,
   "metadata": {
    "ExecuteTime": {
     "end_time": "2020-02-28T15:24:04.179279Z",
     "start_time": "2020-02-28T15:24:03.920235Z"
    }
   },
   "outputs": [
    {
     "data": {
      "image/png": "[encoded data removed]",
      "text/plain": [
       "<Figure size 432x288 with 1 Axes>"
      ]
     },
     "metadata": {
      "needs_background": "light"
     },
     "output_type": "display_data"
    }
   ],
   "source": [
    "# CREATE AREA PLOT VARIABLE\n",
    "area_plot = df_daily_unstacked_1.plot(kind='area')"
   ]
  },
  {
   "cell_type": "code",
   "execution_count": 87,
   "metadata": {
    "ExecuteTime": {
     "end_time": "2020-02-28T15:24:04.183256Z",
     "start_time": "2020-02-28T15:24:04.180253Z"
    }
   },
   "outputs": [],
   "source": [
    "# CREATE BAR PLOT VARIABLE\n",
    "# [2020-02-27]\\\\bar_plot = df_daily_unstacked_1.plot(kind='barh')"
   ]
  },
  {
   "cell_type": "code",
   "execution_count": 88,
   "metadata": {
    "ExecuteTime": {
     "end_time": "2020-02-28T15:24:04.191252Z",
     "start_time": "2020-02-28T15:24:04.184255Z"
    }
   },
   "outputs": [],
   "source": [
    "# CREATE kde PLOT VARIABLE\n",
    "# [2020-02-27]\\\\kde_plot = df_daily_unstacked_1.plot(kind='kde')"
   ]
  },
  {
   "cell_type": "markdown",
   "metadata": {},
   "source": [
    "### create `figure` vairables"
   ]
  },
  {
   "cell_type": "code",
   "execution_count": 89,
   "metadata": {
    "ExecuteTime": {
     "end_time": "2020-02-28T15:24:04.200254Z",
     "start_time": "2020-02-28T15:24:04.193254Z"
    }
   },
   "outputs": [
    {
     "data": {
      "text/plain": [
       "'\\n# MATPLOTLIB figure for \"bar_plot\"\\nbar_fig = bar_plot.get_figure()\\n# MATPLOTLIB figure for \"kde_plot\"\\nkde_fig = kde_plot.get_figure()\\n'"
      ]
     },
     "execution_count": 89,
     "metadata": {},
     "output_type": "execute_result"
    }
   ],
   "source": [
    "# MATPLOTLIB figure for \"line_plot\"\n",
    "fig = plot.get_figure()\n",
    "# MATPLOTLIB figure for \"area_plot\"\n",
    "area_fig = area_plot.get_figure()\n",
    "\"\"\"\n",
    "# MATPLOTLIB figure for \"bar_plot\"\n",
    "bar_fig = bar_plot.get_figure()\n",
    "# MATPLOTLIB figure for \"kde_plot\"\n",
    "kde_fig = kde_plot.get_figure()\n",
    "\"\"\""
   ]
  },
  {
   "cell_type": "raw",
   "metadata": {},
   "source": [
    "with tempfile.TemporaryDirectory() as directory_name: # {\n",
    "    the_dir = Path(directory_name)\n",
    "    print(the_dir)\n",
    "    \n",
    "    }"
   ]
  },
  {
   "cell_type": "code",
   "execution_count": 90,
   "metadata": {
    "ExecuteTime": {
     "end_time": "2020-02-28T15:24:04.306264Z",
     "start_time": "2020-02-28T15:24:04.202255Z"
    }
   },
   "outputs": [
    {
     "data": {
      "text/plain": [
       "'\\n# SAVE BAR PLOT\\nbar_fig.savefig(ts_str + \"_bar_plot.png\")\\n# SAVE KDE PLOT\\nkde_fig.savefig(ts_str + \"_kde_plot.png\")\\n'"
      ]
     },
     "execution_count": 90,
     "metadata": {},
     "output_type": "execute_result"
    }
   ],
   "source": [
    "# SAVE LINE PLOT\n",
    "fig.savefig(ts_str + \"_line_plot.png\")\n",
    "# SAVE AREA PLOT\n",
    "area_fig.savefig(ts_str + \"_area_plot.png\")\n",
    "\"\"\"\n",
    "# SAVE BAR PLOT\n",
    "bar_fig.savefig(ts_str + \"_bar_plot.png\")\n",
    "# SAVE KDE PLOT\n",
    "kde_fig.savefig(ts_str + \"_kde_plot.png\")\n",
    "\"\"\""
   ]
  },
  {
   "cell_type": "code",
   "execution_count": 91,
   "metadata": {
    "ExecuteTime": {
     "end_time": "2020-02-28T15:24:04.310281Z",
     "start_time": "2020-02-28T15:24:04.307261Z"
    }
   },
   "outputs": [],
   "source": [
    "# ACTIVATE WORKSHEET\n",
    "active = wb['Graphs']"
   ]
  },
  {
   "cell_type": "code",
   "execution_count": 92,
   "metadata": {
    "ExecuteTime": {
     "end_time": "2020-02-28T15:24:04.330262Z",
     "start_time": "2020-02-28T15:24:04.312263Z"
    }
   },
   "outputs": [],
   "source": [
    "# Insert Plot into worksheet\n",
    "# Select active sheet and cell reference\n",
    "img_line = Image(ts_str + \"_line_plot.png\")\n",
    "active.add_image(img_line, 'A1')"
   ]
  },
  {
   "cell_type": "code",
   "execution_count": 93,
   "metadata": {
    "ExecuteTime": {
     "end_time": "2020-02-28T15:24:04.336266Z",
     "start_time": "2020-02-28T15:24:04.332263Z"
    }
   },
   "outputs": [],
   "source": [
    "# Insert Plot into worksheet\n",
    "# Select active sheet and cell reference\n",
    "img_area = Image(ts_str + \"_area_plot.png\")\n",
    "active.add_image(img_area, \"H1\")"
   ]
  },
  {
   "cell_type": "code",
   "execution_count": 94,
   "metadata": {
    "ExecuteTime": {
     "end_time": "2020-02-28T15:24:04.365263Z",
     "start_time": "2020-02-28T15:24:04.338264Z"
    }
   },
   "outputs": [],
   "source": [
    "# SAVE WORKBOOK\n",
    "wb.save(filename_str)"
   ]
  },
  {
   "cell_type": "code",
   "execution_count": 95,
   "metadata": {
    "ExecuteTime": {
     "end_time": "2020-02-28T15:24:04.370266Z",
     "start_time": "2020-02-28T15:24:04.367266Z"
    }
   },
   "outputs": [],
   "source": [
    "# WRITE DATAFRAME TO ACTIVE WORKSHEET"
   ]
  },
  {
   "cell_type": "raw",
   "metadata": {
    "raw_mimetype": "text/markdown"
   },
   "source": [
    "### `unstack` data **columns** (axis=0)"
   ]
  },
  {
   "cell_type": "raw",
   "metadata": {
    "ExecuteTime": {
     "end_time": "2020-02-25T19:12:13.623721Z",
     "start_time": "2020-02-25T19:12:13.607720Z"
    },
    "raw_mimetype": "text/x-python"
   },
   "source": [
    "test_unstack = df_daily_unstacked_1.columns.unstack(level=0)"
   ]
  },
  {
   "cell_type": "raw",
   "metadata": {
    "ExecuteTime": {
     "end_time": "2020-02-25T16:13:38.106487Z",
     "start_time": "2020-02-25T16:13:38.096482Z"
    },
    "raw_mimetype": "text/x-python"
   },
   "source": [
    "df_daily_levels.unstack(level=1).to_csv(\"df_daily_levels_UNSTACKED.csv\", index=True)"
   ]
  },
  {
   "cell_type": "raw",
   "metadata": {
    "ExecuteTime": {
     "end_time": "2020-02-25T21:02:59.345471Z",
     "start_time": "2020-02-25T21:02:09.390Z"
    },
    "raw_mimetype": "text/x-python"
   },
   "source": [
    "df_daily_unstacked = df_daily_levels.unstack(0)\n",
    "df_daily_unstacked"
   ]
  },
  {
   "cell_type": "raw",
   "metadata": {
    "ExecuteTime": {
     "end_time": "2020-02-25T21:02:59.346469Z",
     "start_time": "2020-02-25T21:02:09.401Z"
    },
    "raw_mimetype": "text/x-python"
   },
   "source": [
    "df_daily_unstacked.info()"
   ]
  },
  {
   "cell_type": "raw",
   "metadata": {
    "ExecuteTime": {
     "end_time": "2020-02-25T21:02:59.348469Z",
     "start_time": "2020-02-25T21:02:09.407Z"
    },
    "raw_mimetype": "text/x-python"
   },
   "source": [
    "df_daily_unstacked.to_csv(\"df_daily_levels_2020_02_25_unstacked.csv\", index=True)"
   ]
  },
  {
   "cell_type": "raw",
   "metadata": {
    "ExecuteTime": {
     "end_time": "2020-02-25T21:02:59.349471Z",
     "start_time": "2020-02-25T21:02:09.415Z"
    },
    "raw_mimetype": "text/x-python"
   },
   "source": [
    "for row in df_daily_levels.unstack(0).itertuples(index=True): # {\n",
    "    print(len(row))\n",
    "# }"
   ]
  },
  {
   "cell_type": "raw",
   "metadata": {
    "ExecuteTime": {
     "end_time": "2020-02-24T16:47:24.782377Z",
     "start_time": "2020-02-24T16:47:24.775342Z"
    },
    "raw_mimetype": "text/x-python"
   },
   "source": [
    "merged = df_daily_levels.merge(df_month_range.set_index(['QCDate']), left_index=True, right_index=True,\n",
    "                              how='left')"
   ]
  },
  {
   "cell_type": "raw",
   "metadata": {
    "ExecuteTime": {
     "end_time": "2020-02-24T16:22:57.040002Z",
     "start_time": "2020-02-24T16:22:57.021971Z"
    },
    "raw_mimetype": "text/x-python"
   },
   "source": [
    "merged = df_daily_levels.join(df_month_range, on = df_daily_levels.index, how = 'right', lsuffix='_x')"
   ]
  },
  {
   "cell_type": "raw",
   "metadata": {
    "ExecuteTime": {
     "end_time": "2020-02-24T17:10:08.138037Z",
     "start_time": "2020-02-24T17:10:07.856031Z"
    },
    "raw_mimetype": "text/x-python"
   },
   "source": [
    "merged = pd.merge(left=df_daily_levels, right=df_month_range)"
   ]
  },
  {
   "cell_type": "raw",
   "metadata": {
    "ExecuteTime": {
     "end_time": "2020-02-25T19:51:13.660538Z",
     "start_time": "2020-02-25T19:51:13.650538Z"
    },
    "raw_mimetype": "text/x-python"
   },
   "source": [
    "merged = df_daily_levels.append(df_month_range, ignore_index=True, sort=True)"
   ]
  },
  {
   "cell_type": "markdown",
   "metadata": {},
   "source": [
    "---\n",
    "# Create *empty* `DataFrame` to hold **FINAL** `Metrics` \n",
    "*(and lists to hold columns*)"
   ]
  },
  {
   "cell_type": "code",
   "execution_count": 96,
   "metadata": {
    "ExecuteTime": {
     "end_time": "2020-02-28T15:24:04.382265Z",
     "start_time": "2020-02-28T15:24:04.372265Z"
    }
   },
   "outputs": [],
   "source": [
    "QCMetrics_Month = pd.DataFrame(data=None,\n",
    "                              index=pd.date_range(start=one_month_ago,\n",
    "                                                 end=test_date,\n",
    "                                                 freq='D',\n",
    "                                                 name='QCDate'),\n",
    "                              columns=pd.CategoricalIndex(['L1', 'L2', 'L3'], name='Levels')\n",
    "                              )"
   ]
  },
  {
   "cell_type": "code",
   "execution_count": 97,
   "metadata": {
    "ExecuteTime": {
     "end_time": "2020-02-28T15:24:04.391269Z",
     "start_time": "2020-02-28T15:24:04.384265Z"
    }
   },
   "outputs": [
    {
     "data": {
      "text/plain": [
       "DatetimeIndex(['2020-01-28', '2020-01-29', '2020-01-30', '2020-01-31',\n",
       "               '2020-02-01', '2020-02-02', '2020-02-03', '2020-02-04',\n",
       "               '2020-02-05', '2020-02-06', '2020-02-07', '2020-02-08',\n",
       "               '2020-02-09', '2020-02-10', '2020-02-11', '2020-02-12',\n",
       "               '2020-02-13', '2020-02-14', '2020-02-15', '2020-02-16',\n",
       "               '2020-02-17', '2020-02-18', '2020-02-19', '2020-02-20',\n",
       "               '2020-02-21', '2020-02-22', '2020-02-23', '2020-02-24',\n",
       "               '2020-02-25', '2020-02-26', '2020-02-27'],\n",
       "              dtype='datetime64[ns]', name='QCDate', freq='D')"
      ]
     },
     "execution_count": 97,
     "metadata": {},
     "output_type": "execute_result"
    }
   ],
   "source": [
    "QCMetrics_Month.index"
   ]
  },
  {
   "cell_type": "code",
   "execution_count": 98,
   "metadata": {
    "ExecuteTime": {
     "end_time": "2020-02-28T15:24:04.400270Z",
     "start_time": "2020-02-28T15:24:04.393269Z"
    }
   },
   "outputs": [
    {
     "data": {
      "text/plain": [
       "CategoricalIndex(['L1', 'L2', 'L3'], categories=['L1', 'L2', 'L3'], ordered=False, name='Levels', dtype='category')"
      ]
     },
     "execution_count": 98,
     "metadata": {},
     "output_type": "execute_result"
    }
   ],
   "source": [
    "QCMetrics_Month.columns"
   ]
  },
  {
   "cell_type": "code",
   "execution_count": 99,
   "metadata": {
    "ExecuteTime": {
     "end_time": "2020-02-28T15:24:04.414267Z",
     "start_time": "2020-02-28T15:24:04.402269Z"
    }
   },
   "outputs": [
    {
     "data": {
      "text/html": [
       "<div>\n",
       "<style scoped>\n",
       "    .dataframe tbody tr th:only-of-type {\n",
       "        vertical-align: middle;\n",
       "    }\n",
       "\n",
       "    .dataframe tbody tr th {\n",
       "        vertical-align: top;\n",
       "    }\n",
       "\n",
       "    .dataframe thead th {\n",
       "        text-align: right;\n",
       "    }\n",
       "</style>\n",
       "<table border=\"1\" class=\"dataframe\">\n",
       "  <thead>\n",
       "    <tr style=\"text-align: right;\">\n",
       "      <th>Levels</th>\n",
       "      <th>L1</th>\n",
       "      <th>L2</th>\n",
       "      <th>L3</th>\n",
       "    </tr>\n",
       "    <tr>\n",
       "      <th>QCDate</th>\n",
       "      <th></th>\n",
       "      <th></th>\n",
       "      <th></th>\n",
       "    </tr>\n",
       "  </thead>\n",
       "  <tbody>\n",
       "    <tr>\n",
       "      <td>2020-01-28</td>\n",
       "      <td>NaN</td>\n",
       "      <td>NaN</td>\n",
       "      <td>NaN</td>\n",
       "    </tr>\n",
       "    <tr>\n",
       "      <td>2020-01-29</td>\n",
       "      <td>NaN</td>\n",
       "      <td>NaN</td>\n",
       "      <td>NaN</td>\n",
       "    </tr>\n",
       "    <tr>\n",
       "      <td>2020-01-30</td>\n",
       "      <td>NaN</td>\n",
       "      <td>NaN</td>\n",
       "      <td>NaN</td>\n",
       "    </tr>\n",
       "    <tr>\n",
       "      <td>2020-01-31</td>\n",
       "      <td>NaN</td>\n",
       "      <td>NaN</td>\n",
       "      <td>NaN</td>\n",
       "    </tr>\n",
       "    <tr>\n",
       "      <td>2020-02-01</td>\n",
       "      <td>NaN</td>\n",
       "      <td>NaN</td>\n",
       "      <td>NaN</td>\n",
       "    </tr>\n",
       "    <tr>\n",
       "      <td>2020-02-02</td>\n",
       "      <td>NaN</td>\n",
       "      <td>NaN</td>\n",
       "      <td>NaN</td>\n",
       "    </tr>\n",
       "    <tr>\n",
       "      <td>2020-02-03</td>\n",
       "      <td>NaN</td>\n",
       "      <td>NaN</td>\n",
       "      <td>NaN</td>\n",
       "    </tr>\n",
       "    <tr>\n",
       "      <td>2020-02-04</td>\n",
       "      <td>NaN</td>\n",
       "      <td>NaN</td>\n",
       "      <td>NaN</td>\n",
       "    </tr>\n",
       "    <tr>\n",
       "      <td>2020-02-05</td>\n",
       "      <td>NaN</td>\n",
       "      <td>NaN</td>\n",
       "      <td>NaN</td>\n",
       "    </tr>\n",
       "    <tr>\n",
       "      <td>2020-02-06</td>\n",
       "      <td>NaN</td>\n",
       "      <td>NaN</td>\n",
       "      <td>NaN</td>\n",
       "    </tr>\n",
       "    <tr>\n",
       "      <td>2020-02-07</td>\n",
       "      <td>NaN</td>\n",
       "      <td>NaN</td>\n",
       "      <td>NaN</td>\n",
       "    </tr>\n",
       "    <tr>\n",
       "      <td>2020-02-08</td>\n",
       "      <td>NaN</td>\n",
       "      <td>NaN</td>\n",
       "      <td>NaN</td>\n",
       "    </tr>\n",
       "    <tr>\n",
       "      <td>2020-02-09</td>\n",
       "      <td>NaN</td>\n",
       "      <td>NaN</td>\n",
       "      <td>NaN</td>\n",
       "    </tr>\n",
       "    <tr>\n",
       "      <td>2020-02-10</td>\n",
       "      <td>NaN</td>\n",
       "      <td>NaN</td>\n",
       "      <td>NaN</td>\n",
       "    </tr>\n",
       "    <tr>\n",
       "      <td>2020-02-11</td>\n",
       "      <td>NaN</td>\n",
       "      <td>NaN</td>\n",
       "      <td>NaN</td>\n",
       "    </tr>\n",
       "    <tr>\n",
       "      <td>2020-02-12</td>\n",
       "      <td>NaN</td>\n",
       "      <td>NaN</td>\n",
       "      <td>NaN</td>\n",
       "    </tr>\n",
       "    <tr>\n",
       "      <td>2020-02-13</td>\n",
       "      <td>NaN</td>\n",
       "      <td>NaN</td>\n",
       "      <td>NaN</td>\n",
       "    </tr>\n",
       "    <tr>\n",
       "      <td>2020-02-14</td>\n",
       "      <td>NaN</td>\n",
       "      <td>NaN</td>\n",
       "      <td>NaN</td>\n",
       "    </tr>\n",
       "    <tr>\n",
       "      <td>2020-02-15</td>\n",
       "      <td>NaN</td>\n",
       "      <td>NaN</td>\n",
       "      <td>NaN</td>\n",
       "    </tr>\n",
       "    <tr>\n",
       "      <td>2020-02-16</td>\n",
       "      <td>NaN</td>\n",
       "      <td>NaN</td>\n",
       "      <td>NaN</td>\n",
       "    </tr>\n",
       "    <tr>\n",
       "      <td>2020-02-17</td>\n",
       "      <td>NaN</td>\n",
       "      <td>NaN</td>\n",
       "      <td>NaN</td>\n",
       "    </tr>\n",
       "    <tr>\n",
       "      <td>2020-02-18</td>\n",
       "      <td>NaN</td>\n",
       "      <td>NaN</td>\n",
       "      <td>NaN</td>\n",
       "    </tr>\n",
       "    <tr>\n",
       "      <td>2020-02-19</td>\n",
       "      <td>NaN</td>\n",
       "      <td>NaN</td>\n",
       "      <td>NaN</td>\n",
       "    </tr>\n",
       "    <tr>\n",
       "      <td>2020-02-20</td>\n",
       "      <td>NaN</td>\n",
       "      <td>NaN</td>\n",
       "      <td>NaN</td>\n",
       "    </tr>\n",
       "    <tr>\n",
       "      <td>2020-02-21</td>\n",
       "      <td>NaN</td>\n",
       "      <td>NaN</td>\n",
       "      <td>NaN</td>\n",
       "    </tr>\n",
       "    <tr>\n",
       "      <td>2020-02-22</td>\n",
       "      <td>NaN</td>\n",
       "      <td>NaN</td>\n",
       "      <td>NaN</td>\n",
       "    </tr>\n",
       "    <tr>\n",
       "      <td>2020-02-23</td>\n",
       "      <td>NaN</td>\n",
       "      <td>NaN</td>\n",
       "      <td>NaN</td>\n",
       "    </tr>\n",
       "    <tr>\n",
       "      <td>2020-02-24</td>\n",
       "      <td>NaN</td>\n",
       "      <td>NaN</td>\n",
       "      <td>NaN</td>\n",
       "    </tr>\n",
       "    <tr>\n",
       "      <td>2020-02-25</td>\n",
       "      <td>NaN</td>\n",
       "      <td>NaN</td>\n",
       "      <td>NaN</td>\n",
       "    </tr>\n",
       "    <tr>\n",
       "      <td>2020-02-26</td>\n",
       "      <td>NaN</td>\n",
       "      <td>NaN</td>\n",
       "      <td>NaN</td>\n",
       "    </tr>\n",
       "    <tr>\n",
       "      <td>2020-02-27</td>\n",
       "      <td>NaN</td>\n",
       "      <td>NaN</td>\n",
       "      <td>NaN</td>\n",
       "    </tr>\n",
       "  </tbody>\n",
       "</table>\n",
       "</div>"
      ],
      "text/plain": [
       "Levels       L1   L2   L3\n",
       "QCDate                   \n",
       "2020-01-28  NaN  NaN  NaN\n",
       "2020-01-29  NaN  NaN  NaN\n",
       "2020-01-30  NaN  NaN  NaN\n",
       "2020-01-31  NaN  NaN  NaN\n",
       "2020-02-01  NaN  NaN  NaN\n",
       "2020-02-02  NaN  NaN  NaN\n",
       "2020-02-03  NaN  NaN  NaN\n",
       "2020-02-04  NaN  NaN  NaN\n",
       "2020-02-05  NaN  NaN  NaN\n",
       "2020-02-06  NaN  NaN  NaN\n",
       "2020-02-07  NaN  NaN  NaN\n",
       "2020-02-08  NaN  NaN  NaN\n",
       "2020-02-09  NaN  NaN  NaN\n",
       "2020-02-10  NaN  NaN  NaN\n",
       "2020-02-11  NaN  NaN  NaN\n",
       "2020-02-12  NaN  NaN  NaN\n",
       "2020-02-13  NaN  NaN  NaN\n",
       "2020-02-14  NaN  NaN  NaN\n",
       "2020-02-15  NaN  NaN  NaN\n",
       "2020-02-16  NaN  NaN  NaN\n",
       "2020-02-17  NaN  NaN  NaN\n",
       "2020-02-18  NaN  NaN  NaN\n",
       "2020-02-19  NaN  NaN  NaN\n",
       "2020-02-20  NaN  NaN  NaN\n",
       "2020-02-21  NaN  NaN  NaN\n",
       "2020-02-22  NaN  NaN  NaN\n",
       "2020-02-23  NaN  NaN  NaN\n",
       "2020-02-24  NaN  NaN  NaN\n",
       "2020-02-25  NaN  NaN  NaN\n",
       "2020-02-26  NaN  NaN  NaN\n",
       "2020-02-27  NaN  NaN  NaN"
      ]
     },
     "execution_count": 99,
     "metadata": {},
     "output_type": "execute_result"
    }
   ],
   "source": [
    "QCMetrics_Month"
   ]
  },
  {
   "cell_type": "code",
   "execution_count": 100,
   "metadata": {
    "ExecuteTime": {
     "end_time": "2020-02-28T15:24:04.426271Z",
     "start_time": "2020-02-28T15:24:04.416267Z"
    }
   },
   "outputs": [
    {
     "data": {
      "text/html": [
       "<div>\n",
       "<style scoped>\n",
       "    .dataframe tbody tr th:only-of-type {\n",
       "        vertical-align: middle;\n",
       "    }\n",
       "\n",
       "    .dataframe tbody tr th {\n",
       "        vertical-align: top;\n",
       "    }\n",
       "\n",
       "    .dataframe thead th {\n",
       "        text-align: right;\n",
       "    }\n",
       "</style>\n",
       "<table border=\"1\" class=\"dataframe\">\n",
       "  <thead>\n",
       "    <tr style=\"text-align: right;\">\n",
       "      <th></th>\n",
       "      <th></th>\n",
       "      <th>Count</th>\n",
       "    </tr>\n",
       "    <tr>\n",
       "      <th>QCDate</th>\n",
       "      <th>ProductLevel</th>\n",
       "      <th></th>\n",
       "    </tr>\n",
       "  </thead>\n",
       "  <tbody>\n",
       "    <tr>\n",
       "      <td rowspan=\"2\" valign=\"top\">2020-01-28</td>\n",
       "      <td>1.0</td>\n",
       "      <td>8</td>\n",
       "    </tr>\n",
       "    <tr>\n",
       "      <td>2.0</td>\n",
       "      <td>2</td>\n",
       "    </tr>\n",
       "    <tr>\n",
       "      <td rowspan=\"2\" valign=\"top\">2020-01-29</td>\n",
       "      <td>1.0</td>\n",
       "      <td>10</td>\n",
       "    </tr>\n",
       "    <tr>\n",
       "      <td>2.0</td>\n",
       "      <td>9</td>\n",
       "    </tr>\n",
       "    <tr>\n",
       "      <td>2020-01-30</td>\n",
       "      <td>1.0</td>\n",
       "      <td>11</td>\n",
       "    </tr>\n",
       "  </tbody>\n",
       "</table>\n",
       "</div>"
      ],
      "text/plain": [
       "                         Count\n",
       "QCDate     ProductLevel       \n",
       "2020-01-28 1.0               8\n",
       "           2.0               2\n",
       "2020-01-29 1.0              10\n",
       "           2.0               9\n",
       "2020-01-30 1.0              11"
      ]
     },
     "execution_count": 100,
     "metadata": {},
     "output_type": "execute_result"
    }
   ],
   "source": [
    "df_daily_levels.head(5)"
   ]
  },
  {
   "cell_type": "raw",
   "metadata": {
    "ExecuteTime": {
     "end_time": "2020-02-25T21:43:46.951182Z",
     "start_time": "2020-02-25T21:43:46.937181Z"
    },
    "raw_mimetype": "text/x-python"
   },
   "source": [
    "result = pd.concat([QCMetrics_Month, df_daily_unstacked_1],\n",
    "                   ignore_index=False, sort=True)"
   ]
  },
  {
   "cell_type": "raw",
   "metadata": {
    "ExecuteTime": {
     "end_time": "2020-02-25T21:44:03.166945Z",
     "start_time": "2020-02-25T21:44:03.149370Z"
    },
    "raw_mimetype": "text/x-python"
   },
   "source": [
    "# result"
   ]
  },
  {
   "cell_type": "code",
   "execution_count": 101,
   "metadata": {
    "ExecuteTime": {
     "end_time": "2020-02-28T15:24:04.439273Z",
     "start_time": "2020-02-28T15:24:04.428271Z"
    }
   },
   "outputs": [],
   "source": [
    "result = df_daily_levels.join(QCMetrics_Month, \n",
    "                              on = ['QCDate'],\n",
    "                              how='inner', \n",
    "                              sort=True)"
   ]
  },
  {
   "cell_type": "code",
   "execution_count": 102,
   "metadata": {
    "ExecuteTime": {
     "end_time": "2020-02-28T15:24:04.462274Z",
     "start_time": "2020-02-28T15:24:04.441272Z"
    }
   },
   "outputs": [
    {
     "data": {
      "text/html": [
       "<div>\n",
       "<style scoped>\n",
       "    .dataframe tbody tr th:only-of-type {\n",
       "        vertical-align: middle;\n",
       "    }\n",
       "\n",
       "    .dataframe tbody tr th {\n",
       "        vertical-align: top;\n",
       "    }\n",
       "\n",
       "    .dataframe thead th {\n",
       "        text-align: right;\n",
       "    }\n",
       "</style>\n",
       "<table border=\"1\" class=\"dataframe\">\n",
       "  <thead>\n",
       "    <tr style=\"text-align: right;\">\n",
       "      <th></th>\n",
       "      <th></th>\n",
       "      <th>Count</th>\n",
       "      <th>L1</th>\n",
       "      <th>L2</th>\n",
       "      <th>L3</th>\n",
       "    </tr>\n",
       "    <tr>\n",
       "      <th>QCDate</th>\n",
       "      <th>ProductLevel</th>\n",
       "      <th></th>\n",
       "      <th></th>\n",
       "      <th></th>\n",
       "      <th></th>\n",
       "    </tr>\n",
       "  </thead>\n",
       "  <tbody>\n",
       "    <tr>\n",
       "      <td rowspan=\"2\" valign=\"top\">2020-01-28</td>\n",
       "      <td>1.0</td>\n",
       "      <td>8</td>\n",
       "      <td>NaN</td>\n",
       "      <td>NaN</td>\n",
       "      <td>NaN</td>\n",
       "    </tr>\n",
       "    <tr>\n",
       "      <td>2.0</td>\n",
       "      <td>2</td>\n",
       "      <td>NaN</td>\n",
       "      <td>NaN</td>\n",
       "      <td>NaN</td>\n",
       "    </tr>\n",
       "    <tr>\n",
       "      <td rowspan=\"2\" valign=\"top\">2020-01-29</td>\n",
       "      <td>1.0</td>\n",
       "      <td>10</td>\n",
       "      <td>NaN</td>\n",
       "      <td>NaN</td>\n",
       "      <td>NaN</td>\n",
       "    </tr>\n",
       "    <tr>\n",
       "      <td>2.0</td>\n",
       "      <td>9</td>\n",
       "      <td>NaN</td>\n",
       "      <td>NaN</td>\n",
       "      <td>NaN</td>\n",
       "    </tr>\n",
       "    <tr>\n",
       "      <td rowspan=\"3\" valign=\"top\">2020-01-30</td>\n",
       "      <td>1.0</td>\n",
       "      <td>11</td>\n",
       "      <td>NaN</td>\n",
       "      <td>NaN</td>\n",
       "      <td>NaN</td>\n",
       "    </tr>\n",
       "    <tr>\n",
       "      <td>2.0</td>\n",
       "      <td>4</td>\n",
       "      <td>NaN</td>\n",
       "      <td>NaN</td>\n",
       "      <td>NaN</td>\n",
       "    </tr>\n",
       "    <tr>\n",
       "      <td>3.0</td>\n",
       "      <td>1</td>\n",
       "      <td>NaN</td>\n",
       "      <td>NaN</td>\n",
       "      <td>NaN</td>\n",
       "    </tr>\n",
       "    <tr>\n",
       "      <td rowspan=\"2\" valign=\"top\">2020-01-31</td>\n",
       "      <td>1.0</td>\n",
       "      <td>2</td>\n",
       "      <td>NaN</td>\n",
       "      <td>NaN</td>\n",
       "      <td>NaN</td>\n",
       "    </tr>\n",
       "    <tr>\n",
       "      <td>2.0</td>\n",
       "      <td>5</td>\n",
       "      <td>NaN</td>\n",
       "      <td>NaN</td>\n",
       "      <td>NaN</td>\n",
       "    </tr>\n",
       "    <tr>\n",
       "      <td rowspan=\"3\" valign=\"top\">2020-02-03</td>\n",
       "      <td>1.0</td>\n",
       "      <td>4</td>\n",
       "      <td>NaN</td>\n",
       "      <td>NaN</td>\n",
       "      <td>NaN</td>\n",
       "    </tr>\n",
       "    <tr>\n",
       "      <td>2.0</td>\n",
       "      <td>4</td>\n",
       "      <td>NaN</td>\n",
       "      <td>NaN</td>\n",
       "      <td>NaN</td>\n",
       "    </tr>\n",
       "    <tr>\n",
       "      <td>3.0</td>\n",
       "      <td>2</td>\n",
       "      <td>NaN</td>\n",
       "      <td>NaN</td>\n",
       "      <td>NaN</td>\n",
       "    </tr>\n",
       "    <tr>\n",
       "      <td rowspan=\"2\" valign=\"top\">2020-02-04</td>\n",
       "      <td>1.0</td>\n",
       "      <td>19</td>\n",
       "      <td>NaN</td>\n",
       "      <td>NaN</td>\n",
       "      <td>NaN</td>\n",
       "    </tr>\n",
       "    <tr>\n",
       "      <td>2.0</td>\n",
       "      <td>8</td>\n",
       "      <td>NaN</td>\n",
       "      <td>NaN</td>\n",
       "      <td>NaN</td>\n",
       "    </tr>\n",
       "    <tr>\n",
       "      <td rowspan=\"3\" valign=\"top\">2020-02-05</td>\n",
       "      <td>1.0</td>\n",
       "      <td>6</td>\n",
       "      <td>NaN</td>\n",
       "      <td>NaN</td>\n",
       "      <td>NaN</td>\n",
       "    </tr>\n",
       "    <tr>\n",
       "      <td>2.0</td>\n",
       "      <td>15</td>\n",
       "      <td>NaN</td>\n",
       "      <td>NaN</td>\n",
       "      <td>NaN</td>\n",
       "    </tr>\n",
       "    <tr>\n",
       "      <td>3.0</td>\n",
       "      <td>1</td>\n",
       "      <td>NaN</td>\n",
       "      <td>NaN</td>\n",
       "      <td>NaN</td>\n",
       "    </tr>\n",
       "    <tr>\n",
       "      <td rowspan=\"3\" valign=\"top\">2020-02-06</td>\n",
       "      <td>1.0</td>\n",
       "      <td>20</td>\n",
       "      <td>NaN</td>\n",
       "      <td>NaN</td>\n",
       "      <td>NaN</td>\n",
       "    </tr>\n",
       "    <tr>\n",
       "      <td>2.0</td>\n",
       "      <td>14</td>\n",
       "      <td>NaN</td>\n",
       "      <td>NaN</td>\n",
       "      <td>NaN</td>\n",
       "    </tr>\n",
       "    <tr>\n",
       "      <td>3.0</td>\n",
       "      <td>2</td>\n",
       "      <td>NaN</td>\n",
       "      <td>NaN</td>\n",
       "      <td>NaN</td>\n",
       "    </tr>\n",
       "    <tr>\n",
       "      <td rowspan=\"2\" valign=\"top\">2020-02-07</td>\n",
       "      <td>1.0</td>\n",
       "      <td>7</td>\n",
       "      <td>NaN</td>\n",
       "      <td>NaN</td>\n",
       "      <td>NaN</td>\n",
       "    </tr>\n",
       "    <tr>\n",
       "      <td>2.0</td>\n",
       "      <td>20</td>\n",
       "      <td>NaN</td>\n",
       "      <td>NaN</td>\n",
       "      <td>NaN</td>\n",
       "    </tr>\n",
       "    <tr>\n",
       "      <td rowspan=\"3\" valign=\"top\">2020-02-10</td>\n",
       "      <td>1.0</td>\n",
       "      <td>24</td>\n",
       "      <td>NaN</td>\n",
       "      <td>NaN</td>\n",
       "      <td>NaN</td>\n",
       "    </tr>\n",
       "    <tr>\n",
       "      <td>2.0</td>\n",
       "      <td>18</td>\n",
       "      <td>NaN</td>\n",
       "      <td>NaN</td>\n",
       "      <td>NaN</td>\n",
       "    </tr>\n",
       "    <tr>\n",
       "      <td>3.0</td>\n",
       "      <td>1</td>\n",
       "      <td>NaN</td>\n",
       "      <td>NaN</td>\n",
       "      <td>NaN</td>\n",
       "    </tr>\n",
       "    <tr>\n",
       "      <td rowspan=\"2\" valign=\"top\">2020-02-11</td>\n",
       "      <td>1.0</td>\n",
       "      <td>24</td>\n",
       "      <td>NaN</td>\n",
       "      <td>NaN</td>\n",
       "      <td>NaN</td>\n",
       "    </tr>\n",
       "    <tr>\n",
       "      <td>2.0</td>\n",
       "      <td>16</td>\n",
       "      <td>NaN</td>\n",
       "      <td>NaN</td>\n",
       "      <td>NaN</td>\n",
       "    </tr>\n",
       "    <tr>\n",
       "      <td rowspan=\"2\" valign=\"top\">2020-02-12</td>\n",
       "      <td>1.0</td>\n",
       "      <td>10</td>\n",
       "      <td>NaN</td>\n",
       "      <td>NaN</td>\n",
       "      <td>NaN</td>\n",
       "    </tr>\n",
       "    <tr>\n",
       "      <td>2.0</td>\n",
       "      <td>9</td>\n",
       "      <td>NaN</td>\n",
       "      <td>NaN</td>\n",
       "      <td>NaN</td>\n",
       "    </tr>\n",
       "    <tr>\n",
       "      <td rowspan=\"3\" valign=\"top\">2020-02-13</td>\n",
       "      <td>1.0</td>\n",
       "      <td>7</td>\n",
       "      <td>NaN</td>\n",
       "      <td>NaN</td>\n",
       "      <td>NaN</td>\n",
       "    </tr>\n",
       "    <tr>\n",
       "      <td>2.0</td>\n",
       "      <td>24</td>\n",
       "      <td>NaN</td>\n",
       "      <td>NaN</td>\n",
       "      <td>NaN</td>\n",
       "    </tr>\n",
       "    <tr>\n",
       "      <td>3.0</td>\n",
       "      <td>1</td>\n",
       "      <td>NaN</td>\n",
       "      <td>NaN</td>\n",
       "      <td>NaN</td>\n",
       "    </tr>\n",
       "    <tr>\n",
       "      <td rowspan=\"2\" valign=\"top\">2020-02-14</td>\n",
       "      <td>1.0</td>\n",
       "      <td>15</td>\n",
       "      <td>NaN</td>\n",
       "      <td>NaN</td>\n",
       "      <td>NaN</td>\n",
       "    </tr>\n",
       "    <tr>\n",
       "      <td>2.0</td>\n",
       "      <td>5</td>\n",
       "      <td>NaN</td>\n",
       "      <td>NaN</td>\n",
       "      <td>NaN</td>\n",
       "    </tr>\n",
       "    <tr>\n",
       "      <td rowspan=\"3\" valign=\"top\">2020-02-18</td>\n",
       "      <td>1.0</td>\n",
       "      <td>8</td>\n",
       "      <td>NaN</td>\n",
       "      <td>NaN</td>\n",
       "      <td>NaN</td>\n",
       "    </tr>\n",
       "    <tr>\n",
       "      <td>2.0</td>\n",
       "      <td>19</td>\n",
       "      <td>NaN</td>\n",
       "      <td>NaN</td>\n",
       "      <td>NaN</td>\n",
       "    </tr>\n",
       "    <tr>\n",
       "      <td>3.0</td>\n",
       "      <td>1</td>\n",
       "      <td>NaN</td>\n",
       "      <td>NaN</td>\n",
       "      <td>NaN</td>\n",
       "    </tr>\n",
       "    <tr>\n",
       "      <td rowspan=\"2\" valign=\"top\">2020-02-19</td>\n",
       "      <td>1.0</td>\n",
       "      <td>21</td>\n",
       "      <td>NaN</td>\n",
       "      <td>NaN</td>\n",
       "      <td>NaN</td>\n",
       "    </tr>\n",
       "    <tr>\n",
       "      <td>2.0</td>\n",
       "      <td>13</td>\n",
       "      <td>NaN</td>\n",
       "      <td>NaN</td>\n",
       "      <td>NaN</td>\n",
       "    </tr>\n",
       "    <tr>\n",
       "      <td rowspan=\"2\" valign=\"top\">2020-02-20</td>\n",
       "      <td>1.0</td>\n",
       "      <td>8</td>\n",
       "      <td>NaN</td>\n",
       "      <td>NaN</td>\n",
       "      <td>NaN</td>\n",
       "    </tr>\n",
       "    <tr>\n",
       "      <td>2.0</td>\n",
       "      <td>16</td>\n",
       "      <td>NaN</td>\n",
       "      <td>NaN</td>\n",
       "      <td>NaN</td>\n",
       "    </tr>\n",
       "    <tr>\n",
       "      <td rowspan=\"2\" valign=\"top\">2020-02-21</td>\n",
       "      <td>1.0</td>\n",
       "      <td>10</td>\n",
       "      <td>NaN</td>\n",
       "      <td>NaN</td>\n",
       "      <td>NaN</td>\n",
       "    </tr>\n",
       "    <tr>\n",
       "      <td>2.0</td>\n",
       "      <td>25</td>\n",
       "      <td>NaN</td>\n",
       "      <td>NaN</td>\n",
       "      <td>NaN</td>\n",
       "    </tr>\n",
       "    <tr>\n",
       "      <td rowspan=\"3\" valign=\"top\">2020-02-24</td>\n",
       "      <td>1.0</td>\n",
       "      <td>9</td>\n",
       "      <td>NaN</td>\n",
       "      <td>NaN</td>\n",
       "      <td>NaN</td>\n",
       "    </tr>\n",
       "    <tr>\n",
       "      <td>2.0</td>\n",
       "      <td>4</td>\n",
       "      <td>NaN</td>\n",
       "      <td>NaN</td>\n",
       "      <td>NaN</td>\n",
       "    </tr>\n",
       "    <tr>\n",
       "      <td>3.0</td>\n",
       "      <td>2</td>\n",
       "      <td>NaN</td>\n",
       "      <td>NaN</td>\n",
       "      <td>NaN</td>\n",
       "    </tr>\n",
       "    <tr>\n",
       "      <td rowspan=\"2\" valign=\"top\">2020-02-25</td>\n",
       "      <td>1.0</td>\n",
       "      <td>7</td>\n",
       "      <td>NaN</td>\n",
       "      <td>NaN</td>\n",
       "      <td>NaN</td>\n",
       "    </tr>\n",
       "    <tr>\n",
       "      <td>2.0</td>\n",
       "      <td>22</td>\n",
       "      <td>NaN</td>\n",
       "      <td>NaN</td>\n",
       "      <td>NaN</td>\n",
       "    </tr>\n",
       "    <tr>\n",
       "      <td rowspan=\"3\" valign=\"top\">2020-02-26</td>\n",
       "      <td>1.0</td>\n",
       "      <td>13</td>\n",
       "      <td>NaN</td>\n",
       "      <td>NaN</td>\n",
       "      <td>NaN</td>\n",
       "    </tr>\n",
       "    <tr>\n",
       "      <td>2.0</td>\n",
       "      <td>13</td>\n",
       "      <td>NaN</td>\n",
       "      <td>NaN</td>\n",
       "      <td>NaN</td>\n",
       "    </tr>\n",
       "    <tr>\n",
       "      <td>3.0</td>\n",
       "      <td>4</td>\n",
       "      <td>NaN</td>\n",
       "      <td>NaN</td>\n",
       "      <td>NaN</td>\n",
       "    </tr>\n",
       "    <tr>\n",
       "      <td rowspan=\"2\" valign=\"top\">2020-02-27</td>\n",
       "      <td>1.0</td>\n",
       "      <td>19</td>\n",
       "      <td>NaN</td>\n",
       "      <td>NaN</td>\n",
       "      <td>NaN</td>\n",
       "    </tr>\n",
       "    <tr>\n",
       "      <td>2.0</td>\n",
       "      <td>6</td>\n",
       "      <td>NaN</td>\n",
       "      <td>NaN</td>\n",
       "      <td>NaN</td>\n",
       "    </tr>\n",
       "  </tbody>\n",
       "</table>\n",
       "</div>"
      ],
      "text/plain": [
       "                         Count   L1   L2   L3\n",
       "QCDate     ProductLevel                      \n",
       "2020-01-28 1.0               8  NaN  NaN  NaN\n",
       "           2.0               2  NaN  NaN  NaN\n",
       "2020-01-29 1.0              10  NaN  NaN  NaN\n",
       "           2.0               9  NaN  NaN  NaN\n",
       "2020-01-30 1.0              11  NaN  NaN  NaN\n",
       "           2.0               4  NaN  NaN  NaN\n",
       "           3.0               1  NaN  NaN  NaN\n",
       "2020-01-31 1.0               2  NaN  NaN  NaN\n",
       "           2.0               5  NaN  NaN  NaN\n",
       "2020-02-03 1.0               4  NaN  NaN  NaN\n",
       "           2.0               4  NaN  NaN  NaN\n",
       "           3.0               2  NaN  NaN  NaN\n",
       "2020-02-04 1.0              19  NaN  NaN  NaN\n",
       "           2.0               8  NaN  NaN  NaN\n",
       "2020-02-05 1.0               6  NaN  NaN  NaN\n",
       "           2.0              15  NaN  NaN  NaN\n",
       "           3.0               1  NaN  NaN  NaN\n",
       "2020-02-06 1.0              20  NaN  NaN  NaN\n",
       "           2.0              14  NaN  NaN  NaN\n",
       "           3.0               2  NaN  NaN  NaN\n",
       "2020-02-07 1.0               7  NaN  NaN  NaN\n",
       "           2.0              20  NaN  NaN  NaN\n",
       "2020-02-10 1.0              24  NaN  NaN  NaN\n",
       "           2.0              18  NaN  NaN  NaN\n",
       "           3.0               1  NaN  NaN  NaN\n",
       "2020-02-11 1.0              24  NaN  NaN  NaN\n",
       "           2.0              16  NaN  NaN  NaN\n",
       "2020-02-12 1.0              10  NaN  NaN  NaN\n",
       "           2.0               9  NaN  NaN  NaN\n",
       "2020-02-13 1.0               7  NaN  NaN  NaN\n",
       "           2.0              24  NaN  NaN  NaN\n",
       "           3.0               1  NaN  NaN  NaN\n",
       "2020-02-14 1.0              15  NaN  NaN  NaN\n",
       "           2.0               5  NaN  NaN  NaN\n",
       "2020-02-18 1.0               8  NaN  NaN  NaN\n",
       "           2.0              19  NaN  NaN  NaN\n",
       "           3.0               1  NaN  NaN  NaN\n",
       "2020-02-19 1.0              21  NaN  NaN  NaN\n",
       "           2.0              13  NaN  NaN  NaN\n",
       "2020-02-20 1.0               8  NaN  NaN  NaN\n",
       "           2.0              16  NaN  NaN  NaN\n",
       "2020-02-21 1.0              10  NaN  NaN  NaN\n",
       "           2.0              25  NaN  NaN  NaN\n",
       "2020-02-24 1.0               9  NaN  NaN  NaN\n",
       "           2.0               4  NaN  NaN  NaN\n",
       "           3.0               2  NaN  NaN  NaN\n",
       "2020-02-25 1.0               7  NaN  NaN  NaN\n",
       "           2.0              22  NaN  NaN  NaN\n",
       "2020-02-26 1.0              13  NaN  NaN  NaN\n",
       "           2.0              13  NaN  NaN  NaN\n",
       "           3.0               4  NaN  NaN  NaN\n",
       "2020-02-27 1.0              19  NaN  NaN  NaN\n",
       "           2.0               6  NaN  NaN  NaN"
      ]
     },
     "execution_count": 102,
     "metadata": {},
     "output_type": "execute_result"
    }
   ],
   "source": [
    "result"
   ]
  },
  {
   "cell_type": "code",
   "execution_count": 103,
   "metadata": {
    "ExecuteTime": {
     "end_time": "2020-02-28T15:24:04.472275Z",
     "start_time": "2020-02-28T15:24:04.463275Z"
    }
   },
   "outputs": [
    {
     "name": "stdout",
     "output_type": "stream",
     "text": [
      "<class 'pandas.core.frame.DataFrame'>\n",
      "MultiIndex: 53 entries, (2020-01-28 00:00:00, 1.0) to (2020-02-27 00:00:00, 2.0)\n",
      "Data columns (total 4 columns):\n",
      "Count    53 non-null int64\n",
      "L1       0 non-null object\n",
      "L2       0 non-null object\n",
      "L3       0 non-null object\n",
      "dtypes: int64(1), object(3)\n",
      "memory usage: 2.1+ KB\n"
     ]
    }
   ],
   "source": [
    "result.info()"
   ]
  },
  {
   "cell_type": "code",
   "execution_count": null,
   "metadata": {},
   "outputs": [],
   "source": []
  },
  {
   "cell_type": "markdown",
   "metadata": {},
   "source": [
    "---\n",
    "# messups"
   ]
  },
  {
   "cell_type": "raw",
   "metadata": {},
   "source": [
    "''' Groupby single column in pandas python'''\n",
    "df1.groupby(['State'])['Sales'].count()"
   ]
  },
  {
   "cell_type": "raw",
   "metadata": {},
   "source": [
    "''' Groupby multiple columns '''\n",
    "df1.groupby(['State','Name'])['Sales'].count()"
   ]
  },
  {
   "cell_type": "raw",
   "metadata": {},
   "source": [
    "# sum of score group by Name and Exam \n",
    "df['Score'].groupby([df['Name'],df['Exam']]).sum()"
   ]
  },
  {
   "cell_type": "raw",
   "metadata": {},
   "source": [
    "# sum of score group by Name and Exam\n",
    "df_last_month.index.groupby([df['Name'],df['Exam']]).sum()"
   ]
  },
  {
   "cell_type": "raw",
   "metadata": {},
   "source": [
    "# GROUPBY MULTIPLE COLUMNS\n",
    "df_last_month_l1 = df_last_month.groupby(['PfBatchID'])"
   ]
  },
  {
   "cell_type": "raw",
   "metadata": {},
   "source": [
    "df_daily_level_1"
   ]
  },
  {
   "cell_type": "raw",
   "metadata": {},
   "source": [
    "len(df_daily_level_1['PfIDNo'])"
   ]
  },
  {
   "cell_type": "raw",
   "metadata": {},
   "source": [
    "df_daily_level_1.to_csv(\"df_Daily_level_1.csv\", index=True)"
   ]
  },
  {
   "cell_type": "raw",
   "metadata": {},
   "source": [
    "df_daily_level_1 = df_last_month[df_last_month.QCValidation.isin([\"1\"])]\n",
    "len(df_daily_level_1)"
   ]
  },
  {
   "cell_type": "raw",
   "metadata": {},
   "source": [
    "df_daily_level_2 = df_last_month[df_last_month.QCValidation.isin([\"2\"])]\n",
    "len(df_daily_level_2)"
   ]
  },
  {
   "cell_type": "raw",
   "metadata": {},
   "source": [
    "df_daily_level_3 = df_last_month[df_last_month.QCValidation.isin([\"3\"])]\n",
    "len(df_daily_level_3)\n",
    "df_daily_level_3"
   ]
  },
  {
   "cell_type": "raw",
   "metadata": {},
   "source": [
    "len(df_daily_level_1.resample('D').sum()['pfBatchID'])"
   ]
  },
  {
   "cell_type": "raw",
   "metadata": {},
   "source": [
    "df_daily_level_1.resample('D').sum().to_csv(\"batch_usum.csv\", index=True)"
   ]
  },
  {
   "cell_type": "markdown",
   "metadata": {},
   "source": [
    "---\n",
    "\n",
    "# `ExcelWorkBook` functions"
   ]
  },
  {
   "cell_type": "code",
   "execution_count": 104,
   "metadata": {
    "ExecuteTime": {
     "end_time": "2020-02-28T15:24:04.481274Z",
     "start_time": "2020-02-28T15:24:04.474273Z"
    }
   },
   "outputs": [
    {
     "name": "stdout",
     "output_type": "stream",
     "text": [
      "2020-02-27 00:00:00\n"
     ]
    }
   ],
   "source": [
    "# str for filename\n",
    "filename_str = str(test_date) #str(pd.Timestamp.now())[:10]\n",
    "print(filename_str)"
   ]
  },
  {
   "cell_type": "code",
   "execution_count": 105,
   "metadata": {
    "ExecuteTime": {
     "end_time": "2020-02-28T15:24:04.489274Z",
     "start_time": "2020-02-28T15:24:04.483274Z"
    }
   },
   "outputs": [],
   "source": [
    "# Create new workbook\n",
    "wb = Workbook()"
   ]
  },
  {
   "cell_type": "code",
   "execution_count": 106,
   "metadata": {
    "ExecuteTime": {
     "end_time": "2020-02-28T15:24:04.498275Z",
     "start_time": "2020-02-28T15:24:04.491277Z"
    }
   },
   "outputs": [],
   "source": [
    "# Add sheets to workbook\n",
    "# Designate sheet name and position\n",
    "sheet1 = wb.create_sheet('sheet1',0)\n",
    "sheet2 = wb.create_sheet('sheet2',1)\n",
    "sheet3 = wb.create_sheet('sheet3',2)"
   ]
  },
  {
   "cell_type": "code",
   "execution_count": 107,
   "metadata": {
    "ExecuteTime": {
     "end_time": "2020-02-28T15:24:07.842805Z",
     "start_time": "2020-02-28T15:24:04.500273Z"
    }
   },
   "outputs": [
    {
     "ename": "KeyError",
     "evalue": "<class 'pandas._libs.tslibs.nattype.NaTType'>",
     "output_type": "error",
     "traceback": [
      "\u001b[1;31m---------------------------------------------------------------------------\u001b[0m",
      "\u001b[1;31mKeyError\u001b[0m                                  Traceback (most recent call last)",
      "\u001b[1;32m<ipython-input-107-81b2a0c6ffd3>\u001b[0m in \u001b[0;36m<module>\u001b[1;34m\u001b[0m\n\u001b[0;32m      4\u001b[0m \u001b[1;31m# Write dataframe to active worksheet\u001b[0m\u001b[1;33m\u001b[0m\u001b[1;33m\u001b[0m\u001b[0m\n\u001b[0;32m      5\u001b[0m \u001b[1;32mfor\u001b[0m \u001b[0mx\u001b[0m \u001b[1;32min\u001b[0m \u001b[0mdataframe_to_rows\u001b[0m\u001b[1;33m(\u001b[0m\u001b[0mdf_QCMetrics\u001b[0m\u001b[1;33m)\u001b[0m\u001b[1;33m:\u001b[0m\u001b[1;33m\u001b[0m\u001b[0m\n\u001b[1;32m----> 6\u001b[1;33m     \u001b[0mactive\u001b[0m\u001b[1;33m.\u001b[0m\u001b[0mappend\u001b[0m\u001b[1;33m(\u001b[0m\u001b[0mx\u001b[0m\u001b[1;33m)\u001b[0m\u001b[1;33m\u001b[0m\u001b[0m\n\u001b[0m\u001b[0;32m      7\u001b[0m \u001b[1;33m\u001b[0m\u001b[0m\n\u001b[0;32m      8\u001b[0m \u001b[1;31m# Save workbook to write\u001b[0m\u001b[1;33m\u001b[0m\u001b[1;33m\u001b[0m\u001b[0m\n",
      "\u001b[1;32m~\\miniconda3\\envs\\py3\\lib\\site-packages\\openpyxl\\worksheet\\worksheet.py\u001b[0m in \u001b[0;36mappend\u001b[1;34m(self, iterable)\u001b[0m\n\u001b[0;32m    644\u001b[0m                     \u001b[0mcell\u001b[0m\u001b[1;33m.\u001b[0m\u001b[0mrow\u001b[0m \u001b[1;33m=\u001b[0m \u001b[0mrow_idx\u001b[0m\u001b[1;33m\u001b[0m\u001b[0m\n\u001b[0;32m    645\u001b[0m                 \u001b[1;32melse\u001b[0m\u001b[1;33m:\u001b[0m\u001b[1;33m\u001b[0m\u001b[0m\n\u001b[1;32m--> 646\u001b[1;33m                     \u001b[0mcell\u001b[0m \u001b[1;33m=\u001b[0m \u001b[0mCell\u001b[0m\u001b[1;33m(\u001b[0m\u001b[0mself\u001b[0m\u001b[1;33m,\u001b[0m \u001b[0mrow\u001b[0m\u001b[1;33m=\u001b[0m\u001b[0mrow_idx\u001b[0m\u001b[1;33m,\u001b[0m \u001b[0mcolumn\u001b[0m\u001b[1;33m=\u001b[0m\u001b[0mcol_idx\u001b[0m\u001b[1;33m,\u001b[0m \u001b[0mvalue\u001b[0m\u001b[1;33m=\u001b[0m\u001b[0mcontent\u001b[0m\u001b[1;33m)\u001b[0m\u001b[1;33m\u001b[0m\u001b[0m\n\u001b[0m\u001b[0;32m    647\u001b[0m                 \u001b[0mself\u001b[0m\u001b[1;33m.\u001b[0m\u001b[0m_cells\u001b[0m\u001b[1;33m[\u001b[0m\u001b[1;33m(\u001b[0m\u001b[0mrow_idx\u001b[0m\u001b[1;33m,\u001b[0m \u001b[0mcol_idx\u001b[0m\u001b[1;33m)\u001b[0m\u001b[1;33m]\u001b[0m \u001b[1;33m=\u001b[0m \u001b[0mcell\u001b[0m\u001b[1;33m\u001b[0m\u001b[0m\n\u001b[0;32m    648\u001b[0m \u001b[1;33m\u001b[0m\u001b[0m\n",
      "\u001b[1;32m~\\miniconda3\\envs\\py3\\lib\\site-packages\\openpyxl\\cell\\cell.py\u001b[0m in \u001b[0;36m__init__\u001b[1;34m(self, worksheet, row, column, value, style_array)\u001b[0m\n\u001b[0;32m    111\u001b[0m         \u001b[0mself\u001b[0m\u001b[1;33m.\u001b[0m\u001b[0mdata_type\u001b[0m \u001b[1;33m=\u001b[0m \u001b[1;34m'n'\u001b[0m\u001b[1;33m\u001b[0m\u001b[0m\n\u001b[0;32m    112\u001b[0m         \u001b[1;32mif\u001b[0m \u001b[0mvalue\u001b[0m \u001b[1;32mis\u001b[0m \u001b[1;32mnot\u001b[0m \u001b[1;32mNone\u001b[0m\u001b[1;33m:\u001b[0m\u001b[1;33m\u001b[0m\u001b[0m\n\u001b[1;32m--> 113\u001b[1;33m             \u001b[0mself\u001b[0m\u001b[1;33m.\u001b[0m\u001b[0mvalue\u001b[0m \u001b[1;33m=\u001b[0m \u001b[0mvalue\u001b[0m\u001b[1;33m\u001b[0m\u001b[0m\n\u001b[0m\u001b[0;32m    114\u001b[0m         \u001b[0mself\u001b[0m\u001b[1;33m.\u001b[0m\u001b[0m_comment\u001b[0m \u001b[1;33m=\u001b[0m \u001b[1;32mNone\u001b[0m\u001b[1;33m\u001b[0m\u001b[0m\n\u001b[0;32m    115\u001b[0m \u001b[1;33m\u001b[0m\u001b[0m\n",
      "\u001b[1;32m~\\miniconda3\\envs\\py3\\lib\\site-packages\\openpyxl\\cell\\cell.py\u001b[0m in \u001b[0;36mvalue\u001b[1;34m(self, value)\u001b[0m\n\u001b[0;32m    214\u001b[0m     \u001b[1;32mdef\u001b[0m \u001b[0mvalue\u001b[0m\u001b[1;33m(\u001b[0m\u001b[0mself\u001b[0m\u001b[1;33m,\u001b[0m \u001b[0mvalue\u001b[0m\u001b[1;33m)\u001b[0m\u001b[1;33m:\u001b[0m\u001b[1;33m\u001b[0m\u001b[0m\n\u001b[0;32m    215\u001b[0m         \u001b[1;34m\"\"\"Set the value and infer type and display options.\"\"\"\u001b[0m\u001b[1;33m\u001b[0m\u001b[0m\n\u001b[1;32m--> 216\u001b[1;33m         \u001b[0mself\u001b[0m\u001b[1;33m.\u001b[0m\u001b[0m_bind_value\u001b[0m\u001b[1;33m(\u001b[0m\u001b[0mvalue\u001b[0m\u001b[1;33m)\u001b[0m\u001b[1;33m\u001b[0m\u001b[0m\n\u001b[0m\u001b[0;32m    217\u001b[0m \u001b[1;33m\u001b[0m\u001b[0m\n\u001b[0;32m    218\u001b[0m     \u001b[1;33m@\u001b[0m\u001b[0mproperty\u001b[0m\u001b[1;33m\u001b[0m\u001b[0m\n",
      "\u001b[1;32m~\\miniconda3\\envs\\py3\\lib\\site-packages\\openpyxl\\cell\\cell.py\u001b[0m in \u001b[0;36m_bind_value\u001b[1;34m(self, value)\u001b[0m\n\u001b[0;32m    186\u001b[0m         \u001b[1;32melif\u001b[0m \u001b[0mdt\u001b[0m \u001b[1;33m==\u001b[0m \u001b[1;34m'd'\u001b[0m\u001b[1;33m:\u001b[0m\u001b[1;33m\u001b[0m\u001b[0m\n\u001b[0;32m    187\u001b[0m             \u001b[1;32mif\u001b[0m \u001b[1;32mnot\u001b[0m \u001b[0mis_date_format\u001b[0m\u001b[1;33m(\u001b[0m\u001b[0mself\u001b[0m\u001b[1;33m.\u001b[0m\u001b[0mnumber_format\u001b[0m\u001b[1;33m)\u001b[0m\u001b[1;33m:\u001b[0m\u001b[1;33m\u001b[0m\u001b[0m\n\u001b[1;32m--> 188\u001b[1;33m                 \u001b[0mself\u001b[0m\u001b[1;33m.\u001b[0m\u001b[0mnumber_format\u001b[0m \u001b[1;33m=\u001b[0m \u001b[0mTIME_FORMATS\u001b[0m\u001b[1;33m[\u001b[0m\u001b[0mt\u001b[0m\u001b[1;33m]\u001b[0m\u001b[1;33m\u001b[0m\u001b[0m\n\u001b[0m\u001b[0;32m    189\u001b[0m             \u001b[0mself\u001b[0m\u001b[1;33m.\u001b[0m\u001b[0mdata_type\u001b[0m \u001b[1;33m=\u001b[0m \u001b[1;34m\"d\"\u001b[0m\u001b[1;33m\u001b[0m\u001b[0m\n\u001b[0;32m    190\u001b[0m \u001b[1;33m\u001b[0m\u001b[0m\n",
      "\u001b[1;31mKeyError\u001b[0m: <class 'pandas._libs.tslibs.nattype.NaTType'>"
     ]
    }
   ],
   "source": [
    "# Activate worksheet to write dataframe\n",
    "active = wb['sheet1']\n",
    "\n",
    "# Write dataframe to active worksheet\n",
    "for x in dataframe_to_rows(df_QCMetrics):\n",
    "    active.append(x)\n",
    "\n",
    "# Save workbook to write\n",
    "wb.save(filepath)"
   ]
  },
  {
   "cell_type": "raw",
   "metadata": {},
   "source": [
    "# Remove existing sheet\n",
    "ref = wb['sheet']\n",
    "wb.remove(ref)"
   ]
  },
  {
   "cell_type": "code",
   "execution_count": null,
   "metadata": {
    "ExecuteTime": {
     "end_time": "2020-02-28T15:24:07.964813Z",
     "start_time": "2020-02-28T15:23:30.616Z"
    }
   },
   "outputs": [],
   "source": [
    "wb.save(\"QCMetrics-\"  +  filename_str + \".xlsx\")"
   ]
  },
  {
   "cell_type": "raw",
   "metadata": {},
   "source": [
    "df_last_month.to_csv(\"last_month.csv\", index=True)"
   ]
  },
  {
   "cell_type": "raw",
   "metadata": {},
   "source": [
    "# get current time\n",
    "now = datetime.now()\n",
    "print(\"Today's date: \", str(now))"
   ]
  },
  {
   "cell_type": "raw",
   "metadata": {},
   "source": [
    "# subtract 4 weeks from current date\n",
    "four_weeks_ago = now - timedelta(weeks = 4)\n",
    "print('Date FOUR weeks ago: ', four_weeks_ago)\n",
    "print('FOURR_weeks_ago object type: ', type(four_weeks_ago))"
   ]
  }
 ],
 "metadata": {
  "celltoolbar": "Raw Cell Format",
  "kernelspec": {
   "display_name": "Python 3",
   "language": "python",
   "name": "python3"
  },
  "language_info": {
   "codemirror_mode": {
    "name": "ipython",
    "version": 3
   },
   "file_extension": ".py",
   "mimetype": "text/x-python",
   "name": "python",
   "nbconvert_exporter": "python",
   "pygments_lexer": "ipython3",
   "version": "3.7.0"
  },
  "toc": {
   "base_numbering": 1,
   "nav_menu": {},
   "number_sections": true,
   "sideBar": true,
   "skip_h1_title": false,
   "title_cell": "Table of Contents",
   "title_sidebar": "Contents",
   "toc_cell": false,
   "toc_position": {},
   "toc_section_display": true,
   "toc_window_display": false
  },
  "varInspector": {
   "cols": {
    "lenName": 16,
    "lenType": 16,
    "lenVar": 40
   },
   "kernels_config": {
    "python": {
     "delete_cmd_postfix": "",
     "delete_cmd_prefix": "del ",
     "library": "var_list.py",
     "varRefreshCmd": "print(var_dic_list())"
    },
    "r": {
     "delete_cmd_postfix": ") ",
     "delete_cmd_prefix": "rm(",
     "library": "var_list.r",
     "varRefreshCmd": "cat(var_dic_list()) "
    }
   },
   "types_to_exclude": [
    "module",
    "function",
    "builtin_function_or_method",
    "instance",
    "_Feature"
   ],
   "window_display": false
  }
 },
 "nbformat": 4,
 "nbformat_minor": 4
}
