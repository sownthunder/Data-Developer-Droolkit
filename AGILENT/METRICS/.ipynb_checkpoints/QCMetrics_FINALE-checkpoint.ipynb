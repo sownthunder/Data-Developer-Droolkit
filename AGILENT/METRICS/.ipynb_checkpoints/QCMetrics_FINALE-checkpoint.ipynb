{
 "cells": [
  {
   "cell_type": "markdown",
   "metadata": {},
   "source": [
    "# LINKS\n",
    "\n",
    "- ## [join/merge DF python pandas](https://pandas.pydata.org/pandas-docs/stable/reference/api/pandas.DataFrame.join.html)\n",
    "\n",
    "\n",
    "---"
   ]
  },
  {
   "cell_type": "code",
   "execution_count": 1,
   "metadata": {
    "ExecuteTime": {
     "end_time": "2020-02-25T21:02:06.121121Z",
     "start_time": "2020-02-25T21:02:06.114066Z"
    }
   },
   "outputs": [],
   "source": [
    "import os, sys, time\n",
    "from time import sleep\n",
    "from pathlib import Path\n",
    "from datetime import datetime, timedelta"
   ]
  },
  {
   "cell_type": "code",
   "execution_count": 2,
   "metadata": {
    "ExecuteTime": {
     "end_time": "2020-02-25T21:02:07.807167Z",
     "start_time": "2020-02-25T21:02:06.127121Z"
    }
   },
   "outputs": [],
   "source": [
    "import pandas as pd\n",
    "import numpy as np\n",
    "from pandas import Series, DataFrame\n",
    "import pyodbc"
   ]
  },
  {
   "cell_type": "code",
   "execution_count": 3,
   "metadata": {
    "ExecuteTime": {
     "end_time": "2020-02-25T21:02:08.488174Z",
     "start_time": "2020-02-25T21:02:07.809180Z"
    }
   },
   "outputs": [],
   "source": [
    "from openpyxl import Workbook, load_workbook\n",
    "from openpyxl.drawing.image import Image\n",
    "from openpyxl.utils.dataframe import dataframe_to_rows"
   ]
  },
  {
   "cell_type": "code",
   "execution_count": 4,
   "metadata": {
    "ExecuteTime": {
     "end_time": "2020-02-25T21:02:09.203197Z",
     "start_time": "2020-02-25T21:02:08.493175Z"
    }
   },
   "outputs": [],
   "source": [
    "import matplotlib\n",
    "from matplotlib import pyplot as plt\n",
    "%matplotlib inline\n",
    "matplotlib.rcParams['figure.figsize'] = [12.0, 8.0]\n",
    "# [2020-02-19]]\\\\import matplotlib.pyplot as plt\n",
    "import seaborn as sns"
   ]
  },
  {
   "cell_type": "code",
   "execution_count": 5,
   "metadata": {},
   "outputs": [],
   "source": [
    "import tempfile"
   ]
  },
  {
   "cell_type": "raw",
   "metadata": {
    "ExecuteTime": {
     "end_time": "2020-02-25T21:02:09.220189Z",
     "start_time": "2020-02-25T21:02:09.206186Z"
    }
   },
   "source": [
    "[x for x in pyodbc.drivers() if x.startswith('Microsoft Access Driver')]"
   ]
  },
  {
   "cell_type": "markdown",
   "metadata": {},
   "source": [
    "## *FUNCTIONS*"
   ]
  },
  {
   "cell_type": "code",
   "execution_count": 6,
   "metadata": {
    "ExecuteTime": {
     "end_time": "2020-02-25T21:02:09.229189Z",
     "start_time": "2020-02-25T21:02:09.221184Z"
    }
   },
   "outputs": [],
   "source": [
    "def send_mail(send_from, send_to, subject, message, files=[],\n",
    "              server=\"cos.smtp.agilent.com\", port=587, use_tls=True):  # {\n",
    "    print(\"SENDING MAIL... DATE == \" + str(pd.Timestamp.now())[:10])\n",
    "    msg = MIMEMultipart()\n",
    "    msg['From'] = send_from\n",
    "    msg['To'] = COMMASPACE.join(send_to)\n",
    "    msg['Date'] = formatdate(localtime=True)\n",
    "    msg['Subject'] = subject\n",
    "\n",
    "    msg.attach(MIMEText(message))\n",
    "\n",
    "    for path in files:  # {\n",
    "        part = MIMEBase('application', \"octet-stream\")\n",
    "        with open(path, 'rb') as file:  # {\n",
    "            part.set_payload(file.read())\n",
    "        # }\n",
    "        encoders.encode_base64(part)\n",
    "        part.add_header('Content-Disposition',\n",
    "                        'attachment; filename=\"{}\"'.format(op.basename(path)))\n",
    "        msg.attach(part)\n",
    "    # }\n",
    "\n",
    "    smtp = smtplib.SMTP(server, port)\n",
    "    if use_tls:  # {\n",
    "        smtp.starttls()\n",
    "    # }\n",
    "    smtp.sendmail(send_from, send_to, msg.as_string())\n",
    "    smtp.quit()\n",
    "# }"
   ]
  },
  {
   "cell_type": "code",
   "execution_count": 7,
   "metadata": {
    "ExecuteTime": {
     "end_time": "2020-02-25T21:02:09.239185Z",
     "start_time": "2020-02-25T21:02:09.233184Z"
    }
   },
   "outputs": [],
   "source": [
    "def pull_prodflow_data(table_name): # {\n",
    "    pass\n",
    "# }"
   ]
  },
  {
   "cell_type": "code",
   "execution_count": 8,
   "metadata": {
    "ExecuteTime": {
     "end_time": "2020-02-25T21:02:09.249187Z",
     "start_time": "2020-02-25T21:02:09.243185Z"
    }
   },
   "outputs": [],
   "source": [
    "def push_prodflow_data(table_name): # {\n",
    "    pass\n",
    "# }"
   ]
  },
  {
   "cell_type": "markdown",
   "metadata": {},
   "source": [
    "## Ask for `Email Address`:"
   ]
  },
  {
   "cell_type": "raw",
   "metadata": {
    "ExecuteTime": {
     "end_time": "2020-02-24T17:09:51.249723Z",
     "start_time": "2020-02-24T17:09:39.265442Z"
    }
   },
   "source": [
    "# INFINITE LOOP TO INSURE PROPER DATA INPUT\n",
    "while 1: # {\n",
    "    email_address = input(\"Enter email:\")\n",
    "    # ASK FOR CONFIRMATION\n",
    "    confirm_str = input(\"You entered: \" + str(email_address) + \"\\nIs that correct? Y/N? \")\n",
    "    # CHECK CONFIRMATION INPUT\n",
    "    if str(confirm_str).lower() == \"n\": # {\n",
    "        print(\"OK TRY AGAIN!\")\n",
    "    # }\n",
    "    elif str(confirm_str).lower() == \"y\": # {\n",
    "        print(\"okay !\")\n",
    "        break\n",
    "    # }\n",
    "    else: # {\n",
    "        print(\">>> ERROR! \")\n",
    "    #}\n",
    "# }"
   ]
  },
  {
   "cell_type": "markdown",
   "metadata": {},
   "source": [
    "## Ask for `Date`:"
   ]
  },
  {
   "cell_type": "code",
   "execution_count": 9,
   "metadata": {
    "ExecuteTime": {
     "end_time": "2020-02-25T21:02:31.740563Z",
     "start_time": "2020-02-25T21:02:09.253188Z"
    }
   },
   "outputs": [
    {
     "name": "stdin",
     "output_type": "stream",
     "text": [
      "Input a Date: 2020-02-26\n"
     ]
    }
   ],
   "source": [
    "date_input = input(\"Input a Date:\")"
   ]
  },
  {
   "cell_type": "code",
   "execution_count": 10,
   "metadata": {
    "ExecuteTime": {
     "end_time": "2020-02-25T21:02:31.750088Z",
     "start_time": "2020-02-25T21:02:31.742563Z"
    }
   },
   "outputs": [
    {
     "name": "stdout",
     "output_type": "stream",
     "text": [
      "2020-02-26 00:00:00\n"
     ]
    }
   ],
   "source": [
    "# the_date = pd.Timestamp.now()\n",
    "test_date = pd.Timestamp(ts_input=str(date_input))\n",
    "print(test_date)"
   ]
  },
  {
   "cell_type": "code",
   "execution_count": 11,
   "metadata": {
    "ExecuteTime": {
     "end_time": "2020-02-25T21:02:31.765617Z",
     "start_time": "2020-02-25T21:02:31.752615Z"
    }
   },
   "outputs": [
    {
     "name": "stdout",
     "output_type": "stream",
     "text": [
      "2020-01-26 13:30:54\n"
     ]
    },
    {
     "name": "stderr",
     "output_type": "stream",
     "text": [
      "C:\\Users\\derbates\\miniconda3\\envs\\py3\\lib\\site-packages\\ipykernel_launcher.py:1: FutureWarning: M and Y units are deprecated and will be removed in a future version.\n",
      "  \"\"\"Entry point for launching an IPython kernel.\n"
     ]
    }
   ],
   "source": [
    "td_one_month_ago = test_date - pd.Timedelta(unit='M', value=1)\n",
    "print(td_one_month_ago)"
   ]
  },
  {
   "cell_type": "code",
   "execution_count": 12,
   "metadata": {
    "ExecuteTime": {
     "end_time": "2020-02-25T21:02:31.771616Z",
     "start_time": "2020-02-25T21:02:31.767618Z"
    }
   },
   "outputs": [],
   "source": [
    "one_month_ago = test_date - timedelta(days = 30)"
   ]
  },
  {
   "cell_type": "code",
   "execution_count": 13,
   "metadata": {
    "ExecuteTime": {
     "end_time": "2020-02-25T21:02:31.782616Z",
     "start_time": "2020-02-25T21:02:31.773619Z"
    }
   },
   "outputs": [
    {
     "name": "stdout",
     "output_type": "stream",
     "text": [
      "ONE MONTH AGO == 2020-01-27 00:00:00\n"
     ]
    }
   ],
   "source": [
    "print(\"ONE MONTH AGO == \" + str(one_month_ago))"
   ]
  },
  {
   "cell_type": "code",
   "execution_count": 14,
   "metadata": {
    "ExecuteTime": {
     "end_time": "2020-02-25T21:02:31.790615Z",
     "start_time": "2020-02-25T21:02:31.784616Z"
    }
   },
   "outputs": [],
   "source": [
    "# DAILY METRICS\n",
    "# df_week_range = pd.date_range(start=one_month_ago, end=test_date, freq=\"M-SAT\")\n",
    "df_month_range = pd.date_range(start=one_month_ago, end=test_date, freq='D') #, periods=30)"
   ]
  },
  {
   "cell_type": "code",
   "execution_count": 15,
   "metadata": {
    "ExecuteTime": {
     "end_time": "2020-02-25T21:02:31.800617Z",
     "start_time": "2020-02-25T21:02:31.791617Z"
    }
   },
   "outputs": [
    {
     "data": {
      "text/plain": [
       "pandas.core.indexes.datetimes.DatetimeIndex"
      ]
     },
     "execution_count": 15,
     "metadata": {},
     "output_type": "execute_result"
    }
   ],
   "source": [
    "type(df_month_range)"
   ]
  },
  {
   "cell_type": "code",
   "execution_count": 16,
   "metadata": {
    "ExecuteTime": {
     "end_time": "2020-02-25T21:02:31.810619Z",
     "start_time": "2020-02-25T21:02:31.802615Z"
    }
   },
   "outputs": [
    {
     "data": {
      "text/plain": [
       "[Timestamp('2020-01-27 00:00:00', freq='D'),\n",
       " Timestamp('2020-01-28 00:00:00', freq='D'),\n",
       " Timestamp('2020-01-29 00:00:00', freq='D'),\n",
       " Timestamp('2020-01-30 00:00:00', freq='D'),\n",
       " Timestamp('2020-01-31 00:00:00', freq='D'),\n",
       " Timestamp('2020-02-01 00:00:00', freq='D'),\n",
       " Timestamp('2020-02-02 00:00:00', freq='D'),\n",
       " Timestamp('2020-02-03 00:00:00', freq='D'),\n",
       " Timestamp('2020-02-04 00:00:00', freq='D'),\n",
       " Timestamp('2020-02-05 00:00:00', freq='D'),\n",
       " Timestamp('2020-02-06 00:00:00', freq='D'),\n",
       " Timestamp('2020-02-07 00:00:00', freq='D'),\n",
       " Timestamp('2020-02-08 00:00:00', freq='D'),\n",
       " Timestamp('2020-02-09 00:00:00', freq='D'),\n",
       " Timestamp('2020-02-10 00:00:00', freq='D'),\n",
       " Timestamp('2020-02-11 00:00:00', freq='D'),\n",
       " Timestamp('2020-02-12 00:00:00', freq='D'),\n",
       " Timestamp('2020-02-13 00:00:00', freq='D'),\n",
       " Timestamp('2020-02-14 00:00:00', freq='D'),\n",
       " Timestamp('2020-02-15 00:00:00', freq='D'),\n",
       " Timestamp('2020-02-16 00:00:00', freq='D'),\n",
       " Timestamp('2020-02-17 00:00:00', freq='D'),\n",
       " Timestamp('2020-02-18 00:00:00', freq='D'),\n",
       " Timestamp('2020-02-19 00:00:00', freq='D'),\n",
       " Timestamp('2020-02-20 00:00:00', freq='D'),\n",
       " Timestamp('2020-02-21 00:00:00', freq='D'),\n",
       " Timestamp('2020-02-22 00:00:00', freq='D'),\n",
       " Timestamp('2020-02-23 00:00:00', freq='D'),\n",
       " Timestamp('2020-02-24 00:00:00', freq='D'),\n",
       " Timestamp('2020-02-25 00:00:00', freq='D'),\n",
       " Timestamp('2020-02-26 00:00:00', freq='D')]"
      ]
     },
     "execution_count": 16,
     "metadata": {},
     "output_type": "execute_result"
    }
   ],
   "source": [
    "list(df_month_range)"
   ]
  },
  {
   "cell_type": "code",
   "execution_count": 17,
   "metadata": {
    "ExecuteTime": {
     "end_time": "2020-02-25T21:02:31.823616Z",
     "start_time": "2020-02-25T21:02:31.814619Z"
    }
   },
   "outputs": [],
   "source": [
    "df_month_range = pd.DataFrame(pd.Series(df_month_range), columns=['QCDate'])"
   ]
  },
  {
   "cell_type": "code",
   "execution_count": 18,
   "metadata": {
    "ExecuteTime": {
     "end_time": "2020-02-25T21:02:31.839619Z",
     "start_time": "2020-02-25T21:02:31.827621Z"
    }
   },
   "outputs": [
    {
     "name": "stdout",
     "output_type": "stream",
     "text": [
      "       QCDate\n",
      "0  2020-01-27\n",
      "1  2020-01-28\n",
      "2  2020-01-29\n",
      "3  2020-01-30\n",
      "4  2020-01-31\n",
      "5  2020-02-01\n",
      "6  2020-02-02\n",
      "7  2020-02-03\n",
      "8  2020-02-04\n",
      "9  2020-02-05\n",
      "10 2020-02-06\n",
      "11 2020-02-07\n",
      "12 2020-02-08\n",
      "13 2020-02-09\n",
      "14 2020-02-10\n",
      "15 2020-02-11\n",
      "16 2020-02-12\n",
      "17 2020-02-13\n",
      "18 2020-02-14\n",
      "19 2020-02-15\n",
      "20 2020-02-16\n",
      "21 2020-02-17\n",
      "22 2020-02-18\n",
      "23 2020-02-19\n",
      "24 2020-02-20\n",
      "25 2020-02-21\n",
      "26 2020-02-22\n",
      "27 2020-02-23\n",
      "28 2020-02-24\n",
      "29 2020-02-25\n",
      "30 2020-02-26\n"
     ]
    }
   ],
   "source": [
    "print(df_month_range)"
   ]
  },
  {
   "cell_type": "code",
   "execution_count": 19,
   "metadata": {
    "ExecuteTime": {
     "end_time": "2020-02-25T21:02:31.851617Z",
     "start_time": "2020-02-25T21:02:31.843620Z"
    }
   },
   "outputs": [
    {
     "data": {
      "text/plain": [
       "pandas.core.frame.DataFrame"
      ]
     },
     "execution_count": 19,
     "metadata": {},
     "output_type": "execute_result"
    }
   ],
   "source": [
    "type(df_month_range)"
   ]
  },
  {
   "cell_type": "code",
   "execution_count": 20,
   "metadata": {
    "ExecuteTime": {
     "end_time": "2020-02-25T21:02:31.864618Z",
     "start_time": "2020-02-25T21:02:31.854618Z"
    }
   },
   "outputs": [
    {
     "name": "stdout",
     "output_type": "stream",
     "text": [
      "<class 'pandas.core.frame.DataFrame'>\n",
      "RangeIndex: 31 entries, 0 to 30\n",
      "Data columns (total 1 columns):\n",
      "QCDate    31 non-null datetime64[ns]\n",
      "dtypes: datetime64[ns](1)\n",
      "memory usage: 376.0 bytes\n"
     ]
    }
   ],
   "source": [
    "df_month_range.info()"
   ]
  },
  {
   "cell_type": "code",
   "execution_count": 21,
   "metadata": {
    "ExecuteTime": {
     "end_time": "2020-02-25T21:02:31.875621Z",
     "start_time": "2020-02-25T21:02:31.867618Z"
    }
   },
   "outputs": [],
   "source": [
    "# MONTHLY METRICS\n",
    "year_range = pd.date_range(end=test_date, freq='M', periods=12, name='QCDate')"
   ]
  },
  {
   "cell_type": "code",
   "execution_count": 22,
   "metadata": {
    "ExecuteTime": {
     "end_time": "2020-02-25T21:02:31.885620Z",
     "start_time": "2020-02-25T21:02:31.877618Z"
    }
   },
   "outputs": [
    {
     "name": "stdout",
     "output_type": "stream",
     "text": [
      "DatetimeIndex(['2019-02-28', '2019-03-31', '2019-04-30', '2019-05-31',\n",
      "               '2019-06-30', '2019-07-31', '2019-08-31', '2019-09-30',\n",
      "               '2019-10-31', '2019-11-30', '2019-12-31', '2020-01-31'],\n",
      "              dtype='datetime64[ns]', name='QCDate', freq='M')\n"
     ]
    }
   ],
   "source": [
    "print(year_range)"
   ]
  },
  {
   "cell_type": "raw",
   "metadata": {
    "raw_mimetype": "text/x-python"
   },
   "source": [
    "df_Metrics = pd.DataFrame(data=None, index=df_month_range, dtype=np.str)\n",
    "len(df_Metrics)"
   ]
  },
  {
   "cell_type": "markdown",
   "metadata": {},
   "source": [
    "---\n",
    "### create *connection string* for [`SQL-Server`][`ProdflowII_Prod`] (for `Products` Table)\n",
    "#### called `cnxn_Prodflow`"
   ]
  },
  {
   "cell_type": "code",
   "execution_count": 23,
   "metadata": {},
   "outputs": [
    {
     "name": "stdout",
     "output_type": "stream",
     "text": [
      "FIN...\n"
     ]
    }
   ],
   "source": [
    "conn_str = str(\n",
    "    r'DRIVER={ODBC Driver 17 for SQL Server};'\n",
    "    r'SERVER=wtkngappflow1.is.agilent.net;'\n",
    "    r'DATABASE=ProdFlowII_Prod;'\n",
    "    r'Trusted_Connection=yes;'\n",
    ")\n",
    "\n",
    "try: #{\n",
    "    cnxn_Prodflow = pyodbc.connect(conn_str)\n",
    "    crsr_Prodflow = cnxn_Prodflow.cursor()\n",
    "#}\n",
    "except: #{\n",
    "    errorMessage = str(sys.exc_info()[0]) + \"\\n\"\n",
    "    errorMessage = errorMessage + str(sys.exc_info()[1]) + \"\\n\\t\\t\"\n",
    "    errorMessage = errorMessage + str(sys.exc_info()[2]) + \"\\n\"\n",
    "    exc_type, exc_obj, exc_tb = sys.exc_info()\n",
    "    fname = os.path.split(exc_tb.tb_frame.f_code.co_filename)[1]\n",
    "    typeE = str(\"TYPE : \" + str(exc_type))\n",
    "    fileE = str(\"FILE : \" + str(fname))\n",
    "    lineE = str(\"LINE : \" + str(exc_tb.tb_lineno))\n",
    "    messageE = str(\"MESG : \" + \"\\n\\n\" + str(errorMessage) + \"\\n\")\n",
    "    print(\"\\n\" + typeE + \n",
    "          \"\\n\" + fileE + \n",
    "          \"\\n\" + lineE + \n",
    "          \"\\n\" + messageE)\n",
    "#}\n",
    "else: #{\n",
    "    print(\"FIN...\")\n",
    "#}"
   ]
  },
  {
   "cell_type": "markdown",
   "metadata": {},
   "source": [
    "### create *connection string* for [`SQL-Server`][`Prodflow`] (for `tblProdflow` table)\n",
    "#### called `cnxn_Prodflow2`"
   ]
  },
  {
   "cell_type": "code",
   "execution_count": 24,
   "metadata": {},
   "outputs": [
    {
     "name": "stdout",
     "output_type": "stream",
     "text": [
      "FIN...\n"
     ]
    }
   ],
   "source": [
    "conn_str = str(\n",
    "    r'DRIVER={ODBC Driver 17 for SQL Server};'\n",
    "    r'SERVER=wtkngappflow1.is.agilent.net;'\n",
    "    r'DATABASE=ProdFlow;'\n",
    "    r'Trusted_Connection=yes;'\n",
    ")\n",
    "\n",
    "try: # {\n",
    "    cnxn_Prodflow2 = pyodbc.connect(conn_str)\n",
    "    crsr_Prodflow2 = cnxn_Prodflow2.cursor()\n",
    "# }\n",
    "except: # { \n",
    "    errorMessage = str(sys.exc_info()[0]) + \"\\n\"\n",
    "    errorMessage = errorMessage + str(sys.exc_info()[1]) + \"\\n\\t\\t\"\n",
    "    errorMessage = errorMessage + str(sys.exc_info()[2]) + \"\\n\"\n",
    "    exc_type, exc_obj, exc_tb = sys.exc_info()\n",
    "    fname = os.path.split(exc_tb.tb_frame.f_code.co_filename)[1]\n",
    "    typeE = str(\"TYPE : \" + str(exc_type))\n",
    "    fileE = str(\"FILE : \" + str(fname))\n",
    "    lineE = str(\"LINE : \" + str(exc_tb.tb_lineno))\n",
    "    messageE = str(\"MESG : \" + \"\\n\\n\" + str(errorMessage) + \"\\n\")\n",
    "    print(\"\\n\" + typeE + \n",
    "          \"\\n\" + fileE + \n",
    "          \"\\n\" + lineE + \n",
    "          \"\\n\" + messageE)\n",
    "# }\n",
    "else: # {\n",
    "    print(\"FIN...\")\n",
    "# }"
   ]
  },
  {
   "cell_type": "raw",
   "metadata": {
    "ExecuteTime": {
     "end_time": "2020-02-25T21:02:32.528626Z",
     "start_time": "2020-02-25T21:02:31.888618Z"
    }
   },
   "source": [
    "try: #{\n",
    "    conn_str = (\n",
    "        r'DRIVER={Microsoft Access Driver (*.mdb, *.accdb)};'\n",
    "        r'DBQ=C:\\Users\\derbates\\OneDrive - Agilent Technologies\\Desktop\\Offline Prodflow II\\Custom Quotes_fe.accdb;'\n",
    "    )\n",
    "#}\n",
    "except: #{\n",
    "    errorMessage = str(sys.exc_info()[0]) + \"\\n\"\n",
    "    errorMessage = errorMessage + str(sys.exc_info()[1]) + \"\\n\\t\\t\"\n",
    "    errorMessage = errorMessage + str(sys.exc_info()[2]) + \"\\n\"\n",
    "    exc_type, exc_obj, exc_tb = sys.exc_info()\n",
    "    fname = os.path.split(exc_tb.tb_frame.f_code.co_filename)[1]\n",
    "    typeE = str(\"TYPE : \" + str(exc_type))\n",
    "    fileE = str(\"FILE : \" + str(fname))\n",
    "    lineE = str(\"LINE : \" + str(exc_tb.tb_lineno))\n",
    "    messageE = str(\"MESG : \" + \"\\n\\n\" + str(errorMessage) + \"\\n\")\n",
    "    print(\"\\n\" + typeE + \n",
    "          \"\\n\" + fileE + \n",
    "          \"\\n\" + lineE + \n",
    "          \"\\n\" + messageE)\n",
    "#}\n",
    "else: #{\n",
    "    print(\"FIN...\")\n",
    "#}"
   ]
  },
  {
   "cell_type": "markdown",
   "metadata": {},
   "source": [
    "## `PRODUCTS` Table"
   ]
  },
  {
   "cell_type": "code",
   "execution_count": 25,
   "metadata": {
    "ExecuteTime": {
     "end_time": "2020-02-25T21:02:38.032693Z",
     "start_time": "2020-02-25T21:02:32.534627Z"
    }
   },
   "outputs": [
    {
     "name": "stdout",
     "output_type": "stream",
     "text": [
      "Operation Completed Successfully...\n",
      "<class 'pandas.core.frame.DataFrame'>\n",
      "RangeIndex: 108331 entries, 0 to 108330\n",
      "Data columns (total 42 columns):\n",
      "ProductID          108331 non-null int64\n",
      "Product#           108331 non-null object\n",
      "ProductName        108303 non-null object\n",
      "LineID             108331 non-null int64\n",
      "Description        5973 non-null object\n",
      "Specials           2443 non-null object\n",
      "OriginationDate    107937 non-null datetime64[ns]\n",
      "EntryDate          108329 non-null datetime64[ns]\n",
      "Status             6036 non-null object\n",
      "MatrixNumber       107447 non-null object\n",
      "Components         108331 non-null int64\n",
      "Availability       4843 non-null object\n",
      "EquivalentSoln     102887 non-null object\n",
      "EquivalentNeat     103045 non-null object\n",
      "Packaging          107533 non-null object\n",
      "Storage            100703 non-null object\n",
      "ExpirationDate     108306 non-null float64\n",
      "ShipType           95129 non-null object\n",
      "UN#                93446 non-null object\n",
      "ShipClass          87354 non-null object\n",
      "PackGrp            87236 non-null object\n",
      "ShipSpecial        82999 non-null object\n",
      "Hazard1            2473 non-null object\n",
      "Hazard2            4255 non-null object\n",
      "Hazard3            124 non-null object\n",
      "Prop65             6137 non-null object\n",
      "MSDS               6135 non-null object\n",
      "Analysis           5693 non-null object\n",
      "CofAHeader         102148 non-null float64\n",
      "Agilent#           694 non-null object\n",
      "Tedia#             2330 non-null object\n",
      "ProdNotes          93871 non-null object\n",
      "MatrixNotes        9196 non-null object\n",
      "RecipeId           81196 non-null object\n",
      "RushPriority       108331 non-null bool\n",
      "IsVoided           93242 non-null object\n",
      "SagePartNumber     32234 non-null object\n",
      "ProductLevel       91259 non-null float64\n",
      "DateInserted       38 non-null datetime64[ns]\n",
      "CofATemplate       79515 non-null object\n",
      "UniqueRequestID    5 non-null object\n",
      "Test_Timestamp     108331 non-null object\n",
      "dtypes: bool(1), datetime64[ns](3), float64(3), int64(3), object(32)\n",
      "memory usage: 34.0+ MB\n",
      "None\n"
     ]
    }
   ],
   "source": [
    "# TRY THE FOLLOWING\n",
    "try: # {\n",
    "    df_products = pd.read_sql_query(sql='SELECT * FROM Products', con=cnxn_Prodflow)\n",
    "# }\n",
    "except: # {\n",
    "    errorMessage = str(sys.exc_info()[0]) + \"\\n\"\n",
    "    errorMessage = errorMessage + str(sys.exc_info()[1]) + \"\\n\\t\\t\"\n",
    "    errorMessage = errorMessage + str(sys.exc_info()[2]) + \"\\n\"\n",
    "    exc_type, exc_obj, exc_tb = sys.exc_info()\n",
    "    fname = os.path.split(exc_tb.tb_frame.f_code.co_filename)[1]\n",
    "    typeE = str(\"TYPE : \" + str(exc_type))\n",
    "    fileE = str(\"FILE : \" + str(fname))\n",
    "    lineE = str(\"LINE : \" + str(exc_tb.tb_lineno))\n",
    "    messageE = str(\"MESG : \" + \"\\n\\n\" + str(errorMessage) + \"\\n\")\n",
    "    print(\"\\n\" + typeE + \n",
    "          \"\\n\" + fileE + \n",
    "          \"\\n\" + lineE + \n",
    "          \"\\n\" + messageE)\n",
    "# }\n",
    "else: # {\n",
    "    print(\"Operation Completed Successfully...\")\n",
    "    print(df_products.info())\n",
    "    # [2020-02-25]\\\\print(products_info)\n",
    "    # [2020-02-25]\\\\products_info.to_csv(\"products_INFO.csv\", index=True)\n",
    "# }"
   ]
  },
  {
   "cell_type": "markdown",
   "metadata": {},
   "source": [
    "## `tblProdflow` Table"
   ]
  },
  {
   "cell_type": "code",
   "execution_count": 26,
   "metadata": {
    "ExecuteTime": {
     "end_time": "2020-02-25T21:02:43.895772Z",
     "start_time": "2020-02-25T21:02:38.036692Z"
    }
   },
   "outputs": [
    {
     "name": "stdout",
     "output_type": "stream",
     "text": [
      "Operation Completed Successfully...\n",
      "<class 'pandas.core.frame.DataFrame'>\n",
      "RangeIndex: 108628 entries, 0 to 108627\n",
      "Data columns (total 53 columns):\n",
      "PfIDNo              108628 non-null int64\n",
      "PfBatchID           108628 non-null object\n",
      "ProductNo           108609 non-null object\n",
      "OrdID               92496 non-null float64\n",
      "QuoteNo             108592 non-null object\n",
      "PfSentTo            108563 non-null object\n",
      "PrepDate            107614 non-null datetime64[ns]\n",
      "PrepVolume          108583 non-null float64\n",
      "PrepUnit            108552 non-null object\n",
      "PrepVessel          108549 non-null float64\n",
      "PrepVBarcode        57942 non-null object\n",
      "PrdSaleUnit         89403 non-null object\n",
      "PrepMatrixNo        108553 non-null object\n",
      "PrepMatrixLot       107685 non-null object\n",
      "PrepInits           107444 non-null object\n",
      "PrepMemo            61236 non-null object\n",
      "PrepNotebookRef     48969 non-null object\n",
      "BulkQCStatus        24 non-null object\n",
      "BulkQCDate          74980 non-null datetime64[ns]\n",
      "BulkPassFail        74086 non-null object\n",
      "BulkQCInits         74964 non-null object\n",
      "BulkQCMemo          2111 non-null object\n",
      "BulkLotNo           73340 non-null object\n",
      "AmpRetains          51843 non-null float64\n",
      "AmpDate             92726 non-null datetime64[ns]\n",
      "AmpPreLabel         108628 non-null bool\n",
      "AmpNumberGood       93053 non-null float64\n",
      "AmpNumberBad        77470 non-null float64\n",
      "AmpBulkRemain       4119 non-null float64\n",
      "AmpTimeIn           92483 non-null datetime64[ns]\n",
      "AmpTimeOut          92483 non-null datetime64[ns]\n",
      "AmpInits            92691 non-null object\n",
      "QCStatus            573 non-null object\n",
      "QCDate              103169 non-null datetime64[ns]\n",
      "QCPassFail          103359 non-null object\n",
      "QCAuthInits         103158 non-null object\n",
      "QCMemo              55355 non-null object\n",
      "QCMethod            1195 non-null object\n",
      "LotNo               100455 non-null object\n",
      "QCExpMonth          93270 non-null float64\n",
      "QCExpDate           91747 non-null datetime64[ns]\n",
      "QCSellBy            0 non-null object\n",
      "QCFullValidation    108628 non-null bool\n",
      "QCValidation        108594 non-null float64\n",
      "FgInvCount          77920 non-null float64\n",
      "FgAccpacNote        19548 non-null object\n",
      "CofAHeaderNo        108596 non-null float64\n",
      "QCChromatogram      0 non-null object\n",
      "Correct             108628 non-null bool\n",
      "DoNotCorrect        108628 non-null bool\n",
      "DensityUnit         0 non-null object\n",
      "DensityTemp         0 non-null object\n",
      "recipeid            1 non-null object\n",
      "dtypes: bool(4), datetime64[ns](7), float64(11), int64(1), object(30)\n",
      "memory usage: 41.0+ MB\n",
      "None\n"
     ]
    }
   ],
   "source": [
    "# TRY THE FOLLOWING\n",
    "try: # {\n",
    "    df_tblProdflow = pd.read_sql_query(sql='SELECT * FROM tblProdflow', \n",
    "                                       parse_dates = ['QCDate'],\n",
    "                                       con=cnxn_Prodflow2)\n",
    "# }\n",
    "except: # {\n",
    "    errorMessage = str(sys.exc_info()[0]) + \"\\n\"\n",
    "    errorMessage = errorMessage + str(sys.exc_info()[1]) + \"\\n\\t\\t\"\n",
    "    errorMessage = errorMessage + str(sys.exc_info()[2]) + \"\\n\"\n",
    "    exc_type, exc_obj, exc_tb = sys.exc_info()\n",
    "    fname = os.path.split(exc_tb.tb_frame.f_code.co_filename)[1]\n",
    "    typeE = str(\"TYPE : \" + str(exc_type))\n",
    "    fileE = str(\"FILE : \" + str(fname))\n",
    "    lineE = str(\"LINE : \" + str(exc_tb.tb_lineno))\n",
    "    messageE = str(\"MESG : \" + \"\\n\\n\" + str(errorMessage) + \"\\n\")\n",
    "    print(\"\\n\" + typeE + \n",
    "          \"\\n\" + fileE + \n",
    "          \"\\n\" + lineE + \n",
    "          \"\\n\" + messageE)\n",
    "# }\n",
    "else: # {\n",
    "    print(\"Operation Completed Successfully...\")\n",
    "    print(df_tblProdflow.info())\n",
    "    # [2020-02-25]\\\\print(tblProdflow_info)\n",
    "    # [2020-02-25]\\\\tblProdflow_info.to_csv(\"tblProdflow_INFO.csv\", index=True)\n",
    "# }"
   ]
  },
  {
   "cell_type": "markdown",
   "metadata": {},
   "source": [
    "### Rename Header Column in `Products` Table"
   ]
  },
  {
   "cell_type": "code",
   "execution_count": 27,
   "metadata": {
    "ExecuteTime": {
     "end_time": "2020-02-25T21:02:43.993768Z",
     "start_time": "2020-02-25T21:02:43.897765Z"
    }
   },
   "outputs": [],
   "source": [
    "df_products.rename(columns={'Product#': 'ProductNo'}, inplace=True)"
   ]
  },
  {
   "cell_type": "code",
   "execution_count": 28,
   "metadata": {
    "ExecuteTime": {
     "end_time": "2020-02-25T21:02:44.045769Z",
     "start_time": "2020-02-25T21:02:43.999768Z"
    }
   },
   "outputs": [
    {
     "data": {
      "text/html": [
       "<div>\n",
       "<style scoped>\n",
       "    .dataframe tbody tr th:only-of-type {\n",
       "        vertical-align: middle;\n",
       "    }\n",
       "\n",
       "    .dataframe tbody tr th {\n",
       "        vertical-align: top;\n",
       "    }\n",
       "\n",
       "    .dataframe thead th {\n",
       "        text-align: right;\n",
       "    }\n",
       "</style>\n",
       "<table border=\"1\" class=\"dataframe\">\n",
       "  <thead>\n",
       "    <tr style=\"text-align: right;\">\n",
       "      <th></th>\n",
       "      <th>ProductID</th>\n",
       "      <th>ProductNo</th>\n",
       "      <th>ProductName</th>\n",
       "      <th>LineID</th>\n",
       "      <th>Description</th>\n",
       "      <th>Specials</th>\n",
       "      <th>OriginationDate</th>\n",
       "      <th>EntryDate</th>\n",
       "      <th>Status</th>\n",
       "      <th>MatrixNumber</th>\n",
       "      <th>...</th>\n",
       "      <th>MatrixNotes</th>\n",
       "      <th>RecipeId</th>\n",
       "      <th>RushPriority</th>\n",
       "      <th>IsVoided</th>\n",
       "      <th>SagePartNumber</th>\n",
       "      <th>ProductLevel</th>\n",
       "      <th>DateInserted</th>\n",
       "      <th>CofATemplate</th>\n",
       "      <th>UniqueRequestID</th>\n",
       "      <th>Test_Timestamp</th>\n",
       "    </tr>\n",
       "  </thead>\n",
       "  <tbody>\n",
       "    <tr>\n",
       "      <td>37173</td>\n",
       "      <td>85665</td>\n",
       "      <td>ICUS-4829</td>\n",
       "      <td>Custom Standard</td>\n",
       "      <td>8</td>\n",
       "      <td>None</td>\n",
       "      <td>None</td>\n",
       "      <td>2016-01-25</td>\n",
       "      <td>2016-01-25</td>\n",
       "      <td>None</td>\n",
       "      <td>JHP-046</td>\n",
       "      <td>...</td>\n",
       "      <td>None</td>\n",
       "      <td>RP-21754</td>\n",
       "      <td>False</td>\n",
       "      <td>VOID</td>\n",
       "      <td>None</td>\n",
       "      <td>1.0</td>\n",
       "      <td>NaT</td>\n",
       "      <td>GENERIC</td>\n",
       "      <td>None</td>\n",
       "      <td>b'\\x00\\x00\\x00\\x00\\x00 V\\xa7'</td>\n",
       "    </tr>\n",
       "    <tr>\n",
       "      <td>12418</td>\n",
       "      <td>81251</td>\n",
       "      <td>CUS-17740-3</td>\n",
       "      <td>Custom Standard</td>\n",
       "      <td>7</td>\n",
       "      <td>None</td>\n",
       "      <td>None</td>\n",
       "      <td>2015-05-22</td>\n",
       "      <td>2015-05-22</td>\n",
       "      <td>None</td>\n",
       "      <td>JHP-014</td>\n",
       "      <td>...</td>\n",
       "      <td>None</td>\n",
       "      <td>RP-08240</td>\n",
       "      <td>False</td>\n",
       "      <td>VOID</td>\n",
       "      <td>None</td>\n",
       "      <td>1.0</td>\n",
       "      <td>NaT</td>\n",
       "      <td>GENERIC</td>\n",
       "      <td>None</td>\n",
       "      <td>b'\\x00\\x00\\x00\\x00\\x00\\x1f\\xf5\\xf0'</td>\n",
       "    </tr>\n",
       "    <tr>\n",
       "      <td>98317</td>\n",
       "      <td>86194</td>\n",
       "      <td>QTE-86194</td>\n",
       "      <td>Custom Standard</td>\n",
       "      <td>7</td>\n",
       "      <td>None</td>\n",
       "      <td>None</td>\n",
       "      <td>2016-02-16</td>\n",
       "      <td>2016-02-16</td>\n",
       "      <td>None</td>\n",
       "      <td>JHP-018</td>\n",
       "      <td>...</td>\n",
       "      <td>None</td>\n",
       "      <td>RP-07725</td>\n",
       "      <td>False</td>\n",
       "      <td>VOID</td>\n",
       "      <td>None</td>\n",
       "      <td>1.0</td>\n",
       "      <td>NaT</td>\n",
       "      <td>GENERIC</td>\n",
       "      <td>None</td>\n",
       "      <td>b'\\x00\\x00\\x00\\x00\\x00!F\\x0b'</td>\n",
       "    </tr>\n",
       "    <tr>\n",
       "      <td>3066</td>\n",
       "      <td>111390</td>\n",
       "      <td>CUS-00001187</td>\n",
       "      <td>Custom Standard</td>\n",
       "      <td>7</td>\n",
       "      <td>None</td>\n",
       "      <td>None</td>\n",
       "      <td>2019-08-05</td>\n",
       "      <td>2019-08-05</td>\n",
       "      <td>None</td>\n",
       "      <td>JHP-001</td>\n",
       "      <td>...</td>\n",
       "      <td>None</td>\n",
       "      <td>None</td>\n",
       "      <td>False</td>\n",
       "      <td></td>\n",
       "      <td>None</td>\n",
       "      <td>1.0</td>\n",
       "      <td>NaT</td>\n",
       "      <td>None</td>\n",
       "      <td>None</td>\n",
       "      <td>b'\\x00\\x00\\x00\\x00\\x00\\x1f\\xd2+'</td>\n",
       "    </tr>\n",
       "    <tr>\n",
       "      <td>80793</td>\n",
       "      <td>4998</td>\n",
       "      <td>QTE-4998</td>\n",
       "      <td>Custom Standard</td>\n",
       "      <td>7</td>\n",
       "      <td>None</td>\n",
       "      <td>None</td>\n",
       "      <td>2004-03-11</td>\n",
       "      <td>2011-05-09</td>\n",
       "      <td>None</td>\n",
       "      <td>JHP-021</td>\n",
       "      <td>...</td>\n",
       "      <td>None</td>\n",
       "      <td>RP-43685</td>\n",
       "      <td>False</td>\n",
       "      <td>VOID</td>\n",
       "      <td>None</td>\n",
       "      <td>1.0</td>\n",
       "      <td>NaT</td>\n",
       "      <td>GENERIC</td>\n",
       "      <td>None</td>\n",
       "      <td>b'\\x00\\x00\\x00\\x00\\x00!\\x01R'</td>\n",
       "    </tr>\n",
       "  </tbody>\n",
       "</table>\n",
       "<p>5 rows × 42 columns</p>\n",
       "</div>"
      ],
      "text/plain": [
       "       ProductID     ProductNo      ProductName  LineID Description Specials  \\\n",
       "37173      85665     ICUS-4829  Custom Standard       8        None     None   \n",
       "12418      81251   CUS-17740-3  Custom Standard       7        None     None   \n",
       "98317      86194     QTE-86194  Custom Standard       7        None     None   \n",
       "3066      111390  CUS-00001187  Custom Standard       7        None     None   \n",
       "80793       4998      QTE-4998  Custom Standard       7        None     None   \n",
       "\n",
       "      OriginationDate  EntryDate Status MatrixNumber  ...  MatrixNotes  \\\n",
       "37173      2016-01-25 2016-01-25   None      JHP-046  ...         None   \n",
       "12418      2015-05-22 2015-05-22   None      JHP-014  ...         None   \n",
       "98317      2016-02-16 2016-02-16   None      JHP-018  ...         None   \n",
       "3066       2019-08-05 2019-08-05   None      JHP-001  ...         None   \n",
       "80793      2004-03-11 2011-05-09   None      JHP-021  ...         None   \n",
       "\n",
       "              RecipeId RushPriority IsVoided SagePartNumber ProductLevel  \\\n",
       "37173  RP-21754               False     VOID           None          1.0   \n",
       "12418  RP-08240               False     VOID           None          1.0   \n",
       "98317  RP-07725               False     VOID           None          1.0   \n",
       "3066              None        False                    None          1.0   \n",
       "80793  RP-43685               False     VOID           None          1.0   \n",
       "\n",
       "       DateInserted CofATemplate UniqueRequestID  \\\n",
       "37173           NaT      GENERIC            None   \n",
       "12418           NaT      GENERIC            None   \n",
       "98317           NaT      GENERIC            None   \n",
       "3066            NaT         None            None   \n",
       "80793           NaT      GENERIC            None   \n",
       "\n",
       "                            Test_Timestamp  \n",
       "37173        b'\\x00\\x00\\x00\\x00\\x00 V\\xa7'  \n",
       "12418  b'\\x00\\x00\\x00\\x00\\x00\\x1f\\xf5\\xf0'  \n",
       "98317        b'\\x00\\x00\\x00\\x00\\x00!F\\x0b'  \n",
       "3066      b'\\x00\\x00\\x00\\x00\\x00\\x1f\\xd2+'  \n",
       "80793        b'\\x00\\x00\\x00\\x00\\x00!\\x01R'  \n",
       "\n",
       "[5 rows x 42 columns]"
      ]
     },
     "execution_count": 28,
     "metadata": {},
     "output_type": "execute_result"
    }
   ],
   "source": [
    "df_products.sample(5)"
   ]
  },
  {
   "cell_type": "markdown",
   "metadata": {},
   "source": [
    "---\n",
    "## **CREATE** `df_QCMetrics` Table (calculations table)"
   ]
  },
  {
   "cell_type": "code",
   "execution_count": 29,
   "metadata": {
    "ExecuteTime": {
     "end_time": "2020-02-25T21:02:46.457795Z",
     "start_time": "2020-02-25T21:02:44.048771Z"
    }
   },
   "outputs": [
    {
     "data": {
      "text/plain": [
       "108628"
      ]
     },
     "execution_count": 29,
     "metadata": {},
     "output_type": "execute_result"
    }
   ],
   "source": [
    "#inner join in python pandas\n",
    "df_QCMetrics = pd.merge(df_products, df_tblProdflow, on='ProductNo', how='right')\n",
    "len(df_QCMetrics)"
   ]
  },
  {
   "cell_type": "code",
   "execution_count": 30,
   "metadata": {
    "ExecuteTime": {
     "end_time": "2020-02-25T21:02:46.794803Z",
     "start_time": "2020-02-25T21:02:46.459796Z"
    }
   },
   "outputs": [
    {
     "data": {
      "text/html": [
       "<div>\n",
       "<style scoped>\n",
       "    .dataframe tbody tr th:only-of-type {\n",
       "        vertical-align: middle;\n",
       "    }\n",
       "\n",
       "    .dataframe tbody tr th {\n",
       "        vertical-align: top;\n",
       "    }\n",
       "\n",
       "    .dataframe thead th {\n",
       "        text-align: right;\n",
       "    }\n",
       "</style>\n",
       "<table border=\"1\" class=\"dataframe\">\n",
       "  <thead>\n",
       "    <tr style=\"text-align: right;\">\n",
       "      <th></th>\n",
       "      <th>ProductID</th>\n",
       "      <th>ProductNo</th>\n",
       "      <th>ProductName</th>\n",
       "      <th>LineID</th>\n",
       "      <th>Description</th>\n",
       "      <th>Specials</th>\n",
       "      <th>OriginationDate</th>\n",
       "      <th>EntryDate</th>\n",
       "      <th>Status</th>\n",
       "      <th>MatrixNumber</th>\n",
       "      <th>...</th>\n",
       "      <th>QCValidation</th>\n",
       "      <th>FgInvCount</th>\n",
       "      <th>FgAccpacNote</th>\n",
       "      <th>CofAHeaderNo</th>\n",
       "      <th>QCChromatogram</th>\n",
       "      <th>Correct</th>\n",
       "      <th>DoNotCorrect</th>\n",
       "      <th>DensityUnit</th>\n",
       "      <th>DensityTemp</th>\n",
       "      <th>recipeid</th>\n",
       "    </tr>\n",
       "  </thead>\n",
       "  <tbody>\n",
       "    <tr>\n",
       "      <td>81254</td>\n",
       "      <td>56828.0</td>\n",
       "      <td>PST-3425K1000</td>\n",
       "      <td>Dithiopyr Standard</td>\n",
       "      <td>1.0</td>\n",
       "      <td>1 analyte at 1,000 µg/mL in acetone</td>\n",
       "      <td>Chem Korea</td>\n",
       "      <td>2012-05-07</td>\n",
       "      <td>2012-05-31</td>\n",
       "      <td>active</td>\n",
       "      <td>JHP-001</td>\n",
       "      <td>...</td>\n",
       "      <td>2.0</td>\n",
       "      <td>70.0</td>\n",
       "      <td>None</td>\n",
       "      <td>2.0</td>\n",
       "      <td>None</td>\n",
       "      <td>False</td>\n",
       "      <td>False</td>\n",
       "      <td>None</td>\n",
       "      <td>None</td>\n",
       "      <td>None</td>\n",
       "    </tr>\n",
       "    <tr>\n",
       "      <td>10765</td>\n",
       "      <td>103510.0</td>\n",
       "      <td>BULK-QCI-720-10</td>\n",
       "      <td>ULTRAcheck Hardness Sample</td>\n",
       "      <td>3.0</td>\n",
       "      <td>None</td>\n",
       "      <td>None</td>\n",
       "      <td>2018-03-27</td>\n",
       "      <td>2018-03-27</td>\n",
       "      <td>None</td>\n",
       "      <td>JHP-341</td>\n",
       "      <td>...</td>\n",
       "      <td>2.0</td>\n",
       "      <td>12000.0</td>\n",
       "      <td>None</td>\n",
       "      <td>2.0</td>\n",
       "      <td>None</td>\n",
       "      <td>False</td>\n",
       "      <td>False</td>\n",
       "      <td>None</td>\n",
       "      <td>None</td>\n",
       "      <td>None</td>\n",
       "    </tr>\n",
       "    <tr>\n",
       "      <td>9005</td>\n",
       "      <td>61431.0</td>\n",
       "      <td>BULK-82510</td>\n",
       "      <td>Sodium Standard (10ppm)</td>\n",
       "      <td>22.0</td>\n",
       "      <td>None</td>\n",
       "      <td>None</td>\n",
       "      <td>2012-11-16</td>\n",
       "      <td>2012-11-16</td>\n",
       "      <td>None</td>\n",
       "      <td>JHP-035</td>\n",
       "      <td>...</td>\n",
       "      <td>2.0</td>\n",
       "      <td>0.0</td>\n",
       "      <td>None</td>\n",
       "      <td>2.0</td>\n",
       "      <td>None</td>\n",
       "      <td>False</td>\n",
       "      <td>False</td>\n",
       "      <td>None</td>\n",
       "      <td>None</td>\n",
       "      <td>None</td>\n",
       "    </tr>\n",
       "    <tr>\n",
       "      <td>43031</td>\n",
       "      <td>15817.0</td>\n",
       "      <td>CUS-7027</td>\n",
       "      <td>Custom Standard</td>\n",
       "      <td>7.0</td>\n",
       "      <td>None</td>\n",
       "      <td>None</td>\n",
       "      <td>2005-09-19</td>\n",
       "      <td>2011-05-09</td>\n",
       "      <td>None</td>\n",
       "      <td>JHP-021</td>\n",
       "      <td>...</td>\n",
       "      <td>1.0</td>\n",
       "      <td>19.0</td>\n",
       "      <td>None</td>\n",
       "      <td>1.0</td>\n",
       "      <td>None</td>\n",
       "      <td>False</td>\n",
       "      <td>True</td>\n",
       "      <td>None</td>\n",
       "      <td>None</td>\n",
       "      <td>None</td>\n",
       "    </tr>\n",
       "    <tr>\n",
       "      <td>87215</td>\n",
       "      <td>7185.0</td>\n",
       "      <td>RGO-101X</td>\n",
       "      <td>Precision, Accuracy and Recovery Standard</td>\n",
       "      <td>7.0</td>\n",
       "      <td>2 analytes @ 4000 µg/mL in acetone</td>\n",
       "      <td>None</td>\n",
       "      <td>1999-01-20</td>\n",
       "      <td>2011-05-09</td>\n",
       "      <td>active</td>\n",
       "      <td>JHP-001</td>\n",
       "      <td>...</td>\n",
       "      <td>2.0</td>\n",
       "      <td>NaN</td>\n",
       "      <td>None</td>\n",
       "      <td>2.0</td>\n",
       "      <td>None</td>\n",
       "      <td>False</td>\n",
       "      <td>True</td>\n",
       "      <td>None</td>\n",
       "      <td>None</td>\n",
       "      <td>None</td>\n",
       "    </tr>\n",
       "  </tbody>\n",
       "</table>\n",
       "<p>5 rows × 94 columns</p>\n",
       "</div>"
      ],
      "text/plain": [
       "       ProductID        ProductNo                                ProductName  \\\n",
       "81254    56828.0    PST-3425K1000                         Dithiopyr Standard   \n",
       "10765   103510.0  BULK-QCI-720-10                 ULTRAcheck Hardness Sample   \n",
       "9005     61431.0       BULK-82510                    Sodium Standard (10ppm)   \n",
       "43031    15817.0         CUS-7027                            Custom Standard   \n",
       "87215     7185.0         RGO-101X  Precision, Accuracy and Recovery Standard   \n",
       "\n",
       "       LineID                          Description    Specials  \\\n",
       "81254     1.0  1 analyte at 1,000 µg/mL in acetone  Chem Korea   \n",
       "10765     3.0                                 None        None   \n",
       "9005     22.0                                 None        None   \n",
       "43031     7.0                                 None        None   \n",
       "87215     7.0   2 analytes @ 4000 µg/mL in acetone        None   \n",
       "\n",
       "      OriginationDate  EntryDate  Status MatrixNumber  ...  QCValidation  \\\n",
       "81254      2012-05-07 2012-05-31  active      JHP-001  ...           2.0   \n",
       "10765      2018-03-27 2018-03-27    None      JHP-341  ...           2.0   \n",
       "9005       2012-11-16 2012-11-16    None      JHP-035  ...           2.0   \n",
       "43031      2005-09-19 2011-05-09    None      JHP-021  ...           1.0   \n",
       "87215      1999-01-20 2011-05-09  active      JHP-001  ...           2.0   \n",
       "\n",
       "      FgInvCount FgAccpacNote CofAHeaderNo QCChromatogram Correct  \\\n",
       "81254       70.0         None          2.0           None   False   \n",
       "10765    12000.0         None          2.0           None   False   \n",
       "9005         0.0         None          2.0           None   False   \n",
       "43031       19.0         None          1.0           None   False   \n",
       "87215        NaN         None          2.0           None   False   \n",
       "\n",
       "       DoNotCorrect DensityUnit DensityTemp recipeid  \n",
       "81254         False        None        None     None  \n",
       "10765         False        None        None     None  \n",
       "9005          False        None        None     None  \n",
       "43031          True        None        None     None  \n",
       "87215          True        None        None     None  \n",
       "\n",
       "[5 rows x 94 columns]"
      ]
     },
     "execution_count": 30,
     "metadata": {},
     "output_type": "execute_result"
    }
   ],
   "source": [
    "# COPY FOR TESTING\n",
    "TEST_METRICS = pd.DataFrame(data=df_QCMetrics)\n",
    "TEST_METRICS.sample(5)"
   ]
  },
  {
   "cell_type": "markdown",
   "metadata": {},
   "source": [
    "### Drop **ALL** rows without a `QCDate` & `QCValidation` "
   ]
  },
  {
   "cell_type": "code",
   "execution_count": 31,
   "metadata": {
    "ExecuteTime": {
     "end_time": "2020-02-25T21:02:47.310805Z",
     "start_time": "2020-02-25T21:02:46.797804Z"
    }
   },
   "outputs": [
    {
     "data": {
      "text/plain": [
       "103167"
      ]
     },
     "execution_count": 31,
     "metadata": {},
     "output_type": "execute_result"
    }
   ],
   "source": [
    "df_QCMetrics.dropna(axis=0, subset=['QCDate', 'QCValidation'], how='any', inplace=True)\n",
    "# [2020-02-24]\\\\df_QCMetrics.dropna(axis=0, subset=['QCDate', 'ProductLevel'], how='any', inplace=True)\n",
    "len(df_QCMetrics)"
   ]
  },
  {
   "cell_type": "code",
   "execution_count": 32,
   "metadata": {
    "ExecuteTime": {
     "end_time": "2020-02-25T21:02:47.321806Z",
     "start_time": "2020-02-25T21:02:47.314806Z"
    }
   },
   "outputs": [
    {
     "data": {
      "text/plain": [
       "pandas.core.frame.DataFrame"
      ]
     },
     "execution_count": 32,
     "metadata": {},
     "output_type": "execute_result"
    }
   ],
   "source": [
    "type(df_month_range)"
   ]
  },
  {
   "cell_type": "markdown",
   "metadata": {},
   "source": [
    "#### TEST_METRICS (dataframe)"
   ]
  },
  {
   "cell_type": "raw",
   "metadata": {},
   "source": [
    "df_Metrics_Monthly = df_QCMetrics.set_index('QCDate'), on=df_month_range)"
   ]
  },
  {
   "cell_type": "code",
   "execution_count": 33,
   "metadata": {
    "ExecuteTime": {
     "end_time": "2020-02-25T21:02:47.332810Z",
     "start_time": "2020-02-25T21:02:47.325808Z"
    }
   },
   "outputs": [],
   "source": [
    "# CONVERT from string to datetime\n",
    "TEST_METRICS['QCDate'] = pd.to_datetime(TEST_METRICS['QCDate'])"
   ]
  },
  {
   "cell_type": "code",
   "execution_count": 34,
   "metadata": {
    "ExecuteTime": {
     "end_time": "2020-02-25T21:02:47.351806Z",
     "start_time": "2020-02-25T21:02:47.334806Z"
    }
   },
   "outputs": [],
   "source": [
    "# CONVERT FROM string to categorical\n",
    "TEST_METRICS['QCValidation'] = pd.Categorical(TEST_METRICS[\"QCValidation\"], ordered=False)"
   ]
  },
  {
   "cell_type": "code",
   "execution_count": 35,
   "metadata": {
    "ExecuteTime": {
     "end_time": "2020-02-25T21:02:47.406808Z",
     "start_time": "2020-02-25T21:02:47.353808Z"
    }
   },
   "outputs": [
    {
     "data": {
      "text/html": [
       "<div>\n",
       "<style scoped>\n",
       "    .dataframe tbody tr th:only-of-type {\n",
       "        vertical-align: middle;\n",
       "    }\n",
       "\n",
       "    .dataframe tbody tr th {\n",
       "        vertical-align: top;\n",
       "    }\n",
       "\n",
       "    .dataframe thead th {\n",
       "        text-align: right;\n",
       "    }\n",
       "</style>\n",
       "<table border=\"1\" class=\"dataframe\">\n",
       "  <thead>\n",
       "    <tr style=\"text-align: right;\">\n",
       "      <th></th>\n",
       "      <th></th>\n",
       "      <th>ProductID</th>\n",
       "      <th>ProductNo</th>\n",
       "      <th>ProductName</th>\n",
       "      <th>LineID</th>\n",
       "      <th>Description</th>\n",
       "      <th>Specials</th>\n",
       "      <th>OriginationDate</th>\n",
       "      <th>EntryDate</th>\n",
       "      <th>Status</th>\n",
       "      <th>MatrixNumber</th>\n",
       "      <th>...</th>\n",
       "      <th>QCFullValidation</th>\n",
       "      <th>FgInvCount</th>\n",
       "      <th>FgAccpacNote</th>\n",
       "      <th>CofAHeaderNo</th>\n",
       "      <th>QCChromatogram</th>\n",
       "      <th>Correct</th>\n",
       "      <th>DoNotCorrect</th>\n",
       "      <th>DensityUnit</th>\n",
       "      <th>DensityTemp</th>\n",
       "      <th>recipeid</th>\n",
       "    </tr>\n",
       "    <tr>\n",
       "      <th>QCDate</th>\n",
       "      <th>QCValidation</th>\n",
       "      <th></th>\n",
       "      <th></th>\n",
       "      <th></th>\n",
       "      <th></th>\n",
       "      <th></th>\n",
       "      <th></th>\n",
       "      <th></th>\n",
       "      <th></th>\n",
       "      <th></th>\n",
       "      <th></th>\n",
       "      <th></th>\n",
       "      <th></th>\n",
       "      <th></th>\n",
       "      <th></th>\n",
       "      <th></th>\n",
       "      <th></th>\n",
       "      <th></th>\n",
       "      <th></th>\n",
       "      <th></th>\n",
       "      <th></th>\n",
       "      <th></th>\n",
       "    </tr>\n",
       "  </thead>\n",
       "  <tbody>\n",
       "    <tr>\n",
       "      <td>2013-06-28</td>\n",
       "      <td>1.0</td>\n",
       "      <td>65729.0</td>\n",
       "      <td>STK-01417</td>\n",
       "      <td>CUS-5882  A  10,000 µg/mL  in Carbon Disulfide...</td>\n",
       "      <td>16.0</td>\n",
       "      <td>None</td>\n",
       "      <td>None</td>\n",
       "      <td>2013-06-28</td>\n",
       "      <td>2013-06-28</td>\n",
       "      <td>None</td>\n",
       "      <td>JHP-042</td>\n",
       "      <td>...</td>\n",
       "      <td>False</td>\n",
       "      <td>NaN</td>\n",
       "      <td>None</td>\n",
       "      <td>14.0</td>\n",
       "      <td>None</td>\n",
       "      <td>False</td>\n",
       "      <td>True</td>\n",
       "      <td>None</td>\n",
       "      <td>None</td>\n",
       "      <td>None</td>\n",
       "    </tr>\n",
       "    <tr>\n",
       "      <td>2017-03-23</td>\n",
       "      <td>2.0</td>\n",
       "      <td>95204.0</td>\n",
       "      <td>QCI-751-10</td>\n",
       "      <td>Nitrite as N</td>\n",
       "      <td>3.0</td>\n",
       "      <td>None</td>\n",
       "      <td>None</td>\n",
       "      <td>2017-03-09</td>\n",
       "      <td>2017-03-09</td>\n",
       "      <td>None</td>\n",
       "      <td>JHP-040</td>\n",
       "      <td>...</td>\n",
       "      <td>False</td>\n",
       "      <td>76.0</td>\n",
       "      <td>None</td>\n",
       "      <td>2.0</td>\n",
       "      <td>None</td>\n",
       "      <td>False</td>\n",
       "      <td>False</td>\n",
       "      <td>None</td>\n",
       "      <td>None</td>\n",
       "      <td>None</td>\n",
       "    </tr>\n",
       "    <tr>\n",
       "      <td rowspan=\"2\" valign=\"top\">NaT</td>\n",
       "      <td>2.0</td>\n",
       "      <td>69829.0</td>\n",
       "      <td>ICP-133</td>\n",
       "      <td>Arsenic (III) Standard</td>\n",
       "      <td>8.0</td>\n",
       "      <td>None</td>\n",
       "      <td>FROM:BH</td>\n",
       "      <td>NaT</td>\n",
       "      <td>2014-02-11</td>\n",
       "      <td>None</td>\n",
       "      <td>JHP-045</td>\n",
       "      <td>...</td>\n",
       "      <td>False</td>\n",
       "      <td>NaN</td>\n",
       "      <td>None</td>\n",
       "      <td>2.0</td>\n",
       "      <td>None</td>\n",
       "      <td>False</td>\n",
       "      <td>False</td>\n",
       "      <td>None</td>\n",
       "      <td>None</td>\n",
       "      <td>None</td>\n",
       "    </tr>\n",
       "    <tr>\n",
       "      <td>2.0</td>\n",
       "      <td>72430.0</td>\n",
       "      <td>NIST (pH 1.68)</td>\n",
       "      <td>NIST pH Buffer 1.68</td>\n",
       "      <td>1.0</td>\n",
       "      <td>None</td>\n",
       "      <td>None</td>\n",
       "      <td>2014-05-06</td>\n",
       "      <td>2014-05-06</td>\n",
       "      <td>None</td>\n",
       "      <td>JHP-035</td>\n",
       "      <td>...</td>\n",
       "      <td>False</td>\n",
       "      <td>NaN</td>\n",
       "      <td>None</td>\n",
       "      <td>2.0</td>\n",
       "      <td>None</td>\n",
       "      <td>False</td>\n",
       "      <td>False</td>\n",
       "      <td>None</td>\n",
       "      <td>None</td>\n",
       "      <td>None</td>\n",
       "    </tr>\n",
       "    <tr>\n",
       "      <td>2019-02-27</td>\n",
       "      <td>2.0</td>\n",
       "      <td>11581.0</td>\n",
       "      <td>502-602</td>\n",
       "      <td>Custom Standard</td>\n",
       "      <td>8.0</td>\n",
       "      <td>None</td>\n",
       "      <td>None</td>\n",
       "      <td>2004-10-13</td>\n",
       "      <td>2004-10-13</td>\n",
       "      <td>None</td>\n",
       "      <td>JHP-040</td>\n",
       "      <td>...</td>\n",
       "      <td>False</td>\n",
       "      <td>100.0</td>\n",
       "      <td>None</td>\n",
       "      <td>2.0</td>\n",
       "      <td>None</td>\n",
       "      <td>False</td>\n",
       "      <td>False</td>\n",
       "      <td>None</td>\n",
       "      <td>None</td>\n",
       "      <td>None</td>\n",
       "    </tr>\n",
       "  </tbody>\n",
       "</table>\n",
       "<p>5 rows × 92 columns</p>\n",
       "</div>"
      ],
      "text/plain": [
       "                         ProductID       ProductNo  \\\n",
       "QCDate     QCValidation                              \n",
       "2013-06-28 1.0             65729.0       STK-01417   \n",
       "2017-03-23 2.0             95204.0      QCI-751-10   \n",
       "NaT        2.0             69829.0         ICP-133   \n",
       "           2.0             72430.0  NIST (pH 1.68)   \n",
       "2019-02-27 2.0             11581.0         502-602   \n",
       "\n",
       "                                                               ProductName  \\\n",
       "QCDate     QCValidation                                                      \n",
       "2013-06-28 1.0           CUS-5882  A  10,000 µg/mL  in Carbon Disulfide...   \n",
       "2017-03-23 2.0                                                Nitrite as N   \n",
       "NaT        2.0                                      Arsenic (III) Standard   \n",
       "           2.0                                         NIST pH Buffer 1.68   \n",
       "2019-02-27 2.0                                             Custom Standard   \n",
       "\n",
       "                         LineID Description Specials OriginationDate  \\\n",
       "QCDate     QCValidation                                                \n",
       "2013-06-28 1.0             16.0        None     None      2013-06-28   \n",
       "2017-03-23 2.0              3.0        None     None      2017-03-09   \n",
       "NaT        2.0              8.0        None  FROM:BH             NaT   \n",
       "           2.0              1.0        None     None      2014-05-06   \n",
       "2019-02-27 2.0              8.0        None     None      2004-10-13   \n",
       "\n",
       "                         EntryDate Status MatrixNumber  ...  QCFullValidation  \\\n",
       "QCDate     QCValidation                                 ...                     \n",
       "2013-06-28 1.0          2013-06-28   None      JHP-042  ...             False   \n",
       "2017-03-23 2.0          2017-03-09   None      JHP-040  ...             False   \n",
       "NaT        2.0          2014-02-11   None      JHP-045  ...             False   \n",
       "           2.0          2014-05-06   None      JHP-035  ...             False   \n",
       "2019-02-27 2.0          2004-10-13   None      JHP-040  ...             False   \n",
       "\n",
       "                        FgInvCount FgAccpacNote CofAHeaderNo QCChromatogram  \\\n",
       "QCDate     QCValidation                                                       \n",
       "2013-06-28 1.0                 NaN         None         14.0           None   \n",
       "2017-03-23 2.0                76.0         None          2.0           None   \n",
       "NaT        2.0                 NaN         None          2.0           None   \n",
       "           2.0                 NaN         None          2.0           None   \n",
       "2019-02-27 2.0               100.0         None          2.0           None   \n",
       "\n",
       "                        Correct  DoNotCorrect DensityUnit DensityTemp recipeid  \n",
       "QCDate     QCValidation                                                         \n",
       "2013-06-28 1.0            False          True        None        None     None  \n",
       "2017-03-23 2.0            False         False        None        None     None  \n",
       "NaT        2.0            False         False        None        None     None  \n",
       "           2.0            False         False        None        None     None  \n",
       "2019-02-27 2.0            False         False        None        None     None  \n",
       "\n",
       "[5 rows x 92 columns]"
      ]
     },
     "execution_count": 35,
     "metadata": {},
     "output_type": "execute_result"
    }
   ],
   "source": [
    "# SET ['QCDate'] & ['QCValidation'] as the INDEX and delete COLUMNS\n",
    "# [2020-02-24]\\\\TEST_METRICS.set_index([TEST_METRICS['QCDate'], TEST_METRICS['QCValidation']])\n",
    "TEST_METRICS.index = [TEST_METRICS['QCDate'], TEST_METRICS['QCValidation']]\n",
    "del TEST_METRICS['QCDate'], TEST_METRICS['QCValidation']\n",
    "TEST_METRICS.sample(5)"
   ]
  },
  {
   "cell_type": "raw",
   "metadata": {},
   "source": [
    "TEST_METRICS.index =  = df_QCMetrics.reindex(['QCDate', 'QCValidation'], inplace=False)"
   ]
  },
  {
   "cell_type": "code",
   "execution_count": 36,
   "metadata": {
    "ExecuteTime": {
     "end_time": "2020-02-25T21:02:47.974815Z",
     "start_time": "2020-02-25T21:02:47.408808Z"
    }
   },
   "outputs": [
    {
     "data": {
      "text/plain": [
       "(1987-01-01 00:00:00, 1.0)     2\n",
       "(1989-01-01 00:00:00, 1.0)     1\n",
       "(1991-01-01 00:00:00, 1.0)     1\n",
       "(1991-01-01 00:00:00, 2.0)     3\n",
       "(1992-01-01 00:00:00, 1.0)     1\n",
       "                              ..\n",
       "(2020-02-25 00:00:00, 1.0)    30\n",
       "(2020-02-26 00:00:00, 1.0)    33\n",
       "(2020-02-26 00:00:00, 3.0)     2\n",
       "(2020-02-27 00:00:00, 1.0)    29\n",
       "(NaT, nan)                     1\n",
       "Name: PfBatchID, Length: 11055, dtype: int64"
      ]
     },
     "execution_count": 36,
     "metadata": {},
     "output_type": "execute_result"
    }
   ],
   "source": [
    "TEST_METRICS.groupby(TEST_METRICS.index)['PfBatchID'].count()"
   ]
  },
  {
   "cell_type": "code",
   "execution_count": 37,
   "metadata": {
    "ExecuteTime": {
     "end_time": "2020-02-25T21:02:48.750825Z",
     "start_time": "2020-02-25T21:02:47.976815Z"
    }
   },
   "outputs": [
    {
     "name": "stdout",
     "output_type": "stream",
     "text": [
      "FAIL!\n",
      "\n",
      "TypeError:\n",
      "\tOnly valid with:\n",
      "\t\tDatetimeIndex,\n",
      "\t\tTimedeltaIndex,\n",
      "\t\tPeriodIndex;\n",
      "\t\t\tbut got an instance of 'MultiIndex'\n"
     ]
    }
   ],
   "source": [
    "try: # {\n",
    "    TEST_METRICS.resample(\"D\").count()\n",
    "# }\n",
    "except: # {\n",
    "    print(\"FAIL!\\n\\nTypeError:\\n\\tOnly valid with:\\n\\t\\tDatetimeIndex,\\n\\t\\tTimedeltaIndex,\\n\\t\\tPeriodIndex;\\n\\t\\t\\tbut got an instance of 'MultiIndex'\")\n",
    "# }"
   ]
  },
  {
   "cell_type": "code",
   "execution_count": 38,
   "metadata": {
    "ExecuteTime": {
     "end_time": "2020-02-25T21:02:58.357459Z",
     "start_time": "2020-02-25T21:02:48.752825Z"
    }
   },
   "outputs": [],
   "source": [
    "TEST_METRICS.to_csv(\"test_METRICS_index.csv\", index=True)"
   ]
  },
  {
   "cell_type": "markdown",
   "metadata": {},
   "source": [
    "---\n",
    "# CHANGE `index` of `df_QCMetrics`:"
   ]
  },
  {
   "cell_type": "markdown",
   "metadata": {},
   "source": [
    "---\n",
    "## *BEFORE setting `index`:*"
   ]
  },
  {
   "cell_type": "code",
   "execution_count": 39,
   "metadata": {
    "ExecuteTime": {
     "end_time": "2020-02-25T21:02:58.402458Z",
     "start_time": "2020-02-25T21:02:58.359461Z"
    }
   },
   "outputs": [
    {
     "data": {
      "text/html": [
       "<div>\n",
       "<style scoped>\n",
       "    .dataframe tbody tr th:only-of-type {\n",
       "        vertical-align: middle;\n",
       "    }\n",
       "\n",
       "    .dataframe tbody tr th {\n",
       "        vertical-align: top;\n",
       "    }\n",
       "\n",
       "    .dataframe thead th {\n",
       "        text-align: right;\n",
       "    }\n",
       "</style>\n",
       "<table border=\"1\" class=\"dataframe\">\n",
       "  <thead>\n",
       "    <tr style=\"text-align: right;\">\n",
       "      <th></th>\n",
       "      <th>ProductID</th>\n",
       "      <th>ProductNo</th>\n",
       "      <th>ProductName</th>\n",
       "      <th>LineID</th>\n",
       "      <th>Description</th>\n",
       "      <th>Specials</th>\n",
       "      <th>OriginationDate</th>\n",
       "      <th>EntryDate</th>\n",
       "      <th>Status</th>\n",
       "      <th>MatrixNumber</th>\n",
       "      <th>...</th>\n",
       "      <th>QCValidation</th>\n",
       "      <th>FgInvCount</th>\n",
       "      <th>FgAccpacNote</th>\n",
       "      <th>CofAHeaderNo</th>\n",
       "      <th>QCChromatogram</th>\n",
       "      <th>Correct</th>\n",
       "      <th>DoNotCorrect</th>\n",
       "      <th>DensityUnit</th>\n",
       "      <th>DensityTemp</th>\n",
       "      <th>recipeid</th>\n",
       "    </tr>\n",
       "  </thead>\n",
       "  <tbody>\n",
       "    <tr>\n",
       "      <td>65388</td>\n",
       "      <td>46372.0</td>\n",
       "      <td>JHP-157</td>\n",
       "      <td>hexane/methylene chloride</td>\n",
       "      <td>11.0</td>\n",
       "      <td>None</td>\n",
       "      <td>None</td>\n",
       "      <td>2010-09-03</td>\n",
       "      <td>2010-09-03</td>\n",
       "      <td>solvent</td>\n",
       "      <td>JHP-157</td>\n",
       "      <td>...</td>\n",
       "      <td>1.0</td>\n",
       "      <td>NaN</td>\n",
       "      <td>None</td>\n",
       "      <td>15.0</td>\n",
       "      <td>None</td>\n",
       "      <td>False</td>\n",
       "      <td>True</td>\n",
       "      <td>None</td>\n",
       "      <td>None</td>\n",
       "      <td>None</td>\n",
       "    </tr>\n",
       "    <tr>\n",
       "      <td>16505</td>\n",
       "      <td>41635.0</td>\n",
       "      <td>CUS-11593</td>\n",
       "      <td>Custom Standard</td>\n",
       "      <td>7.0</td>\n",
       "      <td>None</td>\n",
       "      <td>None</td>\n",
       "      <td>2010-01-06</td>\n",
       "      <td>2011-05-09</td>\n",
       "      <td>None</td>\n",
       "      <td>JHP-021</td>\n",
       "      <td>...</td>\n",
       "      <td>1.0</td>\n",
       "      <td>17.0</td>\n",
       "      <td>None</td>\n",
       "      <td>1.0</td>\n",
       "      <td>None</td>\n",
       "      <td>False</td>\n",
       "      <td>True</td>\n",
       "      <td>None</td>\n",
       "      <td>None</td>\n",
       "      <td>None</td>\n",
       "    </tr>\n",
       "    <tr>\n",
       "      <td>39361</td>\n",
       "      <td>8481.0</td>\n",
       "      <td>CUS-5604</td>\n",
       "      <td>Custom Standard</td>\n",
       "      <td>7.0</td>\n",
       "      <td>None</td>\n",
       "      <td>None</td>\n",
       "      <td>2004-05-27</td>\n",
       "      <td>2004-05-27</td>\n",
       "      <td>None</td>\n",
       "      <td>JHP-039</td>\n",
       "      <td>...</td>\n",
       "      <td>1.0</td>\n",
       "      <td>5.0</td>\n",
       "      <td>None</td>\n",
       "      <td>1.0</td>\n",
       "      <td>None</td>\n",
       "      <td>False</td>\n",
       "      <td>False</td>\n",
       "      <td>None</td>\n",
       "      <td>None</td>\n",
       "      <td>None</td>\n",
       "    </tr>\n",
       "    <tr>\n",
       "      <td>94413</td>\n",
       "      <td>65312.0</td>\n",
       "      <td>STK-01388</td>\n",
       "      <td>CUS-14802  B  1000 µg/mL  in Methanol Stock (S...</td>\n",
       "      <td>16.0</td>\n",
       "      <td>None</td>\n",
       "      <td>None</td>\n",
       "      <td>2013-06-06</td>\n",
       "      <td>2013-06-06</td>\n",
       "      <td>None</td>\n",
       "      <td>JHP-021</td>\n",
       "      <td>...</td>\n",
       "      <td>1.0</td>\n",
       "      <td>NaN</td>\n",
       "      <td>no action</td>\n",
       "      <td>14.0</td>\n",
       "      <td>None</td>\n",
       "      <td>True</td>\n",
       "      <td>False</td>\n",
       "      <td>None</td>\n",
       "      <td>None</td>\n",
       "      <td>None</td>\n",
       "    </tr>\n",
       "    <tr>\n",
       "      <td>97480</td>\n",
       "      <td>99447.0</td>\n",
       "      <td>STK-03211</td>\n",
       "      <td>RPCM-245-1 Partial 100 ug/ml in Isooctane Stock A</td>\n",
       "      <td>16.0</td>\n",
       "      <td>None</td>\n",
       "      <td>None</td>\n",
       "      <td>2017-09-20</td>\n",
       "      <td>2017-09-20</td>\n",
       "      <td>None</td>\n",
       "      <td>JHP-018</td>\n",
       "      <td>...</td>\n",
       "      <td>1.0</td>\n",
       "      <td>NaN</td>\n",
       "      <td>None</td>\n",
       "      <td>14.0</td>\n",
       "      <td>None</td>\n",
       "      <td>True</td>\n",
       "      <td>False</td>\n",
       "      <td>None</td>\n",
       "      <td>None</td>\n",
       "      <td>None</td>\n",
       "    </tr>\n",
       "  </tbody>\n",
       "</table>\n",
       "<p>5 rows × 94 columns</p>\n",
       "</div>"
      ],
      "text/plain": [
       "       ProductID  ProductNo  \\\n",
       "65388    46372.0    JHP-157   \n",
       "16505    41635.0  CUS-11593   \n",
       "39361     8481.0   CUS-5604   \n",
       "94413    65312.0  STK-01388   \n",
       "97480    99447.0  STK-03211   \n",
       "\n",
       "                                             ProductName  LineID Description  \\\n",
       "65388                          hexane/methylene chloride    11.0        None   \n",
       "16505                                    Custom Standard     7.0        None   \n",
       "39361                                    Custom Standard     7.0        None   \n",
       "94413  CUS-14802  B  1000 µg/mL  in Methanol Stock (S...    16.0        None   \n",
       "97480  RPCM-245-1 Partial 100 ug/ml in Isooctane Stock A    16.0        None   \n",
       "\n",
       "      Specials OriginationDate  EntryDate   Status MatrixNumber  ...  \\\n",
       "65388     None      2010-09-03 2010-09-03  solvent      JHP-157  ...   \n",
       "16505     None      2010-01-06 2011-05-09     None      JHP-021  ...   \n",
       "39361     None      2004-05-27 2004-05-27     None      JHP-039  ...   \n",
       "94413     None      2013-06-06 2013-06-06     None      JHP-021  ...   \n",
       "97480     None      2017-09-20 2017-09-20     None      JHP-018  ...   \n",
       "\n",
       "       QCValidation FgInvCount FgAccpacNote CofAHeaderNo QCChromatogram  \\\n",
       "65388           1.0        NaN         None         15.0           None   \n",
       "16505           1.0       17.0         None          1.0           None   \n",
       "39361           1.0        5.0         None          1.0           None   \n",
       "94413           1.0        NaN    no action         14.0           None   \n",
       "97480           1.0        NaN         None         14.0           None   \n",
       "\n",
       "      Correct  DoNotCorrect DensityUnit DensityTemp recipeid  \n",
       "65388   False          True        None        None     None  \n",
       "16505   False          True        None        None     None  \n",
       "39361   False         False        None        None     None  \n",
       "94413    True         False        None        None     None  \n",
       "97480    True         False        None        None     None  \n",
       "\n",
       "[5 rows x 94 columns]"
      ]
     },
     "execution_count": 39,
     "metadata": {},
     "output_type": "execute_result"
    }
   ],
   "source": [
    "df_QCMetrics.sample(5)"
   ]
  },
  {
   "cell_type": "markdown",
   "metadata": {},
   "source": [
    "### Convert `QCMetrics`['QCDate'] from `str` to `datetime`"
   ]
  },
  {
   "cell_type": "code",
   "execution_count": 40,
   "metadata": {
    "ExecuteTime": {
     "end_time": "2020-02-25T21:02:58.411460Z",
     "start_time": "2020-02-25T21:02:58.404460Z"
    }
   },
   "outputs": [],
   "source": [
    "# Convert \"QCMetrics\"['QCDate'] from string to datetime\n",
    "df_QCMetrics['QCDate'] = pd.to_datetime(df_QCMetrics['QCDate'])"
   ]
  },
  {
   "cell_type": "markdown",
   "metadata": {},
   "source": [
    "### set `index` of `df_QCMetrics` to be `QCDate` (after changing `dtype`)"
   ]
  },
  {
   "cell_type": "code",
   "execution_count": 41,
   "metadata": {
    "ExecuteTime": {
     "end_time": "2020-02-25T21:02:58.424457Z",
     "start_time": "2020-02-25T21:02:58.414459Z"
    }
   },
   "outputs": [],
   "source": [
    "# set \"QCmetrics\"\"['QCDate'] as the index and delete column\n",
    "df_QCMetrics.index = df_QCMetrics['QCDate']\n",
    "del df_QCMetrics['QCDate']"
   ]
  },
  {
   "cell_type": "raw",
   "metadata": {
    "raw_mimetype": "text/x-python"
   },
   "source": [
    "df_QCMetrics.dropna(axis=\"columns\", subset=df_QCMetrics.index, how='any', inplace=True)\n",
    "len(df_QCMetrics)"
   ]
  },
  {
   "cell_type": "markdown",
   "metadata": {},
   "source": [
    "---\n",
    "## *AFTER setting `index`:*"
   ]
  },
  {
   "cell_type": "code",
   "execution_count": 42,
   "metadata": {
    "ExecuteTime": {
     "end_time": "2020-02-25T21:02:58.473459Z",
     "start_time": "2020-02-25T21:02:58.426457Z"
    }
   },
   "outputs": [
    {
     "data": {
      "text/html": [
       "<div>\n",
       "<style scoped>\n",
       "    .dataframe tbody tr th:only-of-type {\n",
       "        vertical-align: middle;\n",
       "    }\n",
       "\n",
       "    .dataframe tbody tr th {\n",
       "        vertical-align: top;\n",
       "    }\n",
       "\n",
       "    .dataframe thead th {\n",
       "        text-align: right;\n",
       "    }\n",
       "</style>\n",
       "<table border=\"1\" class=\"dataframe\">\n",
       "  <thead>\n",
       "    <tr style=\"text-align: right;\">\n",
       "      <th></th>\n",
       "      <th>ProductID</th>\n",
       "      <th>ProductNo</th>\n",
       "      <th>ProductName</th>\n",
       "      <th>LineID</th>\n",
       "      <th>Description</th>\n",
       "      <th>Specials</th>\n",
       "      <th>OriginationDate</th>\n",
       "      <th>EntryDate</th>\n",
       "      <th>Status</th>\n",
       "      <th>MatrixNumber</th>\n",
       "      <th>...</th>\n",
       "      <th>QCValidation</th>\n",
       "      <th>FgInvCount</th>\n",
       "      <th>FgAccpacNote</th>\n",
       "      <th>CofAHeaderNo</th>\n",
       "      <th>QCChromatogram</th>\n",
       "      <th>Correct</th>\n",
       "      <th>DoNotCorrect</th>\n",
       "      <th>DensityUnit</th>\n",
       "      <th>DensityTemp</th>\n",
       "      <th>recipeid</th>\n",
       "    </tr>\n",
       "    <tr>\n",
       "      <th>QCDate</th>\n",
       "      <th></th>\n",
       "      <th></th>\n",
       "      <th></th>\n",
       "      <th></th>\n",
       "      <th></th>\n",
       "      <th></th>\n",
       "      <th></th>\n",
       "      <th></th>\n",
       "      <th></th>\n",
       "      <th></th>\n",
       "      <th></th>\n",
       "      <th></th>\n",
       "      <th></th>\n",
       "      <th></th>\n",
       "      <th></th>\n",
       "      <th></th>\n",
       "      <th></th>\n",
       "      <th></th>\n",
       "      <th></th>\n",
       "      <th></th>\n",
       "      <th></th>\n",
       "    </tr>\n",
       "  </thead>\n",
       "  <tbody>\n",
       "    <tr>\n",
       "      <td>2008-09-18</td>\n",
       "      <td>6573.0</td>\n",
       "      <td>PPM-525E-1</td>\n",
       "      <td>Organochlorine Pesticide Standard</td>\n",
       "      <td>1.0</td>\n",
       "      <td>29 analytes @ 100 µg/mL in acetone</td>\n",
       "      <td>None</td>\n",
       "      <td>1999-01-20</td>\n",
       "      <td>2011-05-09</td>\n",
       "      <td>active</td>\n",
       "      <td>JHP-001</td>\n",
       "      <td>...</td>\n",
       "      <td>2.0</td>\n",
       "      <td>68.0</td>\n",
       "      <td>zero out cc-2565 (68) stability</td>\n",
       "      <td>2.0</td>\n",
       "      <td>None</td>\n",
       "      <td>False</td>\n",
       "      <td>True</td>\n",
       "      <td>None</td>\n",
       "      <td>None</td>\n",
       "      <td>None</td>\n",
       "    </tr>\n",
       "    <tr>\n",
       "      <td>2014-08-07</td>\n",
       "      <td>74484.0</td>\n",
       "      <td>PG-104A</td>\n",
       "      <td>Custom Standard</td>\n",
       "      <td>7.0</td>\n",
       "      <td>None</td>\n",
       "      <td>None</td>\n",
       "      <td>2014-07-28</td>\n",
       "      <td>2014-07-28</td>\n",
       "      <td>None</td>\n",
       "      <td>JHP-003</td>\n",
       "      <td>...</td>\n",
       "      <td>1.0</td>\n",
       "      <td>4.0</td>\n",
       "      <td>None</td>\n",
       "      <td>1.0</td>\n",
       "      <td>None</td>\n",
       "      <td>False</td>\n",
       "      <td>False</td>\n",
       "      <td>None</td>\n",
       "      <td>None</td>\n",
       "      <td>None</td>\n",
       "    </tr>\n",
       "    <tr>\n",
       "      <td>2010-04-06</td>\n",
       "      <td>42796.0</td>\n",
       "      <td>CUS-11868</td>\n",
       "      <td>Custom Standard</td>\n",
       "      <td>7.0</td>\n",
       "      <td>None</td>\n",
       "      <td>None</td>\n",
       "      <td>2010-02-23</td>\n",
       "      <td>2011-05-09</td>\n",
       "      <td>None</td>\n",
       "      <td>JHP-001</td>\n",
       "      <td>...</td>\n",
       "      <td>1.0</td>\n",
       "      <td>17.0</td>\n",
       "      <td>None</td>\n",
       "      <td>1.0</td>\n",
       "      <td>None</td>\n",
       "      <td>False</td>\n",
       "      <td>True</td>\n",
       "      <td>None</td>\n",
       "      <td>None</td>\n",
       "      <td>None</td>\n",
       "    </tr>\n",
       "    <tr>\n",
       "      <td>2007-11-27</td>\n",
       "      <td>6097.0</td>\n",
       "      <td>ISM-450-1</td>\n",
       "      <td>Pesticide Degradation Check Standard</td>\n",
       "      <td>1.0</td>\n",
       "      <td>2 analytes in isooctane (2,2,4-trimethylpentane)</td>\n",
       "      <td>None</td>\n",
       "      <td>1999-01-20</td>\n",
       "      <td>2011-05-09</td>\n",
       "      <td>active</td>\n",
       "      <td>JHP-018</td>\n",
       "      <td>...</td>\n",
       "      <td>2.0</td>\n",
       "      <td>194.0</td>\n",
       "      <td>back up</td>\n",
       "      <td>2.0</td>\n",
       "      <td>None</td>\n",
       "      <td>False</td>\n",
       "      <td>True</td>\n",
       "      <td>None</td>\n",
       "      <td>None</td>\n",
       "      <td>None</td>\n",
       "    </tr>\n",
       "    <tr>\n",
       "      <td>2015-05-06</td>\n",
       "      <td>2639.0</td>\n",
       "      <td>ICUS-877</td>\n",
       "      <td>Custom Standard</td>\n",
       "      <td>8.0</td>\n",
       "      <td>None</td>\n",
       "      <td>...</td>\n",
       "      <td>2003-07-25</td>\n",
       "      <td>2009-04-30</td>\n",
       "      <td>None</td>\n",
       "      <td>JHP-509</td>\n",
       "      <td>...</td>\n",
       "      <td>1.0</td>\n",
       "      <td>1.0</td>\n",
       "      <td>None</td>\n",
       "      <td>1.0</td>\n",
       "      <td>None</td>\n",
       "      <td>False</td>\n",
       "      <td>False</td>\n",
       "      <td>None</td>\n",
       "      <td>None</td>\n",
       "      <td>None</td>\n",
       "    </tr>\n",
       "  </tbody>\n",
       "</table>\n",
       "<p>5 rows × 93 columns</p>\n",
       "</div>"
      ],
      "text/plain": [
       "            ProductID   ProductNo                           ProductName  \\\n",
       "QCDate                                                                    \n",
       "2008-09-18     6573.0  PPM-525E-1     Organochlorine Pesticide Standard   \n",
       "2014-08-07    74484.0     PG-104A                       Custom Standard   \n",
       "2010-04-06    42796.0   CUS-11868                       Custom Standard   \n",
       "2007-11-27     6097.0   ISM-450-1  Pesticide Degradation Check Standard   \n",
       "2015-05-06     2639.0    ICUS-877                       Custom Standard   \n",
       "\n",
       "            LineID                                       Description  \\\n",
       "QCDate                                                                 \n",
       "2008-09-18     1.0                29 analytes @ 100 µg/mL in acetone   \n",
       "2014-08-07     7.0                                              None   \n",
       "2010-04-06     7.0                                              None   \n",
       "2007-11-27     1.0  2 analytes in isooctane (2,2,4-trimethylpentane)   \n",
       "2015-05-06     8.0                                              None   \n",
       "\n",
       "                                                     Specials OriginationDate  \\\n",
       "QCDate                                                                          \n",
       "2008-09-18                                               None      1999-01-20   \n",
       "2014-08-07                                               None      2014-07-28   \n",
       "2010-04-06                                               None      2010-02-23   \n",
       "2007-11-27                                               None      1999-01-20   \n",
       "2015-05-06                                                ...      2003-07-25   \n",
       "\n",
       "            EntryDate  Status MatrixNumber  ...  QCValidation FgInvCount  \\\n",
       "QCDate                                      ...                            \n",
       "2008-09-18 2011-05-09  active      JHP-001  ...           2.0       68.0   \n",
       "2014-08-07 2014-07-28    None      JHP-003  ...           1.0        4.0   \n",
       "2010-04-06 2011-05-09    None      JHP-001  ...           1.0       17.0   \n",
       "2007-11-27 2011-05-09  active      JHP-018  ...           2.0      194.0   \n",
       "2015-05-06 2009-04-30    None      JHP-509  ...           1.0        1.0   \n",
       "\n",
       "                               FgAccpacNote CofAHeaderNo QCChromatogram  \\\n",
       "QCDate                                                                    \n",
       "2008-09-18  zero out cc-2565 (68) stability          2.0           None   \n",
       "2014-08-07                             None          1.0           None   \n",
       "2010-04-06                             None          1.0           None   \n",
       "2007-11-27                          back up          2.0           None   \n",
       "2015-05-06                             None          1.0           None   \n",
       "\n",
       "           Correct  DoNotCorrect DensityUnit DensityTemp recipeid  \n",
       "QCDate                                                             \n",
       "2008-09-18   False          True        None        None     None  \n",
       "2014-08-07   False         False        None        None     None  \n",
       "2010-04-06   False          True        None        None     None  \n",
       "2007-11-27   False          True        None        None     None  \n",
       "2015-05-06   False         False        None        None     None  \n",
       "\n",
       "[5 rows x 93 columns]"
      ]
     },
     "execution_count": 42,
     "metadata": {},
     "output_type": "execute_result"
    }
   ],
   "source": [
    "df_QCMetrics.sample(5)"
   ]
  },
  {
   "cell_type": "raw",
   "metadata": {},
   "source": [
    "---\n",
    "## `resample` dataframe with *QCDate* as `index`:"
   ]
  },
  {
   "cell_type": "raw",
   "metadata": {
    "ExecuteTime": {
     "end_time": "2020-02-24T21:50:25.726189Z",
     "start_time": "2020-02-24T21:50:25.713149Z"
    }
   },
   "source": [
    "metrics_month = df_QCMetrics[str(td_one_month_ago):str(test_date)]"
   ]
  },
  {
   "cell_type": "raw",
   "metadata": {},
   "source": [
    "### `groupBy` the `resample`?"
   ]
  },
  {
   "cell_type": "raw",
   "metadata": {
    "raw_mimetype": "text/x-python"
   },
   "source": [
    "merged = pd.concat([df_QCMetrics, df_month_range], join='inner')"
   ]
  },
  {
   "cell_type": "raw",
   "metadata": {
    "raw_mimetype": "text/x-python"
   },
   "source": [
    "merged"
   ]
  },
  {
   "cell_type": "raw",
   "metadata": {
    "raw_mimetype": "text/x-python"
   },
   "source": [
    "merged = df_QCMetrics.join(df_month_range, on = ['QCDate'], how='right', lsuffix='_x')"
   ]
  },
  {
   "cell_type": "markdown",
   "metadata": {},
   "source": [
    "---\n",
    "# create `df_last_month` DataFrame"
   ]
  },
  {
   "cell_type": "markdown",
   "metadata": {},
   "source": [
    "---\n",
    "### View Observations between One Month Ago and Today"
   ]
  },
  {
   "cell_type": "code",
   "execution_count": 43,
   "metadata": {
    "ExecuteTime": {
     "end_time": "2020-02-25T21:02:58.497460Z",
     "start_time": "2020-02-25T21:02:58.476461Z"
    }
   },
   "outputs": [
    {
     "data": {
      "text/plain": [
       "637"
      ]
     },
     "execution_count": 43,
     "metadata": {},
     "output_type": "execute_result"
    }
   ],
   "source": [
    "df_last_month = df_QCMetrics[str(one_month_ago):str(test_date)]\n",
    "len(df_last_month)\n",
    "# [2020-02-22]\\\\df_last_month.to_csv(\"last_month.csv\", index=True)"
   ]
  },
  {
   "cell_type": "code",
   "execution_count": 44,
   "metadata": {
    "ExecuteTime": {
     "end_time": "2020-02-25T21:02:58.546460Z",
     "start_time": "2020-02-25T21:02:58.501461Z"
    }
   },
   "outputs": [
    {
     "data": {
      "text/html": [
       "<div>\n",
       "<style scoped>\n",
       "    .dataframe tbody tr th:only-of-type {\n",
       "        vertical-align: middle;\n",
       "    }\n",
       "\n",
       "    .dataframe tbody tr th {\n",
       "        vertical-align: top;\n",
       "    }\n",
       "\n",
       "    .dataframe thead th {\n",
       "        text-align: right;\n",
       "    }\n",
       "</style>\n",
       "<table border=\"1\" class=\"dataframe\">\n",
       "  <thead>\n",
       "    <tr style=\"text-align: right;\">\n",
       "      <th></th>\n",
       "      <th>ProductID</th>\n",
       "      <th>ProductNo</th>\n",
       "      <th>ProductName</th>\n",
       "      <th>LineID</th>\n",
       "      <th>Description</th>\n",
       "      <th>Specials</th>\n",
       "      <th>OriginationDate</th>\n",
       "      <th>EntryDate</th>\n",
       "      <th>Status</th>\n",
       "      <th>MatrixNumber</th>\n",
       "      <th>...</th>\n",
       "      <th>QCValidation</th>\n",
       "      <th>FgInvCount</th>\n",
       "      <th>FgAccpacNote</th>\n",
       "      <th>CofAHeaderNo</th>\n",
       "      <th>QCChromatogram</th>\n",
       "      <th>Correct</th>\n",
       "      <th>DoNotCorrect</th>\n",
       "      <th>DensityUnit</th>\n",
       "      <th>DensityTemp</th>\n",
       "      <th>recipeid</th>\n",
       "    </tr>\n",
       "    <tr>\n",
       "      <th>QCDate</th>\n",
       "      <th></th>\n",
       "      <th></th>\n",
       "      <th></th>\n",
       "      <th></th>\n",
       "      <th></th>\n",
       "      <th></th>\n",
       "      <th></th>\n",
       "      <th></th>\n",
       "      <th></th>\n",
       "      <th></th>\n",
       "      <th></th>\n",
       "      <th></th>\n",
       "      <th></th>\n",
       "      <th></th>\n",
       "      <th></th>\n",
       "      <th></th>\n",
       "      <th></th>\n",
       "      <th></th>\n",
       "      <th></th>\n",
       "      <th></th>\n",
       "      <th></th>\n",
       "    </tr>\n",
       "  </thead>\n",
       "  <tbody>\n",
       "    <tr>\n",
       "      <td>2020-02-19</td>\n",
       "      <td>77931.0</td>\n",
       "      <td>PST-2570A1000</td>\n",
       "      <td>Quizalofop-ethyl Standard</td>\n",
       "      <td>1.0</td>\n",
       "      <td>None</td>\n",
       "      <td>None</td>\n",
       "      <td>2014-12-19</td>\n",
       "      <td>2014-12-19</td>\n",
       "      <td>None</td>\n",
       "      <td>JHP-003</td>\n",
       "      <td>...</td>\n",
       "      <td>1.0</td>\n",
       "      <td>10.0</td>\n",
       "      <td>Quarantine cp-3826a [25] retain</td>\n",
       "      <td>1.0</td>\n",
       "      <td>None</td>\n",
       "      <td>False</td>\n",
       "      <td>False</td>\n",
       "      <td>None</td>\n",
       "      <td>None</td>\n",
       "      <td>None</td>\n",
       "    </tr>\n",
       "    <tr>\n",
       "      <td>2020-02-21</td>\n",
       "      <td>7657.0</td>\n",
       "      <td>SVM-8271-1</td>\n",
       "      <td>Semi-Volatiles Standard</td>\n",
       "      <td>1.0</td>\n",
       "      <td>35 analytes @ 1000 µg/mL in methylene chloride...</td>\n",
       "      <td>None</td>\n",
       "      <td>1999-01-20</td>\n",
       "      <td>2011-05-09</td>\n",
       "      <td>active</td>\n",
       "      <td>JHP-208</td>\n",
       "      <td>...</td>\n",
       "      <td>1.0</td>\n",
       "      <td>20.0</td>\n",
       "      <td>back up</td>\n",
       "      <td>1.0</td>\n",
       "      <td>None</td>\n",
       "      <td>False</td>\n",
       "      <td>False</td>\n",
       "      <td>None</td>\n",
       "      <td>None</td>\n",
       "      <td>None</td>\n",
       "    </tr>\n",
       "    <tr>\n",
       "      <td>2020-02-05</td>\n",
       "      <td>5462.0</td>\n",
       "      <td>5080-8769-1</td>\n",
       "      <td>Boiling Point Calibration Sample #3</td>\n",
       "      <td>7.0</td>\n",
       "      <td>None</td>\n",
       "      <td>agilent gc</td>\n",
       "      <td>1997-05-01</td>\n",
       "      <td>2004-03-30</td>\n",
       "      <td>oem</td>\n",
       "      <td>JHP-035</td>\n",
       "      <td>...</td>\n",
       "      <td>1.0</td>\n",
       "      <td>471.0</td>\n",
       "      <td>Quarantine cs-2611 [1311] retain</td>\n",
       "      <td>1.0</td>\n",
       "      <td>None</td>\n",
       "      <td>False</td>\n",
       "      <td>False</td>\n",
       "      <td>None</td>\n",
       "      <td>None</td>\n",
       "      <td>None</td>\n",
       "    </tr>\n",
       "    <tr>\n",
       "      <td>2020-02-06</td>\n",
       "      <td>112921.0</td>\n",
       "      <td>5191-3926-1</td>\n",
       "      <td>Cannabinol (CBN)</td>\n",
       "      <td>7.0</td>\n",
       "      <td>None</td>\n",
       "      <td>None</td>\n",
       "      <td>2019-11-06</td>\n",
       "      <td>2019-11-06</td>\n",
       "      <td>None</td>\n",
       "      <td>JHP-021</td>\n",
       "      <td>...</td>\n",
       "      <td>1.0</td>\n",
       "      <td>26.0</td>\n",
       "      <td>None</td>\n",
       "      <td>1.0</td>\n",
       "      <td>None</td>\n",
       "      <td>False</td>\n",
       "      <td>False</td>\n",
       "      <td>None</td>\n",
       "      <td>None</td>\n",
       "      <td>None</td>\n",
       "    </tr>\n",
       "    <tr>\n",
       "      <td>2020-02-25</td>\n",
       "      <td>102341.0</td>\n",
       "      <td>G2037A-1</td>\n",
       "      <td>MALDI-TOF Alpha-CHC Acid Matrix Kit</td>\n",
       "      <td>7.0</td>\n",
       "      <td>None</td>\n",
       "      <td>None</td>\n",
       "      <td>2018-02-01</td>\n",
       "      <td>2018-02-01</td>\n",
       "      <td>None</td>\n",
       "      <td>JHP-646</td>\n",
       "      <td>...</td>\n",
       "      <td>1.0</td>\n",
       "      <td>25.0</td>\n",
       "      <td>Quarantine 0006481601 [34] &amp; cs-3735 [37]</td>\n",
       "      <td>1.0</td>\n",
       "      <td>None</td>\n",
       "      <td>False</td>\n",
       "      <td>False</td>\n",
       "      <td>None</td>\n",
       "      <td>None</td>\n",
       "      <td>None</td>\n",
       "    </tr>\n",
       "  </tbody>\n",
       "</table>\n",
       "<p>5 rows × 93 columns</p>\n",
       "</div>"
      ],
      "text/plain": [
       "            ProductID      ProductNo                          ProductName  \\\n",
       "QCDate                                                                      \n",
       "2020-02-19    77931.0  PST-2570A1000            Quizalofop-ethyl Standard   \n",
       "2020-02-21     7657.0     SVM-8271-1              Semi-Volatiles Standard   \n",
       "2020-02-05     5462.0    5080-8769-1  Boiling Point Calibration Sample #3   \n",
       "2020-02-06   112921.0    5191-3926-1                     Cannabinol (CBN)   \n",
       "2020-02-25   102341.0       G2037A-1  MALDI-TOF Alpha-CHC Acid Matrix Kit   \n",
       "\n",
       "            LineID                                        Description  \\\n",
       "QCDate                                                                  \n",
       "2020-02-19     1.0                                               None   \n",
       "2020-02-21     1.0  35 analytes @ 1000 µg/mL in methylene chloride...   \n",
       "2020-02-05     7.0                                               None   \n",
       "2020-02-06     7.0                                               None   \n",
       "2020-02-25     7.0                                               None   \n",
       "\n",
       "              Specials OriginationDate  EntryDate  Status MatrixNumber  ...  \\\n",
       "QCDate                                                                  ...   \n",
       "2020-02-19        None      2014-12-19 2014-12-19    None      JHP-003  ...   \n",
       "2020-02-21        None      1999-01-20 2011-05-09  active      JHP-208  ...   \n",
       "2020-02-05  agilent gc      1997-05-01 2004-03-30     oem      JHP-035  ...   \n",
       "2020-02-06        None      2019-11-06 2019-11-06    None      JHP-021  ...   \n",
       "2020-02-25        None      2018-02-01 2018-02-01    None      JHP-646  ...   \n",
       "\n",
       "            QCValidation FgInvCount  \\\n",
       "QCDate                                \n",
       "2020-02-19           1.0       10.0   \n",
       "2020-02-21           1.0       20.0   \n",
       "2020-02-05           1.0      471.0   \n",
       "2020-02-06           1.0       26.0   \n",
       "2020-02-25           1.0       25.0   \n",
       "\n",
       "                                         FgAccpacNote CofAHeaderNo  \\\n",
       "QCDate                                                               \n",
       "2020-02-19            Quarantine cp-3826a [25] retain          1.0   \n",
       "2020-02-21                                    back up          1.0   \n",
       "2020-02-05           Quarantine cs-2611 [1311] retain          1.0   \n",
       "2020-02-06                                       None          1.0   \n",
       "2020-02-25  Quarantine 0006481601 [34] & cs-3735 [37]          1.0   \n",
       "\n",
       "           QCChromatogram Correct  DoNotCorrect DensityUnit DensityTemp  \\\n",
       "QCDate                                                                    \n",
       "2020-02-19           None   False         False        None        None   \n",
       "2020-02-21           None   False         False        None        None   \n",
       "2020-02-05           None   False         False        None        None   \n",
       "2020-02-06           None   False         False        None        None   \n",
       "2020-02-25           None   False         False        None        None   \n",
       "\n",
       "           recipeid  \n",
       "QCDate               \n",
       "2020-02-19     None  \n",
       "2020-02-21     None  \n",
       "2020-02-05     None  \n",
       "2020-02-06     None  \n",
       "2020-02-25     None  \n",
       "\n",
       "[5 rows x 93 columns]"
      ]
     },
     "execution_count": 44,
     "metadata": {},
     "output_type": "execute_result"
    }
   ],
   "source": [
    "df_last_month.sample(5)"
   ]
  },
  {
   "cell_type": "code",
   "execution_count": 45,
   "metadata": {
    "ExecuteTime": {
     "end_time": "2020-02-25T21:02:58.555461Z",
     "start_time": "2020-02-25T21:02:58.549459Z"
    }
   },
   "outputs": [
    {
     "data": {
      "text/plain": [
       "DatetimeIndex(['2020-01-28', '2020-02-19', '2020-02-07', '2020-02-18',\n",
       "               '2020-02-25', '2020-02-24', '2020-01-30', '2020-01-30',\n",
       "               '2020-02-05', '2020-02-13',\n",
       "               ...\n",
       "               '2020-02-21', '2020-02-04', '2020-01-29', '2020-02-26',\n",
       "               '2020-02-26', '2020-02-18', '2020-02-06', '2020-02-07',\n",
       "               '2020-02-19', '2020-01-31'],\n",
       "              dtype='datetime64[ns]', name='QCDate', length=637, freq=None)"
      ]
     },
     "execution_count": 45,
     "metadata": {},
     "output_type": "execute_result"
    }
   ],
   "source": [
    "df_last_month.index"
   ]
  },
  {
   "cell_type": "markdown",
   "metadata": {},
   "source": [
    "---\n",
    "# create `df_daily_levels` frame"
   ]
  },
  {
   "cell_type": "markdown",
   "metadata": {},
   "source": [
    "---\n",
    "\n",
    "## GroupBy ([df_last_month.index, 'QCValidation'])['PfBatchID']"
   ]
  },
  {
   "cell_type": "raw",
   "metadata": {
    "ExecuteTime": {
     "end_time": "2020-02-24T15:58:49.979563Z",
     "start_time": "2020-02-24T15:58:49.972564Z"
    },
    "raw_mimetype": "text/x-python"
   },
   "source": [
    "df_last_month.set_index([df_last_month.index, 'ProductLevel'], inplace=True)"
   ]
  },
  {
   "cell_type": "raw",
   "metadata": {
    "raw_mimetype": "text/x-python"
   },
   "source": [
    "df_last_month.QCValidation = pd.Categorical(df_last_month.QCValidation, ['1.0', '2.0', '3.0'], ordered=True)"
   ]
  },
  {
   "cell_type": "raw",
   "metadata": {
    "raw_mimetype": "text/x-python"
   },
   "source": [
    "print(df_last_month.QCValidation)"
   ]
  },
  {
   "cell_type": "markdown",
   "metadata": {},
   "source": [
    "### TEST `CATEGORICAL-INDEX` BELOW:"
   ]
  },
  {
   "cell_type": "raw",
   "metadata": {
    "ExecuteTime": {
     "end_time": "2020-02-25T16:54:07.654098Z",
     "start_time": "2020-02-25T16:54:07.645098Z"
    },
    "raw_mimetype": "text/x-python"
   },
   "source": [
    "# c = pd.Categorical(['1.0', '2.0', '3.0'])\n",
    "pd.CategoricalIndex(c, name='QCValidation')"
   ]
  },
  {
   "cell_type": "code",
   "execution_count": 46,
   "metadata": {
    "ExecuteTime": {
     "end_time": "2020-02-25T21:02:58.574459Z",
     "start_time": "2020-02-25T21:02:58.558463Z"
    }
   },
   "outputs": [
    {
     "data": {
      "text/plain": [
       "QCDate\n",
       "2020-01-27    35\n",
       "2020-01-28    14\n",
       "2020-01-29    24\n",
       "2020-01-30    22\n",
       "2020-01-31     8\n",
       "2020-02-03    13\n",
       "2020-02-04    33\n",
       "2020-02-05    24\n",
       "2020-02-06    42\n",
       "2020-02-07    32\n",
       "2020-02-08     2\n",
       "2020-02-10    47\n",
       "2020-02-11    41\n",
       "2020-02-12    24\n",
       "2020-02-13    34\n",
       "2020-02-14    24\n",
       "2020-02-15     2\n",
       "2020-02-18    31\n",
       "2020-02-19    37\n",
       "2020-02-20    29\n",
       "2020-02-21    36\n",
       "2020-02-24    18\n",
       "2020-02-25    30\n",
       "2020-02-26    35\n",
       "Name: PfBatchID, dtype: int64"
      ]
     },
     "execution_count": 46,
     "metadata": {},
     "output_type": "execute_result"
    }
   ],
   "source": [
    "''' Groupby single column in pandas python'''\n",
    "df_last_month.groupby(df_last_month.index)['PfBatchID'].count()"
   ]
  },
  {
   "cell_type": "code",
   "execution_count": 47,
   "metadata": {
    "ExecuteTime": {
     "end_time": "2020-02-25T21:02:58.603461Z",
     "start_time": "2020-02-25T21:02:58.577460Z"
    }
   },
   "outputs": [
    {
     "data": {
      "text/html": [
       "<div>\n",
       "<style scoped>\n",
       "    .dataframe tbody tr th:only-of-type {\n",
       "        vertical-align: middle;\n",
       "    }\n",
       "\n",
       "    .dataframe tbody tr th {\n",
       "        vertical-align: top;\n",
       "    }\n",
       "\n",
       "    .dataframe thead th {\n",
       "        text-align: right;\n",
       "    }\n",
       "</style>\n",
       "<table border=\"1\" class=\"dataframe\">\n",
       "  <thead>\n",
       "    <tr style=\"text-align: right;\">\n",
       "      <th></th>\n",
       "      <th></th>\n",
       "      <th>Count</th>\n",
       "    </tr>\n",
       "    <tr>\n",
       "      <th>QCDate</th>\n",
       "      <th>QCValidation</th>\n",
       "      <th></th>\n",
       "    </tr>\n",
       "  </thead>\n",
       "  <tbody>\n",
       "    <tr>\n",
       "      <td>2020-01-27</td>\n",
       "      <td>1.0</td>\n",
       "      <td>35</td>\n",
       "    </tr>\n",
       "    <tr>\n",
       "      <td>2020-01-28</td>\n",
       "      <td>1.0</td>\n",
       "      <td>14</td>\n",
       "    </tr>\n",
       "    <tr>\n",
       "      <td>2020-01-29</td>\n",
       "      <td>1.0</td>\n",
       "      <td>24</td>\n",
       "    </tr>\n",
       "    <tr>\n",
       "      <td rowspan=\"2\" valign=\"top\">2020-01-30</td>\n",
       "      <td>1.0</td>\n",
       "      <td>21</td>\n",
       "    </tr>\n",
       "    <tr>\n",
       "      <td>2.0</td>\n",
       "      <td>1</td>\n",
       "    </tr>\n",
       "    <tr>\n",
       "      <td>2020-01-31</td>\n",
       "      <td>1.0</td>\n",
       "      <td>8</td>\n",
       "    </tr>\n",
       "    <tr>\n",
       "      <td rowspan=\"3\" valign=\"top\">2020-02-03</td>\n",
       "      <td>1.0</td>\n",
       "      <td>10</td>\n",
       "    </tr>\n",
       "    <tr>\n",
       "      <td>2.0</td>\n",
       "      <td>1</td>\n",
       "    </tr>\n",
       "    <tr>\n",
       "      <td>3.0</td>\n",
       "      <td>2</td>\n",
       "    </tr>\n",
       "    <tr>\n",
       "      <td>2020-02-04</td>\n",
       "      <td>1.0</td>\n",
       "      <td>33</td>\n",
       "    </tr>\n",
       "    <tr>\n",
       "      <td rowspan=\"2\" valign=\"top\">2020-02-05</td>\n",
       "      <td>1.0</td>\n",
       "      <td>23</td>\n",
       "    </tr>\n",
       "    <tr>\n",
       "      <td>3.0</td>\n",
       "      <td>1</td>\n",
       "    </tr>\n",
       "    <tr>\n",
       "      <td rowspan=\"2\" valign=\"top\">2020-02-06</td>\n",
       "      <td>1.0</td>\n",
       "      <td>40</td>\n",
       "    </tr>\n",
       "    <tr>\n",
       "      <td>3.0</td>\n",
       "      <td>2</td>\n",
       "    </tr>\n",
       "    <tr>\n",
       "      <td rowspan=\"2\" valign=\"top\">2020-02-07</td>\n",
       "      <td>1.0</td>\n",
       "      <td>29</td>\n",
       "    </tr>\n",
       "    <tr>\n",
       "      <td>2.0</td>\n",
       "      <td>3</td>\n",
       "    </tr>\n",
       "    <tr>\n",
       "      <td>2020-02-08</td>\n",
       "      <td>1.0</td>\n",
       "      <td>2</td>\n",
       "    </tr>\n",
       "    <tr>\n",
       "      <td rowspan=\"2\" valign=\"top\">2020-02-10</td>\n",
       "      <td>1.0</td>\n",
       "      <td>46</td>\n",
       "    </tr>\n",
       "    <tr>\n",
       "      <td>3.0</td>\n",
       "      <td>1</td>\n",
       "    </tr>\n",
       "    <tr>\n",
       "      <td>2020-02-11</td>\n",
       "      <td>1.0</td>\n",
       "      <td>41</td>\n",
       "    </tr>\n",
       "    <tr>\n",
       "      <td>2020-02-12</td>\n",
       "      <td>1.0</td>\n",
       "      <td>24</td>\n",
       "    </tr>\n",
       "    <tr>\n",
       "      <td rowspan=\"2\" valign=\"top\">2020-02-13</td>\n",
       "      <td>1.0</td>\n",
       "      <td>33</td>\n",
       "    </tr>\n",
       "    <tr>\n",
       "      <td>3.0</td>\n",
       "      <td>1</td>\n",
       "    </tr>\n",
       "    <tr>\n",
       "      <td>2020-02-14</td>\n",
       "      <td>1.0</td>\n",
       "      <td>24</td>\n",
       "    </tr>\n",
       "    <tr>\n",
       "      <td>2020-02-15</td>\n",
       "      <td>1.0</td>\n",
       "      <td>2</td>\n",
       "    </tr>\n",
       "    <tr>\n",
       "      <td rowspan=\"3\" valign=\"top\">2020-02-18</td>\n",
       "      <td>1.0</td>\n",
       "      <td>29</td>\n",
       "    </tr>\n",
       "    <tr>\n",
       "      <td>2.0</td>\n",
       "      <td>1</td>\n",
       "    </tr>\n",
       "    <tr>\n",
       "      <td>3.0</td>\n",
       "      <td>1</td>\n",
       "    </tr>\n",
       "    <tr>\n",
       "      <td>2020-02-19</td>\n",
       "      <td>1.0</td>\n",
       "      <td>37</td>\n",
       "    </tr>\n",
       "    <tr>\n",
       "      <td>2020-02-20</td>\n",
       "      <td>1.0</td>\n",
       "      <td>29</td>\n",
       "    </tr>\n",
       "    <tr>\n",
       "      <td>2020-02-21</td>\n",
       "      <td>1.0</td>\n",
       "      <td>36</td>\n",
       "    </tr>\n",
       "    <tr>\n",
       "      <td rowspan=\"3\" valign=\"top\">2020-02-24</td>\n",
       "      <td>1.0</td>\n",
       "      <td>14</td>\n",
       "    </tr>\n",
       "    <tr>\n",
       "      <td>2.0</td>\n",
       "      <td>2</td>\n",
       "    </tr>\n",
       "    <tr>\n",
       "      <td>3.0</td>\n",
       "      <td>2</td>\n",
       "    </tr>\n",
       "    <tr>\n",
       "      <td>2020-02-25</td>\n",
       "      <td>1.0</td>\n",
       "      <td>30</td>\n",
       "    </tr>\n",
       "    <tr>\n",
       "      <td rowspan=\"2\" valign=\"top\">2020-02-26</td>\n",
       "      <td>1.0</td>\n",
       "      <td>33</td>\n",
       "    </tr>\n",
       "    <tr>\n",
       "      <td>3.0</td>\n",
       "      <td>2</td>\n",
       "    </tr>\n",
       "  </tbody>\n",
       "</table>\n",
       "</div>"
      ],
      "text/plain": [
       "                         Count\n",
       "QCDate     QCValidation       \n",
       "2020-01-27 1.0              35\n",
       "2020-01-28 1.0              14\n",
       "2020-01-29 1.0              24\n",
       "2020-01-30 1.0              21\n",
       "           2.0               1\n",
       "2020-01-31 1.0               8\n",
       "2020-02-03 1.0              10\n",
       "           2.0               1\n",
       "           3.0               2\n",
       "2020-02-04 1.0              33\n",
       "2020-02-05 1.0              23\n",
       "           3.0               1\n",
       "2020-02-06 1.0              40\n",
       "           3.0               2\n",
       "2020-02-07 1.0              29\n",
       "           2.0               3\n",
       "2020-02-08 1.0               2\n",
       "2020-02-10 1.0              46\n",
       "           3.0               1\n",
       "2020-02-11 1.0              41\n",
       "2020-02-12 1.0              24\n",
       "2020-02-13 1.0              33\n",
       "           3.0               1\n",
       "2020-02-14 1.0              24\n",
       "2020-02-15 1.0               2\n",
       "2020-02-18 1.0              29\n",
       "           2.0               1\n",
       "           3.0               1\n",
       "2020-02-19 1.0              37\n",
       "2020-02-20 1.0              29\n",
       "2020-02-21 1.0              36\n",
       "2020-02-24 1.0              14\n",
       "           2.0               2\n",
       "           3.0               2\n",
       "2020-02-25 1.0              30\n",
       "2020-02-26 1.0              33\n",
       "           3.0               2"
      ]
     },
     "execution_count": 47,
     "metadata": {},
     "output_type": "execute_result"
    }
   ],
   "source": [
    "''' Groupby multiple columns '''\n",
    "df_daily_levels = pd.DataFrame(data=df_last_month.groupby([df_last_month.index,'QCValidation'])['PfBatchID'].count())\n",
    "# [2020-02-24]\\\\f_daily_levels = pd.DataFrame(data=df_last_month.groupby([df_last_month.index, 'ProductLevel'])['PfBatchID'].count())\n",
    "# RENAME COLUMNS\n",
    "df_daily_levels.rename(columns={'PfBatchID': 'Count'}, inplace=True)\n",
    "df_daily_levels"
   ]
  },
  {
   "cell_type": "markdown",
   "metadata": {},
   "source": [
    "#### SORT INDEX"
   ]
  },
  {
   "cell_type": "code",
   "execution_count": 48,
   "metadata": {
    "ExecuteTime": {
     "end_time": "2020-02-25T21:02:58.630462Z",
     "start_time": "2020-02-25T21:02:58.605462Z"
    }
   },
   "outputs": [
    {
     "data": {
      "text/html": [
       "<div>\n",
       "<style scoped>\n",
       "    .dataframe tbody tr th:only-of-type {\n",
       "        vertical-align: middle;\n",
       "    }\n",
       "\n",
       "    .dataframe tbody tr th {\n",
       "        vertical-align: top;\n",
       "    }\n",
       "\n",
       "    .dataframe thead th {\n",
       "        text-align: right;\n",
       "    }\n",
       "</style>\n",
       "<table border=\"1\" class=\"dataframe\">\n",
       "  <thead>\n",
       "    <tr style=\"text-align: right;\">\n",
       "      <th></th>\n",
       "      <th></th>\n",
       "      <th>Count</th>\n",
       "    </tr>\n",
       "    <tr>\n",
       "      <th>QCDate</th>\n",
       "      <th>QCValidation</th>\n",
       "      <th></th>\n",
       "    </tr>\n",
       "  </thead>\n",
       "  <tbody>\n",
       "    <tr>\n",
       "      <td>2020-01-27</td>\n",
       "      <td>1.0</td>\n",
       "      <td>35</td>\n",
       "    </tr>\n",
       "    <tr>\n",
       "      <td>2020-01-28</td>\n",
       "      <td>1.0</td>\n",
       "      <td>14</td>\n",
       "    </tr>\n",
       "    <tr>\n",
       "      <td>2020-01-29</td>\n",
       "      <td>1.0</td>\n",
       "      <td>24</td>\n",
       "    </tr>\n",
       "    <tr>\n",
       "      <td rowspan=\"2\" valign=\"top\">2020-01-30</td>\n",
       "      <td>1.0</td>\n",
       "      <td>21</td>\n",
       "    </tr>\n",
       "    <tr>\n",
       "      <td>2.0</td>\n",
       "      <td>1</td>\n",
       "    </tr>\n",
       "    <tr>\n",
       "      <td>2020-01-31</td>\n",
       "      <td>1.0</td>\n",
       "      <td>8</td>\n",
       "    </tr>\n",
       "    <tr>\n",
       "      <td rowspan=\"3\" valign=\"top\">2020-02-03</td>\n",
       "      <td>1.0</td>\n",
       "      <td>10</td>\n",
       "    </tr>\n",
       "    <tr>\n",
       "      <td>2.0</td>\n",
       "      <td>1</td>\n",
       "    </tr>\n",
       "    <tr>\n",
       "      <td>3.0</td>\n",
       "      <td>2</td>\n",
       "    </tr>\n",
       "    <tr>\n",
       "      <td>2020-02-04</td>\n",
       "      <td>1.0</td>\n",
       "      <td>33</td>\n",
       "    </tr>\n",
       "    <tr>\n",
       "      <td rowspan=\"2\" valign=\"top\">2020-02-05</td>\n",
       "      <td>1.0</td>\n",
       "      <td>23</td>\n",
       "    </tr>\n",
       "    <tr>\n",
       "      <td>3.0</td>\n",
       "      <td>1</td>\n",
       "    </tr>\n",
       "    <tr>\n",
       "      <td rowspan=\"2\" valign=\"top\">2020-02-06</td>\n",
       "      <td>1.0</td>\n",
       "      <td>40</td>\n",
       "    </tr>\n",
       "    <tr>\n",
       "      <td>3.0</td>\n",
       "      <td>2</td>\n",
       "    </tr>\n",
       "    <tr>\n",
       "      <td rowspan=\"2\" valign=\"top\">2020-02-07</td>\n",
       "      <td>1.0</td>\n",
       "      <td>29</td>\n",
       "    </tr>\n",
       "    <tr>\n",
       "      <td>2.0</td>\n",
       "      <td>3</td>\n",
       "    </tr>\n",
       "    <tr>\n",
       "      <td>2020-02-08</td>\n",
       "      <td>1.0</td>\n",
       "      <td>2</td>\n",
       "    </tr>\n",
       "    <tr>\n",
       "      <td rowspan=\"2\" valign=\"top\">2020-02-10</td>\n",
       "      <td>1.0</td>\n",
       "      <td>46</td>\n",
       "    </tr>\n",
       "    <tr>\n",
       "      <td>3.0</td>\n",
       "      <td>1</td>\n",
       "    </tr>\n",
       "    <tr>\n",
       "      <td>2020-02-11</td>\n",
       "      <td>1.0</td>\n",
       "      <td>41</td>\n",
       "    </tr>\n",
       "    <tr>\n",
       "      <td>2020-02-12</td>\n",
       "      <td>1.0</td>\n",
       "      <td>24</td>\n",
       "    </tr>\n",
       "    <tr>\n",
       "      <td rowspan=\"2\" valign=\"top\">2020-02-13</td>\n",
       "      <td>1.0</td>\n",
       "      <td>33</td>\n",
       "    </tr>\n",
       "    <tr>\n",
       "      <td>3.0</td>\n",
       "      <td>1</td>\n",
       "    </tr>\n",
       "    <tr>\n",
       "      <td>2020-02-14</td>\n",
       "      <td>1.0</td>\n",
       "      <td>24</td>\n",
       "    </tr>\n",
       "    <tr>\n",
       "      <td>2020-02-15</td>\n",
       "      <td>1.0</td>\n",
       "      <td>2</td>\n",
       "    </tr>\n",
       "    <tr>\n",
       "      <td rowspan=\"3\" valign=\"top\">2020-02-18</td>\n",
       "      <td>1.0</td>\n",
       "      <td>29</td>\n",
       "    </tr>\n",
       "    <tr>\n",
       "      <td>2.0</td>\n",
       "      <td>1</td>\n",
       "    </tr>\n",
       "    <tr>\n",
       "      <td>3.0</td>\n",
       "      <td>1</td>\n",
       "    </tr>\n",
       "    <tr>\n",
       "      <td>2020-02-19</td>\n",
       "      <td>1.0</td>\n",
       "      <td>37</td>\n",
       "    </tr>\n",
       "    <tr>\n",
       "      <td>2020-02-20</td>\n",
       "      <td>1.0</td>\n",
       "      <td>29</td>\n",
       "    </tr>\n",
       "    <tr>\n",
       "      <td>2020-02-21</td>\n",
       "      <td>1.0</td>\n",
       "      <td>36</td>\n",
       "    </tr>\n",
       "    <tr>\n",
       "      <td rowspan=\"3\" valign=\"top\">2020-02-24</td>\n",
       "      <td>1.0</td>\n",
       "      <td>14</td>\n",
       "    </tr>\n",
       "    <tr>\n",
       "      <td>2.0</td>\n",
       "      <td>2</td>\n",
       "    </tr>\n",
       "    <tr>\n",
       "      <td>3.0</td>\n",
       "      <td>2</td>\n",
       "    </tr>\n",
       "    <tr>\n",
       "      <td>2020-02-25</td>\n",
       "      <td>1.0</td>\n",
       "      <td>30</td>\n",
       "    </tr>\n",
       "    <tr>\n",
       "      <td rowspan=\"2\" valign=\"top\">2020-02-26</td>\n",
       "      <td>1.0</td>\n",
       "      <td>33</td>\n",
       "    </tr>\n",
       "    <tr>\n",
       "      <td>3.0</td>\n",
       "      <td>2</td>\n",
       "    </tr>\n",
       "  </tbody>\n",
       "</table>\n",
       "</div>"
      ],
      "text/plain": [
       "                         Count\n",
       "QCDate     QCValidation       \n",
       "2020-01-27 1.0              35\n",
       "2020-01-28 1.0              14\n",
       "2020-01-29 1.0              24\n",
       "2020-01-30 1.0              21\n",
       "           2.0               1\n",
       "2020-01-31 1.0               8\n",
       "2020-02-03 1.0              10\n",
       "           2.0               1\n",
       "           3.0               2\n",
       "2020-02-04 1.0              33\n",
       "2020-02-05 1.0              23\n",
       "           3.0               1\n",
       "2020-02-06 1.0              40\n",
       "           3.0               2\n",
       "2020-02-07 1.0              29\n",
       "           2.0               3\n",
       "2020-02-08 1.0               2\n",
       "2020-02-10 1.0              46\n",
       "           3.0               1\n",
       "2020-02-11 1.0              41\n",
       "2020-02-12 1.0              24\n",
       "2020-02-13 1.0              33\n",
       "           3.0               1\n",
       "2020-02-14 1.0              24\n",
       "2020-02-15 1.0               2\n",
       "2020-02-18 1.0              29\n",
       "           2.0               1\n",
       "           3.0               1\n",
       "2020-02-19 1.0              37\n",
       "2020-02-20 1.0              29\n",
       "2020-02-21 1.0              36\n",
       "2020-02-24 1.0              14\n",
       "           2.0               2\n",
       "           3.0               2\n",
       "2020-02-25 1.0              30\n",
       "2020-02-26 1.0              33\n",
       "           3.0               2"
      ]
     },
     "execution_count": 48,
     "metadata": {},
     "output_type": "execute_result"
    }
   ],
   "source": [
    "df_daily_levels.sort_index(inplace=True)\n",
    "df_daily_levels"
   ]
  },
  {
   "cell_type": "code",
   "execution_count": 49,
   "metadata": {
    "ExecuteTime": {
     "end_time": "2020-02-25T21:02:58.639461Z",
     "start_time": "2020-02-25T21:02:58.632462Z"
    }
   },
   "outputs": [
    {
     "name": "stdout",
     "output_type": "stream",
     "text": [
      "<class 'pandas.core.frame.DataFrame'>\n",
      "MultiIndex: 37 entries, (2020-01-27 00:00:00, 1.0) to (2020-02-26 00:00:00, 3.0)\n",
      "Data columns (total 1 columns):\n",
      "Count    37 non-null int64\n",
      "dtypes: int64(1)\n",
      "memory usage: 702.0 bytes\n"
     ]
    }
   ],
   "source": [
    "df_daily_levels.info()"
   ]
  },
  {
   "cell_type": "raw",
   "metadata": {
    "ExecuteTime": {
     "end_time": "2020-02-24T16:02:10.904180Z",
     "start_time": "2020-02-24T16:02:10.601177Z"
    },
    "raw_mimetype": "text/x-python"
   },
   "source": [
    "# SLICE & dice your dataframe\n",
    "df_daily_levels.loc[('2020-01-22', float(\"0\"))]"
   ]
  },
  {
   "cell_type": "raw",
   "metadata": {
    "raw_mimetype": "text/x-python"
   },
   "source": [
    "df_daily_levels.resample('D').count()"
   ]
  },
  {
   "cell_type": "raw",
   "metadata": {
    "raw_mimetype": "text/x-python"
   },
   "source": [
    "# using groupby function\n",
    "# with one key\n",
    "df_daily_levels.groupby('QCValidation')"
   ]
  },
  {
   "cell_type": "code",
   "execution_count": 50,
   "metadata": {
    "ExecuteTime": {
     "end_time": "2020-02-25T21:02:58.680459Z",
     "start_time": "2020-02-25T21:02:58.641462Z"
    }
   },
   "outputs": [
    {
     "data": {
      "text/html": [
       "<div>\n",
       "<style scoped>\n",
       "    .dataframe tbody tr th:only-of-type {\n",
       "        vertical-align: middle;\n",
       "    }\n",
       "\n",
       "    .dataframe tbody tr th {\n",
       "        vertical-align: top;\n",
       "    }\n",
       "\n",
       "    .dataframe thead tr th {\n",
       "        text-align: left;\n",
       "    }\n",
       "</style>\n",
       "<table border=\"1\" class=\"dataframe\">\n",
       "  <thead>\n",
       "    <tr>\n",
       "      <th>QCDate</th>\n",
       "      <th>2020-01-27</th>\n",
       "      <th>2020-01-28</th>\n",
       "      <th>2020-01-29</th>\n",
       "      <th colspan=\"2\" halign=\"left\">2020-01-30</th>\n",
       "      <th>2020-01-31</th>\n",
       "      <th colspan=\"3\" halign=\"left\">2020-02-03</th>\n",
       "      <th>2020-02-04</th>\n",
       "      <th>...</th>\n",
       "      <th>2020-02-18</th>\n",
       "      <th>2020-02-19</th>\n",
       "      <th>2020-02-20</th>\n",
       "      <th>2020-02-21</th>\n",
       "      <th colspan=\"3\" halign=\"left\">2020-02-24</th>\n",
       "      <th>2020-02-25</th>\n",
       "      <th colspan=\"2\" halign=\"left\">2020-02-26</th>\n",
       "    </tr>\n",
       "    <tr>\n",
       "      <th>QCValidation</th>\n",
       "      <th>1.0</th>\n",
       "      <th>1.0</th>\n",
       "      <th>1.0</th>\n",
       "      <th>1.0</th>\n",
       "      <th>2.0</th>\n",
       "      <th>1.0</th>\n",
       "      <th>1.0</th>\n",
       "      <th>2.0</th>\n",
       "      <th>3.0</th>\n",
       "      <th>1.0</th>\n",
       "      <th>...</th>\n",
       "      <th>3.0</th>\n",
       "      <th>1.0</th>\n",
       "      <th>1.0</th>\n",
       "      <th>1.0</th>\n",
       "      <th>1.0</th>\n",
       "      <th>2.0</th>\n",
       "      <th>3.0</th>\n",
       "      <th>1.0</th>\n",
       "      <th>1.0</th>\n",
       "      <th>3.0</th>\n",
       "    </tr>\n",
       "  </thead>\n",
       "  <tbody>\n",
       "    <tr>\n",
       "      <td>Count</td>\n",
       "      <td>35</td>\n",
       "      <td>14</td>\n",
       "      <td>24</td>\n",
       "      <td>21</td>\n",
       "      <td>1</td>\n",
       "      <td>8</td>\n",
       "      <td>10</td>\n",
       "      <td>1</td>\n",
       "      <td>2</td>\n",
       "      <td>33</td>\n",
       "      <td>...</td>\n",
       "      <td>1</td>\n",
       "      <td>37</td>\n",
       "      <td>29</td>\n",
       "      <td>36</td>\n",
       "      <td>14</td>\n",
       "      <td>2</td>\n",
       "      <td>2</td>\n",
       "      <td>30</td>\n",
       "      <td>33</td>\n",
       "      <td>2</td>\n",
       "    </tr>\n",
       "  </tbody>\n",
       "</table>\n",
       "<p>1 rows × 37 columns</p>\n",
       "</div>"
      ],
      "text/plain": [
       "QCDate       2020-01-27 2020-01-28 2020-01-29 2020-01-30     2020-01-31  \\\n",
       "QCValidation        1.0        1.0        1.0        1.0 2.0        1.0   \n",
       "Count                35         14         24         21   1          8   \n",
       "\n",
       "QCDate       2020-02-03         2020-02-04  ... 2020-02-18 2020-02-19  \\\n",
       "QCValidation        1.0 2.0 3.0        1.0  ...        3.0        1.0   \n",
       "Count                10   1   2         33  ...          1         37   \n",
       "\n",
       "QCDate       2020-02-20 2020-02-21 2020-02-24         2020-02-25 2020-02-26  \\\n",
       "QCValidation        1.0        1.0        1.0 2.0 3.0        1.0        1.0   \n",
       "Count                29         36         14   2   2         30         33   \n",
       "\n",
       "QCDate            \n",
       "QCValidation 3.0  \n",
       "Count          2  \n",
       "\n",
       "[1 rows x 37 columns]"
      ]
     },
     "execution_count": 50,
     "metadata": {},
     "output_type": "execute_result"
    }
   ],
   "source": [
    "df_daily_levels.T"
   ]
  },
  {
   "cell_type": "raw",
   "metadata": {
    "ExecuteTime": {
     "end_time": "2020-02-24T15:21:01.399212Z",
     "start_time": "2020-02-24T15:21:01.393224Z"
    },
    "raw_mimetype": "text/x-python"
   },
   "source": [
    "df_daily_levels.index[2][0]"
   ]
  },
  {
   "cell_type": "code",
   "execution_count": 51,
   "metadata": {
    "ExecuteTime": {
     "end_time": "2020-02-25T21:02:58.691463Z",
     "start_time": "2020-02-25T21:02:58.682462Z"
    }
   },
   "outputs": [],
   "source": [
    "df_daily_levels.T.to_csv(\"df_daily_levels_TRANPOSE.csv\")"
   ]
  },
  {
   "cell_type": "code",
   "execution_count": 52,
   "metadata": {
    "ExecuteTime": {
     "end_time": "2020-02-25T21:02:58.702463Z",
     "start_time": "2020-02-25T21:02:58.693461Z"
    }
   },
   "outputs": [],
   "source": [
    "df_daily_levels.to_csv(\"df_daily_levels_2020_02_25.csv\", index=True)"
   ]
  },
  {
   "cell_type": "code",
   "execution_count": 53,
   "metadata": {
    "ExecuteTime": {
     "end_time": "2020-02-25T21:02:58.781462Z",
     "start_time": "2020-02-25T21:02:58.704461Z"
    }
   },
   "outputs": [],
   "source": [
    "df_daily_levels.T.to_excel(\"df_daily_level_TRANPOSE.xlsx\", index=True)"
   ]
  },
  {
   "cell_type": "code",
   "execution_count": 54,
   "metadata": {
    "ExecuteTime": {
     "end_time": "2020-02-25T21:02:58.822463Z",
     "start_time": "2020-02-25T21:02:58.783460Z"
    }
   },
   "outputs": [],
   "source": [
    "df_daily_levels.to_excel(\"df_daily_levels_2020_02_25.xlsx\", index=True)"
   ]
  },
  {
   "cell_type": "code",
   "execution_count": 55,
   "metadata": {
    "ExecuteTime": {
     "end_time": "2020-02-25T21:02:58.830463Z",
     "start_time": "2020-02-25T21:02:58.824462Z"
    }
   },
   "outputs": [
    {
     "data": {
      "text/plain": [
       "MultiIndex([('2020-01-27', 1.0),\n",
       "            ('2020-01-28', 1.0),\n",
       "            ('2020-01-29', 1.0),\n",
       "            ('2020-01-30', 1.0),\n",
       "            ('2020-01-30', 2.0),\n",
       "            ('2020-01-31', 1.0),\n",
       "            ('2020-02-03', 1.0),\n",
       "            ('2020-02-03', 2.0),\n",
       "            ('2020-02-03', 3.0),\n",
       "            ('2020-02-04', 1.0),\n",
       "            ('2020-02-05', 1.0),\n",
       "            ('2020-02-05', 3.0),\n",
       "            ('2020-02-06', 1.0),\n",
       "            ('2020-02-06', 3.0),\n",
       "            ('2020-02-07', 1.0),\n",
       "            ('2020-02-07', 2.0),\n",
       "            ('2020-02-08', 1.0),\n",
       "            ('2020-02-10', 1.0),\n",
       "            ('2020-02-10', 3.0),\n",
       "            ('2020-02-11', 1.0),\n",
       "            ('2020-02-12', 1.0),\n",
       "            ('2020-02-13', 1.0),\n",
       "            ('2020-02-13', 3.0),\n",
       "            ('2020-02-14', 1.0),\n",
       "            ('2020-02-15', 1.0),\n",
       "            ('2020-02-18', 1.0),\n",
       "            ('2020-02-18', 2.0),\n",
       "            ('2020-02-18', 3.0),\n",
       "            ('2020-02-19', 1.0),\n",
       "            ('2020-02-20', 1.0),\n",
       "            ('2020-02-21', 1.0),\n",
       "            ('2020-02-24', 1.0),\n",
       "            ('2020-02-24', 2.0),\n",
       "            ('2020-02-24', 3.0),\n",
       "            ('2020-02-25', 1.0),\n",
       "            ('2020-02-26', 1.0),\n",
       "            ('2020-02-26', 3.0)],\n",
       "           names=['QCDate', 'QCValidation'])"
      ]
     },
     "execution_count": 55,
     "metadata": {},
     "output_type": "execute_result"
    }
   ],
   "source": [
    "df_daily_levels.index"
   ]
  },
  {
   "cell_type": "markdown",
   "metadata": {},
   "source": [
    "---\n",
    "### `.unstack()`\n",
    "\n",
    "#### `unstack` *index* (axis=1)"
   ]
  },
  {
   "cell_type": "code",
   "execution_count": 56,
   "metadata": {
    "ExecuteTime": {
     "end_time": "2020-02-25T21:02:58.849463Z",
     "start_time": "2020-02-25T21:02:58.834461Z"
    }
   },
   "outputs": [
    {
     "data": {
      "text/html": [
       "<div>\n",
       "<style scoped>\n",
       "    .dataframe tbody tr th:only-of-type {\n",
       "        vertical-align: middle;\n",
       "    }\n",
       "\n",
       "    .dataframe tbody tr th {\n",
       "        vertical-align: top;\n",
       "    }\n",
       "\n",
       "    .dataframe thead tr th {\n",
       "        text-align: left;\n",
       "    }\n",
       "\n",
       "    .dataframe thead tr:last-of-type th {\n",
       "        text-align: right;\n",
       "    }\n",
       "</style>\n",
       "<table border=\"1\" class=\"dataframe\">\n",
       "  <thead>\n",
       "    <tr>\n",
       "      <th></th>\n",
       "      <th colspan=\"3\" halign=\"left\">Count</th>\n",
       "    </tr>\n",
       "    <tr>\n",
       "      <th>QCValidation</th>\n",
       "      <th>1.0</th>\n",
       "      <th>2.0</th>\n",
       "      <th>3.0</th>\n",
       "    </tr>\n",
       "    <tr>\n",
       "      <th>QCDate</th>\n",
       "      <th></th>\n",
       "      <th></th>\n",
       "      <th></th>\n",
       "    </tr>\n",
       "  </thead>\n",
       "  <tbody>\n",
       "    <tr>\n",
       "      <td>2020-01-27</td>\n",
       "      <td>35.0</td>\n",
       "      <td>NaN</td>\n",
       "      <td>NaN</td>\n",
       "    </tr>\n",
       "    <tr>\n",
       "      <td>2020-01-28</td>\n",
       "      <td>14.0</td>\n",
       "      <td>NaN</td>\n",
       "      <td>NaN</td>\n",
       "    </tr>\n",
       "    <tr>\n",
       "      <td>2020-01-29</td>\n",
       "      <td>24.0</td>\n",
       "      <td>NaN</td>\n",
       "      <td>NaN</td>\n",
       "    </tr>\n",
       "    <tr>\n",
       "      <td>2020-01-30</td>\n",
       "      <td>21.0</td>\n",
       "      <td>1.0</td>\n",
       "      <td>NaN</td>\n",
       "    </tr>\n",
       "    <tr>\n",
       "      <td>2020-01-31</td>\n",
       "      <td>8.0</td>\n",
       "      <td>NaN</td>\n",
       "      <td>NaN</td>\n",
       "    </tr>\n",
       "    <tr>\n",
       "      <td>2020-02-03</td>\n",
       "      <td>10.0</td>\n",
       "      <td>1.0</td>\n",
       "      <td>2.0</td>\n",
       "    </tr>\n",
       "    <tr>\n",
       "      <td>2020-02-04</td>\n",
       "      <td>33.0</td>\n",
       "      <td>NaN</td>\n",
       "      <td>NaN</td>\n",
       "    </tr>\n",
       "    <tr>\n",
       "      <td>2020-02-05</td>\n",
       "      <td>23.0</td>\n",
       "      <td>NaN</td>\n",
       "      <td>1.0</td>\n",
       "    </tr>\n",
       "    <tr>\n",
       "      <td>2020-02-06</td>\n",
       "      <td>40.0</td>\n",
       "      <td>NaN</td>\n",
       "      <td>2.0</td>\n",
       "    </tr>\n",
       "    <tr>\n",
       "      <td>2020-02-07</td>\n",
       "      <td>29.0</td>\n",
       "      <td>3.0</td>\n",
       "      <td>NaN</td>\n",
       "    </tr>\n",
       "    <tr>\n",
       "      <td>2020-02-08</td>\n",
       "      <td>2.0</td>\n",
       "      <td>NaN</td>\n",
       "      <td>NaN</td>\n",
       "    </tr>\n",
       "    <tr>\n",
       "      <td>2020-02-10</td>\n",
       "      <td>46.0</td>\n",
       "      <td>NaN</td>\n",
       "      <td>1.0</td>\n",
       "    </tr>\n",
       "    <tr>\n",
       "      <td>2020-02-11</td>\n",
       "      <td>41.0</td>\n",
       "      <td>NaN</td>\n",
       "      <td>NaN</td>\n",
       "    </tr>\n",
       "    <tr>\n",
       "      <td>2020-02-12</td>\n",
       "      <td>24.0</td>\n",
       "      <td>NaN</td>\n",
       "      <td>NaN</td>\n",
       "    </tr>\n",
       "    <tr>\n",
       "      <td>2020-02-13</td>\n",
       "      <td>33.0</td>\n",
       "      <td>NaN</td>\n",
       "      <td>1.0</td>\n",
       "    </tr>\n",
       "    <tr>\n",
       "      <td>2020-02-14</td>\n",
       "      <td>24.0</td>\n",
       "      <td>NaN</td>\n",
       "      <td>NaN</td>\n",
       "    </tr>\n",
       "    <tr>\n",
       "      <td>2020-02-15</td>\n",
       "      <td>2.0</td>\n",
       "      <td>NaN</td>\n",
       "      <td>NaN</td>\n",
       "    </tr>\n",
       "    <tr>\n",
       "      <td>2020-02-18</td>\n",
       "      <td>29.0</td>\n",
       "      <td>1.0</td>\n",
       "      <td>1.0</td>\n",
       "    </tr>\n",
       "    <tr>\n",
       "      <td>2020-02-19</td>\n",
       "      <td>37.0</td>\n",
       "      <td>NaN</td>\n",
       "      <td>NaN</td>\n",
       "    </tr>\n",
       "    <tr>\n",
       "      <td>2020-02-20</td>\n",
       "      <td>29.0</td>\n",
       "      <td>NaN</td>\n",
       "      <td>NaN</td>\n",
       "    </tr>\n",
       "    <tr>\n",
       "      <td>2020-02-21</td>\n",
       "      <td>36.0</td>\n",
       "      <td>NaN</td>\n",
       "      <td>NaN</td>\n",
       "    </tr>\n",
       "    <tr>\n",
       "      <td>2020-02-24</td>\n",
       "      <td>14.0</td>\n",
       "      <td>2.0</td>\n",
       "      <td>2.0</td>\n",
       "    </tr>\n",
       "    <tr>\n",
       "      <td>2020-02-25</td>\n",
       "      <td>30.0</td>\n",
       "      <td>NaN</td>\n",
       "      <td>NaN</td>\n",
       "    </tr>\n",
       "    <tr>\n",
       "      <td>2020-02-26</td>\n",
       "      <td>33.0</td>\n",
       "      <td>NaN</td>\n",
       "      <td>2.0</td>\n",
       "    </tr>\n",
       "  </tbody>\n",
       "</table>\n",
       "</div>"
      ],
      "text/plain": [
       "             Count          \n",
       "QCValidation   1.0  2.0  3.0\n",
       "QCDate                      \n",
       "2020-01-27    35.0  NaN  NaN\n",
       "2020-01-28    14.0  NaN  NaN\n",
       "2020-01-29    24.0  NaN  NaN\n",
       "2020-01-30    21.0  1.0  NaN\n",
       "2020-01-31     8.0  NaN  NaN\n",
       "2020-02-03    10.0  1.0  2.0\n",
       "2020-02-04    33.0  NaN  NaN\n",
       "2020-02-05    23.0  NaN  1.0\n",
       "2020-02-06    40.0  NaN  2.0\n",
       "2020-02-07    29.0  3.0  NaN\n",
       "2020-02-08     2.0  NaN  NaN\n",
       "2020-02-10    46.0  NaN  1.0\n",
       "2020-02-11    41.0  NaN  NaN\n",
       "2020-02-12    24.0  NaN  NaN\n",
       "2020-02-13    33.0  NaN  1.0\n",
       "2020-02-14    24.0  NaN  NaN\n",
       "2020-02-15     2.0  NaN  NaN\n",
       "2020-02-18    29.0  1.0  1.0\n",
       "2020-02-19    37.0  NaN  NaN\n",
       "2020-02-20    29.0  NaN  NaN\n",
       "2020-02-21    36.0  NaN  NaN\n",
       "2020-02-24    14.0  2.0  2.0\n",
       "2020-02-25    30.0  NaN  NaN\n",
       "2020-02-26    33.0  NaN  2.0"
      ]
     },
     "execution_count": 56,
     "metadata": {},
     "output_type": "execute_result"
    }
   ],
   "source": [
    "df_daily_unstacked_1 = df_daily_levels.unstack(level=-1)\n",
    "df_daily_unstacked_1"
   ]
  },
  {
   "cell_type": "code",
   "execution_count": 57,
   "metadata": {
    "ExecuteTime": {
     "end_time": "2020-02-25T21:02:58.860465Z",
     "start_time": "2020-02-25T21:02:58.852462Z"
    }
   },
   "outputs": [],
   "source": [
    "df_daily_unstacked_1.to_csv(\"df_daily_levels_2020_02_25_UNSTACKED_level_1.csv\", index=True)"
   ]
  },
  {
   "cell_type": "code",
   "execution_count": 58,
   "metadata": {
    "ExecuteTime": {
     "end_time": "2020-02-25T21:02:58.907466Z",
     "start_time": "2020-02-25T21:02:58.862464Z"
    }
   },
   "outputs": [],
   "source": [
    "df_daily_unstacked_1.to_excel(\"df_daily_levels_2020_02_25_UNSTACKED_level_1.xlsx\", index=True)"
   ]
  },
  {
   "cell_type": "code",
   "execution_count": 59,
   "metadata": {
    "ExecuteTime": {
     "end_time": "2020-02-25T21:07:27.718789Z",
     "start_time": "2020-02-25T21:07:27.712208Z"
    }
   },
   "outputs": [
    {
     "data": {
      "text/plain": [
       "2"
      ]
     },
     "execution_count": 59,
     "metadata": {},
     "output_type": "execute_result"
    }
   ],
   "source": [
    "len(df_daily_unstacked_1.columns.levels)"
   ]
  },
  {
   "cell_type": "markdown",
   "metadata": {},
   "source": [
    "---\n",
    "# DROP LEVEL"
   ]
  },
  {
   "cell_type": "code",
   "execution_count": 60,
   "metadata": {
    "ExecuteTime": {
     "end_time": "2020-02-25T21:10:06.768530Z",
     "start_time": "2020-02-25T21:10:06.763529Z"
    }
   },
   "outputs": [],
   "source": [
    "df_daily_unstacked_1.columns = df_daily_unstacked_1.columns.droplevel()"
   ]
  },
  {
   "cell_type": "markdown",
   "metadata": {},
   "source": [
    "---"
   ]
  },
  {
   "cell_type": "code",
   "execution_count": 61,
   "metadata": {
    "ExecuteTime": {
     "end_time": "2020-02-25T21:10:23.172959Z",
     "start_time": "2020-02-25T21:10:23.158957Z"
    }
   },
   "outputs": [
    {
     "data": {
      "text/html": [
       "<div>\n",
       "<style scoped>\n",
       "    .dataframe tbody tr th:only-of-type {\n",
       "        vertical-align: middle;\n",
       "    }\n",
       "\n",
       "    .dataframe tbody tr th {\n",
       "        vertical-align: top;\n",
       "    }\n",
       "\n",
       "    .dataframe thead th {\n",
       "        text-align: right;\n",
       "    }\n",
       "</style>\n",
       "<table border=\"1\" class=\"dataframe\">\n",
       "  <thead>\n",
       "    <tr style=\"text-align: right;\">\n",
       "      <th>QCValidation</th>\n",
       "      <th>1.0</th>\n",
       "      <th>2.0</th>\n",
       "      <th>3.0</th>\n",
       "    </tr>\n",
       "    <tr>\n",
       "      <th>QCDate</th>\n",
       "      <th></th>\n",
       "      <th></th>\n",
       "      <th></th>\n",
       "    </tr>\n",
       "  </thead>\n",
       "  <tbody>\n",
       "    <tr>\n",
       "      <td>2020-01-27</td>\n",
       "      <td>35.0</td>\n",
       "      <td>NaN</td>\n",
       "      <td>NaN</td>\n",
       "    </tr>\n",
       "    <tr>\n",
       "      <td>2020-01-28</td>\n",
       "      <td>14.0</td>\n",
       "      <td>NaN</td>\n",
       "      <td>NaN</td>\n",
       "    </tr>\n",
       "    <tr>\n",
       "      <td>2020-01-29</td>\n",
       "      <td>24.0</td>\n",
       "      <td>NaN</td>\n",
       "      <td>NaN</td>\n",
       "    </tr>\n",
       "    <tr>\n",
       "      <td>2020-01-30</td>\n",
       "      <td>21.0</td>\n",
       "      <td>1.0</td>\n",
       "      <td>NaN</td>\n",
       "    </tr>\n",
       "    <tr>\n",
       "      <td>2020-01-31</td>\n",
       "      <td>8.0</td>\n",
       "      <td>NaN</td>\n",
       "      <td>NaN</td>\n",
       "    </tr>\n",
       "    <tr>\n",
       "      <td>2020-02-03</td>\n",
       "      <td>10.0</td>\n",
       "      <td>1.0</td>\n",
       "      <td>2.0</td>\n",
       "    </tr>\n",
       "    <tr>\n",
       "      <td>2020-02-04</td>\n",
       "      <td>33.0</td>\n",
       "      <td>NaN</td>\n",
       "      <td>NaN</td>\n",
       "    </tr>\n",
       "    <tr>\n",
       "      <td>2020-02-05</td>\n",
       "      <td>23.0</td>\n",
       "      <td>NaN</td>\n",
       "      <td>1.0</td>\n",
       "    </tr>\n",
       "    <tr>\n",
       "      <td>2020-02-06</td>\n",
       "      <td>40.0</td>\n",
       "      <td>NaN</td>\n",
       "      <td>2.0</td>\n",
       "    </tr>\n",
       "    <tr>\n",
       "      <td>2020-02-07</td>\n",
       "      <td>29.0</td>\n",
       "      <td>3.0</td>\n",
       "      <td>NaN</td>\n",
       "    </tr>\n",
       "    <tr>\n",
       "      <td>2020-02-08</td>\n",
       "      <td>2.0</td>\n",
       "      <td>NaN</td>\n",
       "      <td>NaN</td>\n",
       "    </tr>\n",
       "    <tr>\n",
       "      <td>2020-02-10</td>\n",
       "      <td>46.0</td>\n",
       "      <td>NaN</td>\n",
       "      <td>1.0</td>\n",
       "    </tr>\n",
       "    <tr>\n",
       "      <td>2020-02-11</td>\n",
       "      <td>41.0</td>\n",
       "      <td>NaN</td>\n",
       "      <td>NaN</td>\n",
       "    </tr>\n",
       "    <tr>\n",
       "      <td>2020-02-12</td>\n",
       "      <td>24.0</td>\n",
       "      <td>NaN</td>\n",
       "      <td>NaN</td>\n",
       "    </tr>\n",
       "    <tr>\n",
       "      <td>2020-02-13</td>\n",
       "      <td>33.0</td>\n",
       "      <td>NaN</td>\n",
       "      <td>1.0</td>\n",
       "    </tr>\n",
       "    <tr>\n",
       "      <td>2020-02-14</td>\n",
       "      <td>24.0</td>\n",
       "      <td>NaN</td>\n",
       "      <td>NaN</td>\n",
       "    </tr>\n",
       "    <tr>\n",
       "      <td>2020-02-15</td>\n",
       "      <td>2.0</td>\n",
       "      <td>NaN</td>\n",
       "      <td>NaN</td>\n",
       "    </tr>\n",
       "    <tr>\n",
       "      <td>2020-02-18</td>\n",
       "      <td>29.0</td>\n",
       "      <td>1.0</td>\n",
       "      <td>1.0</td>\n",
       "    </tr>\n",
       "    <tr>\n",
       "      <td>2020-02-19</td>\n",
       "      <td>37.0</td>\n",
       "      <td>NaN</td>\n",
       "      <td>NaN</td>\n",
       "    </tr>\n",
       "    <tr>\n",
       "      <td>2020-02-20</td>\n",
       "      <td>29.0</td>\n",
       "      <td>NaN</td>\n",
       "      <td>NaN</td>\n",
       "    </tr>\n",
       "    <tr>\n",
       "      <td>2020-02-21</td>\n",
       "      <td>36.0</td>\n",
       "      <td>NaN</td>\n",
       "      <td>NaN</td>\n",
       "    </tr>\n",
       "    <tr>\n",
       "      <td>2020-02-24</td>\n",
       "      <td>14.0</td>\n",
       "      <td>2.0</td>\n",
       "      <td>2.0</td>\n",
       "    </tr>\n",
       "    <tr>\n",
       "      <td>2020-02-25</td>\n",
       "      <td>30.0</td>\n",
       "      <td>NaN</td>\n",
       "      <td>NaN</td>\n",
       "    </tr>\n",
       "    <tr>\n",
       "      <td>2020-02-26</td>\n",
       "      <td>33.0</td>\n",
       "      <td>NaN</td>\n",
       "      <td>2.0</td>\n",
       "    </tr>\n",
       "  </tbody>\n",
       "</table>\n",
       "</div>"
      ],
      "text/plain": [
       "QCValidation   1.0  2.0  3.0\n",
       "QCDate                      \n",
       "2020-01-27    35.0  NaN  NaN\n",
       "2020-01-28    14.0  NaN  NaN\n",
       "2020-01-29    24.0  NaN  NaN\n",
       "2020-01-30    21.0  1.0  NaN\n",
       "2020-01-31     8.0  NaN  NaN\n",
       "2020-02-03    10.0  1.0  2.0\n",
       "2020-02-04    33.0  NaN  NaN\n",
       "2020-02-05    23.0  NaN  1.0\n",
       "2020-02-06    40.0  NaN  2.0\n",
       "2020-02-07    29.0  3.0  NaN\n",
       "2020-02-08     2.0  NaN  NaN\n",
       "2020-02-10    46.0  NaN  1.0\n",
       "2020-02-11    41.0  NaN  NaN\n",
       "2020-02-12    24.0  NaN  NaN\n",
       "2020-02-13    33.0  NaN  1.0\n",
       "2020-02-14    24.0  NaN  NaN\n",
       "2020-02-15     2.0  NaN  NaN\n",
       "2020-02-18    29.0  1.0  1.0\n",
       "2020-02-19    37.0  NaN  NaN\n",
       "2020-02-20    29.0  NaN  NaN\n",
       "2020-02-21    36.0  NaN  NaN\n",
       "2020-02-24    14.0  2.0  2.0\n",
       "2020-02-25    30.0  NaN  NaN\n",
       "2020-02-26    33.0  NaN  2.0"
      ]
     },
     "execution_count": 61,
     "metadata": {},
     "output_type": "execute_result"
    }
   ],
   "source": [
    "df_daily_unstacked_1"
   ]
  },
  {
   "cell_type": "code",
   "execution_count": 62,
   "metadata": {
    "ExecuteTime": {
     "end_time": "2020-02-25T21:11:45.427056Z",
     "start_time": "2020-02-25T21:11:45.419051Z"
    }
   },
   "outputs": [
    {
     "name": "stdout",
     "output_type": "stream",
     "text": [
      "<class 'pandas.core.frame.DataFrame'>\n",
      "DatetimeIndex: 24 entries, 2020-01-27 to 2020-02-26\n",
      "Data columns (total 3 columns):\n",
      "1.0    24 non-null float64\n",
      "2.0    5 non-null float64\n",
      "3.0    8 non-null float64\n",
      "dtypes: float64(3)\n",
      "memory usage: 768.0 bytes\n"
     ]
    }
   ],
   "source": [
    "df_daily_unstacked_1.info()"
   ]
  },
  {
   "cell_type": "code",
   "execution_count": 63,
   "metadata": {
    "ExecuteTime": {
     "end_time": "2020-02-25T21:52:20.084379Z",
     "start_time": "2020-02-25T21:52:20.076378Z"
    }
   },
   "outputs": [
    {
     "data": {
      "text/plain": [
       "DatetimeIndex(['2020-01-27', '2020-01-28', '2020-01-29', '2020-01-30',\n",
       "               '2020-01-31', '2020-02-03', '2020-02-04', '2020-02-05',\n",
       "               '2020-02-06', '2020-02-07', '2020-02-08', '2020-02-10',\n",
       "               '2020-02-11', '2020-02-12', '2020-02-13', '2020-02-14',\n",
       "               '2020-02-15', '2020-02-18', '2020-02-19', '2020-02-20',\n",
       "               '2020-02-21', '2020-02-24', '2020-02-25', '2020-02-26'],\n",
       "              dtype='datetime64[ns]', name='QCDate', freq=None)"
      ]
     },
     "execution_count": 63,
     "metadata": {},
     "output_type": "execute_result"
    }
   ],
   "source": [
    "df_daily_unstacked_1.index"
   ]
  },
  {
   "cell_type": "code",
   "execution_count": 64,
   "metadata": {
    "ExecuteTime": {
     "end_time": "2020-02-25T21:51:45.083653Z",
     "start_time": "2020-02-25T21:51:45.076654Z"
    }
   },
   "outputs": [
    {
     "data": {
      "text/plain": [
       "Float64Index([1.0, 2.0, 3.0], dtype='float64', name='QCValidation')"
      ]
     },
     "execution_count": 64,
     "metadata": {},
     "output_type": "execute_result"
    }
   ],
   "source": [
    "df_daily_unstacked_1.columns"
   ]
  },
  {
   "cell_type": "code",
   "execution_count": 65,
   "metadata": {
    "ExecuteTime": {
     "end_time": "2020-02-25T21:16:14.963776Z",
     "start_time": "2020-02-25T21:16:14.911774Z"
    }
   },
   "outputs": [],
   "source": [
    "df_daily_unstacked_1.to_excel(\"df_daily_unstacked_2020_02_25.xlsx\", index=True)"
   ]
  },
  {
   "cell_type": "markdown",
   "metadata": {},
   "source": [
    "### test `fillna()`"
   ]
  },
  {
   "cell_type": "code",
   "execution_count": 66,
   "metadata": {
    "ExecuteTime": {
     "end_time": "2020-02-25T21:02:59.323468Z",
     "start_time": "2020-02-25T21:02:08.816Z"
    }
   },
   "outputs": [],
   "source": [
    "df_daily_unstacked_1.fillna(value=0, inplace=True)"
   ]
  },
  {
   "cell_type": "code",
   "execution_count": 67,
   "metadata": {
    "ExecuteTime": {
     "end_time": "2020-02-25T21:02:59.324468Z",
     "start_time": "2020-02-25T21:02:08.825Z"
    }
   },
   "outputs": [
    {
     "data": {
      "text/html": [
       "<div>\n",
       "<style scoped>\n",
       "    .dataframe tbody tr th:only-of-type {\n",
       "        vertical-align: middle;\n",
       "    }\n",
       "\n",
       "    .dataframe tbody tr th {\n",
       "        vertical-align: top;\n",
       "    }\n",
       "\n",
       "    .dataframe thead th {\n",
       "        text-align: right;\n",
       "    }\n",
       "</style>\n",
       "<table border=\"1\" class=\"dataframe\">\n",
       "  <thead>\n",
       "    <tr style=\"text-align: right;\">\n",
       "      <th>QCValidation</th>\n",
       "      <th>1.0</th>\n",
       "      <th>2.0</th>\n",
       "      <th>3.0</th>\n",
       "    </tr>\n",
       "    <tr>\n",
       "      <th>QCDate</th>\n",
       "      <th></th>\n",
       "      <th></th>\n",
       "      <th></th>\n",
       "    </tr>\n",
       "  </thead>\n",
       "  <tbody>\n",
       "    <tr>\n",
       "      <td>2020-01-30</td>\n",
       "      <td>21.0</td>\n",
       "      <td>1.0</td>\n",
       "      <td>0.0</td>\n",
       "    </tr>\n",
       "    <tr>\n",
       "      <td>2020-02-08</td>\n",
       "      <td>2.0</td>\n",
       "      <td>0.0</td>\n",
       "      <td>0.0</td>\n",
       "    </tr>\n",
       "    <tr>\n",
       "      <td>2020-02-03</td>\n",
       "      <td>10.0</td>\n",
       "      <td>1.0</td>\n",
       "      <td>2.0</td>\n",
       "    </tr>\n",
       "    <tr>\n",
       "      <td>2020-01-29</td>\n",
       "      <td>24.0</td>\n",
       "      <td>0.0</td>\n",
       "      <td>0.0</td>\n",
       "    </tr>\n",
       "    <tr>\n",
       "      <td>2020-02-20</td>\n",
       "      <td>29.0</td>\n",
       "      <td>0.0</td>\n",
       "      <td>0.0</td>\n",
       "    </tr>\n",
       "    <tr>\n",
       "      <td>2020-02-26</td>\n",
       "      <td>33.0</td>\n",
       "      <td>0.0</td>\n",
       "      <td>2.0</td>\n",
       "    </tr>\n",
       "    <tr>\n",
       "      <td>2020-02-25</td>\n",
       "      <td>30.0</td>\n",
       "      <td>0.0</td>\n",
       "      <td>0.0</td>\n",
       "    </tr>\n",
       "    <tr>\n",
       "      <td>2020-02-13</td>\n",
       "      <td>33.0</td>\n",
       "      <td>0.0</td>\n",
       "      <td>1.0</td>\n",
       "    </tr>\n",
       "    <tr>\n",
       "      <td>2020-02-15</td>\n",
       "      <td>2.0</td>\n",
       "      <td>0.0</td>\n",
       "      <td>0.0</td>\n",
       "    </tr>\n",
       "    <tr>\n",
       "      <td>2020-02-05</td>\n",
       "      <td>23.0</td>\n",
       "      <td>0.0</td>\n",
       "      <td>1.0</td>\n",
       "    </tr>\n",
       "  </tbody>\n",
       "</table>\n",
       "</div>"
      ],
      "text/plain": [
       "QCValidation   1.0  2.0  3.0\n",
       "QCDate                      \n",
       "2020-01-30    21.0  1.0  0.0\n",
       "2020-02-08     2.0  0.0  0.0\n",
       "2020-02-03    10.0  1.0  2.0\n",
       "2020-01-29    24.0  0.0  0.0\n",
       "2020-02-20    29.0  0.0  0.0\n",
       "2020-02-26    33.0  0.0  2.0\n",
       "2020-02-25    30.0  0.0  0.0\n",
       "2020-02-13    33.0  0.0  1.0\n",
       "2020-02-15     2.0  0.0  0.0\n",
       "2020-02-05    23.0  0.0  1.0"
      ]
     },
     "execution_count": 67,
     "metadata": {},
     "output_type": "execute_result"
    }
   ],
   "source": [
    "df_daily_unstacked_1.sample(10)"
   ]
  },
  {
   "cell_type": "markdown",
   "metadata": {},
   "source": [
    "### locate `values`:"
   ]
  },
  {
   "cell_type": "code",
   "execution_count": 68,
   "metadata": {
    "ExecuteTime": {
     "end_time": "2020-02-25T21:02:59.325468Z",
     "start_time": "2020-02-25T21:02:08.836Z"
    }
   },
   "outputs": [
    {
     "data": {
      "text/plain": [
       "35.0"
      ]
     },
     "execution_count": 68,
     "metadata": {},
     "output_type": "execute_result"
    }
   ],
   "source": [
    "df_daily_unstacked_1.iloc[0, 0]"
   ]
  },
  {
   "cell_type": "code",
   "execution_count": 69,
   "metadata": {
    "ExecuteTime": {
     "end_time": "2020-02-25T21:02:59.326469Z",
     "start_time": "2020-02-25T21:02:08.852Z"
    }
   },
   "outputs": [
    {
     "data": {
      "text/plain": [
       "29.0"
      ]
     },
     "execution_count": 69,
     "metadata": {},
     "output_type": "execute_result"
    }
   ],
   "source": [
    "df_daily_unstacked_1.iloc[17, 0]"
   ]
  },
  {
   "cell_type": "markdown",
   "metadata": {},
   "source": [
    "---\n",
    "# (SHOW) `PLOT` DATA"
   ]
  },
  {
   "cell_type": "code",
   "execution_count": 70,
   "metadata": {
    "ExecuteTime": {
     "end_time": "2020-02-25T21:26:06.001816Z",
     "start_time": "2020-02-25T21:26:05.757814Z"
    }
   },
   "outputs": [
    {
     "data": {
      "text/plain": [
       "<matplotlib.axes._subplots.AxesSubplot at 0x1659bc144e0>"
      ]
     },
     "execution_count": 70,
     "metadata": {},
     "output_type": "execute_result"
    },
    {
     "data": {
      "image/png": "[encoded data removed]",
      "text/plain": [
       "<Figure size 432x288 with 1 Axes>"
      ]
     },
     "metadata": {
      "needs_background": "light"
     },
     "output_type": "display_data"
    }
   ],
   "source": [
    "df_daily_unstacked_1.plot()"
   ]
  },
  {
   "cell_type": "code",
   "execution_count": 71,
   "metadata": {
    "ExecuteTime": {
     "end_time": "2020-02-25T21:31:27.246282Z",
     "start_time": "2020-02-25T21:31:26.972280Z"
    }
   },
   "outputs": [
    {
     "data": {
      "text/plain": [
       "<matplotlib.axes._subplots.AxesSubplot at 0x1659c7e1c18>"
      ]
     },
     "execution_count": 71,
     "metadata": {},
     "output_type": "execute_result"
    },
    {
     "data": {
      "image/png": "[encoded data removed]",
      "text/plain": [
       "<Figure size 432x288 with 1 Axes>"
      ]
     },
     "metadata": {
      "needs_background": "light"
     },
     "output_type": "display_data"
    }
   ],
   "source": [
    "df_daily_unstacked_1.plot(kind='area')"
   ]
  },
  {
   "cell_type": "code",
   "execution_count": 72,
   "metadata": {
    "ExecuteTime": {
     "end_time": "2020-02-25T21:32:37.011248Z",
     "start_time": "2020-02-25T21:32:36.518242Z"
    }
   },
   "outputs": [
    {
     "data": {
      "text/plain": [
       "<matplotlib.axes._subplots.AxesSubplot at 0x1659cce1898>"
      ]
     },
     "execution_count": 72,
     "metadata": {},
     "output_type": "execute_result"
    },
    {
     "data": {
      "image/png": "[encoded data removed]",
      "text/plain": [
       "<Figure size 432x288 with 1 Axes>"
      ]
     },
     "metadata": {
      "needs_background": "light"
     },
     "output_type": "display_data"
    }
   ],
   "source": [
    "df_daily_unstacked_1.plot(kind='barh')"
   ]
  },
  {
   "cell_type": "code",
   "execution_count": 73,
   "metadata": {
    "ExecuteTime": {
     "end_time": "2020-02-25T21:33:46.807687Z",
     "start_time": "2020-02-25T21:33:46.600667Z"
    }
   },
   "outputs": [
    {
     "data": {
      "text/plain": [
       "<matplotlib.axes._subplots.AxesSubplot at 0x1659d4ab978>"
      ]
     },
     "execution_count": 73,
     "metadata": {},
     "output_type": "execute_result"
    },
    {
     "data": {
      "image/png": "[encoded data removed]",
      "text/plain": [
       "<Figure size 432x288 with 1 Axes>"
      ]
     },
     "metadata": {
      "needs_background": "light"
     },
     "output_type": "display_data"
    }
   ],
   "source": [
    "df_daily_unstacked_1.plot(kind='kde')"
   ]
  },
  {
   "cell_type": "raw",
   "metadata": {},
   "source": [
    "kind : str\n",
    "    - 'line' : line plot (default)\n",
    "    - 'bar' : vertical bar plot\n",
    "    - 'barh' : horizontal bar plot\n",
    "    - 'hist' : histogram\n",
    "    - 'box' : boxplot\n",
    "    - 'kde' : Kernel Density Estimation plot\n",
    "    - 'density' : same as 'kde'\n",
    "    - 'area' : area plot\n",
    "    - 'pie' : pie plot\n",
    "    - 'scatter' : scatter plot\n",
    "    - 'hexbin' : hexbin plot"
   ]
  },
  {
   "cell_type": "markdown",
   "metadata": {},
   "source": [
    "---\n",
    "# WorkBook"
   ]
  },
  {
   "cell_type": "markdown",
   "metadata": {},
   "source": [
    "timestamp for filename"
   ]
  },
  {
   "cell_type": "code",
   "execution_count": 74,
   "metadata": {
    "ExecuteTime": {
     "end_time": "2020-02-25T21:38:08.595925Z",
     "start_time": "2020-02-25T21:38:08.592924Z"
    }
   },
   "outputs": [],
   "source": [
    "ts_str = str(test_date)[:10] #str(pd.Timestamp.now())[:10]"
   ]
  },
  {
   "cell_type": "markdown",
   "metadata": {},
   "source": [
    "create filename var"
   ]
  },
  {
   "cell_type": "code",
   "execution_count": 75,
   "metadata": {
    "ExecuteTime": {
     "end_time": "2020-02-25T21:41:38.569122Z",
     "start_time": "2020-02-25T21:41:38.566116Z"
    }
   },
   "outputs": [],
   "source": [
    "filename_str = str(\"QCMetrics_\" + str(ts_str) + \".xlsx\")"
   ]
  },
  {
   "cell_type": "code",
   "execution_count": 76,
   "metadata": {
    "ExecuteTime": {
     "end_time": "2020-02-25T21:41:55.227499Z",
     "start_time": "2020-02-25T21:41:55.212499Z"
    }
   },
   "outputs": [],
   "source": [
    "# CREATE NEW WORKBOOK\n",
    "wb = Workbook()\n",
    "wb.save(filename_str)"
   ]
  },
  {
   "cell_type": "code",
   "execution_count": 77,
   "metadata": {
    "ExecuteTime": {
     "end_time": "2020-02-25T21:42:11.887878Z",
     "start_time": "2020-02-25T21:42:11.876838Z"
    }
   },
   "outputs": [],
   "source": [
    "# LOAD EXISTING WORKBOOK\n",
    "wb = load_workbook(filename_str)"
   ]
  },
  {
   "cell_type": "code",
   "execution_count": 78,
   "metadata": {
    "ExecuteTime": {
     "end_time": "2020-02-25T21:49:13.709026Z",
     "start_time": "2020-02-25T21:49:13.704026Z"
    }
   },
   "outputs": [],
   "source": [
    "# ADD SHEETS TO WORKBOOK\n",
    "# DESGIGNATE SHEET NAME AND POSITION\n",
    "sheet1 = wb.create_sheet('Table', 0)\n",
    "sheet2 = wb.create_sheet('Graphs',1)"
   ]
  },
  {
   "cell_type": "code",
   "execution_count": 79,
   "metadata": {
    "ExecuteTime": {
     "end_time": "2020-02-25T21:49:30.989179Z",
     "start_time": "2020-02-25T21:49:30.964182Z"
    }
   },
   "outputs": [],
   "source": [
    "# ACTIVATE WORKSHEET TO WRITE DATAFRAME\n",
    "active = wb['Table']\n",
    "\n",
    "# WRTIE DATAFRAME TO ACTIVE WORKSHEET\n",
    "for x in dataframe_to_rows(df_daily_unstacked_1): # {\n",
    "    active.append(x)\n",
    "# }\n",
    "\n",
    "# SAVE \n",
    "wb.save(filename_str)"
   ]
  },
  {
   "cell_type": "code",
   "execution_count": 80,
   "metadata": {
    "ExecuteTime": {
     "end_time": "2020-02-25T22:01:50.940631Z",
     "start_time": "2020-02-25T22:01:50.931633Z"
    }
   },
   "outputs": [
    {
     "data": {
      "image/png": "[encoded data removed]",
      "text/plain": [
       "<Figure size 432x288 with 1 Axes>"
      ]
     },
     "metadata": {
      "needs_background": "light"
     },
     "output_type": "display_data"
    }
   ],
   "source": [
    "# CREATE LINE PLOT VARIABLE\n",
    "plot = df_daily_unstacked_1.plot()"
   ]
  },
  {
   "cell_type": "code",
   "execution_count": 81,
   "metadata": {},
   "outputs": [
    {
     "data": {
      "image/png": "[encoded data removed]",
      "text/plain": [
       "<Figure size 432x288 with 1 Axes>"
      ]
     },
     "metadata": {
      "needs_background": "light"
     },
     "output_type": "display_data"
    }
   ],
   "source": [
    "# CREATE AREA PLOT VARIABLE\n",
    "area_plot = df_daily_unstacked_1.plot(kind='area')"
   ]
  },
  {
   "cell_type": "code",
   "execution_count": 82,
   "metadata": {},
   "outputs": [],
   "source": [
    "# CREATE BAR PLOT VARIABLE\n",
    "# [2020-02-27]\\\\bar_plot = df_daily_unstacked_1.plot(kind='barh')"
   ]
  },
  {
   "cell_type": "code",
   "execution_count": 83,
   "metadata": {},
   "outputs": [],
   "source": [
    "# CREATE kde PLOT VARIABLE\n",
    "# [2020-02-27]\\\\kde_plot = df_daily_unstacked_1.plot(kind='kde')"
   ]
  },
  {
   "cell_type": "markdown",
   "metadata": {},
   "source": [
    "### create `figure` vairables"
   ]
  },
  {
   "cell_type": "code",
   "execution_count": 84,
   "metadata": {},
   "outputs": [
    {
     "data": {
      "text/plain": [
       "'\\n# MATPLOTLIB figure for \"bar_plot\"\\nbar_fig = bar_plot.get_figure()\\n# MATPLOTLIB figure for \"kde_plot\"\\nkde_fig = kde_plot.get_figure()\\n'"
      ]
     },
     "execution_count": 84,
     "metadata": {},
     "output_type": "execute_result"
    }
   ],
   "source": [
    "# MATPLOTLIB figure for \"line_plot\"\n",
    "fig = plot.get_figure()\n",
    "# MATPLOTLIB figure for \"area_plot\"\n",
    "area_fig = area_plot.get_figure()\n",
    "\"\"\"\n",
    "# MATPLOTLIB figure for \"bar_plot\"\n",
    "bar_fig = bar_plot.get_figure()\n",
    "# MATPLOTLIB figure for \"kde_plot\"\n",
    "kde_fig = kde_plot.get_figure()\n",
    "\"\"\""
   ]
  },
  {
   "cell_type": "raw",
   "metadata": {},
   "source": [
    "with tempfile.TemporaryDirectory() as directory_name: # {\n",
    "    the_dir = Path(directory_name)\n",
    "    print(the_dir)\n",
    "    \n",
    "    }"
   ]
  },
  {
   "cell_type": "code",
   "execution_count": 85,
   "metadata": {
    "ExecuteTime": {
     "end_time": "2020-02-25T21:59:34.302082Z",
     "start_time": "2020-02-25T21:59:34.115080Z"
    }
   },
   "outputs": [
    {
     "data": {
      "text/plain": [
       "'\\n# SAVE BAR PLOT\\nbar_fig.savefig(ts_str + \"_bar_plot.png\")\\n# SAVE KDE PLOT\\nkde_fig.savefig(ts_str + \"_kde_plot.png\")\\n'"
      ]
     },
     "execution_count": 85,
     "metadata": {},
     "output_type": "execute_result"
    }
   ],
   "source": [
    "# SAVE LINE PLOT\n",
    "fig.savefig(ts_str + \"_line_plot.png\")\n",
    "# SAVE AREA PLOT\n",
    "area_fig.savefig(ts_str + \"_area_plot.png\")\n",
    "\"\"\"\n",
    "# SAVE BAR PLOT\n",
    "bar_fig.savefig(ts_str + \"_bar_plot.png\")\n",
    "# SAVE KDE PLOT\n",
    "kde_fig.savefig(ts_str + \"_kde_plot.png\")\n",
    "\"\"\""
   ]
  },
  {
   "cell_type": "code",
   "execution_count": 86,
   "metadata": {},
   "outputs": [],
   "source": [
    "# ACTIVATE WORKSHEET\n",
    "active = wb['Graphs']"
   ]
  },
  {
   "cell_type": "code",
   "execution_count": 87,
   "metadata": {},
   "outputs": [],
   "source": [
    "# Insert Plot into worksheet\n",
    "# Select active sheet and cell reference\n",
    "img_line = Image(ts_str + \"_line_plot.png\")\n",
    "active.add_image(img_line, 'A1')"
   ]
  },
  {
   "cell_type": "code",
   "execution_count": 88,
   "metadata": {},
   "outputs": [],
   "source": [
    "# Insert Plot into worksheet\n",
    "# Select active sheet and cell reference\n",
    "img_area = Image(ts_str + \"_area_plot.png\")\n",
    "active.add_image(img_area, \"H1\")"
   ]
  },
  {
   "cell_type": "code",
   "execution_count": 89,
   "metadata": {},
   "outputs": [],
   "source": [
    "# SAVE WORKBOOK\n",
    "wb.save(filename_str)"
   ]
  },
  {
   "cell_type": "code",
   "execution_count": 90,
   "metadata": {},
   "outputs": [],
   "source": [
    "# WRITE DATAFRAME TO ACTIVE WORKSHEET"
   ]
  },
  {
   "cell_type": "raw",
   "metadata": {
    "raw_mimetype": "text/markdown"
   },
   "source": [
    "### `unstack` data **columns** (axis=0)"
   ]
  },
  {
   "cell_type": "raw",
   "metadata": {
    "ExecuteTime": {
     "end_time": "2020-02-25T19:12:13.623721Z",
     "start_time": "2020-02-25T19:12:13.607720Z"
    },
    "raw_mimetype": "text/x-python"
   },
   "source": [
    "test_unstack = df_daily_unstacked_1.columns.unstack(level=0)"
   ]
  },
  {
   "cell_type": "raw",
   "metadata": {
    "ExecuteTime": {
     "end_time": "2020-02-25T16:13:38.106487Z",
     "start_time": "2020-02-25T16:13:38.096482Z"
    },
    "raw_mimetype": "text/x-python"
   },
   "source": [
    "df_daily_levels.unstack(level=1).to_csv(\"df_daily_levels_UNSTACKED.csv\", index=True)"
   ]
  },
  {
   "cell_type": "raw",
   "metadata": {
    "ExecuteTime": {
     "end_time": "2020-02-25T21:02:59.345471Z",
     "start_time": "2020-02-25T21:02:09.390Z"
    },
    "raw_mimetype": "text/x-python"
   },
   "source": [
    "df_daily_unstacked = df_daily_levels.unstack(0)\n",
    "df_daily_unstacked"
   ]
  },
  {
   "cell_type": "raw",
   "metadata": {
    "ExecuteTime": {
     "end_time": "2020-02-25T21:02:59.346469Z",
     "start_time": "2020-02-25T21:02:09.401Z"
    },
    "raw_mimetype": "text/x-python"
   },
   "source": [
    "df_daily_unstacked.info()"
   ]
  },
  {
   "cell_type": "raw",
   "metadata": {
    "ExecuteTime": {
     "end_time": "2020-02-25T21:02:59.348469Z",
     "start_time": "2020-02-25T21:02:09.407Z"
    },
    "raw_mimetype": "text/x-python"
   },
   "source": [
    "df_daily_unstacked.to_csv(\"df_daily_levels_2020_02_25_unstacked.csv\", index=True)"
   ]
  },
  {
   "cell_type": "raw",
   "metadata": {
    "ExecuteTime": {
     "end_time": "2020-02-25T21:02:59.349471Z",
     "start_time": "2020-02-25T21:02:09.415Z"
    },
    "raw_mimetype": "text/x-python"
   },
   "source": [
    "for row in df_daily_levels.unstack(0).itertuples(index=True): # {\n",
    "    print(len(row))\n",
    "# }"
   ]
  },
  {
   "cell_type": "raw",
   "metadata": {
    "ExecuteTime": {
     "end_time": "2020-02-24T16:47:24.782377Z",
     "start_time": "2020-02-24T16:47:24.775342Z"
    },
    "raw_mimetype": "text/x-python"
   },
   "source": [
    "merged = df_daily_levels.merge(df_month_range.set_index(['QCDate']), left_index=True, right_index=True,\n",
    "                              how='left')"
   ]
  },
  {
   "cell_type": "raw",
   "metadata": {
    "ExecuteTime": {
     "end_time": "2020-02-24T16:22:57.040002Z",
     "start_time": "2020-02-24T16:22:57.021971Z"
    },
    "raw_mimetype": "text/x-python"
   },
   "source": [
    "merged = df_daily_levels.join(df_month_range, on = df_daily_levels.index, how = 'right', lsuffix='_x')"
   ]
  },
  {
   "cell_type": "raw",
   "metadata": {
    "ExecuteTime": {
     "end_time": "2020-02-24T17:10:08.138037Z",
     "start_time": "2020-02-24T17:10:07.856031Z"
    },
    "raw_mimetype": "text/x-python"
   },
   "source": [
    "merged = pd.merge(left=df_daily_levels, right=df_month_range)"
   ]
  },
  {
   "cell_type": "raw",
   "metadata": {
    "ExecuteTime": {
     "end_time": "2020-02-25T19:51:13.660538Z",
     "start_time": "2020-02-25T19:51:13.650538Z"
    },
    "raw_mimetype": "text/x-python"
   },
   "source": [
    "merged = df_daily_levels.append(df_month_range, ignore_index=True, sort=True)"
   ]
  },
  {
   "cell_type": "markdown",
   "metadata": {},
   "source": [
    "---\n",
    "# Create *empty* `DataFrame` to hold **FINAL** `Metrics` \n",
    "*(and lists to hold columns*)"
   ]
  },
  {
   "cell_type": "code",
   "execution_count": 91,
   "metadata": {
    "ExecuteTime": {
     "end_time": "2020-02-25T21:35:22.896713Z",
     "start_time": "2020-02-25T21:35:22.888715Z"
    }
   },
   "outputs": [],
   "source": [
    "QCMetrics_Month = pd.DataFrame(data=None,\n",
    "                              index=pd.date_range(start=one_month_ago,\n",
    "                                                 end=test_date,\n",
    "                                                 freq='D',\n",
    "                                                 name='QCDate'),\n",
    "                              columns=pd.CategoricalIndex(['L1', 'L2', 'L3'], name='Levels')\n",
    "                              )"
   ]
  },
  {
   "cell_type": "code",
   "execution_count": 92,
   "metadata": {
    "ExecuteTime": {
     "end_time": "2020-02-25T21:35:39.507832Z",
     "start_time": "2020-02-25T21:35:39.502314Z"
    }
   },
   "outputs": [
    {
     "data": {
      "text/plain": [
       "DatetimeIndex(['2020-01-27', '2020-01-28', '2020-01-29', '2020-01-30',\n",
       "               '2020-01-31', '2020-02-01', '2020-02-02', '2020-02-03',\n",
       "               '2020-02-04', '2020-02-05', '2020-02-06', '2020-02-07',\n",
       "               '2020-02-08', '2020-02-09', '2020-02-10', '2020-02-11',\n",
       "               '2020-02-12', '2020-02-13', '2020-02-14', '2020-02-15',\n",
       "               '2020-02-16', '2020-02-17', '2020-02-18', '2020-02-19',\n",
       "               '2020-02-20', '2020-02-21', '2020-02-22', '2020-02-23',\n",
       "               '2020-02-24', '2020-02-25', '2020-02-26'],\n",
       "              dtype='datetime64[ns]', name='QCDate', freq='D')"
      ]
     },
     "execution_count": 92,
     "metadata": {},
     "output_type": "execute_result"
    }
   ],
   "source": [
    "QCMetrics_Month.index"
   ]
  },
  {
   "cell_type": "code",
   "execution_count": 93,
   "metadata": {
    "ExecuteTime": {
     "end_time": "2020-02-25T21:35:55.718826Z",
     "start_time": "2020-02-25T21:35:55.708791Z"
    }
   },
   "outputs": [
    {
     "data": {
      "text/plain": [
       "CategoricalIndex(['L1', 'L2', 'L3'], categories=['L1', 'L2', 'L3'], ordered=False, name='Levels', dtype='category')"
      ]
     },
     "execution_count": 93,
     "metadata": {},
     "output_type": "execute_result"
    }
   ],
   "source": [
    "QCMetrics_Month.columns"
   ]
  },
  {
   "cell_type": "code",
   "execution_count": 94,
   "metadata": {
    "ExecuteTime": {
     "end_time": "2020-02-25T21:36:11.961181Z",
     "start_time": "2020-02-25T21:36:11.948182Z"
    }
   },
   "outputs": [
    {
     "data": {
      "text/html": [
       "<div>\n",
       "<style scoped>\n",
       "    .dataframe tbody tr th:only-of-type {\n",
       "        vertical-align: middle;\n",
       "    }\n",
       "\n",
       "    .dataframe tbody tr th {\n",
       "        vertical-align: top;\n",
       "    }\n",
       "\n",
       "    .dataframe thead th {\n",
       "        text-align: right;\n",
       "    }\n",
       "</style>\n",
       "<table border=\"1\" class=\"dataframe\">\n",
       "  <thead>\n",
       "    <tr style=\"text-align: right;\">\n",
       "      <th>Levels</th>\n",
       "      <th>L1</th>\n",
       "      <th>L2</th>\n",
       "      <th>L3</th>\n",
       "    </tr>\n",
       "    <tr>\n",
       "      <th>QCDate</th>\n",
       "      <th></th>\n",
       "      <th></th>\n",
       "      <th></th>\n",
       "    </tr>\n",
       "  </thead>\n",
       "  <tbody>\n",
       "    <tr>\n",
       "      <td>2020-01-27</td>\n",
       "      <td>NaN</td>\n",
       "      <td>NaN</td>\n",
       "      <td>NaN</td>\n",
       "    </tr>\n",
       "    <tr>\n",
       "      <td>2020-01-28</td>\n",
       "      <td>NaN</td>\n",
       "      <td>NaN</td>\n",
       "      <td>NaN</td>\n",
       "    </tr>\n",
       "    <tr>\n",
       "      <td>2020-01-29</td>\n",
       "      <td>NaN</td>\n",
       "      <td>NaN</td>\n",
       "      <td>NaN</td>\n",
       "    </tr>\n",
       "    <tr>\n",
       "      <td>2020-01-30</td>\n",
       "      <td>NaN</td>\n",
       "      <td>NaN</td>\n",
       "      <td>NaN</td>\n",
       "    </tr>\n",
       "    <tr>\n",
       "      <td>2020-01-31</td>\n",
       "      <td>NaN</td>\n",
       "      <td>NaN</td>\n",
       "      <td>NaN</td>\n",
       "    </tr>\n",
       "    <tr>\n",
       "      <td>2020-02-01</td>\n",
       "      <td>NaN</td>\n",
       "      <td>NaN</td>\n",
       "      <td>NaN</td>\n",
       "    </tr>\n",
       "    <tr>\n",
       "      <td>2020-02-02</td>\n",
       "      <td>NaN</td>\n",
       "      <td>NaN</td>\n",
       "      <td>NaN</td>\n",
       "    </tr>\n",
       "    <tr>\n",
       "      <td>2020-02-03</td>\n",
       "      <td>NaN</td>\n",
       "      <td>NaN</td>\n",
       "      <td>NaN</td>\n",
       "    </tr>\n",
       "    <tr>\n",
       "      <td>2020-02-04</td>\n",
       "      <td>NaN</td>\n",
       "      <td>NaN</td>\n",
       "      <td>NaN</td>\n",
       "    </tr>\n",
       "    <tr>\n",
       "      <td>2020-02-05</td>\n",
       "      <td>NaN</td>\n",
       "      <td>NaN</td>\n",
       "      <td>NaN</td>\n",
       "    </tr>\n",
       "    <tr>\n",
       "      <td>2020-02-06</td>\n",
       "      <td>NaN</td>\n",
       "      <td>NaN</td>\n",
       "      <td>NaN</td>\n",
       "    </tr>\n",
       "    <tr>\n",
       "      <td>2020-02-07</td>\n",
       "      <td>NaN</td>\n",
       "      <td>NaN</td>\n",
       "      <td>NaN</td>\n",
       "    </tr>\n",
       "    <tr>\n",
       "      <td>2020-02-08</td>\n",
       "      <td>NaN</td>\n",
       "      <td>NaN</td>\n",
       "      <td>NaN</td>\n",
       "    </tr>\n",
       "    <tr>\n",
       "      <td>2020-02-09</td>\n",
       "      <td>NaN</td>\n",
       "      <td>NaN</td>\n",
       "      <td>NaN</td>\n",
       "    </tr>\n",
       "    <tr>\n",
       "      <td>2020-02-10</td>\n",
       "      <td>NaN</td>\n",
       "      <td>NaN</td>\n",
       "      <td>NaN</td>\n",
       "    </tr>\n",
       "    <tr>\n",
       "      <td>2020-02-11</td>\n",
       "      <td>NaN</td>\n",
       "      <td>NaN</td>\n",
       "      <td>NaN</td>\n",
       "    </tr>\n",
       "    <tr>\n",
       "      <td>2020-02-12</td>\n",
       "      <td>NaN</td>\n",
       "      <td>NaN</td>\n",
       "      <td>NaN</td>\n",
       "    </tr>\n",
       "    <tr>\n",
       "      <td>2020-02-13</td>\n",
       "      <td>NaN</td>\n",
       "      <td>NaN</td>\n",
       "      <td>NaN</td>\n",
       "    </tr>\n",
       "    <tr>\n",
       "      <td>2020-02-14</td>\n",
       "      <td>NaN</td>\n",
       "      <td>NaN</td>\n",
       "      <td>NaN</td>\n",
       "    </tr>\n",
       "    <tr>\n",
       "      <td>2020-02-15</td>\n",
       "      <td>NaN</td>\n",
       "      <td>NaN</td>\n",
       "      <td>NaN</td>\n",
       "    </tr>\n",
       "    <tr>\n",
       "      <td>2020-02-16</td>\n",
       "      <td>NaN</td>\n",
       "      <td>NaN</td>\n",
       "      <td>NaN</td>\n",
       "    </tr>\n",
       "    <tr>\n",
       "      <td>2020-02-17</td>\n",
       "      <td>NaN</td>\n",
       "      <td>NaN</td>\n",
       "      <td>NaN</td>\n",
       "    </tr>\n",
       "    <tr>\n",
       "      <td>2020-02-18</td>\n",
       "      <td>NaN</td>\n",
       "      <td>NaN</td>\n",
       "      <td>NaN</td>\n",
       "    </tr>\n",
       "    <tr>\n",
       "      <td>2020-02-19</td>\n",
       "      <td>NaN</td>\n",
       "      <td>NaN</td>\n",
       "      <td>NaN</td>\n",
       "    </tr>\n",
       "    <tr>\n",
       "      <td>2020-02-20</td>\n",
       "      <td>NaN</td>\n",
       "      <td>NaN</td>\n",
       "      <td>NaN</td>\n",
       "    </tr>\n",
       "    <tr>\n",
       "      <td>2020-02-21</td>\n",
       "      <td>NaN</td>\n",
       "      <td>NaN</td>\n",
       "      <td>NaN</td>\n",
       "    </tr>\n",
       "    <tr>\n",
       "      <td>2020-02-22</td>\n",
       "      <td>NaN</td>\n",
       "      <td>NaN</td>\n",
       "      <td>NaN</td>\n",
       "    </tr>\n",
       "    <tr>\n",
       "      <td>2020-02-23</td>\n",
       "      <td>NaN</td>\n",
       "      <td>NaN</td>\n",
       "      <td>NaN</td>\n",
       "    </tr>\n",
       "    <tr>\n",
       "      <td>2020-02-24</td>\n",
       "      <td>NaN</td>\n",
       "      <td>NaN</td>\n",
       "      <td>NaN</td>\n",
       "    </tr>\n",
       "    <tr>\n",
       "      <td>2020-02-25</td>\n",
       "      <td>NaN</td>\n",
       "      <td>NaN</td>\n",
       "      <td>NaN</td>\n",
       "    </tr>\n",
       "    <tr>\n",
       "      <td>2020-02-26</td>\n",
       "      <td>NaN</td>\n",
       "      <td>NaN</td>\n",
       "      <td>NaN</td>\n",
       "    </tr>\n",
       "  </tbody>\n",
       "</table>\n",
       "</div>"
      ],
      "text/plain": [
       "Levels       L1   L2   L3\n",
       "QCDate                   \n",
       "2020-01-27  NaN  NaN  NaN\n",
       "2020-01-28  NaN  NaN  NaN\n",
       "2020-01-29  NaN  NaN  NaN\n",
       "2020-01-30  NaN  NaN  NaN\n",
       "2020-01-31  NaN  NaN  NaN\n",
       "2020-02-01  NaN  NaN  NaN\n",
       "2020-02-02  NaN  NaN  NaN\n",
       "2020-02-03  NaN  NaN  NaN\n",
       "2020-02-04  NaN  NaN  NaN\n",
       "2020-02-05  NaN  NaN  NaN\n",
       "2020-02-06  NaN  NaN  NaN\n",
       "2020-02-07  NaN  NaN  NaN\n",
       "2020-02-08  NaN  NaN  NaN\n",
       "2020-02-09  NaN  NaN  NaN\n",
       "2020-02-10  NaN  NaN  NaN\n",
       "2020-02-11  NaN  NaN  NaN\n",
       "2020-02-12  NaN  NaN  NaN\n",
       "2020-02-13  NaN  NaN  NaN\n",
       "2020-02-14  NaN  NaN  NaN\n",
       "2020-02-15  NaN  NaN  NaN\n",
       "2020-02-16  NaN  NaN  NaN\n",
       "2020-02-17  NaN  NaN  NaN\n",
       "2020-02-18  NaN  NaN  NaN\n",
       "2020-02-19  NaN  NaN  NaN\n",
       "2020-02-20  NaN  NaN  NaN\n",
       "2020-02-21  NaN  NaN  NaN\n",
       "2020-02-22  NaN  NaN  NaN\n",
       "2020-02-23  NaN  NaN  NaN\n",
       "2020-02-24  NaN  NaN  NaN\n",
       "2020-02-25  NaN  NaN  NaN\n",
       "2020-02-26  NaN  NaN  NaN"
      ]
     },
     "execution_count": 94,
     "metadata": {},
     "output_type": "execute_result"
    }
   ],
   "source": [
    "QCMetrics_Month"
   ]
  },
  {
   "cell_type": "code",
   "execution_count": 95,
   "metadata": {
    "ExecuteTime": {
     "end_time": "2020-02-25T21:36:28.406344Z",
     "start_time": "2020-02-25T21:36:28.396822Z"
    }
   },
   "outputs": [
    {
     "data": {
      "text/html": [
       "<div>\n",
       "<style scoped>\n",
       "    .dataframe tbody tr th:only-of-type {\n",
       "        vertical-align: middle;\n",
       "    }\n",
       "\n",
       "    .dataframe tbody tr th {\n",
       "        vertical-align: top;\n",
       "    }\n",
       "\n",
       "    .dataframe thead th {\n",
       "        text-align: right;\n",
       "    }\n",
       "</style>\n",
       "<table border=\"1\" class=\"dataframe\">\n",
       "  <thead>\n",
       "    <tr style=\"text-align: right;\">\n",
       "      <th></th>\n",
       "      <th></th>\n",
       "      <th>Count</th>\n",
       "    </tr>\n",
       "    <tr>\n",
       "      <th>QCDate</th>\n",
       "      <th>QCValidation</th>\n",
       "      <th></th>\n",
       "    </tr>\n",
       "  </thead>\n",
       "  <tbody>\n",
       "    <tr>\n",
       "      <td>2020-01-27</td>\n",
       "      <td>1.0</td>\n",
       "      <td>35</td>\n",
       "    </tr>\n",
       "    <tr>\n",
       "      <td>2020-01-28</td>\n",
       "      <td>1.0</td>\n",
       "      <td>14</td>\n",
       "    </tr>\n",
       "    <tr>\n",
       "      <td>2020-01-29</td>\n",
       "      <td>1.0</td>\n",
       "      <td>24</td>\n",
       "    </tr>\n",
       "    <tr>\n",
       "      <td rowspan=\"2\" valign=\"top\">2020-01-30</td>\n",
       "      <td>1.0</td>\n",
       "      <td>21</td>\n",
       "    </tr>\n",
       "    <tr>\n",
       "      <td>2.0</td>\n",
       "      <td>1</td>\n",
       "    </tr>\n",
       "  </tbody>\n",
       "</table>\n",
       "</div>"
      ],
      "text/plain": [
       "                         Count\n",
       "QCDate     QCValidation       \n",
       "2020-01-27 1.0              35\n",
       "2020-01-28 1.0              14\n",
       "2020-01-29 1.0              24\n",
       "2020-01-30 1.0              21\n",
       "           2.0               1"
      ]
     },
     "execution_count": 95,
     "metadata": {},
     "output_type": "execute_result"
    }
   ],
   "source": [
    "df_daily_levels.head(5)"
   ]
  },
  {
   "cell_type": "raw",
   "metadata": {
    "ExecuteTime": {
     "end_time": "2020-02-25T21:43:46.951182Z",
     "start_time": "2020-02-25T21:43:46.937181Z"
    },
    "raw_mimetype": "text/x-python"
   },
   "source": [
    "result = pd.concat([QCMetrics_Month, df_daily_unstacked_1],\n",
    "                   ignore_index=False, sort=True)"
   ]
  },
  {
   "cell_type": "raw",
   "metadata": {
    "ExecuteTime": {
     "end_time": "2020-02-25T21:44:03.166945Z",
     "start_time": "2020-02-25T21:44:03.149370Z"
    },
    "raw_mimetype": "text/x-python"
   },
   "source": [
    "# result"
   ]
  },
  {
   "cell_type": "code",
   "execution_count": 96,
   "metadata": {
    "ExecuteTime": {
     "end_time": "2020-02-25T21:37:18.224811Z",
     "start_time": "2020-02-25T21:37:18.215293Z"
    }
   },
   "outputs": [],
   "source": [
    "result = df_daily_levels.join(QCMetrics_Month, \n",
    "                              on = ['QCDate'],\n",
    "                              how='inner', \n",
    "                              sort=True)"
   ]
  },
  {
   "cell_type": "code",
   "execution_count": 97,
   "metadata": {
    "ExecuteTime": {
     "end_time": "2020-02-25T21:37:34.878890Z",
     "start_time": "2020-02-25T21:37:34.864891Z"
    }
   },
   "outputs": [
    {
     "data": {
      "text/html": [
       "<div>\n",
       "<style scoped>\n",
       "    .dataframe tbody tr th:only-of-type {\n",
       "        vertical-align: middle;\n",
       "    }\n",
       "\n",
       "    .dataframe tbody tr th {\n",
       "        vertical-align: top;\n",
       "    }\n",
       "\n",
       "    .dataframe thead th {\n",
       "        text-align: right;\n",
       "    }\n",
       "</style>\n",
       "<table border=\"1\" class=\"dataframe\">\n",
       "  <thead>\n",
       "    <tr style=\"text-align: right;\">\n",
       "      <th></th>\n",
       "      <th></th>\n",
       "      <th>Count</th>\n",
       "      <th>L1</th>\n",
       "      <th>L2</th>\n",
       "      <th>L3</th>\n",
       "    </tr>\n",
       "    <tr>\n",
       "      <th>QCDate</th>\n",
       "      <th>QCValidation</th>\n",
       "      <th></th>\n",
       "      <th></th>\n",
       "      <th></th>\n",
       "      <th></th>\n",
       "    </tr>\n",
       "  </thead>\n",
       "  <tbody>\n",
       "    <tr>\n",
       "      <td>2020-01-27</td>\n",
       "      <td>1.0</td>\n",
       "      <td>35</td>\n",
       "      <td>NaN</td>\n",
       "      <td>NaN</td>\n",
       "      <td>NaN</td>\n",
       "    </tr>\n",
       "    <tr>\n",
       "      <td>2020-01-28</td>\n",
       "      <td>1.0</td>\n",
       "      <td>14</td>\n",
       "      <td>NaN</td>\n",
       "      <td>NaN</td>\n",
       "      <td>NaN</td>\n",
       "    </tr>\n",
       "    <tr>\n",
       "      <td>2020-01-29</td>\n",
       "      <td>1.0</td>\n",
       "      <td>24</td>\n",
       "      <td>NaN</td>\n",
       "      <td>NaN</td>\n",
       "      <td>NaN</td>\n",
       "    </tr>\n",
       "    <tr>\n",
       "      <td rowspan=\"2\" valign=\"top\">2020-01-30</td>\n",
       "      <td>1.0</td>\n",
       "      <td>21</td>\n",
       "      <td>NaN</td>\n",
       "      <td>NaN</td>\n",
       "      <td>NaN</td>\n",
       "    </tr>\n",
       "    <tr>\n",
       "      <td>2.0</td>\n",
       "      <td>1</td>\n",
       "      <td>NaN</td>\n",
       "      <td>NaN</td>\n",
       "      <td>NaN</td>\n",
       "    </tr>\n",
       "    <tr>\n",
       "      <td>2020-01-31</td>\n",
       "      <td>1.0</td>\n",
       "      <td>8</td>\n",
       "      <td>NaN</td>\n",
       "      <td>NaN</td>\n",
       "      <td>NaN</td>\n",
       "    </tr>\n",
       "    <tr>\n",
       "      <td rowspan=\"3\" valign=\"top\">2020-02-03</td>\n",
       "      <td>1.0</td>\n",
       "      <td>10</td>\n",
       "      <td>NaN</td>\n",
       "      <td>NaN</td>\n",
       "      <td>NaN</td>\n",
       "    </tr>\n",
       "    <tr>\n",
       "      <td>2.0</td>\n",
       "      <td>1</td>\n",
       "      <td>NaN</td>\n",
       "      <td>NaN</td>\n",
       "      <td>NaN</td>\n",
       "    </tr>\n",
       "    <tr>\n",
       "      <td>3.0</td>\n",
       "      <td>2</td>\n",
       "      <td>NaN</td>\n",
       "      <td>NaN</td>\n",
       "      <td>NaN</td>\n",
       "    </tr>\n",
       "    <tr>\n",
       "      <td>2020-02-04</td>\n",
       "      <td>1.0</td>\n",
       "      <td>33</td>\n",
       "      <td>NaN</td>\n",
       "      <td>NaN</td>\n",
       "      <td>NaN</td>\n",
       "    </tr>\n",
       "    <tr>\n",
       "      <td rowspan=\"2\" valign=\"top\">2020-02-05</td>\n",
       "      <td>1.0</td>\n",
       "      <td>23</td>\n",
       "      <td>NaN</td>\n",
       "      <td>NaN</td>\n",
       "      <td>NaN</td>\n",
       "    </tr>\n",
       "    <tr>\n",
       "      <td>3.0</td>\n",
       "      <td>1</td>\n",
       "      <td>NaN</td>\n",
       "      <td>NaN</td>\n",
       "      <td>NaN</td>\n",
       "    </tr>\n",
       "    <tr>\n",
       "      <td rowspan=\"2\" valign=\"top\">2020-02-06</td>\n",
       "      <td>1.0</td>\n",
       "      <td>40</td>\n",
       "      <td>NaN</td>\n",
       "      <td>NaN</td>\n",
       "      <td>NaN</td>\n",
       "    </tr>\n",
       "    <tr>\n",
       "      <td>3.0</td>\n",
       "      <td>2</td>\n",
       "      <td>NaN</td>\n",
       "      <td>NaN</td>\n",
       "      <td>NaN</td>\n",
       "    </tr>\n",
       "    <tr>\n",
       "      <td rowspan=\"2\" valign=\"top\">2020-02-07</td>\n",
       "      <td>1.0</td>\n",
       "      <td>29</td>\n",
       "      <td>NaN</td>\n",
       "      <td>NaN</td>\n",
       "      <td>NaN</td>\n",
       "    </tr>\n",
       "    <tr>\n",
       "      <td>2.0</td>\n",
       "      <td>3</td>\n",
       "      <td>NaN</td>\n",
       "      <td>NaN</td>\n",
       "      <td>NaN</td>\n",
       "    </tr>\n",
       "    <tr>\n",
       "      <td>2020-02-08</td>\n",
       "      <td>1.0</td>\n",
       "      <td>2</td>\n",
       "      <td>NaN</td>\n",
       "      <td>NaN</td>\n",
       "      <td>NaN</td>\n",
       "    </tr>\n",
       "    <tr>\n",
       "      <td rowspan=\"2\" valign=\"top\">2020-02-10</td>\n",
       "      <td>1.0</td>\n",
       "      <td>46</td>\n",
       "      <td>NaN</td>\n",
       "      <td>NaN</td>\n",
       "      <td>NaN</td>\n",
       "    </tr>\n",
       "    <tr>\n",
       "      <td>3.0</td>\n",
       "      <td>1</td>\n",
       "      <td>NaN</td>\n",
       "      <td>NaN</td>\n",
       "      <td>NaN</td>\n",
       "    </tr>\n",
       "    <tr>\n",
       "      <td>2020-02-11</td>\n",
       "      <td>1.0</td>\n",
       "      <td>41</td>\n",
       "      <td>NaN</td>\n",
       "      <td>NaN</td>\n",
       "      <td>NaN</td>\n",
       "    </tr>\n",
       "    <tr>\n",
       "      <td>2020-02-12</td>\n",
       "      <td>1.0</td>\n",
       "      <td>24</td>\n",
       "      <td>NaN</td>\n",
       "      <td>NaN</td>\n",
       "      <td>NaN</td>\n",
       "    </tr>\n",
       "    <tr>\n",
       "      <td rowspan=\"2\" valign=\"top\">2020-02-13</td>\n",
       "      <td>1.0</td>\n",
       "      <td>33</td>\n",
       "      <td>NaN</td>\n",
       "      <td>NaN</td>\n",
       "      <td>NaN</td>\n",
       "    </tr>\n",
       "    <tr>\n",
       "      <td>3.0</td>\n",
       "      <td>1</td>\n",
       "      <td>NaN</td>\n",
       "      <td>NaN</td>\n",
       "      <td>NaN</td>\n",
       "    </tr>\n",
       "    <tr>\n",
       "      <td>2020-02-14</td>\n",
       "      <td>1.0</td>\n",
       "      <td>24</td>\n",
       "      <td>NaN</td>\n",
       "      <td>NaN</td>\n",
       "      <td>NaN</td>\n",
       "    </tr>\n",
       "    <tr>\n",
       "      <td>2020-02-15</td>\n",
       "      <td>1.0</td>\n",
       "      <td>2</td>\n",
       "      <td>NaN</td>\n",
       "      <td>NaN</td>\n",
       "      <td>NaN</td>\n",
       "    </tr>\n",
       "    <tr>\n",
       "      <td rowspan=\"3\" valign=\"top\">2020-02-18</td>\n",
       "      <td>1.0</td>\n",
       "      <td>29</td>\n",
       "      <td>NaN</td>\n",
       "      <td>NaN</td>\n",
       "      <td>NaN</td>\n",
       "    </tr>\n",
       "    <tr>\n",
       "      <td>2.0</td>\n",
       "      <td>1</td>\n",
       "      <td>NaN</td>\n",
       "      <td>NaN</td>\n",
       "      <td>NaN</td>\n",
       "    </tr>\n",
       "    <tr>\n",
       "      <td>3.0</td>\n",
       "      <td>1</td>\n",
       "      <td>NaN</td>\n",
       "      <td>NaN</td>\n",
       "      <td>NaN</td>\n",
       "    </tr>\n",
       "    <tr>\n",
       "      <td>2020-02-19</td>\n",
       "      <td>1.0</td>\n",
       "      <td>37</td>\n",
       "      <td>NaN</td>\n",
       "      <td>NaN</td>\n",
       "      <td>NaN</td>\n",
       "    </tr>\n",
       "    <tr>\n",
       "      <td>2020-02-20</td>\n",
       "      <td>1.0</td>\n",
       "      <td>29</td>\n",
       "      <td>NaN</td>\n",
       "      <td>NaN</td>\n",
       "      <td>NaN</td>\n",
       "    </tr>\n",
       "    <tr>\n",
       "      <td>2020-02-21</td>\n",
       "      <td>1.0</td>\n",
       "      <td>36</td>\n",
       "      <td>NaN</td>\n",
       "      <td>NaN</td>\n",
       "      <td>NaN</td>\n",
       "    </tr>\n",
       "    <tr>\n",
       "      <td rowspan=\"3\" valign=\"top\">2020-02-24</td>\n",
       "      <td>1.0</td>\n",
       "      <td>14</td>\n",
       "      <td>NaN</td>\n",
       "      <td>NaN</td>\n",
       "      <td>NaN</td>\n",
       "    </tr>\n",
       "    <tr>\n",
       "      <td>2.0</td>\n",
       "      <td>2</td>\n",
       "      <td>NaN</td>\n",
       "      <td>NaN</td>\n",
       "      <td>NaN</td>\n",
       "    </tr>\n",
       "    <tr>\n",
       "      <td>3.0</td>\n",
       "      <td>2</td>\n",
       "      <td>NaN</td>\n",
       "      <td>NaN</td>\n",
       "      <td>NaN</td>\n",
       "    </tr>\n",
       "    <tr>\n",
       "      <td>2020-02-25</td>\n",
       "      <td>1.0</td>\n",
       "      <td>30</td>\n",
       "      <td>NaN</td>\n",
       "      <td>NaN</td>\n",
       "      <td>NaN</td>\n",
       "    </tr>\n",
       "    <tr>\n",
       "      <td rowspan=\"2\" valign=\"top\">2020-02-26</td>\n",
       "      <td>1.0</td>\n",
       "      <td>33</td>\n",
       "      <td>NaN</td>\n",
       "      <td>NaN</td>\n",
       "      <td>NaN</td>\n",
       "    </tr>\n",
       "    <tr>\n",
       "      <td>3.0</td>\n",
       "      <td>2</td>\n",
       "      <td>NaN</td>\n",
       "      <td>NaN</td>\n",
       "      <td>NaN</td>\n",
       "    </tr>\n",
       "  </tbody>\n",
       "</table>\n",
       "</div>"
      ],
      "text/plain": [
       "                         Count   L1   L2   L3\n",
       "QCDate     QCValidation                      \n",
       "2020-01-27 1.0              35  NaN  NaN  NaN\n",
       "2020-01-28 1.0              14  NaN  NaN  NaN\n",
       "2020-01-29 1.0              24  NaN  NaN  NaN\n",
       "2020-01-30 1.0              21  NaN  NaN  NaN\n",
       "           2.0               1  NaN  NaN  NaN\n",
       "2020-01-31 1.0               8  NaN  NaN  NaN\n",
       "2020-02-03 1.0              10  NaN  NaN  NaN\n",
       "           2.0               1  NaN  NaN  NaN\n",
       "           3.0               2  NaN  NaN  NaN\n",
       "2020-02-04 1.0              33  NaN  NaN  NaN\n",
       "2020-02-05 1.0              23  NaN  NaN  NaN\n",
       "           3.0               1  NaN  NaN  NaN\n",
       "2020-02-06 1.0              40  NaN  NaN  NaN\n",
       "           3.0               2  NaN  NaN  NaN\n",
       "2020-02-07 1.0              29  NaN  NaN  NaN\n",
       "           2.0               3  NaN  NaN  NaN\n",
       "2020-02-08 1.0               2  NaN  NaN  NaN\n",
       "2020-02-10 1.0              46  NaN  NaN  NaN\n",
       "           3.0               1  NaN  NaN  NaN\n",
       "2020-02-11 1.0              41  NaN  NaN  NaN\n",
       "2020-02-12 1.0              24  NaN  NaN  NaN\n",
       "2020-02-13 1.0              33  NaN  NaN  NaN\n",
       "           3.0               1  NaN  NaN  NaN\n",
       "2020-02-14 1.0              24  NaN  NaN  NaN\n",
       "2020-02-15 1.0               2  NaN  NaN  NaN\n",
       "2020-02-18 1.0              29  NaN  NaN  NaN\n",
       "           2.0               1  NaN  NaN  NaN\n",
       "           3.0               1  NaN  NaN  NaN\n",
       "2020-02-19 1.0              37  NaN  NaN  NaN\n",
       "2020-02-20 1.0              29  NaN  NaN  NaN\n",
       "2020-02-21 1.0              36  NaN  NaN  NaN\n",
       "2020-02-24 1.0              14  NaN  NaN  NaN\n",
       "           2.0               2  NaN  NaN  NaN\n",
       "           3.0               2  NaN  NaN  NaN\n",
       "2020-02-25 1.0              30  NaN  NaN  NaN\n",
       "2020-02-26 1.0              33  NaN  NaN  NaN\n",
       "           3.0               2  NaN  NaN  NaN"
      ]
     },
     "execution_count": 97,
     "metadata": {},
     "output_type": "execute_result"
    }
   ],
   "source": [
    "result"
   ]
  },
  {
   "cell_type": "code",
   "execution_count": 98,
   "metadata": {
    "ExecuteTime": {
     "end_time": "2020-02-25T21:37:51.846368Z",
     "start_time": "2020-02-25T21:37:51.839367Z"
    }
   },
   "outputs": [
    {
     "name": "stdout",
     "output_type": "stream",
     "text": [
      "<class 'pandas.core.frame.DataFrame'>\n",
      "MultiIndex: 37 entries, (2020-01-27 00:00:00, 1.0) to (2020-02-26 00:00:00, 3.0)\n",
      "Data columns (total 4 columns):\n",
      "Count    37 non-null int64\n",
      "L1       0 non-null object\n",
      "L2       0 non-null object\n",
      "L3       0 non-null object\n",
      "dtypes: int64(1), object(3)\n",
      "memory usage: 1.6+ KB\n"
     ]
    }
   ],
   "source": [
    "result.info()"
   ]
  },
  {
   "cell_type": "code",
   "execution_count": null,
   "metadata": {},
   "outputs": [],
   "source": []
  },
  {
   "cell_type": "markdown",
   "metadata": {},
   "source": [
    "---\n",
    "# messups"
   ]
  },
  {
   "cell_type": "raw",
   "metadata": {},
   "source": [
    "''' Groupby single column in pandas python'''\n",
    "df1.groupby(['State'])['Sales'].count()"
   ]
  },
  {
   "cell_type": "raw",
   "metadata": {},
   "source": [
    "''' Groupby multiple columns '''\n",
    "df1.groupby(['State','Name'])['Sales'].count()"
   ]
  },
  {
   "cell_type": "raw",
   "metadata": {},
   "source": [
    "# sum of score group by Name and Exam \n",
    "df['Score'].groupby([df['Name'],df['Exam']]).sum()"
   ]
  },
  {
   "cell_type": "raw",
   "metadata": {},
   "source": [
    "# sum of score group by Name and Exam\n",
    "df_last_month.index.groupby([df['Name'],df['Exam']]).sum()"
   ]
  },
  {
   "cell_type": "raw",
   "metadata": {},
   "source": [
    "# GROUPBY MULTIPLE COLUMNS\n",
    "df_last_month_l1 = df_last_month.groupby(['PfBatchID'])"
   ]
  },
  {
   "cell_type": "raw",
   "metadata": {},
   "source": [
    "df_daily_level_1"
   ]
  },
  {
   "cell_type": "raw",
   "metadata": {},
   "source": [
    "len(df_daily_level_1['PfIDNo'])"
   ]
  },
  {
   "cell_type": "raw",
   "metadata": {},
   "source": [
    "df_daily_level_1.to_csv(\"df_Daily_level_1.csv\", index=True)"
   ]
  },
  {
   "cell_type": "raw",
   "metadata": {},
   "source": [
    "df_daily_level_1 = df_last_month[df_last_month.QCValidation.isin([\"1\"])]\n",
    "len(df_daily_level_1)"
   ]
  },
  {
   "cell_type": "raw",
   "metadata": {},
   "source": [
    "df_daily_level_2 = df_last_month[df_last_month.QCValidation.isin([\"2\"])]\n",
    "len(df_daily_level_2)"
   ]
  },
  {
   "cell_type": "raw",
   "metadata": {},
   "source": [
    "df_daily_level_3 = df_last_month[df_last_month.QCValidation.isin([\"3\"])]\n",
    "len(df_daily_level_3)\n",
    "df_daily_level_3"
   ]
  },
  {
   "cell_type": "raw",
   "metadata": {},
   "source": [
    "len(df_daily_level_1.resample('D').sum()['pfBatchID'])"
   ]
  },
  {
   "cell_type": "raw",
   "metadata": {},
   "source": [
    "df_daily_level_1.resample('D').sum().to_csv(\"batch_usum.csv\", index=True)"
   ]
  },
  {
   "cell_type": "markdown",
   "metadata": {},
   "source": [
    "---\n",
    "\n",
    "# `ExcelWorkBook` functions"
   ]
  },
  {
   "cell_type": "code",
   "execution_count": 99,
   "metadata": {
    "ExecuteTime": {
     "end_time": "2020-02-25T21:02:59.371471Z",
     "start_time": "2020-02-25T21:02:11.374Z"
    }
   },
   "outputs": [
    {
     "name": "stdout",
     "output_type": "stream",
     "text": [
      "2020-02-26 00:00:00\n"
     ]
    }
   ],
   "source": [
    "# str for filename\n",
    "filename_str = str(test_date) #str(pd.Timestamp.now())[:10]\n",
    "print(filename_str)"
   ]
  },
  {
   "cell_type": "code",
   "execution_count": 100,
   "metadata": {
    "ExecuteTime": {
     "end_time": "2020-02-25T21:02:59.372469Z",
     "start_time": "2020-02-25T21:02:11.382Z"
    }
   },
   "outputs": [],
   "source": [
    "# Create new workbook\n",
    "wb = Workbook()"
   ]
  },
  {
   "cell_type": "code",
   "execution_count": 101,
   "metadata": {
    "ExecuteTime": {
     "end_time": "2020-02-25T21:02:59.375470Z",
     "start_time": "2020-02-25T21:02:11.389Z"
    }
   },
   "outputs": [],
   "source": [
    "# Add sheets to workbook\n",
    "# Designate sheet name and position\n",
    "sheet1 = wb.create_sheet('sheet1',0)\n",
    "sheet2 = wb.create_sheet('sheet2',1)\n",
    "sheet3 = wb.create_sheet('sheet3',2)"
   ]
  },
  {
   "cell_type": "code",
   "execution_count": 102,
   "metadata": {
    "ExecuteTime": {
     "end_time": "2020-02-25T21:02:59.377472Z",
     "start_time": "2020-02-25T21:02:11.397Z"
    }
   },
   "outputs": [
    {
     "ename": "KeyError",
     "evalue": "<class 'pandas._libs.tslibs.nattype.NaTType'>",
     "output_type": "error",
     "traceback": [
      "\u001b[1;31m---------------------------------------------------------------------------\u001b[0m",
      "\u001b[1;31mKeyError\u001b[0m                                  Traceback (most recent call last)",
      "\u001b[1;32m<ipython-input-102-81b2a0c6ffd3>\u001b[0m in \u001b[0;36m<module>\u001b[1;34m\u001b[0m\n\u001b[0;32m      4\u001b[0m \u001b[1;31m# Write dataframe to active worksheet\u001b[0m\u001b[1;33m\u001b[0m\u001b[1;33m\u001b[0m\u001b[0m\n\u001b[0;32m      5\u001b[0m \u001b[1;32mfor\u001b[0m \u001b[0mx\u001b[0m \u001b[1;32min\u001b[0m \u001b[0mdataframe_to_rows\u001b[0m\u001b[1;33m(\u001b[0m\u001b[0mdf_QCMetrics\u001b[0m\u001b[1;33m)\u001b[0m\u001b[1;33m:\u001b[0m\u001b[1;33m\u001b[0m\u001b[0m\n\u001b[1;32m----> 6\u001b[1;33m     \u001b[0mactive\u001b[0m\u001b[1;33m.\u001b[0m\u001b[0mappend\u001b[0m\u001b[1;33m(\u001b[0m\u001b[0mx\u001b[0m\u001b[1;33m)\u001b[0m\u001b[1;33m\u001b[0m\u001b[0m\n\u001b[0m\u001b[0;32m      7\u001b[0m \u001b[1;33m\u001b[0m\u001b[0m\n\u001b[0;32m      8\u001b[0m \u001b[1;31m# Save workbook to write\u001b[0m\u001b[1;33m\u001b[0m\u001b[1;33m\u001b[0m\u001b[0m\n",
      "\u001b[1;32m~\\miniconda3\\envs\\py3\\lib\\site-packages\\openpyxl\\worksheet\\worksheet.py\u001b[0m in \u001b[0;36mappend\u001b[1;34m(self, iterable)\u001b[0m\n\u001b[0;32m    644\u001b[0m                     \u001b[0mcell\u001b[0m\u001b[1;33m.\u001b[0m\u001b[0mrow\u001b[0m \u001b[1;33m=\u001b[0m \u001b[0mrow_idx\u001b[0m\u001b[1;33m\u001b[0m\u001b[0m\n\u001b[0;32m    645\u001b[0m                 \u001b[1;32melse\u001b[0m\u001b[1;33m:\u001b[0m\u001b[1;33m\u001b[0m\u001b[0m\n\u001b[1;32m--> 646\u001b[1;33m                     \u001b[0mcell\u001b[0m \u001b[1;33m=\u001b[0m \u001b[0mCell\u001b[0m\u001b[1;33m(\u001b[0m\u001b[0mself\u001b[0m\u001b[1;33m,\u001b[0m \u001b[0mrow\u001b[0m\u001b[1;33m=\u001b[0m\u001b[0mrow_idx\u001b[0m\u001b[1;33m,\u001b[0m \u001b[0mcolumn\u001b[0m\u001b[1;33m=\u001b[0m\u001b[0mcol_idx\u001b[0m\u001b[1;33m,\u001b[0m \u001b[0mvalue\u001b[0m\u001b[1;33m=\u001b[0m\u001b[0mcontent\u001b[0m\u001b[1;33m)\u001b[0m\u001b[1;33m\u001b[0m\u001b[0m\n\u001b[0m\u001b[0;32m    647\u001b[0m                 \u001b[0mself\u001b[0m\u001b[1;33m.\u001b[0m\u001b[0m_cells\u001b[0m\u001b[1;33m[\u001b[0m\u001b[1;33m(\u001b[0m\u001b[0mrow_idx\u001b[0m\u001b[1;33m,\u001b[0m \u001b[0mcol_idx\u001b[0m\u001b[1;33m)\u001b[0m\u001b[1;33m]\u001b[0m \u001b[1;33m=\u001b[0m \u001b[0mcell\u001b[0m\u001b[1;33m\u001b[0m\u001b[0m\n\u001b[0;32m    648\u001b[0m \u001b[1;33m\u001b[0m\u001b[0m\n",
      "\u001b[1;32m~\\miniconda3\\envs\\py3\\lib\\site-packages\\openpyxl\\cell\\cell.py\u001b[0m in \u001b[0;36m__init__\u001b[1;34m(self, worksheet, row, column, value, style_array)\u001b[0m\n\u001b[0;32m    111\u001b[0m         \u001b[0mself\u001b[0m\u001b[1;33m.\u001b[0m\u001b[0mdata_type\u001b[0m \u001b[1;33m=\u001b[0m \u001b[1;34m'n'\u001b[0m\u001b[1;33m\u001b[0m\u001b[0m\n\u001b[0;32m    112\u001b[0m         \u001b[1;32mif\u001b[0m \u001b[0mvalue\u001b[0m \u001b[1;32mis\u001b[0m \u001b[1;32mnot\u001b[0m \u001b[1;32mNone\u001b[0m\u001b[1;33m:\u001b[0m\u001b[1;33m\u001b[0m\u001b[0m\n\u001b[1;32m--> 113\u001b[1;33m             \u001b[0mself\u001b[0m\u001b[1;33m.\u001b[0m\u001b[0mvalue\u001b[0m \u001b[1;33m=\u001b[0m \u001b[0mvalue\u001b[0m\u001b[1;33m\u001b[0m\u001b[0m\n\u001b[0m\u001b[0;32m    114\u001b[0m         \u001b[0mself\u001b[0m\u001b[1;33m.\u001b[0m\u001b[0m_comment\u001b[0m \u001b[1;33m=\u001b[0m \u001b[1;32mNone\u001b[0m\u001b[1;33m\u001b[0m\u001b[0m\n\u001b[0;32m    115\u001b[0m \u001b[1;33m\u001b[0m\u001b[0m\n",
      "\u001b[1;32m~\\miniconda3\\envs\\py3\\lib\\site-packages\\openpyxl\\cell\\cell.py\u001b[0m in \u001b[0;36mvalue\u001b[1;34m(self, value)\u001b[0m\n\u001b[0;32m    214\u001b[0m     \u001b[1;32mdef\u001b[0m \u001b[0mvalue\u001b[0m\u001b[1;33m(\u001b[0m\u001b[0mself\u001b[0m\u001b[1;33m,\u001b[0m \u001b[0mvalue\u001b[0m\u001b[1;33m)\u001b[0m\u001b[1;33m:\u001b[0m\u001b[1;33m\u001b[0m\u001b[0m\n\u001b[0;32m    215\u001b[0m         \u001b[1;34m\"\"\"Set the value and infer type and display options.\"\"\"\u001b[0m\u001b[1;33m\u001b[0m\u001b[0m\n\u001b[1;32m--> 216\u001b[1;33m         \u001b[0mself\u001b[0m\u001b[1;33m.\u001b[0m\u001b[0m_bind_value\u001b[0m\u001b[1;33m(\u001b[0m\u001b[0mvalue\u001b[0m\u001b[1;33m)\u001b[0m\u001b[1;33m\u001b[0m\u001b[0m\n\u001b[0m\u001b[0;32m    217\u001b[0m \u001b[1;33m\u001b[0m\u001b[0m\n\u001b[0;32m    218\u001b[0m     \u001b[1;33m@\u001b[0m\u001b[0mproperty\u001b[0m\u001b[1;33m\u001b[0m\u001b[0m\n",
      "\u001b[1;32m~\\miniconda3\\envs\\py3\\lib\\site-packages\\openpyxl\\cell\\cell.py\u001b[0m in \u001b[0;36m_bind_value\u001b[1;34m(self, value)\u001b[0m\n\u001b[0;32m    186\u001b[0m         \u001b[1;32melif\u001b[0m \u001b[0mdt\u001b[0m \u001b[1;33m==\u001b[0m \u001b[1;34m'd'\u001b[0m\u001b[1;33m:\u001b[0m\u001b[1;33m\u001b[0m\u001b[0m\n\u001b[0;32m    187\u001b[0m             \u001b[1;32mif\u001b[0m \u001b[1;32mnot\u001b[0m \u001b[0mis_date_format\u001b[0m\u001b[1;33m(\u001b[0m\u001b[0mself\u001b[0m\u001b[1;33m.\u001b[0m\u001b[0mnumber_format\u001b[0m\u001b[1;33m)\u001b[0m\u001b[1;33m:\u001b[0m\u001b[1;33m\u001b[0m\u001b[0m\n\u001b[1;32m--> 188\u001b[1;33m                 \u001b[0mself\u001b[0m\u001b[1;33m.\u001b[0m\u001b[0mnumber_format\u001b[0m \u001b[1;33m=\u001b[0m \u001b[0mTIME_FORMATS\u001b[0m\u001b[1;33m[\u001b[0m\u001b[0mt\u001b[0m\u001b[1;33m]\u001b[0m\u001b[1;33m\u001b[0m\u001b[0m\n\u001b[0m\u001b[0;32m    189\u001b[0m             \u001b[0mself\u001b[0m\u001b[1;33m.\u001b[0m\u001b[0mdata_type\u001b[0m \u001b[1;33m=\u001b[0m \u001b[1;34m\"d\"\u001b[0m\u001b[1;33m\u001b[0m\u001b[0m\n\u001b[0;32m    190\u001b[0m \u001b[1;33m\u001b[0m\u001b[0m\n",
      "\u001b[1;31mKeyError\u001b[0m: <class 'pandas._libs.tslibs.nattype.NaTType'>"
     ]
    }
   ],
   "source": [
    "# Activate worksheet to write dataframe\n",
    "active = wb['sheet1']\n",
    "\n",
    "# Write dataframe to active worksheet\n",
    "for x in dataframe_to_rows(df_QCMetrics):\n",
    "    active.append(x)\n",
    "\n",
    "# Save workbook to write\n",
    "wb.save(filepath)"
   ]
  },
  {
   "cell_type": "raw",
   "metadata": {},
   "source": [
    "# Remove existing sheet\n",
    "ref = wb['sheet']\n",
    "wb.remove(ref)"
   ]
  },
  {
   "cell_type": "code",
   "execution_count": null,
   "metadata": {
    "ExecuteTime": {
     "end_time": "2020-02-25T21:02:59.379472Z",
     "start_time": "2020-02-25T21:02:11.486Z"
    }
   },
   "outputs": [],
   "source": [
    "wb.save(\"QCMetrics-\"  +  filename_str + \".xlsx\")"
   ]
  },
  {
   "cell_type": "raw",
   "metadata": {},
   "source": [
    "df_last_month.to_csv(\"last_month.csv\", index=True)"
   ]
  },
  {
   "cell_type": "raw",
   "metadata": {},
   "source": [
    "# get current time\n",
    "now = datetime.now()\n",
    "print(\"Today's date: \", str(now))"
   ]
  },
  {
   "cell_type": "raw",
   "metadata": {},
   "source": [
    "# subtract 4 weeks from current date\n",
    "four_weeks_ago = now - timedelta(weeks = 4)\n",
    "print('Date FOUR weeks ago: ', four_weeks_ago)\n",
    "print('FOURR_weeks_ago object type: ', type(four_weeks_ago))"
   ]
  }
 ],
 "metadata": {
  "celltoolbar": "Raw Cell Format",
  "kernelspec": {
   "display_name": "Python 3",
   "language": "python",
   "name": "python3"
  },
  "language_info": {
   "codemirror_mode": {
    "name": "ipython",
    "version": 3
   },
   "file_extension": ".py",
   "mimetype": "text/x-python",
   "name": "python",
   "nbconvert_exporter": "python",
   "pygments_lexer": "ipython3",
   "version": "3.7.0"
  },
  "toc": {
   "base_numbering": 1,
   "nav_menu": {},
   "number_sections": true,
   "sideBar": true,
   "skip_h1_title": false,
   "title_cell": "Table of Contents",
   "title_sidebar": "Contents",
   "toc_cell": false,
   "toc_position": {},
   "toc_section_display": true,
   "toc_window_display": false
  },
  "varInspector": {
   "cols": {
    "lenName": 16,
    "lenType": 16,
    "lenVar": 40
   },
   "kernels_config": {
    "python": {
     "delete_cmd_postfix": "",
     "delete_cmd_prefix": "del ",
     "library": "var_list.py",
     "varRefreshCmd": "print(var_dic_list())"
    },
    "r": {
     "delete_cmd_postfix": ") ",
     "delete_cmd_prefix": "rm(",
     "library": "var_list.r",
     "varRefreshCmd": "cat(var_dic_list()) "
    }
   },
   "types_to_exclude": [
    "module",
    "function",
    "builtin_function_or_method",
    "instance",
    "_Feature"
   ],
   "window_display": false
  }
 },
 "nbformat": 4,
 "nbformat_minor": 4
}
