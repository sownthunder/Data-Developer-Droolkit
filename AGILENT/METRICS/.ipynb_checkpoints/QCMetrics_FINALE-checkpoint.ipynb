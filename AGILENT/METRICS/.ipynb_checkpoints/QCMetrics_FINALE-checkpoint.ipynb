{
 "cells": [
  {
   "cell_type": "markdown",
   "metadata": {},
   "source": [
    "# LINKS\n",
    "\n",
    "- ## [join/merge DF python pandas](https://pandas.pydata.org/pandas-docs/stable/reference/api/pandas.DataFrame.join.html)\n",
    "\n",
    "\n",
    "---"
   ]
  },
  {
   "cell_type": "code",
   "execution_count": 1,
   "metadata": {
    "ExecuteTime": {
     "end_time": "2020-02-24T21:56:07.754552Z",
     "start_time": "2020-02-24T21:56:07.749553Z"
    }
   },
   "outputs": [],
   "source": [
    "import os, sys, time\n",
    "from time import sleep\n",
    "from pathlib import Path\n",
    "from datetime import datetime, timedelta"
   ]
  },
  {
   "cell_type": "code",
   "execution_count": 2,
   "metadata": {
    "ExecuteTime": {
     "end_time": "2020-02-24T21:56:09.547561Z",
     "start_time": "2020-02-24T21:56:07.761553Z"
    }
   },
   "outputs": [],
   "source": [
    "import pandas as pd\n",
    "import numpy as np\n",
    "from pandas import Series, DataFrame\n",
    "import pyodbc"
   ]
  },
  {
   "cell_type": "code",
   "execution_count": 3,
   "metadata": {
    "ExecuteTime": {
     "end_time": "2020-02-24T21:56:10.277557Z",
     "start_time": "2020-02-24T21:56:09.549555Z"
    }
   },
   "outputs": [],
   "source": [
    "from openpyxl import Workbook, load_workbook\n",
    "from openpyxl.drawing.image import Image\n",
    "from openpyxl.utils.dataframe import dataframe_to_rows"
   ]
  },
  {
   "cell_type": "code",
   "execution_count": 4,
   "metadata": {
    "ExecuteTime": {
     "end_time": "2020-02-24T21:56:11.013559Z",
     "start_time": "2020-02-24T21:56:10.281557Z"
    }
   },
   "outputs": [],
   "source": [
    "import matplotlib\n",
    "from matplotlib import pyplot as plt\n",
    "%matplotlib inline\n",
    "matplotlib.rcParams['figure.figsize'] = [12.0, 8.0]\n",
    "# [2020-02-19]]\\\\import matplotlib.pyplot as plt\n",
    "import seaborn as sns"
   ]
  },
  {
   "cell_type": "code",
   "execution_count": 5,
   "metadata": {
    "ExecuteTime": {
     "end_time": "2020-02-24T21:56:11.033559Z",
     "start_time": "2020-02-24T21:56:11.017558Z"
    }
   },
   "outputs": [
    {
     "data": {
      "text/plain": [
       "['Microsoft Access Driver (*.mdb, *.accdb)']"
      ]
     },
     "execution_count": 5,
     "metadata": {},
     "output_type": "execute_result"
    }
   ],
   "source": [
    "[x for x in pyodbc.drivers() if x.startswith('Microsoft Access Driver')]"
   ]
  },
  {
   "cell_type": "markdown",
   "metadata": {},
   "source": [
    "## *FUNCTIONS*"
   ]
  },
  {
   "cell_type": "code",
   "execution_count": 6,
   "metadata": {
    "ExecuteTime": {
     "end_time": "2020-02-24T21:56:11.052558Z",
     "start_time": "2020-02-24T21:56:11.036558Z"
    }
   },
   "outputs": [],
   "source": [
    "def send_mail(send_from, send_to, subject, message, files=[],\n",
    "              server=\"cos.smtp.agilent.com\", port=587, use_tls=True):  # {\n",
    "    print(\"SENDING MAIL... DATE == \" + str(pd.Timestamp.now())[:10])\n",
    "    msg = MIMEMultipart()\n",
    "    msg['From'] = send_from\n",
    "    msg['To'] = COMMASPACE.join(send_to)\n",
    "    msg['Date'] = formatdate(localtime=True)\n",
    "    msg['Subject'] = subject\n",
    "\n",
    "    msg.attach(MIMEText(message))\n",
    "\n",
    "    for path in files:  # {\n",
    "        part = MIMEBase('application', \"octet-stream\")\n",
    "        with open(path, 'rb') as file:  # {\n",
    "            part.set_payload(file.read())\n",
    "        # }\n",
    "        encoders.encode_base64(part)\n",
    "        part.add_header('Content-Disposition',\n",
    "                        'attachment; filename=\"{}\"'.format(op.basename(path)))\n",
    "        msg.attach(part)\n",
    "    # }\n",
    "\n",
    "    smtp = smtplib.SMTP(server, port)\n",
    "    if use_tls:  # {\n",
    "        smtp.starttls()\n",
    "    # }\n",
    "    smtp.sendmail(send_from, send_to, msg.as_string())\n",
    "    smtp.quit()\n",
    "# }"
   ]
  },
  {
   "cell_type": "code",
   "execution_count": 7,
   "metadata": {
    "ExecuteTime": {
     "end_time": "2020-02-24T21:56:11.065559Z",
     "start_time": "2020-02-24T21:56:11.058562Z"
    }
   },
   "outputs": [],
   "source": [
    "def pull_prodflow_data(table_name): # {\n",
    "    pass\n",
    "# }"
   ]
  },
  {
   "cell_type": "code",
   "execution_count": 8,
   "metadata": {
    "ExecuteTime": {
     "end_time": "2020-02-24T21:56:11.075557Z",
     "start_time": "2020-02-24T21:56:11.067557Z"
    }
   },
   "outputs": [],
   "source": [
    "def push_prodflow_data(table_name): # {\n",
    "    pass\n",
    "# }"
   ]
  },
  {
   "cell_type": "markdown",
   "metadata": {},
   "source": [
    "## Ask for `Email Address`:"
   ]
  },
  {
   "cell_type": "raw",
   "metadata": {
    "ExecuteTime": {
     "end_time": "2020-02-24T17:09:51.249723Z",
     "start_time": "2020-02-24T17:09:39.265442Z"
    }
   },
   "source": [
    "# INFINITE LOOP TO INSURE PROPER DATA INPUT\n",
    "while 1: # {\n",
    "    email_address = input(\"Enter email:\")\n",
    "    # ASK FOR CONFIRMATION\n",
    "    confirm_str = input(\"You entered: \" + str(email_address) + \"\\nIs that correct? Y/N? \")\n",
    "    # CHECK CONFIRMATION INPUT\n",
    "    if str(confirm_str).lower() == \"n\": # {\n",
    "        print(\"OK TRY AGAIN!\")\n",
    "    # }\n",
    "    elif str(confirm_str).lower() == \"y\": # {\n",
    "        print(\"okay !\")\n",
    "        break\n",
    "    # }\n",
    "    else: # {\n",
    "        print(\">>> ERROR! \")\n",
    "    #}\n",
    "# }"
   ]
  },
  {
   "cell_type": "markdown",
   "metadata": {},
   "source": [
    "## Ask for `Date`:"
   ]
  },
  {
   "cell_type": "code",
   "execution_count": 9,
   "metadata": {
    "ExecuteTime": {
     "end_time": "2020-02-24T21:57:18.118865Z",
     "start_time": "2020-02-24T21:56:11.078557Z"
    }
   },
   "outputs": [
    {
     "name": "stdout",
     "output_type": "stream",
     "text": [
      "Input a Date:2020-02-14\n"
     ]
    }
   ],
   "source": [
    "date_input = input(\"Input a Date:\")"
   ]
  },
  {
   "cell_type": "code",
   "execution_count": 10,
   "metadata": {
    "ExecuteTime": {
     "end_time": "2020-02-24T21:57:18.131864Z",
     "start_time": "2020-02-24T21:57:18.120863Z"
    }
   },
   "outputs": [
    {
     "name": "stdout",
     "output_type": "stream",
     "text": [
      "2020-02-14 00:00:00\n"
     ]
    }
   ],
   "source": [
    "# the_date = pd.Timestamp.now()\n",
    "test_date = pd.Timestamp(ts_input=str(date_input))\n",
    "print(test_date)"
   ]
  },
  {
   "cell_type": "code",
   "execution_count": 11,
   "metadata": {
    "ExecuteTime": {
     "end_time": "2020-02-24T21:57:18.144866Z",
     "start_time": "2020-02-24T21:57:18.134865Z"
    }
   },
   "outputs": [
    {
     "name": "stdout",
     "output_type": "stream",
     "text": [
      "2020-01-14 13:30:54\n"
     ]
    },
    {
     "name": "stderr",
     "output_type": "stream",
     "text": [
      "C:\\Users\\derbates\\miniconda3\\envs\\py3\\lib\\site-packages\\ipykernel_launcher.py:1: FutureWarning: M and Y units are deprecated and will be removed in a future version.\n",
      "  \"\"\"Entry point for launching an IPython kernel.\n"
     ]
    }
   ],
   "source": [
    "td_one_month_ago = test_date - pd.Timedelta(unit='M', value=1)\n",
    "print(td_one_month_ago)"
   ]
  },
  {
   "cell_type": "code",
   "execution_count": 12,
   "metadata": {
    "ExecuteTime": {
     "end_time": "2020-02-24T21:57:18.152877Z",
     "start_time": "2020-02-24T21:57:18.147866Z"
    }
   },
   "outputs": [],
   "source": [
    "one_month_ago = test_date - timedelta(days = 30)"
   ]
  },
  {
   "cell_type": "code",
   "execution_count": 13,
   "metadata": {
    "ExecuteTime": {
     "end_time": "2020-02-24T21:57:18.163883Z",
     "start_time": "2020-02-24T21:57:18.154864Z"
    }
   },
   "outputs": [
    {
     "name": "stdout",
     "output_type": "stream",
     "text": [
      "ONE MONTH AGO == 2020-01-15 00:00:00\n"
     ]
    }
   ],
   "source": [
    "print(\"ONE MONTH AGO == \" + str(one_month_ago))"
   ]
  },
  {
   "cell_type": "code",
   "execution_count": 14,
   "metadata": {
    "ExecuteTime": {
     "end_time": "2020-02-24T21:57:18.172865Z",
     "start_time": "2020-02-24T21:57:18.166868Z"
    }
   },
   "outputs": [],
   "source": [
    "# DAILY METRICS\n",
    "# df_week_range = pd.date_range(start=one_month_ago, end=test_date, freq=\"M-SAT\")\n",
    "df_month_range = pd.date_range(start=one_month_ago, end=test_date, freq='D') #, periods=30)"
   ]
  },
  {
   "cell_type": "code",
   "execution_count": 15,
   "metadata": {
    "ExecuteTime": {
     "end_time": "2020-02-24T21:57:18.182866Z",
     "start_time": "2020-02-24T21:57:18.174865Z"
    }
   },
   "outputs": [
    {
     "data": {
      "text/plain": [
       "pandas.core.indexes.datetimes.DatetimeIndex"
      ]
     },
     "execution_count": 15,
     "metadata": {},
     "output_type": "execute_result"
    }
   ],
   "source": [
    "type(df_month_range)"
   ]
  },
  {
   "cell_type": "code",
   "execution_count": 16,
   "metadata": {
    "ExecuteTime": {
     "end_time": "2020-02-24T21:57:18.197870Z",
     "start_time": "2020-02-24T21:57:18.186867Z"
    }
   },
   "outputs": [
    {
     "data": {
      "text/plain": [
       "[Timestamp('2020-01-15 00:00:00', freq='D'),\n",
       " Timestamp('2020-01-16 00:00:00', freq='D'),\n",
       " Timestamp('2020-01-17 00:00:00', freq='D'),\n",
       " Timestamp('2020-01-18 00:00:00', freq='D'),\n",
       " Timestamp('2020-01-19 00:00:00', freq='D'),\n",
       " Timestamp('2020-01-20 00:00:00', freq='D'),\n",
       " Timestamp('2020-01-21 00:00:00', freq='D'),\n",
       " Timestamp('2020-01-22 00:00:00', freq='D'),\n",
       " Timestamp('2020-01-23 00:00:00', freq='D'),\n",
       " Timestamp('2020-01-24 00:00:00', freq='D'),\n",
       " Timestamp('2020-01-25 00:00:00', freq='D'),\n",
       " Timestamp('2020-01-26 00:00:00', freq='D'),\n",
       " Timestamp('2020-01-27 00:00:00', freq='D'),\n",
       " Timestamp('2020-01-28 00:00:00', freq='D'),\n",
       " Timestamp('2020-01-29 00:00:00', freq='D'),\n",
       " Timestamp('2020-01-30 00:00:00', freq='D'),\n",
       " Timestamp('2020-01-31 00:00:00', freq='D'),\n",
       " Timestamp('2020-02-01 00:00:00', freq='D'),\n",
       " Timestamp('2020-02-02 00:00:00', freq='D'),\n",
       " Timestamp('2020-02-03 00:00:00', freq='D'),\n",
       " Timestamp('2020-02-04 00:00:00', freq='D'),\n",
       " Timestamp('2020-02-05 00:00:00', freq='D'),\n",
       " Timestamp('2020-02-06 00:00:00', freq='D'),\n",
       " Timestamp('2020-02-07 00:00:00', freq='D'),\n",
       " Timestamp('2020-02-08 00:00:00', freq='D'),\n",
       " Timestamp('2020-02-09 00:00:00', freq='D'),\n",
       " Timestamp('2020-02-10 00:00:00', freq='D'),\n",
       " Timestamp('2020-02-11 00:00:00', freq='D'),\n",
       " Timestamp('2020-02-12 00:00:00', freq='D'),\n",
       " Timestamp('2020-02-13 00:00:00', freq='D'),\n",
       " Timestamp('2020-02-14 00:00:00', freq='D')]"
      ]
     },
     "execution_count": 16,
     "metadata": {},
     "output_type": "execute_result"
    }
   ],
   "source": [
    "list(df_month_range)"
   ]
  },
  {
   "cell_type": "code",
   "execution_count": 17,
   "metadata": {
    "ExecuteTime": {
     "end_time": "2020-02-24T21:57:18.207866Z",
     "start_time": "2020-02-24T21:57:18.200865Z"
    }
   },
   "outputs": [],
   "source": [
    "df_month_range = pd.DataFrame(pd.Series(df_month_range), columns=['QCDate'])"
   ]
  },
  {
   "cell_type": "code",
   "execution_count": 18,
   "metadata": {
    "ExecuteTime": {
     "end_time": "2020-02-24T21:57:18.222866Z",
     "start_time": "2020-02-24T21:57:18.210876Z"
    }
   },
   "outputs": [
    {
     "name": "stdout",
     "output_type": "stream",
     "text": [
      "       QCDate\n",
      "0  2020-01-15\n",
      "1  2020-01-16\n",
      "2  2020-01-17\n",
      "3  2020-01-18\n",
      "4  2020-01-19\n",
      "5  2020-01-20\n",
      "6  2020-01-21\n",
      "7  2020-01-22\n",
      "8  2020-01-23\n",
      "9  2020-01-24\n",
      "10 2020-01-25\n",
      "11 2020-01-26\n",
      "12 2020-01-27\n",
      "13 2020-01-28\n",
      "14 2020-01-29\n",
      "15 2020-01-30\n",
      "16 2020-01-31\n",
      "17 2020-02-01\n",
      "18 2020-02-02\n",
      "19 2020-02-03\n",
      "20 2020-02-04\n",
      "21 2020-02-05\n",
      "22 2020-02-06\n",
      "23 2020-02-07\n",
      "24 2020-02-08\n",
      "25 2020-02-09\n",
      "26 2020-02-10\n",
      "27 2020-02-11\n",
      "28 2020-02-12\n",
      "29 2020-02-13\n",
      "30 2020-02-14\n"
     ]
    }
   ],
   "source": [
    "print(df_month_range)"
   ]
  },
  {
   "cell_type": "code",
   "execution_count": 19,
   "metadata": {
    "ExecuteTime": {
     "end_time": "2020-02-24T21:57:18.235867Z",
     "start_time": "2020-02-24T21:57:18.225867Z"
    }
   },
   "outputs": [
    {
     "data": {
      "text/plain": [
       "pandas.core.frame.DataFrame"
      ]
     },
     "execution_count": 19,
     "metadata": {},
     "output_type": "execute_result"
    }
   ],
   "source": [
    "type(df_month_range)"
   ]
  },
  {
   "cell_type": "code",
   "execution_count": 20,
   "metadata": {
    "ExecuteTime": {
     "end_time": "2020-02-24T21:57:18.243869Z",
     "start_time": "2020-02-24T21:57:18.238867Z"
    }
   },
   "outputs": [],
   "source": [
    "# MONTHLY METRICS\n",
    "year_range = pd.date_range(end=test_date, freq='M', periods=12, name='QCDate')"
   ]
  },
  {
   "cell_type": "code",
   "execution_count": 21,
   "metadata": {
    "ExecuteTime": {
     "end_time": "2020-02-24T21:57:18.256865Z",
     "start_time": "2020-02-24T21:57:18.248867Z"
    }
   },
   "outputs": [
    {
     "name": "stdout",
     "output_type": "stream",
     "text": [
      "DatetimeIndex(['2019-02-28', '2019-03-31', '2019-04-30', '2019-05-31',\n",
      "               '2019-06-30', '2019-07-31', '2019-08-31', '2019-09-30',\n",
      "               '2019-10-31', '2019-11-30', '2019-12-31', '2020-01-31'],\n",
      "              dtype='datetime64[ns]', name='QCDate', freq='M')\n"
     ]
    }
   ],
   "source": [
    "print(year_range)"
   ]
  },
  {
   "cell_type": "raw",
   "metadata": {
    "raw_mimetype": "text/x-python"
   },
   "source": [
    "df_Metrics = pd.DataFrame(data=None, index=df_month_range, dtype=np.str)\n",
    "len(df_Metrics)"
   ]
  },
  {
   "cell_type": "markdown",
   "metadata": {},
   "source": [
    "---\n",
    "### create *connection string*"
   ]
  },
  {
   "cell_type": "code",
   "execution_count": 22,
   "metadata": {
    "ExecuteTime": {
     "end_time": "2020-02-24T21:57:18.952865Z",
     "start_time": "2020-02-24T21:57:18.260866Z"
    }
   },
   "outputs": [
    {
     "name": "stdout",
     "output_type": "stream",
     "text": [
      "FIN...\n",
      "FIN...\n"
     ]
    }
   ],
   "source": [
    "try: #{\n",
    "    conn_str = (\n",
    "        r'DRIVER={Microsoft Access Driver (*.mdb, *.accdb)};'\n",
    "        r'DBQ=C:\\Users\\derbates\\OneDrive - Agilent Technologies\\Desktop\\Offline Prodflow II\\Custom Quotes_fe.accdb;'\n",
    "    )\n",
    "#}\n",
    "except: #{\n",
    "    errorMessage = str(sys.exc_info()[0]) + \"\\n\"\n",
    "    errorMessage = errorMessage + str(sys.exc_info()[1]) + \"\\n\\t\\t\"\n",
    "    errorMessage = errorMessage + str(sys.exc_info()[2]) + \"\\n\"\n",
    "    exc_type, exc_obj, exc_tb = sys.exc_info()\n",
    "    fname = os.path.split(exc_tb.tb_frame.f_code.co_filename)[1]\n",
    "    typeE = str(\"TYPE : \" + str(exc_type))\n",
    "    fileE = str(\"FILE : \" + str(fname))\n",
    "    lineE = str(\"LINE : \" + str(exc_tb.tb_lineno))\n",
    "    messageE = str(\"MESG : \" + \"\\n\\n\" + str(errorMessage) + \"\\n\")\n",
    "    print(\"\\n\" + typeE + \n",
    "          \"\\n\" + fileE + \n",
    "          \"\\n\" + lineE + \n",
    "          \"\\n\" + messageE)\n",
    "#}\n",
    "else: #{\n",
    "    print(\"FIN...\")\n",
    "#}\n",
    "try: #{\n",
    "    cnxn = pyodbc.connect(conn_str)\n",
    "    crsr = cnxn.cursor()\n",
    "#}\n",
    "except: #{\n",
    "    errorMessage = str(sys.exc_info()[0]) + \"\\n\"\n",
    "    errorMessage = errorMessage + str(sys.exc_info()[1]) + \"\\n\\t\\t\"\n",
    "    errorMessage = errorMessage + str(sys.exc_info()[2]) + \"\\n\"\n",
    "    exc_type, exc_obj, exc_tb = sys.exc_info()\n",
    "    fname = os.path.split(exc_tb.tb_frame.f_code.co_filename)[1]\n",
    "    typeE = str(\"TYPE : \" + str(exc_type))\n",
    "    fileE = str(\"FILE : \" + str(fname))\n",
    "    lineE = str(\"LINE : \" + str(exc_tb.tb_lineno))\n",
    "    messageE = str(\"MESG : \" + \"\\n\\n\" + str(errorMessage) + \"\\n\")\n",
    "    print(\"\\n\" + typeE + \n",
    "          \"\\n\" + fileE + \n",
    "          \"\\n\" + lineE + \n",
    "          \"\\n\" + messageE)\n",
    "#}\n",
    "else: #{\n",
    "    print(\"FIN...\")\n",
    "#}"
   ]
  },
  {
   "cell_type": "markdown",
   "metadata": {},
   "source": [
    "## `PRODUCTS` Table"
   ]
  },
  {
   "cell_type": "code",
   "execution_count": 23,
   "metadata": {
    "ExecuteTime": {
     "end_time": "2020-02-24T21:57:24.629992Z",
     "start_time": "2020-02-24T21:57:18.953865Z"
    }
   },
   "outputs": [
    {
     "name": "stdout",
     "output_type": "stream",
     "text": [
      "Operation Completed Successfully...\n",
      "<class 'pandas.core.frame.DataFrame'>\n",
      "RangeIndex: 108217 entries, 0 to 108216\n",
      "Data columns (total 42 columns):\n",
      "ProductID          108217 non-null int64\n",
      "Product#           108217 non-null object\n",
      "ProductName        108189 non-null object\n",
      "LineID             108217 non-null int64\n",
      "Description        5973 non-null object\n",
      "Specials           2443 non-null object\n",
      "OriginationDate    107823 non-null datetime64[ns]\n",
      "EntryDate          108215 non-null datetime64[ns]\n",
      "Status             6036 non-null object\n",
      "MatrixNumber       107333 non-null object\n",
      "Components         108217 non-null int64\n",
      "Availability       4843 non-null object\n",
      "EquivalentSoln     102773 non-null object\n",
      "EquivalentNeat     102931 non-null object\n",
      "Packaging          107497 non-null object\n",
      "Storage            100593 non-null object\n",
      "ExpirationDate     108192 non-null float64\n",
      "ShipType           95034 non-null object\n",
      "UN#                93351 non-null object\n",
      "ShipClass          87259 non-null object\n",
      "PackGrp            87141 non-null object\n",
      "ShipSpecial        82891 non-null object\n",
      "Hazard1            2473 non-null object\n",
      "Hazard2            4255 non-null object\n",
      "Hazard3            124 non-null object\n",
      "Prop65             6137 non-null object\n",
      "MSDS               6135 non-null object\n",
      "Analysis           5693 non-null object\n",
      "CofAHeader         102035 non-null float64\n",
      "Agilent#           694 non-null object\n",
      "Tedia#             2330 non-null object\n",
      "ProdNotes          93763 non-null object\n",
      "MatrixNotes        9193 non-null object\n",
      "RecipeId           81196 non-null object\n",
      "RushPriority       108217 non-null bool\n",
      "IsVoided           93101 non-null object\n",
      "SagePartNumber     32234 non-null object\n",
      "ProductLevel       91143 non-null float64\n",
      "DateInserted       38 non-null datetime64[ns]\n",
      "CofATemplate       79512 non-null object\n",
      "UniqueRequestID    5 non-null object\n",
      "Test_Timestamp     108217 non-null object\n",
      "dtypes: bool(1), datetime64[ns](3), float64(3), int64(3), object(32)\n",
      "memory usage: 34.0+ MB\n",
      "None\n"
     ]
    }
   ],
   "source": [
    "# TRY THE FOLLOWING\n",
    "try: # {\n",
    "    df_products = pd.read_sql_query(sql='SELECT * FROM Products', con=cnxn)\n",
    "# }\n",
    "except: # {\n",
    "    errorMessage = str(sys.exc_info()[0]) + \"\\n\"\n",
    "    errorMessage = errorMessage + str(sys.exc_info()[1]) + \"\\n\\t\\t\"\n",
    "    errorMessage = errorMessage + str(sys.exc_info()[2]) + \"\\n\"\n",
    "    exc_type, exc_obj, exc_tb = sys.exc_info()\n",
    "    fname = os.path.split(exc_tb.tb_frame.f_code.co_filename)[1]\n",
    "    typeE = str(\"TYPE : \" + str(exc_type))\n",
    "    fileE = str(\"FILE : \" + str(fname))\n",
    "    lineE = str(\"LINE : \" + str(exc_tb.tb_lineno))\n",
    "    messageE = str(\"MESG : \" + \"\\n\\n\" + str(errorMessage) + \"\\n\")\n",
    "    print(\"\\n\" + typeE + \n",
    "          \"\\n\" + fileE + \n",
    "          \"\\n\" + lineE + \n",
    "          \"\\n\" + messageE)\n",
    "# }\n",
    "else: # {\n",
    "    print(\"Operation Completed Successfully...\")\n",
    "    print(df_products.info())\n",
    "# }"
   ]
  },
  {
   "cell_type": "markdown",
   "metadata": {},
   "source": [
    "## `tblProdflow` Table"
   ]
  },
  {
   "cell_type": "code",
   "execution_count": 24,
   "metadata": {
    "ExecuteTime": {
     "end_time": "2020-02-24T21:57:30.359116Z",
     "start_time": "2020-02-24T21:57:24.634992Z"
    }
   },
   "outputs": [
    {
     "name": "stdout",
     "output_type": "stream",
     "text": [
      "Operation Completed Successfully...\n",
      "<class 'pandas.core.frame.DataFrame'>\n",
      "RangeIndex: 108394 entries, 0 to 108393\n",
      "Data columns (total 53 columns):\n",
      "PfIDNo              108394 non-null int64\n",
      "PfBatchID           108394 non-null object\n",
      "ProductNo           108375 non-null object\n",
      "OrdID               92262 non-null float64\n",
      "QuoteNo             108358 non-null object\n",
      "PfSentTo            108329 non-null object\n",
      "PrepDate            107388 non-null datetime64[ns]\n",
      "PrepVolume          108349 non-null float64\n",
      "PrepUnit            108318 non-null object\n",
      "PrepVessel          108315 non-null float64\n",
      "PrepVBarcode        57709 non-null object\n",
      "PrdSaleUnit         89200 non-null object\n",
      "PrepMatrixNo        108319 non-null object\n",
      "PrepMatrixLot       107452 non-null object\n",
      "PrepInits           107211 non-null object\n",
      "PrepMemo            61052 non-null object\n",
      "PrepNotebookRef     48969 non-null object\n",
      "BulkQCStatus        24 non-null object\n",
      "BulkQCDate          74781 non-null datetime64[ns]\n",
      "BulkPassFail        73889 non-null object\n",
      "BulkQCInits         74765 non-null object\n",
      "BulkQCMemo          2102 non-null object\n",
      "BulkLotNo           73143 non-null object\n",
      "AmpRetains          51770 non-null float64\n",
      "AmpDate             92526 non-null datetime64[ns]\n",
      "AmpPreLabel         108394 non-null bool\n",
      "AmpNumberGood       92852 non-null float64\n",
      "AmpNumberBad        77321 non-null float64\n",
      "AmpBulkRemain       4102 non-null float64\n",
      "AmpTimeIn           92283 non-null datetime64[ns]\n",
      "AmpTimeOut          92283 non-null datetime64[ns]\n",
      "AmpInits            92490 non-null object\n",
      "QCStatus            573 non-null object\n",
      "QCDate              102904 non-null datetime64[ns]\n",
      "QCPassFail          103094 non-null object\n",
      "QCAuthInits         102893 non-null object\n",
      "QCMemo              55272 non-null object\n",
      "QCMethod            1190 non-null object\n",
      "LotNo               100193 non-null object\n",
      "QCExpMonth          93036 non-null float64\n",
      "QCExpDate           91525 non-null datetime64[ns]\n",
      "QCSellBy            0 non-null object\n",
      "QCFullValidation    108394 non-null bool\n",
      "QCValidation        108360 non-null float64\n",
      "FgInvCount          77719 non-null float64\n",
      "FgAccpacNote        19432 non-null object\n",
      "CofAHeaderNo        108362 non-null float64\n",
      "QCChromatogram      0 non-null object\n",
      "Correct             108394 non-null bool\n",
      "DoNotCorrect        108394 non-null bool\n",
      "DensityUnit         0 non-null object\n",
      "DensityTemp         0 non-null object\n",
      "recipeid            1 non-null object\n",
      "dtypes: bool(4), datetime64[ns](7), float64(11), int64(1), object(30)\n",
      "memory usage: 40.9+ MB\n"
     ]
    }
   ],
   "source": [
    "# TRY THE FOLLOWING\n",
    "try: # {\n",
    "    df_tblProdflow = pd.read_sql_query(sql='SELECT * FROM tblProdflow', \n",
    "                                       parse_dates = ['QCDate'],\n",
    "                                       con=cnxn)\n",
    "# }\n",
    "except: # {\n",
    "    errorMessage = str(sys.exc_info()[0]) + \"\\n\"\n",
    "    errorMessage = errorMessage + str(sys.exc_info()[1]) + \"\\n\\t\\t\"\n",
    "    errorMessage = errorMessage + str(sys.exc_info()[2]) + \"\\n\"\n",
    "    exc_type, exc_obj, exc_tb = sys.exc_info()\n",
    "    fname = os.path.split(exc_tb.tb_frame.f_code.co_filename)[1]\n",
    "    typeE = str(\"TYPE : \" + str(exc_type))\n",
    "    fileE = str(\"FILE : \" + str(fname))\n",
    "    lineE = str(\"LINE : \" + str(exc_tb.tb_lineno))\n",
    "    messageE = str(\"MESG : \" + \"\\n\\n\" + str(errorMessage) + \"\\n\")\n",
    "    print(\"\\n\" + typeE + \n",
    "          \"\\n\" + fileE + \n",
    "          \"\\n\" + lineE + \n",
    "          \"\\n\" + messageE)\n",
    "# }\n",
    "else: # {\n",
    "    print(\"Operation Completed Successfully...\")\n",
    "    df_tblProdflow.info()\n",
    "# }"
   ]
  },
  {
   "cell_type": "markdown",
   "metadata": {},
   "source": [
    "### Rename Header Column in `Products` Table"
   ]
  },
  {
   "cell_type": "code",
   "execution_count": 25,
   "metadata": {
    "ExecuteTime": {
     "end_time": "2020-02-24T21:57:30.458120Z",
     "start_time": "2020-02-24T21:57:30.364116Z"
    }
   },
   "outputs": [],
   "source": [
    "df_products.rename(columns={'Product#': 'ProductNo'}, inplace=True)"
   ]
  },
  {
   "cell_type": "code",
   "execution_count": 26,
   "metadata": {
    "ExecuteTime": {
     "end_time": "2020-02-24T21:57:30.506119Z",
     "start_time": "2020-02-24T21:57:30.460117Z"
    }
   },
   "outputs": [
    {
     "data": {
      "text/html": [
       "<div>\n",
       "<style scoped>\n",
       "    .dataframe tbody tr th:only-of-type {\n",
       "        vertical-align: middle;\n",
       "    }\n",
       "\n",
       "    .dataframe tbody tr th {\n",
       "        vertical-align: top;\n",
       "    }\n",
       "\n",
       "    .dataframe thead th {\n",
       "        text-align: right;\n",
       "    }\n",
       "</style>\n",
       "<table border=\"1\" class=\"dataframe\">\n",
       "  <thead>\n",
       "    <tr style=\"text-align: right;\">\n",
       "      <th></th>\n",
       "      <th>ProductID</th>\n",
       "      <th>ProductNo</th>\n",
       "      <th>ProductName</th>\n",
       "      <th>LineID</th>\n",
       "      <th>Description</th>\n",
       "      <th>Specials</th>\n",
       "      <th>OriginationDate</th>\n",
       "      <th>EntryDate</th>\n",
       "      <th>Status</th>\n",
       "      <th>MatrixNumber</th>\n",
       "      <th>...</th>\n",
       "      <th>MatrixNotes</th>\n",
       "      <th>RecipeId</th>\n",
       "      <th>RushPriority</th>\n",
       "      <th>IsVoided</th>\n",
       "      <th>SagePartNumber</th>\n",
       "      <th>ProductLevel</th>\n",
       "      <th>DateInserted</th>\n",
       "      <th>CofATemplate</th>\n",
       "      <th>UniqueRequestID</th>\n",
       "      <th>Test_Timestamp</th>\n",
       "    </tr>\n",
       "  </thead>\n",
       "  <tbody>\n",
       "    <tr>\n",
       "      <td>64731</td>\n",
       "      <td>25654</td>\n",
       "      <td>QTE-25654</td>\n",
       "      <td>Custom Standard</td>\n",
       "      <td>7</td>\n",
       "      <td>None</td>\n",
       "      <td>None</td>\n",
       "      <td>2007-06-14</td>\n",
       "      <td>2011-05-09</td>\n",
       "      <td>None</td>\n",
       "      <td>JHP-013</td>\n",
       "      <td>...</td>\n",
       "      <td>None</td>\n",
       "      <td>RP-33834</td>\n",
       "      <td>False</td>\n",
       "      <td>VOID</td>\n",
       "      <td>None</td>\n",
       "      <td>1.0</td>\n",
       "      <td>NaT</td>\n",
       "      <td>GENERIC</td>\n",
       "      <td>None</td>\n",
       "      <td>b'\\x00\\x00\\x00\\x00\\x00 \\xc2\\xbb'</td>\n",
       "    </tr>\n",
       "    <tr>\n",
       "      <td>3896</td>\n",
       "      <td>112999</td>\n",
       "      <td>CUS-00002001</td>\n",
       "      <td>Custom Standard</td>\n",
       "      <td>7</td>\n",
       "      <td>None</td>\n",
       "      <td>None</td>\n",
       "      <td>2019-11-12</td>\n",
       "      <td>2019-11-12</td>\n",
       "      <td>None</td>\n",
       "      <td>JHP-001</td>\n",
       "      <td>...</td>\n",
       "      <td>None</td>\n",
       "      <td>None</td>\n",
       "      <td>False</td>\n",
       "      <td></td>\n",
       "      <td>None</td>\n",
       "      <td>2.0</td>\n",
       "      <td>NaT</td>\n",
       "      <td>None</td>\n",
       "      <td>None</td>\n",
       "      <td>b'\\x00\\x00\\x00\\x00\\x00\\x1f\\xd5B'</td>\n",
       "    </tr>\n",
       "    <tr>\n",
       "      <td>65833</td>\n",
       "      <td>27299</td>\n",
       "      <td>QTE-27299</td>\n",
       "      <td>Custom Standard</td>\n",
       "      <td>8</td>\n",
       "      <td>None</td>\n",
       "      <td>None</td>\n",
       "      <td>2007-09-10</td>\n",
       "      <td>2009-04-30</td>\n",
       "      <td>None</td>\n",
       "      <td>JHP-045</td>\n",
       "      <td>...</td>\n",
       "      <td>Solution will contain 2% nitric acid</td>\n",
       "      <td>RP-34508</td>\n",
       "      <td>False</td>\n",
       "      <td>VOID</td>\n",
       "      <td>None</td>\n",
       "      <td>1.0</td>\n",
       "      <td>NaT</td>\n",
       "      <td>GENERIC</td>\n",
       "      <td>None</td>\n",
       "      <td>b'\\x00\\x00\\x00\\x00\\x00 \\xc6\\xf0'</td>\n",
       "    </tr>\n",
       "    <tr>\n",
       "      <td>20518</td>\n",
       "      <td>101476</td>\n",
       "      <td>CUS-27651</td>\n",
       "      <td>Custom Standard</td>\n",
       "      <td>7</td>\n",
       "      <td>None</td>\n",
       "      <td>None</td>\n",
       "      <td>2017-12-18</td>\n",
       "      <td>2017-12-18</td>\n",
       "      <td>None</td>\n",
       "      <td>JHP-001</td>\n",
       "      <td>...</td>\n",
       "      <td>None</td>\n",
       "      <td>None</td>\n",
       "      <td>False</td>\n",
       "      <td>VOID</td>\n",
       "      <td>None</td>\n",
       "      <td>1.0</td>\n",
       "      <td>NaT</td>\n",
       "      <td>GENERIC</td>\n",
       "      <td>None</td>\n",
       "      <td>b'\\x00\\x00\\x00\\x00\\x00 \\x15\\xe8'</td>\n",
       "    </tr>\n",
       "    <tr>\n",
       "      <td>22269</td>\n",
       "      <td>104936</td>\n",
       "      <td>CUS-29412</td>\n",
       "      <td>Custom Standard</td>\n",
       "      <td>7</td>\n",
       "      <td>None</td>\n",
       "      <td>None</td>\n",
       "      <td>2018-06-01</td>\n",
       "      <td>2018-06-01</td>\n",
       "      <td>None</td>\n",
       "      <td>JHP-003</td>\n",
       "      <td>...</td>\n",
       "      <td>None</td>\n",
       "      <td>None</td>\n",
       "      <td>False</td>\n",
       "      <td>VOID</td>\n",
       "      <td>None</td>\n",
       "      <td>3.0</td>\n",
       "      <td>NaT</td>\n",
       "      <td>None</td>\n",
       "      <td>None</td>\n",
       "      <td>b'\\x00\\x00\\x00\\x00\\x00!\\xa9\\xb3'</td>\n",
       "    </tr>\n",
       "  </tbody>\n",
       "</table>\n",
       "<p>5 rows × 42 columns</p>\n",
       "</div>"
      ],
      "text/plain": [
       "       ProductID     ProductNo      ProductName  LineID Description Specials  \\\n",
       "64731      25654     QTE-25654  Custom Standard       7        None     None   \n",
       "3896      112999  CUS-00002001  Custom Standard       7        None     None   \n",
       "65833      27299     QTE-27299  Custom Standard       8        None     None   \n",
       "20518     101476     CUS-27651  Custom Standard       7        None     None   \n",
       "22269     104936     CUS-29412  Custom Standard       7        None     None   \n",
       "\n",
       "      OriginationDate  EntryDate Status MatrixNumber  ...  \\\n",
       "64731      2007-06-14 2011-05-09   None      JHP-013  ...   \n",
       "3896       2019-11-12 2019-11-12   None      JHP-001  ...   \n",
       "65833      2007-09-10 2009-04-30   None      JHP-045  ...   \n",
       "20518      2017-12-18 2017-12-18   None      JHP-001  ...   \n",
       "22269      2018-06-01 2018-06-01   None      JHP-003  ...   \n",
       "\n",
       "                                MatrixNotes         RecipeId RushPriority  \\\n",
       "64731                                  None  RP-33834               False   \n",
       "3896                                   None             None        False   \n",
       "65833  Solution will contain 2% nitric acid  RP-34508               False   \n",
       "20518                                  None             None        False   \n",
       "22269                                  None             None        False   \n",
       "\n",
       "      IsVoided SagePartNumber ProductLevel  DateInserted CofATemplate  \\\n",
       "64731     VOID           None          1.0           NaT      GENERIC   \n",
       "3896                     None          2.0           NaT         None   \n",
       "65833     VOID           None          1.0           NaT      GENERIC   \n",
       "20518     VOID           None          1.0           NaT      GENERIC   \n",
       "22269     VOID           None          3.0           NaT         None   \n",
       "\n",
       "      UniqueRequestID                    Test_Timestamp  \n",
       "64731            None  b'\\x00\\x00\\x00\\x00\\x00 \\xc2\\xbb'  \n",
       "3896             None  b'\\x00\\x00\\x00\\x00\\x00\\x1f\\xd5B'  \n",
       "65833            None  b'\\x00\\x00\\x00\\x00\\x00 \\xc6\\xf0'  \n",
       "20518            None  b'\\x00\\x00\\x00\\x00\\x00 \\x15\\xe8'  \n",
       "22269            None  b'\\x00\\x00\\x00\\x00\\x00!\\xa9\\xb3'  \n",
       "\n",
       "[5 rows x 42 columns]"
      ]
     },
     "execution_count": 26,
     "metadata": {},
     "output_type": "execute_result"
    }
   ],
   "source": [
    "df_products.sample(5)"
   ]
  },
  {
   "cell_type": "markdown",
   "metadata": {},
   "source": [
    "---\n",
    "## **CREATE** `df_QCMetrics` Table (calculations table)"
   ]
  },
  {
   "cell_type": "code",
   "execution_count": 27,
   "metadata": {
    "ExecuteTime": {
     "end_time": "2020-02-24T21:57:32.783165Z",
     "start_time": "2020-02-24T21:57:30.510120Z"
    }
   },
   "outputs": [
    {
     "data": {
      "text/plain": [
       "108394"
      ]
     },
     "execution_count": 27,
     "metadata": {},
     "output_type": "execute_result"
    }
   ],
   "source": [
    "#inner join in python pandas\n",
    "df_QCMetrics = pd.merge(df_products, df_tblProdflow, on='ProductNo', how='right')\n",
    "len(df_QCMetrics)"
   ]
  },
  {
   "cell_type": "code",
   "execution_count": 28,
   "metadata": {
    "ExecuteTime": {
     "end_time": "2020-02-24T21:57:33.077235Z",
     "start_time": "2020-02-24T21:57:32.785167Z"
    }
   },
   "outputs": [
    {
     "data": {
      "text/html": [
       "<div>\n",
       "<style scoped>\n",
       "    .dataframe tbody tr th:only-of-type {\n",
       "        vertical-align: middle;\n",
       "    }\n",
       "\n",
       "    .dataframe tbody tr th {\n",
       "        vertical-align: top;\n",
       "    }\n",
       "\n",
       "    .dataframe thead th {\n",
       "        text-align: right;\n",
       "    }\n",
       "</style>\n",
       "<table border=\"1\" class=\"dataframe\">\n",
       "  <thead>\n",
       "    <tr style=\"text-align: right;\">\n",
       "      <th></th>\n",
       "      <th>ProductID</th>\n",
       "      <th>ProductNo</th>\n",
       "      <th>ProductName</th>\n",
       "      <th>LineID</th>\n",
       "      <th>Description</th>\n",
       "      <th>Specials</th>\n",
       "      <th>OriginationDate</th>\n",
       "      <th>EntryDate</th>\n",
       "      <th>Status</th>\n",
       "      <th>MatrixNumber</th>\n",
       "      <th>...</th>\n",
       "      <th>QCValidation</th>\n",
       "      <th>FgInvCount</th>\n",
       "      <th>FgAccpacNote</th>\n",
       "      <th>CofAHeaderNo</th>\n",
       "      <th>QCChromatogram</th>\n",
       "      <th>Correct</th>\n",
       "      <th>DoNotCorrect</th>\n",
       "      <th>DensityUnit</th>\n",
       "      <th>DensityTemp</th>\n",
       "      <th>recipeid</th>\n",
       "    </tr>\n",
       "  </thead>\n",
       "  <tbody>\n",
       "    <tr>\n",
       "      <td>78565</td>\n",
       "      <td>6911.0</td>\n",
       "      <td>PST-2440S</td>\n",
       "      <td>Metconazole Solution</td>\n",
       "      <td>1.0</td>\n",
       "      <td>1 analyte @ 100 µg/mL in acetonitrile</td>\n",
       "      <td>*NEW*</td>\n",
       "      <td>2003-09-11</td>\n",
       "      <td>2011-05-09</td>\n",
       "      <td>new</td>\n",
       "      <td>JHP-003</td>\n",
       "      <td>...</td>\n",
       "      <td>1.0</td>\n",
       "      <td>NaN</td>\n",
       "      <td>None</td>\n",
       "      <td>1.0</td>\n",
       "      <td>None</td>\n",
       "      <td>False</td>\n",
       "      <td>True</td>\n",
       "      <td>None</td>\n",
       "      <td>None</td>\n",
       "      <td>None</td>\n",
       "    </tr>\n",
       "    <tr>\n",
       "      <td>102949</td>\n",
       "      <td>7731.0</td>\n",
       "      <td>WAT042885</td>\n",
       "      <td>Waters UV/Visible Absorbance Det Wavelength Ac...</td>\n",
       "      <td>7.0</td>\n",
       "      <td>None</td>\n",
       "      <td>None</td>\n",
       "      <td>2001-06-12</td>\n",
       "      <td>2001-11-26</td>\n",
       "      <td>oem</td>\n",
       "      <td>JHP-040</td>\n",
       "      <td>...</td>\n",
       "      <td>2.0</td>\n",
       "      <td>1574.0</td>\n",
       "      <td>Backup</td>\n",
       "      <td>2.0</td>\n",
       "      <td>None</td>\n",
       "      <td>False</td>\n",
       "      <td>True</td>\n",
       "      <td>None</td>\n",
       "      <td>None</td>\n",
       "      <td>None</td>\n",
       "    </tr>\n",
       "    <tr>\n",
       "      <td>55860</td>\n",
       "      <td>52935.0</td>\n",
       "      <td>G3440-85011-1</td>\n",
       "      <td>Checkout Sample for Sulfurs in Petroleum</td>\n",
       "      <td>20.0</td>\n",
       "      <td>None</td>\n",
       "      <td>None</td>\n",
       "      <td>2011-09-29</td>\n",
       "      <td>2011-09-29</td>\n",
       "      <td>None</td>\n",
       "      <td>JHP-278</td>\n",
       "      <td>...</td>\n",
       "      <td>2.0</td>\n",
       "      <td>NaN</td>\n",
       "      <td>None</td>\n",
       "      <td>2.0</td>\n",
       "      <td>None</td>\n",
       "      <td>False</td>\n",
       "      <td>False</td>\n",
       "      <td>None</td>\n",
       "      <td>None</td>\n",
       "      <td>None</td>\n",
       "    </tr>\n",
       "    <tr>\n",
       "      <td>43172</td>\n",
       "      <td>16452.0</td>\n",
       "      <td>CUS-7089</td>\n",
       "      <td>Custom Standard</td>\n",
       "      <td>7.0</td>\n",
       "      <td>None</td>\n",
       "      <td>None</td>\n",
       "      <td>2005-11-04</td>\n",
       "      <td>2005-11-04</td>\n",
       "      <td>None</td>\n",
       "      <td>JHP-040</td>\n",
       "      <td>...</td>\n",
       "      <td>1.0</td>\n",
       "      <td>32.0</td>\n",
       "      <td>None</td>\n",
       "      <td>1.0</td>\n",
       "      <td>None</td>\n",
       "      <td>False</td>\n",
       "      <td>True</td>\n",
       "      <td>None</td>\n",
       "      <td>None</td>\n",
       "      <td>None</td>\n",
       "    </tr>\n",
       "    <tr>\n",
       "      <td>53269</td>\n",
       "      <td>5843.0</td>\n",
       "      <td>EPA-1153-1</td>\n",
       "      <td>Phenacetin Standard</td>\n",
       "      <td>1.0</td>\n",
       "      <td>1 analyte @ 5000 µg/mL in methanol (methyl alc...</td>\n",
       "      <td>None</td>\n",
       "      <td>1999-01-20</td>\n",
       "      <td>2011-05-09</td>\n",
       "      <td>active</td>\n",
       "      <td>JHP-021</td>\n",
       "      <td>...</td>\n",
       "      <td>2.0</td>\n",
       "      <td>NaN</td>\n",
       "      <td>None</td>\n",
       "      <td>2.0</td>\n",
       "      <td>None</td>\n",
       "      <td>False</td>\n",
       "      <td>True</td>\n",
       "      <td>None</td>\n",
       "      <td>None</td>\n",
       "      <td>None</td>\n",
       "    </tr>\n",
       "  </tbody>\n",
       "</table>\n",
       "<p>5 rows × 94 columns</p>\n",
       "</div>"
      ],
      "text/plain": [
       "        ProductID      ProductNo  \\\n",
       "78565      6911.0      PST-2440S   \n",
       "102949     7731.0      WAT042885   \n",
       "55860     52935.0  G3440-85011-1   \n",
       "43172     16452.0       CUS-7089   \n",
       "53269      5843.0     EPA-1153-1   \n",
       "\n",
       "                                              ProductName  LineID  \\\n",
       "78565                                Metconazole Solution     1.0   \n",
       "102949  Waters UV/Visible Absorbance Det Wavelength Ac...     7.0   \n",
       "55860            Checkout Sample for Sulfurs in Petroleum    20.0   \n",
       "43172                                     Custom Standard     7.0   \n",
       "53269                                 Phenacetin Standard     1.0   \n",
       "\n",
       "                                              Description Specials  \\\n",
       "78565               1 analyte @ 100 µg/mL in acetonitrile    *NEW*   \n",
       "102949                                               None     None   \n",
       "55860                                                None     None   \n",
       "43172                                                None     None   \n",
       "53269   1 analyte @ 5000 µg/mL in methanol (methyl alc...     None   \n",
       "\n",
       "       OriginationDate  EntryDate  Status MatrixNumber  ...  QCValidation  \\\n",
       "78565       2003-09-11 2011-05-09     new      JHP-003  ...           1.0   \n",
       "102949      2001-06-12 2001-11-26     oem      JHP-040  ...           2.0   \n",
       "55860       2011-09-29 2011-09-29    None      JHP-278  ...           2.0   \n",
       "43172       2005-11-04 2005-11-04    None      JHP-040  ...           1.0   \n",
       "53269       1999-01-20 2011-05-09  active      JHP-021  ...           2.0   \n",
       "\n",
       "       FgInvCount FgAccpacNote CofAHeaderNo QCChromatogram Correct  \\\n",
       "78565         NaN         None          1.0           None   False   \n",
       "102949     1574.0       Backup          2.0           None   False   \n",
       "55860         NaN         None          2.0           None   False   \n",
       "43172        32.0         None          1.0           None   False   \n",
       "53269         NaN         None          2.0           None   False   \n",
       "\n",
       "        DoNotCorrect DensityUnit DensityTemp recipeid  \n",
       "78565           True        None        None     None  \n",
       "102949          True        None        None     None  \n",
       "55860          False        None        None     None  \n",
       "43172           True        None        None     None  \n",
       "53269           True        None        None     None  \n",
       "\n",
       "[5 rows x 94 columns]"
      ]
     },
     "execution_count": 28,
     "metadata": {},
     "output_type": "execute_result"
    }
   ],
   "source": [
    "# COPY FOR TESTING\n",
    "TEST_METRICS = pd.DataFrame(data=df_QCMetrics)\n",
    "TEST_METRICS.sample(5)"
   ]
  },
  {
   "cell_type": "markdown",
   "metadata": {},
   "source": [
    "### Drop **ALL** rows without a `QCDate` & `QCValidation` "
   ]
  },
  {
   "cell_type": "code",
   "execution_count": 29,
   "metadata": {
    "ExecuteTime": {
     "end_time": "2020-02-24T21:57:33.556237Z",
     "start_time": "2020-02-24T21:57:33.079239Z"
    }
   },
   "outputs": [
    {
     "data": {
      "text/plain": [
       "102902"
      ]
     },
     "execution_count": 29,
     "metadata": {},
     "output_type": "execute_result"
    }
   ],
   "source": [
    "df_QCMetrics.dropna(axis=0, subset=['QCDate', 'QCValidation'], how='any', inplace=True)\n",
    "# [2020-02-24]\\\\df_QCMetrics.dropna(axis=0, subset=['QCDate', 'ProductLevel'], how='any', inplace=True)\n",
    "len(df_QCMetrics)"
   ]
  },
  {
   "cell_type": "code",
   "execution_count": 30,
   "metadata": {
    "ExecuteTime": {
     "end_time": "2020-02-24T21:57:33.566238Z",
     "start_time": "2020-02-24T21:57:33.558238Z"
    }
   },
   "outputs": [
    {
     "data": {
      "text/plain": [
       "pandas.core.frame.DataFrame"
      ]
     },
     "execution_count": 30,
     "metadata": {},
     "output_type": "execute_result"
    }
   ],
   "source": [
    "type(df_month_range)"
   ]
  },
  {
   "cell_type": "markdown",
   "metadata": {},
   "source": [
    "#### TEST_METRICS (dataframe)"
   ]
  },
  {
   "cell_type": "raw",
   "metadata": {},
   "source": [
    "df_Metrics_Monthly = df_QCMetrics.set_index('QCDate'), on=df_month_range)"
   ]
  },
  {
   "cell_type": "code",
   "execution_count": 31,
   "metadata": {
    "ExecuteTime": {
     "end_time": "2020-02-24T21:57:33.582273Z",
     "start_time": "2020-02-24T21:57:33.567752Z"
    }
   },
   "outputs": [],
   "source": [
    "# CONVERT from string to datetime\n",
    "TEST_METRICS['QCDate'] = pd.to_datetime(TEST_METRICS['QCDate'])"
   ]
  },
  {
   "cell_type": "code",
   "execution_count": 32,
   "metadata": {
    "ExecuteTime": {
     "end_time": "2020-02-24T21:57:33.606272Z",
     "start_time": "2020-02-24T21:57:33.584273Z"
    }
   },
   "outputs": [],
   "source": [
    "# CONVERT FROM string to categorical\n",
    "TEST_METRICS['QCValidation'] = pd.Categorical(TEST_METRICS[\"QCValidation\"], ordered=False)"
   ]
  },
  {
   "cell_type": "code",
   "execution_count": 33,
   "metadata": {
    "ExecuteTime": {
     "end_time": "2020-02-24T21:57:33.657270Z",
     "start_time": "2020-02-24T21:57:33.609272Z"
    }
   },
   "outputs": [
    {
     "data": {
      "text/html": [
       "<div>\n",
       "<style scoped>\n",
       "    .dataframe tbody tr th:only-of-type {\n",
       "        vertical-align: middle;\n",
       "    }\n",
       "\n",
       "    .dataframe tbody tr th {\n",
       "        vertical-align: top;\n",
       "    }\n",
       "\n",
       "    .dataframe thead th {\n",
       "        text-align: right;\n",
       "    }\n",
       "</style>\n",
       "<table border=\"1\" class=\"dataframe\">\n",
       "  <thead>\n",
       "    <tr style=\"text-align: right;\">\n",
       "      <th></th>\n",
       "      <th></th>\n",
       "      <th>ProductID</th>\n",
       "      <th>ProductNo</th>\n",
       "      <th>ProductName</th>\n",
       "      <th>LineID</th>\n",
       "      <th>Description</th>\n",
       "      <th>Specials</th>\n",
       "      <th>OriginationDate</th>\n",
       "      <th>EntryDate</th>\n",
       "      <th>Status</th>\n",
       "      <th>MatrixNumber</th>\n",
       "      <th>...</th>\n",
       "      <th>QCFullValidation</th>\n",
       "      <th>FgInvCount</th>\n",
       "      <th>FgAccpacNote</th>\n",
       "      <th>CofAHeaderNo</th>\n",
       "      <th>QCChromatogram</th>\n",
       "      <th>Correct</th>\n",
       "      <th>DoNotCorrect</th>\n",
       "      <th>DensityUnit</th>\n",
       "      <th>DensityTemp</th>\n",
       "      <th>recipeid</th>\n",
       "    </tr>\n",
       "    <tr>\n",
       "      <th>QCDate</th>\n",
       "      <th>QCValidation</th>\n",
       "      <th></th>\n",
       "      <th></th>\n",
       "      <th></th>\n",
       "      <th></th>\n",
       "      <th></th>\n",
       "      <th></th>\n",
       "      <th></th>\n",
       "      <th></th>\n",
       "      <th></th>\n",
       "      <th></th>\n",
       "      <th></th>\n",
       "      <th></th>\n",
       "      <th></th>\n",
       "      <th></th>\n",
       "      <th></th>\n",
       "      <th></th>\n",
       "      <th></th>\n",
       "      <th></th>\n",
       "      <th></th>\n",
       "      <th></th>\n",
       "      <th></th>\n",
       "    </tr>\n",
       "  </thead>\n",
       "  <tbody>\n",
       "    <tr>\n",
       "      <td>1999-03-11</td>\n",
       "      <td>1.0</td>\n",
       "      <td>27264.0</td>\n",
       "      <td>CUS-3043</td>\n",
       "      <td>Custom Standard</td>\n",
       "      <td>7.0</td>\n",
       "      <td>None</td>\n",
       "      <td>None</td>\n",
       "      <td>2007-09-07</td>\n",
       "      <td>2011-05-09</td>\n",
       "      <td>None</td>\n",
       "      <td>JHP-021</td>\n",
       "      <td>...</td>\n",
       "      <td>False</td>\n",
       "      <td>NaN</td>\n",
       "      <td>None</td>\n",
       "      <td>1.0</td>\n",
       "      <td>None</td>\n",
       "      <td>False</td>\n",
       "      <td>True</td>\n",
       "      <td>None</td>\n",
       "      <td>None</td>\n",
       "      <td>None</td>\n",
       "    </tr>\n",
       "    <tr>\n",
       "      <td>2003-03-11</td>\n",
       "      <td>1.0</td>\n",
       "      <td>1021.0</td>\n",
       "      <td>CUS-4527</td>\n",
       "      <td>Custom Standard</td>\n",
       "      <td>7.0</td>\n",
       "      <td>None</td>\n",
       "      <td>None</td>\n",
       "      <td>2003-02-12</td>\n",
       "      <td>2009-04-30</td>\n",
       "      <td>None</td>\n",
       "      <td>JHP-056</td>\n",
       "      <td>...</td>\n",
       "      <td>False</td>\n",
       "      <td>NaN</td>\n",
       "      <td>None</td>\n",
       "      <td>1.0</td>\n",
       "      <td>None</td>\n",
       "      <td>False</td>\n",
       "      <td>True</td>\n",
       "      <td>None</td>\n",
       "      <td>None</td>\n",
       "      <td>None</td>\n",
       "    </tr>\n",
       "    <tr>\n",
       "      <td>2016-10-18</td>\n",
       "      <td>2.0</td>\n",
       "      <td>41645.0</td>\n",
       "      <td>5190-0488-3</td>\n",
       "      <td>Enterprise Caffeine Standard - Cal #3 (2 µg/mL)</td>\n",
       "      <td>7.0</td>\n",
       "      <td>None</td>\n",
       "      <td>Agilent Technologies</td>\n",
       "      <td>2010-01-07</td>\n",
       "      <td>2010-01-07</td>\n",
       "      <td>None</td>\n",
       "      <td>JHP-040</td>\n",
       "      <td>...</td>\n",
       "      <td>False</td>\n",
       "      <td>4710.0</td>\n",
       "      <td>None</td>\n",
       "      <td>2.0</td>\n",
       "      <td>None</td>\n",
       "      <td>False</td>\n",
       "      <td>False</td>\n",
       "      <td>None</td>\n",
       "      <td>None</td>\n",
       "      <td>None</td>\n",
       "    </tr>\n",
       "    <tr>\n",
       "      <td>2007-08-28</td>\n",
       "      <td>2.0</td>\n",
       "      <td>7538.0</td>\n",
       "      <td>SAZ-100-1</td>\n",
       "      <td>Retention Time Verification Standard</td>\n",
       "      <td>1.0</td>\n",
       "      <td>3 analytes @ 1000 µg/mL in methylene chloride ...</td>\n",
       "      <td>None</td>\n",
       "      <td>2000-02-10</td>\n",
       "      <td>2011-05-09</td>\n",
       "      <td>active</td>\n",
       "      <td>JHP-031</td>\n",
       "      <td>...</td>\n",
       "      <td>True</td>\n",
       "      <td>110.0</td>\n",
       "      <td>zero out ca-0936a (110) stab</td>\n",
       "      <td>2.0</td>\n",
       "      <td>None</td>\n",
       "      <td>False</td>\n",
       "      <td>True</td>\n",
       "      <td>None</td>\n",
       "      <td>None</td>\n",
       "      <td>None</td>\n",
       "    </tr>\n",
       "    <tr>\n",
       "      <td>2008-03-12</td>\n",
       "      <td>1.0</td>\n",
       "      <td>30062.0</td>\n",
       "      <td>CUS-9521</td>\n",
       "      <td>Custom Standard</td>\n",
       "      <td>7.0</td>\n",
       "      <td>None</td>\n",
       "      <td>None</td>\n",
       "      <td>2008-02-26</td>\n",
       "      <td>2008-02-26</td>\n",
       "      <td>None</td>\n",
       "      <td>JHP-039</td>\n",
       "      <td>...</td>\n",
       "      <td>False</td>\n",
       "      <td>17.0</td>\n",
       "      <td>None</td>\n",
       "      <td>1.0</td>\n",
       "      <td>None</td>\n",
       "      <td>False</td>\n",
       "      <td>True</td>\n",
       "      <td>None</td>\n",
       "      <td>None</td>\n",
       "      <td>None</td>\n",
       "    </tr>\n",
       "  </tbody>\n",
       "</table>\n",
       "<p>5 rows × 92 columns</p>\n",
       "</div>"
      ],
      "text/plain": [
       "                         ProductID    ProductNo  \\\n",
       "QCDate     QCValidation                           \n",
       "1999-03-11 1.0             27264.0     CUS-3043   \n",
       "2003-03-11 1.0              1021.0     CUS-4527   \n",
       "2016-10-18 2.0             41645.0  5190-0488-3   \n",
       "2007-08-28 2.0              7538.0    SAZ-100-1   \n",
       "2008-03-12 1.0             30062.0     CUS-9521   \n",
       "\n",
       "                                                             ProductName  \\\n",
       "QCDate     QCValidation                                                    \n",
       "1999-03-11 1.0                                           Custom Standard   \n",
       "2003-03-11 1.0                                           Custom Standard   \n",
       "2016-10-18 2.0           Enterprise Caffeine Standard - Cal #3 (2 µg/mL)   \n",
       "2007-08-28 2.0                      Retention Time Verification Standard   \n",
       "2008-03-12 1.0                                           Custom Standard   \n",
       "\n",
       "                         LineID  \\\n",
       "QCDate     QCValidation           \n",
       "1999-03-11 1.0              7.0   \n",
       "2003-03-11 1.0              7.0   \n",
       "2016-10-18 2.0              7.0   \n",
       "2007-08-28 2.0              1.0   \n",
       "2008-03-12 1.0              7.0   \n",
       "\n",
       "                                                               Description  \\\n",
       "QCDate     QCValidation                                                      \n",
       "1999-03-11 1.0                                                        None   \n",
       "2003-03-11 1.0                                                        None   \n",
       "2016-10-18 2.0                                                        None   \n",
       "2007-08-28 2.0           3 analytes @ 1000 µg/mL in methylene chloride ...   \n",
       "2008-03-12 1.0                                                        None   \n",
       "\n",
       "                                     Specials OriginationDate  EntryDate  \\\n",
       "QCDate     QCValidation                                                    \n",
       "1999-03-11 1.0                           None      2007-09-07 2011-05-09   \n",
       "2003-03-11 1.0                           None      2003-02-12 2009-04-30   \n",
       "2016-10-18 2.0           Agilent Technologies      2010-01-07 2010-01-07   \n",
       "2007-08-28 2.0                           None      2000-02-10 2011-05-09   \n",
       "2008-03-12 1.0                           None      2008-02-26 2008-02-26   \n",
       "\n",
       "                         Status MatrixNumber  ...  QCFullValidation  \\\n",
       "QCDate     QCValidation                       ...                     \n",
       "1999-03-11 1.0             None      JHP-021  ...             False   \n",
       "2003-03-11 1.0             None      JHP-056  ...             False   \n",
       "2016-10-18 2.0             None      JHP-040  ...             False   \n",
       "2007-08-28 2.0           active      JHP-031  ...              True   \n",
       "2008-03-12 1.0             None      JHP-039  ...             False   \n",
       "\n",
       "                        FgInvCount                  FgAccpacNote CofAHeaderNo  \\\n",
       "QCDate     QCValidation                                                         \n",
       "1999-03-11 1.0                 NaN                          None          1.0   \n",
       "2003-03-11 1.0                 NaN                          None          1.0   \n",
       "2016-10-18 2.0              4710.0                          None          2.0   \n",
       "2007-08-28 2.0               110.0  zero out ca-0936a (110) stab          2.0   \n",
       "2008-03-12 1.0                17.0                          None          1.0   \n",
       "\n",
       "                        QCChromatogram Correct  DoNotCorrect DensityUnit  \\\n",
       "QCDate     QCValidation                                                    \n",
       "1999-03-11 1.0                    None   False          True        None   \n",
       "2003-03-11 1.0                    None   False          True        None   \n",
       "2016-10-18 2.0                    None   False         False        None   \n",
       "2007-08-28 2.0                    None   False          True        None   \n",
       "2008-03-12 1.0                    None   False          True        None   \n",
       "\n",
       "                        DensityTemp recipeid  \n",
       "QCDate     QCValidation                       \n",
       "1999-03-11 1.0                 None     None  \n",
       "2003-03-11 1.0                 None     None  \n",
       "2016-10-18 2.0                 None     None  \n",
       "2007-08-28 2.0                 None     None  \n",
       "2008-03-12 1.0                 None     None  \n",
       "\n",
       "[5 rows x 92 columns]"
      ]
     },
     "execution_count": 33,
     "metadata": {},
     "output_type": "execute_result"
    }
   ],
   "source": [
    "# SET ['QCDate'] & ['QCValidation'] as the INDEX and delete COLUMNS\n",
    "# [2020-02-24]\\\\TEST_METRICS.set_index([TEST_METRICS['QCDate'], TEST_METRICS['QCValidation']])\n",
    "TEST_METRICS.index = [TEST_METRICS['QCDate'], TEST_METRICS['QCValidation']]\n",
    "del TEST_METRICS['QCDate'], TEST_METRICS['QCValidation']\n",
    "TEST_METRICS.sample(5)"
   ]
  },
  {
   "cell_type": "raw",
   "metadata": {},
   "source": [
    "TEST_METRICS.index =  = df_QCMetrics.reindex(['QCDate', 'QCValidation'], inplace=False)"
   ]
  },
  {
   "cell_type": "code",
   "execution_count": 34,
   "metadata": {
    "ExecuteTime": {
     "end_time": "2020-02-24T21:57:34.208272Z",
     "start_time": "2020-02-24T21:57:33.659274Z"
    }
   },
   "outputs": [
    {
     "data": {
      "text/plain": [
       "(1987-01-01 00:00:00, 1.0)     2\n",
       "(1989-01-01 00:00:00, 1.0)     1\n",
       "(1991-01-01 00:00:00, 1.0)     1\n",
       "(1991-01-01 00:00:00, 2.0)     3\n",
       "(1992-01-01 00:00:00, 1.0)     1\n",
       "                              ..\n",
       "(NaT, 0.0)                     2\n",
       "(2020-02-13 00:00:00, 1.0)    33\n",
       "(2020-02-13 00:00:00, 3.0)     1\n",
       "(2020-02-14 00:00:00, 1.0)     4\n",
       "(NaT, nan)                     1\n",
       "Name: PfBatchID, Length: 11040, dtype: int64"
      ]
     },
     "execution_count": 34,
     "metadata": {},
     "output_type": "execute_result"
    }
   ],
   "source": [
    "TEST_METRICS.groupby(TEST_METRICS.index)['PfBatchID'].count()"
   ]
  },
  {
   "cell_type": "code",
   "execution_count": 35,
   "metadata": {
    "ExecuteTime": {
     "end_time": "2020-02-24T21:57:34.927298Z",
     "start_time": "2020-02-24T21:57:34.209272Z"
    }
   },
   "outputs": [
    {
     "name": "stdout",
     "output_type": "stream",
     "text": [
      "FAIL!\n",
      "\n",
      "TypeError:\n",
      "\tOnly valid with:\n",
      "\t\tDatetimeIndex,\n",
      "\t\tTimedeltaIndex,\n",
      "\t\tPeriodIndex;\n",
      "\t\t\tbut got an instance of 'MultiIndex'\n"
     ]
    }
   ],
   "source": [
    "try: # {\n",
    "    TEST_METRICS.resample(\"D\").count()\n",
    "# }\n",
    "except: # {\n",
    "    print(\"FAIL!\\n\\nTypeError:\\n\\tOnly valid with:\\n\\t\\tDatetimeIndex,\\n\\t\\tTimedeltaIndex,\\n\\t\\tPeriodIndex;\\n\\t\\t\\tbut got an instance of 'MultiIndex'\")\n",
    "# }"
   ]
  },
  {
   "cell_type": "code",
   "execution_count": 36,
   "metadata": {
    "ExecuteTime": {
     "end_time": "2020-02-24T21:57:44.468412Z",
     "start_time": "2020-02-24T21:57:34.930299Z"
    }
   },
   "outputs": [],
   "source": [
    "TEST_METRICS.to_csv(\"test_METRICS_index.csv\", index=True)"
   ]
  },
  {
   "cell_type": "markdown",
   "metadata": {},
   "source": [
    "---\n",
    "# CHANGE `index` of `df_QCMetrics`:"
   ]
  },
  {
   "cell_type": "markdown",
   "metadata": {},
   "source": [
    "---\n",
    "## *BEFORE setting `index`:*"
   ]
  },
  {
   "cell_type": "code",
   "execution_count": 37,
   "metadata": {
    "ExecuteTime": {
     "end_time": "2020-02-24T21:57:44.507417Z",
     "start_time": "2020-02-24T21:57:44.470414Z"
    }
   },
   "outputs": [
    {
     "data": {
      "text/html": [
       "<div>\n",
       "<style scoped>\n",
       "    .dataframe tbody tr th:only-of-type {\n",
       "        vertical-align: middle;\n",
       "    }\n",
       "\n",
       "    .dataframe tbody tr th {\n",
       "        vertical-align: top;\n",
       "    }\n",
       "\n",
       "    .dataframe thead th {\n",
       "        text-align: right;\n",
       "    }\n",
       "</style>\n",
       "<table border=\"1\" class=\"dataframe\">\n",
       "  <thead>\n",
       "    <tr style=\"text-align: right;\">\n",
       "      <th></th>\n",
       "      <th>ProductID</th>\n",
       "      <th>ProductNo</th>\n",
       "      <th>ProductName</th>\n",
       "      <th>LineID</th>\n",
       "      <th>Description</th>\n",
       "      <th>Specials</th>\n",
       "      <th>OriginationDate</th>\n",
       "      <th>EntryDate</th>\n",
       "      <th>Status</th>\n",
       "      <th>MatrixNumber</th>\n",
       "      <th>...</th>\n",
       "      <th>QCValidation</th>\n",
       "      <th>FgInvCount</th>\n",
       "      <th>FgAccpacNote</th>\n",
       "      <th>CofAHeaderNo</th>\n",
       "      <th>QCChromatogram</th>\n",
       "      <th>Correct</th>\n",
       "      <th>DoNotCorrect</th>\n",
       "      <th>DensityUnit</th>\n",
       "      <th>DensityTemp</th>\n",
       "      <th>recipeid</th>\n",
       "    </tr>\n",
       "  </thead>\n",
       "  <tbody>\n",
       "    <tr>\n",
       "      <td>71511</td>\n",
       "      <td>6575.0</td>\n",
       "      <td>PPM-530-1</td>\n",
       "      <td>Carbamate Pesticides Standard</td>\n",
       "      <td>1.0</td>\n",
       "      <td>10 analytes @ 100 µg/mL in methanol (methyl al...</td>\n",
       "      <td>None</td>\n",
       "      <td>1999-01-20</td>\n",
       "      <td>2011-05-09</td>\n",
       "      <td>active</td>\n",
       "      <td>JHP-021</td>\n",
       "      <td>...</td>\n",
       "      <td>2.0</td>\n",
       "      <td>132.0</td>\n",
       "      <td>None</td>\n",
       "      <td>2.0</td>\n",
       "      <td>None</td>\n",
       "      <td>False</td>\n",
       "      <td>True</td>\n",
       "      <td>None</td>\n",
       "      <td>None</td>\n",
       "      <td>None</td>\n",
       "    </tr>\n",
       "    <tr>\n",
       "      <td>90695</td>\n",
       "      <td>7572.0</td>\n",
       "      <td>SPM-844A-1</td>\n",
       "      <td>Organophosphorus Pesticides Standard</td>\n",
       "      <td>1.0</td>\n",
       "      <td>10 analytes @ 200 µg/mL in hexane/acetone (1:1)</td>\n",
       "      <td>None</td>\n",
       "      <td>1999-01-20</td>\n",
       "      <td>2009-04-30</td>\n",
       "      <td>active</td>\n",
       "      <td>JHP-015</td>\n",
       "      <td>...</td>\n",
       "      <td>2.0</td>\n",
       "      <td>NaN</td>\n",
       "      <td>None</td>\n",
       "      <td>3.0</td>\n",
       "      <td>None</td>\n",
       "      <td>False</td>\n",
       "      <td>True</td>\n",
       "      <td>None</td>\n",
       "      <td>None</td>\n",
       "      <td>None</td>\n",
       "    </tr>\n",
       "    <tr>\n",
       "      <td>13932</td>\n",
       "      <td>35706.0</td>\n",
       "      <td>CUS-10546</td>\n",
       "      <td>Custom Standard</td>\n",
       "      <td>7.0</td>\n",
       "      <td>None</td>\n",
       "      <td>None</td>\n",
       "      <td>2009-01-28</td>\n",
       "      <td>2009-01-28</td>\n",
       "      <td>None</td>\n",
       "      <td>JHP-040</td>\n",
       "      <td>...</td>\n",
       "      <td>1.0</td>\n",
       "      <td>1.0</td>\n",
       "      <td>None</td>\n",
       "      <td>1.0</td>\n",
       "      <td>None</td>\n",
       "      <td>False</td>\n",
       "      <td>False</td>\n",
       "      <td>None</td>\n",
       "      <td>None</td>\n",
       "      <td>None</td>\n",
       "    </tr>\n",
       "    <tr>\n",
       "      <td>50734</td>\n",
       "      <td>31262.0</td>\n",
       "      <td>CUS-9851</td>\n",
       "      <td>Custom Standard</td>\n",
       "      <td>7.0</td>\n",
       "      <td>None</td>\n",
       "      <td>None</td>\n",
       "      <td>2008-04-29</td>\n",
       "      <td>2011-05-09</td>\n",
       "      <td>None</td>\n",
       "      <td>JHP-031</td>\n",
       "      <td>...</td>\n",
       "      <td>1.0</td>\n",
       "      <td>4.0</td>\n",
       "      <td>None</td>\n",
       "      <td>1.0</td>\n",
       "      <td>None</td>\n",
       "      <td>False</td>\n",
       "      <td>True</td>\n",
       "      <td>None</td>\n",
       "      <td>None</td>\n",
       "      <td>None</td>\n",
       "    </tr>\n",
       "    <tr>\n",
       "      <td>43895</td>\n",
       "      <td>17586.0</td>\n",
       "      <td>CUS-7365</td>\n",
       "      <td>Custom Standard</td>\n",
       "      <td>7.0</td>\n",
       "      <td>None</td>\n",
       "      <td>None</td>\n",
       "      <td>2006-02-15</td>\n",
       "      <td>2011-05-09</td>\n",
       "      <td>None</td>\n",
       "      <td>JHP-042</td>\n",
       "      <td>...</td>\n",
       "      <td>1.0</td>\n",
       "      <td>71.0</td>\n",
       "      <td>None</td>\n",
       "      <td>1.0</td>\n",
       "      <td>None</td>\n",
       "      <td>False</td>\n",
       "      <td>True</td>\n",
       "      <td>None</td>\n",
       "      <td>None</td>\n",
       "      <td>None</td>\n",
       "    </tr>\n",
       "  </tbody>\n",
       "</table>\n",
       "<p>5 rows × 94 columns</p>\n",
       "</div>"
      ],
      "text/plain": [
       "       ProductID   ProductNo                           ProductName  LineID  \\\n",
       "71511     6575.0   PPM-530-1         Carbamate Pesticides Standard     1.0   \n",
       "90695     7572.0  SPM-844A-1  Organophosphorus Pesticides Standard     1.0   \n",
       "13932    35706.0   CUS-10546                       Custom Standard     7.0   \n",
       "50734    31262.0    CUS-9851                       Custom Standard     7.0   \n",
       "43895    17586.0    CUS-7365                       Custom Standard     7.0   \n",
       "\n",
       "                                             Description Specials  \\\n",
       "71511  10 analytes @ 100 µg/mL in methanol (methyl al...     None   \n",
       "90695    10 analytes @ 200 µg/mL in hexane/acetone (1:1)     None   \n",
       "13932                                               None     None   \n",
       "50734                                               None     None   \n",
       "43895                                               None     None   \n",
       "\n",
       "      OriginationDate  EntryDate  Status MatrixNumber  ...  QCValidation  \\\n",
       "71511      1999-01-20 2011-05-09  active      JHP-021  ...           2.0   \n",
       "90695      1999-01-20 2009-04-30  active      JHP-015  ...           2.0   \n",
       "13932      2009-01-28 2009-01-28    None      JHP-040  ...           1.0   \n",
       "50734      2008-04-29 2011-05-09    None      JHP-031  ...           1.0   \n",
       "43895      2006-02-15 2011-05-09    None      JHP-042  ...           1.0   \n",
       "\n",
       "      FgInvCount FgAccpacNote CofAHeaderNo QCChromatogram Correct  \\\n",
       "71511      132.0         None          2.0           None   False   \n",
       "90695        NaN         None          3.0           None   False   \n",
       "13932        1.0         None          1.0           None   False   \n",
       "50734        4.0         None          1.0           None   False   \n",
       "43895       71.0         None          1.0           None   False   \n",
       "\n",
       "       DoNotCorrect DensityUnit DensityTemp recipeid  \n",
       "71511          True        None        None     None  \n",
       "90695          True        None        None     None  \n",
       "13932         False        None        None     None  \n",
       "50734          True        None        None     None  \n",
       "43895          True        None        None     None  \n",
       "\n",
       "[5 rows x 94 columns]"
      ]
     },
     "execution_count": 37,
     "metadata": {},
     "output_type": "execute_result"
    }
   ],
   "source": [
    "df_QCMetrics.sample(5)"
   ]
  },
  {
   "cell_type": "markdown",
   "metadata": {},
   "source": [
    "### Convert `QCMetrics`['QCDate'] from `str` to `datetime`"
   ]
  },
  {
   "cell_type": "code",
   "execution_count": 38,
   "metadata": {
    "ExecuteTime": {
     "end_time": "2020-02-24T21:57:44.518415Z",
     "start_time": "2020-02-24T21:57:44.510414Z"
    }
   },
   "outputs": [],
   "source": [
    "# Convert \"QCMetrics\"['QCDate'] from string to datetime\n",
    "df_QCMetrics['QCDate'] = pd.to_datetime(df_QCMetrics['QCDate'])"
   ]
  },
  {
   "cell_type": "markdown",
   "metadata": {},
   "source": [
    "### set `index` of `df_QCMetrics` to be `QCDate` (after changing `dtype`)"
   ]
  },
  {
   "cell_type": "code",
   "execution_count": 39,
   "metadata": {
    "ExecuteTime": {
     "end_time": "2020-02-24T21:57:44.536410Z",
     "start_time": "2020-02-24T21:57:44.521414Z"
    }
   },
   "outputs": [],
   "source": [
    "# set \"QCmetrics\"\"['QCDate'] as the index and delete column\n",
    "df_QCMetrics.index = df_QCMetrics['QCDate']\n",
    "del df_QCMetrics['QCDate']"
   ]
  },
  {
   "cell_type": "raw",
   "metadata": {
    "raw_mimetype": "text/x-python"
   },
   "source": [
    "df_QCMetrics.dropna(axis=\"columns\", subset=df_QCMetrics.index, how='any', inplace=True)\n",
    "len(df_QCMetrics)"
   ]
  },
  {
   "cell_type": "markdown",
   "metadata": {},
   "source": [
    "---\n",
    "## *AFTER setting `index`:*"
   ]
  },
  {
   "cell_type": "code",
   "execution_count": 40,
   "metadata": {
    "ExecuteTime": {
     "end_time": "2020-02-24T21:57:44.580414Z",
     "start_time": "2020-02-24T21:57:44.539418Z"
    }
   },
   "outputs": [
    {
     "data": {
      "text/html": [
       "<div>\n",
       "<style scoped>\n",
       "    .dataframe tbody tr th:only-of-type {\n",
       "        vertical-align: middle;\n",
       "    }\n",
       "\n",
       "    .dataframe tbody tr th {\n",
       "        vertical-align: top;\n",
       "    }\n",
       "\n",
       "    .dataframe thead th {\n",
       "        text-align: right;\n",
       "    }\n",
       "</style>\n",
       "<table border=\"1\" class=\"dataframe\">\n",
       "  <thead>\n",
       "    <tr style=\"text-align: right;\">\n",
       "      <th></th>\n",
       "      <th>ProductID</th>\n",
       "      <th>ProductNo</th>\n",
       "      <th>ProductName</th>\n",
       "      <th>LineID</th>\n",
       "      <th>Description</th>\n",
       "      <th>Specials</th>\n",
       "      <th>OriginationDate</th>\n",
       "      <th>EntryDate</th>\n",
       "      <th>Status</th>\n",
       "      <th>MatrixNumber</th>\n",
       "      <th>...</th>\n",
       "      <th>QCValidation</th>\n",
       "      <th>FgInvCount</th>\n",
       "      <th>FgAccpacNote</th>\n",
       "      <th>CofAHeaderNo</th>\n",
       "      <th>QCChromatogram</th>\n",
       "      <th>Correct</th>\n",
       "      <th>DoNotCorrect</th>\n",
       "      <th>DensityUnit</th>\n",
       "      <th>DensityTemp</th>\n",
       "      <th>recipeid</th>\n",
       "    </tr>\n",
       "    <tr>\n",
       "      <th>QCDate</th>\n",
       "      <th></th>\n",
       "      <th></th>\n",
       "      <th></th>\n",
       "      <th></th>\n",
       "      <th></th>\n",
       "      <th></th>\n",
       "      <th></th>\n",
       "      <th></th>\n",
       "      <th></th>\n",
       "      <th></th>\n",
       "      <th></th>\n",
       "      <th></th>\n",
       "      <th></th>\n",
       "      <th></th>\n",
       "      <th></th>\n",
       "      <th></th>\n",
       "      <th></th>\n",
       "      <th></th>\n",
       "      <th></th>\n",
       "      <th></th>\n",
       "      <th></th>\n",
       "    </tr>\n",
       "  </thead>\n",
       "  <tbody>\n",
       "    <tr>\n",
       "      <td>2011-10-19</td>\n",
       "      <td>19587.0</td>\n",
       "      <td>CUS-7904</td>\n",
       "      <td>Custom Standard</td>\n",
       "      <td>7.0</td>\n",
       "      <td>None</td>\n",
       "      <td>None</td>\n",
       "      <td>2006-05-30</td>\n",
       "      <td>2011-05-09</td>\n",
       "      <td>None</td>\n",
       "      <td>JHP-021</td>\n",
       "      <td>...</td>\n",
       "      <td>1.0</td>\n",
       "      <td>2.0</td>\n",
       "      <td>None</td>\n",
       "      <td>1.0</td>\n",
       "      <td>None</td>\n",
       "      <td>False</td>\n",
       "      <td>True</td>\n",
       "      <td>None</td>\n",
       "      <td>None</td>\n",
       "      <td>None</td>\n",
       "    </tr>\n",
       "    <tr>\n",
       "      <td>2007-10-01</td>\n",
       "      <td>89023.0</td>\n",
       "      <td>SVM-526-1</td>\n",
       "      <td>Calibration Standard</td>\n",
       "      <td>7.0</td>\n",
       "      <td>None</td>\n",
       "      <td>None</td>\n",
       "      <td>2016-06-03</td>\n",
       "      <td>2016-06-03</td>\n",
       "      <td>None</td>\n",
       "      <td>JHP-013</td>\n",
       "      <td>...</td>\n",
       "      <td>2.0</td>\n",
       "      <td>39.0</td>\n",
       "      <td>zero out cb-1939a (39) stab</td>\n",
       "      <td>2.0</td>\n",
       "      <td>None</td>\n",
       "      <td>False</td>\n",
       "      <td>True</td>\n",
       "      <td>None</td>\n",
       "      <td>None</td>\n",
       "      <td>None</td>\n",
       "    </tr>\n",
       "    <tr>\n",
       "      <td>2008-11-24</td>\n",
       "      <td>34685.0</td>\n",
       "      <td>PST-2130M10</td>\n",
       "      <td>Chlorotoluron Solution</td>\n",
       "      <td>7.0</td>\n",
       "      <td>None</td>\n",
       "      <td>None</td>\n",
       "      <td>2008-11-20</td>\n",
       "      <td>2011-05-09</td>\n",
       "      <td>None</td>\n",
       "      <td>JHP-021</td>\n",
       "      <td>...</td>\n",
       "      <td>1.0</td>\n",
       "      <td>48.0</td>\n",
       "      <td>1 x 1 mL</td>\n",
       "      <td>1.0</td>\n",
       "      <td>None</td>\n",
       "      <td>False</td>\n",
       "      <td>True</td>\n",
       "      <td>None</td>\n",
       "      <td>None</td>\n",
       "      <td>None</td>\n",
       "    </tr>\n",
       "    <tr>\n",
       "      <td>2017-11-13</td>\n",
       "      <td>39867.0</td>\n",
       "      <td>CUS-11297</td>\n",
       "      <td>Custom Standard</td>\n",
       "      <td>7.0</td>\n",
       "      <td>None</td>\n",
       "      <td>None</td>\n",
       "      <td>2009-09-28</td>\n",
       "      <td>2011-05-09</td>\n",
       "      <td>None</td>\n",
       "      <td>JHP-031</td>\n",
       "      <td>...</td>\n",
       "      <td>1.0</td>\n",
       "      <td>30.0</td>\n",
       "      <td>None</td>\n",
       "      <td>1.0</td>\n",
       "      <td>None</td>\n",
       "      <td>False</td>\n",
       "      <td>False</td>\n",
       "      <td>None</td>\n",
       "      <td>None</td>\n",
       "      <td>None</td>\n",
       "    </tr>\n",
       "    <tr>\n",
       "      <td>2009-02-05</td>\n",
       "      <td>18040.0</td>\n",
       "      <td>PST-1805M100</td>\n",
       "      <td>Simetryn Solution</td>\n",
       "      <td>7.0</td>\n",
       "      <td>None</td>\n",
       "      <td>None</td>\n",
       "      <td>2006-03-09</td>\n",
       "      <td>2011-05-09</td>\n",
       "      <td>None</td>\n",
       "      <td>JHP-021</td>\n",
       "      <td>...</td>\n",
       "      <td>1.0</td>\n",
       "      <td>49.0</td>\n",
       "      <td>1 x 1 mL</td>\n",
       "      <td>1.0</td>\n",
       "      <td>None</td>\n",
       "      <td>False</td>\n",
       "      <td>True</td>\n",
       "      <td>None</td>\n",
       "      <td>None</td>\n",
       "      <td>None</td>\n",
       "    </tr>\n",
       "  </tbody>\n",
       "</table>\n",
       "<p>5 rows × 93 columns</p>\n",
       "</div>"
      ],
      "text/plain": [
       "            ProductID     ProductNo             ProductName  LineID  \\\n",
       "QCDate                                                                \n",
       "2011-10-19    19587.0      CUS-7904         Custom Standard     7.0   \n",
       "2007-10-01    89023.0     SVM-526-1    Calibration Standard     7.0   \n",
       "2008-11-24    34685.0   PST-2130M10  Chlorotoluron Solution     7.0   \n",
       "2017-11-13    39867.0     CUS-11297         Custom Standard     7.0   \n",
       "2009-02-05    18040.0  PST-1805M100       Simetryn Solution     7.0   \n",
       "\n",
       "           Description Specials OriginationDate  EntryDate Status  \\\n",
       "QCDate                                                              \n",
       "2011-10-19        None     None      2006-05-30 2011-05-09   None   \n",
       "2007-10-01        None     None      2016-06-03 2016-06-03   None   \n",
       "2008-11-24        None     None      2008-11-20 2011-05-09   None   \n",
       "2017-11-13        None     None      2009-09-28 2011-05-09   None   \n",
       "2009-02-05        None     None      2006-03-09 2011-05-09   None   \n",
       "\n",
       "           MatrixNumber  ...  QCValidation FgInvCount  \\\n",
       "QCDate                   ...                            \n",
       "2011-10-19      JHP-021  ...           1.0        2.0   \n",
       "2007-10-01      JHP-013  ...           2.0       39.0   \n",
       "2008-11-24      JHP-021  ...           1.0       48.0   \n",
       "2017-11-13      JHP-031  ...           1.0       30.0   \n",
       "2009-02-05      JHP-021  ...           1.0       49.0   \n",
       "\n",
       "                           FgAccpacNote CofAHeaderNo QCChromatogram Correct  \\\n",
       "QCDate                                                                        \n",
       "2011-10-19                         None          1.0           None   False   \n",
       "2007-10-01  zero out cb-1939a (39) stab          2.0           None   False   \n",
       "2008-11-24                     1 x 1 mL          1.0           None   False   \n",
       "2017-11-13                         None          1.0           None   False   \n",
       "2009-02-05                     1 x 1 mL          1.0           None   False   \n",
       "\n",
       "            DoNotCorrect DensityUnit DensityTemp recipeid  \n",
       "QCDate                                                     \n",
       "2011-10-19          True        None        None     None  \n",
       "2007-10-01          True        None        None     None  \n",
       "2008-11-24          True        None        None     None  \n",
       "2017-11-13         False        None        None     None  \n",
       "2009-02-05          True        None        None     None  \n",
       "\n",
       "[5 rows x 93 columns]"
      ]
     },
     "execution_count": 40,
     "metadata": {},
     "output_type": "execute_result"
    }
   ],
   "source": [
    "df_QCMetrics.sample(5)"
   ]
  },
  {
   "cell_type": "raw",
   "metadata": {},
   "source": [
    "---\n",
    "## `resample` dataframe with *QCDate* as `index`:"
   ]
  },
  {
   "cell_type": "raw",
   "metadata": {
    "ExecuteTime": {
     "end_time": "2020-02-24T21:50:25.726189Z",
     "start_time": "2020-02-24T21:50:25.713149Z"
    }
   },
   "source": [
    "metrics_month = df_QCMetrics[str(td_one_month_ago):str(test_date)]"
   ]
  },
  {
   "cell_type": "raw",
   "metadata": {},
   "source": [
    "### `groupBy` the `resample`?"
   ]
  },
  {
   "cell_type": "raw",
   "metadata": {
    "raw_mimetype": "text/x-python"
   },
   "source": [
    "merged = pd.concat([df_QCMetrics, df_month_range], join='inner')"
   ]
  },
  {
   "cell_type": "raw",
   "metadata": {
    "raw_mimetype": "text/x-python"
   },
   "source": [
    "merged"
   ]
  },
  {
   "cell_type": "raw",
   "metadata": {
    "raw_mimetype": "text/x-python"
   },
   "source": [
    "merged = df_QCMetrics.join(df_month_range, on = ['QCDate'], how='right', lsuffix='_x')"
   ]
  },
  {
   "cell_type": "markdown",
   "metadata": {},
   "source": [
    "---\n",
    "# create `df_last_month` DataFrame"
   ]
  },
  {
   "cell_type": "markdown",
   "metadata": {},
   "source": [
    "---\n",
    "### View Observations between One Month Ago and Today"
   ]
  },
  {
   "cell_type": "code",
   "execution_count": 41,
   "metadata": {
    "ExecuteTime": {
     "end_time": "2020-02-24T21:57:44.600414Z",
     "start_time": "2020-02-24T21:57:44.582413Z"
    }
   },
   "outputs": [
    {
     "data": {
      "text/plain": [
       "585"
      ]
     },
     "execution_count": 41,
     "metadata": {},
     "output_type": "execute_result"
    }
   ],
   "source": [
    "df_last_month = df_QCMetrics[str(one_month_ago):str(test_date)]\n",
    "len(df_last_month)\n",
    "# [2020-02-22]\\\\df_last_month.to_csv(\"last_month.csv\", index=True)"
   ]
  },
  {
   "cell_type": "code",
   "execution_count": 42,
   "metadata": {
    "ExecuteTime": {
     "end_time": "2020-02-24T21:57:44.635414Z",
     "start_time": "2020-02-24T21:57:44.602416Z"
    }
   },
   "outputs": [
    {
     "data": {
      "text/html": [
       "<div>\n",
       "<style scoped>\n",
       "    .dataframe tbody tr th:only-of-type {\n",
       "        vertical-align: middle;\n",
       "    }\n",
       "\n",
       "    .dataframe tbody tr th {\n",
       "        vertical-align: top;\n",
       "    }\n",
       "\n",
       "    .dataframe thead th {\n",
       "        text-align: right;\n",
       "    }\n",
       "</style>\n",
       "<table border=\"1\" class=\"dataframe\">\n",
       "  <thead>\n",
       "    <tr style=\"text-align: right;\">\n",
       "      <th></th>\n",
       "      <th>ProductID</th>\n",
       "      <th>ProductNo</th>\n",
       "      <th>ProductName</th>\n",
       "      <th>LineID</th>\n",
       "      <th>Description</th>\n",
       "      <th>Specials</th>\n",
       "      <th>OriginationDate</th>\n",
       "      <th>EntryDate</th>\n",
       "      <th>Status</th>\n",
       "      <th>MatrixNumber</th>\n",
       "      <th>...</th>\n",
       "      <th>QCValidation</th>\n",
       "      <th>FgInvCount</th>\n",
       "      <th>FgAccpacNote</th>\n",
       "      <th>CofAHeaderNo</th>\n",
       "      <th>QCChromatogram</th>\n",
       "      <th>Correct</th>\n",
       "      <th>DoNotCorrect</th>\n",
       "      <th>DensityUnit</th>\n",
       "      <th>DensityTemp</th>\n",
       "      <th>recipeid</th>\n",
       "    </tr>\n",
       "    <tr>\n",
       "      <th>QCDate</th>\n",
       "      <th></th>\n",
       "      <th></th>\n",
       "      <th></th>\n",
       "      <th></th>\n",
       "      <th></th>\n",
       "      <th></th>\n",
       "      <th></th>\n",
       "      <th></th>\n",
       "      <th></th>\n",
       "      <th></th>\n",
       "      <th></th>\n",
       "      <th></th>\n",
       "      <th></th>\n",
       "      <th></th>\n",
       "      <th></th>\n",
       "      <th></th>\n",
       "      <th></th>\n",
       "      <th></th>\n",
       "      <th></th>\n",
       "      <th></th>\n",
       "      <th></th>\n",
       "    </tr>\n",
       "  </thead>\n",
       "  <tbody>\n",
       "    <tr>\n",
       "      <td>2020-02-10</td>\n",
       "      <td>61642.0</td>\n",
       "      <td>CUS-14489</td>\n",
       "      <td>Custom Standard</td>\n",
       "      <td>7.0</td>\n",
       "      <td>None</td>\n",
       "      <td>None</td>\n",
       "      <td>2012-11-29</td>\n",
       "      <td>2012-11-29</td>\n",
       "      <td>None</td>\n",
       "      <td>JHP-415</td>\n",
       "      <td>...</td>\n",
       "      <td>1.0</td>\n",
       "      <td>3.0</td>\n",
       "      <td>Quarantine 0006467478 [60] retain</td>\n",
       "      <td>1.0</td>\n",
       "      <td>None</td>\n",
       "      <td>False</td>\n",
       "      <td>False</td>\n",
       "      <td>None</td>\n",
       "      <td>None</td>\n",
       "      <td>None</td>\n",
       "    </tr>\n",
       "    <tr>\n",
       "      <td>2020-01-16</td>\n",
       "      <td>4793.0</td>\n",
       "      <td>ICUS-1157</td>\n",
       "      <td>Custom Standard</td>\n",
       "      <td>8.0</td>\n",
       "      <td>None</td>\n",
       "      <td>None</td>\n",
       "      <td>2004-02-20</td>\n",
       "      <td>2004-02-20</td>\n",
       "      <td>None</td>\n",
       "      <td>JHP-040</td>\n",
       "      <td>...</td>\n",
       "      <td>1.0</td>\n",
       "      <td>1.0</td>\n",
       "      <td>None</td>\n",
       "      <td>1.0</td>\n",
       "      <td>None</td>\n",
       "      <td>False</td>\n",
       "      <td>False</td>\n",
       "      <td>None</td>\n",
       "      <td>None</td>\n",
       "      <td>None</td>\n",
       "    </tr>\n",
       "    <tr>\n",
       "      <td>2020-01-28</td>\n",
       "      <td>72340.0</td>\n",
       "      <td>ICUS-3900</td>\n",
       "      <td>Custom Standard</td>\n",
       "      <td>8.0</td>\n",
       "      <td>None</td>\n",
       "      <td>None</td>\n",
       "      <td>2014-05-01</td>\n",
       "      <td>2014-05-01</td>\n",
       "      <td>None</td>\n",
       "      <td>JHP-040</td>\n",
       "      <td>...</td>\n",
       "      <td>1.0</td>\n",
       "      <td>1.0</td>\n",
       "      <td>None</td>\n",
       "      <td>1.0</td>\n",
       "      <td>None</td>\n",
       "      <td>False</td>\n",
       "      <td>False</td>\n",
       "      <td>None</td>\n",
       "      <td>None</td>\n",
       "      <td>None</td>\n",
       "    </tr>\n",
       "    <tr>\n",
       "      <td>2020-02-06</td>\n",
       "      <td>112917.0</td>\n",
       "      <td>5191-3922-1</td>\n",
       "      <td>delta8-Tetrahydrocannabinol (delta8-THC)</td>\n",
       "      <td>7.0</td>\n",
       "      <td>None</td>\n",
       "      <td>None</td>\n",
       "      <td>2019-11-06</td>\n",
       "      <td>2019-11-06</td>\n",
       "      <td>None</td>\n",
       "      <td>JHP-021</td>\n",
       "      <td>...</td>\n",
       "      <td>1.0</td>\n",
       "      <td>27.0</td>\n",
       "      <td>None</td>\n",
       "      <td>1.0</td>\n",
       "      <td>None</td>\n",
       "      <td>False</td>\n",
       "      <td>False</td>\n",
       "      <td>None</td>\n",
       "      <td>None</td>\n",
       "      <td>None</td>\n",
       "    </tr>\n",
       "    <tr>\n",
       "      <td>2020-02-13</td>\n",
       "      <td>36734.0</td>\n",
       "      <td>5190-0468-1</td>\n",
       "      <td>Pesticide Analyzer Checkout Solution</td>\n",
       "      <td>7.0</td>\n",
       "      <td>None</td>\n",
       "      <td>agilent gc</td>\n",
       "      <td>2009-03-24</td>\n",
       "      <td>2011-05-09</td>\n",
       "      <td>None</td>\n",
       "      <td>JHP-001</td>\n",
       "      <td>...</td>\n",
       "      <td>1.0</td>\n",
       "      <td>137.0</td>\n",
       "      <td>None</td>\n",
       "      <td>1.0</td>\n",
       "      <td>None</td>\n",
       "      <td>False</td>\n",
       "      <td>False</td>\n",
       "      <td>None</td>\n",
       "      <td>None</td>\n",
       "      <td>None</td>\n",
       "    </tr>\n",
       "  </tbody>\n",
       "</table>\n",
       "<p>5 rows × 93 columns</p>\n",
       "</div>"
      ],
      "text/plain": [
       "            ProductID    ProductNo                               ProductName  \\\n",
       "QCDate                                                                         \n",
       "2020-02-10    61642.0    CUS-14489                           Custom Standard   \n",
       "2020-01-16     4793.0    ICUS-1157                           Custom Standard   \n",
       "2020-01-28    72340.0    ICUS-3900                           Custom Standard   \n",
       "2020-02-06   112917.0  5191-3922-1  delta8-Tetrahydrocannabinol (delta8-THC)   \n",
       "2020-02-13    36734.0  5190-0468-1      Pesticide Analyzer Checkout Solution   \n",
       "\n",
       "            LineID Description    Specials OriginationDate  EntryDate Status  \\\n",
       "QCDate                                                                         \n",
       "2020-02-10     7.0        None        None      2012-11-29 2012-11-29   None   \n",
       "2020-01-16     8.0        None        None      2004-02-20 2004-02-20   None   \n",
       "2020-01-28     8.0        None        None      2014-05-01 2014-05-01   None   \n",
       "2020-02-06     7.0        None        None      2019-11-06 2019-11-06   None   \n",
       "2020-02-13     7.0        None  agilent gc      2009-03-24 2011-05-09   None   \n",
       "\n",
       "           MatrixNumber  ...  QCValidation FgInvCount  \\\n",
       "QCDate                   ...                            \n",
       "2020-02-10      JHP-415  ...           1.0        3.0   \n",
       "2020-01-16      JHP-040  ...           1.0        1.0   \n",
       "2020-01-28      JHP-040  ...           1.0        1.0   \n",
       "2020-02-06      JHP-021  ...           1.0       27.0   \n",
       "2020-02-13      JHP-001  ...           1.0      137.0   \n",
       "\n",
       "                                 FgAccpacNote CofAHeaderNo QCChromatogram  \\\n",
       "QCDate                                                                      \n",
       "2020-02-10  Quarantine 0006467478 [60] retain          1.0           None   \n",
       "2020-01-16                               None          1.0           None   \n",
       "2020-01-28                               None          1.0           None   \n",
       "2020-02-06                               None          1.0           None   \n",
       "2020-02-13                               None          1.0           None   \n",
       "\n",
       "           Correct  DoNotCorrect DensityUnit DensityTemp recipeid  \n",
       "QCDate                                                             \n",
       "2020-02-10   False         False        None        None     None  \n",
       "2020-01-16   False         False        None        None     None  \n",
       "2020-01-28   False         False        None        None     None  \n",
       "2020-02-06   False         False        None        None     None  \n",
       "2020-02-13   False         False        None        None     None  \n",
       "\n",
       "[5 rows x 93 columns]"
      ]
     },
     "execution_count": 42,
     "metadata": {},
     "output_type": "execute_result"
    }
   ],
   "source": [
    "df_last_month.sample(5)"
   ]
  },
  {
   "cell_type": "code",
   "execution_count": 43,
   "metadata": {
    "ExecuteTime": {
     "end_time": "2020-02-24T21:57:44.643412Z",
     "start_time": "2020-02-24T21:57:44.636417Z"
    }
   },
   "outputs": [
    {
     "data": {
      "text/plain": [
       "DatetimeIndex(['2020-01-28', '2020-02-07', '2020-01-30', '2020-01-30',\n",
       "               '2020-02-05', '2020-01-16', '2020-01-15', '2020-02-13',\n",
       "               '2020-01-15', '2020-01-15',\n",
       "               ...\n",
       "               '2020-01-22', '2020-01-22', '2020-02-11', '2020-02-04',\n",
       "               '2020-01-29', '2020-01-17', '2020-01-22', '2020-02-06',\n",
       "               '2020-02-07', '2020-01-31'],\n",
       "              dtype='datetime64[ns]', name='QCDate', length=585, freq=None)"
      ]
     },
     "execution_count": 43,
     "metadata": {},
     "output_type": "execute_result"
    }
   ],
   "source": [
    "df_last_month.index"
   ]
  },
  {
   "cell_type": "markdown",
   "metadata": {},
   "source": [
    "---\n",
    "# create `df_daily_levels` frame"
   ]
  },
  {
   "cell_type": "markdown",
   "metadata": {},
   "source": [
    "---\n",
    "\n",
    "## GroupBy ([df_last_month.index, 'QCValidation'])['PfBatchID']"
   ]
  },
  {
   "cell_type": "raw",
   "metadata": {
    "ExecuteTime": {
     "end_time": "2020-02-24T15:58:49.979563Z",
     "start_time": "2020-02-24T15:58:49.972564Z"
    },
    "raw_mimetype": "text/x-python"
   },
   "source": [
    "df_last_month.set_index([df_last_month.index, 'ProductLevel'], inplace=True)"
   ]
  },
  {
   "cell_type": "raw",
   "metadata": {},
   "source": [
    "df_last_month.QCValidation = pd.Categorical(df_last_month.QCValidation, ['1.0', '2.0', '3.0'], ordered=True)"
   ]
  },
  {
   "cell_type": "raw",
   "metadata": {},
   "source": [
    "print(df_last_month.QCValidation)"
   ]
  },
  {
   "cell_type": "markdown",
   "metadata": {},
   "source": [
    "### TEST `CATEGORICAL-INDEX` BELOW:"
   ]
  },
  {
   "cell_type": "code",
   "execution_count": 44,
   "metadata": {
    "ExecuteTime": {
     "end_time": "2020-02-24T21:57:44.655414Z",
     "start_time": "2020-02-24T21:57:44.646416Z"
    }
   },
   "outputs": [
    {
     "data": {
      "text/plain": [
       "CategoricalIndex(['1.0', '2.0', '3.0'], categories=['1.0', '2.0', '3.0'], ordered=False, name='QCValidation', dtype='category')"
      ]
     },
     "execution_count": 44,
     "metadata": {},
     "output_type": "execute_result"
    }
   ],
   "source": [
    "c = pd.Categorical(['1.0', '2.0', '3.0'])\n",
    "pd.CategoricalIndex(c, name='QCValidation')"
   ]
  },
  {
   "cell_type": "code",
   "execution_count": 45,
   "metadata": {
    "ExecuteTime": {
     "end_time": "2020-02-24T21:57:44.666414Z",
     "start_time": "2020-02-24T21:57:44.657413Z"
    }
   },
   "outputs": [
    {
     "data": {
      "text/plain": [
       "QCDate\n",
       "2020-01-15    19\n",
       "2020-01-16    29\n",
       "2020-01-17    17\n",
       "2020-01-21    31\n",
       "2020-01-22    43\n",
       "2020-01-23    19\n",
       "2020-01-24    24\n",
       "2020-01-25     3\n",
       "2020-01-27    35\n",
       "2020-01-28    14\n",
       "2020-01-29    24\n",
       "2020-01-30    22\n",
       "2020-01-31     8\n",
       "2020-02-03    13\n",
       "2020-02-04    33\n",
       "2020-02-05    24\n",
       "2020-02-06    42\n",
       "2020-02-07    32\n",
       "2020-02-08     2\n",
       "2020-02-10    47\n",
       "2020-02-11    41\n",
       "2020-02-12    25\n",
       "2020-02-13    34\n",
       "2020-02-14     4\n",
       "Name: PfBatchID, dtype: int64"
      ]
     },
     "execution_count": 45,
     "metadata": {},
     "output_type": "execute_result"
    }
   ],
   "source": [
    "''' Groupby single column in pandas python'''\n",
    "df_last_month.groupby(df_last_month.index)['PfBatchID'].count()"
   ]
  },
  {
   "cell_type": "code",
   "execution_count": 46,
   "metadata": {
    "ExecuteTime": {
     "end_time": "2020-02-24T21:57:44.685411Z",
     "start_time": "2020-02-24T21:57:44.668412Z"
    }
   },
   "outputs": [
    {
     "data": {
      "text/html": [
       "<div>\n",
       "<style scoped>\n",
       "    .dataframe tbody tr th:only-of-type {\n",
       "        vertical-align: middle;\n",
       "    }\n",
       "\n",
       "    .dataframe tbody tr th {\n",
       "        vertical-align: top;\n",
       "    }\n",
       "\n",
       "    .dataframe thead th {\n",
       "        text-align: right;\n",
       "    }\n",
       "</style>\n",
       "<table border=\"1\" class=\"dataframe\">\n",
       "  <thead>\n",
       "    <tr style=\"text-align: right;\">\n",
       "      <th></th>\n",
       "      <th></th>\n",
       "      <th>Count</th>\n",
       "    </tr>\n",
       "    <tr>\n",
       "      <th>QCDate</th>\n",
       "      <th>QCValidation</th>\n",
       "      <th></th>\n",
       "    </tr>\n",
       "  </thead>\n",
       "  <tbody>\n",
       "    <tr>\n",
       "      <td rowspan=\"2\" valign=\"top\">2020-01-15</td>\n",
       "      <td>1.0</td>\n",
       "      <td>18</td>\n",
       "    </tr>\n",
       "    <tr>\n",
       "      <td>2.0</td>\n",
       "      <td>1</td>\n",
       "    </tr>\n",
       "    <tr>\n",
       "      <td rowspan=\"2\" valign=\"top\">2020-01-16</td>\n",
       "      <td>1.0</td>\n",
       "      <td>28</td>\n",
       "    </tr>\n",
       "    <tr>\n",
       "      <td>2.0</td>\n",
       "      <td>1</td>\n",
       "    </tr>\n",
       "    <tr>\n",
       "      <td rowspan=\"2\" valign=\"top\">2020-01-17</td>\n",
       "      <td>1.0</td>\n",
       "      <td>16</td>\n",
       "    </tr>\n",
       "    <tr>\n",
       "      <td>2.0</td>\n",
       "      <td>1</td>\n",
       "    </tr>\n",
       "    <tr>\n",
       "      <td rowspan=\"2\" valign=\"top\">2020-01-21</td>\n",
       "      <td>1.0</td>\n",
       "      <td>29</td>\n",
       "    </tr>\n",
       "    <tr>\n",
       "      <td>2.0</td>\n",
       "      <td>2</td>\n",
       "    </tr>\n",
       "    <tr>\n",
       "      <td>2020-01-22</td>\n",
       "      <td>1.0</td>\n",
       "      <td>43</td>\n",
       "    </tr>\n",
       "    <tr>\n",
       "      <td rowspan=\"2\" valign=\"top\">2020-01-23</td>\n",
       "      <td>1.0</td>\n",
       "      <td>18</td>\n",
       "    </tr>\n",
       "    <tr>\n",
       "      <td>2.0</td>\n",
       "      <td>1</td>\n",
       "    </tr>\n",
       "    <tr>\n",
       "      <td rowspan=\"2\" valign=\"top\">2020-01-24</td>\n",
       "      <td>1.0</td>\n",
       "      <td>23</td>\n",
       "    </tr>\n",
       "    <tr>\n",
       "      <td>2.0</td>\n",
       "      <td>1</td>\n",
       "    </tr>\n",
       "    <tr>\n",
       "      <td>2020-01-25</td>\n",
       "      <td>1.0</td>\n",
       "      <td>3</td>\n",
       "    </tr>\n",
       "    <tr>\n",
       "      <td>2020-01-27</td>\n",
       "      <td>1.0</td>\n",
       "      <td>35</td>\n",
       "    </tr>\n",
       "    <tr>\n",
       "      <td>2020-01-28</td>\n",
       "      <td>1.0</td>\n",
       "      <td>14</td>\n",
       "    </tr>\n",
       "    <tr>\n",
       "      <td>2020-01-29</td>\n",
       "      <td>1.0</td>\n",
       "      <td>24</td>\n",
       "    </tr>\n",
       "    <tr>\n",
       "      <td rowspan=\"2\" valign=\"top\">2020-01-30</td>\n",
       "      <td>1.0</td>\n",
       "      <td>21</td>\n",
       "    </tr>\n",
       "    <tr>\n",
       "      <td>2.0</td>\n",
       "      <td>1</td>\n",
       "    </tr>\n",
       "    <tr>\n",
       "      <td>2020-01-31</td>\n",
       "      <td>1.0</td>\n",
       "      <td>8</td>\n",
       "    </tr>\n",
       "    <tr>\n",
       "      <td rowspan=\"3\" valign=\"top\">2020-02-03</td>\n",
       "      <td>1.0</td>\n",
       "      <td>10</td>\n",
       "    </tr>\n",
       "    <tr>\n",
       "      <td>2.0</td>\n",
       "      <td>1</td>\n",
       "    </tr>\n",
       "    <tr>\n",
       "      <td>3.0</td>\n",
       "      <td>2</td>\n",
       "    </tr>\n",
       "    <tr>\n",
       "      <td>2020-02-04</td>\n",
       "      <td>1.0</td>\n",
       "      <td>33</td>\n",
       "    </tr>\n",
       "    <tr>\n",
       "      <td rowspan=\"2\" valign=\"top\">2020-02-05</td>\n",
       "      <td>1.0</td>\n",
       "      <td>23</td>\n",
       "    </tr>\n",
       "    <tr>\n",
       "      <td>3.0</td>\n",
       "      <td>1</td>\n",
       "    </tr>\n",
       "    <tr>\n",
       "      <td rowspan=\"2\" valign=\"top\">2020-02-06</td>\n",
       "      <td>1.0</td>\n",
       "      <td>41</td>\n",
       "    </tr>\n",
       "    <tr>\n",
       "      <td>3.0</td>\n",
       "      <td>1</td>\n",
       "    </tr>\n",
       "    <tr>\n",
       "      <td rowspan=\"2\" valign=\"top\">2020-02-07</td>\n",
       "      <td>1.0</td>\n",
       "      <td>29</td>\n",
       "    </tr>\n",
       "    <tr>\n",
       "      <td>2.0</td>\n",
       "      <td>3</td>\n",
       "    </tr>\n",
       "    <tr>\n",
       "      <td>2020-02-08</td>\n",
       "      <td>1.0</td>\n",
       "      <td>2</td>\n",
       "    </tr>\n",
       "    <tr>\n",
       "      <td>2020-02-10</td>\n",
       "      <td>1.0</td>\n",
       "      <td>47</td>\n",
       "    </tr>\n",
       "    <tr>\n",
       "      <td>2020-02-11</td>\n",
       "      <td>1.0</td>\n",
       "      <td>41</td>\n",
       "    </tr>\n",
       "    <tr>\n",
       "      <td>2020-02-12</td>\n",
       "      <td>1.0</td>\n",
       "      <td>25</td>\n",
       "    </tr>\n",
       "    <tr>\n",
       "      <td rowspan=\"2\" valign=\"top\">2020-02-13</td>\n",
       "      <td>1.0</td>\n",
       "      <td>33</td>\n",
       "    </tr>\n",
       "    <tr>\n",
       "      <td>3.0</td>\n",
       "      <td>1</td>\n",
       "    </tr>\n",
       "    <tr>\n",
       "      <td>2020-02-14</td>\n",
       "      <td>1.0</td>\n",
       "      <td>4</td>\n",
       "    </tr>\n",
       "  </tbody>\n",
       "</table>\n",
       "</div>"
      ],
      "text/plain": [
       "                         Count\n",
       "QCDate     QCValidation       \n",
       "2020-01-15 1.0              18\n",
       "           2.0               1\n",
       "2020-01-16 1.0              28\n",
       "           2.0               1\n",
       "2020-01-17 1.0              16\n",
       "           2.0               1\n",
       "2020-01-21 1.0              29\n",
       "           2.0               2\n",
       "2020-01-22 1.0              43\n",
       "2020-01-23 1.0              18\n",
       "           2.0               1\n",
       "2020-01-24 1.0              23\n",
       "           2.0               1\n",
       "2020-01-25 1.0               3\n",
       "2020-01-27 1.0              35\n",
       "2020-01-28 1.0              14\n",
       "2020-01-29 1.0              24\n",
       "2020-01-30 1.0              21\n",
       "           2.0               1\n",
       "2020-01-31 1.0               8\n",
       "2020-02-03 1.0              10\n",
       "           2.0               1\n",
       "           3.0               2\n",
       "2020-02-04 1.0              33\n",
       "2020-02-05 1.0              23\n",
       "           3.0               1\n",
       "2020-02-06 1.0              41\n",
       "           3.0               1\n",
       "2020-02-07 1.0              29\n",
       "           2.0               3\n",
       "2020-02-08 1.0               2\n",
       "2020-02-10 1.0              47\n",
       "2020-02-11 1.0              41\n",
       "2020-02-12 1.0              25\n",
       "2020-02-13 1.0              33\n",
       "           3.0               1\n",
       "2020-02-14 1.0               4"
      ]
     },
     "execution_count": 46,
     "metadata": {},
     "output_type": "execute_result"
    }
   ],
   "source": [
    "''' Groupby multiple columns '''\n",
    "df_daily_levels = pd.DataFrame(data=df_last_month.groupby([df_last_month.index,'QCValidation'])['PfBatchID'].count())\n",
    "# [2020-02-24]\\\\f_daily_levels = pd.DataFrame(data=df_last_month.groupby([df_last_month.index, 'ProductLevel'])['PfBatchID'].count())\n",
    "# RENAME COLUMNS\n",
    "df_daily_levels.rename(columns={'PfBatchID': 'Count'}, inplace=True)\n",
    "df_daily_levels"
   ]
  },
  {
   "cell_type": "raw",
   "metadata": {
    "ExecuteTime": {
     "end_time": "2020-02-24T16:02:10.904180Z",
     "start_time": "2020-02-24T16:02:10.601177Z"
    },
    "raw_mimetype": "text/x-python"
   },
   "source": [
    "# SLICE & dice your dataframe\n",
    "df_daily_levels.loc[('2020-01-22', float(\"0\"))]"
   ]
  },
  {
   "cell_type": "raw",
   "metadata": {
    "raw_mimetype": "text/x-python"
   },
   "source": [
    "df_daily_levels.resample('D').count()"
   ]
  },
  {
   "cell_type": "raw",
   "metadata": {
    "raw_mimetype": "text/x-python"
   },
   "source": [
    "# using groupby function\n",
    "# with one key\n",
    "df_daily_levels.groupby('QCValidation')"
   ]
  },
  {
   "cell_type": "code",
   "execution_count": 47,
   "metadata": {
    "ExecuteTime": {
     "end_time": "2020-02-24T21:57:44.716412Z",
     "start_time": "2020-02-24T21:57:44.686412Z"
    }
   },
   "outputs": [
    {
     "data": {
      "text/html": [
       "<div>\n",
       "<style scoped>\n",
       "    .dataframe tbody tr th:only-of-type {\n",
       "        vertical-align: middle;\n",
       "    }\n",
       "\n",
       "    .dataframe tbody tr th {\n",
       "        vertical-align: top;\n",
       "    }\n",
       "\n",
       "    .dataframe thead tr th {\n",
       "        text-align: left;\n",
       "    }\n",
       "</style>\n",
       "<table border=\"1\" class=\"dataframe\">\n",
       "  <thead>\n",
       "    <tr>\n",
       "      <th>QCDate</th>\n",
       "      <th colspan=\"2\" halign=\"left\">2020-01-15</th>\n",
       "      <th colspan=\"2\" halign=\"left\">2020-01-16</th>\n",
       "      <th colspan=\"2\" halign=\"left\">2020-01-17</th>\n",
       "      <th colspan=\"2\" halign=\"left\">2020-01-21</th>\n",
       "      <th>2020-01-22</th>\n",
       "      <th>2020-01-23</th>\n",
       "      <th>...</th>\n",
       "      <th>2020-02-06</th>\n",
       "      <th colspan=\"2\" halign=\"left\">2020-02-07</th>\n",
       "      <th>2020-02-08</th>\n",
       "      <th>2020-02-10</th>\n",
       "      <th>2020-02-11</th>\n",
       "      <th>2020-02-12</th>\n",
       "      <th colspan=\"2\" halign=\"left\">2020-02-13</th>\n",
       "      <th>2020-02-14</th>\n",
       "    </tr>\n",
       "    <tr>\n",
       "      <th>QCValidation</th>\n",
       "      <th>1.0</th>\n",
       "      <th>2.0</th>\n",
       "      <th>1.0</th>\n",
       "      <th>2.0</th>\n",
       "      <th>1.0</th>\n",
       "      <th>2.0</th>\n",
       "      <th>1.0</th>\n",
       "      <th>2.0</th>\n",
       "      <th>1.0</th>\n",
       "      <th>1.0</th>\n",
       "      <th>...</th>\n",
       "      <th>3.0</th>\n",
       "      <th>1.0</th>\n",
       "      <th>2.0</th>\n",
       "      <th>1.0</th>\n",
       "      <th>1.0</th>\n",
       "      <th>1.0</th>\n",
       "      <th>1.0</th>\n",
       "      <th>1.0</th>\n",
       "      <th>3.0</th>\n",
       "      <th>1.0</th>\n",
       "    </tr>\n",
       "  </thead>\n",
       "  <tbody>\n",
       "    <tr>\n",
       "      <td>Count</td>\n",
       "      <td>18</td>\n",
       "      <td>1</td>\n",
       "      <td>28</td>\n",
       "      <td>1</td>\n",
       "      <td>16</td>\n",
       "      <td>1</td>\n",
       "      <td>29</td>\n",
       "      <td>2</td>\n",
       "      <td>43</td>\n",
       "      <td>18</td>\n",
       "      <td>...</td>\n",
       "      <td>1</td>\n",
       "      <td>29</td>\n",
       "      <td>3</td>\n",
       "      <td>2</td>\n",
       "      <td>47</td>\n",
       "      <td>41</td>\n",
       "      <td>25</td>\n",
       "      <td>33</td>\n",
       "      <td>1</td>\n",
       "      <td>4</td>\n",
       "    </tr>\n",
       "  </tbody>\n",
       "</table>\n",
       "<p>1 rows × 37 columns</p>\n",
       "</div>"
      ],
      "text/plain": [
       "QCDate       2020-01-15     2020-01-16     2020-01-17     2020-01-21      \\\n",
       "QCValidation        1.0 2.0        1.0 2.0        1.0 2.0        1.0 2.0   \n",
       "Count                18   1         28   1         16   1         29   2   \n",
       "\n",
       "QCDate       2020-01-22 2020-01-23  ... 2020-02-06 2020-02-07     2020-02-08  \\\n",
       "QCValidation        1.0        1.0  ...        3.0        1.0 2.0        1.0   \n",
       "Count                43         18  ...          1         29   3          2   \n",
       "\n",
       "QCDate       2020-02-10 2020-02-11 2020-02-12 2020-02-13     2020-02-14  \n",
       "QCValidation        1.0        1.0        1.0        1.0 3.0        1.0  \n",
       "Count                47         41         25         33   1          4  \n",
       "\n",
       "[1 rows x 37 columns]"
      ]
     },
     "execution_count": 47,
     "metadata": {},
     "output_type": "execute_result"
    }
   ],
   "source": [
    "df_daily_levels.T"
   ]
  },
  {
   "cell_type": "raw",
   "metadata": {
    "ExecuteTime": {
     "end_time": "2020-02-24T15:21:01.399212Z",
     "start_time": "2020-02-24T15:21:01.393224Z"
    },
    "raw_mimetype": "text/x-python"
   },
   "source": [
    "df_daily_levels.index[2][0]"
   ]
  },
  {
   "cell_type": "code",
   "execution_count": 48,
   "metadata": {
    "ExecuteTime": {
     "end_time": "2020-02-24T21:57:44.727415Z",
     "start_time": "2020-02-24T21:57:44.718412Z"
    }
   },
   "outputs": [],
   "source": [
    "df_daily_levels.T.to_csv(\"df_daily_levels_TRANPOSE.csv\")"
   ]
  },
  {
   "cell_type": "code",
   "execution_count": 49,
   "metadata": {
    "ExecuteTime": {
     "end_time": "2020-02-24T21:57:44.739414Z",
     "start_time": "2020-02-24T21:57:44.730414Z"
    }
   },
   "outputs": [],
   "source": [
    "df_daily_levels.to_csv(\"df_daily_levels_2020_02_24.csv\", index=True)"
   ]
  },
  {
   "cell_type": "code",
   "execution_count": 50,
   "metadata": {
    "ExecuteTime": {
     "end_time": "2020-02-24T21:57:44.753414Z",
     "start_time": "2020-02-24T21:57:44.743414Z"
    }
   },
   "outputs": [
    {
     "data": {
      "text/plain": [
       "MultiIndex([('2020-01-15', 1.0),\n",
       "            ('2020-01-15', 2.0),\n",
       "            ('2020-01-16', 1.0),\n",
       "            ('2020-01-16', 2.0),\n",
       "            ('2020-01-17', 1.0),\n",
       "            ('2020-01-17', 2.0),\n",
       "            ('2020-01-21', 1.0),\n",
       "            ('2020-01-21', 2.0),\n",
       "            ('2020-01-22', 1.0),\n",
       "            ('2020-01-23', 1.0),\n",
       "            ('2020-01-23', 2.0),\n",
       "            ('2020-01-24', 1.0),\n",
       "            ('2020-01-24', 2.0),\n",
       "            ('2020-01-25', 1.0),\n",
       "            ('2020-01-27', 1.0),\n",
       "            ('2020-01-28', 1.0),\n",
       "            ('2020-01-29', 1.0),\n",
       "            ('2020-01-30', 1.0),\n",
       "            ('2020-01-30', 2.0),\n",
       "            ('2020-01-31', 1.0),\n",
       "            ('2020-02-03', 1.0),\n",
       "            ('2020-02-03', 2.0),\n",
       "            ('2020-02-03', 3.0),\n",
       "            ('2020-02-04', 1.0),\n",
       "            ('2020-02-05', 1.0),\n",
       "            ('2020-02-05', 3.0),\n",
       "            ('2020-02-06', 1.0),\n",
       "            ('2020-02-06', 3.0),\n",
       "            ('2020-02-07', 1.0),\n",
       "            ('2020-02-07', 2.0),\n",
       "            ('2020-02-08', 1.0),\n",
       "            ('2020-02-10', 1.0),\n",
       "            ('2020-02-11', 1.0),\n",
       "            ('2020-02-12', 1.0),\n",
       "            ('2020-02-13', 1.0),\n",
       "            ('2020-02-13', 3.0),\n",
       "            ('2020-02-14', 1.0)],\n",
       "           names=['QCDate', 'QCValidation'])"
      ]
     },
     "execution_count": 50,
     "metadata": {},
     "output_type": "execute_result"
    }
   ],
   "source": [
    "df_daily_levels.index"
   ]
  },
  {
   "cell_type": "raw",
   "metadata": {
    "ExecuteTime": {
     "end_time": "2020-02-24T16:47:24.782377Z",
     "start_time": "2020-02-24T16:47:24.775342Z"
    },
    "raw_mimetype": "text/x-python"
   },
   "source": [
    "merged = df_daily_levels.merge(df_month_range.set_index(['QCDate']), left_index=True, right_index=True,\n",
    "                              how='left')"
   ]
  },
  {
   "cell_type": "raw",
   "metadata": {
    "ExecuteTime": {
     "end_time": "2020-02-24T16:47:30.726731Z",
     "start_time": "2020-02-24T16:47:30.714724Z"
    },
    "raw_mimetype": "text/x-python"
   },
   "source": [
    "merged"
   ]
  },
  {
   "cell_type": "raw",
   "metadata": {
    "ExecuteTime": {
     "end_time": "2020-02-24T16:22:57.040002Z",
     "start_time": "2020-02-24T16:22:57.021971Z"
    },
    "raw_mimetype": "text/x-python"
   },
   "source": [
    "merged = df_daily_levels.join(df_month_range, on = df_daily_levels.index, how = 'right', lsuffix='_x')"
   ]
  },
  {
   "cell_type": "raw",
   "metadata": {
    "ExecuteTime": {
     "end_time": "2020-02-24T17:10:08.138037Z",
     "start_time": "2020-02-24T17:10:07.856031Z"
    },
    "raw_mimetype": "text/x-python"
   },
   "source": [
    "merged = pd.merge(left=df_daily_levels, right=df_month_range)"
   ]
  },
  {
   "cell_type": "markdown",
   "metadata": {},
   "source": [
    "---\n",
    "# Create *empty* `DataFrame` to hold **FINAL** `Metrics` \n",
    "*(and lists to hold columns*)"
   ]
  },
  {
   "cell_type": "code",
   "execution_count": 51,
   "metadata": {
    "ExecuteTime": {
     "end_time": "2020-02-24T21:57:44.762417Z",
     "start_time": "2020-02-24T21:57:44.757412Z"
    }
   },
   "outputs": [],
   "source": [
    "l1_list = []\n",
    "l2_list = []\n",
    "l3_list = []"
   ]
  },
  {
   "cell_type": "markdown",
   "metadata": {},
   "source": [
    "---\n",
    "# messups"
   ]
  },
  {
   "cell_type": "raw",
   "metadata": {},
   "source": [
    "''' Groupby single column in pandas python'''\n",
    "df1.groupby(['State'])['Sales'].count()"
   ]
  },
  {
   "cell_type": "raw",
   "metadata": {},
   "source": [
    "''' Groupby multiple columns '''\n",
    "df1.groupby(['State','Name'])['Sales'].count()"
   ]
  },
  {
   "cell_type": "raw",
   "metadata": {},
   "source": [
    "# sum of score group by Name and Exam \n",
    "df['Score'].groupby([df['Name'],df['Exam']]).sum()"
   ]
  },
  {
   "cell_type": "raw",
   "metadata": {},
   "source": [
    "# sum of score group by Name and Exam\n",
    "df_last_month.index.groupby([df['Name'],df['Exam']]).sum()"
   ]
  },
  {
   "cell_type": "raw",
   "metadata": {},
   "source": [
    "# GROUPBY MULTIPLE COLUMNS\n",
    "df_last_month_l1 = df_last_month.groupby(['PfBatchID'])"
   ]
  },
  {
   "cell_type": "raw",
   "metadata": {},
   "source": [
    "df_daily_level_1"
   ]
  },
  {
   "cell_type": "raw",
   "metadata": {},
   "source": [
    "len(df_daily_level_1['PfIDNo'])"
   ]
  },
  {
   "cell_type": "raw",
   "metadata": {},
   "source": [
    "df_daily_level_1.to_csv(\"df_Daily_level_1.csv\", index=True)"
   ]
  },
  {
   "cell_type": "raw",
   "metadata": {},
   "source": [
    "df_daily_level_1 = df_last_month[df_last_month.QCValidation.isin([\"1\"])]\n",
    "len(df_daily_level_1)"
   ]
  },
  {
   "cell_type": "raw",
   "metadata": {},
   "source": [
    "df_daily_level_2 = df_last_month[df_last_month.QCValidation.isin([\"2\"])]\n",
    "len(df_daily_level_2)"
   ]
  },
  {
   "cell_type": "raw",
   "metadata": {},
   "source": [
    "df_daily_level_3 = df_last_month[df_last_month.QCValidation.isin([\"3\"])]\n",
    "len(df_daily_level_3)\n",
    "df_daily_level_3"
   ]
  },
  {
   "cell_type": "raw",
   "metadata": {},
   "source": [
    "len(df_daily_level_1.resample('D').sum()['pfBatchID'])"
   ]
  },
  {
   "cell_type": "raw",
   "metadata": {},
   "source": [
    "df_daily_level_1.resample('D').sum().to_csv(\"batch_usum.csv\", index=True)"
   ]
  },
  {
   "cell_type": "markdown",
   "metadata": {},
   "source": [
    "---\n",
    "\n",
    "# `ExcelWorkBook` functions"
   ]
  },
  {
   "cell_type": "code",
   "execution_count": 52,
   "metadata": {
    "ExecuteTime": {
     "end_time": "2020-02-24T21:57:44.770413Z",
     "start_time": "2020-02-24T21:57:44.765412Z"
    }
   },
   "outputs": [
    {
     "name": "stdout",
     "output_type": "stream",
     "text": [
      "2020-02-24\n"
     ]
    }
   ],
   "source": [
    "# str for filename\n",
    "filename_str = str(pd.Timestamp.now())[:10]\n",
    "print(filename_str)"
   ]
  },
  {
   "cell_type": "code",
   "execution_count": 53,
   "metadata": {
    "ExecuteTime": {
     "end_time": "2020-02-24T21:57:44.778411Z",
     "start_time": "2020-02-24T21:57:44.772414Z"
    }
   },
   "outputs": [],
   "source": [
    "# Create new workbook\n",
    "wb = Workbook()"
   ]
  },
  {
   "cell_type": "code",
   "execution_count": 54,
   "metadata": {
    "ExecuteTime": {
     "end_time": "2020-02-24T21:57:44.786414Z",
     "start_time": "2020-02-24T21:57:44.780413Z"
    }
   },
   "outputs": [],
   "source": [
    "# Add sheets to workbook\n",
    "# Designate sheet name and position\n",
    "sheet1 = wb.create_sheet('sheet1',0)\n",
    "sheet2 = wb.create_sheet('sheet2',1)\n",
    "sheet3 = wb.create_sheet('sheet3',2)"
   ]
  },
  {
   "cell_type": "code",
   "execution_count": 55,
   "metadata": {
    "ExecuteTime": {
     "end_time": "2020-02-24T21:57:48.567418Z",
     "start_time": "2020-02-24T21:57:44.788414Z"
    }
   },
   "outputs": [
    {
     "ename": "KeyError",
     "evalue": "<class 'pandas._libs.tslibs.nattype.NaTType'>",
     "output_type": "error",
     "traceback": [
      "\u001b[1;31m---------------------------------------------------------------------------\u001b[0m",
      "\u001b[1;31mKeyError\u001b[0m                                  Traceback (most recent call last)",
      "\u001b[1;32m<ipython-input-55-81b2a0c6ffd3>\u001b[0m in \u001b[0;36m<module>\u001b[1;34m\u001b[0m\n\u001b[0;32m      4\u001b[0m \u001b[1;31m# Write dataframe to active worksheet\u001b[0m\u001b[1;33m\u001b[0m\u001b[1;33m\u001b[0m\u001b[0m\n\u001b[0;32m      5\u001b[0m \u001b[1;32mfor\u001b[0m \u001b[0mx\u001b[0m \u001b[1;32min\u001b[0m \u001b[0mdataframe_to_rows\u001b[0m\u001b[1;33m(\u001b[0m\u001b[0mdf_QCMetrics\u001b[0m\u001b[1;33m)\u001b[0m\u001b[1;33m:\u001b[0m\u001b[1;33m\u001b[0m\u001b[0m\n\u001b[1;32m----> 6\u001b[1;33m     \u001b[0mactive\u001b[0m\u001b[1;33m.\u001b[0m\u001b[0mappend\u001b[0m\u001b[1;33m(\u001b[0m\u001b[0mx\u001b[0m\u001b[1;33m)\u001b[0m\u001b[1;33m\u001b[0m\u001b[0m\n\u001b[0m\u001b[0;32m      7\u001b[0m \u001b[1;33m\u001b[0m\u001b[0m\n\u001b[0;32m      8\u001b[0m \u001b[1;31m# Save workbook to write\u001b[0m\u001b[1;33m\u001b[0m\u001b[1;33m\u001b[0m\u001b[0m\n",
      "\u001b[1;32m~\\miniconda3\\envs\\py3\\lib\\site-packages\\openpyxl\\worksheet\\worksheet.py\u001b[0m in \u001b[0;36mappend\u001b[1;34m(self, iterable)\u001b[0m\n\u001b[0;32m    644\u001b[0m                     \u001b[0mcell\u001b[0m\u001b[1;33m.\u001b[0m\u001b[0mrow\u001b[0m \u001b[1;33m=\u001b[0m \u001b[0mrow_idx\u001b[0m\u001b[1;33m\u001b[0m\u001b[0m\n\u001b[0;32m    645\u001b[0m                 \u001b[1;32melse\u001b[0m\u001b[1;33m:\u001b[0m\u001b[1;33m\u001b[0m\u001b[0m\n\u001b[1;32m--> 646\u001b[1;33m                     \u001b[0mcell\u001b[0m \u001b[1;33m=\u001b[0m \u001b[0mCell\u001b[0m\u001b[1;33m(\u001b[0m\u001b[0mself\u001b[0m\u001b[1;33m,\u001b[0m \u001b[0mrow\u001b[0m\u001b[1;33m=\u001b[0m\u001b[0mrow_idx\u001b[0m\u001b[1;33m,\u001b[0m \u001b[0mcolumn\u001b[0m\u001b[1;33m=\u001b[0m\u001b[0mcol_idx\u001b[0m\u001b[1;33m,\u001b[0m \u001b[0mvalue\u001b[0m\u001b[1;33m=\u001b[0m\u001b[0mcontent\u001b[0m\u001b[1;33m)\u001b[0m\u001b[1;33m\u001b[0m\u001b[0m\n\u001b[0m\u001b[0;32m    647\u001b[0m                 \u001b[0mself\u001b[0m\u001b[1;33m.\u001b[0m\u001b[0m_cells\u001b[0m\u001b[1;33m[\u001b[0m\u001b[1;33m(\u001b[0m\u001b[0mrow_idx\u001b[0m\u001b[1;33m,\u001b[0m \u001b[0mcol_idx\u001b[0m\u001b[1;33m)\u001b[0m\u001b[1;33m]\u001b[0m \u001b[1;33m=\u001b[0m \u001b[0mcell\u001b[0m\u001b[1;33m\u001b[0m\u001b[0m\n\u001b[0;32m    648\u001b[0m \u001b[1;33m\u001b[0m\u001b[0m\n",
      "\u001b[1;32m~\\miniconda3\\envs\\py3\\lib\\site-packages\\openpyxl\\cell\\cell.py\u001b[0m in \u001b[0;36m__init__\u001b[1;34m(self, worksheet, row, column, value, style_array)\u001b[0m\n\u001b[0;32m    111\u001b[0m         \u001b[0mself\u001b[0m\u001b[1;33m.\u001b[0m\u001b[0mdata_type\u001b[0m \u001b[1;33m=\u001b[0m \u001b[1;34m'n'\u001b[0m\u001b[1;33m\u001b[0m\u001b[0m\n\u001b[0;32m    112\u001b[0m         \u001b[1;32mif\u001b[0m \u001b[0mvalue\u001b[0m \u001b[1;32mis\u001b[0m \u001b[1;32mnot\u001b[0m \u001b[1;32mNone\u001b[0m\u001b[1;33m:\u001b[0m\u001b[1;33m\u001b[0m\u001b[0m\n\u001b[1;32m--> 113\u001b[1;33m             \u001b[0mself\u001b[0m\u001b[1;33m.\u001b[0m\u001b[0mvalue\u001b[0m \u001b[1;33m=\u001b[0m \u001b[0mvalue\u001b[0m\u001b[1;33m\u001b[0m\u001b[0m\n\u001b[0m\u001b[0;32m    114\u001b[0m         \u001b[0mself\u001b[0m\u001b[1;33m.\u001b[0m\u001b[0m_comment\u001b[0m \u001b[1;33m=\u001b[0m \u001b[1;32mNone\u001b[0m\u001b[1;33m\u001b[0m\u001b[0m\n\u001b[0;32m    115\u001b[0m \u001b[1;33m\u001b[0m\u001b[0m\n",
      "\u001b[1;32m~\\miniconda3\\envs\\py3\\lib\\site-packages\\openpyxl\\cell\\cell.py\u001b[0m in \u001b[0;36mvalue\u001b[1;34m(self, value)\u001b[0m\n\u001b[0;32m    214\u001b[0m     \u001b[1;32mdef\u001b[0m \u001b[0mvalue\u001b[0m\u001b[1;33m(\u001b[0m\u001b[0mself\u001b[0m\u001b[1;33m,\u001b[0m \u001b[0mvalue\u001b[0m\u001b[1;33m)\u001b[0m\u001b[1;33m:\u001b[0m\u001b[1;33m\u001b[0m\u001b[0m\n\u001b[0;32m    215\u001b[0m         \u001b[1;34m\"\"\"Set the value and infer type and display options.\"\"\"\u001b[0m\u001b[1;33m\u001b[0m\u001b[0m\n\u001b[1;32m--> 216\u001b[1;33m         \u001b[0mself\u001b[0m\u001b[1;33m.\u001b[0m\u001b[0m_bind_value\u001b[0m\u001b[1;33m(\u001b[0m\u001b[0mvalue\u001b[0m\u001b[1;33m)\u001b[0m\u001b[1;33m\u001b[0m\u001b[0m\n\u001b[0m\u001b[0;32m    217\u001b[0m \u001b[1;33m\u001b[0m\u001b[0m\n\u001b[0;32m    218\u001b[0m     \u001b[1;33m@\u001b[0m\u001b[0mproperty\u001b[0m\u001b[1;33m\u001b[0m\u001b[0m\n",
      "\u001b[1;32m~\\miniconda3\\envs\\py3\\lib\\site-packages\\openpyxl\\cell\\cell.py\u001b[0m in \u001b[0;36m_bind_value\u001b[1;34m(self, value)\u001b[0m\n\u001b[0;32m    186\u001b[0m         \u001b[1;32melif\u001b[0m \u001b[0mdt\u001b[0m \u001b[1;33m==\u001b[0m \u001b[1;34m'd'\u001b[0m\u001b[1;33m:\u001b[0m\u001b[1;33m\u001b[0m\u001b[0m\n\u001b[0;32m    187\u001b[0m             \u001b[1;32mif\u001b[0m \u001b[1;32mnot\u001b[0m \u001b[0mis_date_format\u001b[0m\u001b[1;33m(\u001b[0m\u001b[0mself\u001b[0m\u001b[1;33m.\u001b[0m\u001b[0mnumber_format\u001b[0m\u001b[1;33m)\u001b[0m\u001b[1;33m:\u001b[0m\u001b[1;33m\u001b[0m\u001b[0m\n\u001b[1;32m--> 188\u001b[1;33m                 \u001b[0mself\u001b[0m\u001b[1;33m.\u001b[0m\u001b[0mnumber_format\u001b[0m \u001b[1;33m=\u001b[0m \u001b[0mTIME_FORMATS\u001b[0m\u001b[1;33m[\u001b[0m\u001b[0mt\u001b[0m\u001b[1;33m]\u001b[0m\u001b[1;33m\u001b[0m\u001b[0m\n\u001b[0m\u001b[0;32m    189\u001b[0m             \u001b[0mself\u001b[0m\u001b[1;33m.\u001b[0m\u001b[0mdata_type\u001b[0m \u001b[1;33m=\u001b[0m \u001b[1;34m\"d\"\u001b[0m\u001b[1;33m\u001b[0m\u001b[0m\n\u001b[0;32m    190\u001b[0m \u001b[1;33m\u001b[0m\u001b[0m\n",
      "\u001b[1;31mKeyError\u001b[0m: <class 'pandas._libs.tslibs.nattype.NaTType'>"
     ]
    }
   ],
   "source": [
    "# Activate worksheet to write dataframe\n",
    "active = wb['sheet1']\n",
    "\n",
    "# Write dataframe to active worksheet\n",
    "for x in dataframe_to_rows(df_QCMetrics):\n",
    "    active.append(x)\n",
    "\n",
    "# Save workbook to write\n",
    "wb.save(filepath)"
   ]
  },
  {
   "cell_type": "raw",
   "metadata": {},
   "source": [
    "# Remove existing sheet\n",
    "ref = wb['sheet']\n",
    "wb.remove(ref)"
   ]
  },
  {
   "cell_type": "code",
   "execution_count": null,
   "metadata": {
    "ExecuteTime": {
     "end_time": "2020-02-24T21:57:48.585418Z",
     "start_time": "2020-02-24T21:56:09.704Z"
    }
   },
   "outputs": [],
   "source": [
    "wb.save(\"QCMetrics-\"  +  filename_str + \".xlsx\")"
   ]
  },
  {
   "cell_type": "raw",
   "metadata": {},
   "source": [
    "df_last_month.to_csv(\"last_month.csv\", index=True)"
   ]
  },
  {
   "cell_type": "raw",
   "metadata": {},
   "source": [
    "# get current time\n",
    "now = datetime.now()\n",
    "print(\"Today's date: \", str(now))"
   ]
  },
  {
   "cell_type": "raw",
   "metadata": {},
   "source": [
    "# subtract 4 weeks from current date\n",
    "four_weeks_ago = now - timedelta(weeks = 4)\n",
    "print('Date FOUR weeks ago: ', four_weeks_ago)\n",
    "print('FOURR_weeks_ago object type: ', type(four_weeks_ago))"
   ]
  }
 ],
 "metadata": {
  "celltoolbar": "Raw Cell Format",
  "kernelspec": {
   "display_name": "Python 3",
   "language": "python",
   "name": "python3"
  },
  "language_info": {
   "codemirror_mode": {
    "name": "ipython",
    "version": 3
   },
   "file_extension": ".py",
   "mimetype": "text/x-python",
   "name": "python",
   "nbconvert_exporter": "python",
   "pygments_lexer": "ipython3",
   "version": "3.7.0"
  },
  "toc": {
   "base_numbering": 1,
   "nav_menu": {},
   "number_sections": true,
   "sideBar": true,
   "skip_h1_title": false,
   "title_cell": "Table of Contents",
   "title_sidebar": "Contents",
   "toc_cell": false,
   "toc_position": {},
   "toc_section_display": true,
   "toc_window_display": false
  },
  "varInspector": {
   "cols": {
    "lenName": 16,
    "lenType": 16,
    "lenVar": 40
   },
   "kernels_config": {
    "python": {
     "delete_cmd_postfix": "",
     "delete_cmd_prefix": "del ",
     "library": "var_list.py",
     "varRefreshCmd": "print(var_dic_list())"
    },
    "r": {
     "delete_cmd_postfix": ") ",
     "delete_cmd_prefix": "rm(",
     "library": "var_list.r",
     "varRefreshCmd": "cat(var_dic_list()) "
    }
   },
   "types_to_exclude": [
    "module",
    "function",
    "builtin_function_or_method",
    "instance",
    "_Feature"
   ],
   "window_display": false
  }
 },
 "nbformat": 4,
 "nbformat_minor": 4
}
