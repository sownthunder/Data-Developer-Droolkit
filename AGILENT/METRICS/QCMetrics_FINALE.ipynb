{
 "cells": [
  {
   "cell_type": "markdown",
   "metadata": {},
   "source": [
    "# LINKS\n",
    "\n",
    "- ## [join/merge DF python pandas](https://pandas.pydata.org/pandas-docs/stable/reference/api/pandas.DataFrame.join.html)\n",
    "\n",
    "\n",
    "---"
   ]
  },
  {
   "cell_type": "code",
   "execution_count": 1,
   "metadata": {
    "ExecuteTime": {
     "end_time": "2020-02-25T21:02:06.121121Z",
     "start_time": "2020-02-25T21:02:06.114066Z"
    }
   },
   "outputs": [],
   "source": [
    "import os, sys, time\n",
    "from time import sleep\n",
    "from pathlib import Path\n",
    "from datetime import datetime, timedelta"
   ]
  },
  {
   "cell_type": "code",
   "execution_count": 2,
   "metadata": {
    "ExecuteTime": {
     "end_time": "2020-02-25T21:02:07.807167Z",
     "start_time": "2020-02-25T21:02:06.127121Z"
    }
   },
   "outputs": [],
   "source": [
    "import pandas as pd\n",
    "import numpy as np\n",
    "from pandas import Series, DataFrame\n",
    "import pyodbc"
   ]
  },
  {
   "cell_type": "code",
   "execution_count": 3,
   "metadata": {
    "ExecuteTime": {
     "end_time": "2020-02-25T21:02:08.488174Z",
     "start_time": "2020-02-25T21:02:07.809180Z"
    }
   },
   "outputs": [],
   "source": [
    "from openpyxl import Workbook, load_workbook\n",
    "from openpyxl.drawing.image import Image\n",
    "from openpyxl.utils.dataframe import dataframe_to_rows"
   ]
  },
  {
   "cell_type": "code",
   "execution_count": 4,
   "metadata": {
    "ExecuteTime": {
     "end_time": "2020-02-25T21:02:09.203197Z",
     "start_time": "2020-02-25T21:02:08.493175Z"
    }
   },
   "outputs": [],
   "source": [
    "import matplotlib\n",
    "from matplotlib import pyplot as plt\n",
    "%matplotlib inline\n",
    "matplotlib.rcParams['figure.figsize'] = [12.0, 8.0]\n",
    "# [2020-02-19]]\\\\import matplotlib.pyplot as plt\n",
    "import seaborn as sns"
   ]
  },
  {
   "cell_type": "code",
   "execution_count": 5,
   "metadata": {
    "ExecuteTime": {
     "end_time": "2020-02-25T21:02:09.220189Z",
     "start_time": "2020-02-25T21:02:09.206186Z"
    }
   },
   "outputs": [
    {
     "data": {
      "text/plain": [
       "['Microsoft Access Driver (*.mdb, *.accdb)']"
      ]
     },
     "execution_count": 5,
     "metadata": {},
     "output_type": "execute_result"
    }
   ],
   "source": [
    "[x for x in pyodbc.drivers() if x.startswith('Microsoft Access Driver')]"
   ]
  },
  {
   "cell_type": "markdown",
   "metadata": {},
   "source": [
    "## *FUNCTIONS*"
   ]
  },
  {
   "cell_type": "code",
   "execution_count": 6,
   "metadata": {
    "ExecuteTime": {
     "end_time": "2020-02-25T21:02:09.229189Z",
     "start_time": "2020-02-25T21:02:09.221184Z"
    }
   },
   "outputs": [],
   "source": [
    "def send_mail(send_from, send_to, subject, message, files=[],\n",
    "              server=\"cos.smtp.agilent.com\", port=587, use_tls=True):  # {\n",
    "    print(\"SENDING MAIL... DATE == \" + str(pd.Timestamp.now())[:10])\n",
    "    msg = MIMEMultipart()\n",
    "    msg['From'] = send_from\n",
    "    msg['To'] = COMMASPACE.join(send_to)\n",
    "    msg['Date'] = formatdate(localtime=True)\n",
    "    msg['Subject'] = subject\n",
    "\n",
    "    msg.attach(MIMEText(message))\n",
    "\n",
    "    for path in files:  # {\n",
    "        part = MIMEBase('application', \"octet-stream\")\n",
    "        with open(path, 'rb') as file:  # {\n",
    "            part.set_payload(file.read())\n",
    "        # }\n",
    "        encoders.encode_base64(part)\n",
    "        part.add_header('Content-Disposition',\n",
    "                        'attachment; filename=\"{}\"'.format(op.basename(path)))\n",
    "        msg.attach(part)\n",
    "    # }\n",
    "\n",
    "    smtp = smtplib.SMTP(server, port)\n",
    "    if use_tls:  # {\n",
    "        smtp.starttls()\n",
    "    # }\n",
    "    smtp.sendmail(send_from, send_to, msg.as_string())\n",
    "    smtp.quit()\n",
    "# }"
   ]
  },
  {
   "cell_type": "code",
   "execution_count": 7,
   "metadata": {
    "ExecuteTime": {
     "end_time": "2020-02-25T21:02:09.239185Z",
     "start_time": "2020-02-25T21:02:09.233184Z"
    }
   },
   "outputs": [],
   "source": [
    "def pull_prodflow_data(table_name): # {\n",
    "    pass\n",
    "# }"
   ]
  },
  {
   "cell_type": "code",
   "execution_count": 8,
   "metadata": {
    "ExecuteTime": {
     "end_time": "2020-02-25T21:02:09.249187Z",
     "start_time": "2020-02-25T21:02:09.243185Z"
    }
   },
   "outputs": [],
   "source": [
    "def push_prodflow_data(table_name): # {\n",
    "    pass\n",
    "# }"
   ]
  },
  {
   "cell_type": "markdown",
   "metadata": {},
   "source": [
    "## Ask for `Email Address`:"
   ]
  },
  {
   "cell_type": "raw",
   "metadata": {
    "ExecuteTime": {
     "end_time": "2020-02-24T17:09:51.249723Z",
     "start_time": "2020-02-24T17:09:39.265442Z"
    }
   },
   "source": [
    "# INFINITE LOOP TO INSURE PROPER DATA INPUT\n",
    "while 1: # {\n",
    "    email_address = input(\"Enter email:\")\n",
    "    # ASK FOR CONFIRMATION\n",
    "    confirm_str = input(\"You entered: \" + str(email_address) + \"\\nIs that correct? Y/N? \")\n",
    "    # CHECK CONFIRMATION INPUT\n",
    "    if str(confirm_str).lower() == \"n\": # {\n",
    "        print(\"OK TRY AGAIN!\")\n",
    "    # }\n",
    "    elif str(confirm_str).lower() == \"y\": # {\n",
    "        print(\"okay !\")\n",
    "        break\n",
    "    # }\n",
    "    else: # {\n",
    "        print(\">>> ERROR! \")\n",
    "    #}\n",
    "# }"
   ]
  },
  {
   "cell_type": "markdown",
   "metadata": {},
   "source": [
    "## Ask for `Date`:"
   ]
  },
  {
   "cell_type": "code",
   "execution_count": 9,
   "metadata": {
    "ExecuteTime": {
     "end_time": "2020-02-25T21:02:31.740563Z",
     "start_time": "2020-02-25T21:02:09.253188Z"
    }
   },
   "outputs": [
    {
     "name": "stdout",
     "output_type": "stream",
     "text": [
      "Input a Date:2020-02-14\n"
     ]
    }
   ],
   "source": [
    "date_input = input(\"Input a Date:\")"
   ]
  },
  {
   "cell_type": "code",
   "execution_count": 10,
   "metadata": {
    "ExecuteTime": {
     "end_time": "2020-02-25T21:02:31.750088Z",
     "start_time": "2020-02-25T21:02:31.742563Z"
    }
   },
   "outputs": [
    {
     "name": "stdout",
     "output_type": "stream",
     "text": [
      "2020-02-14 00:00:00\n"
     ]
    }
   ],
   "source": [
    "# the_date = pd.Timestamp.now()\n",
    "test_date = pd.Timestamp(ts_input=str(date_input))\n",
    "print(test_date)"
   ]
  },
  {
   "cell_type": "code",
   "execution_count": 11,
   "metadata": {
    "ExecuteTime": {
     "end_time": "2020-02-25T21:02:31.765617Z",
     "start_time": "2020-02-25T21:02:31.752615Z"
    }
   },
   "outputs": [
    {
     "name": "stdout",
     "output_type": "stream",
     "text": [
      "2020-01-14 13:30:54\n"
     ]
    },
    {
     "name": "stderr",
     "output_type": "stream",
     "text": [
      "C:\\Users\\derbates\\miniconda3\\envs\\py3\\lib\\site-packages\\ipykernel_launcher.py:1: FutureWarning: M and Y units are deprecated and will be removed in a future version.\n",
      "  \"\"\"Entry point for launching an IPython kernel.\n"
     ]
    }
   ],
   "source": [
    "td_one_month_ago = test_date - pd.Timedelta(unit='M', value=1)\n",
    "print(td_one_month_ago)"
   ]
  },
  {
   "cell_type": "code",
   "execution_count": 12,
   "metadata": {
    "ExecuteTime": {
     "end_time": "2020-02-25T21:02:31.771616Z",
     "start_time": "2020-02-25T21:02:31.767618Z"
    }
   },
   "outputs": [],
   "source": [
    "one_month_ago = test_date - timedelta(days = 30)"
   ]
  },
  {
   "cell_type": "code",
   "execution_count": 13,
   "metadata": {
    "ExecuteTime": {
     "end_time": "2020-02-25T21:02:31.782616Z",
     "start_time": "2020-02-25T21:02:31.773619Z"
    }
   },
   "outputs": [
    {
     "name": "stdout",
     "output_type": "stream",
     "text": [
      "ONE MONTH AGO == 2020-01-15 00:00:00\n"
     ]
    }
   ],
   "source": [
    "print(\"ONE MONTH AGO == \" + str(one_month_ago))"
   ]
  },
  {
   "cell_type": "code",
   "execution_count": 14,
   "metadata": {
    "ExecuteTime": {
     "end_time": "2020-02-25T21:02:31.790615Z",
     "start_time": "2020-02-25T21:02:31.784616Z"
    }
   },
   "outputs": [],
   "source": [
    "# DAILY METRICS\n",
    "# df_week_range = pd.date_range(start=one_month_ago, end=test_date, freq=\"M-SAT\")\n",
    "df_month_range = pd.date_range(start=one_month_ago, end=test_date, freq='D') #, periods=30)"
   ]
  },
  {
   "cell_type": "code",
   "execution_count": 15,
   "metadata": {
    "ExecuteTime": {
     "end_time": "2020-02-25T21:02:31.800617Z",
     "start_time": "2020-02-25T21:02:31.791617Z"
    }
   },
   "outputs": [
    {
     "data": {
      "text/plain": [
       "pandas.core.indexes.datetimes.DatetimeIndex"
      ]
     },
     "execution_count": 15,
     "metadata": {},
     "output_type": "execute_result"
    }
   ],
   "source": [
    "type(df_month_range)"
   ]
  },
  {
   "cell_type": "code",
   "execution_count": 16,
   "metadata": {
    "ExecuteTime": {
     "end_time": "2020-02-25T21:02:31.810619Z",
     "start_time": "2020-02-25T21:02:31.802615Z"
    }
   },
   "outputs": [
    {
     "data": {
      "text/plain": [
       "[Timestamp('2020-01-15 00:00:00', freq='D'),\n",
       " Timestamp('2020-01-16 00:00:00', freq='D'),\n",
       " Timestamp('2020-01-17 00:00:00', freq='D'),\n",
       " Timestamp('2020-01-18 00:00:00', freq='D'),\n",
       " Timestamp('2020-01-19 00:00:00', freq='D'),\n",
       " Timestamp('2020-01-20 00:00:00', freq='D'),\n",
       " Timestamp('2020-01-21 00:00:00', freq='D'),\n",
       " Timestamp('2020-01-22 00:00:00', freq='D'),\n",
       " Timestamp('2020-01-23 00:00:00', freq='D'),\n",
       " Timestamp('2020-01-24 00:00:00', freq='D'),\n",
       " Timestamp('2020-01-25 00:00:00', freq='D'),\n",
       " Timestamp('2020-01-26 00:00:00', freq='D'),\n",
       " Timestamp('2020-01-27 00:00:00', freq='D'),\n",
       " Timestamp('2020-01-28 00:00:00', freq='D'),\n",
       " Timestamp('2020-01-29 00:00:00', freq='D'),\n",
       " Timestamp('2020-01-30 00:00:00', freq='D'),\n",
       " Timestamp('2020-01-31 00:00:00', freq='D'),\n",
       " Timestamp('2020-02-01 00:00:00', freq='D'),\n",
       " Timestamp('2020-02-02 00:00:00', freq='D'),\n",
       " Timestamp('2020-02-03 00:00:00', freq='D'),\n",
       " Timestamp('2020-02-04 00:00:00', freq='D'),\n",
       " Timestamp('2020-02-05 00:00:00', freq='D'),\n",
       " Timestamp('2020-02-06 00:00:00', freq='D'),\n",
       " Timestamp('2020-02-07 00:00:00', freq='D'),\n",
       " Timestamp('2020-02-08 00:00:00', freq='D'),\n",
       " Timestamp('2020-02-09 00:00:00', freq='D'),\n",
       " Timestamp('2020-02-10 00:00:00', freq='D'),\n",
       " Timestamp('2020-02-11 00:00:00', freq='D'),\n",
       " Timestamp('2020-02-12 00:00:00', freq='D'),\n",
       " Timestamp('2020-02-13 00:00:00', freq='D'),\n",
       " Timestamp('2020-02-14 00:00:00', freq='D')]"
      ]
     },
     "execution_count": 16,
     "metadata": {},
     "output_type": "execute_result"
    }
   ],
   "source": [
    "list(df_month_range)"
   ]
  },
  {
   "cell_type": "code",
   "execution_count": 17,
   "metadata": {
    "ExecuteTime": {
     "end_time": "2020-02-25T21:02:31.823616Z",
     "start_time": "2020-02-25T21:02:31.814619Z"
    }
   },
   "outputs": [],
   "source": [
    "df_month_range = pd.DataFrame(pd.Series(df_month_range), columns=['QCDate'])"
   ]
  },
  {
   "cell_type": "code",
   "execution_count": 18,
   "metadata": {
    "ExecuteTime": {
     "end_time": "2020-02-25T21:02:31.839619Z",
     "start_time": "2020-02-25T21:02:31.827621Z"
    }
   },
   "outputs": [
    {
     "name": "stdout",
     "output_type": "stream",
     "text": [
      "       QCDate\n",
      "0  2020-01-15\n",
      "1  2020-01-16\n",
      "2  2020-01-17\n",
      "3  2020-01-18\n",
      "4  2020-01-19\n",
      "5  2020-01-20\n",
      "6  2020-01-21\n",
      "7  2020-01-22\n",
      "8  2020-01-23\n",
      "9  2020-01-24\n",
      "10 2020-01-25\n",
      "11 2020-01-26\n",
      "12 2020-01-27\n",
      "13 2020-01-28\n",
      "14 2020-01-29\n",
      "15 2020-01-30\n",
      "16 2020-01-31\n",
      "17 2020-02-01\n",
      "18 2020-02-02\n",
      "19 2020-02-03\n",
      "20 2020-02-04\n",
      "21 2020-02-05\n",
      "22 2020-02-06\n",
      "23 2020-02-07\n",
      "24 2020-02-08\n",
      "25 2020-02-09\n",
      "26 2020-02-10\n",
      "27 2020-02-11\n",
      "28 2020-02-12\n",
      "29 2020-02-13\n",
      "30 2020-02-14\n"
     ]
    }
   ],
   "source": [
    "print(df_month_range)"
   ]
  },
  {
   "cell_type": "code",
   "execution_count": 19,
   "metadata": {
    "ExecuteTime": {
     "end_time": "2020-02-25T21:02:31.851617Z",
     "start_time": "2020-02-25T21:02:31.843620Z"
    }
   },
   "outputs": [
    {
     "data": {
      "text/plain": [
       "pandas.core.frame.DataFrame"
      ]
     },
     "execution_count": 19,
     "metadata": {},
     "output_type": "execute_result"
    }
   ],
   "source": [
    "type(df_month_range)"
   ]
  },
  {
   "cell_type": "code",
   "execution_count": 20,
   "metadata": {
    "ExecuteTime": {
     "end_time": "2020-02-25T21:02:31.864618Z",
     "start_time": "2020-02-25T21:02:31.854618Z"
    }
   },
   "outputs": [
    {
     "name": "stdout",
     "output_type": "stream",
     "text": [
      "<class 'pandas.core.frame.DataFrame'>\n",
      "RangeIndex: 31 entries, 0 to 30\n",
      "Data columns (total 1 columns):\n",
      "QCDate    31 non-null datetime64[ns]\n",
      "dtypes: datetime64[ns](1)\n",
      "memory usage: 376.0 bytes\n"
     ]
    }
   ],
   "source": [
    "df_month_range.info()"
   ]
  },
  {
   "cell_type": "code",
   "execution_count": 21,
   "metadata": {
    "ExecuteTime": {
     "end_time": "2020-02-25T21:02:31.875621Z",
     "start_time": "2020-02-25T21:02:31.867618Z"
    }
   },
   "outputs": [],
   "source": [
    "# MONTHLY METRICS\n",
    "year_range = pd.date_range(end=test_date, freq='M', periods=12, name='QCDate')"
   ]
  },
  {
   "cell_type": "code",
   "execution_count": 22,
   "metadata": {
    "ExecuteTime": {
     "end_time": "2020-02-25T21:02:31.885620Z",
     "start_time": "2020-02-25T21:02:31.877618Z"
    }
   },
   "outputs": [
    {
     "name": "stdout",
     "output_type": "stream",
     "text": [
      "DatetimeIndex(['2019-02-28', '2019-03-31', '2019-04-30', '2019-05-31',\n",
      "               '2019-06-30', '2019-07-31', '2019-08-31', '2019-09-30',\n",
      "               '2019-10-31', '2019-11-30', '2019-12-31', '2020-01-31'],\n",
      "              dtype='datetime64[ns]', name='QCDate', freq='M')\n"
     ]
    }
   ],
   "source": [
    "print(year_range)"
   ]
  },
  {
   "cell_type": "raw",
   "metadata": {
    "raw_mimetype": "text/x-python"
   },
   "source": [
    "df_Metrics = pd.DataFrame(data=None, index=df_month_range, dtype=np.str)\n",
    "len(df_Metrics)"
   ]
  },
  {
   "cell_type": "markdown",
   "metadata": {},
   "source": [
    "---\n",
    "### create *connection string*"
   ]
  },
  {
   "cell_type": "code",
   "execution_count": 23,
   "metadata": {
    "ExecuteTime": {
     "end_time": "2020-02-25T21:02:32.528626Z",
     "start_time": "2020-02-25T21:02:31.888618Z"
    }
   },
   "outputs": [
    {
     "name": "stdout",
     "output_type": "stream",
     "text": [
      "FIN...\n",
      "FIN...\n"
     ]
    }
   ],
   "source": [
    "try: #{\n",
    "    conn_str = (\n",
    "        r'DRIVER={Microsoft Access Driver (*.mdb, *.accdb)};'\n",
    "        r'DBQ=C:\\Users\\derbates\\OneDrive - Agilent Technologies\\Desktop\\Offline Prodflow II\\Custom Quotes_fe.accdb;'\n",
    "    )\n",
    "#}\n",
    "except: #{\n",
    "    errorMessage = str(sys.exc_info()[0]) + \"\\n\"\n",
    "    errorMessage = errorMessage + str(sys.exc_info()[1]) + \"\\n\\t\\t\"\n",
    "    errorMessage = errorMessage + str(sys.exc_info()[2]) + \"\\n\"\n",
    "    exc_type, exc_obj, exc_tb = sys.exc_info()\n",
    "    fname = os.path.split(exc_tb.tb_frame.f_code.co_filename)[1]\n",
    "    typeE = str(\"TYPE : \" + str(exc_type))\n",
    "    fileE = str(\"FILE : \" + str(fname))\n",
    "    lineE = str(\"LINE : \" + str(exc_tb.tb_lineno))\n",
    "    messageE = str(\"MESG : \" + \"\\n\\n\" + str(errorMessage) + \"\\n\")\n",
    "    print(\"\\n\" + typeE + \n",
    "          \"\\n\" + fileE + \n",
    "          \"\\n\" + lineE + \n",
    "          \"\\n\" + messageE)\n",
    "#}\n",
    "else: #{\n",
    "    print(\"FIN...\")\n",
    "#}\n",
    "try: #{\n",
    "    cnxn = pyodbc.connect(conn_str)\n",
    "    crsr = cnxn.cursor()\n",
    "#}\n",
    "except: #{\n",
    "    errorMessage = str(sys.exc_info()[0]) + \"\\n\"\n",
    "    errorMessage = errorMessage + str(sys.exc_info()[1]) + \"\\n\\t\\t\"\n",
    "    errorMessage = errorMessage + str(sys.exc_info()[2]) + \"\\n\"\n",
    "    exc_type, exc_obj, exc_tb = sys.exc_info()\n",
    "    fname = os.path.split(exc_tb.tb_frame.f_code.co_filename)[1]\n",
    "    typeE = str(\"TYPE : \" + str(exc_type))\n",
    "    fileE = str(\"FILE : \" + str(fname))\n",
    "    lineE = str(\"LINE : \" + str(exc_tb.tb_lineno))\n",
    "    messageE = str(\"MESG : \" + \"\\n\\n\" + str(errorMessage) + \"\\n\")\n",
    "    print(\"\\n\" + typeE + \n",
    "          \"\\n\" + fileE + \n",
    "          \"\\n\" + lineE + \n",
    "          \"\\n\" + messageE)\n",
    "#}\n",
    "else: #{\n",
    "    print(\"FIN...\")\n",
    "#}"
   ]
  },
  {
   "cell_type": "markdown",
   "metadata": {},
   "source": [
    "## `PRODUCTS` Table"
   ]
  },
  {
   "cell_type": "code",
   "execution_count": 24,
   "metadata": {
    "ExecuteTime": {
     "end_time": "2020-02-25T21:02:38.032693Z",
     "start_time": "2020-02-25T21:02:32.534627Z"
    }
   },
   "outputs": [
    {
     "name": "stdout",
     "output_type": "stream",
     "text": [
      "Operation Completed Successfully...\n",
      "<class 'pandas.core.frame.DataFrame'>\n",
      "RangeIndex: 108217 entries, 0 to 108216\n",
      "Data columns (total 42 columns):\n",
      "ProductID          108217 non-null int64\n",
      "Product#           108217 non-null object\n",
      "ProductName        108189 non-null object\n",
      "LineID             108217 non-null int64\n",
      "Description        5973 non-null object\n",
      "Specials           2443 non-null object\n",
      "OriginationDate    107823 non-null datetime64[ns]\n",
      "EntryDate          108215 non-null datetime64[ns]\n",
      "Status             6036 non-null object\n",
      "MatrixNumber       107333 non-null object\n",
      "Components         108217 non-null int64\n",
      "Availability       4843 non-null object\n",
      "EquivalentSoln     102773 non-null object\n",
      "EquivalentNeat     102931 non-null object\n",
      "Packaging          107497 non-null object\n",
      "Storage            100593 non-null object\n",
      "ExpirationDate     108192 non-null float64\n",
      "ShipType           95034 non-null object\n",
      "UN#                93351 non-null object\n",
      "ShipClass          87259 non-null object\n",
      "PackGrp            87141 non-null object\n",
      "ShipSpecial        82891 non-null object\n",
      "Hazard1            2473 non-null object\n",
      "Hazard2            4255 non-null object\n",
      "Hazard3            124 non-null object\n",
      "Prop65             6137 non-null object\n",
      "MSDS               6135 non-null object\n",
      "Analysis           5693 non-null object\n",
      "CofAHeader         102035 non-null float64\n",
      "Agilent#           694 non-null object\n",
      "Tedia#             2330 non-null object\n",
      "ProdNotes          93763 non-null object\n",
      "MatrixNotes        9193 non-null object\n",
      "RecipeId           81196 non-null object\n",
      "RushPriority       108217 non-null bool\n",
      "IsVoided           93101 non-null object\n",
      "SagePartNumber     32234 non-null object\n",
      "ProductLevel       91143 non-null float64\n",
      "DateInserted       38 non-null datetime64[ns]\n",
      "CofATemplate       79512 non-null object\n",
      "UniqueRequestID    5 non-null object\n",
      "Test_Timestamp     108217 non-null object\n",
      "dtypes: bool(1), datetime64[ns](3), float64(3), int64(3), object(32)\n",
      "memory usage: 34.0+ MB\n",
      "None\n"
     ]
    }
   ],
   "source": [
    "# TRY THE FOLLOWING\n",
    "try: # {\n",
    "    df_products = pd.read_sql_query(sql='SELECT * FROM Products', con=cnxn)\n",
    "# }\n",
    "except: # {\n",
    "    errorMessage = str(sys.exc_info()[0]) + \"\\n\"\n",
    "    errorMessage = errorMessage + str(sys.exc_info()[1]) + \"\\n\\t\\t\"\n",
    "    errorMessage = errorMessage + str(sys.exc_info()[2]) + \"\\n\"\n",
    "    exc_type, exc_obj, exc_tb = sys.exc_info()\n",
    "    fname = os.path.split(exc_tb.tb_frame.f_code.co_filename)[1]\n",
    "    typeE = str(\"TYPE : \" + str(exc_type))\n",
    "    fileE = str(\"FILE : \" + str(fname))\n",
    "    lineE = str(\"LINE : \" + str(exc_tb.tb_lineno))\n",
    "    messageE = str(\"MESG : \" + \"\\n\\n\" + str(errorMessage) + \"\\n\")\n",
    "    print(\"\\n\" + typeE + \n",
    "          \"\\n\" + fileE + \n",
    "          \"\\n\" + lineE + \n",
    "          \"\\n\" + messageE)\n",
    "# }\n",
    "else: # {\n",
    "    print(\"Operation Completed Successfully...\")\n",
    "    print(df_products.info())\n",
    "    # [2020-02-25]\\\\print(products_info)\n",
    "    # [2020-02-25]\\\\products_info.to_csv(\"products_INFO.csv\", index=True)\n",
    "# }"
   ]
  },
  {
   "cell_type": "markdown",
   "metadata": {},
   "source": [
    "## `tblProdflow` Table"
   ]
  },
  {
   "cell_type": "code",
   "execution_count": 25,
   "metadata": {
    "ExecuteTime": {
     "end_time": "2020-02-25T21:02:43.895772Z",
     "start_time": "2020-02-25T21:02:38.036692Z"
    }
   },
   "outputs": [
    {
     "name": "stdout",
     "output_type": "stream",
     "text": [
      "Operation Completed Successfully...\n",
      "<class 'pandas.core.frame.DataFrame'>\n",
      "RangeIndex: 108394 entries, 0 to 108393\n",
      "Data columns (total 53 columns):\n",
      "PfIDNo              108394 non-null int64\n",
      "PfBatchID           108394 non-null object\n",
      "ProductNo           108375 non-null object\n",
      "OrdID               92262 non-null float64\n",
      "QuoteNo             108358 non-null object\n",
      "PfSentTo            108329 non-null object\n",
      "PrepDate            107388 non-null datetime64[ns]\n",
      "PrepVolume          108349 non-null float64\n",
      "PrepUnit            108318 non-null object\n",
      "PrepVessel          108315 non-null float64\n",
      "PrepVBarcode        57709 non-null object\n",
      "PrdSaleUnit         89200 non-null object\n",
      "PrepMatrixNo        108319 non-null object\n",
      "PrepMatrixLot       107452 non-null object\n",
      "PrepInits           107211 non-null object\n",
      "PrepMemo            61052 non-null object\n",
      "PrepNotebookRef     48969 non-null object\n",
      "BulkQCStatus        24 non-null object\n",
      "BulkQCDate          74781 non-null datetime64[ns]\n",
      "BulkPassFail        73889 non-null object\n",
      "BulkQCInits         74765 non-null object\n",
      "BulkQCMemo          2102 non-null object\n",
      "BulkLotNo           73143 non-null object\n",
      "AmpRetains          51770 non-null float64\n",
      "AmpDate             92526 non-null datetime64[ns]\n",
      "AmpPreLabel         108394 non-null bool\n",
      "AmpNumberGood       92852 non-null float64\n",
      "AmpNumberBad        77321 non-null float64\n",
      "AmpBulkRemain       4102 non-null float64\n",
      "AmpTimeIn           92283 non-null datetime64[ns]\n",
      "AmpTimeOut          92283 non-null datetime64[ns]\n",
      "AmpInits            92490 non-null object\n",
      "QCStatus            573 non-null object\n",
      "QCDate              102904 non-null datetime64[ns]\n",
      "QCPassFail          103094 non-null object\n",
      "QCAuthInits         102893 non-null object\n",
      "QCMemo              55272 non-null object\n",
      "QCMethod            1190 non-null object\n",
      "LotNo               100193 non-null object\n",
      "QCExpMonth          93036 non-null float64\n",
      "QCExpDate           91525 non-null datetime64[ns]\n",
      "QCSellBy            0 non-null object\n",
      "QCFullValidation    108394 non-null bool\n",
      "QCValidation        108360 non-null float64\n",
      "FgInvCount          77719 non-null float64\n",
      "FgAccpacNote        19432 non-null object\n",
      "CofAHeaderNo        108362 non-null float64\n",
      "QCChromatogram      0 non-null object\n",
      "Correct             108394 non-null bool\n",
      "DoNotCorrect        108394 non-null bool\n",
      "DensityUnit         0 non-null object\n",
      "DensityTemp         0 non-null object\n",
      "recipeid            1 non-null object\n",
      "dtypes: bool(4), datetime64[ns](7), float64(11), int64(1), object(30)\n",
      "memory usage: 40.9+ MB\n",
      "None\n"
     ]
    }
   ],
   "source": [
    "# TRY THE FOLLOWING\n",
    "try: # {\n",
    "    df_tblProdflow = pd.read_sql_query(sql='SELECT * FROM tblProdflow', \n",
    "                                       parse_dates = ['QCDate'],\n",
    "                                       con=cnxn)\n",
    "# }\n",
    "except: # {\n",
    "    errorMessage = str(sys.exc_info()[0]) + \"\\n\"\n",
    "    errorMessage = errorMessage + str(sys.exc_info()[1]) + \"\\n\\t\\t\"\n",
    "    errorMessage = errorMessage + str(sys.exc_info()[2]) + \"\\n\"\n",
    "    exc_type, exc_obj, exc_tb = sys.exc_info()\n",
    "    fname = os.path.split(exc_tb.tb_frame.f_code.co_filename)[1]\n",
    "    typeE = str(\"TYPE : \" + str(exc_type))\n",
    "    fileE = str(\"FILE : \" + str(fname))\n",
    "    lineE = str(\"LINE : \" + str(exc_tb.tb_lineno))\n",
    "    messageE = str(\"MESG : \" + \"\\n\\n\" + str(errorMessage) + \"\\n\")\n",
    "    print(\"\\n\" + typeE + \n",
    "          \"\\n\" + fileE + \n",
    "          \"\\n\" + lineE + \n",
    "          \"\\n\" + messageE)\n",
    "# }\n",
    "else: # {\n",
    "    print(\"Operation Completed Successfully...\")\n",
    "    print(df_tblProdflow.info())\n",
    "    # [2020-02-25]\\\\print(tblProdflow_info)\n",
    "    # [2020-02-25]\\\\tblProdflow_info.to_csv(\"tblProdflow_INFO.csv\", index=True)\n",
    "# }"
   ]
  },
  {
   "cell_type": "markdown",
   "metadata": {},
   "source": [
    "### Rename Header Column in `Products` Table"
   ]
  },
  {
   "cell_type": "code",
   "execution_count": 26,
   "metadata": {
    "ExecuteTime": {
     "end_time": "2020-02-25T21:02:43.993768Z",
     "start_time": "2020-02-25T21:02:43.897765Z"
    }
   },
   "outputs": [],
   "source": [
    "df_products.rename(columns={'Product#': 'ProductNo'}, inplace=True)"
   ]
  },
  {
   "cell_type": "code",
   "execution_count": 27,
   "metadata": {
    "ExecuteTime": {
     "end_time": "2020-02-25T21:02:44.045769Z",
     "start_time": "2020-02-25T21:02:43.999768Z"
    }
   },
   "outputs": [
    {
     "data": {
      "text/html": [
       "<div>\n",
       "<style scoped>\n",
       "    .dataframe tbody tr th:only-of-type {\n",
       "        vertical-align: middle;\n",
       "    }\n",
       "\n",
       "    .dataframe tbody tr th {\n",
       "        vertical-align: top;\n",
       "    }\n",
       "\n",
       "    .dataframe thead th {\n",
       "        text-align: right;\n",
       "    }\n",
       "</style>\n",
       "<table border=\"1\" class=\"dataframe\">\n",
       "  <thead>\n",
       "    <tr style=\"text-align: right;\">\n",
       "      <th></th>\n",
       "      <th>ProductID</th>\n",
       "      <th>ProductNo</th>\n",
       "      <th>ProductName</th>\n",
       "      <th>LineID</th>\n",
       "      <th>Description</th>\n",
       "      <th>Specials</th>\n",
       "      <th>OriginationDate</th>\n",
       "      <th>EntryDate</th>\n",
       "      <th>Status</th>\n",
       "      <th>MatrixNumber</th>\n",
       "      <th>...</th>\n",
       "      <th>MatrixNotes</th>\n",
       "      <th>RecipeId</th>\n",
       "      <th>RushPriority</th>\n",
       "      <th>IsVoided</th>\n",
       "      <th>SagePartNumber</th>\n",
       "      <th>ProductLevel</th>\n",
       "      <th>DateInserted</th>\n",
       "      <th>CofATemplate</th>\n",
       "      <th>UniqueRequestID</th>\n",
       "      <th>Test_Timestamp</th>\n",
       "    </tr>\n",
       "  </thead>\n",
       "  <tbody>\n",
       "    <tr>\n",
       "      <td>38100</td>\n",
       "      <td>95848</td>\n",
       "      <td>ICUS-5910</td>\n",
       "      <td>Custom Standard</td>\n",
       "      <td>8</td>\n",
       "      <td>None</td>\n",
       "      <td>None</td>\n",
       "      <td>2017-04-04</td>\n",
       "      <td>2017-04-04</td>\n",
       "      <td>None</td>\n",
       "      <td>JHP-045</td>\n",
       "      <td>...</td>\n",
       "      <td>None</td>\n",
       "      <td>None</td>\n",
       "      <td>False</td>\n",
       "      <td></td>\n",
       "      <td>ICUS-5910</td>\n",
       "      <td>1.0</td>\n",
       "      <td>NaT</td>\n",
       "      <td>GENERIC</td>\n",
       "      <td>None</td>\n",
       "      <td>b'\\x00\\x00\\x00\\x00\\x00!x|'</td>\n",
       "    </tr>\n",
       "    <tr>\n",
       "      <td>80063</td>\n",
       "      <td>49093</td>\n",
       "      <td>QTE-49093</td>\n",
       "      <td>Custom Standard</td>\n",
       "      <td>7</td>\n",
       "      <td>None</td>\n",
       "      <td>None</td>\n",
       "      <td>2011-02-25</td>\n",
       "      <td>2011-05-09</td>\n",
       "      <td>None</td>\n",
       "      <td>JHP-031</td>\n",
       "      <td>...</td>\n",
       "      <td>None</td>\n",
       "      <td>RP-15780</td>\n",
       "      <td>False</td>\n",
       "      <td>VOID</td>\n",
       "      <td>None</td>\n",
       "      <td>3.0</td>\n",
       "      <td>NaT</td>\n",
       "      <td>None</td>\n",
       "      <td>None</td>\n",
       "      <td>b'\\x00\\x00\\x00\\x00\\x00!\\xab\\x91'</td>\n",
       "    </tr>\n",
       "    <tr>\n",
       "      <td>12530</td>\n",
       "      <td>85174</td>\n",
       "      <td>CUS-19236</td>\n",
       "      <td>Custom Standard</td>\n",
       "      <td>7</td>\n",
       "      <td>None</td>\n",
       "      <td>None</td>\n",
       "      <td>2016-01-04</td>\n",
       "      <td>2016-01-04</td>\n",
       "      <td>None</td>\n",
       "      <td>JHP-003</td>\n",
       "      <td>...</td>\n",
       "      <td>None</td>\n",
       "      <td>RP-09473</td>\n",
       "      <td>False</td>\n",
       "      <td>VOID</td>\n",
       "      <td>None</td>\n",
       "      <td>1.0</td>\n",
       "      <td>NaT</td>\n",
       "      <td>GENERIC</td>\n",
       "      <td>None</td>\n",
       "      <td>b'\\x00\\x00\\x00\\x00\\x00\\x1f\\xfb\\xbb'</td>\n",
       "    </tr>\n",
       "    <tr>\n",
       "      <td>38212</td>\n",
       "      <td>96586</td>\n",
       "      <td>ICUS-6015</td>\n",
       "      <td>Custom Standard</td>\n",
       "      <td>8</td>\n",
       "      <td>None</td>\n",
       "      <td>None</td>\n",
       "      <td>2017-05-03</td>\n",
       "      <td>2017-05-03</td>\n",
       "      <td>None</td>\n",
       "      <td>JHP-330</td>\n",
       "      <td>...</td>\n",
       "      <td>None</td>\n",
       "      <td>None</td>\n",
       "      <td>False</td>\n",
       "      <td>VOID</td>\n",
       "      <td>None</td>\n",
       "      <td>1.0</td>\n",
       "      <td>NaT</td>\n",
       "      <td>GENERIC</td>\n",
       "      <td>None</td>\n",
       "      <td>b'\\x00\\x00\\x00\\x00\\x00 [\\x0e'</td>\n",
       "    </tr>\n",
       "    <tr>\n",
       "      <td>24021</td>\n",
       "      <td>1158</td>\n",
       "      <td>CUS-3154</td>\n",
       "      <td>Custom Standard</td>\n",
       "      <td>7</td>\n",
       "      <td>None</td>\n",
       "      <td>None</td>\n",
       "      <td>2003-03-06</td>\n",
       "      <td>2011-05-09</td>\n",
       "      <td>None</td>\n",
       "      <td>JHP-021</td>\n",
       "      <td>...</td>\n",
       "      <td>None</td>\n",
       "      <td>RP-12291</td>\n",
       "      <td>False</td>\n",
       "      <td>None</td>\n",
       "      <td>CUS-3154</td>\n",
       "      <td>1.0</td>\n",
       "      <td>NaT</td>\n",
       "      <td>GENERIC</td>\n",
       "      <td>None</td>\n",
       "      <td>b'\\x00\\x00\\x00\\x00\\x00 #\\x83'</td>\n",
       "    </tr>\n",
       "  </tbody>\n",
       "</table>\n",
       "<p>5 rows × 42 columns</p>\n",
       "</div>"
      ],
      "text/plain": [
       "       ProductID  ProductNo      ProductName  LineID Description Specials  \\\n",
       "38100      95848  ICUS-5910  Custom Standard       8        None     None   \n",
       "80063      49093  QTE-49093  Custom Standard       7        None     None   \n",
       "12530      85174  CUS-19236  Custom Standard       7        None     None   \n",
       "38212      96586  ICUS-6015  Custom Standard       8        None     None   \n",
       "24021       1158   CUS-3154  Custom Standard       7        None     None   \n",
       "\n",
       "      OriginationDate  EntryDate Status MatrixNumber  ...  MatrixNotes  \\\n",
       "38100      2017-04-04 2017-04-04   None      JHP-045  ...         None   \n",
       "80063      2011-02-25 2011-05-09   None      JHP-031  ...         None   \n",
       "12530      2016-01-04 2016-01-04   None      JHP-003  ...         None   \n",
       "38212      2017-05-03 2017-05-03   None      JHP-330  ...         None   \n",
       "24021      2003-03-06 2011-05-09   None      JHP-021  ...         None   \n",
       "\n",
       "              RecipeId RushPriority IsVoided SagePartNumber ProductLevel  \\\n",
       "38100             None        False               ICUS-5910          1.0   \n",
       "80063  RP-15780               False     VOID           None          3.0   \n",
       "12530  RP-09473               False     VOID           None          1.0   \n",
       "38212             None        False     VOID           None          1.0   \n",
       "24021  RP-12291               False     None       CUS-3154          1.0   \n",
       "\n",
       "       DateInserted CofATemplate UniqueRequestID  \\\n",
       "38100           NaT      GENERIC            None   \n",
       "80063           NaT         None            None   \n",
       "12530           NaT      GENERIC            None   \n",
       "38212           NaT      GENERIC            None   \n",
       "24021           NaT      GENERIC            None   \n",
       "\n",
       "                            Test_Timestamp  \n",
       "38100           b'\\x00\\x00\\x00\\x00\\x00!x|'  \n",
       "80063     b'\\x00\\x00\\x00\\x00\\x00!\\xab\\x91'  \n",
       "12530  b'\\x00\\x00\\x00\\x00\\x00\\x1f\\xfb\\xbb'  \n",
       "38212        b'\\x00\\x00\\x00\\x00\\x00 [\\x0e'  \n",
       "24021        b'\\x00\\x00\\x00\\x00\\x00 #\\x83'  \n",
       "\n",
       "[5 rows x 42 columns]"
      ]
     },
     "execution_count": 27,
     "metadata": {},
     "output_type": "execute_result"
    }
   ],
   "source": [
    "df_products.sample(5)"
   ]
  },
  {
   "cell_type": "markdown",
   "metadata": {},
   "source": [
    "---\n",
    "## **CREATE** `df_QCMetrics` Table (calculations table)"
   ]
  },
  {
   "cell_type": "code",
   "execution_count": 28,
   "metadata": {
    "ExecuteTime": {
     "end_time": "2020-02-25T21:02:46.457795Z",
     "start_time": "2020-02-25T21:02:44.048771Z"
    }
   },
   "outputs": [
    {
     "data": {
      "text/plain": [
       "108394"
      ]
     },
     "execution_count": 28,
     "metadata": {},
     "output_type": "execute_result"
    }
   ],
   "source": [
    "#inner join in python pandas\n",
    "df_QCMetrics = pd.merge(df_products, df_tblProdflow, on='ProductNo', how='right')\n",
    "len(df_QCMetrics)"
   ]
  },
  {
   "cell_type": "code",
   "execution_count": 29,
   "metadata": {
    "ExecuteTime": {
     "end_time": "2020-02-25T21:02:46.794803Z",
     "start_time": "2020-02-25T21:02:46.459796Z"
    }
   },
   "outputs": [
    {
     "data": {
      "text/html": [
       "<div>\n",
       "<style scoped>\n",
       "    .dataframe tbody tr th:only-of-type {\n",
       "        vertical-align: middle;\n",
       "    }\n",
       "\n",
       "    .dataframe tbody tr th {\n",
       "        vertical-align: top;\n",
       "    }\n",
       "\n",
       "    .dataframe thead th {\n",
       "        text-align: right;\n",
       "    }\n",
       "</style>\n",
       "<table border=\"1\" class=\"dataframe\">\n",
       "  <thead>\n",
       "    <tr style=\"text-align: right;\">\n",
       "      <th></th>\n",
       "      <th>ProductID</th>\n",
       "      <th>ProductNo</th>\n",
       "      <th>ProductName</th>\n",
       "      <th>LineID</th>\n",
       "      <th>Description</th>\n",
       "      <th>Specials</th>\n",
       "      <th>OriginationDate</th>\n",
       "      <th>EntryDate</th>\n",
       "      <th>Status</th>\n",
       "      <th>MatrixNumber</th>\n",
       "      <th>...</th>\n",
       "      <th>QCValidation</th>\n",
       "      <th>FgInvCount</th>\n",
       "      <th>FgAccpacNote</th>\n",
       "      <th>CofAHeaderNo</th>\n",
       "      <th>QCChromatogram</th>\n",
       "      <th>Correct</th>\n",
       "      <th>DoNotCorrect</th>\n",
       "      <th>DensityUnit</th>\n",
       "      <th>DensityTemp</th>\n",
       "      <th>recipeid</th>\n",
       "    </tr>\n",
       "  </thead>\n",
       "  <tbody>\n",
       "    <tr>\n",
       "      <td>55821</td>\n",
       "      <td>84483.0</td>\n",
       "      <td>G2453-85060-1</td>\n",
       "      <td>Formic Acid Reagent Grade</td>\n",
       "      <td>9.0</td>\n",
       "      <td>None</td>\n",
       "      <td>None</td>\n",
       "      <td>2015-11-12</td>\n",
       "      <td>2015-11-12</td>\n",
       "      <td>None</td>\n",
       "      <td>JHP-035</td>\n",
       "      <td>...</td>\n",
       "      <td>2.0</td>\n",
       "      <td>535.0</td>\n",
       "      <td>None</td>\n",
       "      <td>2.0</td>\n",
       "      <td>None</td>\n",
       "      <td>False</td>\n",
       "      <td>False</td>\n",
       "      <td>None</td>\n",
       "      <td>None</td>\n",
       "      <td>None</td>\n",
       "    </tr>\n",
       "    <tr>\n",
       "      <td>76403</td>\n",
       "      <td>41521.0</td>\n",
       "      <td>PST-1900M100A01</td>\n",
       "      <td>Asana Standard</td>\n",
       "      <td>1.0</td>\n",
       "      <td>1 analyte @ 100 µg/mL in methanol (methyl alco...</td>\n",
       "      <td>None</td>\n",
       "      <td>2002-12-19</td>\n",
       "      <td>2011-05-09</td>\n",
       "      <td>active</td>\n",
       "      <td>JHP-021</td>\n",
       "      <td>...</td>\n",
       "      <td>2.0</td>\n",
       "      <td>31.0</td>\n",
       "      <td>None</td>\n",
       "      <td>2.0</td>\n",
       "      <td>None</td>\n",
       "      <td>False</td>\n",
       "      <td>False</td>\n",
       "      <td>None</td>\n",
       "      <td>None</td>\n",
       "      <td>None</td>\n",
       "    </tr>\n",
       "    <tr>\n",
       "      <td>101783</td>\n",
       "      <td>7721.0</td>\n",
       "      <td>WAT042876</td>\n",
       "      <td>Waters GPV Equivalency Calibration Solution</td>\n",
       "      <td>7.0</td>\n",
       "      <td>None</td>\n",
       "      <td>None</td>\n",
       "      <td>2001-06-12</td>\n",
       "      <td>2011-05-09</td>\n",
       "      <td>oem</td>\n",
       "      <td>JHP-021</td>\n",
       "      <td>...</td>\n",
       "      <td>1.0</td>\n",
       "      <td>NaN</td>\n",
       "      <td>None</td>\n",
       "      <td>2.0</td>\n",
       "      <td>None</td>\n",
       "      <td>False</td>\n",
       "      <td>True</td>\n",
       "      <td>None</td>\n",
       "      <td>None</td>\n",
       "      <td>None</td>\n",
       "    </tr>\n",
       "    <tr>\n",
       "      <td>83287</td>\n",
       "      <td>84262.0</td>\n",
       "      <td>PST-6250A1000</td>\n",
       "      <td>Topramezone Standard</td>\n",
       "      <td>7.0</td>\n",
       "      <td>None</td>\n",
       "      <td>None</td>\n",
       "      <td>2015-10-29</td>\n",
       "      <td>2015-10-29</td>\n",
       "      <td>None</td>\n",
       "      <td>JHP-003</td>\n",
       "      <td>...</td>\n",
       "      <td>2.0</td>\n",
       "      <td>NaN</td>\n",
       "      <td>None</td>\n",
       "      <td>2.0</td>\n",
       "      <td>None</td>\n",
       "      <td>False</td>\n",
       "      <td>False</td>\n",
       "      <td>None</td>\n",
       "      <td>None</td>\n",
       "      <td>None</td>\n",
       "    </tr>\n",
       "    <tr>\n",
       "      <td>97895</td>\n",
       "      <td>111152.0</td>\n",
       "      <td>STK-03692</td>\n",
       "      <td>CUS-00000822  Pesticides  20x  in Acetone Stock A</td>\n",
       "      <td>16.0</td>\n",
       "      <td>None</td>\n",
       "      <td>None</td>\n",
       "      <td>2019-07-24</td>\n",
       "      <td>2019-07-24</td>\n",
       "      <td>None</td>\n",
       "      <td>JHP-001</td>\n",
       "      <td>...</td>\n",
       "      <td>2.0</td>\n",
       "      <td>NaN</td>\n",
       "      <td>None</td>\n",
       "      <td>2.0</td>\n",
       "      <td>None</td>\n",
       "      <td>False</td>\n",
       "      <td>False</td>\n",
       "      <td>None</td>\n",
       "      <td>None</td>\n",
       "      <td>None</td>\n",
       "    </tr>\n",
       "  </tbody>\n",
       "</table>\n",
       "<p>5 rows × 94 columns</p>\n",
       "</div>"
      ],
      "text/plain": [
       "        ProductID        ProductNo  \\\n",
       "55821     84483.0    G2453-85060-1   \n",
       "76403     41521.0  PST-1900M100A01   \n",
       "101783     7721.0        WAT042876   \n",
       "83287     84262.0    PST-6250A1000   \n",
       "97895    111152.0        STK-03692   \n",
       "\n",
       "                                              ProductName  LineID  \\\n",
       "55821                           Formic Acid Reagent Grade     9.0   \n",
       "76403                                      Asana Standard     1.0   \n",
       "101783        Waters GPV Equivalency Calibration Solution     7.0   \n",
       "83287                                Topramezone Standard     7.0   \n",
       "97895   CUS-00000822  Pesticides  20x  in Acetone Stock A    16.0   \n",
       "\n",
       "                                              Description Specials  \\\n",
       "55821                                                None     None   \n",
       "76403   1 analyte @ 100 µg/mL in methanol (methyl alco...     None   \n",
       "101783                                               None     None   \n",
       "83287                                                None     None   \n",
       "97895                                                None     None   \n",
       "\n",
       "       OriginationDate  EntryDate  Status MatrixNumber  ...  QCValidation  \\\n",
       "55821       2015-11-12 2015-11-12    None      JHP-035  ...           2.0   \n",
       "76403       2002-12-19 2011-05-09  active      JHP-021  ...           2.0   \n",
       "101783      2001-06-12 2011-05-09     oem      JHP-021  ...           1.0   \n",
       "83287       2015-10-29 2015-10-29    None      JHP-003  ...           2.0   \n",
       "97895       2019-07-24 2019-07-24    None      JHP-001  ...           2.0   \n",
       "\n",
       "       FgInvCount FgAccpacNote CofAHeaderNo QCChromatogram Correct  \\\n",
       "55821       535.0         None          2.0           None   False   \n",
       "76403        31.0         None          2.0           None   False   \n",
       "101783        NaN         None          2.0           None   False   \n",
       "83287         NaN         None          2.0           None   False   \n",
       "97895         NaN         None          2.0           None   False   \n",
       "\n",
       "        DoNotCorrect DensityUnit DensityTemp recipeid  \n",
       "55821          False        None        None     None  \n",
       "76403          False        None        None     None  \n",
       "101783          True        None        None     None  \n",
       "83287          False        None        None     None  \n",
       "97895          False        None        None     None  \n",
       "\n",
       "[5 rows x 94 columns]"
      ]
     },
     "execution_count": 29,
     "metadata": {},
     "output_type": "execute_result"
    }
   ],
   "source": [
    "# COPY FOR TESTING\n",
    "TEST_METRICS = pd.DataFrame(data=df_QCMetrics)\n",
    "TEST_METRICS.sample(5)"
   ]
  },
  {
   "cell_type": "markdown",
   "metadata": {},
   "source": [
    "### Drop **ALL** rows without a `QCDate` & `QCValidation` "
   ]
  },
  {
   "cell_type": "code",
   "execution_count": 30,
   "metadata": {
    "ExecuteTime": {
     "end_time": "2020-02-25T21:02:47.310805Z",
     "start_time": "2020-02-25T21:02:46.797804Z"
    }
   },
   "outputs": [
    {
     "data": {
      "text/plain": [
       "102902"
      ]
     },
     "execution_count": 30,
     "metadata": {},
     "output_type": "execute_result"
    }
   ],
   "source": [
    "df_QCMetrics.dropna(axis=0, subset=['QCDate', 'QCValidation'], how='any', inplace=True)\n",
    "# [2020-02-24]\\\\df_QCMetrics.dropna(axis=0, subset=['QCDate', 'ProductLevel'], how='any', inplace=True)\n",
    "len(df_QCMetrics)"
   ]
  },
  {
   "cell_type": "code",
   "execution_count": 31,
   "metadata": {
    "ExecuteTime": {
     "end_time": "2020-02-25T21:02:47.321806Z",
     "start_time": "2020-02-25T21:02:47.314806Z"
    }
   },
   "outputs": [
    {
     "data": {
      "text/plain": [
       "pandas.core.frame.DataFrame"
      ]
     },
     "execution_count": 31,
     "metadata": {},
     "output_type": "execute_result"
    }
   ],
   "source": [
    "type(df_month_range)"
   ]
  },
  {
   "cell_type": "markdown",
   "metadata": {},
   "source": [
    "#### TEST_METRICS (dataframe)"
   ]
  },
  {
   "cell_type": "raw",
   "metadata": {},
   "source": [
    "df_Metrics_Monthly = df_QCMetrics.set_index('QCDate'), on=df_month_range)"
   ]
  },
  {
   "cell_type": "code",
   "execution_count": 32,
   "metadata": {
    "ExecuteTime": {
     "end_time": "2020-02-25T21:02:47.332810Z",
     "start_time": "2020-02-25T21:02:47.325808Z"
    }
   },
   "outputs": [],
   "source": [
    "# CONVERT from string to datetime\n",
    "TEST_METRICS['QCDate'] = pd.to_datetime(TEST_METRICS['QCDate'])"
   ]
  },
  {
   "cell_type": "code",
   "execution_count": 33,
   "metadata": {
    "ExecuteTime": {
     "end_time": "2020-02-25T21:02:47.351806Z",
     "start_time": "2020-02-25T21:02:47.334806Z"
    }
   },
   "outputs": [],
   "source": [
    "# CONVERT FROM string to categorical\n",
    "TEST_METRICS['QCValidation'] = pd.Categorical(TEST_METRICS[\"QCValidation\"], ordered=False)"
   ]
  },
  {
   "cell_type": "code",
   "execution_count": 34,
   "metadata": {
    "ExecuteTime": {
     "end_time": "2020-02-25T21:02:47.406808Z",
     "start_time": "2020-02-25T21:02:47.353808Z"
    }
   },
   "outputs": [
    {
     "data": {
      "text/html": [
       "<div>\n",
       "<style scoped>\n",
       "    .dataframe tbody tr th:only-of-type {\n",
       "        vertical-align: middle;\n",
       "    }\n",
       "\n",
       "    .dataframe tbody tr th {\n",
       "        vertical-align: top;\n",
       "    }\n",
       "\n",
       "    .dataframe thead th {\n",
       "        text-align: right;\n",
       "    }\n",
       "</style>\n",
       "<table border=\"1\" class=\"dataframe\">\n",
       "  <thead>\n",
       "    <tr style=\"text-align: right;\">\n",
       "      <th></th>\n",
       "      <th></th>\n",
       "      <th>ProductID</th>\n",
       "      <th>ProductNo</th>\n",
       "      <th>ProductName</th>\n",
       "      <th>LineID</th>\n",
       "      <th>Description</th>\n",
       "      <th>Specials</th>\n",
       "      <th>OriginationDate</th>\n",
       "      <th>EntryDate</th>\n",
       "      <th>Status</th>\n",
       "      <th>MatrixNumber</th>\n",
       "      <th>...</th>\n",
       "      <th>QCFullValidation</th>\n",
       "      <th>FgInvCount</th>\n",
       "      <th>FgAccpacNote</th>\n",
       "      <th>CofAHeaderNo</th>\n",
       "      <th>QCChromatogram</th>\n",
       "      <th>Correct</th>\n",
       "      <th>DoNotCorrect</th>\n",
       "      <th>DensityUnit</th>\n",
       "      <th>DensityTemp</th>\n",
       "      <th>recipeid</th>\n",
       "    </tr>\n",
       "    <tr>\n",
       "      <th>QCDate</th>\n",
       "      <th>QCValidation</th>\n",
       "      <th></th>\n",
       "      <th></th>\n",
       "      <th></th>\n",
       "      <th></th>\n",
       "      <th></th>\n",
       "      <th></th>\n",
       "      <th></th>\n",
       "      <th></th>\n",
       "      <th></th>\n",
       "      <th></th>\n",
       "      <th></th>\n",
       "      <th></th>\n",
       "      <th></th>\n",
       "      <th></th>\n",
       "      <th></th>\n",
       "      <th></th>\n",
       "      <th></th>\n",
       "      <th></th>\n",
       "      <th></th>\n",
       "      <th></th>\n",
       "      <th></th>\n",
       "    </tr>\n",
       "  </thead>\n",
       "  <tbody>\n",
       "    <tr>\n",
       "      <td>1998-09-28</td>\n",
       "      <td>2.0</td>\n",
       "      <td>6347.0</td>\n",
       "      <td>MISA-192-1</td>\n",
       "      <td>Base/Neutral Extractables Standard</td>\n",
       "      <td>1.0</td>\n",
       "      <td>16 analytes @ 100 µg/mL in methylene chloride ...</td>\n",
       "      <td>None</td>\n",
       "      <td>1999-01-20</td>\n",
       "      <td>2011-05-09</td>\n",
       "      <td>active</td>\n",
       "      <td>JHP-031</td>\n",
       "      <td>...</td>\n",
       "      <td>True</td>\n",
       "      <td>NaN</td>\n",
       "      <td>None</td>\n",
       "      <td>2.0</td>\n",
       "      <td>None</td>\n",
       "      <td>False</td>\n",
       "      <td>True</td>\n",
       "      <td>None</td>\n",
       "      <td>None</td>\n",
       "      <td>None</td>\n",
       "    </tr>\n",
       "    <tr>\n",
       "      <td>1996-01-25</td>\n",
       "      <td>2.0</td>\n",
       "      <td>7147.0</td>\n",
       "      <td>QTR-001B</td>\n",
       "      <td>Method 8270B Primary Calibration Standard Ampu...</td>\n",
       "      <td>7.0</td>\n",
       "      <td>None</td>\n",
       "      <td>None</td>\n",
       "      <td>1996-01-23</td>\n",
       "      <td>2011-05-09</td>\n",
       "      <td>custom</td>\n",
       "      <td>JHP-031</td>\n",
       "      <td>...</td>\n",
       "      <td>True</td>\n",
       "      <td>NaN</td>\n",
       "      <td>None</td>\n",
       "      <td>2.0</td>\n",
       "      <td>None</td>\n",
       "      <td>False</td>\n",
       "      <td>True</td>\n",
       "      <td>None</td>\n",
       "      <td>None</td>\n",
       "      <td>None</td>\n",
       "    </tr>\n",
       "    <tr>\n",
       "      <td>NaT</td>\n",
       "      <td>1.0</td>\n",
       "      <td>13794.0</td>\n",
       "      <td>CUS-6531</td>\n",
       "      <td>Custom Standard</td>\n",
       "      <td>7.0</td>\n",
       "      <td>None</td>\n",
       "      <td>None</td>\n",
       "      <td>2005-03-28</td>\n",
       "      <td>2005-03-28</td>\n",
       "      <td>None</td>\n",
       "      <td>JHP-303</td>\n",
       "      <td>...</td>\n",
       "      <td>False</td>\n",
       "      <td>NaN</td>\n",
       "      <td>None</td>\n",
       "      <td>1.0</td>\n",
       "      <td>None</td>\n",
       "      <td>False</td>\n",
       "      <td>False</td>\n",
       "      <td>None</td>\n",
       "      <td>None</td>\n",
       "      <td>None</td>\n",
       "    </tr>\n",
       "    <tr>\n",
       "      <td>2019-10-31</td>\n",
       "      <td>1.0</td>\n",
       "      <td>75925.0</td>\n",
       "      <td>PST-5975K1000</td>\n",
       "      <td>Picoxystrobin Standard</td>\n",
       "      <td>7.0</td>\n",
       "      <td>None</td>\n",
       "      <td>new pst</td>\n",
       "      <td>2014-09-15</td>\n",
       "      <td>2014-09-15</td>\n",
       "      <td>None</td>\n",
       "      <td>JHP-001</td>\n",
       "      <td>...</td>\n",
       "      <td>False</td>\n",
       "      <td>15.0</td>\n",
       "      <td>Quarantine cp-3060z (22)  &amp; cp-4041z (21) reta...</td>\n",
       "      <td>1.0</td>\n",
       "      <td>None</td>\n",
       "      <td>False</td>\n",
       "      <td>False</td>\n",
       "      <td>None</td>\n",
       "      <td>None</td>\n",
       "      <td>None</td>\n",
       "    </tr>\n",
       "    <tr>\n",
       "      <td>2010-12-28</td>\n",
       "      <td>1.0</td>\n",
       "      <td>41748.0</td>\n",
       "      <td>CUS-11684</td>\n",
       "      <td>Custom Standard</td>\n",
       "      <td>7.0</td>\n",
       "      <td>None</td>\n",
       "      <td>None</td>\n",
       "      <td>2010-01-14</td>\n",
       "      <td>2011-05-09</td>\n",
       "      <td>None</td>\n",
       "      <td>JHP-021</td>\n",
       "      <td>...</td>\n",
       "      <td>False</td>\n",
       "      <td>4.0</td>\n",
       "      <td>None</td>\n",
       "      <td>1.0</td>\n",
       "      <td>None</td>\n",
       "      <td>False</td>\n",
       "      <td>True</td>\n",
       "      <td>None</td>\n",
       "      <td>None</td>\n",
       "      <td>None</td>\n",
       "    </tr>\n",
       "  </tbody>\n",
       "</table>\n",
       "<p>5 rows × 92 columns</p>\n",
       "</div>"
      ],
      "text/plain": [
       "                         ProductID      ProductNo  \\\n",
       "QCDate     QCValidation                             \n",
       "1998-09-28 2.0              6347.0     MISA-192-1   \n",
       "1996-01-25 2.0              7147.0       QTR-001B   \n",
       "NaT        1.0             13794.0       CUS-6531   \n",
       "2019-10-31 1.0             75925.0  PST-5975K1000   \n",
       "2010-12-28 1.0             41748.0      CUS-11684   \n",
       "\n",
       "                                                               ProductName  \\\n",
       "QCDate     QCValidation                                                      \n",
       "1998-09-28 2.0                          Base/Neutral Extractables Standard   \n",
       "1996-01-25 2.0           Method 8270B Primary Calibration Standard Ampu...   \n",
       "NaT        1.0                                             Custom Standard   \n",
       "2019-10-31 1.0                                      Picoxystrobin Standard   \n",
       "2010-12-28 1.0                                             Custom Standard   \n",
       "\n",
       "                         LineID  \\\n",
       "QCDate     QCValidation           \n",
       "1998-09-28 2.0              1.0   \n",
       "1996-01-25 2.0              7.0   \n",
       "NaT        1.0              7.0   \n",
       "2019-10-31 1.0              7.0   \n",
       "2010-12-28 1.0              7.0   \n",
       "\n",
       "                                                               Description  \\\n",
       "QCDate     QCValidation                                                      \n",
       "1998-09-28 2.0           16 analytes @ 100 µg/mL in methylene chloride ...   \n",
       "1996-01-25 2.0                                                        None   \n",
       "NaT        1.0                                                        None   \n",
       "2019-10-31 1.0                                                        None   \n",
       "2010-12-28 1.0                                                        None   \n",
       "\n",
       "                        Specials OriginationDate  EntryDate  Status  \\\n",
       "QCDate     QCValidation                                               \n",
       "1998-09-28 2.0              None      1999-01-20 2011-05-09  active   \n",
       "1996-01-25 2.0              None      1996-01-23 2011-05-09  custom   \n",
       "NaT        1.0              None      2005-03-28 2005-03-28    None   \n",
       "2019-10-31 1.0           new pst      2014-09-15 2014-09-15    None   \n",
       "2010-12-28 1.0              None      2010-01-14 2011-05-09    None   \n",
       "\n",
       "                        MatrixNumber  ...  QCFullValidation FgInvCount  \\\n",
       "QCDate     QCValidation               ...                                \n",
       "1998-09-28 2.0               JHP-031  ...              True        NaN   \n",
       "1996-01-25 2.0               JHP-031  ...              True        NaN   \n",
       "NaT        1.0               JHP-303  ...             False        NaN   \n",
       "2019-10-31 1.0               JHP-001  ...             False       15.0   \n",
       "2010-12-28 1.0               JHP-021  ...             False        4.0   \n",
       "\n",
       "                                                              FgAccpacNote  \\\n",
       "QCDate     QCValidation                                                      \n",
       "1998-09-28 2.0                                                        None   \n",
       "1996-01-25 2.0                                                        None   \n",
       "NaT        1.0                                                        None   \n",
       "2019-10-31 1.0           Quarantine cp-3060z (22)  & cp-4041z (21) reta...   \n",
       "2010-12-28 1.0                                                        None   \n",
       "\n",
       "                        CofAHeaderNo QCChromatogram Correct  DoNotCorrect  \\\n",
       "QCDate     QCValidation                                                     \n",
       "1998-09-28 2.0                   2.0           None   False          True   \n",
       "1996-01-25 2.0                   2.0           None   False          True   \n",
       "NaT        1.0                   1.0           None   False         False   \n",
       "2019-10-31 1.0                   1.0           None   False         False   \n",
       "2010-12-28 1.0                   1.0           None   False          True   \n",
       "\n",
       "                        DensityUnit DensityTemp recipeid  \n",
       "QCDate     QCValidation                                   \n",
       "1998-09-28 2.0                 None        None     None  \n",
       "1996-01-25 2.0                 None        None     None  \n",
       "NaT        1.0                 None        None     None  \n",
       "2019-10-31 1.0                 None        None     None  \n",
       "2010-12-28 1.0                 None        None     None  \n",
       "\n",
       "[5 rows x 92 columns]"
      ]
     },
     "execution_count": 34,
     "metadata": {},
     "output_type": "execute_result"
    }
   ],
   "source": [
    "# SET ['QCDate'] & ['QCValidation'] as the INDEX and delete COLUMNS\n",
    "# [2020-02-24]\\\\TEST_METRICS.set_index([TEST_METRICS['QCDate'], TEST_METRICS['QCValidation']])\n",
    "TEST_METRICS.index = [TEST_METRICS['QCDate'], TEST_METRICS['QCValidation']]\n",
    "del TEST_METRICS['QCDate'], TEST_METRICS['QCValidation']\n",
    "TEST_METRICS.sample(5)"
   ]
  },
  {
   "cell_type": "raw",
   "metadata": {},
   "source": [
    "TEST_METRICS.index =  = df_QCMetrics.reindex(['QCDate', 'QCValidation'], inplace=False)"
   ]
  },
  {
   "cell_type": "code",
   "execution_count": 35,
   "metadata": {
    "ExecuteTime": {
     "end_time": "2020-02-25T21:02:47.974815Z",
     "start_time": "2020-02-25T21:02:47.408808Z"
    }
   },
   "outputs": [
    {
     "data": {
      "text/plain": [
       "(1987-01-01 00:00:00, 1.0)     2\n",
       "(1989-01-01 00:00:00, 1.0)     1\n",
       "(1991-01-01 00:00:00, 1.0)     1\n",
       "(1991-01-01 00:00:00, 2.0)     3\n",
       "(1992-01-01 00:00:00, 1.0)     1\n",
       "                              ..\n",
       "(NaT, 0.0)                     2\n",
       "(2020-02-13 00:00:00, 1.0)    33\n",
       "(2020-02-13 00:00:00, 3.0)     1\n",
       "(2020-02-14 00:00:00, 1.0)     4\n",
       "(NaT, nan)                     1\n",
       "Name: PfBatchID, Length: 11040, dtype: int64"
      ]
     },
     "execution_count": 35,
     "metadata": {},
     "output_type": "execute_result"
    }
   ],
   "source": [
    "TEST_METRICS.groupby(TEST_METRICS.index)['PfBatchID'].count()"
   ]
  },
  {
   "cell_type": "code",
   "execution_count": 36,
   "metadata": {
    "ExecuteTime": {
     "end_time": "2020-02-25T21:02:48.750825Z",
     "start_time": "2020-02-25T21:02:47.976815Z"
    }
   },
   "outputs": [
    {
     "name": "stdout",
     "output_type": "stream",
     "text": [
      "FAIL!\n",
      "\n",
      "TypeError:\n",
      "\tOnly valid with:\n",
      "\t\tDatetimeIndex,\n",
      "\t\tTimedeltaIndex,\n",
      "\t\tPeriodIndex;\n",
      "\t\t\tbut got an instance of 'MultiIndex'\n"
     ]
    }
   ],
   "source": [
    "try: # {\n",
    "    TEST_METRICS.resample(\"D\").count()\n",
    "# }\n",
    "except: # {\n",
    "    print(\"FAIL!\\n\\nTypeError:\\n\\tOnly valid with:\\n\\t\\tDatetimeIndex,\\n\\t\\tTimedeltaIndex,\\n\\t\\tPeriodIndex;\\n\\t\\t\\tbut got an instance of 'MultiIndex'\")\n",
    "# }"
   ]
  },
  {
   "cell_type": "code",
   "execution_count": 37,
   "metadata": {
    "ExecuteTime": {
     "end_time": "2020-02-25T21:02:58.357459Z",
     "start_time": "2020-02-25T21:02:48.752825Z"
    }
   },
   "outputs": [],
   "source": [
    "TEST_METRICS.to_csv(\"test_METRICS_index.csv\", index=True)"
   ]
  },
  {
   "cell_type": "markdown",
   "metadata": {},
   "source": [
    "---\n",
    "# CHANGE `index` of `df_QCMetrics`:"
   ]
  },
  {
   "cell_type": "markdown",
   "metadata": {},
   "source": [
    "---\n",
    "## *BEFORE setting `index`:*"
   ]
  },
  {
   "cell_type": "code",
   "execution_count": 38,
   "metadata": {
    "ExecuteTime": {
     "end_time": "2020-02-25T21:02:58.402458Z",
     "start_time": "2020-02-25T21:02:58.359461Z"
    }
   },
   "outputs": [
    {
     "data": {
      "text/html": [
       "<div>\n",
       "<style scoped>\n",
       "    .dataframe tbody tr th:only-of-type {\n",
       "        vertical-align: middle;\n",
       "    }\n",
       "\n",
       "    .dataframe tbody tr th {\n",
       "        vertical-align: top;\n",
       "    }\n",
       "\n",
       "    .dataframe thead th {\n",
       "        text-align: right;\n",
       "    }\n",
       "</style>\n",
       "<table border=\"1\" class=\"dataframe\">\n",
       "  <thead>\n",
       "    <tr style=\"text-align: right;\">\n",
       "      <th></th>\n",
       "      <th>ProductID</th>\n",
       "      <th>ProductNo</th>\n",
       "      <th>ProductName</th>\n",
       "      <th>LineID</th>\n",
       "      <th>Description</th>\n",
       "      <th>Specials</th>\n",
       "      <th>OriginationDate</th>\n",
       "      <th>EntryDate</th>\n",
       "      <th>Status</th>\n",
       "      <th>MatrixNumber</th>\n",
       "      <th>...</th>\n",
       "      <th>QCValidation</th>\n",
       "      <th>FgInvCount</th>\n",
       "      <th>FgAccpacNote</th>\n",
       "      <th>CofAHeaderNo</th>\n",
       "      <th>QCChromatogram</th>\n",
       "      <th>Correct</th>\n",
       "      <th>DoNotCorrect</th>\n",
       "      <th>DensityUnit</th>\n",
       "      <th>DensityTemp</th>\n",
       "      <th>recipeid</th>\n",
       "    </tr>\n",
       "  </thead>\n",
       "  <tbody>\n",
       "    <tr>\n",
       "      <td>52276</td>\n",
       "      <td>88315.0</td>\n",
       "      <td>DWM-591-1</td>\n",
       "      <td>Promulgated VOC Standard</td>\n",
       "      <td>7.0</td>\n",
       "      <td>None</td>\n",
       "      <td>None</td>\n",
       "      <td>2016-05-25</td>\n",
       "      <td>2016-05-25</td>\n",
       "      <td>None</td>\n",
       "      <td>JHP-021</td>\n",
       "      <td>...</td>\n",
       "      <td>2.0</td>\n",
       "      <td>60.0</td>\n",
       "      <td>zero out cc-0603a (60) stability</td>\n",
       "      <td>2.0</td>\n",
       "      <td>None</td>\n",
       "      <td>False</td>\n",
       "      <td>True</td>\n",
       "      <td>None</td>\n",
       "      <td>None</td>\n",
       "      <td>None</td>\n",
       "    </tr>\n",
       "    <tr>\n",
       "      <td>67845</td>\n",
       "      <td>6392.0</td>\n",
       "      <td>NPM-525C-1</td>\n",
       "      <td>Nitrogen/Phosphorous Pesticide Standard</td>\n",
       "      <td>1.0</td>\n",
       "      <td>40 analytes @ 100 µg/mL in acetone</td>\n",
       "      <td>None</td>\n",
       "      <td>1999-01-20</td>\n",
       "      <td>2011-05-09</td>\n",
       "      <td>active</td>\n",
       "      <td>JHP-001</td>\n",
       "      <td>...</td>\n",
       "      <td>2.0</td>\n",
       "      <td>67.0</td>\n",
       "      <td>None</td>\n",
       "      <td>2.0</td>\n",
       "      <td>None</td>\n",
       "      <td>False</td>\n",
       "      <td>False</td>\n",
       "      <td>None</td>\n",
       "      <td>None</td>\n",
       "      <td>None</td>\n",
       "    </tr>\n",
       "    <tr>\n",
       "      <td>6069</td>\n",
       "      <td>5524.0</td>\n",
       "      <td>8500-6917-5</td>\n",
       "      <td>Caffeine Standard #5 (50 µg/mL)</td>\n",
       "      <td>7.0</td>\n",
       "      <td>None</td>\n",
       "      <td>agilent</td>\n",
       "      <td>1997-03-07</td>\n",
       "      <td>2004-03-30</td>\n",
       "      <td>oem</td>\n",
       "      <td>JHP-040</td>\n",
       "      <td>...</td>\n",
       "      <td>2.0</td>\n",
       "      <td>NaN</td>\n",
       "      <td>None</td>\n",
       "      <td>2.0</td>\n",
       "      <td>None</td>\n",
       "      <td>False</td>\n",
       "      <td>True</td>\n",
       "      <td>None</td>\n",
       "      <td>None</td>\n",
       "      <td>None</td>\n",
       "    </tr>\n",
       "    <tr>\n",
       "      <td>1322</td>\n",
       "      <td>69576.0</td>\n",
       "      <td>393734801-1</td>\n",
       "      <td>PPG Tuning Solution</td>\n",
       "      <td>7.0</td>\n",
       "      <td>None</td>\n",
       "      <td>None</td>\n",
       "      <td>2014-01-31</td>\n",
       "      <td>2014-01-31</td>\n",
       "      <td>None</td>\n",
       "      <td>JHP-027</td>\n",
       "      <td>...</td>\n",
       "      <td>2.0</td>\n",
       "      <td>141.0</td>\n",
       "      <td>None</td>\n",
       "      <td>2.0</td>\n",
       "      <td>None</td>\n",
       "      <td>False</td>\n",
       "      <td>False</td>\n",
       "      <td>None</td>\n",
       "      <td>None</td>\n",
       "      <td>None</td>\n",
       "    </tr>\n",
       "    <tr>\n",
       "      <td>32134</td>\n",
       "      <td>936.0</td>\n",
       "      <td>CUS-2693</td>\n",
       "      <td>Custom Standard</td>\n",
       "      <td>7.0</td>\n",
       "      <td>None</td>\n",
       "      <td>None</td>\n",
       "      <td>2003-02-06</td>\n",
       "      <td>2003-02-06</td>\n",
       "      <td>None</td>\n",
       "      <td>JHP-026</td>\n",
       "      <td>...</td>\n",
       "      <td>1.0</td>\n",
       "      <td>33.0</td>\n",
       "      <td>None</td>\n",
       "      <td>1.0</td>\n",
       "      <td>None</td>\n",
       "      <td>False</td>\n",
       "      <td>False</td>\n",
       "      <td>None</td>\n",
       "      <td>None</td>\n",
       "      <td>None</td>\n",
       "    </tr>\n",
       "  </tbody>\n",
       "</table>\n",
       "<p>5 rows × 94 columns</p>\n",
       "</div>"
      ],
      "text/plain": [
       "       ProductID    ProductNo                              ProductName  \\\n",
       "52276    88315.0    DWM-591-1                 Promulgated VOC Standard   \n",
       "67845     6392.0   NPM-525C-1  Nitrogen/Phosphorous Pesticide Standard   \n",
       "6069      5524.0  8500-6917-5          Caffeine Standard #5 (50 µg/mL)   \n",
       "1322     69576.0  393734801-1                      PPG Tuning Solution   \n",
       "32134      936.0     CUS-2693                          Custom Standard   \n",
       "\n",
       "       LineID                         Description Specials OriginationDate  \\\n",
       "52276     7.0                                None     None      2016-05-25   \n",
       "67845     1.0  40 analytes @ 100 µg/mL in acetone     None      1999-01-20   \n",
       "6069      7.0                                None  agilent      1997-03-07   \n",
       "1322      7.0                                None     None      2014-01-31   \n",
       "32134     7.0                                None     None      2003-02-06   \n",
       "\n",
       "       EntryDate  Status MatrixNumber  ...  QCValidation FgInvCount  \\\n",
       "52276 2016-05-25    None      JHP-021  ...           2.0       60.0   \n",
       "67845 2011-05-09  active      JHP-001  ...           2.0       67.0   \n",
       "6069  2004-03-30     oem      JHP-040  ...           2.0        NaN   \n",
       "1322  2014-01-31    None      JHP-027  ...           2.0      141.0   \n",
       "32134 2003-02-06    None      JHP-026  ...           1.0       33.0   \n",
       "\n",
       "                           FgAccpacNote CofAHeaderNo QCChromatogram Correct  \\\n",
       "52276  zero out cc-0603a (60) stability          2.0           None   False   \n",
       "67845                              None          2.0           None   False   \n",
       "6069                               None          2.0           None   False   \n",
       "1322                               None          2.0           None   False   \n",
       "32134                              None          1.0           None   False   \n",
       "\n",
       "       DoNotCorrect DensityUnit DensityTemp recipeid  \n",
       "52276          True        None        None     None  \n",
       "67845         False        None        None     None  \n",
       "6069           True        None        None     None  \n",
       "1322          False        None        None     None  \n",
       "32134         False        None        None     None  \n",
       "\n",
       "[5 rows x 94 columns]"
      ]
     },
     "execution_count": 38,
     "metadata": {},
     "output_type": "execute_result"
    }
   ],
   "source": [
    "df_QCMetrics.sample(5)"
   ]
  },
  {
   "cell_type": "markdown",
   "metadata": {},
   "source": [
    "### Convert `QCMetrics`['QCDate'] from `str` to `datetime`"
   ]
  },
  {
   "cell_type": "code",
   "execution_count": 39,
   "metadata": {
    "ExecuteTime": {
     "end_time": "2020-02-25T21:02:58.411460Z",
     "start_time": "2020-02-25T21:02:58.404460Z"
    }
   },
   "outputs": [],
   "source": [
    "# Convert \"QCMetrics\"['QCDate'] from string to datetime\n",
    "df_QCMetrics['QCDate'] = pd.to_datetime(df_QCMetrics['QCDate'])"
   ]
  },
  {
   "cell_type": "markdown",
   "metadata": {},
   "source": [
    "### set `index` of `df_QCMetrics` to be `QCDate` (after changing `dtype`)"
   ]
  },
  {
   "cell_type": "code",
   "execution_count": 40,
   "metadata": {
    "ExecuteTime": {
     "end_time": "2020-02-25T21:02:58.424457Z",
     "start_time": "2020-02-25T21:02:58.414459Z"
    }
   },
   "outputs": [],
   "source": [
    "# set \"QCmetrics\"\"['QCDate'] as the index and delete column\n",
    "df_QCMetrics.index = df_QCMetrics['QCDate']\n",
    "del df_QCMetrics['QCDate']"
   ]
  },
  {
   "cell_type": "raw",
   "metadata": {
    "raw_mimetype": "text/x-python"
   },
   "source": [
    "df_QCMetrics.dropna(axis=\"columns\", subset=df_QCMetrics.index, how='any', inplace=True)\n",
    "len(df_QCMetrics)"
   ]
  },
  {
   "cell_type": "markdown",
   "metadata": {},
   "source": [
    "---\n",
    "## *AFTER setting `index`:*"
   ]
  },
  {
   "cell_type": "code",
   "execution_count": 41,
   "metadata": {
    "ExecuteTime": {
     "end_time": "2020-02-25T21:02:58.473459Z",
     "start_time": "2020-02-25T21:02:58.426457Z"
    }
   },
   "outputs": [
    {
     "data": {
      "text/html": [
       "<div>\n",
       "<style scoped>\n",
       "    .dataframe tbody tr th:only-of-type {\n",
       "        vertical-align: middle;\n",
       "    }\n",
       "\n",
       "    .dataframe tbody tr th {\n",
       "        vertical-align: top;\n",
       "    }\n",
       "\n",
       "    .dataframe thead th {\n",
       "        text-align: right;\n",
       "    }\n",
       "</style>\n",
       "<table border=\"1\" class=\"dataframe\">\n",
       "  <thead>\n",
       "    <tr style=\"text-align: right;\">\n",
       "      <th></th>\n",
       "      <th>ProductID</th>\n",
       "      <th>ProductNo</th>\n",
       "      <th>ProductName</th>\n",
       "      <th>LineID</th>\n",
       "      <th>Description</th>\n",
       "      <th>Specials</th>\n",
       "      <th>OriginationDate</th>\n",
       "      <th>EntryDate</th>\n",
       "      <th>Status</th>\n",
       "      <th>MatrixNumber</th>\n",
       "      <th>...</th>\n",
       "      <th>QCValidation</th>\n",
       "      <th>FgInvCount</th>\n",
       "      <th>FgAccpacNote</th>\n",
       "      <th>CofAHeaderNo</th>\n",
       "      <th>QCChromatogram</th>\n",
       "      <th>Correct</th>\n",
       "      <th>DoNotCorrect</th>\n",
       "      <th>DensityUnit</th>\n",
       "      <th>DensityTemp</th>\n",
       "      <th>recipeid</th>\n",
       "    </tr>\n",
       "    <tr>\n",
       "      <th>QCDate</th>\n",
       "      <th></th>\n",
       "      <th></th>\n",
       "      <th></th>\n",
       "      <th></th>\n",
       "      <th></th>\n",
       "      <th></th>\n",
       "      <th></th>\n",
       "      <th></th>\n",
       "      <th></th>\n",
       "      <th></th>\n",
       "      <th></th>\n",
       "      <th></th>\n",
       "      <th></th>\n",
       "      <th></th>\n",
       "      <th></th>\n",
       "      <th></th>\n",
       "      <th></th>\n",
       "      <th></th>\n",
       "      <th></th>\n",
       "      <th></th>\n",
       "      <th></th>\n",
       "    </tr>\n",
       "  </thead>\n",
       "  <tbody>\n",
       "    <tr>\n",
       "      <td>2013-07-01</td>\n",
       "      <td>65470.0</td>\n",
       "      <td>CUS-14843</td>\n",
       "      <td>Custom Standard</td>\n",
       "      <td>7.0</td>\n",
       "      <td>None</td>\n",
       "      <td>None</td>\n",
       "      <td>2013-06-13</td>\n",
       "      <td>2013-06-13</td>\n",
       "      <td>None</td>\n",
       "      <td>JHP-040</td>\n",
       "      <td>...</td>\n",
       "      <td>1.0</td>\n",
       "      <td>30.0</td>\n",
       "      <td>None</td>\n",
       "      <td>1.0</td>\n",
       "      <td>None</td>\n",
       "      <td>False</td>\n",
       "      <td>False</td>\n",
       "      <td>None</td>\n",
       "      <td>None</td>\n",
       "      <td>None</td>\n",
       "    </tr>\n",
       "    <tr>\n",
       "      <td>2014-12-02</td>\n",
       "      <td>77399.0</td>\n",
       "      <td>RBF-001M1000</td>\n",
       "      <td>Bromobenzene Standard</td>\n",
       "      <td>1.0</td>\n",
       "      <td>1 analyte at 1,000 µg/mL in methanol</td>\n",
       "      <td>Cornell</td>\n",
       "      <td>2014-11-24</td>\n",
       "      <td>2014-11-24</td>\n",
       "      <td>active</td>\n",
       "      <td>JHP-021</td>\n",
       "      <td>...</td>\n",
       "      <td>2.0</td>\n",
       "      <td>12.0</td>\n",
       "      <td>None</td>\n",
       "      <td>2.0</td>\n",
       "      <td>None</td>\n",
       "      <td>False</td>\n",
       "      <td>False</td>\n",
       "      <td>None</td>\n",
       "      <td>None</td>\n",
       "      <td>None</td>\n",
       "    </tr>\n",
       "    <tr>\n",
       "      <td>2001-03-01</td>\n",
       "      <td>22320.0</td>\n",
       "      <td>CUS-912</td>\n",
       "      <td>Custom Standard</td>\n",
       "      <td>7.0</td>\n",
       "      <td>None</td>\n",
       "      <td>None</td>\n",
       "      <td>2006-11-07</td>\n",
       "      <td>2011-05-09</td>\n",
       "      <td>None</td>\n",
       "      <td>JHP-014</td>\n",
       "      <td>...</td>\n",
       "      <td>1.0</td>\n",
       "      <td>NaN</td>\n",
       "      <td>None</td>\n",
       "      <td>1.0</td>\n",
       "      <td>None</td>\n",
       "      <td>False</td>\n",
       "      <td>True</td>\n",
       "      <td>None</td>\n",
       "      <td>None</td>\n",
       "      <td>None</td>\n",
       "    </tr>\n",
       "    <tr>\n",
       "      <td>2005-04-07</td>\n",
       "      <td>13797.0</td>\n",
       "      <td>CUS-6505</td>\n",
       "      <td>Custom Standard</td>\n",
       "      <td>7.0</td>\n",
       "      <td>None</td>\n",
       "      <td>None</td>\n",
       "      <td>2005-03-29</td>\n",
       "      <td>2005-03-29</td>\n",
       "      <td>None</td>\n",
       "      <td>JHP-079</td>\n",
       "      <td>...</td>\n",
       "      <td>1.0</td>\n",
       "      <td>19.0</td>\n",
       "      <td>None</td>\n",
       "      <td>1.0</td>\n",
       "      <td>None</td>\n",
       "      <td>False</td>\n",
       "      <td>True</td>\n",
       "      <td>None</td>\n",
       "      <td>None</td>\n",
       "      <td>None</td>\n",
       "    </tr>\n",
       "    <tr>\n",
       "      <td>2017-01-16</td>\n",
       "      <td>93855.0</td>\n",
       "      <td>STK-03017</td>\n",
       "      <td>CUS-23096 Partial C 1000 µg/mL in Acetonitrile...</td>\n",
       "      <td>16.0</td>\n",
       "      <td>None</td>\n",
       "      <td>None</td>\n",
       "      <td>2017-01-13</td>\n",
       "      <td>2017-01-13</td>\n",
       "      <td>None</td>\n",
       "      <td>JHP-003</td>\n",
       "      <td>...</td>\n",
       "      <td>1.0</td>\n",
       "      <td>NaN</td>\n",
       "      <td>None</td>\n",
       "      <td>14.0</td>\n",
       "      <td>None</td>\n",
       "      <td>True</td>\n",
       "      <td>False</td>\n",
       "      <td>None</td>\n",
       "      <td>None</td>\n",
       "      <td>None</td>\n",
       "    </tr>\n",
       "  </tbody>\n",
       "</table>\n",
       "<p>5 rows × 93 columns</p>\n",
       "</div>"
      ],
      "text/plain": [
       "            ProductID     ProductNo  \\\n",
       "QCDate                                \n",
       "2013-07-01    65470.0     CUS-14843   \n",
       "2014-12-02    77399.0  RBF-001M1000   \n",
       "2001-03-01    22320.0       CUS-912   \n",
       "2005-04-07    13797.0      CUS-6505   \n",
       "2017-01-16    93855.0     STK-03017   \n",
       "\n",
       "                                                  ProductName  LineID  \\\n",
       "QCDate                                                                  \n",
       "2013-07-01                                    Custom Standard     7.0   \n",
       "2014-12-02                              Bromobenzene Standard     1.0   \n",
       "2001-03-01                                    Custom Standard     7.0   \n",
       "2005-04-07                                    Custom Standard     7.0   \n",
       "2017-01-16  CUS-23096 Partial C 1000 µg/mL in Acetonitrile...    16.0   \n",
       "\n",
       "                                     Description Specials OriginationDate  \\\n",
       "QCDate                                                                      \n",
       "2013-07-01                                  None     None      2013-06-13   \n",
       "2014-12-02  1 analyte at 1,000 µg/mL in methanol  Cornell      2014-11-24   \n",
       "2001-03-01                                  None     None      2006-11-07   \n",
       "2005-04-07                                  None     None      2005-03-29   \n",
       "2017-01-16                                  None     None      2017-01-13   \n",
       "\n",
       "            EntryDate  Status MatrixNumber  ...  QCValidation FgInvCount  \\\n",
       "QCDate                                      ...                            \n",
       "2013-07-01 2013-06-13    None      JHP-040  ...           1.0       30.0   \n",
       "2014-12-02 2014-11-24  active      JHP-021  ...           2.0       12.0   \n",
       "2001-03-01 2011-05-09    None      JHP-014  ...           1.0        NaN   \n",
       "2005-04-07 2005-03-29    None      JHP-079  ...           1.0       19.0   \n",
       "2017-01-16 2017-01-13    None      JHP-003  ...           1.0        NaN   \n",
       "\n",
       "           FgAccpacNote CofAHeaderNo QCChromatogram Correct  DoNotCorrect  \\\n",
       "QCDate                                                                      \n",
       "2013-07-01         None          1.0           None   False         False   \n",
       "2014-12-02         None          2.0           None   False         False   \n",
       "2001-03-01         None          1.0           None   False          True   \n",
       "2005-04-07         None          1.0           None   False          True   \n",
       "2017-01-16         None         14.0           None    True         False   \n",
       "\n",
       "           DensityUnit DensityTemp recipeid  \n",
       "QCDate                                       \n",
       "2013-07-01        None        None     None  \n",
       "2014-12-02        None        None     None  \n",
       "2001-03-01        None        None     None  \n",
       "2005-04-07        None        None     None  \n",
       "2017-01-16        None        None     None  \n",
       "\n",
       "[5 rows x 93 columns]"
      ]
     },
     "execution_count": 41,
     "metadata": {},
     "output_type": "execute_result"
    }
   ],
   "source": [
    "df_QCMetrics.sample(5)"
   ]
  },
  {
   "cell_type": "raw",
   "metadata": {},
   "source": [
    "---\n",
    "## `resample` dataframe with *QCDate* as `index`:"
   ]
  },
  {
   "cell_type": "raw",
   "metadata": {
    "ExecuteTime": {
     "end_time": "2020-02-24T21:50:25.726189Z",
     "start_time": "2020-02-24T21:50:25.713149Z"
    }
   },
   "source": [
    "metrics_month = df_QCMetrics[str(td_one_month_ago):str(test_date)]"
   ]
  },
  {
   "cell_type": "raw",
   "metadata": {},
   "source": [
    "### `groupBy` the `resample`?"
   ]
  },
  {
   "cell_type": "raw",
   "metadata": {
    "raw_mimetype": "text/x-python"
   },
   "source": [
    "merged = pd.concat([df_QCMetrics, df_month_range], join='inner')"
   ]
  },
  {
   "cell_type": "raw",
   "metadata": {
    "raw_mimetype": "text/x-python"
   },
   "source": [
    "merged"
   ]
  },
  {
   "cell_type": "raw",
   "metadata": {
    "raw_mimetype": "text/x-python"
   },
   "source": [
    "merged = df_QCMetrics.join(df_month_range, on = ['QCDate'], how='right', lsuffix='_x')"
   ]
  },
  {
   "cell_type": "markdown",
   "metadata": {},
   "source": [
    "---\n",
    "# create `df_last_month` DataFrame"
   ]
  },
  {
   "cell_type": "markdown",
   "metadata": {},
   "source": [
    "---\n",
    "### View Observations between One Month Ago and Today"
   ]
  },
  {
   "cell_type": "code",
   "execution_count": 42,
   "metadata": {
    "ExecuteTime": {
     "end_time": "2020-02-25T21:02:58.497460Z",
     "start_time": "2020-02-25T21:02:58.476461Z"
    }
   },
   "outputs": [
    {
     "data": {
      "text/plain": [
       "585"
      ]
     },
     "execution_count": 42,
     "metadata": {},
     "output_type": "execute_result"
    }
   ],
   "source": [
    "df_last_month = df_QCMetrics[str(one_month_ago):str(test_date)]\n",
    "len(df_last_month)\n",
    "# [2020-02-22]\\\\df_last_month.to_csv(\"last_month.csv\", index=True)"
   ]
  },
  {
   "cell_type": "code",
   "execution_count": 43,
   "metadata": {
    "ExecuteTime": {
     "end_time": "2020-02-25T21:02:58.546460Z",
     "start_time": "2020-02-25T21:02:58.501461Z"
    }
   },
   "outputs": [
    {
     "data": {
      "text/html": [
       "<div>\n",
       "<style scoped>\n",
       "    .dataframe tbody tr th:only-of-type {\n",
       "        vertical-align: middle;\n",
       "    }\n",
       "\n",
       "    .dataframe tbody tr th {\n",
       "        vertical-align: top;\n",
       "    }\n",
       "\n",
       "    .dataframe thead th {\n",
       "        text-align: right;\n",
       "    }\n",
       "</style>\n",
       "<table border=\"1\" class=\"dataframe\">\n",
       "  <thead>\n",
       "    <tr style=\"text-align: right;\">\n",
       "      <th></th>\n",
       "      <th>ProductID</th>\n",
       "      <th>ProductNo</th>\n",
       "      <th>ProductName</th>\n",
       "      <th>LineID</th>\n",
       "      <th>Description</th>\n",
       "      <th>Specials</th>\n",
       "      <th>OriginationDate</th>\n",
       "      <th>EntryDate</th>\n",
       "      <th>Status</th>\n",
       "      <th>MatrixNumber</th>\n",
       "      <th>...</th>\n",
       "      <th>QCValidation</th>\n",
       "      <th>FgInvCount</th>\n",
       "      <th>FgAccpacNote</th>\n",
       "      <th>CofAHeaderNo</th>\n",
       "      <th>QCChromatogram</th>\n",
       "      <th>Correct</th>\n",
       "      <th>DoNotCorrect</th>\n",
       "      <th>DensityUnit</th>\n",
       "      <th>DensityTemp</th>\n",
       "      <th>recipeid</th>\n",
       "    </tr>\n",
       "    <tr>\n",
       "      <th>QCDate</th>\n",
       "      <th></th>\n",
       "      <th></th>\n",
       "      <th></th>\n",
       "      <th></th>\n",
       "      <th></th>\n",
       "      <th></th>\n",
       "      <th></th>\n",
       "      <th></th>\n",
       "      <th></th>\n",
       "      <th></th>\n",
       "      <th></th>\n",
       "      <th></th>\n",
       "      <th></th>\n",
       "      <th></th>\n",
       "      <th></th>\n",
       "      <th></th>\n",
       "      <th></th>\n",
       "      <th></th>\n",
       "      <th></th>\n",
       "      <th></th>\n",
       "      <th></th>\n",
       "    </tr>\n",
       "  </thead>\n",
       "  <tbody>\n",
       "    <tr>\n",
       "      <td>2020-01-16</td>\n",
       "      <td>70647.0</td>\n",
       "      <td>TFP-07-1</td>\n",
       "      <td>GB/T 23211 Standard no. 7</td>\n",
       "      <td>7.0</td>\n",
       "      <td>None</td>\n",
       "      <td>BID 140006</td>\n",
       "      <td>2014-02-20</td>\n",
       "      <td>2014-02-20</td>\n",
       "      <td>None</td>\n",
       "      <td>JHP-003</td>\n",
       "      <td>...</td>\n",
       "      <td>1.0</td>\n",
       "      <td>25.0</td>\n",
       "      <td>back up</td>\n",
       "      <td>1.0</td>\n",
       "      <td>None</td>\n",
       "      <td>False</td>\n",
       "      <td>False</td>\n",
       "      <td>None</td>\n",
       "      <td>None</td>\n",
       "      <td>None</td>\n",
       "    </tr>\n",
       "    <tr>\n",
       "      <td>2020-01-29</td>\n",
       "      <td>113026.0</td>\n",
       "      <td>STK-03762</td>\n",
       "      <td>5190-0494 100 µg/mL in Acetone Stock</td>\n",
       "      <td>16.0</td>\n",
       "      <td>None</td>\n",
       "      <td>None</td>\n",
       "      <td>2019-11-14</td>\n",
       "      <td>2019-11-14</td>\n",
       "      <td>None</td>\n",
       "      <td>JHP-001</td>\n",
       "      <td>...</td>\n",
       "      <td>1.0</td>\n",
       "      <td>NaN</td>\n",
       "      <td>no action</td>\n",
       "      <td>14.0</td>\n",
       "      <td>None</td>\n",
       "      <td>True</td>\n",
       "      <td>False</td>\n",
       "      <td>None</td>\n",
       "      <td>None</td>\n",
       "      <td>None</td>\n",
       "    </tr>\n",
       "    <tr>\n",
       "      <td>2020-02-13</td>\n",
       "      <td>41645.0</td>\n",
       "      <td>5190-0488-3</td>\n",
       "      <td>Enterprise Caffeine Standard - Cal #3 (2 µg/mL)</td>\n",
       "      <td>7.0</td>\n",
       "      <td>None</td>\n",
       "      <td>Agilent Technologies</td>\n",
       "      <td>2010-01-07</td>\n",
       "      <td>2010-01-07</td>\n",
       "      <td>None</td>\n",
       "      <td>JHP-040</td>\n",
       "      <td>...</td>\n",
       "      <td>1.0</td>\n",
       "      <td>8028.0</td>\n",
       "      <td>None</td>\n",
       "      <td>1.0</td>\n",
       "      <td>None</td>\n",
       "      <td>False</td>\n",
       "      <td>False</td>\n",
       "      <td>None</td>\n",
       "      <td>None</td>\n",
       "      <td>None</td>\n",
       "    </tr>\n",
       "    <tr>\n",
       "      <td>2020-01-24</td>\n",
       "      <td>38873.0</td>\n",
       "      <td>ICUS-2679</td>\n",
       "      <td>Custom Standard</td>\n",
       "      <td>8.0</td>\n",
       "      <td>None</td>\n",
       "      <td>None</td>\n",
       "      <td>2009-07-22</td>\n",
       "      <td>2009-07-22</td>\n",
       "      <td>None</td>\n",
       "      <td>JHP-040</td>\n",
       "      <td>...</td>\n",
       "      <td>2.0</td>\n",
       "      <td>5.0</td>\n",
       "      <td>None</td>\n",
       "      <td>2.0</td>\n",
       "      <td>None</td>\n",
       "      <td>False</td>\n",
       "      <td>False</td>\n",
       "      <td>None</td>\n",
       "      <td>None</td>\n",
       "      <td>None</td>\n",
       "    </tr>\n",
       "    <tr>\n",
       "      <td>2020-01-29</td>\n",
       "      <td>96569.0</td>\n",
       "      <td>CUS-24616</td>\n",
       "      <td>Custom Standard</td>\n",
       "      <td>7.0</td>\n",
       "      <td>None</td>\n",
       "      <td>None</td>\n",
       "      <td>2017-05-03</td>\n",
       "      <td>2017-05-03</td>\n",
       "      <td>None</td>\n",
       "      <td>JHP-234</td>\n",
       "      <td>...</td>\n",
       "      <td>1.0</td>\n",
       "      <td>5.0</td>\n",
       "      <td>None</td>\n",
       "      <td>1.0</td>\n",
       "      <td>None</td>\n",
       "      <td>False</td>\n",
       "      <td>False</td>\n",
       "      <td>None</td>\n",
       "      <td>None</td>\n",
       "      <td>None</td>\n",
       "    </tr>\n",
       "  </tbody>\n",
       "</table>\n",
       "<p>5 rows × 93 columns</p>\n",
       "</div>"
      ],
      "text/plain": [
       "            ProductID    ProductNo  \\\n",
       "QCDate                               \n",
       "2020-01-16    70647.0     TFP-07-1   \n",
       "2020-01-29   113026.0    STK-03762   \n",
       "2020-02-13    41645.0  5190-0488-3   \n",
       "2020-01-24    38873.0    ICUS-2679   \n",
       "2020-01-29    96569.0    CUS-24616   \n",
       "\n",
       "                                                ProductName  LineID  \\\n",
       "QCDate                                                                \n",
       "2020-01-16                        GB/T 23211 Standard no. 7     7.0   \n",
       "2020-01-29             5190-0494 100 µg/mL in Acetone Stock    16.0   \n",
       "2020-02-13  Enterprise Caffeine Standard - Cal #3 (2 µg/mL)     7.0   \n",
       "2020-01-24                                  Custom Standard     8.0   \n",
       "2020-01-29                                  Custom Standard     7.0   \n",
       "\n",
       "           Description              Specials OriginationDate  EntryDate  \\\n",
       "QCDate                                                                    \n",
       "2020-01-16        None            BID 140006      2014-02-20 2014-02-20   \n",
       "2020-01-29        None                  None      2019-11-14 2019-11-14   \n",
       "2020-02-13        None  Agilent Technologies      2010-01-07 2010-01-07   \n",
       "2020-01-24        None                  None      2009-07-22 2009-07-22   \n",
       "2020-01-29        None                  None      2017-05-03 2017-05-03   \n",
       "\n",
       "           Status MatrixNumber  ...  QCValidation FgInvCount FgAccpacNote  \\\n",
       "QCDate                          ...                                         \n",
       "2020-01-16   None      JHP-003  ...           1.0       25.0      back up   \n",
       "2020-01-29   None      JHP-001  ...           1.0        NaN    no action   \n",
       "2020-02-13   None      JHP-040  ...           1.0     8028.0         None   \n",
       "2020-01-24   None      JHP-040  ...           2.0        5.0         None   \n",
       "2020-01-29   None      JHP-234  ...           1.0        5.0         None   \n",
       "\n",
       "           CofAHeaderNo QCChromatogram Correct  DoNotCorrect DensityUnit  \\\n",
       "QCDate                                                                     \n",
       "2020-01-16          1.0           None   False         False        None   \n",
       "2020-01-29         14.0           None    True         False        None   \n",
       "2020-02-13          1.0           None   False         False        None   \n",
       "2020-01-24          2.0           None   False         False        None   \n",
       "2020-01-29          1.0           None   False         False        None   \n",
       "\n",
       "           DensityTemp recipeid  \n",
       "QCDate                           \n",
       "2020-01-16        None     None  \n",
       "2020-01-29        None     None  \n",
       "2020-02-13        None     None  \n",
       "2020-01-24        None     None  \n",
       "2020-01-29        None     None  \n",
       "\n",
       "[5 rows x 93 columns]"
      ]
     },
     "execution_count": 43,
     "metadata": {},
     "output_type": "execute_result"
    }
   ],
   "source": [
    "df_last_month.sample(5)"
   ]
  },
  {
   "cell_type": "code",
   "execution_count": 44,
   "metadata": {
    "ExecuteTime": {
     "end_time": "2020-02-25T21:02:58.555461Z",
     "start_time": "2020-02-25T21:02:58.549459Z"
    }
   },
   "outputs": [
    {
     "data": {
      "text/plain": [
       "DatetimeIndex(['2020-01-28', '2020-02-07', '2020-01-30', '2020-01-30',\n",
       "               '2020-02-05', '2020-01-16', '2020-01-15', '2020-02-13',\n",
       "               '2020-01-15', '2020-01-15',\n",
       "               ...\n",
       "               '2020-01-22', '2020-01-22', '2020-02-11', '2020-02-04',\n",
       "               '2020-01-29', '2020-01-17', '2020-01-22', '2020-02-06',\n",
       "               '2020-02-07', '2020-01-31'],\n",
       "              dtype='datetime64[ns]', name='QCDate', length=585, freq=None)"
      ]
     },
     "execution_count": 44,
     "metadata": {},
     "output_type": "execute_result"
    }
   ],
   "source": [
    "df_last_month.index"
   ]
  },
  {
   "cell_type": "markdown",
   "metadata": {},
   "source": [
    "---\n",
    "# create `df_daily_levels` frame"
   ]
  },
  {
   "cell_type": "markdown",
   "metadata": {},
   "source": [
    "---\n",
    "\n",
    "## GroupBy ([df_last_month.index, 'QCValidation'])['PfBatchID']"
   ]
  },
  {
   "cell_type": "raw",
   "metadata": {
    "ExecuteTime": {
     "end_time": "2020-02-24T15:58:49.979563Z",
     "start_time": "2020-02-24T15:58:49.972564Z"
    },
    "raw_mimetype": "text/x-python"
   },
   "source": [
    "df_last_month.set_index([df_last_month.index, 'ProductLevel'], inplace=True)"
   ]
  },
  {
   "cell_type": "raw",
   "metadata": {
    "raw_mimetype": "text/x-python"
   },
   "source": [
    "df_last_month.QCValidation = pd.Categorical(df_last_month.QCValidation, ['1.0', '2.0', '3.0'], ordered=True)"
   ]
  },
  {
   "cell_type": "raw",
   "metadata": {
    "raw_mimetype": "text/x-python"
   },
   "source": [
    "print(df_last_month.QCValidation)"
   ]
  },
  {
   "cell_type": "markdown",
   "metadata": {},
   "source": [
    "### TEST `CATEGORICAL-INDEX` BELOW:"
   ]
  },
  {
   "cell_type": "raw",
   "metadata": {
    "ExecuteTime": {
     "end_time": "2020-02-25T16:54:07.654098Z",
     "start_time": "2020-02-25T16:54:07.645098Z"
    },
    "raw_mimetype": "text/x-python"
   },
   "source": [
    "# c = pd.Categorical(['1.0', '2.0', '3.0'])\n",
    "pd.CategoricalIndex(c, name='QCValidation')"
   ]
  },
  {
   "cell_type": "code",
   "execution_count": 45,
   "metadata": {
    "ExecuteTime": {
     "end_time": "2020-02-25T21:02:58.574459Z",
     "start_time": "2020-02-25T21:02:58.558463Z"
    }
   },
   "outputs": [
    {
     "data": {
      "text/plain": [
       "QCDate\n",
       "2020-01-15    19\n",
       "2020-01-16    29\n",
       "2020-01-17    17\n",
       "2020-01-21    31\n",
       "2020-01-22    43\n",
       "2020-01-23    19\n",
       "2020-01-24    24\n",
       "2020-01-25     3\n",
       "2020-01-27    35\n",
       "2020-01-28    14\n",
       "2020-01-29    24\n",
       "2020-01-30    22\n",
       "2020-01-31     8\n",
       "2020-02-03    13\n",
       "2020-02-04    33\n",
       "2020-02-05    24\n",
       "2020-02-06    42\n",
       "2020-02-07    32\n",
       "2020-02-08     2\n",
       "2020-02-10    47\n",
       "2020-02-11    41\n",
       "2020-02-12    25\n",
       "2020-02-13    34\n",
       "2020-02-14     4\n",
       "Name: PfBatchID, dtype: int64"
      ]
     },
     "execution_count": 45,
     "metadata": {},
     "output_type": "execute_result"
    }
   ],
   "source": [
    "''' Groupby single column in pandas python'''\n",
    "df_last_month.groupby(df_last_month.index)['PfBatchID'].count()"
   ]
  },
  {
   "cell_type": "code",
   "execution_count": 46,
   "metadata": {
    "ExecuteTime": {
     "end_time": "2020-02-25T21:02:58.603461Z",
     "start_time": "2020-02-25T21:02:58.577460Z"
    }
   },
   "outputs": [
    {
     "data": {
      "text/html": [
       "<div>\n",
       "<style scoped>\n",
       "    .dataframe tbody tr th:only-of-type {\n",
       "        vertical-align: middle;\n",
       "    }\n",
       "\n",
       "    .dataframe tbody tr th {\n",
       "        vertical-align: top;\n",
       "    }\n",
       "\n",
       "    .dataframe thead th {\n",
       "        text-align: right;\n",
       "    }\n",
       "</style>\n",
       "<table border=\"1\" class=\"dataframe\">\n",
       "  <thead>\n",
       "    <tr style=\"text-align: right;\">\n",
       "      <th></th>\n",
       "      <th></th>\n",
       "      <th>Count</th>\n",
       "    </tr>\n",
       "    <tr>\n",
       "      <th>QCDate</th>\n",
       "      <th>QCValidation</th>\n",
       "      <th></th>\n",
       "    </tr>\n",
       "  </thead>\n",
       "  <tbody>\n",
       "    <tr>\n",
       "      <td rowspan=\"2\" valign=\"top\">2020-01-15</td>\n",
       "      <td>1.0</td>\n",
       "      <td>18</td>\n",
       "    </tr>\n",
       "    <tr>\n",
       "      <td>2.0</td>\n",
       "      <td>1</td>\n",
       "    </tr>\n",
       "    <tr>\n",
       "      <td rowspan=\"2\" valign=\"top\">2020-01-16</td>\n",
       "      <td>1.0</td>\n",
       "      <td>28</td>\n",
       "    </tr>\n",
       "    <tr>\n",
       "      <td>2.0</td>\n",
       "      <td>1</td>\n",
       "    </tr>\n",
       "    <tr>\n",
       "      <td rowspan=\"2\" valign=\"top\">2020-01-17</td>\n",
       "      <td>1.0</td>\n",
       "      <td>16</td>\n",
       "    </tr>\n",
       "    <tr>\n",
       "      <td>2.0</td>\n",
       "      <td>1</td>\n",
       "    </tr>\n",
       "    <tr>\n",
       "      <td rowspan=\"2\" valign=\"top\">2020-01-21</td>\n",
       "      <td>1.0</td>\n",
       "      <td>29</td>\n",
       "    </tr>\n",
       "    <tr>\n",
       "      <td>2.0</td>\n",
       "      <td>2</td>\n",
       "    </tr>\n",
       "    <tr>\n",
       "      <td>2020-01-22</td>\n",
       "      <td>1.0</td>\n",
       "      <td>43</td>\n",
       "    </tr>\n",
       "    <tr>\n",
       "      <td rowspan=\"2\" valign=\"top\">2020-01-23</td>\n",
       "      <td>1.0</td>\n",
       "      <td>18</td>\n",
       "    </tr>\n",
       "    <tr>\n",
       "      <td>2.0</td>\n",
       "      <td>1</td>\n",
       "    </tr>\n",
       "    <tr>\n",
       "      <td rowspan=\"2\" valign=\"top\">2020-01-24</td>\n",
       "      <td>1.0</td>\n",
       "      <td>23</td>\n",
       "    </tr>\n",
       "    <tr>\n",
       "      <td>2.0</td>\n",
       "      <td>1</td>\n",
       "    </tr>\n",
       "    <tr>\n",
       "      <td>2020-01-25</td>\n",
       "      <td>1.0</td>\n",
       "      <td>3</td>\n",
       "    </tr>\n",
       "    <tr>\n",
       "      <td>2020-01-27</td>\n",
       "      <td>1.0</td>\n",
       "      <td>35</td>\n",
       "    </tr>\n",
       "    <tr>\n",
       "      <td>2020-01-28</td>\n",
       "      <td>1.0</td>\n",
       "      <td>14</td>\n",
       "    </tr>\n",
       "    <tr>\n",
       "      <td>2020-01-29</td>\n",
       "      <td>1.0</td>\n",
       "      <td>24</td>\n",
       "    </tr>\n",
       "    <tr>\n",
       "      <td rowspan=\"2\" valign=\"top\">2020-01-30</td>\n",
       "      <td>1.0</td>\n",
       "      <td>21</td>\n",
       "    </tr>\n",
       "    <tr>\n",
       "      <td>2.0</td>\n",
       "      <td>1</td>\n",
       "    </tr>\n",
       "    <tr>\n",
       "      <td>2020-01-31</td>\n",
       "      <td>1.0</td>\n",
       "      <td>8</td>\n",
       "    </tr>\n",
       "    <tr>\n",
       "      <td rowspan=\"3\" valign=\"top\">2020-02-03</td>\n",
       "      <td>1.0</td>\n",
       "      <td>10</td>\n",
       "    </tr>\n",
       "    <tr>\n",
       "      <td>2.0</td>\n",
       "      <td>1</td>\n",
       "    </tr>\n",
       "    <tr>\n",
       "      <td>3.0</td>\n",
       "      <td>2</td>\n",
       "    </tr>\n",
       "    <tr>\n",
       "      <td>2020-02-04</td>\n",
       "      <td>1.0</td>\n",
       "      <td>33</td>\n",
       "    </tr>\n",
       "    <tr>\n",
       "      <td rowspan=\"2\" valign=\"top\">2020-02-05</td>\n",
       "      <td>1.0</td>\n",
       "      <td>23</td>\n",
       "    </tr>\n",
       "    <tr>\n",
       "      <td>3.0</td>\n",
       "      <td>1</td>\n",
       "    </tr>\n",
       "    <tr>\n",
       "      <td rowspan=\"2\" valign=\"top\">2020-02-06</td>\n",
       "      <td>1.0</td>\n",
       "      <td>41</td>\n",
       "    </tr>\n",
       "    <tr>\n",
       "      <td>3.0</td>\n",
       "      <td>1</td>\n",
       "    </tr>\n",
       "    <tr>\n",
       "      <td rowspan=\"2\" valign=\"top\">2020-02-07</td>\n",
       "      <td>1.0</td>\n",
       "      <td>29</td>\n",
       "    </tr>\n",
       "    <tr>\n",
       "      <td>2.0</td>\n",
       "      <td>3</td>\n",
       "    </tr>\n",
       "    <tr>\n",
       "      <td>2020-02-08</td>\n",
       "      <td>1.0</td>\n",
       "      <td>2</td>\n",
       "    </tr>\n",
       "    <tr>\n",
       "      <td>2020-02-10</td>\n",
       "      <td>1.0</td>\n",
       "      <td>47</td>\n",
       "    </tr>\n",
       "    <tr>\n",
       "      <td>2020-02-11</td>\n",
       "      <td>1.0</td>\n",
       "      <td>41</td>\n",
       "    </tr>\n",
       "    <tr>\n",
       "      <td>2020-02-12</td>\n",
       "      <td>1.0</td>\n",
       "      <td>25</td>\n",
       "    </tr>\n",
       "    <tr>\n",
       "      <td rowspan=\"2\" valign=\"top\">2020-02-13</td>\n",
       "      <td>1.0</td>\n",
       "      <td>33</td>\n",
       "    </tr>\n",
       "    <tr>\n",
       "      <td>3.0</td>\n",
       "      <td>1</td>\n",
       "    </tr>\n",
       "    <tr>\n",
       "      <td>2020-02-14</td>\n",
       "      <td>1.0</td>\n",
       "      <td>4</td>\n",
       "    </tr>\n",
       "  </tbody>\n",
       "</table>\n",
       "</div>"
      ],
      "text/plain": [
       "                         Count\n",
       "QCDate     QCValidation       \n",
       "2020-01-15 1.0              18\n",
       "           2.0               1\n",
       "2020-01-16 1.0              28\n",
       "           2.0               1\n",
       "2020-01-17 1.0              16\n",
       "           2.0               1\n",
       "2020-01-21 1.0              29\n",
       "           2.0               2\n",
       "2020-01-22 1.0              43\n",
       "2020-01-23 1.0              18\n",
       "           2.0               1\n",
       "2020-01-24 1.0              23\n",
       "           2.0               1\n",
       "2020-01-25 1.0               3\n",
       "2020-01-27 1.0              35\n",
       "2020-01-28 1.0              14\n",
       "2020-01-29 1.0              24\n",
       "2020-01-30 1.0              21\n",
       "           2.0               1\n",
       "2020-01-31 1.0               8\n",
       "2020-02-03 1.0              10\n",
       "           2.0               1\n",
       "           3.0               2\n",
       "2020-02-04 1.0              33\n",
       "2020-02-05 1.0              23\n",
       "           3.0               1\n",
       "2020-02-06 1.0              41\n",
       "           3.0               1\n",
       "2020-02-07 1.0              29\n",
       "           2.0               3\n",
       "2020-02-08 1.0               2\n",
       "2020-02-10 1.0              47\n",
       "2020-02-11 1.0              41\n",
       "2020-02-12 1.0              25\n",
       "2020-02-13 1.0              33\n",
       "           3.0               1\n",
       "2020-02-14 1.0               4"
      ]
     },
     "execution_count": 46,
     "metadata": {},
     "output_type": "execute_result"
    }
   ],
   "source": [
    "''' Groupby multiple columns '''\n",
    "df_daily_levels = pd.DataFrame(data=df_last_month.groupby([df_last_month.index,'QCValidation'])['PfBatchID'].count())\n",
    "# [2020-02-24]\\\\f_daily_levels = pd.DataFrame(data=df_last_month.groupby([df_last_month.index, 'ProductLevel'])['PfBatchID'].count())\n",
    "# RENAME COLUMNS\n",
    "df_daily_levels.rename(columns={'PfBatchID': 'Count'}, inplace=True)\n",
    "df_daily_levels"
   ]
  },
  {
   "cell_type": "markdown",
   "metadata": {},
   "source": [
    "#### SORT INDEX"
   ]
  },
  {
   "cell_type": "code",
   "execution_count": 47,
   "metadata": {
    "ExecuteTime": {
     "end_time": "2020-02-25T21:02:58.630462Z",
     "start_time": "2020-02-25T21:02:58.605462Z"
    }
   },
   "outputs": [
    {
     "data": {
      "text/html": [
       "<div>\n",
       "<style scoped>\n",
       "    .dataframe tbody tr th:only-of-type {\n",
       "        vertical-align: middle;\n",
       "    }\n",
       "\n",
       "    .dataframe tbody tr th {\n",
       "        vertical-align: top;\n",
       "    }\n",
       "\n",
       "    .dataframe thead th {\n",
       "        text-align: right;\n",
       "    }\n",
       "</style>\n",
       "<table border=\"1\" class=\"dataframe\">\n",
       "  <thead>\n",
       "    <tr style=\"text-align: right;\">\n",
       "      <th></th>\n",
       "      <th></th>\n",
       "      <th>Count</th>\n",
       "    </tr>\n",
       "    <tr>\n",
       "      <th>QCDate</th>\n",
       "      <th>QCValidation</th>\n",
       "      <th></th>\n",
       "    </tr>\n",
       "  </thead>\n",
       "  <tbody>\n",
       "    <tr>\n",
       "      <td rowspan=\"2\" valign=\"top\">2020-01-15</td>\n",
       "      <td>1.0</td>\n",
       "      <td>18</td>\n",
       "    </tr>\n",
       "    <tr>\n",
       "      <td>2.0</td>\n",
       "      <td>1</td>\n",
       "    </tr>\n",
       "    <tr>\n",
       "      <td rowspan=\"2\" valign=\"top\">2020-01-16</td>\n",
       "      <td>1.0</td>\n",
       "      <td>28</td>\n",
       "    </tr>\n",
       "    <tr>\n",
       "      <td>2.0</td>\n",
       "      <td>1</td>\n",
       "    </tr>\n",
       "    <tr>\n",
       "      <td rowspan=\"2\" valign=\"top\">2020-01-17</td>\n",
       "      <td>1.0</td>\n",
       "      <td>16</td>\n",
       "    </tr>\n",
       "    <tr>\n",
       "      <td>2.0</td>\n",
       "      <td>1</td>\n",
       "    </tr>\n",
       "    <tr>\n",
       "      <td rowspan=\"2\" valign=\"top\">2020-01-21</td>\n",
       "      <td>1.0</td>\n",
       "      <td>29</td>\n",
       "    </tr>\n",
       "    <tr>\n",
       "      <td>2.0</td>\n",
       "      <td>2</td>\n",
       "    </tr>\n",
       "    <tr>\n",
       "      <td>2020-01-22</td>\n",
       "      <td>1.0</td>\n",
       "      <td>43</td>\n",
       "    </tr>\n",
       "    <tr>\n",
       "      <td rowspan=\"2\" valign=\"top\">2020-01-23</td>\n",
       "      <td>1.0</td>\n",
       "      <td>18</td>\n",
       "    </tr>\n",
       "    <tr>\n",
       "      <td>2.0</td>\n",
       "      <td>1</td>\n",
       "    </tr>\n",
       "    <tr>\n",
       "      <td rowspan=\"2\" valign=\"top\">2020-01-24</td>\n",
       "      <td>1.0</td>\n",
       "      <td>23</td>\n",
       "    </tr>\n",
       "    <tr>\n",
       "      <td>2.0</td>\n",
       "      <td>1</td>\n",
       "    </tr>\n",
       "    <tr>\n",
       "      <td>2020-01-25</td>\n",
       "      <td>1.0</td>\n",
       "      <td>3</td>\n",
       "    </tr>\n",
       "    <tr>\n",
       "      <td>2020-01-27</td>\n",
       "      <td>1.0</td>\n",
       "      <td>35</td>\n",
       "    </tr>\n",
       "    <tr>\n",
       "      <td>2020-01-28</td>\n",
       "      <td>1.0</td>\n",
       "      <td>14</td>\n",
       "    </tr>\n",
       "    <tr>\n",
       "      <td>2020-01-29</td>\n",
       "      <td>1.0</td>\n",
       "      <td>24</td>\n",
       "    </tr>\n",
       "    <tr>\n",
       "      <td rowspan=\"2\" valign=\"top\">2020-01-30</td>\n",
       "      <td>1.0</td>\n",
       "      <td>21</td>\n",
       "    </tr>\n",
       "    <tr>\n",
       "      <td>2.0</td>\n",
       "      <td>1</td>\n",
       "    </tr>\n",
       "    <tr>\n",
       "      <td>2020-01-31</td>\n",
       "      <td>1.0</td>\n",
       "      <td>8</td>\n",
       "    </tr>\n",
       "    <tr>\n",
       "      <td rowspan=\"3\" valign=\"top\">2020-02-03</td>\n",
       "      <td>1.0</td>\n",
       "      <td>10</td>\n",
       "    </tr>\n",
       "    <tr>\n",
       "      <td>2.0</td>\n",
       "      <td>1</td>\n",
       "    </tr>\n",
       "    <tr>\n",
       "      <td>3.0</td>\n",
       "      <td>2</td>\n",
       "    </tr>\n",
       "    <tr>\n",
       "      <td>2020-02-04</td>\n",
       "      <td>1.0</td>\n",
       "      <td>33</td>\n",
       "    </tr>\n",
       "    <tr>\n",
       "      <td rowspan=\"2\" valign=\"top\">2020-02-05</td>\n",
       "      <td>1.0</td>\n",
       "      <td>23</td>\n",
       "    </tr>\n",
       "    <tr>\n",
       "      <td>3.0</td>\n",
       "      <td>1</td>\n",
       "    </tr>\n",
       "    <tr>\n",
       "      <td rowspan=\"2\" valign=\"top\">2020-02-06</td>\n",
       "      <td>1.0</td>\n",
       "      <td>41</td>\n",
       "    </tr>\n",
       "    <tr>\n",
       "      <td>3.0</td>\n",
       "      <td>1</td>\n",
       "    </tr>\n",
       "    <tr>\n",
       "      <td rowspan=\"2\" valign=\"top\">2020-02-07</td>\n",
       "      <td>1.0</td>\n",
       "      <td>29</td>\n",
       "    </tr>\n",
       "    <tr>\n",
       "      <td>2.0</td>\n",
       "      <td>3</td>\n",
       "    </tr>\n",
       "    <tr>\n",
       "      <td>2020-02-08</td>\n",
       "      <td>1.0</td>\n",
       "      <td>2</td>\n",
       "    </tr>\n",
       "    <tr>\n",
       "      <td>2020-02-10</td>\n",
       "      <td>1.0</td>\n",
       "      <td>47</td>\n",
       "    </tr>\n",
       "    <tr>\n",
       "      <td>2020-02-11</td>\n",
       "      <td>1.0</td>\n",
       "      <td>41</td>\n",
       "    </tr>\n",
       "    <tr>\n",
       "      <td>2020-02-12</td>\n",
       "      <td>1.0</td>\n",
       "      <td>25</td>\n",
       "    </tr>\n",
       "    <tr>\n",
       "      <td rowspan=\"2\" valign=\"top\">2020-02-13</td>\n",
       "      <td>1.0</td>\n",
       "      <td>33</td>\n",
       "    </tr>\n",
       "    <tr>\n",
       "      <td>3.0</td>\n",
       "      <td>1</td>\n",
       "    </tr>\n",
       "    <tr>\n",
       "      <td>2020-02-14</td>\n",
       "      <td>1.0</td>\n",
       "      <td>4</td>\n",
       "    </tr>\n",
       "  </tbody>\n",
       "</table>\n",
       "</div>"
      ],
      "text/plain": [
       "                         Count\n",
       "QCDate     QCValidation       \n",
       "2020-01-15 1.0              18\n",
       "           2.0               1\n",
       "2020-01-16 1.0              28\n",
       "           2.0               1\n",
       "2020-01-17 1.0              16\n",
       "           2.0               1\n",
       "2020-01-21 1.0              29\n",
       "           2.0               2\n",
       "2020-01-22 1.0              43\n",
       "2020-01-23 1.0              18\n",
       "           2.0               1\n",
       "2020-01-24 1.0              23\n",
       "           2.0               1\n",
       "2020-01-25 1.0               3\n",
       "2020-01-27 1.0              35\n",
       "2020-01-28 1.0              14\n",
       "2020-01-29 1.0              24\n",
       "2020-01-30 1.0              21\n",
       "           2.0               1\n",
       "2020-01-31 1.0               8\n",
       "2020-02-03 1.0              10\n",
       "           2.0               1\n",
       "           3.0               2\n",
       "2020-02-04 1.0              33\n",
       "2020-02-05 1.0              23\n",
       "           3.0               1\n",
       "2020-02-06 1.0              41\n",
       "           3.0               1\n",
       "2020-02-07 1.0              29\n",
       "           2.0               3\n",
       "2020-02-08 1.0               2\n",
       "2020-02-10 1.0              47\n",
       "2020-02-11 1.0              41\n",
       "2020-02-12 1.0              25\n",
       "2020-02-13 1.0              33\n",
       "           3.0               1\n",
       "2020-02-14 1.0               4"
      ]
     },
     "execution_count": 47,
     "metadata": {},
     "output_type": "execute_result"
    }
   ],
   "source": [
    "df_daily_levels.sort_index(inplace=True)\n",
    "df_daily_levels"
   ]
  },
  {
   "cell_type": "code",
   "execution_count": 48,
   "metadata": {
    "ExecuteTime": {
     "end_time": "2020-02-25T21:02:58.639461Z",
     "start_time": "2020-02-25T21:02:58.632462Z"
    }
   },
   "outputs": [
    {
     "name": "stdout",
     "output_type": "stream",
     "text": [
      "<class 'pandas.core.frame.DataFrame'>\n",
      "MultiIndex: 37 entries, (2020-01-15 00:00:00, 1.0) to (2020-02-14 00:00:00, 1.0)\n",
      "Data columns (total 1 columns):\n",
      "Count    37 non-null int64\n",
      "dtypes: int64(1)\n",
      "memory usage: 702.0 bytes\n"
     ]
    }
   ],
   "source": [
    "df_daily_levels.info()"
   ]
  },
  {
   "cell_type": "raw",
   "metadata": {
    "ExecuteTime": {
     "end_time": "2020-02-24T16:02:10.904180Z",
     "start_time": "2020-02-24T16:02:10.601177Z"
    },
    "raw_mimetype": "text/x-python"
   },
   "source": [
    "# SLICE & dice your dataframe\n",
    "df_daily_levels.loc[('2020-01-22', float(\"0\"))]"
   ]
  },
  {
   "cell_type": "raw",
   "metadata": {
    "raw_mimetype": "text/x-python"
   },
   "source": [
    "df_daily_levels.resample('D').count()"
   ]
  },
  {
   "cell_type": "raw",
   "metadata": {
    "raw_mimetype": "text/x-python"
   },
   "source": [
    "# using groupby function\n",
    "# with one key\n",
    "df_daily_levels.groupby('QCValidation')"
   ]
  },
  {
   "cell_type": "code",
   "execution_count": 49,
   "metadata": {
    "ExecuteTime": {
     "end_time": "2020-02-25T21:02:58.680459Z",
     "start_time": "2020-02-25T21:02:58.641462Z"
    }
   },
   "outputs": [
    {
     "data": {
      "text/html": [
       "<div>\n",
       "<style scoped>\n",
       "    .dataframe tbody tr th:only-of-type {\n",
       "        vertical-align: middle;\n",
       "    }\n",
       "\n",
       "    .dataframe tbody tr th {\n",
       "        vertical-align: top;\n",
       "    }\n",
       "\n",
       "    .dataframe thead tr th {\n",
       "        text-align: left;\n",
       "    }\n",
       "</style>\n",
       "<table border=\"1\" class=\"dataframe\">\n",
       "  <thead>\n",
       "    <tr>\n",
       "      <th>QCDate</th>\n",
       "      <th colspan=\"2\" halign=\"left\">2020-01-15</th>\n",
       "      <th colspan=\"2\" halign=\"left\">2020-01-16</th>\n",
       "      <th colspan=\"2\" halign=\"left\">2020-01-17</th>\n",
       "      <th colspan=\"2\" halign=\"left\">2020-01-21</th>\n",
       "      <th>2020-01-22</th>\n",
       "      <th>2020-01-23</th>\n",
       "      <th>...</th>\n",
       "      <th>2020-02-06</th>\n",
       "      <th colspan=\"2\" halign=\"left\">2020-02-07</th>\n",
       "      <th>2020-02-08</th>\n",
       "      <th>2020-02-10</th>\n",
       "      <th>2020-02-11</th>\n",
       "      <th>2020-02-12</th>\n",
       "      <th colspan=\"2\" halign=\"left\">2020-02-13</th>\n",
       "      <th>2020-02-14</th>\n",
       "    </tr>\n",
       "    <tr>\n",
       "      <th>QCValidation</th>\n",
       "      <th>1.0</th>\n",
       "      <th>2.0</th>\n",
       "      <th>1.0</th>\n",
       "      <th>2.0</th>\n",
       "      <th>1.0</th>\n",
       "      <th>2.0</th>\n",
       "      <th>1.0</th>\n",
       "      <th>2.0</th>\n",
       "      <th>1.0</th>\n",
       "      <th>1.0</th>\n",
       "      <th>...</th>\n",
       "      <th>3.0</th>\n",
       "      <th>1.0</th>\n",
       "      <th>2.0</th>\n",
       "      <th>1.0</th>\n",
       "      <th>1.0</th>\n",
       "      <th>1.0</th>\n",
       "      <th>1.0</th>\n",
       "      <th>1.0</th>\n",
       "      <th>3.0</th>\n",
       "      <th>1.0</th>\n",
       "    </tr>\n",
       "  </thead>\n",
       "  <tbody>\n",
       "    <tr>\n",
       "      <td>Count</td>\n",
       "      <td>18</td>\n",
       "      <td>1</td>\n",
       "      <td>28</td>\n",
       "      <td>1</td>\n",
       "      <td>16</td>\n",
       "      <td>1</td>\n",
       "      <td>29</td>\n",
       "      <td>2</td>\n",
       "      <td>43</td>\n",
       "      <td>18</td>\n",
       "      <td>...</td>\n",
       "      <td>1</td>\n",
       "      <td>29</td>\n",
       "      <td>3</td>\n",
       "      <td>2</td>\n",
       "      <td>47</td>\n",
       "      <td>41</td>\n",
       "      <td>25</td>\n",
       "      <td>33</td>\n",
       "      <td>1</td>\n",
       "      <td>4</td>\n",
       "    </tr>\n",
       "  </tbody>\n",
       "</table>\n",
       "<p>1 rows × 37 columns</p>\n",
       "</div>"
      ],
      "text/plain": [
       "QCDate       2020-01-15     2020-01-16     2020-01-17     2020-01-21      \\\n",
       "QCValidation        1.0 2.0        1.0 2.0        1.0 2.0        1.0 2.0   \n",
       "Count                18   1         28   1         16   1         29   2   \n",
       "\n",
       "QCDate       2020-01-22 2020-01-23  ... 2020-02-06 2020-02-07     2020-02-08  \\\n",
       "QCValidation        1.0        1.0  ...        3.0        1.0 2.0        1.0   \n",
       "Count                43         18  ...          1         29   3          2   \n",
       "\n",
       "QCDate       2020-02-10 2020-02-11 2020-02-12 2020-02-13     2020-02-14  \n",
       "QCValidation        1.0        1.0        1.0        1.0 3.0        1.0  \n",
       "Count                47         41         25         33   1          4  \n",
       "\n",
       "[1 rows x 37 columns]"
      ]
     },
     "execution_count": 49,
     "metadata": {},
     "output_type": "execute_result"
    }
   ],
   "source": [
    "df_daily_levels.T"
   ]
  },
  {
   "cell_type": "raw",
   "metadata": {
    "ExecuteTime": {
     "end_time": "2020-02-24T15:21:01.399212Z",
     "start_time": "2020-02-24T15:21:01.393224Z"
    },
    "raw_mimetype": "text/x-python"
   },
   "source": [
    "df_daily_levels.index[2][0]"
   ]
  },
  {
   "cell_type": "code",
   "execution_count": 50,
   "metadata": {
    "ExecuteTime": {
     "end_time": "2020-02-25T21:02:58.691463Z",
     "start_time": "2020-02-25T21:02:58.682462Z"
    }
   },
   "outputs": [],
   "source": [
    "df_daily_levels.T.to_csv(\"df_daily_levels_TRANPOSE.csv\")"
   ]
  },
  {
   "cell_type": "code",
   "execution_count": 51,
   "metadata": {
    "ExecuteTime": {
     "end_time": "2020-02-25T21:02:58.702463Z",
     "start_time": "2020-02-25T21:02:58.693461Z"
    }
   },
   "outputs": [],
   "source": [
    "df_daily_levels.to_csv(\"df_daily_levels_2020_02_25.csv\", index=True)"
   ]
  },
  {
   "cell_type": "code",
   "execution_count": 52,
   "metadata": {
    "ExecuteTime": {
     "end_time": "2020-02-25T21:02:58.781462Z",
     "start_time": "2020-02-25T21:02:58.704461Z"
    }
   },
   "outputs": [],
   "source": [
    "df_daily_levels.T.to_excel(\"df_daily_level_TRANPOSE.xlsx\", index=True)"
   ]
  },
  {
   "cell_type": "code",
   "execution_count": 53,
   "metadata": {
    "ExecuteTime": {
     "end_time": "2020-02-25T21:02:58.822463Z",
     "start_time": "2020-02-25T21:02:58.783460Z"
    }
   },
   "outputs": [],
   "source": [
    "df_daily_levels.to_excel(\"df_daily_levels_2020_02_25.xlsx\", index=True)"
   ]
  },
  {
   "cell_type": "code",
   "execution_count": 54,
   "metadata": {
    "ExecuteTime": {
     "end_time": "2020-02-25T21:02:58.830463Z",
     "start_time": "2020-02-25T21:02:58.824462Z"
    }
   },
   "outputs": [
    {
     "data": {
      "text/plain": [
       "MultiIndex([('2020-01-15', 1.0),\n",
       "            ('2020-01-15', 2.0),\n",
       "            ('2020-01-16', 1.0),\n",
       "            ('2020-01-16', 2.0),\n",
       "            ('2020-01-17', 1.0),\n",
       "            ('2020-01-17', 2.0),\n",
       "            ('2020-01-21', 1.0),\n",
       "            ('2020-01-21', 2.0),\n",
       "            ('2020-01-22', 1.0),\n",
       "            ('2020-01-23', 1.0),\n",
       "            ('2020-01-23', 2.0),\n",
       "            ('2020-01-24', 1.0),\n",
       "            ('2020-01-24', 2.0),\n",
       "            ('2020-01-25', 1.0),\n",
       "            ('2020-01-27', 1.0),\n",
       "            ('2020-01-28', 1.0),\n",
       "            ('2020-01-29', 1.0),\n",
       "            ('2020-01-30', 1.0),\n",
       "            ('2020-01-30', 2.0),\n",
       "            ('2020-01-31', 1.0),\n",
       "            ('2020-02-03', 1.0),\n",
       "            ('2020-02-03', 2.0),\n",
       "            ('2020-02-03', 3.0),\n",
       "            ('2020-02-04', 1.0),\n",
       "            ('2020-02-05', 1.0),\n",
       "            ('2020-02-05', 3.0),\n",
       "            ('2020-02-06', 1.0),\n",
       "            ('2020-02-06', 3.0),\n",
       "            ('2020-02-07', 1.0),\n",
       "            ('2020-02-07', 2.0),\n",
       "            ('2020-02-08', 1.0),\n",
       "            ('2020-02-10', 1.0),\n",
       "            ('2020-02-11', 1.0),\n",
       "            ('2020-02-12', 1.0),\n",
       "            ('2020-02-13', 1.0),\n",
       "            ('2020-02-13', 3.0),\n",
       "            ('2020-02-14', 1.0)],\n",
       "           names=['QCDate', 'QCValidation'])"
      ]
     },
     "execution_count": 54,
     "metadata": {},
     "output_type": "execute_result"
    }
   ],
   "source": [
    "df_daily_levels.index"
   ]
  },
  {
   "cell_type": "markdown",
   "metadata": {},
   "source": [
    "---\n",
    "### `.unstack()`\n",
    "\n",
    "#### `unstack` *index* (axis=1)"
   ]
  },
  {
   "cell_type": "code",
   "execution_count": 55,
   "metadata": {
    "ExecuteTime": {
     "end_time": "2020-02-25T21:02:58.849463Z",
     "start_time": "2020-02-25T21:02:58.834461Z"
    }
   },
   "outputs": [
    {
     "data": {
      "text/html": [
       "<div>\n",
       "<style scoped>\n",
       "    .dataframe tbody tr th:only-of-type {\n",
       "        vertical-align: middle;\n",
       "    }\n",
       "\n",
       "    .dataframe tbody tr th {\n",
       "        vertical-align: top;\n",
       "    }\n",
       "\n",
       "    .dataframe thead tr th {\n",
       "        text-align: left;\n",
       "    }\n",
       "\n",
       "    .dataframe thead tr:last-of-type th {\n",
       "        text-align: right;\n",
       "    }\n",
       "</style>\n",
       "<table border=\"1\" class=\"dataframe\">\n",
       "  <thead>\n",
       "    <tr>\n",
       "      <th></th>\n",
       "      <th colspan=\"3\" halign=\"left\">Count</th>\n",
       "    </tr>\n",
       "    <tr>\n",
       "      <th>QCValidation</th>\n",
       "      <th>1.0</th>\n",
       "      <th>2.0</th>\n",
       "      <th>3.0</th>\n",
       "    </tr>\n",
       "    <tr>\n",
       "      <th>QCDate</th>\n",
       "      <th></th>\n",
       "      <th></th>\n",
       "      <th></th>\n",
       "    </tr>\n",
       "  </thead>\n",
       "  <tbody>\n",
       "    <tr>\n",
       "      <td>2020-01-15</td>\n",
       "      <td>18.0</td>\n",
       "      <td>1.0</td>\n",
       "      <td>NaN</td>\n",
       "    </tr>\n",
       "    <tr>\n",
       "      <td>2020-01-16</td>\n",
       "      <td>28.0</td>\n",
       "      <td>1.0</td>\n",
       "      <td>NaN</td>\n",
       "    </tr>\n",
       "    <tr>\n",
       "      <td>2020-01-17</td>\n",
       "      <td>16.0</td>\n",
       "      <td>1.0</td>\n",
       "      <td>NaN</td>\n",
       "    </tr>\n",
       "    <tr>\n",
       "      <td>2020-01-21</td>\n",
       "      <td>29.0</td>\n",
       "      <td>2.0</td>\n",
       "      <td>NaN</td>\n",
       "    </tr>\n",
       "    <tr>\n",
       "      <td>2020-01-22</td>\n",
       "      <td>43.0</td>\n",
       "      <td>NaN</td>\n",
       "      <td>NaN</td>\n",
       "    </tr>\n",
       "    <tr>\n",
       "      <td>2020-01-23</td>\n",
       "      <td>18.0</td>\n",
       "      <td>1.0</td>\n",
       "      <td>NaN</td>\n",
       "    </tr>\n",
       "    <tr>\n",
       "      <td>2020-01-24</td>\n",
       "      <td>23.0</td>\n",
       "      <td>1.0</td>\n",
       "      <td>NaN</td>\n",
       "    </tr>\n",
       "    <tr>\n",
       "      <td>2020-01-25</td>\n",
       "      <td>3.0</td>\n",
       "      <td>NaN</td>\n",
       "      <td>NaN</td>\n",
       "    </tr>\n",
       "    <tr>\n",
       "      <td>2020-01-27</td>\n",
       "      <td>35.0</td>\n",
       "      <td>NaN</td>\n",
       "      <td>NaN</td>\n",
       "    </tr>\n",
       "    <tr>\n",
       "      <td>2020-01-28</td>\n",
       "      <td>14.0</td>\n",
       "      <td>NaN</td>\n",
       "      <td>NaN</td>\n",
       "    </tr>\n",
       "    <tr>\n",
       "      <td>2020-01-29</td>\n",
       "      <td>24.0</td>\n",
       "      <td>NaN</td>\n",
       "      <td>NaN</td>\n",
       "    </tr>\n",
       "    <tr>\n",
       "      <td>2020-01-30</td>\n",
       "      <td>21.0</td>\n",
       "      <td>1.0</td>\n",
       "      <td>NaN</td>\n",
       "    </tr>\n",
       "    <tr>\n",
       "      <td>2020-01-31</td>\n",
       "      <td>8.0</td>\n",
       "      <td>NaN</td>\n",
       "      <td>NaN</td>\n",
       "    </tr>\n",
       "    <tr>\n",
       "      <td>2020-02-03</td>\n",
       "      <td>10.0</td>\n",
       "      <td>1.0</td>\n",
       "      <td>2.0</td>\n",
       "    </tr>\n",
       "    <tr>\n",
       "      <td>2020-02-04</td>\n",
       "      <td>33.0</td>\n",
       "      <td>NaN</td>\n",
       "      <td>NaN</td>\n",
       "    </tr>\n",
       "    <tr>\n",
       "      <td>2020-02-05</td>\n",
       "      <td>23.0</td>\n",
       "      <td>NaN</td>\n",
       "      <td>1.0</td>\n",
       "    </tr>\n",
       "    <tr>\n",
       "      <td>2020-02-06</td>\n",
       "      <td>41.0</td>\n",
       "      <td>NaN</td>\n",
       "      <td>1.0</td>\n",
       "    </tr>\n",
       "    <tr>\n",
       "      <td>2020-02-07</td>\n",
       "      <td>29.0</td>\n",
       "      <td>3.0</td>\n",
       "      <td>NaN</td>\n",
       "    </tr>\n",
       "    <tr>\n",
       "      <td>2020-02-08</td>\n",
       "      <td>2.0</td>\n",
       "      <td>NaN</td>\n",
       "      <td>NaN</td>\n",
       "    </tr>\n",
       "    <tr>\n",
       "      <td>2020-02-10</td>\n",
       "      <td>47.0</td>\n",
       "      <td>NaN</td>\n",
       "      <td>NaN</td>\n",
       "    </tr>\n",
       "    <tr>\n",
       "      <td>2020-02-11</td>\n",
       "      <td>41.0</td>\n",
       "      <td>NaN</td>\n",
       "      <td>NaN</td>\n",
       "    </tr>\n",
       "    <tr>\n",
       "      <td>2020-02-12</td>\n",
       "      <td>25.0</td>\n",
       "      <td>NaN</td>\n",
       "      <td>NaN</td>\n",
       "    </tr>\n",
       "    <tr>\n",
       "      <td>2020-02-13</td>\n",
       "      <td>33.0</td>\n",
       "      <td>NaN</td>\n",
       "      <td>1.0</td>\n",
       "    </tr>\n",
       "    <tr>\n",
       "      <td>2020-02-14</td>\n",
       "      <td>4.0</td>\n",
       "      <td>NaN</td>\n",
       "      <td>NaN</td>\n",
       "    </tr>\n",
       "  </tbody>\n",
       "</table>\n",
       "</div>"
      ],
      "text/plain": [
       "             Count          \n",
       "QCValidation   1.0  2.0  3.0\n",
       "QCDate                      \n",
       "2020-01-15    18.0  1.0  NaN\n",
       "2020-01-16    28.0  1.0  NaN\n",
       "2020-01-17    16.0  1.0  NaN\n",
       "2020-01-21    29.0  2.0  NaN\n",
       "2020-01-22    43.0  NaN  NaN\n",
       "2020-01-23    18.0  1.0  NaN\n",
       "2020-01-24    23.0  1.0  NaN\n",
       "2020-01-25     3.0  NaN  NaN\n",
       "2020-01-27    35.0  NaN  NaN\n",
       "2020-01-28    14.0  NaN  NaN\n",
       "2020-01-29    24.0  NaN  NaN\n",
       "2020-01-30    21.0  1.0  NaN\n",
       "2020-01-31     8.0  NaN  NaN\n",
       "2020-02-03    10.0  1.0  2.0\n",
       "2020-02-04    33.0  NaN  NaN\n",
       "2020-02-05    23.0  NaN  1.0\n",
       "2020-02-06    41.0  NaN  1.0\n",
       "2020-02-07    29.0  3.0  NaN\n",
       "2020-02-08     2.0  NaN  NaN\n",
       "2020-02-10    47.0  NaN  NaN\n",
       "2020-02-11    41.0  NaN  NaN\n",
       "2020-02-12    25.0  NaN  NaN\n",
       "2020-02-13    33.0  NaN  1.0\n",
       "2020-02-14     4.0  NaN  NaN"
      ]
     },
     "execution_count": 55,
     "metadata": {},
     "output_type": "execute_result"
    }
   ],
   "source": [
    "df_daily_unstacked_1 = df_daily_levels.unstack(level=-1)\n",
    "df_daily_unstacked_1"
   ]
  },
  {
   "cell_type": "code",
   "execution_count": 56,
   "metadata": {
    "ExecuteTime": {
     "end_time": "2020-02-25T21:02:58.860465Z",
     "start_time": "2020-02-25T21:02:58.852462Z"
    }
   },
   "outputs": [],
   "source": [
    "df_daily_unstacked_1.to_csv(\"df_daily_levels_2020_02_25_UNSTACKED_level_1.csv\", index=True)"
   ]
  },
  {
   "cell_type": "code",
   "execution_count": 57,
   "metadata": {
    "ExecuteTime": {
     "end_time": "2020-02-25T21:02:58.907466Z",
     "start_time": "2020-02-25T21:02:58.862464Z"
    }
   },
   "outputs": [],
   "source": [
    "df_daily_unstacked_1.to_excel(\"df_daily_levels_2020_02_25_UNSTACKED_level_1.xlsx\", index=True)"
   ]
  },
  {
   "cell_type": "code",
   "execution_count": 70,
   "metadata": {
    "ExecuteTime": {
     "end_time": "2020-02-25T21:07:27.718789Z",
     "start_time": "2020-02-25T21:07:27.712208Z"
    }
   },
   "outputs": [
    {
     "data": {
      "text/plain": [
       "2"
      ]
     },
     "execution_count": 70,
     "metadata": {},
     "output_type": "execute_result"
    }
   ],
   "source": [
    "len(df_daily_unstacked_1.columns.levels)"
   ]
  },
  {
   "cell_type": "markdown",
   "metadata": {},
   "source": [
    "---\n",
    "# DROP LEVEL"
   ]
  },
  {
   "cell_type": "code",
   "execution_count": 74,
   "metadata": {
    "ExecuteTime": {
     "end_time": "2020-02-25T21:10:06.768530Z",
     "start_time": "2020-02-25T21:10:06.763529Z"
    }
   },
   "outputs": [],
   "source": [
    "df_daily_unstacked_1.columns = df_daily_unstacked_1.columns.droplevel()"
   ]
  },
  {
   "cell_type": "markdown",
   "metadata": {},
   "source": [
    "---"
   ]
  },
  {
   "cell_type": "code",
   "execution_count": 75,
   "metadata": {
    "ExecuteTime": {
     "end_time": "2020-02-25T21:10:23.172959Z",
     "start_time": "2020-02-25T21:10:23.158957Z"
    }
   },
   "outputs": [
    {
     "data": {
      "text/html": [
       "<div>\n",
       "<style scoped>\n",
       "    .dataframe tbody tr th:only-of-type {\n",
       "        vertical-align: middle;\n",
       "    }\n",
       "\n",
       "    .dataframe tbody tr th {\n",
       "        vertical-align: top;\n",
       "    }\n",
       "\n",
       "    .dataframe thead th {\n",
       "        text-align: right;\n",
       "    }\n",
       "</style>\n",
       "<table border=\"1\" class=\"dataframe\">\n",
       "  <thead>\n",
       "    <tr style=\"text-align: right;\">\n",
       "      <th>QCValidation</th>\n",
       "      <th>1.0</th>\n",
       "      <th>2.0</th>\n",
       "      <th>3.0</th>\n",
       "    </tr>\n",
       "    <tr>\n",
       "      <th>QCDate</th>\n",
       "      <th></th>\n",
       "      <th></th>\n",
       "      <th></th>\n",
       "    </tr>\n",
       "  </thead>\n",
       "  <tbody>\n",
       "    <tr>\n",
       "      <td>2020-01-15</td>\n",
       "      <td>18.0</td>\n",
       "      <td>1.0</td>\n",
       "      <td>NaN</td>\n",
       "    </tr>\n",
       "    <tr>\n",
       "      <td>2020-01-16</td>\n",
       "      <td>28.0</td>\n",
       "      <td>1.0</td>\n",
       "      <td>NaN</td>\n",
       "    </tr>\n",
       "    <tr>\n",
       "      <td>2020-01-17</td>\n",
       "      <td>16.0</td>\n",
       "      <td>1.0</td>\n",
       "      <td>NaN</td>\n",
       "    </tr>\n",
       "    <tr>\n",
       "      <td>2020-01-21</td>\n",
       "      <td>29.0</td>\n",
       "      <td>2.0</td>\n",
       "      <td>NaN</td>\n",
       "    </tr>\n",
       "    <tr>\n",
       "      <td>2020-01-22</td>\n",
       "      <td>43.0</td>\n",
       "      <td>NaN</td>\n",
       "      <td>NaN</td>\n",
       "    </tr>\n",
       "    <tr>\n",
       "      <td>2020-01-23</td>\n",
       "      <td>18.0</td>\n",
       "      <td>1.0</td>\n",
       "      <td>NaN</td>\n",
       "    </tr>\n",
       "    <tr>\n",
       "      <td>2020-01-24</td>\n",
       "      <td>23.0</td>\n",
       "      <td>1.0</td>\n",
       "      <td>NaN</td>\n",
       "    </tr>\n",
       "    <tr>\n",
       "      <td>2020-01-25</td>\n",
       "      <td>3.0</td>\n",
       "      <td>NaN</td>\n",
       "      <td>NaN</td>\n",
       "    </tr>\n",
       "    <tr>\n",
       "      <td>2020-01-27</td>\n",
       "      <td>35.0</td>\n",
       "      <td>NaN</td>\n",
       "      <td>NaN</td>\n",
       "    </tr>\n",
       "    <tr>\n",
       "      <td>2020-01-28</td>\n",
       "      <td>14.0</td>\n",
       "      <td>NaN</td>\n",
       "      <td>NaN</td>\n",
       "    </tr>\n",
       "    <tr>\n",
       "      <td>2020-01-29</td>\n",
       "      <td>24.0</td>\n",
       "      <td>NaN</td>\n",
       "      <td>NaN</td>\n",
       "    </tr>\n",
       "    <tr>\n",
       "      <td>2020-01-30</td>\n",
       "      <td>21.0</td>\n",
       "      <td>1.0</td>\n",
       "      <td>NaN</td>\n",
       "    </tr>\n",
       "    <tr>\n",
       "      <td>2020-01-31</td>\n",
       "      <td>8.0</td>\n",
       "      <td>NaN</td>\n",
       "      <td>NaN</td>\n",
       "    </tr>\n",
       "    <tr>\n",
       "      <td>2020-02-03</td>\n",
       "      <td>10.0</td>\n",
       "      <td>1.0</td>\n",
       "      <td>2.0</td>\n",
       "    </tr>\n",
       "    <tr>\n",
       "      <td>2020-02-04</td>\n",
       "      <td>33.0</td>\n",
       "      <td>NaN</td>\n",
       "      <td>NaN</td>\n",
       "    </tr>\n",
       "    <tr>\n",
       "      <td>2020-02-05</td>\n",
       "      <td>23.0</td>\n",
       "      <td>NaN</td>\n",
       "      <td>1.0</td>\n",
       "    </tr>\n",
       "    <tr>\n",
       "      <td>2020-02-06</td>\n",
       "      <td>41.0</td>\n",
       "      <td>NaN</td>\n",
       "      <td>1.0</td>\n",
       "    </tr>\n",
       "    <tr>\n",
       "      <td>2020-02-07</td>\n",
       "      <td>29.0</td>\n",
       "      <td>3.0</td>\n",
       "      <td>NaN</td>\n",
       "    </tr>\n",
       "    <tr>\n",
       "      <td>2020-02-08</td>\n",
       "      <td>2.0</td>\n",
       "      <td>NaN</td>\n",
       "      <td>NaN</td>\n",
       "    </tr>\n",
       "    <tr>\n",
       "      <td>2020-02-10</td>\n",
       "      <td>47.0</td>\n",
       "      <td>NaN</td>\n",
       "      <td>NaN</td>\n",
       "    </tr>\n",
       "    <tr>\n",
       "      <td>2020-02-11</td>\n",
       "      <td>41.0</td>\n",
       "      <td>NaN</td>\n",
       "      <td>NaN</td>\n",
       "    </tr>\n",
       "    <tr>\n",
       "      <td>2020-02-12</td>\n",
       "      <td>25.0</td>\n",
       "      <td>NaN</td>\n",
       "      <td>NaN</td>\n",
       "    </tr>\n",
       "    <tr>\n",
       "      <td>2020-02-13</td>\n",
       "      <td>33.0</td>\n",
       "      <td>NaN</td>\n",
       "      <td>1.0</td>\n",
       "    </tr>\n",
       "    <tr>\n",
       "      <td>2020-02-14</td>\n",
       "      <td>4.0</td>\n",
       "      <td>NaN</td>\n",
       "      <td>NaN</td>\n",
       "    </tr>\n",
       "  </tbody>\n",
       "</table>\n",
       "</div>"
      ],
      "text/plain": [
       "QCValidation   1.0  2.0  3.0\n",
       "QCDate                      \n",
       "2020-01-15    18.0  1.0  NaN\n",
       "2020-01-16    28.0  1.0  NaN\n",
       "2020-01-17    16.0  1.0  NaN\n",
       "2020-01-21    29.0  2.0  NaN\n",
       "2020-01-22    43.0  NaN  NaN\n",
       "2020-01-23    18.0  1.0  NaN\n",
       "2020-01-24    23.0  1.0  NaN\n",
       "2020-01-25     3.0  NaN  NaN\n",
       "2020-01-27    35.0  NaN  NaN\n",
       "2020-01-28    14.0  NaN  NaN\n",
       "2020-01-29    24.0  NaN  NaN\n",
       "2020-01-30    21.0  1.0  NaN\n",
       "2020-01-31     8.0  NaN  NaN\n",
       "2020-02-03    10.0  1.0  2.0\n",
       "2020-02-04    33.0  NaN  NaN\n",
       "2020-02-05    23.0  NaN  1.0\n",
       "2020-02-06    41.0  NaN  1.0\n",
       "2020-02-07    29.0  3.0  NaN\n",
       "2020-02-08     2.0  NaN  NaN\n",
       "2020-02-10    47.0  NaN  NaN\n",
       "2020-02-11    41.0  NaN  NaN\n",
       "2020-02-12    25.0  NaN  NaN\n",
       "2020-02-13    33.0  NaN  1.0\n",
       "2020-02-14     4.0  NaN  NaN"
      ]
     },
     "execution_count": 75,
     "metadata": {},
     "output_type": "execute_result"
    }
   ],
   "source": [
    "df_daily_unstacked_1"
   ]
  },
  {
   "cell_type": "code",
   "execution_count": 76,
   "metadata": {
    "ExecuteTime": {
     "end_time": "2020-02-25T21:11:45.427056Z",
     "start_time": "2020-02-25T21:11:45.419051Z"
    }
   },
   "outputs": [
    {
     "name": "stdout",
     "output_type": "stream",
     "text": [
      "<class 'pandas.core.frame.DataFrame'>\n",
      "DatetimeIndex: 24 entries, 2020-01-15 to 2020-02-14\n",
      "Data columns (total 3 columns):\n",
      "1.0    24 non-null float64\n",
      "2.0    9 non-null float64\n",
      "3.0    4 non-null float64\n",
      "dtypes: float64(3)\n",
      "memory usage: 768.0 bytes\n"
     ]
    }
   ],
   "source": [
    "df_daily_unstacked_1.info()"
   ]
  },
  {
   "cell_type": "code",
   "execution_count": 121,
   "metadata": {
    "ExecuteTime": {
     "end_time": "2020-02-25T21:52:20.084379Z",
     "start_time": "2020-02-25T21:52:20.076378Z"
    }
   },
   "outputs": [
    {
     "data": {
      "text/plain": [
       "DatetimeIndex(['2020-01-15', '2020-01-16', '2020-01-17', '2020-01-21',\n",
       "               '2020-01-22', '2020-01-23', '2020-01-24', '2020-01-25',\n",
       "               '2020-01-27', '2020-01-28', '2020-01-29', '2020-01-30',\n",
       "               '2020-01-31', '2020-02-03', '2020-02-04', '2020-02-05',\n",
       "               '2020-02-06', '2020-02-07', '2020-02-08', '2020-02-10',\n",
       "               '2020-02-11', '2020-02-12', '2020-02-13', '2020-02-14'],\n",
       "              dtype='datetime64[ns]', name='QCDate', freq=None)"
      ]
     },
     "execution_count": 121,
     "metadata": {},
     "output_type": "execute_result"
    }
   ],
   "source": [
    "df_daily_unstacked_1.index"
   ]
  },
  {
   "cell_type": "code",
   "execution_count": 120,
   "metadata": {
    "ExecuteTime": {
     "end_time": "2020-02-25T21:51:45.083653Z",
     "start_time": "2020-02-25T21:51:45.076654Z"
    }
   },
   "outputs": [
    {
     "data": {
      "text/plain": [
       "Float64Index([1.0, 2.0, 3.0], dtype='float64', name='QCValidation')"
      ]
     },
     "execution_count": 120,
     "metadata": {},
     "output_type": "execute_result"
    }
   ],
   "source": [
    "df_daily_unstacked_1.columns"
   ]
  },
  {
   "cell_type": "code",
   "execution_count": 81,
   "metadata": {
    "ExecuteTime": {
     "end_time": "2020-02-25T21:16:14.963776Z",
     "start_time": "2020-02-25T21:16:14.911774Z"
    }
   },
   "outputs": [],
   "source": [
    "df_daily_unstacked_1.to_excel(\"df_daily_unstacked_2020_02_25.xlsx\", index=True)"
   ]
  },
  {
   "cell_type": "markdown",
   "metadata": {},
   "source": [
    "### test `fillna()`"
   ]
  },
  {
   "cell_type": "code",
   "execution_count": null,
   "metadata": {
    "ExecuteTime": {
     "end_time": "2020-02-25T21:02:59.323468Z",
     "start_time": "2020-02-25T21:02:08.816Z"
    }
   },
   "outputs": [],
   "source": [
    "df_daily_unstacked_1.fillna(value=0, inplace=True)"
   ]
  },
  {
   "cell_type": "code",
   "execution_count": null,
   "metadata": {
    "ExecuteTime": {
     "end_time": "2020-02-25T21:02:59.324468Z",
     "start_time": "2020-02-25T21:02:08.825Z"
    }
   },
   "outputs": [],
   "source": [
    "df_daily_unstacked_1.sample(10)"
   ]
  },
  {
   "cell_type": "markdown",
   "metadata": {},
   "source": [
    "### locate `values`:"
   ]
  },
  {
   "cell_type": "code",
   "execution_count": null,
   "metadata": {
    "ExecuteTime": {
     "end_time": "2020-02-25T21:02:59.325468Z",
     "start_time": "2020-02-25T21:02:08.836Z"
    }
   },
   "outputs": [],
   "source": [
    "df_daily_unstacked_1.iloc[0, 0]"
   ]
  },
  {
   "cell_type": "code",
   "execution_count": null,
   "metadata": {
    "ExecuteTime": {
     "end_time": "2020-02-25T21:02:59.326469Z",
     "start_time": "2020-02-25T21:02:08.852Z"
    }
   },
   "outputs": [],
   "source": [
    "df_daily_unstacked_1.iloc[17, 0]"
   ]
  },
  {
   "cell_type": "markdown",
   "metadata": {},
   "source": [
    "---\n",
    "# PLOT DATA"
   ]
  },
  {
   "cell_type": "code",
   "execution_count": 86,
   "metadata": {
    "ExecuteTime": {
     "end_time": "2020-02-25T21:26:06.001816Z",
     "start_time": "2020-02-25T21:26:05.757814Z"
    }
   },
   "outputs": [
    {
     "data": {
      "text/plain": [
       "<matplotlib.axes._subplots.AxesSubplot at 0x26c089c5fd0>"
      ]
     },
     "execution_count": 86,
     "metadata": {},
     "output_type": "execute_result"
    },
    {
     "data": {
      "image/png": "[encoded data removed]",
      "text/plain": [
       "<Figure size 432x288 with 1 Axes>"
      ]
     },
     "metadata": {
      "needs_background": "light"
     },
     "output_type": "display_data"
    }
   ],
   "source": [
    "df_daily_unstacked_1.plot()"
   ]
  },
  {
   "cell_type": "code",
   "execution_count": 93,
   "metadata": {
    "ExecuteTime": {
     "end_time": "2020-02-25T21:31:27.246282Z",
     "start_time": "2020-02-25T21:31:26.972280Z"
    }
   },
   "outputs": [
    {
     "data": {
      "text/plain": [
       "<matplotlib.axes._subplots.AxesSubplot at 0x26c10675320>"
      ]
     },
     "execution_count": 93,
     "metadata": {},
     "output_type": "execute_result"
    },
    {
     "data": {
      "image/png": "[encoded data removed]",
      "text/plain": [
       "<Figure size 432x288 with 1 Axes>"
      ]
     },
     "metadata": {
      "needs_background": "light"
     },
     "output_type": "display_data"
    }
   ],
   "source": [
    "df_daily_unstacked_1.plot(kind='area')"
   ]
  },
  {
   "cell_type": "code",
   "execution_count": 95,
   "metadata": {
    "ExecuteTime": {
     "end_time": "2020-02-25T21:32:37.011248Z",
     "start_time": "2020-02-25T21:32:36.518242Z"
    }
   },
   "outputs": [
    {
     "data": {
      "text/plain": [
       "<matplotlib.axes._subplots.AxesSubplot at 0x26c1196aeb8>"
      ]
     },
     "execution_count": 95,
     "metadata": {},
     "output_type": "execute_result"
    },
    {
     "data": {
      "image/png": "[encoded data removed]",
      "text/plain": [
       "<Figure size 432x288 with 1 Axes>"
      ]
     },
     "metadata": {
      "needs_background": "light"
     },
     "output_type": "display_data"
    }
   ],
   "source": [
    "df_daily_unstacked_1.plot(kind='barh')"
   ]
  },
  {
   "cell_type": "code",
   "execution_count": 97,
   "metadata": {
    "ExecuteTime": {
     "end_time": "2020-02-25T21:33:46.807687Z",
     "start_time": "2020-02-25T21:33:46.600667Z"
    }
   },
   "outputs": [
    {
     "data": {
      "text/plain": [
       "<matplotlib.axes._subplots.AxesSubplot at 0x26c140c9d30>"
      ]
     },
     "execution_count": 97,
     "metadata": {},
     "output_type": "execute_result"
    },
    {
     "data": {
      "image/png": "[encoded data removed]",
      "text/plain": [
       "<Figure size 432x288 with 1 Axes>"
      ]
     },
     "metadata": {
      "needs_background": "light"
     },
     "output_type": "display_data"
    }
   ],
   "source": [
    "df_daily_unstacked_1.plot(kind='kde')"
   ]
  },
  {
   "cell_type": "code",
   "execution_count": null,
   "metadata": {},
   "outputs": [],
   "source": [
    "kind : str\n",
    "    - 'line' : line plot (default)\n",
    "    - 'bar' : vertical bar plot\n",
    "    - 'barh' : horizontal bar plot\n",
    "    - 'hist' : histogram\n",
    "    - 'box' : boxplot\n",
    "    - 'kde' : Kernel Density Estimation plot\n",
    "    - 'density' : same as 'kde'\n",
    "    - 'area' : area plot\n",
    "    - 'pie' : pie plot\n",
    "    - 'scatter' : scatter plot\n",
    "    - 'hexbin' : hexbin plot"
   ]
  },
  {
   "cell_type": "code",
   "execution_count": 134,
   "metadata": {
    "ExecuteTime": {
     "end_time": "2020-02-25T22:01:50.940631Z",
     "start_time": "2020-02-25T22:01:50.931633Z"
    }
   },
   "outputs": [
    {
     "data": {
      "text/plain": [
       "<Figure size 432x288 with 0 Axes>"
      ]
     },
     "metadata": {},
     "output_type": "display_data"
    }
   ],
   "source": [
    "fig = plt.figure()"
   ]
  },
  {
   "cell_type": "markdown",
   "metadata": {},
   "source": [
    "---\n",
    "# WorkBook"
   ]
  },
  {
   "cell_type": "markdown",
   "metadata": {},
   "source": [
    "timestamp for filename"
   ]
  },
  {
   "cell_type": "code",
   "execution_count": 108,
   "metadata": {
    "ExecuteTime": {
     "end_time": "2020-02-25T21:38:08.595925Z",
     "start_time": "2020-02-25T21:38:08.592924Z"
    }
   },
   "outputs": [],
   "source": [
    "ts_str = str(pd.Timestamp.now())[:10]"
   ]
  },
  {
   "cell_type": "markdown",
   "metadata": {},
   "source": [
    "create filename var"
   ]
  },
  {
   "cell_type": "code",
   "execution_count": 110,
   "metadata": {
    "ExecuteTime": {
     "end_time": "2020-02-25T21:41:38.569122Z",
     "start_time": "2020-02-25T21:41:38.566116Z"
    }
   },
   "outputs": [],
   "source": [
    "filename_str = str(\"QCMetrics_\" + str(ts_str) + \".xlsx\")"
   ]
  },
  {
   "cell_type": "code",
   "execution_count": 111,
   "metadata": {
    "ExecuteTime": {
     "end_time": "2020-02-25T21:41:55.227499Z",
     "start_time": "2020-02-25T21:41:55.212499Z"
    }
   },
   "outputs": [],
   "source": [
    "# CREATE NEW WORKBOOK\n",
    "wb = Workbook()\n",
    "wb.save(filename_str)"
   ]
  },
  {
   "cell_type": "code",
   "execution_count": 112,
   "metadata": {
    "ExecuteTime": {
     "end_time": "2020-02-25T21:42:11.887878Z",
     "start_time": "2020-02-25T21:42:11.876838Z"
    }
   },
   "outputs": [],
   "source": [
    "# LOAD EXISTING WORKBOOK\n",
    "wb = load_workbook(filename_str)"
   ]
  },
  {
   "cell_type": "code",
   "execution_count": 118,
   "metadata": {
    "ExecuteTime": {
     "end_time": "2020-02-25T21:49:13.709026Z",
     "start_time": "2020-02-25T21:49:13.704026Z"
    }
   },
   "outputs": [],
   "source": [
    "# ADD SHEETS TO WORKBOOK\n",
    "# DESGIGNATE SHEET NAME AND POSITION\n",
    "sheet1 = wb.create_sheet('Table', 0)\n",
    "sheet2 = wb.create_sheet('Graphs',1)"
   ]
  },
  {
   "cell_type": "code",
   "execution_count": 119,
   "metadata": {
    "ExecuteTime": {
     "end_time": "2020-02-25T21:49:30.989179Z",
     "start_time": "2020-02-25T21:49:30.964182Z"
    }
   },
   "outputs": [],
   "source": [
    "# ACTIVATE WORKSHEET TO WRITE DATAFRAME\n",
    "active = wb['Table']\n",
    "\n",
    "# WRTIE DATAFRAME TO ACTIVE WORKSHEET\n",
    "for x in dataframe_to_rows(df_daily_unstacked_1): # {\n",
    "    active.append(x)\n",
    "# }\n",
    "\n",
    "# SAVE \n",
    "wb.save(filename_str)"
   ]
  },
  {
   "cell_type": "code",
   "execution_count": 131,
   "metadata": {
    "ExecuteTime": {
     "end_time": "2020-02-25T21:59:00.048594Z",
     "start_time": "2020-02-25T21:59:00.044593Z"
    }
   },
   "outputs": [],
   "source": [
    "# CREATE DATASET\n",
    "x = df_daily_unstacked_1.index\n",
    "y = df_daily_unstacked_1.columns"
   ]
  },
  {
   "cell_type": "code",
   "execution_count": 133,
   "metadata": {
    "ExecuteTime": {
     "end_time": "2020-02-25T21:59:34.302082Z",
     "start_time": "2020-02-25T21:59:34.115080Z"
    }
   },
   "outputs": [
    {
     "ename": "ValueError",
     "evalue": "x and y must have same first dimension, but have shapes (24,) and (3,)",
     "output_type": "error",
     "traceback": [
      "\u001b[1;31m---------------------------------------------------------------------------\u001b[0m",
      "\u001b[1;31mValueError\u001b[0m                                Traceback (most recent call last)",
      "\u001b[1;32m<ipython-input-133-32909356074a>\u001b[0m in \u001b[0;36m<module>\u001b[1;34m\u001b[0m\n\u001b[0;32m      1\u001b[0m \u001b[1;31m# CREATE AND SAVE PLOT AS PNG\u001b[0m\u001b[1;33m\u001b[0m\u001b[1;33m\u001b[0m\u001b[0m\n\u001b[1;32m----> 2\u001b[1;33m \u001b[0mplt\u001b[0m\u001b[1;33m.\u001b[0m\u001b[0mplot\u001b[0m\u001b[1;33m(\u001b[0m\u001b[0mx\u001b[0m\u001b[1;33m,\u001b[0m \u001b[0my\u001b[0m\u001b[1;33m,\u001b[0m \u001b[0mkind\u001b[0m\u001b[1;33m=\u001b[0m\u001b[1;34m'line'\u001b[0m\u001b[1;33m)\u001b[0m\u001b[1;33m\u001b[0m\u001b[0m\n\u001b[0m\u001b[0;32m      3\u001b[0m \u001b[0mplt\u001b[0m\u001b[1;33m.\u001b[0m\u001b[0msavefig\u001b[0m\u001b[1;33m(\u001b[0m\u001b[0mts_str\u001b[0m \u001b[1;33m+\u001b[0m \u001b[1;34m\"line_graph.png\"\u001b[0m\u001b[1;33m)\u001b[0m\u001b[1;33m\u001b[0m\u001b[0m\n",
      "\u001b[1;32m~\\miniconda3\\envs\\py3\\lib\\site-packages\\matplotlib\\pyplot.py\u001b[0m in \u001b[0;36mplot\u001b[1;34m(scalex, scaley, data, *args, **kwargs)\u001b[0m\n\u001b[0;32m   2793\u001b[0m     return gca().plot(\n\u001b[0;32m   2794\u001b[0m         *args, scalex=scalex, scaley=scaley, **({\"data\": data} if data\n\u001b[1;32m-> 2795\u001b[1;33m         is not None else {}), **kwargs)\n\u001b[0m\u001b[0;32m   2796\u001b[0m \u001b[1;33m\u001b[0m\u001b[0m\n\u001b[0;32m   2797\u001b[0m \u001b[1;33m\u001b[0m\u001b[0m\n",
      "\u001b[1;32m~\\miniconda3\\envs\\py3\\lib\\site-packages\\matplotlib\\axes\\_axes.py\u001b[0m in \u001b[0;36mplot\u001b[1;34m(self, scalex, scaley, data, *args, **kwargs)\u001b[0m\n\u001b[0;32m   1664\u001b[0m         \"\"\"\n\u001b[0;32m   1665\u001b[0m         \u001b[0mkwargs\u001b[0m \u001b[1;33m=\u001b[0m \u001b[0mcbook\u001b[0m\u001b[1;33m.\u001b[0m\u001b[0mnormalize_kwargs\u001b[0m\u001b[1;33m(\u001b[0m\u001b[0mkwargs\u001b[0m\u001b[1;33m,\u001b[0m \u001b[0mmlines\u001b[0m\u001b[1;33m.\u001b[0m\u001b[0mLine2D\u001b[0m\u001b[1;33m.\u001b[0m\u001b[0m_alias_map\u001b[0m\u001b[1;33m)\u001b[0m\u001b[1;33m\u001b[0m\u001b[0m\n\u001b[1;32m-> 1666\u001b[1;33m         \u001b[0mlines\u001b[0m \u001b[1;33m=\u001b[0m \u001b[1;33m[\u001b[0m\u001b[1;33m*\u001b[0m\u001b[0mself\u001b[0m\u001b[1;33m.\u001b[0m\u001b[0m_get_lines\u001b[0m\u001b[1;33m(\u001b[0m\u001b[1;33m*\u001b[0m\u001b[0margs\u001b[0m\u001b[1;33m,\u001b[0m \u001b[0mdata\u001b[0m\u001b[1;33m=\u001b[0m\u001b[0mdata\u001b[0m\u001b[1;33m,\u001b[0m \u001b[1;33m**\u001b[0m\u001b[0mkwargs\u001b[0m\u001b[1;33m)\u001b[0m\u001b[1;33m]\u001b[0m\u001b[1;33m\u001b[0m\u001b[0m\n\u001b[0m\u001b[0;32m   1667\u001b[0m         \u001b[1;32mfor\u001b[0m \u001b[0mline\u001b[0m \u001b[1;32min\u001b[0m \u001b[0mlines\u001b[0m\u001b[1;33m:\u001b[0m\u001b[1;33m\u001b[0m\u001b[0m\n\u001b[0;32m   1668\u001b[0m             \u001b[0mself\u001b[0m\u001b[1;33m.\u001b[0m\u001b[0madd_line\u001b[0m\u001b[1;33m(\u001b[0m\u001b[0mline\u001b[0m\u001b[1;33m)\u001b[0m\u001b[1;33m\u001b[0m\u001b[0m\n",
      "\u001b[1;32m~\\miniconda3\\envs\\py3\\lib\\site-packages\\matplotlib\\axes\\_base.py\u001b[0m in \u001b[0;36m__call__\u001b[1;34m(self, *args, **kwargs)\u001b[0m\n\u001b[0;32m    223\u001b[0m                 \u001b[0mthis\u001b[0m \u001b[1;33m+=\u001b[0m \u001b[0margs\u001b[0m\u001b[1;33m[\u001b[0m\u001b[1;36m0\u001b[0m\u001b[1;33m]\u001b[0m\u001b[1;33m,\u001b[0m\u001b[1;33m\u001b[0m\u001b[0m\n\u001b[0;32m    224\u001b[0m                 \u001b[0margs\u001b[0m \u001b[1;33m=\u001b[0m \u001b[0margs\u001b[0m\u001b[1;33m[\u001b[0m\u001b[1;36m1\u001b[0m\u001b[1;33m:\u001b[0m\u001b[1;33m]\u001b[0m\u001b[1;33m\u001b[0m\u001b[0m\n\u001b[1;32m--> 225\u001b[1;33m             \u001b[1;32myield\u001b[0m \u001b[1;32mfrom\u001b[0m \u001b[0mself\u001b[0m\u001b[1;33m.\u001b[0m\u001b[0m_plot_args\u001b[0m\u001b[1;33m(\u001b[0m\u001b[0mthis\u001b[0m\u001b[1;33m,\u001b[0m \u001b[0mkwargs\u001b[0m\u001b[1;33m)\u001b[0m\u001b[1;33m\u001b[0m\u001b[0m\n\u001b[0m\u001b[0;32m    226\u001b[0m \u001b[1;33m\u001b[0m\u001b[0m\n\u001b[0;32m    227\u001b[0m     \u001b[1;32mdef\u001b[0m \u001b[0mget_next_color\u001b[0m\u001b[1;33m(\u001b[0m\u001b[0mself\u001b[0m\u001b[1;33m)\u001b[0m\u001b[1;33m:\u001b[0m\u001b[1;33m\u001b[0m\u001b[0m\n",
      "\u001b[1;32m~\\miniconda3\\envs\\py3\\lib\\site-packages\\matplotlib\\axes\\_base.py\u001b[0m in \u001b[0;36m_plot_args\u001b[1;34m(self, tup, kwargs)\u001b[0m\n\u001b[0;32m    389\u001b[0m             \u001b[0mx\u001b[0m\u001b[1;33m,\u001b[0m \u001b[0my\u001b[0m \u001b[1;33m=\u001b[0m \u001b[0mindex_of\u001b[0m\u001b[1;33m(\u001b[0m\u001b[0mtup\u001b[0m\u001b[1;33m[\u001b[0m\u001b[1;33m-\u001b[0m\u001b[1;36m1\u001b[0m\u001b[1;33m]\u001b[0m\u001b[1;33m)\u001b[0m\u001b[1;33m\u001b[0m\u001b[0m\n\u001b[0;32m    390\u001b[0m \u001b[1;33m\u001b[0m\u001b[0m\n\u001b[1;32m--> 391\u001b[1;33m         \u001b[0mx\u001b[0m\u001b[1;33m,\u001b[0m \u001b[0my\u001b[0m \u001b[1;33m=\u001b[0m \u001b[0mself\u001b[0m\u001b[1;33m.\u001b[0m\u001b[0m_xy_from_xy\u001b[0m\u001b[1;33m(\u001b[0m\u001b[0mx\u001b[0m\u001b[1;33m,\u001b[0m \u001b[0my\u001b[0m\u001b[1;33m)\u001b[0m\u001b[1;33m\u001b[0m\u001b[0m\n\u001b[0m\u001b[0;32m    392\u001b[0m \u001b[1;33m\u001b[0m\u001b[0m\n\u001b[0;32m    393\u001b[0m         \u001b[1;32mif\u001b[0m \u001b[0mself\u001b[0m\u001b[1;33m.\u001b[0m\u001b[0mcommand\u001b[0m \u001b[1;33m==\u001b[0m \u001b[1;34m'plot'\u001b[0m\u001b[1;33m:\u001b[0m\u001b[1;33m\u001b[0m\u001b[0m\n",
      "\u001b[1;32m~\\miniconda3\\envs\\py3\\lib\\site-packages\\matplotlib\\axes\\_base.py\u001b[0m in \u001b[0;36m_xy_from_xy\u001b[1;34m(self, x, y)\u001b[0m\n\u001b[0;32m    268\u001b[0m         \u001b[1;32mif\u001b[0m \u001b[0mx\u001b[0m\u001b[1;33m.\u001b[0m\u001b[0mshape\u001b[0m\u001b[1;33m[\u001b[0m\u001b[1;36m0\u001b[0m\u001b[1;33m]\u001b[0m \u001b[1;33m!=\u001b[0m \u001b[0my\u001b[0m\u001b[1;33m.\u001b[0m\u001b[0mshape\u001b[0m\u001b[1;33m[\u001b[0m\u001b[1;36m0\u001b[0m\u001b[1;33m]\u001b[0m\u001b[1;33m:\u001b[0m\u001b[1;33m\u001b[0m\u001b[0m\n\u001b[0;32m    269\u001b[0m             raise ValueError(\"x and y must have same first dimension, but \"\n\u001b[1;32m--> 270\u001b[1;33m                              \"have shapes {} and {}\".format(x.shape, y.shape))\n\u001b[0m\u001b[0;32m    271\u001b[0m         \u001b[1;32mif\u001b[0m \u001b[0mx\u001b[0m\u001b[1;33m.\u001b[0m\u001b[0mndim\u001b[0m \u001b[1;33m>\u001b[0m \u001b[1;36m2\u001b[0m \u001b[1;32mor\u001b[0m \u001b[0my\u001b[0m\u001b[1;33m.\u001b[0m\u001b[0mndim\u001b[0m \u001b[1;33m>\u001b[0m \u001b[1;36m2\u001b[0m\u001b[1;33m:\u001b[0m\u001b[1;33m\u001b[0m\u001b[0m\n\u001b[0;32m    272\u001b[0m             raise ValueError(\"x and y can be no greater than 2-D, but have \"\n",
      "\u001b[1;31mValueError\u001b[0m: x and y must have same first dimension, but have shapes (24,) and (3,)"
     ]
    },
    {
     "data": {
      "image/png": "[encoded data removed]",
      "text/plain": [
       "<Figure size 432x288 with 1 Axes>"
      ]
     },
     "metadata": {
      "needs_background": "light"
     },
     "output_type": "display_data"
    }
   ],
   "source": [
    "# CREATE AND SAVE PLOT AS PNG\n",
    "plt.plot(x, y, kind='line')\n",
    "plt.savefig(ts_str + \"line_graph.png\")"
   ]
  },
  {
   "cell_type": "code",
   "execution_count": null,
   "metadata": {
    "ExecuteTime": {
     "end_time": "2020-02-25T21:58:18.622583Z",
     "start_time": "2020-02-25T21:58:18.386580Z"
    }
   },
   "outputs": [],
   "source": []
  },
  {
   "cell_type": "code",
   "execution_count": null,
   "metadata": {},
   "outputs": [],
   "source": [
    "# WRITE DATAFRAME TO ACTIVE WORKSHEET"
   ]
  },
  {
   "cell_type": "raw",
   "metadata": {
    "raw_mimetype": "text/markdown"
   },
   "source": [
    "### `unstack` data **columns** (axis=0)"
   ]
  },
  {
   "cell_type": "raw",
   "metadata": {
    "ExecuteTime": {
     "end_time": "2020-02-25T19:12:13.623721Z",
     "start_time": "2020-02-25T19:12:13.607720Z"
    },
    "raw_mimetype": "text/x-python"
   },
   "source": [
    "test_unstack = df_daily_unstacked_1.columns.unstack(level=0)"
   ]
  },
  {
   "cell_type": "raw",
   "metadata": {
    "ExecuteTime": {
     "end_time": "2020-02-25T16:13:38.106487Z",
     "start_time": "2020-02-25T16:13:38.096482Z"
    },
    "raw_mimetype": "text/x-python"
   },
   "source": [
    "df_daily_levels.unstack(level=1).to_csv(\"df_daily_levels_UNSTACKED.csv\", index=True)"
   ]
  },
  {
   "cell_type": "raw",
   "metadata": {
    "ExecuteTime": {
     "end_time": "2020-02-25T21:02:59.345471Z",
     "start_time": "2020-02-25T21:02:09.390Z"
    },
    "raw_mimetype": "text/x-python"
   },
   "source": [
    "df_daily_unstacked = df_daily_levels.unstack(0)\n",
    "df_daily_unstacked"
   ]
  },
  {
   "cell_type": "raw",
   "metadata": {
    "ExecuteTime": {
     "end_time": "2020-02-25T21:02:59.346469Z",
     "start_time": "2020-02-25T21:02:09.401Z"
    },
    "raw_mimetype": "text/x-python"
   },
   "source": [
    "df_daily_unstacked.info()"
   ]
  },
  {
   "cell_type": "raw",
   "metadata": {
    "ExecuteTime": {
     "end_time": "2020-02-25T21:02:59.348469Z",
     "start_time": "2020-02-25T21:02:09.407Z"
    },
    "raw_mimetype": "text/x-python"
   },
   "source": [
    "df_daily_unstacked.to_csv(\"df_daily_levels_2020_02_25_unstacked.csv\", index=True)"
   ]
  },
  {
   "cell_type": "raw",
   "metadata": {
    "ExecuteTime": {
     "end_time": "2020-02-25T21:02:59.349471Z",
     "start_time": "2020-02-25T21:02:09.415Z"
    },
    "raw_mimetype": "text/x-python"
   },
   "source": [
    "for row in df_daily_levels.unstack(0).itertuples(index=True): # {\n",
    "    print(len(row))\n",
    "# }"
   ]
  },
  {
   "cell_type": "raw",
   "metadata": {
    "ExecuteTime": {
     "end_time": "2020-02-24T16:47:24.782377Z",
     "start_time": "2020-02-24T16:47:24.775342Z"
    },
    "raw_mimetype": "text/x-python"
   },
   "source": [
    "merged = df_daily_levels.merge(df_month_range.set_index(['QCDate']), left_index=True, right_index=True,\n",
    "                              how='left')"
   ]
  },
  {
   "cell_type": "raw",
   "metadata": {
    "ExecuteTime": {
     "end_time": "2020-02-24T16:22:57.040002Z",
     "start_time": "2020-02-24T16:22:57.021971Z"
    },
    "raw_mimetype": "text/x-python"
   },
   "source": [
    "merged = df_daily_levels.join(df_month_range, on = df_daily_levels.index, how = 'right', lsuffix='_x')"
   ]
  },
  {
   "cell_type": "raw",
   "metadata": {
    "ExecuteTime": {
     "end_time": "2020-02-24T17:10:08.138037Z",
     "start_time": "2020-02-24T17:10:07.856031Z"
    },
    "raw_mimetype": "text/x-python"
   },
   "source": [
    "merged = pd.merge(left=df_daily_levels, right=df_month_range)"
   ]
  },
  {
   "cell_type": "raw",
   "metadata": {
    "ExecuteTime": {
     "end_time": "2020-02-25T19:51:13.660538Z",
     "start_time": "2020-02-25T19:51:13.650538Z"
    },
    "raw_mimetype": "text/x-python"
   },
   "source": [
    "merged = df_daily_levels.append(df_month_range, ignore_index=True, sort=True)"
   ]
  },
  {
   "cell_type": "markdown",
   "metadata": {},
   "source": [
    "---\n",
    "# Create *empty* `DataFrame` to hold **FINAL** `Metrics` \n",
    "*(and lists to hold columns*)"
   ]
  },
  {
   "cell_type": "code",
   "execution_count": 98,
   "metadata": {
    "ExecuteTime": {
     "end_time": "2020-02-25T21:35:22.896713Z",
     "start_time": "2020-02-25T21:35:22.888715Z"
    }
   },
   "outputs": [],
   "source": [
    "QCMetrics_Month = pd.DataFrame(data=None,\n",
    "                              index=pd.date_range(start=one_month_ago,\n",
    "                                                 end=test_date,\n",
    "                                                 freq='D',\n",
    "                                                 name='QCDate'),\n",
    "                              columns=pd.CategoricalIndex(['L1', 'L2', 'L3'], name='Levels')\n",
    "                              )"
   ]
  },
  {
   "cell_type": "code",
   "execution_count": 99,
   "metadata": {
    "ExecuteTime": {
     "end_time": "2020-02-25T21:35:39.507832Z",
     "start_time": "2020-02-25T21:35:39.502314Z"
    }
   },
   "outputs": [
    {
     "data": {
      "text/plain": [
       "DatetimeIndex(['2020-01-15', '2020-01-16', '2020-01-17', '2020-01-18',\n",
       "               '2020-01-19', '2020-01-20', '2020-01-21', '2020-01-22',\n",
       "               '2020-01-23', '2020-01-24', '2020-01-25', '2020-01-26',\n",
       "               '2020-01-27', '2020-01-28', '2020-01-29', '2020-01-30',\n",
       "               '2020-01-31', '2020-02-01', '2020-02-02', '2020-02-03',\n",
       "               '2020-02-04', '2020-02-05', '2020-02-06', '2020-02-07',\n",
       "               '2020-02-08', '2020-02-09', '2020-02-10', '2020-02-11',\n",
       "               '2020-02-12', '2020-02-13', '2020-02-14'],\n",
       "              dtype='datetime64[ns]', name='QCDate', freq='D')"
      ]
     },
     "execution_count": 99,
     "metadata": {},
     "output_type": "execute_result"
    }
   ],
   "source": [
    "QCMetrics_Month.index"
   ]
  },
  {
   "cell_type": "code",
   "execution_count": 100,
   "metadata": {
    "ExecuteTime": {
     "end_time": "2020-02-25T21:35:55.718826Z",
     "start_time": "2020-02-25T21:35:55.708791Z"
    }
   },
   "outputs": [
    {
     "data": {
      "text/plain": [
       "CategoricalIndex(['L1', 'L2', 'L3'], categories=['L1', 'L2', 'L3'], ordered=False, name='Levels', dtype='category')"
      ]
     },
     "execution_count": 100,
     "metadata": {},
     "output_type": "execute_result"
    }
   ],
   "source": [
    "QCMetrics_Month.columns"
   ]
  },
  {
   "cell_type": "code",
   "execution_count": 101,
   "metadata": {
    "ExecuteTime": {
     "end_time": "2020-02-25T21:36:11.961181Z",
     "start_time": "2020-02-25T21:36:11.948182Z"
    }
   },
   "outputs": [
    {
     "data": {
      "text/html": [
       "<div>\n",
       "<style scoped>\n",
       "    .dataframe tbody tr th:only-of-type {\n",
       "        vertical-align: middle;\n",
       "    }\n",
       "\n",
       "    .dataframe tbody tr th {\n",
       "        vertical-align: top;\n",
       "    }\n",
       "\n",
       "    .dataframe thead th {\n",
       "        text-align: right;\n",
       "    }\n",
       "</style>\n",
       "<table border=\"1\" class=\"dataframe\">\n",
       "  <thead>\n",
       "    <tr style=\"text-align: right;\">\n",
       "      <th>Levels</th>\n",
       "      <th>L1</th>\n",
       "      <th>L2</th>\n",
       "      <th>L3</th>\n",
       "    </tr>\n",
       "    <tr>\n",
       "      <th>QCDate</th>\n",
       "      <th></th>\n",
       "      <th></th>\n",
       "      <th></th>\n",
       "    </tr>\n",
       "  </thead>\n",
       "  <tbody>\n",
       "    <tr>\n",
       "      <td>2020-01-15</td>\n",
       "      <td>NaN</td>\n",
       "      <td>NaN</td>\n",
       "      <td>NaN</td>\n",
       "    </tr>\n",
       "    <tr>\n",
       "      <td>2020-01-16</td>\n",
       "      <td>NaN</td>\n",
       "      <td>NaN</td>\n",
       "      <td>NaN</td>\n",
       "    </tr>\n",
       "    <tr>\n",
       "      <td>2020-01-17</td>\n",
       "      <td>NaN</td>\n",
       "      <td>NaN</td>\n",
       "      <td>NaN</td>\n",
       "    </tr>\n",
       "    <tr>\n",
       "      <td>2020-01-18</td>\n",
       "      <td>NaN</td>\n",
       "      <td>NaN</td>\n",
       "      <td>NaN</td>\n",
       "    </tr>\n",
       "    <tr>\n",
       "      <td>2020-01-19</td>\n",
       "      <td>NaN</td>\n",
       "      <td>NaN</td>\n",
       "      <td>NaN</td>\n",
       "    </tr>\n",
       "    <tr>\n",
       "      <td>2020-01-20</td>\n",
       "      <td>NaN</td>\n",
       "      <td>NaN</td>\n",
       "      <td>NaN</td>\n",
       "    </tr>\n",
       "    <tr>\n",
       "      <td>2020-01-21</td>\n",
       "      <td>NaN</td>\n",
       "      <td>NaN</td>\n",
       "      <td>NaN</td>\n",
       "    </tr>\n",
       "    <tr>\n",
       "      <td>2020-01-22</td>\n",
       "      <td>NaN</td>\n",
       "      <td>NaN</td>\n",
       "      <td>NaN</td>\n",
       "    </tr>\n",
       "    <tr>\n",
       "      <td>2020-01-23</td>\n",
       "      <td>NaN</td>\n",
       "      <td>NaN</td>\n",
       "      <td>NaN</td>\n",
       "    </tr>\n",
       "    <tr>\n",
       "      <td>2020-01-24</td>\n",
       "      <td>NaN</td>\n",
       "      <td>NaN</td>\n",
       "      <td>NaN</td>\n",
       "    </tr>\n",
       "    <tr>\n",
       "      <td>2020-01-25</td>\n",
       "      <td>NaN</td>\n",
       "      <td>NaN</td>\n",
       "      <td>NaN</td>\n",
       "    </tr>\n",
       "    <tr>\n",
       "      <td>2020-01-26</td>\n",
       "      <td>NaN</td>\n",
       "      <td>NaN</td>\n",
       "      <td>NaN</td>\n",
       "    </tr>\n",
       "    <tr>\n",
       "      <td>2020-01-27</td>\n",
       "      <td>NaN</td>\n",
       "      <td>NaN</td>\n",
       "      <td>NaN</td>\n",
       "    </tr>\n",
       "    <tr>\n",
       "      <td>2020-01-28</td>\n",
       "      <td>NaN</td>\n",
       "      <td>NaN</td>\n",
       "      <td>NaN</td>\n",
       "    </tr>\n",
       "    <tr>\n",
       "      <td>2020-01-29</td>\n",
       "      <td>NaN</td>\n",
       "      <td>NaN</td>\n",
       "      <td>NaN</td>\n",
       "    </tr>\n",
       "    <tr>\n",
       "      <td>2020-01-30</td>\n",
       "      <td>NaN</td>\n",
       "      <td>NaN</td>\n",
       "      <td>NaN</td>\n",
       "    </tr>\n",
       "    <tr>\n",
       "      <td>2020-01-31</td>\n",
       "      <td>NaN</td>\n",
       "      <td>NaN</td>\n",
       "      <td>NaN</td>\n",
       "    </tr>\n",
       "    <tr>\n",
       "      <td>2020-02-01</td>\n",
       "      <td>NaN</td>\n",
       "      <td>NaN</td>\n",
       "      <td>NaN</td>\n",
       "    </tr>\n",
       "    <tr>\n",
       "      <td>2020-02-02</td>\n",
       "      <td>NaN</td>\n",
       "      <td>NaN</td>\n",
       "      <td>NaN</td>\n",
       "    </tr>\n",
       "    <tr>\n",
       "      <td>2020-02-03</td>\n",
       "      <td>NaN</td>\n",
       "      <td>NaN</td>\n",
       "      <td>NaN</td>\n",
       "    </tr>\n",
       "    <tr>\n",
       "      <td>2020-02-04</td>\n",
       "      <td>NaN</td>\n",
       "      <td>NaN</td>\n",
       "      <td>NaN</td>\n",
       "    </tr>\n",
       "    <tr>\n",
       "      <td>2020-02-05</td>\n",
       "      <td>NaN</td>\n",
       "      <td>NaN</td>\n",
       "      <td>NaN</td>\n",
       "    </tr>\n",
       "    <tr>\n",
       "      <td>2020-02-06</td>\n",
       "      <td>NaN</td>\n",
       "      <td>NaN</td>\n",
       "      <td>NaN</td>\n",
       "    </tr>\n",
       "    <tr>\n",
       "      <td>2020-02-07</td>\n",
       "      <td>NaN</td>\n",
       "      <td>NaN</td>\n",
       "      <td>NaN</td>\n",
       "    </tr>\n",
       "    <tr>\n",
       "      <td>2020-02-08</td>\n",
       "      <td>NaN</td>\n",
       "      <td>NaN</td>\n",
       "      <td>NaN</td>\n",
       "    </tr>\n",
       "    <tr>\n",
       "      <td>2020-02-09</td>\n",
       "      <td>NaN</td>\n",
       "      <td>NaN</td>\n",
       "      <td>NaN</td>\n",
       "    </tr>\n",
       "    <tr>\n",
       "      <td>2020-02-10</td>\n",
       "      <td>NaN</td>\n",
       "      <td>NaN</td>\n",
       "      <td>NaN</td>\n",
       "    </tr>\n",
       "    <tr>\n",
       "      <td>2020-02-11</td>\n",
       "      <td>NaN</td>\n",
       "      <td>NaN</td>\n",
       "      <td>NaN</td>\n",
       "    </tr>\n",
       "    <tr>\n",
       "      <td>2020-02-12</td>\n",
       "      <td>NaN</td>\n",
       "      <td>NaN</td>\n",
       "      <td>NaN</td>\n",
       "    </tr>\n",
       "    <tr>\n",
       "      <td>2020-02-13</td>\n",
       "      <td>NaN</td>\n",
       "      <td>NaN</td>\n",
       "      <td>NaN</td>\n",
       "    </tr>\n",
       "    <tr>\n",
       "      <td>2020-02-14</td>\n",
       "      <td>NaN</td>\n",
       "      <td>NaN</td>\n",
       "      <td>NaN</td>\n",
       "    </tr>\n",
       "  </tbody>\n",
       "</table>\n",
       "</div>"
      ],
      "text/plain": [
       "Levels       L1   L2   L3\n",
       "QCDate                   \n",
       "2020-01-15  NaN  NaN  NaN\n",
       "2020-01-16  NaN  NaN  NaN\n",
       "2020-01-17  NaN  NaN  NaN\n",
       "2020-01-18  NaN  NaN  NaN\n",
       "2020-01-19  NaN  NaN  NaN\n",
       "2020-01-20  NaN  NaN  NaN\n",
       "2020-01-21  NaN  NaN  NaN\n",
       "2020-01-22  NaN  NaN  NaN\n",
       "2020-01-23  NaN  NaN  NaN\n",
       "2020-01-24  NaN  NaN  NaN\n",
       "2020-01-25  NaN  NaN  NaN\n",
       "2020-01-26  NaN  NaN  NaN\n",
       "2020-01-27  NaN  NaN  NaN\n",
       "2020-01-28  NaN  NaN  NaN\n",
       "2020-01-29  NaN  NaN  NaN\n",
       "2020-01-30  NaN  NaN  NaN\n",
       "2020-01-31  NaN  NaN  NaN\n",
       "2020-02-01  NaN  NaN  NaN\n",
       "2020-02-02  NaN  NaN  NaN\n",
       "2020-02-03  NaN  NaN  NaN\n",
       "2020-02-04  NaN  NaN  NaN\n",
       "2020-02-05  NaN  NaN  NaN\n",
       "2020-02-06  NaN  NaN  NaN\n",
       "2020-02-07  NaN  NaN  NaN\n",
       "2020-02-08  NaN  NaN  NaN\n",
       "2020-02-09  NaN  NaN  NaN\n",
       "2020-02-10  NaN  NaN  NaN\n",
       "2020-02-11  NaN  NaN  NaN\n",
       "2020-02-12  NaN  NaN  NaN\n",
       "2020-02-13  NaN  NaN  NaN\n",
       "2020-02-14  NaN  NaN  NaN"
      ]
     },
     "execution_count": 101,
     "metadata": {},
     "output_type": "execute_result"
    }
   ],
   "source": [
    "QCMetrics_Month"
   ]
  },
  {
   "cell_type": "code",
   "execution_count": 102,
   "metadata": {
    "ExecuteTime": {
     "end_time": "2020-02-25T21:36:28.406344Z",
     "start_time": "2020-02-25T21:36:28.396822Z"
    }
   },
   "outputs": [
    {
     "data": {
      "text/html": [
       "<div>\n",
       "<style scoped>\n",
       "    .dataframe tbody tr th:only-of-type {\n",
       "        vertical-align: middle;\n",
       "    }\n",
       "\n",
       "    .dataframe tbody tr th {\n",
       "        vertical-align: top;\n",
       "    }\n",
       "\n",
       "    .dataframe thead th {\n",
       "        text-align: right;\n",
       "    }\n",
       "</style>\n",
       "<table border=\"1\" class=\"dataframe\">\n",
       "  <thead>\n",
       "    <tr style=\"text-align: right;\">\n",
       "      <th></th>\n",
       "      <th></th>\n",
       "      <th>Count</th>\n",
       "    </tr>\n",
       "    <tr>\n",
       "      <th>QCDate</th>\n",
       "      <th>QCValidation</th>\n",
       "      <th></th>\n",
       "    </tr>\n",
       "  </thead>\n",
       "  <tbody>\n",
       "    <tr>\n",
       "      <td rowspan=\"2\" valign=\"top\">2020-01-15</td>\n",
       "      <td>1.0</td>\n",
       "      <td>18</td>\n",
       "    </tr>\n",
       "    <tr>\n",
       "      <td>2.0</td>\n",
       "      <td>1</td>\n",
       "    </tr>\n",
       "    <tr>\n",
       "      <td rowspan=\"2\" valign=\"top\">2020-01-16</td>\n",
       "      <td>1.0</td>\n",
       "      <td>28</td>\n",
       "    </tr>\n",
       "    <tr>\n",
       "      <td>2.0</td>\n",
       "      <td>1</td>\n",
       "    </tr>\n",
       "    <tr>\n",
       "      <td>2020-01-17</td>\n",
       "      <td>1.0</td>\n",
       "      <td>16</td>\n",
       "    </tr>\n",
       "  </tbody>\n",
       "</table>\n",
       "</div>"
      ],
      "text/plain": [
       "                         Count\n",
       "QCDate     QCValidation       \n",
       "2020-01-15 1.0              18\n",
       "           2.0               1\n",
       "2020-01-16 1.0              28\n",
       "           2.0               1\n",
       "2020-01-17 1.0              16"
      ]
     },
     "execution_count": 102,
     "metadata": {},
     "output_type": "execute_result"
    }
   ],
   "source": [
    "df_daily_levels.head(5)"
   ]
  },
  {
   "cell_type": "raw",
   "metadata": {
    "ExecuteTime": {
     "end_time": "2020-02-25T21:43:46.951182Z",
     "start_time": "2020-02-25T21:43:46.937181Z"
    },
    "raw_mimetype": "text/x-python"
   },
   "source": [
    "result = pd.concat([QCMetrics_Month, df_daily_unstacked_1],\n",
    "                   ignore_index=False, sort=True)"
   ]
  },
  {
   "cell_type": "raw",
   "metadata": {
    "ExecuteTime": {
     "end_time": "2020-02-25T21:44:03.166945Z",
     "start_time": "2020-02-25T21:44:03.149370Z"
    },
    "raw_mimetype": "text/x-python"
   },
   "source": [
    "# result"
   ]
  },
  {
   "cell_type": "code",
   "execution_count": 105,
   "metadata": {
    "ExecuteTime": {
     "end_time": "2020-02-25T21:37:18.224811Z",
     "start_time": "2020-02-25T21:37:18.215293Z"
    }
   },
   "outputs": [],
   "source": [
    "result = df_daily_levels.join(QCMetrics_Month, \n",
    "                              on = ['QCDate'],\n",
    "                              how='inner', \n",
    "                              sort=True)"
   ]
  },
  {
   "cell_type": "code",
   "execution_count": 106,
   "metadata": {
    "ExecuteTime": {
     "end_time": "2020-02-25T21:37:34.878890Z",
     "start_time": "2020-02-25T21:37:34.864891Z"
    }
   },
   "outputs": [
    {
     "data": {
      "text/html": [
       "<div>\n",
       "<style scoped>\n",
       "    .dataframe tbody tr th:only-of-type {\n",
       "        vertical-align: middle;\n",
       "    }\n",
       "\n",
       "    .dataframe tbody tr th {\n",
       "        vertical-align: top;\n",
       "    }\n",
       "\n",
       "    .dataframe thead th {\n",
       "        text-align: right;\n",
       "    }\n",
       "</style>\n",
       "<table border=\"1\" class=\"dataframe\">\n",
       "  <thead>\n",
       "    <tr style=\"text-align: right;\">\n",
       "      <th></th>\n",
       "      <th></th>\n",
       "      <th>Count</th>\n",
       "      <th>L1</th>\n",
       "      <th>L2</th>\n",
       "      <th>L3</th>\n",
       "    </tr>\n",
       "    <tr>\n",
       "      <th>QCDate</th>\n",
       "      <th>QCValidation</th>\n",
       "      <th></th>\n",
       "      <th></th>\n",
       "      <th></th>\n",
       "      <th></th>\n",
       "    </tr>\n",
       "  </thead>\n",
       "  <tbody>\n",
       "    <tr>\n",
       "      <td rowspan=\"2\" valign=\"top\">2020-01-15</td>\n",
       "      <td>1.0</td>\n",
       "      <td>18</td>\n",
       "      <td>NaN</td>\n",
       "      <td>NaN</td>\n",
       "      <td>NaN</td>\n",
       "    </tr>\n",
       "    <tr>\n",
       "      <td>2.0</td>\n",
       "      <td>1</td>\n",
       "      <td>NaN</td>\n",
       "      <td>NaN</td>\n",
       "      <td>NaN</td>\n",
       "    </tr>\n",
       "    <tr>\n",
       "      <td rowspan=\"2\" valign=\"top\">2020-01-16</td>\n",
       "      <td>1.0</td>\n",
       "      <td>28</td>\n",
       "      <td>NaN</td>\n",
       "      <td>NaN</td>\n",
       "      <td>NaN</td>\n",
       "    </tr>\n",
       "    <tr>\n",
       "      <td>2.0</td>\n",
       "      <td>1</td>\n",
       "      <td>NaN</td>\n",
       "      <td>NaN</td>\n",
       "      <td>NaN</td>\n",
       "    </tr>\n",
       "    <tr>\n",
       "      <td rowspan=\"2\" valign=\"top\">2020-01-17</td>\n",
       "      <td>1.0</td>\n",
       "      <td>16</td>\n",
       "      <td>NaN</td>\n",
       "      <td>NaN</td>\n",
       "      <td>NaN</td>\n",
       "    </tr>\n",
       "    <tr>\n",
       "      <td>2.0</td>\n",
       "      <td>1</td>\n",
       "      <td>NaN</td>\n",
       "      <td>NaN</td>\n",
       "      <td>NaN</td>\n",
       "    </tr>\n",
       "    <tr>\n",
       "      <td rowspan=\"2\" valign=\"top\">2020-01-21</td>\n",
       "      <td>1.0</td>\n",
       "      <td>29</td>\n",
       "      <td>NaN</td>\n",
       "      <td>NaN</td>\n",
       "      <td>NaN</td>\n",
       "    </tr>\n",
       "    <tr>\n",
       "      <td>2.0</td>\n",
       "      <td>2</td>\n",
       "      <td>NaN</td>\n",
       "      <td>NaN</td>\n",
       "      <td>NaN</td>\n",
       "    </tr>\n",
       "    <tr>\n",
       "      <td>2020-01-22</td>\n",
       "      <td>1.0</td>\n",
       "      <td>43</td>\n",
       "      <td>NaN</td>\n",
       "      <td>NaN</td>\n",
       "      <td>NaN</td>\n",
       "    </tr>\n",
       "    <tr>\n",
       "      <td rowspan=\"2\" valign=\"top\">2020-01-23</td>\n",
       "      <td>1.0</td>\n",
       "      <td>18</td>\n",
       "      <td>NaN</td>\n",
       "      <td>NaN</td>\n",
       "      <td>NaN</td>\n",
       "    </tr>\n",
       "    <tr>\n",
       "      <td>2.0</td>\n",
       "      <td>1</td>\n",
       "      <td>NaN</td>\n",
       "      <td>NaN</td>\n",
       "      <td>NaN</td>\n",
       "    </tr>\n",
       "    <tr>\n",
       "      <td rowspan=\"2\" valign=\"top\">2020-01-24</td>\n",
       "      <td>1.0</td>\n",
       "      <td>23</td>\n",
       "      <td>NaN</td>\n",
       "      <td>NaN</td>\n",
       "      <td>NaN</td>\n",
       "    </tr>\n",
       "    <tr>\n",
       "      <td>2.0</td>\n",
       "      <td>1</td>\n",
       "      <td>NaN</td>\n",
       "      <td>NaN</td>\n",
       "      <td>NaN</td>\n",
       "    </tr>\n",
       "    <tr>\n",
       "      <td>2020-01-25</td>\n",
       "      <td>1.0</td>\n",
       "      <td>3</td>\n",
       "      <td>NaN</td>\n",
       "      <td>NaN</td>\n",
       "      <td>NaN</td>\n",
       "    </tr>\n",
       "    <tr>\n",
       "      <td>2020-01-27</td>\n",
       "      <td>1.0</td>\n",
       "      <td>35</td>\n",
       "      <td>NaN</td>\n",
       "      <td>NaN</td>\n",
       "      <td>NaN</td>\n",
       "    </tr>\n",
       "    <tr>\n",
       "      <td>2020-01-28</td>\n",
       "      <td>1.0</td>\n",
       "      <td>14</td>\n",
       "      <td>NaN</td>\n",
       "      <td>NaN</td>\n",
       "      <td>NaN</td>\n",
       "    </tr>\n",
       "    <tr>\n",
       "      <td>2020-01-29</td>\n",
       "      <td>1.0</td>\n",
       "      <td>24</td>\n",
       "      <td>NaN</td>\n",
       "      <td>NaN</td>\n",
       "      <td>NaN</td>\n",
       "    </tr>\n",
       "    <tr>\n",
       "      <td rowspan=\"2\" valign=\"top\">2020-01-30</td>\n",
       "      <td>1.0</td>\n",
       "      <td>21</td>\n",
       "      <td>NaN</td>\n",
       "      <td>NaN</td>\n",
       "      <td>NaN</td>\n",
       "    </tr>\n",
       "    <tr>\n",
       "      <td>2.0</td>\n",
       "      <td>1</td>\n",
       "      <td>NaN</td>\n",
       "      <td>NaN</td>\n",
       "      <td>NaN</td>\n",
       "    </tr>\n",
       "    <tr>\n",
       "      <td>2020-01-31</td>\n",
       "      <td>1.0</td>\n",
       "      <td>8</td>\n",
       "      <td>NaN</td>\n",
       "      <td>NaN</td>\n",
       "      <td>NaN</td>\n",
       "    </tr>\n",
       "    <tr>\n",
       "      <td rowspan=\"3\" valign=\"top\">2020-02-03</td>\n",
       "      <td>1.0</td>\n",
       "      <td>10</td>\n",
       "      <td>NaN</td>\n",
       "      <td>NaN</td>\n",
       "      <td>NaN</td>\n",
       "    </tr>\n",
       "    <tr>\n",
       "      <td>2.0</td>\n",
       "      <td>1</td>\n",
       "      <td>NaN</td>\n",
       "      <td>NaN</td>\n",
       "      <td>NaN</td>\n",
       "    </tr>\n",
       "    <tr>\n",
       "      <td>3.0</td>\n",
       "      <td>2</td>\n",
       "      <td>NaN</td>\n",
       "      <td>NaN</td>\n",
       "      <td>NaN</td>\n",
       "    </tr>\n",
       "    <tr>\n",
       "      <td>2020-02-04</td>\n",
       "      <td>1.0</td>\n",
       "      <td>33</td>\n",
       "      <td>NaN</td>\n",
       "      <td>NaN</td>\n",
       "      <td>NaN</td>\n",
       "    </tr>\n",
       "    <tr>\n",
       "      <td rowspan=\"2\" valign=\"top\">2020-02-05</td>\n",
       "      <td>1.0</td>\n",
       "      <td>23</td>\n",
       "      <td>NaN</td>\n",
       "      <td>NaN</td>\n",
       "      <td>NaN</td>\n",
       "    </tr>\n",
       "    <tr>\n",
       "      <td>3.0</td>\n",
       "      <td>1</td>\n",
       "      <td>NaN</td>\n",
       "      <td>NaN</td>\n",
       "      <td>NaN</td>\n",
       "    </tr>\n",
       "    <tr>\n",
       "      <td rowspan=\"2\" valign=\"top\">2020-02-06</td>\n",
       "      <td>1.0</td>\n",
       "      <td>41</td>\n",
       "      <td>NaN</td>\n",
       "      <td>NaN</td>\n",
       "      <td>NaN</td>\n",
       "    </tr>\n",
       "    <tr>\n",
       "      <td>3.0</td>\n",
       "      <td>1</td>\n",
       "      <td>NaN</td>\n",
       "      <td>NaN</td>\n",
       "      <td>NaN</td>\n",
       "    </tr>\n",
       "    <tr>\n",
       "      <td rowspan=\"2\" valign=\"top\">2020-02-07</td>\n",
       "      <td>1.0</td>\n",
       "      <td>29</td>\n",
       "      <td>NaN</td>\n",
       "      <td>NaN</td>\n",
       "      <td>NaN</td>\n",
       "    </tr>\n",
       "    <tr>\n",
       "      <td>2.0</td>\n",
       "      <td>3</td>\n",
       "      <td>NaN</td>\n",
       "      <td>NaN</td>\n",
       "      <td>NaN</td>\n",
       "    </tr>\n",
       "    <tr>\n",
       "      <td>2020-02-08</td>\n",
       "      <td>1.0</td>\n",
       "      <td>2</td>\n",
       "      <td>NaN</td>\n",
       "      <td>NaN</td>\n",
       "      <td>NaN</td>\n",
       "    </tr>\n",
       "    <tr>\n",
       "      <td>2020-02-10</td>\n",
       "      <td>1.0</td>\n",
       "      <td>47</td>\n",
       "      <td>NaN</td>\n",
       "      <td>NaN</td>\n",
       "      <td>NaN</td>\n",
       "    </tr>\n",
       "    <tr>\n",
       "      <td>2020-02-11</td>\n",
       "      <td>1.0</td>\n",
       "      <td>41</td>\n",
       "      <td>NaN</td>\n",
       "      <td>NaN</td>\n",
       "      <td>NaN</td>\n",
       "    </tr>\n",
       "    <tr>\n",
       "      <td>2020-02-12</td>\n",
       "      <td>1.0</td>\n",
       "      <td>25</td>\n",
       "      <td>NaN</td>\n",
       "      <td>NaN</td>\n",
       "      <td>NaN</td>\n",
       "    </tr>\n",
       "    <tr>\n",
       "      <td rowspan=\"2\" valign=\"top\">2020-02-13</td>\n",
       "      <td>1.0</td>\n",
       "      <td>33</td>\n",
       "      <td>NaN</td>\n",
       "      <td>NaN</td>\n",
       "      <td>NaN</td>\n",
       "    </tr>\n",
       "    <tr>\n",
       "      <td>3.0</td>\n",
       "      <td>1</td>\n",
       "      <td>NaN</td>\n",
       "      <td>NaN</td>\n",
       "      <td>NaN</td>\n",
       "    </tr>\n",
       "    <tr>\n",
       "      <td>2020-02-14</td>\n",
       "      <td>1.0</td>\n",
       "      <td>4</td>\n",
       "      <td>NaN</td>\n",
       "      <td>NaN</td>\n",
       "      <td>NaN</td>\n",
       "    </tr>\n",
       "  </tbody>\n",
       "</table>\n",
       "</div>"
      ],
      "text/plain": [
       "                         Count   L1   L2   L3\n",
       "QCDate     QCValidation                      \n",
       "2020-01-15 1.0              18  NaN  NaN  NaN\n",
       "           2.0               1  NaN  NaN  NaN\n",
       "2020-01-16 1.0              28  NaN  NaN  NaN\n",
       "           2.0               1  NaN  NaN  NaN\n",
       "2020-01-17 1.0              16  NaN  NaN  NaN\n",
       "           2.0               1  NaN  NaN  NaN\n",
       "2020-01-21 1.0              29  NaN  NaN  NaN\n",
       "           2.0               2  NaN  NaN  NaN\n",
       "2020-01-22 1.0              43  NaN  NaN  NaN\n",
       "2020-01-23 1.0              18  NaN  NaN  NaN\n",
       "           2.0               1  NaN  NaN  NaN\n",
       "2020-01-24 1.0              23  NaN  NaN  NaN\n",
       "           2.0               1  NaN  NaN  NaN\n",
       "2020-01-25 1.0               3  NaN  NaN  NaN\n",
       "2020-01-27 1.0              35  NaN  NaN  NaN\n",
       "2020-01-28 1.0              14  NaN  NaN  NaN\n",
       "2020-01-29 1.0              24  NaN  NaN  NaN\n",
       "2020-01-30 1.0              21  NaN  NaN  NaN\n",
       "           2.0               1  NaN  NaN  NaN\n",
       "2020-01-31 1.0               8  NaN  NaN  NaN\n",
       "2020-02-03 1.0              10  NaN  NaN  NaN\n",
       "           2.0               1  NaN  NaN  NaN\n",
       "           3.0               2  NaN  NaN  NaN\n",
       "2020-02-04 1.0              33  NaN  NaN  NaN\n",
       "2020-02-05 1.0              23  NaN  NaN  NaN\n",
       "           3.0               1  NaN  NaN  NaN\n",
       "2020-02-06 1.0              41  NaN  NaN  NaN\n",
       "           3.0               1  NaN  NaN  NaN\n",
       "2020-02-07 1.0              29  NaN  NaN  NaN\n",
       "           2.0               3  NaN  NaN  NaN\n",
       "2020-02-08 1.0               2  NaN  NaN  NaN\n",
       "2020-02-10 1.0              47  NaN  NaN  NaN\n",
       "2020-02-11 1.0              41  NaN  NaN  NaN\n",
       "2020-02-12 1.0              25  NaN  NaN  NaN\n",
       "2020-02-13 1.0              33  NaN  NaN  NaN\n",
       "           3.0               1  NaN  NaN  NaN\n",
       "2020-02-14 1.0               4  NaN  NaN  NaN"
      ]
     },
     "execution_count": 106,
     "metadata": {},
     "output_type": "execute_result"
    }
   ],
   "source": [
    "result"
   ]
  },
  {
   "cell_type": "code",
   "execution_count": 107,
   "metadata": {
    "ExecuteTime": {
     "end_time": "2020-02-25T21:37:51.846368Z",
     "start_time": "2020-02-25T21:37:51.839367Z"
    }
   },
   "outputs": [
    {
     "name": "stdout",
     "output_type": "stream",
     "text": [
      "<class 'pandas.core.frame.DataFrame'>\n",
      "MultiIndex: 37 entries, (2020-01-15 00:00:00, 1.0) to (2020-02-14 00:00:00, 1.0)\n",
      "Data columns (total 4 columns):\n",
      "Count    37 non-null int64\n",
      "L1       0 non-null object\n",
      "L2       0 non-null object\n",
      "L3       0 non-null object\n",
      "dtypes: int64(1), object(3)\n",
      "memory usage: 1.6+ KB\n"
     ]
    }
   ],
   "source": [
    "result.info()"
   ]
  },
  {
   "cell_type": "code",
   "execution_count": null,
   "metadata": {},
   "outputs": [],
   "source": []
  },
  {
   "cell_type": "markdown",
   "metadata": {},
   "source": [
    "---\n",
    "# messups"
   ]
  },
  {
   "cell_type": "raw",
   "metadata": {},
   "source": [
    "''' Groupby single column in pandas python'''\n",
    "df1.groupby(['State'])['Sales'].count()"
   ]
  },
  {
   "cell_type": "raw",
   "metadata": {},
   "source": [
    "''' Groupby multiple columns '''\n",
    "df1.groupby(['State','Name'])['Sales'].count()"
   ]
  },
  {
   "cell_type": "raw",
   "metadata": {},
   "source": [
    "# sum of score group by Name and Exam \n",
    "df['Score'].groupby([df['Name'],df['Exam']]).sum()"
   ]
  },
  {
   "cell_type": "raw",
   "metadata": {},
   "source": [
    "# sum of score group by Name and Exam\n",
    "df_last_month.index.groupby([df['Name'],df['Exam']]).sum()"
   ]
  },
  {
   "cell_type": "raw",
   "metadata": {},
   "source": [
    "# GROUPBY MULTIPLE COLUMNS\n",
    "df_last_month_l1 = df_last_month.groupby(['PfBatchID'])"
   ]
  },
  {
   "cell_type": "raw",
   "metadata": {},
   "source": [
    "df_daily_level_1"
   ]
  },
  {
   "cell_type": "raw",
   "metadata": {},
   "source": [
    "len(df_daily_level_1['PfIDNo'])"
   ]
  },
  {
   "cell_type": "raw",
   "metadata": {},
   "source": [
    "df_daily_level_1.to_csv(\"df_Daily_level_1.csv\", index=True)"
   ]
  },
  {
   "cell_type": "raw",
   "metadata": {},
   "source": [
    "df_daily_level_1 = df_last_month[df_last_month.QCValidation.isin([\"1\"])]\n",
    "len(df_daily_level_1)"
   ]
  },
  {
   "cell_type": "raw",
   "metadata": {},
   "source": [
    "df_daily_level_2 = df_last_month[df_last_month.QCValidation.isin([\"2\"])]\n",
    "len(df_daily_level_2)"
   ]
  },
  {
   "cell_type": "raw",
   "metadata": {},
   "source": [
    "df_daily_level_3 = df_last_month[df_last_month.QCValidation.isin([\"3\"])]\n",
    "len(df_daily_level_3)\n",
    "df_daily_level_3"
   ]
  },
  {
   "cell_type": "raw",
   "metadata": {},
   "source": [
    "len(df_daily_level_1.resample('D').sum()['pfBatchID'])"
   ]
  },
  {
   "cell_type": "raw",
   "metadata": {},
   "source": [
    "df_daily_level_1.resample('D').sum().to_csv(\"batch_usum.csv\", index=True)"
   ]
  },
  {
   "cell_type": "markdown",
   "metadata": {},
   "source": [
    "---\n",
    "\n",
    "# `ExcelWorkBook` functions"
   ]
  },
  {
   "cell_type": "code",
   "execution_count": null,
   "metadata": {
    "ExecuteTime": {
     "end_time": "2020-02-25T21:02:59.371471Z",
     "start_time": "2020-02-25T21:02:11.374Z"
    }
   },
   "outputs": [],
   "source": [
    "# str for filename\n",
    "filename_str = str(pd.Timestamp.now())[:10]\n",
    "print(filename_str)"
   ]
  },
  {
   "cell_type": "code",
   "execution_count": null,
   "metadata": {
    "ExecuteTime": {
     "end_time": "2020-02-25T21:02:59.372469Z",
     "start_time": "2020-02-25T21:02:11.382Z"
    }
   },
   "outputs": [],
   "source": [
    "# Create new workbook\n",
    "wb = Workbook()"
   ]
  },
  {
   "cell_type": "code",
   "execution_count": null,
   "metadata": {
    "ExecuteTime": {
     "end_time": "2020-02-25T21:02:59.375470Z",
     "start_time": "2020-02-25T21:02:11.389Z"
    }
   },
   "outputs": [],
   "source": [
    "# Add sheets to workbook\n",
    "# Designate sheet name and position\n",
    "sheet1 = wb.create_sheet('sheet1',0)\n",
    "sheet2 = wb.create_sheet('sheet2',1)\n",
    "sheet3 = wb.create_sheet('sheet3',2)"
   ]
  },
  {
   "cell_type": "code",
   "execution_count": null,
   "metadata": {
    "ExecuteTime": {
     "end_time": "2020-02-25T21:02:59.377472Z",
     "start_time": "2020-02-25T21:02:11.397Z"
    }
   },
   "outputs": [],
   "source": [
    "# Activate worksheet to write dataframe\n",
    "active = wb['sheet1']\n",
    "\n",
    "# Write dataframe to active worksheet\n",
    "for x in dataframe_to_rows(df_QCMetrics):\n",
    "    active.append(x)\n",
    "\n",
    "# Save workbook to write\n",
    "wb.save(filepath)"
   ]
  },
  {
   "cell_type": "raw",
   "metadata": {},
   "source": [
    "# Remove existing sheet\n",
    "ref = wb['sheet']\n",
    "wb.remove(ref)"
   ]
  },
  {
   "cell_type": "code",
   "execution_count": null,
   "metadata": {
    "ExecuteTime": {
     "end_time": "2020-02-25T21:02:59.379472Z",
     "start_time": "2020-02-25T21:02:11.486Z"
    }
   },
   "outputs": [],
   "source": [
    "wb.save(\"QCMetrics-\"  +  filename_str + \".xlsx\")"
   ]
  },
  {
   "cell_type": "raw",
   "metadata": {},
   "source": [
    "df_last_month.to_csv(\"last_month.csv\", index=True)"
   ]
  },
  {
   "cell_type": "raw",
   "metadata": {},
   "source": [
    "# get current time\n",
    "now = datetime.now()\n",
    "print(\"Today's date: \", str(now))"
   ]
  },
  {
   "cell_type": "raw",
   "metadata": {},
   "source": [
    "# subtract 4 weeks from current date\n",
    "four_weeks_ago = now - timedelta(weeks = 4)\n",
    "print('Date FOUR weeks ago: ', four_weeks_ago)\n",
    "print('FOURR_weeks_ago object type: ', type(four_weeks_ago))"
   ]
  }
 ],
 "metadata": {
  "celltoolbar": "Raw Cell Format",
  "kernelspec": {
   "display_name": "Python 3",
   "language": "python",
   "name": "python3"
  },
  "language_info": {
   "codemirror_mode": {
    "name": "ipython",
    "version": 3
   },
   "file_extension": ".py",
   "mimetype": "text/x-python",
   "name": "python",
   "nbconvert_exporter": "python",
   "pygments_lexer": "ipython3",
   "version": "3.7.0"
  },
  "toc": {
   "base_numbering": 1,
   "nav_menu": {},
   "number_sections": true,
   "sideBar": true,
   "skip_h1_title": false,
   "title_cell": "Table of Contents",
   "title_sidebar": "Contents",
   "toc_cell": false,
   "toc_position": {},
   "toc_section_display": true,
   "toc_window_display": false
  },
  "varInspector": {
   "cols": {
    "lenName": 16,
    "lenType": 16,
    "lenVar": 40
   },
   "kernels_config": {
    "python": {
     "delete_cmd_postfix": "",
     "delete_cmd_prefix": "del ",
     "library": "var_list.py",
     "varRefreshCmd": "print(var_dic_list())"
    },
    "r": {
     "delete_cmd_postfix": ") ",
     "delete_cmd_prefix": "rm(",
     "library": "var_list.r",
     "varRefreshCmd": "cat(var_dic_list()) "
    }
   },
   "types_to_exclude": [
    "module",
    "function",
    "builtin_function_or_method",
    "instance",
    "_Feature"
   ],
   "window_display": false
  }
 },
 "nbformat": 4,
 "nbformat_minor": 4
}
