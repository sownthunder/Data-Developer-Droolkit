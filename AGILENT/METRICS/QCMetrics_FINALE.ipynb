{
 "cells": [
  {
   "cell_type": "markdown",
   "metadata": {},
   "source": [
    "# LINKS\n",
    "\n",
    "- ## [join/merge DF python pandas](https://pandas.pydata.org/pandas-docs/stable/reference/api/pandas.DataFrame.join.html)\n",
    "\n",
    "\n",
    "---"
   ]
  },
  {
   "cell_type": "code",
   "execution_count": 1,
   "metadata": {
    "ExecuteTime": {
     "end_time": "2020-02-25T21:02:06.121121Z",
     "start_time": "2020-02-25T21:02:06.114066Z"
    }
   },
   "outputs": [],
   "source": [
    "import os, sys, time\n",
    "from time import sleep\n",
    "from pathlib import Path\n",
    "from datetime import datetime, timedelta"
   ]
  },
  {
   "cell_type": "code",
   "execution_count": 2,
   "metadata": {
    "ExecuteTime": {
     "end_time": "2020-02-25T21:02:07.807167Z",
     "start_time": "2020-02-25T21:02:06.127121Z"
    }
   },
   "outputs": [],
   "source": [
    "import pandas as pd\n",
    "import numpy as np\n",
    "from pandas import Series, DataFrame\n",
    "import pyodbc"
   ]
  },
  {
   "cell_type": "code",
   "execution_count": 3,
   "metadata": {
    "ExecuteTime": {
     "end_time": "2020-02-25T21:02:08.488174Z",
     "start_time": "2020-02-25T21:02:07.809180Z"
    }
   },
   "outputs": [],
   "source": [
    "from openpyxl import Workbook, load_workbook\n",
    "from openpyxl.drawing.image import Image\n",
    "from openpyxl.utils.dataframe import dataframe_to_rows"
   ]
  },
  {
   "cell_type": "code",
   "execution_count": 4,
   "metadata": {
    "ExecuteTime": {
     "end_time": "2020-02-25T21:02:09.203197Z",
     "start_time": "2020-02-25T21:02:08.493175Z"
    }
   },
   "outputs": [],
   "source": [
    "import matplotlib\n",
    "from matplotlib import pyplot as plt\n",
    "%matplotlib inline\n",
    "matplotlib.rcParams['figure.figsize'] = [12.0, 8.0]\n",
    "# [2020-02-19]]\\\\import matplotlib.pyplot as plt\n",
    "import seaborn as sns"
   ]
  },
  {
   "cell_type": "code",
   "execution_count": 5,
   "metadata": {
    "ExecuteTime": {
     "end_time": "2020-02-25T21:02:09.220189Z",
     "start_time": "2020-02-25T21:02:09.206186Z"
    }
   },
   "outputs": [
    {
     "data": {
      "text/plain": [
       "['Microsoft Access Driver (*.mdb, *.accdb)']"
      ]
     },
     "execution_count": 5,
     "metadata": {},
     "output_type": "execute_result"
    }
   ],
   "source": [
    "[x for x in pyodbc.drivers() if x.startswith('Microsoft Access Driver')]"
   ]
  },
  {
   "cell_type": "markdown",
   "metadata": {},
   "source": [
    "## *FUNCTIONS*"
   ]
  },
  {
   "cell_type": "code",
   "execution_count": 6,
   "metadata": {
    "ExecuteTime": {
     "end_time": "2020-02-25T21:02:09.229189Z",
     "start_time": "2020-02-25T21:02:09.221184Z"
    }
   },
   "outputs": [],
   "source": [
    "def send_mail(send_from, send_to, subject, message, files=[],\n",
    "              server=\"cos.smtp.agilent.com\", port=587, use_tls=True):  # {\n",
    "    print(\"SENDING MAIL... DATE == \" + str(pd.Timestamp.now())[:10])\n",
    "    msg = MIMEMultipart()\n",
    "    msg['From'] = send_from\n",
    "    msg['To'] = COMMASPACE.join(send_to)\n",
    "    msg['Date'] = formatdate(localtime=True)\n",
    "    msg['Subject'] = subject\n",
    "\n",
    "    msg.attach(MIMEText(message))\n",
    "\n",
    "    for path in files:  # {\n",
    "        part = MIMEBase('application', \"octet-stream\")\n",
    "        with open(path, 'rb') as file:  # {\n",
    "            part.set_payload(file.read())\n",
    "        # }\n",
    "        encoders.encode_base64(part)\n",
    "        part.add_header('Content-Disposition',\n",
    "                        'attachment; filename=\"{}\"'.format(op.basename(path)))\n",
    "        msg.attach(part)\n",
    "    # }\n",
    "\n",
    "    smtp = smtplib.SMTP(server, port)\n",
    "    if use_tls:  # {\n",
    "        smtp.starttls()\n",
    "    # }\n",
    "    smtp.sendmail(send_from, send_to, msg.as_string())\n",
    "    smtp.quit()\n",
    "# }"
   ]
  },
  {
   "cell_type": "code",
   "execution_count": 7,
   "metadata": {
    "ExecuteTime": {
     "end_time": "2020-02-25T21:02:09.239185Z",
     "start_time": "2020-02-25T21:02:09.233184Z"
    }
   },
   "outputs": [],
   "source": [
    "def pull_prodflow_data(table_name): # {\n",
    "    pass\n",
    "# }"
   ]
  },
  {
   "cell_type": "code",
   "execution_count": 8,
   "metadata": {
    "ExecuteTime": {
     "end_time": "2020-02-25T21:02:09.249187Z",
     "start_time": "2020-02-25T21:02:09.243185Z"
    }
   },
   "outputs": [],
   "source": [
    "def push_prodflow_data(table_name): # {\n",
    "    pass\n",
    "# }"
   ]
  },
  {
   "cell_type": "markdown",
   "metadata": {},
   "source": [
    "## Ask for `Email Address`:"
   ]
  },
  {
   "cell_type": "raw",
   "metadata": {
    "ExecuteTime": {
     "end_time": "2020-02-24T17:09:51.249723Z",
     "start_time": "2020-02-24T17:09:39.265442Z"
    }
   },
   "source": [
    "# INFINITE LOOP TO INSURE PROPER DATA INPUT\n",
    "while 1: # {\n",
    "    email_address = input(\"Enter email:\")\n",
    "    # ASK FOR CONFIRMATION\n",
    "    confirm_str = input(\"You entered: \" + str(email_address) + \"\\nIs that correct? Y/N? \")\n",
    "    # CHECK CONFIRMATION INPUT\n",
    "    if str(confirm_str).lower() == \"n\": # {\n",
    "        print(\"OK TRY AGAIN!\")\n",
    "    # }\n",
    "    elif str(confirm_str).lower() == \"y\": # {\n",
    "        print(\"okay !\")\n",
    "        break\n",
    "    # }\n",
    "    else: # {\n",
    "        print(\">>> ERROR! \")\n",
    "    #}\n",
    "# }"
   ]
  },
  {
   "cell_type": "markdown",
   "metadata": {},
   "source": [
    "## Ask for `Date`:"
   ]
  },
  {
   "cell_type": "code",
   "execution_count": 9,
   "metadata": {
    "ExecuteTime": {
     "end_time": "2020-02-25T21:02:31.740563Z",
     "start_time": "2020-02-25T21:02:09.253188Z"
    }
   },
   "outputs": [
    {
     "name": "stdin",
     "output_type": "stream",
     "text": [
      "Input a Date: 2020-02-25\n"
     ]
    }
   ],
   "source": [
    "date_input = input(\"Input a Date:\")"
   ]
  },
  {
   "cell_type": "code",
   "execution_count": 10,
   "metadata": {
    "ExecuteTime": {
     "end_time": "2020-02-25T21:02:31.750088Z",
     "start_time": "2020-02-25T21:02:31.742563Z"
    }
   },
   "outputs": [
    {
     "name": "stdout",
     "output_type": "stream",
     "text": [
      "2020-02-25 00:00:00\n"
     ]
    }
   ],
   "source": [
    "# the_date = pd.Timestamp.now()\n",
    "test_date = pd.Timestamp(ts_input=str(date_input))\n",
    "print(test_date)"
   ]
  },
  {
   "cell_type": "code",
   "execution_count": 11,
   "metadata": {
    "ExecuteTime": {
     "end_time": "2020-02-25T21:02:31.765617Z",
     "start_time": "2020-02-25T21:02:31.752615Z"
    }
   },
   "outputs": [
    {
     "name": "stdout",
     "output_type": "stream",
     "text": [
      "2020-01-25 13:30:54\n"
     ]
    },
    {
     "name": "stderr",
     "output_type": "stream",
     "text": [
      "C:\\Users\\derbates\\miniconda3\\envs\\py3\\lib\\site-packages\\ipykernel_launcher.py:1: FutureWarning: M and Y units are deprecated and will be removed in a future version.\n",
      "  \"\"\"Entry point for launching an IPython kernel.\n"
     ]
    }
   ],
   "source": [
    "td_one_month_ago = test_date - pd.Timedelta(unit='M', value=1)\n",
    "print(td_one_month_ago)"
   ]
  },
  {
   "cell_type": "code",
   "execution_count": 12,
   "metadata": {
    "ExecuteTime": {
     "end_time": "2020-02-25T21:02:31.771616Z",
     "start_time": "2020-02-25T21:02:31.767618Z"
    }
   },
   "outputs": [],
   "source": [
    "one_month_ago = test_date - timedelta(days = 30)"
   ]
  },
  {
   "cell_type": "code",
   "execution_count": 13,
   "metadata": {
    "ExecuteTime": {
     "end_time": "2020-02-25T21:02:31.782616Z",
     "start_time": "2020-02-25T21:02:31.773619Z"
    }
   },
   "outputs": [
    {
     "name": "stdout",
     "output_type": "stream",
     "text": [
      "ONE MONTH AGO == 2020-01-26 00:00:00\n"
     ]
    }
   ],
   "source": [
    "print(\"ONE MONTH AGO == \" + str(one_month_ago))"
   ]
  },
  {
   "cell_type": "code",
   "execution_count": 14,
   "metadata": {
    "ExecuteTime": {
     "end_time": "2020-02-25T21:02:31.790615Z",
     "start_time": "2020-02-25T21:02:31.784616Z"
    }
   },
   "outputs": [],
   "source": [
    "# DAILY METRICS\n",
    "# df_week_range = pd.date_range(start=one_month_ago, end=test_date, freq=\"M-SAT\")\n",
    "df_month_range = pd.date_range(start=one_month_ago, end=test_date, freq='D') #, periods=30)"
   ]
  },
  {
   "cell_type": "code",
   "execution_count": 15,
   "metadata": {
    "ExecuteTime": {
     "end_time": "2020-02-25T21:02:31.800617Z",
     "start_time": "2020-02-25T21:02:31.791617Z"
    }
   },
   "outputs": [
    {
     "data": {
      "text/plain": [
       "pandas.core.indexes.datetimes.DatetimeIndex"
      ]
     },
     "execution_count": 15,
     "metadata": {},
     "output_type": "execute_result"
    }
   ],
   "source": [
    "type(df_month_range)"
   ]
  },
  {
   "cell_type": "code",
   "execution_count": 16,
   "metadata": {
    "ExecuteTime": {
     "end_time": "2020-02-25T21:02:31.810619Z",
     "start_time": "2020-02-25T21:02:31.802615Z"
    }
   },
   "outputs": [
    {
     "data": {
      "text/plain": [
       "[Timestamp('2020-01-26 00:00:00', freq='D'),\n",
       " Timestamp('2020-01-27 00:00:00', freq='D'),\n",
       " Timestamp('2020-01-28 00:00:00', freq='D'),\n",
       " Timestamp('2020-01-29 00:00:00', freq='D'),\n",
       " Timestamp('2020-01-30 00:00:00', freq='D'),\n",
       " Timestamp('2020-01-31 00:00:00', freq='D'),\n",
       " Timestamp('2020-02-01 00:00:00', freq='D'),\n",
       " Timestamp('2020-02-02 00:00:00', freq='D'),\n",
       " Timestamp('2020-02-03 00:00:00', freq='D'),\n",
       " Timestamp('2020-02-04 00:00:00', freq='D'),\n",
       " Timestamp('2020-02-05 00:00:00', freq='D'),\n",
       " Timestamp('2020-02-06 00:00:00', freq='D'),\n",
       " Timestamp('2020-02-07 00:00:00', freq='D'),\n",
       " Timestamp('2020-02-08 00:00:00', freq='D'),\n",
       " Timestamp('2020-02-09 00:00:00', freq='D'),\n",
       " Timestamp('2020-02-10 00:00:00', freq='D'),\n",
       " Timestamp('2020-02-11 00:00:00', freq='D'),\n",
       " Timestamp('2020-02-12 00:00:00', freq='D'),\n",
       " Timestamp('2020-02-13 00:00:00', freq='D'),\n",
       " Timestamp('2020-02-14 00:00:00', freq='D'),\n",
       " Timestamp('2020-02-15 00:00:00', freq='D'),\n",
       " Timestamp('2020-02-16 00:00:00', freq='D'),\n",
       " Timestamp('2020-02-17 00:00:00', freq='D'),\n",
       " Timestamp('2020-02-18 00:00:00', freq='D'),\n",
       " Timestamp('2020-02-19 00:00:00', freq='D'),\n",
       " Timestamp('2020-02-20 00:00:00', freq='D'),\n",
       " Timestamp('2020-02-21 00:00:00', freq='D'),\n",
       " Timestamp('2020-02-22 00:00:00', freq='D'),\n",
       " Timestamp('2020-02-23 00:00:00', freq='D'),\n",
       " Timestamp('2020-02-24 00:00:00', freq='D'),\n",
       " Timestamp('2020-02-25 00:00:00', freq='D')]"
      ]
     },
     "execution_count": 16,
     "metadata": {},
     "output_type": "execute_result"
    }
   ],
   "source": [
    "list(df_month_range)"
   ]
  },
  {
   "cell_type": "code",
   "execution_count": 17,
   "metadata": {
    "ExecuteTime": {
     "end_time": "2020-02-25T21:02:31.823616Z",
     "start_time": "2020-02-25T21:02:31.814619Z"
    }
   },
   "outputs": [],
   "source": [
    "df_month_range = pd.DataFrame(pd.Series(df_month_range), columns=['QCDate'])"
   ]
  },
  {
   "cell_type": "code",
   "execution_count": 18,
   "metadata": {
    "ExecuteTime": {
     "end_time": "2020-02-25T21:02:31.839619Z",
     "start_time": "2020-02-25T21:02:31.827621Z"
    }
   },
   "outputs": [
    {
     "name": "stdout",
     "output_type": "stream",
     "text": [
      "       QCDate\n",
      "0  2020-01-26\n",
      "1  2020-01-27\n",
      "2  2020-01-28\n",
      "3  2020-01-29\n",
      "4  2020-01-30\n",
      "5  2020-01-31\n",
      "6  2020-02-01\n",
      "7  2020-02-02\n",
      "8  2020-02-03\n",
      "9  2020-02-04\n",
      "10 2020-02-05\n",
      "11 2020-02-06\n",
      "12 2020-02-07\n",
      "13 2020-02-08\n",
      "14 2020-02-09\n",
      "15 2020-02-10\n",
      "16 2020-02-11\n",
      "17 2020-02-12\n",
      "18 2020-02-13\n",
      "19 2020-02-14\n",
      "20 2020-02-15\n",
      "21 2020-02-16\n",
      "22 2020-02-17\n",
      "23 2020-02-18\n",
      "24 2020-02-19\n",
      "25 2020-02-20\n",
      "26 2020-02-21\n",
      "27 2020-02-22\n",
      "28 2020-02-23\n",
      "29 2020-02-24\n",
      "30 2020-02-25\n"
     ]
    }
   ],
   "source": [
    "print(df_month_range)"
   ]
  },
  {
   "cell_type": "code",
   "execution_count": 19,
   "metadata": {
    "ExecuteTime": {
     "end_time": "2020-02-25T21:02:31.851617Z",
     "start_time": "2020-02-25T21:02:31.843620Z"
    }
   },
   "outputs": [
    {
     "data": {
      "text/plain": [
       "pandas.core.frame.DataFrame"
      ]
     },
     "execution_count": 19,
     "metadata": {},
     "output_type": "execute_result"
    }
   ],
   "source": [
    "type(df_month_range)"
   ]
  },
  {
   "cell_type": "code",
   "execution_count": 20,
   "metadata": {
    "ExecuteTime": {
     "end_time": "2020-02-25T21:02:31.864618Z",
     "start_time": "2020-02-25T21:02:31.854618Z"
    }
   },
   "outputs": [
    {
     "name": "stdout",
     "output_type": "stream",
     "text": [
      "<class 'pandas.core.frame.DataFrame'>\n",
      "RangeIndex: 31 entries, 0 to 30\n",
      "Data columns (total 1 columns):\n",
      "QCDate    31 non-null datetime64[ns]\n",
      "dtypes: datetime64[ns](1)\n",
      "memory usage: 376.0 bytes\n"
     ]
    }
   ],
   "source": [
    "df_month_range.info()"
   ]
  },
  {
   "cell_type": "code",
   "execution_count": 21,
   "metadata": {
    "ExecuteTime": {
     "end_time": "2020-02-25T21:02:31.875621Z",
     "start_time": "2020-02-25T21:02:31.867618Z"
    }
   },
   "outputs": [],
   "source": [
    "# MONTHLY METRICS\n",
    "year_range = pd.date_range(end=test_date, freq='M', periods=12, name='QCDate')"
   ]
  },
  {
   "cell_type": "code",
   "execution_count": 22,
   "metadata": {
    "ExecuteTime": {
     "end_time": "2020-02-25T21:02:31.885620Z",
     "start_time": "2020-02-25T21:02:31.877618Z"
    }
   },
   "outputs": [
    {
     "name": "stdout",
     "output_type": "stream",
     "text": [
      "DatetimeIndex(['2019-02-28', '2019-03-31', '2019-04-30', '2019-05-31',\n",
      "               '2019-06-30', '2019-07-31', '2019-08-31', '2019-09-30',\n",
      "               '2019-10-31', '2019-11-30', '2019-12-31', '2020-01-31'],\n",
      "              dtype='datetime64[ns]', name='QCDate', freq='M')\n"
     ]
    }
   ],
   "source": [
    "print(year_range)"
   ]
  },
  {
   "cell_type": "raw",
   "metadata": {
    "raw_mimetype": "text/x-python"
   },
   "source": [
    "df_Metrics = pd.DataFrame(data=None, index=df_month_range, dtype=np.str)\n",
    "len(df_Metrics)"
   ]
  },
  {
   "cell_type": "markdown",
   "metadata": {},
   "source": [
    "---\n",
    "### create *connection string* for [`SQL-Server`][`ProdflowII_Prod`] (for `Products` Table)\n",
    "#### called `cnxn_Prodflow`"
   ]
  },
  {
   "cell_type": "code",
   "execution_count": 23,
   "metadata": {},
   "outputs": [
    {
     "name": "stdout",
     "output_type": "stream",
     "text": [
      "FIN...\n"
     ]
    }
   ],
   "source": [
    "conn_str = str(\n",
    "    r'DRIVER={ODBC Driver 17 for SQL Server};'\n",
    "    r'SERVER=wtkngappflow1.is.agilent.net;'\n",
    "    r'DATABASE=ProdFlowII_Prod;'\n",
    "    r'Trusted_Connection=yes;'\n",
    ")\n",
    "\n",
    "try: #{\n",
    "    cnxn_Prodflow = pyodbc.connect(conn_str)\n",
    "    crsr_Prodflow = cnxn_Prodflow.cursor()\n",
    "#}\n",
    "except: #{\n",
    "    errorMessage = str(sys.exc_info()[0]) + \"\\n\"\n",
    "    errorMessage = errorMessage + str(sys.exc_info()[1]) + \"\\n\\t\\t\"\n",
    "    errorMessage = errorMessage + str(sys.exc_info()[2]) + \"\\n\"\n",
    "    exc_type, exc_obj, exc_tb = sys.exc_info()\n",
    "    fname = os.path.split(exc_tb.tb_frame.f_code.co_filename)[1]\n",
    "    typeE = str(\"TYPE : \" + str(exc_type))\n",
    "    fileE = str(\"FILE : \" + str(fname))\n",
    "    lineE = str(\"LINE : \" + str(exc_tb.tb_lineno))\n",
    "    messageE = str(\"MESG : \" + \"\\n\\n\" + str(errorMessage) + \"\\n\")\n",
    "    print(\"\\n\" + typeE + \n",
    "          \"\\n\" + fileE + \n",
    "          \"\\n\" + lineE + \n",
    "          \"\\n\" + messageE)\n",
    "#}\n",
    "else: #{\n",
    "    print(\"FIN...\")\n",
    "#}"
   ]
  },
  {
   "cell_type": "markdown",
   "metadata": {},
   "source": [
    "### create *connection string* for [`SQL-Server`][`Prodflow`] (for `tblProdflow` table)\n",
    "#### called `cnxn_Prodflow2`"
   ]
  },
  {
   "cell_type": "code",
   "execution_count": 24,
   "metadata": {},
   "outputs": [
    {
     "name": "stdout",
     "output_type": "stream",
     "text": [
      "FIN...\n"
     ]
    }
   ],
   "source": [
    "conn_str = str(\n",
    "    r'DRIVER={ODBC Driver 17 for SQL Server};'\n",
    "    r'SERVER=wtkngappflow1.is.agilent.net;'\n",
    "    r'DATABASE=ProdFlow;'\n",
    "    r'Trusted_Connection=yes;'\n",
    ")\n",
    "\n",
    "try: # {\n",
    "    cnxn_Prodflow2 = pyodbc.connect(conn_str)\n",
    "    crsr_Prodflow2 = cnxn_Prodflow2.cursor()\n",
    "# }\n",
    "except: # { \n",
    "    errorMessage = str(sys.exc_info()[0]) + \"\\n\"\n",
    "    errorMessage = errorMessage + str(sys.exc_info()[1]) + \"\\n\\t\\t\"\n",
    "    errorMessage = errorMessage + str(sys.exc_info()[2]) + \"\\n\"\n",
    "    exc_type, exc_obj, exc_tb = sys.exc_info()\n",
    "    fname = os.path.split(exc_tb.tb_frame.f_code.co_filename)[1]\n",
    "    typeE = str(\"TYPE : \" + str(exc_type))\n",
    "    fileE = str(\"FILE : \" + str(fname))\n",
    "    lineE = str(\"LINE : \" + str(exc_tb.tb_lineno))\n",
    "    messageE = str(\"MESG : \" + \"\\n\\n\" + str(errorMessage) + \"\\n\")\n",
    "    print(\"\\n\" + typeE + \n",
    "          \"\\n\" + fileE + \n",
    "          \"\\n\" + lineE + \n",
    "          \"\\n\" + messageE)\n",
    "# }\n",
    "else: # {\n",
    "    print(\"FIN...\")\n",
    "# }"
   ]
  },
  {
   "cell_type": "raw",
   "metadata": {
    "ExecuteTime": {
     "end_time": "2020-02-25T21:02:32.528626Z",
     "start_time": "2020-02-25T21:02:31.888618Z"
    }
   },
   "source": [
    "try: #{\n",
    "    conn_str = (\n",
    "        r'DRIVER={Microsoft Access Driver (*.mdb, *.accdb)};'\n",
    "        r'DBQ=C:\\Users\\derbates\\OneDrive - Agilent Technologies\\Desktop\\Offline Prodflow II\\Custom Quotes_fe.accdb;'\n",
    "    )\n",
    "#}\n",
    "except: #{\n",
    "    errorMessage = str(sys.exc_info()[0]) + \"\\n\"\n",
    "    errorMessage = errorMessage + str(sys.exc_info()[1]) + \"\\n\\t\\t\"\n",
    "    errorMessage = errorMessage + str(sys.exc_info()[2]) + \"\\n\"\n",
    "    exc_type, exc_obj, exc_tb = sys.exc_info()\n",
    "    fname = os.path.split(exc_tb.tb_frame.f_code.co_filename)[1]\n",
    "    typeE = str(\"TYPE : \" + str(exc_type))\n",
    "    fileE = str(\"FILE : \" + str(fname))\n",
    "    lineE = str(\"LINE : \" + str(exc_tb.tb_lineno))\n",
    "    messageE = str(\"MESG : \" + \"\\n\\n\" + str(errorMessage) + \"\\n\")\n",
    "    print(\"\\n\" + typeE + \n",
    "          \"\\n\" + fileE + \n",
    "          \"\\n\" + lineE + \n",
    "          \"\\n\" + messageE)\n",
    "#}\n",
    "else: #{\n",
    "    print(\"FIN...\")\n",
    "#}"
   ]
  },
  {
   "cell_type": "markdown",
   "metadata": {},
   "source": [
    "## `PRODUCTS` Table"
   ]
  },
  {
   "cell_type": "code",
   "execution_count": 25,
   "metadata": {
    "ExecuteTime": {
     "end_time": "2020-02-25T21:02:38.032693Z",
     "start_time": "2020-02-25T21:02:32.534627Z"
    }
   },
   "outputs": [
    {
     "name": "stdout",
     "output_type": "stream",
     "text": [
      "Operation Completed Successfully...\n",
      "<class 'pandas.core.frame.DataFrame'>\n",
      "RangeIndex: 108317 entries, 0 to 108316\n",
      "Data columns (total 42 columns):\n",
      "ProductID          108317 non-null int64\n",
      "Product#           108317 non-null object\n",
      "ProductName        108289 non-null object\n",
      "LineID             108317 non-null int64\n",
      "Description        5973 non-null object\n",
      "Specials           2443 non-null object\n",
      "OriginationDate    107923 non-null datetime64[ns]\n",
      "EntryDate          108315 non-null datetime64[ns]\n",
      "Status             6036 non-null object\n",
      "MatrixNumber       107433 non-null object\n",
      "Components         108317 non-null int64\n",
      "Availability       4843 non-null object\n",
      "EquivalentSoln     102873 non-null object\n",
      "EquivalentNeat     103031 non-null object\n",
      "Packaging          107524 non-null object\n",
      "Storage            100689 non-null object\n",
      "ExpirationDate     108292 non-null float64\n",
      "ShipType           95115 non-null object\n",
      "UN#                93432 non-null object\n",
      "ShipClass          87340 non-null object\n",
      "PackGrp            87222 non-null object\n",
      "ShipSpecial        82986 non-null object\n",
      "Hazard1            2473 non-null object\n",
      "Hazard2            4255 non-null object\n",
      "Hazard3            124 non-null object\n",
      "Prop65             6137 non-null object\n",
      "MSDS               6135 non-null object\n",
      "Analysis           5693 non-null object\n",
      "CofAHeader         102135 non-null float64\n",
      "Agilent#           694 non-null object\n",
      "Tedia#             2330 non-null object\n",
      "ProdNotes          93858 non-null object\n",
      "MatrixNotes        9195 non-null object\n",
      "RecipeId           81196 non-null object\n",
      "RushPriority       108317 non-null bool\n",
      "IsVoided           93226 non-null object\n",
      "SagePartNumber     32234 non-null object\n",
      "ProductLevel       91245 non-null float64\n",
      "DateInserted       38 non-null datetime64[ns]\n",
      "CofATemplate       79515 non-null object\n",
      "UniqueRequestID    5 non-null object\n",
      "Test_Timestamp     108317 non-null object\n",
      "dtypes: bool(1), datetime64[ns](3), float64(3), int64(3), object(32)\n",
      "memory usage: 34.0+ MB\n",
      "None\n"
     ]
    }
   ],
   "source": [
    "# TRY THE FOLLOWING\n",
    "try: # {\n",
    "    df_products = pd.read_sql_query(sql='SELECT * FROM Products', con=cnxn_Prodflow)\n",
    "# }\n",
    "except: # {\n",
    "    errorMessage = str(sys.exc_info()[0]) + \"\\n\"\n",
    "    errorMessage = errorMessage + str(sys.exc_info()[1]) + \"\\n\\t\\t\"\n",
    "    errorMessage = errorMessage + str(sys.exc_info()[2]) + \"\\n\"\n",
    "    exc_type, exc_obj, exc_tb = sys.exc_info()\n",
    "    fname = os.path.split(exc_tb.tb_frame.f_code.co_filename)[1]\n",
    "    typeE = str(\"TYPE : \" + str(exc_type))\n",
    "    fileE = str(\"FILE : \" + str(fname))\n",
    "    lineE = str(\"LINE : \" + str(exc_tb.tb_lineno))\n",
    "    messageE = str(\"MESG : \" + \"\\n\\n\" + str(errorMessage) + \"\\n\")\n",
    "    print(\"\\n\" + typeE + \n",
    "          \"\\n\" + fileE + \n",
    "          \"\\n\" + lineE + \n",
    "          \"\\n\" + messageE)\n",
    "# }\n",
    "else: # {\n",
    "    print(\"Operation Completed Successfully...\")\n",
    "    print(df_products.info())\n",
    "    # [2020-02-25]\\\\print(products_info)\n",
    "    # [2020-02-25]\\\\products_info.to_csv(\"products_INFO.csv\", index=True)\n",
    "# }"
   ]
  },
  {
   "cell_type": "markdown",
   "metadata": {},
   "source": [
    "## `tblProdflow` Table"
   ]
  },
  {
   "cell_type": "code",
   "execution_count": 26,
   "metadata": {
    "ExecuteTime": {
     "end_time": "2020-02-25T21:02:43.895772Z",
     "start_time": "2020-02-25T21:02:38.036692Z"
    }
   },
   "outputs": [
    {
     "name": "stdout",
     "output_type": "stream",
     "text": [
      "Operation Completed Successfully...\n",
      "<class 'pandas.core.frame.DataFrame'>\n",
      "RangeIndex: 108592 entries, 0 to 108591\n",
      "Data columns (total 53 columns):\n",
      "PfIDNo              108592 non-null int64\n",
      "PfBatchID           108592 non-null object\n",
      "ProductNo           108573 non-null object\n",
      "OrdID               92460 non-null float64\n",
      "QuoteNo             108556 non-null object\n",
      "PfSentTo            108527 non-null object\n",
      "PrepDate            107578 non-null datetime64[ns]\n",
      "PrepVolume          108547 non-null float64\n",
      "PrepUnit            108516 non-null object\n",
      "PrepVessel          108513 non-null float64\n",
      "PrepVBarcode        57907 non-null object\n",
      "PrdSaleUnit         89373 non-null object\n",
      "PrepMatrixNo        108517 non-null object\n",
      "PrepMatrixLot       107650 non-null object\n",
      "PrepInits           107409 non-null object\n",
      "PrepMemo            61204 non-null object\n",
      "PrepNotebookRef     48969 non-null object\n",
      "BulkQCStatus        24 non-null object\n",
      "BulkQCDate          74954 non-null datetime64[ns]\n",
      "BulkPassFail        74060 non-null object\n",
      "BulkQCInits         74938 non-null object\n",
      "BulkQCMemo          2111 non-null object\n",
      "BulkLotNo           73314 non-null object\n",
      "AmpRetains          51834 non-null float64\n",
      "AmpDate             92697 non-null datetime64[ns]\n",
      "AmpPreLabel         108592 non-null bool\n",
      "AmpNumberGood       93024 non-null float64\n",
      "AmpNumberBad        77452 non-null float64\n",
      "AmpBulkRemain       4103 non-null float64\n",
      "AmpTimeIn           92454 non-null datetime64[ns]\n",
      "AmpTimeOut          92454 non-null datetime64[ns]\n",
      "AmpInits            92662 non-null object\n",
      "QCStatus            573 non-null object\n",
      "QCDate              103130 non-null datetime64[ns]\n",
      "QCPassFail          103320 non-null object\n",
      "QCAuthInits         103119 non-null object\n",
      "QCMemo              55341 non-null object\n",
      "QCMethod            1193 non-null object\n",
      "LotNo               100419 non-null object\n",
      "QCExpMonth          93234 non-null float64\n",
      "QCExpDate           91716 non-null datetime64[ns]\n",
      "QCSellBy            0 non-null object\n",
      "QCFullValidation    108592 non-null bool\n",
      "QCValidation        108558 non-null float64\n",
      "FgInvCount          77891 non-null float64\n",
      "FgAccpacNote        19522 non-null object\n",
      "CofAHeaderNo        108560 non-null float64\n",
      "QCChromatogram      0 non-null object\n",
      "Correct             108592 non-null bool\n",
      "DoNotCorrect        108592 non-null bool\n",
      "DensityUnit         0 non-null object\n",
      "DensityTemp         0 non-null object\n",
      "recipeid            1 non-null object\n",
      "dtypes: bool(4), datetime64[ns](7), float64(11), int64(1), object(30)\n",
      "memory usage: 41.0+ MB\n",
      "None\n"
     ]
    }
   ],
   "source": [
    "# TRY THE FOLLOWING\n",
    "try: # {\n",
    "    df_tblProdflow = pd.read_sql_query(sql='SELECT * FROM tblProdflow', \n",
    "                                       parse_dates = ['QCDate'],\n",
    "                                       con=cnxn_Prodflow2)\n",
    "# }\n",
    "except: # {\n",
    "    errorMessage = str(sys.exc_info()[0]) + \"\\n\"\n",
    "    errorMessage = errorMessage + str(sys.exc_info()[1]) + \"\\n\\t\\t\"\n",
    "    errorMessage = errorMessage + str(sys.exc_info()[2]) + \"\\n\"\n",
    "    exc_type, exc_obj, exc_tb = sys.exc_info()\n",
    "    fname = os.path.split(exc_tb.tb_frame.f_code.co_filename)[1]\n",
    "    typeE = str(\"TYPE : \" + str(exc_type))\n",
    "    fileE = str(\"FILE : \" + str(fname))\n",
    "    lineE = str(\"LINE : \" + str(exc_tb.tb_lineno))\n",
    "    messageE = str(\"MESG : \" + \"\\n\\n\" + str(errorMessage) + \"\\n\")\n",
    "    print(\"\\n\" + typeE + \n",
    "          \"\\n\" + fileE + \n",
    "          \"\\n\" + lineE + \n",
    "          \"\\n\" + messageE)\n",
    "# }\n",
    "else: # {\n",
    "    print(\"Operation Completed Successfully...\")\n",
    "    print(df_tblProdflow.info())\n",
    "    # [2020-02-25]\\\\print(tblProdflow_info)\n",
    "    # [2020-02-25]\\\\tblProdflow_info.to_csv(\"tblProdflow_INFO.csv\", index=True)\n",
    "# }"
   ]
  },
  {
   "cell_type": "markdown",
   "metadata": {},
   "source": [
    "### Rename Header Column in `Products` Table"
   ]
  },
  {
   "cell_type": "code",
   "execution_count": 27,
   "metadata": {
    "ExecuteTime": {
     "end_time": "2020-02-25T21:02:43.993768Z",
     "start_time": "2020-02-25T21:02:43.897765Z"
    }
   },
   "outputs": [],
   "source": [
    "df_products.rename(columns={'Product#': 'ProductNo'}, inplace=True)"
   ]
  },
  {
   "cell_type": "code",
   "execution_count": 28,
   "metadata": {
    "ExecuteTime": {
     "end_time": "2020-02-25T21:02:44.045769Z",
     "start_time": "2020-02-25T21:02:43.999768Z"
    }
   },
   "outputs": [
    {
     "data": {
      "text/html": [
       "<div>\n",
       "<style scoped>\n",
       "    .dataframe tbody tr th:only-of-type {\n",
       "        vertical-align: middle;\n",
       "    }\n",
       "\n",
       "    .dataframe tbody tr th {\n",
       "        vertical-align: top;\n",
       "    }\n",
       "\n",
       "    .dataframe thead th {\n",
       "        text-align: right;\n",
       "    }\n",
       "</style>\n",
       "<table border=\"1\" class=\"dataframe\">\n",
       "  <thead>\n",
       "    <tr style=\"text-align: right;\">\n",
       "      <th></th>\n",
       "      <th>ProductID</th>\n",
       "      <th>ProductNo</th>\n",
       "      <th>ProductName</th>\n",
       "      <th>LineID</th>\n",
       "      <th>Description</th>\n",
       "      <th>Specials</th>\n",
       "      <th>OriginationDate</th>\n",
       "      <th>EntryDate</th>\n",
       "      <th>Status</th>\n",
       "      <th>MatrixNumber</th>\n",
       "      <th>...</th>\n",
       "      <th>MatrixNotes</th>\n",
       "      <th>RecipeId</th>\n",
       "      <th>RushPriority</th>\n",
       "      <th>IsVoided</th>\n",
       "      <th>SagePartNumber</th>\n",
       "      <th>ProductLevel</th>\n",
       "      <th>DateInserted</th>\n",
       "      <th>CofATemplate</th>\n",
       "      <th>UniqueRequestID</th>\n",
       "      <th>Test_Timestamp</th>\n",
       "    </tr>\n",
       "  </thead>\n",
       "  <tbody>\n",
       "    <tr>\n",
       "      <td>20259</td>\n",
       "      <td>100603</td>\n",
       "      <td>CUS-27358</td>\n",
       "      <td>Custom Standard</td>\n",
       "      <td>7</td>\n",
       "      <td>None</td>\n",
       "      <td>None</td>\n",
       "      <td>2017-11-09</td>\n",
       "      <td>2017-11-09</td>\n",
       "      <td>None</td>\n",
       "      <td>JHP-021</td>\n",
       "      <td>...</td>\n",
       "      <td>None</td>\n",
       "      <td>None</td>\n",
       "      <td>False</td>\n",
       "      <td>VOID</td>\n",
       "      <td>None</td>\n",
       "      <td>1.0</td>\n",
       "      <td>NaT</td>\n",
       "      <td>GENERIC</td>\n",
       "      <td>None</td>\n",
       "      <td>b'\\x00\\x00\\x00\\x00\\x00 \\x14\\xba'</td>\n",
       "    </tr>\n",
       "    <tr>\n",
       "      <td>38810</td>\n",
       "      <td>100244</td>\n",
       "      <td>ICUS-7359</td>\n",
       "      <td>Custom Standard</td>\n",
       "      <td>8</td>\n",
       "      <td>None</td>\n",
       "      <td>None</td>\n",
       "      <td>2017-10-24</td>\n",
       "      <td>2017-10-24</td>\n",
       "      <td>None</td>\n",
       "      <td>JHP-338</td>\n",
       "      <td>...</td>\n",
       "      <td>None</td>\n",
       "      <td>None</td>\n",
       "      <td>False</td>\n",
       "      <td>VOID</td>\n",
       "      <td>None</td>\n",
       "      <td>1.0</td>\n",
       "      <td>NaT</td>\n",
       "      <td>GENERIC</td>\n",
       "      <td>None</td>\n",
       "      <td>b'\\x00\\x00\\x00\\x00\\x00 ]\\x1e'</td>\n",
       "    </tr>\n",
       "    <tr>\n",
       "      <td>71172</td>\n",
       "      <td>3562</td>\n",
       "      <td>QTE-3562</td>\n",
       "      <td>Custom Standard</td>\n",
       "      <td>7</td>\n",
       "      <td>None</td>\n",
       "      <td>None</td>\n",
       "      <td>2003-10-27</td>\n",
       "      <td>2011-05-09</td>\n",
       "      <td>None</td>\n",
       "      <td>JHP-021</td>\n",
       "      <td>...</td>\n",
       "      <td>None</td>\n",
       "      <td>RP-10537</td>\n",
       "      <td>False</td>\n",
       "      <td>VOID</td>\n",
       "      <td>None</td>\n",
       "      <td>1.0</td>\n",
       "      <td>NaT</td>\n",
       "      <td>GENERIC</td>\n",
       "      <td>None</td>\n",
       "      <td>b'\\x00\\x00\\x00\\x00\\x00 \\xdb\\xa3'</td>\n",
       "    </tr>\n",
       "    <tr>\n",
       "      <td>92627</td>\n",
       "      <td>68839</td>\n",
       "      <td>QTE-68839</td>\n",
       "      <td>Custom Standard</td>\n",
       "      <td>1</td>\n",
       "      <td>1 analyte @ 100 µg/mL in methyl tert-butyl eth...</td>\n",
       "      <td>None</td>\n",
       "      <td>2013-12-11</td>\n",
       "      <td>2013-12-11</td>\n",
       "      <td>None</td>\n",
       "      <td>JHP-029</td>\n",
       "      <td>...</td>\n",
       "      <td>None</td>\n",
       "      <td>RP-50314</td>\n",
       "      <td>False</td>\n",
       "      <td>VOID</td>\n",
       "      <td>None</td>\n",
       "      <td>1.0</td>\n",
       "      <td>NaT</td>\n",
       "      <td>GENERIC</td>\n",
       "      <td>None</td>\n",
       "      <td>b'\\x00\\x00\\x00\\x00\\x00!/\\xc6'</td>\n",
       "    </tr>\n",
       "    <tr>\n",
       "      <td>88398</td>\n",
       "      <td>62012</td>\n",
       "      <td>QTE-62012</td>\n",
       "      <td>Custom Standard</td>\n",
       "      <td>7</td>\n",
       "      <td>None</td>\n",
       "      <td>None</td>\n",
       "      <td>2012-12-14</td>\n",
       "      <td>2012-12-14</td>\n",
       "      <td>None</td>\n",
       "      <td>JHP-003</td>\n",
       "      <td>...</td>\n",
       "      <td>None</td>\n",
       "      <td>RP-48016</td>\n",
       "      <td>False</td>\n",
       "      <td>VOID</td>\n",
       "      <td>None</td>\n",
       "      <td>1.0</td>\n",
       "      <td>NaT</td>\n",
       "      <td>GENERIC</td>\n",
       "      <td>None</td>\n",
       "      <td>b'\\x00\\x00\\x00\\x00\\x00!\\x1f1'</td>\n",
       "    </tr>\n",
       "  </tbody>\n",
       "</table>\n",
       "<p>5 rows × 42 columns</p>\n",
       "</div>"
      ],
      "text/plain": [
       "       ProductID  ProductNo      ProductName  LineID  \\\n",
       "20259     100603  CUS-27358  Custom Standard       7   \n",
       "38810     100244  ICUS-7359  Custom Standard       8   \n",
       "71172       3562   QTE-3562  Custom Standard       7   \n",
       "92627      68839  QTE-68839  Custom Standard       1   \n",
       "88398      62012  QTE-62012  Custom Standard       7   \n",
       "\n",
       "                                             Description Specials  \\\n",
       "20259                                               None     None   \n",
       "38810                                               None     None   \n",
       "71172                                               None     None   \n",
       "92627  1 analyte @ 100 µg/mL in methyl tert-butyl eth...     None   \n",
       "88398                                               None     None   \n",
       "\n",
       "      OriginationDate  EntryDate Status MatrixNumber  ...  MatrixNotes  \\\n",
       "20259      2017-11-09 2017-11-09   None      JHP-021  ...         None   \n",
       "38810      2017-10-24 2017-10-24   None      JHP-338  ...         None   \n",
       "71172      2003-10-27 2011-05-09   None      JHP-021  ...         None   \n",
       "92627      2013-12-11 2013-12-11   None      JHP-029  ...         None   \n",
       "88398      2012-12-14 2012-12-14   None      JHP-003  ...         None   \n",
       "\n",
       "              RecipeId RushPriority IsVoided SagePartNumber ProductLevel  \\\n",
       "20259             None        False     VOID           None          1.0   \n",
       "38810             None        False     VOID           None          1.0   \n",
       "71172  RP-10537               False     VOID           None          1.0   \n",
       "92627  RP-50314               False     VOID           None          1.0   \n",
       "88398  RP-48016               False     VOID           None          1.0   \n",
       "\n",
       "       DateInserted CofATemplate UniqueRequestID  \\\n",
       "20259           NaT      GENERIC            None   \n",
       "38810           NaT      GENERIC            None   \n",
       "71172           NaT      GENERIC            None   \n",
       "92627           NaT      GENERIC            None   \n",
       "88398           NaT      GENERIC            None   \n",
       "\n",
       "                         Test_Timestamp  \n",
       "20259  b'\\x00\\x00\\x00\\x00\\x00 \\x14\\xba'  \n",
       "38810     b'\\x00\\x00\\x00\\x00\\x00 ]\\x1e'  \n",
       "71172  b'\\x00\\x00\\x00\\x00\\x00 \\xdb\\xa3'  \n",
       "92627     b'\\x00\\x00\\x00\\x00\\x00!/\\xc6'  \n",
       "88398     b'\\x00\\x00\\x00\\x00\\x00!\\x1f1'  \n",
       "\n",
       "[5 rows x 42 columns]"
      ]
     },
     "execution_count": 28,
     "metadata": {},
     "output_type": "execute_result"
    }
   ],
   "source": [
    "df_products.sample(5)"
   ]
  },
  {
   "cell_type": "markdown",
   "metadata": {},
   "source": [
    "---\n",
    "## **CREATE** `df_QCMetrics` Table (calculations table)"
   ]
  },
  {
   "cell_type": "code",
   "execution_count": 29,
   "metadata": {
    "ExecuteTime": {
     "end_time": "2020-02-25T21:02:46.457795Z",
     "start_time": "2020-02-25T21:02:44.048771Z"
    }
   },
   "outputs": [
    {
     "data": {
      "text/plain": [
       "108592"
      ]
     },
     "execution_count": 29,
     "metadata": {},
     "output_type": "execute_result"
    }
   ],
   "source": [
    "#inner join in python pandas\n",
    "df_QCMetrics = pd.merge(df_products, df_tblProdflow, on='ProductNo', how='right')\n",
    "len(df_QCMetrics)"
   ]
  },
  {
   "cell_type": "code",
   "execution_count": 30,
   "metadata": {
    "ExecuteTime": {
     "end_time": "2020-02-25T21:02:46.794803Z",
     "start_time": "2020-02-25T21:02:46.459796Z"
    }
   },
   "outputs": [
    {
     "data": {
      "text/html": [
       "<div>\n",
       "<style scoped>\n",
       "    .dataframe tbody tr th:only-of-type {\n",
       "        vertical-align: middle;\n",
       "    }\n",
       "\n",
       "    .dataframe tbody tr th {\n",
       "        vertical-align: top;\n",
       "    }\n",
       "\n",
       "    .dataframe thead th {\n",
       "        text-align: right;\n",
       "    }\n",
       "</style>\n",
       "<table border=\"1\" class=\"dataframe\">\n",
       "  <thead>\n",
       "    <tr style=\"text-align: right;\">\n",
       "      <th></th>\n",
       "      <th>ProductID</th>\n",
       "      <th>ProductNo</th>\n",
       "      <th>ProductName</th>\n",
       "      <th>LineID</th>\n",
       "      <th>Description</th>\n",
       "      <th>Specials</th>\n",
       "      <th>OriginationDate</th>\n",
       "      <th>EntryDate</th>\n",
       "      <th>Status</th>\n",
       "      <th>MatrixNumber</th>\n",
       "      <th>...</th>\n",
       "      <th>QCValidation</th>\n",
       "      <th>FgInvCount</th>\n",
       "      <th>FgAccpacNote</th>\n",
       "      <th>CofAHeaderNo</th>\n",
       "      <th>QCChromatogram</th>\n",
       "      <th>Correct</th>\n",
       "      <th>DoNotCorrect</th>\n",
       "      <th>DensityUnit</th>\n",
       "      <th>DensityTemp</th>\n",
       "      <th>recipeid</th>\n",
       "    </tr>\n",
       "  </thead>\n",
       "  <tbody>\n",
       "    <tr>\n",
       "      <td>73931</td>\n",
       "      <td>6695.0</td>\n",
       "      <td>PST-1265S</td>\n",
       "      <td>Bromacil Solution</td>\n",
       "      <td>1.0</td>\n",
       "      <td>1 analyte @ 100 µg/mL in methanol (methyl alco...</td>\n",
       "      <td>None</td>\n",
       "      <td>1999-01-20</td>\n",
       "      <td>2011-05-09</td>\n",
       "      <td>active</td>\n",
       "      <td>JHP-021</td>\n",
       "      <td>...</td>\n",
       "      <td>2.0</td>\n",
       "      <td>NaN</td>\n",
       "      <td>None</td>\n",
       "      <td>2.0</td>\n",
       "      <td>None</td>\n",
       "      <td>False</td>\n",
       "      <td>True</td>\n",
       "      <td>None</td>\n",
       "      <td>None</td>\n",
       "      <td>None</td>\n",
       "    </tr>\n",
       "    <tr>\n",
       "      <td>17146</td>\n",
       "      <td>42800.0</td>\n",
       "      <td>CUS-11871</td>\n",
       "      <td>Custom Standard</td>\n",
       "      <td>7.0</td>\n",
       "      <td>None</td>\n",
       "      <td>None</td>\n",
       "      <td>2010-02-23</td>\n",
       "      <td>2011-05-09</td>\n",
       "      <td>None</td>\n",
       "      <td>JHP-021</td>\n",
       "      <td>...</td>\n",
       "      <td>1.0</td>\n",
       "      <td>17.0</td>\n",
       "      <td>None</td>\n",
       "      <td>1.0</td>\n",
       "      <td>None</td>\n",
       "      <td>False</td>\n",
       "      <td>True</td>\n",
       "      <td>None</td>\n",
       "      <td>None</td>\n",
       "      <td>None</td>\n",
       "    </tr>\n",
       "    <tr>\n",
       "      <td>50740</td>\n",
       "      <td>31369.0</td>\n",
       "      <td>CUS-9813</td>\n",
       "      <td>Custom Standard</td>\n",
       "      <td>7.0</td>\n",
       "      <td>None</td>\n",
       "      <td>None</td>\n",
       "      <td>2008-05-02</td>\n",
       "      <td>2011-05-09</td>\n",
       "      <td>None</td>\n",
       "      <td>JHP-001</td>\n",
       "      <td>...</td>\n",
       "      <td>1.0</td>\n",
       "      <td>69.0</td>\n",
       "      <td>None</td>\n",
       "      <td>1.0</td>\n",
       "      <td>None</td>\n",
       "      <td>False</td>\n",
       "      <td>True</td>\n",
       "      <td>None</td>\n",
       "      <td>None</td>\n",
       "      <td>None</td>\n",
       "    </tr>\n",
       "    <tr>\n",
       "      <td>12994</td>\n",
       "      <td>33144.0</td>\n",
       "      <td>CUS-10164</td>\n",
       "      <td>Custom Standard</td>\n",
       "      <td>7.0</td>\n",
       "      <td>None</td>\n",
       "      <td>None</td>\n",
       "      <td>2008-08-29</td>\n",
       "      <td>2011-05-09</td>\n",
       "      <td>None</td>\n",
       "      <td>JHP-021</td>\n",
       "      <td>...</td>\n",
       "      <td>1.0</td>\n",
       "      <td>36.0</td>\n",
       "      <td>zero out ce-3264 (27)</td>\n",
       "      <td>1.0</td>\n",
       "      <td>None</td>\n",
       "      <td>False</td>\n",
       "      <td>True</td>\n",
       "      <td>None</td>\n",
       "      <td>None</td>\n",
       "      <td>None</td>\n",
       "    </tr>\n",
       "    <tr>\n",
       "      <td>95763</td>\n",
       "      <td>76781.0</td>\n",
       "      <td>STK-02293</td>\n",
       "      <td>Rubidium 10,000 µg/mL Stock</td>\n",
       "      <td>17.0</td>\n",
       "      <td>None</td>\n",
       "      <td>None</td>\n",
       "      <td>2014-10-24</td>\n",
       "      <td>2014-10-24</td>\n",
       "      <td>None</td>\n",
       "      <td>JHP-460</td>\n",
       "      <td>...</td>\n",
       "      <td>1.0</td>\n",
       "      <td>NaN</td>\n",
       "      <td>None</td>\n",
       "      <td>14.0</td>\n",
       "      <td>None</td>\n",
       "      <td>True</td>\n",
       "      <td>False</td>\n",
       "      <td>None</td>\n",
       "      <td>None</td>\n",
       "      <td>None</td>\n",
       "    </tr>\n",
       "  </tbody>\n",
       "</table>\n",
       "<p>5 rows × 94 columns</p>\n",
       "</div>"
      ],
      "text/plain": [
       "       ProductID  ProductNo                  ProductName  LineID  \\\n",
       "73931     6695.0  PST-1265S            Bromacil Solution     1.0   \n",
       "17146    42800.0  CUS-11871              Custom Standard     7.0   \n",
       "50740    31369.0   CUS-9813              Custom Standard     7.0   \n",
       "12994    33144.0  CUS-10164              Custom Standard     7.0   \n",
       "95763    76781.0  STK-02293  Rubidium 10,000 µg/mL Stock    17.0   \n",
       "\n",
       "                                             Description Specials  \\\n",
       "73931  1 analyte @ 100 µg/mL in methanol (methyl alco...     None   \n",
       "17146                                               None     None   \n",
       "50740                                               None     None   \n",
       "12994                                               None     None   \n",
       "95763                                               None     None   \n",
       "\n",
       "      OriginationDate  EntryDate  Status MatrixNumber  ...  QCValidation  \\\n",
       "73931      1999-01-20 2011-05-09  active      JHP-021  ...           2.0   \n",
       "17146      2010-02-23 2011-05-09    None      JHP-021  ...           1.0   \n",
       "50740      2008-05-02 2011-05-09    None      JHP-001  ...           1.0   \n",
       "12994      2008-08-29 2011-05-09    None      JHP-021  ...           1.0   \n",
       "95763      2014-10-24 2014-10-24    None      JHP-460  ...           1.0   \n",
       "\n",
       "      FgInvCount           FgAccpacNote CofAHeaderNo QCChromatogram Correct  \\\n",
       "73931        NaN                   None          2.0           None   False   \n",
       "17146       17.0                   None          1.0           None   False   \n",
       "50740       69.0                   None          1.0           None   False   \n",
       "12994       36.0  zero out ce-3264 (27)          1.0           None   False   \n",
       "95763        NaN                   None         14.0           None    True   \n",
       "\n",
       "       DoNotCorrect DensityUnit DensityTemp recipeid  \n",
       "73931          True        None        None     None  \n",
       "17146          True        None        None     None  \n",
       "50740          True        None        None     None  \n",
       "12994          True        None        None     None  \n",
       "95763         False        None        None     None  \n",
       "\n",
       "[5 rows x 94 columns]"
      ]
     },
     "execution_count": 30,
     "metadata": {},
     "output_type": "execute_result"
    }
   ],
   "source": [
    "# COPY FOR TESTING\n",
    "TEST_METRICS = pd.DataFrame(data=df_QCMetrics)\n",
    "TEST_METRICS.sample(5)"
   ]
  },
  {
   "cell_type": "markdown",
   "metadata": {},
   "source": [
    "### Drop **ALL** rows without a `QCDate` & `QCValidation` "
   ]
  },
  {
   "cell_type": "code",
   "execution_count": 31,
   "metadata": {
    "ExecuteTime": {
     "end_time": "2020-02-25T21:02:47.310805Z",
     "start_time": "2020-02-25T21:02:46.797804Z"
    }
   },
   "outputs": [
    {
     "data": {
      "text/plain": [
       "103128"
      ]
     },
     "execution_count": 31,
     "metadata": {},
     "output_type": "execute_result"
    }
   ],
   "source": [
    "df_QCMetrics.dropna(axis=0, subset=['QCDate', 'QCValidation'], how='any', inplace=True)\n",
    "# [2020-02-24]\\\\df_QCMetrics.dropna(axis=0, subset=['QCDate', 'ProductLevel'], how='any', inplace=True)\n",
    "len(df_QCMetrics)"
   ]
  },
  {
   "cell_type": "code",
   "execution_count": 32,
   "metadata": {
    "ExecuteTime": {
     "end_time": "2020-02-25T21:02:47.321806Z",
     "start_time": "2020-02-25T21:02:47.314806Z"
    }
   },
   "outputs": [
    {
     "data": {
      "text/plain": [
       "pandas.core.frame.DataFrame"
      ]
     },
     "execution_count": 32,
     "metadata": {},
     "output_type": "execute_result"
    }
   ],
   "source": [
    "type(df_month_range)"
   ]
  },
  {
   "cell_type": "markdown",
   "metadata": {},
   "source": [
    "#### TEST_METRICS (dataframe)"
   ]
  },
  {
   "cell_type": "raw",
   "metadata": {},
   "source": [
    "df_Metrics_Monthly = df_QCMetrics.set_index('QCDate'), on=df_month_range)"
   ]
  },
  {
   "cell_type": "code",
   "execution_count": 33,
   "metadata": {
    "ExecuteTime": {
     "end_time": "2020-02-25T21:02:47.332810Z",
     "start_time": "2020-02-25T21:02:47.325808Z"
    }
   },
   "outputs": [],
   "source": [
    "# CONVERT from string to datetime\n",
    "TEST_METRICS['QCDate'] = pd.to_datetime(TEST_METRICS['QCDate'])"
   ]
  },
  {
   "cell_type": "code",
   "execution_count": 34,
   "metadata": {
    "ExecuteTime": {
     "end_time": "2020-02-25T21:02:47.351806Z",
     "start_time": "2020-02-25T21:02:47.334806Z"
    }
   },
   "outputs": [],
   "source": [
    "# CONVERT FROM string to categorical\n",
    "TEST_METRICS['QCValidation'] = pd.Categorical(TEST_METRICS[\"QCValidation\"], ordered=False)"
   ]
  },
  {
   "cell_type": "code",
   "execution_count": 35,
   "metadata": {
    "ExecuteTime": {
     "end_time": "2020-02-25T21:02:47.406808Z",
     "start_time": "2020-02-25T21:02:47.353808Z"
    }
   },
   "outputs": [
    {
     "data": {
      "text/html": [
       "<div>\n",
       "<style scoped>\n",
       "    .dataframe tbody tr th:only-of-type {\n",
       "        vertical-align: middle;\n",
       "    }\n",
       "\n",
       "    .dataframe tbody tr th {\n",
       "        vertical-align: top;\n",
       "    }\n",
       "\n",
       "    .dataframe thead th {\n",
       "        text-align: right;\n",
       "    }\n",
       "</style>\n",
       "<table border=\"1\" class=\"dataframe\">\n",
       "  <thead>\n",
       "    <tr style=\"text-align: right;\">\n",
       "      <th></th>\n",
       "      <th></th>\n",
       "      <th>ProductID</th>\n",
       "      <th>ProductNo</th>\n",
       "      <th>ProductName</th>\n",
       "      <th>LineID</th>\n",
       "      <th>Description</th>\n",
       "      <th>Specials</th>\n",
       "      <th>OriginationDate</th>\n",
       "      <th>EntryDate</th>\n",
       "      <th>Status</th>\n",
       "      <th>MatrixNumber</th>\n",
       "      <th>...</th>\n",
       "      <th>QCFullValidation</th>\n",
       "      <th>FgInvCount</th>\n",
       "      <th>FgAccpacNote</th>\n",
       "      <th>CofAHeaderNo</th>\n",
       "      <th>QCChromatogram</th>\n",
       "      <th>Correct</th>\n",
       "      <th>DoNotCorrect</th>\n",
       "      <th>DensityUnit</th>\n",
       "      <th>DensityTemp</th>\n",
       "      <th>recipeid</th>\n",
       "    </tr>\n",
       "    <tr>\n",
       "      <th>QCDate</th>\n",
       "      <th>QCValidation</th>\n",
       "      <th></th>\n",
       "      <th></th>\n",
       "      <th></th>\n",
       "      <th></th>\n",
       "      <th></th>\n",
       "      <th></th>\n",
       "      <th></th>\n",
       "      <th></th>\n",
       "      <th></th>\n",
       "      <th></th>\n",
       "      <th></th>\n",
       "      <th></th>\n",
       "      <th></th>\n",
       "      <th></th>\n",
       "      <th></th>\n",
       "      <th></th>\n",
       "      <th></th>\n",
       "      <th></th>\n",
       "      <th></th>\n",
       "      <th></th>\n",
       "      <th></th>\n",
       "    </tr>\n",
       "  </thead>\n",
       "  <tbody>\n",
       "    <tr>\n",
       "      <td>2016-08-22</td>\n",
       "      <td>1.0</td>\n",
       "      <td>46401.0</td>\n",
       "      <td>JHP-218</td>\n",
       "      <td>water/acetonitrile (65:35 V/V)</td>\n",
       "      <td>11.0</td>\n",
       "      <td>None</td>\n",
       "      <td>None</td>\n",
       "      <td>2010-09-03</td>\n",
       "      <td>2010-09-03</td>\n",
       "      <td>solvent</td>\n",
       "      <td>JHP-218</td>\n",
       "      <td>...</td>\n",
       "      <td>False</td>\n",
       "      <td>NaN</td>\n",
       "      <td>None</td>\n",
       "      <td>15.0</td>\n",
       "      <td>None</td>\n",
       "      <td>False</td>\n",
       "      <td>True</td>\n",
       "      <td>None</td>\n",
       "      <td>None</td>\n",
       "      <td>None</td>\n",
       "    </tr>\n",
       "    <tr>\n",
       "      <td>2013-07-08</td>\n",
       "      <td>2.0</td>\n",
       "      <td>41564.0</td>\n",
       "      <td>PST-112I100A01</td>\n",
       "      <td>trans-Chlordane Standard</td>\n",
       "      <td>1.0</td>\n",
       "      <td>1 analyte @ 100 µg/mL in isooctane (2,2,4-trim...</td>\n",
       "      <td>None</td>\n",
       "      <td>2009-12-09</td>\n",
       "      <td>2011-05-09</td>\n",
       "      <td>new</td>\n",
       "      <td>JHP-018</td>\n",
       "      <td>...</td>\n",
       "      <td>True</td>\n",
       "      <td>29.0</td>\n",
       "      <td>None</td>\n",
       "      <td>2.0</td>\n",
       "      <td>None</td>\n",
       "      <td>False</td>\n",
       "      <td>True</td>\n",
       "      <td>None</td>\n",
       "      <td>None</td>\n",
       "      <td>None</td>\n",
       "    </tr>\n",
       "    <tr>\n",
       "      <td>2004-06-01</td>\n",
       "      <td>2.0</td>\n",
       "      <td>5560.0</td>\n",
       "      <td>AMN-613-1</td>\n",
       "      <td>Acrolein and Acrylonitrile Standard</td>\n",
       "      <td>1.0</td>\n",
       "      <td>2 analytes @ 1000 µg/mL in water</td>\n",
       "      <td>None</td>\n",
       "      <td>1999-01-20</td>\n",
       "      <td>2001-05-23</td>\n",
       "      <td>active</td>\n",
       "      <td>JHP-040</td>\n",
       "      <td>...</td>\n",
       "      <td>True</td>\n",
       "      <td>NaN</td>\n",
       "      <td>None</td>\n",
       "      <td>2.0</td>\n",
       "      <td>None</td>\n",
       "      <td>False</td>\n",
       "      <td>True</td>\n",
       "      <td>None</td>\n",
       "      <td>None</td>\n",
       "      <td>None</td>\n",
       "    </tr>\n",
       "    <tr>\n",
       "      <td>2017-02-16</td>\n",
       "      <td>1.0</td>\n",
       "      <td>94098.0</td>\n",
       "      <td>CUS-23462</td>\n",
       "      <td>Custom Standard</td>\n",
       "      <td>7.0</td>\n",
       "      <td>None</td>\n",
       "      <td>None</td>\n",
       "      <td>2017-01-25</td>\n",
       "      <td>2017-01-25</td>\n",
       "      <td>None</td>\n",
       "      <td>JHP-003</td>\n",
       "      <td>...</td>\n",
       "      <td>False</td>\n",
       "      <td>14.0</td>\n",
       "      <td>None</td>\n",
       "      <td>1.0</td>\n",
       "      <td>None</td>\n",
       "      <td>False</td>\n",
       "      <td>False</td>\n",
       "      <td>None</td>\n",
       "      <td>None</td>\n",
       "      <td>None</td>\n",
       "    </tr>\n",
       "    <tr>\n",
       "      <td>NaT</td>\n",
       "      <td>2.0</td>\n",
       "      <td>5580.0</td>\n",
       "      <td>B-100</td>\n",
       "      <td>Benzidine Solution</td>\n",
       "      <td>1.0</td>\n",
       "      <td>1 analyte @ 100 µg/mL in methanol (methyl alco...</td>\n",
       "      <td>None</td>\n",
       "      <td>1999-01-20</td>\n",
       "      <td>2011-05-09</td>\n",
       "      <td>active</td>\n",
       "      <td>JHP-021</td>\n",
       "      <td>...</td>\n",
       "      <td>False</td>\n",
       "      <td>NaN</td>\n",
       "      <td>None</td>\n",
       "      <td>2.0</td>\n",
       "      <td>None</td>\n",
       "      <td>False</td>\n",
       "      <td>False</td>\n",
       "      <td>None</td>\n",
       "      <td>None</td>\n",
       "      <td>None</td>\n",
       "    </tr>\n",
       "  </tbody>\n",
       "</table>\n",
       "<p>5 rows × 92 columns</p>\n",
       "</div>"
      ],
      "text/plain": [
       "                         ProductID       ProductNo  \\\n",
       "QCDate     QCValidation                              \n",
       "2016-08-22 1.0             46401.0         JHP-218   \n",
       "2013-07-08 2.0             41564.0  PST-112I100A01   \n",
       "2004-06-01 2.0              5560.0       AMN-613-1   \n",
       "2017-02-16 1.0             94098.0       CUS-23462   \n",
       "NaT        2.0              5580.0           B-100   \n",
       "\n",
       "                                                 ProductName  LineID  \\\n",
       "QCDate     QCValidation                                                \n",
       "2016-08-22 1.0                water/acetonitrile (65:35 V/V)    11.0   \n",
       "2013-07-08 2.0                      trans-Chlordane Standard     1.0   \n",
       "2004-06-01 2.0           Acrolein and Acrylonitrile Standard     1.0   \n",
       "2017-02-16 1.0                               Custom Standard     7.0   \n",
       "NaT        2.0                            Benzidine Solution     1.0   \n",
       "\n",
       "                                                               Description  \\\n",
       "QCDate     QCValidation                                                      \n",
       "2016-08-22 1.0                                                        None   \n",
       "2013-07-08 2.0           1 analyte @ 100 µg/mL in isooctane (2,2,4-trim...   \n",
       "2004-06-01 2.0                            2 analytes @ 1000 µg/mL in water   \n",
       "2017-02-16 1.0                                                        None   \n",
       "NaT        2.0           1 analyte @ 100 µg/mL in methanol (methyl alco...   \n",
       "\n",
       "                        Specials OriginationDate  EntryDate   Status  \\\n",
       "QCDate     QCValidation                                                \n",
       "2016-08-22 1.0              None      2010-09-03 2010-09-03  solvent   \n",
       "2013-07-08 2.0              None      2009-12-09 2011-05-09      new   \n",
       "2004-06-01 2.0              None      1999-01-20 2001-05-23   active   \n",
       "2017-02-16 1.0              None      2017-01-25 2017-01-25     None   \n",
       "NaT        2.0              None      1999-01-20 2011-05-09   active   \n",
       "\n",
       "                        MatrixNumber  ...  QCFullValidation FgInvCount  \\\n",
       "QCDate     QCValidation               ...                                \n",
       "2016-08-22 1.0               JHP-218  ...             False        NaN   \n",
       "2013-07-08 2.0               JHP-018  ...              True       29.0   \n",
       "2004-06-01 2.0               JHP-040  ...              True        NaN   \n",
       "2017-02-16 1.0               JHP-003  ...             False       14.0   \n",
       "NaT        2.0               JHP-021  ...             False        NaN   \n",
       "\n",
       "                        FgAccpacNote CofAHeaderNo QCChromatogram Correct  \\\n",
       "QCDate     QCValidation                                                    \n",
       "2016-08-22 1.0                  None         15.0           None   False   \n",
       "2013-07-08 2.0                  None          2.0           None   False   \n",
       "2004-06-01 2.0                  None          2.0           None   False   \n",
       "2017-02-16 1.0                  None          1.0           None   False   \n",
       "NaT        2.0                  None          2.0           None   False   \n",
       "\n",
       "                         DoNotCorrect DensityUnit DensityTemp recipeid  \n",
       "QCDate     QCValidation                                                 \n",
       "2016-08-22 1.0                   True        None        None     None  \n",
       "2013-07-08 2.0                   True        None        None     None  \n",
       "2004-06-01 2.0                   True        None        None     None  \n",
       "2017-02-16 1.0                  False        None        None     None  \n",
       "NaT        2.0                  False        None        None     None  \n",
       "\n",
       "[5 rows x 92 columns]"
      ]
     },
     "execution_count": 35,
     "metadata": {},
     "output_type": "execute_result"
    }
   ],
   "source": [
    "# SET ['QCDate'] & ['QCValidation'] as the INDEX and delete COLUMNS\n",
    "# [2020-02-24]\\\\TEST_METRICS.set_index([TEST_METRICS['QCDate'], TEST_METRICS['QCValidation']])\n",
    "TEST_METRICS.index = [TEST_METRICS['QCDate'], TEST_METRICS['QCValidation']]\n",
    "del TEST_METRICS['QCDate'], TEST_METRICS['QCValidation']\n",
    "TEST_METRICS.sample(5)"
   ]
  },
  {
   "cell_type": "raw",
   "metadata": {},
   "source": [
    "TEST_METRICS.index =  = df_QCMetrics.reindex(['QCDate', 'QCValidation'], inplace=False)"
   ]
  },
  {
   "cell_type": "code",
   "execution_count": 36,
   "metadata": {
    "ExecuteTime": {
     "end_time": "2020-02-25T21:02:47.974815Z",
     "start_time": "2020-02-25T21:02:47.408808Z"
    }
   },
   "outputs": [
    {
     "data": {
      "text/plain": [
       "(1987-01-01 00:00:00, 1.0)     2\n",
       "(1989-01-01 00:00:00, 1.0)     1\n",
       "(1991-01-01 00:00:00, 1.0)     1\n",
       "(1991-01-01 00:00:00, 2.0)     3\n",
       "(1992-01-01 00:00:00, 1.0)     1\n",
       "                              ..\n",
       "(NaT, nan)                     1\n",
       "(NaT, nan)                     1\n",
       "(2020-02-26 00:00:00, 1.0)    25\n",
       "(NaT, nan)                     1\n",
       "(NaT, nan)                     1\n",
       "Name: PfBatchID, Length: 11053, dtype: int64"
      ]
     },
     "execution_count": 36,
     "metadata": {},
     "output_type": "execute_result"
    }
   ],
   "source": [
    "TEST_METRICS.groupby(TEST_METRICS.index)['PfBatchID'].count()"
   ]
  },
  {
   "cell_type": "code",
   "execution_count": 37,
   "metadata": {
    "ExecuteTime": {
     "end_time": "2020-02-25T21:02:48.750825Z",
     "start_time": "2020-02-25T21:02:47.976815Z"
    }
   },
   "outputs": [
    {
     "name": "stdout",
     "output_type": "stream",
     "text": [
      "FAIL!\n",
      "\n",
      "TypeError:\n",
      "\tOnly valid with:\n",
      "\t\tDatetimeIndex,\n",
      "\t\tTimedeltaIndex,\n",
      "\t\tPeriodIndex;\n",
      "\t\t\tbut got an instance of 'MultiIndex'\n"
     ]
    }
   ],
   "source": [
    "try: # {\n",
    "    TEST_METRICS.resample(\"D\").count()\n",
    "# }\n",
    "except: # {\n",
    "    print(\"FAIL!\\n\\nTypeError:\\n\\tOnly valid with:\\n\\t\\tDatetimeIndex,\\n\\t\\tTimedeltaIndex,\\n\\t\\tPeriodIndex;\\n\\t\\t\\tbut got an instance of 'MultiIndex'\")\n",
    "# }"
   ]
  },
  {
   "cell_type": "code",
   "execution_count": 38,
   "metadata": {
    "ExecuteTime": {
     "end_time": "2020-02-25T21:02:58.357459Z",
     "start_time": "2020-02-25T21:02:48.752825Z"
    }
   },
   "outputs": [],
   "source": [
    "TEST_METRICS.to_csv(\"test_METRICS_index.csv\", index=True)"
   ]
  },
  {
   "cell_type": "markdown",
   "metadata": {},
   "source": [
    "---\n",
    "# CHANGE `index` of `df_QCMetrics`:"
   ]
  },
  {
   "cell_type": "markdown",
   "metadata": {},
   "source": [
    "---\n",
    "## *BEFORE setting `index`:*"
   ]
  },
  {
   "cell_type": "code",
   "execution_count": 39,
   "metadata": {
    "ExecuteTime": {
     "end_time": "2020-02-25T21:02:58.402458Z",
     "start_time": "2020-02-25T21:02:58.359461Z"
    }
   },
   "outputs": [
    {
     "data": {
      "text/html": [
       "<div>\n",
       "<style scoped>\n",
       "    .dataframe tbody tr th:only-of-type {\n",
       "        vertical-align: middle;\n",
       "    }\n",
       "\n",
       "    .dataframe tbody tr th {\n",
       "        vertical-align: top;\n",
       "    }\n",
       "\n",
       "    .dataframe thead th {\n",
       "        text-align: right;\n",
       "    }\n",
       "</style>\n",
       "<table border=\"1\" class=\"dataframe\">\n",
       "  <thead>\n",
       "    <tr style=\"text-align: right;\">\n",
       "      <th></th>\n",
       "      <th>ProductID</th>\n",
       "      <th>ProductNo</th>\n",
       "      <th>ProductName</th>\n",
       "      <th>LineID</th>\n",
       "      <th>Description</th>\n",
       "      <th>Specials</th>\n",
       "      <th>OriginationDate</th>\n",
       "      <th>EntryDate</th>\n",
       "      <th>Status</th>\n",
       "      <th>MatrixNumber</th>\n",
       "      <th>...</th>\n",
       "      <th>QCValidation</th>\n",
       "      <th>FgInvCount</th>\n",
       "      <th>FgAccpacNote</th>\n",
       "      <th>CofAHeaderNo</th>\n",
       "      <th>QCChromatogram</th>\n",
       "      <th>Correct</th>\n",
       "      <th>DoNotCorrect</th>\n",
       "      <th>DensityUnit</th>\n",
       "      <th>DensityTemp</th>\n",
       "      <th>recipeid</th>\n",
       "    </tr>\n",
       "  </thead>\n",
       "  <tbody>\n",
       "    <tr>\n",
       "      <td>5458</td>\n",
       "      <td>5524.0</td>\n",
       "      <td>8500-6917-5</td>\n",
       "      <td>Caffeine Standard #5 (50 µg/mL)</td>\n",
       "      <td>7.0</td>\n",
       "      <td>None</td>\n",
       "      <td>agilent</td>\n",
       "      <td>1997-03-07</td>\n",
       "      <td>2004-03-30</td>\n",
       "      <td>oem</td>\n",
       "      <td>JHP-040</td>\n",
       "      <td>...</td>\n",
       "      <td>2.0</td>\n",
       "      <td>NaN</td>\n",
       "      <td>None</td>\n",
       "      <td>2.0</td>\n",
       "      <td>None</td>\n",
       "      <td>False</td>\n",
       "      <td>True</td>\n",
       "      <td>None</td>\n",
       "      <td>None</td>\n",
       "      <td>None</td>\n",
       "    </tr>\n",
       "    <tr>\n",
       "      <td>73539</td>\n",
       "      <td>20852.0</td>\n",
       "      <td>PST-112I100</td>\n",
       "      <td>trans-Chlordane Solution</td>\n",
       "      <td>7.0</td>\n",
       "      <td>None</td>\n",
       "      <td>None</td>\n",
       "      <td>2006-08-02</td>\n",
       "      <td>2011-05-09</td>\n",
       "      <td>None</td>\n",
       "      <td>JHP-018</td>\n",
       "      <td>...</td>\n",
       "      <td>1.0</td>\n",
       "      <td>36.0</td>\n",
       "      <td>current</td>\n",
       "      <td>1.0</td>\n",
       "      <td>None</td>\n",
       "      <td>False</td>\n",
       "      <td>True</td>\n",
       "      <td>None</td>\n",
       "      <td>None</td>\n",
       "      <td>None</td>\n",
       "    </tr>\n",
       "    <tr>\n",
       "      <td>37886</td>\n",
       "      <td>3248.0</td>\n",
       "      <td>CUS-5013</td>\n",
       "      <td>Custom Standard</td>\n",
       "      <td>7.0</td>\n",
       "      <td>None</td>\n",
       "      <td>None</td>\n",
       "      <td>2003-09-30</td>\n",
       "      <td>2011-05-09</td>\n",
       "      <td>None</td>\n",
       "      <td>JHP-021</td>\n",
       "      <td>...</td>\n",
       "      <td>1.0</td>\n",
       "      <td>34.0</td>\n",
       "      <td>Zero out lot CA-1494 (63); Current</td>\n",
       "      <td>1.0</td>\n",
       "      <td>None</td>\n",
       "      <td>False</td>\n",
       "      <td>True</td>\n",
       "      <td>None</td>\n",
       "      <td>None</td>\n",
       "      <td>None</td>\n",
       "    </tr>\n",
       "    <tr>\n",
       "      <td>38269</td>\n",
       "      <td>3875.0</td>\n",
       "      <td>CUS-5182</td>\n",
       "      <td>Custom Standard</td>\n",
       "      <td>7.0</td>\n",
       "      <td>None</td>\n",
       "      <td>None</td>\n",
       "      <td>2003-11-18</td>\n",
       "      <td>2011-05-09</td>\n",
       "      <td>None</td>\n",
       "      <td>JHP-021</td>\n",
       "      <td>...</td>\n",
       "      <td>1.0</td>\n",
       "      <td>33.0</td>\n",
       "      <td>zero out cc-3588 (37)</td>\n",
       "      <td>1.0</td>\n",
       "      <td>None</td>\n",
       "      <td>False</td>\n",
       "      <td>True</td>\n",
       "      <td>None</td>\n",
       "      <td>None</td>\n",
       "      <td>None</td>\n",
       "    </tr>\n",
       "    <tr>\n",
       "      <td>34258</td>\n",
       "      <td>457.0</td>\n",
       "      <td>CUS-3502</td>\n",
       "      <td>Custom Standard</td>\n",
       "      <td>7.0</td>\n",
       "      <td>None</td>\n",
       "      <td>None</td>\n",
       "      <td>2002-11-04</td>\n",
       "      <td>2011-05-09</td>\n",
       "      <td>None</td>\n",
       "      <td>JHP-021</td>\n",
       "      <td>...</td>\n",
       "      <td>1.0</td>\n",
       "      <td>NaN</td>\n",
       "      <td>None</td>\n",
       "      <td>1.0</td>\n",
       "      <td>None</td>\n",
       "      <td>False</td>\n",
       "      <td>True</td>\n",
       "      <td>None</td>\n",
       "      <td>None</td>\n",
       "      <td>None</td>\n",
       "    </tr>\n",
       "  </tbody>\n",
       "</table>\n",
       "<p>5 rows × 94 columns</p>\n",
       "</div>"
      ],
      "text/plain": [
       "       ProductID    ProductNo                      ProductName  LineID  \\\n",
       "5458      5524.0  8500-6917-5  Caffeine Standard #5 (50 µg/mL)     7.0   \n",
       "73539    20852.0  PST-112I100         trans-Chlordane Solution     7.0   \n",
       "37886     3248.0     CUS-5013                  Custom Standard     7.0   \n",
       "38269     3875.0     CUS-5182                  Custom Standard     7.0   \n",
       "34258      457.0     CUS-3502                  Custom Standard     7.0   \n",
       "\n",
       "      Description Specials OriginationDate  EntryDate Status MatrixNumber  \\\n",
       "5458         None  agilent      1997-03-07 2004-03-30    oem      JHP-040   \n",
       "73539        None     None      2006-08-02 2011-05-09   None      JHP-018   \n",
       "37886        None     None      2003-09-30 2011-05-09   None      JHP-021   \n",
       "38269        None     None      2003-11-18 2011-05-09   None      JHP-021   \n",
       "34258        None     None      2002-11-04 2011-05-09   None      JHP-021   \n",
       "\n",
       "       ...  QCValidation FgInvCount                        FgAccpacNote  \\\n",
       "5458   ...           2.0        NaN                                None   \n",
       "73539  ...           1.0       36.0                             current   \n",
       "37886  ...           1.0       34.0  Zero out lot CA-1494 (63); Current   \n",
       "38269  ...           1.0       33.0               zero out cc-3588 (37)   \n",
       "34258  ...           1.0        NaN                                None   \n",
       "\n",
       "      CofAHeaderNo QCChromatogram Correct  DoNotCorrect DensityUnit  \\\n",
       "5458           2.0           None   False          True        None   \n",
       "73539          1.0           None   False          True        None   \n",
       "37886          1.0           None   False          True        None   \n",
       "38269          1.0           None   False          True        None   \n",
       "34258          1.0           None   False          True        None   \n",
       "\n",
       "      DensityTemp recipeid  \n",
       "5458         None     None  \n",
       "73539        None     None  \n",
       "37886        None     None  \n",
       "38269        None     None  \n",
       "34258        None     None  \n",
       "\n",
       "[5 rows x 94 columns]"
      ]
     },
     "execution_count": 39,
     "metadata": {},
     "output_type": "execute_result"
    }
   ],
   "source": [
    "df_QCMetrics.sample(5)"
   ]
  },
  {
   "cell_type": "markdown",
   "metadata": {},
   "source": [
    "### Convert `QCMetrics`['QCDate'] from `str` to `datetime`"
   ]
  },
  {
   "cell_type": "code",
   "execution_count": 40,
   "metadata": {
    "ExecuteTime": {
     "end_time": "2020-02-25T21:02:58.411460Z",
     "start_time": "2020-02-25T21:02:58.404460Z"
    }
   },
   "outputs": [],
   "source": [
    "# Convert \"QCMetrics\"['QCDate'] from string to datetime\n",
    "df_QCMetrics['QCDate'] = pd.to_datetime(df_QCMetrics['QCDate'])"
   ]
  },
  {
   "cell_type": "markdown",
   "metadata": {},
   "source": [
    "### set `index` of `df_QCMetrics` to be `QCDate` (after changing `dtype`)"
   ]
  },
  {
   "cell_type": "code",
   "execution_count": 41,
   "metadata": {
    "ExecuteTime": {
     "end_time": "2020-02-25T21:02:58.424457Z",
     "start_time": "2020-02-25T21:02:58.414459Z"
    }
   },
   "outputs": [],
   "source": [
    "# set \"QCmetrics\"\"['QCDate'] as the index and delete column\n",
    "df_QCMetrics.index = df_QCMetrics['QCDate']\n",
    "del df_QCMetrics['QCDate']"
   ]
  },
  {
   "cell_type": "raw",
   "metadata": {
    "raw_mimetype": "text/x-python"
   },
   "source": [
    "df_QCMetrics.dropna(axis=\"columns\", subset=df_QCMetrics.index, how='any', inplace=True)\n",
    "len(df_QCMetrics)"
   ]
  },
  {
   "cell_type": "markdown",
   "metadata": {},
   "source": [
    "---\n",
    "## *AFTER setting `index`:*"
   ]
  },
  {
   "cell_type": "code",
   "execution_count": 42,
   "metadata": {
    "ExecuteTime": {
     "end_time": "2020-02-25T21:02:58.473459Z",
     "start_time": "2020-02-25T21:02:58.426457Z"
    }
   },
   "outputs": [
    {
     "data": {
      "text/html": [
       "<div>\n",
       "<style scoped>\n",
       "    .dataframe tbody tr th:only-of-type {\n",
       "        vertical-align: middle;\n",
       "    }\n",
       "\n",
       "    .dataframe tbody tr th {\n",
       "        vertical-align: top;\n",
       "    }\n",
       "\n",
       "    .dataframe thead th {\n",
       "        text-align: right;\n",
       "    }\n",
       "</style>\n",
       "<table border=\"1\" class=\"dataframe\">\n",
       "  <thead>\n",
       "    <tr style=\"text-align: right;\">\n",
       "      <th></th>\n",
       "      <th>ProductID</th>\n",
       "      <th>ProductNo</th>\n",
       "      <th>ProductName</th>\n",
       "      <th>LineID</th>\n",
       "      <th>Description</th>\n",
       "      <th>Specials</th>\n",
       "      <th>OriginationDate</th>\n",
       "      <th>EntryDate</th>\n",
       "      <th>Status</th>\n",
       "      <th>MatrixNumber</th>\n",
       "      <th>...</th>\n",
       "      <th>QCValidation</th>\n",
       "      <th>FgInvCount</th>\n",
       "      <th>FgAccpacNote</th>\n",
       "      <th>CofAHeaderNo</th>\n",
       "      <th>QCChromatogram</th>\n",
       "      <th>Correct</th>\n",
       "      <th>DoNotCorrect</th>\n",
       "      <th>DensityUnit</th>\n",
       "      <th>DensityTemp</th>\n",
       "      <th>recipeid</th>\n",
       "    </tr>\n",
       "    <tr>\n",
       "      <th>QCDate</th>\n",
       "      <th></th>\n",
       "      <th></th>\n",
       "      <th></th>\n",
       "      <th></th>\n",
       "      <th></th>\n",
       "      <th></th>\n",
       "      <th></th>\n",
       "      <th></th>\n",
       "      <th></th>\n",
       "      <th></th>\n",
       "      <th></th>\n",
       "      <th></th>\n",
       "      <th></th>\n",
       "      <th></th>\n",
       "      <th></th>\n",
       "      <th></th>\n",
       "      <th></th>\n",
       "      <th></th>\n",
       "      <th></th>\n",
       "      <th></th>\n",
       "      <th></th>\n",
       "    </tr>\n",
       "  </thead>\n",
       "  <tbody>\n",
       "    <tr>\n",
       "      <td>2012-11-01</td>\n",
       "      <td>60953.0</td>\n",
       "      <td>STK-00838</td>\n",
       "      <td>Triolein 2000 µg/mL in Pyridine Stock</td>\n",
       "      <td>16.0</td>\n",
       "      <td>None</td>\n",
       "      <td>None</td>\n",
       "      <td>2012-11-01</td>\n",
       "      <td>2012-11-01</td>\n",
       "      <td>None</td>\n",
       "      <td>JHP-123</td>\n",
       "      <td>...</td>\n",
       "      <td>1.0</td>\n",
       "      <td>NaN</td>\n",
       "      <td>None</td>\n",
       "      <td>14.0</td>\n",
       "      <td>None</td>\n",
       "      <td>False</td>\n",
       "      <td>True</td>\n",
       "      <td>None</td>\n",
       "      <td>None</td>\n",
       "      <td>None</td>\n",
       "    </tr>\n",
       "    <tr>\n",
       "      <td>2008-02-08</td>\n",
       "      <td>29718.0</td>\n",
       "      <td>PST-500M10</td>\n",
       "      <td>Endosulfan Solution</td>\n",
       "      <td>7.0</td>\n",
       "      <td>None</td>\n",
       "      <td>None</td>\n",
       "      <td>2008-02-05</td>\n",
       "      <td>2011-05-09</td>\n",
       "      <td>None</td>\n",
       "      <td>JHP-021</td>\n",
       "      <td>...</td>\n",
       "      <td>1.0</td>\n",
       "      <td>45.0</td>\n",
       "      <td>1x1 ml</td>\n",
       "      <td>1.0</td>\n",
       "      <td>None</td>\n",
       "      <td>False</td>\n",
       "      <td>True</td>\n",
       "      <td>None</td>\n",
       "      <td>None</td>\n",
       "      <td>None</td>\n",
       "    </tr>\n",
       "    <tr>\n",
       "      <td>2016-04-04</td>\n",
       "      <td>85640.0</td>\n",
       "      <td>CUS-19376-3</td>\n",
       "      <td>Custom Standard</td>\n",
       "      <td>7.0</td>\n",
       "      <td>None</td>\n",
       "      <td>None</td>\n",
       "      <td>2016-01-22</td>\n",
       "      <td>2016-01-22</td>\n",
       "      <td>None</td>\n",
       "      <td>JHP-039</td>\n",
       "      <td>...</td>\n",
       "      <td>2.0</td>\n",
       "      <td>14.0</td>\n",
       "      <td>None</td>\n",
       "      <td>2.0</td>\n",
       "      <td>None</td>\n",
       "      <td>False</td>\n",
       "      <td>False</td>\n",
       "      <td>None</td>\n",
       "      <td>None</td>\n",
       "      <td>None</td>\n",
       "    </tr>\n",
       "    <tr>\n",
       "      <td>2009-09-16</td>\n",
       "      <td>39668.0</td>\n",
       "      <td>CUS-11234</td>\n",
       "      <td>AOAC Stock 5</td>\n",
       "      <td>7.0</td>\n",
       "      <td>None</td>\n",
       "      <td>None</td>\n",
       "      <td>2009-09-10</td>\n",
       "      <td>2009-09-10</td>\n",
       "      <td>None</td>\n",
       "      <td>JHP-311</td>\n",
       "      <td>...</td>\n",
       "      <td>2.0</td>\n",
       "      <td>137.0</td>\n",
       "      <td>None</td>\n",
       "      <td>2.0</td>\n",
       "      <td>None</td>\n",
       "      <td>False</td>\n",
       "      <td>True</td>\n",
       "      <td>None</td>\n",
       "      <td>None</td>\n",
       "      <td>None</td>\n",
       "    </tr>\n",
       "    <tr>\n",
       "      <td>2002-07-12</td>\n",
       "      <td>6445.0</td>\n",
       "      <td>PH-110-1</td>\n",
       "      <td>2-Chlorophenol Standard</td>\n",
       "      <td>1.0</td>\n",
       "      <td>1 analyte @ 100 µg/mL in methanol (methyl alco...</td>\n",
       "      <td>None</td>\n",
       "      <td>1999-01-20</td>\n",
       "      <td>2011-05-09</td>\n",
       "      <td>active</td>\n",
       "      <td>JHP-021</td>\n",
       "      <td>...</td>\n",
       "      <td>2.0</td>\n",
       "      <td>NaN</td>\n",
       "      <td>None</td>\n",
       "      <td>2.0</td>\n",
       "      <td>None</td>\n",
       "      <td>False</td>\n",
       "      <td>True</td>\n",
       "      <td>None</td>\n",
       "      <td>None</td>\n",
       "      <td>None</td>\n",
       "    </tr>\n",
       "  </tbody>\n",
       "</table>\n",
       "<p>5 rows × 93 columns</p>\n",
       "</div>"
      ],
      "text/plain": [
       "            ProductID    ProductNo                            ProductName  \\\n",
       "QCDate                                                                      \n",
       "2012-11-01    60953.0    STK-00838  Triolein 2000 µg/mL in Pyridine Stock   \n",
       "2008-02-08    29718.0   PST-500M10                    Endosulfan Solution   \n",
       "2016-04-04    85640.0  CUS-19376-3                        Custom Standard   \n",
       "2009-09-16    39668.0    CUS-11234                           AOAC Stock 5   \n",
       "2002-07-12     6445.0     PH-110-1                2-Chlorophenol Standard   \n",
       "\n",
       "            LineID                                        Description  \\\n",
       "QCDate                                                                  \n",
       "2012-11-01    16.0                                               None   \n",
       "2008-02-08     7.0                                               None   \n",
       "2016-04-04     7.0                                               None   \n",
       "2009-09-16     7.0                                               None   \n",
       "2002-07-12     1.0  1 analyte @ 100 µg/mL in methanol (methyl alco...   \n",
       "\n",
       "           Specials OriginationDate  EntryDate  Status MatrixNumber  ...  \\\n",
       "QCDate                                                               ...   \n",
       "2012-11-01     None      2012-11-01 2012-11-01    None      JHP-123  ...   \n",
       "2008-02-08     None      2008-02-05 2011-05-09    None      JHP-021  ...   \n",
       "2016-04-04     None      2016-01-22 2016-01-22    None      JHP-039  ...   \n",
       "2009-09-16     None      2009-09-10 2009-09-10    None      JHP-311  ...   \n",
       "2002-07-12     None      1999-01-20 2011-05-09  active      JHP-021  ...   \n",
       "\n",
       "            QCValidation FgInvCount FgAccpacNote CofAHeaderNo QCChromatogram  \\\n",
       "QCDate                                                                         \n",
       "2012-11-01           1.0        NaN         None         14.0           None   \n",
       "2008-02-08           1.0       45.0       1x1 ml          1.0           None   \n",
       "2016-04-04           2.0       14.0         None          2.0           None   \n",
       "2009-09-16           2.0      137.0         None          2.0           None   \n",
       "2002-07-12           2.0        NaN         None          2.0           None   \n",
       "\n",
       "           Correct  DoNotCorrect DensityUnit DensityTemp recipeid  \n",
       "QCDate                                                             \n",
       "2012-11-01   False          True        None        None     None  \n",
       "2008-02-08   False          True        None        None     None  \n",
       "2016-04-04   False         False        None        None     None  \n",
       "2009-09-16   False          True        None        None     None  \n",
       "2002-07-12   False          True        None        None     None  \n",
       "\n",
       "[5 rows x 93 columns]"
      ]
     },
     "execution_count": 42,
     "metadata": {},
     "output_type": "execute_result"
    }
   ],
   "source": [
    "df_QCMetrics.sample(5)"
   ]
  },
  {
   "cell_type": "raw",
   "metadata": {},
   "source": [
    "---\n",
    "## `resample` dataframe with *QCDate* as `index`:"
   ]
  },
  {
   "cell_type": "raw",
   "metadata": {
    "ExecuteTime": {
     "end_time": "2020-02-24T21:50:25.726189Z",
     "start_time": "2020-02-24T21:50:25.713149Z"
    }
   },
   "source": [
    "metrics_month = df_QCMetrics[str(td_one_month_ago):str(test_date)]"
   ]
  },
  {
   "cell_type": "raw",
   "metadata": {},
   "source": [
    "### `groupBy` the `resample`?"
   ]
  },
  {
   "cell_type": "raw",
   "metadata": {
    "raw_mimetype": "text/x-python"
   },
   "source": [
    "merged = pd.concat([df_QCMetrics, df_month_range], join='inner')"
   ]
  },
  {
   "cell_type": "raw",
   "metadata": {
    "raw_mimetype": "text/x-python"
   },
   "source": [
    "merged"
   ]
  },
  {
   "cell_type": "raw",
   "metadata": {
    "raw_mimetype": "text/x-python"
   },
   "source": [
    "merged = df_QCMetrics.join(df_month_range, on = ['QCDate'], how='right', lsuffix='_x')"
   ]
  },
  {
   "cell_type": "markdown",
   "metadata": {},
   "source": [
    "---\n",
    "# create `df_last_month` DataFrame"
   ]
  },
  {
   "cell_type": "markdown",
   "metadata": {},
   "source": [
    "---\n",
    "### View Observations between One Month Ago and Today"
   ]
  },
  {
   "cell_type": "code",
   "execution_count": 43,
   "metadata": {
    "ExecuteTime": {
     "end_time": "2020-02-25T21:02:58.497460Z",
     "start_time": "2020-02-25T21:02:58.476461Z"
    }
   },
   "outputs": [
    {
     "data": {
      "text/plain": [
       "602"
      ]
     },
     "execution_count": 43,
     "metadata": {},
     "output_type": "execute_result"
    }
   ],
   "source": [
    "df_last_month = df_QCMetrics[str(one_month_ago):str(test_date)]\n",
    "len(df_last_month)\n",
    "# [2020-02-22]\\\\df_last_month.to_csv(\"last_month.csv\", index=True)"
   ]
  },
  {
   "cell_type": "code",
   "execution_count": 44,
   "metadata": {
    "ExecuteTime": {
     "end_time": "2020-02-25T21:02:58.546460Z",
     "start_time": "2020-02-25T21:02:58.501461Z"
    }
   },
   "outputs": [
    {
     "data": {
      "text/html": [
       "<div>\n",
       "<style scoped>\n",
       "    .dataframe tbody tr th:only-of-type {\n",
       "        vertical-align: middle;\n",
       "    }\n",
       "\n",
       "    .dataframe tbody tr th {\n",
       "        vertical-align: top;\n",
       "    }\n",
       "\n",
       "    .dataframe thead th {\n",
       "        text-align: right;\n",
       "    }\n",
       "</style>\n",
       "<table border=\"1\" class=\"dataframe\">\n",
       "  <thead>\n",
       "    <tr style=\"text-align: right;\">\n",
       "      <th></th>\n",
       "      <th>ProductID</th>\n",
       "      <th>ProductNo</th>\n",
       "      <th>ProductName</th>\n",
       "      <th>LineID</th>\n",
       "      <th>Description</th>\n",
       "      <th>Specials</th>\n",
       "      <th>OriginationDate</th>\n",
       "      <th>EntryDate</th>\n",
       "      <th>Status</th>\n",
       "      <th>MatrixNumber</th>\n",
       "      <th>...</th>\n",
       "      <th>QCValidation</th>\n",
       "      <th>FgInvCount</th>\n",
       "      <th>FgAccpacNote</th>\n",
       "      <th>CofAHeaderNo</th>\n",
       "      <th>QCChromatogram</th>\n",
       "      <th>Correct</th>\n",
       "      <th>DoNotCorrect</th>\n",
       "      <th>DensityUnit</th>\n",
       "      <th>DensityTemp</th>\n",
       "      <th>recipeid</th>\n",
       "    </tr>\n",
       "    <tr>\n",
       "      <th>QCDate</th>\n",
       "      <th></th>\n",
       "      <th></th>\n",
       "      <th></th>\n",
       "      <th></th>\n",
       "      <th></th>\n",
       "      <th></th>\n",
       "      <th></th>\n",
       "      <th></th>\n",
       "      <th></th>\n",
       "      <th></th>\n",
       "      <th></th>\n",
       "      <th></th>\n",
       "      <th></th>\n",
       "      <th></th>\n",
       "      <th></th>\n",
       "      <th></th>\n",
       "      <th></th>\n",
       "      <th></th>\n",
       "      <th></th>\n",
       "      <th></th>\n",
       "      <th></th>\n",
       "    </tr>\n",
       "  </thead>\n",
       "  <tbody>\n",
       "    <tr>\n",
       "      <td>2020-02-12</td>\n",
       "      <td>6426.0</td>\n",
       "      <td>NVM-826-1</td>\n",
       "      <td>Calibration Standard</td>\n",
       "      <td>1.0</td>\n",
       "      <td>15 analytes @ 2000 µg/mL in water</td>\n",
       "      <td>None</td>\n",
       "      <td>1999-01-20</td>\n",
       "      <td>2001-05-23</td>\n",
       "      <td>active</td>\n",
       "      <td>JHP-040</td>\n",
       "      <td>...</td>\n",
       "      <td>1.0</td>\n",
       "      <td>66.0</td>\n",
       "      <td>None</td>\n",
       "      <td>1.0</td>\n",
       "      <td>None</td>\n",
       "      <td>False</td>\n",
       "      <td>False</td>\n",
       "      <td>None</td>\n",
       "      <td>None</td>\n",
       "      <td>None</td>\n",
       "    </tr>\n",
       "    <tr>\n",
       "      <td>2020-01-30</td>\n",
       "      <td>101975.0</td>\n",
       "      <td>STK-03320</td>\n",
       "      <td>Beta-BHC (HCH) @ 5µg/mL in acetone Stock</td>\n",
       "      <td>16.0</td>\n",
       "      <td>None</td>\n",
       "      <td>None</td>\n",
       "      <td>2018-01-22</td>\n",
       "      <td>2018-01-22</td>\n",
       "      <td>None</td>\n",
       "      <td>JHP-001</td>\n",
       "      <td>...</td>\n",
       "      <td>1.0</td>\n",
       "      <td>NaN</td>\n",
       "      <td>no action</td>\n",
       "      <td>14.0</td>\n",
       "      <td>None</td>\n",
       "      <td>True</td>\n",
       "      <td>False</td>\n",
       "      <td>None</td>\n",
       "      <td>None</td>\n",
       "      <td>None</td>\n",
       "    </tr>\n",
       "    <tr>\n",
       "      <td>2020-02-08</td>\n",
       "      <td>114044.0</td>\n",
       "      <td>STK-03796</td>\n",
       "      <td>CUS-00002500 at 10x [ ] in methanol</td>\n",
       "      <td>16.0</td>\n",
       "      <td>None</td>\n",
       "      <td>None</td>\n",
       "      <td>2020-02-07</td>\n",
       "      <td>2020-02-07</td>\n",
       "      <td>None</td>\n",
       "      <td>JHP-021</td>\n",
       "      <td>...</td>\n",
       "      <td>1.0</td>\n",
       "      <td>NaN</td>\n",
       "      <td>None</td>\n",
       "      <td>14.0</td>\n",
       "      <td>None</td>\n",
       "      <td>True</td>\n",
       "      <td>False</td>\n",
       "      <td>None</td>\n",
       "      <td>None</td>\n",
       "      <td>None</td>\n",
       "    </tr>\n",
       "    <tr>\n",
       "      <td>2020-02-13</td>\n",
       "      <td>101233.0</td>\n",
       "      <td>5191-4284-1</td>\n",
       "      <td>100.0 mM Ammonium Trifluoroacetate</td>\n",
       "      <td>7.0</td>\n",
       "      <td>None</td>\n",
       "      <td>None</td>\n",
       "      <td>2017-12-05</td>\n",
       "      <td>2017-12-05</td>\n",
       "      <td>None</td>\n",
       "      <td>JHP-070</td>\n",
       "      <td>...</td>\n",
       "      <td>1.0</td>\n",
       "      <td>1513.0</td>\n",
       "      <td>None</td>\n",
       "      <td>1.0</td>\n",
       "      <td>None</td>\n",
       "      <td>False</td>\n",
       "      <td>False</td>\n",
       "      <td>None</td>\n",
       "      <td>None</td>\n",
       "      <td>None</td>\n",
       "    </tr>\n",
       "    <tr>\n",
       "      <td>2020-02-05</td>\n",
       "      <td>3470.0</td>\n",
       "      <td>326126</td>\n",
       "      <td>Brij-35 (21% Solution)</td>\n",
       "      <td>8.0</td>\n",
       "      <td>None</td>\n",
       "      <td>None</td>\n",
       "      <td>2003-10-20</td>\n",
       "      <td>2003-10-20</td>\n",
       "      <td>None</td>\n",
       "      <td>JHP-040</td>\n",
       "      <td>...</td>\n",
       "      <td>1.0</td>\n",
       "      <td>96.0</td>\n",
       "      <td>None</td>\n",
       "      <td>1.0</td>\n",
       "      <td>None</td>\n",
       "      <td>False</td>\n",
       "      <td>False</td>\n",
       "      <td>None</td>\n",
       "      <td>None</td>\n",
       "      <td>None</td>\n",
       "    </tr>\n",
       "  </tbody>\n",
       "</table>\n",
       "<p>5 rows × 93 columns</p>\n",
       "</div>"
      ],
      "text/plain": [
       "            ProductID    ProductNo                               ProductName  \\\n",
       "QCDate                                                                         \n",
       "2020-02-12     6426.0    NVM-826-1                      Calibration Standard   \n",
       "2020-01-30   101975.0    STK-03320  Beta-BHC (HCH) @ 5µg/mL in acetone Stock   \n",
       "2020-02-08   114044.0    STK-03796       CUS-00002500 at 10x [ ] in methanol   \n",
       "2020-02-13   101233.0  5191-4284-1        100.0 mM Ammonium Trifluoroacetate   \n",
       "2020-02-05     3470.0       326126                    Brij-35 (21% Solution)   \n",
       "\n",
       "            LineID                        Description Specials  \\\n",
       "QCDate                                                           \n",
       "2020-02-12     1.0  15 analytes @ 2000 µg/mL in water     None   \n",
       "2020-01-30    16.0                               None     None   \n",
       "2020-02-08    16.0                               None     None   \n",
       "2020-02-13     7.0                               None     None   \n",
       "2020-02-05     8.0                               None     None   \n",
       "\n",
       "           OriginationDate  EntryDate  Status MatrixNumber  ...  QCValidation  \\\n",
       "QCDate                                                      ...                 \n",
       "2020-02-12      1999-01-20 2001-05-23  active      JHP-040  ...           1.0   \n",
       "2020-01-30      2018-01-22 2018-01-22    None      JHP-001  ...           1.0   \n",
       "2020-02-08      2020-02-07 2020-02-07    None      JHP-021  ...           1.0   \n",
       "2020-02-13      2017-12-05 2017-12-05    None      JHP-070  ...           1.0   \n",
       "2020-02-05      2003-10-20 2003-10-20    None      JHP-040  ...           1.0   \n",
       "\n",
       "           FgInvCount FgAccpacNote CofAHeaderNo QCChromatogram Correct  \\\n",
       "QCDate                                                                   \n",
       "2020-02-12       66.0         None          1.0           None   False   \n",
       "2020-01-30        NaN    no action         14.0           None    True   \n",
       "2020-02-08        NaN         None         14.0           None    True   \n",
       "2020-02-13     1513.0         None          1.0           None   False   \n",
       "2020-02-05       96.0         None          1.0           None   False   \n",
       "\n",
       "            DoNotCorrect DensityUnit DensityTemp recipeid  \n",
       "QCDate                                                     \n",
       "2020-02-12         False        None        None     None  \n",
       "2020-01-30         False        None        None     None  \n",
       "2020-02-08         False        None        None     None  \n",
       "2020-02-13         False        None        None     None  \n",
       "2020-02-05         False        None        None     None  \n",
       "\n",
       "[5 rows x 93 columns]"
      ]
     },
     "execution_count": 44,
     "metadata": {},
     "output_type": "execute_result"
    }
   ],
   "source": [
    "df_last_month.sample(5)"
   ]
  },
  {
   "cell_type": "code",
   "execution_count": 45,
   "metadata": {
    "ExecuteTime": {
     "end_time": "2020-02-25T21:02:58.555461Z",
     "start_time": "2020-02-25T21:02:58.549459Z"
    }
   },
   "outputs": [
    {
     "data": {
      "text/plain": [
       "DatetimeIndex(['2020-01-28', '2020-02-19', '2020-02-07', '2020-02-18',\n",
       "               '2020-02-25', '2020-02-24', '2020-01-30', '2020-01-30',\n",
       "               '2020-02-05', '2020-02-13',\n",
       "               ...\n",
       "               '2020-02-11', '2020-02-20', '2020-02-21', '2020-02-04',\n",
       "               '2020-01-29', '2020-02-18', '2020-02-06', '2020-02-07',\n",
       "               '2020-02-19', '2020-01-31'],\n",
       "              dtype='datetime64[ns]', name='QCDate', length=602, freq=None)"
      ]
     },
     "execution_count": 45,
     "metadata": {},
     "output_type": "execute_result"
    }
   ],
   "source": [
    "df_last_month.index"
   ]
  },
  {
   "cell_type": "markdown",
   "metadata": {},
   "source": [
    "---\n",
    "# create `df_daily_levels` frame"
   ]
  },
  {
   "cell_type": "markdown",
   "metadata": {},
   "source": [
    "---\n",
    "\n",
    "## GroupBy ([df_last_month.index, 'QCValidation'])['PfBatchID']"
   ]
  },
  {
   "cell_type": "raw",
   "metadata": {
    "ExecuteTime": {
     "end_time": "2020-02-24T15:58:49.979563Z",
     "start_time": "2020-02-24T15:58:49.972564Z"
    },
    "raw_mimetype": "text/x-python"
   },
   "source": [
    "df_last_month.set_index([df_last_month.index, 'ProductLevel'], inplace=True)"
   ]
  },
  {
   "cell_type": "raw",
   "metadata": {
    "raw_mimetype": "text/x-python"
   },
   "source": [
    "df_last_month.QCValidation = pd.Categorical(df_last_month.QCValidation, ['1.0', '2.0', '3.0'], ordered=True)"
   ]
  },
  {
   "cell_type": "raw",
   "metadata": {
    "raw_mimetype": "text/x-python"
   },
   "source": [
    "print(df_last_month.QCValidation)"
   ]
  },
  {
   "cell_type": "markdown",
   "metadata": {},
   "source": [
    "### TEST `CATEGORICAL-INDEX` BELOW:"
   ]
  },
  {
   "cell_type": "raw",
   "metadata": {
    "ExecuteTime": {
     "end_time": "2020-02-25T16:54:07.654098Z",
     "start_time": "2020-02-25T16:54:07.645098Z"
    },
    "raw_mimetype": "text/x-python"
   },
   "source": [
    "# c = pd.Categorical(['1.0', '2.0', '3.0'])\n",
    "pd.CategoricalIndex(c, name='QCValidation')"
   ]
  },
  {
   "cell_type": "code",
   "execution_count": 46,
   "metadata": {
    "ExecuteTime": {
     "end_time": "2020-02-25T21:02:58.574459Z",
     "start_time": "2020-02-25T21:02:58.558463Z"
    }
   },
   "outputs": [
    {
     "data": {
      "text/plain": [
       "QCDate\n",
       "2020-01-27    35\n",
       "2020-01-28    14\n",
       "2020-01-29    24\n",
       "2020-01-30    22\n",
       "2020-01-31     8\n",
       "2020-02-03    13\n",
       "2020-02-04    33\n",
       "2020-02-05    24\n",
       "2020-02-06    42\n",
       "2020-02-07    32\n",
       "2020-02-08     2\n",
       "2020-02-10    47\n",
       "2020-02-11    41\n",
       "2020-02-12    24\n",
       "2020-02-13    34\n",
       "2020-02-14    24\n",
       "2020-02-15     2\n",
       "2020-02-18    31\n",
       "2020-02-19    37\n",
       "2020-02-20    29\n",
       "2020-02-21    36\n",
       "2020-02-24    18\n",
       "2020-02-25    30\n",
       "Name: PfBatchID, dtype: int64"
      ]
     },
     "execution_count": 46,
     "metadata": {},
     "output_type": "execute_result"
    }
   ],
   "source": [
    "''' Groupby single column in pandas python'''\n",
    "df_last_month.groupby(df_last_month.index)['PfBatchID'].count()"
   ]
  },
  {
   "cell_type": "code",
   "execution_count": 47,
   "metadata": {
    "ExecuteTime": {
     "end_time": "2020-02-25T21:02:58.603461Z",
     "start_time": "2020-02-25T21:02:58.577460Z"
    }
   },
   "outputs": [
    {
     "data": {
      "text/html": [
       "<div>\n",
       "<style scoped>\n",
       "    .dataframe tbody tr th:only-of-type {\n",
       "        vertical-align: middle;\n",
       "    }\n",
       "\n",
       "    .dataframe tbody tr th {\n",
       "        vertical-align: top;\n",
       "    }\n",
       "\n",
       "    .dataframe thead th {\n",
       "        text-align: right;\n",
       "    }\n",
       "</style>\n",
       "<table border=\"1\" class=\"dataframe\">\n",
       "  <thead>\n",
       "    <tr style=\"text-align: right;\">\n",
       "      <th></th>\n",
       "      <th></th>\n",
       "      <th>Count</th>\n",
       "    </tr>\n",
       "    <tr>\n",
       "      <th>QCDate</th>\n",
       "      <th>QCValidation</th>\n",
       "      <th></th>\n",
       "    </tr>\n",
       "  </thead>\n",
       "  <tbody>\n",
       "    <tr>\n",
       "      <td>2020-01-27</td>\n",
       "      <td>1.0</td>\n",
       "      <td>35</td>\n",
       "    </tr>\n",
       "    <tr>\n",
       "      <td>2020-01-28</td>\n",
       "      <td>1.0</td>\n",
       "      <td>14</td>\n",
       "    </tr>\n",
       "    <tr>\n",
       "      <td>2020-01-29</td>\n",
       "      <td>1.0</td>\n",
       "      <td>24</td>\n",
       "    </tr>\n",
       "    <tr>\n",
       "      <td rowspan=\"2\" valign=\"top\">2020-01-30</td>\n",
       "      <td>1.0</td>\n",
       "      <td>21</td>\n",
       "    </tr>\n",
       "    <tr>\n",
       "      <td>2.0</td>\n",
       "      <td>1</td>\n",
       "    </tr>\n",
       "    <tr>\n",
       "      <td>2020-01-31</td>\n",
       "      <td>1.0</td>\n",
       "      <td>8</td>\n",
       "    </tr>\n",
       "    <tr>\n",
       "      <td rowspan=\"3\" valign=\"top\">2020-02-03</td>\n",
       "      <td>1.0</td>\n",
       "      <td>10</td>\n",
       "    </tr>\n",
       "    <tr>\n",
       "      <td>2.0</td>\n",
       "      <td>1</td>\n",
       "    </tr>\n",
       "    <tr>\n",
       "      <td>3.0</td>\n",
       "      <td>2</td>\n",
       "    </tr>\n",
       "    <tr>\n",
       "      <td>2020-02-04</td>\n",
       "      <td>1.0</td>\n",
       "      <td>33</td>\n",
       "    </tr>\n",
       "    <tr>\n",
       "      <td rowspan=\"2\" valign=\"top\">2020-02-05</td>\n",
       "      <td>1.0</td>\n",
       "      <td>23</td>\n",
       "    </tr>\n",
       "    <tr>\n",
       "      <td>3.0</td>\n",
       "      <td>1</td>\n",
       "    </tr>\n",
       "    <tr>\n",
       "      <td rowspan=\"2\" valign=\"top\">2020-02-06</td>\n",
       "      <td>1.0</td>\n",
       "      <td>40</td>\n",
       "    </tr>\n",
       "    <tr>\n",
       "      <td>3.0</td>\n",
       "      <td>2</td>\n",
       "    </tr>\n",
       "    <tr>\n",
       "      <td rowspan=\"2\" valign=\"top\">2020-02-07</td>\n",
       "      <td>1.0</td>\n",
       "      <td>29</td>\n",
       "    </tr>\n",
       "    <tr>\n",
       "      <td>2.0</td>\n",
       "      <td>3</td>\n",
       "    </tr>\n",
       "    <tr>\n",
       "      <td>2020-02-08</td>\n",
       "      <td>1.0</td>\n",
       "      <td>2</td>\n",
       "    </tr>\n",
       "    <tr>\n",
       "      <td rowspan=\"2\" valign=\"top\">2020-02-10</td>\n",
       "      <td>1.0</td>\n",
       "      <td>46</td>\n",
       "    </tr>\n",
       "    <tr>\n",
       "      <td>3.0</td>\n",
       "      <td>1</td>\n",
       "    </tr>\n",
       "    <tr>\n",
       "      <td>2020-02-11</td>\n",
       "      <td>1.0</td>\n",
       "      <td>41</td>\n",
       "    </tr>\n",
       "    <tr>\n",
       "      <td>2020-02-12</td>\n",
       "      <td>1.0</td>\n",
       "      <td>24</td>\n",
       "    </tr>\n",
       "    <tr>\n",
       "      <td rowspan=\"2\" valign=\"top\">2020-02-13</td>\n",
       "      <td>1.0</td>\n",
       "      <td>33</td>\n",
       "    </tr>\n",
       "    <tr>\n",
       "      <td>3.0</td>\n",
       "      <td>1</td>\n",
       "    </tr>\n",
       "    <tr>\n",
       "      <td>2020-02-14</td>\n",
       "      <td>1.0</td>\n",
       "      <td>24</td>\n",
       "    </tr>\n",
       "    <tr>\n",
       "      <td>2020-02-15</td>\n",
       "      <td>1.0</td>\n",
       "      <td>2</td>\n",
       "    </tr>\n",
       "    <tr>\n",
       "      <td rowspan=\"3\" valign=\"top\">2020-02-18</td>\n",
       "      <td>1.0</td>\n",
       "      <td>29</td>\n",
       "    </tr>\n",
       "    <tr>\n",
       "      <td>2.0</td>\n",
       "      <td>1</td>\n",
       "    </tr>\n",
       "    <tr>\n",
       "      <td>3.0</td>\n",
       "      <td>1</td>\n",
       "    </tr>\n",
       "    <tr>\n",
       "      <td>2020-02-19</td>\n",
       "      <td>1.0</td>\n",
       "      <td>37</td>\n",
       "    </tr>\n",
       "    <tr>\n",
       "      <td>2020-02-20</td>\n",
       "      <td>1.0</td>\n",
       "      <td>29</td>\n",
       "    </tr>\n",
       "    <tr>\n",
       "      <td>2020-02-21</td>\n",
       "      <td>1.0</td>\n",
       "      <td>36</td>\n",
       "    </tr>\n",
       "    <tr>\n",
       "      <td rowspan=\"3\" valign=\"top\">2020-02-24</td>\n",
       "      <td>1.0</td>\n",
       "      <td>14</td>\n",
       "    </tr>\n",
       "    <tr>\n",
       "      <td>2.0</td>\n",
       "      <td>2</td>\n",
       "    </tr>\n",
       "    <tr>\n",
       "      <td>3.0</td>\n",
       "      <td>2</td>\n",
       "    </tr>\n",
       "    <tr>\n",
       "      <td>2020-02-25</td>\n",
       "      <td>1.0</td>\n",
       "      <td>30</td>\n",
       "    </tr>\n",
       "  </tbody>\n",
       "</table>\n",
       "</div>"
      ],
      "text/plain": [
       "                         Count\n",
       "QCDate     QCValidation       \n",
       "2020-01-27 1.0              35\n",
       "2020-01-28 1.0              14\n",
       "2020-01-29 1.0              24\n",
       "2020-01-30 1.0              21\n",
       "           2.0               1\n",
       "2020-01-31 1.0               8\n",
       "2020-02-03 1.0              10\n",
       "           2.0               1\n",
       "           3.0               2\n",
       "2020-02-04 1.0              33\n",
       "2020-02-05 1.0              23\n",
       "           3.0               1\n",
       "2020-02-06 1.0              40\n",
       "           3.0               2\n",
       "2020-02-07 1.0              29\n",
       "           2.0               3\n",
       "2020-02-08 1.0               2\n",
       "2020-02-10 1.0              46\n",
       "           3.0               1\n",
       "2020-02-11 1.0              41\n",
       "2020-02-12 1.0              24\n",
       "2020-02-13 1.0              33\n",
       "           3.0               1\n",
       "2020-02-14 1.0              24\n",
       "2020-02-15 1.0               2\n",
       "2020-02-18 1.0              29\n",
       "           2.0               1\n",
       "           3.0               1\n",
       "2020-02-19 1.0              37\n",
       "2020-02-20 1.0              29\n",
       "2020-02-21 1.0              36\n",
       "2020-02-24 1.0              14\n",
       "           2.0               2\n",
       "           3.0               2\n",
       "2020-02-25 1.0              30"
      ]
     },
     "execution_count": 47,
     "metadata": {},
     "output_type": "execute_result"
    }
   ],
   "source": [
    "''' Groupby multiple columns '''\n",
    "df_daily_levels = pd.DataFrame(data=df_last_month.groupby([df_last_month.index,'QCValidation'])['PfBatchID'].count())\n",
    "# [2020-02-24]\\\\f_daily_levels = pd.DataFrame(data=df_last_month.groupby([df_last_month.index, 'ProductLevel'])['PfBatchID'].count())\n",
    "# RENAME COLUMNS\n",
    "df_daily_levels.rename(columns={'PfBatchID': 'Count'}, inplace=True)\n",
    "df_daily_levels"
   ]
  },
  {
   "cell_type": "markdown",
   "metadata": {},
   "source": [
    "#### SORT INDEX"
   ]
  },
  {
   "cell_type": "code",
   "execution_count": 48,
   "metadata": {
    "ExecuteTime": {
     "end_time": "2020-02-25T21:02:58.630462Z",
     "start_time": "2020-02-25T21:02:58.605462Z"
    }
   },
   "outputs": [
    {
     "data": {
      "text/html": [
       "<div>\n",
       "<style scoped>\n",
       "    .dataframe tbody tr th:only-of-type {\n",
       "        vertical-align: middle;\n",
       "    }\n",
       "\n",
       "    .dataframe tbody tr th {\n",
       "        vertical-align: top;\n",
       "    }\n",
       "\n",
       "    .dataframe thead th {\n",
       "        text-align: right;\n",
       "    }\n",
       "</style>\n",
       "<table border=\"1\" class=\"dataframe\">\n",
       "  <thead>\n",
       "    <tr style=\"text-align: right;\">\n",
       "      <th></th>\n",
       "      <th></th>\n",
       "      <th>Count</th>\n",
       "    </tr>\n",
       "    <tr>\n",
       "      <th>QCDate</th>\n",
       "      <th>QCValidation</th>\n",
       "      <th></th>\n",
       "    </tr>\n",
       "  </thead>\n",
       "  <tbody>\n",
       "    <tr>\n",
       "      <td>2020-01-27</td>\n",
       "      <td>1.0</td>\n",
       "      <td>35</td>\n",
       "    </tr>\n",
       "    <tr>\n",
       "      <td>2020-01-28</td>\n",
       "      <td>1.0</td>\n",
       "      <td>14</td>\n",
       "    </tr>\n",
       "    <tr>\n",
       "      <td>2020-01-29</td>\n",
       "      <td>1.0</td>\n",
       "      <td>24</td>\n",
       "    </tr>\n",
       "    <tr>\n",
       "      <td rowspan=\"2\" valign=\"top\">2020-01-30</td>\n",
       "      <td>1.0</td>\n",
       "      <td>21</td>\n",
       "    </tr>\n",
       "    <tr>\n",
       "      <td>2.0</td>\n",
       "      <td>1</td>\n",
       "    </tr>\n",
       "    <tr>\n",
       "      <td>2020-01-31</td>\n",
       "      <td>1.0</td>\n",
       "      <td>8</td>\n",
       "    </tr>\n",
       "    <tr>\n",
       "      <td rowspan=\"3\" valign=\"top\">2020-02-03</td>\n",
       "      <td>1.0</td>\n",
       "      <td>10</td>\n",
       "    </tr>\n",
       "    <tr>\n",
       "      <td>2.0</td>\n",
       "      <td>1</td>\n",
       "    </tr>\n",
       "    <tr>\n",
       "      <td>3.0</td>\n",
       "      <td>2</td>\n",
       "    </tr>\n",
       "    <tr>\n",
       "      <td>2020-02-04</td>\n",
       "      <td>1.0</td>\n",
       "      <td>33</td>\n",
       "    </tr>\n",
       "    <tr>\n",
       "      <td rowspan=\"2\" valign=\"top\">2020-02-05</td>\n",
       "      <td>1.0</td>\n",
       "      <td>23</td>\n",
       "    </tr>\n",
       "    <tr>\n",
       "      <td>3.0</td>\n",
       "      <td>1</td>\n",
       "    </tr>\n",
       "    <tr>\n",
       "      <td rowspan=\"2\" valign=\"top\">2020-02-06</td>\n",
       "      <td>1.0</td>\n",
       "      <td>40</td>\n",
       "    </tr>\n",
       "    <tr>\n",
       "      <td>3.0</td>\n",
       "      <td>2</td>\n",
       "    </tr>\n",
       "    <tr>\n",
       "      <td rowspan=\"2\" valign=\"top\">2020-02-07</td>\n",
       "      <td>1.0</td>\n",
       "      <td>29</td>\n",
       "    </tr>\n",
       "    <tr>\n",
       "      <td>2.0</td>\n",
       "      <td>3</td>\n",
       "    </tr>\n",
       "    <tr>\n",
       "      <td>2020-02-08</td>\n",
       "      <td>1.0</td>\n",
       "      <td>2</td>\n",
       "    </tr>\n",
       "    <tr>\n",
       "      <td rowspan=\"2\" valign=\"top\">2020-02-10</td>\n",
       "      <td>1.0</td>\n",
       "      <td>46</td>\n",
       "    </tr>\n",
       "    <tr>\n",
       "      <td>3.0</td>\n",
       "      <td>1</td>\n",
       "    </tr>\n",
       "    <tr>\n",
       "      <td>2020-02-11</td>\n",
       "      <td>1.0</td>\n",
       "      <td>41</td>\n",
       "    </tr>\n",
       "    <tr>\n",
       "      <td>2020-02-12</td>\n",
       "      <td>1.0</td>\n",
       "      <td>24</td>\n",
       "    </tr>\n",
       "    <tr>\n",
       "      <td rowspan=\"2\" valign=\"top\">2020-02-13</td>\n",
       "      <td>1.0</td>\n",
       "      <td>33</td>\n",
       "    </tr>\n",
       "    <tr>\n",
       "      <td>3.0</td>\n",
       "      <td>1</td>\n",
       "    </tr>\n",
       "    <tr>\n",
       "      <td>2020-02-14</td>\n",
       "      <td>1.0</td>\n",
       "      <td>24</td>\n",
       "    </tr>\n",
       "    <tr>\n",
       "      <td>2020-02-15</td>\n",
       "      <td>1.0</td>\n",
       "      <td>2</td>\n",
       "    </tr>\n",
       "    <tr>\n",
       "      <td rowspan=\"3\" valign=\"top\">2020-02-18</td>\n",
       "      <td>1.0</td>\n",
       "      <td>29</td>\n",
       "    </tr>\n",
       "    <tr>\n",
       "      <td>2.0</td>\n",
       "      <td>1</td>\n",
       "    </tr>\n",
       "    <tr>\n",
       "      <td>3.0</td>\n",
       "      <td>1</td>\n",
       "    </tr>\n",
       "    <tr>\n",
       "      <td>2020-02-19</td>\n",
       "      <td>1.0</td>\n",
       "      <td>37</td>\n",
       "    </tr>\n",
       "    <tr>\n",
       "      <td>2020-02-20</td>\n",
       "      <td>1.0</td>\n",
       "      <td>29</td>\n",
       "    </tr>\n",
       "    <tr>\n",
       "      <td>2020-02-21</td>\n",
       "      <td>1.0</td>\n",
       "      <td>36</td>\n",
       "    </tr>\n",
       "    <tr>\n",
       "      <td rowspan=\"3\" valign=\"top\">2020-02-24</td>\n",
       "      <td>1.0</td>\n",
       "      <td>14</td>\n",
       "    </tr>\n",
       "    <tr>\n",
       "      <td>2.0</td>\n",
       "      <td>2</td>\n",
       "    </tr>\n",
       "    <tr>\n",
       "      <td>3.0</td>\n",
       "      <td>2</td>\n",
       "    </tr>\n",
       "    <tr>\n",
       "      <td>2020-02-25</td>\n",
       "      <td>1.0</td>\n",
       "      <td>30</td>\n",
       "    </tr>\n",
       "  </tbody>\n",
       "</table>\n",
       "</div>"
      ],
      "text/plain": [
       "                         Count\n",
       "QCDate     QCValidation       \n",
       "2020-01-27 1.0              35\n",
       "2020-01-28 1.0              14\n",
       "2020-01-29 1.0              24\n",
       "2020-01-30 1.0              21\n",
       "           2.0               1\n",
       "2020-01-31 1.0               8\n",
       "2020-02-03 1.0              10\n",
       "           2.0               1\n",
       "           3.0               2\n",
       "2020-02-04 1.0              33\n",
       "2020-02-05 1.0              23\n",
       "           3.0               1\n",
       "2020-02-06 1.0              40\n",
       "           3.0               2\n",
       "2020-02-07 1.0              29\n",
       "           2.0               3\n",
       "2020-02-08 1.0               2\n",
       "2020-02-10 1.0              46\n",
       "           3.0               1\n",
       "2020-02-11 1.0              41\n",
       "2020-02-12 1.0              24\n",
       "2020-02-13 1.0              33\n",
       "           3.0               1\n",
       "2020-02-14 1.0              24\n",
       "2020-02-15 1.0               2\n",
       "2020-02-18 1.0              29\n",
       "           2.0               1\n",
       "           3.0               1\n",
       "2020-02-19 1.0              37\n",
       "2020-02-20 1.0              29\n",
       "2020-02-21 1.0              36\n",
       "2020-02-24 1.0              14\n",
       "           2.0               2\n",
       "           3.0               2\n",
       "2020-02-25 1.0              30"
      ]
     },
     "execution_count": 48,
     "metadata": {},
     "output_type": "execute_result"
    }
   ],
   "source": [
    "df_daily_levels.sort_index(inplace=True)\n",
    "df_daily_levels"
   ]
  },
  {
   "cell_type": "code",
   "execution_count": 49,
   "metadata": {
    "ExecuteTime": {
     "end_time": "2020-02-25T21:02:58.639461Z",
     "start_time": "2020-02-25T21:02:58.632462Z"
    }
   },
   "outputs": [
    {
     "name": "stdout",
     "output_type": "stream",
     "text": [
      "<class 'pandas.core.frame.DataFrame'>\n",
      "MultiIndex: 35 entries, (2020-01-27 00:00:00, 1.0) to (2020-02-25 00:00:00, 1.0)\n",
      "Data columns (total 1 columns):\n",
      "Count    35 non-null int64\n",
      "dtypes: int64(1)\n",
      "memory usage: 674.0 bytes\n"
     ]
    }
   ],
   "source": [
    "df_daily_levels.info()"
   ]
  },
  {
   "cell_type": "raw",
   "metadata": {
    "ExecuteTime": {
     "end_time": "2020-02-24T16:02:10.904180Z",
     "start_time": "2020-02-24T16:02:10.601177Z"
    },
    "raw_mimetype": "text/x-python"
   },
   "source": [
    "# SLICE & dice your dataframe\n",
    "df_daily_levels.loc[('2020-01-22', float(\"0\"))]"
   ]
  },
  {
   "cell_type": "raw",
   "metadata": {
    "raw_mimetype": "text/x-python"
   },
   "source": [
    "df_daily_levels.resample('D').count()"
   ]
  },
  {
   "cell_type": "raw",
   "metadata": {
    "raw_mimetype": "text/x-python"
   },
   "source": [
    "# using groupby function\n",
    "# with one key\n",
    "df_daily_levels.groupby('QCValidation')"
   ]
  },
  {
   "cell_type": "code",
   "execution_count": 50,
   "metadata": {
    "ExecuteTime": {
     "end_time": "2020-02-25T21:02:58.680459Z",
     "start_time": "2020-02-25T21:02:58.641462Z"
    }
   },
   "outputs": [
    {
     "data": {
      "text/html": [
       "<div>\n",
       "<style scoped>\n",
       "    .dataframe tbody tr th:only-of-type {\n",
       "        vertical-align: middle;\n",
       "    }\n",
       "\n",
       "    .dataframe tbody tr th {\n",
       "        vertical-align: top;\n",
       "    }\n",
       "\n",
       "    .dataframe thead tr th {\n",
       "        text-align: left;\n",
       "    }\n",
       "</style>\n",
       "<table border=\"1\" class=\"dataframe\">\n",
       "  <thead>\n",
       "    <tr>\n",
       "      <th>QCDate</th>\n",
       "      <th>2020-01-27</th>\n",
       "      <th>2020-01-28</th>\n",
       "      <th>2020-01-29</th>\n",
       "      <th colspan=\"2\" halign=\"left\">2020-01-30</th>\n",
       "      <th>2020-01-31</th>\n",
       "      <th colspan=\"3\" halign=\"left\">2020-02-03</th>\n",
       "      <th>2020-02-04</th>\n",
       "      <th>...</th>\n",
       "      <th colspan=\"3\" halign=\"left\">2020-02-18</th>\n",
       "      <th>2020-02-19</th>\n",
       "      <th>2020-02-20</th>\n",
       "      <th>2020-02-21</th>\n",
       "      <th colspan=\"3\" halign=\"left\">2020-02-24</th>\n",
       "      <th>2020-02-25</th>\n",
       "    </tr>\n",
       "    <tr>\n",
       "      <th>QCValidation</th>\n",
       "      <th>1.0</th>\n",
       "      <th>1.0</th>\n",
       "      <th>1.0</th>\n",
       "      <th>1.0</th>\n",
       "      <th>2.0</th>\n",
       "      <th>1.0</th>\n",
       "      <th>1.0</th>\n",
       "      <th>2.0</th>\n",
       "      <th>3.0</th>\n",
       "      <th>1.0</th>\n",
       "      <th>...</th>\n",
       "      <th>1.0</th>\n",
       "      <th>2.0</th>\n",
       "      <th>3.0</th>\n",
       "      <th>1.0</th>\n",
       "      <th>1.0</th>\n",
       "      <th>1.0</th>\n",
       "      <th>1.0</th>\n",
       "      <th>2.0</th>\n",
       "      <th>3.0</th>\n",
       "      <th>1.0</th>\n",
       "    </tr>\n",
       "  </thead>\n",
       "  <tbody>\n",
       "    <tr>\n",
       "      <td>Count</td>\n",
       "      <td>35</td>\n",
       "      <td>14</td>\n",
       "      <td>24</td>\n",
       "      <td>21</td>\n",
       "      <td>1</td>\n",
       "      <td>8</td>\n",
       "      <td>10</td>\n",
       "      <td>1</td>\n",
       "      <td>2</td>\n",
       "      <td>33</td>\n",
       "      <td>...</td>\n",
       "      <td>29</td>\n",
       "      <td>1</td>\n",
       "      <td>1</td>\n",
       "      <td>37</td>\n",
       "      <td>29</td>\n",
       "      <td>36</td>\n",
       "      <td>14</td>\n",
       "      <td>2</td>\n",
       "      <td>2</td>\n",
       "      <td>30</td>\n",
       "    </tr>\n",
       "  </tbody>\n",
       "</table>\n",
       "<p>1 rows × 35 columns</p>\n",
       "</div>"
      ],
      "text/plain": [
       "QCDate       2020-01-27 2020-01-28 2020-01-29 2020-01-30     2020-01-31  \\\n",
       "QCValidation        1.0        1.0        1.0        1.0 2.0        1.0   \n",
       "Count                35         14         24         21   1          8   \n",
       "\n",
       "QCDate       2020-02-03         2020-02-04  ... 2020-02-18         2020-02-19  \\\n",
       "QCValidation        1.0 2.0 3.0        1.0  ...        1.0 2.0 3.0        1.0   \n",
       "Count                10   1   2         33  ...         29   1   1         37   \n",
       "\n",
       "QCDate       2020-02-20 2020-02-21 2020-02-24         2020-02-25  \n",
       "QCValidation        1.0        1.0        1.0 2.0 3.0        1.0  \n",
       "Count                29         36         14   2   2         30  \n",
       "\n",
       "[1 rows x 35 columns]"
      ]
     },
     "execution_count": 50,
     "metadata": {},
     "output_type": "execute_result"
    }
   ],
   "source": [
    "df_daily_levels.T"
   ]
  },
  {
   "cell_type": "raw",
   "metadata": {
    "ExecuteTime": {
     "end_time": "2020-02-24T15:21:01.399212Z",
     "start_time": "2020-02-24T15:21:01.393224Z"
    },
    "raw_mimetype": "text/x-python"
   },
   "source": [
    "df_daily_levels.index[2][0]"
   ]
  },
  {
   "cell_type": "code",
   "execution_count": 51,
   "metadata": {
    "ExecuteTime": {
     "end_time": "2020-02-25T21:02:58.691463Z",
     "start_time": "2020-02-25T21:02:58.682462Z"
    }
   },
   "outputs": [],
   "source": [
    "df_daily_levels.T.to_csv(\"df_daily_levels_TRANPOSE.csv\")"
   ]
  },
  {
   "cell_type": "code",
   "execution_count": 52,
   "metadata": {
    "ExecuteTime": {
     "end_time": "2020-02-25T21:02:58.702463Z",
     "start_time": "2020-02-25T21:02:58.693461Z"
    }
   },
   "outputs": [],
   "source": [
    "df_daily_levels.to_csv(\"df_daily_levels_2020_02_25.csv\", index=True)"
   ]
  },
  {
   "cell_type": "code",
   "execution_count": 53,
   "metadata": {
    "ExecuteTime": {
     "end_time": "2020-02-25T21:02:58.781462Z",
     "start_time": "2020-02-25T21:02:58.704461Z"
    }
   },
   "outputs": [],
   "source": [
    "df_daily_levels.T.to_excel(\"df_daily_level_TRANPOSE.xlsx\", index=True)"
   ]
  },
  {
   "cell_type": "code",
   "execution_count": 54,
   "metadata": {
    "ExecuteTime": {
     "end_time": "2020-02-25T21:02:58.822463Z",
     "start_time": "2020-02-25T21:02:58.783460Z"
    }
   },
   "outputs": [],
   "source": [
    "df_daily_levels.to_excel(\"df_daily_levels_2020_02_25.xlsx\", index=True)"
   ]
  },
  {
   "cell_type": "code",
   "execution_count": 55,
   "metadata": {
    "ExecuteTime": {
     "end_time": "2020-02-25T21:02:58.830463Z",
     "start_time": "2020-02-25T21:02:58.824462Z"
    }
   },
   "outputs": [
    {
     "data": {
      "text/plain": [
       "MultiIndex([('2020-01-27', 1.0),\n",
       "            ('2020-01-28', 1.0),\n",
       "            ('2020-01-29', 1.0),\n",
       "            ('2020-01-30', 1.0),\n",
       "            ('2020-01-30', 2.0),\n",
       "            ('2020-01-31', 1.0),\n",
       "            ('2020-02-03', 1.0),\n",
       "            ('2020-02-03', 2.0),\n",
       "            ('2020-02-03', 3.0),\n",
       "            ('2020-02-04', 1.0),\n",
       "            ('2020-02-05', 1.0),\n",
       "            ('2020-02-05', 3.0),\n",
       "            ('2020-02-06', 1.0),\n",
       "            ('2020-02-06', 3.0),\n",
       "            ('2020-02-07', 1.0),\n",
       "            ('2020-02-07', 2.0),\n",
       "            ('2020-02-08', 1.0),\n",
       "            ('2020-02-10', 1.0),\n",
       "            ('2020-02-10', 3.0),\n",
       "            ('2020-02-11', 1.0),\n",
       "            ('2020-02-12', 1.0),\n",
       "            ('2020-02-13', 1.0),\n",
       "            ('2020-02-13', 3.0),\n",
       "            ('2020-02-14', 1.0),\n",
       "            ('2020-02-15', 1.0),\n",
       "            ('2020-02-18', 1.0),\n",
       "            ('2020-02-18', 2.0),\n",
       "            ('2020-02-18', 3.0),\n",
       "            ('2020-02-19', 1.0),\n",
       "            ('2020-02-20', 1.0),\n",
       "            ('2020-02-21', 1.0),\n",
       "            ('2020-02-24', 1.0),\n",
       "            ('2020-02-24', 2.0),\n",
       "            ('2020-02-24', 3.0),\n",
       "            ('2020-02-25', 1.0)],\n",
       "           names=['QCDate', 'QCValidation'])"
      ]
     },
     "execution_count": 55,
     "metadata": {},
     "output_type": "execute_result"
    }
   ],
   "source": [
    "df_daily_levels.index"
   ]
  },
  {
   "cell_type": "markdown",
   "metadata": {},
   "source": [
    "---\n",
    "### `.unstack()`\n",
    "\n",
    "#### `unstack` *index* (axis=1)"
   ]
  },
  {
   "cell_type": "code",
   "execution_count": 56,
   "metadata": {
    "ExecuteTime": {
     "end_time": "2020-02-25T21:02:58.849463Z",
     "start_time": "2020-02-25T21:02:58.834461Z"
    }
   },
   "outputs": [
    {
     "data": {
      "text/html": [
       "<div>\n",
       "<style scoped>\n",
       "    .dataframe tbody tr th:only-of-type {\n",
       "        vertical-align: middle;\n",
       "    }\n",
       "\n",
       "    .dataframe tbody tr th {\n",
       "        vertical-align: top;\n",
       "    }\n",
       "\n",
       "    .dataframe thead tr th {\n",
       "        text-align: left;\n",
       "    }\n",
       "\n",
       "    .dataframe thead tr:last-of-type th {\n",
       "        text-align: right;\n",
       "    }\n",
       "</style>\n",
       "<table border=\"1\" class=\"dataframe\">\n",
       "  <thead>\n",
       "    <tr>\n",
       "      <th></th>\n",
       "      <th colspan=\"3\" halign=\"left\">Count</th>\n",
       "    </tr>\n",
       "    <tr>\n",
       "      <th>QCValidation</th>\n",
       "      <th>1.0</th>\n",
       "      <th>2.0</th>\n",
       "      <th>3.0</th>\n",
       "    </tr>\n",
       "    <tr>\n",
       "      <th>QCDate</th>\n",
       "      <th></th>\n",
       "      <th></th>\n",
       "      <th></th>\n",
       "    </tr>\n",
       "  </thead>\n",
       "  <tbody>\n",
       "    <tr>\n",
       "      <td>2020-01-27</td>\n",
       "      <td>35.0</td>\n",
       "      <td>NaN</td>\n",
       "      <td>NaN</td>\n",
       "    </tr>\n",
       "    <tr>\n",
       "      <td>2020-01-28</td>\n",
       "      <td>14.0</td>\n",
       "      <td>NaN</td>\n",
       "      <td>NaN</td>\n",
       "    </tr>\n",
       "    <tr>\n",
       "      <td>2020-01-29</td>\n",
       "      <td>24.0</td>\n",
       "      <td>NaN</td>\n",
       "      <td>NaN</td>\n",
       "    </tr>\n",
       "    <tr>\n",
       "      <td>2020-01-30</td>\n",
       "      <td>21.0</td>\n",
       "      <td>1.0</td>\n",
       "      <td>NaN</td>\n",
       "    </tr>\n",
       "    <tr>\n",
       "      <td>2020-01-31</td>\n",
       "      <td>8.0</td>\n",
       "      <td>NaN</td>\n",
       "      <td>NaN</td>\n",
       "    </tr>\n",
       "    <tr>\n",
       "      <td>2020-02-03</td>\n",
       "      <td>10.0</td>\n",
       "      <td>1.0</td>\n",
       "      <td>2.0</td>\n",
       "    </tr>\n",
       "    <tr>\n",
       "      <td>2020-02-04</td>\n",
       "      <td>33.0</td>\n",
       "      <td>NaN</td>\n",
       "      <td>NaN</td>\n",
       "    </tr>\n",
       "    <tr>\n",
       "      <td>2020-02-05</td>\n",
       "      <td>23.0</td>\n",
       "      <td>NaN</td>\n",
       "      <td>1.0</td>\n",
       "    </tr>\n",
       "    <tr>\n",
       "      <td>2020-02-06</td>\n",
       "      <td>40.0</td>\n",
       "      <td>NaN</td>\n",
       "      <td>2.0</td>\n",
       "    </tr>\n",
       "    <tr>\n",
       "      <td>2020-02-07</td>\n",
       "      <td>29.0</td>\n",
       "      <td>3.0</td>\n",
       "      <td>NaN</td>\n",
       "    </tr>\n",
       "    <tr>\n",
       "      <td>2020-02-08</td>\n",
       "      <td>2.0</td>\n",
       "      <td>NaN</td>\n",
       "      <td>NaN</td>\n",
       "    </tr>\n",
       "    <tr>\n",
       "      <td>2020-02-10</td>\n",
       "      <td>46.0</td>\n",
       "      <td>NaN</td>\n",
       "      <td>1.0</td>\n",
       "    </tr>\n",
       "    <tr>\n",
       "      <td>2020-02-11</td>\n",
       "      <td>41.0</td>\n",
       "      <td>NaN</td>\n",
       "      <td>NaN</td>\n",
       "    </tr>\n",
       "    <tr>\n",
       "      <td>2020-02-12</td>\n",
       "      <td>24.0</td>\n",
       "      <td>NaN</td>\n",
       "      <td>NaN</td>\n",
       "    </tr>\n",
       "    <tr>\n",
       "      <td>2020-02-13</td>\n",
       "      <td>33.0</td>\n",
       "      <td>NaN</td>\n",
       "      <td>1.0</td>\n",
       "    </tr>\n",
       "    <tr>\n",
       "      <td>2020-02-14</td>\n",
       "      <td>24.0</td>\n",
       "      <td>NaN</td>\n",
       "      <td>NaN</td>\n",
       "    </tr>\n",
       "    <tr>\n",
       "      <td>2020-02-15</td>\n",
       "      <td>2.0</td>\n",
       "      <td>NaN</td>\n",
       "      <td>NaN</td>\n",
       "    </tr>\n",
       "    <tr>\n",
       "      <td>2020-02-18</td>\n",
       "      <td>29.0</td>\n",
       "      <td>1.0</td>\n",
       "      <td>1.0</td>\n",
       "    </tr>\n",
       "    <tr>\n",
       "      <td>2020-02-19</td>\n",
       "      <td>37.0</td>\n",
       "      <td>NaN</td>\n",
       "      <td>NaN</td>\n",
       "    </tr>\n",
       "    <tr>\n",
       "      <td>2020-02-20</td>\n",
       "      <td>29.0</td>\n",
       "      <td>NaN</td>\n",
       "      <td>NaN</td>\n",
       "    </tr>\n",
       "    <tr>\n",
       "      <td>2020-02-21</td>\n",
       "      <td>36.0</td>\n",
       "      <td>NaN</td>\n",
       "      <td>NaN</td>\n",
       "    </tr>\n",
       "    <tr>\n",
       "      <td>2020-02-24</td>\n",
       "      <td>14.0</td>\n",
       "      <td>2.0</td>\n",
       "      <td>2.0</td>\n",
       "    </tr>\n",
       "    <tr>\n",
       "      <td>2020-02-25</td>\n",
       "      <td>30.0</td>\n",
       "      <td>NaN</td>\n",
       "      <td>NaN</td>\n",
       "    </tr>\n",
       "  </tbody>\n",
       "</table>\n",
       "</div>"
      ],
      "text/plain": [
       "             Count          \n",
       "QCValidation   1.0  2.0  3.0\n",
       "QCDate                      \n",
       "2020-01-27    35.0  NaN  NaN\n",
       "2020-01-28    14.0  NaN  NaN\n",
       "2020-01-29    24.0  NaN  NaN\n",
       "2020-01-30    21.0  1.0  NaN\n",
       "2020-01-31     8.0  NaN  NaN\n",
       "2020-02-03    10.0  1.0  2.0\n",
       "2020-02-04    33.0  NaN  NaN\n",
       "2020-02-05    23.0  NaN  1.0\n",
       "2020-02-06    40.0  NaN  2.0\n",
       "2020-02-07    29.0  3.0  NaN\n",
       "2020-02-08     2.0  NaN  NaN\n",
       "2020-02-10    46.0  NaN  1.0\n",
       "2020-02-11    41.0  NaN  NaN\n",
       "2020-02-12    24.0  NaN  NaN\n",
       "2020-02-13    33.0  NaN  1.0\n",
       "2020-02-14    24.0  NaN  NaN\n",
       "2020-02-15     2.0  NaN  NaN\n",
       "2020-02-18    29.0  1.0  1.0\n",
       "2020-02-19    37.0  NaN  NaN\n",
       "2020-02-20    29.0  NaN  NaN\n",
       "2020-02-21    36.0  NaN  NaN\n",
       "2020-02-24    14.0  2.0  2.0\n",
       "2020-02-25    30.0  NaN  NaN"
      ]
     },
     "execution_count": 56,
     "metadata": {},
     "output_type": "execute_result"
    }
   ],
   "source": [
    "df_daily_unstacked_1 = df_daily_levels.unstack(level=-1)\n",
    "df_daily_unstacked_1"
   ]
  },
  {
   "cell_type": "code",
   "execution_count": 57,
   "metadata": {
    "ExecuteTime": {
     "end_time": "2020-02-25T21:02:58.860465Z",
     "start_time": "2020-02-25T21:02:58.852462Z"
    }
   },
   "outputs": [],
   "source": [
    "df_daily_unstacked_1.to_csv(\"df_daily_levels_2020_02_25_UNSTACKED_level_1.csv\", index=True)"
   ]
  },
  {
   "cell_type": "code",
   "execution_count": 58,
   "metadata": {
    "ExecuteTime": {
     "end_time": "2020-02-25T21:02:58.907466Z",
     "start_time": "2020-02-25T21:02:58.862464Z"
    }
   },
   "outputs": [],
   "source": [
    "df_daily_unstacked_1.to_excel(\"df_daily_levels_2020_02_25_UNSTACKED_level_1.xlsx\", index=True)"
   ]
  },
  {
   "cell_type": "code",
   "execution_count": 59,
   "metadata": {
    "ExecuteTime": {
     "end_time": "2020-02-25T21:07:27.718789Z",
     "start_time": "2020-02-25T21:07:27.712208Z"
    }
   },
   "outputs": [
    {
     "data": {
      "text/plain": [
       "2"
      ]
     },
     "execution_count": 59,
     "metadata": {},
     "output_type": "execute_result"
    }
   ],
   "source": [
    "len(df_daily_unstacked_1.columns.levels)"
   ]
  },
  {
   "cell_type": "markdown",
   "metadata": {},
   "source": [
    "---\n",
    "# DROP LEVEL"
   ]
  },
  {
   "cell_type": "code",
   "execution_count": 60,
   "metadata": {
    "ExecuteTime": {
     "end_time": "2020-02-25T21:10:06.768530Z",
     "start_time": "2020-02-25T21:10:06.763529Z"
    }
   },
   "outputs": [],
   "source": [
    "df_daily_unstacked_1.columns = df_daily_unstacked_1.columns.droplevel()"
   ]
  },
  {
   "cell_type": "markdown",
   "metadata": {},
   "source": [
    "---"
   ]
  },
  {
   "cell_type": "code",
   "execution_count": 61,
   "metadata": {
    "ExecuteTime": {
     "end_time": "2020-02-25T21:10:23.172959Z",
     "start_time": "2020-02-25T21:10:23.158957Z"
    }
   },
   "outputs": [
    {
     "data": {
      "text/html": [
       "<div>\n",
       "<style scoped>\n",
       "    .dataframe tbody tr th:only-of-type {\n",
       "        vertical-align: middle;\n",
       "    }\n",
       "\n",
       "    .dataframe tbody tr th {\n",
       "        vertical-align: top;\n",
       "    }\n",
       "\n",
       "    .dataframe thead th {\n",
       "        text-align: right;\n",
       "    }\n",
       "</style>\n",
       "<table border=\"1\" class=\"dataframe\">\n",
       "  <thead>\n",
       "    <tr style=\"text-align: right;\">\n",
       "      <th>QCValidation</th>\n",
       "      <th>1.0</th>\n",
       "      <th>2.0</th>\n",
       "      <th>3.0</th>\n",
       "    </tr>\n",
       "    <tr>\n",
       "      <th>QCDate</th>\n",
       "      <th></th>\n",
       "      <th></th>\n",
       "      <th></th>\n",
       "    </tr>\n",
       "  </thead>\n",
       "  <tbody>\n",
       "    <tr>\n",
       "      <td>2020-01-27</td>\n",
       "      <td>35.0</td>\n",
       "      <td>NaN</td>\n",
       "      <td>NaN</td>\n",
       "    </tr>\n",
       "    <tr>\n",
       "      <td>2020-01-28</td>\n",
       "      <td>14.0</td>\n",
       "      <td>NaN</td>\n",
       "      <td>NaN</td>\n",
       "    </tr>\n",
       "    <tr>\n",
       "      <td>2020-01-29</td>\n",
       "      <td>24.0</td>\n",
       "      <td>NaN</td>\n",
       "      <td>NaN</td>\n",
       "    </tr>\n",
       "    <tr>\n",
       "      <td>2020-01-30</td>\n",
       "      <td>21.0</td>\n",
       "      <td>1.0</td>\n",
       "      <td>NaN</td>\n",
       "    </tr>\n",
       "    <tr>\n",
       "      <td>2020-01-31</td>\n",
       "      <td>8.0</td>\n",
       "      <td>NaN</td>\n",
       "      <td>NaN</td>\n",
       "    </tr>\n",
       "    <tr>\n",
       "      <td>2020-02-03</td>\n",
       "      <td>10.0</td>\n",
       "      <td>1.0</td>\n",
       "      <td>2.0</td>\n",
       "    </tr>\n",
       "    <tr>\n",
       "      <td>2020-02-04</td>\n",
       "      <td>33.0</td>\n",
       "      <td>NaN</td>\n",
       "      <td>NaN</td>\n",
       "    </tr>\n",
       "    <tr>\n",
       "      <td>2020-02-05</td>\n",
       "      <td>23.0</td>\n",
       "      <td>NaN</td>\n",
       "      <td>1.0</td>\n",
       "    </tr>\n",
       "    <tr>\n",
       "      <td>2020-02-06</td>\n",
       "      <td>40.0</td>\n",
       "      <td>NaN</td>\n",
       "      <td>2.0</td>\n",
       "    </tr>\n",
       "    <tr>\n",
       "      <td>2020-02-07</td>\n",
       "      <td>29.0</td>\n",
       "      <td>3.0</td>\n",
       "      <td>NaN</td>\n",
       "    </tr>\n",
       "    <tr>\n",
       "      <td>2020-02-08</td>\n",
       "      <td>2.0</td>\n",
       "      <td>NaN</td>\n",
       "      <td>NaN</td>\n",
       "    </tr>\n",
       "    <tr>\n",
       "      <td>2020-02-10</td>\n",
       "      <td>46.0</td>\n",
       "      <td>NaN</td>\n",
       "      <td>1.0</td>\n",
       "    </tr>\n",
       "    <tr>\n",
       "      <td>2020-02-11</td>\n",
       "      <td>41.0</td>\n",
       "      <td>NaN</td>\n",
       "      <td>NaN</td>\n",
       "    </tr>\n",
       "    <tr>\n",
       "      <td>2020-02-12</td>\n",
       "      <td>24.0</td>\n",
       "      <td>NaN</td>\n",
       "      <td>NaN</td>\n",
       "    </tr>\n",
       "    <tr>\n",
       "      <td>2020-02-13</td>\n",
       "      <td>33.0</td>\n",
       "      <td>NaN</td>\n",
       "      <td>1.0</td>\n",
       "    </tr>\n",
       "    <tr>\n",
       "      <td>2020-02-14</td>\n",
       "      <td>24.0</td>\n",
       "      <td>NaN</td>\n",
       "      <td>NaN</td>\n",
       "    </tr>\n",
       "    <tr>\n",
       "      <td>2020-02-15</td>\n",
       "      <td>2.0</td>\n",
       "      <td>NaN</td>\n",
       "      <td>NaN</td>\n",
       "    </tr>\n",
       "    <tr>\n",
       "      <td>2020-02-18</td>\n",
       "      <td>29.0</td>\n",
       "      <td>1.0</td>\n",
       "      <td>1.0</td>\n",
       "    </tr>\n",
       "    <tr>\n",
       "      <td>2020-02-19</td>\n",
       "      <td>37.0</td>\n",
       "      <td>NaN</td>\n",
       "      <td>NaN</td>\n",
       "    </tr>\n",
       "    <tr>\n",
       "      <td>2020-02-20</td>\n",
       "      <td>29.0</td>\n",
       "      <td>NaN</td>\n",
       "      <td>NaN</td>\n",
       "    </tr>\n",
       "    <tr>\n",
       "      <td>2020-02-21</td>\n",
       "      <td>36.0</td>\n",
       "      <td>NaN</td>\n",
       "      <td>NaN</td>\n",
       "    </tr>\n",
       "    <tr>\n",
       "      <td>2020-02-24</td>\n",
       "      <td>14.0</td>\n",
       "      <td>2.0</td>\n",
       "      <td>2.0</td>\n",
       "    </tr>\n",
       "    <tr>\n",
       "      <td>2020-02-25</td>\n",
       "      <td>30.0</td>\n",
       "      <td>NaN</td>\n",
       "      <td>NaN</td>\n",
       "    </tr>\n",
       "  </tbody>\n",
       "</table>\n",
       "</div>"
      ],
      "text/plain": [
       "QCValidation   1.0  2.0  3.0\n",
       "QCDate                      \n",
       "2020-01-27    35.0  NaN  NaN\n",
       "2020-01-28    14.0  NaN  NaN\n",
       "2020-01-29    24.0  NaN  NaN\n",
       "2020-01-30    21.0  1.0  NaN\n",
       "2020-01-31     8.0  NaN  NaN\n",
       "2020-02-03    10.0  1.0  2.0\n",
       "2020-02-04    33.0  NaN  NaN\n",
       "2020-02-05    23.0  NaN  1.0\n",
       "2020-02-06    40.0  NaN  2.0\n",
       "2020-02-07    29.0  3.0  NaN\n",
       "2020-02-08     2.0  NaN  NaN\n",
       "2020-02-10    46.0  NaN  1.0\n",
       "2020-02-11    41.0  NaN  NaN\n",
       "2020-02-12    24.0  NaN  NaN\n",
       "2020-02-13    33.0  NaN  1.0\n",
       "2020-02-14    24.0  NaN  NaN\n",
       "2020-02-15     2.0  NaN  NaN\n",
       "2020-02-18    29.0  1.0  1.0\n",
       "2020-02-19    37.0  NaN  NaN\n",
       "2020-02-20    29.0  NaN  NaN\n",
       "2020-02-21    36.0  NaN  NaN\n",
       "2020-02-24    14.0  2.0  2.0\n",
       "2020-02-25    30.0  NaN  NaN"
      ]
     },
     "execution_count": 61,
     "metadata": {},
     "output_type": "execute_result"
    }
   ],
   "source": [
    "df_daily_unstacked_1"
   ]
  },
  {
   "cell_type": "code",
   "execution_count": 62,
   "metadata": {
    "ExecuteTime": {
     "end_time": "2020-02-25T21:11:45.427056Z",
     "start_time": "2020-02-25T21:11:45.419051Z"
    }
   },
   "outputs": [
    {
     "name": "stdout",
     "output_type": "stream",
     "text": [
      "<class 'pandas.core.frame.DataFrame'>\n",
      "DatetimeIndex: 23 entries, 2020-01-27 to 2020-02-25\n",
      "Data columns (total 3 columns):\n",
      "1.0    23 non-null float64\n",
      "2.0    5 non-null float64\n",
      "3.0    7 non-null float64\n",
      "dtypes: float64(3)\n",
      "memory usage: 736.0 bytes\n"
     ]
    }
   ],
   "source": [
    "df_daily_unstacked_1.info()"
   ]
  },
  {
   "cell_type": "code",
   "execution_count": 63,
   "metadata": {
    "ExecuteTime": {
     "end_time": "2020-02-25T21:52:20.084379Z",
     "start_time": "2020-02-25T21:52:20.076378Z"
    }
   },
   "outputs": [
    {
     "data": {
      "text/plain": [
       "DatetimeIndex(['2020-01-27', '2020-01-28', '2020-01-29', '2020-01-30',\n",
       "               '2020-01-31', '2020-02-03', '2020-02-04', '2020-02-05',\n",
       "               '2020-02-06', '2020-02-07', '2020-02-08', '2020-02-10',\n",
       "               '2020-02-11', '2020-02-12', '2020-02-13', '2020-02-14',\n",
       "               '2020-02-15', '2020-02-18', '2020-02-19', '2020-02-20',\n",
       "               '2020-02-21', '2020-02-24', '2020-02-25'],\n",
       "              dtype='datetime64[ns]', name='QCDate', freq=None)"
      ]
     },
     "execution_count": 63,
     "metadata": {},
     "output_type": "execute_result"
    }
   ],
   "source": [
    "df_daily_unstacked_1.index"
   ]
  },
  {
   "cell_type": "code",
   "execution_count": 64,
   "metadata": {
    "ExecuteTime": {
     "end_time": "2020-02-25T21:51:45.083653Z",
     "start_time": "2020-02-25T21:51:45.076654Z"
    }
   },
   "outputs": [
    {
     "data": {
      "text/plain": [
       "Float64Index([1.0, 2.0, 3.0], dtype='float64', name='QCValidation')"
      ]
     },
     "execution_count": 64,
     "metadata": {},
     "output_type": "execute_result"
    }
   ],
   "source": [
    "df_daily_unstacked_1.columns"
   ]
  },
  {
   "cell_type": "code",
   "execution_count": 65,
   "metadata": {
    "ExecuteTime": {
     "end_time": "2020-02-25T21:16:14.963776Z",
     "start_time": "2020-02-25T21:16:14.911774Z"
    }
   },
   "outputs": [],
   "source": [
    "df_daily_unstacked_1.to_excel(\"df_daily_unstacked_2020_02_25.xlsx\", index=True)"
   ]
  },
  {
   "cell_type": "markdown",
   "metadata": {},
   "source": [
    "### test `fillna()`"
   ]
  },
  {
   "cell_type": "code",
   "execution_count": 66,
   "metadata": {
    "ExecuteTime": {
     "end_time": "2020-02-25T21:02:59.323468Z",
     "start_time": "2020-02-25T21:02:08.816Z"
    }
   },
   "outputs": [],
   "source": [
    "df_daily_unstacked_1.fillna(value=0, inplace=True)"
   ]
  },
  {
   "cell_type": "code",
   "execution_count": 67,
   "metadata": {
    "ExecuteTime": {
     "end_time": "2020-02-25T21:02:59.324468Z",
     "start_time": "2020-02-25T21:02:08.825Z"
    }
   },
   "outputs": [
    {
     "data": {
      "text/html": [
       "<div>\n",
       "<style scoped>\n",
       "    .dataframe tbody tr th:only-of-type {\n",
       "        vertical-align: middle;\n",
       "    }\n",
       "\n",
       "    .dataframe tbody tr th {\n",
       "        vertical-align: top;\n",
       "    }\n",
       "\n",
       "    .dataframe thead th {\n",
       "        text-align: right;\n",
       "    }\n",
       "</style>\n",
       "<table border=\"1\" class=\"dataframe\">\n",
       "  <thead>\n",
       "    <tr style=\"text-align: right;\">\n",
       "      <th>QCValidation</th>\n",
       "      <th>1.0</th>\n",
       "      <th>2.0</th>\n",
       "      <th>3.0</th>\n",
       "    </tr>\n",
       "    <tr>\n",
       "      <th>QCDate</th>\n",
       "      <th></th>\n",
       "      <th></th>\n",
       "      <th></th>\n",
       "    </tr>\n",
       "  </thead>\n",
       "  <tbody>\n",
       "    <tr>\n",
       "      <td>2020-01-29</td>\n",
       "      <td>24.0</td>\n",
       "      <td>0.0</td>\n",
       "      <td>0.0</td>\n",
       "    </tr>\n",
       "    <tr>\n",
       "      <td>2020-02-19</td>\n",
       "      <td>37.0</td>\n",
       "      <td>0.0</td>\n",
       "      <td>0.0</td>\n",
       "    </tr>\n",
       "    <tr>\n",
       "      <td>2020-02-20</td>\n",
       "      <td>29.0</td>\n",
       "      <td>0.0</td>\n",
       "      <td>0.0</td>\n",
       "    </tr>\n",
       "    <tr>\n",
       "      <td>2020-02-03</td>\n",
       "      <td>10.0</td>\n",
       "      <td>1.0</td>\n",
       "      <td>2.0</td>\n",
       "    </tr>\n",
       "    <tr>\n",
       "      <td>2020-02-06</td>\n",
       "      <td>40.0</td>\n",
       "      <td>0.0</td>\n",
       "      <td>2.0</td>\n",
       "    </tr>\n",
       "    <tr>\n",
       "      <td>2020-02-25</td>\n",
       "      <td>30.0</td>\n",
       "      <td>0.0</td>\n",
       "      <td>0.0</td>\n",
       "    </tr>\n",
       "    <tr>\n",
       "      <td>2020-02-08</td>\n",
       "      <td>2.0</td>\n",
       "      <td>0.0</td>\n",
       "      <td>0.0</td>\n",
       "    </tr>\n",
       "    <tr>\n",
       "      <td>2020-01-31</td>\n",
       "      <td>8.0</td>\n",
       "      <td>0.0</td>\n",
       "      <td>0.0</td>\n",
       "    </tr>\n",
       "    <tr>\n",
       "      <td>2020-02-13</td>\n",
       "      <td>33.0</td>\n",
       "      <td>0.0</td>\n",
       "      <td>1.0</td>\n",
       "    </tr>\n",
       "    <tr>\n",
       "      <td>2020-02-24</td>\n",
       "      <td>14.0</td>\n",
       "      <td>2.0</td>\n",
       "      <td>2.0</td>\n",
       "    </tr>\n",
       "  </tbody>\n",
       "</table>\n",
       "</div>"
      ],
      "text/plain": [
       "QCValidation   1.0  2.0  3.0\n",
       "QCDate                      \n",
       "2020-01-29    24.0  0.0  0.0\n",
       "2020-02-19    37.0  0.0  0.0\n",
       "2020-02-20    29.0  0.0  0.0\n",
       "2020-02-03    10.0  1.0  2.0\n",
       "2020-02-06    40.0  0.0  2.0\n",
       "2020-02-25    30.0  0.0  0.0\n",
       "2020-02-08     2.0  0.0  0.0\n",
       "2020-01-31     8.0  0.0  0.0\n",
       "2020-02-13    33.0  0.0  1.0\n",
       "2020-02-24    14.0  2.0  2.0"
      ]
     },
     "execution_count": 67,
     "metadata": {},
     "output_type": "execute_result"
    }
   ],
   "source": [
    "df_daily_unstacked_1.sample(10)"
   ]
  },
  {
   "cell_type": "markdown",
   "metadata": {},
   "source": [
    "### locate `values`:"
   ]
  },
  {
   "cell_type": "code",
   "execution_count": 68,
   "metadata": {
    "ExecuteTime": {
     "end_time": "2020-02-25T21:02:59.325468Z",
     "start_time": "2020-02-25T21:02:08.836Z"
    }
   },
   "outputs": [
    {
     "data": {
      "text/plain": [
       "35.0"
      ]
     },
     "execution_count": 68,
     "metadata": {},
     "output_type": "execute_result"
    }
   ],
   "source": [
    "df_daily_unstacked_1.iloc[0, 0]"
   ]
  },
  {
   "cell_type": "code",
   "execution_count": 69,
   "metadata": {
    "ExecuteTime": {
     "end_time": "2020-02-25T21:02:59.326469Z",
     "start_time": "2020-02-25T21:02:08.852Z"
    }
   },
   "outputs": [
    {
     "data": {
      "text/plain": [
       "29.0"
      ]
     },
     "execution_count": 69,
     "metadata": {},
     "output_type": "execute_result"
    }
   ],
   "source": [
    "df_daily_unstacked_1.iloc[17, 0]"
   ]
  },
  {
   "cell_type": "markdown",
   "metadata": {},
   "source": [
    "---\n",
    "# PLOT DATA"
   ]
  },
  {
   "cell_type": "code",
   "execution_count": 70,
   "metadata": {
    "ExecuteTime": {
     "end_time": "2020-02-25T21:26:06.001816Z",
     "start_time": "2020-02-25T21:26:05.757814Z"
    }
   },
   "outputs": [
    {
     "data": {
      "text/plain": [
       "<matplotlib.axes._subplots.AxesSubplot at 0x1c3d10a1d68>"
      ]
     },
     "execution_count": 70,
     "metadata": {},
     "output_type": "execute_result"
    },
    {
     "data": {
      "image/png": "[encoded data removed]",
      "text/plain": [
       "<Figure size 432x288 with 1 Axes>"
      ]
     },
     "metadata": {
      "needs_background": "light"
     },
     "output_type": "display_data"
    }
   ],
   "source": [
    "df_daily_unstacked_1.plot()"
   ]
  },
  {
   "cell_type": "code",
   "execution_count": 71,
   "metadata": {
    "ExecuteTime": {
     "end_time": "2020-02-25T21:31:27.246282Z",
     "start_time": "2020-02-25T21:31:26.972280Z"
    }
   },
   "outputs": [
    {
     "data": {
      "text/plain": [
       "<matplotlib.axes._subplots.AxesSubplot at 0x1c3d18e6c88>"
      ]
     },
     "execution_count": 71,
     "metadata": {},
     "output_type": "execute_result"
    },
    {
     "data": {
      "image/png": "[encoded data removed]",
      "text/plain": [
       "<Figure size 432x288 with 1 Axes>"
      ]
     },
     "metadata": {
      "needs_background": "light"
     },
     "output_type": "display_data"
    }
   ],
   "source": [
    "df_daily_unstacked_1.plot(kind='area')"
   ]
  },
  {
   "cell_type": "code",
   "execution_count": 72,
   "metadata": {
    "ExecuteTime": {
     "end_time": "2020-02-25T21:32:37.011248Z",
     "start_time": "2020-02-25T21:32:36.518242Z"
    }
   },
   "outputs": [
    {
     "data": {
      "text/plain": [
       "<matplotlib.axes._subplots.AxesSubplot at 0x1c3d1d98080>"
      ]
     },
     "execution_count": 72,
     "metadata": {},
     "output_type": "execute_result"
    },
    {
     "data": {
      "image/png": "[encoded data removed]",
      "text/plain": [
       "<Figure size 432x288 with 1 Axes>"
      ]
     },
     "metadata": {
      "needs_background": "light"
     },
     "output_type": "display_data"
    }
   ],
   "source": [
    "df_daily_unstacked_1.plot(kind='barh')"
   ]
  },
  {
   "cell_type": "code",
   "execution_count": 73,
   "metadata": {
    "ExecuteTime": {
     "end_time": "2020-02-25T21:33:46.807687Z",
     "start_time": "2020-02-25T21:33:46.600667Z"
    }
   },
   "outputs": [
    {
     "data": {
      "text/plain": [
       "<matplotlib.axes._subplots.AxesSubplot at 0x1c3d2689470>"
      ]
     },
     "execution_count": 73,
     "metadata": {},
     "output_type": "execute_result"
    },
    {
     "data": {
      "image/png": "[encoded data removed]",
      "text/plain": [
       "<Figure size 432x288 with 1 Axes>"
      ]
     },
     "metadata": {
      "needs_background": "light"
     },
     "output_type": "display_data"
    }
   ],
   "source": [
    "df_daily_unstacked_1.plot(kind='kde')"
   ]
  },
  {
   "cell_type": "raw",
   "metadata": {},
   "source": [
    "kind : str\n",
    "    - 'line' : line plot (default)\n",
    "    - 'bar' : vertical bar plot\n",
    "    - 'barh' : horizontal bar plot\n",
    "    - 'hist' : histogram\n",
    "    - 'box' : boxplot\n",
    "    - 'kde' : Kernel Density Estimation plot\n",
    "    - 'density' : same as 'kde'\n",
    "    - 'area' : area plot\n",
    "    - 'pie' : pie plot\n",
    "    - 'scatter' : scatter plot\n",
    "    - 'hexbin' : hexbin plot"
   ]
  },
  {
   "cell_type": "raw",
   "metadata": {
    "ExecuteTime": {
     "end_time": "2020-02-25T22:01:50.940631Z",
     "start_time": "2020-02-25T22:01:50.931633Z"
    }
   },
   "source": [
    "fig = plt.figure()"
   ]
  },
  {
   "cell_type": "markdown",
   "metadata": {},
   "source": [
    "---\n",
    "# WorkBook"
   ]
  },
  {
   "cell_type": "markdown",
   "metadata": {},
   "source": [
    "timestamp for filename"
   ]
  },
  {
   "cell_type": "code",
   "execution_count": 74,
   "metadata": {
    "ExecuteTime": {
     "end_time": "2020-02-25T21:38:08.595925Z",
     "start_time": "2020-02-25T21:38:08.592924Z"
    }
   },
   "outputs": [],
   "source": [
    "ts_str = str(test_date)[:10] #str(pd.Timestamp.now())[:10]"
   ]
  },
  {
   "cell_type": "markdown",
   "metadata": {},
   "source": [
    "create filename var"
   ]
  },
  {
   "cell_type": "code",
   "execution_count": 75,
   "metadata": {
    "ExecuteTime": {
     "end_time": "2020-02-25T21:41:38.569122Z",
     "start_time": "2020-02-25T21:41:38.566116Z"
    }
   },
   "outputs": [],
   "source": [
    "filename_str = str(\"QCMetrics_\" + str(ts_str) + \".xlsx\")"
   ]
  },
  {
   "cell_type": "code",
   "execution_count": 76,
   "metadata": {
    "ExecuteTime": {
     "end_time": "2020-02-25T21:41:55.227499Z",
     "start_time": "2020-02-25T21:41:55.212499Z"
    }
   },
   "outputs": [],
   "source": [
    "# CREATE NEW WORKBOOK\n",
    "wb = Workbook()\n",
    "wb.save(filename_str)"
   ]
  },
  {
   "cell_type": "code",
   "execution_count": 77,
   "metadata": {
    "ExecuteTime": {
     "end_time": "2020-02-25T21:42:11.887878Z",
     "start_time": "2020-02-25T21:42:11.876838Z"
    }
   },
   "outputs": [],
   "source": [
    "# LOAD EXISTING WORKBOOK\n",
    "wb = load_workbook(filename_str)"
   ]
  },
  {
   "cell_type": "code",
   "execution_count": 78,
   "metadata": {
    "ExecuteTime": {
     "end_time": "2020-02-25T21:49:13.709026Z",
     "start_time": "2020-02-25T21:49:13.704026Z"
    }
   },
   "outputs": [],
   "source": [
    "# ADD SHEETS TO WORKBOOK\n",
    "# DESGIGNATE SHEET NAME AND POSITION\n",
    "sheet1 = wb.create_sheet('Table', 0)\n",
    "sheet2 = wb.create_sheet('Graphs',1)"
   ]
  },
  {
   "cell_type": "code",
   "execution_count": 79,
   "metadata": {
    "ExecuteTime": {
     "end_time": "2020-02-25T21:49:30.989179Z",
     "start_time": "2020-02-25T21:49:30.964182Z"
    }
   },
   "outputs": [],
   "source": [
    "# ACTIVATE WORKSHEET TO WRITE DATAFRAME\n",
    "active = wb['Table']\n",
    "\n",
    "# WRTIE DATAFRAME TO ACTIVE WORKSHEET\n",
    "for x in dataframe_to_rows(df_daily_unstacked_1): # {\n",
    "    active.append(x)\n",
    "# }\n",
    "\n",
    "# SAVE \n",
    "wb.save(filename_str)"
   ]
  },
  {
   "cell_type": "code",
   "execution_count": 84,
   "metadata": {
    "ExecuteTime": {
     "end_time": "2020-02-25T21:59:00.048594Z",
     "start_time": "2020-02-25T21:59:00.044593Z"
    }
   },
   "outputs": [],
   "source": [
    "# CREATE DATASET\n",
    "x = df_daily_unstacked_1.index\n",
    "y = df_daily_unstacked_1.columns"
   ]
  },
  {
   "cell_type": "raw",
   "metadata": {},
   "source": [
    "x = np.arange(0, 5, 0.1);\n",
    "y = np.sin(x)"
   ]
  },
  {
   "cell_type": "code",
   "execution_count": 88,
   "metadata": {},
   "outputs": [
    {
     "data": {
      "image/png": "[encoded data removed]",
      "text/plain": [
       "<Figure size 432x288 with 1 Axes>"
      ]
     },
     "metadata": {
      "needs_background": "light"
     },
     "output_type": "display_data"
    }
   ],
   "source": [
    "plt.show(df_daily_unstacked_1.plot())"
   ]
  },
  {
   "cell_type": "raw",
   "metadata": {},
   "source": [
    "fig = plt.fgure()"
   ]
  },
  {
   "cell_type": "raw",
   "metadata": {
    "ExecuteTime": {
     "end_time": "2020-02-25T21:59:34.302082Z",
     "start_time": "2020-02-25T21:59:34.115080Z"
    }
   },
   "source": [
    "# CREATE AND SAVE PLOT AS PNG\n",
    "plt.plot(x, y)\n",
    "plt.show()"
   ]
  },
  {
   "cell_type": "code",
   "execution_count": null,
   "metadata": {
    "ExecuteTime": {
     "end_time": "2020-02-25T21:59:34.302082Z",
     "start_time": "2020-02-25T21:59:34.115080Z"
    }
   },
   "outputs": [],
   "source": [
    "plt.savefig(ts_str + \"_line_graph.png\")"
   ]
  },
  {
   "cell_type": "code",
   "execution_count": null,
   "metadata": {
    "ExecuteTime": {
     "end_time": "2020-02-25T21:58:18.622583Z",
     "start_time": "2020-02-25T21:58:18.386580Z"
    }
   },
   "outputs": [],
   "source": []
  },
  {
   "cell_type": "code",
   "execution_count": null,
   "metadata": {},
   "outputs": [],
   "source": [
    "# WRITE DATAFRAME TO ACTIVE WORKSHEET"
   ]
  },
  {
   "cell_type": "raw",
   "metadata": {
    "raw_mimetype": "text/markdown"
   },
   "source": [
    "### `unstack` data **columns** (axis=0)"
   ]
  },
  {
   "cell_type": "raw",
   "metadata": {
    "ExecuteTime": {
     "end_time": "2020-02-25T19:12:13.623721Z",
     "start_time": "2020-02-25T19:12:13.607720Z"
    },
    "raw_mimetype": "text/x-python"
   },
   "source": [
    "test_unstack = df_daily_unstacked_1.columns.unstack(level=0)"
   ]
  },
  {
   "cell_type": "raw",
   "metadata": {
    "ExecuteTime": {
     "end_time": "2020-02-25T16:13:38.106487Z",
     "start_time": "2020-02-25T16:13:38.096482Z"
    },
    "raw_mimetype": "text/x-python"
   },
   "source": [
    "df_daily_levels.unstack(level=1).to_csv(\"df_daily_levels_UNSTACKED.csv\", index=True)"
   ]
  },
  {
   "cell_type": "raw",
   "metadata": {
    "ExecuteTime": {
     "end_time": "2020-02-25T21:02:59.345471Z",
     "start_time": "2020-02-25T21:02:09.390Z"
    },
    "raw_mimetype": "text/x-python"
   },
   "source": [
    "df_daily_unstacked = df_daily_levels.unstack(0)\n",
    "df_daily_unstacked"
   ]
  },
  {
   "cell_type": "raw",
   "metadata": {
    "ExecuteTime": {
     "end_time": "2020-02-25T21:02:59.346469Z",
     "start_time": "2020-02-25T21:02:09.401Z"
    },
    "raw_mimetype": "text/x-python"
   },
   "source": [
    "df_daily_unstacked.info()"
   ]
  },
  {
   "cell_type": "raw",
   "metadata": {
    "ExecuteTime": {
     "end_time": "2020-02-25T21:02:59.348469Z",
     "start_time": "2020-02-25T21:02:09.407Z"
    },
    "raw_mimetype": "text/x-python"
   },
   "source": [
    "df_daily_unstacked.to_csv(\"df_daily_levels_2020_02_25_unstacked.csv\", index=True)"
   ]
  },
  {
   "cell_type": "raw",
   "metadata": {
    "ExecuteTime": {
     "end_time": "2020-02-25T21:02:59.349471Z",
     "start_time": "2020-02-25T21:02:09.415Z"
    },
    "raw_mimetype": "text/x-python"
   },
   "source": [
    "for row in df_daily_levels.unstack(0).itertuples(index=True): # {\n",
    "    print(len(row))\n",
    "# }"
   ]
  },
  {
   "cell_type": "raw",
   "metadata": {
    "ExecuteTime": {
     "end_time": "2020-02-24T16:47:24.782377Z",
     "start_time": "2020-02-24T16:47:24.775342Z"
    },
    "raw_mimetype": "text/x-python"
   },
   "source": [
    "merged = df_daily_levels.merge(df_month_range.set_index(['QCDate']), left_index=True, right_index=True,\n",
    "                              how='left')"
   ]
  },
  {
   "cell_type": "raw",
   "metadata": {
    "ExecuteTime": {
     "end_time": "2020-02-24T16:22:57.040002Z",
     "start_time": "2020-02-24T16:22:57.021971Z"
    },
    "raw_mimetype": "text/x-python"
   },
   "source": [
    "merged = df_daily_levels.join(df_month_range, on = df_daily_levels.index, how = 'right', lsuffix='_x')"
   ]
  },
  {
   "cell_type": "raw",
   "metadata": {
    "ExecuteTime": {
     "end_time": "2020-02-24T17:10:08.138037Z",
     "start_time": "2020-02-24T17:10:07.856031Z"
    },
    "raw_mimetype": "text/x-python"
   },
   "source": [
    "merged = pd.merge(left=df_daily_levels, right=df_month_range)"
   ]
  },
  {
   "cell_type": "raw",
   "metadata": {
    "ExecuteTime": {
     "end_time": "2020-02-25T19:51:13.660538Z",
     "start_time": "2020-02-25T19:51:13.650538Z"
    },
    "raw_mimetype": "text/x-python"
   },
   "source": [
    "merged = df_daily_levels.append(df_month_range, ignore_index=True, sort=True)"
   ]
  },
  {
   "cell_type": "markdown",
   "metadata": {},
   "source": [
    "---\n",
    "# Create *empty* `DataFrame` to hold **FINAL** `Metrics` \n",
    "*(and lists to hold columns*)"
   ]
  },
  {
   "cell_type": "code",
   "execution_count": null,
   "metadata": {
    "ExecuteTime": {
     "end_time": "2020-02-25T21:35:22.896713Z",
     "start_time": "2020-02-25T21:35:22.888715Z"
    }
   },
   "outputs": [],
   "source": [
    "QCMetrics_Month = pd.DataFrame(data=None,\n",
    "                              index=pd.date_range(start=one_month_ago,\n",
    "                                                 end=test_date,\n",
    "                                                 freq='D',\n",
    "                                                 name='QCDate'),\n",
    "                              columns=pd.CategoricalIndex(['L1', 'L2', 'L3'], name='Levels')\n",
    "                              )"
   ]
  },
  {
   "cell_type": "code",
   "execution_count": null,
   "metadata": {
    "ExecuteTime": {
     "end_time": "2020-02-25T21:35:39.507832Z",
     "start_time": "2020-02-25T21:35:39.502314Z"
    }
   },
   "outputs": [],
   "source": [
    "QCMetrics_Month.index"
   ]
  },
  {
   "cell_type": "code",
   "execution_count": null,
   "metadata": {
    "ExecuteTime": {
     "end_time": "2020-02-25T21:35:55.718826Z",
     "start_time": "2020-02-25T21:35:55.708791Z"
    }
   },
   "outputs": [],
   "source": [
    "QCMetrics_Month.columns"
   ]
  },
  {
   "cell_type": "code",
   "execution_count": null,
   "metadata": {
    "ExecuteTime": {
     "end_time": "2020-02-25T21:36:11.961181Z",
     "start_time": "2020-02-25T21:36:11.948182Z"
    }
   },
   "outputs": [],
   "source": [
    "QCMetrics_Month"
   ]
  },
  {
   "cell_type": "code",
   "execution_count": null,
   "metadata": {
    "ExecuteTime": {
     "end_time": "2020-02-25T21:36:28.406344Z",
     "start_time": "2020-02-25T21:36:28.396822Z"
    }
   },
   "outputs": [],
   "source": [
    "df_daily_levels.head(5)"
   ]
  },
  {
   "cell_type": "raw",
   "metadata": {
    "ExecuteTime": {
     "end_time": "2020-02-25T21:43:46.951182Z",
     "start_time": "2020-02-25T21:43:46.937181Z"
    },
    "raw_mimetype": "text/x-python"
   },
   "source": [
    "result = pd.concat([QCMetrics_Month, df_daily_unstacked_1],\n",
    "                   ignore_index=False, sort=True)"
   ]
  },
  {
   "cell_type": "raw",
   "metadata": {
    "ExecuteTime": {
     "end_time": "2020-02-25T21:44:03.166945Z",
     "start_time": "2020-02-25T21:44:03.149370Z"
    },
    "raw_mimetype": "text/x-python"
   },
   "source": [
    "# result"
   ]
  },
  {
   "cell_type": "code",
   "execution_count": null,
   "metadata": {
    "ExecuteTime": {
     "end_time": "2020-02-25T21:37:18.224811Z",
     "start_time": "2020-02-25T21:37:18.215293Z"
    }
   },
   "outputs": [],
   "source": [
    "result = df_daily_levels.join(QCMetrics_Month, \n",
    "                              on = ['QCDate'],\n",
    "                              how='inner', \n",
    "                              sort=True)"
   ]
  },
  {
   "cell_type": "code",
   "execution_count": null,
   "metadata": {
    "ExecuteTime": {
     "end_time": "2020-02-25T21:37:34.878890Z",
     "start_time": "2020-02-25T21:37:34.864891Z"
    }
   },
   "outputs": [],
   "source": [
    "result"
   ]
  },
  {
   "cell_type": "code",
   "execution_count": null,
   "metadata": {
    "ExecuteTime": {
     "end_time": "2020-02-25T21:37:51.846368Z",
     "start_time": "2020-02-25T21:37:51.839367Z"
    }
   },
   "outputs": [],
   "source": [
    "result.info()"
   ]
  },
  {
   "cell_type": "code",
   "execution_count": null,
   "metadata": {},
   "outputs": [],
   "source": []
  },
  {
   "cell_type": "markdown",
   "metadata": {},
   "source": [
    "---\n",
    "# messups"
   ]
  },
  {
   "cell_type": "raw",
   "metadata": {},
   "source": [
    "''' Groupby single column in pandas python'''\n",
    "df1.groupby(['State'])['Sales'].count()"
   ]
  },
  {
   "cell_type": "raw",
   "metadata": {},
   "source": [
    "''' Groupby multiple columns '''\n",
    "df1.groupby(['State','Name'])['Sales'].count()"
   ]
  },
  {
   "cell_type": "raw",
   "metadata": {},
   "source": [
    "# sum of score group by Name and Exam \n",
    "df['Score'].groupby([df['Name'],df['Exam']]).sum()"
   ]
  },
  {
   "cell_type": "raw",
   "metadata": {},
   "source": [
    "# sum of score group by Name and Exam\n",
    "df_last_month.index.groupby([df['Name'],df['Exam']]).sum()"
   ]
  },
  {
   "cell_type": "raw",
   "metadata": {},
   "source": [
    "# GROUPBY MULTIPLE COLUMNS\n",
    "df_last_month_l1 = df_last_month.groupby(['PfBatchID'])"
   ]
  },
  {
   "cell_type": "raw",
   "metadata": {},
   "source": [
    "df_daily_level_1"
   ]
  },
  {
   "cell_type": "raw",
   "metadata": {},
   "source": [
    "len(df_daily_level_1['PfIDNo'])"
   ]
  },
  {
   "cell_type": "raw",
   "metadata": {},
   "source": [
    "df_daily_level_1.to_csv(\"df_Daily_level_1.csv\", index=True)"
   ]
  },
  {
   "cell_type": "raw",
   "metadata": {},
   "source": [
    "df_daily_level_1 = df_last_month[df_last_month.QCValidation.isin([\"1\"])]\n",
    "len(df_daily_level_1)"
   ]
  },
  {
   "cell_type": "raw",
   "metadata": {},
   "source": [
    "df_daily_level_2 = df_last_month[df_last_month.QCValidation.isin([\"2\"])]\n",
    "len(df_daily_level_2)"
   ]
  },
  {
   "cell_type": "raw",
   "metadata": {},
   "source": [
    "df_daily_level_3 = df_last_month[df_last_month.QCValidation.isin([\"3\"])]\n",
    "len(df_daily_level_3)\n",
    "df_daily_level_3"
   ]
  },
  {
   "cell_type": "raw",
   "metadata": {},
   "source": [
    "len(df_daily_level_1.resample('D').sum()['pfBatchID'])"
   ]
  },
  {
   "cell_type": "raw",
   "metadata": {},
   "source": [
    "df_daily_level_1.resample('D').sum().to_csv(\"batch_usum.csv\", index=True)"
   ]
  },
  {
   "cell_type": "markdown",
   "metadata": {},
   "source": [
    "---\n",
    "\n",
    "# `ExcelWorkBook` functions"
   ]
  },
  {
   "cell_type": "code",
   "execution_count": null,
   "metadata": {
    "ExecuteTime": {
     "end_time": "2020-02-25T21:02:59.371471Z",
     "start_time": "2020-02-25T21:02:11.374Z"
    }
   },
   "outputs": [],
   "source": [
    "# str for filename\n",
    "filename_str = str(test_date) #str(pd.Timestamp.now())[:10]\n",
    "print(filename_str)"
   ]
  },
  {
   "cell_type": "code",
   "execution_count": null,
   "metadata": {
    "ExecuteTime": {
     "end_time": "2020-02-25T21:02:59.372469Z",
     "start_time": "2020-02-25T21:02:11.382Z"
    }
   },
   "outputs": [],
   "source": [
    "# Create new workbook\n",
    "wb = Workbook()"
   ]
  },
  {
   "cell_type": "code",
   "execution_count": null,
   "metadata": {
    "ExecuteTime": {
     "end_time": "2020-02-25T21:02:59.375470Z",
     "start_time": "2020-02-25T21:02:11.389Z"
    }
   },
   "outputs": [],
   "source": [
    "# Add sheets to workbook\n",
    "# Designate sheet name and position\n",
    "sheet1 = wb.create_sheet('sheet1',0)\n",
    "sheet2 = wb.create_sheet('sheet2',1)\n",
    "sheet3 = wb.create_sheet('sheet3',2)"
   ]
  },
  {
   "cell_type": "code",
   "execution_count": null,
   "metadata": {
    "ExecuteTime": {
     "end_time": "2020-02-25T21:02:59.377472Z",
     "start_time": "2020-02-25T21:02:11.397Z"
    }
   },
   "outputs": [],
   "source": [
    "# Activate worksheet to write dataframe\n",
    "active = wb['sheet1']\n",
    "\n",
    "# Write dataframe to active worksheet\n",
    "for x in dataframe_to_rows(df_QCMetrics):\n",
    "    active.append(x)\n",
    "\n",
    "# Save workbook to write\n",
    "wb.save(filepath)"
   ]
  },
  {
   "cell_type": "raw",
   "metadata": {},
   "source": [
    "# Remove existing sheet\n",
    "ref = wb['sheet']\n",
    "wb.remove(ref)"
   ]
  },
  {
   "cell_type": "code",
   "execution_count": null,
   "metadata": {
    "ExecuteTime": {
     "end_time": "2020-02-25T21:02:59.379472Z",
     "start_time": "2020-02-25T21:02:11.486Z"
    }
   },
   "outputs": [],
   "source": [
    "wb.save(\"QCMetrics-\"  +  filename_str + \".xlsx\")"
   ]
  },
  {
   "cell_type": "raw",
   "metadata": {},
   "source": [
    "df_last_month.to_csv(\"last_month.csv\", index=True)"
   ]
  },
  {
   "cell_type": "raw",
   "metadata": {},
   "source": [
    "# get current time\n",
    "now = datetime.now()\n",
    "print(\"Today's date: \", str(now))"
   ]
  },
  {
   "cell_type": "raw",
   "metadata": {},
   "source": [
    "# subtract 4 weeks from current date\n",
    "four_weeks_ago = now - timedelta(weeks = 4)\n",
    "print('Date FOUR weeks ago: ', four_weeks_ago)\n",
    "print('FOURR_weeks_ago object type: ', type(four_weeks_ago))"
   ]
  }
 ],
 "metadata": {
  "celltoolbar": "Raw Cell Format",
  "kernelspec": {
   "display_name": "Python 3",
   "language": "python",
   "name": "python3"
  },
  "language_info": {
   "codemirror_mode": {
    "name": "ipython",
    "version": 3
   },
   "file_extension": ".py",
   "mimetype": "text/x-python",
   "name": "python",
   "nbconvert_exporter": "python",
   "pygments_lexer": "ipython3",
   "version": "3.7.0"
  },
  "toc": {
   "base_numbering": 1,
   "nav_menu": {},
   "number_sections": true,
   "sideBar": true,
   "skip_h1_title": false,
   "title_cell": "Table of Contents",
   "title_sidebar": "Contents",
   "toc_cell": false,
   "toc_position": {},
   "toc_section_display": true,
   "toc_window_display": false
  },
  "varInspector": {
   "cols": {
    "lenName": 16,
    "lenType": 16,
    "lenVar": 40
   },
   "kernels_config": {
    "python": {
     "delete_cmd_postfix": "",
     "delete_cmd_prefix": "del ",
     "library": "var_list.py",
     "varRefreshCmd": "print(var_dic_list())"
    },
    "r": {
     "delete_cmd_postfix": ") ",
     "delete_cmd_prefix": "rm(",
     "library": "var_list.r",
     "varRefreshCmd": "cat(var_dic_list()) "
    }
   },
   "types_to_exclude": [
    "module",
    "function",
    "builtin_function_or_method",
    "instance",
    "_Feature"
   ],
   "window_display": false
  }
 },
 "nbformat": 4,
 "nbformat_minor": 4
}
