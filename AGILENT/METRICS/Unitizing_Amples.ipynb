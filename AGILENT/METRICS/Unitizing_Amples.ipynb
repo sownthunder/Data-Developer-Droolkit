{
 "cells": [
  {
   "cell_type": "markdown",
   "metadata": {},
   "source": [
    "# Ample Unitizing"
   ]
  },
  {
   "cell_type": "code",
   "execution_count": 1,
   "metadata": {
    "ExecuteTime": {
     "end_time": "2020-02-20T20:34:50.355438Z",
     "start_time": "2020-02-20T20:34:48.232428Z"
    }
   },
   "outputs": [],
   "source": [
    "import os, sys, time\n",
    "from time import sleep\n",
    "import pandas as pd\n",
    "import numpy as np\n",
    "from pandas import Series, DataFrame\n",
    "import pyodbc\n",
    "import matplotlib\n",
    "from matplotlib import pyplot as plt\n",
    "import seaborn as sns"
   ]
  },
  {
   "cell_type": "code",
   "execution_count": 2,
   "metadata": {
    "ExecuteTime": {
     "end_time": "2020-02-20T20:34:50.370444Z",
     "start_time": "2020-02-20T20:34:50.357443Z"
    }
   },
   "outputs": [
    {
     "data": {
      "text/plain": [
       "['Microsoft Access Driver (*.mdb, *.accdb)']"
      ]
     },
     "execution_count": 2,
     "metadata": {},
     "output_type": "execute_result"
    }
   ],
   "source": [
    "[x for x in pyodbc.drivers() if x.startswith('Microsoft Access Driver')]"
   ]
  },
  {
   "cell_type": "code",
   "execution_count": 3,
   "metadata": {
    "ExecuteTime": {
     "end_time": "2020-02-20T20:34:50.434465Z",
     "start_time": "2020-02-20T20:34:50.373440Z"
    }
   },
   "outputs": [
    {
     "name": "stdout",
     "output_type": "stream",
     "text": [
      "FIN...\n"
     ]
    }
   ],
   "source": [
    "try: #{\n",
    "    conn_str = (\n",
    "        r'DRIVER={Microsoft Access Driver (*.mdb, *.accdb)};'\n",
    "        r'DBQ=C:\\Users\\derbates\\OneDrive - Agilent Technologies\\Desktop\\Offline Prodflow II\\Custom Quotes_fe.accdb;'\n",
    "    )\n",
    "#}\n",
    "except: #{\n",
    "    errorMessage = str(sys.exc_info()[0]) + \"\\n\"\n",
    "    errorMessage = errorMessage + str(sys.exc_info()[1]) + \"\\n\\t\\t\"\n",
    "    errorMessage = errorMessage + str(sys.exc_info()[2]) + \"\\n\"\n",
    "    exc_type, exc_obj, exc_tb = sys.exc_info()\n",
    "    fname = os.path.split(exc_tb.tb_frame.f_code.co_filename)[1]\n",
    "    typeE = str(\"TYPE : \" + str(exc_type))\n",
    "    fileE = str(\"FILE : \" + str(fname))\n",
    "    lineE = str(\"LINE : \" + str(exc_tb.tb_lineno))\n",
    "    messageE = str(\"MESG : \" + \"\\n\\n\" + str(errorMessage) + \"\\n\")\n",
    "    print(\"\\n\" + typeE + \n",
    "          \"\\n\" + fileE + \n",
    "          \"\\n\" + lineE + \n",
    "          \"\\n\" + messageE)\n",
    "#}\n",
    "else: #{\n",
    "    print(\"FIN...\")\n",
    "#}"
   ]
  },
  {
   "cell_type": "code",
   "execution_count": 4,
   "metadata": {
    "ExecuteTime": {
     "end_time": "2020-02-20T20:34:51.040496Z",
     "start_time": "2020-02-20T20:34:50.436452Z"
    }
   },
   "outputs": [
    {
     "name": "stdout",
     "output_type": "stream",
     "text": [
      "FIN...\n"
     ]
    }
   ],
   "source": [
    "try: #{\n",
    "    cnxn = pyodbc.connect(conn_str)\n",
    "    crsr = cnxn.cursor()\n",
    "#}\n",
    "except: #{\n",
    "    errorMessage = str(sys.exc_info()[0]) + \"\\n\"\n",
    "    errorMessage = errorMessage + str(sys.exc_info()[1]) + \"\\n\\t\\t\"\n",
    "    errorMessage = errorMessage + str(sys.exc_info()[2]) + \"\\n\"\n",
    "    exc_type, exc_obj, exc_tb = sys.exc_info()\n",
    "    fname = os.path.split(exc_tb.tb_frame.f_code.co_filename)[1]\n",
    "    typeE = str(\"TYPE : \" + str(exc_type))\n",
    "    fileE = str(\"FILE : \" + str(fname))\n",
    "    lineE = str(\"LINE : \" + str(exc_tb.tb_lineno))\n",
    "    messageE = str(\"MESG : \" + \"\\n\\n\" + str(errorMessage) + \"\\n\")\n",
    "    print(\"\\n\" + typeE + \n",
    "          \"\\n\" + fileE + \n",
    "          \"\\n\" + lineE + \n",
    "          \"\\n\" + messageE)\n",
    "#}\n",
    "else: #{\n",
    "    print(\"FIN...\")\n",
    "#}"
   ]
  },
  {
   "cell_type": "markdown",
   "metadata": {},
   "source": [
    "## tblProdflow"
   ]
  },
  {
   "cell_type": "code",
   "execution_count": 5,
   "metadata": {
    "ExecuteTime": {
     "end_time": "2020-02-20T20:34:56.281484Z",
     "start_time": "2020-02-20T20:34:51.042447Z"
    }
   },
   "outputs": [
    {
     "name": "stdout",
     "output_type": "stream",
     "text": [
      "Operation Completed Successfully...\n"
     ]
    }
   ],
   "source": [
    "# TRY THE FOLLOWING\n",
    "try: # {\n",
    "    df_tblProdflow = pd.read_sql_query(sql='SELECT * FROM tblProdflow', con=cnxn)\n",
    "# }\n",
    "except: # {\n",
    "    errorMessage = str(sys.exc_info()[0]) + \"\\n\"\n",
    "    errorMessage = errorMessage + str(sys.exc_info()[1]) + \"\\n\\t\\t\"\n",
    "    errorMessage = errorMessage + str(sys.exc_info()[2]) + \"\\n\"\n",
    "    exc_type, exc_obj, exc_tb = sys.exc_info()\n",
    "    fname = os.path.split(exc_tb.tb_frame.f_code.co_filename)[1]\n",
    "    typeE = str(\"TYPE : \" + str(exc_type))\n",
    "    fileE = str(\"FILE : \" + str(fname))\n",
    "    lineE = str(\"LINE : \" + str(exc_tb.tb_lineno))\n",
    "    messageE = str(\"MESG : \" + \"\\n\\n\" + str(errorMessage) + \"\\n\")\n",
    "    print(\"\\n\" + typeE + \n",
    "          \"\\n\" + fileE + \n",
    "          \"\\n\" + lineE + \n",
    "          \"\\n\" + messageE)\n",
    "# }\n",
    "else: # {\n",
    "    print(\"Operation Completed Successfully...\")\n",
    "# }"
   ]
  },
  {
   "cell_type": "markdown",
   "metadata": {},
   "source": [
    "### Rename `AmpBulkRemain` column in table"
   ]
  },
  {
   "cell_type": "code",
   "execution_count": 6,
   "metadata": {
    "ExecuteTime": {
     "end_time": "2020-02-20T20:34:56.412484Z",
     "start_time": "2020-02-20T20:34:56.283482Z"
    }
   },
   "outputs": [],
   "source": [
    "df_tblProdflow.rename(columns={'AmpBulkRemain': 'Daily Yield'}, inplace=True)"
   ]
  },
  {
   "cell_type": "markdown",
   "metadata": {},
   "source": [
    "### Create EMPTY DataFrame to hold Metrics"
   ]
  },
  {
   "cell_type": "code",
   "execution_count": 7,
   "metadata": {
    "ExecuteTime": {
     "end_time": "2020-02-20T20:34:56.420486Z",
     "start_time": "2020-02-20T20:34:56.415485Z"
    }
   },
   "outputs": [],
   "source": [
    "df_Metrics = pd.DataFrame(data=None)"
   ]
  },
  {
   "cell_type": "markdown",
   "metadata": {},
   "source": [
    "#### Get all `AmpNumberGood` number and their time `in/out`"
   ]
  },
  {
   "cell_type": "code",
   "execution_count": 19,
   "metadata": {
    "ExecuteTime": {
     "end_time": "2020-02-20T20:47:17.918484Z",
     "start_time": "2020-02-20T20:47:15.037362Z"
    }
   },
   "outputs": [],
   "source": [
    "# SELECT ROWS OF THE DATAFRAME WHERE df.AmpNumberGood is greater than or equal to 1\n",
    "df_AmpNumberGood = df_tblProdflow[(df_tblProdflow['AmpNumberGood'] >= 1)]"
   ]
  },
  {
   "cell_type": "code",
   "execution_count": 15,
   "metadata": {
    "ExecuteTime": {
     "end_time": "2020-02-20T20:44:28.671432Z",
     "start_time": "2020-02-20T20:44:28.666432Z"
    }
   },
   "outputs": [],
   "source": [
    "# CREATE column to hold number of GOOD AMPS\n",
    "df_Metrics['count-GOOD'] = len(df_AmpNumberGood)"
   ]
  },
  {
   "cell_type": "markdown",
   "metadata": {},
   "source": [
    "#### determine time in/out of `AmpNumberGood`"
   ]
  },
  {
   "cell_type": "code",
   "execution_count": 16,
   "metadata": {
    "ExecuteTime": {
     "end_time": "2020-02-20T20:44:30.982346Z",
     "start_time": "2020-02-20T20:44:30.966376Z"
    }
   },
   "outputs": [],
   "source": [
    "df_Metrics['diff_seconds'] = df_AmpNumberGood['AmpTimeOut'] - df_AmpNumberGood['AmpTimeIn']\n",
    "df_Metrics['diff_seconds'] = "
   ]
  },
  {
   "cell_type": "code",
   "execution_count": 18,
   "metadata": {
    "ExecuteTime": {
     "end_time": "2020-02-20T20:44:59.444669Z",
     "start_time": "2020-02-20T20:44:58.118351Z"
    }
   },
   "outputs": [],
   "source": [
    "df_Metrics.to_csv(\"C:/data/outbound/Metrics/ample_test.csv\")"
   ]
  },
  {
   "cell_type": "code",
   "execution_count": null,
   "metadata": {},
   "outputs": [],
   "source": []
  }
 ],
 "metadata": {
  "kernelspec": {
   "display_name": "Python 3",
   "language": "python",
   "name": "python3"
  },
  "language_info": {
   "codemirror_mode": {
    "name": "ipython",
    "version": 3
   },
   "file_extension": ".py",
   "mimetype": "text/x-python",
   "name": "python",
   "nbconvert_exporter": "python",
   "pygments_lexer": "ipython3",
   "version": "3.7.0"
  },
  "toc": {
   "base_numbering": 1,
   "nav_menu": {},
   "number_sections": true,
   "sideBar": true,
   "skip_h1_title": false,
   "title_cell": "Table of Contents",
   "title_sidebar": "Contents",
   "toc_cell": false,
   "toc_position": {},
   "toc_section_display": true,
   "toc_window_display": false
  },
  "varInspector": {
   "cols": {
    "lenName": 16,
    "lenType": 16,
    "lenVar": 40
   },
   "kernels_config": {
    "python": {
     "delete_cmd_postfix": "",
     "delete_cmd_prefix": "del ",
     "library": "var_list.py",
     "varRefreshCmd": "print(var_dic_list())"
    },
    "r": {
     "delete_cmd_postfix": ") ",
     "delete_cmd_prefix": "rm(",
     "library": "var_list.r",
     "varRefreshCmd": "cat(var_dic_list()) "
    }
   },
   "types_to_exclude": [
    "module",
    "function",
    "builtin_function_or_method",
    "instance",
    "_Feature"
   ],
   "window_display": false
  }
 },
 "nbformat": 4,
 "nbformat_minor": 2
}
