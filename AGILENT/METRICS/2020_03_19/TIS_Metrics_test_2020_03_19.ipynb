{
 "cells": [
  {
   "cell_type": "code",
   "execution_count": 1,
   "metadata": {
    "ExecuteTime": {
     "end_time": "2020-03-19T14:38:52.329105Z",
     "start_time": "2020-03-19T14:38:50.770530Z"
    }
   },
   "outputs": [],
   "source": [
    "import os, sys, time\n",
    "from time import sleep\n",
    "from pathlib import Path\n",
    "import pandas as pd\n",
    "import numpy as np\n",
    "from pandas import Series, DataFrame"
   ]
  },
  {
   "cell_type": "code",
   "execution_count": 4,
   "metadata": {
    "ExecuteTime": {
     "end_time": "2020-03-19T14:39:09.372133Z",
     "start_time": "2020-03-19T14:39:09.366001Z"
    }
   },
   "outputs": [],
   "source": [
    "class TIS_Metrics_test(): # {\n",
    "    \n",
    "    def __init__(self, materials_list, metrics_table, range_start, range_period): # {\n",
    "        self.materials_list = materials_list\n",
    "        self.metrics_table = metrics_table\n",
    "        self.range_start = range_start\n",
    "        self.range_period = range_period\n",
    "        # IMPORT MATERIALS LIST TO DATAFRAME\n",
    "        df_materials_list = pd.read_csv(self.materials_list, \n",
    "                                        names=['ProductNo'], \n",
    "                                        dtype=np.str,\n",
    "                                        engine='python')\n",
    "        # IMPORT METRICS TABLE AS DATAFRAME\n",
    "        print(df_materials_list.info())\n",
    "        # CREATE TIME DELTA FROM INPUT\n",
    "        # td_range_period = pd.Timedelta()\n",
    "    # }\n",
    "    \n",
    "    def run(): # {\n",
    "        pass\n",
    "    # }\n",
    "    \n",
    "# }"
   ]
  },
  {
   "cell_type": "code",
   "execution_count": 5,
   "metadata": {
    "ExecuteTime": {
     "end_time": "2020-03-19T14:39:09.708198Z",
     "start_time": "2020-03-19T14:39:09.694168Z"
    }
   },
   "outputs": [
    {
     "name": "stdout",
     "output_type": "stream",
     "text": [
      "<class 'pandas.core.frame.DataFrame'>\n",
      "RangeIndex: 64 entries, 0 to 63\n",
      "Data columns (total 1 columns):\n",
      "ProdcutNo    64 non-null object\n",
      "dtypes: object(1)\n",
      "memory usage: 640.0+ bytes\n",
      "None\n"
     ]
    }
   ],
   "source": [
    "if __name__ == \"__main__\": # {\n",
    "    in_file = Path(\"c:/data/inbound/2020-03-19/material_list.csv\")\n",
    "    metrics_table = Path(\"c:/data/inbound/2020-03-19/\")\n",
    "    month_of_feb = TIS_Metrics_test(materials_list=in_file, \n",
    "                                    range_start=\"Feb 1\",\n",
    "                                    range_period=\"29 days\")\n",
    "# }"
   ]
  },
  {
   "cell_type": "code",
   "execution_count": null,
   "metadata": {},
   "outputs": [],
   "source": []
  }
 ],
 "metadata": {
  "kernelspec": {
   "display_name": "Python 3",
   "language": "python",
   "name": "python3"
  },
  "language_info": {
   "codemirror_mode": {
    "name": "ipython",
    "version": 3
   },
   "file_extension": ".py",
   "mimetype": "text/x-python",
   "name": "python",
   "nbconvert_exporter": "python",
   "pygments_lexer": "ipython3",
   "version": "3.7.0"
  },
  "toc": {
   "base_numbering": 1,
   "nav_menu": {},
   "number_sections": true,
   "sideBar": true,
   "skip_h1_title": false,
   "title_cell": "Table of Contents",
   "title_sidebar": "Contents",
   "toc_cell": false,
   "toc_position": {},
   "toc_section_display": true,
   "toc_window_display": false
  },
  "varInspector": {
   "cols": {
    "lenName": 16,
    "lenType": 16,
    "lenVar": 40
   },
   "kernels_config": {
    "python": {
     "delete_cmd_postfix": "",
     "delete_cmd_prefix": "del ",
     "library": "var_list.py",
     "varRefreshCmd": "print(var_dic_list())"
    },
    "r": {
     "delete_cmd_postfix": ") ",
     "delete_cmd_prefix": "rm(",
     "library": "var_list.r",
     "varRefreshCmd": "cat(var_dic_list()) "
    }
   },
   "types_to_exclude": [
    "module",
    "function",
    "builtin_function_or_method",
    "instance",
    "_Feature"
   ],
   "window_display": false
  }
 },
 "nbformat": 4,
 "nbformat_minor": 2
}
