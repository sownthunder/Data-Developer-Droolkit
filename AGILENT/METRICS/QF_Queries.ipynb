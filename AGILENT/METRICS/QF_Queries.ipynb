{
 "cells": [
  {
   "cell_type": "markdown",
   "metadata": {},
   "source": [
    "# [click here](http://localhost:8888/notebooks/OneDrive%20-%20Agilent%20Technologies/Documents/_staging/Data-Developer-Droolkit/AGILENT/QUOTES/_ODBC_ACCESS_select_query-Copy1.ipynb)"
   ]
  },
  {
   "cell_type": "markdown",
   "metadata": {},
   "source": [
    "---\n",
    "# QC Metrics\n",
    "\n",
    "## Queries\n",
    "\n",
    "### Time Interval: Daily\n",
    "\n",
    "- #### *QCMetrics_Daily_Level1*:\n",
    "\n",
    "`SELECT Count(PfBatchID) AS ProdsPerDay, QCDate`\n",
    "\n",
    "`FROM Products INNER JOIN tblProdflow ON Products.[Product#] = tblProdflow.ProductNo`\n",
    "\n",
    "`WHERE QCDate = Date() AND ProductLevel = 1`\n",
    "\n",
    "`GROUP BY QCDate, ProductLevel;`\n",
    "\n",
    "- #### *QCMetrics_Daily_Level2*:\n",
    "\n",
    "`SELECT Count(PfBatchID) AS ProdsPerDay, QCDate`\n",
    "\n",
    "`FROM Products INNER JOIN tblProdflow ON Products.[Product#] = tblProdflow.ProductNo`\n",
    "\n",
    "`WHERE QCDate = Date() AND ProductLevel = 2`\n",
    "\n",
    "`GROUP BY QCDate, ProductLevel;`\n",
    "\n",
    "- #### *QCMetrics_Daily_Level3*:\n",
    "\n",
    "`SELECT Count(PfBatchID) AS ProdsPerDay, QCDate`\n",
    "\n",
    "`FROM Products INNER JOIN tblProdflow ON Products.[Product#] = tblProdflow.ProductNo`\n",
    "\n",
    "`WHERE QCDate = Date() AND ProductLevel = 3`\n",
    "\n",
    "`GROUP BY QCDate, ProductLevel;`\n",
    "\n",
    "### Time Interval: Weekly\n",
    "\n",
    "- #### *QCMetrics_Weekly_Level1*:\n",
    ">>> SELECT\n",
    "\n",
    "- #### *QCMetrics_Weekly_Level1_Sum*:\n",
    ">>> HEY\n",
    "\n",
    "### Time Interval: Monthly\n",
    "\n",
    "####\n",
    "\n",
    "### Time Interval: Yearly\n",
    "\n",
    "#### \n",
    "\n",
    "## Tables\n",
    "\n",
    "### `[table_name]`[.]`[column_name]`\n",
    "\n",
    "#### `tblProdflow`.`PfBatchID`\n",
    "\n",
    "#### `products`.`Product#`\n",
    "\n",
    "#### `tblProdflow`.`QCDate`\n",
    "\n",
    "#### `products`.`ProductLevel`"
   ]
  },
  {
   "cell_type": "code",
   "execution_count": 1,
   "metadata": {
    "ExecuteTime": {
     "end_time": "2020-02-18T20:48:57.390415Z",
     "start_time": "2020-02-18T20:48:57.379901Z"
    }
   },
   "outputs": [],
   "source": [
    "import os, sys, time\n",
    "from time import sleep\n",
    "from pathlib import Path\n",
    "from datetime import datetime"
   ]
  },
  {
   "cell_type": "code",
   "execution_count": 2,
   "metadata": {
    "ExecuteTime": {
     "end_time": "2020-02-18T20:49:20.515239Z",
     "start_time": "2020-02-18T20:49:20.512224Z"
    }
   },
   "outputs": [],
   "source": [
    "def main(): # {\n",
    "    # RE-INSTANTIATE GLOBALS\n",
    "    pass\n",
    "# }"
   ]
  },
  {
   "cell_type": "code",
   "execution_count": 3,
   "metadata": {
    "ExecuteTime": {
     "end_time": "2020-02-18T20:49:43.881360Z",
     "start_time": "2020-02-18T20:49:43.876360Z"
    }
   },
   "outputs": [],
   "source": [
    "if __name__ == \"__main__\": # {\n",
    "    # INSTANTIATE GLOBAL VARIABLES\n",
    "    in_file = \"C:/\"\n",
    "# }"
   ]
  },
  {
   "cell_type": "code",
   "execution_count": null,
   "metadata": {},
   "outputs": [],
   "source": []
  }
 ],
 "metadata": {
  "kernelspec": {
   "display_name": "Python 3",
   "language": "python",
   "name": "python3"
  },
  "language_info": {
   "codemirror_mode": {
    "name": "ipython",
    "version": 3
   },
   "file_extension": ".py",
   "mimetype": "text/x-python",
   "name": "python",
   "nbconvert_exporter": "python",
   "pygments_lexer": "ipython3",
   "version": "3.7.0"
  },
  "toc": {
   "base_numbering": 1,
   "nav_menu": {},
   "number_sections": true,
   "sideBar": true,
   "skip_h1_title": false,
   "title_cell": "Table of Contents",
   "title_sidebar": "Contents",
   "toc_cell": false,
   "toc_position": {},
   "toc_section_display": true,
   "toc_window_display": false
  },
  "varInspector": {
   "cols": {
    "lenName": 16,
    "lenType": 16,
    "lenVar": 40
   },
   "kernels_config": {
    "python": {
     "delete_cmd_postfix": "",
     "delete_cmd_prefix": "del ",
     "library": "var_list.py",
     "varRefreshCmd": "print(var_dic_list())"
    },
    "r": {
     "delete_cmd_postfix": ") ",
     "delete_cmd_prefix": "rm(",
     "library": "var_list.r",
     "varRefreshCmd": "cat(var_dic_list()) "
    }
   },
   "types_to_exclude": [
    "module",
    "function",
    "builtin_function_or_method",
    "instance",
    "_Feature"
   ],
   "window_display": false
  }
 },
 "nbformat": 4,
 "nbformat_minor": 2
}
