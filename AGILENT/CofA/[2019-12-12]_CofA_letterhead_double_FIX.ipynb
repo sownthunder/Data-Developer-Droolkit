{
 "cells": [
  {
   "cell_type": "code",
   "execution_count": 1,
   "metadata": {},
   "outputs": [],
   "source": [
    "import os, sys, time\n",
    "from time import sleep\n",
    "from datetime import datetime\n",
    "import pandas as pd\n",
    "import numpy as np\n",
    "from pandas import Series, DataFrame\n",
    "import fnmatch, logging\n",
    "from PyPDF2 import PdfFileReader, PdfFileWriter"
   ]
  },
  {
   "cell_type": "code",
   "execution_count": 2,
   "metadata": {},
   "outputs": [],
   "source": [
    "def setup_logger(): #{\n",
    "    # TRY THE FOLLOWING\n",
    "    try: #{\n",
    "        logging.basicConfig(level=logging.INFO,\n",
    "                            datefmt=\"%Y_%M_%d_%H%S%M\",\n",
    "                            format=\"%(asctime)s : %(message)s\",\n",
    "                            filemode=\"a\")\n",
    "    #}\n",
    "    except: #{\n",
    "        errorMessage = str(sys.exc_info()[0]) + \"\\n\"\n",
    "        errorMessage = errorMessage + str(sys.exc_info()[1]) + \"\\n\"\n",
    "        errorMessage = errorMessage + str(sys.exc_info()[2]) + \"\\n\"\n",
    "        exc_type, exc_obj, exc_tb = sys.exc_info()\n",
    "        fname = os.path.split(exc_tb.tb_frame.f_code.co_filename)[1]\n",
    "        print(\"TYPE : \" + str(exc_type) + \"\\n\")\n",
    "        print(\"FILE : \" + str(fname) + \"\\n\")\n",
    "        print(\"LINE-NO : \" + str(exc_tb.tb_lineno) + \"\\n\")\n",
    "        print(\"MESSAGE : \\n\" + str(errorMessage))\n",
    "    #}\n",
    "    else: #{\n",
    "        print(\"[setup_logger] SUCCESS! VERY NICE!\")\n",
    "    #}\n",
    "#}"
   ]
  },
  {
   "cell_type": "code",
   "execution_count": 3,
   "metadata": {},
   "outputs": [],
   "source": [
    "def create_watermark(input_pdf, output, watermark): #{\n",
    "    # TRY THE FOLLOWING\n",
    "    try: #{\n",
    "        watermark_obj = PdfFileReader(watermark)\n",
    "        watermark_page = watermark_obj.getPage(0)\n",
    "        \n",
    "        pdf_reader = PdfFileReader(input_pdf)\n",
    "        pdf_writer = PdfFileWriter()\n",
    "        \n",
    "        # WATERMARK ALL THE PAGES\n",
    "        for page in range(pdf_reader.getNumPages()): #{\n",
    "            page = pdf_reader.getPage(page)\n",
    "            page.mergePage(watermark_page)\n",
    "            pdf_writer.addPage(page)\n",
    "        #}\n",
    "        \n",
    "        with open(output, 'wb') as out: #{\n",
    "            pdf_writer.write(out)\n",
    "        #}\n",
    "    except: #{\n",
    "        errorMessage = str(sys.exc_info()[0]) + \"\\n\\t\\t\"\n",
    "        errorMessage = errorMessage + str(sys.exc_info()[1]) + \"\\n\\t\\t\"\n",
    "        errorMessage = errorMessage + str(sys.exc_info()[2]) + \"\\n\"\n",
    "        exc_type, exc_obj, exc_tb = sys.exc_info()\n",
    "        fname = os.path.split(exc_tb.tb_frame.f_code.co_filename)[1]\n",
    "        typeE = str(\"TYPE : \" + str(exc_type))\n",
    "        fileE = str(\"FILE : \" + str(fname))\n",
    "        lineE = str(\"LINE : \" + str(exc_tb.tb_lineno))\n",
    "        messageE = str(\"MESG : \" + \"\\n\" + str(errorMessage) + \"\\n\")\n",
    "        logging.error(\"\\n\" + typeE +\n",
    "              \"\\n\" + fileE +\n",
    "              \"\\n\" + lineE +\n",
    "              \"\\n\" + messageE)\n",
    "    #}\n",
    "    else: #{\n",
    "        print(\"[create_watermark] SUCCESS! VERY NICE!\")\n",
    "    #}\n",
    "#}"
   ]
  },
  {
   "cell_type": "code",
   "execution_count": 4,
   "metadata": {},
   "outputs": [
    {
     "data": {
      "text/plain": [
       "'\\nTakes in:\\n(1) .csv file of directory listing\\n(2) Directory to scan \\n'"
      ]
     },
     "execution_count": 4,
     "metadata": {},
     "output_type": "execute_result"
    }
   ],
   "source": [
    "\"\"\"\n",
    "Takes in:\n",
    "(1) .csv file of directory listing\n",
    "(2) Directory to scan \n",
    "\"\"\""
   ]
  },
  {
   "cell_type": "code",
   "execution_count": 5,
   "metadata": {},
   "outputs": [],
   "source": [
    "def main(): #{\n",
    "    # RE-INSTANTIATE GLOBALS\n",
    "    global in_file, in_dir\n",
    "    the_df = pd.read_csv(in_file)\n",
    "    print(the_df)\n",
    "#}"
   ]
  },
  {
   "cell_type": "code",
   "execution_count": 6,
   "metadata": {},
   "outputs": [
    {
     "name": "stdout",
     "output_type": "stream",
     "text": [
      "                 F:/APPS/CofA/051111BY-1@CH-1940.pdf\n",
      "0                F:/APPS/CofA/051111BY-1@CJ-1773.PDF\n",
      "1                F:/APPS/CofA/051111BY-2@CJ-1778.PDF\n",
      "2                F:/APPS/CofA/051117-560@CR-2285.pdf\n",
      "3                 F:/APPS/CofA/061496-1@NT054134.pdf\n",
      "4                 F:/APPS/CofA/061496-1@NT055948.pdf\n",
      "...                                              ...\n",
      "71760  J:/controlled_docs/CofA/WRK-310M@NT052146.pdf\n",
      "71761  J:/controlled_docs/CofA/WRK-310N@NT052147.pdf\n",
      "71762  J:/controlled_docs/CofA/WRK-310Q@NT052148.pdf\n",
      "71763  J:/controlled_docs/CofA/WRK-310R@NT052149.pdf\n",
      "71764  J:/controlled_docs/CofA/WRK-310S@NT052150.pdf\n",
      "\n",
      "[71765 rows x 1 columns]\n"
     ]
    }
   ],
   "source": [
    "# main boilerplate\n",
    "if __name__ == \"__main__\": #{\n",
    "    # INSTANTIATE GLOBAL VARIABLES\n",
    "    in_file = \"C:/data/inbound/COFA_PRIOR_20190325_LIST.csv\"\n",
    "    in_dir = \"G:/C of A's/#CofA with background for web/\"\n",
    "    # CALL MAIN FUNCTION\n",
    "    main()\n",
    "#}"
   ]
  }
 ],
 "metadata": {
  "kernelspec": {
   "display_name": "Python 3",
   "language": "python",
   "name": "python3"
  },
  "language_info": {
   "codemirror_mode": {
    "name": "ipython",
    "version": 3
   },
   "file_extension": ".py",
   "mimetype": "text/x-python",
   "name": "python",
   "nbconvert_exporter": "python",
   "pygments_lexer": "ipython3",
   "version": "3.7.0"
  }
 },
 "nbformat": 4,
 "nbformat_minor": 2
}
