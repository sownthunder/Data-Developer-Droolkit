{
 "cells": [
  {
   "cell_type": "code",
   "execution_count": 2,
   "metadata": {},
   "outputs": [],
   "source": [
    "import os, sys, time\n",
    "from time import sleep\n",
    "from pathlib import Path\n",
    "import pandas as pd\n",
    "import numpy as np\n",
    "from pandas import Series, DataFrame"
   ]
  },
  {
   "cell_type": "code",
   "execution_count": 5,
   "metadata": {},
   "outputs": [],
   "source": [
    "in_directory = \"F:/APPS/CofA/\""
   ]
  },
  {
   "cell_type": "code",
   "execution_count": 6,
   "metadata": {},
   "outputs": [],
   "source": [
    "list_dir = os.listdir(in_directory)"
   ]
  },
  {
   "cell_type": "code",
   "execution_count": 8,
   "metadata": {},
   "outputs": [
    {
     "data": {
      "text/plain": [
       "67125"
      ]
     },
     "execution_count": 8,
     "metadata": {},
     "output_type": "execute_result"
    }
   ],
   "source": [
    "len(list_dir)"
   ]
  },
  {
   "cell_type": "code",
   "execution_count": 1,
   "metadata": {},
   "outputs": [
    {
     "ename": "NameError",
     "evalue": "name 'os' is not defined",
     "output_type": "error",
     "traceback": [
      "\u001b[1;31m---------------------------------------------------------------------------\u001b[0m",
      "\u001b[1;31mNameError\u001b[0m                                 Traceback (most recent call last)",
      "\u001b[1;32m<ipython-input-1-3e7cd66da255>\u001b[0m in \u001b[0;36m<module>\u001b[1;34m\u001b[0m\n\u001b[0;32m      1\u001b[0m \u001b[1;31m# GET/SET ORIGINAL WORKING DIRECTORY\u001b[0m\u001b[1;33m\u001b[0m\u001b[1;33m\u001b[0m\u001b[0m\n\u001b[1;32m----> 2\u001b[1;33m \u001b[0mog_wd\u001b[0m \u001b[1;33m=\u001b[0m \u001b[0mos\u001b[0m\u001b[1;33m.\u001b[0m\u001b[0mgetcwd\u001b[0m\u001b[1;33m(\u001b[0m\u001b[1;33m)\u001b[0m\u001b[1;33m\u001b[0m\u001b[0m\n\u001b[0m",
      "\u001b[1;31mNameError\u001b[0m: name 'os' is not defined"
     ]
    }
   ],
   "source": [
    "# GET/SET ORIGINAL WORKING DIRECTORY\n",
    "og_wd = os.getcwd()"
   ]
  },
  {
   "cell_type": "code",
   "execution_count": null,
   "metadata": {},
   "outputs": [],
   "source": [
    "def create_time_idx_frame(the_directory, ignore_dir_list, file_type_list): # {\n",
    "    x = 0\n",
    "    counter = 0\n",
    "    # TRY THE FOLLOWING\n",
    "    try: # {\n",
    "        # get start time\n",
    "        time_start = pd.Timestamp.now()\n",
    "        scan_directory = Path(the_directory)\n",
    "        # BEGIN OS.WALK\n",
    "        for root, dirs, files in os.walk(scan_directory): # {\n",
    "            # FOR EACH ITEM IN IGNORE LIST...\n",
    "            for item in ignore_dir_list\n",
    "            }\n",
    "    # }\n",
    "    except: # {\n",
    "        errorMessage = str(sys.exc_info()[0]) + \"\\n\\t\\t\"\n",
    "        errorMessage = errorMessage + str(sys.exc_info()[1]) + \"\\n\\t\\t\"\n",
    "        errorMessage = errorMessage + str(sys.exc_info()[2]) + \"\\n\"\n",
    "        exc_type, exc_obj, exc_tb = sys.exc_info()\n",
    "        fname = os.path.split(exc_tb.tb_frame.f_code.co_filename)[1]\n",
    "        typeE = str(\"TYPE : \" + str(exc_type))\n",
    "        fileE = str(\"FILE : \" + str(fname))\n",
    "        lineE = str(\"LINE : \" + str(exc_tb.tb_lineno))\n",
    "        messageE = str(\"MESG : \" + \"\\n\" + str(errorMessage) + \"\\n\")\n",
    "        logging.error(\"\\n\" + typeE +\n",
    "              \"\\n\" + fileE +\n",
    "              \"\\n\" + lineE +\n",
    "              \"\\n\" + messageE)\n",
    "    # }\n",
    "    else: # {\n",
    "        print(\"Operation Completed Successfully...\")\n",
    "        time_end = pd.Timestamp.now()\n",
    "        run_time = time_end - time_start\n",
    "        print(\"run-time:\\t\" + str(run_time))\n",
    "    # }\n",
    "# }"
   ]
  }
 ],
 "metadata": {
  "kernelspec": {
   "display_name": "Python 3",
   "language": "python",
   "name": "python3"
  },
  "language_info": {
   "codemirror_mode": {
    "name": "ipython",
    "version": 3
   },
   "file_extension": ".py",
   "mimetype": "text/x-python",
   "name": "python",
   "nbconvert_exporter": "python",
   "pygments_lexer": "ipython3",
   "version": "3.7.0"
  }
 },
 "nbformat": 4,
 "nbformat_minor": 4
}
