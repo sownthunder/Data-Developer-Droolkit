{
 "cells": [
  {
   "cell_type": "markdown",
   "metadata": {},
   "source": [
    "## [fnmatch](https://code-examples.net/en/docs/python~3.7/library/fnmatch)"
   ]
  },
  {
   "cell_type": "code",
   "execution_count": 1,
   "metadata": {
    "ExecuteTime": {
     "end_time": "2020-01-27T18:59:05.635035Z",
     "start_time": "2020-01-27T18:59:05.631029Z"
    }
   },
   "outputs": [],
   "source": [
    "import os, sys, time\n",
    "from time import sleep\n",
    "from pathlib import Path\n",
    "import fnmatch, re"
   ]
  },
  {
   "cell_type": "markdown",
   "metadata": {},
   "source": [
    "---\n",
    "## *REGEX STRINGS:*"
   ]
  },
  {
   "cell_type": "markdown",
   "metadata": {},
   "source": [
    "## F:/APPS/CofA/"
   ]
  },
  {
   "cell_type": "code",
   "execution_count": 2,
   "metadata": {
    "ExecuteTime": {
     "end_time": "2020-01-27T18:59:07.064100Z",
     "start_time": "2020-01-27T18:59:07.055104Z"
    }
   },
   "outputs": [
    {
     "data": {
      "text/plain": [
       "'(?s:.*[@].*\\\\.pdf)\\\\Z'"
      ]
     },
     "execution_count": 2,
     "metadata": {},
     "output_type": "execute_result"
    }
   ],
   "source": [
    "f_drive = \"*[@]*.pdf\"\n",
    "fnmatch.translate(f_drive)"
   ]
  },
  {
   "cell_type": "code",
   "execution_count": 4,
   "metadata": {
    "ExecuteTime": {
     "end_time": "2020-01-27T19:00:02.500985Z",
     "start_time": "2020-01-27T18:59:46.580057Z"
    }
   },
   "outputs": [
    {
     "name": "stdout",
     "output_type": "stream",
     "text": [
      "enter F_DRIVE:\t1254TKCE-3928.pdf\n",
      "\tFALSE! (F_DRIVE)\n",
      "enter F_DRIVE:\t1254TK@CE-3928.pd\n",
      "\tFALSE! (F_DRIVE)\n",
      "enter F_DRIVE:\t1254TK@CE-3928243253.pdf\n",
      "\t\tTRUE! (F_DRIVE)\n"
     ]
    }
   ],
   "source": [
    "# INFINITE LOOP\n",
    "while 1: # {\n",
    "    test_regex = input(\"enter F_DRIVE:\\t\")\n",
    "    # TEST INPUT AGAINST REGEX\n",
    "    if fnmatch.fnmatch(test_regex, str(f_drive)): # {\n",
    "        print(\"\\t\\tTRUE! (F_DRIVE)\")\n",
    "        break\n",
    "    # }\n",
    "    elif fnmatch.fnmatch(test_regex, str('')): # {\n",
    "        print(\"\\t\\tALSO TRUE! (empty F_DRIVE?)\")\n",
    "        break;\n",
    "    # }\n",
    "    else: # {\n",
    "        print(\"\\tFALSE! (F_DRIVE)\")\n",
    "    # }\n",
    "#}"
   ]
  },
  {
   "cell_type": "markdown",
   "metadata": {},
   "source": [
    "---\n",
    "\n",
    "## G:/C of A's/Agilent/"
   ]
  },
  {
   "cell_type": "code",
   "execution_count": 12,
   "metadata": {
    "ExecuteTime": {
     "end_time": "2020-01-27T19:01:57.416696Z",
     "start_time": "2020-01-27T19:01:57.410724Z"
    }
   },
   "outputs": [
    {
     "data": {
      "text/plain": [
       "'(?s:[part].*[CofA].*[Lot].*[#].*\\\\.pdf)\\\\Z'"
      ]
     },
     "execution_count": 12,
     "metadata": {},
     "output_type": "execute_result"
    }
   ],
   "source": [
    "g_drive = \"[part]*[CofA]*[Lot]*[#]*.pdf\"\n",
    "fnmatch.translate(g_drive)"
   ]
  },
  {
   "cell_type": "code",
   "execution_count": 13,
   "metadata": {
    "ExecuteTime": {
     "end_time": "2020-01-27T19:02:04.426556Z",
     "start_time": "2020-01-27T19:01:57.949717Z"
    }
   },
   "outputs": [
    {
     "name": "stdout",
     "output_type": "stream",
     "text": [
      "enter G_DRIVE:\n",
      "part G2421-60001 CofA Lot CT-1139.pdf\n",
      "\tFALSE! (G_DRIVE)\n",
      "enter G_DRIVE:\n",
      "part G2421-60001 CofA Lot # CT-1139.pdf\n",
      "\tTRUE (G_DRIVE)\n"
     ]
    }
   ],
   "source": [
    "# INFINITE LOOP\n",
    "while 1: # {\n",
    "    test_regex = input(\"enter G_DRIVE:\\n\")\n",
    "    # TEST INPUT AGAINST REGEX\n",
    "    if fnmatch.fnmatch(test_regex, str(g_drive)): # {\n",
    "        print(\"\\tTRUE (G_DRIVE)\")\n",
    "        break\n",
    "    # }\n",
    "    else: # {\n",
    "        print(\"\\tFALSE! (G_DRIVE)\")\n",
    "    # }\n",
    "# }"
   ]
  },
  {
   "cell_type": "code",
   "execution_count": null,
   "metadata": {},
   "outputs": [],
   "source": []
  }
 ],
 "metadata": {
  "kernelspec": {
   "display_name": "Python 3",
   "language": "python",
   "name": "python3"
  },
  "language_info": {
   "codemirror_mode": {
    "name": "ipython",
    "version": 3
   },
   "file_extension": ".py",
   "mimetype": "text/x-python",
   "name": "python",
   "nbconvert_exporter": "python",
   "pygments_lexer": "ipython3",
   "version": "3.7.0"
  },
  "toc": {
   "base_numbering": 1,
   "nav_menu": {},
   "number_sections": true,
   "sideBar": true,
   "skip_h1_title": false,
   "title_cell": "Table of Contents",
   "title_sidebar": "Contents",
   "toc_cell": false,
   "toc_position": {},
   "toc_section_display": true,
   "toc_window_display": false
  },
  "varInspector": {
   "cols": {
    "lenName": 16,
    "lenType": 16,
    "lenVar": 40
   },
   "kernels_config": {
    "python": {
     "delete_cmd_postfix": "",
     "delete_cmd_prefix": "del ",
     "library": "var_list.py",
     "varRefreshCmd": "print(var_dic_list())"
    },
    "r": {
     "delete_cmd_postfix": ") ",
     "delete_cmd_prefix": "rm(",
     "library": "var_list.r",
     "varRefreshCmd": "cat(var_dic_list()) "
    }
   },
   "types_to_exclude": [
    "module",
    "function",
    "builtin_function_or_method",
    "instance",
    "_Feature"
   ],
   "window_display": false
  }
 },
 "nbformat": 4,
 "nbformat_minor": 2
}
