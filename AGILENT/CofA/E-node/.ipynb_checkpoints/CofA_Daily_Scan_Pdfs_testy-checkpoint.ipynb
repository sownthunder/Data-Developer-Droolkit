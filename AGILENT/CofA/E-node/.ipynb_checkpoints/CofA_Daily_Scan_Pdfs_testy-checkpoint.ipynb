{
 "cells": [
  {
   "cell_type": "markdown",
   "metadata": {},
   "source": [
    "## *copies code from:* \n",
    "\n",
    "## `CofA_email_node_catchup.ipynb`\n",
    "\n",
    "### [click here](http://localhost:8888/notebooks/OneDrive%20-%20Agilent%20Technologies/Documents/_staging/Data-Developer-Droolkit/AGILENT/%5B2020_01_23%5D_CofA_Email_Node_catchup_date_CHECK.ipynb)\n",
    "\n",
    "## *and:*\n",
    "\n",
    "## `CofA_G_DRIVE_File_Convention_Check`\n",
    "\n",
    "### [click here](http://localhost:8888/notebooks/OneDrive%20-%20Agilent%20Technologies/Documents/_staging/Data-Developer-Droolkit/AGILENT/CofA/%5B2020_01_10%5D_CofA_G_DRIVE_file_convention_check.ipynb)\n",
    "\n",
    "---\n",
    "\n",
    "1) gets current date via `pandas.Timestamp.now()`\n",
    "\n",
    "2) creates date range of `2 days before` to `yesterday`\n",
    "\n",
    "3) scans the `date-modified` of files in the `directories`\n",
    "\n",
    "4) returns **ONLY** the files created in above date-range\n",
    "\n",
    "5) copies/watermarks/moves all files to `G:/C of A's/#Email Node/` **AND** `temp folder`\n",
    "\n",
    "6) creates listing in .csv with `filename` and `timestamp` and .zip of files in temp folder\n",
    "\n",
    "7) then sends both .csv & .zip files to `agilent_cofa@agilent.com` and CC myself\n",
    "\n",
    "---"
   ]
  },
  {
   "cell_type": "code",
   "execution_count": 1,
   "metadata": {},
   "outputs": [],
   "source": [
    "import os, sys, time\n",
    "from time import sleep\n",
    "from pathlib import Path\n",
    "import pandas as pd\n",
    "import numpy as np\n",
    "from pandas import Series, DataFrame"
   ]
  },
  {
   "cell_type": "code",
   "execution_count": 2,
   "metadata": {},
   "outputs": [],
   "source": [
    "def main(): # {\n",
    "    # RE-INSTANTIATE GLOBALS\n",
    "    global in_directory_1, in_directory_2\n",
    "# }"
   ]
  },
  {
   "cell_type": "code",
   "execution_count": null,
   "metadata": {},
   "outputs": [],
   "source": [
    "if __name__ == \"__main__\": # {\n",
    "    # INSTANTE GLOBAL VARIABLES\n",
    "    in_directory_1 = \"F:/APPS/CofA/\"\n",
    "    in_directory_2 = \"G:/C of A's/Agilent/\"\n",
    "# }"
   ]
  }
 ],
 "metadata": {
  "kernelspec": {
   "display_name": "Python 3",
   "language": "python",
   "name": "python3"
  },
  "language_info": {
   "codemirror_mode": {
    "name": "ipython",
    "version": 3
   },
   "file_extension": ".py",
   "mimetype": "text/x-python",
   "name": "python",
   "nbconvert_exporter": "python",
   "pygments_lexer": "ipython3",
   "version": "3.7.0"
  }
 },
 "nbformat": 4,
 "nbformat_minor": 2
}
