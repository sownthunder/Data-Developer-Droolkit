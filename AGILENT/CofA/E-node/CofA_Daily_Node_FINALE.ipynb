{
 "cells": [
  {
   "cell_type": "markdown",
   "metadata": {},
   "source": [
    "REPLACES *CofA_Nightly_Node_FINALE.py*\n",
    "\n",
    "---"
   ]
  },
  {
   "cell_type": "markdown",
   "metadata": {},
   "source": [
    "## *copies code from:* \n",
    "\n",
    "## `CofA_email_node_catchup.ipynb`\n",
    "\n",
    "### [click here](http://localhost:8888/notebooks/OneDrive%20-%20Agilent%20Technologies/Documents/_staging/Data-Developer-Droolkit/AGILENT/%5B2020_01_23%5D_CofA_Email_Node_catchup_date_CHECK.ipynb)\n",
    "\n",
    "## *and:*\n",
    "\n",
    "## `CofA_G_DRIVE_File_Convention_Check`\n",
    "\n",
    "### [click here](http://localhost:8888/notebooks/OneDrive%20-%20Agilent%20Technologies/Documents/_staging/Data-Developer-Droolkit/AGILENT/CofA/%5B2020_01_10%5D_CofA_G_DRIVE_file_convention_check.ipynb)\n",
    "\n",
    "---\n",
    "\n",
    "~~1) gets current date via `pandas.Timestamp.now()` (will be at `5 am every morning`)~~\n",
    "\n",
    "~~2) creates date range of `yesterday mornging at 00:00:00` to `current morning at 00:00:00`~~\n",
    "\n",
    "3) `a)` attempts to read PDF file and determine `created date`\n",
    "\n",
    "**OTHERWISE:**\n",
    "\n",
    "3) `b)` scans the `date-modified` of files in the `directories`\n",
    "\n",
    "4) returns **ONLY** the files created in above date-range\n",
    "\n",
    "5) copies/watermarks/moves all files to `G:/C of A's/#Email Node/` **AND** `temp folder`\n",
    "\n",
    "6) creates listing in .csv with `filename` and `timestamp` and .zip of files in temp folder\n",
    "\n",
    "7) then sends both .csv & .zip files to `agilent_cofa@agilent.com` and CC myself\n",
    "\n",
    "---"
   ]
  },
  {
   "cell_type": "code",
   "execution_count": 3,
   "metadata": {
    "ExecuteTime": {
     "end_time": "2020-01-29T22:06:35.086558Z",
     "start_time": "2020-01-29T22:06:35.082559Z"
    }
   },
   "outputs": [],
   "source": [
    "import os, sys, time\n",
    "from time import sleep\n",
    "from pathlib import Path\n",
    "import fnmatch, glob, shutil"
   ]
  },
  {
   "cell_type": "code",
   "execution_count": 2,
   "metadata": {
    "ExecuteTime": {
     "end_time": "2020-01-29T22:06:33.961406Z",
     "start_time": "2020-01-29T22:06:33.219740Z"
    }
   },
   "outputs": [],
   "source": [
    "import pandas as pd\n",
    "import numpy as np\n",
    "from pandas import Series, DataFrame"
   ]
  },
  {
   "cell_type": "code",
   "execution_count": 4,
   "metadata": {
    "ExecuteTime": {
     "end_time": "2020-01-29T22:06:36.476209Z",
     "start_time": "2020-01-29T22:06:36.452184Z"
    }
   },
   "outputs": [],
   "source": [
    "import logging\n",
    "import tempfile, subprocess\n",
    "from PyPDF2 import PdfFileReader, PdfFileWriter\n",
    "from zipfile import ZipFile\n",
    "import email, smtplib, ssl\n",
    "import os.path as op\n",
    "from email import encoders\n",
    "from email.mime.base import MIMEBase\n",
    "from email.mime.multipart import MIMEMultipart\n",
    "from email.mime.text import MIMEText\n",
    "from email.utils import COMMASPACE, formatdate"
   ]
  },
  {
   "cell_type": "code",
   "execution_count": 4,
   "metadata": {
    "ExecuteTime": {
     "end_time": "2020-01-28T15:47:44.153283Z",
     "start_time": "2020-01-28T15:47:44.137285Z"
    }
   },
   "outputs": [],
   "source": [
    "def setup_logger(): # {\n",
    "    # TRY THE FOLLOWING\n",
    "    try: # {\n",
    "        logging.basicConfig(level=logging.INFO,\n",
    "                           format='%(asctime)s: %(message)s, FROM=%(funcName)s, LINENO=%(lineno)d',\n",
    "                           datefmt='%Y-%m-%d-%H%M%S',\n",
    "                           filemode='a')\n",
    "    # }\n",
    "    except: #{ \n",
    "        errorMessage = str(sys.exc_info()[0]) + \"\\n\"\n",
    "        errorMessage = errorMessage + str(sys.exc_info()[1]) + \"\\n\"\n",
    "        errorMessage = errorMessage + str(sys.exc_info()[2]) + \"\\n\"\n",
    "        exc_type, exc_obj, exc_tb = sys.exc_info()\n",
    "        fname = os.path.split(exc_tb.tb_frame.f_code.co_filename)[1]\n",
    "        typeE = str(\"TYPE : \" + str(exc_type))\n",
    "        fileE = str(\"FILE : \" + str(fname))\n",
    "        lineE = str(\"LINE : \" + str(exc_tb.tb_lineno))\n",
    "        messageE = str(\"MESG : \" + \"\\n\" + str(errorMessage))\n",
    "        print(\"\\n\" + typeE +\n",
    "              \"\\n\" + fileE +\n",
    "              \"\\n\" + lineE +\n",
    "              \"\\n\" + messageE)\n",
    "    # }\n",
    "    else: # {\n",
    "        logging.info(\"Operation Completed Successfully...\")\n",
    "    # }\n",
    "# }"
   ]
  },
  {
   "cell_type": "code",
   "execution_count": 5,
   "metadata": {
    "ExecuteTime": {
     "end_time": "2020-01-28T15:47:44.172286Z",
     "start_time": "2020-01-28T15:47:44.156286Z"
    }
   },
   "outputs": [],
   "source": [
    "\"\"\"\n",
    "TAKES IN:\n",
    "(1) file_path to file\n",
    "RETURNS:\n",
    "The create time or modified time, whichever is older\n",
    "\"\"\"\n",
    "def pull_creation_timestamp(a_file_path): # {\n",
    "    # TRY THE FOLLOWING:\n",
    "    try: #{\n",
    "        # FORCE PATH VARIABLE\n",
    "        the_path = Path(a_file_path)\n",
    "        # GET MODIFIED TIME\n",
    "        mtime = os.path.getmtime(the_path)\n",
    "        # GET CREATE TIME\n",
    "        ctime = os.path.getctime(the_path)\n",
    "        # CREATE DATE VAR\n",
    "        # IF CREATE TIME IS OLDER...\n",
    "        if ctime < mtime:  # {\n",
    "            # FORMAT DATE VAR as str\n",
    "            date_time = datetime.fromtimestamp(ctime)\n",
    "        # }\n",
    "        # ELSE.... MODIFIED TIME IS OLDER...\n",
    "        else:  # {\n",
    "            # FORMAT DATE VAR as str\n",
    "            date_time = datetime.fromtimestamp(mtime)\n",
    "        # }\n",
    "    #}\n",
    "    except: #{\n",
    "        errorMessage = str(sys.exc_info()[0]) + \"\\n\\t\\t\"\n",
    "        errorMessage = errorMessage + str(sys.exc_info()[1]) + \"\\n\\t\\t\"\n",
    "        errorMessage = errorMessage + str(sys.exc_info()[2]) + \"\\n\"\n",
    "        exc_type, exc_obj, exc_tb = sys.exc_info()\n",
    "        fname = os.path.split(exc_tb.tb_frame.f_code.co_filename)[1]\n",
    "        typeE = str(\"TYPE : \" + str(exc_type))\n",
    "        fileE = str(\"FILE : \" + str(fname))\n",
    "        lineE = str(\"LINE : \" + str(exc_tb.tb_lineno))\n",
    "        messageE = str(\"MESG : \" + \"\\n\" + str(errorMessage) + \"\\n\")\n",
    "        logging.error(\"\\n\" + typeE +\n",
    "              \"\\n\" + fileE +\n",
    "              \"\\n\" + lineE +\n",
    "              \"\\n\" + messageE)\n",
    "    #}\n",
    "    else:  # {\n",
    "        logging.info(\"SUCCESS! VERY NICE!\")\n",
    "        # RETURN THE DATE WE PULLED AS STRING\n",
    "        return date_time\n",
    "    #}\n",
    "    finally:  # {\n",
    "        logging.info(\"[pull_creation_timestamp] FIN...\")\n",
    "    #}\n",
    "# }"
   ]
  },
  {
   "cell_type": "code",
   "execution_count": 6,
   "metadata": {
    "ExecuteTime": {
     "end_time": "2020-01-28T15:47:44.204286Z",
     "start_time": "2020-01-28T15:47:44.176285Z"
    },
    "code_folding": []
   },
   "outputs": [],
   "source": [
    "\"\"\"\n",
    "TAKES IN: \n",
    "(1) path to pdf\n",
    "RETURNS:\n",
    "The STRING of that PDF to match naming convention SWITCH\n",
    "IE:\n",
    "\n",
    "F:/APPS/CofA/ >>> G:/C of A's/Agilent/ \n",
    "\n",
    "G:/C of A's/Agilent/ >>> F:/APPS/CofA/\n",
    "\"\"\"\n",
    "def generate_naming_convention(the_pdf_path): # {\n",
    "    ##########################\n",
    "    # RE-INSTANTIATE GLOBALS #\n",
    "    global f_drive_convention, g_drive_convention\n",
    "    logging.info(\"\\n\\tthe_pdf_path == \" + str(the_pdf_path))\n",
    "    # TRY THE FOLLOWING\n",
    "    try: # {\n",
    "        # GET / SET FILENAME TO VARIABLE\n",
    "        the_file_name = str(os.path.basename(the_pdf_path))\n",
    "        # GET /SET DIRNAME to VARIABLE\n",
    "        the_dir_name = os.path.dirname(the_pdf_path)\n",
    "        # CHECK FILE NAME CONVENTION (F_DRIVE?)\n",
    "        if fnmatch.fnmatch(the_file_name, f_drive_convention): # {\n",
    "            # MATCHES F_DRIVE FILE NAME CONVENTION... \"xxxx@xxxx.pdf\"\n",
    "            idx_mrk = the_file_name.rfind('@', 0, len(the_file_name))\n",
    "            half1 = str(the_file_name[0:idx_mrk])\n",
    "            half2 = str(the_file_name[idx_mrk + 1:len(the_file_name)])\n",
    "            print(\"\\n\\tHALF 1 == \" + half1)\n",
    "            print(len(half1))\n",
    "            print(\"\\n\\tHALF 2 == \" + half2)\n",
    "            print(len(half2))\n",
    "            # SETUP NEW FILE NAME (for copy)\n",
    "            new_name = \"part \"\n",
    "            new_name += str(half1)\n",
    "            new_name += \" CofA Lot# \"\n",
    "            new_name += str(half2)\n",
    "            print(\"\\n\\tNEW NAME == \" + str(new_name))\n",
    "        # }\n",
    "        # ELSE IF... IT MATCHES OTHER NAMING CONVENTION\n",
    "        elif fnmatch.fnmatch(the_file_name, g_drive_convention): # {\n",
    "            # MATCHES G_DRIVE FILE NAME CONVENTION... \"part xxxx CofA Lot # xxx.pdf\"\n",
    "            idx_mrk = the_file_name.rfind('Lot', 0, len(the_file_name))\n",
    "            half1 = str(the_file_name[5:idx_mrk-6])\n",
    "            half2 = str(the_file_name[idx_mrk + 6:len(the_file_name)])\n",
    "            print(\"\\n\\tHALF 1 == '\" + half1 + \"'\")\n",
    "            print(len(half1))\n",
    "            print(\"\\n\\tHALF 2 == '\" + half2 + \"'\")\n",
    "            print(len(half2))\n",
    "            # SETUP NEW FILE NAME (for copy)\n",
    "            new_name = str(half1)\n",
    "            new_name += \"@\"\n",
    "            new_name += str(half2)\n",
    "            # REMOVE WHITESPACE FROM STR\n",
    "            new_name = new_name.rstrip('')\n",
    "            print(\"\\n\\tNEW NAME == \" + str(new_name))\n",
    "        # }\n",
    "    # }\n",
    "    except: # {\n",
    "        errorMessage = str(sys.exc_info()[0]) + \"\\n\\t\\t\"\n",
    "        errorMessage = errorMessage + str(sys.exc_info()[1]) + \"\\n\\t\\t\"\n",
    "        errorMessage = errorMessage + str(sys.exc_info()[2]) + \"\\n\"\n",
    "        exc_type, exc_obj, exc_tb = sys.exc_info()\n",
    "        fname = os.path.split(exc_tb.tb_frame.f_code.co_filename)[1]\n",
    "        typeE = str(\"TYPE : \" + str(exc_type))\n",
    "        fileE = str(\"FILE : \" + str(fname))\n",
    "        lineE = str(\"LINE : \" + str(exc_tb.tb_lineno))\n",
    "        messageE = str(\"MESG : \" + \"\\n\" + str(errorMessage) + \"\\n\")\n",
    "        logging.error(\"\\n\" + typeE +\n",
    "              \"\\n\" + fileE +\n",
    "              \"\\n\" + lineE +\n",
    "              \"\\n\" + messageE)\n",
    "    # }\n",
    "    else: # {\n",
    "        print(\"\\t\\t'\" + str(new_name) + \"'\")\n",
    "        print(\"\\n\\tLENGTH OF == \" + str(len(new_name)))\n",
    "    # }\n",
    "# }"
   ]
  },
  {
   "cell_type": "code",
   "execution_count": 7,
   "metadata": {
    "ExecuteTime": {
     "end_time": "2020-01-28T15:47:44.214286Z",
     "start_time": "2020-01-28T15:47:44.206286Z"
    },
    "code_folding": []
   },
   "outputs": [],
   "source": [
    "f_drive_convention = \"*[@]*.pdf\" # REGEX for F_DRIVE\n",
    "g_drive_convention = \"[part]*[CofA]*[Lot]*[#]*.pdf\" # REGEX for G_DRIVE"
   ]
  },
  {
   "cell_type": "code",
   "execution_count": 8,
   "metadata": {
    "ExecuteTime": {
     "end_time": "2020-01-28T15:47:44.231286Z",
     "start_time": "2020-01-28T15:47:44.219290Z"
    },
    "code_folding": []
   },
   "outputs": [
    {
     "name": "stdout",
     "output_type": "stream",
     "text": [
      "\n",
      "\tHALF 1 == '5190-6901'\n",
      "9\n",
      "\n",
      "\tHALF 2 == 'CT-0676.pdf'\n",
      "11\n",
      "\n",
      "\tNEW NAME == 5190-6901@CT-0676.pdf\n",
      "\t\t'5190-6901@CT-0676.pdf'\n",
      "\n",
      "\tLENGTH OF == 21\n"
     ]
    }
   ],
   "source": [
    "generate_naming_convention(\n",
    "    the_pdf_path=\"G:/C of A's/Agilent/5190-6901/part 5190-6901 CofA Lot # CT-0676.pdf\"\n",
    ")"
   ]
  },
  {
   "cell_type": "code",
   "execution_count": 9,
   "metadata": {
    "ExecuteTime": {
     "end_time": "2020-01-28T15:47:44.247286Z",
     "start_time": "2020-01-28T15:47:44.235287Z"
    }
   },
   "outputs": [
    {
     "name": "stdout",
     "output_type": "stream",
     "text": [
      "\n",
      "\tHALF 1 == 625-MA-1\n",
      "8\n",
      "\n",
      "\tHALF 2 == 0006502723.pdf\n",
      "14\n",
      "\n",
      "\tNEW NAME == part 625-MA-1 CofA Lot# 0006502723.pdf\n",
      "\t\t'part 625-MA-1 CofA Lot# 0006502723.pdf'\n",
      "\n",
      "\tLENGTH OF == 38\n"
     ]
    }
   ],
   "source": [
    "generate_naming_convention(\n",
    "    the_pdf_path=\"F:/APPS/CofA/625-MA-1@0006502723.pdf\"\n",
    ")"
   ]
  },
  {
   "cell_type": "code",
   "execution_count": 10,
   "metadata": {
    "ExecuteTime": {
     "end_time": "2020-01-28T15:47:44.265286Z",
     "start_time": "2020-01-28T15:47:44.251288Z"
    }
   },
   "outputs": [],
   "source": [
    "def create_watermark(input_pdf, output, watermark): # {\n",
    "    # TRY THE FOLLOWING\n",
    "    try:  # {\n",
    "        watermark_obj = PdfFileReader(watermark)\n",
    "        watermark_page = watermark_obj.getPage(0)\n",
    "\n",
    "        pdf_reader = PdfFileReader(input_pdf)\n",
    "        pdf_writer = PdfFileWriter()\n",
    "\n",
    "        # Watermark all the pages\n",
    "        for page in range(pdf_reader.getNumPages()):  # {\n",
    "            page = pdf_reader.getPage(page)\n",
    "            page.mergePage(watermark_page)\n",
    "            pdf_writer.addPage(page)\n",
    "        # }\n",
    "\n",
    "        with open(output, 'wb') as out:  # {\n",
    "            pdf_writer.write(out)\n",
    "        # }\n",
    "    # }\n",
    "    except: # {\n",
    "        errorMessage = str(sys.exc_info()[0]) + \"\\n\\t\\t\"\n",
    "        errorMessage = errorMessage + str(sys.exc_info()[1]) + \"\\n\\t\\t\"\n",
    "        errorMessage = errorMessage + str(sys.exc_info()[2]) + \"\\n\"\n",
    "        exc_type, exc_obj, exc_tb = sys.exc_info()\n",
    "        fname = os.path.split(exc_tb.tb_frame.f_code.co_filename)[1]\n",
    "        typeE = str(\"TYPE : \" + str(exc_type))\n",
    "        fileE = str(\"FILE : \" + str(fname))\n",
    "        lineE = str(\"LINE : \" + str(exc_tb.tb_lineno))\n",
    "        messageE = str(\"MESG : \" + \"\\n\" + str(errorMessage) + \"\\n\")\n",
    "        logging.error(\"\\n\" + typeE +\n",
    "              \"\\n\" + fileE +\n",
    "              \"\\n\" + lineE +\n",
    "              \"\\n\" + messageE)\n",
    "        # }\n",
    "    else: # {\n",
    "        logging.info(\"\\t\\t[watermark-pdf] FIN...\")\n",
    "    # }\n",
    "    finally: # {\n",
    "        # CREATE END-TIME VAR\n",
    "        time_end = pd.Timestamp.now()\n",
    "        # DETERMINE OVERALL RUN-TIME\n",
    "        run_time = pd.Timedelta(time_end - time_start)\n",
    "        # PRINT TOTAL RUNTIME\n",
    "        logging.info(\"\\t\\t[watermark-pdf] >>> time_alloted: \" + str(run_time))\n",
    "    # }\n",
    "    return\n",
    "# }"
   ]
  },
  {
   "cell_type": "code",
   "execution_count": 11,
   "metadata": {
    "ExecuteTime": {
     "end_time": "2020-01-28T15:47:44.284289Z",
     "start_time": "2020-01-28T15:47:44.269288Z"
    }
   },
   "outputs": [],
   "source": [
    "def get_all_file_paths(directory): # {\n",
    "    # TRY THE FOLLOWING\n",
    "    try: # {\n",
    "        # initializing empty file paths list\n",
    "        file_paths = []\n",
    "        \n",
    "        # crawling through directory and subdirectories\n",
    "        for root, directories, files in os.walk(directory):  # {\n",
    "            for filename in files:  # {\n",
    "                # join the two strings in order to form the full filepath.\n",
    "                filepath = os.path.join(root, filename)\n",
    "                file_paths.append(filepath)\n",
    "            # }\n",
    "        # }\n",
    "        \n",
    "        # returning all file paths\n",
    "        return file_paths\n",
    "    # }\n",
    "    except: # {\n",
    "        errorMessage = str(sys.exc_info()[0]) + \"\\n\\t\\t\"\n",
    "        errorMessage = errorMessage + str(sys.exc_info()[1]) + \"\\n\\t\\t\"\n",
    "        errorMessage = errorMessage + str(sys.exc_info()[2]) + \"\\n\"\n",
    "        exc_type, exc_obj, exc_tb = sys.exc_info()\n",
    "        fname = os.path.split(exc_tb.tb_frame.f_code.co_filename)[1]\n",
    "        typeE = str(\"TYPE : \" + str(exc_type))\n",
    "        fileE = str(\"FILE : \" + str(fname))\n",
    "        lineE = str(\"LINE : \" + str(exc_tb.tb_lineno))\n",
    "        messageE = str(\"MESG : \" + \"\\n\" + str(errorMessage) + \"\\n\")\n",
    "        logging.error(\"\\n\" + typeE +\n",
    "              \"\\n\" + fileE +\n",
    "              \"\\n\" + lineE +\n",
    "              \"\\n\" + messageE)\n",
    "    # }\n",
    "    else: # {\n",
    "        logging.info(\"Operation Completed Successfully...\")\n",
    "    # }\n",
    "# }"
   ]
  },
  {
   "cell_type": "code",
   "execution_count": 12,
   "metadata": {
    "ExecuteTime": {
     "end_time": "2020-01-28T15:47:44.304289Z",
     "start_time": "2020-01-28T15:47:44.286288Z"
    }
   },
   "outputs": [],
   "source": [
    "def zip_the_directory(directory_to_zip): # {\n",
    "    ##########################\n",
    "    # RE-INSTANTIATE GLOBALS #\n",
    "    global og_wd\n",
    "    # TRY THE FOLLOWING\n",
    "    try: # {\n",
    "        logging.info(\"\\n\\tWORKING DIRECTORY ---BEFORE--- ZIP == \" + str(og_wd))\n",
    "        # CHANGE WORKING DIRECTORY TO DIRECTORY WE WISH TO ZIP\n",
    "        os.chdir(directory_to_zip)\n",
    "        # path to folder (NOW currently folder we are in/ want to zip)\n",
    "        directory = \".\"\n",
    "        logging.info(\"\\n\\tWORKING DIRECTORY ---DURING--- ZIP == \" + str(os.getcwd()))\n",
    "        # calling function to get all file paths in the directory\n",
    "        file_paths = get_all_file_paths(directory)\n",
    "        # printing the list of all files to be zipped\n",
    "        logging.info(\"\\nFollowing files will be zipped:\")\n",
    "        for file_name in file_paths: # {\n",
    "            logging.info(file_name)\n",
    "        # }\n",
    "        # writing files to a zipfile\n",
    "        with ZipFile('CofA-'\n",
    "                    + str(pd.Timestamp.now())[:10]\n",
    "                    + \".zip\",'w') as zip: # {\n",
    "            # writing each file one by one\n",
    "            for file in file_paths: # {\n",
    "                zip.write(file)\n",
    "            # }\n",
    "        # }\n",
    "        logging.info(\"ALL FILES ZIPPED SUCCESSFULLY!\")\n",
    "    # }\n",
    "    except: # {\n",
    "        errorMessage = str(sys.exc_info()[0]) + \"\\n\\t\\t\"\n",
    "        errorMessage = errorMessage + str(sys.exc_info()[1]) + \"\\n\\t\\t\"\n",
    "        errorMessage = errorMessage + str(sys.exc_info()[2]) + \"\\n\"\n",
    "        exc_type, exc_obj, exc_tb = sys.exc_info()\n",
    "        fname = os.path.split(exc_tb.tb_frame.f_code.co_filename)[1]\n",
    "        typeE = str(\"TYPE : \" + str(exc_type))\n",
    "        fileE = str(\"FILE : \" + str(fname))\n",
    "        lineE = str(\"LINE : \" + str(exc_tb.tb_lineno))\n",
    "        messageE = str(\"MESG : \" + \"\\n\" + str(errorMessage) + \"\\n\")\n",
    "        logging.error(\"\\n\" + typeE +\n",
    "                      \"\\n\" + fileE +\n",
    "                      \"\\n\" + lineE +\n",
    "                      \"\\n\" + messageE)\n",
    "    # }\n",
    "    else: # {\n",
    "        logging.info(\"Operation Completed Successfully...\")\n",
    "    # }\n",
    "# }"
   ]
  },
  {
   "cell_type": "code",
   "execution_count": 13,
   "metadata": {
    "ExecuteTime": {
     "end_time": "2020-01-28T15:47:44.326288Z",
     "start_time": "2020-01-28T15:47:44.308287Z"
    }
   },
   "outputs": [],
   "source": [
    "\"\"\"\n",
    "TAKES IN:\n",
    "(1) directory to traverse and scan thru all files\n",
    "(2) list of sub-directories to ignore within (1)\n",
    "(3) the list of file types to look for\n",
    "(4) the STARTING DATE timestamp of when files fall under\n",
    "(5) the ENDING DATE timestamp of when files fall under\n",
    "(6) the list of \n",
    "\"\"\"\n",
    "def dir_traverse(the_directory, ignore_dir_list, file_type_list, check_start, check_end): # {\n",
    "    ##########################\n",
    "    # RE-INSTANTIATE GLOBALS #\n",
    "    global file_list_f, time_list_f\n",
    "    global file_list_g, time_list_g\n",
    "    # TRY THE FOLLOWING\n",
    "    try: # {\n",
    "        logging.info(\"\\nTS_LIST_F:\\t\" + str(file_list_f))\n",
    "        # COUNTER\n",
    "        x = 0 # number of PDFs matched\n",
    "        count = 0 # total number of files\n",
    "        # SETUP VARIABLES\n",
    "        scan_directory = Path(the_directory)\n",
    "        # BEGIN OS.WALK\n",
    "        for root, dirs, files in os.walk(scan_directory): # {\n",
    "            # FOR EACH ITEM IN IGNORE LIST...\n",
    "            for item in ignore_dir_list: # {\n",
    "                # IF THAT ITEM IS IN FACT IN DIRECTORY...\n",
    "                if str(item) in dirs: # {\n",
    "                    # REMOVE FROM OS.WALK\n",
    "                    dirs.remove(str(item))\n",
    "                # }\n",
    "            #}\n",
    "            # OTHERWISE IF THERE ARE FILES IN DIRECTORY\n",
    "            for f in files: # {\n",
    "                # FOR EACH ITEM IN 'file_type_list'\n",
    "                for item in file_type_list: # {\n",
    "                    # CREATE FILE_MATCH VAR\n",
    "                    file_match = str(\"*\" + item)\n",
    "                    # DO FNMATCH FOR THIS \"item\"\n",
    "                    if fnmatch.fnmatch(f, file_match): # {\n",
    "                        # <<< STR OPERATIONS >>>\n",
    "                        # ASSEMBLE!\n",
    "                        file_path = os.path.join(root, f)\n",
    "                        logging.info(\"\\n\\tFILE_PATH == \" + str(file_path))\n",
    "                        # RETURN DATETIME VAR\n",
    "                        the_date = pull_creation_timestamp(file_path)\n",
    "                        logging.info(\"\\n\\tTHE_DATE == \" + str(the_date))\n",
    "                        # CONVERT TO pandas.Timestamp\n",
    "                        timestamp = pd.Timestamp(the_date)\n",
    "                        # COMPARE TO CHECK_DATE VARIABLE\n",
    "                        check_delta = pd.Timestamp(the_date)\n",
    "                    # }\n",
    "                # }\n",
    "            # }\n",
    "        # }\n",
    "    # }\n",
    "    except: # {\n",
    "        errorMessage = str(sys.exc_info()[0]) + \"\\n\\t\\t\"\n",
    "        errorMessage = errorMessage + str(sys.exc_info()[1]) + \"\\n\\t\\t\"\n",
    "        errorMessage = errorMessage + str(sys.exc_info()[2]) + \"\\n\"\n",
    "        exc_type, exc_obj, exc_tb = sys.exc_info()\n",
    "        fname = os.path.split(exc_tb.tb_frame.f_code.co_filename)[1]\n",
    "        typeE = str(\"TYPE : \" + str(exc_type))\n",
    "        fileE = str(\"FILE : \" + str(fname))\n",
    "        lineE = str(\"LINE : \" + str(exc_tb.tb_lineno))\n",
    "        messageE = str(\"MESG : \" + \"\\n\" + str(errorMessage) + \"\\n\")\n",
    "        logging.error(\"\\n\" + typeE +\n",
    "              \"\\n\" + fileE +\n",
    "              \"\\n\" + lineE +\n",
    "              \"\\n\" + messageE)\n",
    "    # }\n",
    "    else: # {\n",
    "        pass\n",
    "    # }\n",
    "# }"
   ]
  },
  {
   "cell_type": "code",
   "execution_count": 14,
   "metadata": {
    "ExecuteTime": {
     "end_time": "2020-01-28T15:47:44.352291Z",
     "start_time": "2020-01-28T15:47:44.329290Z"
    }
   },
   "outputs": [],
   "source": [
    "def send_email(send_from, send_to, subject, message, files=[],\n",
    "              server=\"cos.smtp.agilent.com\", port=587, use_tls=True): # {\n",
    "    # TRY THE FOLLOWING\n",
    "    try: # {\n",
    "        print(\"SENDING MAIL... DATE == \" + str(pd.Timestamp.now())[:10])\n",
    "        msg = MIMEMultipart()\n",
    "        msg['From'] = send_from\n",
    "        msg['To'] = COMMASPACE.join(send_to)\n",
    "        msg['Date'] = formatdate(localtime=True)\n",
    "        msg['Subject'] = subject\n",
    "        \n",
    "        msg.attach(MIMEText(message))\n",
    "        \n",
    "        for path in files:  # {\n",
    "            part = MIMEBase('application', \"octet-stream\")\n",
    "            with open(path, 'rb') as file:  # {\n",
    "                part.set_payload(file.read())\n",
    "            # }\n",
    "            encoders.encode_base64(part)\n",
    "            part.add_header('Content-Disposition',\n",
    "                            'attachment; filename=\"{}\"'.format(op.basename(path)))\n",
    "            msg.attach(part)\n",
    "        # }\n",
    "        \n",
    "        smtp = smtplib.SMTP(server, port)\n",
    "        if use_tls:  # {\n",
    "            smtp.starttls()\n",
    "        # }\n",
    "        smtp.sendmail(send_from, send_to, msg.as_string())\n",
    "        smtp.quit()\n",
    "    # }\n",
    "    except: # {\n",
    "        errorMessage = str(sys.exc_info()[0]) + \"\\n\\t\\t\"\n",
    "        errorMessage = errorMessage + str(sys.exc_info()[1]) + \"\\n\\t\\t\"\n",
    "        errorMessage = errorMessage + str(sys.exc_info()[2]) + \"\\n\"\n",
    "        exc_type, exc_obj, exc_tb = sys.exc_info()\n",
    "        fname = os.path.split(exc_tb.tb_frame.f_code.co_filename)[1]\n",
    "        typeE = str(\"TYPE : \" + str(exc_type))\n",
    "        fileE = str(\"FILE : \" + str(fname))\n",
    "        lineE = str(\"LINE : \" + str(exc_tb.tb_lineno))\n",
    "        messageE = str(\"MESG : \" + \"\\n\" + str(errorMessage) + \"\\n\")\n",
    "        logging.error(\"\\n\" + typeE +\n",
    "              \"\\n\" + fileE +\n",
    "              \"\\n\" + lineE +\n",
    "              \"\\n\" + messageE)\n",
    "    # }\n",
    "    else: # {\n",
    "        logging.info(\"Operation Completed Successfully...\")\n",
    "    # }\n",
    "# }"
   ]
  },
  {
   "cell_type": "code",
   "execution_count": 15,
   "metadata": {
    "ExecuteTime": {
     "end_time": "2020-01-28T15:47:44.365289Z",
     "start_time": "2020-01-28T15:47:44.355292Z"
    }
   },
   "outputs": [],
   "source": [
    "def main(): # {\n",
    "    ##########################\n",
    "    # RE-INSTANTIATE GLOBALS #\n",
    "    global in_directory_1, in_directory_2, out_directory \n",
    "    global ts_now, ts_start_delta, ts_end_delta\n",
    "    global watermark, og_wd\n",
    "    ##########################\n",
    "    logging.info(\"\\n\\tTEST-TIME-NOW: \" + str(ts_now))\n",
    "    # SUBTRACT and determine \"start_time\"\n",
    "    time_start = ts_now - ts_start_delta\n",
    "    logging.info(\"\\n\\tBEGINING OF SCAN-TIME: \" + str(time_start))\n",
    "    # SUBTRACT and determine \"end_time\"\n",
    "    time_end = ts_now - ts_end_delta\n",
    "    logging.info(\"\\n\\tEND OF SCAN-TIME: \" + str(time_end))\n",
    "    # LIST OF DIRECTORIES TO IGNORE IN SCAN\n",
    "    ignore_list_f = ['Archive ERR',\n",
    "                   'Archive - For all archived CofA, see G CofA folder',\n",
    "                   'Instruction Sheets',\n",
    "                   'EXPORT ERRORS']\n",
    "    ignore_list_g = ['#Archive']\n",
    "    # [2020-01-27]\\\\file_list_f = [] # LIST TO HOLD ALL PATHS FOR FILES (F_DRIVE)\n",
    "    # [2020-01-27]\\\\file_list_g = [] # LIST TO HOLD ALL PATHS FOR FILES (G_DRIVE)\n",
    "    # [2020-01-27]\\\\ts_list_f = [] # LIST TO HOLD ALL TIMESTAMPS (F_DRIVE)\n",
    "    # [2020-01-27]\\\\ts_list_g = [] # LIST TO HOLD ALL TIMESTAMPS (G_DRIVE)\n",
    "    # SCAN FIRST DIRECTORY\n",
    "    dir_traverse(the_directory=in_directory_1,\n",
    "                 ignore_dir_list=ignore_list_f,\n",
    "                 file_type_list=[\".pdf\"],\n",
    "                 check_start=time_start,\n",
    "                 check_end=time_end\n",
    "                )\n",
    "    # SCAN SECOND DIRECTORY\n",
    "    dir_traverse(the_directory=in_directory_2,\n",
    "                ignore_dir_list=ignore_list_g,\n",
    "                 file_type_list=[\".pdf\"],\n",
    "                 check_start=time_start,\n",
    "                 check_end=time_end\n",
    "                )\n",
    "    # CREATE DATAFRAMES OF WHICH COFAS ARE NEW AND THEIR TIMESTAMPS\n",
    "    df_export_f = pd.DataFrame(data=None, columns=None, dtype=np.str)\n",
    "    # [2020-01-27]\\\\df_export_f['CofA'] = \n",
    "# }"
   ]
  },
  {
   "cell_type": "code",
   "execution_count": 16,
   "metadata": {
    "ExecuteTime": {
     "end_time": "2020-01-28T15:47:48.809251Z",
     "start_time": "2020-01-28T15:47:44.369290Z"
    }
   },
   "outputs": [],
   "source": [
    "# MAIN BOILERPLATE\n",
    "if __name__ == \"__main__\": # {\n",
    "    # SETUP LOGGER\n",
    "    setup_logger()\n",
    "    #############################\n",
    "    # INSTANTE GLOBAL VARIABLES #\n",
    "    in_directory_1 = \"F:/APPS/CofA/\"\n",
    "    in_directory_2 = \"G:/C of A's/Agilent/\"\n",
    "    out_directory = \"G:/C of A's/#Email Node/\"\n",
    "    watermark = \"C:/data/inbound/Agilent_CofA_Letterhead_03-21-19.pdf\"\n",
    "    og_wd = os.getcwd() # GET/SET ORIGINAL WORKING DIRECTORY\n",
    "    file_list_f = [] # LIST TO HOLD ALL PATHS FOR FILES (F_DRIVE)\n",
    "    time_list_f = [] # LIST TO HOLD ALL TIMESTAMPS (F_DRIVE)\n",
    "    file_list_g = [] # LIST TO HOLD ALL PATHS FOR FILES (G_DRIVE)\n",
    "    time_list_g = [] # LIST TO HOLD ALL TIMESTAMPS (G_DRIVE)\n",
    "    f_drive_convention = \"*[@]*.pdf\" # REGEX for F_DRIVE\n",
    "    g_drive_convention = \"[part]*[CofA]*[Lot]*[#]*.pdf\" # REGEX for G_DRIVE\n",
    "    # CREATE TIMESTAMP FOR RIGHT NOW\n",
    "    ts_now = pd.Timestamp(year=2020, day=27, month=1, hour=5) # hard-coded for testing\n",
    "    # USED TO DETERMINE THE CORRECT \"start_time\" (one day and five hours prior)\n",
    "    ts_start_delta = pd.Timedelta(days=1, hours=5)\n",
    "    # USED TO DETERMINE THE CORRECT \"end_time\" (five hours prior)\n",
    "    ts_end_delta = pd.Timedelta(hours=5)\n",
    "    #############################\n",
    "    # CALL MAIN FUNCTION\n",
    "    main()\n",
    "# }"
   ]
  },
  {
   "cell_type": "code",
   "execution_count": 17,
   "metadata": {
    "ExecuteTime": {
     "end_time": "2020-01-28T15:47:48.814215Z",
     "start_time": "2020-01-28T15:47:48.811215Z"
    }
   },
   "outputs": [],
   "source": [
    "setup_logger()"
   ]
  },
  {
   "cell_type": "code",
   "execution_count": 7,
   "metadata": {
    "ExecuteTime": {
     "end_time": "2020-01-29T22:08:51.597805Z",
     "start_time": "2020-01-29T22:08:51.592816Z"
    }
   },
   "outputs": [
    {
     "name": "stdout",
     "output_type": "stream",
     "text": [
      "<bound method Time\n"
     ]
    }
   ],
   "source": [
    "test_str = str(pd.Timestamp.now)\n",
    "test_str = str(test_str)[:18]\n",
    "print(test_str)"
   ]
  },
  {
   "cell_type": "code",
   "execution_count": null,
   "metadata": {},
   "outputs": [],
   "source": []
  }
 ],
 "metadata": {
  "kernelspec": {
   "display_name": "Python 3",
   "language": "python",
   "name": "python3"
  },
  "language_info": {
   "codemirror_mode": {
    "name": "ipython",
    "version": 3
   },
   "file_extension": ".py",
   "mimetype": "text/x-python",
   "name": "python",
   "nbconvert_exporter": "python",
   "pygments_lexer": "ipython3",
   "version": "3.7.0"
  },
  "toc": {
   "base_numbering": 1,
   "nav_menu": {},
   "number_sections": true,
   "sideBar": true,
   "skip_h1_title": false,
   "title_cell": "Table of Contents",
   "title_sidebar": "Contents",
   "toc_cell": false,
   "toc_position": {},
   "toc_section_display": true,
   "toc_window_display": false
  },
  "varInspector": {
   "cols": {
    "lenName": 16,
    "lenType": 16,
    "lenVar": 40
   },
   "kernels_config": {
    "python": {
     "delete_cmd_postfix": "",
     "delete_cmd_prefix": "del ",
     "library": "var_list.py",
     "varRefreshCmd": "print(var_dic_list())"
    },
    "r": {
     "delete_cmd_postfix": ") ",
     "delete_cmd_prefix": "rm(",
     "library": "var_list.r",
     "varRefreshCmd": "cat(var_dic_list()) "
    }
   },
   "oldHeight": 630.957,
   "position": {
    "height": "40px",
    "left": "846.895px",
    "right": "20px",
    "top": "121.898px",
    "width": "485.938px"
   },
   "types_to_exclude": [
    "module",
    "function",
    "builtin_function_or_method",
    "instance",
    "_Feature"
   ],
   "varInspector_section_display": "none",
   "window_display": false
  }
 },
 "nbformat": 4,
 "nbformat_minor": 2
}
