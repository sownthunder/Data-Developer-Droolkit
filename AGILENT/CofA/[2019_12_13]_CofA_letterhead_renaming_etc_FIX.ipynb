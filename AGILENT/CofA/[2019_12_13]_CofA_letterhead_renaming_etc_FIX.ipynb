{
 "cells": [
  {
   "cell_type": "code",
   "execution_count": 1,
   "metadata": {},
   "outputs": [],
   "source": [
    "import os, sys, time\n",
    "from time import sleep\n",
    "from pathlib import Path"
   ]
  },
  {
   "cell_type": "code",
   "execution_count": null,
   "metadata": {},
   "outputs": [],
   "source": [
    "in_file = \"C:/data/Logs/COFA_PRIOR_20190325_LIST.csv\"\n",
    "in_file = \"C:/data/inbound/COFA_PRIOR_20190325_LIST.csv\"\n",
    "check_dir = \"G:/C of A's/#CofA with background for web\""
   ]
  },
  {
   "cell_type": "markdown",
   "metadata": {},
   "source": [
    "- ### import `.csv` file containing original listing (71000+)\n",
    "- ### `os.listdir()` the *check_dir*\n",
    "- ## OPTION A: \n",
    "- ### add both DataFrames together\n",
    "- ### remove duplicates\n",
    "- ## OPTION B:\n",
    "- ## SUBTRACT DATAFRAMES FROM EACHOTHER"
   ]
  },
  {
   "cell_type": "code",
   "execution_count": null,
   "metadata": {},
   "outputs": [],
   "source": []
  }
 ],
 "metadata": {
  "kernelspec": {
   "display_name": "Python 3",
   "language": "python",
   "name": "python3"
  },
  "language_info": {
   "codemirror_mode": {
    "name": "ipython",
    "version": 3
   },
   "file_extension": ".py",
   "mimetype": "text/x-python",
   "name": "python",
   "nbconvert_exporter": "python",
   "pygments_lexer": "ipython3",
   "version": "3.7.0"
  }
 },
 "nbformat": 4,
 "nbformat_minor": 2
}
