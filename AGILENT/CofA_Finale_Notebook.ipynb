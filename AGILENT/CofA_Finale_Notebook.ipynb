{
 "cells": [
  {
   "cell_type": "code",
   "execution_count": 1,
   "metadata": {},
   "outputs": [],
   "source": [
    "import os, sys, time\n",
    "from time import sleep\n",
    "from pathlib import Path\n",
    "import fnmatch, glob, shutil\n",
    "import sched, tempfile, textwrap\n",
    "from zipfile import ZipFile"
   ]
  },
  {
   "cell_type": "code",
   "execution_count": 2,
   "metadata": {},
   "outputs": [],
   "source": [
    "import pandas as pd\n",
    "import numpy as np\n",
    "from pandas import Series, DataFrame"
   ]
  },
  {
   "cell_type": "code",
   "execution_count": 3,
   "metadata": {},
   "outputs": [],
   "source": [
    "import email, smtplib, ssl\n",
    "import os.path as op\n",
    "from email import encoders\n",
    "from email.mime.base import MIMEBase\n",
    "from email.mime.multipart import MIMEMultipart\n",
    "from email.mime.text import MIMEText\n",
    "from email.utils import COMMASPACE, formatdate"
   ]
  },
  {
   "cell_type": "code",
   "execution_count": 4,
   "metadata": {},
   "outputs": [],
   "source": [
    "import threading, logging\n",
    "from threading import Timer\n",
    "from PyPDF2 import PdfFileReader, PdfFileWriter\n",
    "from watchdog.observers import Observer\n",
    "from watchdog.events import FileSystemEventHandler"
   ]
  },
  {
   "cell_type": "raw",
   "metadata": {
    "raw_mimetype": "text/x-python"
   },
   "source": [
    "scheduler = sched.scheduler(time.time, sleep)\n",
    "\n",
    "\n",
    "def print_event(name, start):\n",
    "    now = time.time()\n",
    "    elapsed = int(now - start)\n",
    "    print('EVENT: {} elapsed={} name={}'.format(\n",
    "        time.ctime(now), elapsed, name))\n",
    "\n",
    "\n",
    "start = time.time()\n",
    "print('START:', time.ctime(start))\n",
    "scheduler.enter(6, 1, print_event, ('first', start))\n",
    "scheduler.enter(12, 1, print_event, ('second', start))\n",
    "\n",
    "scheduler.run()"
   ]
  },
  {
   "cell_type": "markdown",
   "metadata": {},
   "source": [
    "## *`global` vars*"
   ]
  },
  {
   "cell_type": "code",
   "execution_count": 5,
   "metadata": {},
   "outputs": [],
   "source": [
    "# BOOL \n",
    "global eod\n",
    "eod = False"
   ]
  },
  {
   "cell_type": "code",
   "execution_count": 6,
   "metadata": {},
   "outputs": [],
   "source": [
    "global out_directory"
   ]
  },
  {
   "cell_type": "markdown",
   "metadata": {},
   "source": [
    "## *DEFINE CLASSES*"
   ]
  },
  {
   "cell_type": "code",
   "execution_count": 7,
   "metadata": {},
   "outputs": [],
   "source": [
    "class CofA_Thread(threading.Thread): #{\n",
    "    \n",
    "    def __init__(self, threadID, name, counter): #{\n",
    "        threading.Thread = threadID\n",
    "        self.threadID = threadID\n",
    "        self.name = name\n",
    "        self.counter = counter\n",
    "    #}\n",
    "    \n",
    "    def run(self): #{\n",
    "        logging.info(\"Starting \" + self.name)\n",
    "        print_time(self.name, self.counter, 5)\n",
    "        logging.info(\"Exiting \" + self.name)\n",
    "    #}\n",
    "#}"
   ]
  },
  {
   "cell_type": "code",
   "execution_count": 8,
   "metadata": {},
   "outputs": [],
   "source": [
    "class CofA_Event_Handler(FileSystemEventHandler): #{\n",
    "    \n",
    "    def __init__(self, save_list, temp_dir, out_dir): #{\n",
    "        self.save_list = save_list\n",
    "        #self.in_dir = in_dir\n",
    "        self.temp_dir = temp_dir\n",
    "        self.out_dir = out_dir\n",
    "    #}\n",
    "    \n",
    "    def dispatch(self, event): #{\n",
    "        # INSTANTIATE GLOBAL VARS\n",
    "        global out_directory\n",
    "        ts = pd.Timestamp.now()\n",
    "        #print(\"e=\" + str(event))\n",
    "        #logging.info(\"time=\" + str(ts))\n",
    "        output_str = \"EVENT >> \" + str(event.event_type)\n",
    "        output_str += str(\"\\t\\t\\t\\t\\t [is_dir] == \" + str(event.is_directory))  # WAS:  + \" |\"\n",
    "        output_str += str(\"\\t\\t\\t\\t\\t \" + str(event.src_path))\n",
    "        logging.info(textwrap.fill(output_str,\n",
    "                                  initial_indent='',\n",
    "                                  subsequent_indent='   ' * 4,\n",
    "                                  width=55\n",
    "                                  ))\n",
    "        #logging.info(\"NEW FILE NAME == \" + str(new_name)) # NOT NEEDED, is within above function\n",
    "        \"\"\"\n",
    "        # new location var?\n",
    "        #new_loc = os.path.join(out_dir, new)\n",
    "        \"\"\"\n",
    "        \"\"\"\n",
    "        copy_and_move(the_src_path=event.src_path,\n",
    "                     the_dst_path=temp_dir,\n",
    "                     new_file_name=new_name)\n",
    "        \"\"\"\n",
    "        \n",
    "        if (str(event.event_type) == \"created\") | (str(event.event_type) == \"modified\"): #{\n",
    "            print(\"CREATE/MODIFY\")\n",
    "            the_event_path = Path(event.src_path)\n",
    "            \n",
    "            \n",
    "            # CREATE file_name VAR\n",
    "            file_name = os.path.basename(the_event_path)\n",
    "            # CREATE TUPLE\n",
    "            event_tuple = (str(file_name), str(ts))\n",
    "            # APPEND (tuple) TO SAVE_LIST\n",
    "            save_list.append(event_tuple)\n",
    "            # WATERMARK/MOVE PDF VIA FUNCTION\n",
    "            move_newly_created_pdfs(the_src_path=the_event_path,\n",
    "                                    the_dst_path=out_directory)\n",
    "        #}        \n",
    "        elif (str(event.event_type) == \"deleted\"): #{\n",
    "            print(\"DELETE\")\n",
    "        #}\n",
    "        \n",
    "    #}\n",
    "    \n",
    "    def on_created(self, event): #{\n",
    "        ts = pd.Timestamp.now()\n",
    "    #}\n",
    "    \n",
    "    def on_modified(self, event): #{\n",
    "        logging.info(\"<<MODIFIED FUNCTION>>\")\n",
    "    #}\n",
    "    \n",
    "    def on_deleted(self, event): #{\n",
    "        logging.info(\"<<DELTED FUNCTION>>\")\n",
    "        # GET FILE NAME FROM DELETED FILE\n",
    "        del_name = os.path.basename(event.src_path)\n",
    "        # CREATE PATH VAR AND LIKEWISE DELETE\n",
    "        del_path = os.path.join(out_dir, del_name)\n",
    "        # CHECK IF ALREADY DELETED:\n",
    "        if os.path.exists(del_path): #{\n",
    "            # EXISTS SO DELETE!\n",
    "            os.remove(del_path)\n",
    "            logging.info(str(del_path) + \" DELETED !\")\n",
    "        #}\n",
    "        else: #{\n",
    "            # ALREADY DELETED\n",
    "            logging.info(\"already deleted!\")\n",
    "        #}\n",
    "    #}   \n",
    "#}"
   ]
  },
  {
   "cell_type": "markdown",
   "metadata": {},
   "source": [
    "## *DEFINE FUNCTIONS*"
   ]
  },
  {
   "cell_type": "code",
   "execution_count": 9,
   "metadata": {},
   "outputs": [],
   "source": [
    "def test_hello(): #{\n",
    "    logging.info('hello, world!')\n",
    "    logging.info(threading.enumerate())\n",
    "#}"
   ]
  },
  {
   "cell_type": "raw",
   "metadata": {
    "raw_mimetype": "text/x-python"
   },
   "source": [
    "def print_time(threadName, delay, counter): #{\n",
    "    \n",
    "    while counter: #{\n",
    "        if exitFlag: #{\n",
    "            threadName.exit()\n",
    "        #}\n",
    "        sleep(delay)\n",
    "        print(\"%s: %s\" % (threadName, time.ctime(time.time())))\n",
    "        counter -= 1\n",
    "    #}\n",
    "#}"
   ]
  },
  {
   "cell_type": "code",
   "execution_count": 10,
   "metadata": {},
   "outputs": [],
   "source": [
    "def create_watermark(input_pdf, output, watermark): # {\n",
    "    try:  # {\n",
    "        watermark_obj = PdfFileReader(watermark)\n",
    "        watermark_page = watermark_obj.getPage(0)\n",
    "\n",
    "        pdf_reader = PdfFileReader(input_pdf)\n",
    "        pdf_writer = PdfFileWriter()\n",
    "\n",
    "        # Watermark all the pages\n",
    "        for page in range(pdf_reader.getNumPages()):  # {\n",
    "            page = pdf_reader.getPage(page)\n",
    "            page.mergePage(watermark_page)\n",
    "            pdf_writer.addPage(page)\n",
    "        # }\n",
    "\n",
    "        with open(output, 'wb') as out:  # {\n",
    "            pdf_writer.write(out)\n",
    "        # }\n",
    "    # }\n",
    "    except: # {\n",
    "        errorMessage = str(sys.exc_info()[0]) + \"\\n\\t\\t\"\n",
    "        errorMessage = errorMessage + str(sys.exc_info()[1]) + \"\\n\\t\\t\"\n",
    "        errorMessage = errorMessage + str(sys.exc_info()[2]) + \"\\n\"\n",
    "        exc_type, exc_obj, exc_tb = sys.exc_info()\n",
    "        fname = os.path.split(exc_tb.tb_frame.f_code.co_filename)[1]\n",
    "        typeE = str(\"TYPE : \" + str(exc_type))\n",
    "        fileE = str(\"FILE : \" + str(fname))\n",
    "        lineE = str(\"LINE : \" + str(exc_tb.tb_lineno))\n",
    "        messageE = str(\"MESG : \" + \"\\n\" + str(errorMessage) + \"\\n\")\n",
    "        logging.error(\"\\n\" + typeE +\n",
    "              \"\\n\" + fileE +\n",
    "              \"\\n\" + lineE +\n",
    "              \"\\n\" + messageE)\n",
    "        # }\n",
    "    else: # {\n",
    "        logging.info(\"[watermark-pdf] FIN...\")\n",
    "    # }\n",
    "    return\n",
    "# }"
   ]
  },
  {
   "cell_type": "code",
   "execution_count": 11,
   "metadata": {},
   "outputs": [],
   "source": [
    "\"\"\"\n",
    "MOVE NEWLY CREATED .PDFs to 'TEMP' in order to be WATERMARKED\n",
    "\"\"\"\n",
    "def move_newly_created_pdfs(the_src_path, the_dst_path): #{\n",
    "    # GET NEWLY_MADE 'file_name'\n",
    "    file_name = os.path.basename(the_src_path)\n",
    "    logging.info(\"FILE_NAME >>> \" + str(file_name))\n",
    "    # CHECK IF FILE IS OF .PDF\n",
    "    if fnmatch.fnmatch(file_name, \"*.pdf\"): #{\n",
    "        # CREATE TEMP DIR TO WORK INSIDE OF:\n",
    "        with tempfile.TemporaryDirectory() as directory_name: #{\n",
    "            the_dir = Path(directory_name)\n",
    "            logging.info(\"TEMP_DIRECTORY >>> \" + str(the_dir))\n",
    "            # COPY NEWLY_MADE FILE INTO TEMP_DIR\n",
    "            shutil.copy(src=Path(the_src_path), dst=the_dir)\n",
    "            # create temp_file_path from within TEMP_DIR\n",
    "            temp_path = os.path.join(the_dir, file_name)\n",
    "            # PERFORM STRING OPERATIONS\n",
    "            #################################\n",
    "            idx_mrk = file_name.rfind('@', 0, len(file_name))\n",
    "            half1 = str(file_name[0:idx_mrk])\n",
    "            half2 = str(file_name[idx_mrk + 1:len(file_name)])\n",
    "            logging.info(\"HALF 1 == \" + half1)\n",
    "            logging.info(\"HALF 2 == \" + half2)\n",
    "            #  setup NEW FILE NAME (for copy)\n",
    "            new_name = \"part \"\n",
    "            new_name += str(half1)\n",
    "            new_name += \" CofA Lot# \"\n",
    "            new_name += str(half2)\n",
    "            logging.info(\"NEW NAME == \" + str(new_name))\n",
    "            #################################\n",
    "            # CREATE 'new_path' by using \"new_name\"\n",
    "            new_path = os.path.join(out_directory, new_name)\n",
    "            # CREATE WATERMARK AND MOVE FILES OUT OF TEMP_DIR\n",
    "            create_watermark(input_pdf=temp_path,\n",
    "                            output=new_path,\n",
    "                            watermark=in_file)\n",
    "        #}\n",
    "        logging.info(\"Name of temp_dir: \" + str(the_dir))\n",
    "        logging.info(\"Directory exists after? \" + str(the_dir.exists()))\n",
    "        logging.info(\"Contents after:\" + str(list(the_dir.glob('*'))))\n",
    "    #}\n",
    "    else: #{\n",
    "        logging.info(\"NOT A .PDF!\")\n",
    "    #}\n",
    "#}"
   ]
  },
  {
   "cell_type": "code",
   "execution_count": null,
   "metadata": {},
   "outputs": [],
   "source": []
  },
  {
   "cell_type": "raw",
   "metadata": {
    "raw_mimetype": "text/x-python"
   },
   "source": [
    "\"\"\"\n",
    "TAKES IN path to pdf and edits the STRING\n",
    "of that PDF to match the naming convention\n",
    "in G:/C of A's/#Email Node/ from F:/APPS/CofA/\n",
    "\"\"\"\n",
    "def generate_pdf_name(the_pdf_path): #{\n",
    "    # get/set filename to variable\n",
    "    the_file_name = str(os.path.basename(the_pdf_path))\n",
    "    # PERFORM STRING OPERATIONS\n",
    "    #################################\n",
    "    idx_mrk = the_file_name.rfind('@', 0, len(the_file_name))\n",
    "    half1 = str(the_file_name[0:idx_mrk])\n",
    "    half2 = str(the_file_name[idx_mrk + 1:len(the_file_name)])\n",
    "    logging.info(\"HALF 1 == \" + half1)\n",
    "    logging.info(\"HALF 2 == \" + half2)\n",
    "    #  setup NEW FILE NAME (for copy)\n",
    "    new_name = \"part \"\n",
    "    new_name += str(half1)\n",
    "    new_name += \" CofA Lot# \"\n",
    "    new_name += str(half2)\n",
    "    logging.info(\"NEW NAME == \" + str(new_name))\n",
    "    #################################\n",
    "    return str(new_name)\n",
    "#}"
   ]
  },
  {
   "cell_type": "raw",
   "metadata": {
    "raw_mimetype": "text/x-python"
   },
   "source": [
    "\"\"\"\n",
    "COPIES FILE FROM SOURCE LOCATION TO DESTINATION LOCATION\n",
    "WHILE CHANGING THE **NEW** FILE NAME TO THE ONE DESIRED\n",
    "\"\"\"\n",
    "def copy_and_move(the_src_path, the_dst_path, new_file_name): #{\n",
    "    logging.info(\"COPY&SAVING...\")\n",
    "    # CREATE PATH VARIABLES\n",
    "    \"\"\"\n",
    "    inbound = Path(the_src_path)\n",
    "    outbound = Path(the_dst_path)\n",
    "    \"\"\"\n",
    "    # CREATE STR VARIABLE FOR NEW NAME\n",
    "    new_name = str(new_file_name)\n",
    "    # create dst_path var from PATH\n",
    "    dst_path = os.path.basename(the_dst_path)\n",
    "    logging.info(\"dst_path==\" + str(dst_path))\n",
    "    # create path var for new location/file\n",
    "    new_path = os.path.join(dst_path, new_name)\n",
    "    #savesies = list(the_save_list)\n",
    "    logging.info(\"inbound==\" + str(the_src_path))\n",
    "    logging.info(\"new_path==\" + str(new_path))\n",
    "    shutil.copy(src=the_src_path, dst=new_path)\n",
    "    ###########################################\n",
    "    ###########################################\n",
    "    ###########################################\n",
    "    ###########################################\n",
    "    # create var for **NEW** file name\n",
    "    new_name = generate_pdf_name(the_pdf_path=event.src_path)\n",
    "    #create_watermark()\n",
    "#}"
   ]
  },
  {
   "cell_type": "code",
   "execution_count": 12,
   "metadata": {},
   "outputs": [],
   "source": [
    "def send_mail(send_from, send_to, subject, message, files=[],\n",
    "             server=\"cos.smtp.agilent.com\", port=587, use_tls=True): #{\n",
    "    print(\"SEND MAIL\")\n",
    "#}"
   ]
  },
  {
   "cell_type": "markdown",
   "metadata": {},
   "source": [
    "---\n",
    "# *`main()` function call*"
   ]
  },
  {
   "cell_type": "code",
   "execution_count": 13,
   "metadata": {
    "scrolled": true
   },
   "outputs": [
    {
     "name": "stdout",
     "output_type": "stream",
     "text": [
      "2019-08-05-150709: \n",
      "PRINT BEFORE TIMER STARTS !!\t<MainThread-ID:98492(<module>)LINE:14>\n",
      "2019-08-05-150709: \n",
      "created temp_dir\t<MainThread-ID:98492(<module>)LINE:20>\n",
      "2019-08-05-150709: \n",
      "dir name: C:\\Users\\derbates\\AppData\\Local\\Temp\\tmp22kgvw68\t<MainThread-ID:98492(<module>)LINE:22>\n",
      "2019-08-05-150714: \n",
      "EVENT >> created\n",
      "            [is_dir] == False\n",
      "            C:/Temp/F/APPS/CofA/ICP-079@0006479330.pdf\t<Thread-7-ID:102492(dispatch)LINE:22>\n",
      "CREATE/MODIFY\n",
      "2019-08-05-150714: \n",
      "FILE_NAME >>> ICP-079@0006479330.pdf\t<Thread-7-ID:102492(move_newly_created_pdfs)LINE:7>\n",
      "2019-08-05-150714: \n",
      "TEMP_DIRECTORY >>> C:\\Users\\derbates\\AppData\\Local\\Temp\\tmpjvg5adhd\t<Thread-7-ID:102492(move_newly_created_pdfs)LINE:13>\n",
      "2019-08-05-150714: \n",
      "HALF 1 == ICP-079\t<Thread-7-ID:102492(move_newly_created_pdfs)LINE:23>\n",
      "2019-08-05-150714: \n",
      "HALF 2 == 0006479330.pdf\t<Thread-7-ID:102492(move_newly_created_pdfs)LINE:24>\n",
      "2019-08-05-150714: \n",
      "NEW NAME == part ICP-079 CofA Lot# 0006479330.pdf\t<Thread-7-ID:102492(move_newly_created_pdfs)LINE:30>\n",
      "2019-08-05-150714: \n",
      "[watermark-pdf] FIN...\t<Thread-7-ID:102492(create_watermark)LINE:36>\n",
      "2019-08-05-150714: \n",
      "Name of temp_dir: C:\\Users\\derbates\\AppData\\Local\\Temp\\tmpjvg5adhd\t<Thread-7-ID:102492(move_newly_created_pdfs)LINE:39>\n",
      "2019-08-05-150714: \n",
      "Directory exists after? False\t<Thread-7-ID:102492(move_newly_created_pdfs)LINE:40>\n",
      "2019-08-05-150714: \n",
      "Contents after:[]\t<Thread-7-ID:102492(move_newly_created_pdfs)LINE:41>\n",
      "2019-08-05-150724: \n",
      "hello, world!\t<Thread-6-ID:101880(test_hello)LINE:2>\n",
      "2019-08-05-150724: \n",
      "[<_MainThread(MainThread, started 98492)>, <Thread(Thread-4, started daemon 97976)>, <Heartbeat(Thread-5, started daemon 98584)>, <HistorySavingThread(IPythonHistorySavingThread, started 101476)>, <ParentPollerWindows(Thread-3, started daemon 100416)>, <Timer(Thread-6, started 101880)>, <WindowsApiEmitter(Thread-8, started daemon 100692)>, <WindowsApiObserver(Thread-7, started daemon 102492)>]\t<Thread-6-ID:101880(test_hello)LINE:3>\n",
      "2019-08-05-150725: \n",
      "EVENT >> created\n",
      "            [is_dir] == False\n",
      "            C:/Temp/F/APPS/CofA/AMN-603-1@0006480057.pd\n",
      "            f\t<Thread-7-ID:102492(dispatch)LINE:22>\n",
      "CREATE/MODIFY\n",
      "2019-08-05-150725: \n",
      "FILE_NAME >>> AMN-603-1@0006480057.pdf\t<Thread-7-ID:102492(move_newly_created_pdfs)LINE:7>\n",
      "2019-08-05-150725: \n",
      "TEMP_DIRECTORY >>> C:\\Users\\derbates\\AppData\\Local\\Temp\\tmp83cti649\t<Thread-7-ID:102492(move_newly_created_pdfs)LINE:13>\n",
      "2019-08-05-150725: \n",
      "HALF 1 == AMN-603-1\t<Thread-7-ID:102492(move_newly_created_pdfs)LINE:23>\n",
      "2019-08-05-150725: \n",
      "HALF 2 == 0006480057.pdf\t<Thread-7-ID:102492(move_newly_created_pdfs)LINE:24>\n",
      "2019-08-05-150725: \n",
      "NEW NAME == part AMN-603-1 CofA Lot# 0006480057.pdf\t<Thread-7-ID:102492(move_newly_created_pdfs)LINE:30>\n",
      "2019-08-05-150725: \n",
      "[watermark-pdf] FIN...\t<Thread-7-ID:102492(create_watermark)LINE:36>\n",
      "2019-08-05-150725: \n",
      "Name of temp_dir: C:\\Users\\derbates\\AppData\\Local\\Temp\\tmp83cti649\t<Thread-7-ID:102492(move_newly_created_pdfs)LINE:39>\n",
      "2019-08-05-150725: \n",
      "Directory exists after? False\t<Thread-7-ID:102492(move_newly_created_pdfs)LINE:40>\n",
      "2019-08-05-150725: \n",
      "Contents after:[]\t<Thread-7-ID:102492(move_newly_created_pdfs)LINE:41>\n",
      "2019-08-05-150747: \n",
      "exists after: False\t<MainThread-ID:98492(<module>)LINE:42>\n"
     ]
    }
   ],
   "source": [
    "if __name__ == \"__main__\": #{\n",
    "    logging.basicConfig(level=logging.INFO,\n",
    "                       stream=sys.stdout,\n",
    "                       format='%(asctime)s: \\n%(message)s\\t<%(threadName)s-ID:%(thread)d(%(funcName)s)LINE:%(lineno)s>',\n",
    "                       datefmt='%Y-%m-%d-%H%M%S')\n",
    "    in_file = \"C:/CofA/imp/Agilent_CofA_Letterhead_03-21-19.pdf\"\n",
    "    \"\"\"\n",
    "    in_directory = \"F:/APPS/CofA/\"\n",
    "    out_directory = \"G:/C of A's/#Email Node/\"\n",
    "    \"\"\"\n",
    "    in_directory = \"C:/Temp/F/APPS/CofA/\"\n",
    "    out_directory = \"C:/Temp/G/C of A's/#Email Node/\"\n",
    "    save_list = []\n",
    "    logging.info(\"PRINT BEFORE TIMER STARTS !!\")\n",
    "    # SETUP TIMER\n",
    "    t = Timer(15.0, test_hello) # 2592000\n",
    "    # START TIMER\n",
    "    t.start()\n",
    "    with tempfile.TemporaryDirectory() as temporary_directory: #{\n",
    "        logging.info(\"created temp_dir\")\n",
    "        temp_dir = str(temporary_directory)\n",
    "        logging.info(\"dir name: \" + str(temp_dir))\n",
    "        # create event handler\n",
    "        event_handler = CofA_Event_Handler(save_list=save_list,\n",
    "                                          temp_dir=temp_dir,\n",
    "                                          out_dir=out_directory)\n",
    "        observer = Observer()\n",
    "        observer.schedule(event_handler=event_handler,\n",
    "                         path=in_directory,\n",
    "                         recursive=True)\n",
    "        observer.start()\n",
    "        try: #{\n",
    "            while True: #{\n",
    "                sleep(1)\n",
    "            #}\n",
    "        #}\n",
    "        except KeyboardInterrupt: #{\n",
    "            observer.stop()\n",
    "        #}\n",
    "        observer.join()\n",
    "    #}\n",
    "    logging.info(\"exists after: \" + str(os.path.exists(temp_dir)))\n",
    "#}"
   ]
  },
  {
   "cell_type": "code",
   "execution_count": 14,
   "metadata": {},
   "outputs": [
    {
     "data": {
      "text/plain": [
       "[('ICP-079@0006479330.pdf', '2019-08-05 15:07:14.019025'),\n",
       " ('AMN-603-1@0006480057.pdf', '2019-08-05 15:07:25.518228')]"
      ]
     },
     "execution_count": 14,
     "metadata": {},
     "output_type": "execute_result"
    }
   ],
   "source": [
    "save_list"
   ]
  },
  {
   "cell_type": "code",
   "execution_count": 15,
   "metadata": {},
   "outputs": [],
   "source": [
    "save_df = pd.DataFrame(data=save_list, columns=['CofA_File_Name', 'Time_Stamp'])"
   ]
  },
  {
   "cell_type": "code",
   "execution_count": 16,
   "metadata": {},
   "outputs": [
    {
     "data": {
      "text/html": [
       "<div>\n",
       "<style scoped>\n",
       "    .dataframe tbody tr th:only-of-type {\n",
       "        vertical-align: middle;\n",
       "    }\n",
       "\n",
       "    .dataframe tbody tr th {\n",
       "        vertical-align: top;\n",
       "    }\n",
       "\n",
       "    .dataframe thead th {\n",
       "        text-align: right;\n",
       "    }\n",
       "</style>\n",
       "<table border=\"1\" class=\"dataframe\">\n",
       "  <thead>\n",
       "    <tr style=\"text-align: right;\">\n",
       "      <th></th>\n",
       "      <th>CofA_File_Name</th>\n",
       "      <th>Time_Stamp</th>\n",
       "    </tr>\n",
       "  </thead>\n",
       "  <tbody>\n",
       "    <tr>\n",
       "      <th>0</th>\n",
       "      <td>ICP-079@0006479330.pdf</td>\n",
       "      <td>2019-08-05 15:07:14.019025</td>\n",
       "    </tr>\n",
       "    <tr>\n",
       "      <th>1</th>\n",
       "      <td>AMN-603-1@0006480057.pdf</td>\n",
       "      <td>2019-08-05 15:07:25.518228</td>\n",
       "    </tr>\n",
       "  </tbody>\n",
       "</table>\n",
       "</div>"
      ],
      "text/plain": [
       "             CofA_File_Name                  Time_Stamp\n",
       "0    ICP-079@0006479330.pdf  2019-08-05 15:07:14.019025\n",
       "1  AMN-603-1@0006480057.pdf  2019-08-05 15:07:25.518228"
      ]
     },
     "execution_count": 16,
     "metadata": {},
     "output_type": "execute_result"
    }
   ],
   "source": [
    "save_df"
   ]
  },
  {
   "cell_type": "code",
   "execution_count": null,
   "metadata": {},
   "outputs": [],
   "source": []
  }
 ],
 "metadata": {
  "celltoolbar": "Raw Cell Format",
  "kernelspec": {
   "display_name": "Python 3",
   "language": "python",
   "name": "python3"
  },
  "language_info": {
   "codemirror_mode": {
    "name": "ipython",
    "version": 3
   },
   "file_extension": ".py",
   "mimetype": "text/x-python",
   "name": "python",
   "nbconvert_exporter": "python",
   "pygments_lexer": "ipython3",
   "version": "3.7.3"
  }
 },
 "nbformat": 4,
 "nbformat_minor": 2
}
