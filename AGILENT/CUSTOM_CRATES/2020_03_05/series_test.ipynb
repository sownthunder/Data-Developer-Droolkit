{
 "cells": [
  {
   "cell_type": "markdown",
   "metadata": {},
   "source": [
    "**Example #1:** Use Series.append() function to append the passed series object at the end of this series object."
   ]
  },
  {
   "cell_type": "code",
   "execution_count": 6,
   "metadata": {},
   "outputs": [
    {
     "name": "stdout",
     "output_type": "stream",
     "text": [
      "City 1    New York\n",
      "City 2     Chicago\n",
      "City 3     Toronto\n",
      "City 4      Lisbon\n",
      "City 5         Rio\n",
      "dtype: object\n",
      "City 6      Chicage\n",
      "City 7     Shanghai\n",
      "City 8      Beijing\n",
      "City 9      Jakarta\n",
      "City 10       Seoul\n",
      "dtype: object\n",
      "Operation Completed Successfully...\n"
     ]
    }
   ],
   "source": [
    "# TRY THE FOLLOWING\n",
    "try: # {\n",
    "    # importing pandas as pd \n",
    "    import pandas as pd \n",
    "    \n",
    "    # Creating the first Series \n",
    "    sr1 = pd.Series(['New York', 'Chicago', 'Toronto', 'Lisbon', 'Rio']) \n",
    "    \n",
    "    # Create the first Index \n",
    "    index_1 = ['City 1', 'City 2', 'City 3', 'City 4', 'City 5']  \n",
    "    \n",
    "    # set the index of first series \n",
    "    sr1.index = index_1 \n",
    "    \n",
    "    # Creating the second Series \n",
    "    sr2 = pd.Series(['Chicage', 'Shanghai', 'Beijing', 'Jakarta', 'Seoul']) \n",
    "    \n",
    "    # Create the second Index \n",
    "    index_2 = ['City 6', 'City 7', 'City 8', 'City 9', 'City 10']  \n",
    "    \n",
    "    # set the index of second series \n",
    "    sr2.index = index_2 \n",
    "    \n",
    "    # Print the first series \n",
    "    print(sr1) \n",
    "    \n",
    "    # Print the second series \n",
    "    print(sr2) \n",
    "# }\n",
    "except: # {\n",
    "    errorMessage = str(sys.exc_info()[0]) + \"\\n\\t\\t\"\n",
    "    errorMessage = errorMessage + str(sys.exc_info()[1]) + \"\\n\\t\\t\"\n",
    "    errorMessage = errorMessage + str(sys.exc_info()[2]) + \"\\n\"\n",
    "    exc_type, exc_obj, exc_tb = sys.exc_info()\n",
    "    fname = os.path.split(exc_tb.tb_frame.f_code.co_filename)[1]\n",
    "    typeE = str(\"TYPE : \" + str(exc_type))\n",
    "    fileE = str(\"FILE : \" + str(fname))\n",
    "    lineE = str(\"LINE : \" + str(exc_tb.tb_lineno))\n",
    "    messageE = str(\"MESG : \" + \"\\n\" + str(errorMessage) + \"\\n\")\n",
    "    print(\"\\n\" + typeE +\n",
    "          \"\\n\" + fileE +\n",
    "          \"\\n\" + lineE +\n",
    "          \"\\n\" + messageE)\n",
    "# }\n",
    "else: # {\n",
    "    print(\"Operation Completed Successfully...\")\n",
    "# }"
   ]
  },
  {
   "cell_type": "markdown",
   "metadata": {},
   "source": [
    "Now we will use Series.append() function to append sr2 at the end of sr1 series."
   ]
  },
  {
   "cell_type": "code",
   "execution_count": 7,
   "metadata": {},
   "outputs": [
    {
     "name": "stdout",
     "output_type": "stream",
     "text": [
      "City 1     New York\n",
      "City 2      Chicago\n",
      "City 3      Toronto\n",
      "City 4       Lisbon\n",
      "City 5          Rio\n",
      "City 6      Chicage\n",
      "City 7     Shanghai\n",
      "City 8      Beijing\n",
      "City 9      Jakarta\n",
      "City 10       Seoul\n",
      "dtype: object\n"
     ]
    }
   ],
   "source": [
    "# append sr2 at the end of sr1 \n",
    "result = sr1.append(sr2) \n",
    "  \n",
    "# Print the result \n",
    "print(result) "
   ]
  },
  {
   "cell_type": "markdown",
   "metadata": {},
   "source": [
    "As we can see in the output, the `Series.append()` function has successfully append the sr2 object at the end of sr1 object.\n",
    " \n",
    "**Example #2:** Use Series.append() function to append the passed series object at the end of this series object. Ignore the original index of the two series objects."
   ]
  },
  {
   "cell_type": "code",
   "execution_count": 8,
   "metadata": {},
   "outputs": [
    {
     "name": "stdout",
     "output_type": "stream",
     "text": [
      "City 1    New York\n",
      "City 2     Chicago\n",
      "City 3     Toronto\n",
      "City 4      Lisbon\n",
      "City 5         Rio\n",
      "dtype: object\n",
      "City 6      Chicage\n",
      "City 7     Shanghai\n",
      "City 8      Beijing\n",
      "City 9      Jakarta\n",
      "City 10       Seoul\n",
      "dtype: object\n"
     ]
    }
   ],
   "source": [
    "# importing pandas as pd \n",
    "import pandas as pd \n",
    "  \n",
    "# Creating the first Series \n",
    "sr1 = pd.Series(['New York', 'Chicago', 'Toronto', 'Lisbon', 'Rio']) \n",
    "  \n",
    "# Create the first Index \n",
    "index_1 = ['City 1', 'City 2', 'City 3', 'City 4', 'City 5']  \n",
    "  \n",
    "# set the index of first series \n",
    "sr1.index = index_1 \n",
    "  \n",
    "# Creating the second Series \n",
    "sr2 = pd.Series(['Chicage', 'Shanghai', 'Beijing', 'Jakarta', 'Seoul']) \n",
    "  \n",
    "# Create the second Index \n",
    "index_2 = ['City 6', 'City 7', 'City 8', 'City 9', 'City 10']  \n",
    "  \n",
    "# set the index of second series \n",
    "sr2.index = index_2 \n",
    "  \n",
    "# Print the first series \n",
    "print(sr1) \n",
    "  \n",
    "# Print the second series \n",
    "print(sr2) "
   ]
  },
  {
   "cell_type": "markdown",
   "metadata": {},
   "source": [
    "Now we will use Series.append() function to append sr2 at the end of sr1 series. We are going to ignore the index of the given series object."
   ]
  },
  {
   "cell_type": "code",
   "execution_count": 9,
   "metadata": {},
   "outputs": [
    {
     "name": "stdout",
     "output_type": "stream",
     "text": [
      "0    New York\n",
      "1     Chicago\n",
      "2     Toronto\n",
      "3      Lisbon\n",
      "4         Rio\n",
      "5     Chicage\n",
      "6    Shanghai\n",
      "7     Beijing\n",
      "8     Jakarta\n",
      "9       Seoul\n",
      "dtype: object\n"
     ]
    }
   ],
   "source": [
    "# append sr2 at the end of sr1 \n",
    "# ignore the index \n",
    "result = sr1.append(sr2, ignore_index = True) \n",
    "  \n",
    "# Print the result \n",
    "print(result) "
   ]
  },
  {
   "cell_type": "code",
   "execution_count": 10,
   "metadata": {},
   "outputs": [],
   "source": [
    "import glob"
   ]
  },
  {
   "cell_type": "code",
   "execution_count": 11,
   "metadata": {},
   "outputs": [],
   "source": [
    "directory = \"G:/C of A's/Agilent/\""
   ]
  },
  {
   "cell_type": "code",
   "execution_count": 13,
   "metadata": {},
   "outputs": [],
   "source": [
    "lot_no = \"CL-0618\""
   ]
  },
  {
   "cell_type": "code",
   "execution_count": 16,
   "metadata": {},
   "outputs": [
    {
     "name": "stdout",
     "output_type": "stream",
     "text": [
      "G:/C of A's/Agilent/*CL-0618*\n"
     ]
    }
   ],
   "source": [
    "test_glob = str(directory + \"*\" + str(lot_no) + \"*\")\n",
    "print(test_glob)"
   ]
  },
  {
   "cell_type": "code",
   "execution_count": 14,
   "metadata": {},
   "outputs": [],
   "source": [
    "for name in sorted(glob.glob(directory\n",
    "                            + \"*\"\n",
    "                            + str(lot_no)\n",
    "                            + \"*\")): # {\n",
    "    print(name)\n",
    "# }"
   ]
  },
  {
   "cell_type": "code",
   "execution_count": 19,
   "metadata": {},
   "outputs": [
    {
     "data": {
      "text/plain": [
       "\"G:/C of A's/Agilent/*CL-0618*\""
      ]
     },
     "execution_count": 19,
     "metadata": {},
     "output_type": "execute_result"
    }
   ],
   "source": [
    "str(directory + \"*\" + str(lot_no) + \"*\")"
   ]
  },
  {
   "cell_type": "code",
   "execution_count": 15,
   "metadata": {},
   "outputs": [
    {
     "data": {
      "text/plain": [
       "0"
      ]
     },
     "execution_count": 15,
     "metadata": {},
     "output_type": "execute_result"
    }
   ],
   "source": [
    "len(sorted(glob.glob(directory + \"*\" + str(lot_no) + \"*\")))"
   ]
  },
  {
   "cell_type": "code",
   "execution_count": 20,
   "metadata": {},
   "outputs": [
    {
     "data": {
      "text/plain": [
       "\"G:/C of A's/Agilent/*\""
      ]
     },
     "execution_count": 20,
     "metadata": {},
     "output_type": "execute_result"
    }
   ],
   "source": [
    "str(directory + \"*\")"
   ]
  },
  {
   "cell_type": "code",
   "execution_count": 21,
   "metadata": {},
   "outputs": [
    {
     "data": {
      "text/plain": [
       "248"
      ]
     },
     "execution_count": 21,
     "metadata": {},
     "output_type": "execute_result"
    }
   ],
   "source": [
    "len(sorted(glob.glob(directory + \"*\")))"
   ]
  },
  {
   "cell_type": "code",
   "execution_count": 18,
   "metadata": {},
   "outputs": [
    {
     "data": {
      "text/plain": [
       "[\"G:/C of A's/Agilent\\\\##toxvet##\",\n",
       " \"G:/C of A's/Agilent\\\\01080-68702\",\n",
       " \"G:/C of A's/Agilent\\\\01080-68704, 04A\",\n",
       " \"G:/C of A's/Agilent\\\\05971-60571\",\n",
       " \"G:/C of A's/Agilent\\\\18711-60060\",\n",
       " \"G:/C of A's/Agilent\\\\18713-60040\",\n",
       " \"G:/C of A's/Agilent\\\\18789-60060\",\n",
       " \"G:/C of A's/Agilent\\\\18801-60700\",\n",
       " \"G:/C of A's/Agilent\\\\19233-60750\",\n",
       " \"G:/C of A's/Agilent\\\\19305-60580\",\n",
       " \"G:/C of A's/Agilent\\\\200-0010\",\n",
       " \"G:/C of A's/Agilent\\\\200-0032\",\n",
       " \"G:/C of A's/Agilent\\\\200-0070\",\n",
       " \"G:/C of A's/Agilent\\\\200-0110\",\n",
       " \"G:/C of A's/Agilent\\\\200-0113\",\n",
       " \"G:/C of A's/Agilent\\\\200-0185\",\n",
       " \"G:/C of A's/Agilent\\\\200-0310\",\n",
       " \"G:/C of A's/Agilent\\\\200-0370\",\n",
       " \"G:/C of A's/Agilent\\\\392030500\",\n",
       " \"G:/C of A's/Agilent\\\\392035300\",\n",
       " \"G:/C of A's/Agilent\\\\393065201\",\n",
       " \"G:/C of A's/Agilent\\\\393110101\",\n",
       " \"G:/C of A's/Agilent\\\\393112601\",\n",
       " \"G:/C of A's/Agilent\\\\393112702\",\n",
       " \"G:/C of A's/Agilent\\\\393113001\",\n",
       " \"G:/C of A's/Agilent\\\\393210201\",\n",
       " \"G:/C of A's/Agilent\\\\393211901\",\n",
       " \"G:/C of A's/Agilent\\\\393727901\",\n",
       " \"G:/C of A's/Agilent\\\\393728101\",\n",
       " \"G:/C of A's/Agilent\\\\393734801\",\n",
       " \"G:/C of A's/Agilent\\\\400505\",\n",
       " \"G:/C of A's/Agilent\\\\5060-9086\",\n",
       " \"G:/C of A's/Agilent\\\\5063-6503\",\n",
       " \"G:/C of A's/Agilent\\\\5063-6521\",\n",
       " \"G:/C of A's/Agilent\\\\5064-8220\",\n",
       " \"G:/C of A's/Agilent\\\\5065-4420\",\n",
       " \"G:/C of A's/Agilent\\\\5065-9908\",\n",
       " \"G:/C of A's/Agilent\\\\5080-8716\",\n",
       " \"G:/C of A's/Agilent\\\\5080-8768\",\n",
       " \"G:/C of A's/Agilent\\\\5080-8769\",\n",
       " \"G:/C of A's/Agilent\\\\5080-8842\",\n",
       " \"G:/C of A's/Agilent\\\\5080-8858\",\n",
       " \"G:/C of A's/Agilent\\\\5182-9733\",\n",
       " \"G:/C of A's/Agilent\\\\5183-0379\",\n",
       " \"G:/C of A's/Agilent\\\\5188-5244\",\n",
       " \"G:/C of A's/Agilent\\\\5188-5245\",\n",
       " \"G:/C of A's/Agilent\\\\5188-5316\",\n",
       " \"G:/C of A's/Agilent\\\\5188-5317\",\n",
       " \"G:/C of A's/Agilent\\\\5188-5347\",\n",
       " \"G:/C of A's/Agilent\\\\5188-5348\",\n",
       " \"G:/C of A's/Agilent\\\\5188-5357\",\n",
       " \"G:/C of A's/Agilent\\\\5188-5372\",\n",
       " \"G:/C of A's/Agilent\\\\5188-5953\",\n",
       " \"G:/C of A's/Agilent\\\\5188-6523 - Obsolete\",\n",
       " \"G:/C of A's/Agilent\\\\5188-6529\",\n",
       " \"G:/C of A's/Agilent\\\\5190-0466 OBS\",\n",
       " \"G:/C of A's/Agilent\\\\5190-0468\",\n",
       " \"G:/C of A's/Agilent\\\\5190-0469\",\n",
       " \"G:/C of A's/Agilent\\\\5190-0470\",\n",
       " \"G:/C of A's/Agilent\\\\5190-0471\",\n",
       " \"G:/C of A's/Agilent\\\\5190-0472\",\n",
       " \"G:/C of A's/Agilent\\\\5190-0482\",\n",
       " \"G:/C of A's/Agilent\\\\5190-0483\",\n",
       " \"G:/C of A's/Agilent\\\\5190-0484\",\n",
       " \"G:/C of A's/Agilent\\\\5190-0485\",\n",
       " \"G:/C of A's/Agilent\\\\5190-0487\",\n",
       " \"G:/C of A's/Agilent\\\\5190-0488\",\n",
       " \"G:/C of A's/Agilent\\\\5190-0489\",\n",
       " \"G:/C of A's/Agilent\\\\5190-0490\",\n",
       " \"G:/C of A's/Agilent\\\\5190-0491\",\n",
       " \"G:/C of A's/Agilent\\\\5190-0492\",\n",
       " \"G:/C of A's/Agilent\\\\5190-0493\",\n",
       " \"G:/C of A's/Agilent\\\\5190-0494\",\n",
       " \"G:/C of A's/Agilent\\\\5190-0499\",\n",
       " \"G:/C of A's/Agilent\\\\5190-0500\",\n",
       " \"G:/C of A's/Agilent\\\\5190-0501\",\n",
       " \"G:/C of A's/Agilent\\\\5190-0502\",\n",
       " \"G:/C of A's/Agilent\\\\5190-0503\",\n",
       " \"G:/C of A's/Agilent\\\\5190-0513\",\n",
       " \"G:/C of A's/Agilent\\\\5190-0522\",\n",
       " \"G:/C of A's/Agilent\\\\5190-0531\",\n",
       " \"G:/C of A's/Agilent\\\\5190-0533\",\n",
       " \"G:/C of A's/Agilent\\\\5190-0535\",\n",
       " \"G:/C of A's/Agilent\\\\5190-0536\",\n",
       " \"G:/C of A's/Agilent\\\\5190-0537\",\n",
       " \"G:/C of A's/Agilent\\\\5190-0551 Pest Kit\",\n",
       " \"G:/C of A's/Agilent\\\\5190-0552\",\n",
       " \"G:/C of A's/Agilent\\\\5190-0553\",\n",
       " \"G:/C of A's/Agilent\\\\5190-0554A\",\n",
       " \"G:/C of A's/Agilent\\\\5190-0554B\",\n",
       " \"G:/C of A's/Agilent\\\\5190-0555A\",\n",
       " \"G:/C of A's/Agilent\\\\5190-0555B\",\n",
       " \"G:/C of A's/Agilent\\\\5190-0556\",\n",
       " \"G:/C of A's/Agilent\\\\5190-0557\",\n",
       " \"G:/C of A's/Agilent\\\\5190-0558\",\n",
       " \"G:/C of A's/Agilent\\\\5190-0559\",\n",
       " \"G:/C of A's/Agilent\\\\5190-0560\",\n",
       " \"G:/C of A's/Agilent\\\\5190-0561\",\n",
       " \"G:/C of A's/Agilent\\\\5190-0562\",\n",
       " \"G:/C of A's/Agilent\\\\5190-0563\",\n",
       " \"G:/C of A's/Agilent\\\\5190-0564\",\n",
       " \"G:/C of A's/Agilent\\\\5190-0565\",\n",
       " \"G:/C of A's/Agilent\\\\5190-0566\",\n",
       " \"G:/C of A's/Agilent\\\\5190-0567\",\n",
       " \"G:/C of A's/Agilent\\\\5190-0568 OBS\",\n",
       " \"G:/C of A's/Agilent\\\\5190-0569\",\n",
       " \"G:/C of A's/Agilent\\\\5190-0570\",\n",
       " \"G:/C of A's/Agilent\\\\5190-0570-T\",\n",
       " \"G:/C of A's/Agilent\\\\5190-0571\",\n",
       " \"G:/C of A's/Agilent\\\\5190-0572\",\n",
       " \"G:/C of A's/Agilent\\\\5190-0573\",\n",
       " \"G:/C of A's/Agilent\\\\5190-0574\",\n",
       " \"G:/C of A's/Agilent\\\\5190-0575\",\n",
       " \"G:/C of A's/Agilent\\\\5190-0576\",\n",
       " \"G:/C of A's/Agilent\\\\5190-0577\",\n",
       " \"G:/C of A's/Agilent\\\\5190-0578\",\n",
       " \"G:/C of A's/Agilent\\\\5190-0579\",\n",
       " \"G:/C of A's/Agilent\\\\5190-0580\",\n",
       " \"G:/C of A's/Agilent\\\\5190-0584\",\n",
       " \"G:/C of A's/Agilent\\\\5190-0585\",\n",
       " \"G:/C of A's/Agilent\\\\5190-0591\",\n",
       " \"G:/C of A's/Agilent\\\\5190-1407\",\n",
       " \"G:/C of A's/Agilent\\\\5190-1408\",\n",
       " \"G:/C of A's/Agilent\\\\5190-1409\",\n",
       " \"G:/C of A's/Agilent\\\\5190-1410\",\n",
       " \"G:/C of A's/Agilent\\\\5190-1441\",\n",
       " \"G:/C of A's/Agilent\\\\5190-2277\",\n",
       " \"G:/C of A's/Agilent\\\\5190-2278\",\n",
       " \"G:/C of A's/Agilent\\\\5190-2280\",\n",
       " \"G:/C of A's/Agilent\\\\5190-2281\",\n",
       " \"G:/C of A's/Agilent\\\\5190-2283\",\n",
       " \"G:/C of A's/Agilent\\\\5190-6166\",\n",
       " \"G:/C of A's/Agilent\\\\5190-6167\",\n",
       " \"G:/C of A's/Agilent\\\\5190-6886\",\n",
       " \"G:/C of A's/Agilent\\\\5190-6887\",\n",
       " \"G:/C of A's/Agilent\\\\5190-6888\",\n",
       " \"G:/C of A's/Agilent\\\\5190-6891\",\n",
       " \"G:/C of A's/Agilent\\\\5190-6895\",\n",
       " \"G:/C of A's/Agilent\\\\5190-6898\",\n",
       " \"G:/C of A's/Agilent\\\\5190-6901\",\n",
       " \"G:/C of A's/Agilent\\\\5190-6902\",\n",
       " \"G:/C of A's/Agilent\\\\5190-7002\",\n",
       " \"G:/C of A's/Agilent\\\\5190-7003\",\n",
       " \"G:/C of A's/Agilent\\\\5190-8223\",\n",
       " \"G:/C of A's/Agilent\\\\5190-9070\",\n",
       " \"G:/C of A's/Agilent\\\\5191-3905\",\n",
       " \"G:/C of A's/Agilent\\\\5191-3940\",\n",
       " \"G:/C of A's/Agilent\\\\5191-4276\",\n",
       " \"G:/C of A's/Agilent\\\\5191-4277\",\n",
       " \"G:/C of A's/Agilent\\\\5191-4278\",\n",
       " \"G:/C of A's/Agilent\\\\5191-4285\",\n",
       " \"G:/C of A's/Agilent\\\\5191-4499\",\n",
       " \"G:/C of A's/Agilent\\\\5191-4500\",\n",
       " \"G:/C of A's/Agilent\\\\5191-4501\",\n",
       " \"G:/C of A's/Agilent\\\\5191-4502\",\n",
       " \"G:/C of A's/Agilent\\\\5191-4503\",\n",
       " \"G:/C of A's/Agilent\\\\5191-4504\",\n",
       " \"G:/C of A's/Agilent\\\\5191-4505\",\n",
       " \"G:/C of A's/Agilent\\\\5191-4506\",\n",
       " \"G:/C of A's/Agilent\\\\5191-4508\",\n",
       " \"G:/C of A's/Agilent\\\\5191-4509\",\n",
       " \"G:/C of A's/Agilent\\\\5191-4510\",\n",
       " \"G:/C of A's/Agilent\\\\5191-4511\",\n",
       " \"G:/C of A's/Agilent\\\\5191-4512\",\n",
       " \"G:/C of A's/Agilent\\\\5191-4513\",\n",
       " \"G:/C of A's/Agilent\\\\5191-4544\",\n",
       " \"G:/C of A's/Agilent\\\\5191-4546\",\n",
       " \"G:/C of A's/Agilent\\\\5799-0014\",\n",
       " \"G:/C of A's/Agilent\\\\5982-0024\",\n",
       " \"G:/C of A's/Agilent\\\\5982-0025\",\n",
       " \"G:/C of A's/Agilent\\\\8010-0976\",\n",
       " \"G:/C of A's/Agilent\\\\8010-0978\",\n",
       " \"G:/C of A's/Agilent\\\\8010-0979\",\n",
       " \"G:/C of A's/Agilent\\\\8010-0980\",\n",
       " \"G:/C of A's/Agilent\\\\8500-4328\",\n",
       " \"G:/C of A's/Agilent\\\\8500-4789\",\n",
       " \"G:/C of A's/Agilent\\\\8500-5067\",\n",
       " \"G:/C of A's/Agilent\\\\8500-5851\",\n",
       " \"G:/C of A's/Agilent\\\\8500-5901\",\n",
       " \"G:/C of A's/Agilent\\\\8500-5902\",\n",
       " \"G:/C of A's/Agilent\\\\8500-5904\",\n",
       " \"G:/C of A's/Agilent\\\\8500-5926\",\n",
       " \"G:/C of A's/Agilent\\\\8500-5936\",\n",
       " \"G:/C of A's/Agilent\\\\8500-5937\",\n",
       " \"G:/C of A's/Agilent\\\\8500-5963\",\n",
       " \"G:/C of A's/Agilent\\\\8500-5995\",\n",
       " \"G:/C of A's/Agilent\\\\8500-6011\",\n",
       " \"G:/C of A's/Agilent\\\\8500-6035\",\n",
       " \"G:/C of A's/Agilent\\\\8500-6050\",\n",
       " \"G:/C of A's/Agilent\\\\8500-6054\",\n",
       " \"G:/C of A's/Agilent\\\\8500-6076\",\n",
       " \"G:/C of A's/Agilent\\\\8500-6762\",\n",
       " \"G:/C of A's/Agilent\\\\8500-6812\",\n",
       " \"G:/C of A's/Agilent\\\\8500-6813\",\n",
       " \"G:/C of A's/Agilent\\\\8500-6917\",\n",
       " \"G:/C of A's/Agilent\\\\8500-8510\",\n",
       " \"G:/C of A's/Agilent\\\\ACUS-29108\",\n",
       " \"G:/C of A's/Agilent\\\\AGI-1007\",\n",
       " \"G:/C of A's/Agilent\\\\AGI-1008\",\n",
       " \"G:/C of A's/Agilent\\\\AGI-1009\",\n",
       " \"G:/C of A's/Agilent\\\\AGI-1010\",\n",
       " \"G:/C of A's/Agilent\\\\AGI-1011\",\n",
       " \"G:/C of A's/Agilent\\\\AGI-1012\",\n",
       " \"G:/C of A's/Agilent\\\\AGI-P03\",\n",
       " \"G:/C of A's/Agilent\\\\AGI-T04-9\",\n",
       " \"G:/C of A's/Agilent\\\\AGI-T05-1\",\n",
       " \"G:/C of A's/Agilent\\\\AGI-T05-2\",\n",
       " \"G:/C of A's/Agilent\\\\AGI-T05-3\",\n",
       " \"G:/C of A's/Agilent\\\\G1946-85004\",\n",
       " \"G:/C of A's/Agilent\\\\G1946-85005\",\n",
       " \"G:/C of A's/Agilent\\\\G1946-85021\",\n",
       " \"G:/C of A's/Agilent\\\\G1969-85000\",\n",
       " \"G:/C of A's/Agilent\\\\G1969-85001\",\n",
       " \"G:/C of A's/Agilent\\\\G1969-85003\",\n",
       " \"G:/C of A's/Agilent\\\\G1969-85010\",\n",
       " \"G:/C of A's/Agilent\\\\G1969-85020\",\n",
       " \"G:/C of A's/Agilent\\\\G1969-85025\",\n",
       " \"G:/C of A's/Agilent\\\\G1969-85026 (Flushing Solvent)\",\n",
       " \"G:/C of A's/Agilent\\\\G1978-85000\",\n",
       " \"G:/C of A's/Agilent\\\\G2037A\",\n",
       " \"G:/C of A's/Agilent\\\\G2421-60001\",\n",
       " \"G:/C of A's/Agilent\\\\G2431A\",\n",
       " \"G:/C of A's/Agilent\\\\G2432A\",\n",
       " \"G:/C of A's/Agilent\\\\G2453-85060\",\n",
       " \"G:/C of A's/Agilent\\\\G3440-85000\",\n",
       " \"G:/C of A's/Agilent\\\\G3440-85009\",\n",
       " \"G:/C of A's/Agilent\\\\G3440-85011\",\n",
       " \"G:/C of A's/Agilent\\\\G3440-85012\",\n",
       " \"G:/C of A's/Agilent\\\\G3440-85013\",\n",
       " \"G:/C of A's/Agilent\\\\G3440-85018\",\n",
       " \"G:/C of A's/Agilent\\\\G3440-85026\",\n",
       " \"G:/C of A's/Agilent\\\\G3440-85027\",\n",
       " \"G:/C of A's/Agilent\\\\G3440-85028\",\n",
       " \"G:/C of A's/Agilent\\\\G3440-85029\",\n",
       " \"G:/C of A's/Agilent\\\\G3440-85030\",\n",
       " \"G:/C of A's/Agilent\\\\G3440-85031\",\n",
       " \"G:/C of A's/Agilent\\\\G3440-85034\",\n",
       " \"G:/C of A's/Agilent\\\\G3440-85035\",\n",
       " \"G:/C of A's/Agilent\\\\G3440-85036\",\n",
       " \"G:/C of A's/Agilent\\\\G3440-85037\",\n",
       " \"G:/C of A's/Agilent\\\\G3440-85041\",\n",
       " \"G:/C of A's/Agilent\\\\G3440-85045\",\n",
       " \"G:/C of A's/Agilent\\\\G4218-85000\",\n",
       " \"G:/C of A's/Agilent\\\\HP624\",\n",
       " \"G:/C of A's/Agilent\\\\New folder\",\n",
       " \"G:/C of A's/Agilent\\\\Sers Kit (070-T009-112)\",\n",
       " \"G:/C of A's/Agilent\\\\Silly8\",\n",
       " \"G:/C of A's/Agilent\\\\_New Agilent\"]"
      ]
     },
     "execution_count": 18,
     "metadata": {},
     "output_type": "execute_result"
    }
   ],
   "source": [
    "sorted(glob.glob(directory + \"*\"))"
   ]
  },
  {
   "cell_type": "code",
   "execution_count": null,
   "metadata": {},
   "outputs": [],
   "source": []
  }
 ],
 "metadata": {
  "kernelspec": {
   "display_name": "Python 3",
   "language": "python",
   "name": "python3"
  },
  "language_info": {
   "codemirror_mode": {
    "name": "ipython",
    "version": 3
   },
   "file_extension": ".py",
   "mimetype": "text/x-python",
   "name": "python",
   "nbconvert_exporter": "python",
   "pygments_lexer": "ipython3",
   "version": "3.7.0"
  }
 },
 "nbformat": 4,
 "nbformat_minor": 4
}
