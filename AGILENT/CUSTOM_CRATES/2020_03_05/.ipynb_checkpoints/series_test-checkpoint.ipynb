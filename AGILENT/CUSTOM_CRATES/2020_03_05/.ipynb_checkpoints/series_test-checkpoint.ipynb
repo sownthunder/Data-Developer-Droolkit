{
 "cells": [
  {
   "cell_type": "markdown",
   "metadata": {},
   "source": [
    "**Example #1:** Use Series.append() function to append the passed series object at the end of this series object."
   ]
  },
  {
   "cell_type": "code",
   "execution_count": 6,
   "metadata": {},
   "outputs": [
    {
     "name": "stdout",
     "output_type": "stream",
     "text": [
      "City 1    New York\n",
      "City 2     Chicago\n",
      "City 3     Toronto\n",
      "City 4      Lisbon\n",
      "City 5         Rio\n",
      "dtype: object\n",
      "City 6      Chicage\n",
      "City 7     Shanghai\n",
      "City 8      Beijing\n",
      "City 9      Jakarta\n",
      "City 10       Seoul\n",
      "dtype: object\n",
      "Operation Completed Successfully...\n"
     ]
    }
   ],
   "source": [
    "# TRY THE FOLLOWING\n",
    "try: # {\n",
    "    # importing pandas as pd \n",
    "    import pandas as pd \n",
    "    \n",
    "    # Creating the first Series \n",
    "    sr1 = pd.Series(['New York', 'Chicago', 'Toronto', 'Lisbon', 'Rio']) \n",
    "    \n",
    "    # Create the first Index \n",
    "    index_1 = ['City 1', 'City 2', 'City 3', 'City 4', 'City 5']  \n",
    "    \n",
    "    # set the index of first series \n",
    "    sr1.index = index_1 \n",
    "    \n",
    "    # Creating the second Series \n",
    "    sr2 = pd.Series(['Chicage', 'Shanghai', 'Beijing', 'Jakarta', 'Seoul']) \n",
    "    \n",
    "    # Create the second Index \n",
    "    index_2 = ['City 6', 'City 7', 'City 8', 'City 9', 'City 10']  \n",
    "    \n",
    "    # set the index of second series \n",
    "    sr2.index = index_2 \n",
    "    \n",
    "    # Print the first series \n",
    "    print(sr1) \n",
    "    \n",
    "    # Print the second series \n",
    "    print(sr2) \n",
    "# }\n",
    "except: # {\n",
    "    errorMessage = str(sys.exc_info()[0]) + \"\\n\\t\\t\"\n",
    "    errorMessage = errorMessage + str(sys.exc_info()[1]) + \"\\n\\t\\t\"\n",
    "    errorMessage = errorMessage + str(sys.exc_info()[2]) + \"\\n\"\n",
    "    exc_type, exc_obj, exc_tb = sys.exc_info()\n",
    "    fname = os.path.split(exc_tb.tb_frame.f_code.co_filename)[1]\n",
    "    typeE = str(\"TYPE : \" + str(exc_type))\n",
    "    fileE = str(\"FILE : \" + str(fname))\n",
    "    lineE = str(\"LINE : \" + str(exc_tb.tb_lineno))\n",
    "    messageE = str(\"MESG : \" + \"\\n\" + str(errorMessage) + \"\\n\")\n",
    "    print(\"\\n\" + typeE +\n",
    "          \"\\n\" + fileE +\n",
    "          \"\\n\" + lineE +\n",
    "          \"\\n\" + messageE)\n",
    "# }\n",
    "else: # {\n",
    "    print(\"Operation Completed Successfully...\")\n",
    "# }"
   ]
  },
  {
   "cell_type": "markdown",
   "metadata": {},
   "source": [
    "Now we will use Series.append() function to append sr2 at the end of sr1 series."
   ]
  },
  {
   "cell_type": "code",
   "execution_count": 7,
   "metadata": {},
   "outputs": [
    {
     "name": "stdout",
     "output_type": "stream",
     "text": [
      "City 1     New York\n",
      "City 2      Chicago\n",
      "City 3      Toronto\n",
      "City 4       Lisbon\n",
      "City 5          Rio\n",
      "City 6      Chicage\n",
      "City 7     Shanghai\n",
      "City 8      Beijing\n",
      "City 9      Jakarta\n",
      "City 10       Seoul\n",
      "dtype: object\n"
     ]
    }
   ],
   "source": [
    "# append sr2 at the end of sr1 \n",
    "result = sr1.append(sr2) \n",
    "  \n",
    "# Print the result \n",
    "print(result) "
   ]
  },
  {
   "cell_type": "markdown",
   "metadata": {},
   "source": [
    "As we can see in the output, the `Series.append()` function has successfully append the sr2 object at the end of sr1 object.\n",
    " \n",
    "**Example #2:** Use Series.append() function to append the passed series object at the end of this series object. Ignore the original index of the two series objects."
   ]
  },
  {
   "cell_type": "code",
   "execution_count": 8,
   "metadata": {},
   "outputs": [
    {
     "name": "stdout",
     "output_type": "stream",
     "text": [
      "City 1    New York\n",
      "City 2     Chicago\n",
      "City 3     Toronto\n",
      "City 4      Lisbon\n",
      "City 5         Rio\n",
      "dtype: object\n",
      "City 6      Chicage\n",
      "City 7     Shanghai\n",
      "City 8      Beijing\n",
      "City 9      Jakarta\n",
      "City 10       Seoul\n",
      "dtype: object\n"
     ]
    }
   ],
   "source": [
    "# importing pandas as pd \n",
    "import pandas as pd \n",
    "  \n",
    "# Creating the first Series \n",
    "sr1 = pd.Series(['New York', 'Chicago', 'Toronto', 'Lisbon', 'Rio']) \n",
    "  \n",
    "# Create the first Index \n",
    "index_1 = ['City 1', 'City 2', 'City 3', 'City 4', 'City 5']  \n",
    "  \n",
    "# set the index of first series \n",
    "sr1.index = index_1 \n",
    "  \n",
    "# Creating the second Series \n",
    "sr2 = pd.Series(['Chicage', 'Shanghai', 'Beijing', 'Jakarta', 'Seoul']) \n",
    "  \n",
    "# Create the second Index \n",
    "index_2 = ['City 6', 'City 7', 'City 8', 'City 9', 'City 10']  \n",
    "  \n",
    "# set the index of second series \n",
    "sr2.index = index_2 \n",
    "  \n",
    "# Print the first series \n",
    "print(sr1) \n",
    "  \n",
    "# Print the second series \n",
    "print(sr2) "
   ]
  },
  {
   "cell_type": "markdown",
   "metadata": {},
   "source": [
    "Now we will use Series.append() function to append sr2 at the end of sr1 series. We are going to ignore the index of the given series object."
   ]
  },
  {
   "cell_type": "code",
   "execution_count": 9,
   "metadata": {},
   "outputs": [
    {
     "name": "stdout",
     "output_type": "stream",
     "text": [
      "0    New York\n",
      "1     Chicago\n",
      "2     Toronto\n",
      "3      Lisbon\n",
      "4         Rio\n",
      "5     Chicage\n",
      "6    Shanghai\n",
      "7     Beijing\n",
      "8     Jakarta\n",
      "9       Seoul\n",
      "dtype: object\n"
     ]
    }
   ],
   "source": [
    "# append sr2 at the end of sr1 \n",
    "# ignore the index \n",
    "result = sr1.append(sr2, ignore_index = True) \n",
    "  \n",
    "# Print the result \n",
    "print(result) "
   ]
  },
  {
   "cell_type": "code",
   "execution_count": 10,
   "metadata": {},
   "outputs": [],
   "source": [
    "import glob"
   ]
  },
  {
   "cell_type": "code",
   "execution_count": 11,
   "metadata": {},
   "outputs": [],
   "source": [
    "directory = \"G:/C of A's/Agilent/\""
   ]
  },
  {
   "cell_type": "code",
   "execution_count": 13,
   "metadata": {},
   "outputs": [],
   "source": [
    "lot_no = \"CL-0618\""
   ]
  },
  {
   "cell_type": "code",
   "execution_count": 14,
   "metadata": {},
   "outputs": [],
   "source": [
    "for name in sorted(glob.glob(directory\n",
    "                            + \"*\"\n",
    "                            + str(lot_no)\n",
    "                            + \"*\")): # {\n",
    "    print(name)\n",
    "# }"
   ]
  },
  {
   "cell_type": "code",
   "execution_count": 15,
   "metadata": {},
   "outputs": [
    {
     "data": {
      "text/plain": [
       "0"
      ]
     },
     "execution_count": 15,
     "metadata": {},
     "output_type": "execute_result"
    }
   ],
   "source": [
    "len(sorted(glob.glob(directory + \"*\" + str(lot_no) + \"*\")))"
   ]
  },
  {
   "cell_type": "code",
   "execution_count": null,
   "metadata": {},
   "outputs": [],
   "source": []
  }
 ],
 "metadata": {
  "kernelspec": {
   "display_name": "Python 3",
   "language": "python",
   "name": "python3"
  },
  "language_info": {
   "codemirror_mode": {
    "name": "ipython",
    "version": 3
   },
   "file_extension": ".py",
   "mimetype": "text/x-python",
   "name": "python",
   "nbconvert_exporter": "python",
   "pygments_lexer": "ipython3",
   "version": "3.7.0"
  }
 },
 "nbformat": 4,
 "nbformat_minor": 4
}
