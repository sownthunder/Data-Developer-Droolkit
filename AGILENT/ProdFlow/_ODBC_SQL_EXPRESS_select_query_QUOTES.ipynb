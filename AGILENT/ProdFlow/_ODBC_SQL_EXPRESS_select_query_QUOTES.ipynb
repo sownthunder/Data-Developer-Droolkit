{
 "cells": [
  {
   "cell_type": "markdown",
   "metadata": {},
   "source": [
    "# `SQL_EXPRESSS ODBC_select`\n",
    "*(SQL_EXPRESS >> data)\n",
    "\n",
    "---\n",
    "\n",
    "## `SQL_SERVER` connects via `pyodbc`\n",
    "## and read into a `PANDAS DataFrame`\n",
    "\n",
    "---"
   ]
  },
  {
   "cell_type": "code",
   "execution_count": 1,
   "metadata": {},
   "outputs": [],
   "source": [
    "# import the goodies\n",
    "import os, sys, time"
   ]
  },
  {
   "cell_type": "code",
   "execution_count": 2,
   "metadata": {},
   "outputs": [],
   "source": [
    "# import DATE-TIME\n",
    "## used for file-convention_naming\n",
    "import datetime"
   ]
  },
  {
   "cell_type": "code",
   "execution_count": 3,
   "metadata": {},
   "outputs": [
    {
     "name": "stdout",
     "output_type": "stream",
     "text": [
      "file naming convention (today's example) : 01_15_2020-105456\n"
     ]
    }
   ],
   "source": [
    "# CREATE TIME STAMP FOR FILE CREATION NAME\n",
    "date_object = datetime.date.today()\n",
    "time_object = str('{0:%m_%d_%Y-%H%M%S}'.format(datetime.datetime.now()))\n",
    "print(str(\"file naming convention (today's example) :\"), time_object)"
   ]
  },
  {
   "cell_type": "code",
   "execution_count": 4,
   "metadata": {},
   "outputs": [],
   "source": [
    "import tkinter as tk\n",
    "from tkinter import filedialog\n",
    "from tkinter import messagebox"
   ]
  },
  {
   "cell_type": "code",
   "execution_count": 5,
   "metadata": {},
   "outputs": [],
   "source": [
    "import pandas as pd\n",
    "import numpy as np\n",
    "from pandas import Series, DataFrame"
   ]
  },
  {
   "cell_type": "code",
   "execution_count": 6,
   "metadata": {},
   "outputs": [],
   "source": [
    "import pyodbc"
   ]
  },
  {
   "cell_type": "code",
   "execution_count": 7,
   "metadata": {},
   "outputs": [],
   "source": [
    "from sqlalchemy.inspection import inspect"
   ]
  },
  {
   "cell_type": "markdown",
   "metadata": {},
   "source": [
    "---"
   ]
  },
  {
   "cell_type": "code",
   "execution_count": 8,
   "metadata": {},
   "outputs": [],
   "source": [
    "inDirectory = \"C:/Temp/\""
   ]
  },
  {
   "cell_type": "markdown",
   "metadata": {},
   "source": [
    "##### `SQL_SERVER [ODBC] Driver`"
   ]
  },
  {
   "cell_type": "markdown",
   "metadata": {},
   "source": [
    "---\n",
    "#### create `[conn_str]`"
   ]
  },
  {
   "cell_type": "code",
   "execution_count": 9,
   "metadata": {},
   "outputs": [],
   "source": [
    "conn_str = str(\n",
    "    r'DRIVER={ODBC Driver 17 for SQL Server};'\n",
    "    r'SERVER=wtkngappflow1.is.agilent.net;'\n",
    "    r'DATABASE=ProdFlowII_Dev;'\n",
    "    r'Trusted_Connection=yes;'\n",
    "    )"
   ]
  },
  {
   "cell_type": "markdown",
   "metadata": {},
   "source": [
    "#### create `[cnxn]` from `[conn_str]`\n",
    "#### create `[crsr]` from `[cnxn]`"
   ]
  },
  {
   "cell_type": "code",
   "execution_count": 10,
   "metadata": {},
   "outputs": [
    {
     "name": "stdout",
     "output_type": "stream",
     "text": [
      "FIN...\n"
     ]
    }
   ],
   "source": [
    "try: #{\n",
    "    # Use connection strings for all these drivers\n",
    "    cnxn = pyodbc.connect(conn_str)\n",
    "    crsr = cnxn.cursor()\n",
    "#}\n",
    "except: #{\n",
    "    errorMessage = str(sys.exc_info()[0]) + \"\\n\"\n",
    "    errorMessage = errorMessage + str(sys.exc_info()[1]) + \"\\n\\t\\t\"\n",
    "    errorMessage = errorMessage + str(sys.exc_info()[2]) + \"\\n\"\n",
    "    exc_type, exc_obj, exc_tb = sys.exc_info()\n",
    "    fname = os.path.split(exc_tb.tb_frame.f_code.co_filename)[1]\n",
    "    typeE = str(\"TYPE : \" + str(exc_type))\n",
    "    fileE = str(\"FILE : \" + str(fname))\n",
    "    lineE = str(\"LINE : \" + str(exc_tb.tb_lineno))\n",
    "    messageE = str(\"MESG : \" + \"\\n\" + str(errorMessage) + \"\\n\")\n",
    "    print(\"\\n\" + typeE + \n",
    "          \"\\n\" + fileE + \n",
    "          \"\\n\" + lineE + \n",
    "          \"\\n\" + messageE)\n",
    "#}\n",
    "else: #{\n",
    "    print(\"FIN...\")\n",
    "#}"
   ]
  },
  {
   "cell_type": "markdown",
   "metadata": {},
   "source": [
    "---"
   ]
  },
  {
   "cell_type": "raw",
   "metadata": {
    "raw_mimetype": "text/x-python"
   },
   "source": [
    "quotes = cnxn.execute(\"select * FROM [QuoteList]\")\n",
    "\n",
    "for quote in quotes: # {\n",
    "    print('quote = %r' % (quote,))\n",
    "# }"
   ]
  },
  {
   "cell_type": "code",
   "execution_count": 13,
   "metadata": {
    "scrolled": false
   },
   "outputs": [
    {
     "name": "stdout",
     "output_type": "stream",
     "text": [
      "row = ('ProdflowII_Dev', 'dbo', 'Matrix Recipes', 'BASE TABLE')\n",
      "row = ('ProdflowII_Dev', 'dbo', 'MC Catalog', 'BASE TABLE')\n",
      "row = ('ProdflowII_Dev', 'dbo', 'MultiFormList', 'BASE TABLE')\n",
      "row = ('ProdflowII_Dev', 'dbo', 'MultiFormList2', 'BASE TABLE')\n",
      "row = ('ProdflowII_Dev', 'dbo', 'NeatCofA', 'BASE TABLE')\n",
      "row = ('ProdflowII_Dev', 'dbo', 'neats', 'BASE TABLE')\n",
      "row = ('ProdflowII_Dev', 'dbo', 'OEM Product Details', 'BASE TABLE')\n",
      "row = ('ProdflowII_Dev', 'dbo', 'Orders', 'BASE TABLE')\n",
      "row = ('ProdflowII_Dev', 'dbo', 'AgilentChild', 'BASE TABLE')\n",
      "row = ('ProdflowII_Dev', 'dbo', 'AgilentPN', 'BASE TABLE')\n",
      "row = ('ProdflowII_Dev', 'dbo', 'Assays', 'BASE TABLE')\n",
      "row = ('ProdflowII_Dev', 'dbo', 'BotAmpConsumption', 'BASE TABLE')\n",
      "row = ('ProdflowII_Dev', 'dbo', 'PC Info', 'BASE TABLE')\n",
      "row = ('ProdflowII_Dev', 'dbo', 'Bridge Table', 'BASE TABLE')\n",
      "row = ('ProdflowII_Dev', 'dbo', 'Bulk MSDS Product Numbers', 'BASE TABLE')\n",
      "row = ('ProdflowII_Dev', 'dbo', 'Personnel', 'BASE TABLE')\n",
      "row = ('ProdflowII_Dev', 'dbo', 'BulkQCHours', 'BASE TABLE')\n",
      "row = ('ProdflowII_Dev', 'dbo', 'Pesticide_Categorization', 'BASE TABLE')\n",
      "row = ('ProdflowII_Dev', 'dbo', 'PesticideCAS', 'BASE TABLE')\n",
      "row = ('ProdflowII_Dev', 'dbo', 'PfSagePN', 'BASE TABLE')\n",
      "row = ('ProdflowII_Dev', 'dbo', 'Cat#', 'BASE TABLE')\n",
      "row = ('ProdflowII_Dev', 'dbo', 'PfSagePN_Full', 'BASE TABLE')\n",
      "row = ('ProdflowII_Dev', 'dbo', 'Catalog Names - SAP Cutover', 'BASE TABLE')\n",
      "row = ('ProdflowII_Dev', 'dbo', 'PLW', 'BASE TABLE')\n",
      "row = ('ProdflowII_Dev', 'dbo', 'CofA', 'BASE TABLE')\n",
      "row = ('ProdflowII_Dev', 'dbo', 'ProductionHours', 'BASE TABLE')\n",
      "row = ('ProdflowII_Dev', 'dbo', 'CofABridge', 'BASE TABLE')\n",
      "row = ('ProdflowII_Dev', 'dbo', 'COMPID _ CAS', 'BASE TABLE')\n",
      "row = ('ProdflowII_Dev', 'dbo', 'ContainerBridge', 'BASE TABLE')\n",
      "row = ('ProdflowII_Dev', 'dbo', 'CostingExports', 'BASE TABLE')\n",
      "row = ('ProdflowII_Dev', 'dbo', 'ProductSpecSheetList', 'BASE TABLE')\n",
      "row = ('ProdflowII_Dev', 'dbo', 'Proposition65', 'BASE TABLE')\n",
      "row = ('ProdflowII_Dev', 'dbo', 'QC Analysis', 'BASE TABLE')\n",
      "row = ('ProdflowII_Dev', 'dbo', 'QC Methods', 'BASE TABLE')\n",
      "row = ('ProdflowII_Dev', 'dbo', 'QCHours', 'BASE TABLE')\n",
      "row = ('ProdflowII_Dev', 'dbo', 'QuoteList', 'BASE TABLE')\n",
      "row = ('ProdflowII_Dev', 'dbo', 'Units of Sale', 'BASE TABLE')\n",
      "row = ('ProdflowII_Dev', 'dbo', 'Quotes', 'BASE TABLE')\n",
      "row = ('ProdflowII_Dev', 'dbo', 'CpmdClass', 'BASE TABLE')\n",
      "row = ('ProdflowII_Dev', 'dbo', 'CpmdPNList', 'BASE TABLE')\n",
      "row = ('ProdflowII_Dev', 'dbo', 'Custom Names - SAP Cutover', 'BASE TABLE')\n",
      "row = ('ProdflowII_Dev', 'dbo', 'Customers', 'BASE TABLE')\n",
      "row = ('ProdflowII_Dev', 'dbo', 'CustomQuotingImport', 'BASE TABLE')\n",
      "row = ('ProdflowII_Dev', 'dbo', 'dbo_CatalogProducts', 'BASE TABLE')\n",
      "row = ('ProdflowII_Dev', 'dbo', 'ReagentLots', 'BASE TABLE')\n",
      "row = ('ProdflowII_Dev', 'dbo', 'dbo_LatestPfSageExcel', 'BASE TABLE')\n",
      "row = ('ProdflowII_Dev', 'dbo', 'Recipe Info', 'BASE TABLE')\n",
      "row = ('ProdflowII_Dev', 'dbo', 'dbo_PrevCrossRefFile', 'BASE TABLE')\n",
      "row = ('ProdflowII_Dev', 'dbo', 'Synonyms', 'BASE TABLE')\n",
      "row = ('ProdflowII_Dev', 'dbo', 'Densities', 'BASE TABLE')\n",
      "row = ('ProdflowII_Dev', 'dbo', 'Recipes', 'BASE TABLE')\n",
      "row = ('ProdflowII_Dev', 'dbo', 'Report Headers', 'BASE TABLE')\n",
      "row = ('ProdflowII_Dev', 'dbo', 'DJL Cleanup List', 'BASE TABLE')\n",
      "row = ('ProdflowII_Dev', 'dbo', 'ReportFooters', 'BASE TABLE')\n",
      "row = ('ProdflowII_Dev', 'dbo', 'DJL_4x1Ref', 'BASE TABLE')\n",
      "row = ('ProdflowII_Dev', 'dbo', 'ReportFootersCopy', 'BASE TABLE')\n",
      "row = ('ProdflowII_Dev', 'dbo', 'DJL-CASList', 'BASE TABLE')\n",
      "row = ('ProdflowII_Dev', 'dbo', 'ReportHeadersCopy', 'BASE TABLE')\n",
      "row = ('ProdflowII_Dev', 'dbo', 'DJL-Product#forRecipes', 'BASE TABLE')\n",
      "row = ('ProdflowII_Dev', 'dbo', 'RiskPhrases', 'BASE TABLE')\n",
      "row = ('ProdflowII_Dev', 'dbo', 'DL List', 'BASE TABLE')\n",
      "row = ('ProdflowII_Dev', 'dbo', 'RM_Appearance', 'BASE TABLE')\n",
      "row = ('ProdflowII_Dev', 'dbo', 'DOTInfo', 'BASE TABLE')\n",
      "row = ('ProdflowII_Dev', 'dbo', 'RM_Color', 'BASE TABLE')\n",
      "row = ('ProdflowII_Dev', 'dbo', 'DownloadedCompDB', 'BASE TABLE')\n",
      "row = ('ProdflowII_Dev', 'dbo', 'RM_TestMethod', 'BASE TABLE')\n",
      "row = ('ProdflowII_Dev', 'dbo', 'DW - SynonymMatch', 'BASE TABLE')\n",
      "row = ('ProdflowII_Dev', 'dbo', 'DW_DataToMatch', 'BASE TABLE')\n",
      "row = ('ProdflowII_Dev', 'dbo', 'SafetyPhrases', 'BASE TABLE')\n",
      "row = ('ProdflowII_Dev', 'dbo', 'DW_Date', 'BASE TABLE')\n",
      "row = ('ProdflowII_Dev', 'dbo', 'SagexPF', 'BASE TABLE')\n",
      "row = ('ProdflowII_Dev', 'dbo', 'Elements', 'BASE TABLE')\n",
      "row = ('ProdflowII_Dev', 'dbo', 'SAP_Cont-NEW', 'BASE TABLE')\n",
      "row = ('ProdflowII_Dev', 'dbo', 'SAPAnalyteIDBridge', 'BASE TABLE')\n",
      "row = ('ProdflowII_Dev', 'dbo', 'SDS', 'BASE TABLE')\n",
      "row = ('ProdflowII_Dev', 'dbo', 'Equipment', 'BASE TABLE')\n",
      "row = ('ProdflowII_Dev', 'dbo', 'SDS_ExcelDensities', 'BASE TABLE')\n",
      "row = ('ProdflowII_Dev', 'dbo', 'Factors', 'BASE TABLE')\n",
      "row = ('ProdflowII_Dev', 'dbo', 'SinglePests', 'BASE TABLE')\n",
      "row = ('ProdflowII_Dev', 'dbo', 'Sol&Neat', 'BASE TABLE')\n",
      "row = ('ProdflowII_Dev', 'dbo', 'sorts', 'BASE TABLE')\n",
      "row = ('ProdflowII_Dev', 'dbo', 'Storage', 'BASE TABLE')\n",
      "row = ('ProdflowII_Dev', 'dbo', 'Storage_Location', 'BASE TABLE')\n",
      "row = ('ProdflowII_Dev', 'dbo', 'SynonymBridge', 'BASE TABLE')\n",
      "row = ('ProdflowII_Dev', 'dbo', 'System Constants', 'BASE TABLE')\n",
      "row = ('ProdflowII_Dev', 'dbo', 'Temp_Products', 'BASE TABLE')\n",
      "row = ('ProdflowII_Dev', 'dbo', 'Temp_SDSCalc', 'BASE TABLE')\n",
      "row = ('ProdflowII_Dev', 'dbo', 'FillSizeBridge', 'BASE TABLE')\n",
      "row = ('ProdflowII_Dev', 'dbo', 'FinalSynonymSAPSort_Table', 'BASE TABLE')\n",
      "row = ('ProdflowII_Dev', 'dbo', 'Hazmat50_SAGE', 'BASE TABLE')\n",
      "row = ('ProdflowII_Dev', 'dbo', 'Images', 'BASE TABLE')\n",
      "row = ('ProdflowII_Dev', 'dbo', 'iRecipe', 'BASE TABLE')\n",
      "row = ('ProdflowII_Dev', 'dbo', 'TEMP_UpdateQCLevels', 'BASE TABLE')\n",
      "row = ('ProdflowII_Dev', 'dbo', 'iRecipes', 'BASE TABLE')\n",
      "row = ('ProdflowII_Dev', 'dbo', 'tempNeatCofA', 'BASE TABLE')\n",
      "row = ('ProdflowII_Dev', 'dbo', 'ISO34Lots', 'BASE TABLE')\n",
      "row = ('ProdflowII_Dev', 'dbo', 'tempPassFailExport', 'BASE TABLE')\n",
      "row = ('ProdflowII_Dev', 'dbo', 'Kit', 'BASE TABLE')\n",
      "row = ('ProdflowII_Dev', 'dbo', 'KitComponents', 'BASE TABLE')\n",
      "row = ('ProdflowII_Dev', 'dbo', 'KitLots', 'BASE TABLE')\n",
      "row = ('ProdflowII_Dev', 'dbo', 'Components', 'BASE TABLE')\n",
      "row = ('ProdflowII_Dev', 'dbo', 'tempSapStorage', 'BASE TABLE')\n",
      "row = ('ProdflowII_Dev', 'dbo', 'Lead Times', 'BASE TABLE')\n",
      "row = ('ProdflowII_Dev', 'dbo', 'tmpISO34BatchID', 'BASE TABLE')\n",
      "row = ('ProdflowII_Dev', 'dbo', 'LetterofConfirmation', 'BASE TABLE')\n",
      "row = ('ProdflowII_Dev', 'dbo', 'TraceImpurities', 'BASE TABLE')\n",
      "row = ('ProdflowII_Dev', 'dbo', 'Lines', 'BASE TABLE')\n",
      "row = ('ProdflowII_Dev', 'dbo', 'TrimmedCAS', 'BASE TABLE')\n",
      "row = ('ProdflowII_Dev', 'dbo', 'UnitizingHours', 'BASE TABLE')\n",
      "row = ('ProdflowII_Dev', 'dbo', 'Lot Extensions', 'BASE TABLE')\n",
      "row = ('ProdflowII_Dev', 'dbo', 'LotList', 'BASE TABLE')\n",
      "row = ('ProdflowII_Dev', 'dbo', 'UnitOfSale_Sorted', 'BASE TABLE')\n",
      "row = ('ProdflowII_Dev', 'dbo', 'Main Info', 'BASE TABLE')\n",
      "row = ('ProdflowII_Dev', 'dbo', 'Units of Concentration', 'BASE TABLE')\n",
      "row = ('ProdflowII_Dev', 'dbo', 'Users', 'BASE TABLE')\n",
      "row = ('ProdflowII_Dev', 'dbo', 'Version', 'BASE TABLE')\n",
      "row = ('ProdflowII_Dev', 'dbo', 'Matrices', 'BASE TABLE')\n",
      "row = ('ProdflowII_Dev', 'dbo', 'Products', 'BASE TABLE')\n",
      "row = ('ProdflowII_Dev', 'dbo', 'Web_Import_FillSize', 'BASE TABLE')\n",
      "row = ('ProdflowII_Dev', 'dbo', 'Matrices_Cost_Cal', 'BASE TABLE')\n",
      "row = ('ProdflowII_Dev', 'dbo', 'Web_Import_ProductNumCheck', 'BASE TABLE')\n",
      "row = ('ProdflowII_Dev', 'dbo', 'MatricesFromWeb', 'BASE TABLE')\n",
      "row = ('ProdflowII_Dev', 'dbo', 'Matrix Components', 'BASE TABLE')\n"
     ]
    }
   ],
   "source": [
    "rows = cnxn.execute(\"select * FROM INFORMATION_SCHEMA.TABLES;\")\n",
    "\n",
    "for row in rows: # {\n",
    "    print('row = %r' % (row,))\n",
    "# }"
   ]
  },
  {
   "cell_type": "markdown",
   "metadata": {},
   "source": [
    "---\n",
    "# `cnxn.execute()`\n",
    "~~*(DUMMY)*~~"
   ]
  },
  {
   "cell_type": "code",
   "execution_count": 11,
   "metadata": {
    "scrolled": false
   },
   "outputs": [
    {
     "name": "stdout",
     "output_type": "stream",
     "text": [
      "('ProdflowII_Dev', 'dbo', 'Matrix Recipes', 'BASE TABLE')\n",
      "('ProdflowII_Dev', 'dbo', 'MC Catalog', 'BASE TABLE')\n",
      "('ProdflowII_Dev', 'dbo', 'MultiFormList', 'BASE TABLE')\n",
      "('ProdflowII_Dev', 'dbo', 'MultiFormList2', 'BASE TABLE')\n",
      "('ProdflowII_Dev', 'dbo', 'NeatCofA', 'BASE TABLE')\n",
      "('ProdflowII_Dev', 'dbo', 'neats', 'BASE TABLE')\n",
      "('ProdflowII_Dev', 'dbo', 'OEM Product Details', 'BASE TABLE')\n",
      "('ProdflowII_Dev', 'dbo', 'Orders', 'BASE TABLE')\n",
      "('ProdflowII_Dev', 'dbo', 'AgilentChild', 'BASE TABLE')\n",
      "('ProdflowII_Dev', 'dbo', 'AgilentPN', 'BASE TABLE')\n",
      "('ProdflowII_Dev', 'dbo', 'Assays', 'BASE TABLE')\n",
      "('ProdflowII_Dev', 'dbo', 'BotAmpConsumption', 'BASE TABLE')\n",
      "('ProdflowII_Dev', 'dbo', 'PC Info', 'BASE TABLE')\n",
      "('ProdflowII_Dev', 'dbo', 'Bridge Table', 'BASE TABLE')\n",
      "('ProdflowII_Dev', 'dbo', 'Bulk MSDS Product Numbers', 'BASE TABLE')\n",
      "('ProdflowII_Dev', 'dbo', 'Personnel', 'BASE TABLE')\n",
      "('ProdflowII_Dev', 'dbo', 'BulkQCHours', 'BASE TABLE')\n",
      "('ProdflowII_Dev', 'dbo', 'Pesticide_Categorization', 'BASE TABLE')\n",
      "('ProdflowII_Dev', 'dbo', 'PesticideCAS', 'BASE TABLE')\n",
      "('ProdflowII_Dev', 'dbo', 'PfSagePN', 'BASE TABLE')\n",
      "('ProdflowII_Dev', 'dbo', 'Cat#', 'BASE TABLE')\n",
      "('ProdflowII_Dev', 'dbo', 'PfSagePN_Full', 'BASE TABLE')\n",
      "('ProdflowII_Dev', 'dbo', 'Catalog Names - SAP Cutover', 'BASE TABLE')\n",
      "('ProdflowII_Dev', 'dbo', 'PLW', 'BASE TABLE')\n",
      "('ProdflowII_Dev', 'dbo', 'CofA', 'BASE TABLE')\n",
      "('ProdflowII_Dev', 'dbo', 'ProductionHours', 'BASE TABLE')\n",
      "('ProdflowII_Dev', 'dbo', 'CofABridge', 'BASE TABLE')\n",
      "('ProdflowII_Dev', 'dbo', 'COMPID _ CAS', 'BASE TABLE')\n",
      "('ProdflowII_Dev', 'dbo', 'ContainerBridge', 'BASE TABLE')\n",
      "('ProdflowII_Dev', 'dbo', 'CostingExports', 'BASE TABLE')\n",
      "('ProdflowII_Dev', 'dbo', 'ProductSpecSheetList', 'BASE TABLE')\n",
      "('ProdflowII_Dev', 'dbo', 'Proposition65', 'BASE TABLE')\n",
      "('ProdflowII_Dev', 'dbo', 'QC Analysis', 'BASE TABLE')\n",
      "('ProdflowII_Dev', 'dbo', 'QC Methods', 'BASE TABLE')\n",
      "('ProdflowII_Dev', 'dbo', 'QCHours', 'BASE TABLE')\n",
      "('ProdflowII_Dev', 'dbo', 'QuoteList', 'BASE TABLE')\n",
      "('ProdflowII_Dev', 'dbo', 'Units of Sale', 'BASE TABLE')\n",
      "('ProdflowII_Dev', 'dbo', 'Quotes', 'BASE TABLE')\n",
      "('ProdflowII_Dev', 'dbo', 'CpmdClass', 'BASE TABLE')\n",
      "('ProdflowII_Dev', 'dbo', 'CpmdPNList', 'BASE TABLE')\n",
      "('ProdflowII_Dev', 'dbo', 'Custom Names - SAP Cutover', 'BASE TABLE')\n",
      "('ProdflowII_Dev', 'dbo', 'Customers', 'BASE TABLE')\n",
      "('ProdflowII_Dev', 'dbo', 'CustomQuotingImport', 'BASE TABLE')\n",
      "('ProdflowII_Dev', 'dbo', 'dbo_CatalogProducts', 'BASE TABLE')\n",
      "('ProdflowII_Dev', 'dbo', 'ReagentLots', 'BASE TABLE')\n",
      "('ProdflowII_Dev', 'dbo', 'dbo_LatestPfSageExcel', 'BASE TABLE')\n",
      "('ProdflowII_Dev', 'dbo', 'Recipe Info', 'BASE TABLE')\n",
      "('ProdflowII_Dev', 'dbo', 'dbo_PrevCrossRefFile', 'BASE TABLE')\n",
      "('ProdflowII_Dev', 'dbo', 'Synonyms', 'BASE TABLE')\n",
      "('ProdflowII_Dev', 'dbo', 'Densities', 'BASE TABLE')\n",
      "('ProdflowII_Dev', 'dbo', 'Recipes', 'BASE TABLE')\n",
      "('ProdflowII_Dev', 'dbo', 'Report Headers', 'BASE TABLE')\n",
      "('ProdflowII_Dev', 'dbo', 'DJL Cleanup List', 'BASE TABLE')\n",
      "('ProdflowII_Dev', 'dbo', 'ReportFooters', 'BASE TABLE')\n",
      "('ProdflowII_Dev', 'dbo', 'DJL_4x1Ref', 'BASE TABLE')\n",
      "('ProdflowII_Dev', 'dbo', 'ReportFootersCopy', 'BASE TABLE')\n",
      "('ProdflowII_Dev', 'dbo', 'DJL-CASList', 'BASE TABLE')\n",
      "('ProdflowII_Dev', 'dbo', 'ReportHeadersCopy', 'BASE TABLE')\n",
      "('ProdflowII_Dev', 'dbo', 'DJL-Product#forRecipes', 'BASE TABLE')\n",
      "('ProdflowII_Dev', 'dbo', 'RiskPhrases', 'BASE TABLE')\n",
      "('ProdflowII_Dev', 'dbo', 'DL List', 'BASE TABLE')\n",
      "('ProdflowII_Dev', 'dbo', 'RM_Appearance', 'BASE TABLE')\n",
      "('ProdflowII_Dev', 'dbo', 'DOTInfo', 'BASE TABLE')\n",
      "('ProdflowII_Dev', 'dbo', 'RM_Color', 'BASE TABLE')\n",
      "('ProdflowII_Dev', 'dbo', 'DownloadedCompDB', 'BASE TABLE')\n",
      "('ProdflowII_Dev', 'dbo', 'RM_TestMethod', 'BASE TABLE')\n",
      "('ProdflowII_Dev', 'dbo', 'DW - SynonymMatch', 'BASE TABLE')\n",
      "('ProdflowII_Dev', 'dbo', 'DW_DataToMatch', 'BASE TABLE')\n",
      "('ProdflowII_Dev', 'dbo', 'SafetyPhrases', 'BASE TABLE')\n",
      "('ProdflowII_Dev', 'dbo', 'DW_Date', 'BASE TABLE')\n",
      "('ProdflowII_Dev', 'dbo', 'SagexPF', 'BASE TABLE')\n",
      "('ProdflowII_Dev', 'dbo', 'Elements', 'BASE TABLE')\n",
      "('ProdflowII_Dev', 'dbo', 'SAP_Cont-NEW', 'BASE TABLE')\n",
      "('ProdflowII_Dev', 'dbo', 'SAPAnalyteIDBridge', 'BASE TABLE')\n",
      "('ProdflowII_Dev', 'dbo', 'SDS', 'BASE TABLE')\n",
      "('ProdflowII_Dev', 'dbo', 'Equipment', 'BASE TABLE')\n",
      "('ProdflowII_Dev', 'dbo', 'SDS_ExcelDensities', 'BASE TABLE')\n",
      "('ProdflowII_Dev', 'dbo', 'Factors', 'BASE TABLE')\n",
      "('ProdflowII_Dev', 'dbo', 'SinglePests', 'BASE TABLE')\n",
      "('ProdflowII_Dev', 'dbo', 'Sol&Neat', 'BASE TABLE')\n",
      "('ProdflowII_Dev', 'dbo', 'sorts', 'BASE TABLE')\n",
      "('ProdflowII_Dev', 'dbo', 'Storage', 'BASE TABLE')\n",
      "('ProdflowII_Dev', 'dbo', 'Storage_Location', 'BASE TABLE')\n",
      "('ProdflowII_Dev', 'dbo', 'SynonymBridge', 'BASE TABLE')\n",
      "('ProdflowII_Dev', 'dbo', 'System Constants', 'BASE TABLE')\n",
      "('ProdflowII_Dev', 'dbo', 'Temp_Products', 'BASE TABLE')\n",
      "('ProdflowII_Dev', 'dbo', 'Temp_SDSCalc', 'BASE TABLE')\n",
      "('ProdflowII_Dev', 'dbo', 'FillSizeBridge', 'BASE TABLE')\n",
      "('ProdflowII_Dev', 'dbo', 'FinalSynonymSAPSort_Table', 'BASE TABLE')\n",
      "('ProdflowII_Dev', 'dbo', 'Hazmat50_SAGE', 'BASE TABLE')\n",
      "('ProdflowII_Dev', 'dbo', 'Images', 'BASE TABLE')\n",
      "('ProdflowII_Dev', 'dbo', 'iRecipe', 'BASE TABLE')\n",
      "('ProdflowII_Dev', 'dbo', 'TEMP_UpdateQCLevels', 'BASE TABLE')\n",
      "('ProdflowII_Dev', 'dbo', 'iRecipes', 'BASE TABLE')\n",
      "('ProdflowII_Dev', 'dbo', 'tempNeatCofA', 'BASE TABLE')\n",
      "('ProdflowII_Dev', 'dbo', 'ISO34Lots', 'BASE TABLE')\n",
      "('ProdflowII_Dev', 'dbo', 'tempPassFailExport', 'BASE TABLE')\n",
      "('ProdflowII_Dev', 'dbo', 'Kit', 'BASE TABLE')\n",
      "('ProdflowII_Dev', 'dbo', 'KitComponents', 'BASE TABLE')\n",
      "('ProdflowII_Dev', 'dbo', 'KitLots', 'BASE TABLE')\n",
      "('ProdflowII_Dev', 'dbo', 'Components', 'BASE TABLE')\n",
      "('ProdflowII_Dev', 'dbo', 'tempSapStorage', 'BASE TABLE')\n",
      "('ProdflowII_Dev', 'dbo', 'Lead Times', 'BASE TABLE')\n",
      "('ProdflowII_Dev', 'dbo', 'tmpISO34BatchID', 'BASE TABLE')\n",
      "('ProdflowII_Dev', 'dbo', 'LetterofConfirmation', 'BASE TABLE')\n",
      "('ProdflowII_Dev', 'dbo', 'TraceImpurities', 'BASE TABLE')\n",
      "('ProdflowII_Dev', 'dbo', 'Lines', 'BASE TABLE')\n",
      "('ProdflowII_Dev', 'dbo', 'TrimmedCAS', 'BASE TABLE')\n",
      "('ProdflowII_Dev', 'dbo', 'UnitizingHours', 'BASE TABLE')\n",
      "('ProdflowII_Dev', 'dbo', 'Lot Extensions', 'BASE TABLE')\n",
      "('ProdflowII_Dev', 'dbo', 'LotList', 'BASE TABLE')\n",
      "('ProdflowII_Dev', 'dbo', 'UnitOfSale_Sorted', 'BASE TABLE')\n",
      "('ProdflowII_Dev', 'dbo', 'Main Info', 'BASE TABLE')\n",
      "('ProdflowII_Dev', 'dbo', 'Units of Concentration', 'BASE TABLE')\n",
      "('ProdflowII_Dev', 'dbo', 'Users', 'BASE TABLE')\n",
      "('ProdflowII_Dev', 'dbo', 'Version', 'BASE TABLE')\n",
      "('ProdflowII_Dev', 'dbo', 'Matrices', 'BASE TABLE')\n",
      "('ProdflowII_Dev', 'dbo', 'Products', 'BASE TABLE')\n",
      "('ProdflowII_Dev', 'dbo', 'Web_Import_FillSize', 'BASE TABLE')\n",
      "('ProdflowII_Dev', 'dbo', 'Matrices_Cost_Cal', 'BASE TABLE')\n",
      "('ProdflowII_Dev', 'dbo', 'Web_Import_ProductNumCheck', 'BASE TABLE')\n",
      "('ProdflowII_Dev', 'dbo', 'MatricesFromWeb', 'BASE TABLE')\n",
      "('ProdflowII_Dev', 'dbo', 'Matrix Components', 'BASE TABLE')\n",
      "FIN...\n"
     ]
    }
   ],
   "source": [
    "try: #{\n",
    "    # SQL COMMAND\n",
    "    sql_query = cnxn.execute(\n",
    "        \"select * FROM INFORMATION_SCHEMA.TABLES;\"\n",
    "    )\n",
    "    for row in sql_query: #{\n",
    "        print(str(row))\n",
    "    #}\n",
    "#}\n",
    "except: #{\n",
    "    errorMessage = str(sys.exc_info()[0]) + \"\\n\"\n",
    "    errorMessage = errorMessage + str(sys.exc_info()[1]) + \"\\n\\t\\t\"\n",
    "    errorMessage = errorMessage + str(sys.exc_info()[2]) + \"\\n\"\n",
    "    exc_type, exc_obj, exc_tb = sys.exc_info()\n",
    "    fname = os.path.split(exc_tb.tb_frame.f_code.co_filename)[1]\n",
    "    typeE = str(\"TYPE : \" + str(exc_type))\n",
    "    fileE = str(\"FILE : \" + str(fname))\n",
    "    lineE = str(\"LINE : \" + str(exc_tb.tb_lineno))\n",
    "    messageE = str(\"MESG : \" + \"\\n\\n\" + str(errorMessage) + \"\\n\")\n",
    "    print(\"\\n\" + typeE + \n",
    "          \"\\n\" + fileE + \n",
    "          \"\\n\" + lineE + \n",
    "          \"\\n\" + messageE)\n",
    "#}\n",
    "else: #{\n",
    "    print(\"FIN...\")\n",
    "#}"
   ]
  },
  {
   "cell_type": "markdown",
   "metadata": {},
   "source": [
    "---\n",
    "# `pandas.read_sql_query`"
   ]
  },
  {
   "cell_type": "code",
   "execution_count": 12,
   "metadata": {},
   "outputs": [],
   "source": [
    "\"\"\"\n",
    ": param : CUSTOM SQL QUERY AS STRING\n",
    ": return: Dataframe object containing SQL_EXPRESS data\n",
    "\"\"\"\n",
    "def read_sql_query_from_sqlexpress(theQuery, theConn): #{\n",
    "    \"\"\"Import data from SQL_EXPRESS; clean & merge dataframes\"\"\"\n",
    "    # try the following\n",
    "    try: #{\n",
    "        df = pd.read_sql_query(\n",
    "            sql=(str(theQuery)),\n",
    "            con=(theConn))\n",
    "    #}\n",
    "    except: #{\n",
    "        errorMessage = str(sys.exc_info()[0]) + \"\\n\"\n",
    "        errorMessage = errorMessage + str(sys.exc_info()[1]) + \"\\n\\t\\t\"\n",
    "        errorMessage = errorMessage + str(sys.exc_info()[2]) + \"\\n\"\n",
    "        exc_type, exc_obj, exc_tb = sys.exc_info()\n",
    "        fname = os.path.split(exc_tb.tb_frame.f_code.co_filename)[1]\n",
    "        typeE = str(\"TYPE : \" + str(exc_type))\n",
    "        fileE = str(\"FILE : \" + str(fname))\n",
    "        lineE = str(\"LINE : \" + str(exc_tb.tb_lineno))\n",
    "        messageE = str(\"MESG : \" + \"\\n\\n\" + str(errorMessage) + \"\\n\")\n",
    "        print(\"\\n\" + typeE + \n",
    "              \"\\n\" + fileE + \n",
    "              \"\\n\" + lineE + \n",
    "              \"\\n\" + messageE)\n",
    "    #}\n",
    "    else: #{\n",
    "        print(\"Operation Completed Successfully...\")\n",
    "        return df\n",
    "    #}\n",
    "#}"
   ]
  },
  {
   "cell_type": "code",
   "execution_count": 13,
   "metadata": {},
   "outputs": [
    {
     "name": "stdout",
     "output_type": "stream",
     "text": [
      "\n",
      "TYPE : <class 'pandas.io.sql.DatabaseError'>\n",
      "FILE : <ipython-input-12-d40b4ad3df5c>\n",
      "LINE : 11\n",
      "MESG : \n",
      "\n",
      "<class 'pandas.io.sql.DatabaseError'>\n",
      "Execution failed on sql 'SELECT * FROM [INFORMATION_SCHEMA.TABLES]': ('42S02', \"[42S02] [Microsoft][ODBC Driver 17 for SQL Server][SQL Server]Invalid object name 'INFORMATION_SCHEMA.TABLES'. (208) (SQLExecDirectW)\")\n",
      "\t\t<traceback object at 0x000001AB6D7D9D08>\n",
      "\n",
      "\n"
     ]
    },
    {
     "ename": "UnboundLocalError",
     "evalue": "local variable 'df' referenced before assignment",
     "output_type": "error",
     "traceback": [
      "\u001b[1;31m---------------------------------------------------------------------------\u001b[0m",
      "\u001b[1;31mUnboundLocalError\u001b[0m                         Traceback (most recent call last)",
      "\u001b[1;32m<ipython-input-13-35b02e32844a>\u001b[0m in \u001b[0;36m<module>\u001b[1;34m\u001b[0m\n\u001b[0;32m      1\u001b[0m testDf = read_sql_query_from_sqlexpress(\n\u001b[1;32m----> 2\u001b[1;33m     \u001b[1;34m\"SELECT * FROM [INFORMATION_SCHEMA.TABLES]\"\u001b[0m\u001b[1;33m,\u001b[0m \u001b[0mcnxn\u001b[0m\u001b[1;33m\u001b[0m\u001b[0m\n\u001b[0m\u001b[0;32m      3\u001b[0m )\n",
      "\u001b[1;32m<ipython-input-12-d40b4ad3df5c>\u001b[0m in \u001b[0;36mread_sql_query_from_sqlexpress\u001b[1;34m(theQuery, theConn)\u001b[0m\n\u001b[0;32m     30\u001b[0m     \u001b[1;31m#}\u001b[0m\u001b[1;33m\u001b[0m\u001b[1;33m\u001b[0m\u001b[0m\n\u001b[0;32m     31\u001b[0m \u001b[1;33m\u001b[0m\u001b[0m\n\u001b[1;32m---> 32\u001b[1;33m     \u001b[1;32mreturn\u001b[0m \u001b[0mdf\u001b[0m\u001b[1;33m\u001b[0m\u001b[0m\n\u001b[0m\u001b[0;32m     33\u001b[0m \u001b[1;31m#}\u001b[0m\u001b[1;33m\u001b[0m\u001b[1;33m\u001b[0m\u001b[0m\n",
      "\u001b[1;31mUnboundLocalError\u001b[0m: local variable 'df' referenced before assignment"
     ]
    }
   ],
   "source": [
    "testDf = read_sql_query_from_sqlexpress(\n",
    "    \"select * FROM INFORMATION_SCHEMA.TABLES;\", cnxn\n",
    ")"
   ]
  },
  {
   "cell_type": "code",
   "execution_count": 17,
   "metadata": {},
   "outputs": [
    {
     "data": {
      "text/html": [
       "<div>\n",
       "<style scoped>\n",
       "    .dataframe tbody tr th:only-of-type {\n",
       "        vertical-align: middle;\n",
       "    }\n",
       "\n",
       "    .dataframe tbody tr th {\n",
       "        vertical-align: top;\n",
       "    }\n",
       "\n",
       "    .dataframe thead th {\n",
       "        text-align: right;\n",
       "    }\n",
       "</style>\n",
       "<table border=\"1\" class=\"dataframe\">\n",
       "  <thead>\n",
       "    <tr style=\"text-align: right;\">\n",
       "      <th></th>\n",
       "      <th>A</th>\n",
       "      <th>B</th>\n",
       "    </tr>\n",
       "  </thead>\n",
       "  <tbody>\n",
       "    <tr>\n",
       "      <th>0</th>\n",
       "      <td>1</td>\n",
       "      <td>Ball</td>\n",
       "    </tr>\n",
       "    <tr>\n",
       "      <th>1</th>\n",
       "      <td>2</td>\n",
       "      <td>Pen</td>\n",
       "    </tr>\n",
       "    <tr>\n",
       "      <th>2</th>\n",
       "      <td>3</td>\n",
       "      <td>Computer</td>\n",
       "    </tr>\n",
       "    <tr>\n",
       "      <th>3</th>\n",
       "      <td>4</td>\n",
       "      <td>Orange</td>\n",
       "    </tr>\n",
       "    <tr>\n",
       "      <th>4</th>\n",
       "      <td>5</td>\n",
       "      <td>Dog</td>\n",
       "    </tr>\n",
       "  </tbody>\n",
       "</table>\n",
       "</div>"
      ],
      "text/plain": [
       "   A           B\n",
       "0  1  Ball      \n",
       "1  2  Pen       \n",
       "2  3  Computer  \n",
       "3  4  Orange    \n",
       "4  5  Dog       "
      ]
     },
     "execution_count": 17,
     "metadata": {},
     "output_type": "execute_result"
    }
   ],
   "source": [
    "testDf"
   ]
  },
  {
   "cell_type": "code",
   "execution_count": 22,
   "metadata": {},
   "outputs": [],
   "source": [
    "testDf.to_csv(inDirectory \n",
    "              + \"_SQL_EXPRESS_2_df\" \n",
    "              + str(time_object) \n",
    "              + \".csv\",\n",
    "              index=False)"
   ]
  }
 ],
 "metadata": {
  "celltoolbar": "Raw Cell Format",
  "kernelspec": {
   "display_name": "Python 3",
   "language": "python",
   "name": "python3"
  },
  "language_info": {
   "codemirror_mode": {
    "name": "ipython",
    "version": 3
   },
   "file_extension": ".py",
   "mimetype": "text/x-python",
   "name": "python",
   "nbconvert_exporter": "python",
   "pygments_lexer": "ipython3",
   "version": "3.7.0"
  }
 },
 "nbformat": 4,
 "nbformat_minor": 2
}
