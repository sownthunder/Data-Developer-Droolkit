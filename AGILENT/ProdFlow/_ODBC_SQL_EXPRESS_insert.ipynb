{
 "cells": [
  {
   "cell_type": "markdown",
   "metadata": {},
   "source": [
    "# `SQL_EXPRESSS ODBC_select`\n",
    "*(data >> SQL_EXPRESS)*\n",
    "\n",
    "---\n",
    "\n",
    "## `PANDAS DataFrame` using `conn.execute()`\n",
    "## of `pyodbc` insert into `SQL_EXPRESS`\n",
    "\n",
    "---"
   ]
  },
  {
   "cell_type": "code",
   "execution_count": 1,
   "metadata": {},
   "outputs": [],
   "source": [
    "# import the goodies\n",
    "import os, sys, time"
   ]
  },
  {
   "cell_type": "code",
   "execution_count": 2,
   "metadata": {},
   "outputs": [],
   "source": [
    "# import DATE-TIME\n",
    "## used for file-cconvention_naming\n",
    "import datetime"
   ]
  },
  {
   "cell_type": "code",
   "execution_count": 3,
   "metadata": {},
   "outputs": [
    {
     "name": "stdout",
     "output_type": "stream",
     "text": [
      "file naming convention (today's example) : 05_23_2019-154221\n"
     ]
    }
   ],
   "source": [
    "# CREATE TIME STAMP FOR FILE CREATION NAME\n",
    "date_object = datetime.date.today()\n",
    "time_object = str('{0:%m_%d_%Y-%H%M%S}'.format(datetime.datetime.now()))\n",
    "print(str(\"file naming convention (today's example) :\"), time_object)"
   ]
  },
  {
   "cell_type": "code",
   "execution_count": 4,
   "metadata": {},
   "outputs": [],
   "source": [
    "import pandas as pd\n",
    "import numpy as np\n",
    "from pandas import Series, DataFrame"
   ]
  },
  {
   "cell_type": "code",
   "execution_count": 5,
   "metadata": {},
   "outputs": [],
   "source": [
    "import pyodbc"
   ]
  },
  {
   "cell_type": "code",
   "execution_count": 6,
   "metadata": {},
   "outputs": [],
   "source": [
    "from sqlalchemy.inspection import inspect"
   ]
  },
  {
   "cell_type": "markdown",
   "metadata": {},
   "source": [
    "---"
   ]
  },
  {
   "cell_type": "markdown",
   "metadata": {},
   "source": [
    "**IMPORT .CSV FOR TESTING**"
   ]
  },
  {
   "cell_type": "code",
   "execution_count": 7,
   "metadata": {},
   "outputs": [],
   "source": [
    "inDirectory = \"C:/Temp/\""
   ]
  },
  {
   "cell_type": "code",
   "execution_count": 8,
   "metadata": {},
   "outputs": [],
   "source": [
    "inFile = \"Matrices.csv\""
   ]
  },
  {
   "cell_type": "code",
   "execution_count": 9,
   "metadata": {},
   "outputs": [],
   "source": [
    "inboundDataFrame = pd.read_csv(inDirectory + str(inFile))"
   ]
  },
  {
   "cell_type": "code",
   "execution_count": 10,
   "metadata": {},
   "outputs": [
    {
     "data": {
      "text/plain": [
       "667"
      ]
     },
     "execution_count": 10,
     "metadata": {},
     "output_type": "execute_result"
    }
   ],
   "source": [
    "len(inboundDataFrame)"
   ]
  },
  {
   "cell_type": "code",
   "execution_count": 11,
   "metadata": {},
   "outputs": [
    {
     "data": {
      "text/html": [
       "<div>\n",
       "<style scoped>\n",
       "    .dataframe tbody tr th:only-of-type {\n",
       "        vertical-align: middle;\n",
       "    }\n",
       "\n",
       "    .dataframe tbody tr th {\n",
       "        vertical-align: top;\n",
       "    }\n",
       "\n",
       "    .dataframe thead th {\n",
       "        text-align: right;\n",
       "    }\n",
       "</style>\n",
       "<table border=\"1\" class=\"dataframe\">\n",
       "  <thead>\n",
       "    <tr style=\"text-align: right;\">\n",
       "      <th></th>\n",
       "      <th>MatrixNumber</th>\n",
       "      <th>Matrix</th>\n",
       "      <th>Density</th>\n",
       "    </tr>\n",
       "  </thead>\n",
       "  <tbody>\n",
       "    <tr>\n",
       "      <th>0</th>\n",
       "      <td>JHP-001</td>\n",
       "      <td>acetone</td>\n",
       "      <td>0.791</td>\n",
       "    </tr>\n",
       "    <tr>\n",
       "      <th>1</th>\n",
       "      <td>JHP-002</td>\n",
       "      <td>acetone/methylene chloride (2:1)</td>\n",
       "      <td>0.969</td>\n",
       "    </tr>\n",
       "    <tr>\n",
       "      <th>2</th>\n",
       "      <td>JHP-003</td>\n",
       "      <td>acetonitrile</td>\n",
       "      <td>0.786</td>\n",
       "    </tr>\n",
       "    <tr>\n",
       "      <th>3</th>\n",
       "      <td>JHP-004</td>\n",
       "      <td>acetonitrile/acetone (9:1)</td>\n",
       "      <td>0.787</td>\n",
       "    </tr>\n",
       "    <tr>\n",
       "      <th>4</th>\n",
       "      <td>JHP-005</td>\n",
       "      <td>acetonitrile/acetone/toluene (6:3:1)</td>\n",
       "      <td>0.796</td>\n",
       "    </tr>\n",
       "    <tr>\n",
       "      <th>5</th>\n",
       "      <td>JHP-006</td>\n",
       "      <td>acetonitrile/methanol (1:1)</td>\n",
       "      <td>0.789</td>\n",
       "    </tr>\n",
       "    <tr>\n",
       "      <th>6</th>\n",
       "      <td>JHP-007</td>\n",
       "      <td>acetonitrile/methanol (9:1)</td>\n",
       "      <td>0.787</td>\n",
       "    </tr>\n",
       "    <tr>\n",
       "      <th>7</th>\n",
       "      <td>JHP-008</td>\n",
       "      <td>acetonitrile/water (70:30)</td>\n",
       "      <td>0.85</td>\n",
       "    </tr>\n",
       "    <tr>\n",
       "      <th>8</th>\n",
       "      <td>JHP-009</td>\n",
       "      <td>benzene/methylene chloride (4:1)</td>\n",
       "      <td>0.964</td>\n",
       "    </tr>\n",
       "    <tr>\n",
       "      <th>9</th>\n",
       "      <td>JHP-010</td>\n",
       "      <td>methylene chloride/benzene/acetonitrile (2:2:1)</td>\n",
       "      <td>1.037</td>\n",
       "    </tr>\n",
       "    <tr>\n",
       "      <th>10</th>\n",
       "      <td>JHP-011</td>\n",
       "      <td>dimethyl sulfoxide (DMSO)</td>\n",
       "      <td>1.101</td>\n",
       "    </tr>\n",
       "    <tr>\n",
       "      <th>11</th>\n",
       "      <td>JHP-012</td>\n",
       "      <td>dodecane</td>\n",
       "      <td>0.75</td>\n",
       "    </tr>\n",
       "    <tr>\n",
       "      <th>12</th>\n",
       "      <td>JHP-013</td>\n",
       "      <td>ethyl acetate</td>\n",
       "      <td>0.902</td>\n",
       "    </tr>\n",
       "    <tr>\n",
       "      <th>13</th>\n",
       "      <td>JHP-014</td>\n",
       "      <td>hexane</td>\n",
       "      <td>0.659</td>\n",
       "    </tr>\n",
       "    <tr>\n",
       "      <th>14</th>\n",
       "      <td>JHP-015</td>\n",
       "      <td>hexane/acetone (1:1)</td>\n",
       "      <td>0.725</td>\n",
       "    </tr>\n",
       "  </tbody>\n",
       "</table>\n",
       "</div>"
      ],
      "text/plain": [
       "   MatrixNumber                                           Matrix Density\n",
       "0       JHP-001                                          acetone   0.791\n",
       "1       JHP-002                 acetone/methylene chloride (2:1)   0.969\n",
       "2       JHP-003                                     acetonitrile   0.786\n",
       "3       JHP-004                       acetonitrile/acetone (9:1)   0.787\n",
       "4       JHP-005             acetonitrile/acetone/toluene (6:3:1)   0.796\n",
       "5       JHP-006                      acetonitrile/methanol (1:1)   0.789\n",
       "6       JHP-007                      acetonitrile/methanol (9:1)   0.787\n",
       "7       JHP-008                       acetonitrile/water (70:30)    0.85\n",
       "8       JHP-009                 benzene/methylene chloride (4:1)   0.964\n",
       "9       JHP-010  methylene chloride/benzene/acetonitrile (2:2:1)   1.037\n",
       "10      JHP-011                        dimethyl sulfoxide (DMSO)   1.101\n",
       "11      JHP-012                                         dodecane    0.75\n",
       "12      JHP-013                                    ethyl acetate   0.902\n",
       "13      JHP-014                                           hexane   0.659\n",
       "14      JHP-015                             hexane/acetone (1:1)   0.725"
      ]
     },
     "execution_count": 11,
     "metadata": {},
     "output_type": "execute_result"
    }
   ],
   "source": [
    "inboundDataFrame.head(15)"
   ]
  },
  {
   "cell_type": "markdown",
   "metadata": {},
   "source": [
    "##### `SQL_EXPRESS [ODBC] Driver`"
   ]
  },
  {
   "cell_type": "markdown",
   "metadata": {},
   "source": [
    "---\n",
    "#### create `[conn_str]`"
   ]
  },
  {
   "cell_type": "code",
   "execution_count": 12,
   "metadata": {},
   "outputs": [],
   "source": [
    "conn_str = str(\n",
    "    r'DRIVER={ODBC Driver 13 for SQL Server};'\n",
    "    r'SERVER=130.27.148.14\\SQLEXPRESS,1433;'\n",
    "    r'DATABASE=ProdFlowII_Dev;'\n",
    "    r'UID=dbates;'\n",
    "    r'PWD=@hisB00ty')"
   ]
  },
  {
   "cell_type": "markdown",
   "metadata": {},
   "source": [
    "#### create `[cnxn]` from `[conn_str]`\n",
    "#### create `[crsr]` from `[cnxn]`"
   ]
  },
  {
   "cell_type": "code",
   "execution_count": 13,
   "metadata": {},
   "outputs": [
    {
     "name": "stdout",
     "output_type": "stream",
     "text": [
      "FIN...\n"
     ]
    }
   ],
   "source": [
    "try: #{\n",
    "    # Use connection strings for all these drivers\n",
    "    cnxn = pyodbc.connect(conn_str)\n",
    "    crsr = cnxn.cursor()\n",
    "#}\n",
    "except: #{\n",
    "    errorMessage = str(sys.exc_info()[0]) + \"\\n\"\n",
    "    errorMessage = errorMessage + str(sys.exc_info()[1]) + \"\\n\\t\\t\"\n",
    "    errorMessage = errorMessage + str(sys.exc_info()[2]) + \"\\n\"\n",
    "    exc_type, exc_obj, exc_tb = sys.exc_info()\n",
    "    fname = os.path.split(exc_tb.tb_frame.f_code.co_filename)[1]\n",
    "    typeE = str(\"TYPE : \" + str(exc_type))\n",
    "    fileE = str(\"FILE : \" + str(fname))\n",
    "    lineE = str(\"LINE : \" + str(exc_tb.tb_lineno))\n",
    "    messageE = str(\"MESG : \" + \"\\n\\n\" + str(errorMessage) + \"\\n\")\n",
    "    print(\"\\n\" + typeE + \n",
    "          \"\\n\" + fileE + \n",
    "          \"\\n\" + lineE + \n",
    "          \"\\n\" + messageE)\n",
    "#}\n",
    "else: #{\n",
    "    print(\"FIN...\")\n",
    "#}"
   ]
  },
  {
   "cell_type": "markdown",
   "metadata": {},
   "source": [
    "## `cnxn.execute(<insert>)`"
   ]
  },
  {
   "cell_type": "code",
   "execution_count": 14,
   "metadata": {},
   "outputs": [
    {
     "name": "stdout",
     "output_type": "stream",
     "text": [
      "\n",
      "TYPE : <class 'pyodbc.ProgrammingError'>\n",
      "FILE : <ipython-input-14-641bcadaf18c>\n",
      "LINE : 7\n",
      "MESG : \n",
      "\n",
      "<class 'pyodbc.ProgrammingError'>\n",
      "('42S01', \"[42S01] [Microsoft][ODBC Driver 13 for SQL Server][SQL Server]There is already an object named 'stocks' in the database. (2714) (SQLExecDirectW)\")\n",
      "\t\t<traceback object at 0x00000213FD5BB948>\n",
      "\n",
      "\n"
     ]
    }
   ],
   "source": [
    "try: #{\n",
    "    \"\"\"\n",
    "    c = conn.cursor()\n",
    "    \"\"\"\n",
    "    # Create table\n",
    "    crsr.execute('''CREATE TABLE stocks\n",
    "             (date text, trans text, symbol text, qty real, price real)''')\n",
    "    # Insert a row of data\n",
    "    crsr.execute(\"INSERT INTO stocks VALUES ('2006-01-05','BUY','RHAT',100,35.14)\")\n",
    "    # Save (commit) the changes\n",
    "    cnxn.commit()\n",
    "    # We can also close the connection if we are done with it.\n",
    "    # Just be sure any changes have been committed or they will be lost.\n",
    "    cnxn.close()\n",
    "#}\n",
    "except: #{\n",
    "    errorMessage = str(sys.exc_info()[0]) + \"\\n\"\n",
    "    errorMessage = errorMessage + str(sys.exc_info()[1]) + \"\\n\\t\\t\"\n",
    "    errorMessage = errorMessage + str(sys.exc_info()[2]) + \"\\n\"\n",
    "    exc_type, exc_obj, exc_tb = sys.exc_info()\n",
    "    fname = os.path.split(exc_tb.tb_frame.f_code.co_filename)[1]\n",
    "    typeE = str(\"TYPE : \" + str(exc_type))\n",
    "    fileE = str(\"FILE : \" + str(fname))\n",
    "    lineE = str(\"LINE : \" + str(exc_tb.tb_lineno))\n",
    "    messageE = str(\"MESG : \" + \"\\n\\n\" + str(errorMessage) + \"\\n\")\n",
    "    print(\"\\n\" + typeE + \n",
    "          \"\\n\" + fileE + \n",
    "          \"\\n\" + lineE + \n",
    "          \"\\n\" + messageE)\n",
    "#}\n",
    "else: #{\n",
    "    print(\"FIN...\")\n",
    "#}"
   ]
  },
  {
   "cell_type": "markdown",
   "metadata": {},
   "source": [
    "---\n",
    "\n",
    "# `pandas.DataFrame.to_sql()`\n",
    "## *(INSERT FUNCTION)*"
   ]
  },
  {
   "cell_type": "markdown",
   "metadata": {},
   "source": [
    "`testDf = inboundDataFrame.to_sql(name='DUMMY_2',` \n",
    "\n",
    "`con=cnxn, schema=None, `\n",
    "\n",
    "`if_exists=\"append\")`"
   ]
  },
  {
   "cell_type": "markdown",
   "metadata": {},
   "source": [
    "`from sqlalchemy.types import Integer`\n",
    "\n",
    "`df.to_sql('integers', con=engine, index=False,`\n",
    "\n",
    "`dtype={\"A\": Integer()}`"
   ]
  },
  {
   "cell_type": "code",
   "execution_count": null,
   "metadata": {},
   "outputs": [],
   "source": []
  }
 ],
 "metadata": {
  "kernelspec": {
   "display_name": "Python 3",
   "language": "python",
   "name": "python3"
  },
  "language_info": {
   "codemirror_mode": {
    "name": "ipython",
    "version": 3
   },
   "file_extension": ".py",
   "mimetype": "text/x-python",
   "name": "python",
   "nbconvert_exporter": "python",
   "pygments_lexer": "ipython3",
   "version": "3.7.0"
  }
 },
 "nbformat": 4,
 "nbformat_minor": 4
}
