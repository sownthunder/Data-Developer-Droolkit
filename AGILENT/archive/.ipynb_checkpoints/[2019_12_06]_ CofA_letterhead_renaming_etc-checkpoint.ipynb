{
 "cells": [
  {
   "cell_type": "markdown",
   "metadata": {},
   "source": [
    "---"
   ]
  },
  {
   "cell_type": "markdown",
   "metadata": {},
   "source": [
    "Happy Friday, Derek!\n",
    "\n",
    "I have another request for you.\n",
    "\n",
    "•\tWe need to add the CofA letterhead to all CofAs that’s saved at\n",
    "o\tF:\\APPS\\CofA before 03/25/2019\n",
    "o\tJ:\\controlled_docs\\CofA \n",
    "\n",
    "•\tThese should NOT change the file name as we do for CofAs on or after 03/25/2019\n",
    "\n",
    "•\tCan you please save the CofA with the background to G:\\C of A's\\#CofA with background for web\n",
    "\n",
    "If anything is not clear please let me know. Also you can do a few and let me know and I can confirm those are correct. Thanks so much!\n",
    "\n",
    "Best regards,\n",
    "\n",
    "Diluka"
   ]
  },
  {
   "cell_type": "markdown",
   "metadata": {},
   "source": [
    "---"
   ]
  },
  {
   "cell_type": "markdown",
   "metadata": {},
   "source": [
    "The CofAs that are prior to 03/25/2019 that’s on the web already are without the letterhead. We need to replace those with the ones with letterhead. That location is ONLY for this project.\n",
    "\n",
    "All other CofAs where you change the name, apply the letterhead and save to email node and email daily, are to continue just the way you do right now without any changes.\n",
    "\n",
    "Best regards,\n",
    "\n",
    "Diluka"
   ]
  },
  {
   "cell_type": "code",
   "execution_count": 1,
   "metadata": {
    "pycharm": {
     "is_executing": true
    }
   },
   "outputs": [],
   "source": [
    "# IMPORT THE GOODS\n",
    "import os, sys, time\n",
    "from time import sleep\n",
    "from pathlib import Path"
   ]
  },
  {
   "cell_type": "code",
   "execution_count": 2,
   "metadata": {
    "pycharm": {
     "is_executing": true
    }
   },
   "outputs": [],
   "source": [
    "from datetime import datetime\n",
    "import pandas as pd\n",
    "import numpy as np\n",
    "from pandas import Series, DataFrame"
   ]
  },
  {
   "cell_type": "code",
   "execution_count": 3,
   "metadata": {
    "pycharm": {
     "is_executing": true
    }
   },
   "outputs": [],
   "source": [
    "import logging\n",
    "from PyPDF2 import PdfFileReader, PdfFileMerger"
   ]
  },
  {
   "cell_type": "code",
   "execution_count": 4,
   "metadata": {
    "pycharm": {
     "is_executing": true,
     "name": "#%%\n"
    }
   },
   "outputs": [],
   "source": [
    "def setup_logger(): #{\n",
    "    # TRY THE FOLLOWING\n",
    "    try: #{\n",
    "        logging.basicConfig(level=logging.INFO,\n",
    "                            datefmt=\"%Y_%M_%d_%H%S%M\",\n",
    "                            filename=\"C:/data/Logs/CofA_renaming_etc.log\",\n",
    "                            filemode=\"a\")\n",
    "    #}\n",
    "    except: #{\n",
    "        errorMessage = str(sys.exc_info()[0]) + \"\\n\"\n",
    "        errorMessage = errorMessage + str(sys.exc_info()[1]) + \"\\n\"\n",
    "        errorMessage = errorMessage + str(sys.exc_info()[2]) + \"\\n\"\n",
    "        exc_type, exc_obj, exc_tb = sys.exc_info()\n",
    "        fname = os.path.split(exc_tb.tb_frame.f_code.co_filename)[1]\n",
    "        print(\"TYPE : \" + str(exc_type) + \"\\n\")\n",
    "        print(\"FILE : \" + str(fname) + \"\\n\")\n",
    "        print(\"LINE-NO : \" + str(exc_tb.tb_lineno) + \"\\n\")\n",
    "        print(\"MESSAGE : \\n\" + str(errorMessage))\n",
    "    #}\n",
    "    else: #{\n",
    "        print(\"[setup_logger] SUCCESS! VERY NICE!\")\n",
    "    #}\n",
    "#}"
   ]
  },
  {
   "cell_type": "code",
   "execution_count": 5,
   "metadata": {
    "pycharm": {
     "is_executing": true,
     "name": "#%%\n"
    }
   },
   "outputs": [],
   "source": [
    "def create_date_df(the_directory): #{\n",
    "    # create list of directory\n",
    "    dir_list = os.listdir(Path(the_directory))\n",
    "    logging.info(\"length of [dir_list]: \\n\" + str((len(dir_list))))\n",
    "    # create series off list\n",
    "    d1 = pd.Series(dir_list)\n",
    "    d1.astype(dtype=np.str)\n",
    "    # initialize empty DataFrame\n",
    "    dates_df = pd.DataFrame(data=None, dtype=np.str)\n",
    "    # assign dir_list to first column\n",
    "    dates_df[\"File\"] = d1\n",
    "    # TRY THE FOLLOWING\n",
    "    try: #{\n",
    "        # create column var to store the data\n",
    "        date_col = []\n",
    "        # counter\n",
    "        x = 0\n",
    "        # for each row in the column\n",
    "        for row in d1: #{\n",
    "            the_str = str(row)\n",
    "            the_path = os.path.join(the_directory, the_str)\n",
    "            # GET MODIFIED TIME\n",
    "            mtime = os.path.getmtime(the_path)\n",
    "            # GET CREATE TIME\n",
    "            ctime = os.path.getctime(the_path)\n",
    "            # create date var\n",
    "            # IF CREATE TIME IS OLDER...\n",
    "            if ctime < mtime: #{\n",
    "                date_str = str(datetime.fromtimestamp(ctime))\n",
    "            #}\n",
    "            else: #{\n",
    "                date_str = str(datetime.fromtimestamp(mtime))\n",
    "            #}\n",
    "            logging.info(\"CREATE_DATE == \" + date_str)\n",
    "            x += 1\n",
    "        #}\n",
    "        # Create column from list\n",
    "        dates_df[\"Create-Date\"] = date_col\n",
    "    #}\n",
    "    except: #{\n",
    "        errorMessage = str(sys.exc_info()[0]) + \"\\n\\t\\t\"\n",
    "        errorMessage = errorMessage + str(sys.exc_info()[1]) + \"\\n\\t\\t\"\n",
    "        errorMessage = errorMessage + str(sys.exc_info()[2]) + \"\\n\"\n",
    "        exc_type, exc_obj, exc_tb = sys.exc_info()\n",
    "        fname = os.path.split(exc_tb.tb_frame.f_code.co_filename)[1]\n",
    "        typeE = str(\"TYPE : \" + str(exc_type))\n",
    "        fileE = str(\"FILE : \" + str(fname))\n",
    "        lineE = str(\"LINE : \" + str(exc_tb.tb_lineno))\n",
    "        messageE = str(\"MESG : \" + \"\\n\" + str(errorMessage) + \"\\n\")\n",
    "        logging.error(\"\\n\" + typeE +\n",
    "              \"\\n\" + fileE +\n",
    "              \"\\n\" + lineE +\n",
    "              \"\\n\" + messageE)\n",
    "    #}\n",
    "    else: #{\n",
    "        logging.info(\"[create_date_df] SUCCESS! VERY NICE!!\")\n",
    "    #}\n",
    "    return dates_df\n",
    "#}"
   ]
  },
  {
   "cell_type": "code",
   "execution_count": null,
   "metadata": {},
   "outputs": [],
   "source": [
    "def create_watermark(input_pdf, output, watermark): #{\n",
    "    pass\n",
    "#}"
   ]
  },
  {
   "cell_type": "code",
   "execution_count": 6,
   "metadata": {
    "pycharm": {
     "is_executing": true
    }
   },
   "outputs": [],
   "source": [
    "def main(): #{\n",
    "    check_date = pd.Timestamp('2019-03-25')\n",
    "    # create TEST dataframe\n",
    "    test_df = create_date_df(the_directory=\"F:/APPS/CofA/\")\n",
    "    # save to .csv\n",
    "    test_df.to_csv(\"C:/data/Logs/TEST_\" + str(pd.Timestamp.now())[:10] + \".csv\")\n",
    "    print(check_date)\n",
    "#}"
   ]
  },
  {
   "cell_type": "code",
   "execution_count": 7,
   "metadata": {
    "pycharm": {
     "is_executing": true
    }
   },
   "outputs": [
    {
     "name": "stdout",
     "output_type": "stream",
     "text": [
      "[setup_logger] SUCCESS! VERY NICE!\n"
     ]
    },
    {
     "ename": "OSError",
     "evalue": "[Errno 22] Invalid argument: 'C:/data/Logs/TEST_<bound met.csv'",
     "output_type": "error",
     "traceback": [
      "\u001b[1;31m---------------------------------------------------------------------------\u001b[0m",
      "\u001b[1;31mOSError\u001b[0m                                   Traceback (most recent call last)",
      "\u001b[1;32m<ipython-input-7-2e71d05a085c>\u001b[0m in \u001b[0;36m<module>\u001b[1;34m\u001b[0m\n\u001b[0;32m      6\u001b[0m     \u001b[0min_dir_1\u001b[0m \u001b[1;33m=\u001b[0m \u001b[1;34m\"F:/APPS/CofA/\"\u001b[0m\u001b[1;33m\u001b[0m\u001b[0m\n\u001b[0;32m      7\u001b[0m     \u001b[0min_dir_2\u001b[0m \u001b[1;33m=\u001b[0m \u001b[1;34m\"J:/controlled_docs/CofA\"\u001b[0m\u001b[1;33m\u001b[0m\u001b[0m\n\u001b[1;32m----> 8\u001b[1;33m     \u001b[0mmain\u001b[0m\u001b[1;33m(\u001b[0m\u001b[1;33m)\u001b[0m\u001b[1;33m\u001b[0m\u001b[0m\n\u001b[0m\u001b[0;32m      9\u001b[0m \u001b[1;31m#}\u001b[0m\u001b[1;33m\u001b[0m\u001b[1;33m\u001b[0m\u001b[0m\n",
      "\u001b[1;32m<ipython-input-6-edaa1c557fbe>\u001b[0m in \u001b[0;36mmain\u001b[1;34m()\u001b[0m\n\u001b[0;32m      4\u001b[0m     \u001b[0mtest_df\u001b[0m \u001b[1;33m=\u001b[0m \u001b[0mcreate_date_df\u001b[0m\u001b[1;33m(\u001b[0m\u001b[0mthe_directory\u001b[0m\u001b[1;33m=\u001b[0m\u001b[1;34m\"F:/APPS/CofA/\"\u001b[0m\u001b[1;33m)\u001b[0m\u001b[1;33m\u001b[0m\u001b[0m\n\u001b[0;32m      5\u001b[0m     \u001b[1;31m# save to .csv\u001b[0m\u001b[1;33m\u001b[0m\u001b[1;33m\u001b[0m\u001b[0m\n\u001b[1;32m----> 6\u001b[1;33m     \u001b[0mtest_df\u001b[0m\u001b[1;33m.\u001b[0m\u001b[0mto_csv\u001b[0m\u001b[1;33m(\u001b[0m\u001b[1;34m\"C:/data/Logs/TEST_\"\u001b[0m \u001b[1;33m+\u001b[0m \u001b[0mstr\u001b[0m\u001b[1;33m(\u001b[0m\u001b[0mpd\u001b[0m\u001b[1;33m.\u001b[0m\u001b[0mTimestamp\u001b[0m\u001b[1;33m.\u001b[0m\u001b[0mnow\u001b[0m\u001b[1;33m)\u001b[0m\u001b[1;33m[\u001b[0m\u001b[1;33m:\u001b[0m\u001b[1;36m10\u001b[0m\u001b[1;33m]\u001b[0m \u001b[1;33m+\u001b[0m \u001b[1;34m\".csv\"\u001b[0m\u001b[1;33m)\u001b[0m\u001b[1;33m\u001b[0m\u001b[0m\n\u001b[0m\u001b[0;32m      7\u001b[0m     \u001b[0mprint\u001b[0m\u001b[1;33m(\u001b[0m\u001b[0mcheck_date\u001b[0m\u001b[1;33m)\u001b[0m\u001b[1;33m\u001b[0m\u001b[0m\n\u001b[0;32m      8\u001b[0m \u001b[1;31m#}\u001b[0m\u001b[1;33m\u001b[0m\u001b[1;33m\u001b[0m\u001b[0m\n",
      "\u001b[1;32m~\\miniconda3\\envs\\py3\\lib\\site-packages\\pandas\\core\\generic.py\u001b[0m in \u001b[0;36mto_csv\u001b[1;34m(self, path_or_buf, sep, na_rep, float_format, columns, header, index, index_label, mode, encoding, compression, quoting, quotechar, line_terminator, chunksize, date_format, doublequote, escapechar, decimal)\u001b[0m\n\u001b[0;32m   3226\u001b[0m             \u001b[0mdecimal\u001b[0m\u001b[1;33m=\u001b[0m\u001b[0mdecimal\u001b[0m\u001b[1;33m,\u001b[0m\u001b[1;33m\u001b[0m\u001b[0m\n\u001b[0;32m   3227\u001b[0m         )\n\u001b[1;32m-> 3228\u001b[1;33m         \u001b[0mformatter\u001b[0m\u001b[1;33m.\u001b[0m\u001b[0msave\u001b[0m\u001b[1;33m(\u001b[0m\u001b[1;33m)\u001b[0m\u001b[1;33m\u001b[0m\u001b[0m\n\u001b[0m\u001b[0;32m   3229\u001b[0m \u001b[1;33m\u001b[0m\u001b[0m\n\u001b[0;32m   3230\u001b[0m         \u001b[1;32mif\u001b[0m \u001b[0mpath_or_buf\u001b[0m \u001b[1;32mis\u001b[0m \u001b[1;32mNone\u001b[0m\u001b[1;33m:\u001b[0m\u001b[1;33m\u001b[0m\u001b[0m\n",
      "\u001b[1;32m~\\miniconda3\\envs\\py3\\lib\\site-packages\\pandas\\io\\formats\\csvs.py\u001b[0m in \u001b[0;36msave\u001b[1;34m(self)\u001b[0m\n\u001b[0;32m    181\u001b[0m                 \u001b[0mself\u001b[0m\u001b[1;33m.\u001b[0m\u001b[0mmode\u001b[0m\u001b[1;33m,\u001b[0m\u001b[1;33m\u001b[0m\u001b[0m\n\u001b[0;32m    182\u001b[0m                 \u001b[0mencoding\u001b[0m\u001b[1;33m=\u001b[0m\u001b[0mself\u001b[0m\u001b[1;33m.\u001b[0m\u001b[0mencoding\u001b[0m\u001b[1;33m,\u001b[0m\u001b[1;33m\u001b[0m\u001b[0m\n\u001b[1;32m--> 183\u001b[1;33m                 \u001b[0mcompression\u001b[0m\u001b[1;33m=\u001b[0m\u001b[0mself\u001b[0m\u001b[1;33m.\u001b[0m\u001b[0mcompression\u001b[0m\u001b[1;33m,\u001b[0m\u001b[1;33m\u001b[0m\u001b[0m\n\u001b[0m\u001b[0;32m    184\u001b[0m             )\n\u001b[0;32m    185\u001b[0m             \u001b[0mclose\u001b[0m \u001b[1;33m=\u001b[0m \u001b[1;32mTrue\u001b[0m\u001b[1;33m\u001b[0m\u001b[0m\n",
      "\u001b[1;32m~\\miniconda3\\envs\\py3\\lib\\site-packages\\pandas\\io\\common.py\u001b[0m in \u001b[0;36m_get_handle\u001b[1;34m(path_or_buf, mode, encoding, compression, memory_map, is_text)\u001b[0m\n\u001b[0;32m    397\u001b[0m         \u001b[1;32mif\u001b[0m \u001b[0mencoding\u001b[0m\u001b[1;33m:\u001b[0m\u001b[1;33m\u001b[0m\u001b[0m\n\u001b[0;32m    398\u001b[0m             \u001b[1;31m# Encoding\u001b[0m\u001b[1;33m\u001b[0m\u001b[1;33m\u001b[0m\u001b[0m\n\u001b[1;32m--> 399\u001b[1;33m             \u001b[0mf\u001b[0m \u001b[1;33m=\u001b[0m \u001b[0mopen\u001b[0m\u001b[1;33m(\u001b[0m\u001b[0mpath_or_buf\u001b[0m\u001b[1;33m,\u001b[0m \u001b[0mmode\u001b[0m\u001b[1;33m,\u001b[0m \u001b[0mencoding\u001b[0m\u001b[1;33m=\u001b[0m\u001b[0mencoding\u001b[0m\u001b[1;33m,\u001b[0m \u001b[0mnewline\u001b[0m\u001b[1;33m=\u001b[0m\u001b[1;34m\"\"\u001b[0m\u001b[1;33m)\u001b[0m\u001b[1;33m\u001b[0m\u001b[0m\n\u001b[0m\u001b[0;32m    400\u001b[0m         \u001b[1;32melif\u001b[0m \u001b[0mis_text\u001b[0m\u001b[1;33m:\u001b[0m\u001b[1;33m\u001b[0m\u001b[0m\n\u001b[0;32m    401\u001b[0m             \u001b[1;31m# No explicit encoding\u001b[0m\u001b[1;33m\u001b[0m\u001b[1;33m\u001b[0m\u001b[0m\n",
      "\u001b[1;31mOSError\u001b[0m: [Errno 22] Invalid argument: 'C:/data/Logs/TEST_<bound met.csv'"
     ]
    }
   ],
   "source": [
    "# MAIN BOILERPLATE\n",
    "if __name__ == \"__main__\": #{\n",
    "    setup_logger()\n",
    "    # INSTANTIATE GLOBAL VARIABLES\n",
    "    in_file = \"C:/data/inbound/02OTHER_Rohde Island_Agilent Quality_Digital Letterhead.pdf\"\n",
    "    in_dir_1 = \"F:/APPS/CofA/\"\n",
    "    in_dir_2 = \"J:/controlled_docs/CofA\"\n",
    "    main()\n",
    "#}"
   ]
  },
  {
   "cell_type": "code",
   "execution_count": null,
   "metadata": {},
   "outputs": [],
   "source": []
  }
 ],
 "metadata": {
  "kernelspec": {
   "display_name": "Python 3",
   "language": "python",
   "name": "python3"
  },
  "language_info": {
   "codemirror_mode": {
    "name": "ipython",
    "version": 3
   },
   "file_extension": ".py",
   "mimetype": "text/x-python",
   "name": "python",
   "nbconvert_exporter": "python",
   "pygments_lexer": "ipython3",
   "version": "3.7.0"
  },
  "pycharm": {
   "stem_cell": {
    "cell_type": "raw",
    "metadata": {
     "collapsed": false
    },
    "source": []
   }
  }
 },
 "nbformat": 4,
 "nbformat_minor": 2
}
