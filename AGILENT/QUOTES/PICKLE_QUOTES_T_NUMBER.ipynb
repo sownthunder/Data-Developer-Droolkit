{
 "cells": [
  {
   "cell_type": "code",
   "execution_count": 1,
   "metadata": {},
   "outputs": [],
   "source": [
    "import os, sys, time\n",
    "from time import sleep\n",
    "from pathlib import Path"
   ]
  },
  {
   "cell_type": "code",
   "execution_count": 2,
   "metadata": {},
   "outputs": [],
   "source": [
    "import pickle"
   ]
  },
  {
   "cell_type": "raw",
   "metadata": {
    "raw_mimetype": "text/x-python"
   },
   "source": [
    "TAKES IN:\n",
    "(1) pickle of current \"Quotes-Number\" count\n",
    "(2) TOTAL number of digits to complete with zfill\n",
    ">>> increments that by 1 and overwrites the file <<<\n",
    "RETURNS:\n",
    "(1) string with proper file naming convention for database use"
   ]
  },
  {
   "cell_type": "markdown",
   "metadata": {},
   "source": [
    "---\n",
    "# USED TO RESET THE PICKLED SAVE COUNTER"
   ]
  },
  {
   "cell_type": "raw",
   "metadata": {
    "raw_mimetype": "text/x-python"
   },
   "source": [
    "# INSTANTIATE NEW VARIABLE\n",
    "quotes_t_number = 0\n",
    "# save pickle to server\n",
    "with open(Path('E:/_Quotes_Tracker/config/quotes_t_number.pkl'), 'wb') as f: # {\n",
    "    pickle.dump(quotes_t_number, f)\n",
    "#}"
   ]
  },
  {
   "cell_type": "markdown",
   "metadata": {},
   "source": [
    "## but when its not needed to be reset to zero... we only run this:"
   ]
  },
  {
   "cell_type": "code",
   "execution_count": 8,
   "metadata": {},
   "outputs": [
    {
     "name": "stdout",
     "output_type": "stream",
     "text": [
      "QUOTES T NUMBAH:\n",
      "0\n"
     ]
    }
   ],
   "source": [
    "# LOAD IN PICKLED NUMBER\n",
    "with open(Path('E:/_Quotes_Tracker/config/quotes_t_number.pkl'), 'rb') as f: # {\n",
    "    quotes_t_number = pickle.load(f)\n",
    "# } \n",
    "print(\"QUOTES T NUMBAH:\\n\" + str(quotes_t_number))"
   ]
  },
  {
   "cell_type": "markdown",
   "metadata": {},
   "source": [
    "---\n",
    "# used in \"`Agilent_Quotes_Tracker.exe`\":\n",
    "\n",
    "\n",
    "*create file naming convention that pads zfill with zeros and starts with T*:"
   ]
  },
  {
   "cell_type": "code",
   "execution_count": 3,
   "metadata": {},
   "outputs": [],
   "source": [
    "\"\"\"\n",
    "TAKES IN:\n",
    "(1) pickle of current \"Quotes-Number\" count\n",
    "(2) TOTAL number of digits to complete with zfill\n",
    ">>> increments that by 1 and overwrites the file <<<\n",
    "RETURNS:\n",
    "(1) string with proper file naming convention for database use\n",
    "\"\"\"\n",
    "def create_file_name_convention(the_pickle, number_of_digits):  # {\n",
    "    # TRY THE FOLLOWING:\n",
    "    try:  # {\n",
    "        # LOAD IN PICKLE FROM FILE\n",
    "        with open(Path(the_pickle), 'rb') as le_pickle: # {\n",
    "            # LOAD PICKLE AS TYPE INT\n",
    "            current_count = int(pickle.load(le_pickle))\n",
    "        # }\n",
    "        # DISPLAY VALUE FOR DEBUG\n",
    "        print(\"current count == \" + str(current_count))\n",
    "        # INCREASE COUNT\n",
    "        current_count += 1\n",
    "        # CREATE STRING WITH COUNT + zero fill\n",
    "        count_str = str(current_count).zfill(int(number_of_digits))\n",
    "        print(\"count_str == \" + str(count_str))\n",
    "        # CREATE STRING\n",
    "        file_name_conv = str(\"T000\" + count_str)\n",
    "        print(\"FINAL RESULT == \" + str(file_name_conv))\n",
    "        return file_name_conv\n",
    "    # }\n",
    "    except: #{\n",
    "        errorMessage = str(sys.exc_info()[0]) + \"\\n\"\n",
    "        errorMessage = errorMessage + str(sys.exc_info()[1]) + \"\\n\"\n",
    "        errorMessage = errorMessage + str(sys.exc_info()[2]) + \"\\n\"\n",
    "        exc_type, exc_obj, exc_tb = sys.exc_info()\n",
    "        fname = os.path.split(exc_tb.tb_frame.f_code.co_filename)[1]\n",
    "        typeE = str(\"TYPE : \" + str(exc_type))\n",
    "        fileE = str(\"FILE : \" + str(fname))\n",
    "        lineE = str(\"LINE : \" + str(exc_tb.tb_lineno))\n",
    "        messageE = str(\"MESG : \" + \"\\n\" + str(errorMessage))\n",
    "        print(\"\\n\" + typeE +\n",
    "                      \"\\n\" + fileE +\n",
    "                      \"\\n\" + lineE +\n",
    "                      \"\\n\" + messageE)\n",
    "    # }\n",
    "    else:  # {\n",
    "        print(\"Operation Completed Successfully...\")\n",
    "    # }\n",
    "    finally:  # {\n",
    "        print(\"... saving COUNT TO PICKLE == \" + str(current_count))\n",
    "        # OVERWRITE PICKLE WITH NEW INCREMENTED COUNT\n",
    "        with open('test_pickle.pkl', 'wb') as le_pickle: # {\n",
    "            # SAVE PICKLE AS TYPE INT\n",
    "            pickle.dump(current_count, le_pickle)\n",
    "        # }\n",
    "    # }\n",
    "# }"
   ]
  },
  {
   "cell_type": "code",
   "execution_count": 5,
   "metadata": {},
   "outputs": [
    {
     "name": "stdout",
     "output_type": "stream",
     "text": [
      "current count == 5\n",
      "count_str == 00000006\n",
      "FINAL RESULT == T00000000006\n",
      "... saving COUNT TO PICKLE == 6\n",
      "T00000000006\n"
     ]
    }
   ],
   "source": [
    "if __name__ == \"__main__\": # {\n",
    "    test_conv = create_file_name_convention(the_pickle=\"test_pickle.pkl\", number_of_digits=8)\n",
    "    print(test_conv)\n",
    "# }"
   ]
  },
  {
   "cell_type": "code",
   "execution_count": null,
   "metadata": {},
   "outputs": [],
   "source": []
  }
 ],
 "metadata": {
  "celltoolbar": "Raw Cell Format",
  "kernelspec": {
   "display_name": "Python 3",
   "language": "python",
   "name": "python3"
  },
  "language_info": {
   "codemirror_mode": {
    "name": "ipython",
    "version": 3
   },
   "file_extension": ".py",
   "mimetype": "text/x-python",
   "name": "python",
   "nbconvert_exporter": "python",
   "pygments_lexer": "ipython3",
   "version": "3.7.0"
  }
 },
 "nbformat": 4,
 "nbformat_minor": 2
}
