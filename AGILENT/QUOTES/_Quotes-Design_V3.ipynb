{
 "cells": [
  {
   "cell_type": "code",
   "execution_count": 1,
   "metadata": {},
   "outputs": [],
   "source": [
    "import tkinter as tk\n",
    "from tkinter import ttk"
   ]
  },
  {
   "cell_type": "code",
   "execution_count": 2,
   "metadata": {},
   "outputs": [],
   "source": [
    "import sqlite3"
   ]
  },
  {
   "cell_type": "code",
   "execution_count": 3,
   "metadata": {},
   "outputs": [],
   "source": [
    "import pandas as pd\n",
    "import numpy as np\n",
    "from pandas import Series, DataFrame"
   ]
  },
  {
   "cell_type": "code",
   "execution_count": 33,
   "metadata": {},
   "outputs": [],
   "source": [
    "class QuotesBook: #{\n",
    "    \n",
    "    db_filename = \"test_quotes.db\"\n",
    "    \n",
    "    def __init__(self, root): #{\n",
    "        self.root = root\n",
    "        self.root.title('AGILENT Quotes')\n",
    "        self.root.resizable(width=True, height=True)\n",
    "        # SETUP GUI CALL\n",
    "        self.create_gui()\n",
    "    #}\n",
    "    \n",
    "    def execute_db_query(self, query, parameters=()): #{\n",
    "        with sqlite3.connect(self.db_filename) as conn: #{\n",
    "            cursor = conn.cursor()\n",
    "            query_result = cursor.execute(query, parameters)\n",
    "            conn.commit()\n",
    "        #}\n",
    "        return query_result\n",
    "    #}\n",
    "    \n",
    "    def create_gui(self): #{\n",
    "        self.create_tab_control()\n",
    "        self.create_tab()\n",
    "    #}\n",
    "    \n",
    "    def create_paned_windows(self): #{\n",
    "        self.test_frame = tk.LabelFrame(master = self.root, text = \"Test Frame:\")\n",
    "        self.test_frame.pack()\n",
    "        \n",
    "        self.m1 = tk.PanedWindow(master = self.test_frame)\n",
    "        self.m1.pack(fill = tk.BOTH, expand = 1)\n",
    "        \n",
    "        self.left = tk.Entry(master = self.m1, bd = 2)\n",
    "        self.m1.add(self.left)\n",
    "        \n",
    "        self.m2 = tk.PanedWindow(master = self.m1, orient = tk.VERTICAL)\n",
    "        self.m1.add(self.m2)\n",
    "        \n",
    "        self.top = tk.Scale(master = self.m2, orient = tk.HORIZONTAL)\n",
    "        self.m2.add(self.top)\n",
    "        \n",
    "        self.bottom = ttk.Button(master = self.m2, text = \"OK\")\n",
    "        self.m2.add(self.bottom)\n",
    "    #}\n",
    "    \n",
    "    def create_tab_control(self): #{\n",
    "        # Create a Frame Container\n",
    "        self.leftframe = tk.Frame(master = self.root)\n",
    "        self.leftframe.pack(side = tk.LEFT, fill = tk.BOTH, expand = False)\n",
    "        \n",
    "        # NOTEBOOK WIDGET\n",
    "        self.tab_control = ttk.Notebook(self.leftframe)\n",
    "        \n",
    "        # TAB-1\n",
    "        self.tab1 = ttk.Frame(self.tab_control)\n",
    "        self.tab_control.add(self.tab1, text = 'CREATE')\n",
    "        self.tab_control.pack(expand = 2, fill = tk.BOTH)\n",
    "        \n",
    "        # TAB-2\n",
    "        self.tab2 = ttk.Frame(self.tab_control)\n",
    "        self.tab_control.add(self.tab2, text = 'READ')\n",
    "        self.tab_control.pack(expand = 2, fill = tk.BOTH)\n",
    "        \n",
    "        # TAB-3\n",
    "        self.tab3 = ttk.Frame(self.tab_control)\n",
    "        self.tab_control.add(self.tab3, text = 'UPDATE')\n",
    "        self.tab_control.pack(expand = 2, fill = tk.BOTH)\n",
    "        \n",
    "        # TAB-4\n",
    "        self.tab4 = ttk.Frame(self.tab_control)\n",
    "        self.tab_control.add(self.tab4, text = \"DELETE\")\n",
    "        self.tab_control.pack(expand = 2, fill = tk.BOTH)\n",
    "        \n",
    "    #}\n",
    "    \n",
    "    def create_tab(self): #{\n",
    "        # Create the Tab Container\n",
    "        self.lblframe_create = tk.LabelFrame(master = self.tab1, text = \"Create New Record\")\n",
    "        self.lblframe_create.pack(anchor = tk.CENTER, fill = tk.BOTH, expand = False)\n",
    "    #}\n",
    "    \n",
    "#}"
   ]
  },
  {
   "cell_type": "code",
   "execution_count": 34,
   "metadata": {},
   "outputs": [],
   "source": [
    "if __name__ == \"__main__\": #{\n",
    "    window = tk.Tk()\n",
    "    application = QuotesBook(window)\n",
    "    window.mainloop()\n",
    "#}"
   ]
  },
  {
   "cell_type": "code",
   "execution_count": null,
   "metadata": {},
   "outputs": [],
   "source": []
  }
 ],
 "metadata": {
  "kernelspec": {
   "display_name": "Python 3",
   "language": "python",
   "name": "python3"
  },
  "language_info": {
   "codemirror_mode": {
    "name": "ipython",
    "version": 3
   },
   "file_extension": ".py",
   "mimetype": "text/x-python",
   "name": "python",
   "nbconvert_exporter": "python",
   "pygments_lexer": "ipython3",
   "version": "3.7.0"
  }
 },
 "nbformat": 4,
 "nbformat_minor": 2
}
