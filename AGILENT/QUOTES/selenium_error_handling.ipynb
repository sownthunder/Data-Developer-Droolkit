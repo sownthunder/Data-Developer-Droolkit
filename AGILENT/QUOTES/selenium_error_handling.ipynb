{
 "cells": [
  {
   "cell_type": "markdown",
   "metadata": {},
   "source": [
    "### error handling"
   ]
  },
  {
   "cell_type": "markdown",
   "metadata": {},
   "source": [
    "`WebDriverException` is a base `Selenium-WebDriver` exception that could be used to catch all other`Selenium-WebDriver` exceptions\n",
    "\n",
    "To be able to catch exception it should be imported first:"
   ]
  },
  {
   "cell_type": "code",
   "execution_count": 1,
   "metadata": {},
   "outputs": [],
   "source": [
    "from selenium.common.exceptions import WebDriverException as WDE"
   ]
  },
  {
   "cell_type": "markdown",
   "metadata": {},
   "source": [
    "and then:"
   ]
  },
  {
   "cell_type": "code",
   "execution_count": null,
   "metadata": {},
   "outputs": [],
   "source": [
    "try: #{\n",
    "    element = driver.find_element_by_id('ID')\n",
    "#}\n",
    "except WDE: #{\n",
    "    print(\"Not able to find element\")\n",
    "#}"
   ]
  }
 ],
 "metadata": {
  "kernelspec": {
   "display_name": "Python 3",
   "language": "python",
   "name": "python3"
  },
  "language_info": {
   "codemirror_mode": {
    "name": "ipython",
    "version": 3
   },
   "file_extension": ".py",
   "mimetype": "text/x-python",
   "name": "python",
   "nbconvert_exporter": "python",
   "pygments_lexer": "ipython3",
   "version": "3.7.3"
  }
 },
 "nbformat": 4,
 "nbformat_minor": 2
}
