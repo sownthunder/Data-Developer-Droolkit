{
 "cells": [
  {
   "cell_type": "code",
   "execution_count": 1,
   "metadata": {},
   "outputs": [],
   "source": [
    "import os, sys, time\n",
    "from time import sleep\n",
    "import tkinter as tk\n",
    "from tkinter import filedialog, messagebox, ttk"
   ]
  },
  {
   "cell_type": "raw",
   "metadata": {
    "raw_mimetype": "text/x-python"
   },
   "source": [
    "root = tk.Tk()\n",
    "\n",
    "tree = ttk.Treeview(root)\n",
    "\n",
    "tree[\"columns\"]=(\"one\",\"two\")\n",
    "tree.column(\"one\", width=100 )\n",
    "tree.column(\"two\", width=100)\n",
    "tree.heading(\"one\", text=\"coulmn A\")\n",
    "tree.heading(\"two\", text=\"column B\")\n",
    "\n",
    "tree.insert(\"\" , 0,    text=\"Line 1\", values=(\"1A\",\"1b\"))\n",
    "\n",
    "id2 = tree.insert(\"\", 1, \"dir2\", text=\"Dir 2\")\n",
    "tree.insert(id2, \"end\", \"dir 2\", text=\"sub dir 2\", values=(\"2A\",\"2B\"))\n",
    "\n",
    "##alternatively:\n",
    "tree.insert(\"\", 3, \"dir3\", text=\"Dir 3\")\n",
    "tree.insert(\"dir3\", 3, text=\" sub dir 3\",values=(\"3A\",\" 3B\"))\n",
    "\n",
    "tree.pack()\n",
    "root.mainloop()"
   ]
  },
  {
   "cell_type": "raw",
   "metadata": {
    "raw_mimetype": "text/x-python"
   },
   "source": [
    "root = tk.Tk()\n",
    "style = ttk.Style()\n",
    "style.map(\"C.TButton\", \n",
    "          foreground=[('pressed', 'red'), ('active', 'blue')], \n",
    "          background=[('pressed', '!disabled', 'black'), ('active', 'white')] )\n",
    "colored_btn = ttk.Button(text=\"Test\", style=\"C.TButton\").pack()\n",
    "root.mainloop()"
   ]
  },
  {
   "cell_type": "code",
   "execution_count": 2,
   "metadata": {},
   "outputs": [],
   "source": [
    "root = tk.Tk()\n",
    "root.title(\"Quote Tracker Columns\")\n",
    "\n",
    "tree = ttk.Treeview(root)\n",
    "\n",
    "tree[\"columns\"]=(\"one\",\"two\")\n",
    "tree.column(\"one\", width=100 )\n",
    "tree.column(\"two\", width=100)\n",
    "tree.heading(\"one\", text=\"Column A\")\n",
    "tree.heading(\"two\", text=\"Column B\")\n",
    "\n",
    "tree.insert(\"\" , 0,    text=\"Tracking Info\", values=(\"1A\",\"1b\"))\n",
    "\n",
    "tracking_info = tree.insert(\"\", 1, \"Tracking Info:\")\n",
    "tree.insert(tracking_info, 2, text=\"test\")\n",
    "tree.insert(\"\", 2, text=\"idk\")\n",
    "tree.insert(tracking_info, \"end\", text=\"idk\")\n",
    "\n",
    "# [2019-12-30]\\\\id2 = tree.insert(\"\", 1, \"dir2\", text=\"Account Info:\")\n",
    "id2 = tree.insert(\"\", 3, \"dir 2\", text=\"Account Info:\")\n",
    "tree.insert(id2, \"end\", \"dir 3\", text=\"Company Name\", values=(\"3A\",\"3B\"))\n",
    "tree.insert(id2, \"end\", \"dir 4\", text=\"Contact Person\", values=(\"Robert\",\"Foster\"))\n",
    "\n",
    "##alternatively:\n",
    "tree.insert(\"\", 4, \"dir4\", text=\"Quote Info:\")\n",
    "tree.insert(\"dir4\", 4, text=\" sub dir 4\",values=(\"4A\",\" 4B\"))\n",
    "\n",
    "tree.pack()\n",
    "root.mainloop()"
   ]
  },
  {
   "cell_type": "code",
   "execution_count": null,
   "metadata": {},
   "outputs": [],
   "source": []
  }
 ],
 "metadata": {
  "celltoolbar": "Raw Cell Format",
  "kernelspec": {
   "display_name": "Python 3",
   "language": "python",
   "name": "python3"
  },
  "language_info": {
   "codemirror_mode": {
    "name": "ipython",
    "version": 3
   },
   "file_extension": ".py",
   "mimetype": "text/x-python",
   "name": "python",
   "nbconvert_exporter": "python",
   "pygments_lexer": "ipython3",
   "version": "3.7.0"
  }
 },
 "nbformat": 4,
 "nbformat_minor": 2
}
