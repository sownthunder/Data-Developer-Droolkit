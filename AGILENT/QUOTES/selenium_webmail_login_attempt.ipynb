{
 "cells": [
  {
   "cell_type": "code",
   "execution_count": 1,
   "metadata": {},
   "outputs": [],
   "source": [
    "# IMPORT THE GOODS\n",
    "import os, sys, time\n",
    "from time import sleep\n",
    "from pathlib import Path\n",
    "import threading, logging\n",
    "\n",
    "# TKINTER\n",
    "import tkinter as tk\n",
    "from tkinter import ttk, filedialog, messagebox, colorchooser\n",
    "\n",
    "# PYAUTOGUI\n",
    "import pyautogui\n",
    "\n",
    "# SELENIUM\n",
    "from selenium import webdriver\n",
    "from selenium.webdriver.common.keys import Keys\n",
    "from selenium.webdriver.common.action_chains import ActionChains\n",
    "from selenium.webdriver.common.proxy import Proxy\n",
    "from selenium.common.exceptions import NoSuchElementException"
   ]
  },
  {
   "cell_type": "code",
   "execution_count": 2,
   "metadata": {
    "raw_mimetype": "text/x-python"
   },
   "outputs": [],
   "source": [
    "def set_up_chrome_driver(): #{\n",
    "    path_to_chrome_driver = \"C:/Program Files/Chrome/chromedriver.exe\" # WAS: 'chromedriver'\n",
    "    return webdriver.Chrome(executable_path=path_to_chrome_driver)\n",
    "#}"
   ]
  },
  {
   "cell_type": "code",
   "execution_count": 3,
   "metadata": {},
   "outputs": [],
   "source": [
    "def set_up_opera_driver(): #{\n",
    "    path_to_opera_driver = \"C:/Program Files/Opera/operadriver.exe\"\n",
    "    return webdriver.Opera(executable_path=path_to_opera_driver)\n",
    "#}"
   ]
  },
  {
   "cell_type": "code",
   "execution_count": 4,
   "metadata": {
    "raw_mimetype": "text/x-python"
   },
   "outputs": [],
   "source": [
    "def tear_down(driver): #{\n",
    "    driver.quit()\n",
    "#}"
   ]
  },
  {
   "cell_type": "code",
   "execution_count": 5,
   "metadata": {
    "raw_mimetype": "text/x-python"
   },
   "outputs": [],
   "source": [
    "def get_google(): #{\n",
    "    driver = set_up_chrome_driver()\n",
    "    driver.get('http://www.google.com')\n",
    "    tear_down(driver)\n",
    "#}"
   ]
  },
  {
   "cell_type": "code",
   "execution_count": 6,
   "metadata": {},
   "outputs": [],
   "source": [
    "def get_opera(): #{\n",
    "    driver = set_up_opera_driver()\n",
    "    driver.get('https://www.google.com')\n",
    "    tear_down(driver)\n",
    "#}"
   ]
  },
  {
   "cell_type": "code",
   "execution_count": 7,
   "metadata": {},
   "outputs": [],
   "source": [
    "#get_google()"
   ]
  },
  {
   "cell_type": "raw",
   "metadata": {
    "raw_mimetype": "text/x-python"
   },
   "source": [
    "get_opera()"
   ]
  },
  {
   "cell_type": "raw",
   "metadata": {
    "raw_mimetype": "text/x-python"
   },
   "source": [
    "def tear_down(driver): #{\n",
    "    driver.quit()\n",
    "#}"
   ]
  },
  {
   "cell_type": "code",
   "execution_count": 8,
   "metadata": {},
   "outputs": [],
   "source": [
    "def outlook_owa_run(): #{\n",
    "    # OPEN BROWSER\n",
    "    browser = set_up_chrome_driver() # WAS: webdriver.Chrome()\n",
    "    # NAVIGATE TO SITE\n",
    "    #browser.get('https://outlook.office365.com/non.agilent.com/')\n",
    "    browser.get('https://outlook.live.com/owa/')\n",
    "    \n",
    "    #browser.set_window_size(1050, 800)\n",
    "    # Move the window to position x/y\n",
    "    #browser.set_window_position(200, 200)\n",
    "    browser.maximize_window()\n",
    "    logging.info(\"Opened Outlook.COM\")\n",
    "    sleep(1)\n",
    "    \n",
    "    # In[19]:\n",
    "    # SEARCH FOR SIGN IN BUTTON\n",
    "    # 07/02/2019 - ADD DIFFERENT SIGN-IN METHODS\n",
    "    try: #{\n",
    "        sign_in = browser.find_element_by_class_name('officeHeaderMenu')\n",
    "        sign_in.click()\n",
    "        sleep(1)\n",
    "    #}\n",
    "    except NoSuchElementException: #{\n",
    "        # NOT FOUND! TRY THE OTHER WAY\n",
    "        sign_in = browser.find_element_by_link_text(\"Sign in\")\n",
    "        sign_in.click()\n",
    "        sleep(1)\n",
    "    #}\n",
    "    except: #{\n",
    "        errorMessage = str(sys.exc_info()[0]) + \"\\n\\t\\t\"\n",
    "        errorMessage = errorMessage + str(sys.exc_info()[1]) + \"\\n\\t\\t\"\n",
    "        errorMessage = errorMessage + str(sys.exc_info()[2]) + \"\\n\"\n",
    "        exc_type, exc_obj, exc_tb = sys.exc_info()\n",
    "        fname = os.path.split(exc_tb.tb_frame.f_code.co_filename)[1]\n",
    "        typeE = str(\"TYPE : \" + str(exc_type))\n",
    "        fileE = str(\"FILE : \" + str(fname))\n",
    "        lineE = str(\"LINE : \" + str(exc_tb.tb_lineno))\n",
    "        messageE = str(\"MESG : \" + \"\\n\" + str(errorMessage) + \"\\n\")\n",
    "        error_output = \"\\n\" + typeE + \"\\n\" + fileE + \"\\n\" + lineE + \"\\n\" + messageE\n",
    "        logging.error(error_output)\n",
    "    #}\n",
    "    else: #{\n",
    "        logging.info(\"SITE SWITCHED SHIT UP AGAIN!\")\n",
    "    #}\n",
    "    \n",
    "    # In[20]:\n",
    "    # SEARCH FOR EMAIL LOGIN FIELD\n",
    "    email_box = browser.find_element_by_id('i0116')\n",
    "    email_box.send_keys(usr)  # ENTER EMAIL USERNAME\n",
    "    logging.info(\"Email Id Entered\")\n",
    "    sleep(1)\n",
    "    \n",
    "    # In[21]:\n",
    "    # SEARCH FOR 'NEXT' BUTTON\n",
    "    next_btn = browser.find_element_by_id('idSIButton9')\n",
    "    next_btn.click()\n",
    "#}"
   ]
  },
  {
   "cell_type": "code",
   "execution_count": 9,
   "metadata": {},
   "outputs": [],
   "source": [
    "def run_driver(): #{\n",
    "    driver = set_up_chrome_driver()\n",
    "    driver.get('https://outlook.live.com/owa/')\n",
    "    #driver.get('https://webmail.agilent.com')\n",
    "    logging.info(\"ARRIVED AT SITE!\")\n",
    "    sleep(1)\n",
    "    \n",
    "    # attempt finding email field\n",
    "    email_box = driver.find_element_by_id(\"i0116\")\n",
    "    email_box.send_keys(\"derek.bates@non.agilent.com\")\n",
    "    email_box.send_keys(Keys.ENTER)\n",
    "    logging.info(\"email entered!\")\n",
    "    sleep(1)\n",
    "    \n",
    "    # ATTEMPT AT 'NEXT\" BUTTON'\n",
    "    next_btn = browser.find_element_by_id('idSIButton9')\n",
    "    next_btn.click()\n",
    "    browser.implicitly_wait(15)\n",
    "    \n",
    "    # attempt at search\n",
    "    search_box = driver.find_element_by_xpath(\"//input[@placeholder='Search']\")\n",
    "    search_box.clear()\n",
    "    search_box.send_keys(\"laberche\")\n",
    "    sleep(1)\n",
    "    \n",
    "    tear_down(driver) \n",
    "#}"
   ]
  },
  {
   "cell_type": "code",
   "execution_count": 10,
   "metadata": {},
   "outputs": [],
   "source": [
    "def fetch_email_box(): #{\n",
    "    # RE-INSTANTIATE GLOBAL VARS\n",
    "    global root\n",
    "    # LET USER CONFIRM THEY ARE READY WITH YES/NO\n",
    "    the_prompt = messagebox.askyesnocancel(title=\"PLEASE CONFIRM:\", message=\"you sure yo?\")\n",
    "    # CHECK ON PROMPT-RESPONSE:\n",
    "    if str(the_prompt) == \"True\": #{\n",
    "        # run main driver setup\n",
    "        # [2019-09-27]...run_driver()\n",
    "        outlook_owa_run()\n",
    "    #}\n",
    "    elif str(the_prompt) == \"False\": #{\n",
    "        logging.info(\"YOU SAID NO!\")\n",
    "    #}\n",
    "    elif str(the_prompt) == \"None\": #{\n",
    "        logging.info(\"canceled...\")\n",
    "    #}\n",
    "    \"\"\"\n",
    "    # PYAUTO GUI CONFIRM() FUNCTION\n",
    "    the_prompt = pyautogui.alert(text='are you sure yo?\\nwill timeout in 10 seconds either way..', \n",
    "                                  title='Confirm:', \n",
    "                                  root=root, \n",
    "                                  timeout=None)\n",
    "    \"\"\"\n",
    "    #messagebox.showinfo(title=\"HOWDY!\", message=str(the_prompt))\n",
    "    logging.info(str(the_prompt))\n",
    "    return\n",
    "#}"
   ]
  },
  {
   "cell_type": "raw",
   "metadata": {
    "raw_mimetype": "text/x-python"
   },
   "source": [
    "if __name__ == \"__main__\": #{\n",
    "    get_google()\n",
    "#}"
   ]
  },
  {
   "cell_type": "code",
   "execution_count": 11,
   "metadata": {},
   "outputs": [],
   "source": [
    "def App(): #{\n",
    "    # RE-INSTANTIATE GLOBALS\n",
    "    global root\n",
    "    root.title(\"QUOTES\")\n",
    "    root.geometry(\"350x400+69+69\")\n",
    "    #root.minsize(width=350, height=400)\n",
    "    \n",
    "    # MAIN FRAME\n",
    "    ##############\n",
    "    mainframe = tk.Frame(master=root)\n",
    "    mainframe.pack(side=tk.TOP, fill=tk.BOTH, expand=True)\n",
    "    \n",
    "    #######################################################\n",
    "    # LEFT FRAME\n",
    "    leftframe = tk.Frame(master=mainframe)\n",
    "    leftframe.pack(side=tk.LEFT, fill=tk.BOTH, expand=True)\n",
    "    \n",
    "    ## B1\n",
    "    b1 = tk.Button(master=leftframe, text=\"FETCH EMAIL BOX...\", \n",
    "                   font=(\"Courier New\", 12), command=fetch_email_box, \n",
    "                   activebackground=\"#ff5566\", relief=tk.GROOVE)\n",
    "    b1.pack(anchor=tk.CENTER, fill=tk.BOTH, expand=True)\n",
    "    \n",
    "    #######################################################\n",
    "    # MIDDLE FRAME\n",
    "    middleframe = tk.Frame(master=mainframe)\n",
    "    middleframe.pack(anchor=tk.CENTER, fill=tk.X, expand=True)\n",
    "    \n",
    "    ## L1\n",
    "    l1 = tk.Label(master=middleframe, text=\"LABEL-1\",\n",
    "                 font=(\"Comfortaa\", 14), bg=\"#81ff57\", relief=tk.SUNKEN)\n",
    "    l1.pack(anchor=tk.CENTER, fill=tk.BOTH, expand=True)\n",
    "    \n",
    "    #######################################################\n",
    "    # RIGHT FRAME\n",
    "    rightframe = tk.Frame(master=mainframe)\n",
    "    rightframe.pack(side=tk.RIGHT, fill=tk.BOTH, expand=True)\n",
    "    \n",
    "    ## B2 \n",
    "    b2 = tk.Button(master=rightframe, text=\"QUIT\",\n",
    "                  font=(\"Sourcecode Semibold\", 12), command=root.destroy,\n",
    "                  activebackground=\"#66ff33\", relief=tk.RAISED)\n",
    "    b2.pack(anchor=tk.CENTER, fill=tk.BOTH, expand=True)\n",
    "    \n",
    "    root.config()\n",
    "    root.mainloop()\n",
    "#}"
   ]
  },
  {
   "cell_type": "code",
   "execution_count": 12,
   "metadata": {},
   "outputs": [],
   "source": [
    "if __name__ == \"__main__\": #{\n",
    "    # SETUP LOGGER\n",
    "    try: #{\n",
    "        logging.basicConfig(level=logging.INFO,\n",
    "                           format='%(asctime)s : %(message)s',\n",
    "                           datefmt='%Y%m%d-%H%M%S',\n",
    "                           filemode='a')\n",
    "    #}\n",
    "    except: #{\n",
    "        print(\"error!\")\n",
    "    #}\n",
    "    else: #{\n",
    "        logging.debug(\"LOGGER SETUP SUCCESS!\")\n",
    "    # INSTANTIATE GLOBAL VARIABLES\n",
    "    root = tk.Tk()\n",
    "    App()\n",
    "#}"
   ]
  },
  {
   "cell_type": "code",
   "execution_count": null,
   "metadata": {},
   "outputs": [],
   "source": []
  }
 ],
 "metadata": {
  "celltoolbar": "Raw Cell Format",
  "kernelspec": {
   "display_name": "Python 3",
   "language": "python",
   "name": "python3"
  },
  "language_info": {
   "codemirror_mode": {
    "name": "ipython",
    "version": 3
   },
   "file_extension": ".py",
   "mimetype": "text/x-python",
   "name": "python",
   "nbconvert_exporter": "python",
   "pygments_lexer": "ipython3",
   "version": "3.7.3"
  }
 },
 "nbformat": 4,
 "nbformat_minor": 2
}
