{
 "cells": [
  {
   "cell_type": "code",
   "execution_count": 1,
   "metadata": {},
   "outputs": [],
   "source": [
    "# IMPORT THE GOODS\n",
    "import os, sys, time\n",
    "from time import sleep\n",
    "from pathlib import Path\n",
    "\n",
    "# TKINTER\n",
    "import tkinter as tk\n",
    "from tkinter import ttk, filedialog, messagebox, colorchooser\n",
    "\n",
    "# PYAUTOGUI\n",
    "import pyautogui\n",
    "\n",
    "# SELENIUM\n",
    "from selenium import webdriver\n",
    "from selenium.webdriver.common.keys import Keys\n",
    "from selenium.webdriver.common.action_chains import ActionChains\n",
    "from selenium.webdriver.common.proxy import Proxy"
   ]
  },
  {
   "cell_type": "code",
   "execution_count": 2,
   "metadata": {
    "raw_mimetype": "text/x-python"
   },
   "outputs": [],
   "source": [
    "def set_up_chrome_driver(): #{\n",
    "    path_to_chrome_driver = \"C:/Program Files/Chrome/chromedriver.exe\" # WAS: 'chromedriver'\n",
    "    return webdriver.Chrome(executable_path=path_to_chrome_driver)\n",
    "#}"
   ]
  },
  {
   "cell_type": "code",
   "execution_count": 3,
   "metadata": {},
   "outputs": [],
   "source": [
    "def set_up_opera_driver(): #{\n",
    "    path_to_opera_driver = \"C:/Program Files/Opera/operadriver.exe\"\n",
    "    return webdriver.Opera(executable_path=path_to_opera_driver)\n",
    "#}"
   ]
  },
  {
   "cell_type": "code",
   "execution_count": 4,
   "metadata": {
    "raw_mimetype": "text/x-python"
   },
   "outputs": [],
   "source": [
    "def tear_down(driver): #{\n",
    "    driver.quit()\n",
    "#}"
   ]
  },
  {
   "cell_type": "code",
   "execution_count": 5,
   "metadata": {
    "raw_mimetype": "text/x-python"
   },
   "outputs": [],
   "source": [
    "def get_google(): #{\n",
    "    driver = set_up_chrome_driver()\n",
    "    driver.get('http://www.google.com')\n",
    "    tear_down(driver)\n",
    "#}"
   ]
  },
  {
   "cell_type": "code",
   "execution_count": 6,
   "metadata": {},
   "outputs": [],
   "source": [
    "def get_opera(): #{\n",
    "    driver = set_up_opera_driver()\n",
    "    driver.get('https://www.google.com')\n",
    "    tear_down(driver)\n",
    "#}"
   ]
  },
  {
   "cell_type": "code",
   "execution_count": 7,
   "metadata": {},
   "outputs": [],
   "source": [
    "#get_google()"
   ]
  },
  {
   "cell_type": "raw",
   "metadata": {
    "raw_mimetype": "text/x-python"
   },
   "source": [
    "get_opera()"
   ]
  },
  {
   "cell_type": "raw",
   "metadata": {
    "raw_mimetype": "text/x-python"
   },
   "source": [
    "def tear_down(driver): #{\n",
    "    driver.quit()\n",
    "#}"
   ]
  },
  {
   "cell_type": "code",
   "execution_count": 8,
   "metadata": {},
   "outputs": [],
   "source": [
    "def run_driver(): #{\n",
    "    driver = set_up_chrome_driver()\n",
    "    driver.get('https://webmail.agilent.com')\n",
    "    print(\"ARRIVED AT SITE!\")\n",
    "    sleep(1)\n",
    "    \n",
    "    # attempt at search\n",
    "    search_box = driver.find_element_by_xpath(\"//input[@placeholder='Search']\")\n",
    "    search_box.clear()\n",
    "    search_box.send_keys(\"laberche\")\n",
    "    sleep(1)\n",
    "    \n",
    "    tear_down(driver) \n",
    "#}"
   ]
  },
  {
   "cell_type": "code",
   "execution_count": 9,
   "metadata": {},
   "outputs": [],
   "source": [
    "def fetch_email_box(): #{\n",
    "    # RE-INSTANTIATE GLOBAL VARS\n",
    "    global root\n",
    "    # LET USER CONFIRM THEY ARE READY WITH YES/NO\n",
    "    the_prompt = messagebox.askyesnocancel(title=\"PLEASE CONFIRM:\", message=\"you sure yo?\")\n",
    "    # CHECK ON PROMPT-RESPONSE:\n",
    "    if str(the_prompt) == \"True\": #{\n",
    "        # run main driver setup\n",
    "        run_driver()\n",
    "    #}\n",
    "    elif str(the_prompt) == \"False\": #{\n",
    "        print(\"YOU SAID NO!\")\n",
    "    #}\n",
    "    elif str(the_prompt) == \"None\": #{\n",
    "        print(\"canceled...\")\n",
    "    #}\n",
    "    \"\"\"\n",
    "    # PYAUTO GUI CONFIRM() FUNCTION\n",
    "    the_prompt = pyautogui.alert(text='are you sure yo?\\nwill timeout in 10 seconds either way..', \n",
    "                                  title='Confirm:', \n",
    "                                  root=root, \n",
    "                                  timeout=None)\n",
    "    \"\"\"\n",
    "    #messagebox.showinfo(title=\"HOWDY!\", message=str(the_prompt))\n",
    "    print(the_prompt)\n",
    "    return\n",
    "#}"
   ]
  },
  {
   "cell_type": "code",
   "execution_count": 10,
   "metadata": {},
   "outputs": [],
   "source": [
    "def App(): #{\n",
    "    # RE-INSTANTIATE GLOBALS\n",
    "    global root\n",
    "    root.title(\"QUOTES\")\n",
    "    root.geometry(\"350x400+69+69\")\n",
    "    #root.minsize(width=350, height=400)\n",
    "    \n",
    "    #######################################################\n",
    "    # LEFT FRAME\n",
    "    leftframe = tk.Frame(master=root)\n",
    "    leftframe.pack(anchor=tk.W, fill=tk.BOTH, expand=True)\n",
    "    \n",
    "    ## B1\n",
    "    b1 = tk.Button(master=leftframe, text=\"FETCH EMAIL BOX...\", \n",
    "                   font=(\"Courier New\", 12), command=fetch_email_box, \n",
    "                   activebackground=\"#ff5566\", relief=tk.GROOVE)\n",
    "    b1.pack(anchor=tk.CENTER, fill=tk.BOTH, expand=True)\n",
    "    \n",
    "    #######################################################\n",
    "    # MIDDLE FRAME\n",
    "    middleframe = tk.Frame(master=root)\n",
    "    middleframe.pack(anchor=tk.N, fill=tk.BOTH, expand=True)\n",
    "    \n",
    "    ## L1\n",
    "    l1 = tk.Label(master=middleframe, text=\"LABEL-1\")\n",
    "    l1.pack(anchor=tk.CENTER, fill=tk.BOTH, expand=True)\n",
    "    \n",
    "    #######################################################\n",
    "    # RIGHT FRAME\n",
    "    rightframe = tk.Frame(master=root)\n",
    "    rightframe.pack(anchor=tk.E, fill=tk.BOTH, expand=True)\n",
    "    \n",
    "    ## B2 \n",
    "    b2 = tk.Button(master=rightframe, command=root.destroy, text=\"QUIT\")\n",
    "    b2.pack(anchor=tk.CENTER, fill=tk.BOTH, expand=True)\n",
    "    \n",
    "    root.config()\n",
    "    root.mainloop()\n",
    "#}"
   ]
  },
  {
   "cell_type": "raw",
   "metadata": {
    "raw_mimetype": "text/x-python"
   },
   "source": [
    "if __name__ == \"__main__\": #{\n",
    "    get_google()\n",
    "#}"
   ]
  },
  {
   "cell_type": "code",
   "execution_count": 11,
   "metadata": {},
   "outputs": [
    {
     "name": "stdout",
     "output_type": "stream",
     "text": [
      "ARRIVED AT SITE!\n"
     ]
    },
    {
     "name": "stderr",
     "output_type": "stream",
     "text": [
      "Exception in Tkinter callback\n",
      "Traceback (most recent call last):\n",
      "  File \"C:\\Users\\derbates\\anaconda3\\lib\\tkinter\\__init__.py\", line 1705, in __call__\n",
      "    return self.func(*args)\n",
      "  File \"<ipython-input-9-1bfd34577aca>\", line 9, in fetch_email_box\n",
      "    run_driver()\n",
      "  File \"<ipython-input-8-1f25b14757f1>\", line 8, in run_driver\n",
      "    search_box = driver.find_element_by_xpath(\"//input[@placeholder='Search']\")\n",
      "  File \"C:\\Users\\derbates\\anaconda3\\lib\\site-packages\\selenium\\webdriver\\remote\\webdriver.py\", line 394, in find_element_by_xpath\n",
      "    return self.find_element(by=By.XPATH, value=xpath)\n",
      "  File \"C:\\Users\\derbates\\anaconda3\\lib\\site-packages\\selenium\\webdriver\\remote\\webdriver.py\", line 978, in find_element\n",
      "    'value': value})['value']\n",
      "  File \"C:\\Users\\derbates\\anaconda3\\lib\\site-packages\\selenium\\webdriver\\remote\\webdriver.py\", line 321, in execute\n",
      "    self.error_handler.check_response(response)\n",
      "  File \"C:\\Users\\derbates\\anaconda3\\lib\\site-packages\\selenium\\webdriver\\remote\\errorhandler.py\", line 242, in check_response\n",
      "    raise exception_class(message, screen, stacktrace)\n",
      "selenium.common.exceptions.NoSuchElementException: Message: no such element: Unable to locate element: {\"method\":\"xpath\",\"selector\":\"//input[@placeholder='Search']\"}\n",
      "  (Session info: chrome=77.0.3865.90)\n",
      "\n"
     ]
    },
    {
     "name": "stdout",
     "output_type": "stream",
     "text": [
      "YOU SAID NO!\n",
      "False\n",
      "YOU SAID NO!\n",
      "False\n",
      "YOU SAID NO!\n",
      "False\n",
      "ARRIVED AT SITE!\n"
     ]
    },
    {
     "name": "stderr",
     "output_type": "stream",
     "text": [
      "Exception in Tkinter callback\n",
      "Traceback (most recent call last):\n",
      "  File \"C:\\Users\\derbates\\anaconda3\\lib\\tkinter\\__init__.py\", line 1705, in __call__\n",
      "    return self.func(*args)\n",
      "  File \"<ipython-input-9-1bfd34577aca>\", line 9, in fetch_email_box\n",
      "    run_driver()\n",
      "  File \"<ipython-input-8-1f25b14757f1>\", line 8, in run_driver\n",
      "    search_box = driver.find_element_by_xpath(\"//input[@placeholder='Search']\")\n",
      "  File \"C:\\Users\\derbates\\anaconda3\\lib\\site-packages\\selenium\\webdriver\\remote\\webdriver.py\", line 394, in find_element_by_xpath\n",
      "    return self.find_element(by=By.XPATH, value=xpath)\n",
      "  File \"C:\\Users\\derbates\\anaconda3\\lib\\site-packages\\selenium\\webdriver\\remote\\webdriver.py\", line 978, in find_element\n",
      "    'value': value})['value']\n",
      "  File \"C:\\Users\\derbates\\anaconda3\\lib\\site-packages\\selenium\\webdriver\\remote\\webdriver.py\", line 321, in execute\n",
      "    self.error_handler.check_response(response)\n",
      "  File \"C:\\Users\\derbates\\anaconda3\\lib\\site-packages\\selenium\\webdriver\\remote\\errorhandler.py\", line 242, in check_response\n",
      "    raise exception_class(message, screen, stacktrace)\n",
      "selenium.common.exceptions.NoSuchElementException: Message: no such element: Unable to locate element: {\"method\":\"xpath\",\"selector\":\"//input[@placeholder='Search']\"}\n",
      "  (Session info: chrome=77.0.3865.90)\n",
      "\n"
     ]
    }
   ],
   "source": [
    "if __name__ == \"__main__\": #{\n",
    "    # INSTANTIATE GLOBAL VARIABLES\n",
    "    root = tk.Tk()\n",
    "    App()\n",
    "#}"
   ]
  },
  {
   "cell_type": "code",
   "execution_count": null,
   "metadata": {},
   "outputs": [],
   "source": []
  }
 ],
 "metadata": {
  "celltoolbar": "Raw Cell Format",
  "kernelspec": {
   "display_name": "Python 3",
   "language": "python",
   "name": "python3"
  },
  "language_info": {
   "codemirror_mode": {
    "name": "ipython",
    "version": 3
   },
   "file_extension": ".py",
   "mimetype": "text/x-python",
   "name": "python",
   "nbconvert_exporter": "python",
   "pygments_lexer": "ipython3",
   "version": "3.7.3"
  }
 },
 "nbformat": 4,
 "nbformat_minor": 2
}
