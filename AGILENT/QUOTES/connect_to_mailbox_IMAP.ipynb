{
 "cells": [
  {
   "cell_type": "code",
   "execution_count": 1,
   "metadata": {},
   "outputs": [],
   "source": [
    "import os, sys, time\n",
    "from time import sleep\n",
    "import email\n",
    "import ssl, imaplib\n",
    "from ssl import Purpose\n",
    "import pprint\n",
    "import configparser"
   ]
  },
  {
   "cell_type": "code",
   "execution_count": 2,
   "metadata": {},
   "outputs": [],
   "source": [
    "import pandas as pd\n",
    "import numpy as np\n",
    "from pandas import Series, DataFrame"
   ]
  },
  {
   "cell_type": "code",
   "execution_count": 4,
   "metadata": {},
   "outputs": [
    {
     "name": "stdout",
     "output_type": "stream",
     "text": [
      "\n",
      "TYPE : <class 'imaplib.IMAP4.error'>\n",
      "FILE : <ipython-input-4-1ec01ee65e61>\n",
      "LINE : 11\n",
      "MESG : \n",
      "<class 'imaplib.IMAP4.error'>\n",
      "\t\tb'LOGIN failed.'\n",
      "\t\t<traceback object at 0x000001DCF41119C8>\n",
      "\n",
      "\n"
     ]
    }
   ],
   "source": [
    "# TRY THE FOLLOWING:\n",
    "try: #{\n",
    "    imap_host = 'imap.agilent.com'\n",
    "    imap_user = 'derek.bates@non.agilent.com'\n",
    "    imap_pass = '@hisB00ty!23'\n",
    "    \n",
    "    # CONNECT TO HOST USING SSL\n",
    "    imap = imaplib.IMAP4_SSL(imap_host)\n",
    "    \n",
    "    # LOGIN TO SERVER\n",
    "    imap.login(imap_user, imap_pass)\n",
    "    \n",
    "    imap.select('Inbox')\n",
    "    \n",
    "    tmp, data = imap.search(None, 'ALL')\n",
    "    for num in data[0].split(): #{\n",
    "        tmp, data = imap.fetch(num, '(RFC822)')\n",
    "        print('Message: {0}\\n'.format(num))\n",
    "        pprint.pprint(data[0][1])\n",
    "        break\n",
    "    #}\n",
    "    imap.close()\n",
    "#}\n",
    "except: #{\n",
    "    errorMessage = str(sys.exc_info()[0]) + \"\\n\\t\\t\"\n",
    "    errorMessage = errorMessage + str(sys.exc_info()[1]) + \"\\n\\t\\t\"\n",
    "    errorMessage = errorMessage + str(sys.exc_info()[2]) + \"\\n\"\n",
    "    exc_type, exc_obj, exc_tb = sys.exc_info()\n",
    "    fname = os.path.split(exc_tb.tb_frame.f_code.co_filename)[1]\n",
    "    typeE = str(\"TYPE : \" + str(exc_type))\n",
    "    fileE = str(\"FILE : \" + str(fname))\n",
    "    lineE = str(\"LINE : \" + str(exc_tb.tb_lineno))\n",
    "    messageE = str(\"MESG : \" + \"\\n\" + str(errorMessage) + \"\\n\")\n",
    "    print(\"\\n\" + typeE +\n",
    "          \"\\n\" + fileE +\n",
    "          \"\\n\" + lineE +\n",
    "          \"\\n\" + messageE)\n",
    "#}\n",
    "else: #{\n",
    "    print(\"SUCCESS! VERY NICE!\")\n",
    "#}"
   ]
  },
  {
   "cell_type": "code",
   "execution_count": null,
   "metadata": {},
   "outputs": [],
   "source": [
    "try: #{\n",
    "    imap_host = 'imap.agilent.com'# WAS: 'outlook.office365.com'\n",
    "    imap_user = 'derek.bates@non.agilent.com'\n",
    "    imap_pass = '@hisBooty!23'\n",
    "    \n",
    "    # CONNECT TO HOST USING SSL\n",
    "    imap = imaplib.IMAP4(imap_host, port=993)\n",
    "    #imap.starttls()\n",
    "    \n",
    "    imap.login(imap_user, imap_pass)\n",
    "    \n",
    "    imap.select('inbox')\n",
    "    \n",
    "    tmp, data = imap.search(None, 'ALL')\n",
    "    for num in data[0].split(): #{\n",
    "        tmp, data = imap.fetch(num, '(RFC822)')\n",
    "        print('Message: {0}\\n'.format(num))\n",
    "        pprint.pprint(data[0][1])\n",
    "        break\n",
    "    #}\n",
    "    imap.close()\n",
    "#}\n",
    "except: #{\n",
    "    errorMessage = str(sys.exc_info()[0]) + \"\\n\\t\\t\"\n",
    "    errorMessage = errorMessage + str(sys.exc_info()[1]) + \"\\n\\t\\t\"\n",
    "    errorMessage = errorMessage + str(sys.exc_info()[2]) + \"\\n\"\n",
    "    exc_type, exc_obj, exc_tb = sys.exc_info()\n",
    "    fname = os.path.split(exc_tb.tb_frame.f_code.co_filename)[1]\n",
    "    typeE = str(\"TYPE : \" + str(exc_type))\n",
    "    fileE = str(\"FILE : \" + str(fname))\n",
    "    lineE = str(\"LINE : \" + str(exc_tb.tb_lineno))\n",
    "    messageE = str(\"MESG : \" + \"\\n\" + str(errorMessage) + \"\\n\")\n",
    "    print(\"\\n\" + typeE +\n",
    "          \"\\n\" + fileE +\n",
    "          \"\\n\" + lineE +\n",
    "          \"\\n\" + messageE)\n",
    "#}\n",
    "else: #{\n",
    "    print(\"SUCCESS!! \")\n",
    "#}"
   ]
  },
  {
   "cell_type": "markdown",
   "metadata": {},
   "source": [
    "# SPACE BREAK"
   ]
  },
  {
   "cell_type": "code",
   "execution_count": null,
   "metadata": {},
   "outputs": [],
   "source": [
    "imap_host = 'outlook.office365.com'  # WAS: 'imap.agilent.com'\n",
    "imap_user = 'derek.bates@non.agilent.com'\n",
    "imap_pass = '@hisBooty!23'\n",
    "\n",
    "use_tls = True\n",
    "\n",
    "try: #{\n",
    "    \"\"\"\n",
    "    # CONNECT TO HOST USING SSL\n",
    "    imap = imaplib.IMAP4(imap_host, port=993)\n",
    "    if use_tls: #{\n",
    "        imap.starttls()\n",
    "    #}\n",
    "    \"\"\"\n",
    "    \n",
    "    # CONNECT TO HOST USING SSL\n",
    "    context = ssl.create_default_context(Purpose.CLIENT_AUTH)\n",
    "    imap = imaplib.IMAP4_SSL(imap_host, port=993, ssl_context=context)\n",
    "    \n",
    "    ### LOGIN TO SERVER\n",
    "    imap.login(imap_user, imap_pass)\n",
    "    \n",
    "    imap.select('Inbox')\n",
    "    \n",
    "    tmp, data = imap.search(None, 'ALL')\n",
    "    for num in data[0].split(): #{\n",
    "        tmp, data = imap.fetch(num, '(RFC822)')\n",
    "        print('Message: {0}\\n'.format(num))\n",
    "        pprint.pprint(data[0][1])\n",
    "        break\n",
    "    #}\n",
    "    imap.close()\n",
    "#}\n",
    "except: #{\n",
    "    errorMessage = str(sys.exc_info()[0]) + \"\\n\\t\\t\"\n",
    "    errorMessage = errorMessage + str(sys.exc_info()[1]) + \"\\n\\t\\t\"\n",
    "    errorMessage = errorMessage + str(sys.exc_info()[2]) + \"\\n\"\n",
    "    exc_type, exc_obj, exc_tb = sys.exc_info()\n",
    "    fname = os.path.split(exc_tb.tb_frame.f_code.co_filename)[1]\n",
    "    typeE = str(\"TYPE : \" + str(exc_type))\n",
    "    fileE = str(\"FILE : \" + str(fname))\n",
    "    lineE = str(\"LINE : \" + str(exc_tb.tb_lineno))\n",
    "    messageE = str(\"MESG : \" + \"\\n\" + str(errorMessage) + \"\\n\")\n",
    "    print(\"\\n\" + typeE +\n",
    "          \"\\n\" + fileE +\n",
    "          \"\\n\" + lineE +\n",
    "          \"\\n\" + messageE)\n",
    "#}\n",
    "else: #{\n",
    "    print(\"SUCCESS!\")\n",
    "#}"
   ]
  },
  {
   "cell_type": "markdown",
   "metadata": {},
   "source": [
    "def read_email(username, password, server=\"imap.aggilent.com\", port=993, use_tls=True): #{\n",
    "    \n",
    "    imap_host = str(server)\n",
    "    imap_user = str(username)\n",
    "    imap_pass = str(password)\n",
    "    \n",
    "    imap = imaplib.IMAP4(imap_host, port)\n",
    "    if use_tls: #{\n",
    "        imap.\n",
    "    #}\n",
    "    \n",
    "#}"
   ]
  },
  {
   "cell_type": "raw",
   "metadata": {
    "raw_mimetype": "text/x-python"
   },
   "source": [
    "def open_connection(verbose=False): #{\n",
    "    # READ THE CONFIG FILE\n",
    "    config = configparser.ConfigParser()\n",
    "    config.read([os.path.expanduser('~/.pymotw')])\n",
    "    \n",
    "    # CONNECT TO THE SERVER\n",
    "    hostname = config.get('server', 'hostname')\n",
    "    if verbose: #{\n",
    "        print(\"connecting to\", hostname)\n",
    "    #}\n",
    "    connection = imaplib.IMAP4_SSL(hostname)\n",
    "    \n",
    "    # LOGIN TO OUR ACCOUNT\n",
    "    username = config.get('account', 'username')\n",
    "    password = config.get('account', 'password')\n",
    "    if verbose: #{\n",
    "        print(\"Logging in as\", username)\n",
    "    #}\n",
    "    connection.login(username, password)\n",
    "    return connection\n",
    "    \n",
    "#}"
   ]
  },
  {
   "cell_type": "markdown",
   "metadata": {},
   "source": [
    "---"
   ]
  },
  {
   "cell_type": "code",
   "execution_count": null,
   "metadata": {},
   "outputs": [],
   "source": [
    "df_test_quote_1 = pd.read_excel(\"C:/data/inbound/Quote Details_1569338365749.xlsx\", sheet_name=0, dtype=np.str)"
   ]
  },
  {
   "cell_type": "code",
   "execution_count": null,
   "metadata": {},
   "outputs": [],
   "source": [
    "df_test_quote_1"
   ]
  },
  {
   "cell_type": "code",
   "execution_count": null,
   "metadata": {},
   "outputs": [],
   "source": [
    "print(df_test_quote_1[\"Origination Date\"][0])"
   ]
  },
  {
   "cell_type": "code",
   "execution_count": null,
   "metadata": {},
   "outputs": [],
   "source": [
    "test_timestamp = pd.Timestamp(ts_input=df_test_quote_1[\"Origination Date\"][0])"
   ]
  },
  {
   "cell_type": "code",
   "execution_count": null,
   "metadata": {},
   "outputs": [],
   "source": [
    "print(test_timestamp)"
   ]
  },
  {
   "cell_type": "code",
   "execution_count": null,
   "metadata": {},
   "outputs": [],
   "source": [
    "df_test_quote_2 = pd.read_excel(\"C:/data/inbound/Quote Details_1569338365749.xlsx\", sheet_name=1, dtype=np.str)"
   ]
  },
  {
   "cell_type": "code",
   "execution_count": null,
   "metadata": {},
   "outputs": [],
   "source": [
    "df_test_quote_2"
   ]
  },
  {
   "cell_type": "code",
   "execution_count": null,
   "metadata": {},
   "outputs": [],
   "source": [
    "df_inbox = pd.read_excel(\"C:/data/inbound/Inbox.xlsx\", sheet_name=0, dtype=np.str)"
   ]
  },
  {
   "cell_type": "code",
   "execution_count": null,
   "metadata": {},
   "outputs": [],
   "source": [
    "df_inbox"
   ]
  },
  {
   "cell_type": "code",
   "execution_count": null,
   "metadata": {},
   "outputs": [],
   "source": [
    "df_dedupped = df_inbox.drop_duplicates(subset=['Subject'])"
   ]
  },
  {
   "cell_type": "code",
   "execution_count": null,
   "metadata": {},
   "outputs": [],
   "source": [
    "df_dedupped"
   ]
  },
  {
   "cell_type": "raw",
   "metadata": {
    "raw_mimetype": "text/x-python"
   },
   "source": [
    "username = 'derek.bates@non.agilent.com'\n",
    "password = input(\"enter password\")"
   ]
  },
  {
   "cell_type": "raw",
   "metadata": {
    "raw_mimetype": "text/x-python"
   },
   "source": [
    "try: #{\n",
    "    mail = imaplib.IMAP4(host=\"imap.agilent.com\")\n",
    "    mail.login(username, password)\n",
    "#}\n",
    "except: #{\n",
    "    errorMessage = str(sys.exc_info()[0]) + \"\\n\\t\\t\"\n",
    "    errorMessage = errorMessage + str(sys.exc_info()[1]) + \"\\n\\t\\t\"\n",
    "    errorMessage = errorMessage + str(sys.exc_info()[2]) + \"\\n\"\n",
    "    exc_type, exc_obj, exc_tb = sys.exc_info()\n",
    "    fname = os.path.split(exc_tb.tb_frame.f_code.co_filename)[1]\n",
    "    typeE = str(\"TYPE : \" + str(exc_type))\n",
    "    fileE = str(\"FILE : \" + str(fname))\n",
    "    lineE = str(\"LINE : \" + str(exc_tb.tb_lineno))\n",
    "    messageE = str(\"MESG : \" + \"\\n\" + str(errorMessage) + \"\\n\")\n",
    "    print(\"\\n\" + typeE +\n",
    "                  \"\\n\" + fileE +\n",
    "                  \"\\n\" + lineE +\n",
    "                  \"\\n\" + messageE)\n",
    "#}\n",
    "else: #{\n",
    "    print(\"SUCCESS! VERY NICE!\")\n",
    "#}\n"
   ]
  },
  {
   "cell_type": "code",
   "execution_count": null,
   "metadata": {},
   "outputs": [],
   "source": []
  }
 ],
 "metadata": {
  "celltoolbar": "Raw Cell Format",
  "kernelspec": {
   "display_name": "Python 3",
   "language": "python",
   "name": "python3"
  },
  "language_info": {
   "codemirror_mode": {
    "name": "ipython",
    "version": 3
   },
   "file_extension": ".py",
   "mimetype": "text/x-python",
   "name": "python",
   "nbconvert_exporter": "python",
   "pygments_lexer": "ipython3",
   "version": "3.7.3"
  }
 },
 "nbformat": 4,
 "nbformat_minor": 2
}
