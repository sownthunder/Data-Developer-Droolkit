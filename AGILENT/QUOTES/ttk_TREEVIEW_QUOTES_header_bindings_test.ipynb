{
 "cells": [
  {
   "cell_type": "code",
   "execution_count": 1,
   "metadata": {},
   "outputs": [],
   "source": [
    "import os, sys, time\n",
    "from time import sleep\n",
    "import pathlib, fnmatch\n",
    "from pathlib import Path\n",
    "import tkinter as tk\n",
    "from tkinter import ttk"
   ]
  },
  {
   "cell_type": "markdown",
   "metadata": {},
   "source": [
    "---\n",
    "\n",
    "### *TREEVIEW WIDGET EVENTS:*"
   ]
  },
  {
   "cell_type": "code",
   "execution_count": 2,
   "metadata": {},
   "outputs": [],
   "source": [
    "def on_single_click(event): # {\n",
    "    # PRINT CHILDREN\n",
    "    print(str(event.widget.get_children()))\n",
    "    # CHANGE THE WIDTH ?? \n",
    "    event.widget.column(column=\"#0\", width=20)\n",
    "    # CHANGE THE HEADING OF THE COLUMN ??\n",
    "    event.widget.heading(column=\"#0\", text=\"NEW TEXT\")\n",
    "# }"
   ]
  },
  {
   "cell_type": "markdown",
   "metadata": {},
   "source": [
    "---\n",
    "\n",
    "### MAIN"
   ]
  },
  {
   "cell_type": "code",
   "execution_count": 3,
   "metadata": {},
   "outputs": [],
   "source": [
    "def main(): # {\n",
    "    # RE-INSTANTIATE GLOBALS\n",
    "    global root\n",
    "    # CREATE TREE VIEW\n",
    "    treeview = ttk.Treeview(master=root)\n",
    "    \n",
    "    treeview[\"columns\"]=(\"one\",\"two\")\n",
    "    treeview.column(\"one\", width=100 )\n",
    "    treeview.column(\"two\", width=100)\n",
    "    treeview.heading(\"one\", text=\"coulmn A\")\n",
    "    treeview.heading(\"two\", text=\"column B\")\n",
    "    \n",
    "    treeview.insert(\"\" , 0,    text=\"Line 1\", values=(\"1A\",\"1b\"))\n",
    "    \n",
    "    id2 = treeview.insert(\"\", 1, \"dir2\", text=\"Dir 2\")\n",
    "    treeview.insert(id2, \"end\", \"dir 2\", text=\"sub dir 2\", values=(\"2A\",\"2B\"))\n",
    "    \n",
    "    ##alternatively:\n",
    "    treeview.insert(\"\", 3, \"dir3\", text=\"Dir 3\")\n",
    "    treeview.insert(\"dir3\", 3, text=\" sub dir 3\",values=(\"3A\",\" 3B\"))\n",
    "    \n",
    "    ##################################################################\n",
    "    # BIND ACTION TO treeviewVIEW\n",
    "    treeview.bind(\"<<TreeviewSelect>>\", on_single_click)\n",
    "    #################################################################\n",
    "    \n",
    "    # PACK\n",
    "    treeview.pack(side=tk.TOP, fill=tk.BOTH, expand=True)\n",
    "    \n",
    "    root.mainloop()\n",
    "# }"
   ]
  },
  {
   "cell_type": "code",
   "execution_count": 4,
   "metadata": {},
   "outputs": [
    {
     "name": "stdout",
     "output_type": "stream",
     "text": [
      "('I001', 'dir2', 'dir3')\n",
      "('I001', 'dir2', 'dir3')\n",
      "('I001', 'dir2', 'dir3')\n",
      "('I001', 'dir2', 'dir3')\n",
      "('I001', 'dir2', 'dir3')\n",
      "('I001', 'dir2', 'dir3')\n"
     ]
    }
   ],
   "source": [
    "if __name__ == \"__main__\": # {\n",
    "    # INSTANTIATE GLOBAL VARIABLES\n",
    "    root = tk.Tk()\n",
    "    main()\n",
    "# }"
   ]
  },
  {
   "cell_type": "code",
   "execution_count": null,
   "metadata": {},
   "outputs": [],
   "source": []
  }
 ],
 "metadata": {
  "kernelspec": {
   "display_name": "Python 3",
   "language": "python",
   "name": "python3"
  },
  "language_info": {
   "codemirror_mode": {
    "name": "ipython",
    "version": 3
   },
   "file_extension": ".py",
   "mimetype": "text/x-python",
   "name": "python",
   "nbconvert_exporter": "python",
   "pygments_lexer": "ipython3",
   "version": "3.7.0"
  }
 },
 "nbformat": 4,
 "nbformat_minor": 2
}
