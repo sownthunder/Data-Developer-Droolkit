{
 "cells": [
  {
   "cell_type": "code",
   "execution_count": 17,
   "metadata": {},
   "outputs": [],
   "source": [
    "import os, sys, time\n",
    "from time import sleep\n",
    "import pandas as pd\n",
    "import numpy as np\n",
    "from pandas import Series, DataFrame\n",
    "import datetime"
   ]
  },
  {
   "cell_type": "code",
   "execution_count": 22,
   "metadata": {},
   "outputs": [],
   "source": [
    "\"\"\"\n",
    "CREATES NEW QUOTE NUMBER ACCORDING TO NAMING CONVENTION:\n",
    "301 + (YYYYMMDD) + Hour + Minute\n",
    "Example: 301201912121051\n",
    "\"\"\"\n",
    "def quote_number_convention(): # {\n",
    "    date_meow = str(pd.Timestamp.now())[:14]\n",
    "    # CREATE TIME STAMP FOR FILE CREATION NAME\n",
    "    date_object = datetime.date.today()\n",
    "    #time_object = str('{0:%m_%d_%Y-%H%M%S}'.format(datetime.datetime.now()))\n",
    "    time_object = str('{0:%Y%m%d%H%M}'.format(datetime.datetime.now()))\n",
    "    print(str(\"file naming convention (today's example) :\"), time_object)\n",
    "    return \"301\" + time_object\n",
    "# }"
   ]
  },
  {
   "cell_type": "code",
   "execution_count": 23,
   "metadata": {},
   "outputs": [
    {
     "name": "stdout",
     "output_type": "stream",
     "text": [
      "file naming convention (today's example) : 201912121102\n",
      "301201912121102\n"
     ]
    }
   ],
   "source": [
    "if __name__ == \"__main__\": #{\n",
    "    test_quote_number = quote_number_convention()\n",
    "    print(test_quote_number)\n",
    "#}"
   ]
  },
  {
   "cell_type": "code",
   "execution_count": null,
   "metadata": {},
   "outputs": [],
   "source": []
  }
 ],
 "metadata": {
  "kernelspec": {
   "display_name": "Python 3",
   "language": "python",
   "name": "python3"
  },
  "language_info": {
   "codemirror_mode": {
    "name": "ipython",
    "version": 3
   },
   "file_extension": ".py",
   "mimetype": "text/x-python",
   "name": "python",
   "nbconvert_exporter": "python",
   "pygments_lexer": "ipython3",
   "version": "3.7.0"
  }
 },
 "nbformat": 4,
 "nbformat_minor": 2
}
