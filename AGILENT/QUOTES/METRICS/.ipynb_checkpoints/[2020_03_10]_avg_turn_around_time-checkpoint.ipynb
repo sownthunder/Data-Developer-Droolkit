{
 "cells": [
  {
   "cell_type": "code",
   "execution_count": 1,
   "metadata": {
    "ExecuteTime": {
     "end_time": "2020-03-10T14:20:53.601208Z",
     "start_time": "2020-03-10T14:20:51.880210Z"
    }
   },
   "outputs": [],
   "source": [
    "import os, sys, time\n",
    "from time import sleep\n",
    "from datetime import datetime\n",
    "import pandas as pd\n",
    "import numpy as np\n",
    "from pandas import Series, DataFrame\n",
    "%matplotlib inline\n",
    "import matplotlib.pyplot as pyplot"
   ]
  },
  {
   "cell_type": "code",
   "execution_count": 2,
   "metadata": {
    "ExecuteTime": {
     "end_time": "2020-03-10T14:20:53.639229Z",
     "start_time": "2020-03-10T14:20:53.604205Z"
    }
   },
   "outputs": [],
   "source": [
    "df_metrics = pd.read_csv(\"main_quotes_2020_03_10.csv\", \n",
    "                         header=None,\n",
    "                         names=[\"tracking_number\",\n",
    "                                \"name\",\n",
    "                                \"email\",\n",
    "                                \"type\",\n",
    "                                \"sent\",\n",
    "                                \"open_time\",\n",
    "                                \"close_time\",\n",
    "                                \"turn_around\",\n",
    "                                \"notes\",\n",
    "                                \"initials\",\n",
    "                                \"account_id\",\n",
    "                                \"prodflow_quote_number\",\n",
    "                                \"sap_quote_number\",\n",
    "                                \"price\",\n",
    "                                \"company_name\",\n",
    "                                \"product_number\"\n",
    "                               ],\n",
    "                         engine='python')"
   ]
  },
  {
   "cell_type": "code",
   "execution_count": 3,
   "metadata": {
    "ExecuteTime": {
     "end_time": "2020-03-10T14:20:53.655206Z",
     "start_time": "2020-03-10T14:20:53.641205Z"
    }
   },
   "outputs": [
    {
     "name": "stdout",
     "output_type": "stream",
     "text": [
      "<class 'pandas.core.frame.DataFrame'>\n",
      "RangeIndex: 638 entries, 0 to 637\n",
      "Data columns (total 16 columns):\n",
      "tracking_number          638 non-null object\n",
      "name                     636 non-null object\n",
      "email                    590 non-null object\n",
      "type                     638 non-null object\n",
      "sent                     638 non-null bool\n",
      "open_time                638 non-null object\n",
      "close_time               638 non-null object\n",
      "turn_around              635 non-null object\n",
      "notes                    637 non-null object\n",
      "initials                 638 non-null object\n",
      "account_id               638 non-null int64\n",
      "prodflow_quote_number    580 non-null object\n",
      "sap_quote_number         599 non-null float64\n",
      "price                    0 non-null float64\n",
      "company_name             638 non-null object\n",
      "product_number           584 non-null object\n",
      "dtypes: bool(1), float64(2), int64(1), object(12)\n",
      "memory usage: 75.5+ KB\n"
     ]
    }
   ],
   "source": [
    "df_metrics.info()"
   ]
  },
  {
   "cell_type": "code",
   "execution_count": 4,
   "metadata": {
    "ExecuteTime": {
     "end_time": "2020-03-10T14:20:53.669208Z",
     "start_time": "2020-03-10T14:20:53.658208Z"
    }
   },
   "outputs": [
    {
     "data": {
      "text/plain": [
       "0      T00000001\n",
       "1      T00000002\n",
       "2      T00000003\n",
       "3      T00000004\n",
       "4      T00000005\n",
       "         ...    \n",
       "633    T00000643\n",
       "634    T00000644\n",
       "635    T00000645\n",
       "636    T00000646\n",
       "637    T00000647\n",
       "Name: tracking_number, Length: 638, dtype: object"
      ]
     },
     "execution_count": 4,
     "metadata": {},
     "output_type": "execute_result"
    }
   ],
   "source": [
    "# JUST TRACKING NUMBER ROW\n",
    "df_metrics[\"tracking_number\"]"
   ]
  },
  {
   "cell_type": "markdown",
   "metadata": {},
   "source": [
    "## convert `df_metrics['turn_around']` from string to datetime\n",
    "(going thru list and removing all \"None\")"
   ]
  },
  {
   "cell_type": "code",
   "execution_count": 5,
   "metadata": {
    "ExecuteTime": {
     "end_time": "2020-03-10T14:20:53.675205Z",
     "start_time": "2020-03-10T14:20:53.671205Z"
    }
   },
   "outputs": [],
   "source": [
    "datetimes = []"
   ]
  },
  {
   "cell_type": "code",
   "execution_count": 6,
   "metadata": {
    "ExecuteTime": {
     "end_time": "2020-03-10T14:20:53.683209Z",
     "start_time": "2020-03-10T14:20:53.678205Z"
    }
   },
   "outputs": [],
   "source": [
    "turn_around = df_metrics['turn_around']"
   ]
  },
  {
   "cell_type": "code",
   "execution_count": 7,
   "metadata": {
    "ExecuteTime": {
     "end_time": "2020-03-10T14:20:53.698205Z",
     "start_time": "2020-03-10T14:20:53.688206Z"
    }
   },
   "outputs": [
    {
     "name": "stdout",
     "output_type": "stream",
     "text": [
      "573\n"
     ]
    }
   ],
   "source": [
    "for entry in turn_around: # {\n",
    "    if str(entry) == \"None\": # {\n",
    "        #print(\"NONE!\")\n",
    "        pass\n",
    "    # }\n",
    "    else: # {\n",
    "        #print(\"DONE\")\n",
    "        # append to list\n",
    "        datetimes.append(entry)\n",
    "    # }\n",
    "# }\n",
    "print(len(datetimes))"
   ]
  },
  {
   "cell_type": "raw",
   "metadata": {
    "ExecuteTime": {
     "end_time": "2020-02-10T15:03:31.771093Z",
     "start_time": "2020-02-10T15:03:31.747095Z"
    }
   },
   "source": [
    "# get mean value\n",
    "turn_around.resample('D').mean()"
   ]
  },
  {
   "cell_type": "raw",
   "metadata": {
    "ExecuteTime": {
     "end_time": "2020-02-10T15:05:13.419461Z",
     "start_time": "2020-02-10T15:05:13.410467Z"
    }
   },
   "source": [
    "# DROP NAN VALUES\n",
    "turn_around.dropna(axis=index, inplace=True)"
   ]
  },
  {
   "cell_type": "code",
   "execution_count": 8,
   "metadata": {
    "ExecuteTime": {
     "end_time": "2020-03-10T14:20:53.719207Z",
     "start_time": "2020-03-10T14:20:53.703204Z"
    }
   },
   "outputs": [],
   "source": [
    "turn_around = pd.to_timedelta(datetimes)"
   ]
  },
  {
   "cell_type": "code",
   "execution_count": 9,
   "metadata": {
    "ExecuteTime": {
     "end_time": "2020-03-10T14:20:53.728206Z",
     "start_time": "2020-03-10T14:20:53.722208Z"
    }
   },
   "outputs": [],
   "source": [
    "avg_turn_around_time = turn_around.mean()"
   ]
  },
  {
   "cell_type": "code",
   "execution_count": 10,
   "metadata": {
    "ExecuteTime": {
     "end_time": "2020-03-10T14:20:53.740205Z",
     "start_time": "2020-03-10T14:20:53.731207Z"
    }
   },
   "outputs": [
    {
     "name": "stdout",
     "output_type": "stream",
     "text": [
      "0 days 15:42:32.691098\n"
     ]
    }
   ],
   "source": [
    "print(avg_turn_around_time)"
   ]
  },
  {
   "cell_type": "code",
   "execution_count": null,
   "metadata": {},
   "outputs": [],
   "source": []
  }
 ],
 "metadata": {
  "kernelspec": {
   "display_name": "Python 3",
   "language": "python",
   "name": "python3"
  },
  "language_info": {
   "codemirror_mode": {
    "name": "ipython",
    "version": 3
   },
   "file_extension": ".py",
   "mimetype": "text/x-python",
   "name": "python",
   "nbconvert_exporter": "python",
   "pygments_lexer": "ipython3",
   "version": "3.7.0"
  },
  "toc": {
   "base_numbering": 1,
   "nav_menu": {},
   "number_sections": true,
   "sideBar": true,
   "skip_h1_title": false,
   "title_cell": "Table of Contents",
   "title_sidebar": "Contents",
   "toc_cell": false,
   "toc_position": {},
   "toc_section_display": true,
   "toc_window_display": false
  },
  "varInspector": {
   "cols": {
    "lenName": 16,
    "lenType": 16,
    "lenVar": 40
   },
   "kernels_config": {
    "python": {
     "delete_cmd_postfix": "",
     "delete_cmd_prefix": "del ",
     "library": "var_list.py",
     "varRefreshCmd": "print(var_dic_list())"
    },
    "r": {
     "delete_cmd_postfix": ") ",
     "delete_cmd_prefix": "rm(",
     "library": "var_list.r",
     "varRefreshCmd": "cat(var_dic_list()) "
    }
   },
   "types_to_exclude": [
    "module",
    "function",
    "builtin_function_or_method",
    "instance",
    "_Feature"
   ],
   "window_display": false
  }
 },
 "nbformat": 4,
 "nbformat_minor": 2
}
