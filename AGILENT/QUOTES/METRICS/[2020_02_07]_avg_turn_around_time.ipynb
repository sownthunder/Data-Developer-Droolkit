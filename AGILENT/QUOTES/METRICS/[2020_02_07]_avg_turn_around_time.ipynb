{
 "cells": [
  {
   "cell_type": "code",
   "execution_count": 1,
   "metadata": {
    "ExecuteTime": {
     "end_time": "2020-02-10T15:02:28.636854Z",
     "start_time": "2020-02-10T15:02:27.104707Z"
    }
   },
   "outputs": [],
   "source": [
    "import os, sys, time\n",
    "from time import sleep\n",
    "from datetime import datetime\n",
    "import pandas as pd\n",
    "import numpy as np\n",
    "from pandas import Series, DataFrame\n",
    "%matplotlib inline\n",
    "import matplotlib.pyplot as pyplot"
   ]
  },
  {
   "cell_type": "code",
   "execution_count": 2,
   "metadata": {
    "ExecuteTime": {
     "end_time": "2020-02-10T15:02:28.661289Z",
     "start_time": "2020-02-10T15:02:28.638746Z"
    }
   },
   "outputs": [],
   "source": [
    "df_metrics = pd.read_csv(\"main_quotes.csv\", \n",
    "                         header=None,\n",
    "                         names=[\"tracking_number\",\n",
    "                                \"name\",\n",
    "                                \"email\",\n",
    "                                \"type\",\n",
    "                                \"sent\",\n",
    "                                \"open_time\",\n",
    "                                \"close_time\",\n",
    "                                \"turn_around\",\n",
    "                                \"notes\",\n",
    "                                \"initials\",\n",
    "                                \"account_id\",\n",
    "                                \"prodflow_quote_number\",\n",
    "                                \"sap_quote_number\",\n",
    "                                \"price\",\n",
    "                                \"company_name\",\n",
    "                                \"product_number\"\n",
    "                               ],\n",
    "                         engine='python')"
   ]
  },
  {
   "cell_type": "code",
   "execution_count": 3,
   "metadata": {
    "ExecuteTime": {
     "end_time": "2020-02-10T15:02:28.687287Z",
     "start_time": "2020-02-10T15:02:28.665284Z"
    }
   },
   "outputs": [
    {
     "name": "stdout",
     "output_type": "stream",
     "text": [
      "<class 'pandas.core.frame.DataFrame'>\n",
      "RangeIndex: 291 entries, 0 to 290\n",
      "Data columns (total 16 columns):\n",
      "tracking_number          291 non-null object\n",
      "name                     289 non-null object\n",
      "email                    280 non-null object\n",
      "type                     291 non-null object\n",
      "sent                     291 non-null bool\n",
      "open_time                291 non-null object\n",
      "close_time               291 non-null object\n",
      "turn_around              291 non-null object\n",
      "notes                    291 non-null object\n",
      "initials                 291 non-null object\n",
      "account_id               291 non-null int64\n",
      "prodflow_quote_number    265 non-null object\n",
      "sap_quote_number         287 non-null float64\n",
      "price                    0 non-null float64\n",
      "company_name             291 non-null object\n",
      "product_number           266 non-null object\n",
      "dtypes: bool(1), float64(2), int64(1), object(12)\n",
      "memory usage: 34.5+ KB\n"
     ]
    }
   ],
   "source": [
    "df_metrics.info()"
   ]
  },
  {
   "cell_type": "code",
   "execution_count": 4,
   "metadata": {
    "ExecuteTime": {
     "end_time": "2020-02-10T15:02:28.699289Z",
     "start_time": "2020-02-10T15:02:28.690284Z"
    }
   },
   "outputs": [
    {
     "data": {
      "text/plain": [
       "0      T00000001\n",
       "1      T00000002\n",
       "2      T00000003\n",
       "3      T00000004\n",
       "4      T00000005\n",
       "         ...    \n",
       "286    T00000293\n",
       "287    T00000294\n",
       "288    T00000298\n",
       "289    T00000299\n",
       "290    T00000300\n",
       "Name: tracking_number, Length: 291, dtype: object"
      ]
     },
     "execution_count": 4,
     "metadata": {},
     "output_type": "execute_result"
    }
   ],
   "source": [
    "# JUST TRACKING NUMBER ROW\n",
    "df_metrics[\"tracking_number\"]"
   ]
  },
  {
   "cell_type": "markdown",
   "metadata": {},
   "source": [
    "## convert `df_metrics['turn_around']` from string to datetime\n",
    "(going thru list and removing all \"None\")"
   ]
  },
  {
   "cell_type": "code",
   "execution_count": 29,
   "metadata": {
    "ExecuteTime": {
     "end_time": "2020-02-10T15:12:12.375560Z",
     "start_time": "2020-02-10T15:12:12.372557Z"
    }
   },
   "outputs": [],
   "source": [
    "datetimes = []"
   ]
  },
  {
   "cell_type": "code",
   "execution_count": 5,
   "metadata": {
    "ExecuteTime": {
     "end_time": "2020-02-10T15:02:28.706284Z",
     "start_time": "2020-02-10T15:02:28.701286Z"
    }
   },
   "outputs": [],
   "source": [
    "turn_around = df_metrics['turn_around']"
   ]
  },
  {
   "cell_type": "code",
   "execution_count": 30,
   "metadata": {
    "ExecuteTime": {
     "end_time": "2020-02-10T15:12:16.265355Z",
     "start_time": "2020-02-10T15:12:16.260363Z"
    }
   },
   "outputs": [
    {
     "name": "stdout",
     "output_type": "stream",
     "text": [
      "277\n"
     ]
    }
   ],
   "source": [
    "for entry in turn_around: # {\n",
    "    if str(entry) == \"None\": # {\n",
    "        #print(\"NONE!\")\n",
    "        pass\n",
    "    # }\n",
    "    else: # {\n",
    "        #print(\"DONE\")\n",
    "        # append to list\n",
    "        datetimes.append(entry)\n",
    "    # }\n",
    "# }\n",
    "print(len(datetimes))"
   ]
  },
  {
   "cell_type": "raw",
   "metadata": {
    "ExecuteTime": {
     "end_time": "2020-02-10T15:03:31.771093Z",
     "start_time": "2020-02-10T15:03:31.747095Z"
    }
   },
   "source": [
    "# get mean value\n",
    "turn_around.resample('D').mean()"
   ]
  },
  {
   "cell_type": "raw",
   "metadata": {
    "ExecuteTime": {
     "end_time": "2020-02-10T15:05:13.419461Z",
     "start_time": "2020-02-10T15:05:13.410467Z"
    }
   },
   "source": [
    "# DROP NAN VALUES\n",
    "turn_around.dropna(axis=index, inplace=True)"
   ]
  },
  {
   "cell_type": "code",
   "execution_count": 31,
   "metadata": {
    "ExecuteTime": {
     "end_time": "2020-02-10T15:12:56.160579Z",
     "start_time": "2020-02-10T15:12:56.156576Z"
    }
   },
   "outputs": [],
   "source": [
    "turn_around = pd.to_timedelta(datetimes)"
   ]
  },
  {
   "cell_type": "code",
   "execution_count": 35,
   "metadata": {
    "ExecuteTime": {
     "end_time": "2020-02-10T17:39:01.877661Z",
     "start_time": "2020-02-10T17:39:01.873666Z"
    }
   },
   "outputs": [],
   "source": [
    "avg_turn_around_time = turn_around.mean()"
   ]
  },
  {
   "cell_type": "code",
   "execution_count": 36,
   "metadata": {
    "ExecuteTime": {
     "end_time": "2020-02-10T17:39:06.208678Z",
     "start_time": "2020-02-10T17:39:06.204678Z"
    }
   },
   "outputs": [
    {
     "name": "stdout",
     "output_type": "stream",
     "text": [
      "0 days 15:58:34.119595\n"
     ]
    }
   ],
   "source": [
    "print(avg_turn_around_time)"
   ]
  },
  {
   "cell_type": "code",
   "execution_count": null,
   "metadata": {},
   "outputs": [],
   "source": []
  }
 ],
 "metadata": {
  "kernelspec": {
   "display_name": "Python 3",
   "language": "python",
   "name": "python3"
  },
  "language_info": {
   "codemirror_mode": {
    "name": "ipython",
    "version": 3
   },
   "file_extension": ".py",
   "mimetype": "text/x-python",
   "name": "python",
   "nbconvert_exporter": "python",
   "pygments_lexer": "ipython3",
   "version": "3.7.0"
  },
  "toc": {
   "base_numbering": 1,
   "nav_menu": {},
   "number_sections": true,
   "sideBar": true,
   "skip_h1_title": false,
   "title_cell": "Table of Contents",
   "title_sidebar": "Contents",
   "toc_cell": false,
   "toc_position": {},
   "toc_section_display": true,
   "toc_window_display": false
  },
  "varInspector": {
   "cols": {
    "lenName": 16,
    "lenType": 16,
    "lenVar": 40
   },
   "kernels_config": {
    "python": {
     "delete_cmd_postfix": "",
     "delete_cmd_prefix": "del ",
     "library": "var_list.py",
     "varRefreshCmd": "print(var_dic_list())"
    },
    "r": {
     "delete_cmd_postfix": ") ",
     "delete_cmd_prefix": "rm(",
     "library": "var_list.r",
     "varRefreshCmd": "cat(var_dic_list()) "
    }
   },
   "types_to_exclude": [
    "module",
    "function",
    "builtin_function_or_method",
    "instance",
    "_Feature"
   ],
   "window_display": false
  }
 },
 "nbformat": 4,
 "nbformat_minor": 2
}
