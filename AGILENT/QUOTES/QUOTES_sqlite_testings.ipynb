{
 "cells": [
  {
   "cell_type": "markdown",
   "metadata": {},
   "source": [
    "# Create Database"
   ]
  },
  {
   "cell_type": "code",
   "execution_count": 2,
   "metadata": {},
   "outputs": [
    {
     "name": "stdout",
     "output_type": "stream",
     "text": [
      "2019-10-18 10:02:11,444 INFO sqlalchemy.engine.base.Engine SELECT CAST('test plain returns' AS VARCHAR(60)) AS anon_1\n",
      "2019-10-18 10:02:11,445 INFO sqlalchemy.engine.base.Engine ()\n",
      "2019-10-18 10:02:11,447 INFO sqlalchemy.engine.base.Engine SELECT CAST('test unicode returns' AS VARCHAR(60)) AS anon_1\n",
      "2019-10-18 10:02:11,448 INFO sqlalchemy.engine.base.Engine ()\n",
      "2019-10-18 10:02:11,449 INFO sqlalchemy.engine.base.Engine PRAGMA main.table_info(\"artists\")\n",
      "2019-10-18 10:02:11,450 INFO sqlalchemy.engine.base.Engine ()\n",
      "2019-10-18 10:02:11,452 INFO sqlalchemy.engine.base.Engine PRAGMA temp.table_info(\"artists\")\n",
      "2019-10-18 10:02:11,453 INFO sqlalchemy.engine.base.Engine ()\n",
      "2019-10-18 10:02:11,454 INFO sqlalchemy.engine.base.Engine PRAGMA main.table_info(\"albums\")\n",
      "2019-10-18 10:02:11,454 INFO sqlalchemy.engine.base.Engine ()\n",
      "2019-10-18 10:02:11,456 INFO sqlalchemy.engine.base.Engine PRAGMA temp.table_info(\"albums\")\n",
      "2019-10-18 10:02:11,457 INFO sqlalchemy.engine.base.Engine ()\n",
      "2019-10-18 10:02:11,458 INFO sqlalchemy.engine.base.Engine \n",
      "CREATE TABLE artists (\n",
      "\tid INTEGER NOT NULL, \n",
      "\tname VARCHAR, \n",
      "\tPRIMARY KEY (id)\n",
      ")\n",
      "\n",
      "\n",
      "2019-10-18 10:02:11,459 INFO sqlalchemy.engine.base.Engine ()\n",
      "2019-10-18 10:02:11,468 INFO sqlalchemy.engine.base.Engine COMMIT\n",
      "2019-10-18 10:02:11,471 INFO sqlalchemy.engine.base.Engine \n",
      "CREATE TABLE albums (\n",
      "\tid INTEGER NOT NULL, \n",
      "\ttitle VARCHAR, \n",
      "\trelease_date DATE, \n",
      "\tpublisher VARCHAR, \n",
      "\tmedia_type VARCHAR, \n",
      "\tartist_id INTEGER, \n",
      "\tPRIMARY KEY (id), \n",
      "\tFOREIGN KEY(artist_id) REFERENCES artists (id)\n",
      ")\n",
      "\n",
      "\n",
      "2019-10-18 10:02:11,473 INFO sqlalchemy.engine.base.Engine ()\n",
      "2019-10-18 10:02:11,481 INFO sqlalchemy.engine.base.Engine COMMIT\n"
     ]
    }
   ],
   "source": [
    "from sqlalchemy import create_engine, ForeignKey\n",
    "from sqlalchemy import Column, Date, Integer, String\n",
    "from sqlalchemy.ext.declarative import declarative_base\n",
    "from sqlalchemy.orm import relationship, backref\n",
    "\n",
    "engine = create_engine('sqlite:///mymusic.db', echo=True)\n",
    "Base = declarative_base()\n",
    "\n",
    "class Artist(Base):\n",
    "    \"\"\"\"\"\"\n",
    "    __tablename__ = \"artists\"\n",
    "\n",
    "    id = Column(Integer, primary_key=True)\n",
    "    name = Column(String)\n",
    "\n",
    "class Album(Base):\n",
    "    \"\"\"\"\"\"\n",
    "    __tablename__ = \"albums\"\n",
    "\n",
    "    id = Column(Integer, primary_key=True)\n",
    "    title = Column(String)\n",
    "    release_date = Column(Date)\n",
    "    publisher = Column(String)\n",
    "    media_type = Column(String)\n",
    "\n",
    "    artist_id = Column(Integer, ForeignKey(\"artists.id\"))\n",
    "    artist = relationship(\"Artist\", backref=backref(\"albums\", order_by=id))\n",
    "\n",
    "# create tables\n",
    "Base.metadata.create_all(engine)"
   ]
  },
  {
   "cell_type": "markdown",
   "metadata": {},
   "source": [
    "# Insert/Add Data to Tables\n",
    "\n",
    "A database isn’t very useful unless it has some data in it. In this section we’ll show you how to connect to your database and add some data to the two tables. It’s much easier to take a look at some code and then explain it, so let’s do that!"
   ]
  },
  {
   "cell_type": "code",
   "execution_count": 3,
   "metadata": {},
   "outputs": [
    {
     "ename": "ModuleNotFoundError",
     "evalue": "No module named 'table_def'",
     "output_type": "error",
     "traceback": [
      "\u001b[1;31m------------------------------------------------------------------------\u001b[0m",
      "\u001b[1;31mModuleNotFoundError\u001b[0m                    Traceback (most recent call last)",
      "\u001b[1;32m<ipython-input-3-d58511865500>\u001b[0m in \u001b[0;36m<module>\u001b[1;34m\u001b[0m\n\u001b[0;32m      3\u001b[0m \u001b[1;32mfrom\u001b[0m \u001b[0msqlalchemy\u001b[0m \u001b[1;32mimport\u001b[0m \u001b[0mcreate_engine\u001b[0m\u001b[1;33m\u001b[0m\u001b[0m\n\u001b[0;32m      4\u001b[0m \u001b[1;32mfrom\u001b[0m \u001b[0msqlalchemy\u001b[0m\u001b[1;33m.\u001b[0m\u001b[0morm\u001b[0m \u001b[1;32mimport\u001b[0m \u001b[0msessionmaker\u001b[0m\u001b[1;33m\u001b[0m\u001b[0m\n\u001b[1;32m----> 5\u001b[1;33m \u001b[1;32mfrom\u001b[0m \u001b[0mtable_def\u001b[0m \u001b[1;32mimport\u001b[0m \u001b[0mAlbum\u001b[0m\u001b[1;33m,\u001b[0m \u001b[0mArtist\u001b[0m\u001b[1;33m\u001b[0m\u001b[0m\n\u001b[0m\u001b[0;32m      6\u001b[0m \u001b[1;33m\u001b[0m\u001b[0m\n\u001b[0;32m      7\u001b[0m \u001b[0mengine\u001b[0m \u001b[1;33m=\u001b[0m \u001b[0mcreate_engine\u001b[0m\u001b[1;33m(\u001b[0m\u001b[1;34m'sqlite:///mymusic.db'\u001b[0m\u001b[1;33m,\u001b[0m \u001b[0mecho\u001b[0m\u001b[1;33m=\u001b[0m\u001b[1;32mTrue\u001b[0m\u001b[1;33m)\u001b[0m\u001b[1;33m\u001b[0m\u001b[0m\n",
      "\u001b[1;31mModuleNotFoundError\u001b[0m: No module named 'table_def'"
     ]
    }
   ],
   "source": [
    "# add_data.py\n",
    "import datetime\n",
    "from sqlalchemy import create_engine\n",
    "from sqlalchemy.orm import sessionmaker\n",
    "from table_def import Album, Artist\n",
    "\n",
    "engine = create_engine('sqlite:///mymusic.db', echo=True)\n",
    "\n",
    "# create a Session\n",
    "Session = sessionmaker(bind=engine)\n",
    "session = Session()\n",
    "\n",
    "# Create an artist\n",
    "new_artist = Artist(name=\"Newsboys\")\n",
    "\n",
    "new_artist.albums = [Album(title=\"Read All About It\",\n",
    "                           release_date=datetime.date(1988,12,1),\n",
    "                           publisher=\"Refuge\", media_type=\"CD\")]\n",
    "\n",
    "# add more albums\n",
    "more_albums = [Album(title=\"Hell Is for Wimps\",\n",
    "                     release_date=datetime.date(1990,7,31),\n",
    "                     publisher=\"Star Song\", media_type=\"CD\"),\n",
    "               Album(title=\"Love Liberty Disco\",\n",
    "                     release_date=datetime.date(1999,11,16),\n",
    "                     publisher=\"Sparrow\", media_type=\"CD\"),\n",
    "               Album(title=\"Thrive\",\n",
    "                     release_date=datetime.date(2002,3,26),\n",
    "                     publisher=\"Sparrow\", media_type=\"CD\")]\n",
    "new_artist.albums.extend(more_albums)\n",
    "\n",
    "# Add the record to the session object\n",
    "session.add(new_artist)\n",
    "# commit the record the database\n",
    "session.commit()\n",
    "\n",
    "# Add several artists\n",
    "session.add_all([\n",
    "    Artist(name=\"MXPX\"),\n",
    "    Artist(name=\"Kutless\"),\n",
    "    Artist(name=\"Thousand Foot Krutch\")\n",
    "    ])\n",
    "session.commit()"
   ]
  },
  {
   "cell_type": "code",
   "execution_count": null,
   "metadata": {},
   "outputs": [],
   "source": []
  }
 ],
 "metadata": {
  "kernelspec": {
   "display_name": "Python 3",
   "language": "python",
   "name": "python3"
  },
  "language_info": {
   "codemirror_mode": {
    "name": "ipython",
    "version": 3
   },
   "file_extension": ".py",
   "mimetype": "text/x-python",
   "name": "python",
   "nbconvert_exporter": "python",
   "pygments_lexer": "ipython3",
   "version": "3.7.0"
  }
 },
 "nbformat": 4,
 "nbformat_minor": 4
}
