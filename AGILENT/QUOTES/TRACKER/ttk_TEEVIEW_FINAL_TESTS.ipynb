{
 "cells": [
  {
   "cell_type": "code",
   "execution_count": 1,
   "metadata": {
    "ExecuteTime": {
     "end_time": "2020-02-03T20:26:59.529956Z",
     "start_time": "2020-02-03T20:26:59.475390Z"
    }
   },
   "outputs": [],
   "source": [
    "import os, sys, time\n",
    "from time import sleep\n",
    "import tkinter as Tk\n",
    "import tkinter.ttk as ttk"
   ]
  },
  {
   "cell_type": "raw",
   "metadata": {
    "ExecuteTime": {
     "end_time": "2020-02-03T16:00:40.782746Z",
     "start_time": "2020-02-03T16:00:40.776749Z"
    },
    "raw_mimetype": "text/x-python"
   },
   "source": [
    "class SearchabeTreeview(ttk.Treeview): # {\n",
    "    def __init__ (self, *args, **kwargs): # {\n",
    "        ttk.Treeview.__init__(self, *args, **kwargs)\n",
    "        # create the entry on init but does not showq it\n",
    "        self._toSearch = tk.StringVar()\n",
    "        self.entry = tk.Entry(self, textvariable=self.to_search)\n",
    "        \n",
    "        self.bind(\"<KeyPress>\", self._keyOnTree)\n",
    "        self._toSearch.trace_variable(\"w\", self._search)\n",
    "        self.entry.bind(\"<Return>\", self._hideEntry)\n",
    "        self.entry.bind(\"<Escape>\", self._hideEntry)\n",
    "    # }\n",
    "# }"
   ]
  },
  {
   "cell_type": "raw",
   "metadata": {
    "ExecuteTime": {
     "end_time": "2020-02-03T16:04:55.619546Z",
     "start_time": "2020-02-03T16:04:55.610545Z"
    },
    "raw_mimetype": "text/x-python"
   },
   "source": [
    "import tkinter as tk\n",
    "import tkinter.ttk as ttk\n",
    "\n",
    "class App(tk.Frame):\n",
    "    def __init__(self, master):\n",
    "        tk.Frame.__init__(self, master)\n",
    "        self.entry = tk.Entry(self)\n",
    "        self.button = tk.Button(self, text='Search', command=self.search)\n",
    "        self.tree = ttk.Treeview(self)\n",
    "        \n",
    "    def search(self, item=''):\n",
    "        children = self.tree.get_children(item)\n",
    "        for child in children:\n",
    "            text = self.tree.item(child, 'text')\n",
    "            if text.startswith(self.entry.get()):\n",
    "                self.tree.selection_set(child)\n",
    "                return True\n",
    "            else:\n",
    "                res = self.search(child)\n",
    "                if res:\n",
    "                    return True\n",
    "    def _keyOnTree(self, event): # {\n",
    "        self.entry.place(relx=1, anchor=tk.NE)\n",
    "        if event.char.isalpha(): # {\n",
    "            self.entry.insert(tk.END, event.char)\n",
    "            self.entry.focus_set()\n",
    "    \n",
    "    def _hideEntry(self, event): # {\n",
    "        self.entry.delete(0, tk.END)\n",
    "        self.entry.place_forget()\n",
    "        self.focus_set()\n",
    "# }"
   ]
  },
  {
   "cell_type": "raw",
   "metadata": {
    "ExecuteTime": {
     "end_time": "2020-02-03T16:05:44.137226Z",
     "start_time": "2020-02-03T16:04:55.622546Z"
    },
    "raw_mimetype": "text/x-python"
   },
   "source": [
    "if __name__ == \"__main__\": # {\n",
    "    window = tk.Tk()\n",
    "    application = App(window)\n",
    "    \n",
    "    window.config()\n",
    "    window.mainloop()\n",
    "# }"
   ]
  },
  {
   "cell_type": "markdown",
   "metadata": {},
   "source": [
    "### You are not deleting the whole tree you are just deleting all children from the root item, because you use delete for each item in your iteration. \n",
    "\n",
    "### You can use a `if` statement to determine which item you want, or you can get the selected item with:\n",
    "\n",
    "### `selected_item = tree.selection()[0]` and delete it. \n",
    "\n",
    "### With the `.item()` method you can full access to the item for modification. "
   ]
  },
  {
   "cell_type": "code",
   "execution_count": 4,
   "metadata": {
    "ExecuteTime": {
     "end_time": "2020-02-03T20:32:05.668554Z",
     "start_time": "2020-02-03T20:31:57.001764Z"
    }
   },
   "outputs": [],
   "source": [
    "import tkinter as tk\n",
    "import tkinter.ttk as ttk\n",
    "\n",
    "\n",
    "root = tk.Tk()\n",
    "\n",
    "tree = ttk.Treeview(root)\n",
    "\n",
    "tree[\"columns\"]=(\"one\",\"two\")\n",
    "tree.column(\"one\", width=100 )\n",
    "tree.column(\"two\", width=100)\n",
    "tree.heading(\"one\", text=\"coulmn A\")\n",
    "tree.heading(\"two\", text=\"column B\")\n",
    "\n",
    "tree.insert(\"\" , 0,    text=\"Line 1\", values=(\"1A\",\"1b\"))\n",
    "\n",
    "id2 = tree.insert(\"\", 1, \"dir2\", text=\"Dir 2\")\n",
    "tree.insert(id2, \"end\", \"dir 2\", text=\"sub dir 2\", values=(\"2A\",\"2B\"))\n",
    "\n",
    "##alternatively:\n",
    "tree.insert(\"\", 3, \"dir3\", text=\"Dir 3\")\n",
    "tree.insert(\"dir3\", 3, text=\" sub dir 3\",values=(\"3A\",\" 3B\"))\n",
    "\n",
    "def edit():\n",
    "    x = tree.get_children()\n",
    "    for item in x: ## Changing all children from root item\n",
    "        tree.item(item, text=\"blub\", values=(\"foo\", \"bar\"))\n",
    "\n",
    "def delete():\n",
    "    selected_item = tree.selection()[0] ## get selected item\n",
    "    tree.delete(selected_item)\n",
    "\n",
    "tree.pack()\n",
    "button_del = tk.Button(root, text=\"del\", command=delete)\n",
    "button_del.pack()\n",
    "button_del = tk.Button(root, text=\"edit\", command=edit)\n",
    "button_del.pack()\n",
    "\n",
    "root.mainloop()"
   ]
  },
  {
   "cell_type": "markdown",
   "metadata": {},
   "source": [
    "## BELOW CODE SHOWS DIR AND SUB-DIRS OF `G:/C of A's/`:\n",
    "\n",
    "---"
   ]
  },
  {
   "cell_type": "code",
   "execution_count": 8,
   "metadata": {
    "ExecuteTime": {
     "end_time": "2020-02-03T20:53:15.022349Z",
     "start_time": "2020-02-03T20:44:18.074414Z"
    }
   },
   "outputs": [
    {
     "name": "stdout",
     "output_type": "stream",
     "text": [
      "('I002', 'I009', 'I00C', 'I00D', 'I00E', 'I010', 'I012', 'I184', 'I19B', 'I19E', 'I19F', 'I1A1', 'I1CE', 'I26D', 'I26F', 'I281', 'I2BD', 'I2C1', 'I2D4', 'I2D5', 'I2DF', 'I2E8', 'I2EF', 'I2F6', 'I2F9', 'I2FB', 'I302', 'I317', 'I31D', 'I324', 'I329', 'I32A', 'I331', 'I333', 'I337', 'I34B', 'I34C', 'I37D', 'I3CA', 'I3D8', 'I421', 'I422', 'I42E', 'I42F', 'I433', 'I435', 'I476', 'I477', 'I479', 'I48F', 'I58A', 'I5AE', 'I5D6', 'I844', 'I858', 'I939', 'I940', 'I941', 'I983', 'I984', 'I987')\n",
      "('I001',)\n",
      "I001: G:\\C of A's\n",
      "True\n",
      "I002: G:\\C of A's\\#Archive\n",
      "True\n",
      "I003: G:\\C of A's\\#Archive\\Archive from F Apps Cofa folder\n",
      "True\n",
      "I009: G:\\C of A's\\#CofA with background for web\n",
      "True\n",
      "I00E: G:\\C of A's\\#Templates\n",
      "True\n",
      "I009: G:\\C of A's\\#CofA with background for web\n",
      "True\n",
      "I003: G:\\C of A's\\#Archive\\Archive from F Apps Cofa folder\n",
      "True\n",
      "I002: G:\\C of A's\\#Archive\n",
      "True\n",
      "I31D: G:\\C of A's\\Los Alamos\n",
      "True\n",
      "I31D: G:\\C of A's\\Los Alamos\n",
      "True\n",
      "I317: G:\\C of A's\\LGC\n",
      "True\n",
      "I31B: G:\\C of A's\\LGC\\VHG-PH7-500\n",
      "True\n",
      "I001: G:\\C of A's\n",
      "True\n",
      "I001: G:\\C of A's\n",
      "True\n",
      "I001: G:\\C of A's\n",
      "True\n",
      "I002: G:\\C of A's\\#Archive\n",
      "True\n",
      "I00E: G:\\C of A's\\#Templates\n",
      "True\n",
      "I2BD: G:\\C of A's\\Dikma\n",
      "True\n"
     ]
    }
   ],
   "source": [
    "\"\"\" tk_treeview101.py\n",
    "see also ...\n",
    "http://stackoverflow.com/questions/16746387/tkinter-treeview-widget\n",
    "\"\"\"\n",
    "import os\n",
    "try:\n",
    "    # Python2\n",
    "    import Tkinter as tk\n",
    "    import ttk\n",
    "except ImportError:\n",
    "    # Python3\n",
    "    import tkinter as tk\n",
    "    import tkinter.ttk as ttk\n",
    "class DirectoryBrowser(tk.Frame):\n",
    "    def __init__(self, master, path):\n",
    "        self.path = os.path.abspath(path)\n",
    "        self.entries = {\"\": self.path}\n",
    "        self.root = None\n",
    "        # setup treeview and scrollbars\n",
    "        tk.Frame.__init__(self, master)\n",
    "        self.tree = ttk.Treeview(self)\n",
    "        ysb = ttk.Scrollbar(self, orient='vertical', command=self.tree.yview)\n",
    "        xsb = ttk.Scrollbar(self, orient='horizontal', command=self.tree.xview)\n",
    "        self.tree.configure(yscroll=ysb.set, xscroll=xsb.set)\n",
    "        self.tree.heading('#0', text='Path', anchor='w')\n",
    "        self.tree.bind(\"<<TreeviewSelect>>\", self.update_subtree)\n",
    "        # fill treeview with root dir and the subdirs\n",
    "        iid = self.insert(\"\", \"end\", self.path)\n",
    "        self.tree.focus(iid)\n",
    "        self.process_directory(iid, self.path)\n",
    "        # add tree and scrollbars to frame\n",
    "        self.tree.grid(in_=self, row=0, column=0, sticky=\"nsew\")\n",
    "        ysb.grid(in_=self, row=0, column=1, sticky=\"ns\")\n",
    "        xsb.grid(in_=self, row=1, column=0, sticky=\"ew\")\n",
    "        self.rowconfigure(0, weight=1)\n",
    "        self.columnconfigure(0, weight=1)\n",
    "        self.pack(side=tk.TOP, fill=tk.BOTH, expand=tk.Y)\n",
    "        # testing ...\n",
    "        # returns a list of children belonging to last iid\n",
    "        print(self.tree.get_children(iid))\n",
    "    def insert(self, parent, index, path, name=\"\", **kwargs):\n",
    "        \"\"\"\n",
    "        add new element to TreeView\n",
    "        \"\"\"\n",
    "        if \"text\" in kwargs:\n",
    "            err = \"arg 'text' not available\"\n",
    "            raise ValueError(err)\n",
    "        kwargs[\"text\"] = path\n",
    "        if name:\n",
    "            kwargs[\"text\"] = name\n",
    "        iid = self.tree.insert(parent, index, **kwargs)\n",
    "        self.entries[iid] = path\n",
    "        return iid\n",
    "    def process_directory(self, parent, path, depth=3):\n",
    "        if depth == 0:\n",
    "            return\n",
    "        for p in os.listdir(path):\n",
    "            abspath = os.path.join(path, p)\n",
    "            if os.path.isdir(abspath):\n",
    "                iid = self.insert(parent,\n",
    "                                  'end',\n",
    "                                  path=abspath,\n",
    "                                  name=p,\n",
    "                                  open=False)\n",
    "                self.process_directory(iid, abspath, depth-1)\n",
    "    # Callbacks\n",
    "    def update_subtree(self, event):\n",
    "        iid = self.tree.focus()\n",
    "        path = self.entries[iid]\n",
    "        print(\"%s: %s\" % (iid, path))\n",
    "        print(iid in self.entries.keys())\n",
    "        #self.process_directory(iid, path)\n",
    "def test():\n",
    "    root = tk.Tk()\n",
    "    mypath = \"G:/C of A's/\"\n",
    "    app = DirectoryBrowser(root, path=mypath)\n",
    "    # testing ...\n",
    "    print(app.tree.get_children())  #  returns root children    \n",
    "    app.mainloop()\n",
    "if __name__ == \"__main__\":\n",
    "    test()"
   ]
  },
  {
   "cell_type": "code",
   "execution_count": null,
   "metadata": {},
   "outputs": [],
   "source": []
  }
 ],
 "metadata": {
  "celltoolbar": "Raw Cell Format",
  "kernelspec": {
   "display_name": "Python 3",
   "language": "python",
   "name": "python3"
  },
  "language_info": {
   "codemirror_mode": {
    "name": "ipython",
    "version": 3
   },
   "file_extension": ".py",
   "mimetype": "text/x-python",
   "name": "python",
   "nbconvert_exporter": "python",
   "pygments_lexer": "ipython3",
   "version": "3.7.0"
  },
  "toc": {
   "base_numbering": 1,
   "nav_menu": {},
   "number_sections": true,
   "sideBar": true,
   "skip_h1_title": false,
   "title_cell": "Table of Contents",
   "title_sidebar": "Contents",
   "toc_cell": false,
   "toc_position": {},
   "toc_section_display": true,
   "toc_window_display": false
  },
  "varInspector": {
   "cols": {
    "lenName": 16,
    "lenType": 16,
    "lenVar": 40
   },
   "kernels_config": {
    "python": {
     "delete_cmd_postfix": "",
     "delete_cmd_prefix": "del ",
     "library": "var_list.py",
     "varRefreshCmd": "print(var_dic_list())"
    },
    "r": {
     "delete_cmd_postfix": ") ",
     "delete_cmd_prefix": "rm(",
     "library": "var_list.r",
     "varRefreshCmd": "cat(var_dic_list()) "
    }
   },
   "types_to_exclude": [
    "module",
    "function",
    "builtin_function_or_method",
    "instance",
    "_Feature"
   ],
   "window_display": false
  }
 },
 "nbformat": 4,
 "nbformat_minor": 2
}
