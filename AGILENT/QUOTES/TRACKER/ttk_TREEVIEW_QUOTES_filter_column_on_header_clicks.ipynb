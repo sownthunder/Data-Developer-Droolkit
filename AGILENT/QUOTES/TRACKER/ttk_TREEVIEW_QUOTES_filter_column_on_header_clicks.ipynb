{
 "cells": [
  {
   "cell_type": "markdown",
   "metadata": {},
   "source": [
    "## displays 3 columns and when the `header` is clicked on... \n",
    "\n",
    "## reverse the order of `that column` relative to the order it was in prior\n",
    "\n",
    "---"
   ]
  },
  {
   "cell_type": "code",
   "execution_count": 1,
   "metadata": {
    "ExecuteTime": {
     "end_time": "2020-01-30T17:50:56.251881Z",
     "start_time": "2020-01-30T17:50:56.190594Z"
    }
   },
   "outputs": [],
   "source": [
    "import os, sys, time\n",
    "from time import sleep\n",
    "import tkinter as tk\n",
    "from tkinter.font import Font\n",
    "from tkinter import ttk"
   ]
  },
  {
   "cell_type": "code",
   "execution_count": 2,
   "metadata": {
    "ExecuteTime": {
     "end_time": "2020-01-30T17:50:56.271853Z",
     "start_time": "2020-01-30T17:50:56.253801Z"
    }
   },
   "outputs": [],
   "source": [
    "class TestColumnDisplay(ttk.Frame): # {\n",
    "    \n",
    "    # class variable to track direction of column\n",
    "    # header sort\n",
    "    SortDir = True# DESCENDING\n",
    "    \n",
    "    \"\"\"\n",
    "    CREATES TREEVIEW\n",
    "    \"\"\"\n",
    "    def __init__(self, root): # {\n",
    "        f = ttk.Frame(root)\n",
    "        f.pack(side=tk.TOP, fill=tk.BOTH, expand=tk.Y)\n",
    "        \n",
    "        # create the tree and scrollbars\n",
    "        self.dataCols = ('country', 'capital', 'currency')\n",
    "        self.tree = ttk.Treeview(columns=self.dataCols,\n",
    "                                show = 'headings')\n",
    "        \n",
    "        ysb = ttk.Scrollbar(orient=tk.VERTICAL, command= self.tree.yview)\n",
    "        xsb = ttk.Scrollbar(orient=tk.HORIZONTAL, command= self.tree.xview)\n",
    "        self.tree['yscroll'] = ysb.set\n",
    "        self.tree['xscroll'] = xsb.set\n",
    "        \n",
    "        # add tree and scrollbars to frame\n",
    "        self.tree.grid(in_=f, row=0, column=0, sticky=tk.NSEW)\n",
    "        ysb.grid(in_=f, row=0, column=1, sticky=tk.NS)\n",
    "        xsb.grid(in_=f, row=1, column=0, sticky=tk.EW)\n",
    "        \n",
    "        # set frame resize priorities\n",
    "        f.rowconfigure(0, weight=1)\n",
    "        f.columnconfigure(0, weight=1)\n",
    "    # }\n",
    "    \n",
    "    def _load_data(self): # {\n",
    "        \n",
    "        self.data = [\n",
    "                (\"Argentina\",      \"Buenos Aires\",     \"ARS\"),\n",
    "                (\"Australia\",      \"Canberra\",         \"AUD\"),\n",
    "                (\"Brazil\",         \"Brazilia\",         \"BRL\"),\n",
    "                (\"Canada\",         \"Ottawa\",           \"CAD\"),\n",
    "                (\"China\",          \"Beijing\",          \"CNY\"),\n",
    "                (\"France\",         \"Paris\",            \"EUR\"),\n",
    "                (\"Germany\",        \"Berlin\",           \"EUR\"),\n",
    "                (\"India\",          \"New Delhi\",        \"INR\"),\n",
    "                (\"Italy\",          \"Rome\",             \"EUR\"),\n",
    "                (\"Japan\",          \"Tokyo\",            \"JPY\"),\n",
    "                (\"Mexico\",         \"Mexico City\",      \"MXN\"),\n",
    "                (\"Russia\",         \"Moscow\",           \"RUB\"),\n",
    "                (\"South Africa\",   \"Pretoria\",         \"ZAR\"),\n",
    "                (\"United Kingdom\", \"London\",           \"GBP\"),\n",
    "                (\"United States\",  \"Washington, D.C.\", \"USD\") ]\n",
    "                \n",
    "        # configure column headings\n",
    "        for c in self.dataCols: # {\n",
    "            self.tree.heading(c, text=c.title(),\n",
    "                              command=lambda c=c: self._column_sort(c, TestColumnDisplay.SortDir))            \n",
    "            self.tree.column(c, width=Font().measure(c.title()))\n",
    "        # }    \n",
    "        # add data to the tree \n",
    "        for item in self.data: # {\n",
    "            self.tree.insert('', 'end', values=item)\n",
    "            \n",
    "            # and adjust column widths if necessary\n",
    "            for idx, val in enumerate(item): # {}\n",
    "                iwidth = Font().measure(val)\n",
    "                if self.tree.column(self.dataCols[idx], 'width') < iwidth: # {\n",
    "                    self.tree.column(self.dataCols[idx], width = iwidth)\n",
    "                # }\n",
    "            # }\n",
    "        # }\n",
    "        \n",
    "    def _column_sort(self, col, descending=False): # {}\n",
    "        \n",
    "        # grab values to sort as a list of tuples (column value, column id)\n",
    "        # e.g. [('Argentina', 'I001'), ('Australia', 'I002'), ('Brazil', 'I003')]\n",
    "        data = [(self.tree.set(child, col), child) for child in self.tree.get_children('')]\n",
    "        \n",
    "        # reorder data\n",
    "        # tkinter looks after moving other items in\n",
    "        # the same row\n",
    "        data.sort(reverse=descending)\n",
    "        for indx, item in enumerate(data): # {\n",
    "            self.tree.move(item[1], '', indx)   # item[1] = item Identifier\n",
    "        # }\n",
    "        \n",
    "        # reverse sort direction for next sort operation\n",
    "        TestColumnDisplay.SortDir = not descending\n",
    "    # }\n",
    "# }"
   ]
  },
  {
   "cell_type": "code",
   "execution_count": 3,
   "metadata": {
    "ExecuteTime": {
     "end_time": "2020-01-30T18:11:11.851167Z",
     "start_time": "2020-01-30T17:50:56.274845Z"
    }
   },
   "outputs": [],
   "source": [
    "if __name__ == \"__main__\": # {\n",
    "    window = tk.Tk()\n",
    "    application = TestColumnDisplay(window)\n",
    "    application._load_data()\n",
    "    window.config()\n",
    "    window.mainloop()\n",
    "# }"
   ]
  },
  {
   "cell_type": "code",
   "execution_count": null,
   "metadata": {},
   "outputs": [],
   "source": []
  }
 ],
 "metadata": {
  "kernelspec": {
   "display_name": "Python 3",
   "language": "python",
   "name": "python3"
  },
  "language_info": {
   "codemirror_mode": {
    "name": "ipython",
    "version": 3
   },
   "file_extension": ".py",
   "mimetype": "text/x-python",
   "name": "python",
   "nbconvert_exporter": "python",
   "pygments_lexer": "ipython3",
   "version": "3.7.0"
  },
  "toc": {
   "base_numbering": 1,
   "nav_menu": {},
   "number_sections": true,
   "sideBar": true,
   "skip_h1_title": false,
   "title_cell": "Table of Contents",
   "title_sidebar": "Contents",
   "toc_cell": false,
   "toc_position": {},
   "toc_section_display": true,
   "toc_window_display": false
  },
  "varInspector": {
   "cols": {
    "lenName": 16,
    "lenType": 16,
    "lenVar": 40
   },
   "kernels_config": {
    "python": {
     "delete_cmd_postfix": "",
     "delete_cmd_prefix": "del ",
     "library": "var_list.py",
     "varRefreshCmd": "print(var_dic_list())"
    },
    "r": {
     "delete_cmd_postfix": ") ",
     "delete_cmd_prefix": "rm(",
     "library": "var_list.r",
     "varRefreshCmd": "cat(var_dic_list()) "
    }
   },
   "types_to_exclude": [
    "module",
    "function",
    "builtin_function_or_method",
    "instance",
    "_Feature"
   ],
   "window_display": false
  }
 },
 "nbformat": 4,
 "nbformat_minor": 2
}
