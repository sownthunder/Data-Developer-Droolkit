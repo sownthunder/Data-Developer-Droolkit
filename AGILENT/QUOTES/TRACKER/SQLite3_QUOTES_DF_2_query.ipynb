{
 "cells": [
  {
   "cell_type": "markdown",
   "metadata": {},
   "source": [
    "# [SELECT PANDAS ROWS BASED ON CONDITION](https://chrisalbon.com/python/data_wrangling/pandas_selecting_rows_on_conditions/)"
   ]
  },
  {
   "cell_type": "code",
   "execution_count": 1,
   "metadata": {},
   "outputs": [],
   "source": [
    "import os, sys, time\n",
    "from time import sleep\n",
    "import pathlib, fnmatch\n",
    "from pathlib import Path\n",
    "import sqlite3\n",
    "import pandas as pd\n",
    "import numpy as np\n",
    "from pandas import Series, DataFrame"
   ]
  },
  {
   "cell_type": "code",
   "execution_count": 2,
   "metadata": {},
   "outputs": [],
   "source": [
    "from sqlalchemy import create_engine"
   ]
  },
  {
   "cell_type": "markdown",
   "metadata": {},
   "source": [
    "---\n",
    "\n",
    "## create `engine` from SQL-ALCHEMY"
   ]
  },
  {
   "cell_type": "code",
   "execution_count": 3,
   "metadata": {},
   "outputs": [],
   "source": [
    "# CREATE SQL ALCHEMY ENGINE\n",
    "engine = create_engine('sqlite:///e:/_Quotes_Tracker/data/quotes_tracker.db')"
   ]
  },
  {
   "cell_type": "code",
   "execution_count": 4,
   "metadata": {},
   "outputs": [],
   "source": [
    "# CREATE CONNECTION TO DATABASE (from ENGINE)\n",
    "conn = engine.connect()"
   ]
  },
  {
   "cell_type": "markdown",
   "metadata": {},
   "source": [
    "---\n",
    "\n",
    "# CREATE `PANDAS` DF FROM `SQL QUERY`"
   ]
  },
  {
   "cell_type": "code",
   "execution_count": 5,
   "metadata": {},
   "outputs": [],
   "source": [
    "tracking_num_test = \"T00000000003\""
   ]
  },
  {
   "cell_type": "code",
   "execution_count": 6,
   "metadata": {},
   "outputs": [],
   "source": [
    "the_query = \"SELECT * FROM [quotes] WHERE [tracking_number] = '\" + str(tracking_num_test) + \"'\""
   ]
  },
  {
   "cell_type": "code",
   "execution_count": 7,
   "metadata": {},
   "outputs": [
    {
     "name": "stdout",
     "output_type": "stream",
     "text": [
      "SELECT * FROM [quotes] WHERE [tracking_number] = 'T00000000003'\n"
     ]
    }
   ],
   "source": [
    "print(the_query)"
   ]
  },
  {
   "cell_type": "code",
   "execution_count": 8,
   "metadata": {},
   "outputs": [],
   "source": [
    "# SQL_TABLE?\n",
    "# [2020-01-21]\\\\SQL_Table = pd.read_sql_table(table_name=\"quotes\", con=conn, index_col=[\"tracking_number\"])\n",
    "SQL_Table = pd.read_sql_query(sql=str(the_query), \n",
    "                              con=conn\n",
    "                             )"
   ]
  },
  {
   "cell_type": "code",
   "execution_count": 9,
   "metadata": {},
   "outputs": [
    {
     "data": {
      "text/html": [
       "<div>\n",
       "<style scoped>\n",
       "    .dataframe tbody tr th:only-of-type {\n",
       "        vertical-align: middle;\n",
       "    }\n",
       "\n",
       "    .dataframe tbody tr th {\n",
       "        vertical-align: top;\n",
       "    }\n",
       "\n",
       "    .dataframe thead th {\n",
       "        text-align: right;\n",
       "    }\n",
       "</style>\n",
       "<table border=\"1\" class=\"dataframe\">\n",
       "  <thead>\n",
       "    <tr style=\"text-align: right;\">\n",
       "      <th></th>\n",
       "      <th>tracking_number</th>\n",
       "      <th>name</th>\n",
       "      <th>email</th>\n",
       "      <th>type</th>\n",
       "      <th>sent</th>\n",
       "      <th>open_time</th>\n",
       "      <th>close_time</th>\n",
       "      <th>turn_around</th>\n",
       "      <th>notes</th>\n",
       "      <th>initials</th>\n",
       "      <th>account_id</th>\n",
       "      <th>prodflow_quote_number</th>\n",
       "      <th>sap_quote_number</th>\n",
       "      <th>price</th>\n",
       "      <th>company_name</th>\n",
       "      <th>product_number</th>\n",
       "    </tr>\n",
       "  </thead>\n",
       "  <tbody>\n",
       "    <tr>\n",
       "      <td>0</td>\n",
       "      <td>T00000000003</td>\n",
       "      <td>Raffaella</td>\n",
       "      <td>ultra@ultrasci.it</td>\n",
       "      <td>email</td>\n",
       "      <td>True</td>\n",
       "      <td>2020-01-14 11:31:59.582988</td>\n",
       "      <td>2020-01-14 11:55:00.000000</td>\n",
       "      <td>None</td>\n",
       "      <td>None</td>\n",
       "      <td>clr/SI</td>\n",
       "      <td>70599064</td>\n",
       "      <td>011420-790</td>\n",
       "      <td>3119120</td>\n",
       "      <td>None</td>\n",
       "      <td>ULTRA Italia</td>\n",
       "      <td>CUS-00002440</td>\n",
       "    </tr>\n",
       "  </tbody>\n",
       "</table>\n",
       "</div>"
      ],
      "text/plain": [
       "  tracking_number       name              email   type  sent  \\\n",
       "0    T00000000003  Raffaella  ultra@ultrasci.it  email  True   \n",
       "\n",
       "                    open_time                  close_time turn_around notes  \\\n",
       "0  2020-01-14 11:31:59.582988  2020-01-14 11:55:00.000000        None  None   \n",
       "\n",
       "  initials account_id prodflow_quote_number sap_quote_number price  \\\n",
       "0   clr/SI   70599064            011420-790          3119120  None   \n",
       "\n",
       "   company_name product_number  \n",
       "0  ULTRA Italia   CUS-00002440  "
      ]
     },
     "execution_count": 9,
     "metadata": {},
     "output_type": "execute_result"
    }
   ],
   "source": [
    "SQL_Table  #[\"close_time\"][\"close_time\"][\"turn_around\"]"
   ]
  },
  {
   "cell_type": "code",
   "execution_count": 10,
   "metadata": {},
   "outputs": [],
   "source": [
    "is_sent = SQL_Table[\"turn_around\"].isin([\"None\"])"
   ]
  },
  {
   "cell_type": "code",
   "execution_count": 11,
   "metadata": {},
   "outputs": [
    {
     "data": {
      "text/plain": [
       "0    True\n",
       "Name: turn_around, dtype: bool"
      ]
     },
     "execution_count": 11,
     "metadata": {},
     "output_type": "execute_result"
    }
   ],
   "source": [
    "is_sent"
   ]
  },
  {
   "cell_type": "code",
   "execution_count": 12,
   "metadata": {},
   "outputs": [
    {
     "name": "stdout",
     "output_type": "stream",
     "text": [
      "NO TURN AROUND!\n",
      "0    2020-01-14 11:55:00.000000\n",
      "Name: close_time, dtype: object\n"
     ]
    }
   ],
   "source": [
    "if bool(is_sent[0]) is False: #{\n",
    "    print(\"YES TURN AROUND!\")\n",
    "    print(SQL_Table[\"turn_around\"])\n",
    "#}\n",
    "else: # {\n",
    "    print(\"NO TURN AROUND!\")\n",
    "    print(SQL_Table[\"close_time\"])\n",
    "#}"
   ]
  },
  {
   "cell_type": "code",
   "execution_count": 16,
   "metadata": {},
   "outputs": [],
   "source": [
    "tracking_num_test_2 = \"T000000000002\""
   ]
  },
  {
   "cell_type": "code",
   "execution_count": 17,
   "metadata": {},
   "outputs": [],
   "source": [
    "the_query_2 = \"SELECT * FORM [quotes] WHERE [tracking_number] = '\" + str(tracking_num_test_2) + \"'\""
   ]
  },
  {
   "cell_type": "code",
   "execution_count": 18,
   "metadata": {},
   "outputs": [
    {
     "name": "stdout",
     "output_type": "stream",
     "text": [
      "SELECT * FORM [quotes] WHERE [tracking_number] = 'T000000000002'\n"
     ]
    }
   ],
   "source": [
    "print(the_query_2)"
   ]
  },
  {
   "cell_type": "code",
   "execution_count": 19,
   "metadata": {},
   "outputs": [],
   "source": [
    "SQL_Table_2 = pd.read_sql_query(sql=str(the_query),\n",
    "                               con=conn\n",
    "                               )"
   ]
  },
  {
   "cell_type": "code",
   "execution_count": 20,
   "metadata": {},
   "outputs": [
    {
     "data": {
      "text/html": [
       "<div>\n",
       "<style scoped>\n",
       "    .dataframe tbody tr th:only-of-type {\n",
       "        vertical-align: middle;\n",
       "    }\n",
       "\n",
       "    .dataframe tbody tr th {\n",
       "        vertical-align: top;\n",
       "    }\n",
       "\n",
       "    .dataframe thead th {\n",
       "        text-align: right;\n",
       "    }\n",
       "</style>\n",
       "<table border=\"1\" class=\"dataframe\">\n",
       "  <thead>\n",
       "    <tr style=\"text-align: right;\">\n",
       "      <th></th>\n",
       "      <th>tracking_number</th>\n",
       "      <th>name</th>\n",
       "      <th>email</th>\n",
       "      <th>type</th>\n",
       "      <th>sent</th>\n",
       "      <th>open_time</th>\n",
       "      <th>close_time</th>\n",
       "      <th>turn_around</th>\n",
       "      <th>notes</th>\n",
       "      <th>initials</th>\n",
       "      <th>account_id</th>\n",
       "      <th>prodflow_quote_number</th>\n",
       "      <th>sap_quote_number</th>\n",
       "      <th>price</th>\n",
       "      <th>company_name</th>\n",
       "      <th>product_number</th>\n",
       "    </tr>\n",
       "  </thead>\n",
       "  <tbody>\n",
       "    <tr>\n",
       "      <td>0</td>\n",
       "      <td>T00000000003</td>\n",
       "      <td>Raffaella</td>\n",
       "      <td>ultra@ultrasci.it</td>\n",
       "      <td>email</td>\n",
       "      <td>True</td>\n",
       "      <td>2020-01-14 11:31:59.582988</td>\n",
       "      <td>2020-01-14 11:55:00.000000</td>\n",
       "      <td>None</td>\n",
       "      <td>None</td>\n",
       "      <td>clr/SI</td>\n",
       "      <td>70599064</td>\n",
       "      <td>011420-790</td>\n",
       "      <td>3119120</td>\n",
       "      <td>None</td>\n",
       "      <td>ULTRA Italia</td>\n",
       "      <td>CUS-00002440</td>\n",
       "    </tr>\n",
       "  </tbody>\n",
       "</table>\n",
       "</div>"
      ],
      "text/plain": [
       "  tracking_number       name              email   type  sent  \\\n",
       "0    T00000000003  Raffaella  ultra@ultrasci.it  email  True   \n",
       "\n",
       "                    open_time                  close_time turn_around notes  \\\n",
       "0  2020-01-14 11:31:59.582988  2020-01-14 11:55:00.000000        None  None   \n",
       "\n",
       "  initials account_id prodflow_quote_number sap_quote_number price  \\\n",
       "0   clr/SI   70599064            011420-790          3119120  None   \n",
       "\n",
       "   company_name product_number  \n",
       "0  ULTRA Italia   CUS-00002440  "
      ]
     },
     "execution_count": 20,
     "metadata": {},
     "output_type": "execute_result"
    }
   ],
   "source": [
    "SQL_Table_2"
   ]
  },
  {
   "cell_type": "code",
   "execution_count": null,
   "metadata": {},
   "outputs": [],
   "source": []
  },
  {
   "cell_type": "markdown",
   "metadata": {},
   "source": [
    "### Method 1: Using Boolean Values"
   ]
  },
  {
   "cell_type": "code",
   "execution_count": 8,
   "metadata": {},
   "outputs": [],
   "source": [
    "# create variable with TRUE IF sent is TRUE\n",
    "all_sent = SQL_Table['sent'] == \"True\""
   ]
  },
  {
   "cell_type": "code",
   "execution_count": 9,
   "metadata": {},
   "outputs": [],
   "source": [
    "# create variable with TRUE if turn_around is NOT \"None\"\n",
    "already_sent = SQL_Table['turn_around'] != \"None\""
   ]
  },
  {
   "cell_type": "code",
   "execution_count": 10,
   "metadata": {},
   "outputs": [],
   "source": [
    "# create variable with TRUE if turn_around is \"None\"\n",
    "recently_sent = SQL_Table[\"turn_around\"] == \"None\""
   ]
  },
  {
   "cell_type": "code",
   "execution_count": 11,
   "metadata": {},
   "outputs": [],
   "source": [
    "# select all cases where SENT IS TRUE and TURN_AROUND is NONE\n",
    "need_timestamps = SQL_Table[all_sent & recently_sent]"
   ]
  },
  {
   "cell_type": "code",
   "execution_count": 12,
   "metadata": {},
   "outputs": [
    {
     "data": {
      "text/html": [
       "<div>\n",
       "<style scoped>\n",
       "    .dataframe tbody tr th:only-of-type {\n",
       "        vertical-align: middle;\n",
       "    }\n",
       "\n",
       "    .dataframe tbody tr th {\n",
       "        vertical-align: top;\n",
       "    }\n",
       "\n",
       "    .dataframe thead th {\n",
       "        text-align: right;\n",
       "    }\n",
       "</style>\n",
       "<table border=\"1\" class=\"dataframe\">\n",
       "  <thead>\n",
       "    <tr style=\"text-align: right;\">\n",
       "      <th></th>\n",
       "      <th>name</th>\n",
       "      <th>email</th>\n",
       "      <th>type</th>\n",
       "      <th>sent</th>\n",
       "      <th>open_time</th>\n",
       "      <th>close_time</th>\n",
       "      <th>turn_around</th>\n",
       "      <th>notes</th>\n",
       "      <th>initials</th>\n",
       "      <th>account_id</th>\n",
       "      <th>prodflow_quote_number</th>\n",
       "      <th>sap_quote_number</th>\n",
       "      <th>price</th>\n",
       "      <th>company_name</th>\n",
       "      <th>product_number</th>\n",
       "    </tr>\n",
       "    <tr>\n",
       "      <th>tracking_number</th>\n",
       "      <th></th>\n",
       "      <th></th>\n",
       "      <th></th>\n",
       "      <th></th>\n",
       "      <th></th>\n",
       "      <th></th>\n",
       "      <th></th>\n",
       "      <th></th>\n",
       "      <th></th>\n",
       "      <th></th>\n",
       "      <th></th>\n",
       "      <th></th>\n",
       "      <th></th>\n",
       "      <th></th>\n",
       "      <th></th>\n",
       "    </tr>\n",
       "  </thead>\n",
       "  <tbody>\n",
       "    <tr>\n",
       "      <td>T00000000003</td>\n",
       "      <td>Raffaella</td>\n",
       "      <td>ultra@ultrasci.it</td>\n",
       "      <td>email</td>\n",
       "      <td>True</td>\n",
       "      <td>2020-01-14 11:31:59.582988</td>\n",
       "      <td>2020-01-14 11:55:00.000000</td>\n",
       "      <td>None</td>\n",
       "      <td>None</td>\n",
       "      <td>clr/SI</td>\n",
       "      <td>70599064</td>\n",
       "      <td>011420-790</td>\n",
       "      <td>3119120</td>\n",
       "      <td>None</td>\n",
       "      <td>ULTRA Italia</td>\n",
       "      <td>CUS-00002440</td>\n",
       "    </tr>\n",
       "    <tr>\n",
       "      <td>T00000000004</td>\n",
       "      <td>Glen Arrieta</td>\n",
       "      <td>garrieta@ocwd.com</td>\n",
       "      <td>email</td>\n",
       "      <td>True</td>\n",
       "      <td>2020-01-14 11:46:15.654761</td>\n",
       "      <td>2020-01-14 12:48:00.000000</td>\n",
       "      <td>None</td>\n",
       "      <td>None</td>\n",
       "      <td>clr/SI</td>\n",
       "      <td>70339639</td>\n",
       "      <td>011420-791</td>\n",
       "      <td>3119191</td>\n",
       "      <td>None</td>\n",
       "      <td>Orange County Water District</td>\n",
       "      <td>CUS-00002442</td>\n",
       "    </tr>\n",
       "  </tbody>\n",
       "</table>\n",
       "</div>"
      ],
      "text/plain": [
       "                         name              email    type  sent  \\\n",
       "tracking_number                                                  \n",
       "T00000000003        Raffaella  ultra@ultrasci.it   email  True   \n",
       "T00000000004     Glen Arrieta  garrieta@ocwd.com  email   True   \n",
       "\n",
       "                                  open_time                  close_time  \\\n",
       "tracking_number                                                           \n",
       "T00000000003     2020-01-14 11:31:59.582988  2020-01-14 11:55:00.000000   \n",
       "T00000000004     2020-01-14 11:46:15.654761  2020-01-14 12:48:00.000000   \n",
       "\n",
       "                turn_around notes initials account_id prodflow_quote_number  \\\n",
       "tracking_number                                                               \n",
       "T00000000003           None  None   clr/SI   70599064            011420-790   \n",
       "T00000000004           None  None   clr/SI   70339639            011420-791   \n",
       "\n",
       "                sap_quote_number price                  company_name  \\\n",
       "tracking_number                                                        \n",
       "T00000000003             3119120  None                  ULTRA Italia   \n",
       "T00000000004             3119191  None  Orange County Water District   \n",
       "\n",
       "                product_number  \n",
       "tracking_number                 \n",
       "T00000000003      CUS-00002440  \n",
       "T00000000004      CUS-00002442  "
      ]
     },
     "execution_count": 12,
     "metadata": {},
     "output_type": "execute_result"
    }
   ],
   "source": [
    "need_timestamps"
   ]
  },
  {
   "cell_type": "code",
   "execution_count": 13,
   "metadata": {},
   "outputs": [
    {
     "data": {
      "text/plain": [
       "pandas.core.frame.DataFrame"
      ]
     },
     "execution_count": 13,
     "metadata": {},
     "output_type": "execute_result"
    }
   ],
   "source": [
    "type(need_timestamps)"
   ]
  },
  {
   "cell_type": "code",
   "execution_count": 14,
   "metadata": {},
   "outputs": [],
   "source": [
    "sent_df = SQL_Table[all_sent]"
   ]
  },
  {
   "cell_type": "raw",
   "metadata": {
    "raw_mimetype": "text/x-python"
   },
   "source": [
    "test_df = pd.DataFrame(data=sent_df, \n",
    "                       index=SQL_Table[all_sent][\"tracking_number\"], \n",
    "                       dtype=np.str)"
   ]
  },
  {
   "cell_type": "code",
   "execution_count": 15,
   "metadata": {
    "scrolled": false
   },
   "outputs": [
    {
     "data": {
      "text/html": [
       "<div>\n",
       "<style scoped>\n",
       "    .dataframe tbody tr th:only-of-type {\n",
       "        vertical-align: middle;\n",
       "    }\n",
       "\n",
       "    .dataframe tbody tr th {\n",
       "        vertical-align: top;\n",
       "    }\n",
       "\n",
       "    .dataframe thead th {\n",
       "        text-align: right;\n",
       "    }\n",
       "</style>\n",
       "<table border=\"1\" class=\"dataframe\">\n",
       "  <thead>\n",
       "    <tr style=\"text-align: right;\">\n",
       "      <th></th>\n",
       "      <th>name</th>\n",
       "      <th>email</th>\n",
       "      <th>type</th>\n",
       "      <th>sent</th>\n",
       "      <th>open_time</th>\n",
       "      <th>close_time</th>\n",
       "      <th>turn_around</th>\n",
       "      <th>notes</th>\n",
       "      <th>initials</th>\n",
       "      <th>account_id</th>\n",
       "      <th>prodflow_quote_number</th>\n",
       "      <th>sap_quote_number</th>\n",
       "      <th>price</th>\n",
       "      <th>company_name</th>\n",
       "      <th>product_number</th>\n",
       "    </tr>\n",
       "    <tr>\n",
       "      <th>tracking_number</th>\n",
       "      <th></th>\n",
       "      <th></th>\n",
       "      <th></th>\n",
       "      <th></th>\n",
       "      <th></th>\n",
       "      <th></th>\n",
       "      <th></th>\n",
       "      <th></th>\n",
       "      <th></th>\n",
       "      <th></th>\n",
       "      <th></th>\n",
       "      <th></th>\n",
       "      <th></th>\n",
       "      <th></th>\n",
       "      <th></th>\n",
       "    </tr>\n",
       "  </thead>\n",
       "  <tbody>\n",
       "    <tr>\n",
       "      <td>T00000000001</td>\n",
       "      <td>Raffaella</td>\n",
       "      <td>ultra@ultrasci.it</td>\n",
       "      <td>email</td>\n",
       "      <td>True</td>\n",
       "      <td>2020-01-14 09:06:26.827094</td>\n",
       "      <td>2020-01-14 09:52:12.998358</td>\n",
       "      <td>0 days 00:45:46.171264</td>\n",
       "      <td>None</td>\n",
       "      <td>clr/cb</td>\n",
       "      <td>70599064</td>\n",
       "      <td>011420-787</td>\n",
       "      <td>3118922</td>\n",
       "      <td>None</td>\n",
       "      <td>ULTRA Italia</td>\n",
       "      <td>CUS-00002438</td>\n",
       "    </tr>\n",
       "    <tr>\n",
       "      <td>T00000000002</td>\n",
       "      <td>Rune Jorgenson</td>\n",
       "      <td>rmj@analytech.dk</td>\n",
       "      <td>email</td>\n",
       "      <td>True</td>\n",
       "      <td>2020-01-14 11:30:10.220050</td>\n",
       "      <td>2020-01-14 15:54:31.648525</td>\n",
       "      <td>0 days 04:24:21.428475</td>\n",
       "      <td>*Quote to be sent to Agilent rep. Susanne K.\\n...</td>\n",
       "      <td>RF/cb/KSR</td>\n",
       "      <td>70209452</td>\n",
       "      <td>011420-793</td>\n",
       "      <td>3119213</td>\n",
       "      <td>None</td>\n",
       "      <td>Analytech</td>\n",
       "      <td>CUS-00002441</td>\n",
       "    </tr>\n",
       "    <tr>\n",
       "      <td>T00000000003</td>\n",
       "      <td>Raffaella</td>\n",
       "      <td>ultra@ultrasci.it</td>\n",
       "      <td>email</td>\n",
       "      <td>True</td>\n",
       "      <td>2020-01-14 11:31:59.582988</td>\n",
       "      <td>2020-01-14 11:55:00.000000</td>\n",
       "      <td>None</td>\n",
       "      <td>None</td>\n",
       "      <td>clr/SI</td>\n",
       "      <td>70599064</td>\n",
       "      <td>011420-790</td>\n",
       "      <td>3119120</td>\n",
       "      <td>None</td>\n",
       "      <td>ULTRA Italia</td>\n",
       "      <td>CUS-00002440</td>\n",
       "    </tr>\n",
       "    <tr>\n",
       "      <td>T00000000004</td>\n",
       "      <td>Glen Arrieta</td>\n",
       "      <td>garrieta@ocwd.com</td>\n",
       "      <td>email</td>\n",
       "      <td>True</td>\n",
       "      <td>2020-01-14 11:46:15.654761</td>\n",
       "      <td>2020-01-14 12:48:00.000000</td>\n",
       "      <td>None</td>\n",
       "      <td>None</td>\n",
       "      <td>clr/SI</td>\n",
       "      <td>70339639</td>\n",
       "      <td>011420-791</td>\n",
       "      <td>3119191</td>\n",
       "      <td>None</td>\n",
       "      <td>Orange County Water District</td>\n",
       "      <td>CUS-00002442</td>\n",
       "    </tr>\n",
       "    <tr>\n",
       "      <td>T00000000005</td>\n",
       "      <td>Raffaella</td>\n",
       "      <td>ultra@ultrasci.it</td>\n",
       "      <td>email</td>\n",
       "      <td>True</td>\n",
       "      <td>2020-01-14 12:03:37.168555</td>\n",
       "      <td>2020-01-16 11:39:33.472533</td>\n",
       "      <td>1 days 23:35:56.303978</td>\n",
       "      <td>None\\n\\n</td>\n",
       "      <td>clr/SI</td>\n",
       "      <td>70599064</td>\n",
       "      <td>011420-792</td>\n",
       "      <td>3119216</td>\n",
       "      <td>None</td>\n",
       "      <td>ULTRA Italia</td>\n",
       "      <td>CUS-00002443</td>\n",
       "    </tr>\n",
       "    <tr>\n",
       "      <td>...</td>\n",
       "      <td>...</td>\n",
       "      <td>...</td>\n",
       "      <td>...</td>\n",
       "      <td>...</td>\n",
       "      <td>...</td>\n",
       "      <td>...</td>\n",
       "      <td>...</td>\n",
       "      <td>...</td>\n",
       "      <td>...</td>\n",
       "      <td>...</td>\n",
       "      <td>...</td>\n",
       "      <td>...</td>\n",
       "      <td>...</td>\n",
       "      <td>...</td>\n",
       "      <td>...</td>\n",
       "    </tr>\n",
       "    <tr>\n",
       "      <td>T00000000080</td>\n",
       "      <td>Raffaella</td>\n",
       "      <td>ultra@ultrasci.it</td>\n",
       "      <td>email</td>\n",
       "      <td>True</td>\n",
       "      <td>2020-01-21 10:13:57.005142</td>\n",
       "      <td>2020-01-21 11:25:06.744189</td>\n",
       "      <td>0 days 01:11:09.739047</td>\n",
       "      <td>None\\n</td>\n",
       "      <td>clr/SI</td>\n",
       "      <td>70599064</td>\n",
       "      <td>012120-822</td>\n",
       "      <td>3126691</td>\n",
       "      <td>None</td>\n",
       "      <td>ULTRA Italia</td>\n",
       "      <td>ICUS-0000984</td>\n",
       "    </tr>\n",
       "    <tr>\n",
       "      <td>T00000000081</td>\n",
       "      <td>Raffaella</td>\n",
       "      <td>ultra@ultrasci.it</td>\n",
       "      <td>email</td>\n",
       "      <td>True</td>\n",
       "      <td>2020-01-21 10:14:27.391875</td>\n",
       "      <td>2020-01-21 11:25:32.031611</td>\n",
       "      <td>0 days 01:11:04.639736</td>\n",
       "      <td>None\\n</td>\n",
       "      <td>clr/SI</td>\n",
       "      <td>70599064</td>\n",
       "      <td>012120-823</td>\n",
       "      <td>3126712</td>\n",
       "      <td>None</td>\n",
       "      <td>ULTRA Italia</td>\n",
       "      <td>ICUS-0000985</td>\n",
       "    </tr>\n",
       "    <tr>\n",
       "      <td>T00000000085</td>\n",
       "      <td>Raffaella</td>\n",
       "      <td>ultra@ultrasci.it</td>\n",
       "      <td>email</td>\n",
       "      <td>True</td>\n",
       "      <td>2020-01-21 10:16:48.359267</td>\n",
       "      <td>2020-01-21 12:52:02.651244</td>\n",
       "      <td>0 days 02:35:14.291977</td>\n",
       "      <td>None\\n</td>\n",
       "      <td>clr/SI</td>\n",
       "      <td>70599064</td>\n",
       "      <td>012120-831</td>\n",
       "      <td>3127112</td>\n",
       "      <td>None</td>\n",
       "      <td>ULTRA Italia</td>\n",
       "      <td>ICUS-0000986</td>\n",
       "    </tr>\n",
       "    <tr>\n",
       "      <td>T00000000092</td>\n",
       "      <td>Trevor Mattson</td>\n",
       "      <td>MattsonTD@koppers.com</td>\n",
       "      <td>email</td>\n",
       "      <td>True</td>\n",
       "      <td>2020-01-21 10:30:59.967004</td>\n",
       "      <td>2020-01-21 12:13:45.785333</td>\n",
       "      <td>0 days 01:42:45.818329</td>\n",
       "      <td>None\\n</td>\n",
       "      <td>RF/cb</td>\n",
       "      <td>70579891</td>\n",
       "      <td>012120-828</td>\n",
       "      <td>3127033</td>\n",
       "      <td>None</td>\n",
       "      <td>Koppers Performance Chemicals</td>\n",
       "      <td>ICUS-0000304</td>\n",
       "    </tr>\n",
       "    <tr>\n",
       "      <td>T00000000093</td>\n",
       "      <td>Thomas Temmerman</td>\n",
       "      <td>thomas.temmerman@norvatis.com</td>\n",
       "      <td>email</td>\n",
       "      <td>True</td>\n",
       "      <td>2020-01-21 10:32:44.245915</td>\n",
       "      <td>2020-01-21 13:10:47.925637</td>\n",
       "      <td>0 days 02:38:03.679722</td>\n",
       "      <td>None\\n\\n</td>\n",
       "      <td>RF/SI</td>\n",
       "      <td>70225118</td>\n",
       "      <td>012120-830</td>\n",
       "      <td>3127154</td>\n",
       "      <td>None</td>\n",
       "      <td>Alcon Couvreur</td>\n",
       "      <td>CUS-00002485</td>\n",
       "    </tr>\n",
       "  </tbody>\n",
       "</table>\n",
       "<p>69 rows × 15 columns</p>\n",
       "</div>"
      ],
      "text/plain": [
       "                             name                          email    type  \\\n",
       "tracking_number                                                            \n",
       "T00000000001            Raffaella              ultra@ultrasci.it   email   \n",
       "T00000000002       Rune Jorgenson               rmj@analytech.dk   email   \n",
       "T00000000003            Raffaella              ultra@ultrasci.it   email   \n",
       "T00000000004         Glen Arrieta              garrieta@ocwd.com  email    \n",
       "T00000000005            Raffaella              ultra@ultrasci.it   email   \n",
       "...                           ...                            ...     ...   \n",
       "T00000000080            Raffaella              ultra@ultrasci.it   email   \n",
       "T00000000081            Raffaella              ultra@ultrasci.it   email   \n",
       "T00000000085            Raffaella              ultra@ultrasci.it   email   \n",
       "T00000000092       Trevor Mattson          MattsonTD@koppers.com   email   \n",
       "T00000000093     Thomas Temmerman  thomas.temmerman@norvatis.com   email   \n",
       "\n",
       "                 sent                   open_time                  close_time  \\\n",
       "tracking_number                                                                 \n",
       "T00000000001     True  2020-01-14 09:06:26.827094  2020-01-14 09:52:12.998358   \n",
       "T00000000002     True  2020-01-14 11:30:10.220050  2020-01-14 15:54:31.648525   \n",
       "T00000000003     True  2020-01-14 11:31:59.582988  2020-01-14 11:55:00.000000   \n",
       "T00000000004     True  2020-01-14 11:46:15.654761  2020-01-14 12:48:00.000000   \n",
       "T00000000005     True  2020-01-14 12:03:37.168555  2020-01-16 11:39:33.472533   \n",
       "...               ...                         ...                         ...   \n",
       "T00000000080     True  2020-01-21 10:13:57.005142  2020-01-21 11:25:06.744189   \n",
       "T00000000081     True  2020-01-21 10:14:27.391875  2020-01-21 11:25:32.031611   \n",
       "T00000000085     True  2020-01-21 10:16:48.359267  2020-01-21 12:52:02.651244   \n",
       "T00000000092     True  2020-01-21 10:30:59.967004  2020-01-21 12:13:45.785333   \n",
       "T00000000093     True  2020-01-21 10:32:44.245915  2020-01-21 13:10:47.925637   \n",
       "\n",
       "                            turn_around  \\\n",
       "tracking_number                           \n",
       "T00000000001     0 days 00:45:46.171264   \n",
       "T00000000002     0 days 04:24:21.428475   \n",
       "T00000000003                       None   \n",
       "T00000000004                       None   \n",
       "T00000000005     1 days 23:35:56.303978   \n",
       "...                                 ...   \n",
       "T00000000080     0 days 01:11:09.739047   \n",
       "T00000000081     0 days 01:11:04.639736   \n",
       "T00000000085     0 days 02:35:14.291977   \n",
       "T00000000092     0 days 01:42:45.818329   \n",
       "T00000000093     0 days 02:38:03.679722   \n",
       "\n",
       "                                                             notes   initials  \\\n",
       "tracking_number                                                                 \n",
       "T00000000001                                                  None     clr/cb   \n",
       "T00000000002     *Quote to be sent to Agilent rep. Susanne K.\\n...  RF/cb/KSR   \n",
       "T00000000003                                                  None     clr/SI   \n",
       "T00000000004                                                  None     clr/SI   \n",
       "T00000000005                                              None\\n\\n     clr/SI   \n",
       "...                                                            ...        ...   \n",
       "T00000000080                                                None\\n     clr/SI   \n",
       "T00000000081                                                None\\n     clr/SI   \n",
       "T00000000085                                                None\\n     clr/SI   \n",
       "T00000000092                                                None\\n      RF/cb   \n",
       "T00000000093                                              None\\n\\n      RF/SI   \n",
       "\n",
       "                account_id prodflow_quote_number sap_quote_number price  \\\n",
       "tracking_number                                                           \n",
       "T00000000001      70599064            011420-787          3118922  None   \n",
       "T00000000002      70209452            011420-793          3119213  None   \n",
       "T00000000003      70599064            011420-790          3119120  None   \n",
       "T00000000004      70339639            011420-791          3119191  None   \n",
       "T00000000005      70599064            011420-792          3119216  None   \n",
       "...                    ...                   ...              ...   ...   \n",
       "T00000000080      70599064            012120-822          3126691  None   \n",
       "T00000000081      70599064            012120-823          3126712  None   \n",
       "T00000000085      70599064            012120-831          3127112  None   \n",
       "T00000000092      70579891            012120-828          3127033  None   \n",
       "T00000000093      70225118            012120-830          3127154  None   \n",
       "\n",
       "                                  company_name product_number  \n",
       "tracking_number                                                \n",
       "T00000000001                      ULTRA Italia   CUS-00002438  \n",
       "T00000000002                         Analytech   CUS-00002441  \n",
       "T00000000003                      ULTRA Italia   CUS-00002440  \n",
       "T00000000004      Orange County Water District   CUS-00002442  \n",
       "T00000000005                      ULTRA Italia   CUS-00002443  \n",
       "...                                        ...            ...  \n",
       "T00000000080                      ULTRA Italia   ICUS-0000984  \n",
       "T00000000081                      ULTRA Italia   ICUS-0000985  \n",
       "T00000000085                      ULTRA Italia   ICUS-0000986  \n",
       "T00000000092     Koppers Performance Chemicals   ICUS-0000304  \n",
       "T00000000093                    Alcon Couvreur   CUS-00002485  \n",
       "\n",
       "[69 rows x 15 columns]"
      ]
     },
     "execution_count": 15,
     "metadata": {},
     "output_type": "execute_result"
    }
   ],
   "source": [
    "sent_df"
   ]
  },
  {
   "cell_type": "code",
   "execution_count": 16,
   "metadata": {},
   "outputs": [],
   "source": [
    "the_tracking_number_str = \"T00000000065\""
   ]
  },
  {
   "cell_type": "code",
   "execution_count": 32,
   "metadata": {},
   "outputs": [
    {
     "name": "stdout",
     "output_type": "stream",
     "text": [
      "2020-01-21 08:37:30.956994\n"
     ]
    }
   ],
   "source": [
    "# CLOSING TIME~\n",
    "# sent_df.loc[['T00000000060', 'T00000000065']]\n",
    "closing_time = sent_df['close_time'].loc[the_tracking_number_str]\n",
    "print(closing_time)"
   ]
  },
  {
   "cell_type": "markdown",
   "metadata": {},
   "source": [
    "### *if `turn_around` has not been computed yet...*\n",
    "\n",
    "Loop thru...\n",
    "\n",
    "Calculate `turn_around` time...\n",
    "\n",
    "call `execute_db_query` **ONLY** to update *those* records"
   ]
  },
  {
   "cell_type": "code",
   "execution_count": 35,
   "metadata": {},
   "outputs": [
    {
     "name": "stdout",
     "output_type": "stream",
     "text": [
      "tracking_number == T00000000003\n",
      "closing_time == 2020-01-14 11:55:00.000000\n",
      "\n",
      "tracking_number == T00000000004\n",
      "closing_time == 2020-01-14 12:48:00.000000\n",
      "\n"
     ]
    }
   ],
   "source": [
    "# counter\n",
    "x = 0\n",
    "while x < len(need_timestamps): # {\n",
    "    # print(need_timestamps.iloc[x, 0])\n",
    "    print(\"tracking_number == \" + str(need_timestamps.index[x]))\n",
    "    # DETERMINE ORIGINAL CLOSING TIME\n",
    "    og_closing_time = sent_df['close_time'].loc[str(need_timestamps.index[x])]\n",
    "    print(\"closing_time == \" + str(og_closing_time) + \"\\n\")\n",
    "    x += 1\n",
    "#}"
   ]
  },
  {
   "cell_type": "markdown",
   "metadata": {},
   "source": [
    "---\n",
    "\n",
    "## OLD IS BELOW"
   ]
  },
  {
   "cell_type": "code",
   "execution_count": 24,
   "metadata": {},
   "outputs": [
    {
     "name": "stdout",
     "output_type": "stream",
     "text": [
      "===========\n",
      "T00000000003 True 2020-01-14 11:31:59.582988 2020-01-14 11:55:00.000000 None\n",
      "TIME START == 2020-01-14 11:31:59\n",
      "TIME END == 2020-01-21 10:51:11\n",
      "RUN TIME == 6 days 23:19:12.29\n",
      "===========\n",
      "\n",
      "===========\n",
      "T00000000004 True 2020-01-14 11:46:15.654761 2020-01-14 12:48:00.000000 None\n",
      "TIME START == 2020-01-14 11:46:15\n",
      "TIME END == 2020-01-21 10:51:11\n",
      "RUN TIME == 6 days 23:04:56.22\n",
      "===========\n",
      "\n"
     ]
    }
   ],
   "source": [
    "# counter \n",
    "x = 0\n",
    "# WHILE WE ARE STILL LOOPING THRU DATAFRAME...\n",
    "while x < len(need_timestamps): # {\n",
    "    print(\"===========\")\n",
    "    tracking_number = str(need_timestamps.iloc[x, 0])\n",
    "    name = str(need_timestamps.iloc[x, 1])\n",
    "    email = str(need_timestamps.iloc[x, 2])\n",
    "    type_ = str(need_timestamps.iloc[x, 3])\n",
    "    sent = str(need_timestamps.iloc[x, 4])\n",
    "    open_time = str(need_timestamps.iloc[x, 5])\n",
    "    close_time = str(need_timestamps.iloc[x, 6])\n",
    "    turn_around = str(need_timestamps.iloc[x, 7])\n",
    "    print(tracking_number, sent, open_time, close_time, turn_around)\n",
    "    ######################################\n",
    "    # create timestamp for meow\n",
    "    meow_ts = pd.Timestamp.now()\n",
    "    # COMPUTE TURN AROUND TIME\n",
    "    time_start = pd.Timestamp(open_time)\n",
    "    print(\"TIME START == \" + str(time_start)[:19])\n",
    "    print(\"TIME END == \" + str(meow_ts)[:19])\n",
    "    run_time = str(meow_ts - time_start)[:18]\n",
    "    print(\"RUN TIME == \" + str(run_time))\n",
    "    query = 'UPDATE quotes SET turn_around=? WHERE tracking_number=?'\n",
    "    parameters = (str(run_time), tracking_number)\n",
    "    ##############################################\n",
    "    # INCREMENT COUNTER\n",
    "    x += 1\n",
    "    print(\"===========\\n\")\n",
    "# }"
   ]
  },
  {
   "cell_type": "code",
   "execution_count": null,
   "metadata": {},
   "outputs": [],
   "source": [
    "test_str = 'update QUOTES' \\\n",
    "           'SET name=' + str(need_timestamps.iloc())"
   ]
  },
  {
   "cell_type": "raw",
   "metadata": {
    "raw_mimetype": "text/x-python"
   },
   "source": [
    "# select all cases where SENT is TRUE and TURN_AROUND is NONE\n",
    "SQL_Table[already_sent & recently_sent]"
   ]
  },
  {
   "cell_type": "code",
   "execution_count": null,
   "metadata": {},
   "outputs": [],
   "source": [
    "# FAKE QUERY AND SUBMIT?\n",
    "query = 'update QUOTES' \\\n",
    "        'SET name=?, email=?, '"
   ]
  },
  {
   "cell_type": "code",
   "execution_count": 25,
   "metadata": {},
   "outputs": [
    {
     "name": "stdout",
     "output_type": "stream",
     "text": [
      "LEN == 62\n",
      "62\n",
      "48\n",
      "48\n",
      "operation completed successfully..\n"
     ]
    }
   ],
   "source": [
    "# TRY THE FOLLOWING\n",
    "try: # {\n",
    "    length = len(SQL_Table)\n",
    "    print(\"LEN == \" + str(length))\n",
    "    # CREATING BOOL SERIES FROM isin()\n",
    "    all_sent = SQL_Table[\"sent\"].isin([\"True\"])\n",
    "    print(len(all_sent))\n",
    "    # SETTING DATA with \"sent\" = True < ONLY >\n",
    "    recently_sent = SQL_Table[\"turn_around\"].isin([\"None\"])\n",
    "    print(len(recently_sent))\n",
    "    # CREATE **ANOTHER** BOOL SERIES\n",
    "    # (ones without any TURN_AROUND)\n",
    "    newly_sent = all_sent[\"turn_around\"].isin([\"None\"])\n",
    "    print(len(newly_sent))\n",
    "    # }\n",
    "# }\n",
    "except: # {\n",
    "    errorMessage = str(sys.exc_info()[0]) + \"\\n\"\n",
    "    errorMessage = errorMessage + str(sys.exc_info()[1]) + \"\\n\"\n",
    "    errorMessage = errorMessage + str(sys.exc_info()[2]) + \"\\n\"\n",
    "    exc_type, exc_obj, exc_tb = sys.exc_info()\n",
    "    fname = os.path.split(exc_tb.tb_frame.f_code.co_filename)[1]\n",
    "    typeE = str(\"TYPE : \" + str(exc_type))\n",
    "    fileE = str(\"FILE : \" + str(fname))\n",
    "    lineE = str(\"LINE : \" + str(exc_tb.tb_lineno))\n",
    "    messageE = str(\"MESG : \" + \"\\n\" + str(errorMessage))\n",
    "    print(\"\\n\" + typeE +\n",
    "                  \"\\n\" + fileE +\n",
    "                  \"\\n\" + lineE +\n",
    "                  \"\\n\" + messageE)\n",
    "# }\n",
    "else: # {\n",
    "    print(\"operation completed successfully..\")\n",
    "# }"
   ]
  },
  {
   "cell_type": "raw",
   "metadata": {
    "raw_mimetype": "text/x-python"
   },
   "source": [
    "# CREATE CURSOR OFF CONN\n",
    "c = conn.cursor()"
   ]
  },
  {
   "cell_type": "code",
   "execution_count": null,
   "metadata": {},
   "outputs": [],
   "source": [
    "if __name__ == \"__main__\": # {\n",
    "    print(len(SQL_Table))\n",
    "# }"
   ]
  },
  {
   "cell_type": "raw",
   "metadata": {
    "raw_mimetype": "text/x-python"
   },
   "source": [
    "\"\"\"\n",
    "TAKES IN:\n",
    "(1) DataFrame\n",
    "RETURNS:\n",
    "(1) Corrected Dataframe\n",
    "\"\"\"\n",
    "def check_quote_completion(the_df): # {\n",
    "    # TRY THE FOLLOWING\n",
    "    try: # {\n",
    "        # LIST TO HOLD RESULTS\n",
    "        result = []\n",
    "        # FOR EACH ROW-ENTRY IN \"sent\" COLUMN\n",
    "        for value in the_df[\"sent\"]: # {\n",
    "            if bool(value) is False: # {\n",
    "                # append nothing\n",
    "                result.append(\"None\")\n",
    "            # }\n",
    "        # }\n",
    "        else: # {\n",
    "            # MAKE SURE \"turn_around\" IS ALSO EMPTY\n",
    "            if str(the_df[\"turn_around\"]) == \"None\": # {\n",
    "                # CREATE TIMESTAMP FOR \"meow\"\n",
    "                meow_ts = str(pd.Timestamp.now())[:19]\n",
    "                # APPEND TO RESULT\n",
    "                result.append(str(meow_ts))\n",
    "            # }\n",
    "            else: # {\n",
    "                print(\"\\n AND CALCULATED !\")\n",
    "            # }\n",
    "        # }\n",
    "        print(str(len(result)))\n",
    "        # OVERWRITE COLUMN?\n",
    "        the_df[\"turn_around\"] = result\n",
    "        print(the_df)\n",
    "    # }\n",
    "    except: # {\n",
    "        errorMessage = str(sys.exc_info()[0]) + \"\\n\"\n",
    "        errorMessage = errorMessage + str(sys.exc_info()[1]) + \"\\n\"\n",
    "        errorMessage = errorMessage + str(sys.exc_info()[2]) + \"\\n\"\n",
    "        exc_type, exc_obj, exc_tb = sys.exc_info()\n",
    "        fname = os.path.split(exc_tb.tb_frame.f_code.co_filename)[1]\n",
    "        typeE = str(\"TYPE : \" + str(exc_type))\n",
    "        fileE = str(\"FILE : \" + str(fname))\n",
    "        lineE = str(\"LINE : \" + str(exc_tb.tb_lineno))\n",
    "        messageE = str(\"MESG : \" + \"\\n\" + str(errorMessage))\n",
    "        print(\"\\n\" + typeE +\n",
    "                      \"\\n\" + fileE +\n",
    "                      \"\\n\" + lineE +\n",
    "                      \"\\n\" + messageE)\n",
    "    # }\n",
    "    else: # {\n",
    "        print(\"Operation Completed Successfully..\")\n",
    "        return the_df\n",
    "    # }\n",
    "# }"
   ]
  },
  {
   "cell_type": "raw",
   "metadata": {
    "raw_mimetype": "text/x-python"
   },
   "source": [
    "def check_quote_completion(the_df): # {\n",
    "    # TRY THE FOLLOWING\n",
    "    try: # {\n",
    "        # COLUMN TO HOLD RESULTS\n",
    "        result = []\n",
    "        for row in the_df.itertuples(): # {\n",
    "            print(\"\\n===============================\")\n",
    "            # print(len(row))\n",
    "            print(\"TRACKING NUM == \" + str(row[0]))\n",
    "            # print(row[0])\n",
    "            # print(row[1])\n",
    "            is_sent = str(row[4])\n",
    "            print(\"STR == \" + str(is_sent))\n",
    "            print(\"BOOL == \" + str(bool(is_sent)))\n",
    "            # CHECK CONDITIONS\n",
    "            if bool(is_sent) == True : # {\n",
    "                print(\"SENT.....\", end='\\t')\n",
    "                # CHECK IF THIS IS FIRST TIME IT WAS SWITCHED\n",
    "                if str(row[7]) == \"None\": # {\n",
    "                    print(\">>> NOT YET!\")\n",
    "                    # CREATE TIMESTAMP\n",
    "                    meow_ts = str(pd.Timestamp.now())[:19]\n",
    "                    # APPEND\n",
    "                    result.append(meow_ts)\n",
    "                # }\n",
    "                # ELSE.... IT WAS ALREADY SENT PREVIOUS\n",
    "                else: # {\n",
    "                    print(\">>> ALREADY!\")\n",
    "                    print(\">>> on >>> \" + str(row[6]))\n",
    "                    print(\">>> turn_around >>> \" + str(row[7]))\n",
    "                    # APPEND PREVIOUS TIMESTAMP\n",
    "                    result.append(str(row[7]))\n",
    "                # }\n",
    "            # }\n",
    "            else: # {\n",
    "                print(\"NOT EVEN SENT...!\")\n",
    "            # }\n",
    "        # }\n",
    "    # }\n",
    "    except: # {\n",
    "        errorMessage = str(sys.exc_info()[0]) + \"\\n\"\n",
    "        errorMessage = errorMessage + str(sys.exc_info()[1]) + \"\\n\"\n",
    "        errorMessage = errorMessage + str(sys.exc_info()[2]) + \"\\n\"\n",
    "        exc_type, exc_obj, exc_tb = sys.exc_info()\n",
    "        fname = os.path.split(exc_tb.tb_frame.f_code.co_filename)[1]\n",
    "        typeE = str(\"TYPE : \" + str(exc_type))\n",
    "        fileE = str(\"FILE : \" + str(fname))\n",
    "        lineE = str(\"LINE : \" + str(exc_tb.tb_lineno))\n",
    "        messageE = str(\"MESG : \" + \"\\n\" + str(errorMessage))\n",
    "        print(\"\\n\" + typeE +\n",
    "              \"\\n\" + fileE +\n",
    "              \"\\n\" + lineE +\n",
    "              \"\\n\" + messageE)\n",
    "    # }\n",
    "    else: # {\n",
    "        print(\"Operation Completed Successfuly...\")\n",
    "    # }\n",
    "# }"
   ]
  },
  {
   "cell_type": "raw",
   "metadata": {
    "raw_mimetype": "text/x-python"
   },
   "source": [
    "SQL_Table.to_csv(\"SQL_Table.csv\")"
   ]
  }
 ],
 "metadata": {
  "celltoolbar": "Raw Cell Format",
  "kernelspec": {
   "display_name": "Python 3",
   "language": "python",
   "name": "python3"
  },
  "language_info": {
   "codemirror_mode": {
    "name": "ipython",
    "version": 3
   },
   "file_extension": ".py",
   "mimetype": "text/x-python",
   "name": "python",
   "nbconvert_exporter": "python",
   "pygments_lexer": "ipython3",
   "version": "3.7.0"
  }
 },
 "nbformat": 4,
 "nbformat_minor": 2
}
