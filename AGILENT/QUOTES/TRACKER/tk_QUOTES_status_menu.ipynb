{
 "cells": [
  {
   "cell_type": "code",
   "execution_count": null,
   "metadata": {},
   "outputs": [],
   "source": [
    "import tkinter as tk\n",
    "\n",
    "class TestMenu(): # {\n",
    "    def __init__(self, master): # {\n",
    "        self.master = master\n",
    "        self.menubar = tk.Menu(self.master)\n",
    "\n",
    "\n",
    "        self.casmenu = tk.Menu(self.menubar)\n",
    "        self.casmenu.choices = tk.Menu(self.casmenu)\n",
    "        \n",
    "        self.casmenu.choices.wierdones = tk.Menu(self.casmenu.choices)\n",
    "        self.casmenu.choices.wierdones.add_command(label='AWAITING CUSTOMER REVIEW')\n",
    "        self.casmenu.choices.wierdones.add_command(label='AWAITING TECHNICAL REVIEW')\n",
    "        self.casmenu.choices.wierdones.add_command(label='FOC')\n",
    "        self.casmenu.choices.wierdones.add_command(label='IN PROCESS...')\n",
    "        self.casmenu.choices.wierdones.add_command(label='SENT')\n",
    "        self.casmenu.choices.wierdones.add_command(label='VOID')\n",
    "        \n",
    "        # [2020-03-19]\\\\self.casmenu.choices.add_command(label='T-Pickle (admin)')\n",
    "        # [2020-03-19]\\\\self.casmenu.choices.add_command(label='ALL RECORDS')\n",
    "        # [2020-03-19]\\\\self.casmenu.choices.add_command(label='C')\n",
    "        # [2020-03-19]\\\\self.casmenu.choices.add_command(label='D')\n",
    "        # [2020-03-19]\\\\self.casmenu.choices.add_command(label='E')\n",
    "        self.casmenu.choices.add_command(label='Previous Status')\n",
    "        self.casmenu.choices.add_cascade(label='Toggle Status', \n",
    "                                         menu=self.casmenu.choices.wierdones)\n",
    "        \n",
    "        self.casmenu.add_command(label='T-Pickle (admin)')\n",
    "        \n",
    "        self.casmenu.add_command(label=\"REFRESH TABLE\")\n",
    "        \n",
    "        self.casmenu.add_command(label='Previous Status')\n",
    "        \n",
    "        self.casmenu.add_cascade(label='Status',\n",
    "                                 menu=self.casmenu.choices)\n",
    "\n",
    "        self.unused = tk.Menu(self.menubar)\n",
    "        \n",
    "        self.menubar.add_cascade(label=\"View\",\n",
    "                                 menu=self.casmenu)\n",
    "        \n",
    "        self.top = tk.Toplevel(menu=self.menubar, width=500, relief=tk.RAISED,\n",
    "                            borderwidth=2)\n",
    "    # }\n",
    "# }\n",
    "\n",
    "def main(): # {\n",
    "    root = tk.Tk()\n",
    "    root.title('Agilent Customs Quotes Request Log')\n",
    "    root.withdraw()\n",
    "    app = TestMenu(root)\n",
    "    root.mainloop()\n",
    "# }\n",
    "\n",
    "if __name__ == '__main__': # {\n",
    "    main()\n",
    "# "
   ]
  },
  {
   "cell_type": "code",
   "execution_count": null,
   "metadata": {},
   "outputs": [],
   "source": []
  },
  {
   "cell_type": "code",
   "execution_count": null,
   "metadata": {},
   "outputs": [],
   "source": []
  }
 ],
 "metadata": {
  "kernelspec": {
   "display_name": "Python 3",
   "language": "python",
   "name": "python3"
  },
  "language_info": {
   "codemirror_mode": {
    "name": "ipython",
    "version": 3
   },
   "file_extension": ".py",
   "mimetype": "text/x-python",
   "name": "python",
   "nbconvert_exporter": "python",
   "pygments_lexer": "ipython3",
   "version": "3.7.0"
  }
 },
 "nbformat": 4,
 "nbformat_minor": 4
}
