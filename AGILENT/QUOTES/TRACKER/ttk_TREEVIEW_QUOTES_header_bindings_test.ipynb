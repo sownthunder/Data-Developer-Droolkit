{
 "cells": [
  {
   "cell_type": "code",
   "execution_count": 1,
   "metadata": {
    "ExecuteTime": {
     "end_time": "2020-02-04T19:33:43.965908Z",
     "start_time": "2020-02-04T19:33:43.861909Z"
    }
   },
   "outputs": [],
   "source": [
    "import os, sys, time\n",
    "from time import sleep\n",
    "import pathlib, fnmatch\n",
    "from pathlib import Path\n",
    "import tkinter as tk\n",
    "from tkinter import ttk"
   ]
  },
  {
   "cell_type": "markdown",
   "metadata": {},
   "source": [
    "---\n",
    "\n",
    "### *TREEVIEW WIDGET EVENTS:*"
   ]
  },
  {
   "cell_type": "code",
   "execution_count": 2,
   "metadata": {
    "ExecuteTime": {
     "end_time": "2020-02-04T19:33:43.974909Z",
     "start_time": "2020-02-04T19:33:43.969907Z"
    }
   },
   "outputs": [],
   "source": [
    "def test_callback(): # {\n",
    "    print(\"AYOOO\")\n",
    "     # [2020-01-15]\\\\print(str(event))\n",
    "# }"
   ]
  },
  {
   "cell_type": "code",
   "execution_count": 3,
   "metadata": {
    "ExecuteTime": {
     "end_time": "2020-02-04T19:33:43.990908Z",
     "start_time": "2020-02-04T19:33:43.978908Z"
    }
   },
   "outputs": [],
   "source": [
    "def on_single_click(event): # {\n",
    "    # PRINT COLUMN OPTIONS\n",
    "    print(\"DISPLAY COLUMN OPTIONS:\\t\" + str(event.widget.column(\"one\")))\n",
    "    # PRINT CHILDREN\n",
    "    print(\"DISPLAY COLUMN CHILDREN;\\t\" + str(event.widget.get_children()))\n",
    "    # CHANGE THE WIDTH ?? \n",
    "    event.widget.column(column=\"#0\", width=20)\n",
    "    event.widget.column(column=\"#1\", width=50)\n",
    "    event.widget.column(column=\"#2\", width=25)\n",
    "    # CHANGE THE HEADING OF THE COLUMN ??\n",
    "    event.widget.heading(column=\"#0\", text=\"NEW TEXT\", command=test_callback)\n",
    "    # change X VIEW?\n",
    "    event.widget.xview(column=\"#0\")\n",
    "    # Y-VIEW?\n",
    "    event.widget.yview()\n",
    "    # INSERT NEW NODE INTO TREE?\n",
    "    #event.widget.insert()\n",
    "# }"
   ]
  },
  {
   "cell_type": "code",
   "execution_count": 4,
   "metadata": {
    "ExecuteTime": {
     "end_time": "2020-02-04T19:33:44.000909Z",
     "start_time": "2020-02-04T19:33:43.994908Z"
    }
   },
   "outputs": [],
   "source": [
    "def on_treeview_open(event): # {\n",
    "    print(str(event.widget.identify_region(x=0, y=4)))\n",
    "    print(str(event.widget.identify_region(x=0, y=1)))\n",
    "    print(str(event.widget.identify_region(x=2, y=4)))\n",
    "#}"
   ]
  },
  {
   "cell_type": "code",
   "execution_count": 5,
   "metadata": {
    "ExecuteTime": {
     "end_time": "2020-02-04T19:33:44.010905Z",
     "start_time": "2020-02-04T19:33:44.003910Z"
    }
   },
   "outputs": [],
   "source": [
    "def display_columns(event): # {\n",
    "    event.widget.displaycolumns()\n",
    "# }"
   ]
  },
  {
   "cell_type": "markdown",
   "metadata": {},
   "source": [
    "---\n",
    "\n",
    "### MAIN"
   ]
  },
  {
   "cell_type": "code",
   "execution_count": 6,
   "metadata": {
    "ExecuteTime": {
     "end_time": "2020-02-04T19:33:44.025908Z",
     "start_time": "2020-02-04T19:33:44.012909Z"
    }
   },
   "outputs": [],
   "source": [
    "def main(): # {\n",
    "    # RE-INSTANTIATE GLOBALS\n",
    "    global root\n",
    "    # CREATE TREE VIEW\n",
    "    treeview = ttk.Treeview(master=root)\n",
    "    \n",
    "    treeview[\"columns\"]=(\"one\",\"two\")\n",
    "    treeview.column(\"one\", width=100 )\n",
    "    treeview.column(\"two\", width=100)\n",
    "    treeview.heading(\"one\", text=\"coulmn A\")\n",
    "    treeview.heading(\"two\", text=\"column B\")\n",
    "    \n",
    "    treeview.insert(\"\" , 0,    text=\"Line 1\", values=(\"1A\",\"1b\"))\n",
    "    treeview.insert(\"\" , 0, text= \"Line 2\", values=(\"\"))\n",
    "    \n",
    "    id2 = treeview.insert(\"\", 1, \"dir2\", text=\"Dir 2\")\n",
    "    treeview.insert(id2, \"end\", \"dir 2\", text=\"sub dir 2\", values=(\"2A\",\"2B\"))\n",
    "    \n",
    "    ##alternatively:\n",
    "    treeview.insert(\"\", 3, \"dir3\", text=\"Dir 3\")\n",
    "    treeview.insert(\"dir3\", 3, text=\" sub dir 3\",values=(\"3A\",\" 3B\"))\n",
    "    \n",
    "    ##################################################################\n",
    "    # BIND ACTION TO treeviewVIEW\n",
    "    treeview.bind(\"<<TreeviewOpen>>\", on_treeview_open)\n",
    "    treeview.bind(\"<<TreeviewSelect>>\", on_single_click)\n",
    "    #################################################################\n",
    "    \n",
    "    # PACK\n",
    "    treeview.pack(side=tk.TOP, fill=tk.BOTH, expand=True)\n",
    "    \n",
    "    # TTK BUTTON\n",
    "    submit_button=ttk.Button(master=root, text=\"test button\").pack(side=tk.LEFT, fill=tk.BOTH, expand=False)\n",
    "    # [2020-01-16]\\\\submit_button.bind(\"<Enter>\", test_callback)\n",
    "    \n",
    "    root.mainloop()\n",
    "# }"
   ]
  },
  {
   "cell_type": "code",
   "execution_count": 7,
   "metadata": {
    "ExecuteTime": {
     "end_time": "2020-02-04T19:33:54.314791Z",
     "start_time": "2020-02-04T19:33:44.027907Z"
    }
   },
   "outputs": [
    {
     "name": "stdout",
     "output_type": "stream",
     "text": [
      "nothing\n",
      "nothing\n",
      "heading\n",
      "DISPLAY COLUMN OPTIONS:\t{'width': 216, 'minwidth': 20, 'stretch': 1, 'anchor': 'w', 'id': 'one'}\n",
      "DISPLAY COLUMN CHILDREN;\t('I002', 'dir2', 'I001', 'dir3')\n"
     ]
    },
    {
     "name": "stderr",
     "output_type": "stream",
     "text": [
      "Exception in Tkinter callback\n",
      "Traceback (most recent call last):\n",
      "  File \"C:\\Users\\derbates\\miniconda3\\envs\\py3\\lib\\tkinter\\__init__.py\", line 1702, in __call__\n",
      "    return self.func(*args)\n",
      "  File \"<ipython-input-3-6a3299f0f2a4>\", line 13, in on_single_click\n",
      "    event.widget.xview(column=\"#0\")\n",
      "TypeError: xview() got an unexpected keyword argument 'column'\n"
     ]
    },
    {
     "name": "stdout",
     "output_type": "stream",
     "text": [
      "AYOOO\n",
      "AYOOO\n",
      "AYOOO\n",
      "nothing\n",
      "nothing\n",
      "heading\n",
      "DISPLAY COLUMN OPTIONS:\t{'width': 50, 'minwidth': 20, 'stretch': 1, 'anchor': 'w', 'id': 'one'}\n",
      "DISPLAY COLUMN CHILDREN;\t('I002', 'dir2', 'I001', 'dir3')\n"
     ]
    },
    {
     "name": "stderr",
     "output_type": "stream",
     "text": [
      "Exception in Tkinter callback\n",
      "Traceback (most recent call last):\n",
      "  File \"C:\\Users\\derbates\\miniconda3\\envs\\py3\\lib\\tkinter\\__init__.py\", line 1702, in __call__\n",
      "    return self.func(*args)\n",
      "  File \"<ipython-input-3-6a3299f0f2a4>\", line 13, in on_single_click\n",
      "    event.widget.xview(column=\"#0\")\n",
      "TypeError: xview() got an unexpected keyword argument 'column'\n"
     ]
    },
    {
     "name": "stdout",
     "output_type": "stream",
     "text": [
      "AYOOO\n",
      "AYOOO\n"
     ]
    }
   ],
   "source": [
    "if __name__ == \"__main__\": # {\n",
    "    # INSTANTIATE GLOBAL VARIABLES\n",
    "    root = tk.Tk()\n",
    "    root.title(\"test treeview\")\n",
    "    root.geometry('750x175+150+150')\n",
    "    main()\n",
    "# }"
   ]
  },
  {
   "cell_type": "code",
   "execution_count": null,
   "metadata": {},
   "outputs": [],
   "source": []
  },
  {
   "cell_type": "code",
   "execution_count": null,
   "metadata": {},
   "outputs": [],
   "source": []
  }
 ],
 "metadata": {
  "kernelspec": {
   "display_name": "Python 3",
   "language": "python",
   "name": "python3"
  },
  "language_info": {
   "codemirror_mode": {
    "name": "ipython",
    "version": 3
   },
   "file_extension": ".py",
   "mimetype": "text/x-python",
   "name": "python",
   "nbconvert_exporter": "python",
   "pygments_lexer": "ipython3",
   "version": "3.7.0"
  },
  "toc": {
   "base_numbering": 1,
   "nav_menu": {},
   "number_sections": true,
   "sideBar": true,
   "skip_h1_title": false,
   "title_cell": "Table of Contents",
   "title_sidebar": "Contents",
   "toc_cell": false,
   "toc_position": {},
   "toc_section_display": true,
   "toc_window_display": false
  },
  "varInspector": {
   "cols": {
    "lenName": 16,
    "lenType": 16,
    "lenVar": 40
   },
   "kernels_config": {
    "python": {
     "delete_cmd_postfix": "",
     "delete_cmd_prefix": "del ",
     "library": "var_list.py",
     "varRefreshCmd": "print(var_dic_list())"
    },
    "r": {
     "delete_cmd_postfix": ") ",
     "delete_cmd_prefix": "rm(",
     "library": "var_list.r",
     "varRefreshCmd": "cat(var_dic_list()) "
    }
   },
   "types_to_exclude": [
    "module",
    "function",
    "builtin_function_or_method",
    "instance",
    "_Feature"
   ],
   "window_display": false
  }
 },
 "nbformat": 4,
 "nbformat_minor": 2
}
