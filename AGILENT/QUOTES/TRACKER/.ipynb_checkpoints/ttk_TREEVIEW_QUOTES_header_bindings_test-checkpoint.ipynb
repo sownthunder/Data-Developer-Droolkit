{
 "cells": [
  {
   "cell_type": "code",
   "execution_count": 1,
   "metadata": {},
   "outputs": [],
   "source": [
    "import os, sys, time\n",
    "from time import sleep\n",
    "import pathlib, fnmatch\n",
    "from pathlib import Path\n",
    "import tkinter as tk\n",
    "from tkinter import ttk"
   ]
  },
  {
   "cell_type": "markdown",
   "metadata": {},
   "source": [
    "---\n",
    "\n",
    "### *TREEVIEW WIDGET EVENTS:*"
   ]
  },
  {
   "cell_type": "code",
   "execution_count": 2,
   "metadata": {},
   "outputs": [],
   "source": [
    "def test_callback(): # {\n",
    "    print(\"AYOOO\")\n",
    "     # [2020-01-15]\\\\print(str(event))\n",
    "# }"
   ]
  },
  {
   "cell_type": "code",
   "execution_count": 3,
   "metadata": {},
   "outputs": [],
   "source": [
    "def on_single_click(event): # {\n",
    "    # PRINT COLUMN OPTIONS\n",
    "    print(\"DISPLAY COLUMN OPTIONS:\\t\" + str(event.widget.column(\"one\")))\n",
    "    # PRINT CHILDREN\n",
    "    print(\"DISPLAY COLUMN CHILDREN;\\t\" + str(event.widget.get_children()))\n",
    "    # CHANGE THE WIDTH ?? \n",
    "    event.widget.column(column=\"#0\", width=20)\n",
    "    event.widget.column(column=\"#1\", width=50)\n",
    "    event.widget.column(column=\"#2\", width=25)\n",
    "    # CHANGE THE HEADING OF THE COLUMN ??\n",
    "    event.widget.heading(column=\"#0\", text=\"NEW TEXT\", command=test_callback)\n",
    "    # X-VIEW?\n",
    "    event.widget.xview()\n",
    "    # INSERT NEW NODE INTO TREE?\n",
    "    #event.widget.insert()\n",
    "# }"
   ]
  },
  {
   "cell_type": "code",
   "execution_count": 4,
   "metadata": {},
   "outputs": [],
   "source": [
    "def on_treeview_open(event): # {\n",
    "    print(str(event.widget.identify_region(x=0, y=4)))\n",
    "    print(str(event.widget.identify_region(x=0, y=1)))\n",
    "    print(str(event.widget.identify_region(x=2, y=4)))\n",
    "#}"
   ]
  },
  {
   "cell_type": "code",
   "execution_count": 5,
   "metadata": {},
   "outputs": [],
   "source": [
    "def display_columns(event): # {\n",
    "    event.widget.displaycolumns()\n",
    "# }"
   ]
  },
  {
   "cell_type": "markdown",
   "metadata": {},
   "source": [
    "---\n",
    "\n",
    "### MAIN"
   ]
  },
  {
   "cell_type": "code",
   "execution_count": 6,
   "metadata": {},
   "outputs": [],
   "source": [
    "def main(): # {\n",
    "    # RE-INSTANTIATE GLOBALS\n",
    "    global root\n",
    "    # CREATE TREE VIEW\n",
    "    treeview = ttk.Treeview(master=root)\n",
    "    \n",
    "    treeview[\"columns\"]=(\"one\",\"two\")\n",
    "    treeview.column(\"one\", width=100 )\n",
    "    treeview.column(\"two\", width=100)\n",
    "    treeview.heading(\"one\", text=\"coulmn A\")\n",
    "    treeview.heading(\"two\", text=\"column B\")\n",
    "    \n",
    "    treeview.insert(\"\" , 0,    text=\"Line 1\", values=(\"1A\",\"1b\"))\n",
    "    treeview.insert(\"\" , 0, text= \"Line 2\", values=(\"\"))\n",
    "    \n",
    "    id2 = treeview.insert(\"\", 1, \"dir2\", text=\"Dir 2\")\n",
    "    treeview.insert(id2, \"end\", \"dir 2\", text=\"sub dir 2\", values=(\"2A\",\"2B\"))\n",
    "    \n",
    "    ##alternatively:\n",
    "    treeview.insert(\"\", 3, \"dir3\", text=\"Dir 3\")\n",
    "    treeview.insert(\"dir3\", 3, text=\" sub dir 3\",values=(\"3A\",\" 3B\"))\n",
    "    \n",
    "    ##################################################################\n",
    "    # BIND ACTION TO treeviewVIEW\n",
    "    treeview.bind(\"<<TreeviewOpen>>\", on_treeview_open)\n",
    "    treeview.bind(\"<<TreeviewSelect>>\", on_single_click)\n",
    "    #################################################################\n",
    "    \n",
    "    # PACK\n",
    "    treeview.pack(side=tk.TOP, fill=tk.BOTH, expand=True)\n",
    "    \n",
    "    # TTK BUTTON\n",
    "    submit_button=ttk.Button(master=root, text=\"test button\").pack(side=tk.LEFT, fill=tk.BOTH, expand=False)\n",
    "    # [2020-01-16]\\\\submit_button.bind(\"<Enter>\", test_callback)\n",
    "    \n",
    "    root.mainloop()\n",
    "# }"
   ]
  },
  {
   "cell_type": "code",
   "execution_count": 7,
   "metadata": {},
   "outputs": [
    {
     "name": "stdout",
     "output_type": "stream",
     "text": [
      "DISPLAY COLUMN OPTIONS:\t{'width': 216, 'minwidth': 20, 'stretch': 1, 'anchor': 'w', 'id': 'one'}\n",
      "DISPLAY COLUMN CHILDREN;\t('I002', 'dir2', 'I001', 'dir3')\n",
      "nothing\n",
      "nothing\n",
      "heading\n",
      "DISPLAY COLUMN OPTIONS:\t{'width': 50, 'minwidth': 20, 'stretch': 1, 'anchor': 'w', 'id': 'one'}\n",
      "DISPLAY COLUMN CHILDREN;\t('I002', 'dir2', 'I001', 'dir3')\n",
      "AYOOO\n",
      "AYOOO\n",
      "AYOOO\n",
      "AYOOO\n",
      "AYOOO\n",
      "AYOOO\n",
      "AYOOO\n",
      "AYOOO\n",
      "AYOOO\n",
      "AYOOO\n",
      "AYOOO\n",
      "AYOOO\n",
      "AYOOO\n",
      "nothing\n",
      "nothing\n",
      "heading\n",
      "DISPLAY COLUMN OPTIONS:\t{'width': 125, 'minwidth': 20, 'stretch': 1, 'anchor': 'w', 'id': 'one'}\n",
      "DISPLAY COLUMN CHILDREN;\t('I002', 'dir2', 'I001', 'dir3')\n",
      "DISPLAY COLUMN OPTIONS:\t{'width': 50, 'minwidth': 20, 'stretch': 1, 'anchor': 'w', 'id': 'one'}\n",
      "DISPLAY COLUMN CHILDREN;\t('I002', 'dir2', 'I001', 'dir3')\n",
      "nothing\n",
      "nothing\n",
      "heading\n",
      "DISPLAY COLUMN OPTIONS:\t{'width': 50, 'minwidth': 20, 'stretch': 1, 'anchor': 'w', 'id': 'one'}\n",
      "DISPLAY COLUMN CHILDREN;\t('I002', 'dir2', 'I001', 'dir3')\n"
     ]
    }
   ],
   "source": [
    "if __name__ == \"__main__\": # {\n",
    "    # INSTANTIATE GLOBAL VARIABLES\n",
    "    root = tk.Tk()\n",
    "    root.title(\"test treeview\")\n",
    "    root.geometry('750x175+150+150')\n",
    "    main()\n",
    "# }"
   ]
  },
  {
   "cell_type": "code",
   "execution_count": null,
   "metadata": {},
   "outputs": [],
   "source": []
  },
  {
   "cell_type": "code",
   "execution_count": null,
   "metadata": {},
   "outputs": [],
   "source": []
  }
 ],
 "metadata": {
  "kernelspec": {
   "display_name": "Python 3",
   "language": "python",
   "name": "python3"
  },
  "language_info": {
   "codemirror_mode": {
    "name": "ipython",
    "version": 3
   },
   "file_extension": ".py",
   "mimetype": "text/x-python",
   "name": "python",
   "nbconvert_exporter": "python",
   "pygments_lexer": "ipython3",
   "version": "3.7.0"
  }
 },
 "nbformat": 4,
 "nbformat_minor": 2
}
