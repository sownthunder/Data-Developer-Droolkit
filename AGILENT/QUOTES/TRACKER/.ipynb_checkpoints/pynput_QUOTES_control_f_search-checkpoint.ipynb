{
 "cells": [
  {
   "cell_type": "code",
   "execution_count": 1,
   "metadata": {
    "ExecuteTime": {
     "end_time": "2020-01-31T17:10:29.880495Z",
     "start_time": "2020-01-31T17:10:29.877494Z"
    }
   },
   "outputs": [],
   "source": [
    "import os, sys, time\n",
    "from time import sleep\n",
    "from pynput import keyboard"
   ]
  },
  {
   "cell_type": "code",
   "execution_count": 2,
   "metadata": {
    "ExecuteTime": {
     "end_time": "2020-01-31T17:12:16.290377Z",
     "start_time": "2020-01-31T17:12:16.284347Z"
    }
   },
   "outputs": [],
   "source": [
    "def on_press(key): # {\n",
    "    # TRY THE FOLLOWING\n",
    "    try: # {\n",
    "        print('alphanumeric key {0} pressed'.format(\n",
    "        key.char))\n",
    "    # }\n",
    "    except AttributeError: # {\n",
    "        print('special key {0} pressed'.format(\n",
    "            key))\n",
    "    # }\n",
    "# }"
   ]
  },
  {
   "cell_type": "code",
   "execution_count": 3,
   "metadata": {
    "ExecuteTime": {
     "end_time": "2020-01-31T17:13:03.264471Z",
     "start_time": "2020-01-31T17:13:03.261319Z"
    }
   },
   "outputs": [],
   "source": [
    "def on_release(key): # {\n",
    "    print('{0} released'.format(\n",
    "        key))\n",
    "    if key == keyboard.Key.esc: # {\n",
    "        # Stop listener\n",
    "        return False\n",
    "    # }\n",
    "# }"
   ]
  },
  {
   "cell_type": "code",
   "execution_count": null,
   "metadata": {
    "ExecuteTime": {
     "start_time": "2020-01-31T17:13:42.826Z"
    }
   },
   "outputs": [
    {
     "name": "stdout",
     "output_type": "stream",
     "text": [
      "Key.shift_r released\n",
      "Key.enter released\n",
      "alphanumeric key L pressed\n",
      "'L' released\n",
      "special key Key.ctrl_l pressed\n",
      "Key.ctrl_l released\n",
      "special key Key.ctrl_l pressed\n",
      "alphanumeric key F pressed\n",
      "Key.ctrl_l released\n",
      "'F' released\n",
      "special key Key.ctrl_l pressed\n",
      "Key.ctrl_l released\n",
      "special key Key.ctrl_l pressed\n",
      "special key Key.ctrl_l pressed\n",
      "special key Key.ctrl_l pressed\n",
      "special key Key.ctrl_l pressed\n",
      "special key Key.ctrl_l pressed\n",
      "special key Key.ctrl_l pressed\n",
      "special key Key.ctrl_l pressed\n",
      "special key Key.ctrl_l pressed\n",
      "special key Key.ctrl_l pressed\n",
      "special key Key.ctrl_l pressed\n",
      "special key Key.ctrl_l pressed\n",
      "special key Key.ctrl_l pressed\n",
      "special key Key.ctrl_l pressed\n",
      "special key Key.ctrl_l pressed\n",
      "special key Key.ctrl_l pressed\n",
      "special key Key.ctrl_l pressed\n",
      "special key Key.ctrl_l pressed\n",
      "special key Key.ctrl_l pressed\n",
      "special key Key.ctrl_l pressed\n",
      "special key Key.ctrl_l pressed\n",
      "special key Key.ctrl_l pressed\n",
      "special key Key.ctrl_l pressed\n",
      "special key Key.ctrl_l pressed\n",
      "special key Key.ctrl_l pressed\n",
      "special key Key.ctrl_l pressed\n",
      "Key.ctrl_l released\n",
      "special key Key.ctrl_l pressed\n",
      "Key.ctrl_l released\n",
      "special key Key.ctrl_l pressed\n",
      "alphanumeric key F pressed\n",
      "alphanumeric key F pressed\n",
      "alphanumeric key F pressed\n",
      "alphanumeric key F pressed\n",
      "alphanumeric key F pressed\n",
      "alphanumeric key F pressed\n",
      "alphanumeric key F pressed\n",
      "alphanumeric key F pressed\n",
      "alphanumeric key F pressed\n",
      "alphanumeric key F pressed\n",
      "alphanumeric key F pressed\n",
      "alphanumeric key F pressed\n",
      "alphanumeric key F pressed\n",
      "alphanumeric key F pressed\n",
      "alphanumeric key F pressed\n",
      "alphanumeric key F pressed\n",
      "alphanumeric key F pressed\n",
      "alphanumeric key F pressed\n",
      "'F' released\n",
      "Key.ctrl_l released\n",
      "alphanumeric key F pressed\n",
      "'F' released\n",
      "special key Key.ctrl_l pressed\n",
      "alphanumeric key F pressed\n",
      "'F' released\n",
      "Key.ctrl_l released\n"
     ]
    }
   ],
   "source": [
    "# Collect events until released\n",
    "with keyboard.Listener(\n",
    "    on_press=on_press,\n",
    "    on_release=on_release) as listener:\n",
    "    listener.join()\n",
    "    # ...or, in a non-blocking fashion:\n",
    "    listener = keyboard.Listener(\n",
    "        on_press=on_press,\n",
    "        on_release=on_release)\n",
    "    listener.start()"
   ]
  },
  {
   "cell_type": "code",
   "execution_count": null,
   "metadata": {},
   "outputs": [],
   "source": []
  }
 ],
 "metadata": {
  "kernelspec": {
   "display_name": "Python 3",
   "language": "python",
   "name": "python3"
  },
  "language_info": {
   "codemirror_mode": {
    "name": "ipython",
    "version": 3
   },
   "file_extension": ".py",
   "mimetype": "text/x-python",
   "name": "python",
   "nbconvert_exporter": "python",
   "pygments_lexer": "ipython3",
   "version": "3.7.0"
  },
  "toc": {
   "base_numbering": 1,
   "nav_menu": {},
   "number_sections": true,
   "sideBar": true,
   "skip_h1_title": false,
   "title_cell": "Table of Contents",
   "title_sidebar": "Contents",
   "toc_cell": false,
   "toc_position": {},
   "toc_section_display": true,
   "toc_window_display": false
  },
  "varInspector": {
   "cols": {
    "lenName": 16,
    "lenType": 16,
    "lenVar": 40
   },
   "kernels_config": {
    "python": {
     "delete_cmd_postfix": "",
     "delete_cmd_prefix": "del ",
     "library": "var_list.py",
     "varRefreshCmd": "print(var_dic_list())"
    },
    "r": {
     "delete_cmd_postfix": ") ",
     "delete_cmd_prefix": "rm(",
     "library": "var_list.r",
     "varRefreshCmd": "cat(var_dic_list()) "
    }
   },
   "types_to_exclude": [
    "module",
    "function",
    "builtin_function_or_method",
    "instance",
    "_Feature"
   ],
   "window_display": false
  }
 },
 "nbformat": 4,
 "nbformat_minor": 2
}
