{
 "cells": [
  {
   "cell_type": "code",
   "execution_count": 1,
   "metadata": {
    "ExecuteTime": {
     "end_time": "2020-01-29T16:03:46.593424Z",
     "start_time": "2020-01-29T16:03:46.530876Z"
    }
   },
   "outputs": [],
   "source": [
    "import os, sys, time\n",
    "from time import sleep\n",
    "import tkinter as tk\n",
    "import tkinter.ttk as ttk\n",
    "from tkinter import filedialog, messagebox"
   ]
  },
  {
   "cell_type": "code",
   "execution_count": 2,
   "metadata": {
    "ExecuteTime": {
     "end_time": "2020-01-29T16:03:46.600424Z",
     "start_time": "2020-01-29T16:03:46.595424Z"
    }
   },
   "outputs": [],
   "source": [
    "def clicked(event): # {\n",
    "    print(\"CLICKED!\")\n",
    "# }"
   ]
  },
  {
   "cell_type": "code",
   "execution_count": 3,
   "metadata": {
    "ExecuteTime": {
     "end_time": "2020-01-29T16:03:46.609425Z",
     "start_time": "2020-01-29T16:03:46.604424Z"
    }
   },
   "outputs": [],
   "source": [
    "def focused(event): # {\n",
    "    print(\"FOCUSSSS\")\n",
    "# }"
   ]
  },
  {
   "cell_type": "code",
   "execution_count": 4,
   "metadata": {
    "ExecuteTime": {
     "end_time": "2020-01-29T16:03:46.623429Z",
     "start_time": "2020-01-29T16:03:46.612424Z"
    }
   },
   "outputs": [],
   "source": [
    "def keyboard_return(event): # {\n",
    "    print(\"PRESSED ENTER ON KEYBAORD!\")\n",
    "# }"
   ]
  },
  {
   "cell_type": "raw",
   "metadata": {
    "ExecuteTime": {
     "end_time": "2020-01-29T16:04:48.340882Z",
     "start_time": "2020-01-29T16:04:48.329892Z"
    },
    "raw_mimetype": "text/x-python"
   },
   "source": [
    "def main(): # {\n",
    "    # RE-INSTANTIATE GLOBALS\n",
    "    global root\n",
    "    \n",
    "    \n",
    "    root.mainloop()\n",
    "# }"
   ]
  },
  {
   "cell_type": "code",
   "execution_count": 17,
   "metadata": {
    "ExecuteTime": {
     "end_time": "2020-01-29T16:08:42.238404Z",
     "start_time": "2020-01-29T16:08:22.141892Z"
    }
   },
   "outputs": [],
   "source": [
    "if __name__ == \"__main__\": # {\n",
    "    # INSTANTIATE GLOBAL VARIABLES\n",
    "    root = tk.Tk()\n",
    "    root.title(\"test focus\")\n",
    "    root.geometry('300x300+200+200')\n",
    "    \n",
    "    # LABEL BOXES\n",
    "    ttk.Label(master=root, text=\"label 1\"\n",
    "             ).grid(row=0, column=0, padx=10, pady=10, sticky='w')\n",
    "    ttk.Label(master=root, text=\"label 2\"\n",
    "             ).grid(row=1, column=0, padx=10, pady=10, sticky='w')\n",
    "    ttk.Label(master=root, text=\"label 3\"\n",
    "             ).grid(row=2, column=0, padx=10, pady=10, sticky='w')\n",
    "    \n",
    "    # ENTRY BOXES\n",
    "    ttk.Entry(master=root).grid(row=0, column=1, padx=10, pady=10, sticky='e')\n",
    "    ttk.Entry(master=root).grid(row=1, column=1, padx=10, pady=10, sticky='e')\n",
    "    \n",
    "    # variable to hold selection\n",
    "    select_var = tk.StringVar(master=root, value=\"Select: \")\n",
    "    \n",
    "    option_menu = ttk.OptionMenu(root,\n",
    "                   select_var,\n",
    "                   \"Select: \",\n",
    "                   \"web\",\n",
    "                   \"email\",\n",
    "                   direction=\"right\"\n",
    "                  ).grid(row=2, column=1, padx=10, pady=10, sticky='w')\n",
    "    # option_menu.bind(\"<FocusIn>\", focus)\n",
    "    \n",
    "    # BUTTON 1 \n",
    "    ttk.Button(master=root, \n",
    "               text=\"button 1\"\n",
    "              ).grid(row=3, column=0, padx=10, pady=10, sticky='e')#.bind(\"<FocusIn>\", focused)\n",
    "    # BUTTON 2\n",
    "    ttk.Button(master=root,\n",
    "              text=\"button 2\"\n",
    "              ).grid(row=3, column=1, padx=10, pady=10, sticky='w')#.bind(\"<Return>\", keyboard_return)\n",
    "    root.config()\n",
    "    root.mainloop()\n",
    "# }"
   ]
  },
  {
   "cell_type": "code",
   "execution_count": null,
   "metadata": {},
   "outputs": [],
   "source": []
  },
  {
   "cell_type": "code",
   "execution_count": null,
   "metadata": {},
   "outputs": [],
   "source": []
  }
 ],
 "metadata": {
  "celltoolbar": "Raw Cell Format",
  "kernelspec": {
   "display_name": "Python 3",
   "language": "python",
   "name": "python3"
  },
  "language_info": {
   "codemirror_mode": {
    "name": "ipython",
    "version": 3
   },
   "file_extension": ".py",
   "mimetype": "text/x-python",
   "name": "python",
   "nbconvert_exporter": "python",
   "pygments_lexer": "ipython3",
   "version": "3.7.0"
  },
  "toc": {
   "base_numbering": 1,
   "nav_menu": {},
   "number_sections": true,
   "sideBar": true,
   "skip_h1_title": false,
   "title_cell": "Table of Contents",
   "title_sidebar": "Contents",
   "toc_cell": false,
   "toc_position": {},
   "toc_section_display": true,
   "toc_window_display": false
  },
  "varInspector": {
   "cols": {
    "lenName": 16,
    "lenType": 16,
    "lenVar": 40
   },
   "kernels_config": {
    "python": {
     "delete_cmd_postfix": "",
     "delete_cmd_prefix": "del ",
     "library": "var_list.py",
     "varRefreshCmd": "print(var_dic_list())"
    },
    "r": {
     "delete_cmd_postfix": ") ",
     "delete_cmd_prefix": "rm(",
     "library": "var_list.r",
     "varRefreshCmd": "cat(var_dic_list()) "
    }
   },
   "types_to_exclude": [
    "module",
    "function",
    "builtin_function_or_method",
    "instance",
    "_Feature"
   ],
   "window_display": false
  }
 },
 "nbformat": 4,
 "nbformat_minor": 2
}
