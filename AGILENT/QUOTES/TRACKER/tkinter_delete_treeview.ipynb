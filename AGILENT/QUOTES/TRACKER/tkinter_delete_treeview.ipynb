{
 "cells": [
  {
   "cell_type": "code",
   "execution_count": 6,
   "metadata": {
    "ExecuteTime": {
     "end_time": "2020-02-06T21:54:54.352290Z",
     "start_time": "2020-02-06T21:54:06.157345Z"
    }
   },
   "outputs": [
    {
     "name": "stdout",
     "output_type": "stream",
     "text": [
      "Hiding Columns\n",
      "Showing all columns\n",
      "Visible: trackNumber,trackTitle,artistCat,artistDisplay,trackArtist,album,albumLabel,composer,year,trackDuration,albumAsin,albumItunes,ISRC,filename,albumCoverName,notes\n",
      "Available: trackNumber,trackTitle,artistCat,artistDisplay,trackArtist,album,albumLabel,composer,year,trackDuration,albumAsin,albumItunes,ISRC,filename,albumCoverName,notes\n",
      "Done.\n",
      "Hiding Columns\n"
     ]
    }
   ],
   "source": [
    "#!/usr/bin/env python2\n",
    "#\n",
    "# FILE: SO_33290969.py\n",
    "# CREATED: 2015-10-28\n",
    "__CHANGED__=\"2015-11-02 17:54:55\"\n",
    "__VERSION__=1.1\n",
    "\n",
    "import tkinter as tk\n",
    "import tkinter.ttk as ttk\n",
    "\n",
    "class some_Class(tk.Frame):\n",
    "    def __init__(self, *args, **kwargs):\n",
    "        tk.Frame.__init__(self, *args, **kwargs)\n",
    "        self.master=args[0]\n",
    "        self.grid()\n",
    "        \n",
    "        self.some_function()\n",
    "        \n",
    "    def some_function(self):\n",
    "        self.tree = ttk.Treeview(self.master)\n",
    "        ttk.Style().configure(\"displayField\", background=\"#850664\", foreground=\"#000000\", fieldbackground=\"#FFFFFF\")\n",
    "        ysb = ttk.Scrollbar(self.master, command=self.tree.yview, orient=tk.VERTICAL)\n",
    "        xsb = ttk.Scrollbar(self.master, command=self.tree.xview, orient=tk.HORIZONTAL)\n",
    "        self.tree.configure(yscrollcommand=ysb.set)\n",
    "        self.tree.configure(xscrollcommand=xsb.set)\n",
    "        \n",
    "\n",
    "        self.tree[\"columns\"]=(\"trackNumber\", \"trackTitle\", \"artistCat\", \"artistDisplay\", \"trackArtist\", \"album\",\n",
    "                              \"albumLabel\", \"composer\", \"year\", \"trackDuration\", \"albumAsin\", \"albumItunes\", \"ISRC\",\n",
    "                                  \"filename\", \"albumCoverName\", \"notes\")\n",
    "        self.tree.column(\"trackNumber\", stretch=0, anchor=tk.N)\n",
    "        self.tree.column(\"trackTitle\", stretch=0, anchor=tk.N)\n",
    "        self.tree.column(\"artistCat\", stretch=0, anchor=tk.N)\n",
    "        self.tree.column(\"artistDisplay\", stretch=0, anchor=tk.N)\n",
    "        self.tree.column(\"trackArtist\", stretch=0, anchor=tk.N)\n",
    "        self.tree.column(\"album\", stretch=0, anchor=tk.N)\n",
    "        self.tree.column(\"albumLabel\", stretch=0, anchor=tk.N)\n",
    "        self.tree.column(\"composer\", stretch=0, anchor=tk.N)\n",
    "        self.tree.column(\"year\", stretch=0, anchor=tk.N)\n",
    "        self.tree.column(\"trackDuration\", stretch=0, anchor=tk.N)\n",
    "        self.tree.column(\"albumAsin\", stretch=0, anchor=tk.N)\n",
    "        self.tree.column(\"albumItunes\", stretch=0, anchor=tk.N)\n",
    "        self.tree.column(\"filename\", stretch=0, anchor=tk.N)\n",
    "        self.tree.column(\"albumCoverName\", stretch=0, anchor=tk.N)\n",
    "        self.tree.column(\"notes\", stretch=0, anchor=tk.N)\n",
    "        self.tree.heading(\"trackNumber\", text=\"Track Number\")\n",
    "        self.tree.heading(\"trackTitle\", text=\"Track Title\")\n",
    "        self.tree.heading(\"artistCat\", text=\"Artist CAT\")\n",
    "        self.tree.heading(\"artistDisplay\", text=\"Artist Display\")\n",
    "        self.tree.heading(\"trackArtist\", text=\"Track Artist\")\n",
    "        self.tree.heading(\"album\", text=\"Album\")\n",
    "        self.tree.heading(\"albumLabel\", text=\"Album Label\")\n",
    "        self.tree.heading(\"composer\", text=\"Composer\")\n",
    "        self.tree.heading(\"year\", text=\"Year\")\n",
    "        self.tree.heading(\"trackDuration\", text=\"Track Duration\")\n",
    "        self.tree.heading(\"albumAsin\", text=\"Album ASIN\")\n",
    "        self.tree.heading(\"albumItunes\", text=\"Album iTunes\")\n",
    "        self.tree.heading(\"ISRC\", text=\"ISRC\")\n",
    "        self.tree.heading(\"filename\", text=\"File Name\")\n",
    "        self.tree.heading(\"albumCoverName\", text=\"Album Cover Filename\")\n",
    "        self.tree.heading(\"notes\", text=\"Notes\")\n",
    "        self.tree.grid(in_=self.master, row=0, column=0, sticky=tk.NW+tk.SE)\n",
    "        ysb.grid(in_=self.master, row=0, column=1, sticky=tk.NS)\n",
    "        xsb.grid(in_=self.master, row=1, column=0, sticky=tk.EW)\n",
    "        self.master.rowconfigure(0, weight=1)\n",
    "        self.master.columnconfigure(0, weight=1)\n",
    "        \n",
    "        self.loadUI()\n",
    "    def loadUI(self, event=None):\n",
    "        tk.Button(self.master, text=\"filter columns\", command=self.some_other_function).grid(row=2, column=0)\n",
    "        tk.Button(self.master, text=\"load data\", command=self.loadData).grid(row=2, column=1)\n",
    "    \n",
    "    def loadData(self, event=None):\n",
    "        self.tree.insert(\"\", tk.END, values=([\"data%s\"%col for col in self.tree[\"columns\"]]))\n",
    "        \n",
    "    def some_other_function(self):\n",
    "        if len(self.tree[\"displaycolumns\"]) != 2:\n",
    "            print(\"Hiding Columns\")\n",
    "            self.tree[\"displaycolumns\"]=(\"artistCat\", \"artistDisplay\")\n",
    "        else:\n",
    "            print(\"Showing all columns\")\n",
    "            self.tree[\"displaycolumns\"]=self.tree[\"columns\"]\n",
    "            \n",
    "            print(\"Visible: %s\"%','.join([ \"%s\"%col for col in self.tree[\"displaycolumns\"] ]))\n",
    "            print(\"Available: %s\"%','.join([ \"%s\"%col for col in self.tree[\"columns\"] ]))\n",
    "            print(\"Done.\")\n",
    "                \n",
    "if __name__==\"__main__\":\n",
    "    root=tk.Tk()\n",
    "    app=some_Class(root)\n",
    "    app.grid()\n",
    "    root.mainloop()"
   ]
  },
  {
   "cell_type": "code",
   "execution_count": null,
   "metadata": {},
   "outputs": [],
   "source": []
  }
 ],
 "metadata": {
  "kernelspec": {
   "display_name": "Python 3",
   "language": "python",
   "name": "python3"
  },
  "language_info": {
   "codemirror_mode": {
    "name": "ipython",
    "version": 3
   },
   "file_extension": ".py",
   "mimetype": "text/x-python",
   "name": "python",
   "nbconvert_exporter": "python",
   "pygments_lexer": "ipython3",
   "version": "3.7.0"
  },
  "toc": {
   "base_numbering": 1,
   "nav_menu": {},
   "number_sections": true,
   "sideBar": true,
   "skip_h1_title": false,
   "title_cell": "Table of Contents",
   "title_sidebar": "Contents",
   "toc_cell": false,
   "toc_position": {},
   "toc_section_display": true,
   "toc_window_display": false
  },
  "varInspector": {
   "cols": {
    "lenName": 16,
    "lenType": 16,
    "lenVar": 40
   },
   "kernels_config": {
    "python": {
     "delete_cmd_postfix": "",
     "delete_cmd_prefix": "del ",
     "library": "var_list.py",
     "varRefreshCmd": "print(var_dic_list())"
    },
    "r": {
     "delete_cmd_postfix": ") ",
     "delete_cmd_prefix": "rm(",
     "library": "var_list.r",
     "varRefreshCmd": "cat(var_dic_list()) "
    }
   },
   "types_to_exclude": [
    "module",
    "function",
    "builtin_function_or_method",
    "instance",
    "_Feature"
   ],
   "window_display": false
  }
 },
 "nbformat": 4,
 "nbformat_minor": 2
}
