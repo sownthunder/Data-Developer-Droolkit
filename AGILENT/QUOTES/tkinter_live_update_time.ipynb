{
 "cells": [
  {
   "cell_type": "markdown",
   "metadata": {},
   "source": [
    "### Thread testing for QUOTES_TRACKER\n",
    "\n",
    "- begins Thread to check for `current_timestsmp`\n",
    "- pushes it to update within `tkinter` box\n",
    "\n",
    "---"
   ]
  },
  {
   "cell_type": "code",
   "execution_count": 1,
   "metadata": {},
   "outputs": [],
   "source": [
    "import os, sys, time\n",
    "from time import sleep\n",
    "from pathlib import Path"
   ]
  },
  {
   "cell_type": "code",
   "execution_count": 2,
   "metadata": {},
   "outputs": [],
   "source": [
    "import pandas as pd\n",
    "import numpy as np\n",
    "from pandas import Series, DataFrame"
   ]
  },
  {
   "cell_type": "code",
   "execution_count": 3,
   "metadata": {},
   "outputs": [],
   "source": [
    "from threading import Thread, Timer"
   ]
  },
  {
   "cell_type": "raw",
   "metadata": {},
   "source": [
    "class TimestampThread(Thread): #{\n",
    "    \"\"\"\n",
    "    Constantly updates variable with CURRENT TIMESTMAP\n",
    "    \"\"\"\n",
    "    \n",
    "    def __init__(self, name, ts_variable): #{\n",
    "        \"\"\"Initialize the Thread\"\"\"\n",
    "        Thread.__init__(self)\n",
    "        self.name = name\n",
    "        self.ts_variable = ts_variable\n",
    "    #}\n",
    "    \n",
    "    def pull_timestamp(self): #{\n",
    "        the_ts = pd.Timestamp.now()\n",
    "        return the_ts\n",
    "    #}\n",
    "    \n",
    "    def run(self): #{\n",
    "        \"\"\"Run the Thread\"\"\"\n",
    "        # INFINITE LOOP\n",
    "        while 1: #{\n",
    "            # overwrite variable\n",
    "            ts_variable = pd.Timestamp()\n",
    "            # wait 1 sec\n",
    "            sleep(1)\n",
    "        #}\n",
    "    #}\n",
    "#}"
   ]
  },
  {
   "cell_type": "raw",
   "metadata": {},
   "source": [
    "if __name__ == \"__main__\": #{\n",
    "    name = \"test #1\"\n",
    "    ts = pd.Timestamp.now()\n",
    "    test_thread = TimestampThread(name=name, ts_variable=ts)\n",
    "    test_thread.start()\n",
    "#}"
   ]
  },
  {
   "cell_type": "raw",
   "metadata": {},
   "source": [
    "import tkinter as tk\n",
    "import time\n",
    "\n",
    "class A: #{}\n",
    "    def __init__(self, master): #{\n",
    "        self.label=tk.Label(master)\n",
    "        self.label.grid(row=0, column=0)\n",
    "        self.label.configure(text='nothing')\n",
    "        #self.count = 0\n",
    "        self.ts = pd.Timestamp.now()\n",
    "        self.update_label()\n",
    "    #}\n",
    "\n",
    "    def update_label(self): #{\n",
    "        #if self.count < 10: #{\n",
    "        while 1: #{\n",
    "            self.label.configure(text = 'count: {}'.format(self.ts))\n",
    "            self.label.after(1000, self.update_label) # call this method again in 1,000 milliseconds\n",
    "            #self.count += 1\n",
    "            self.ts += pd.Timedelta(seconds=1)\n",
    "        #}\n",
    "        print(self.ts)\n",
    "    #}\n",
    "#}\n",
    "\n",
    "root = tk.Tk()\n",
    "A(root)\n",
    "root.mainloop()"
   ]
  },
  {
   "cell_type": "raw",
   "metadata": {},
   "source": [
    "from tkinter import *\n",
    "\n",
    "def main():\n",
    "    frame = Tk()\n",
    "    frame.geometry(\"480x360\")\n",
    "\n",
    "    Label(frame, text=\"Enter coins.[Press Buttons]\").grid(row=1, column=1)\n",
    "    display = Label(frame, text=\"\") # we need this Label as a variable!\n",
    "    display.grid(row=2, column=1)\n",
    "\n",
    "    def add(amount):\n",
    "        global credit\n",
    "        credit += amount\n",
    "        display.configure(text=\"%.2f\" % credit)\n",
    "\n",
    "    Button(frame, text=\"10p\", command=lambda: add(.1)).grid(row=3, column=1)\n",
    "    Button(frame, text=\"20p\", command=lambda: add(.2)).grid(row=4, column=1)\n",
    "    Button(frame, text=\"50p\", command=lambda: add(.5)).grid(row=5, column=1)\n",
    "    Button(frame, text=\"P1\",  command=lambda: add(1.)).grid(row=6, column=1)\n",
    "    frame.mainloop()\n",
    "\n",
    "main()"
   ]
  },
  {
   "cell_type": "code",
   "execution_count": null,
   "metadata": {},
   "outputs": [],
   "source": [
    "# use Tkinter to show a digital clock\n",
    "# tested with Python24    vegaseat    10sep2006\n",
    "from tkinter import *\n",
    "import time\n",
    "root = Tk()\n",
    "time1 = ''\n",
    "clock = Label(root, font=('times', 20, 'bold'), bg='green')\n",
    "clock.pack(fill=BOTH, expand=1)\n",
    "def tick():\n",
    "    global time1\n",
    "    # get the current local time from the PC\n",
    "    time2 = time.strftime('%H:%M:%S')\n",
    "    # if time string has changed, update it\n",
    "    if time2 != time1:\n",
    "        time1 = time2\n",
    "        clock.config(text=time2)\n",
    "    # calls itself every 200 milliseconds\n",
    "    # to update the time display as needed\n",
    "    # could use >200 ms, but display gets jerky\n",
    "    clock.after(200, tick)\n",
    "tick()\n",
    "root.mainloop(  )"
   ]
  },
  {
   "cell_type": "code",
   "execution_count": null,
   "metadata": {},
   "outputs": [],
   "source": []
  }
 ],
 "metadata": {
  "kernelspec": {
   "display_name": "Python 3",
   "language": "python",
   "name": "python3"
  },
  "language_info": {
   "codemirror_mode": {
    "name": "ipython",
    "version": 3
   },
   "file_extension": ".py",
   "mimetype": "text/x-python",
   "name": "python",
   "nbconvert_exporter": "python",
   "pygments_lexer": "ipython3",
   "version": "3.7.0"
  }
 },
 "nbformat": 4,
 "nbformat_minor": 4
}
