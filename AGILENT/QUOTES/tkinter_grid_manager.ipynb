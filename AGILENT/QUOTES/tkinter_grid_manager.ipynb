{
 "cells": [
  {
   "cell_type": "code",
   "execution_count": 1,
   "metadata": {},
   "outputs": [],
   "source": [
    "import tkinter as tk\n",
    "from tkinter import ttk, filedialog, messagebox"
   ]
  },
  {
   "cell_type": "code",
   "execution_count": 7,
   "metadata": {},
   "outputs": [],
   "source": [
    "if __name__ == \"__main__\": #{\n",
    "    # MAIN APP PROPERTIES\n",
    "    root = tk.Tk()\n",
    "    \n",
    "    btn_column = tk.Button(master=root, text=\"I'm in column 3\")\n",
    "    btn_column.grid(column=3)\n",
    "    \n",
    "    btn_columnspan = tk.Button(root, text=\"I have a columnspan of 3\")\n",
    "    btn_columnspan.grid(columnspan=3)\n",
    "    \n",
    "    btn_ipadx = tk.Button(root, text=\"ipadx of 4\")\n",
    "    btn_ipadx.grid(ipadx=4)\n",
    "    \n",
    "    btn_ipady = tk.Button(root, text=\"ipady of 4\")\n",
    "    btn_ipady.grid(ipady=4)\n",
    "    \n",
    "    btn_padx = tk.Button(root, text=\"padx of 4\")\n",
    "    btn_padx.grid(padx=4)\n",
    "    \n",
    "    btn_pady = tk.Button(root, text=\"pady of 4\")\n",
    "    btn_pady.grid(pady=4)\n",
    "    \n",
    "    btn_row = tk.Button(root, text=\"I'm in row 2\")\n",
    "    btn_row.grid(row=2)\n",
    "    \n",
    "    btn_rowspan = tk.Button(root, text=\"Rowspan of 2\")\n",
    "    btn_rowspan.grid(rowspan=2)\n",
    "    \n",
    "    btn_sticky = tk.Button(root, text=\"I'm stuck to north-east\")\n",
    "    btn_sticky.grid(sticky=tk.NE)\n",
    "    \n",
    "    root.mainloop()\n",
    "#}"
   ]
  },
  {
   "cell_type": "code",
   "execution_count": null,
   "metadata": {},
   "outputs": [],
   "source": []
  }
 ],
 "metadata": {
  "kernelspec": {
   "display_name": "Python 3",
   "language": "python",
   "name": "python3"
  },
  "language_info": {
   "codemirror_mode": {
    "name": "ipython",
    "version": 3
   },
   "file_extension": ".py",
   "mimetype": "text/x-python",
   "name": "python",
   "nbconvert_exporter": "python",
   "pygments_lexer": "ipython3",
   "version": "3.7.0"
  }
 },
 "nbformat": 4,
 "nbformat_minor": 4
}
