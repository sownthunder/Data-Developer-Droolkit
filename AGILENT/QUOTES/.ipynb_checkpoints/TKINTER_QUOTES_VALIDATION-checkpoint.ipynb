{
 "cells": [
  {
   "cell_type": "code",
   "execution_count": 1,
   "metadata": {},
   "outputs": [],
   "source": [
    "import os, sys, time\n",
    "from time import sleep\n",
    "import tkinter as tk\n",
    "import tkinter.ttk as ttk\n",
    "from tkinter import filedialog, messagebox"
   ]
  },
  {
   "cell_type": "code",
   "execution_count": 2,
   "metadata": {},
   "outputs": [],
   "source": [
    "def only_numbers(char): # {\n",
    "    return char.isdigit()\n",
    "# }"
   ]
  },
  {
   "cell_type": "code",
   "execution_count": 3,
   "metadata": {},
   "outputs": [],
   "source": [
    "def check_stuff(stuff): # {\n",
    "    # RE-INSTANTIATE GLOBALS\n",
    "    global entry_str\n",
    "    print(entry_str.get())\n",
    "    print(stuff.widget['text'])\n",
    "# }"
   ]
  },
  {
   "cell_type": "code",
   "execution_count": 4,
   "metadata": {},
   "outputs": [
    {
     "name": "stdout",
     "output_type": "stream",
     "text": [
      "None\n",
      "PY_VAR0\n",
      "None\n",
      "PY_VAR0\n",
      "None\n",
      "PY_VAR0\n",
      "None\n",
      "PY_VAR0\n"
     ]
    }
   ],
   "source": [
    "if __name__ == \"__main__\": # {\n",
    "    parent = tk.Tk()\n",
    "    parent.geometry('300x200')\n",
    "    \n",
    "    validation = parent.register(only_numbers)\n",
    "    entry_str = tk.StringVar(master=parent, value=\"None\")\n",
    "    entry = ttk.Entry(parent,\n",
    "                      textvariable=entry_str,\n",
    "                      validate=\"focusout\", \n",
    "                      validatecommand=(validation, '%P'))\n",
    "    entry.bind('<FocusOut>', check_stuff)\n",
    "    entry.pack(side=tk.TOP, fill=tk.X, expand=False)\n",
    "    ttk.Entry(master=parent,\n",
    "             text='hey').pack(side=tk.BOTTOM, fill=tk.X, expand=False)\n",
    "    \n",
    "    parent.config()\n",
    "    parent.mainloop()\n",
    "# } "
   ]
  },
  {
   "cell_type": "code",
   "execution_count": null,
   "metadata": {},
   "outputs": [],
   "source": []
  },
  {
   "cell_type": "code",
   "execution_count": null,
   "metadata": {},
   "outputs": [],
   "source": []
  }
 ],
 "metadata": {
  "kernelspec": {
   "display_name": "Python 3",
   "language": "python",
   "name": "python3"
  },
  "language_info": {
   "codemirror_mode": {
    "name": "ipython",
    "version": 3
   },
   "file_extension": ".py",
   "mimetype": "text/x-python",
   "name": "python",
   "nbconvert_exporter": "python",
   "pygments_lexer": "ipython3",
   "version": "3.7.0"
  }
 },
 "nbformat": 4,
 "nbformat_minor": 2
}
