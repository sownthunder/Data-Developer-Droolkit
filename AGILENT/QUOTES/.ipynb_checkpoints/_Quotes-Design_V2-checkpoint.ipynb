{
 "cells": [
  {
   "cell_type": "code",
   "execution_count": 2,
   "metadata": {},
   "outputs": [],
   "source": [
    "import tkinter as tk\n",
    "from tkinter import ttk"
   ]
  },
  {
   "cell_type": "code",
   "execution_count": 3,
   "metadata": {},
   "outputs": [],
   "source": [
    "import sqlite3"
   ]
  },
  {
   "cell_type": "code",
   "execution_count": 37,
   "metadata": {},
   "outputs": [],
   "source": [
    "class Quote: #{\n",
    "    \n",
    "    def __init__(self, window): #{\n",
    "        self.wind = window\n",
    "        self.wind.title('Quotes Application')\n",
    "        \n",
    "        # Create a Frane Container\n",
    "        frame = tk.LabelFrame(self.wind, text = 'Register A New Quote')\n",
    "        frame.grid(row = 0, column = 0, columnspan = 3, padx = 20, pady = 20)\n",
    "        \n",
    "        # Name Input\n",
    "        tk.Label(frame, text = 'Name: ').grid(row = 1, column = 0)\n",
    "        self.name = tk.Entry(frame)\n",
    "        self.name.focus()\n",
    "        self.name.grid(row = 1, column = 1)\n",
    "        \n",
    "        # Price Input\n",
    "        tk.Label(frame, text = 'Price: ').grid(row = 2, column = 0)\n",
    "        self.price = tk.Entry(frame)\n",
    "        self.price.grid(row = 2, column = 1)\n",
    "        \n",
    "        # Button Add Quote\n",
    "        ttk.Button(frame, text = 'Save Quote').grid(\n",
    "            row = 3, columnspan = 2, sticky = tk.W + tk.E\n",
    "        )\n",
    "        \n",
    "        # Table\n",
    "        self.tree = ttk.Treeview(height = 20, columns = 8)\n",
    "        self.tree[\"columns\"]=(\"one\",\"two\",\"three\",\"four\",\"five\",\"six\",\"seven\",\"eight\")\n",
    "        #self.tree.column('#0', width=80, minwidth=80, stretch=tk.NO)\n",
    "        #self.tree.column('#1', width=80, minwidth=80, stretch=tk.NO)\n",
    "        \n",
    "        \n",
    "        self.tree.grid(row = 4, column = 0, columnspan = 8)\n",
    "        self.tree.heading('#0', text = 'Tracking #', anchor = tk.CENTER)\n",
    "        self.tree.heading('#1', text = 'Name', anchor = tk.CENTER)\n",
    "        self.tree.heading('#2', text = 'Email', anchor = tk.CENTER)\n",
    "        self.tree.heading('#3', text = 'Type', anchor = tk.CENTER)\n",
    "        self.tree.heading('#4', text = 'Timestamp', anchor = tk.CENTER)\n",
    "        self.tree.heading('#5', text = 'Sent', anchor = tk.CENTER)\n",
    "        self.tree.heading('#6', text = 'Quote #', anchor = tk.CENTER)\n",
    "        self.tree.heading('#7', text = 'Product #', anchor = tk.CENTER)\n",
    "        self.tree.heading('#8', text = 'Notes: ', anchor = tk.CENTER)\n",
    "        \n",
    "    #}\n",
    "#}"
   ]
  },
  {
   "cell_type": "code",
   "execution_count": 38,
   "metadata": {},
   "outputs": [],
   "source": [
    "if __name__ == \"__main__\": #{\n",
    "    window = tk.Tk()\n",
    "    application = Quote(window)\n",
    "    window.mainloop()\n",
    "#}"
   ]
  },
  {
   "cell_type": "code",
   "execution_count": null,
   "metadata": {},
   "outputs": [],
   "source": []
  }
 ],
 "metadata": {
  "kernelspec": {
   "display_name": "Python 3",
   "language": "python",
   "name": "python3"
  },
  "language_info": {
   "codemirror_mode": {
    "name": "ipython",
    "version": 3
   },
   "file_extension": ".py",
   "mimetype": "text/x-python",
   "name": "python",
   "nbconvert_exporter": "python",
   "pygments_lexer": "ipython3",
   "version": "3.7.0"
  }
 },
 "nbformat": 4,
 "nbformat_minor": 2
}
