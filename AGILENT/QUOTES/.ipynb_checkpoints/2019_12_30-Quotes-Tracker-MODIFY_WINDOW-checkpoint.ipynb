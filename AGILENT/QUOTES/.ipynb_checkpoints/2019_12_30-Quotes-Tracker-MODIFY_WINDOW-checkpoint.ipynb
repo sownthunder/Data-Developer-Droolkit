{
 "cells": [
  {
   "cell_type": "code",
   "execution_count": 2,
   "metadata": {},
   "outputs": [],
   "source": [
    "import os, sys, time\n",
    "from time import sleep\n",
    "import tkinter as tk\n",
    "import tkinter.ttk as ttk\n",
    "from tkinter import filedialog, messagebox\n",
    "from ttkthemes import ThemedStyle"
   ]
  },
  {
   "cell_type": "raw",
   "metadata": {
    "raw_mimetype": "text/x-python"
   },
   "source": [
    "root = tk.Tk()\n",
    "\n",
    "tree = ttk.Treeview(root)\n",
    "\n",
    "tree[\"columns\"]=(\"one\",\"two\")\n",
    "tree.column(\"one\", width=100 )\n",
    "tree.column(\"two\", width=100)\n",
    "tree.heading(\"one\", text=\"coulmn A\")\n",
    "tree.heading(\"two\", text=\"column B\")\n",
    "\n",
    "tree.insert(\"\" , 0,    text=\"Line 1\", values=(\"1A\",\"1b\"))\n",
    "\n",
    "id2 = tree.insert(\"\", 1, \"dir2\", text=\"Dir 2\")\n",
    "tree.insert(id2, \"end\", \"dir 2\", text=\"sub dir 2\", values=(\"2A\",\"2B\"))\n",
    "\n",
    "##alternatively:\n",
    "tree.insert(\"\", 3, \"dir3\", text=\"Dir 3\")\n",
    "tree.insert(\"dir3\", 3, text=\" sub dir 3\",values=(\"3A\",\" 3B\"))\n",
    "\n",
    "tree.pack()\n",
    "root.mainloop()"
   ]
  },
  {
   "cell_type": "raw",
   "metadata": {
    "raw_mimetype": "text/x-python"
   },
   "source": [
    "root = tk.Tk()\n",
    "style = ttk.Style()\n",
    "style.map(\"C.TButton\", \n",
    "          foreground=[('pressed', 'red'), ('active', 'blue')], \n",
    "          background=[('pressed', '!disabled', 'black'), ('active', 'white')] )\n",
    "colored_btn = ttk.Button(text=\"Test\", style=\"C.TButton\").pack()\n",
    "root.mainloop()"
   ]
  },
  {
   "cell_type": "code",
   "execution_count": 18,
   "metadata": {},
   "outputs": [],
   "source": [
    "root = tk.Tk()\n",
    "root.title(\"Quote Tracker - MODIFY WINDOW\")\n",
    "\n",
    "# TRACKING INFO LABELFRAME\n",
    "lblframe_tracking_info = tk.LabelFrame(master=root, text=\"Tracking Info:\")\n",
    "lblframe_tracking_info.pack(side=tk.TOP, fill=tk.BOTH, expand=True)\n",
    "\n",
    "# TRACKING NUMBER\n",
    "# TIME RECEIVED\n",
    "# INITIALS\n",
    "# TYPE\n",
    "\n",
    "# ACCOUNT INFO LABELFRAME\n",
    "lblframe_account_info = tk.LabelFrame(master=root, text=\"Account Info:\")\n",
    "lblframe_account_info.pack(side=tk.TOP, fill=tk.BOTH, expand=True)\n",
    "\n",
    "# COMPANY NAME\n",
    "# CONTACT PERSON\n",
    "# EMAIL\n",
    "# ACCOUNT ID\n",
    "\n",
    "# QUOTE INFO LABELFRAME\n",
    "lblframe_quote_info = tk.LabelFrame(master=root, text=\"Quote Info:\")\n",
    "lblframe_quote_info.pack(side=tk.BOTTOM, fill=tk.BOTH, expand=True)\n",
    "\n",
    "# PRODUCT NUMBER\n",
    "# PRODFLOW QUOTE NUMBER\n",
    "# SAP QUOTE NUMBER\n",
    "\n",
    "root.config()\n",
    "root.mainloop()"
   ]
  },
  {
   "cell_type": "raw",
   "metadata": {
    "raw_mimetype": "text/x-python"
   },
   "source": [
    "# LEFT FRAME\n",
    "tracking_info_leftframe = tk.Frame(master=lblframe_tracking_info).pack(side=tk.LEFT, fill=tk.BOTH, expand=True)\n",
    "\n",
    "# Tracking Number (label)\n",
    "ttk.Label(master=tracking_info_leftframe, text=\"Tracking #: \").pack(side=tk.LEFT, fill=tk.X, expand=True)\n",
    "\n",
    "\n",
    "# Time Received (label)\n",
    "ttk.Label(master=tracking_info_leftframe, text=\"Time Received: \").pack(side=tk.LEFT, fill=tk.X, expand=True)\n",
    "\n",
    "# RIGHT FRAME\n",
    "tracking_info_rightframe = tk.Frame(master=lblframe_tracking_info).pack(side=tk.LEFT, fill=tk.X, expand=True)\n",
    "\n",
    "# TRACKING NUMBER (entry)\n",
    "ttk.Entry(master=tracking_info_rightframe, \n",
    "          textvariable=tk.StringVar(master=lblframe_tracking_info, value=\"\"), \n",
    "          state='readonly').pack(side=tk.RIGHT, fill=tk.X, expand=True)\n",
    "\n",
    "# TRACKING NUMBER (entry)\n",
    "ttk.Entry(master=tracking_info_rightframe,\n",
    "         textvariable=tk.StringVar(master=lblframe_tracking_info, value=\"\"),\n",
    "         state='readonly').pack(side=tk.RIGHT, fill=tk.X, expand=True)"
   ]
  }
 ],
 "metadata": {
  "celltoolbar": "Raw Cell Format",
  "kernelspec": {
   "display_name": "Python 3",
   "language": "python",
   "name": "python3"
  },
  "language_info": {
   "codemirror_mode": {
    "name": "ipython",
    "version": 3
   },
   "file_extension": ".py",
   "mimetype": "text/x-python",
   "name": "python",
   "nbconvert_exporter": "python",
   "pygments_lexer": "ipython3",
   "version": "3.7.0"
  }
 },
 "nbformat": 4,
 "nbformat_minor": 2
}
