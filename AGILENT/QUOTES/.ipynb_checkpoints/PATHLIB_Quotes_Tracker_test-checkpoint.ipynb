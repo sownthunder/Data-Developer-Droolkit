{
 "cells": [
  {
   "cell_type": "code",
   "execution_count": 1,
   "metadata": {},
   "outputs": [],
   "source": [
    "import os, sys, time\n",
    "from os.path import join, getsize\n",
    "from time import sleep\n",
    "import pathlib, glob\n",
    "from pathlib import Path"
   ]
  },
  {
   "cell_type": "raw",
   "metadata": {},
   "source": [
    "p = Path(\"E:/_Quotes_Tracker/\")\n",
    "for f in p.glob(\"*\"): # {\n",
    "    print(f)\n",
    "#}"
   ]
  },
  {
   "cell_type": "code",
   "execution_count": 2,
   "metadata": {},
   "outputs": [],
   "source": [
    "def main(): # {\n",
    "    # RE-INSTANTIATE GLOBALS\n",
    "    global in_directory\n",
    "    p = Path(in_directory)\n",
    "    for f in p.glob(\"*\"): # {\n",
    "        print(f)\n",
    "    # }\n",
    "    ###########\n",
    "    # OS.WALK #\n",
    "    ###########\n",
    "    for root, dirs, files in os.walk(in_directory): # {\n",
    "        # GET DIRECTORY SIZE\n",
    "        dir_size = sum(getsize(join(root, name)) for name in files)\n",
    "        print(\"DIRECTORY SIZE (\" + str(root) + \"):\\n\" + str(dir_size) + \"\\n\")\n",
    "        for f in files: # {\n",
    "            print(f)\n",
    "        # }\n",
    "    # }\n",
    "# }"
   ]
  },
  {
   "cell_type": "code",
   "execution_count": 3,
   "metadata": {},
   "outputs": [
    {
     "name": "stdout",
     "output_type": "stream",
     "text": [
      "E:\\_Quotes_Tracker\\Agilent Custom Quotes Request Log.exe\n",
      "E:\\_Quotes_Tracker\\config\n",
      "E:\\_Quotes_Tracker\\data\n",
      "E:\\_Quotes_Tracker\\dev\n",
      "E:\\_Quotes_Tracker\\icons\n",
      "E:\\_Quotes_Tracker\\log\n",
      "DIRECTORY SIZE (E:/_Quotes_Tracker/):\n",
      "329270154\n",
      "Agilent Custom Quotes Request Log.exe\n",
      "DIRECTORY SIZE (E:/_Quotes_Tracker/config):\n",
      "5\n",
      "quotes_t_number.pkl\n",
      "DIRECTORY SIZE (E:/_Quotes_Tracker/data):\n",
      "49152\n",
      "quotes_tracker.db\n",
      "quotes_tracker_old.db\n",
      "DIRECTORY SIZE (E:/_Quotes_Tracker/dev):\n",
      "0\n",
      "DIRECTORY SIZE (E:/_Quotes_Tracker/dev\\config):\n",
      "5\n",
      "quotes_t_number.pkl\n",
      "DIRECTORY SIZE (E:/_Quotes_Tracker/dev\\data):\n",
      "49152\n",
      "quotes_tracker.db\n",
      "quotes_tracker_old.db\n",
      "DIRECTORY SIZE (E:/_Quotes_Tracker/dev\\icons):\n",
      "0\n",
      "DIRECTORY SIZE (E:/_Quotes_Tracker/dev\\log):\n",
      "0\n",
      "DIRECTORY SIZE (E:/_Quotes_Tracker/icons):\n",
      "0\n",
      "DIRECTORY SIZE (E:/_Quotes_Tracker/log):\n",
      "0\n"
     ]
    }
   ],
   "source": [
    "# MAIN BOILERPLATE\n",
    "if __name__ == \"__main__\": # {\n",
    "    # INSTANTIATE GLOBAL VARIABLES\n",
    "    in_directory = \"E:/_Quotes_Tracker/\"\n",
    "    # MAIN FUNCTION\n",
    "    main()\n",
    "# }"
   ]
  },
  {
   "cell_type": "code",
   "execution_count": null,
   "metadata": {},
   "outputs": [],
   "source": []
  }
 ],
 "metadata": {
  "kernelspec": {
   "display_name": "Python 3",
   "language": "python",
   "name": "python3"
  },
  "language_info": {
   "codemirror_mode": {
    "name": "ipython",
    "version": 3
   },
   "file_extension": ".py",
   "mimetype": "text/x-python",
   "name": "python",
   "nbconvert_exporter": "python",
   "pygments_lexer": "ipython3",
   "version": "3.7.0"
  }
 },
 "nbformat": 4,
 "nbformat_minor": 2
}
