{
 "cells": [
  {
   "cell_type": "code",
   "execution_count": 1,
   "metadata": {},
   "outputs": [],
   "source": [
    "# IMPROT THE GOODIES\n",
    "import os, sys, time\n",
    "from time import sleep\n",
    "from datetime import datetime\n",
    "import tkinter as tk\n",
    "from tkinter import filedialog, messagebox\n",
    "import pandas as pd\n",
    "import numpy as np\n",
    "from pandas import Series, DataFrame\n",
    "import pyodbc"
   ]
  },
  {
   "cell_type": "code",
   "execution_count": 2,
   "metadata": {},
   "outputs": [],
   "source": [
    "\"\"\"\n",
    "import data from ACCESS; clean & merge dataframes\n",
    "\"\"\"\n",
    "def read_sql_query_from_access(the_query, the_conn): #{\n",
    "    # TRY THE FOLLOWING\n",
    "    try: #{\n",
    "        df = pd.read_sql_query(\n",
    "            sql=(str(the_query)),\n",
    "            con=(the_conn))\n",
    "    #}\n",
    "    except: #{\n",
    "        errorMessage = str(sys.exc_info()[0]) + \"\\n\"\n",
    "        errorMessage = errorMessage + str(sys.exc_info()[1]) + \"\\n\\t\\t\"\n",
    "        errorMessage = errorMessage + str(sys.exc_info()[2]) + \"\\n\"\n",
    "        exc_type, exc_obj, exc_tb = sys.exc_info()\n",
    "        fname = os.path.split(exc_tb.tb_frame.f_code.co_filename)[1]\n",
    "        typeE = str(\"TYPE : \" + str(exc_type))\n",
    "        fileE = str(\"FILE : \" + str(fname))\n",
    "        lineE = str(\"LINE : \" + str(exc_tb.tb_lineno))\n",
    "        messageE = str(\"MESG : \" + \"\\n\\n\" + str(errorMessage) + \"\\n\")\n",
    "        print(\"\\n\" + typeE + \n",
    "              \"\\n\" + fileE + \n",
    "              \"\\n\" + lineE + \n",
    "              \"\\n\" + messageE)\n",
    "    #}\n",
    "    else: #{\n",
    "        print(\"SUCCESS! VERY NICE!!\")\n",
    "    #}\n",
    "#}"
   ]
  },
  {
   "cell_type": "code",
   "execution_count": 3,
   "metadata": {},
   "outputs": [
    {
     "name": "stdout",
     "output_type": "stream",
     "text": [
      "SUCCESS! VERY NICE!!\n",
      "None\n"
     ]
    }
   ],
   "source": [
    "if __name__ == \"__main__\": #{\n",
    "    # TRY THE FOLLOWING\n",
    "    try: #{\n",
    "        # TESTING PYODBC ACCESS DRIVER\n",
    "        [x for x in pyodbc.drivers() if x.startswith('Microsoft Access Driver')]\n",
    "        # CONNECTION STRING\n",
    "        conn_str = (\n",
    "            r'DRIVER={Microsoft Access Driver (*.mdb, *.accdb)};'\n",
    "            r'DBQ=E:\\ACCDBUpgrade\\Custom Switchboard\\Custom Quotes.accdb;'\n",
    "        )\n",
    "        # CREATE PYODBC CONNECTION\n",
    "        cnxn = pyodbc.connect(conn_str)\n",
    "        # CREATE CURSOR VIA PYODBC CONNECTION\n",
    "        crsr = cnxn.cursor()\n",
    "        # ATTEMPT PULLING FROM PRODFLOW DB\n",
    "        # ([MatrixNumber], [Matrix], [Density])\n",
    "        test_df = read_sql_query_from_access(the_query=\"SELECT * FROM [Quotes]\", \n",
    "                                             the_conn=cnxn\n",
    "                                            )\n",
    "        print(test_df)\n",
    "    #}\n",
    "    except: #{\n",
    "        errorMessage = str(sys.exc_info()[0]) + \"\\n\"\n",
    "        errorMessage = errorMessage + str(sys.exc_info()[1]) + \"\\n\\t\\t\"\n",
    "        errorMessage = errorMessage + str(sys.exc_info()[2]) + \"\\n\"\n",
    "        exc_type, exc_obj, exc_tb = sys.exc_info()\n",
    "        fname = os.path.split(exc_tb.tb_frame.f_code.co_filename)[1]\n",
    "        typeE = str(\"TYPE : \" + str(exc_type))\n",
    "        fileE = str(\"FILE : \" + str(fname))\n",
    "        lineE = str(\"LINE : \" + str(exc_tb.tb_lineno))\n",
    "        messageE = str(\"MESG : \" + \"\\n\\n\" + str(errorMessage) + \"\\n\")\n",
    "        print(\"\\n\" + typeE + \n",
    "              \"\\n\" + fileE + \n",
    "              \"\\n\" + lineE + \n",
    "              \"\\n\" + messageE)\n",
    "    #}\n",
    "    else: #{\n",
    "        pass\n",
    "    #}\n",
    "#}"
   ]
  },
  {
   "cell_type": "code",
   "execution_count": null,
   "metadata": {},
   "outputs": [],
   "source": []
  }
 ],
 "metadata": {
  "kernelspec": {
   "display_name": "Python 3",
   "language": "python",
   "name": "python3"
  },
  "language_info": {
   "codemirror_mode": {
    "name": "ipython",
    "version": 3
   },
   "file_extension": ".py",
   "mimetype": "text/x-python",
   "name": "python",
   "nbconvert_exporter": "python",
   "pygments_lexer": "ipython3",
   "version": "3.7.0"
  }
 },
 "nbformat": 4,
 "nbformat_minor": 2
}
