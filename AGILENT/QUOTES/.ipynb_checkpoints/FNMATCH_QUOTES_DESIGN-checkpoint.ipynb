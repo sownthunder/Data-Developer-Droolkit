{
 "cells": [
  {
   "cell_type": "markdown",
   "metadata": {},
   "source": [
    "## [fnmatch](https://code-examples.net/en/docs/python~3.7/library/fnmatch)"
   ]
  },
  {
   "cell_type": "code",
   "execution_count": 1,
   "metadata": {},
   "outputs": [],
   "source": [
    "import os, sys, time\n",
    "from time import sleep\n",
    "from pathlib import Path\n",
    "import fnmatch, re"
   ]
  },
  {
   "cell_type": "markdown",
   "metadata": {},
   "source": [
    "---\n",
    "## *REGEX STRINGS:*"
   ]
  },
  {
   "cell_type": "markdown",
   "metadata": {},
   "source": [
    "8-digit number"
   ]
  },
  {
   "cell_type": "code",
   "execution_count": 2,
   "metadata": {},
   "outputs": [
    {
     "data": {
      "text/plain": [
       "'(?s:[0-9][0-9][0-9][0-9][0-9][0-9][0-9][0-9])\\\\Z'"
      ]
     },
     "execution_count": 2,
     "metadata": {},
     "output_type": "execute_result"
    }
   ],
   "source": [
    "account_id = \"[0-9][0-9][0-9][0-9][0-9][0-9][0-9][0-9]\"\n",
    "fnmatch.translate(account_id)"
   ]
  },
  {
   "cell_type": "markdown",
   "metadata": {},
   "source": [
    "MMDDYY-xxx"
   ]
  },
  {
   "cell_type": "code",
   "execution_count": 3,
   "metadata": {},
   "outputs": [
    {
     "data": {
      "text/plain": [
       "'(?s:[0-9][0-9][0-9][0-9][0-9][0-9][-][0-9][0-9][0-9])\\\\Z'"
      ]
     },
     "execution_count": 3,
     "metadata": {},
     "output_type": "execute_result"
    }
   ],
   "source": [
    "pf_quote_num = \"[0-9][0-9][0-9][0-9][0-9][0-9][-][0-9][0-9][0-9]\"\n",
    "fnmatch.translate(pf_quote_num)"
   ]
  },
  {
   "cell_type": "markdown",
   "metadata": {},
   "source": [
    "7-digit number"
   ]
  },
  {
   "cell_type": "code",
   "execution_count": 4,
   "metadata": {},
   "outputs": [
    {
     "data": {
      "text/plain": [
       "'(?s:[0-9][0-9][0-9][0-9][0-9][0-9][0-9])\\\\Z'"
      ]
     },
     "execution_count": 4,
     "metadata": {},
     "output_type": "execute_result"
    }
   ],
   "source": [
    "sap_quote_num = \"[0-9][0-9][0-9][0-9][0-9][0-9][0-9]\"\n",
    "fnmatch.translate(sap_quote_num)"
   ]
  },
  {
   "cell_type": "code",
   "execution_count": 5,
   "metadata": {},
   "outputs": [
    {
     "name": "stdout",
     "output_type": "stream",
     "text": [
      "enter Account ID:\t21212121\n",
      "\t\tTRUE! (account_id)\n"
     ]
    }
   ],
   "source": [
    "# INFINITE LOOP\n",
    "while 1: # {\n",
    "    test_regex = input(\"enter Account ID:\\t\")\n",
    "    # TEST INPUT AGAINST REGEX\n",
    "    if fnmatch.fnmatch(test_regex, str(account_id)): # {\n",
    "        print(\"\\t\\tTRUE! (account_id)\")\n",
    "        break\n",
    "    # }\n",
    "    else: # {\n",
    "        print(\"\\tFALSE! (account_id)\")\n",
    "    # }\n",
    "#}"
   ]
  },
  {
   "cell_type": "code",
   "execution_count": 6,
   "metadata": {},
   "outputs": [
    {
     "name": "stdout",
     "output_type": "stream",
     "text": [
      "enter Prodflow Quote #:\n",
      "021025-123\n",
      "\tTRUE (prodflow_quote_num)\n"
     ]
    }
   ],
   "source": [
    "# INFINITE LOOP\n",
    "while 1: # {\n",
    "    test_regex = input(\"enter Prodflow Quote #:\\n\")\n",
    "    # TEST INPUT AGAINST REGEX\n",
    "    if fnmatch.fnmatch(test_regex, str(pf_quote_num)): # {\n",
    "        print(\"\\tTRUE (prodflow_quote_num)\")\n",
    "        break\n",
    "    # }\n",
    "    else: # {\n",
    "        print(\"\\tFALSE! (prodflow_quote_num)\")\n",
    "    # }\n",
    "# }"
   ]
  },
  {
   "cell_type": "code",
   "execution_count": null,
   "metadata": {},
   "outputs": [],
   "source": [
    "# INFINITE LOOP\n",
    "while 1: # {\n",
    "    test_regex = input(\"enter SAP Quote #:\\n\")\n",
    "    # TEST INPUT AGAINST REGEX\n",
    "    if fnmatch.fnmatch(test_regex, str(sap_quote_num)): # {\n",
    "        print(\"\\tTRUE (sap_quote_num)\")\n",
    "        break\n",
    "    # }\n",
    "    else: # {\n",
    "        print(\"\\tFALSE! (sap_quote_num)\")\n",
    "    # }\n",
    "# }"
   ]
  },
  {
   "cell_type": "code",
   "execution_count": null,
   "metadata": {},
   "outputs": [],
   "source": []
  }
 ],
 "metadata": {
  "kernelspec": {
   "display_name": "Python 3",
   "language": "python",
   "name": "python3"
  },
  "language_info": {
   "codemirror_mode": {
    "name": "ipython",
    "version": 3
   },
   "file_extension": ".py",
   "mimetype": "text/x-python",
   "name": "python",
   "nbconvert_exporter": "python",
   "pygments_lexer": "ipython3",
   "version": "3.7.0"
  }
 },
 "nbformat": 4,
 "nbformat_minor": 2
}
