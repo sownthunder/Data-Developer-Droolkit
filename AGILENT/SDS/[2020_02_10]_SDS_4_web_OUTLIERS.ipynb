{
 "cells": [
  {
   "cell_type": "code",
   "execution_count": 1,
   "metadata": {
    "ExecuteTime": {
     "end_time": "2020-02-10T21:15:23.192980Z",
     "start_time": "2020-02-10T21:15:21.481866Z"
    }
   },
   "outputs": [],
   "source": [
    "# IMPORT THE GOODS\n",
    "import os, sys, time\n",
    "from time import sleep\n",
    "from pathlib import Path\n",
    "import fnmatch, shutil\n",
    "import pandas as pd\n",
    "import numpy as np\n",
    "from pandas import Series, DataFrame"
   ]
  },
  {
   "cell_type": "code",
   "execution_count": 2,
   "metadata": {
    "ExecuteTime": {
     "end_time": "2020-02-10T21:15:23.204984Z",
     "start_time": "2020-02-10T21:15:23.194981Z"
    }
   },
   "outputs": [],
   "source": [
    "def main(): # {\n",
    "    # RE-INSTANTIATE GLOBALS\n",
    "    global in_file_1, in_file_2\n",
    "    # CREATE DATAFRAMES\n",
    "    df1 = pd.read_csv(in_file_1, names=[\"File Name\", \"Filename Converted\"],\n",
    "                      dtype=np.str, engine='python')\n",
    "    df2 = pd.read_csv(in_file_2, dtype=np.str, engine='python')\n",
    "    # CREATE EMPTY LIST TO HOLD PROPER FILENAMES\n",
    "    file_names = []\n",
    "    # LOOP THRU FIRST COLUMN OF DF1\n",
    "    for row in df1[\"File Name\"]: # {\n",
    "        file_name = str(os.path.basename(row))\n",
    "        #rint(file_name)\n",
    "        file_names.append(file_name)\n",
    "    #}\n",
    "    # OVER WRITE COLUMN\n",
    "    df1[\"File Name\"] = file_names\n",
    "    print(df2)\n",
    "    # SET DIFFERENCE OF TWO DATAFRAMES\n",
    "    set_diff_df = pd.concat([df2[\"File Name\"], df1[\"File Name\"], df1[\"File Name\"]]).drop_duplicates(keep=False)\n",
    "    print(len(set_diff_df))\n",
    "    set_diff_df.to_csv(\"SDS_4_web_diff_df.csv\", index=False)\n",
    "# }"
   ]
  },
  {
   "cell_type": "code",
   "execution_count": 3,
   "metadata": {
    "ExecuteTime": {
     "end_time": "2020-02-10T21:15:23.842034Z",
     "start_time": "2020-02-10T21:15:23.208982Z"
    },
    "scrolled": true
   },
   "outputs": [
    {
     "name": "stdout",
     "output_type": "stream",
     "text": [
      "                       File Name              Filename Converted\n",
      "0             52000_AU(EN)_2.pdf             52000_Australia.pdf\n",
      "1          52000_BR(PT-BR)_2.pdf      52000_BrazilPortuguese.pdf\n",
      "2          52000_CN(ZH-CN)_2.pdf               52000_Chinese.pdf\n",
      "3          52000_TW(ZH-TW)_2.pdf              52000_CNTaiwan.pdf\n",
      "4             52000_NL(NL)_2.pdf               52000_EUDutch.pdf\n",
      "...                          ...                             ...\n",
      "38349     XY-0128-1_KR(KO)_2.pdf            XY-0128-1_Korean.pdf\n",
      "38350     XY-0128-1_CA(EN)_2.pdf          XY-0128-1_NACanada.pdf\n",
      "38351     XY-0128-1_US(EN)_2.pdf         XY-0128-1_NAEnglish.pdf\n",
      "38352     XY-0128-1_CA(FR)_2.pdf  XY-0128-1_NAFrenchCanadian.pdf\n",
      "38353  XY-0128-1_MX(ES-MX)_2.pdf          XY-0128-1_NAMexico.pdf\n",
      "\n",
      "[38354 rows x 2 columns]\n",
      "24\n"
     ]
    },
    {
     "name": "stderr",
     "output_type": "stream",
     "text": [
      "C:\\Users\\derbates\\miniconda3\\envs\\py3\\lib\\site-packages\\ipykernel_launcher.py:22: FutureWarning: The signature of `Series.to_csv` was aligned to that of `DataFrame.to_csv`, and argument 'header' will change its default value from False to True: please pass an explicit value to suppress this warning.\n"
     ]
    }
   ],
   "source": [
    "if __name__ == \"__main__\": # {\n",
    "    in_file_2 = \"C:/data/inbound/SDS_List_for_Web.csv\"\n",
    "    in_file_1 = \"C:/data/inbound/SDS_files-2020-02-07 16.csv\"\n",
    "    # CALL MAIN FUNCTION\n",
    "    main()\n",
    "# }"
   ]
  },
  {
   "cell_type": "code",
   "execution_count": null,
   "metadata": {},
   "outputs": [],
   "source": []
  }
 ],
 "metadata": {
  "kernelspec": {
   "display_name": "Python 3",
   "language": "python",
   "name": "python3"
  },
  "language_info": {
   "codemirror_mode": {
    "name": "ipython",
    "version": 3
   },
   "file_extension": ".py",
   "mimetype": "text/x-python",
   "name": "python",
   "nbconvert_exporter": "python",
   "pygments_lexer": "ipython3",
   "version": "3.7.0"
  },
  "toc": {
   "base_numbering": 1,
   "nav_menu": {},
   "number_sections": true,
   "sideBar": true,
   "skip_h1_title": false,
   "title_cell": "Table of Contents",
   "title_sidebar": "Contents",
   "toc_cell": false,
   "toc_position": {},
   "toc_section_display": true,
   "toc_window_display": false
  },
  "varInspector": {
   "cols": {
    "lenName": 16,
    "lenType": 16,
    "lenVar": 40
   },
   "kernels_config": {
    "python": {
     "delete_cmd_postfix": "",
     "delete_cmd_prefix": "del ",
     "library": "var_list.py",
     "varRefreshCmd": "print(var_dic_list())"
    },
    "r": {
     "delete_cmd_postfix": ") ",
     "delete_cmd_prefix": "rm(",
     "library": "var_list.r",
     "varRefreshCmd": "cat(var_dic_list()) "
    }
   },
   "types_to_exclude": [
    "module",
    "function",
    "builtin_function_or_method",
    "instance",
    "_Feature"
   ],
   "window_display": false
  }
 },
 "nbformat": 4,
 "nbformat_minor": 2
}
