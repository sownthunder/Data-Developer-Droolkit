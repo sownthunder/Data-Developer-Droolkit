{
 "cells": [
  {
   "cell_type": "code",
   "execution_count": 1,
   "metadata": {},
   "outputs": [],
   "source": [
    "import tkinter as tk\n",
    "from tkinter import ttk\n",
    "\n",
    "root = tk.Tk()\n",
    "log = tk.Text(root, state='disabled', width=80, height=24, wrap='none')\n",
    "log.grid()\n",
    "\n",
    "def writeToLog(msg): #{\n",
    "    numlines = log.index('end - 1 line').split('.')[0]\n",
    "    log['state'] = 'normal'\n",
    "    if numlines==24: #{\n",
    "        log.delete(1.0, 2.0)\n",
    "    if log.index('end-1c')!='1.0': #{\n",
    "        log.insert('end', '\\n')\n",
    "    #}\n",
    "    log.insert('end', msg)\n",
    "    log['state'] = 'disabled'\n",
    "#}"
   ]
  },
  {
   "cell_type": "code",
   "execution_count": null,
   "metadata": {},
   "outputs": [],
   "source": []
  }
 ],
 "metadata": {
  "kernelspec": {
   "display_name": "Python 3",
   "language": "python",
   "name": "python3"
  },
  "language_info": {
   "codemirror_mode": {
    "name": "ipython",
    "version": 3
   },
   "file_extension": ".py",
   "mimetype": "text/x-python",
   "name": "python",
   "nbconvert_exporter": "python",
   "pygments_lexer": "ipython3",
   "version": "3.7.0"
  }
 },
 "nbformat": 4,
 "nbformat_minor": 4
}
