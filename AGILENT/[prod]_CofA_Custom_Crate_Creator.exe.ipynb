{
 "cells": [
  {
   "cell_type": "markdown",
   "metadata": {},
   "source": [
    "# [REFERENCE-LINK](http://localhost:8888/notebooks/AGILENT/GUI/%5Btest%5D_CofA_Custom_Crate_GUI_1.ipynb)"
   ]
  },
  {
   "cell_type": "code",
   "execution_count": 1,
   "metadata": {},
   "outputs": [],
   "source": [
    "# IMPORT THE GOODS\n",
    "import os, sys, time\n",
    "from time import sleep\n",
    "from pathlib import Path\n",
    "import fnmatch, glob, shutil\n",
    "import wmi, psutil\n",
    "from PyPDF2 import PdfFileWriter, PdfFileReader\n",
    "import tempfile\n",
    "from zipfile import ZipFile\n",
    "import pandas as pd\n",
    "import numpy as np\n",
    "from pandas import Series, DataFrame\n",
    "import tkinter as tk\n",
    "from tkinter import ttk\n",
    "from tkinter import filedialog\n",
    "from tkinter import messagebox\n",
    "import logging"
   ]
  },
  {
   "cell_type": "code",
   "execution_count": 2,
   "metadata": {},
   "outputs": [],
   "source": [
    "def clicked(): #{\n",
    "    # RE-INSTANTIATE GLOBALS\n",
    "    global label1\n",
    "    \n",
    "    label1.configure(text=\"AFTER... button was clicked\", state=tk.DISABLED)\n",
    "#}"
   ]
  },
  {
   "cell_type": "code",
   "execution_count": 3,
   "metadata": {},
   "outputs": [
    {
     "ename": "SyntaxError",
     "evalue": "unexpected EOF while parsing (<ipython-input-3-2f901b166cc1>, line 4)",
     "output_type": "error",
     "traceback": [
      "\u001b[1;36m  File \u001b[1;32m\"<ipython-input-3-2f901b166cc1>\"\u001b[1;36m, line \u001b[1;32m4\u001b[0m\n\u001b[1;33m    #}\u001b[0m\n\u001b[1;37m      ^\u001b[0m\n\u001b[1;31mSyntaxError\u001b[0m\u001b[1;31m:\u001b[0m unexpected EOF while parsing\n"
     ]
    }
   ],
   "source": [
    "def select_batch_list(): #{\n",
    "    # RE-INSTANTIATE GLOBALS\n",
    "    \n",
    "#}"
   ]
  },
  {
   "cell_type": "code",
   "execution_count": null,
   "metadata": {},
   "outputs": [],
   "source": [
    "def display_batch_list(): #{\n",
    "    pass\n",
    "#}"
   ]
  },
  {
   "cell_type": "code",
   "execution_count": null,
   "metadata": {},
   "outputs": [],
   "source": [
    "def select_zip_folder(): #{\n",
    "    # RE-INSTANTIATE GLOBALS\n",
    "    global \n",
    "#}"
   ]
  },
  {
   "cell_type": "code",
   "execution_count": null,
   "metadata": {},
   "outputs": [],
   "source": [
    "if __name__ == \"__main__\": #{\n",
    "    # INSTANTIATE GLOBAL VARIABLES\n",
    "    selected_batch_list = False\n",
    "    selected_zip_folder = False\n",
    "    e1_var = tk.StringVar()\n",
    "    e2_var = tk.StringVar()\n",
    "    check_var = tk.IntVar()\n",
    "    in_directory = \"F:/APPS/CofA/\"\n",
    "    check_directory = \"G:/C of A's/#Email Node/\"\n",
    "    watermark_pdf = \"C:/data/inbound/02OTHER_Rohde Island_Agilent Quality_Digital Letterhead.pdf\"\n",
    "    zip_folder = \".\"\n",
    "    out_directory = \".\"\n",
    "    #b1_var = tk.BooleanVar(master=root, value=p)\n",
    "    # MAIN APP PROPERTIES\n",
    "    root = tk.Tk()\n",
    "    root.title('CofA_Custom_Crate')\n",
    "    root.geometry('552x282+250+250')\n",
    "    root.minsize(width=474, height=282) # WAS: (width=375, height=275)\n",
    "    root.maxsize(width=552, height=450) # WAS: (width=False, height=False)\n",
    "    root.resizable(width=True, height=False)\n",
    "    \n",
    "    \n",
    "    \n",
    "    \"\"\"\n",
    "    # TOP FRAME\n",
    "    topframe = tk.Frame(master=root)\n",
    "    topframe.pack(anchor=tk.CENTER, fill=tk.X, expand=True)\n",
    "    \n",
    "    label1 = tk.Label(master=topframe, text=\"before...\", relief=tk.GROOVE)\n",
    "    label1.pack(anchor=tk.CENTER, fill=tk.BOTH, expand=True)\n",
    "    \n",
    "    # BOTTOM FRAME\n",
    "    bottomframe = tk.Frame(master=topframe)\n",
    "    bottomframe.pack(anchor=tk.CENTER, fill=tk.X, expand=True)\n",
    "    \n",
    "    button1 = tk.Button(master=bottomframe, text=\"CLICK ME\", command=clicked)\n",
    "    button1.pack(anchor=tk.CENTER, fill=tk.BOTH, expand=True)\n",
    "    \n",
    "    root.config()\n",
    "    root.mainloop()\n",
    "    \"\"\"\n",
    "#}"
   ]
  },
  {
   "cell_type": "code",
   "execution_count": null,
   "metadata": {},
   "outputs": [],
   "source": []
  }
 ],
 "metadata": {
  "celltoolbar": "Raw Cell Format",
  "kernelspec": {
   "display_name": "Python 3",
   "language": "python",
   "name": "python3"
  },
  "language_info": {
   "codemirror_mode": {
    "name": "ipython",
    "version": 3
   },
   "file_extension": ".py",
   "mimetype": "text/x-python",
   "name": "python",
   "nbconvert_exporter": "python",
   "pygments_lexer": "ipython3",
   "version": "3.7.3"
  }
 },
 "nbformat": 4,
 "nbformat_minor": 2
}
