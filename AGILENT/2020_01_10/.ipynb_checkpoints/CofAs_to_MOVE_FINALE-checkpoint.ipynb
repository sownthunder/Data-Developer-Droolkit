{
 "cells": [
  {
   "cell_type": "code",
   "execution_count": 1,
   "metadata": {},
   "outputs": [],
   "source": [
    "import os, sys, time\n",
    "from time import sleep\n",
    "from pathlib import Path\n",
    "import pandas as pd\n",
    "import numpy as np\n",
    "from pandas import Series, DataFrame\n",
    "import fnmatch, shutil"
   ]
  },
  {
   "cell_type": "code",
   "execution_count": 2,
   "metadata": {},
   "outputs": [],
   "source": [
    "def main(): # {\n",
    "    # RE-INSTANTIATE GLOBALS\n",
    "    global in_file, in_directory, out_directory, outbound_directory\n",
    "    print(\"INFILE == \" + str(in_file))\n",
    "# }"
   ]
  },
  {
   "cell_type": "code",
   "execution_count": 3,
   "metadata": {},
   "outputs": [
    {
     "name": "stdout",
     "output_type": "stream",
     "text": [
      "INFILE == C:\\data\\inbound\\CofAs to move .xlsx\n"
     ]
    }
   ],
   "source": [
    "# MAIN BOILERPLATE\n",
    "if __name__ == \"__main__\": # {\n",
    "    # INSTANTIATE GLOBAL VARIABELS\n",
    "    in_file = Path(\"C:/data/inbound/CofAs to move .xlsx\")\n",
    "    in_directory = Path(\"G:/C of A's/#CofA with background for web\")\n",
    "    out_directory = Path(\"C:/data/outbound/2019-12-27/\")\n",
    "    outbound_directory = Path(\"G:/C of A's/#CofA with background for web/Missing CofAs\")\n",
    "    # CALL MAIN FUNCTION\n",
    "    main()\n",
    "# }"
   ]
  },
  {
   "cell_type": "code",
   "execution_count": null,
   "metadata": {},
   "outputs": [],
   "source": []
  }
 ],
 "metadata": {
  "kernelspec": {
   "display_name": "Python 3",
   "language": "python",
   "name": "python3"
  },
  "language_info": {
   "codemirror_mode": {
    "name": "ipython",
    "version": 3
   },
   "file_extension": ".py",
   "mimetype": "text/x-python",
   "name": "python",
   "nbconvert_exporter": "python",
   "pygments_lexer": "ipython3",
   "version": "3.7.0"
  }
 },
 "nbformat": 4,
 "nbformat_minor": 2
}
