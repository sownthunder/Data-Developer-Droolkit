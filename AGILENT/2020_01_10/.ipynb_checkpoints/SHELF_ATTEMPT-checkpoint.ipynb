{
 "cells": [
  {
   "cell_type": "code",
   "execution_count": 1,
   "metadata": {},
   "outputs": [],
   "source": [
    "import os, sys, time\n",
    "from time import sleep\n",
    "from pathlib import Path\n",
    "import shelve"
   ]
  },
  {
   "cell_type": "markdown",
   "metadata": {},
   "source": [
    "## Creating a new Shelf\n",
    "\n",
    "The simplest way to use `shelve` is via the `DbfilenameShelf` class. \n",
    "\n",
    "It uses `dbm` to store the data. The class can be used directly, or by calling `shelve.open()`"
   ]
  },
  {
   "cell_type": "code",
   "execution_count": 2,
   "metadata": {},
   "outputs": [],
   "source": [
    "with shelve.open('test_shelf.db') as s: # {\n",
    "    s['key1'] = {\n",
    "        'int': 10,\n",
    "        'float': 9.5,\n",
    "        'string': 'Simple data',\n",
    "    }\n",
    "# }"
   ]
  },
  {
   "cell_type": "markdown",
   "metadata": {},
   "source": [
    "To access the data again, open the shelf and use it like a dictionary."
   ]
  },
  {
   "cell_type": "code",
   "execution_count": 3,
   "metadata": {},
   "outputs": [
    {
     "name": "stdout",
     "output_type": "stream",
     "text": [
      "{'int': 10, 'float': 9.5, 'string': 'Simple data'}\n"
     ]
    }
   ],
   "source": [
    "with shelve.open('test_shelf.db') as s: # {\n",
    "    existing = s['key1']\n",
    "# }\n",
    "\n",
    "print(existing)"
   ]
  },
  {
   "cell_type": "code",
   "execution_count": null,
   "metadata": {},
   "outputs": [],
   "source": []
  }
 ],
 "metadata": {
  "kernelspec": {
   "display_name": "Python 3",
   "language": "python",
   "name": "python3"
  },
  "language_info": {
   "codemirror_mode": {
    "name": "ipython",
    "version": 3
   },
   "file_extension": ".py",
   "mimetype": "text/x-python",
   "name": "python",
   "nbconvert_exporter": "python",
   "pygments_lexer": "ipython3",
   "version": "3.7.0"
  }
 },
 "nbformat": 4,
 "nbformat_minor": 2
}
