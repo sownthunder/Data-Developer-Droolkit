{
 "cells": [
  {
   "cell_type": "markdown",
   "metadata": {},
   "source": [
    "### *FROM:*\n",
    "#### `G:/C of A's/#CofA with background for web/Missing CofAs`\n",
    "\n",
    "### *TO:*\n",
    "#### `G:/C of A's/#CofA with background for web`\n",
    "\n",
    "\n",
    "---\n",
    "\n",
    "## *ENDING UP JUST MOVING VIA FILE EXPLORER*"
   ]
  },
  {
   "cell_type": "code",
   "execution_count": null,
   "metadata": {},
   "outputs": [],
   "source": [
    "import os, sys, time\n",
    "from time import sleep\n",
    "from pathlib import Path\n",
    "import pandas as pd\n",
    "import numpy as np\n",
    "from pandas import Series, DataFrame"
   ]
  },
  {
   "cell_type": "code",
   "execution_count": 1,
   "metadata": {},
   "outputs": [],
   "source": [
    "def main(): # {\n",
    "    # RE-INSTANTIATE GLOBALS\n",
    "    global in_directory, out_directory, outbound_directory\n",
    "    # GET DIRECTORY LISTING AS SERIES / DATAFRAME\n",
    "    dir_list = os.listdir(in_directory)\n",
    "    # CREATE SERIES OFF LIST\n",
    "    d1 = pd.Series(data=dir_list)\n",
    "    # CREATE NEW EMPTY DATAFRAME WITH DIRECTORY LIST AS INDEX\n",
    "    moveback_df = pd.DataFrame(data=None, dtype=np.str)\n",
    "    # END\n",
    "# }"
   ]
  },
  {
   "cell_type": "code",
   "execution_count": null,
   "metadata": {},
   "outputs": [],
   "source": [
    "if __name__ == \"__main__\": # {\n",
    "    # INSTANTIATE GLOBAL VARIABLES\n",
    "    in_directory = Path(\"G:/C of A's/#CofA with background for web/Missing CofAs\")\n",
    "    out_directory = Path(\"C:/data/outbound/2020-01-10\")\n",
    "    outbound_directory = Path(\"G:/C of A's/#CofA with background for web\")\n",
    "# }"
   ]
  }
 ],
 "metadata": {
  "kernelspec": {
   "display_name": "Python 3",
   "language": "python",
   "name": "python3"
  },
  "language_info": {
   "codemirror_mode": {
    "name": "ipython",
    "version": 3
   },
   "file_extension": ".py",
   "mimetype": "text/x-python",
   "name": "python",
   "nbconvert_exporter": "python",
   "pygments_lexer": "ipython3",
   "version": "3.7.0"
  }
 },
 "nbformat": 4,
 "nbformat_minor": 2
}
