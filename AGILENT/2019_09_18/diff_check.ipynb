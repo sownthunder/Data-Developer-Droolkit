{
 "cells": [
  {
   "cell_type": "code",
   "execution_count": 6,
   "metadata": {},
   "outputs": [],
   "source": [
    "import os, sys, time\n",
    "from time import sleep\n",
    "import fnmatch\n",
    "import pandas as pd\n",
    "import numpy as np\n",
    "from pandas import Series, DataFrame\n"
   ]
  },
  {
   "cell_type": "code",
   "execution_count": 11,
   "metadata": {},
   "outputs": [],
   "source": [
    "in_file = \"CofA-2019-09-17.csv\""
   ]
  },
  {
   "cell_type": "code",
   "execution_count": 2,
   "metadata": {},
   "outputs": [],
   "source": [
    "pdf_list = os.listdir(\".\")"
   ]
  },
  {
   "cell_type": "code",
   "execution_count": 5,
   "metadata": {},
   "outputs": [
    {
     "data": {
      "text/plain": [
       "45"
      ]
     },
     "execution_count": 5,
     "metadata": {},
     "output_type": "execute_result"
    }
   ],
   "source": [
    "len(pdf_list)"
   ]
  },
  {
   "cell_type": "code",
   "execution_count": 7,
   "metadata": {},
   "outputs": [],
   "source": [
    "the_pdfs = []\n",
    "for pdf in pdf_list: #{\n",
    "    if fnmatch.fnmatch(pdf, \"*.pdf\"): #{\n",
    "        the_pdfs.append(pdf)\n",
    "    #}\n",
    "#}"
   ]
  },
  {
   "cell_type": "code",
   "execution_count": 10,
   "metadata": {},
   "outputs": [
    {
     "name": "stdout",
     "output_type": "stream",
     "text": [
      "                                0\n",
      "0         AM-280-1@0006489701.pdf\n",
      "1        CLP-310-1@0006490751.pdf\n",
      "2     CUS-00000729@0006490125.pdf\n",
      "3        CUS-11329@0006489615.pdf\n",
      "4        CUS-12298@0006489969.pdf\n",
      "5        CUS-14555@0006490716.pdf\n",
      "6         CUS-9451@0006491340.pdf\n",
      "7    DRG-1195-10MG@0006484300.pdf\n",
      "8       EPA-1074-1@0006489895.pdf\n",
      "9         FLSA-005@0006490704.pdf\n",
      "10        FLSA-009@0006490705.pdf\n",
      "11       ICUS-4272@0006490110.pdf\n",
      "12       ICUS-4273@0006490109.pdf\n",
      "13       ICUS-7247@0006490112.pdf\n",
      "14       ISM-570-1@0006489908.pdf\n",
      "15    N-0000000024@0006490703.pdf\n",
      "16        NS-110-1@0006489913.pdf\n",
      "17      PHM-552M-1@0006490148.pdf\n",
      "18        PP-271-1@0006489707.pdf\n",
      "19       PP-530A-1@0006490154.pdf\n",
      "20      PPM-525C-1@0006490192.pdf\n",
      "21      PPM-525D-1@0006490193.pdf\n",
      "22   PST-1385-10MG@0006490388.pdf\n",
      "23   PST-1600-10MG@0006490389.pdf\n",
      "24        PST-1750@0006490390.pdf\n",
      "25   PST-1850-10MG@0006490391.pdf\n",
      "26   PST-2565-10MG@0006490392.pdf\n",
      "27   PST-2925-10MG@0006490393.pdf\n",
      "28  PST-3115-100MG@0006490394.pdf\n",
      "29   PST-3150-10MG@0006490395.pdf\n",
      "30   PST-3220-10MG@0006490396.pdf\n",
      "31   PST-3290-10MG@0006490397.pdf\n",
      "32   RBA-012-100MG@0006490398.pdf\n",
      "33       RGO-312-1@0006490735.pdf\n",
      "34         RNA-034@0006490399.pdf\n",
      "35        SP-140-1@0006489711.pdf\n",
      "36       SPM-874-1@0006489716.pdf\n",
      "37        US-320-1@0006489921.pdf\n",
      "38       UST-140-1@0006489919.pdf\n",
      "39       UST-310-1@0006489918.pdf\n",
      "40        WRK-151Q@0006487863.pdf\n",
      "41        WRK-170K@0006487865.pdf\n",
      "42        WRK-170P@0006487867.pdf\n"
     ]
    },
    {
     "data": {
      "text/plain": [
       "43"
      ]
     },
     "execution_count": 10,
     "metadata": {},
     "output_type": "execute_result"
    }
   ],
   "source": [
    "pdf_df = pd.DataFrame(data=the_pdfs)\n",
    "print(pdf_df)\n",
    "len(pdf_df)"
   ]
  },
  {
   "cell_type": "code",
   "execution_count": 12,
   "metadata": {},
   "outputs": [],
   "source": [
    "df_2 = pd.read_csv(in_file)"
   ]
  },
  {
   "cell_type": "code",
   "execution_count": 14,
   "metadata": {},
   "outputs": [
    {
     "name": "stdout",
     "output_type": "stream",
     "text": [
      "44\n"
     ]
    }
   ],
   "source": [
    "print(len(df_2))"
   ]
  },
  {
   "cell_type": "code",
   "execution_count": 13,
   "metadata": {},
   "outputs": [
    {
     "name": "stdout",
     "output_type": "stream",
     "text": [
      "                                            CofA                   Timestamp\n",
      "0         part AM-280-1 CofA Lot# 0006489701.pdf  2019-09-17 16:33:23.357888\n",
      "1        part CLP-310-1 CofA Lot# 0006490751.pdf  2019-09-17 16:34:34.343171\n",
      "2     part CUS-00000729 CofA Lot# 0006490125.pdf  2019-09-17 16:34:08.170961\n",
      "3        part CUS-11329 CofA Lot# 0006489615.pdf  2019-09-17 16:24:12.382085\n",
      "4        part CUS-12298 CofA Lot# 0006489969.pdf  2019-09-17 16:33:54.905166\n",
      "5        part CUS-14555 CofA Lot# 0006490716.pdf  2019-09-17 16:34:28.296219\n",
      "6         part CUS-9451 CofA Lot# 0006491340.pdf  2019-09-17 16:34:37.468211\n",
      "7    part DRG-1195-10MG CofA Lot# 0006484300.pdf  2019-09-17 06:53:04.960101\n",
      "8       part EPA-1074-1 CofA Lot# 0006489895.pdf  2019-09-17 16:33:34.826784\n",
      "9         part FLSA-005 CofA Lot# 0006490704.pdf  2019-09-17 06:53:41.398067\n",
      "10        part FLSA-009 CofA Lot# 0006490705.pdf  2019-09-17 06:53:43.960600\n",
      "11       part ICUS-1532 CofA Lot# 0006490420.pdf  2019-09-17 16:34:24.343043\n",
      "12       part ICUS-4272 CofA Lot# 0006490110.pdf  2019-09-17 16:34:00.936493\n",
      "13       part ICUS-4273 CofA Lot# 0006490109.pdf  2019-09-17 16:33:58.123957\n",
      "14       part ICUS-7247 CofA Lot# 0006490112.pdf  2019-09-17 16:34:04.842793\n",
      "15       part ISM-570-1 CofA Lot# 0006489908.pdf  2019-09-17 16:33:37.467443\n",
      "16    part N-0000000024 CofA Lot# 0006490703.pdf  2019-09-17 06:53:38.788659\n",
      "17        part NS-110-1 CofA Lot# 0006489913.pdf  2019-09-17 16:33:40.358105\n",
      "18      part PHM-552M-1 CofA Lot# 0006490148.pdf  2019-09-17 16:34:11.139749\n",
      "19        part PP-271-1 CofA Lot# 0006489707.pdf  2019-09-17 16:33:26.201674\n",
      "20       part PP-530A-1 CofA Lot# 0006490154.pdf  2019-09-17 16:34:14.186663\n",
      "21      part PPM-525C-1 CofA Lot# 0006490192.pdf  2019-09-17 16:34:17.952336\n",
      "22      part PPM-525D-1 CofA Lot# 0006490193.pdf  2019-09-17 16:34:21.718009\n",
      "23   part PST-1385-10MG CofA Lot# 0006490388.pdf  2019-09-17 06:53:07.600760\n",
      "24   part PST-1600-10MG CofA Lot# 0006490389.pdf  2019-09-17 06:53:10.210168\n",
      "25        part PST-1750 CofA Lot# 0006490390.pdf  2019-09-17 06:53:12.835202\n",
      "26   part PST-1850-10MG CofA Lot# 0006490391.pdf  2019-09-17 06:53:15.428985\n",
      "27   part PST-2565-10MG CofA Lot# 0006490392.pdf  2019-09-17 06:53:17.991518\n",
      "28   part PST-2925-10MG CofA Lot# 0006490393.pdf  2019-09-17 06:53:20.569675\n",
      "29  part PST-3115-100MG CofA Lot# 0006490394.pdf  2019-09-17 06:53:23.147834\n",
      "30   part PST-3150-10MG CofA Lot# 0006490395.pdf  2019-09-17 06:53:25.772867\n",
      "31   part PST-3220-10MG CofA Lot# 0006490396.pdf  2019-09-17 06:53:28.366650\n",
      "32   part PST-3290-10MG CofA Lot# 0006490397.pdf  2019-09-17 06:53:30.960433\n",
      "33   part RBA-012-100MG CofA Lot# 0006490398.pdf  2019-09-17 06:53:33.538591\n",
      "34       part RGO-312-1 CofA Lot# 0006490735.pdf  2019-09-17 16:34:31.265007\n",
      "35         part RNA-034 CofA Lot# 0006490399.pdf  2019-09-17 06:53:36.194875\n",
      "36        part SP-140-1 CofA Lot# 0006489711.pdf  2019-09-17 16:33:29.045460\n",
      "37       part SPM-874-1 CofA Lot# 0006489716.pdf  2019-09-17 16:33:31.795496\n",
      "38        part US-320-1 CofA Lot# 0006489921.pdf  2019-09-17 16:33:50.670737\n",
      "39       part UST-140-1 CofA Lot# 0006489919.pdf  2019-09-17 16:33:46.389432\n",
      "40       part UST-310-1 CofA Lot# 0006489918.pdf  2019-09-17 16:33:43.076890\n",
      "41        part WRK-151Q CofA Lot# 0006487863.pdf  2019-09-17 16:24:03.881976\n",
      "42        part WRK-170K CofA Lot# 0006487865.pdf  2019-09-17 16:24:06.694512\n",
      "43        part WRK-170P CofA Lot# 0006487867.pdf  2019-09-17 16:24:09.600800\n"
     ]
    }
   ],
   "source": [
    "print(df_2)"
   ]
  },
  {
   "cell_type": "code",
   "execution_count": null,
   "metadata": {},
   "outputs": [],
   "source": []
  }
 ],
 "metadata": {
  "kernelspec": {
   "display_name": "Python 3",
   "language": "python",
   "name": "python3"
  },
  "language_info": {
   "codemirror_mode": {
    "name": "ipython",
    "version": 3
   },
   "file_extension": ".py",
   "mimetype": "text/x-python",
   "name": "python",
   "nbconvert_exporter": "python",
   "pygments_lexer": "ipython3",
   "version": "3.7.3"
  }
 },
 "nbformat": 4,
 "nbformat_minor": 2
}
