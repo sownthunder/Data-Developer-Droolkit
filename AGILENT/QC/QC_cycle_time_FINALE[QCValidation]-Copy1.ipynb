{
 "cells": [
  {
   "cell_type": "code",
   "execution_count": 1,
   "metadata": {
    "ExecuteTime": {
     "end_time": "2020-03-30T02:29:44.483530Z",
     "start_time": "2020-03-30T02:29:42.982532Z"
    }
   },
   "outputs": [],
   "source": [
    "import os, sys, time\n",
    "from time import sleep\n",
    "from pathlib import Path\n",
    "import pandas as pd\n",
    "import numpy as np\n",
    "from pandas import Series, DataFrame"
   ]
  },
  {
   "cell_type": "code",
   "execution_count": 2,
   "metadata": {
    "ExecuteTime": {
     "end_time": "2020-03-30T02:29:46.876555Z",
     "start_time": "2020-03-30T02:29:44.484530Z"
    }
   },
   "outputs": [],
   "source": [
    "qc_metrics_table = pd.read_csv(\"c:/data/inbound/2020-03-26/qc_metrics_table.csv\",\n",
    "                               index_col=0,\n",
    "                               parse_dates=['QCDate', 'EntryDate', \n",
    "                                           'AmpDate', 'OriginationDate',\n",
    "                                           'PrepDate', 'BulkQCDate', 'QCExpDate'],\n",
    "                               dtype=np.str,\n",
    "                               low_memory=False\n",
    "                              )"
   ]
  },
  {
   "cell_type": "code",
   "execution_count": 3,
   "metadata": {
    "ExecuteTime": {
     "end_time": "2020-03-30T02:29:47.028527Z",
     "start_time": "2020-03-30T02:29:46.878530Z"
    }
   },
   "outputs": [],
   "source": [
    "# CHANGE 'AmpTimeOut' & 'AmpTimeIn' to TIMEDELTA columsn?\n",
    "qc_metrics_table['AmpTimeIn'] = pd.to_datetime(qc_metrics_table['AmpTimeIn'])\n",
    "qc_metrics_table['AmpTimeOut'] = pd.to_datetime(qc_metrics_table['AmpTimeOut'])"
   ]
  },
  {
   "cell_type": "code",
   "execution_count": 4,
   "metadata": {
    "ExecuteTime": {
     "end_time": "2020-03-30T02:29:47.041526Z",
     "start_time": "2020-03-30T02:29:47.030528Z"
    }
   },
   "outputs": [],
   "source": [
    "# CHANGE 'PfBatchID' to STRING\n",
    "# Change data type of column 'Age' from int64 to string i.e. object type\n",
    "qc_metrics_table['PfBatchID'] = qc_metrics_table['PfBatchID'].astype('object')\n",
    "qc_metrics_table['ProductID'] = qc_metrics_table['ProductID'].astype('object')"
   ]
  },
  {
   "cell_type": "markdown",
   "metadata": {},
   "source": [
    "### only get QCValidations of `1`, `2`, or `3` "
   ]
  },
  {
   "cell_type": "code",
   "execution_count": 5,
   "metadata": {
    "ExecuteTime": {
     "end_time": "2020-03-30T02:29:47.046527Z",
     "start_time": "2020-03-30T02:29:47.043528Z"
    }
   },
   "outputs": [],
   "source": [
    "value_list = ['1.0', '2.0', '3.0']"
   ]
  },
  {
   "cell_type": "code",
   "execution_count": 6,
   "metadata": {
    "ExecuteTime": {
     "end_time": "2020-03-30T02:29:47.055527Z",
     "start_time": "2020-03-30T02:29:47.048532Z"
    }
   },
   "outputs": [],
   "source": [
    "level_1 = ['1.0']\n",
    "level_2 = ['2.0']\n",
    "level_3 = ['3.0']"
   ]
  },
  {
   "cell_type": "code",
   "execution_count": 7,
   "metadata": {
    "ExecuteTime": {
     "end_time": "2020-03-30T02:29:47.156528Z",
     "start_time": "2020-03-30T02:29:47.058529Z"
    }
   },
   "outputs": [],
   "source": [
    "# GRAB DATAFRAME ROWS where COLUMN contains certain values\n",
    "df_metrics_table = qc_metrics_table[qc_metrics_table['QCValidation'].isin(value_list)]"
   ]
  },
  {
   "cell_type": "raw",
   "metadata": {},
   "source": [
    "# THEN GRAB DATAFRAME ROWS for EACH PRODUCT LEVEL\n",
    "self.df_level_1 = self.df_metrics_table[self.df_metrics_table['QCValidation'].isin(level_1)]\n",
    "self.df_level_2 = self.df_metrics_table[self.df_metrics_table['QCValidation'].isin(level_2)]\n",
    "self.df_level_3 = self.df_metrics_table[self.df_metrics_table['QCValidation'].isin(level_3)]"
   ]
  },
  {
   "cell_type": "raw",
   "metadata": {},
   "source": [
    "print(\"LEN OF (all levels) == \" + str(len(self.df_daily_levels)))\n",
    "print(\"LEN OF (#01 levels) == \" + str(len(self.df_level_1)))\n",
    "print(\"LEN OF (#02 levels) == \" + str(len(self.df_level_2)))\n",
    "print(\"LEN OF (#03 levels) == \" + str(len(self.df_level_3)))\n",
    "# CREATE << GROUPBY >> DATAFRAME\n",
    "self.df_groupby_levels = pd.DataFrame(data=self.df_total_levels.groupby(['QCDate', 'QCValidation'])[['PfBatchID'].count()])\n",
    "# TEST RESAMPLE ?\n",
    "self.df_total_levels.set_index('QCDate').resample('W')['QCValidation'].mean()\n",
    "# TEST WEIGHTED AVG ?"
   ]
  },
  {
   "cell_type": "markdown",
   "metadata": {},
   "source": [
    "### only look at data for `specific time range`"
   ]
  },
  {
   "cell_type": "code",
   "execution_count": 8,
   "metadata": {
    "ExecuteTime": {
     "end_time": "2020-03-30T02:29:47.174525Z",
     "start_time": "2020-03-30T02:29:47.160527Z"
    }
   },
   "outputs": [],
   "source": [
    "# Select observations between two datetimes\n",
    "# 2019-11-01\n",
    "# to:\n",
    "# 2020-03-01\n",
    "df_metrics_obv = df_metrics_table[(df_metrics_table['QCDate'] > '2019-11-01') & (df_metrics_table['QCDate'] <= '2020-03-01')]"
   ]
  },
  {
   "cell_type": "markdown",
   "metadata": {},
   "source": [
    "### How many `PfBatchID`, per `QCValidation`, per `QCDate`?"
   ]
  },
  {
   "cell_type": "code",
   "execution_count": 9,
   "metadata": {
    "ExecuteTime": {
     "end_time": "2020-03-30T02:29:47.187523Z",
     "start_time": "2020-03-30T02:29:47.176528Z"
    }
   },
   "outputs": [],
   "source": [
    "ProdsPerDay = df_metrics_obv.groupby(['QCDate', 'QCValidation'])[['PfBatchID']].count()"
   ]
  },
  {
   "cell_type": "code",
   "execution_count": 10,
   "metadata": {
    "ExecuteTime": {
     "end_time": "2020-03-30T02:29:47.210528Z",
     "start_time": "2020-03-30T02:29:47.189528Z"
    }
   },
   "outputs": [
    {
     "data": {
      "text/html": [
       "<div>\n",
       "<style scoped>\n",
       "    .dataframe tbody tr th:only-of-type {\n",
       "        vertical-align: middle;\n",
       "    }\n",
       "\n",
       "    .dataframe tbody tr th {\n",
       "        vertical-align: top;\n",
       "    }\n",
       "\n",
       "    .dataframe thead th {\n",
       "        text-align: right;\n",
       "    }\n",
       "</style>\n",
       "<table border=\"1\" class=\"dataframe\">\n",
       "  <thead>\n",
       "    <tr style=\"text-align: right;\">\n",
       "      <th></th>\n",
       "      <th></th>\n",
       "      <th>PfBatchID</th>\n",
       "    </tr>\n",
       "    <tr>\n",
       "      <th>QCDate</th>\n",
       "      <th>QCValidation</th>\n",
       "      <th></th>\n",
       "    </tr>\n",
       "  </thead>\n",
       "  <tbody>\n",
       "    <tr>\n",
       "      <td rowspan=\"3\" valign=\"top\">2019-11-04</td>\n",
       "      <td>1.0</td>\n",
       "      <td>16</td>\n",
       "    </tr>\n",
       "    <tr>\n",
       "      <td>2.0</td>\n",
       "      <td>1</td>\n",
       "    </tr>\n",
       "    <tr>\n",
       "      <td>3.0</td>\n",
       "      <td>2</td>\n",
       "    </tr>\n",
       "    <tr>\n",
       "      <td>2019-11-05</td>\n",
       "      <td>1.0</td>\n",
       "      <td>23</td>\n",
       "    </tr>\n",
       "    <tr>\n",
       "      <td>2019-11-06</td>\n",
       "      <td>1.0</td>\n",
       "      <td>16</td>\n",
       "    </tr>\n",
       "    <tr>\n",
       "      <td>...</td>\n",
       "      <td>...</td>\n",
       "      <td>...</td>\n",
       "    </tr>\n",
       "    <tr>\n",
       "      <td>2020-02-25</td>\n",
       "      <td>1.0</td>\n",
       "      <td>29</td>\n",
       "    </tr>\n",
       "    <tr>\n",
       "      <td rowspan=\"2\" valign=\"top\">2020-02-26</td>\n",
       "      <td>1.0</td>\n",
       "      <td>26</td>\n",
       "    </tr>\n",
       "    <tr>\n",
       "      <td>3.0</td>\n",
       "      <td>4</td>\n",
       "    </tr>\n",
       "    <tr>\n",
       "      <td>2020-02-27</td>\n",
       "      <td>1.0</td>\n",
       "      <td>27</td>\n",
       "    </tr>\n",
       "    <tr>\n",
       "      <td>2020-02-28</td>\n",
       "      <td>1.0</td>\n",
       "      <td>28</td>\n",
       "    </tr>\n",
       "  </tbody>\n",
       "</table>\n",
       "<p>128 rows × 1 columns</p>\n",
       "</div>"
      ],
      "text/plain": [
       "                         PfBatchID\n",
       "QCDate     QCValidation           \n",
       "2019-11-04 1.0                  16\n",
       "           2.0                   1\n",
       "           3.0                   2\n",
       "2019-11-05 1.0                  23\n",
       "2019-11-06 1.0                  16\n",
       "...                            ...\n",
       "2020-02-25 1.0                  29\n",
       "2020-02-26 1.0                  26\n",
       "           3.0                   4\n",
       "2020-02-27 1.0                  27\n",
       "2020-02-28 1.0                  28\n",
       "\n",
       "[128 rows x 1 columns]"
      ]
     },
     "execution_count": 10,
     "metadata": {},
     "output_type": "execute_result"
    }
   ],
   "source": [
    "ProdsPerDay"
   ]
  },
  {
   "cell_type": "code",
   "execution_count": 11,
   "metadata": {
    "ExecuteTime": {
     "end_time": "2020-03-30T02:29:47.224523Z",
     "start_time": "2020-03-30T02:29:47.212527Z"
    }
   },
   "outputs": [],
   "source": [
    "ProdsPerDay.to_csv(\"c:/data/outbound/2020-03-29/ProdsPerDay.csv\")"
   ]
  },
  {
   "cell_type": "markdown",
   "metadata": {},
   "source": [
    "---"
   ]
  },
  {
   "cell_type": "code",
   "execution_count": 12,
   "metadata": {
    "ExecuteTime": {
     "end_time": "2020-03-30T02:29:47.229528Z",
     "start_time": "2020-03-30T02:29:47.226527Z"
    }
   },
   "outputs": [],
   "source": [
    "# RESET INDEX ??"
   ]
  },
  {
   "cell_type": "markdown",
   "metadata": {},
   "source": [
    "### Determine `days in QC`"
   ]
  },
  {
   "cell_type": "code",
   "execution_count": 13,
   "metadata": {
    "ExecuteTime": {
     "end_time": "2020-03-30T02:29:47.239527Z",
     "start_time": "2020-03-30T02:29:47.231529Z"
    }
   },
   "outputs": [],
   "source": [
    "# CREATE NEW DATAFRAME OFF OF 'PfBAtchID'\n",
    "# (with index that of 'QCDate')\n",
    "df_days_in_QC = pd.DataFrame(data=df_metrics_obv['PfBatchID'])"
   ]
  },
  {
   "cell_type": "code",
   "execution_count": 14,
   "metadata": {
    "ExecuteTime": {
     "end_time": "2020-03-30T02:29:47.246529Z",
     "start_time": "2020-03-30T02:29:47.241527Z"
    }
   },
   "outputs": [],
   "source": [
    "# CREATE ANOTHACOLUMN\n",
    "df_days_in_QC['Date'] = df_metrics_obv['QCDate']"
   ]
  },
  {
   "cell_type": "code",
   "execution_count": 15,
   "metadata": {
    "ExecuteTime": {
     "end_time": "2020-03-30T02:29:47.256524Z",
     "start_time": "2020-03-30T02:29:47.249526Z"
    }
   },
   "outputs": [],
   "source": [
    "# CREATE ANOTHA COLUMN ONTO THAT DATAAFRAME\n",
    "df_days_in_QC['QCValidation'] = df_metrics_obv['QCValidation']"
   ]
  },
  {
   "cell_type": "code",
   "execution_count": 16,
   "metadata": {
    "ExecuteTime": {
     "end_time": "2020-03-30T02:29:47.264527Z",
     "start_time": "2020-03-30T02:29:47.258529Z"
    }
   },
   "outputs": [],
   "source": [
    "# CREATE **FINAL** COLUMNS\n",
    "df_days_in_QC['AmpDate'] = df_metrics_obv['AmpDate']"
   ]
  },
  {
   "cell_type": "markdown",
   "metadata": {},
   "source": [
    "#### *calculation:*"
   ]
  },
  {
   "cell_type": "code",
   "execution_count": 17,
   "metadata": {
    "ExecuteTime": {
     "end_time": "2020-03-30T02:29:47.272529Z",
     "start_time": "2020-03-30T02:29:47.266525Z"
    }
   },
   "outputs": [],
   "source": [
    "calculation = (df_days_in_QC['Date'] - df_days_in_QC['AmpDate'])"
   ]
  },
  {
   "cell_type": "code",
   "execution_count": 18,
   "metadata": {
    "ExecuteTime": {
     "end_time": "2020-03-30T02:29:47.280525Z",
     "start_time": "2020-03-30T02:29:47.274527Z"
    }
   },
   "outputs": [],
   "source": [
    "# ASSIGN CALCULATION COLUMN\n",
    "df_days_in_QC['QC_days'] = calculation"
   ]
  },
  {
   "cell_type": "code",
   "execution_count": 19,
   "metadata": {
    "ExecuteTime": {
     "end_time": "2020-03-30T02:29:47.298526Z",
     "start_time": "2020-03-30T02:29:47.282526Z"
    }
   },
   "outputs": [
    {
     "data": {
      "text/html": [
       "<div>\n",
       "<style scoped>\n",
       "    .dataframe tbody tr th:only-of-type {\n",
       "        vertical-align: middle;\n",
       "    }\n",
       "\n",
       "    .dataframe tbody tr th {\n",
       "        vertical-align: top;\n",
       "    }\n",
       "\n",
       "    .dataframe thead th {\n",
       "        text-align: right;\n",
       "    }\n",
       "</style>\n",
       "<table border=\"1\" class=\"dataframe\">\n",
       "  <thead>\n",
       "    <tr style=\"text-align: right;\">\n",
       "      <th></th>\n",
       "      <th>PfBatchID</th>\n",
       "      <th>Date</th>\n",
       "      <th>QCValidation</th>\n",
       "      <th>AmpDate</th>\n",
       "      <th>QC_days</th>\n",
       "    </tr>\n",
       "  </thead>\n",
       "  <tbody>\n",
       "    <tr>\n",
       "      <td>81</td>\n",
       "      <td>NAB00352</td>\n",
       "      <td>2020-01-28</td>\n",
       "      <td>1.0</td>\n",
       "      <td>2020-01-28</td>\n",
       "      <td>0 days</td>\n",
       "    </tr>\n",
       "    <tr>\n",
       "      <td>157</td>\n",
       "      <td>NAB00632</td>\n",
       "      <td>2020-02-19</td>\n",
       "      <td>1.0</td>\n",
       "      <td>2020-02-05</td>\n",
       "      <td>14 days</td>\n",
       "    </tr>\n",
       "    <tr>\n",
       "      <td>203</td>\n",
       "      <td>NAB00648</td>\n",
       "      <td>2020-02-07</td>\n",
       "      <td>1.0</td>\n",
       "      <td>2020-02-05</td>\n",
       "      <td>2 days</td>\n",
       "    </tr>\n",
       "    <tr>\n",
       "      <td>294</td>\n",
       "      <td>NAA07318</td>\n",
       "      <td>2019-12-12</td>\n",
       "      <td>1.0</td>\n",
       "      <td>2019-12-11</td>\n",
       "      <td>1 days</td>\n",
       "    </tr>\n",
       "    <tr>\n",
       "      <td>444</td>\n",
       "      <td>NAA07336</td>\n",
       "      <td>2019-12-11</td>\n",
       "      <td>1.0</td>\n",
       "      <td>2019-12-10</td>\n",
       "      <td>1 days</td>\n",
       "    </tr>\n",
       "    <tr>\n",
       "      <td>...</td>\n",
       "      <td>...</td>\n",
       "      <td>...</td>\n",
       "      <td>...</td>\n",
       "      <td>...</td>\n",
       "      <td>...</td>\n",
       "    </tr>\n",
       "    <tr>\n",
       "      <td>102425</td>\n",
       "      <td>NAA07294</td>\n",
       "      <td>2019-12-11</td>\n",
       "      <td>1.0</td>\n",
       "      <td>2019-12-09</td>\n",
       "      <td>2 days</td>\n",
       "    </tr>\n",
       "    <tr>\n",
       "      <td>102482</td>\n",
       "      <td>NAB00465</td>\n",
       "      <td>2020-01-31</td>\n",
       "      <td>1.0</td>\n",
       "      <td>2020-01-29</td>\n",
       "      <td>2 days</td>\n",
       "    </tr>\n",
       "    <tr>\n",
       "      <td>102519</td>\n",
       "      <td>NAB00122</td>\n",
       "      <td>2020-01-10</td>\n",
       "      <td>1.0</td>\n",
       "      <td>2020-01-09</td>\n",
       "      <td>1 days</td>\n",
       "    </tr>\n",
       "    <tr>\n",
       "      <td>104286</td>\n",
       "      <td>NAA06826</td>\n",
       "      <td>2019-11-11</td>\n",
       "      <td>1.0</td>\n",
       "      <td>2019-11-11</td>\n",
       "      <td>0 days</td>\n",
       "    </tr>\n",
       "    <tr>\n",
       "      <td>104348</td>\n",
       "      <td>NAA06588</td>\n",
       "      <td>2019-11-07</td>\n",
       "      <td>1.0</td>\n",
       "      <td>2019-11-06</td>\n",
       "      <td>1 days</td>\n",
       "    </tr>\n",
       "  </tbody>\n",
       "</table>\n",
       "<p>1876 rows × 5 columns</p>\n",
       "</div>"
      ],
      "text/plain": [
       "       PfBatchID       Date QCValidation    AmpDate QC_days\n",
       "81      NAB00352 2020-01-28          1.0 2020-01-28  0 days\n",
       "157     NAB00632 2020-02-19          1.0 2020-02-05 14 days\n",
       "203     NAB00648 2020-02-07          1.0 2020-02-05  2 days\n",
       "294     NAA07318 2019-12-12          1.0 2019-12-11  1 days\n",
       "444     NAA07336 2019-12-11          1.0 2019-12-10  1 days\n",
       "...          ...        ...          ...        ...     ...\n",
       "102425  NAA07294 2019-12-11          1.0 2019-12-09  2 days\n",
       "102482  NAB00465 2020-01-31          1.0 2020-01-29  2 days\n",
       "102519  NAB00122 2020-01-10          1.0 2020-01-09  1 days\n",
       "104286  NAA06826 2019-11-11          1.0 2019-11-11  0 days\n",
       "104348  NAA06588 2019-11-07          1.0 2019-11-06  1 days\n",
       "\n",
       "[1876 rows x 5 columns]"
      ]
     },
     "execution_count": 19,
     "metadata": {},
     "output_type": "execute_result"
    }
   ],
   "source": [
    "df_days_in_QC"
   ]
  },
  {
   "cell_type": "markdown",
   "metadata": {},
   "source": [
    "#### change data-type of `QC_days` col"
   ]
  },
  {
   "cell_type": "code",
   "execution_count": 20,
   "metadata": {
    "ExecuteTime": {
     "end_time": "2020-03-30T02:29:47.304526Z",
     "start_time": "2020-03-30T02:29:47.300527Z"
    }
   },
   "outputs": [],
   "source": [
    "# df_days_in_QC['QC_days'] = qc_metrics_table['ProductID'].astype('object')\n",
    "df_days_in_QC['QC_days'] = pd.to_timedelta(df_days_in_QC['QC_days'])"
   ]
  },
  {
   "cell_type": "markdown",
   "metadata": {},
   "source": [
    "#### drop `na`"
   ]
  },
  {
   "cell_type": "code",
   "execution_count": 21,
   "metadata": {
    "ExecuteTime": {
     "end_time": "2020-03-30T02:29:47.317526Z",
     "start_time": "2020-03-30T02:29:47.306527Z"
    }
   },
   "outputs": [],
   "source": [
    "df_days_in_QC.dropna(subset=['QCValidation', 'QC_days', 'AmpDate'], inplace=True)"
   ]
  },
  {
   "cell_type": "markdown",
   "metadata": {},
   "source": [
    "#### create column of type `int` ?"
   ]
  },
  {
   "cell_type": "code",
   "execution_count": 22,
   "metadata": {
    "ExecuteTime": {
     "end_time": "2020-03-30T02:29:47.324527Z",
     "start_time": "2020-03-30T02:29:47.319526Z"
    }
   },
   "outputs": [],
   "source": [
    "# assign new column to DATAFRAME\n",
    "df_days_in_QC['Cycle_Time(days)'] = df_days_in_QC['QC_days'].dt.days"
   ]
  },
  {
   "cell_type": "raw",
   "metadata": {
    "ExecuteTime": {
     "end_time": "2020-03-30T01:23:25.797645Z",
     "start_time": "2020-03-30T01:23:25.794642Z"
    }
   },
   "source": [
    "# empty list to hold data\n",
    "days_ints = []"
   ]
  },
  {
   "cell_type": "raw",
   "metadata": {
    "ExecuteTime": {
     "end_time": "2020-03-30T01:23:26.035641Z",
     "start_time": "2020-03-30T01:23:25.799643Z"
    }
   },
   "source": [
    "for row in df_days_in_QC['QC_days']: # {\n",
    "    # TRY THE FOLLOWING\n",
    "    try: # {\n",
    "        \"\"\"\n",
    "        the_str = str(row)\n",
    "        the_len = len(the_str)\n",
    "        print(\"THE ROW:\\n\" + str(the_str))\n",
    "        # get string index\n",
    "        idx = the_str.find(' ', 0, the_len)\n",
    "        # get value of days (in INTS)\n",
    "        days_str = the_str[0:idx]\n",
    "        print(\"DAYS:\\t\" + days_str)\n",
    "        \"\"\"\n",
    "        print(row.dt.days)\n",
    "    # }\n",
    "    except: # {\n",
    "        print(\"FAIL!\")\n",
    "    # }\n",
    "    else: # { \n",
    "        print(\"Operation Completed Successfully...\")\n",
    "    # }\n",
    "# }"
   ]
  },
  {
   "cell_type": "raw",
   "metadata": {
    "ExecuteTime": {
     "end_time": "2020-03-30T00:49:43.464039Z",
     "start_time": "2020-03-30T00:49:43.457039Z"
    },
    "raw_mimetype": "text/x-python"
   },
   "source": [
    "# df_days_in_QC['QC-days-INT'] = df_days_in_QC['time-in-QC']"
   ]
  },
  {
   "cell_type": "raw",
   "metadata": {
    "ExecuteTime": {
     "end_time": "2020-03-30T00:49:43.637056Z",
     "start_time": "2020-03-30T00:49:43.466038Z"
    },
    "raw_mimetype": "text/x-python"
   },
   "source": [
    "df_days_in_QC['QC-days-INT'] = df_days_in_QC['QC-days-INT'].astype('int')"
   ]
  },
  {
   "cell_type": "markdown",
   "metadata": {},
   "source": [
    "#### to_csv"
   ]
  },
  {
   "cell_type": "code",
   "execution_count": 23,
   "metadata": {
    "ExecuteTime": {
     "end_time": "2020-03-30T02:29:47.389523Z",
     "start_time": "2020-03-30T02:29:47.330530Z"
    }
   },
   "outputs": [],
   "source": [
    "df_days_in_QC.to_csv(\"c:/data/outbound/2020-03-29/df_days_in_QC_pre_index.csv\")"
   ]
  },
  {
   "cell_type": "code",
   "execution_count": 24,
   "metadata": {
    "ExecuteTime": {
     "end_time": "2020-03-30T02:29:47.409525Z",
     "start_time": "2020-03-30T02:29:47.391525Z"
    }
   },
   "outputs": [
    {
     "data": {
      "text/html": [
       "<div>\n",
       "<style scoped>\n",
       "    .dataframe tbody tr th:only-of-type {\n",
       "        vertical-align: middle;\n",
       "    }\n",
       "\n",
       "    .dataframe tbody tr th {\n",
       "        vertical-align: top;\n",
       "    }\n",
       "\n",
       "    .dataframe thead th {\n",
       "        text-align: right;\n",
       "    }\n",
       "</style>\n",
       "<table border=\"1\" class=\"dataframe\">\n",
       "  <thead>\n",
       "    <tr style=\"text-align: right;\">\n",
       "      <th></th>\n",
       "      <th>PfBatchID</th>\n",
       "      <th>Date</th>\n",
       "      <th>QCValidation</th>\n",
       "      <th>AmpDate</th>\n",
       "      <th>QC_days</th>\n",
       "      <th>Cycle_Time(days)</th>\n",
       "    </tr>\n",
       "  </thead>\n",
       "  <tbody>\n",
       "    <tr>\n",
       "      <td>81</td>\n",
       "      <td>NAB00352</td>\n",
       "      <td>2020-01-28</td>\n",
       "      <td>1.0</td>\n",
       "      <td>2020-01-28</td>\n",
       "      <td>0 days</td>\n",
       "      <td>0</td>\n",
       "    </tr>\n",
       "    <tr>\n",
       "      <td>157</td>\n",
       "      <td>NAB00632</td>\n",
       "      <td>2020-02-19</td>\n",
       "      <td>1.0</td>\n",
       "      <td>2020-02-05</td>\n",
       "      <td>14 days</td>\n",
       "      <td>14</td>\n",
       "    </tr>\n",
       "    <tr>\n",
       "      <td>203</td>\n",
       "      <td>NAB00648</td>\n",
       "      <td>2020-02-07</td>\n",
       "      <td>1.0</td>\n",
       "      <td>2020-02-05</td>\n",
       "      <td>2 days</td>\n",
       "      <td>2</td>\n",
       "    </tr>\n",
       "    <tr>\n",
       "      <td>294</td>\n",
       "      <td>NAA07318</td>\n",
       "      <td>2019-12-12</td>\n",
       "      <td>1.0</td>\n",
       "      <td>2019-12-11</td>\n",
       "      <td>1 days</td>\n",
       "      <td>1</td>\n",
       "    </tr>\n",
       "    <tr>\n",
       "      <td>444</td>\n",
       "      <td>NAA07336</td>\n",
       "      <td>2019-12-11</td>\n",
       "      <td>1.0</td>\n",
       "      <td>2019-12-10</td>\n",
       "      <td>1 days</td>\n",
       "      <td>1</td>\n",
       "    </tr>\n",
       "    <tr>\n",
       "      <td>...</td>\n",
       "      <td>...</td>\n",
       "      <td>...</td>\n",
       "      <td>...</td>\n",
       "      <td>...</td>\n",
       "      <td>...</td>\n",
       "      <td>...</td>\n",
       "    </tr>\n",
       "    <tr>\n",
       "      <td>102425</td>\n",
       "      <td>NAA07294</td>\n",
       "      <td>2019-12-11</td>\n",
       "      <td>1.0</td>\n",
       "      <td>2019-12-09</td>\n",
       "      <td>2 days</td>\n",
       "      <td>2</td>\n",
       "    </tr>\n",
       "    <tr>\n",
       "      <td>102482</td>\n",
       "      <td>NAB00465</td>\n",
       "      <td>2020-01-31</td>\n",
       "      <td>1.0</td>\n",
       "      <td>2020-01-29</td>\n",
       "      <td>2 days</td>\n",
       "      <td>2</td>\n",
       "    </tr>\n",
       "    <tr>\n",
       "      <td>102519</td>\n",
       "      <td>NAB00122</td>\n",
       "      <td>2020-01-10</td>\n",
       "      <td>1.0</td>\n",
       "      <td>2020-01-09</td>\n",
       "      <td>1 days</td>\n",
       "      <td>1</td>\n",
       "    </tr>\n",
       "    <tr>\n",
       "      <td>104286</td>\n",
       "      <td>NAA06826</td>\n",
       "      <td>2019-11-11</td>\n",
       "      <td>1.0</td>\n",
       "      <td>2019-11-11</td>\n",
       "      <td>0 days</td>\n",
       "      <td>0</td>\n",
       "    </tr>\n",
       "    <tr>\n",
       "      <td>104348</td>\n",
       "      <td>NAA06588</td>\n",
       "      <td>2019-11-07</td>\n",
       "      <td>1.0</td>\n",
       "      <td>2019-11-06</td>\n",
       "      <td>1 days</td>\n",
       "      <td>1</td>\n",
       "    </tr>\n",
       "  </tbody>\n",
       "</table>\n",
       "<p>1811 rows × 6 columns</p>\n",
       "</div>"
      ],
      "text/plain": [
       "       PfBatchID       Date QCValidation    AmpDate QC_days  Cycle_Time(days)\n",
       "81      NAB00352 2020-01-28          1.0 2020-01-28  0 days                 0\n",
       "157     NAB00632 2020-02-19          1.0 2020-02-05 14 days                14\n",
       "203     NAB00648 2020-02-07          1.0 2020-02-05  2 days                 2\n",
       "294     NAA07318 2019-12-12          1.0 2019-12-11  1 days                 1\n",
       "444     NAA07336 2019-12-11          1.0 2019-12-10  1 days                 1\n",
       "...          ...        ...          ...        ...     ...               ...\n",
       "102425  NAA07294 2019-12-11          1.0 2019-12-09  2 days                 2\n",
       "102482  NAB00465 2020-01-31          1.0 2020-01-29  2 days                 2\n",
       "102519  NAB00122 2020-01-10          1.0 2020-01-09  1 days                 1\n",
       "104286  NAA06826 2019-11-11          1.0 2019-11-11  0 days                 0\n",
       "104348  NAA06588 2019-11-07          1.0 2019-11-06  1 days                 1\n",
       "\n",
       "[1811 rows x 6 columns]"
      ]
     },
     "execution_count": 24,
     "metadata": {},
     "output_type": "execute_result"
    }
   ],
   "source": [
    "df_days_in_QC"
   ]
  },
  {
   "cell_type": "markdown",
   "metadata": {
    "ExecuteTime": {
     "end_time": "2020-03-29T23:45:08.278621Z",
     "start_time": "2020-03-29T23:45:08.274622Z"
    }
   },
   "source": [
    "#### CHANGE INDEX"
   ]
  },
  {
   "cell_type": "code",
   "execution_count": 25,
   "metadata": {
    "ExecuteTime": {
     "end_time": "2020-03-30T02:29:47.416527Z",
     "start_time": "2020-03-30T02:29:47.411529Z"
    }
   },
   "outputs": [],
   "source": [
    "df_days_in_QC.set_index(['Date'], drop=True, inplace=True)"
   ]
  },
  {
   "cell_type": "markdown",
   "metadata": {},
   "source": [
    "#### sort index"
   ]
  },
  {
   "cell_type": "code",
   "execution_count": 26,
   "metadata": {
    "ExecuteTime": {
     "end_time": "2020-03-30T02:29:47.425525Z",
     "start_time": "2020-03-30T02:29:47.418529Z"
    }
   },
   "outputs": [],
   "source": [
    "# SORT INDEX (in-place)\n",
    "df_days_in_QC.sort_index(inplace=True)"
   ]
  },
  {
   "cell_type": "code",
   "execution_count": 27,
   "metadata": {
    "ExecuteTime": {
     "end_time": "2020-03-30T02:29:47.485525Z",
     "start_time": "2020-03-30T02:29:47.427527Z"
    }
   },
   "outputs": [],
   "source": [
    "df_days_in_QC.to_csv(\"c:/data/outbound/2020-03-29/df_days_in_QC.csv\")"
   ]
  },
  {
   "cell_type": "code",
   "execution_count": 28,
   "metadata": {
    "ExecuteTime": {
     "end_time": "2020-03-30T02:29:47.500532Z",
     "start_time": "2020-03-30T02:29:47.487528Z"
    }
   },
   "outputs": [
    {
     "data": {
      "text/html": [
       "<div>\n",
       "<style scoped>\n",
       "    .dataframe tbody tr th:only-of-type {\n",
       "        vertical-align: middle;\n",
       "    }\n",
       "\n",
       "    .dataframe tbody tr th {\n",
       "        vertical-align: top;\n",
       "    }\n",
       "\n",
       "    .dataframe thead th {\n",
       "        text-align: right;\n",
       "    }\n",
       "</style>\n",
       "<table border=\"1\" class=\"dataframe\">\n",
       "  <thead>\n",
       "    <tr style=\"text-align: right;\">\n",
       "      <th></th>\n",
       "      <th>PfBatchID</th>\n",
       "      <th>QCValidation</th>\n",
       "      <th>AmpDate</th>\n",
       "      <th>QC_days</th>\n",
       "      <th>Cycle_Time(days)</th>\n",
       "    </tr>\n",
       "    <tr>\n",
       "      <th>Date</th>\n",
       "      <th></th>\n",
       "      <th></th>\n",
       "      <th></th>\n",
       "      <th></th>\n",
       "      <th></th>\n",
       "    </tr>\n",
       "  </thead>\n",
       "  <tbody>\n",
       "    <tr>\n",
       "      <td>2019-11-04</td>\n",
       "      <td>NAA06635</td>\n",
       "      <td>1.0</td>\n",
       "      <td>2019-10-30</td>\n",
       "      <td>5 days</td>\n",
       "      <td>5</td>\n",
       "    </tr>\n",
       "    <tr>\n",
       "      <td>2019-11-04</td>\n",
       "      <td>NAA06652</td>\n",
       "      <td>1.0</td>\n",
       "      <td>2019-10-31</td>\n",
       "      <td>4 days</td>\n",
       "      <td>4</td>\n",
       "    </tr>\n",
       "    <tr>\n",
       "      <td>2019-11-04</td>\n",
       "      <td>NAA06627</td>\n",
       "      <td>1.0</td>\n",
       "      <td>2019-10-31</td>\n",
       "      <td>4 days</td>\n",
       "      <td>4</td>\n",
       "    </tr>\n",
       "    <tr>\n",
       "      <td>2019-11-04</td>\n",
       "      <td>NAA06550</td>\n",
       "      <td>1.0</td>\n",
       "      <td>2019-10-29</td>\n",
       "      <td>6 days</td>\n",
       "      <td>6</td>\n",
       "    </tr>\n",
       "    <tr>\n",
       "      <td>2019-11-04</td>\n",
       "      <td>NAA06638</td>\n",
       "      <td>1.0</td>\n",
       "      <td>2019-10-30</td>\n",
       "      <td>5 days</td>\n",
       "      <td>5</td>\n",
       "    </tr>\n",
       "    <tr>\n",
       "      <td>...</td>\n",
       "      <td>...</td>\n",
       "      <td>...</td>\n",
       "      <td>...</td>\n",
       "      <td>...</td>\n",
       "      <td>...</td>\n",
       "    </tr>\n",
       "    <tr>\n",
       "      <td>2020-02-28</td>\n",
       "      <td>NAB01120</td>\n",
       "      <td>1.0</td>\n",
       "      <td>2020-02-28</td>\n",
       "      <td>0 days</td>\n",
       "      <td>0</td>\n",
       "    </tr>\n",
       "    <tr>\n",
       "      <td>2020-02-28</td>\n",
       "      <td>NAB01072</td>\n",
       "      <td>1.0</td>\n",
       "      <td>2020-02-28</td>\n",
       "      <td>0 days</td>\n",
       "      <td>0</td>\n",
       "    </tr>\n",
       "    <tr>\n",
       "      <td>2020-02-28</td>\n",
       "      <td>NAB01093</td>\n",
       "      <td>1.0</td>\n",
       "      <td>2020-02-28</td>\n",
       "      <td>0 days</td>\n",
       "      <td>0</td>\n",
       "    </tr>\n",
       "    <tr>\n",
       "      <td>2020-02-28</td>\n",
       "      <td>NAB01121</td>\n",
       "      <td>1.0</td>\n",
       "      <td>2020-02-28</td>\n",
       "      <td>0 days</td>\n",
       "      <td>0</td>\n",
       "    </tr>\n",
       "    <tr>\n",
       "      <td>2020-02-28</td>\n",
       "      <td>NAB01076</td>\n",
       "      <td>1.0</td>\n",
       "      <td>2020-02-27</td>\n",
       "      <td>1 days</td>\n",
       "      <td>1</td>\n",
       "    </tr>\n",
       "  </tbody>\n",
       "</table>\n",
       "<p>1811 rows × 5 columns</p>\n",
       "</div>"
      ],
      "text/plain": [
       "           PfBatchID QCValidation    AmpDate QC_days  Cycle_Time(days)\n",
       "Date                                                                  \n",
       "2019-11-04  NAA06635          1.0 2019-10-30  5 days                 5\n",
       "2019-11-04  NAA06652          1.0 2019-10-31  4 days                 4\n",
       "2019-11-04  NAA06627          1.0 2019-10-31  4 days                 4\n",
       "2019-11-04  NAA06550          1.0 2019-10-29  6 days                 6\n",
       "2019-11-04  NAA06638          1.0 2019-10-30  5 days                 5\n",
       "...              ...          ...        ...     ...               ...\n",
       "2020-02-28  NAB01120          1.0 2020-02-28  0 days                 0\n",
       "2020-02-28  NAB01072          1.0 2020-02-28  0 days                 0\n",
       "2020-02-28  NAB01093          1.0 2020-02-28  0 days                 0\n",
       "2020-02-28  NAB01121          1.0 2020-02-28  0 days                 0\n",
       "2020-02-28  NAB01076          1.0 2020-02-27  1 days                 1\n",
       "\n",
       "[1811 rows x 5 columns]"
      ]
     },
     "execution_count": 28,
     "metadata": {},
     "output_type": "execute_result"
    }
   ],
   "source": [
    "df_days_in_QC"
   ]
  },
  {
   "cell_type": "markdown",
   "metadata": {},
   "source": [
    "### GroupBy:"
   ]
  },
  {
   "cell_type": "code",
   "execution_count": 29,
   "metadata": {
    "ExecuteTime": {
     "end_time": "2020-03-30T02:29:47.519528Z",
     "start_time": "2020-03-30T02:29:47.502526Z"
    }
   },
   "outputs": [],
   "source": [
    "# GET THE AVERAGE FOR EACH DAY, EACH PRODUCT LEVEL, For the CYCLE TIME !!!\n",
    "# days_cycle = pd.DataFrame(data=df_days_in_QC.groupby(\"QCValidation\")['Cycle_Time(days)'].resample(\"D\").mean())\n",
    "days_cycle = pd.DataFrame(data=df_days_in_QC.groupby(\"QCValidation\").resample(\"D\").mean())"
   ]
  },
  {
   "cell_type": "code",
   "execution_count": 30,
   "metadata": {
    "ExecuteTime": {
     "end_time": "2020-03-30T02:29:47.529528Z",
     "start_time": "2020-03-30T02:29:47.520535Z"
    }
   },
   "outputs": [],
   "source": [
    "days_cycle.to_csv(\"c:/data/outbound/2020-03-29/days_cycle.csv\")"
   ]
  },
  {
   "cell_type": "code",
   "execution_count": 31,
   "metadata": {
    "ExecuteTime": {
     "end_time": "2020-03-30T02:29:47.546528Z",
     "start_time": "2020-03-30T02:29:47.531528Z"
    }
   },
   "outputs": [
    {
     "data": {
      "text/html": [
       "<div>\n",
       "<style scoped>\n",
       "    .dataframe tbody tr th:only-of-type {\n",
       "        vertical-align: middle;\n",
       "    }\n",
       "\n",
       "    .dataframe tbody tr th {\n",
       "        vertical-align: top;\n",
       "    }\n",
       "\n",
       "    .dataframe thead th {\n",
       "        text-align: right;\n",
       "    }\n",
       "</style>\n",
       "<table border=\"1\" class=\"dataframe\">\n",
       "  <thead>\n",
       "    <tr style=\"text-align: right;\">\n",
       "      <th></th>\n",
       "      <th></th>\n",
       "      <th>Cycle_Time(days)</th>\n",
       "    </tr>\n",
       "    <tr>\n",
       "      <th>QCValidation</th>\n",
       "      <th>Date</th>\n",
       "      <th></th>\n",
       "    </tr>\n",
       "  </thead>\n",
       "  <tbody>\n",
       "    <tr>\n",
       "      <td rowspan=\"5\" valign=\"top\">1.0</td>\n",
       "      <td>2019-11-04</td>\n",
       "      <td>3.400000</td>\n",
       "    </tr>\n",
       "    <tr>\n",
       "      <td>2019-11-05</td>\n",
       "      <td>1.304348</td>\n",
       "    </tr>\n",
       "    <tr>\n",
       "      <td>2019-11-06</td>\n",
       "      <td>0.750000</td>\n",
       "    </tr>\n",
       "    <tr>\n",
       "      <td>2019-11-07</td>\n",
       "      <td>1.838710</td>\n",
       "    </tr>\n",
       "    <tr>\n",
       "      <td>2019-11-08</td>\n",
       "      <td>2.409091</td>\n",
       "    </tr>\n",
       "    <tr>\n",
       "      <td>...</td>\n",
       "      <td>...</td>\n",
       "      <td>...</td>\n",
       "    </tr>\n",
       "    <tr>\n",
       "      <td rowspan=\"5\" valign=\"top\">3.0</td>\n",
       "      <td>2020-02-22</td>\n",
       "      <td>NaN</td>\n",
       "    </tr>\n",
       "    <tr>\n",
       "      <td>2020-02-23</td>\n",
       "      <td>NaN</td>\n",
       "    </tr>\n",
       "    <tr>\n",
       "      <td>2020-02-24</td>\n",
       "      <td>23.000000</td>\n",
       "    </tr>\n",
       "    <tr>\n",
       "      <td>2020-02-25</td>\n",
       "      <td>NaN</td>\n",
       "    </tr>\n",
       "    <tr>\n",
       "      <td>2020-02-26</td>\n",
       "      <td>10.250000</td>\n",
       "    </tr>\n",
       "  </tbody>\n",
       "</table>\n",
       "<p>345 rows × 1 columns</p>\n",
       "</div>"
      ],
      "text/plain": [
       "                         Cycle_Time(days)\n",
       "QCValidation Date                        \n",
       "1.0          2019-11-04          3.400000\n",
       "             2019-11-05          1.304348\n",
       "             2019-11-06          0.750000\n",
       "             2019-11-07          1.838710\n",
       "             2019-11-08          2.409091\n",
       "...                                   ...\n",
       "3.0          2020-02-22               NaN\n",
       "             2020-02-23               NaN\n",
       "             2020-02-24         23.000000\n",
       "             2020-02-25               NaN\n",
       "             2020-02-26         10.250000\n",
       "\n",
       "[345 rows x 1 columns]"
      ]
     },
     "execution_count": 31,
     "metadata": {},
     "output_type": "execute_result"
    }
   ],
   "source": [
    "days_cycle"
   ]
  },
  {
   "cell_type": "markdown",
   "metadata": {},
   "source": [
    "### get different levels of cycle"
   ]
  },
  {
   "cell_type": "code",
   "execution_count": 32,
   "metadata": {
    "ExecuteTime": {
     "end_time": "2020-03-30T02:29:47.560531Z",
     "start_time": "2020-03-30T02:29:47.548528Z"
    }
   },
   "outputs": [
    {
     "data": {
      "text/html": [
       "<div>\n",
       "<style scoped>\n",
       "    .dataframe tbody tr th:only-of-type {\n",
       "        vertical-align: middle;\n",
       "    }\n",
       "\n",
       "    .dataframe tbody tr th {\n",
       "        vertical-align: top;\n",
       "    }\n",
       "\n",
       "    .dataframe thead th {\n",
       "        text-align: right;\n",
       "    }\n",
       "</style>\n",
       "<table border=\"1\" class=\"dataframe\">\n",
       "  <thead>\n",
       "    <tr style=\"text-align: right;\">\n",
       "      <th></th>\n",
       "      <th>Cycle_Time(days)</th>\n",
       "    </tr>\n",
       "    <tr>\n",
       "      <th>Date</th>\n",
       "      <th></th>\n",
       "    </tr>\n",
       "  </thead>\n",
       "  <tbody>\n",
       "    <tr>\n",
       "      <td>2019-11-04</td>\n",
       "      <td>3.400000</td>\n",
       "    </tr>\n",
       "    <tr>\n",
       "      <td>2019-11-05</td>\n",
       "      <td>1.304348</td>\n",
       "    </tr>\n",
       "    <tr>\n",
       "      <td>2019-11-06</td>\n",
       "      <td>0.750000</td>\n",
       "    </tr>\n",
       "    <tr>\n",
       "      <td>2019-11-07</td>\n",
       "      <td>1.838710</td>\n",
       "    </tr>\n",
       "    <tr>\n",
       "      <td>2019-11-08</td>\n",
       "      <td>2.409091</td>\n",
       "    </tr>\n",
       "    <tr>\n",
       "      <td>...</td>\n",
       "      <td>...</td>\n",
       "    </tr>\n",
       "    <tr>\n",
       "      <td>2020-02-24</td>\n",
       "      <td>1.846154</td>\n",
       "    </tr>\n",
       "    <tr>\n",
       "      <td>2020-02-25</td>\n",
       "      <td>2.275862</td>\n",
       "    </tr>\n",
       "    <tr>\n",
       "      <td>2020-02-26</td>\n",
       "      <td>2.192308</td>\n",
       "    </tr>\n",
       "    <tr>\n",
       "      <td>2020-02-27</td>\n",
       "      <td>0.520000</td>\n",
       "    </tr>\n",
       "    <tr>\n",
       "      <td>2020-02-28</td>\n",
       "      <td>0.703704</td>\n",
       "    </tr>\n",
       "  </tbody>\n",
       "</table>\n",
       "<p>117 rows × 1 columns</p>\n",
       "</div>"
      ],
      "text/plain": [
       "            Cycle_Time(days)\n",
       "Date                        \n",
       "2019-11-04          3.400000\n",
       "2019-11-05          1.304348\n",
       "2019-11-06          0.750000\n",
       "2019-11-07          1.838710\n",
       "2019-11-08          2.409091\n",
       "...                      ...\n",
       "2020-02-24          1.846154\n",
       "2020-02-25          2.275862\n",
       "2020-02-26          2.192308\n",
       "2020-02-27          0.520000\n",
       "2020-02-28          0.703704\n",
       "\n",
       "[117 rows x 1 columns]"
      ]
     },
     "execution_count": 32,
     "metadata": {},
     "output_type": "execute_result"
    }
   ],
   "source": [
    "level_1s_days_cycle  = days_cycle.loc['1.0']\n",
    "level_1s_days_cycle"
   ]
  },
  {
   "cell_type": "code",
   "execution_count": 33,
   "metadata": {
    "ExecuteTime": {
     "end_time": "2020-03-30T02:29:47.575527Z",
     "start_time": "2020-03-30T02:29:47.563537Z"
    }
   },
   "outputs": [
    {
     "data": {
      "text/html": [
       "<div>\n",
       "<style scoped>\n",
       "    .dataframe tbody tr th:only-of-type {\n",
       "        vertical-align: middle;\n",
       "    }\n",
       "\n",
       "    .dataframe tbody tr th {\n",
       "        vertical-align: top;\n",
       "    }\n",
       "\n",
       "    .dataframe thead th {\n",
       "        text-align: right;\n",
       "    }\n",
       "</style>\n",
       "<table border=\"1\" class=\"dataframe\">\n",
       "  <thead>\n",
       "    <tr style=\"text-align: right;\">\n",
       "      <th></th>\n",
       "      <th>Cycle_Time(days)</th>\n",
       "    </tr>\n",
       "    <tr>\n",
       "      <th>Date</th>\n",
       "      <th></th>\n",
       "    </tr>\n",
       "  </thead>\n",
       "  <tbody>\n",
       "    <tr>\n",
       "      <td>2019-11-04</td>\n",
       "      <td>3.0</td>\n",
       "    </tr>\n",
       "    <tr>\n",
       "      <td>2019-11-05</td>\n",
       "      <td>NaN</td>\n",
       "    </tr>\n",
       "    <tr>\n",
       "      <td>2019-11-06</td>\n",
       "      <td>NaN</td>\n",
       "    </tr>\n",
       "    <tr>\n",
       "      <td>2019-11-07</td>\n",
       "      <td>NaN</td>\n",
       "    </tr>\n",
       "    <tr>\n",
       "      <td>2019-11-08</td>\n",
       "      <td>NaN</td>\n",
       "    </tr>\n",
       "    <tr>\n",
       "      <td>...</td>\n",
       "      <td>...</td>\n",
       "    </tr>\n",
       "    <tr>\n",
       "      <td>2020-02-20</td>\n",
       "      <td>NaN</td>\n",
       "    </tr>\n",
       "    <tr>\n",
       "      <td>2020-02-21</td>\n",
       "      <td>NaN</td>\n",
       "    </tr>\n",
       "    <tr>\n",
       "      <td>2020-02-22</td>\n",
       "      <td>NaN</td>\n",
       "    </tr>\n",
       "    <tr>\n",
       "      <td>2020-02-23</td>\n",
       "      <td>NaN</td>\n",
       "    </tr>\n",
       "    <tr>\n",
       "      <td>2020-02-24</td>\n",
       "      <td>279.0</td>\n",
       "    </tr>\n",
       "  </tbody>\n",
       "</table>\n",
       "<p>113 rows × 1 columns</p>\n",
       "</div>"
      ],
      "text/plain": [
       "            Cycle_Time(days)\n",
       "Date                        \n",
       "2019-11-04               3.0\n",
       "2019-11-05               NaN\n",
       "2019-11-06               NaN\n",
       "2019-11-07               NaN\n",
       "2019-11-08               NaN\n",
       "...                      ...\n",
       "2020-02-20               NaN\n",
       "2020-02-21               NaN\n",
       "2020-02-22               NaN\n",
       "2020-02-23               NaN\n",
       "2020-02-24             279.0\n",
       "\n",
       "[113 rows x 1 columns]"
      ]
     },
     "execution_count": 33,
     "metadata": {},
     "output_type": "execute_result"
    }
   ],
   "source": [
    "level_2s_days_cycle = days_cycle.loc['2.0']\n",
    "level_2s_days_cycle"
   ]
  },
  {
   "cell_type": "code",
   "execution_count": 34,
   "metadata": {
    "ExecuteTime": {
     "end_time": "2020-03-30T02:29:47.590527Z",
     "start_time": "2020-03-30T02:29:47.578529Z"
    }
   },
   "outputs": [
    {
     "data": {
      "text/html": [
       "<div>\n",
       "<style scoped>\n",
       "    .dataframe tbody tr th:only-of-type {\n",
       "        vertical-align: middle;\n",
       "    }\n",
       "\n",
       "    .dataframe tbody tr th {\n",
       "        vertical-align: top;\n",
       "    }\n",
       "\n",
       "    .dataframe thead th {\n",
       "        text-align: right;\n",
       "    }\n",
       "</style>\n",
       "<table border=\"1\" class=\"dataframe\">\n",
       "  <thead>\n",
       "    <tr style=\"text-align: right;\">\n",
       "      <th></th>\n",
       "      <th>Cycle_Time(days)</th>\n",
       "    </tr>\n",
       "    <tr>\n",
       "      <th>Date</th>\n",
       "      <th></th>\n",
       "    </tr>\n",
       "  </thead>\n",
       "  <tbody>\n",
       "    <tr>\n",
       "      <td>2019-11-04</td>\n",
       "      <td>9.00</td>\n",
       "    </tr>\n",
       "    <tr>\n",
       "      <td>2019-11-05</td>\n",
       "      <td>NaN</td>\n",
       "    </tr>\n",
       "    <tr>\n",
       "      <td>2019-11-06</td>\n",
       "      <td>NaN</td>\n",
       "    </tr>\n",
       "    <tr>\n",
       "      <td>2019-11-07</td>\n",
       "      <td>NaN</td>\n",
       "    </tr>\n",
       "    <tr>\n",
       "      <td>2019-11-08</td>\n",
       "      <td>NaN</td>\n",
       "    </tr>\n",
       "    <tr>\n",
       "      <td>...</td>\n",
       "      <td>...</td>\n",
       "    </tr>\n",
       "    <tr>\n",
       "      <td>2020-02-22</td>\n",
       "      <td>NaN</td>\n",
       "    </tr>\n",
       "    <tr>\n",
       "      <td>2020-02-23</td>\n",
       "      <td>NaN</td>\n",
       "    </tr>\n",
       "    <tr>\n",
       "      <td>2020-02-24</td>\n",
       "      <td>23.00</td>\n",
       "    </tr>\n",
       "    <tr>\n",
       "      <td>2020-02-25</td>\n",
       "      <td>NaN</td>\n",
       "    </tr>\n",
       "    <tr>\n",
       "      <td>2020-02-26</td>\n",
       "      <td>10.25</td>\n",
       "    </tr>\n",
       "  </tbody>\n",
       "</table>\n",
       "<p>115 rows × 1 columns</p>\n",
       "</div>"
      ],
      "text/plain": [
       "            Cycle_Time(days)\n",
       "Date                        \n",
       "2019-11-04              9.00\n",
       "2019-11-05               NaN\n",
       "2019-11-06               NaN\n",
       "2019-11-07               NaN\n",
       "2019-11-08               NaN\n",
       "...                      ...\n",
       "2020-02-22               NaN\n",
       "2020-02-23               NaN\n",
       "2020-02-24             23.00\n",
       "2020-02-25               NaN\n",
       "2020-02-26             10.25\n",
       "\n",
       "[115 rows x 1 columns]"
      ]
     },
     "execution_count": 34,
     "metadata": {},
     "output_type": "execute_result"
    }
   ],
   "source": [
    "level_3s_days_cycle = days_cycle.loc['3.0']\n",
    "level_3s_days_cycle"
   ]
  },
  {
   "cell_type": "markdown",
   "metadata": {},
   "source": [
    "## export to csv"
   ]
  },
  {
   "cell_type": "code",
   "execution_count": 35,
   "metadata": {
    "ExecuteTime": {
     "end_time": "2020-03-30T02:29:47.602527Z",
     "start_time": "2020-03-30T02:29:47.592527Z"
    }
   },
   "outputs": [],
   "source": [
    "level_1s_days_cycle.to_csv(\"c:/data/outbound/2020-03-29/level1s_cycle.csv\")"
   ]
  },
  {
   "cell_type": "code",
   "execution_count": 36,
   "metadata": {
    "ExecuteTime": {
     "end_time": "2020-03-30T02:29:47.613525Z",
     "start_time": "2020-03-30T02:29:47.604528Z"
    }
   },
   "outputs": [],
   "source": [
    "level_2s_days_cycle.to_csv(\"c:/data/outbound/2020-03-29/level2s_cycle.csv\")"
   ]
  },
  {
   "cell_type": "code",
   "execution_count": 37,
   "metadata": {
    "ExecuteTime": {
     "end_time": "2020-03-30T02:29:47.621527Z",
     "start_time": "2020-03-30T02:29:47.615528Z"
    }
   },
   "outputs": [],
   "source": [
    "level_3s_days_cycle.to_csv(\"c:/data/outbound/2020-03-29/level3s_cycle.csv\")"
   ]
  },
  {
   "cell_type": "code",
   "execution_count": null,
   "metadata": {},
   "outputs": [],
   "source": []
  },
  {
   "cell_type": "code",
   "execution_count": null,
   "metadata": {},
   "outputs": [],
   "source": []
  },
  {
   "cell_type": "code",
   "execution_count": null,
   "metadata": {},
   "outputs": [],
   "source": []
  },
  {
   "cell_type": "code",
   "execution_count": null,
   "metadata": {},
   "outputs": [],
   "source": []
  },
  {
   "cell_type": "code",
   "execution_count": null,
   "metadata": {},
   "outputs": [],
   "source": []
  },
  {
   "cell_type": "code",
   "execution_count": null,
   "metadata": {},
   "outputs": [],
   "source": []
  },
  {
   "cell_type": "code",
   "execution_count": 38,
   "metadata": {
    "ExecuteTime": {
     "end_time": "2020-03-30T02:29:47.641527Z",
     "start_time": "2020-03-30T02:29:47.623529Z"
    }
   },
   "outputs": [],
   "source": [
    "total_products = df_days_in_QC.groupby(\"QCValidation\").resample(\"M\").mean()"
   ]
  },
  {
   "cell_type": "code",
   "execution_count": 39,
   "metadata": {
    "ExecuteTime": {
     "end_time": "2020-03-30T02:29:47.652525Z",
     "start_time": "2020-03-30T02:29:47.642525Z"
    }
   },
   "outputs": [
    {
     "data": {
      "text/html": [
       "<div>\n",
       "<style scoped>\n",
       "    .dataframe tbody tr th:only-of-type {\n",
       "        vertical-align: middle;\n",
       "    }\n",
       "\n",
       "    .dataframe tbody tr th {\n",
       "        vertical-align: top;\n",
       "    }\n",
       "\n",
       "    .dataframe thead th {\n",
       "        text-align: right;\n",
       "    }\n",
       "</style>\n",
       "<table border=\"1\" class=\"dataframe\">\n",
       "  <thead>\n",
       "    <tr style=\"text-align: right;\">\n",
       "      <th></th>\n",
       "      <th></th>\n",
       "      <th>Cycle_Time(days)</th>\n",
       "    </tr>\n",
       "    <tr>\n",
       "      <th>QCValidation</th>\n",
       "      <th>Date</th>\n",
       "      <th></th>\n",
       "    </tr>\n",
       "  </thead>\n",
       "  <tbody>\n",
       "    <tr>\n",
       "      <td rowspan=\"4\" valign=\"top\">1.0</td>\n",
       "      <td>2019-11-30</td>\n",
       "      <td>2.460976</td>\n",
       "    </tr>\n",
       "    <tr>\n",
       "      <td>2019-12-31</td>\n",
       "      <td>2.456410</td>\n",
       "    </tr>\n",
       "    <tr>\n",
       "      <td>2020-01-31</td>\n",
       "      <td>3.429224</td>\n",
       "    </tr>\n",
       "    <tr>\n",
       "      <td>2020-02-29</td>\n",
       "      <td>2.537698</td>\n",
       "    </tr>\n",
       "    <tr>\n",
       "      <td rowspan=\"4\" valign=\"top\">2.0</td>\n",
       "      <td>2019-11-30</td>\n",
       "      <td>70.142857</td>\n",
       "    </tr>\n",
       "    <tr>\n",
       "      <td>2019-12-31</td>\n",
       "      <td>65.416667</td>\n",
       "    </tr>\n",
       "    <tr>\n",
       "      <td>2020-01-31</td>\n",
       "      <td>180.888889</td>\n",
       "    </tr>\n",
       "    <tr>\n",
       "      <td>2020-02-29</td>\n",
       "      <td>769.333333</td>\n",
       "    </tr>\n",
       "    <tr>\n",
       "      <td rowspan=\"4\" valign=\"top\">3.0</td>\n",
       "      <td>2019-11-30</td>\n",
       "      <td>7.200000</td>\n",
       "    </tr>\n",
       "    <tr>\n",
       "      <td>2019-12-31</td>\n",
       "      <td>1.250000</td>\n",
       "    </tr>\n",
       "    <tr>\n",
       "      <td>2020-01-31</td>\n",
       "      <td>14.666667</td>\n",
       "    </tr>\n",
       "    <tr>\n",
       "      <td>2020-02-29</td>\n",
       "      <td>23.142857</td>\n",
       "    </tr>\n",
       "  </tbody>\n",
       "</table>\n",
       "</div>"
      ],
      "text/plain": [
       "                         Cycle_Time(days)\n",
       "QCValidation Date                        \n",
       "1.0          2019-11-30          2.460976\n",
       "             2019-12-31          2.456410\n",
       "             2020-01-31          3.429224\n",
       "             2020-02-29          2.537698\n",
       "2.0          2019-11-30         70.142857\n",
       "             2019-12-31         65.416667\n",
       "             2020-01-31        180.888889\n",
       "             2020-02-29        769.333333\n",
       "3.0          2019-11-30          7.200000\n",
       "             2019-12-31          1.250000\n",
       "             2020-01-31         14.666667\n",
       "             2020-02-29         23.142857"
      ]
     },
     "execution_count": 39,
     "metadata": {},
     "output_type": "execute_result"
    }
   ],
   "source": [
    "total_products"
   ]
  },
  {
   "cell_type": "markdown",
   "metadata": {},
   "source": [
    "#### Resample"
   ]
  },
  {
   "cell_type": "code",
   "execution_count": 40,
   "metadata": {
    "ExecuteTime": {
     "end_time": "2020-03-30T02:29:47.663529Z",
     "start_time": "2020-03-30T02:29:47.654525Z"
    }
   },
   "outputs": [
    {
     "data": {
      "text/plain": [
       "Date\n",
       "2019-11-04     4.000000\n",
       "2019-11-05     1.304348\n",
       "2019-11-06     0.750000\n",
       "2019-11-07     1.838710\n",
       "2019-11-08     2.409091\n",
       "                ...    \n",
       "2020-02-24    21.812500\n",
       "2020-02-25     2.275862\n",
       "2020-02-26     3.266667\n",
       "2020-02-27     0.520000\n",
       "2020-02-28     0.703704\n",
       "Freq: D, Name: Cycle_Time(days), Length: 117, dtype: float64"
      ]
     },
     "execution_count": 40,
     "metadata": {},
     "output_type": "execute_result"
    }
   ],
   "source": [
    "df_days_in_QC.resample('D')['Cycle_Time(days)'].mean()"
   ]
  },
  {
   "cell_type": "code",
   "execution_count": null,
   "metadata": {},
   "outputs": [],
   "source": []
  },
  {
   "cell_type": "markdown",
   "metadata": {},
   "source": [
    "----"
   ]
  },
  {
   "cell_type": "raw",
   "metadata": {
    "ExecuteTime": {
     "end_time": "2020-03-30T01:34:10.084639Z",
     "start_time": "2020-03-30T01:34:09.935639Z"
    }
   },
   "source": [
    "value_list= ['1.0', '2.0', '3.0']\n",
    "level_1 = ['1.0']\n",
    "level_2 = ['2.0']\n",
    "level_3 = ['3.0']\n",
    "\n",
    "# GRAB DATAFRAME ROWS where COLUMN contains certain values\n",
    "QC_total_levels = df_days_in_QC[df_days_in_QC['ProductLevel'].isin(value_list)]\n",
    "\n",
    "# THEN GRAB DATAFRAME ROWS for EACH PRODUCT LEVEL\n",
    "QC_level_1 = df_days_in_QC[df_days_in_QC['ProductLevel'].isin(level_1)]\n",
    "QC_level_2 = df_days_in_QC[df_days_in_QC['ProductLevel'].isin(level_2)]\n",
    "QC_level_3 = df_days_in_QC[df_days_in_QC['ProductLevel'].isin(level_3)]\n",
    "print(\"LEN OF (all levels) == \" + str(len(QC_total_levels)))\n",
    "print(\"LEN OF (#01 levels) == \" + str(len(QC_level_1)))\n",
    "print(\"LEN OF (#02 levels) == \" + str(len(QC_level_2)))\n",
    "print(\"LEN OF (#03 levels) == \" + str(len(QC_level_3)))\n",
    "# CREATE << GROUPBY >> DATAFRAME\n",
    "# [2020-3-29]\\\\df_groupby_levels = pd.DataFrame(data=QC_total_levels.groupby([QC_total_levels.index, 'ProductLevel'])[['PfBatchID'].count()])\n",
    "# TEST RESAMPLE ?\n",
    "QC_total_levels.resample('W')['ProductLevel'].mean()\n",
    "# TEST WEIGHTED AVG ?\n"
   ]
  },
  {
   "cell_type": "raw",
   "metadata": {
    "ExecuteTime": {
     "end_time": "2020-03-30T01:34:10.205639Z",
     "start_time": "2020-03-30T01:34:05.694Z"
    }
   },
   "source": [
    "level_1s = df_days_in_QC.groupby(['ProductLevel', 'QC_days']).mean()"
   ]
  },
  {
   "cell_type": "raw",
   "metadata": {
    "ExecuteTime": {
     "end_time": "2020-03-30T01:34:10.206639Z",
     "start_time": "2020-03-30T01:34:05.696Z"
    }
   },
   "source": [
    "level_1s"
   ]
  },
  {
   "cell_type": "markdown",
   "metadata": {},
   "source": [
    "#### ROLLING"
   ]
  },
  {
   "cell_type": "raw",
   "metadata": {
    "ExecuteTime": {
     "end_time": "2020-03-30T01:34:10.207638Z",
     "start_time": "2020-03-30T01:34:05.699Z"
    }
   },
   "source": [
    "df_days_in_QC['QC_days'].rolling(window=7).mean()"
   ]
  },
  {
   "cell_type": "code",
   "execution_count": null,
   "metadata": {},
   "outputs": [],
   "source": []
  }
 ],
 "metadata": {
  "celltoolbar": "Raw Cell Format",
  "kernelspec": {
   "display_name": "Python 3",
   "language": "python",
   "name": "python3"
  },
  "language_info": {
   "codemirror_mode": {
    "name": "ipython",
    "version": 3
   },
   "file_extension": ".py",
   "mimetype": "text/x-python",
   "name": "python",
   "nbconvert_exporter": "python",
   "pygments_lexer": "ipython3",
   "version": "3.7.0"
  },
  "toc": {
   "base_numbering": 1,
   "nav_menu": {},
   "number_sections": true,
   "sideBar": true,
   "skip_h1_title": false,
   "title_cell": "Table of Contents",
   "title_sidebar": "Contents",
   "toc_cell": false,
   "toc_position": {},
   "toc_section_display": true,
   "toc_window_display": false
  },
  "varInspector": {
   "cols": {
    "lenName": 16,
    "lenType": 16,
    "lenVar": 40
   },
   "kernels_config": {
    "python": {
     "delete_cmd_postfix": "",
     "delete_cmd_prefix": "del ",
     "library": "var_list.py",
     "varRefreshCmd": "print(var_dic_list())"
    },
    "r": {
     "delete_cmd_postfix": ") ",
     "delete_cmd_prefix": "rm(",
     "library": "var_list.r",
     "varRefreshCmd": "cat(var_dic_list()) "
    }
   },
   "types_to_exclude": [
    "module",
    "function",
    "builtin_function_or_method",
    "instance",
    "_Feature"
   ],
   "window_display": false
  }
 },
 "nbformat": 4,
 "nbformat_minor": 2
}
