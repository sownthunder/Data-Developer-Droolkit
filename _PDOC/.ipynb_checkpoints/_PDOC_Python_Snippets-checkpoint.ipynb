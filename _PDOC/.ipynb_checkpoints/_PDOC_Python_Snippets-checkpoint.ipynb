{
 "cells": [
  {
   "cell_type": "code",
   "execution_count": 2,
   "metadata": {},
   "outputs": [],
   "source": [
    "import os, sys, time\n",
    "from time import sleep\n",
    "from pathlib import Path"
   ]
  },
  {
   "cell_type": "code",
   "execution_count": 1,
   "metadata": {},
   "outputs": [],
   "source": [
    "import pandas as pd\n",
    "import numpy as np\n",
    "from pandas import Series, DataFrame"
   ]
  },
  {
   "cell_type": "code",
   "execution_count": 4,
   "metadata": {},
   "outputs": [],
   "source": [
    "import logging"
   ]
  },
  {
   "cell_type": "markdown",
   "metadata": {},
   "source": [
    "---\n",
    "# *TABLE OF CONTENTS:*\n",
    "---\n",
    "\n",
    "### 1) Tools&Tricks\n",
    "### 2) Error-Handling\n",
    "### 3) DATETIME/TIMESTAMP\n",
    "### 4) Logging\n",
    "### 5) PANDAS\n",
    "### 6) Concurrency:\n",
    "- threading\n",
    "- subprocess\n",
    "- asyncio\n",
    "\n",
    "### 7) Socket&Servers\n",
    "### 8) Database/Connections\n",
    "### 9)\n",
    "### 10)"
   ]
  },
  {
   "cell_type": "markdown",
   "metadata": {},
   "source": [
    "---\n",
    "### *TO_DO:*\n",
    "- [ ]  write table of contents\n",
    "- [ ] flesh out document structure\n",
    "- [ ] correct code errors\n",
    "- [ ] finalize content"
   ]
  },
  {
   "cell_type": "markdown",
   "metadata": {},
   "source": [
    "---\n",
    "## `TOOLS&TRICKS`\n",
    "---"
   ]
  },
  {
   "cell_type": "markdown",
   "metadata": {},
   "source": [
    "### *ZIP files in directory and return .zip* **DESCRIPTIONS**\n",
    "- #### changes working directory to allow creation of single tree zip folder\n",
    "- #### changes directory back after zip is completed"
   ]
  },
  {
   "cell_type": "code",
   "execution_count": null,
   "metadata": {},
   "outputs": [],
   "source": [
    "# INSTANTIATE GLOBAL VARIABLE / ORIGINAL WORKING DIRECTORY\n",
    "og_wd = os.getcwd()"
   ]
  },
  {
   "cell_type": "code",
   "execution_count": null,
   "metadata": {},
   "outputs": [],
   "source": [
    "def zip_the_directory(directory_to_zip): #{\n",
    "    # RE-INSTANTIATE GLOBALS\n",
    "    global og_wd\n",
    "    # TRY THE FOLLOWING\n",
    "    try: #{\n",
    "        logging.info(\"\\n\\n\\nXXXXXXXXXXXXXXXXXXXXXXXXXXXXXXXXXXXXXXXXXXXXXXXXXXX\")\n",
    "        logging.info(\"\\nWORKING DIRECTORY ---BEFORE--- ZIP==\\n\" + str(os.getcwd()))\n",
    "        # CHANGE WORKING DIRECTORY TO DIRECTORY WE WISH TO ZIP\n",
    "        os.chdir(directory_to_zip)\n",
    "        # path to folder (NOW currently folder we want to zip)\n",
    "        directory = \".\"\n",
    "        logging.info(\"\\nWORKING DIRECTORY ---DURING--- ZIP==\\n\" + str(os.getcwd()))\n",
    "        # calling function to get all file paths in the directory\n",
    "        file_paths = get_all_file_paths(directory)\n",
    "        # printing the list of all files to be zipped \n",
    "        logging.info('\\nFollowing files will be zipped:') \n",
    "        for file_name in file_paths: #{\n",
    "            logging.info(file_name) \n",
    "        #}\n",
    "        # writing files to a zipfile \n",
    "        with ZipFile('CofA-' \n",
    "                     + str(pd.Timestamp.now())[:10] \n",
    "                     + \".zip\",'w') as zip: #{\n",
    "            # writing each file one by one \n",
    "            for file in file_paths: #{\n",
    "                zip.write(file) \n",
    "            #}\n",
    "        #}\n",
    "        logging.info('All files zipped successfully!\\n\\nXXXXXXXXXXXXXXXXXXXXXXXXX' \n",
    "                     + 'XXXXXXXXXXXXXXXXXXXXXXXXXXXXXX\\n')\n",
    "    #}\n",
    "    except: #{\n",
    "        errorMessage = str(sys.exc_info()[0]) + \"\\n\\t\\t\"\n",
    "        errorMessage = errorMessage + str(sys.exc_info()[1]) + \"\\n\\t\\t\"\n",
    "        errorMessage = errorMessage + str(sys.exc_info()[2]) + \"\\n\"\n",
    "        exc_type, exc_obj, exc_tb = sys.exc_info()\n",
    "        fname = os.path.split(exc_tb.tb_frame.f_code.co_filename)[1]\n",
    "        typeE = str(\"TYPE : \" + str(exc_type))\n",
    "        fileE = str(\"FILE : \" + str(fname))\n",
    "        lineE = str(\"LINE : \" + str(exc_tb.tb_lineno))\n",
    "        messageE = str(\"MESG : \" + \"\\n\" + str(errorMessage) + \"\\n\")\n",
    "        logging.error(\"\\n\" + typeE +\n",
    "                      \"\\n\" + fileE +\n",
    "                      \"\\n\" + lineE +\n",
    "                      \"\\n\" + messageE)\n",
    "    #}\n",
    "    else: #{\n",
    "        logging.info(\"[Zip-Files-\" + str(directory_to_zip) + \"] SUCCESS! VERY NICE!\")\n",
    "    #}\n",
    "    finally: #{\n",
    "        # CHANGE WORKING DIRECTORY BACK TO ORIGINAL\n",
    "        os.chdir(og_wd)\n",
    "    #}\n",
    "#}"
   ]
  },
  {
   "cell_type": "markdown",
   "metadata": {},
   "source": [
    "### *scan directory and return file* **DESCRIPTIONS**\n",
    "- #### allowing choice of `directory`\n",
    "- #### allowing choice of `directories_to_ignore`\n",
    "- #### allowing choice of `search_file_types`"
   ]
  },
  {
   "cell_type": "code",
   "execution_count": 1,
   "metadata": {},
   "outputs": [],
   "source": [
    "from os.path import join, getsize"
   ]
  },
  {
   "cell_type": "markdown",
   "metadata": {},
   "source": [
    "### Option 1:"
   ]
  },
  {
   "cell_type": "code",
   "execution_count": null,
   "metadata": {},
   "outputs": [],
   "source": [
    "# iterate thru directory/directories \n",
    "for root,d_names,f_names in os.walk(in_directory): #{\n",
    "    print(\"===================== START ============================================== \\n \\n\")\n",
    "    print(\"\\t *root* = \" + str(root) + \"\\n\") \n",
    "    print(\"\\t *dict* = \" + str(d_names) + \"\\n\")\n",
    "    if len(f_names) > 0: #{\n",
    "        print(\"\\t *file(s)*: \\n\")\n",
    "        # multiple file(s)\n",
    "        for f in f_names: #{\n",
    "            # CHECK IF ROOT IS IN ONE OF THE DIRECTORIES WE WISH TO IGNORE!\n",
    "            if str(root) == \"G:\\C of A's\": #{\n",
    "                pass\n",
    "            #}\n",
    "            elif str(root) == \"G:\\C of A's\\#Email Node\": #{\n",
    "                pass\n",
    "            #}\n",
    "            elif str(root) == \"G:\\C of A's\\OMNION\": #{\n",
    "                pass\n",
    "            #}\n",
    "            elif fnmatch.fnmatch(root, \"G:\\C of A's\\OMNION\\*\"): #{\n",
    "                pass\n",
    "            #}\n",
    "            # OTHERWISE... we are in a directory we want to be in\n",
    "            else: #{\n",
    "                # CHECK AND MAKE SURE ITS NOT A POOPY .db file\n",
    "                if fnmatch.fnmatch(f, \"*.db\") is False: #{\n",
    "                    the_str = str(f)\n",
    "                    the_len = len(the_str)\n",
    "                    # setup index\n",
    "                    idx = the_str.rfind(\"@\", 0, the_len)\n",
    "                    # add (first half of file) to lists\n",
    "                    part_no = f[0:idx]\n",
    "                    part_list.append(part_no)\n",
    "                    #full_path = os.path.join(d_names, f)\n",
    "                    # add DIR NAME to lists\n",
    "                    dir_list.append(root)\n",
    "                    # add FILE NAME to lists\n",
    "                    file_list.append(str(Path(f)))\n",
    "                #}\n",
    "            #}\n",
    "        #}\n",
    "    #}\n",
    "    else: #{\n",
    "        # no files\n",
    "        print(\"\\t NO-FILES!\")\n",
    "    #}\n",
    "    print(\"\\n \\n================================================ END ===================== \\n\")\n",
    "#}"
   ]
  },
  {
   "cell_type": "markdown",
   "metadata": {},
   "source": [
    "### Option 2:"
   ]
  },
  {
   "cell_type": "code",
   "execution_count": null,
   "metadata": {},
   "outputs": [],
   "source": [
    "\"\"\"\n",
    "TAKES IN:\n",
    "(1) FILE-PATH obj containing:\n",
    "    - directory that needs to be scanned\n",
    "(2) LIST-type obj containing:\n",
    "    - list of STR (if any) of directories to skip/avoid\n",
    "(3) LIST-type obj containing:\n",
    "    - list of STR (more than one) of file type to return in scan\n",
    "RETURNS:\n",
    "DataFrame? of all scanned objects that might criteria etc\n",
    "\"\"\"\n",
    "def scan_directory(the_directory, ignore_dir_list, file_type_list): #{\n",
    "    # counter\n",
    "    x = 0\n",
    "    # VARIABLES\n",
    "    scan_directory = Path(the_directory)\n",
    "    # create list to hold clean data yp\n",
    "    path_list = []\n",
    "    # BEGIN << OS.WALK >>\n",
    "    for root, dirs, files in os.walk(scan_directory): #{\n",
    "        #############################\n",
    "        # DIRECTORY SKIP CONDITIONS #\n",
    "        #############################\n",
    "        # FOR EACH ITEM IN \"ignore_dir_list\":\n",
    "        for item in ignore_dir_list: #{\n",
    "            if str(item) in dirs: #{\n",
    "                dirs.remove(str(item))  # REMOVE THAT FROM OS.WALK\n",
    "            #}\n",
    "        #}\n",
    "        # OTHERWISE IF THERE ARE FILES IN DIRECTORY\n",
    "        for f in files: #{\n",
    "            ##############################\n",
    "            # FILE MATCH-TYPE CONDITIONS #\n",
    "            ##############################\n",
    "            # FOR EACH ITEM IN \"file_type_list\":\n",
    "            for item in file_type_list: #{\n",
    "                # \n",
    "            #}\n",
    "        #}\n",
    "    #}\n",
    "#}"
   ]
  },
  {
   "cell_type": "markdown",
   "metadata": {},
   "source": [
    ">>>scan_directory(the_directory=\"F:/APPS/CofA/\",             \n",
    "               ignore_dir_list=[\"Archive ERR\", \"Archive - For all archived CofA, see G CofA folder\", \"Instruction Sheets\"],\n",
    "               file_type_list=[\".pdf\"]\n",
    "               )"
   ]
  },
  {
   "cell_type": "markdown",
   "metadata": {},
   "source": [
    "### *SCAN & MOVE files from directory to* **ANOTHER**\n",
    "- #### allowing choice of `scan_directory`\n",
    "- #### allowing choice of `destination_directory`\n",
    "- #### allowing choice of `search_file_types`"
   ]
  },
  {
   "cell_type": "code",
   "execution_count": 1,
   "metadata": {},
   "outputs": [],
   "source": [
    "def move_files(scan_directory, dst_directory, file_type_list): #{\n",
    "    print(\"NO KILLER ALL FILLER\")\n",
    "#}"
   ]
  },
  {
   "cell_type": "code",
   "execution_count": null,
   "metadata": {},
   "outputs": [],
   "source": []
  },
  {
   "cell_type": "code",
   "execution_count": null,
   "metadata": {},
   "outputs": [],
   "source": []
  },
  {
   "cell_type": "markdown",
   "metadata": {},
   "source": [
    "### *COPY/MOVE* files into a *TEMP* directory and then *ZIP* it"
   ]
  },
  {
   "cell_type": "code",
   "execution_count": null,
   "metadata": {},
   "outputs": [],
   "source": [
    "import tempfile\n",
    "with tempfile.TemporaryDirectory() as temporary_directory:  # {\n",
    "    # COUNTER\n",
    "    x1 = 0\n",
    "    the_dir = Path(temporary_directory)\n",
    "    # ITERATE THRU DATAFRAME\n",
    "    for row in f_paths_df.itertuples(index=False, name='F_DRIVE'):  # {\n",
    "        \n",
    "    #}\n",
    "#}"
   ]
  },
  {
   "cell_type": "code",
   "execution_count": null,
   "metadata": {},
   "outputs": [],
   "source": [
    "def zip_the_directory(directory_to_zip): #{\n",
    "    # RE-INSTANTIATE GLOBALS\n",
    "    global og_wd\n",
    "    # TRY THE FOLLOWING\n",
    "    try: #{\n",
    "        logging.info(\"\\n\\n\\nXXXXXXXXXXXXXXXXXXXXXXXXXXXXXXXXXXXXXXXXXXXXXXXXXXX\")\n",
    "        logging.info(\"\\nWORKING DIRECTORY ---BEFORE--- ZIP==\\n\" + str(os.getcwd()))\n",
    "        # CHANGE WORKING DIRECTORY TO DIRECTORY WE WISH TO ZIP\n",
    "        os.chdir(directory_to_zip)\n",
    "        # path to folder (NOW currently folder we want to zip)\n",
    "        directory = \".\"\n",
    "        logging.info(\"\\nWORKING DIRECTORY ---DURING--- ZIP==\\n\" + str(os.getcwd()))\n",
    "        # calling function to get all file paths in the directory\n",
    "        file_paths = get_all_file_paths(directory)\n",
    "        # printing the list of all files to be zipped \n",
    "        logging.info('\\nFollowing files will be zipped:') \n",
    "        for file_name in file_paths: #{\n",
    "            logging.info(file_name) \n",
    "        #}\n",
    "        # writing files to a zipfile \n",
    "        with ZipFile('CofA-' \n",
    "                     + str(pd.Timestamp.now())[:10] \n",
    "                     + \".zip\",'w') as zip: #{\n",
    "            # writing each file one by one \n",
    "            for file in file_paths: #{\n",
    "                zip.write(file) \n",
    "            #}\n",
    "        #}\n",
    "        logging.info('All files zipped successfully!\\n\\nXXXXXXXXXXXXXXXXXXXXXXXXX' \n",
    "                     + 'XXXXXXXXXXXXXXXXXXXXXXXXXXXXXX\\n')\n",
    "    #}\n",
    "    except: #{\n",
    "        errorMessage = str(sys.exc_info()[0]) + \"\\n\\t\\t\"\n",
    "        errorMessage = errorMessage + str(sys.exc_info()[1]) + \"\\n\\t\\t\"\n",
    "        errorMessage = errorMessage + str(sys.exc_info()[2]) + \"\\n\"\n",
    "        exc_type, exc_obj, exc_tb = sys.exc_info()\n",
    "        fname = os.path.split(exc_tb.tb_frame.f_code.co_filename)[1]\n",
    "        typeE = str(\"TYPE : \" + str(exc_type))\n",
    "        fileE = str(\"FILE : \" + str(fname))\n",
    "        lineE = str(\"LINE : \" + str(exc_tb.tb_lineno))\n",
    "        messageE = str(\"MESG : \" + \"\\n\" + str(errorMessage) + \"\\n\")\n",
    "        logging.error(\"\\n\" + typeE +\n",
    "                      \"\\n\" + fileE +\n",
    "                      \"\\n\" + lineE +\n",
    "                      \"\\n\" + messageE)\n",
    "    #}\n",
    "    else: #{\n",
    "        logging.info(\"[Zip-Files-\" + str(directory_to_zip) + \"] SUCCESS! VERY NICE!\")\n",
    "    #}\n",
    "    finally: #{\n",
    "        # CHANGE WORKING DIRECTORY BACK TO ORIGINAL\n",
    "        os.chdir(og_wd)\n",
    "    #}\n",
    "#}"
   ]
  },
  {
   "cell_type": "markdown",
   "metadata": {},
   "source": [
    "---\n",
    "## `METADATA`\n",
    "---"
   ]
  },
  {
   "cell_type": "code",
   "execution_count": null,
   "metadata": {},
   "outputs": [],
   "source": [
    "\"\"\"\n",
    "takes in two file path destinations,\n",
    "and copies the METADATA from the old to new\n",
    "\"\"\"\n",
    "def old_file_metadata(old_path, new_path):  # {\n",
    "    # GET METADATA OF OLD ORIGINAL FILE\n",
    "    old_stinfo = os.stat(old_path)\n",
    "    print(\"OLD FILE STATS: \\n\" + str(old_stinfo))\n",
    "    old_atime = old_stinfo.st_atime\n",
    "    print(\"OLD FILE A-TIME: \\n\" + str(old_atime))\n",
    "    old_mtime = old_stinfo.st_mtime\n",
    "    print(\"OLD FILE M-TIME: \\n\" + str(old_mtime))\n",
    "    # CHANGE METADATA OF COPIED FILE TO ORIGINAL\n",
    "    os.utime(new_path, (old_atime, old_mtime))\n",
    "#}"
   ]
  },
  {
   "cell_type": "code",
   "execution_count": null,
   "metadata": {},
   "outputs": [],
   "source": []
  },
  {
   "cell_type": "markdown",
   "metadata": {},
   "source": [
    "---\n",
    "## `FILLER`\n",
    "---"
   ]
  },
  {
   "cell_type": "code",
   "execution_count": null,
   "metadata": {},
   "outputs": [],
   "source": []
  },
  {
   "cell_type": "markdown",
   "metadata": {},
   "source": [
    "---\n",
    "## `EXCEPTION/ERROR-HANDLING`\n",
    "---"
   ]
  },
  {
   "cell_type": "code",
   "execution_count": null,
   "metadata": {},
   "outputs": [],
   "source": [
    "try: #{\n",
    "    \n",
    "#}\n",
    "except: #{\n",
    "    errorMessage = str(sys.exc_info()[0]) + \"\\n\\t\\t\"\n",
    "    errorMessage = errorMessage + str(sys.exc_info()[1]) + \"\\n\\t\\t\"\n",
    "    errorMessage = errorMessage + str(sys.exc_info()[2]) + \"\\n\"\n",
    "    exc_type, exc_obj, exc_tb = sys.exc_info()\n",
    "    fname = os.path.split(exc_tb.tb_frame.f_code.co_filename)[1]\n",
    "    typeE = str(\"TYPE : \" + str(exc_type))\n",
    "    fileE = str(\"FILE : \" + str(fname))\n",
    "    lineE = str(\"LINE : \" + str(exc_tb.tb_lineno))\n",
    "    messageE = str(\"MESG : \" + \"\\n\" + str(errorMessage) + \"\\n\")\n",
    "    logging.error(\"\\n\" + typeE +\n",
    "                  \"\\n\" + fileE +\n",
    "                  \"\\n\" + lineE +\n",
    "                  \"\\n\" + messageE)\n",
    "#}\n",
    "else: #{\n",
    "    print(\"FIN...\")\n",
    "#}\n",
    "finally: #{\n",
    "    \n",
    "#}"
   ]
  },
  {
   "cell_type": "code",
   "execution_count": null,
   "metadata": {},
   "outputs": [],
   "source": []
  },
  {
   "cell_type": "markdown",
   "metadata": {},
   "source": [
    "---\n",
    "## `DATETIME/TIMESTAMP`\n",
    "---"
   ]
  },
  {
   "cell_type": "markdown",
   "metadata": {},
   "source": [
    "## 1"
   ]
  },
  {
   "cell_type": "code",
   "execution_count": 2,
   "metadata": {},
   "outputs": [],
   "source": [
    "from datetime import datetime "
   ]
  },
  {
   "cell_type": "code",
   "execution_count": 7,
   "metadata": {},
   "outputs": [],
   "source": [
    "\"\"\"\n",
    "TAKES IN:\n",
    "(1) file_path to file \n",
    "RETURNS: \n",
    "The create time or modified time, whichever is older\n",
    "\"\"\"\n",
    "def pull_creation_timetamp(a_file_path): #{\n",
    "    # FORCE PATH VARIABLE\n",
    "    the_path = Path(a_file_path)\n",
    "    # GET MODIFIED TIME\n",
    "    mtime = os.path.getmtime(the_path)\n",
    "    # GET CREATE TIME\n",
    "    ctime = os.path.getctime(the_path)\n",
    "    # CREATE DATE VAR\n",
    "    # IF CREATE TIME IS OLDER...\n",
    "    if ctime < mtime: #{\n",
    "        # FORMAT DATE VAR as str\n",
    "        date_str = str(datetime.fromtimestamp(ctime))\n",
    "    #}\n",
    "    # ELSE.... MODIFIED TIME IS OLDER...\n",
    "    else: #{\n",
    "        # FORMAT DATE VAR as str\n",
    "        date_str = str(datetime.fromtimestamp(mtime))\n",
    "    #}\n",
    "    # RETURN THE DATE WE PULLED AS STRING\n",
    "    return date_str\n",
    "#}"
   ]
  },
  {
   "cell_type": "code",
   "execution_count": 10,
   "metadata": {},
   "outputs": [],
   "source": [
    "test_path = \"F:/APPS/CofA/PST-2280-10MG@0006484471.pdf\"  # \"F:/APPS/CofA/061496-1@NT056433.pdf\""
   ]
  },
  {
   "cell_type": "code",
   "execution_count": 11,
   "metadata": {},
   "outputs": [
    {
     "name": "stdout",
     "output_type": "stream",
     "text": [
      "2019-08-23 07:30:43.753058\n"
     ]
    }
   ],
   "source": [
    "print(pull_creation_timetamp(a_file_path=test_path))"
   ]
  },
  {
   "cell_type": "markdown",
   "metadata": {},
   "source": [
    "## 2"
   ]
  },
  {
   "cell_type": "code",
   "execution_count": 1,
   "metadata": {},
   "outputs": [],
   "source": [
    "def creation_date(path_to_file): # {\n",
    "    \"\"\"\n",
    "    Try to get the date that a file was created, falling back to when it was\n",
    "    last modified if that isn't possible.\n",
    "    \"\"\"\n",
    "    if platform.system() == 'Windows': # {\n",
    "        return os.path.getctime(path_to_file)\n",
    "    # }\n",
    "    else: # {\n",
    "        stat = os.stat(path_to_file)\n",
    "        try: # {\n",
    "            return stat.st_birthtime\n",
    "        # }\n",
    "        except AttributeError: # {\n",
    "            # We're probably on Linux. No easy way to get creation dates here,\n",
    "            # so we'll settle for when its content was last modified.\n",
    "            return stat.st_mtime\n",
    "        # }\n",
    "    # }\n",
    "    return\n",
    "# }"
   ]
  },
  {
   "cell_type": "markdown",
   "metadata": {},
   "source": [
    "## 3"
   ]
  },
  {
   "cell_type": "markdown",
   "metadata": {},
   "source": [
    "*convert `pd.Timestamp` to `datetime`"
   ]
  },
  {
   "cell_type": "code",
   "execution_count": 2,
   "metadata": {},
   "outputs": [
    {
     "name": "stdout",
     "output_type": "stream",
     "text": [
      "2019-09-04 12:05:10.983943\n"
     ]
    }
   ],
   "source": [
    "ts_today = pd.Timestamp.now()\n",
    "print(ts_today)"
   ]
  },
  {
   "cell_type": "code",
   "execution_count": 3,
   "metadata": {},
   "outputs": [
    {
     "name": "stdout",
     "output_type": "stream",
     "text": [
      "2019-09-04T12:05:10.983943000\n"
     ]
    }
   ],
   "source": [
    "# CONVERT TO DATETIME\n",
    "datetime_today = ts_today.to_datetime64()\n",
    "print(datetime_today)"
   ]
  },
  {
   "cell_type": "markdown",
   "metadata": {},
   "source": [
    "---\n",
    "## `TIME-SERIES (based)`\n",
    "---"
   ]
  },
  {
   "cell_type": "markdown",
   "metadata": {},
   "source": [
    "## 1 [timer]"
   ]
  },
  {
   "cell_type": "code",
   "execution_count": 1,
   "metadata": {},
   "outputs": [],
   "source": [
    "from threading import Timer"
   ]
  },
  {
   "cell_type": "code",
   "execution_count": 2,
   "metadata": {},
   "outputs": [],
   "source": [
    "def timer_test(): #{\n",
    "    print(\"DING! \")\n",
    "#}"
   ]
  },
  {
   "cell_type": "code",
   "execution_count": 3,
   "metadata": {},
   "outputs": [],
   "source": [
    "# CREATE TIMER VARIABLE\n",
    "t = Timer(interval=30, function=timer_test)"
   ]
  },
  {
   "cell_type": "code",
   "execution_count": 4,
   "metadata": {},
   "outputs": [
    {
     "name": "stdout",
     "output_type": "stream",
     "text": [
      "DING! \n"
     ]
    }
   ],
   "source": [
    "# START TIMER\n",
    "t.start()"
   ]
  },
  {
   "cell_type": "markdown",
   "metadata": {},
   "source": [
    "---\n",
    "## `LOGGING`\n",
    "---"
   ]
  },
  {
   "cell_type": "code",
   "execution_count": 5,
   "metadata": {},
   "outputs": [],
   "source": [
    "import logging"
   ]
  },
  {
   "cell_type": "code",
   "execution_count": 6,
   "metadata": {},
   "outputs": [
    {
     "name": "stdout",
     "output_type": "stream",
     "text": [
      "SUCCESS! VERY NICE!\n",
      "FIN...\n"
     ]
    }
   ],
   "source": [
    "try: #{\n",
    "    logging.basicConfig(level=logging.INFO,\n",
    "                        filename='C:/CofA/log/CofA_Email_Node.log',\n",
    "                        format='%(asctime)s:'\n",
    "                        + '\\n\\t\\t\\t\\t'\n",
    "                        + '<MESG:%(message)s>'\n",
    "                        + '\\n\\t\\t\\t\\t'\n",
    "                        + '<%(threadName)s-ID:%(thread)d>'\n",
    "                        + '\\n\\t\\t\\t\\t'\n",
    "                        + '<%(processName)s-ID:%(process)d>'\n",
    "                        + '\\n\\t\\t\\t\\t'\n",
    "                        + '<FUNC=%(funcName)s>'\n",
    "                        + '\\n\\t\\t\\t\\t'\n",
    "                        + '<LINE:%(lineno)s>'\n",
    "                        + '\\n\\t\\t\\t\\t'\n",
    "                        + '<PATH:%(pathname)s>'\n",
    "                        + '\\n\\t\\t\\t\\t'\n",
    "                        + '<NAME:%(name)s>',\n",
    "                        #format='%(asctime)s:\\n\\t\\t\\t\\t%(message)s\\n\\t\\t\\t\\t<%(threadName)s-ID:%(thread)d>\\n<FUNC=%(funcName)s>\\n<LINE:%(lineno)s>',\n",
    "                        datefmt='%Y-%m-%d-%H%M%S',\n",
    "                        filemode='a')\n",
    "#}\n",
    "except: #{\n",
    "    errorMessage = str(sys.exc_info()[0]) + \"\\n\"\n",
    "    errorMessage = errorMessage + str(sys.exc_info()[1]) + \"\\n\"\n",
    "    errorMessage = errorMessage + str(sys.exc_info()[2]) + \"\\n\"\n",
    "    exc_type, exc_obj, exc_tb = sys.exc_info()\n",
    "    fname = os.path.split(exc_tb.tb_frame.f_code.co_filename)[1]\n",
    "    typeE = str(\"TYPE : \" + str(exc_type))\n",
    "    fileE = str(\"FILE : \" + str(fname))\n",
    "    lineE = str(\"LINE : \" + str(exc_tb.tb_lineno))\n",
    "    messageE = str(\"MESG : \" + \"\\n\" + str(errorMessage))\n",
    "    error_output = str(\"\\n\" + typeE +\n",
    "                       \"\\n\" + fileE +\n",
    "                       \"\\n\" + lineE +\n",
    "                       \"\\n\" + messageE)\n",
    "    print(error_output)\n",
    "#}\n",
    "else: #{\n",
    "    print(\"SUCCESS! VERY NICE!\")\n",
    "#}\n",
    "finally: #{\n",
    "    print(\"FIN...\")\n",
    "#}"
   ]
  },
  {
   "cell_type": "code",
   "execution_count": null,
   "metadata": {},
   "outputs": [],
   "source": []
  },
  {
   "cell_type": "code",
   "execution_count": null,
   "metadata": {},
   "outputs": [],
   "source": []
  },
  {
   "cell_type": "markdown",
   "metadata": {},
   "source": [
    "---\n",
    "# *`PANDAS`*\n",
    "___"
   ]
  },
  {
   "cell_type": "markdown",
   "metadata": {},
   "source": [
    "### *Preliminary Imports*"
   ]
  },
  {
   "cell_type": "code",
   "execution_count": 4,
   "metadata": {},
   "outputs": [],
   "source": [
    "import pandas as pd\n",
    "import numpy as np\n",
    "from pandas import Series, DataFrame"
   ]
  },
  {
   "cell_type": "code",
   "execution_count": 5,
   "metadata": {},
   "outputs": [],
   "source": [
    "timestamp_now = pd.Timestamp.now()"
   ]
  },
  {
   "cell_type": "code",
   "execution_count": 6,
   "metadata": {},
   "outputs": [
    {
     "name": "stdout",
     "output_type": "stream",
     "text": [
      "2019-07-31 22:12:22.942243\n"
     ]
    }
   ],
   "source": [
    "print(timestamp_now)"
   ]
  },
  {
   "cell_type": "code",
   "execution_count": null,
   "metadata": {},
   "outputs": [],
   "source": []
  },
  {
   "cell_type": "code",
   "execution_count": null,
   "metadata": {},
   "outputs": [],
   "source": []
  },
  {
   "cell_type": "markdown",
   "metadata": {},
   "source": [
    "---\n",
    "# *`CONCURRENCY`*\n",
    "---"
   ]
  },
  {
   "cell_type": "code",
   "execution_count": null,
   "metadata": {},
   "outputs": [],
   "source": []
  },
  {
   "cell_type": "markdown",
   "metadata": {},
   "source": [
    "---\n",
    "#### `THREADING`\n",
    "\n",
    "[threading-docs](https://docs.python.org/3.7/library/threading.html)\n",
    "---"
   ]
  },
  {
   "cell_type": "code",
   "execution_count": 1,
   "metadata": {},
   "outputs": [],
   "source": [
    "from threading import Timer"
   ]
  },
  {
   "cell_type": "code",
   "execution_count": 2,
   "metadata": {},
   "outputs": [
    {
     "name": "stdout",
     "output_type": "stream",
     "text": [
      "hello world!\n"
     ]
    }
   ],
   "source": [
    "def hello(): #{\n",
    "    print(\"hello world!\")\n",
    "#}\n",
    "\n",
    "t = Timer(30.0, hello)\n",
    "t.start() # after 30 seconds, \"hello world will be printed\""
   ]
  },
  {
   "cell_type": "markdown",
   "metadata": {},
   "source": [
    "---\n",
    "#### `SUBPROCESS`\n",
    "---"
   ]
  },
  {
   "cell_type": "code",
   "execution_count": null,
   "metadata": {},
   "outputs": [],
   "source": []
  },
  {
   "cell_type": "markdown",
   "metadata": {},
   "source": [
    "---\n",
    "#### `ASYNCIO`\n",
    "---"
   ]
  },
  {
   "cell_type": "code",
   "execution_count": null,
   "metadata": {},
   "outputs": [],
   "source": []
  }
 ],
 "metadata": {
  "kernelspec": {
   "display_name": "Python 3",
   "language": "python",
   "name": "python3"
  },
  "language_info": {
   "codemirror_mode": {
    "name": "ipython",
    "version": 3
   },
   "file_extension": ".py",
   "mimetype": "text/x-python",
   "name": "python",
   "nbconvert_exporter": "python",
   "pygments_lexer": "ipython3",
   "version": "3.7.0"
  },
  "pycharm": {
   "stem_cell": {
    "cell_type": "raw",
    "metadata": {
     "collapsed": false
    },
    "source": []
   }
  },
  "toc": {
   "base_numbering": 1,
   "nav_menu": {},
   "number_sections": true,
   "sideBar": true,
   "skip_h1_title": false,
   "title_cell": "Table of Contents",
   "title_sidebar": "Contents",
   "toc_cell": false,
   "toc_position": {},
   "toc_section_display": true,
   "toc_window_display": false
  },
  "varInspector": {
   "cols": {
    "lenName": 16,
    "lenType": 16,
    "lenVar": 40
   },
   "kernels_config": {
    "python": {
     "delete_cmd_postfix": "",
     "delete_cmd_prefix": "del ",
     "library": "var_list.py",
     "varRefreshCmd": "print(var_dic_list())"
    },
    "r": {
     "delete_cmd_postfix": ") ",
     "delete_cmd_prefix": "rm(",
     "library": "var_list.r",
     "varRefreshCmd": "cat(var_dic_list()) "
    }
   },
   "types_to_exclude": [
    "module",
    "function",
    "builtin_function_or_method",
    "instance",
    "_Feature"
   ],
   "window_display": false
  }
 },
 "nbformat": 4,
 "nbformat_minor": 2
}
