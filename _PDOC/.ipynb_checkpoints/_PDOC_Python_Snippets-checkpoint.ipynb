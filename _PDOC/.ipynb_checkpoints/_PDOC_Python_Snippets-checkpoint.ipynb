{
 "cells": [
  {
   "cell_type": "code",
   "execution_count": null,
   "metadata": {},
   "outputs": [],
   "source": [
    "import os, sys, time\n",
    "from time import sleep"
   ]
  },
  {
   "cell_type": "markdown",
   "metadata": {},
   "source": [
    "---\n",
    "# *TABLE OF CONTENTS:*\n",
    "---"
   ]
  },
  {
   "cell_type": "markdown",
   "metadata": {},
   "source": [
    "- [x] write table of contents"
   ]
  },
  {
   "cell_type": "markdown",
   "metadata": {},
   "source": [
    "---\n",
    "## `ERROR-HANDLING`\n",
    "---"
   ]
  },
  {
   "cell_type": "code",
   "execution_count": null,
   "metadata": {},
   "outputs": [],
   "source": [
    "try: #{\n",
    "    \n",
    "#}\n",
    "except: #{\n",
    "    errorMessage = str(sys.exc_info()[0]) + \"\\n\\t\\t\"\n",
    "    errorMessage = errorMessage + str(sys.exc_info()[1]) + \"\\n\\t\\t\"\n",
    "    errorMessage = errorMessage + str(sys.exc_info()[2]) + \"\\n\"\n",
    "    exc_type, exc_obj, exc_tb = sys.exc_info()\n",
    "    fname = os.path.split(exc_tb.tb_frame.f_code.co_filename)[1]\n",
    "    typeE = str(\"TYPE : \" + str(exc_type))\n",
    "    fileE = str(\"FILE : \" + str(fname))\n",
    "    lineE = str(\"LINE : \" + str(exc_tb.tb_lineno))\n",
    "    messageE = str(\"MESG : \" + \"\\n\" + str(errorMessage) + \"\\n\")\n",
    "    logging.error(\"\\n\" + typeE +\n",
    "                  \"\\n\" + fileE +\n",
    "                  \"\\n\" + lineE +\n",
    "                  \"\\n\" + messageE)\n",
    "#}\n",
    "else: #{\n",
    "    print(\"FIN...\")\n",
    "#}\n",
    "finally: #{\n",
    "    \n",
    "#}"
   ]
  },
  {
   "cell_type": "code",
   "execution_count": null,
   "metadata": {},
   "outputs": [],
   "source": []
  },
  {
   "cell_type": "markdown",
   "metadata": {},
   "source": [
    "---\n",
    "## `LOGGING`\n",
    "---"
   ]
  },
  {
   "cell_type": "code",
   "execution_count": 1,
   "metadata": {},
   "outputs": [
    {
     "ename": "SyntaxError",
     "evalue": "unexpected EOF while parsing (<ipython-input-1-453f9da5b4e6>, line 23)",
     "output_type": "error",
     "traceback": [
      "\u001b[1;36m  File \u001b[1;32m\"<ipython-input-1-453f9da5b4e6>\"\u001b[1;36m, line \u001b[1;32m23\u001b[0m\n\u001b[1;33m    except: #{}\u001b[0m\n\u001b[1;37m               ^\u001b[0m\n\u001b[1;31mSyntaxError\u001b[0m\u001b[1;31m:\u001b[0m unexpected EOF while parsing\n"
     ]
    }
   ],
   "source": [
    "try: #{\n",
    "    logging.basicConfig(level=logging.INFO,\n",
    "                        filename='C:/CofA/log/CofA_Email_Node.log',\n",
    "                        format='%(asctime)s:'\n",
    "                        + '\\n\\t\\t\\t\\t'\n",
    "                        + '<MESG:%(message)s>'\n",
    "                        + '\\n\\t\\t\\t\\t'\n",
    "                        + '<%(threadName)s-ID:%(thread)d>'\n",
    "                        + '\\n\\t\\t\\t\\t'\n",
    "                        + '<%(processName)s-ID:%(process)d>'\n",
    "                        + '\\n\\t\\t\\t\\t'\n",
    "                        + '<FUNC=%(funcName)s>'\n",
    "                        + '\\n\\t\\t\\t\\t'\n",
    "                        + '<LINE:%(lineno)s>'\n",
    "                        + '\\n\\t\\t\\t\\t'\n",
    "                        + '<PATH:%(pathname)s>'\n",
    "                        + '\\n\\t\\t\\t\\t'\n",
    "                        + '<NAME:%(name)s>',\n",
    "                        #format='%(asctime)s:\\n\\t\\t\\t\\t%(message)s\\n\\t\\t\\t\\t<%(threadName)s-ID:%(thread)d>\\n<FUNC=%(funcName)s>\\n<LINE:%(lineno)s>',\n",
    "                        datefmt='%Y-%m-%d-%H%M%S',\n",
    "                        filemode='a')\n",
    "#}\n",
    "except: #{\n",
    "    \n",
    "#}"
   ]
  },
  {
   "cell_type": "code",
   "execution_count": null,
   "metadata": {},
   "outputs": [],
   "source": []
  },
  {
   "cell_type": "code",
   "execution_count": null,
   "metadata": {},
   "outputs": [],
   "source": []
  },
  {
   "cell_type": "markdown",
   "metadata": {},
   "source": [
    "---\n",
    "## `PANDAS`\n",
    "---"
   ]
  },
  {
   "cell_type": "markdown",
   "metadata": {},
   "source": [
    "### *Preliminary Imports*"
   ]
  },
  {
   "cell_type": "code",
   "execution_count": 4,
   "metadata": {},
   "outputs": [],
   "source": [
    "import pandas as pd\n",
    "import numpy as np\n",
    "from pandas import Series, DataFrame"
   ]
  },
  {
   "cell_type": "code",
   "execution_count": 5,
   "metadata": {},
   "outputs": [],
   "source": [
    "timestamp_now = pd.Timestamp.now()"
   ]
  },
  {
   "cell_type": "code",
   "execution_count": 6,
   "metadata": {},
   "outputs": [
    {
     "name": "stdout",
     "output_type": "stream",
     "text": [
      "2019-07-31 22:12:22.942243\n"
     ]
    }
   ],
   "source": [
    "print(timestamp_now)"
   ]
  },
  {
   "cell_type": "code",
   "execution_count": null,
   "metadata": {},
   "outputs": [],
   "source": []
  },
  {
   "cell_type": "code",
   "execution_count": null,
   "metadata": {},
   "outputs": [],
   "source": []
  },
  {
   "cell_type": "code",
   "execution_count": null,
   "metadata": {},
   "outputs": [],
   "source": []
  },
  {
   "cell_type": "markdown",
   "metadata": {},
   "source": [
    "---\n",
    "## `SUBPROCESS`\n",
    "---"
   ]
  },
  {
   "cell_type": "code",
   "execution_count": null,
   "metadata": {},
   "outputs": [],
   "source": []
  }
 ],
 "metadata": {
  "kernelspec": {
   "display_name": "Python 3",
   "language": "python",
   "name": "python3"
  },
  "language_info": {
   "codemirror_mode": {
    "name": "ipython",
    "version": 3
   },
   "file_extension": ".py",
   "mimetype": "text/x-python",
   "name": "python",
   "nbconvert_exporter": "python",
   "pygments_lexer": "ipython3",
   "version": "3.7.3"
  }
 },
 "nbformat": 4,
 "nbformat_minor": 2
}
