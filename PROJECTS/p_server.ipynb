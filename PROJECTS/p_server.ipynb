{
 "cells": [
  {
   "cell_type": "code",
   "execution_count": 2,
   "metadata": {},
   "outputs": [],
   "source": [
    "import os, sys, time\n",
    "from time import sleep\n",
    "from urllib.request import urlopen"
   ]
  },
  {
   "cell_type": "code",
   "execution_count": null,
   "metadata": {},
   "outputs": [],
   "source": [
    "URL = 'https://www.google.com/'\n",
    "PROXY_ADDRESS = \"\"\n",
    "# use http://www.someproxy.com:3128 for http proxying\n",
    "proxies = {'http': 'http://www.someproxy.com:3128'}\n",
    "filehandle = "
   ]
  },
  {
   "cell_type": "code",
   "execution_count": 1,
   "metadata": {},
   "outputs": [],
   "source": [
    "# This is a simple port-forward / proxy, written using only the default python\n",
    "# library. If you want to make a suggestion or fix something you can contact-me\n",
    "# at voorloop_at_gmail.com\n",
    "# Distributed over IDC(I Don't Care) license\n",
    "import socket\n",
    "import select\n",
    "import time\n",
    "import sys"
   ]
  },
  {
   "cell_type": "code",
   "execution_count": 2,
   "metadata": {},
   "outputs": [],
   "source": [
    "# Changing the buffer_size and delay, you can improve the speed and bandwidth.\n",
    "# But when buffer get to high or delay go too down, you can broke things\n",
    "buffer_size = 4096\n",
    "delay = 0.0001\n",
    "forward_to = ('smtp.zaz.ufsk.br', 25)"
   ]
  },
  {
   "cell_type": "code",
   "execution_count": 6,
   "metadata": {},
   "outputs": [],
   "source": [
    "class Forward: #{\n",
    "    \n",
    "    def __init__(self): #{\n",
    "        self.forward = socket.socket(socket.AF_INET, socket.SOCK_STREAM)\n",
    "    #}\n",
    "    \n",
    "    def start(self, host, port): #{\n",
    "        try: #{\n",
    "            self.forward.connect((host, port))\n",
    "            return self.forward\n",
    "        #}\n",
    "        except Exception as e: #{\n",
    "            print(e)\n",
    "            return False\n",
    "        #}\n",
    "    #}\n",
    "    \n",
    "#}"
   ]
  },
  {
   "cell_type": "code",
   "execution_count": 9,
   "metadata": {},
   "outputs": [],
   "source": [
    "class TheServer: #{\n",
    "    input_list = []\n",
    "    channel = {}\n",
    "\n",
    "    def __init__(self, host, port): #{\n",
    "        self.server = socket.socket(socket.AF_INET, socket.SOCK_STREAM)\n",
    "        self.server.setsockopt(socket.SOL_SOCKET, socket.SO_REUSEADDR, 1)\n",
    "        self.server.bind((host, port))\n",
    "        self.server.listen(200)\n",
    "    #}\n",
    "\n",
    "    def main_loop(self): #{\n",
    "        self.input_list.append(self.server)\n",
    "        while 1: #{\n",
    "            time.sleep(delay)\n",
    "            ss = select.select\n",
    "            inputready, outputready, exceptready = ss(self.input_list, [], [])\n",
    "            for self.s in inputready: #{\n",
    "                if self.s == self.server: #{\n",
    "                    self.on_accept()\n",
    "                    break\n",
    "                #}\n",
    "\n",
    "                self.data = self.s.recv(buffer_size)\n",
    "                if len(self.data) == 0: #{\n",
    "                    self.on_close()\n",
    "                    break\n",
    "                #}\n",
    "                else: #{\n",
    "                    self.on_recv()\n",
    "                #}\n",
    "            #}\n",
    "        #}\n",
    "    #}\n",
    "    \n",
    "    def on_accept(self): #{\n",
    "        forward = Forward().start(forward_to[0], forward_to[1])\n",
    "        clientsock, clientaddr = self.server.accept()\n",
    "        if forward: #{\n",
    "            print(clientaddr, \"has connected\")\n",
    "            self.input_list.append(clientsock)\n",
    "            self.input_list.append(forward)\n",
    "            self.channel[clientsock] = forward\n",
    "            self.channel[forward] = clientsock\n",
    "        #}\n",
    "        else: #{\n",
    "            print(\"Can't establish connection with remote server.\")\n",
    "            print(\"Closing connection with client side\", clientaddr)\n",
    "            clientsock.close()\n",
    "        #}\n",
    "    #}\n",
    "    \n",
    "    def on_close(self): #{\n",
    "        print(self.s.getpeername(), \"has disconnected\")\n",
    "        #remove objects from input_list\n",
    "        self.input_list.remove(self.s)\n",
    "        self.input_list.remove(self.channel[self.s])\n",
    "        out = self.channel[self.s]\n",
    "        # close the connection with client\n",
    "        self.channel[out].close()  # equivalent to do self.s.close()\n",
    "        # close the connection with remote server\n",
    "        self.channel[self.s].close()\n",
    "        # delete both objects from channel dict\n",
    "        del self.channel[out]\n",
    "        del self.channel[self.s]\n",
    "    #}\n",
    "    \n",
    "    def on_recv(self): #{\n",
    "        data = self.data\n",
    "        # here we can parse and/or modify the data before send forward\n",
    "        print(data)\n",
    "        self.channel[self.s].send(data)\n",
    "    #}\n",
    "    \n",
    "#}"
   ]
  },
  {
   "cell_type": "code",
   "execution_count": null,
   "metadata": {},
   "outputs": [],
   "source": [
    "if __name__ == \"__main__\": #{\n",
    "    server = TheServer('', 9090)\n",
    "    try: #{\n",
    "        server.main_loop()\n",
    "    #}\n",
    "    except KeyboardInterrupt: #{\n",
    "        print(\"Ctrl C - Stopping Server\")\n",
    "        sys.exit()\n",
    "    #}\n",
    "#}"
   ]
  },
  {
   "cell_type": "code",
   "execution_count": null,
   "metadata": {},
   "outputs": [],
   "source": []
  }
 ],
 "metadata": {
  "kernelspec": {
   "display_name": "Python 3",
   "language": "python",
   "name": "python3"
  },
  "language_info": {
   "codemirror_mode": {
    "name": "ipython",
    "version": 3
   },
   "file_extension": ".py",
   "mimetype": "text/x-python",
   "name": "python",
   "nbconvert_exporter": "python",
   "pygments_lexer": "ipython3",
   "version": "3.7.3"
  }
 },
 "nbformat": 4,
 "nbformat_minor": 2
}
