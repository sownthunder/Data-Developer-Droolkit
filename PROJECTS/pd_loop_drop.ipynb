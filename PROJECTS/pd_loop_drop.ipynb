{
 "cells": [
  {
   "cell_type": "code",
   "execution_count": 15,
   "metadata": {},
   "outputs": [],
   "source": [
    "# IMPORT THE GOODS\n",
    "import os, sys, time\n",
    "from time import sleep\n",
    "import pandas as pd\n",
    "import numpy as np\n",
    "from pandas import Series, DataFrame"
   ]
  },
  {
   "cell_type": "code",
   "execution_count": 54,
   "metadata": {},
   "outputs": [],
   "source": [
    "import logging, random"
   ]
  },
  {
   "cell_type": "code",
   "execution_count": 55,
   "metadata": {},
   "outputs": [],
   "source": [
    "def setup_logger(): #{\n",
    "    # TRY THE FOLLOWING:\n",
    "    try: #{\n",
    "        logging.basicConfig(level=logging.INFO,\n",
    "                           format='%(asctime)s : %(message)s',\n",
    "                           datefmt='%Y-%m-%d-%H%M%S',\n",
    "                           filemode='a')\n",
    "    #}\n",
    "    except: #{\n",
    "        errorMessage = str(sys.exc_info()[0]) + \"\\n\\t\\t\"\n",
    "        errorMessage = errorMessage + str(sys.exc_info()[1]) + \"\\n\\t\\t\"\n",
    "        errorMessage = errorMessage + str(sys.exc_info()[2]) + \"\\n\"\n",
    "        exc_type, exc_obj, exc_tb = sys.exc_info()\n",
    "        fname = os.path.split(exc_tb.tb_frame.f_code.co_filename)[1]\n",
    "        typeE = str(\"TYPE : \" + str(exc_type))\n",
    "        fileE = str(\"FILE : \" + str(fname))\n",
    "        lineE = str(\"LINE : \" + str(exc_tb.tb_lineno))\n",
    "        messageE = str(\"MESG : \" + \"\\n\" + str(errorMessage) + \"\\n\")\n",
    "        logging.error(\"\\n\" + typeE +\n",
    "              \"\\n\" + fileE +\n",
    "              \"\\n\" + lineE +\n",
    "              \"\\n\" + messageE)\n",
    "    #}\n",
    "    else: #{\n",
    "        logging.info(\"[SETUP-LOGGER] SUCCESS! VERY NICE! \")\n",
    "    #}\n",
    "#}"
   ]
  },
  {
   "cell_type": "code",
   "execution_count": 56,
   "metadata": {},
   "outputs": [],
   "source": [
    "def generate_random_num(the_min, the_max): #{\n",
    "    # setup parameters\n",
    "    aMin = int(the_min)\n",
    "    aMax = int(the_max)\n",
    "    # generate random num\n",
    "    ran_num = random.randint(a=aMin, b=aMax)\n",
    "    return ran_num\n",
    "#}"
   ]
  },
  {
   "cell_type": "code",
   "execution_count": 64,
   "metadata": {},
   "outputs": [],
   "source": [
    "def loop_watch_link(the_link, the_count): #{\n",
    "    # setup parameters\n",
    "    aLink = str(the_link)\n",
    "    aCount = int(the_count)\n",
    "    # loop for number of # count times\n",
    "    while aCount >= 0: #{\n",
    "        # display count\n",
    "        print(str(aCount) + \" loops remaining...\")\n",
    "        sleep(1)\n",
    "        aCount -= 1\n",
    "    #}\n",
    "#}"
   ]
  },
  {
   "cell_type": "code",
   "execution_count": 86,
   "metadata": {},
   "outputs": [],
   "source": [
    "def decrement_count_column(the_dataframe, the_row, count_column, decrement_amount): #{\n",
    "    # get/set current count variable\n",
    "    current_count = int(the_dataframe.iloc[the_row, count_column])\n",
    "    print(\"current count == \" + str(current_count))\n",
    "    # SUBTRACT *SPECIFIC AMOUNT* from COUNT\n",
    "    the_dataframe.iloc[the_dataframe.the_row == ]\n",
    "    \n",
    "#}"
   ]
  },
  {
   "cell_type": "code",
   "execution_count": 93,
   "metadata": {},
   "outputs": [],
   "source": [
    "def main(): #{\n",
    "    # RE-INSTANTIATE GLOBALS\n",
    "    global in_file\n",
    "    # IMPORT DATA\n",
    "    test_df = pd.read_csv(in_file, dtype=np.str, engine='python')\n",
    "    #OLD#print(test_df)\n",
    "    logging.info(\"\\n\" + str(test_df))\n",
    "    # GENERATE RANDOM NUMBER TO DETERMINE VID LINK\n",
    "    a_num = generate_random_num(0, len(test_df))\n",
    "    # PRINT 5th row 2nd column\n",
    "    logging.info(\"ITEM LOCATED AT: [\" + str(a_num) +  \",0] == \" + str(test_df.iloc[a_num, 0]))\n",
    "    ############################\n",
    "    # get/set current count variable\n",
    "    current_count = int(test_df.iloc[a_num, 1])  # [row == \"a_num\", col == 1] of \"test_df\" DATAFRAME\n",
    "    print(\"current count == \" + str(current_count))\n",
    "    # subtract one from count\n",
    "    # [the INDEX of location where \"Link\" col is equal to our STR]\n",
    "    test_df.loc[test_df.Link == str(test_df.iloc[a_num, 0]), 'Count'] = int(current_count-1)\n",
    "    ############################\n",
    "    print(test_df)\n",
    "#}"
   ]
  },
  {
   "cell_type": "code",
   "execution_count": 96,
   "metadata": {},
   "outputs": [
    {
     "name": "stderr",
     "output_type": "stream",
     "text": [
      "2019-10-11-125640 : [SETUP-LOGGER] SUCCESS! VERY NICE! \n",
      "2019-10-11-125640 : \n",
      "                           Link Count\n",
      "0        https://www.google.com     1\n",
      "1          https://www.bing.com     2\n",
      "2  https://www.reddit.com/r/all     4\n",
      "3       https://www.youtube.com     2\n",
      "4          https://www.bing.com     1\n",
      "5           https://www.msn.com     3\n",
      "6           https://www.aol.com     2\n",
      "7         https://www.yahoo.com     2\n",
      "8  https://www.drive.google.com     2\n",
      "2019-10-11-125640 : ITEM LOCATED AT: [2,0] == https://www.reddit.com/r/all\n"
     ]
    },
    {
     "name": "stdout",
     "output_type": "stream",
     "text": [
      "current count == 4\n",
      "                           Link Count\n",
      "0        https://www.google.com     1\n",
      "1          https://www.bing.com     2\n",
      "2  https://www.reddit.com/r/all     3\n",
      "3       https://www.youtube.com     2\n",
      "4          https://www.bing.com     1\n",
      "5           https://www.msn.com     3\n",
      "6           https://www.aol.com     2\n",
      "7         https://www.yahoo.com     2\n",
      "8  https://www.drive.google.com     2\n"
     ]
    }
   ],
   "source": [
    "# MAIN BOILERPLATE\n",
    "if __name__ == \"__main__\": #{\n",
    "    setup_logger()\n",
    "    # INSTANTIATE GLOBAL VARIABLES\n",
    "    in_file = \"data_test1.csv\"\n",
    "    # CALL MAIN FUNCTION\n",
    "    main()\n",
    "#}"
   ]
  },
  {
   "cell_type": "markdown",
   "metadata": {},
   "source": [
    "---\n",
    "# run_again"
   ]
  },
  {
   "cell_type": "code",
   "execution_count": null,
   "metadata": {},
   "outputs": [],
   "source": [
    "in_file = \"data_test1.csv\"\n",
    "GLOBAL_test_df = pd.read_csv(in_file, dtype=np.str, engine='python')\n",
    "return_test_df = decrement_count_column()"
   ]
  }
 ],
 "metadata": {
  "kernelspec": {
   "display_name": "Python 3",
   "language": "python",
   "name": "python3"
  },
  "language_info": {
   "codemirror_mode": {
    "name": "ipython",
    "version": 3
   },
   "file_extension": ".py",
   "mimetype": "text/x-python",
   "name": "python",
   "nbconvert_exporter": "python",
   "pygments_lexer": "ipython3",
   "version": "3.7.3"
  }
 },
 "nbformat": 4,
 "nbformat_minor": 4
}
