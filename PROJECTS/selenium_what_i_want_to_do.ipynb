{
 "cells": [
  {
   "cell_type": "code",
   "execution_count": null,
   "metadata": {},
   "outputs": [],
   "source": []
  },
  {
   "cell_type": "markdown",
   "metadata": {},
   "source": [
    "### pytesseract "
   ]
  },
  {
   "cell_type": "code",
   "execution_count": 3,
   "metadata": {},
   "outputs": [],
   "source": [
    "try:\n",
    "    from PIL import Image\n",
    "except ImportError:\n",
    "    import Image\n",
    "import pytesseract"
   ]
  },
  {
   "cell_type": "code",
   "execution_count": 4,
   "metadata": {},
   "outputs": [
    {
     "name": "stdout",
     "output_type": "stream",
     "text": [
      "RE: Secret FOSTER,ROBERT (Non-Agilent USA) Mon 9/30/2019 1:51 PM 50 KB\n",
      "Possibilities...\n",
      "\n",
      "RE: Secret PATEL,NAKUL (Agilent USA) Mon 9/30/2019 1:51 PM 45 KB\n",
      "sit\n",
      "\n",
      "RE: Secret LABRECHE MICHAEL (Agilent USA) Mon 9/30/2019 1:48 PM 48 KB\n",
      "2:30 today?\n",
      "\n",
      "RE: CS Update for Rhode Island Office LABRECHE MICHAEL (Agilent USA) Mon 9/30/2019 10:37 AM 62 KB\n",
      "\n",
      "Ok. Thanks for the update.\n",
      "\n",
      "RE: CS Update for Rhode Island Office WONG,RICHARD (Agilent USA) Mon 9/30/2019 10:18 AM 67 KB\n",
      "Hi Michael, Notas of yet. I'm still working with the team to figure out how to migrate the VM over, given that the ESX cluster is behind the PAN firewall. Reg\n",
      "\n",
      "RE: CS Update for Rhode Island Office LABRECHE,MICHAEL (Agilent USA) Mon 9/30/2019 7:09 AM 58 KB\n",
      "Any update on this?\n"
     ]
    }
   ],
   "source": [
    "# Simple image to string\n",
    "print(\n",
    "    pytesseract.image_to_string(\n",
    "        Image.open(\n",
    "            '2019_09_30_15_12_53_Inbox_derek.bates_non.agilent.com_Outlook.png'\n",
    "        )\n",
    "    )\n",
    ")"
   ]
  },
  {
   "cell_type": "markdown",
   "metadata": {},
   "source": [
    "### selenium"
   ]
  },
  {
   "cell_type": "code",
   "execution_count": null,
   "metadata": {},
   "outputs": [],
   "source": []
  },
  {
   "cell_type": "code",
   "execution_count": 1,
   "metadata": {},
   "outputs": [],
   "source": [
    "# IMPORT THE GOODS\n",
    "import os, sys, time\n",
    "from time import sleep\n",
    "\n",
    "# SELENIUM\n",
    "from selenium import webdriver\n",
    "from selenium.webdriver.common.keys import Keys"
   ]
  },
  {
   "cell_type": "markdown",
   "metadata": {},
   "source": [
    "##### get_images:"
   ]
  },
  {
   "cell_type": "code",
   "execution_count": null,
   "metadata": {},
   "outputs": [],
   "source": [
    "options = webdriver.ChromeOptions()\n",
    "options.add_argument('--ignore-certificate-errors')\n",
    "options.add_argument(\"--test-type\")\n",
    "options.binary_location = \"/usr/bin/chromium/\"\n",
    "driver = webdriver.Chrome(chrome_options=options)\n",
    "\n",
    "driver.get('https://imgur.com/')\n",
    "\n",
    "images = driver.find_elements_by_tag_name('img')\n",
    "for image in images: #{\n",
    "    \n",
    "#}"
   ]
  },
  {
   "cell_type": "markdown",
   "metadata": {},
   "source": [
    "---\n",
    "##### get_links:"
   ]
  },
  {
   "cell_type": "code",
   "execution_count": null,
   "metadata": {},
   "outputs": [],
   "source": []
  },
  {
   "cell_type": "markdown",
   "metadata": {},
   "source": [
    "#### action_chains:"
   ]
  },
  {
   "cell_type": "code",
   "execution_count": null,
   "metadata": {},
   "outputs": [],
   "source": [
    "menu = driver.find_element_by_css_selector(\".nav\")\n",
    "hidden_submenu = driver.find_element_by_css_selector(\".nav #submenu1\")\n",
    "\n",
    "ActionsChains(driver).move_to_element(menu).click(hidden_submenu).perform()"
   ]
  },
  {
   "cell_type": "markdown",
   "metadata": {},
   "source": [
    "or actions can be queed up one by one, then performed:"
   ]
  },
  {
   "cell_type": "code",
   "execution_count": null,
   "metadata": {},
   "outputs": [],
   "source": [
    "menu = driver.find_elements_by_css_selector(\".nav\")\n",
    "hidden_submenu = driver.find_element_by_css_selector(\".nav #submenu1\")\n",
    "\n",
    "actions = ActionChains(driver)\n",
    "actions.move_to_element(menu)\n",
    "actions.click(hidden_submenu)\n",
    "actions.perform()"
   ]
  },
  {
   "cell_type": "markdown",
   "metadata": {},
   "source": [
    "##### run_app/extension_thru_webdriver:"
   ]
  },
  {
   "cell_type": "code",
   "execution_count": null,
   "metadata": {},
   "outputs": [],
   "source": []
  },
  {
   "cell_type": "markdown",
   "metadata": {},
   "source": [
    "##### proxy_server_thru_Google_Chrome_webdriver:"
   ]
  },
  {
   "cell_type": "code",
   "execution_count": null,
   "metadata": {},
   "outputs": [],
   "source": []
  }
 ],
 "metadata": {
  "kernelspec": {
   "display_name": "Python 3",
   "language": "python",
   "name": "python3"
  },
  "language_info": {
   "codemirror_mode": {
    "name": "ipython",
    "version": 3
   },
   "file_extension": ".py",
   "mimetype": "text/x-python",
   "name": "python",
   "nbconvert_exporter": "python",
   "pygments_lexer": "ipython3",
   "version": "3.7.3"
  }
 },
 "nbformat": 4,
 "nbformat_minor": 2
}
