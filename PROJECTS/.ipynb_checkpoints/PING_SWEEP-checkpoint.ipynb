{
 "cells": [
  {
   "cell_type": "code",
   "execution_count": null,
   "metadata": {},
   "outputs": [],
   "source": [
    "import os\n",
    "import platform\n",
    "\n",
    "from datetime import datetime\n",
    "net = input(\"Enter the Network Address: \")\n",
    "net1= net.split('.')\n",
    "a = '.'\n",
    "\n",
    "net2 = net1[0] + a + net1[1] + a + net1[2] + a\n",
    "st1 = int(input(\"Enter the Starting Number: \"))\n",
    "en1 = int(input(\"Enter the Last Number: \"))\n",
    "en1 = en1 + 1\n",
    "oper = platform.system()\n",
    "\n",
    "if (oper == \"Windows\"):\n",
    "   ping1 = \"ping -n 1 \"\n",
    "elif (oper == \"Linux\"):\n",
    "   ping1 = \"ping -c 1 \"\n",
    "else :\n",
    "   ping1 = \"ping -c 1 \"\n",
    "t1 = datetime.now()\n",
    "print (\"Scanning in Progress:\")\n",
    "\n",
    "for ip in range(st1,en1):\n",
    "   addr = net2 + str(ip)\n",
    "   comm = ping1 + addr\n",
    "   response = os.popen(comm)\n",
    "   \n",
    "   for line in response.readlines():\n",
    "      if(line.count(\"TTL\")):\n",
    "         break\n",
    "      if (line.count(\"TTL\")):\n",
    "         print (addr, \"--> Live\")\n",
    "         \n",
    "t2 = datetime.now()\n",
    "total = t2 - t1\n",
    "print (\"Scanning completed in: \",total)"
   ]
  }
 ],
 "metadata": {
  "kernelspec": {
   "display_name": "Python 3",
   "language": "python",
   "name": "python3"
  },
  "language_info": {
   "codemirror_mode": {
    "name": "ipython",
    "version": 3
   },
   "file_extension": ".py",
   "mimetype": "text/x-python",
   "name": "python",
   "nbconvert_exporter": "python",
   "pygments_lexer": "ipython3",
   "version": "3.7.3"
  }
 },
 "nbformat": 4,
 "nbformat_minor": 2
}
