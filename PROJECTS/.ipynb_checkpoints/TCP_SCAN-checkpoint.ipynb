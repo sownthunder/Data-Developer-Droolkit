{
 "cells": [
  {
   "cell_type": "code",
   "execution_count": null,
   "metadata": {},
   "outputs": [],
   "source": [
    "import socket\n",
    "from datetime import datetime\n",
    "net = input(\"Enter the IP address: \")\n",
    "net1 = net.split('.')\n",
    "a = '.'\n",
    "\n",
    "net2 = net1[0] + a + net1[1] + a + net1[2] + a\n",
    "st1 = int(input(\"Enter the Starting Number: \"))\n",
    "en1 = int(input(\"Enter the Last Number: \"))\n",
    "en1 = en1 + 1\n",
    "t1 = datetime.now()\n",
    "\n",
    "def scan(addr):\n",
    "   s = socket.socket(socket.AF_INET,socket.SOCK_STREAM)\n",
    "   socket.setdefaulttimeout(1)\n",
    "   result = s.connect_ex((addr,135))\n",
    "   if result == 0:\n",
    "      return 1\n",
    "   else :\n",
    "      return 0\n",
    "\n",
    "def run1():\n",
    "   for ip in range(st1,en1):\n",
    "      addr = net2 + str(ip)\n",
    "      if (scan(addr)):\n",
    "         print (addr , \"is live\")\n",
    "         \n",
    "run1()\n",
    "t2 = datetime.now()\n",
    "total = t2 - t1\n",
    "print (\"Scanning completed in: \" , total)"
   ]
  }
 ],
 "metadata": {
  "kernelspec": {
   "display_name": "Python 3",
   "language": "python",
   "name": "python3"
  },
  "language_info": {
   "codemirror_mode": {
    "name": "ipython",
    "version": 3
   },
   "file_extension": ".py",
   "mimetype": "text/x-python",
   "name": "python",
   "nbconvert_exporter": "python",
   "pygments_lexer": "ipython3",
   "version": "3.7.3"
  }
 },
 "nbformat": 4,
 "nbformat_minor": 2
}
