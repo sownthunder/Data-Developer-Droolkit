{
 "cells": [
  {
   "cell_type": "code",
   "execution_count": null,
   "metadata": {},
   "outputs": [],
   "source": [
    "import socket\n",
    "\n",
    "TCP_IP = '127.0.0.1'\n",
    "TCP_PROT = 62\n",
    "BUFFER_SIZE = 20 # NORMALLY 1024, but we want fast reponse\n",
    "\n",
    "s = socket.socket(socket.AF_INET, socket.SOCK_STREAM)\n",
    "s.bind(TCP_IP, TCP_PORT)\n",
    "s.listen(1)\n",
    "\n",
    "conn, addr = s.accept()\n",
    "print('Connection address: ', addr)\n",
    "while 1: #{\n",
    "    data= conn.recv(BUFFER_SIZEER_SIZE)\n",
    "    if not data: break\n",
    "    print(\"received data:\", data)\n",
    "    conn.send(data)  # echo\n",
    "#}\n",
    "conn.close()"
   ]
  }
 ],
 "metadata": {
  "kernelspec": {
   "display_name": "Python 3",
   "language": "python",
   "name": "python3"
  },
  "language_info": {
   "codemirror_mode": {
    "name": "ipython",
    "version": 3
   },
   "file_extension": ".py",
   "mimetype": "text/x-python",
   "name": "python",
   "nbconvert_exporter": "python",
   "pygments_lexer": "ipython3",
   "version": "3.7.0"
  }
 },
 "nbformat": 4,
 "nbformat_minor": 2
}
