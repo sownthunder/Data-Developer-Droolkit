{
 "cells": [
  {
   "cell_type": "code",
   "execution_count": 8,
   "metadata": {},
   "outputs": [],
   "source": [
    "import "
   ]
  },
  {
   "cell_type": "code",
   "execution_count": null,
   "metadata": {},
   "outputs": [],
   "source": [
    "urllib2.urlopen()"
   ]
  },
  {
   "cell_type": "markdown",
   "metadata": {},
   "source": [
    "# pytesseract "
   ]
  },
  {
   "cell_type": "code",
   "execution_count": 1,
   "metadata": {},
   "outputs": [],
   "source": [
    "try:\n",
    "    from PIL import Image\n",
    "except ImportError:\n",
    "    import Image\n",
    "import pytesseract"
   ]
  },
  {
   "cell_type": "code",
   "execution_count": 2,
   "metadata": {},
   "outputs": [
    {
     "name": "stdout",
     "output_type": "stream",
     "text": [
      "RE: Secret FOSTER,ROBERT (Non-Agilent USA) Mon 9/30/2019 1:51 PM 50 KB\n",
      "Possibilities...\n",
      "\n",
      "RE: Secret PATEL,NAKUL (Agilent USA) Mon 9/30/2019 1:51 PM 45 KB\n",
      "sit\n",
      "\n",
      "RE: Secret LABRECHE MICHAEL (Agilent USA) Mon 9/30/2019 1:48 PM 48 KB\n",
      "2:30 today?\n",
      "\n",
      "RE: CS Update for Rhode Island Office LABRECHE MICHAEL (Agilent USA) Mon 9/30/2019 10:37 AM 62 KB\n",
      "\n",
      "Ok. Thanks for the update.\n",
      "\n",
      "RE: CS Update for Rhode Island Office WONG,RICHARD (Agilent USA) Mon 9/30/2019 10:18 AM 67 KB\n",
      "Hi Michael, Notas of yet. I'm still working with the team to figure out how to migrate the VM over, given that the ESX cluster is behind the PAN firewall. Reg\n",
      "\n",
      "RE: CS Update for Rhode Island Office LABRECHE,MICHAEL (Agilent USA) Mon 9/30/2019 7:09 AM 58 KB\n",
      "Any update on this?\n"
     ]
    }
   ],
   "source": [
    "# Simple image to string\n",
    "print(\n",
    "    pytesseract.image_to_string(\n",
    "        Image.open(\n",
    "            '2019_09_30_15_12_53_Inbox_derek.bates_non.agilent.com_Outlook.png'\n",
    "        )\n",
    "    )\n",
    ")"
   ]
  },
  {
   "cell_type": "markdown",
   "metadata": {},
   "source": [
    "# selenium"
   ]
  },
  {
   "cell_type": "code",
   "execution_count": null,
   "metadata": {},
   "outputs": [],
   "source": []
  },
  {
   "cell_type": "code",
   "execution_count": 6,
   "metadata": {},
   "outputs": [],
   "source": [
    "# IMPORT THE GOODS\n",
    "import os, sys, time\n",
    "from time import sleep\n",
    "import threading, logging\n",
    "\n",
    "# PANDAS\n",
    "import pandas as pd\n",
    "import numpy as np\n",
    "from pandas import Series, DataFrame\n",
    "\n",
    "# SELENIUM\n",
    "from selenium import webdriver\n",
    "from selenium.webdriver.common.keys import Keys\n",
    "\n",
    "# URLLIB\n",
    "import urllib.request as urllib2"
   ]
  },
  {
   "cell_type": "code",
   "execution_count": 4,
   "metadata": {},
   "outputs": [
    {
     "name": "stdout",
     "output_type": "stream",
     "text": [
      "2019-10-01\n"
     ]
    }
   ],
   "source": [
    "ts_today = str(pd.Timestamp.now())[:10]\n",
    "print(ts_today)"
   ]
  },
  {
   "cell_type": "markdown",
   "metadata": {},
   "source": [
    "---\n",
    "##### get_images:"
   ]
  },
  {
   "cell_type": "code",
   "execution_count": 7,
   "metadata": {},
   "outputs": [
    {
     "name": "stderr",
     "output_type": "stream",
     "text": [
      "C:\\Users\\derbates\\anaconda3\\lib\\site-packages\\ipykernel_launcher.py:5: DeprecationWarning: use options instead of chrome_options\n",
      "  \"\"\"\n"
     ]
    }
   ],
   "source": [
    "options = webdriver.ChromeOptions()\n",
    "options.add_argument('--ignore-certificate-errors')\n",
    "options.add_argument(\"--test-type\")\n",
    "#options.binary_location = \"/usr/bin/chromium/\"\n",
    "driver = webdriver.Chrome(chrome_options=options)\n",
    "\n",
    "driver.get('https://imgur.com/')\n",
    "\n",
    "images = driver.find_elements_by_tag_name('img')\n",
    "\n",
    "# COUNTER\n",
    "i = 1\n",
    "for image in images: #{\n",
    "    print(image.get_attribute('src'))\n",
    "    # GET IMAGE SOURCE\n",
    "    src = image.get_attribute('src')\n",
    "    # CREATE FILENAME\n",
    "    filename = ts_today + \"-\" + str(i) + \".png\"\n",
    "    # DOWNLOAD IMAGE\n",
    "    urllib.urlretrieve(src, filename)\n",
    "    # INCREASE COUNT\n",
    "    i += 1\n",
    "    print(str(i))\n",
    "#}\n",
    "\n",
    "driver.close()"
   ]
  },
  {
   "cell_type": "markdown",
   "metadata": {},
   "source": [
    "---\n",
    "##### get_links:"
   ]
  },
  {
   "cell_type": "code",
   "execution_count": null,
   "metadata": {},
   "outputs": [],
   "source": [
    "options = webdriver.ChromeOptions()\n",
    "options.add_argument('--ignore-certificate-errors')\n",
    "options.add_argument('--test-type')\n",
    "#options.binary_location = \"/usr/bin/chromium/\"\n",
    "driver = webdriver.Chrome(chrome_options=options)\n",
    "\n",
    "driver.get('https://www.w3.org/')\n",
    "\n",
    "links = driver.find_elements_by_xpath('.//a')\n",
    "\n",
    "# COUNTER\n",
    "i = 1\n",
    "for link in links: #{\n",
    "    print(link.get_attribute('href'))\n",
    "    # GET LINK SOURCE\n",
    "    link_src = link.get_attribute('href')\n",
    "    # PRINT LINK\n",
    "    print(str(link_src))\n",
    "    # INCREASE COUNT\n",
    "    i += 1\n",
    "    print(str(i))\n",
    "#}\n",
    "\n",
    "driver.close()"
   ]
  },
  {
   "cell_type": "markdown",
   "metadata": {},
   "source": [
    "---\n",
    "#### action_chains:"
   ]
  },
  {
   "cell_type": "code",
   "execution_count": null,
   "metadata": {},
   "outputs": [],
   "source": [
    "menu = driver.find_element_by_css_selector(\".nav\")\n",
    "hidden_submenu = driver.find_element_by_css_selector(\".nav #submenu1\")\n",
    "\n",
    "ActionsChains(driver).move_to_element(menu).click(hidden_submenu).perform()"
   ]
  },
  {
   "cell_type": "markdown",
   "metadata": {},
   "source": [
    "or actions can be queed up one by one, then performed:"
   ]
  },
  {
   "cell_type": "code",
   "execution_count": null,
   "metadata": {},
   "outputs": [],
   "source": [
    "menu = driver.find_elements_by_css_selector(\".nav\")\n",
    "hidden_submenu = driver.find_element_by_css_selector(\".nav #submenu1\")\n",
    "\n",
    "actions = ActionChains(driver)\n",
    "actions.move_to_element(menu)\n",
    "actions.click(hidden_submenu)\n",
    "actions.perform()"
   ]
  },
  {
   "cell_type": "markdown",
   "metadata": {},
   "source": [
    "##### run_app/extension_thru_webdriver:"
   ]
  },
  {
   "cell_type": "code",
   "execution_count": null,
   "metadata": {},
   "outputs": [],
   "source": []
  },
  {
   "cell_type": "markdown",
   "metadata": {},
   "source": [
    "##### proxy_server_thru_Google_Chrome_webdriver:"
   ]
  },
  {
   "cell_type": "code",
   "execution_count": null,
   "metadata": {},
   "outputs": [],
   "source": []
  },
  {
   "cell_type": "markdown",
   "metadata": {},
   "source": [
    "##### multi_window_operations:\n",
    "- open new tab and directory to \"Bing.com\""
   ]
  },
  {
   "cell_type": "code",
   "execution_count": null,
   "metadata": {},
   "outputs": [],
   "source": [
    "# SETUP LOGGER\n",
    "driver = webdriver.Chrome()\n",
    "driver.get(\"https://www.google.com/\")\n",
    "sleep(1)\n",
    "\n",
    "print(str(driver.title))  # 'Google'\n",
    "\n",
    "# Get parent window\n",
    "parent_window = driver.current_window_handle\n",
    "\n",
    "# open \"Bing\" page in child window\n",
    "driver.execute_script(\"window.open('https://bing.com')\")\n",
    "\n",
    "# GET LIST OF ALL WINDOWS CURRENTLY OPENED (parent + child)\n",
    "all_windows = driver.window_handles\n",
    "\n",
    "# GET CHILD WINDOW\n",
    "child_window = [window for window in all_windows if window != parent_window][0]\n",
    "\n",
    "# SWITCH TO CHILD WINDOW\n",
    "driver.switch_to.window(child_window)\n",
    "\n",
    "print(str(driver.title))  # 'Bing'\n",
    "\n",
    "# CLOSE CHILD WINDOW\n",
    "driver.close()\n",
    "\n",
    "# SWITCH BACK TO PARENT WINDOW\n",
    "driver.switch_to.window(parent_window)\n",
    "\n",
    "print(str(driver.title))"
   ]
  }
 ],
 "metadata": {
  "kernelspec": {
   "display_name": "Python 3",
   "language": "python",
   "name": "python3"
  },
  "language_info": {
   "codemirror_mode": {
    "name": "ipython",
    "version": 3
   },
   "file_extension": ".py",
   "mimetype": "text/x-python",
   "name": "python",
   "nbconvert_exporter": "python",
   "pygments_lexer": "ipython3",
   "version": "3.7.3"
  }
 },
 "nbformat": 4,
 "nbformat_minor": 2
}
