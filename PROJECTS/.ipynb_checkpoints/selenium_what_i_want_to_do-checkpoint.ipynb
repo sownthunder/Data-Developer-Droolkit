{
 "cells": [
  {
   "cell_type": "code",
   "execution_count": 9,
   "metadata": {},
   "outputs": [],
   "source": [
    "import wget"
   ]
  },
  {
   "cell_type": "code",
   "execution_count": null,
   "metadata": {},
   "outputs": [],
   "source": [
    "urllib2.urlopen()"
   ]
  },
  {
   "cell_type": "markdown",
   "metadata": {},
   "source": [
    "# pytesseract "
   ]
  },
  {
   "cell_type": "code",
   "execution_count": 1,
   "metadata": {},
   "outputs": [],
   "source": [
    "try:\n",
    "    from PIL import Image\n",
    "except ImportError:\n",
    "    import Image\n",
    "import pytesseract"
   ]
  },
  {
   "cell_type": "code",
   "execution_count": 2,
   "metadata": {},
   "outputs": [
    {
     "name": "stdout",
     "output_type": "stream",
     "text": [
      "RE: Secret FOSTER,ROBERT (Non-Agilent USA) Mon 9/30/2019 1:51 PM 50 KB\n",
      "Possibilities...\n",
      "\n",
      "RE: Secret PATEL,NAKUL (Agilent USA) Mon 9/30/2019 1:51 PM 45 KB\n",
      "sit\n",
      "\n",
      "RE: Secret LABRECHE MICHAEL (Agilent USA) Mon 9/30/2019 1:48 PM 48 KB\n",
      "2:30 today?\n",
      "\n",
      "RE: CS Update for Rhode Island Office LABRECHE MICHAEL (Agilent USA) Mon 9/30/2019 10:37 AM 62 KB\n",
      "\n",
      "Ok. Thanks for the update.\n",
      "\n",
      "RE: CS Update for Rhode Island Office WONG,RICHARD (Agilent USA) Mon 9/30/2019 10:18 AM 67 KB\n",
      "Hi Michael, Notas of yet. I'm still working with the team to figure out how to migrate the VM over, given that the ESX cluster is behind the PAN firewall. Reg\n",
      "\n",
      "RE: CS Update for Rhode Island Office LABRECHE,MICHAEL (Agilent USA) Mon 9/30/2019 7:09 AM 58 KB\n",
      "Any update on this?\n"
     ]
    }
   ],
   "source": [
    "# Simple image to string\n",
    "print(\n",
    "    pytesseract.image_to_string(\n",
    "        Image.open(\n",
    "            '2019_09_30_15_12_53_Inbox_derek.bates_non.agilent.com_Outlook.png'\n",
    "        )\n",
    "    )\n",
    ")"
   ]
  },
  {
   "cell_type": "markdown",
   "metadata": {},
   "source": [
    "# selenium"
   ]
  },
  {
   "cell_type": "code",
   "execution_count": null,
   "metadata": {},
   "outputs": [],
   "source": []
  },
  {
   "cell_type": "code",
   "execution_count": 2,
   "metadata": {},
   "outputs": [],
   "source": [
    "# IMPORT THE GOODS\n",
    "import os, sys, time\n",
    "from time import sleep\n",
    "import threading, logging\n",
    "\n",
    "# PANDAS\n",
    "import pandas as pd\n",
    "import numpy as np\n",
    "from pandas import Series, DataFrame\n",
    "\n",
    "# SELENIUM\n",
    "from selenium import webdriver\n",
    "from selenium.webdriver.common.keys import Keys\n",
    "\n",
    "# URLLIB\n",
    "import urllib.request as urllib2"
   ]
  },
  {
   "cell_type": "code",
   "execution_count": 3,
   "metadata": {},
   "outputs": [
    {
     "name": "stdout",
     "output_type": "stream",
     "text": [
      "2019-10-02\n"
     ]
    }
   ],
   "source": [
    "ts_today = str(pd.Timestamp.now())[:10]\n",
    "print(ts_today)"
   ]
  },
  {
   "cell_type": "markdown",
   "metadata": {},
   "source": [
    "---\n",
    "### make `dir` for todays DATE:"
   ]
  },
  {
   "cell_type": "code",
   "execution_count": 5,
   "metadata": {},
   "outputs": [],
   "source": [
    "# CHECK AND CREATE NEW DIR PATH\n",
    "new_dir_path = os.path.join(\".\", ts_today)\n",
    "# IF 'NEW DIR' DOES NOT EXIST (it wont)\n",
    "if not os.path.exists(new_dir_path): #{\n",
    "    # MAKE IT EXIST!\n",
    "    os.makedirs(new_dir_path)\n",
    "#}"
   ]
  },
  {
   "cell_type": "markdown",
   "metadata": {},
   "source": [
    "---\n",
    "##### get_images:"
   ]
  },
  {
   "cell_type": "code",
   "execution_count": 8,
   "metadata": {},
   "outputs": [
    {
     "name": "stderr",
     "output_type": "stream",
     "text": [
      "C:\\Users\\derbates\\anaconda3\\lib\\site-packages\\ipykernel_launcher.py:5: DeprecationWarning: use options instead of chrome_options\n",
      "  \"\"\"\n"
     ]
    },
    {
     "name": "stdout",
     "output_type": "stream",
     "text": [
      "https://clipcentric-a.akamaihd.net/file/839280/master/1568826558/nbFmeDAf\n",
      "2\n",
      "https://clipcentric-a.akamaihd.net/file/839297/master/1568827143/6RSP9lDD\n",
      "3\n",
      "https://s.imgur.com/desktop-assets/desktop-assets/Navbar-logo.9c748ecccb607d5f3f00d7eee7a22f42.svg\n",
      "4\n",
      "https://s.imgur.com/desktop-assets/desktop-assets/icon-new-post.13ab64f9f36ad8f25ae3544b350e2ae1.svg\n",
      "5\n",
      "https://s.imgur.com/images/favicon-32x32.png\n",
      "6\n",
      "https://s.imgur.com/desktop-assets/desktop-assets/icon-search.8d0f9b564a4659d48d8eca38b968a7f2.svg\n",
      "7\n",
      "https://s.imgur.com/desktop-assets/desktop-assets/icon-leaderboard.2c7c197ab7cc58a23c14b83dcc3025a9.svg\n",
      "8\n",
      "https://s.imgur.com/images/favicon-32x32.png\n",
      "9\n",
      "https://s.imgur.com/desktop-assets/desktop-assets/icon-pause.68f07ce1a7e07bac06d1f2c527d7a9e5.svg\n",
      "10\n",
      "https://s.imgur.com/desktop-assets/desktop-assets/icon-chat-filled.b12fed0067e4ce444f710411ee6a70e1.svg\n",
      "11\n",
      "https://s.imgur.com/desktop-assets/desktop-assets/icon-eye.bf703aed21e47a30269da39879c03ccf.svg\n",
      "12\n",
      "https://i.imgur.com/XbCuZG5_d.jpg?maxwidth=520&shape=thumb&fidelity=high\n",
      "13\n",
      "https://s.imgur.com/desktop-assets/desktop-assets/icon-chat-filled.b12fed0067e4ce444f710411ee6a70e1.svg\n",
      "14\n",
      "https://s.imgur.com/desktop-assets/desktop-assets/icon-eye.bf703aed21e47a30269da39879c03ccf.svg\n",
      "15\n",
      "https://i.imgur.com/CmkyD6N_d.jpg?maxwidth=520&shape=thumb&fidelity=high\n",
      "16\n",
      "https://s.imgur.com/desktop-assets/desktop-assets/icon-chat-filled.b12fed0067e4ce444f710411ee6a70e1.svg\n",
      "17\n",
      "https://s.imgur.com/desktop-assets/desktop-assets/icon-eye.bf703aed21e47a30269da39879c03ccf.svg\n",
      "18\n",
      "https://s.imgur.com/desktop-assets/desktop-assets/icon-chat-filled.b12fed0067e4ce444f710411ee6a70e1.svg\n",
      "19\n",
      "https://s.imgur.com/desktop-assets/desktop-assets/icon-eye.bf703aed21e47a30269da39879c03ccf.svg\n",
      "20\n",
      "https://s.imgur.com/desktop-assets/desktop-assets/icon-chat-filled.b12fed0067e4ce444f710411ee6a70e1.svg\n",
      "21\n",
      "https://s.imgur.com/desktop-assets/desktop-assets/icon-eye.bf703aed21e47a30269da39879c03ccf.svg\n",
      "22\n",
      "https://i.imgur.com/xmiYbNd_d.jpg?maxwidth=520&shape=thumb&fidelity=high\n",
      "23\n",
      "https://s.imgur.com/desktop-assets/desktop-assets/icon-chat-filled.b12fed0067e4ce444f710411ee6a70e1.svg\n",
      "24\n",
      "https://s.imgur.com/desktop-assets/desktop-assets/icon-eye.bf703aed21e47a30269da39879c03ccf.svg\n",
      "25\n",
      "https://i.imgur.com/Jh0ctlg_d.jpg?maxwidth=520&shape=thumb&fidelity=high\n",
      "26\n",
      "https://s.imgur.com/desktop-assets/desktop-assets/icon-chat-filled.b12fed0067e4ce444f710411ee6a70e1.svg\n",
      "27\n",
      "https://s.imgur.com/desktop-assets/desktop-assets/icon-eye.bf703aed21e47a30269da39879c03ccf.svg\n",
      "28\n",
      "https://i.imgur.com/NmKcQw5_d.jpg?maxwidth=520&shape=thumb&fidelity=high\n",
      "29\n",
      "https://s.imgur.com/desktop-assets/desktop-assets/icon-chat-filled.b12fed0067e4ce444f710411ee6a70e1.svg\n",
      "30\n",
      "https://s.imgur.com/desktop-assets/desktop-assets/icon-eye.bf703aed21e47a30269da39879c03ccf.svg\n",
      "31\n",
      "https://s.imgur.com/desktop-assets/desktop-assets/icon-chat-filled.b12fed0067e4ce444f710411ee6a70e1.svg\n",
      "32\n",
      "https://s.imgur.com/desktop-assets/desktop-assets/icon-eye.bf703aed21e47a30269da39879c03ccf.svg\n",
      "33\n",
      "https://i.imgur.com/Psclwhk_d.jpg?maxwidth=520&shape=thumb&fidelity=high\n",
      "34\n",
      "https://s.imgur.com/desktop-assets/desktop-assets/icon-chat-filled.b12fed0067e4ce444f710411ee6a70e1.svg\n",
      "35\n",
      "https://s.imgur.com/desktop-assets/desktop-assets/icon-eye.bf703aed21e47a30269da39879c03ccf.svg\n",
      "36\n",
      "https://s.imgur.com/desktop-assets/desktop-assets/icon-chat-filled.b12fed0067e4ce444f710411ee6a70e1.svg\n",
      "37\n",
      "https://s.imgur.com/desktop-assets/desktop-assets/icon-eye.bf703aed21e47a30269da39879c03ccf.svg\n",
      "38\n",
      "https://s.imgur.com/desktop-assets/desktop-assets/icon-chat-filled.b12fed0067e4ce444f710411ee6a70e1.svg\n",
      "39\n",
      "https://s.imgur.com/desktop-assets/desktop-assets/icon-eye.bf703aed21e47a30269da39879c03ccf.svg\n",
      "40\n",
      "https://i.imgur.com/cKYkARg_d.jpg?maxwidth=520&shape=thumb&fidelity=high\n",
      "41\n",
      "https://s.imgur.com/desktop-assets/desktop-assets/icon-chat-filled.b12fed0067e4ce444f710411ee6a70e1.svg\n",
      "42\n",
      "https://s.imgur.com/desktop-assets/desktop-assets/icon-eye.bf703aed21e47a30269da39879c03ccf.svg\n",
      "43\n",
      "https://s.imgur.com/desktop-assets/desktop-assets/icon-chat-filled.b12fed0067e4ce444f710411ee6a70e1.svg\n",
      "44\n",
      "https://s.imgur.com/desktop-assets/desktop-assets/icon-eye.bf703aed21e47a30269da39879c03ccf.svg\n",
      "45\n",
      "https://i.imgur.com/eOUetk2_d.jpg?maxwidth=520&shape=thumb&fidelity=high\n",
      "46\n",
      "https://s.imgur.com/desktop-assets/desktop-assets/icon-chat-filled.b12fed0067e4ce444f710411ee6a70e1.svg\n",
      "47\n",
      "https://s.imgur.com/desktop-assets/desktop-assets/icon-eye.bf703aed21e47a30269da39879c03ccf.svg\n",
      "48\n",
      "https://i.imgur.com/l3bww3A_d.jpg?maxwidth=520&shape=thumb&fidelity=high\n",
      "49\n",
      "https://s.imgur.com/desktop-assets/desktop-assets/icon-chat-filled.b12fed0067e4ce444f710411ee6a70e1.svg\n",
      "50\n",
      "https://s.imgur.com/desktop-assets/desktop-assets/icon-eye.bf703aed21e47a30269da39879c03ccf.svg\n",
      "51\n",
      "https://i.imgur.com/g0M87jO_d.jpg?maxwidth=520&shape=thumb&fidelity=high\n",
      "52\n",
      "https://s.imgur.com/desktop-assets/desktop-assets/icon-chat-filled.b12fed0067e4ce444f710411ee6a70e1.svg\n",
      "53\n",
      "https://s.imgur.com/desktop-assets/desktop-assets/icon-eye.bf703aed21e47a30269da39879c03ccf.svg\n",
      "54\n",
      "https://i.imgur.com/Jt1rVDr_d.jpg?maxwidth=520&shape=thumb&fidelity=high\n",
      "55\n",
      "https://s.imgur.com/desktop-assets/desktop-assets/icon-chat-filled.b12fed0067e4ce444f710411ee6a70e1.svg\n",
      "56\n",
      "https://s.imgur.com/desktop-assets/desktop-assets/icon-eye.bf703aed21e47a30269da39879c03ccf.svg\n",
      "57\n",
      "https://i.imgur.com/FpZD4ja_d.jpg?maxwidth=520&shape=thumb&fidelity=high\n",
      "58\n",
      "https://s.imgur.com/desktop-assets/desktop-assets/icon-chat-filled.b12fed0067e4ce444f710411ee6a70e1.svg\n",
      "59\n",
      "https://s.imgur.com/desktop-assets/desktop-assets/icon-eye.bf703aed21e47a30269da39879c03ccf.svg\n",
      "60\n",
      "https://i.imgur.com/DcOICr5_d.jpg?maxwidth=520&shape=thumb&fidelity=high\n",
      "61\n",
      "https://s.imgur.com/desktop-assets/desktop-assets/icon-chat-filled.b12fed0067e4ce444f710411ee6a70e1.svg\n",
      "62\n",
      "https://s.imgur.com/desktop-assets/desktop-assets/icon-eye.bf703aed21e47a30269da39879c03ccf.svg\n",
      "63\n",
      "https://s.imgur.com/desktop-assets/desktop-assets/icon-chat-filled.b12fed0067e4ce444f710411ee6a70e1.svg\n",
      "64\n",
      "https://s.imgur.com/desktop-assets/desktop-assets/icon-eye.bf703aed21e47a30269da39879c03ccf.svg\n",
      "65\n",
      "https://i.imgur.com/Zc7Qyn7_d.jpg?maxwidth=520&shape=thumb&fidelity=high\n",
      "66\n",
      "https://s.imgur.com/desktop-assets/desktop-assets/icon-chat-filled.b12fed0067e4ce444f710411ee6a70e1.svg\n",
      "67\n",
      "https://s.imgur.com/desktop-assets/desktop-assets/icon-eye.bf703aed21e47a30269da39879c03ccf.svg\n",
      "68\n",
      "https://s.imgur.com/desktop-assets/desktop-assets/icon-chat-filled.b12fed0067e4ce444f710411ee6a70e1.svg\n",
      "69\n",
      "https://s.imgur.com/desktop-assets/desktop-assets/icon-eye.bf703aed21e47a30269da39879c03ccf.svg\n",
      "70\n",
      "https://s.imgur.com/desktop-assets/desktop-assets/icon-points.5867bfb88971853dcfdf49b18f8455b9.svg\n",
      "71\n"
     ]
    }
   ],
   "source": [
    "options = webdriver.ChromeOptions()\n",
    "options.add_argument('--ignore-certificate-errors')\n",
    "options.add_argument(\"--test-type\")\n",
    "#options.binary_location = \"/usr/bin/chromium/\"\n",
    "driver = webdriver.Chrome(chrome_options=options)\n",
    "\n",
    "driver.get('https://imgur.com/')\n",
    "\n",
    "images = driver.find_elements_by_tag_name('img')\n",
    "\n",
    "# COUNTER\n",
    "i = 1\n",
    "for image in images: #{\n",
    "    print(image.get_attribute('src'))\n",
    "    # GET IMAGE SOURCE\n",
    "    src = image.get_attribute('src')\n",
    "    # CREATE FILENAME\n",
    "    file_name = ts_today + \"-\" + str(i) + \".png\"\n",
    "    # CREATE FILE_PATH\n",
    "    file_path = os.path.join(new_dir_path, file_name)\n",
    "    # DOWNLOAD IMAGE\n",
    "    urllib2.urlretrieve(src, file_path)\n",
    "    # INCREASE COUNT\n",
    "    i += 1\n",
    "    print(str(i))\n",
    "#}\n",
    "\n",
    "driver.close()"
   ]
  },
  {
   "cell_type": "markdown",
   "metadata": {},
   "source": [
    "---\n",
    "##### get_links:"
   ]
  },
  {
   "cell_type": "code",
   "execution_count": null,
   "metadata": {},
   "outputs": [],
   "source": [
    "options = webdriver.ChromeOptions()\n",
    "options.add_argument('--ignore-certificate-errors')\n",
    "options.add_argument('--test-type')\n",
    "#options.binary_location = \"/usr/bin/chromium/\"\n",
    "driver = webdriver.Chrome(chrome_options=options)\n",
    "\n",
    "driver.get('https://www.w3.org/')\n",
    "\n",
    "links = driver.find_elements_by_xpath('.//a')\n",
    "\n",
    "# COUNTER\n",
    "i = 1\n",
    "for link in links: #{\n",
    "    print(link.get_attribute('href'))\n",
    "    # GET LINK SOURCE\n",
    "    link_src = link.get_attribute('href')\n",
    "    # PRINT LINK\n",
    "    print(str(link_src))\n",
    "    # INCREASE COUNT\n",
    "    i += 1\n",
    "    print(str(i))\n",
    "#}\n",
    "\n",
    "driver.close()"
   ]
  },
  {
   "cell_type": "markdown",
   "metadata": {},
   "source": [
    "---\n",
    "#### action_chains:"
   ]
  },
  {
   "cell_type": "code",
   "execution_count": null,
   "metadata": {},
   "outputs": [],
   "source": [
    "menu = driver.find_element_by_css_selector(\".nav\")\n",
    "hidden_submenu = driver.find_element_by_css_selector(\".nav #submenu1\")\n",
    "\n",
    "ActionsChains(driver).move_to_element(menu).click(hidden_submenu).perform()"
   ]
  },
  {
   "cell_type": "markdown",
   "metadata": {},
   "source": [
    "or actions can be queed up one by one, then performed:"
   ]
  },
  {
   "cell_type": "code",
   "execution_count": null,
   "metadata": {},
   "outputs": [],
   "source": [
    "menu = driver.find_elements_by_css_selector(\".nav\")\n",
    "hidden_submenu = driver.find_element_by_css_selector(\".nav #submenu1\")\n",
    "\n",
    "actions = ActionChains(driver)\n",
    "actions.move_to_element(menu)\n",
    "actions.click(hidden_submenu)\n",
    "actions.perform()"
   ]
  },
  {
   "cell_type": "markdown",
   "metadata": {},
   "source": [
    "##### run_app/extension_thru_webdriver:"
   ]
  },
  {
   "cell_type": "code",
   "execution_count": null,
   "metadata": {},
   "outputs": [],
   "source": []
  },
  {
   "cell_type": "markdown",
   "metadata": {},
   "source": [
    "##### proxy_server_thru_Google_Chrome_webdriver:"
   ]
  },
  {
   "cell_type": "code",
   "execution_count": null,
   "metadata": {},
   "outputs": [],
   "source": []
  },
  {
   "cell_type": "markdown",
   "metadata": {},
   "source": [
    "##### multi_window_operations:\n",
    "- open new tab and directory to \"Bing.com\""
   ]
  },
  {
   "cell_type": "code",
   "execution_count": null,
   "metadata": {},
   "outputs": [],
   "source": [
    "# SETUP LOGGER\n",
    "driver = webdriver.Chrome()\n",
    "driver.get(\"https://www.google.com/\")\n",
    "sleep(1)\n",
    "\n",
    "print(str(driver.title))  # 'Google'\n",
    "\n",
    "# Get parent window\n",
    "parent_window = driver.current_window_handle\n",
    "\n",
    "# open \"Bing\" page in child window\n",
    "driver.execute_script(\"window.open('https://bing.com')\")\n",
    "\n",
    "# GET LIST OF ALL WINDOWS CURRENTLY OPENED (parent + child)\n",
    "all_windows = driver.window_handles\n",
    "\n",
    "# GET CHILD WINDOW\n",
    "child_window = [window for window in all_windows if window != parent_window][0]\n",
    "\n",
    "# SWITCH TO CHILD WINDOW\n",
    "driver.switch_to.window(child_window)\n",
    "\n",
    "print(str(driver.title))  # 'Bing'\n",
    "\n",
    "# CLOSE CHILD WINDOW\n",
    "driver.close()\n",
    "\n",
    "# SWITCH BACK TO PARENT WINDOW\n",
    "driver.switch_to.window(parent_window)\n",
    "\n",
    "print(str(driver.title))"
   ]
  }
 ],
 "metadata": {
  "kernelspec": {
   "display_name": "Python 3",
   "language": "python",
   "name": "python3"
  },
  "language_info": {
   "codemirror_mode": {
    "name": "ipython",
    "version": 3
   },
   "file_extension": ".py",
   "mimetype": "text/x-python",
   "name": "python",
   "nbconvert_exporter": "python",
   "pygments_lexer": "ipython3",
   "version": "3.7.3"
  }
 },
 "nbformat": 4,
 "nbformat_minor": 2
}
