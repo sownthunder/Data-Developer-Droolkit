{
 "cells": [
  {
   "cell_type": "code",
   "execution_count": 1,
   "metadata": {},
   "outputs": [],
   "source": [
    "import os, sys, time\n",
    "from time import sleep\n",
    "from pathlib import Path"
   ]
  },
  {
   "cell_type": "code",
   "execution_count": 2,
   "metadata": {},
   "outputs": [],
   "source": [
    "from selenium import webdriver\n",
    "from selenium.common.exceptions import NoSuchElementException"
   ]
  },
  {
   "cell_type": "code",
   "execution_count": 4,
   "metadata": {},
   "outputs": [],
   "source": [
    "from selenium.webdriver.common.proxy import Proxy, ProxyType"
   ]
  },
  {
   "cell_type": "code",
   "execution_count": null,
   "metadata": {},
   "outputs": [],
   "source": [
    "prox = Proxy()\n",
    "prox.proxy_type = ProxyType.MANUAL\n",
    "prox.http_proxy = \"ip_addr:port\"\n",
    "prox.socks_proxy = \"ip_addr:port\"\n",
    "prox.ssl_proxy = \"ip_addr:port\"\n",
    "\n",
    "capabilitities = webdriver.DesiredCapabilities.CHROME\n",
    "prox.add_to_capabilities(capabilities)"
   ]
  },
  {
   "cell_type": "code",
   "execution_count": null,
   "metadata": {},
   "outputs": [],
   "source": [
    "class my_proxy(Proxy): #{\n",
    "    \n",
    "    def __init__(self, )\n",
    "#}"
   ]
  },
  {
   "cell_type": "code",
   "execution_count": null,
   "metadata": {},
   "outputs": [],
   "source": [
    "class SeleniumTest(): #{\n",
    "    \n",
    "    def setUp(self): #{\n",
    "        self.driver = webdriver.Chrome()\n",
    "        self.driver.get(\"https://www.google.com\")\n",
    "    #}\n",
    "    \n",
    "    def test_screen_shot(self): #{\n",
    "        driver = self.driver\n",
    "        try: #{\n",
    "            promo_banner_elem = driver.find_element_by_id(\"promo_banner\")\n",
    "        #}\n",
    "    #}\n",
    "    \n",
    "#}"
   ]
  }
 ],
 "metadata": {
  "kernelspec": {
   "display_name": "Python 3",
   "language": "python",
   "name": "python3"
  },
  "language_info": {
   "codemirror_mode": {
    "name": "ipython",
    "version": 3
   },
   "file_extension": ".py",
   "mimetype": "text/x-python",
   "name": "python",
   "nbconvert_exporter": "python",
   "pygments_lexer": "ipython3",
   "version": "3.7.0"
  }
 },
 "nbformat": 4,
 "nbformat_minor": 2
}
