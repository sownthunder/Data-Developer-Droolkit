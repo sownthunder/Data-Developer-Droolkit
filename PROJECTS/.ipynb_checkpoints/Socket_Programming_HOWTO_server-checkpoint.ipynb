{
 "cells": [
  {
   "cell_type": "markdown",
   "metadata": {},
   "source": [
    "## [GeeksForGeeks - Socket Programming](https://www.geeksforgeeks.org/socket-programming-python/)\n",
    "\n",
    "---"
   ]
  },
  {
   "cell_type": "markdown",
   "metadata": {},
   "source": [
    "**Server :**\n",
    "\n",
    "#### A server has a `bind()` method which binds it to a specific ip and port. \n",
    "(So that it can listen to incoming requests on that ip and port)\n",
    "\n",
    "#### A server has a `listen()` method which puts the server into listen mode. \n",
    "(This allows the server to listen to incoming connections)\n",
    "\n",
    "#### And last a server has an `accept()` and `close()` method. \n",
    "\n",
    "- #### The accept method initiates a connection with the client \n",
    "- #### The close method closes the connection with the client."
   ]
  },
  {
   "cell_type": "code",
   "execution_count": null,
   "metadata": {},
   "outputs": [],
   "source": [
    "# IMPORT THE GOODS\n",
    "import socket\n",
    "\n",
    "# TRY THE FOLLOWING:\n",
    "try: #{\n",
    "    # next create socket object\n",
    "    s = socket.socket()\n",
    "    print(\"Socket successfully created\")\n",
    "    # reserve a port on your computer in our \n",
    "    # case it is 12345 but it can be anything\n",
    "    port = 12345\n",
    "    \n",
    "    # Next bind to the port\n",
    "    # we have not typed any ip in the ip field\n",
    "    # instead we have inputted an empty string\n",
    "    # this makes the server listen to requests\n",
    "    # coming from other computers on the network\n",
    "    s.bind('', port)"
   ]
  },
  {
   "cell_type": "markdown",
   "metadata": {},
   "source": [
    "---"
   ]
  },
  {
   "cell_type": "code",
   "execution_count": null,
   "metadata": {},
   "outputs": [
    {
     "name": "stdout",
     "output_type": "stream",
     "text": [
      "starting up on localhost port 10000\n",
      "waiting for a connection\n",
      "connection from ('127.0.0.1', 50216)\n",
      "received b'This is the mess'\n",
      "sending data back to the client\n",
      "received b'age.  It will be'\n",
      "sending data back to the client\n",
      "received b' repeated.'\n",
      "sending data back to the client\n",
      "received b''\n",
      "no data from ('127.0.0.1', 50216)\n",
      "waiting for a connection\n",
      "connection from ('127.0.0.1', 50225)\n",
      "received b'This is the mess'\n",
      "sending data back to the client\n",
      "received b'age.  It will be'\n",
      "sending data back to the client\n",
      "received b' repeated.'\n",
      "sending data back to the client\n",
      "received b''\n",
      "no data from ('127.0.0.1', 50225)\n",
      "waiting for a connection\n",
      "connection from ('127.0.0.1', 50238)\n",
      "received b'This is the mess'\n",
      "sending data back to the client\n",
      "received b'age.  It will be'\n",
      "sending data back to the client\n",
      "received b' repeated.'\n",
      "sending data back to the client\n",
      "received b''\n",
      "no data from ('127.0.0.1', 50238)\n",
      "waiting for a connection\n"
     ]
    }
   ],
   "source": [
    "# socket_echo_server.py\n",
    "import socket\n",
    "import sys\n",
    "\n",
    "# CREATE A TCP/IP socket\n",
    "sock = socket.socket(socket.AF_INET, socket.SOCK_STREAM)\n",
    "\n",
    "# bind the socket to the port\n",
    "server_address = ('localhost', 10000)\n",
    "print('starting up on {} port {}'.format(*server_address))\n",
    "sock.bind(server_address)\n",
    "\n",
    "# listen for incoming connections\n",
    "sock.listen(1)\n",
    "\n",
    "while True: #{\n",
    "    # Wait for a connection\n",
    "    print('waiting for a connection')\n",
    "    connection, client_address = sock.accept()\n",
    "    try: #{\n",
    "        print('connection from', client_address)\n",
    "\n",
    "        # Receive the data in small chunks and retransmit it\n",
    "        while True: #{\n",
    "            data = connection.recv(16)\n",
    "            print('received {!r}'.format(data))\n",
    "            if data: #{\n",
    "                print('sending data back to the client')\n",
    "                connection.sendall(data)\n",
    "            #}\n",
    "            else: #{\n",
    "                print('no data from', client_address)\n",
    "                break\n",
    "            #}\n",
    "        #}\n",
    "    #}\n",
    "    finally: #{\n",
    "        # Clean up the connection\n",
    "        connection.close()\n",
    "    #}\n",
    "#}"
   ]
  },
  {
   "cell_type": "code",
   "execution_count": null,
   "metadata": {},
   "outputs": [],
   "source": []
  }
 ],
 "metadata": {
  "kernelspec": {
   "display_name": "Python 3",
   "language": "python",
   "name": "python3"
  },
  "language_info": {
   "codemirror_mode": {
    "name": "ipython",
    "version": 3
   },
   "file_extension": ".py",
   "mimetype": "text/x-python",
   "name": "python",
   "nbconvert_exporter": "python",
   "pygments_lexer": "ipython3",
   "version": "3.7.0"
  }
 },
 "nbformat": 4,
 "nbformat_minor": 2
}
