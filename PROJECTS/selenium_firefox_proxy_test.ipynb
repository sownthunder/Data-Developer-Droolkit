{
 "cells": [
  {
   "cell_type": "code",
   "execution_count": 5,
   "metadata": {},
   "outputs": [],
   "source": [
    "import os, sys, time\n",
    "from time import sleep\n",
    "from selenium import webdriver"
   ]
  },
  {
   "cell_type": "code",
   "execution_count": 6,
   "metadata": {},
   "outputs": [],
   "source": [
    "def my_proxy(PROXY_HOST, PROXY_PORT): #{\n",
    "    fp = webdriver.FirefoxProfile()\n",
    "    # Direct = 0, Manual = 1, PAC = 2, AUTODETECT = 4, SYSTEM = 5\n",
    "    print(PROXY_PORT)\n",
    "    print(PROXY_HOST)\n",
    "    fp.set_preference(\"network.proxy.type\", 1)\n",
    "    fp.set_preference(\"network.proxy.http\",PROXY_HOST)\n",
    "    fp.set_preference(\"network.proxy.http_port\",int(PROXY_PORT))\n",
    "    fp.set_preference(\"general.useragent.override\",\"whater_useragent\")\n",
    "    fp.update_preferences()\n",
    "    return webdriver.Firefox(firefox_profile=fp)\n",
    "#}"
   ]
  },
  {
   "cell_type": "code",
   "execution_count": 7,
   "metadata": {},
   "outputs": [],
   "source": [
    "def main(): #{\n",
    "    # [2019-10-03]... driver= webdriver.Firefox()\n",
    "    # call function & setup driver with Proxy Settings\n",
    "    # HOST == 54.84.95.51\n",
    "    # PORT == 8083\n",
    "    # PORT == 31280 (non)\n",
    "    #driver = my_proxy(PROXY_HOST=\"265.24.11.6\", PROXY_PORT=int(\"8080\"))\n",
    "    driver = my_proxy(PROXY_HOST=\"54.84.95.51\", PROXY_PORT=int(\"8083\"))\n",
    "    driver.get(\"https://www.whatsmyipaddress.org/\")\n",
    "#}"
   ]
  },
  {
   "cell_type": "code",
   "execution_count": 8,
   "metadata": {},
   "outputs": [
    {
     "name": "stdout",
     "output_type": "stream",
     "text": [
      "8083\n",
      "54.84.95.51\n",
      "fail\n"
     ]
    }
   ],
   "source": [
    "# MAIN BOILERPLATE CALL\n",
    "if __name__ == \"__main__\": #{\n",
    "    # TRY THE FOLLOWING:\n",
    "    try: #{\n",
    "        main()\n",
    "    #}\n",
    "    except: #{\n",
    "        print(\"fail\")\n",
    "    #}\n",
    "    else: #{\n",
    "        print(\"SUCCESS! VERY NICE!!\")\n",
    "    #}\n",
    "#}"
   ]
  },
  {
   "cell_type": "code",
   "execution_count": null,
   "metadata": {},
   "outputs": [],
   "source": []
  }
 ],
 "metadata": {
  "kernelspec": {
   "display_name": "Python 3",
   "language": "python",
   "name": "python3"
  },
  "language_info": {
   "codemirror_mode": {
    "name": "ipython",
    "version": 3
   },
   "file_extension": ".py",
   "mimetype": "text/x-python",
   "name": "python",
   "nbconvert_exporter": "python",
   "pygments_lexer": "ipython3",
   "version": "3.7.3"
  }
 },
 "nbformat": 4,
 "nbformat_minor": 2
}
