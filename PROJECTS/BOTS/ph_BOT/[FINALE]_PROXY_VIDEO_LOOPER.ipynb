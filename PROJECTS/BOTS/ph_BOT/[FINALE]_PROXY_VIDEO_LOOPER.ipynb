{
 "cells": [
  {
   "cell_type": "markdown",
   "metadata": {},
   "source": [
    "# v.0.1\n",
    "--- \n",
    "\n",
    "### [1] pull proxy list\n",
    "### [2] start/begin/run proxy_server \n",
    "### [3] begin traversing via selenium thru proxyies/server\n",
    "### [4a] use `BeautifulSoup4` to get *Links, IDS,* and **eventually** *viewcounts*\n",
    "### [4b] "
   ]
  },
  {
   "cell_type": "code",
   "execution_count": 1,
   "metadata": {},
   "outputs": [],
   "source": [
    "# IMPORT THE GOODS\n",
    "import os, sys, time\n",
    "from time import sleep\n",
    "import requests\n",
    "from bs4 import BeautifulSoup\n",
    "from random import choice"
   ]
  },
  {
   "cell_type": "code",
   "execution_count": 2,
   "metadata": {},
   "outputs": [],
   "source": [
    "from http_request_randomizer.requests.proxy.requestProxy import RequestProxy"
   ]
  },
  {
   "cell_type": "code",
   "execution_count": 3,
   "metadata": {},
   "outputs": [],
   "source": [
    "from selenium import webdriver\n",
    "from selenium.common.exceptions import TimeoutException\n",
    "from selenium.webdriver.support.ui import WebDriverWait\n",
    "from selenium.webdriver.support import expected_conditions as EC\n",
    "from selenium.webdriver.common.by import By"
   ]
  },
  {
   "cell_type": "code",
   "execution_count": 4,
   "metadata": {},
   "outputs": [],
   "source": [
    "class ReliableRandomProxy(): #{\n",
    "    \n",
    "    def __init__(self): #{\n",
    "        r = self.proxy_request('get', \"https://youtube.com\")\n",
    "    #}\n",
    "    \n",
    "    def get_proxy(self): #{\n",
    "        url = \"https://www.sslproxies.org\"\n",
    "        r = requests.get(url)\n",
    "        soup = BeautifulSoup(r.content, 'html5lib')\n",
    "        return {'https': choice(list(map(lambda x:x[0]+':'+x[1], list(zip(map(lambda x:x.text, soup.findAll('td')[::8]), \n",
    "                                                                          map(lambda x:x.text, soup.findAll('td')[1::8]))))))}\n",
    "    #}\n",
    "    \n",
    "    def proxy_request(self, request_type, url, **kwargs): #{\n",
    "        while 1: #{\n",
    "            try: #{\n",
    "                proxy = self.get_proxy()\n",
    "                print(\"Using proxy: {}\".format(proxy))\n",
    "                r = requests.request(request_type, url, proxies=proxy, timeout=5, **kwargs)\n",
    "                break\n",
    "            #}\n",
    "            except: #{\n",
    "                pass\n",
    "            #}\n",
    "        #}\n",
    "        return r\n",
    "    #} \n",
    "    \n",
    "#}"
   ]
  },
  {
   "cell_type": "code",
   "execution_count": 5,
   "metadata": {},
   "outputs": [
    {
     "name": "stdout",
     "output_type": "stream",
     "text": [
      "Using proxy: {'https': '1.20.99.44:32119'}\n",
      "Using proxy: {'https': '95.209.155.91:8080'}\n",
      "Using proxy: {'https': '1.20.167.16:8080'}\n"
     ]
    }
   ],
   "source": [
    "r1 = ReliableRandomProxy()"
   ]
  },
  {
   "cell_type": "code",
   "execution_count": 6,
   "metadata": {},
   "outputs": [],
   "source": [
    "class ProxyPussyPopper9000(): #{\n",
    "    \n",
    "    def __init__(self): #{\n",
    "        # CALL MAIN FUNCTIONS\n",
    "        # you may get different number of proxy\n",
    "        # when you run this  at each time\n",
    "        self.reg_proxy = RequestProxy()\n",
    "        # this will create proxy list\n",
    "        self.proxies = self.reg_proxy.get_proxy_list()\n",
    "        # SETUP / START DRIVER\n",
    "        self.driver = self.setup_driver(list_of_proxies=self.proxies, \n",
    "                                   path_to_executable=\"C:/FireFox/geckodriver.exe\"\n",
    "                                  )\n",
    "        # GO TO WEBSITE TO CHECK PROXY SUCCESS\n",
    "        #self.driver.get('https://whatismyipaddress.com')\n",
    "        #########################################\n",
    "        # INFINITE LOOP\n",
    "        while 1: #{\n",
    "            self.driver.get('https://www.pornhub.com/view_video.php?viewkey=ph5d227f9dcdf62')\n",
    "            sleep(99)\n",
    "            self.driver.refresh()\n",
    "        #}\n",
    "        ###########################\n",
    "    #}\n",
    "    \n",
    "    def get_proxy(self): #{\n",
    "        url = \"https://www.sslproxies.org\"\n",
    "        r = requests.get(url)\n",
    "        soup = BeautifulSoup(r.content, 'html5lib')\n",
    "        return {'https': choice(list(map(lambda x:x[0]+':'+x[1], list(zip(map(lambda x:x.text, soup.findAll('td')[::8]), \n",
    "                                                                          map(lambda x:x.text, soup.findAll('td')[1::8]))))))}\n",
    "    #}\n",
    "    \n",
    "    def proxy_request(self, request_type, url, **kwargs): #{\n",
    "        pass\n",
    "    #}\n",
    "    \n",
    "    def setup_driver(self, list_of_proxies, path_to_executable): #{\n",
    "        PROXY_1 = list_of_proxies[0].get_address()\n",
    "        #USE# PROXY_2 = self.get_proxy()\n",
    "        webdriver.DesiredCapabilities.FIREFOX['proxy']={\n",
    "            \"httpProxy\":PROXY_1,\n",
    "            \"ftpProxy\":PROXY_1,\n",
    "            \"sslProxy\":PROXY_1,\n",
    "            \n",
    "            \"proxyType\":\"MANUAL\",\n",
    "        }\n",
    "        return webdriver.Firefox(executable_path=path_to_executable)\n",
    "    #}\n",
    "    \n",
    "#}"
   ]
  },
  {
   "cell_type": "code",
   "execution_count": 7,
   "metadata": {},
   "outputs": [
    {
     "name": "stderr",
     "output_type": "stream",
     "text": [
      "2019-11-30 00:31:33,487 root   DEBUG    === Initialized Proxy Parsers ===\n",
      "2019-11-30 00:31:33,488 root   DEBUG    \t FreeProxy parser of 'http://free-proxy-list.net' with required bandwidth: '150' KBs\n",
      "2019-11-30 00:31:33,490 root   DEBUG    \t PremProxy parser of 'https://premproxy.com/list/' with required bandwidth: '150' KBs\n",
      "2019-11-30 00:31:33,494 root   DEBUG    =================================\n",
      "2019-11-30 00:31:33,823 root   DEBUG    Added 300 proxies from FreeProxy\n",
      "2019-11-30 00:31:34,292 http_request_randomizer.requests.parsers.PremProxyParser DEBUG    Pages: {'', '03.htm', '08.htm', '09.htm', '06.htm', '04.htm', '07.htm', '02.htm', '05.htm'}\n",
      "2019-11-30 00:31:34,753 http_request_randomizer.requests.parsers.js.UnPacker INFO     JS UnPacker init path: https://premproxy.com/js/ba4f1.js\n",
      "2019-11-30 00:31:35,208 http_request_randomizer.requests.parsers.js.UnPacker DEBUG    portmap: {'raeb4': '8080', 'r10e4': '51162', 'r7c81': '80', 're622': '47253', 'r8956': '58461', 'r08e5': '3128', 'ra444': '40561', 'rf329': '30784', 'r3308': '59763', 'r5289': '53281', 'ra6e3': '51536', 'r3af2': '38310', 'ra4ce': '48982', 'rf09f': '30586', 'r796a': '51338', 'r7018': '48330', 'r98aa': '40576', 'r28de': '8118', 'rc8a5': '60020', 're2c7': '57797', 'rf681': '33541', 'rd54b': '60562', 're191': '52335', 'rafd7': '37100', 'rc28d': '44469', 'r0646': '65205', 'rdd08': '56648', 'r0e2a': '21231', 'r0e42': '59278', 'r2cca': '54136', 'r63ac': '60204', 'r8858': '46951', 'r3c02': '8088', 'r36f5': '39150', 'rfedb': '35601', 'rbab1': '61255', 'rd30f': '42638', 'rf411': '49423', 'r9cd8': '41310', 'r06d3': '8001', 'r139d': '9999', 're3c0': '808', 'r4f2c': '48612', 'rf0ad': '47524', 're351': '45999', 'r3813': '39104', 'r7150': '36681', 'r4a1f': '37120', 'rcb25': '36718', 'r4af2': '57482', 'rcea9': '40480', 'r4687': '43645', 'rad57': '43749', 'r4f2a': '46611', 'r2942': '55906', 'ra425': '999', 'r2f20': '52622', 'rebf1': '44987', 'r0859': '40573', 'raa81': '38525', 'r3a47': '45053', 'r8bac': '30565', 'rc5db': '8811', 'r933a': '8081', 'rcbf4': '51296', 'r7d99': '49929', 'r95df': '41054', 'r8e19': '39934', 'r9e82': '48678', 'rb09d': '57157', 'rab52': '36163', 'r795e': '34453', 'r721a': '41696', 'r2c71': '8197', 'r8cad': '50660', 'rb037': '4000', 'r2980': '48783', 'r0da8': '43708', 'r4cdd': '42305', 'rc614': '6666', 'r562b': '59141', 'r3cd6': '50617', 'rf685': '45728', 'rb450': '3132', 'r66b5': '8087', 'r491c': '3142', 'r0a64': '56379', 'r6cd9': '39589', 'r1756': '6000', 'rb03e': '53353', 'rd295': '8888', 'rc98f': '443', 'rfeda': '39364', 'r736f': '49805', 'r1b3c': '37545', 'r98e2': '46818', 'rd192': '53376', 're7bb': '43944', 'r8da2': '49888', 'rf8c6': '49693', 'r5f75': '32529', 'ra3bb': '57444', 'r73c9': '41537', 'r609f': '45459', 'r0e60': '32836', 'r23fa': '30677', 'r38ac': '36137', 'rb259': '53335', 'rc730': '31977', 'rc4f1': '57914', 'r2f8a': '41049', 'ra74f': '61700', 'rf3b3': '38717', 'r39ae': '32997', 're2a8': '37310', 'rc063': '56341', 'rb72a': '36051', 'r9a17': '38808', 'r322d': '3129', 'r5e36': '45282', 'rcbb9': '59646', 'r1d49': '41170', 'rf858': '60002', 'ree08': '34654', 'rf11f': '45014', 'r3ef4': '35451', 'rfc0b': '23500', 'rfbd9': '48122', 'r578d': '55726', 'r1bb7': '58794', 'rf989': '49653', 'r2a40': '52781', 'r957c': '54179', 'r4040': '59565', 'r2011': '56838', 'r83d1': '52938', 'r0f46': '35332', 'rbd36': '46348', 'r5d39': '60508', 'r0352': '51667', 'r6287': '40636', 'r4855': '42025', 'r9c0e': '36496', 'ra997': '51024', 'rdc07': '52069', 'rccf1': '36868', 'r18d4': '46003', 'r285a': '61809', 'r9313': '60571', 'r4a58': '43747', 'rbdca': '37591', 'r4f5c': '34012', 'radeb': '34679', 'rdd4b': '60515', 'rae2e': '50912', 'r1d0c': '54214', 'r9ba2': '59355', 'ref3d': '57505', 'r2bf9': '30987', 'r8d0a': '61139', 'r29a4': '47886', 'r0034': '60473', 'rdc90': '87', 'r4a5f': '34286', 'rd3d5': '34184', 're633': '36739', 'rd598': '43750', 'rc920': '38914', 're817': '35202', 'rb23a': '39696', 'r3364': '58024', 'r73bd': '37444', 'r095e': '38975', 'ra5ad': '8684', 'r5988': '45342', 're063': '58094', 'r53bf': '59324', 'r902e': '50661', 'rb555': '36314', 'r7f3c': '9090', 'rbfe5': '47923', 'ref02': '45372', 're979': '31280', 'r0d8d': '8929', 'r1ee6': '2019', 'recd1': '34088', 'rc114': '38185', 'rc334': '56244', 'r6eab': '32192', 'rbe52': '46281', 'r7d35': '40080', 'rca73': '52055', 'r2a19': '31932', 're9f7': '54675'}\n",
      "2019-11-30 00:31:39,305 root   DEBUG    Added 589 proxies from PremProxy\n",
      "2019-11-30 00:31:39,311 root   DEBUG    Total proxies = 889\n",
      "2019-11-30 00:31:39,314 root   DEBUG    Filtered proxies = 889\n",
      "2019-11-30 00:31:42,329 selenium.webdriver.remote.remote_connection DEBUG    POST http://127.0.0.1:63813/session {\"capabilities\": {\"firstMatch\": [{}], \"alwaysMatch\": {\"browserName\": \"firefox\", \"acceptInsecureCerts\": true, \"proxy\": {\"httpProxy\": \"103.243.132.58:50008\", \"ftpProxy\": \"103.243.132.58:50008\", \"sslProxy\": \"103.243.132.58:50008\", \"proxyType\": \"manual\"}}}, \"desiredCapabilities\": {\"browserName\": \"firefox\", \"acceptInsecureCerts\": true, \"proxy\": {\"httpProxy\": \"103.243.132.58:50008\", \"ftpProxy\": \"103.243.132.58:50008\", \"sslProxy\": \"103.243.132.58:50008\", \"proxyType\": \"MANUAL\"}, \"marionette\": true}}\n",
      "2019-11-30 00:31:50,644 selenium.webdriver.remote.remote_connection DEBUG    Finished Request\n",
      "2019-11-30 00:31:50,646 selenium.webdriver.remote.remote_connection DEBUG    POST http://127.0.0.1:63813/session/1a21723a-f2fa-48ae-a84c-f8024ff7bbc0/url {\"url\": \"https://www.pornhub.com/view_video.php?viewkey=ph5d227f9dcdf62\"}\n",
      "2019-11-30 00:36:50,660 selenium.webdriver.remote.remote_connection DEBUG    Finished Request\n"
     ]
    },
    {
     "ename": "TimeoutException",
     "evalue": "Message: Timeout loading page after 300000ms\n",
     "output_type": "error",
     "traceback": [
      "\u001b[1;31m---------------------------------------------------------------------------\u001b[0m",
      "\u001b[1;31mTimeoutException\u001b[0m                          Traceback (most recent call last)",
      "\u001b[1;32m<ipython-input-7-90cbc0997f82>\u001b[0m in \u001b[0;36m<module>\u001b[1;34m\u001b[0m\n\u001b[1;32m----> 1\u001b[1;33m \u001b[0mtest1\u001b[0m \u001b[1;33m=\u001b[0m \u001b[0mProxyPussyPopper9000\u001b[0m\u001b[1;33m(\u001b[0m\u001b[1;33m)\u001b[0m\u001b[1;33m\u001b[0m\u001b[1;33m\u001b[0m\u001b[0m\n\u001b[0m",
      "\u001b[1;32m<ipython-input-6-860ec0c99444>\u001b[0m in \u001b[0;36m__init__\u001b[1;34m(self)\u001b[0m\n\u001b[0;32m     17\u001b[0m         \u001b[1;31m# INFINITE LOOP\u001b[0m\u001b[1;33m\u001b[0m\u001b[1;33m\u001b[0m\u001b[1;33m\u001b[0m\u001b[0m\n\u001b[0;32m     18\u001b[0m         \u001b[1;32mwhile\u001b[0m \u001b[1;36m1\u001b[0m\u001b[1;33m:\u001b[0m \u001b[1;31m#{\u001b[0m\u001b[1;33m\u001b[0m\u001b[1;33m\u001b[0m\u001b[0m\n\u001b[1;32m---> 19\u001b[1;33m             \u001b[0mself\u001b[0m\u001b[1;33m.\u001b[0m\u001b[0mdriver\u001b[0m\u001b[1;33m.\u001b[0m\u001b[0mget\u001b[0m\u001b[1;33m(\u001b[0m\u001b[1;34m'https://www.pornhub.com/view_video.php?viewkey=ph5d227f9dcdf62'\u001b[0m\u001b[1;33m)\u001b[0m\u001b[1;33m\u001b[0m\u001b[1;33m\u001b[0m\u001b[0m\n\u001b[0m\u001b[0;32m     20\u001b[0m             \u001b[0msleep\u001b[0m\u001b[1;33m(\u001b[0m\u001b[1;36m99\u001b[0m\u001b[1;33m)\u001b[0m\u001b[1;33m\u001b[0m\u001b[1;33m\u001b[0m\u001b[0m\n\u001b[0;32m     21\u001b[0m             \u001b[0mself\u001b[0m\u001b[1;33m.\u001b[0m\u001b[0mdriver\u001b[0m\u001b[1;33m.\u001b[0m\u001b[0mrefresh\u001b[0m\u001b[1;33m(\u001b[0m\u001b[1;33m)\u001b[0m\u001b[1;33m\u001b[0m\u001b[1;33m\u001b[0m\u001b[0m\n",
      "\u001b[1;32m~\\Miniconda3\\lib\\site-packages\\selenium\\webdriver\\remote\\webdriver.py\u001b[0m in \u001b[0;36mget\u001b[1;34m(self, url)\u001b[0m\n\u001b[0;32m    331\u001b[0m         \u001b[0mLoads\u001b[0m \u001b[0ma\u001b[0m \u001b[0mweb\u001b[0m \u001b[0mpage\u001b[0m \u001b[1;32min\u001b[0m \u001b[0mthe\u001b[0m \u001b[0mcurrent\u001b[0m \u001b[0mbrowser\u001b[0m \u001b[0msession\u001b[0m\u001b[1;33m.\u001b[0m\u001b[1;33m\u001b[0m\u001b[1;33m\u001b[0m\u001b[0m\n\u001b[0;32m    332\u001b[0m         \"\"\"\n\u001b[1;32m--> 333\u001b[1;33m         \u001b[0mself\u001b[0m\u001b[1;33m.\u001b[0m\u001b[0mexecute\u001b[0m\u001b[1;33m(\u001b[0m\u001b[0mCommand\u001b[0m\u001b[1;33m.\u001b[0m\u001b[0mGET\u001b[0m\u001b[1;33m,\u001b[0m \u001b[1;33m{\u001b[0m\u001b[1;34m'url'\u001b[0m\u001b[1;33m:\u001b[0m \u001b[0murl\u001b[0m\u001b[1;33m}\u001b[0m\u001b[1;33m)\u001b[0m\u001b[1;33m\u001b[0m\u001b[1;33m\u001b[0m\u001b[0m\n\u001b[0m\u001b[0;32m    334\u001b[0m \u001b[1;33m\u001b[0m\u001b[0m\n\u001b[0;32m    335\u001b[0m     \u001b[1;33m@\u001b[0m\u001b[0mproperty\u001b[0m\u001b[1;33m\u001b[0m\u001b[1;33m\u001b[0m\u001b[0m\n",
      "\u001b[1;32m~\\Miniconda3\\lib\\site-packages\\selenium\\webdriver\\remote\\webdriver.py\u001b[0m in \u001b[0;36mexecute\u001b[1;34m(self, driver_command, params)\u001b[0m\n\u001b[0;32m    319\u001b[0m         \u001b[0mresponse\u001b[0m \u001b[1;33m=\u001b[0m \u001b[0mself\u001b[0m\u001b[1;33m.\u001b[0m\u001b[0mcommand_executor\u001b[0m\u001b[1;33m.\u001b[0m\u001b[0mexecute\u001b[0m\u001b[1;33m(\u001b[0m\u001b[0mdriver_command\u001b[0m\u001b[1;33m,\u001b[0m \u001b[0mparams\u001b[0m\u001b[1;33m)\u001b[0m\u001b[1;33m\u001b[0m\u001b[1;33m\u001b[0m\u001b[0m\n\u001b[0;32m    320\u001b[0m         \u001b[1;32mif\u001b[0m \u001b[0mresponse\u001b[0m\u001b[1;33m:\u001b[0m\u001b[1;33m\u001b[0m\u001b[1;33m\u001b[0m\u001b[0m\n\u001b[1;32m--> 321\u001b[1;33m             \u001b[0mself\u001b[0m\u001b[1;33m.\u001b[0m\u001b[0merror_handler\u001b[0m\u001b[1;33m.\u001b[0m\u001b[0mcheck_response\u001b[0m\u001b[1;33m(\u001b[0m\u001b[0mresponse\u001b[0m\u001b[1;33m)\u001b[0m\u001b[1;33m\u001b[0m\u001b[1;33m\u001b[0m\u001b[0m\n\u001b[0m\u001b[0;32m    322\u001b[0m             response['value'] = self._unwrap_value(\n\u001b[0;32m    323\u001b[0m                 response.get('value', None))\n",
      "\u001b[1;32m~\\Miniconda3\\lib\\site-packages\\selenium\\webdriver\\remote\\errorhandler.py\u001b[0m in \u001b[0;36mcheck_response\u001b[1;34m(self, response)\u001b[0m\n\u001b[0;32m    240\u001b[0m                 \u001b[0malert_text\u001b[0m \u001b[1;33m=\u001b[0m \u001b[0mvalue\u001b[0m\u001b[1;33m[\u001b[0m\u001b[1;34m'alert'\u001b[0m\u001b[1;33m]\u001b[0m\u001b[1;33m.\u001b[0m\u001b[0mget\u001b[0m\u001b[1;33m(\u001b[0m\u001b[1;34m'text'\u001b[0m\u001b[1;33m)\u001b[0m\u001b[1;33m\u001b[0m\u001b[1;33m\u001b[0m\u001b[0m\n\u001b[0;32m    241\u001b[0m             \u001b[1;32mraise\u001b[0m \u001b[0mexception_class\u001b[0m\u001b[1;33m(\u001b[0m\u001b[0mmessage\u001b[0m\u001b[1;33m,\u001b[0m \u001b[0mscreen\u001b[0m\u001b[1;33m,\u001b[0m \u001b[0mstacktrace\u001b[0m\u001b[1;33m,\u001b[0m \u001b[0malert_text\u001b[0m\u001b[1;33m)\u001b[0m\u001b[1;33m\u001b[0m\u001b[1;33m\u001b[0m\u001b[0m\n\u001b[1;32m--> 242\u001b[1;33m         \u001b[1;32mraise\u001b[0m \u001b[0mexception_class\u001b[0m\u001b[1;33m(\u001b[0m\u001b[0mmessage\u001b[0m\u001b[1;33m,\u001b[0m \u001b[0mscreen\u001b[0m\u001b[1;33m,\u001b[0m \u001b[0mstacktrace\u001b[0m\u001b[1;33m)\u001b[0m\u001b[1;33m\u001b[0m\u001b[1;33m\u001b[0m\u001b[0m\n\u001b[0m\u001b[0;32m    243\u001b[0m \u001b[1;33m\u001b[0m\u001b[0m\n\u001b[0;32m    244\u001b[0m     \u001b[1;32mdef\u001b[0m \u001b[0m_value_or_default\u001b[0m\u001b[1;33m(\u001b[0m\u001b[0mself\u001b[0m\u001b[1;33m,\u001b[0m \u001b[0mobj\u001b[0m\u001b[1;33m,\u001b[0m \u001b[0mkey\u001b[0m\u001b[1;33m,\u001b[0m \u001b[0mdefault\u001b[0m\u001b[1;33m)\u001b[0m\u001b[1;33m:\u001b[0m\u001b[1;33m\u001b[0m\u001b[1;33m\u001b[0m\u001b[0m\n",
      "\u001b[1;31mTimeoutException\u001b[0m: Message: Timeout loading page after 300000ms\n"
     ]
    }
   ],
   "source": [
    "test1 = ProxyPussyPopper9000()"
   ]
  },
  {
   "cell_type": "code",
   "execution_count": null,
   "metadata": {},
   "outputs": [],
   "source": []
  },
  {
   "cell_type": "code",
   "execution_count": null,
   "metadata": {},
   "outputs": [],
   "source": []
  },
  {
   "cell_type": "code",
   "execution_count": null,
   "metadata": {},
   "outputs": [],
   "source": []
  },
  {
   "cell_type": "code",
   "execution_count": null,
   "metadata": {},
   "outputs": [],
   "source": []
  },
  {
   "cell_type": "code",
   "execution_count": null,
   "metadata": {},
   "outputs": [],
   "source": []
  },
  {
   "cell_type": "code",
   "execution_count": null,
   "metadata": {},
   "outputs": [],
   "source": []
  },
  {
   "cell_type": "code",
   "execution_count": null,
   "metadata": {},
   "outputs": [],
   "source": []
  },
  {
   "cell_type": "code",
   "execution_count": null,
   "metadata": {},
   "outputs": [],
   "source": []
  },
  {
   "cell_type": "code",
   "execution_count": null,
   "metadata": {},
   "outputs": [],
   "source": []
  },
  {
   "cell_type": "code",
   "execution_count": null,
   "metadata": {},
   "outputs": [],
   "source": []
  },
  {
   "cell_type": "code",
   "execution_count": null,
   "metadata": {},
   "outputs": [],
   "source": []
  },
  {
   "cell_type": "raw",
   "metadata": {
    "raw_mimetype": "text/x-python"
   },
   "source": [
    "def get_proxy(): #{\n",
    "    url = \"https://www.sslproxies.org\"\n",
    "    r = requests.get(url)\n",
    "    soup = BeautifulSoup(r.content, 'html5lib')\n",
    "    return {'https': choice(list(map(lambda x:x[0]+':'+x[1], list(zip(map(lambda x:x.text, soup.findAll('td')[::8]), \n",
    "                                     map(lambda x:x.text, soup.findAll('td')[1::8]))))))}\n",
    "#}"
   ]
  },
  {
   "cell_type": "code",
   "execution_count": null,
   "metadata": {},
   "outputs": [],
   "source": [
    "get_proxy()"
   ]
  },
  {
   "cell_type": "code",
   "execution_count": null,
   "metadata": {},
   "outputs": [],
   "source": [
    "def proxy_request(request_type, url, **kwargs): #{\n",
    "    while 1: #{\n",
    "        try: #{\n",
    "            proxy = get_proxy()\n",
    "            print(\"Using proxy: {}\".format(proxy))\n",
    "            r = requests.request(request_type, url, proxies=proxy, timeout=5, **kwargs)\n",
    "            break\n",
    "        #}\n",
    "        except: #{\n",
    "            pass\n",
    "        #}\n",
    "    #}\n",
    "    return r\n",
    "#}"
   ]
  },
  {
   "cell_type": "code",
   "execution_count": null,
   "metadata": {},
   "outputs": [],
   "source": [
    "r = proxy_request('get', \"https://youtube.com\")"
   ]
  },
  {
   "cell_type": "code",
   "execution_count": null,
   "metadata": {
    "scrolled": true
   },
   "outputs": [],
   "source": [
    "r.text"
   ]
  },
  {
   "cell_type": "code",
   "execution_count": null,
   "metadata": {},
   "outputs": [],
   "source": [
    "url = \"https://www.sslproxies.org\"\n",
    "r = requests.get(url)\n",
    "soup = BeautifulSoup(r.content, 'html5lib')\n",
    "soup.findAll('td')[::8]"
   ]
  },
  {
   "cell_type": "code",
   "execution_count": null,
   "metadata": {},
   "outputs": [],
   "source": []
  }
 ],
 "metadata": {
  "celltoolbar": "Raw Cell Format",
  "kernelspec": {
   "display_name": "Python 3",
   "language": "python",
   "name": "python3"
  },
  "language_info": {
   "codemirror_mode": {
    "name": "ipython",
    "version": 3
   },
   "file_extension": ".py",
   "mimetype": "text/x-python",
   "name": "python",
   "nbconvert_exporter": "python",
   "pygments_lexer": "ipython3",
   "version": "3.7.3"
  }
 },
 "nbformat": 4,
 "nbformat_minor": 4
}
