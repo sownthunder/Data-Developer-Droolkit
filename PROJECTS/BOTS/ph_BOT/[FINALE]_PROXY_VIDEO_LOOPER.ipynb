{
 "cells": [
  {
   "cell_type": "markdown",
   "metadata": {},
   "source": [
    "# v.0.1\n",
    "--- \n",
    "\n",
    "### [1] pull proxy list\n",
    "### [2] start/begin/run proxy_server \n",
    "### [3] begin traversing via selenium thru proxyies/server\n",
    "### [4a] use `BeautifulSoup4` to get *Links, IDS,* and **eventually** *viewcounts*\n",
    "### [4b] "
   ]
  },
  {
   "cell_type": "code",
   "execution_count": 1,
   "metadata": {},
   "outputs": [],
   "source": [
    "# IMPORT THE GOODS\n",
    "import os, sys, time\n",
    "from time import sleep\n",
    "import requests\n",
    "from bs4 import BeautifulSoup\n",
    "from random import choice"
   ]
  },
  {
   "cell_type": "code",
   "execution_count": 2,
   "metadata": {},
   "outputs": [],
   "source": [
    "from http_request_randomizer.requests.proxy.requestProxy import RequestProxy"
   ]
  },
  {
   "cell_type": "code",
   "execution_count": 3,
   "metadata": {},
   "outputs": [],
   "source": [
    "from selenium import webdriver\n",
    "from selenium.common.exceptions import TimeoutException\n",
    "from selenium.webdriver.support.ui import WebDriverWait\n",
    "from selenium.webdriver.support import expected_conditions as EC\n",
    "from selenium.webdriver.common.by import By"
   ]
  },
  {
   "cell_type": "code",
   "execution_count": 4,
   "metadata": {},
   "outputs": [],
   "source": [
    "class ReliableRandomProxy(): #{\n",
    "    \n",
    "    def __init__(self): #{\n",
    "        r = self.proxy_request('get', \"https://youtube.com\")\n",
    "    #}\n",
    "    \n",
    "    def get_proxy(self): #{\n",
    "        url = \"https://www.sslproxies.org\"\n",
    "        r = requests.get(url)\n",
    "        soup = BeautifulSoup(r.content, 'html5lib')\n",
    "        return {'https': choice(list(map(lambda x:x[0]+':'+x[1], list(zip(map(lambda x:x.text, soup.findAll('td')[::8]), \n",
    "                                                                          map(lambda x:x.text, soup.findAll('td')[1::8]))))))}\n",
    "    #}\n",
    "    \n",
    "    def proxy_request(self, request_type, url, **kwargs): #{\n",
    "        while 1: #{\n",
    "            try: #{\n",
    "                proxy = self.get_proxy()\n",
    "                print(\"Using proxy: {}\".format(proxy))\n",
    "                r = requests.request(request_type, url, proxies=proxy, timeout=5, **kwargs)\n",
    "                break\n",
    "            #}\n",
    "            except: #{\n",
    "                pass\n",
    "            #}\n",
    "        #}\n",
    "        return r\n",
    "    #} \n",
    "    \n",
    "#}"
   ]
  },
  {
   "cell_type": "code",
   "execution_count": 5,
   "metadata": {},
   "outputs": [
    {
     "name": "stdout",
     "output_type": "stream",
     "text": [
      "Using proxy: {'https': '125.25.165.15:37662'}\n",
      "Using proxy: {'https': '201.64.22.50:8081'}\n",
      "Using proxy: {'https': '46:50'}\n",
      "Using proxy: {'https': '121.123.29.150:8080'}\n",
      "Using proxy: {'https': '180.183.43.47:8080'}\n",
      "Using proxy: {'https': '67: NL'}\n",
      "Using proxy: {'https': '21:00:20:40'}\n",
      "Using proxy: {'https': '51.38.71.101:8080'}\n",
      "Using proxy: {'https': '151.80.36.115:1080'}\n",
      "Using proxy: {'https': '203.185.55.217:443'}\n"
     ]
    }
   ],
   "source": [
    "r1 = ReliableRandomProxy()"
   ]
  },
  {
   "cell_type": "code",
   "execution_count": 6,
   "metadata": {},
   "outputs": [],
   "source": [
    "class ProxyPussyPopper9000(): #{\n",
    "    \n",
    "    def __init__(self): #{\n",
    "        # CALL MAIN FUNCTIONS\n",
    "        # you may get different number of proxy\n",
    "        # when you run this  at each time\n",
    "        self.reg_proxy = RequestProxy()\n",
    "        # this will create proxy list\n",
    "        self.proxies = self.reg_proxy.get_proxy_list()\n",
    "        # SETUP / START DRIVER\n",
    "        self.driver = self.setup_driver(list_of_proxies=self.proxies, \n",
    "                                   path_to_executable=\"C:/FireFox/geckodriver.exe\"\n",
    "                                  )\n",
    "        # GO TO WEBSITE TO CHECK PROXY SUCCESS\n",
    "        #self.driver.get('https://whatismyipaddress.com')\n",
    "        #########################################\n",
    "        # INFINITE LOOP\n",
    "        while 1: #{\n",
    "            self.driver.get('https://www.pornhub.com/view_video.php?viewkey=ph5d227f9dcdf62')\n",
    "            sleep(99)\n",
    "            self.driver.refresh()\n",
    "        #}\n",
    "        ###########################\n",
    "    #}\n",
    "    \n",
    "    def get_proxy(self): #{\n",
    "        url = \"https://www.sslproxies.org\"\n",
    "        r = requests.get(url)\n",
    "        soup = BeautifulSoup(r.content, 'html5lib')\n",
    "        return {'https': choice(list(map(lambda x:x[0]+':'+x[1], list(zip(map(lambda x:x.text, soup.findAll('td')[::8]), \n",
    "                                                                          map(lambda x:x.text, soup.findAll('td')[1::8]))))))}\n",
    "    #}\n",
    "    \n",
    "    def proxy_request(self, request_type, url, **kwargs): #{\n",
    "        pass\n",
    "    #}\n",
    "    \n",
    "    def setup_driver(self, list_of_proxies, path_to_executable): #{\n",
    "        PROXY_1 = list_of_proxies[0].get_address()\n",
    "        #USE# PROXY_2 = self.get_proxy()\n",
    "        webdriver.DesiredCapabilities.FIREFOX['proxy']={\n",
    "            \"httpProxy\":PROXY_1,\n",
    "            \"ftpProxy\":PROXY_1,\n",
    "            \"sslProxy\":PROXY_1,\n",
    "            \n",
    "            \"proxyType\":\"MANUAL\",\n",
    "        }\n",
    "        return webdriver.Firefox(executable_path=path_to_executable)\n",
    "    #}\n",
    "    \n",
    "#}"
   ]
  },
  {
   "cell_type": "code",
   "execution_count": 7,
   "metadata": {},
   "outputs": [
    {
     "name": "stderr",
     "output_type": "stream",
     "text": [
      "2019-11-20 16:44:13,858 root   DEBUG    === Initialized Proxy Parsers ===\n",
      "2019-11-20 16:44:13,859 root   DEBUG    \t FreeProxy parser of 'http://free-proxy-list.net' with required bandwidth: '150' KBs\n",
      "2019-11-20 16:44:13,860 root   DEBUG    \t PremProxy parser of 'https://premproxy.com/list/' with required bandwidth: '150' KBs\n",
      "2019-11-20 16:44:13,860 root   DEBUG    =================================\n",
      "2019-11-20 16:44:14,402 root   DEBUG    Added 300 proxies from FreeProxy\n",
      "2019-11-20 16:44:14,853 http_request_randomizer.requests.parsers.PremProxyParser DEBUG    Pages: {'', '08.htm', '09.htm', '14.htm', '11.htm', '12.htm', '05.htm', '13.htm', '03.htm', '07.htm', '10.htm', '06.htm', '04.htm', '02.htm'}\n",
      "2019-11-20 16:44:15,257 http_request_randomizer.requests.parsers.js.UnPacker INFO     JS UnPacker init path: https://premproxy.com/js/85ef9.js\n",
      "2019-11-20 16:44:15,709 http_request_randomizer.requests.parsers.js.UnPacker DEBUG    portmap: {'r9e4d': '8080', 'r60c4': '53281', 'rd775': '80', 'rae18': '47253', 'r4dcb': '58461', 'r5d14': '999', 'rbcf5': '9090', 'r3d21': '43105', 'r715f': '60253', 'rc5a8': '34771', 'r7cf8': '56955', 'r6ceb': '3128', 'r068b': '38310', 'r1fdc': '43950', 'r9b65': '8888', 'r058b': '36363', 'r9646': '35996', 'rc7dd': '59570', 'rfa46': '32174', 'r953a': '23500', 'r3a40': '57797', 'r5c9c': '60020', 'rb6e4': '33630', 'ra537': '60560', 'rdb51': '32231', 'r001a': '38723', 'rc38b': '65205', 'r74b1': '47903', 'r1655': '41288', 'rb830': '8081', 'r9075': '49753', 'r8ccd': '35830', 'r5c86': '59811', 'rfb90': '40365', 'rb45b': '52273', 'r3f25': '41374', 'r5beb': '55714', 'rd77d': '46951', 'ra09e': '37790', 'r8221': '30544', 'r38f0': '51392', 'rca03': '42638', 'r523e': '39150', 'r6414': '8585', 'r1644': '65309', 'r2052': '3000', 'r73ca': '9999', 'r82f7': '9000', 're4fb': '43659', 'r5145': '44427', 'r5f05': '32964', 'r229e': '60999', 'rd60d': '57646', 'rd912': '63141', 'r5b3f': '39371', 'r64ba': '61911', 'r0e5c': '34273', 'r2c13': '30139', 're9a1': '57482', 're21b': '36575', 'r534a': '55447', 'r48ae': '52622', 'rf395': '44097', 'r84bf': '3129', 'r617e': '9991', 'rf961': '37841', 'r35b1': '59778', 'racf5': '31375', 'rfc28': '40573', 'r24bc': '38525', 'r4b3e': '45053', 'r99d9': '30565', 'r443f': '8118', 'ra087': '49929', 'rdd88': '51194', 'rf787': '51296', 'rd49b': '48678', 'rb5a1': '55619', 'r8bed': '33611', 'rb4c9': '38256', 'r29d7': '34841', 'r9ebc': '59175', 'r3eef': '8380', 'rdd22': '52378', 'rc5e2': '54040', 'r7681': '43881', 'raf5c': '82', 'rc775': '54039', 'r3df7': '808', 'r49da': '31475', 'r1ad6': '3139', 'r18ce': '3140', 'r70c8': '38283', 'r8795': '38038', 'rd2e2': '48144', 'r6ec2': '30560', 'r260e': '36374', 'rdc78': '31409', 'rf7f4': '30665', 'r8a00': '37545', 'r82e3': '39364', 'rd03d': '36482', 'r4405': '48105', 'r8d75': '30091', 'rdd82': '57444', 'r2a32': '41537', 'r22e5': '48439', 'rc9d8': '55960', 'r9dea': '32836', 'r215f': '57914', 'r1b04': '47497', 'r9e65': '32626', 'r8a58': '48458', 'r4a91': '443', 'r53f6': '41049', 'rcd5f': '38717', 'r54c6': '33602', 'r3fe0': '30726', 'rdc30': '36792', 'r7707': '36064', 'r7bc6': '49031', 'rbfd7': '52890', 'refab': '45282', 're84c': '32483', 'r4174': '30573', 'red4a': '38195', 'rb0b9': '56263', 'rccc5': '48047', 'r43b2': '30736', 'rf340': '60446', 'ref3f': '30552', 'r2613': '41258', 'rc5c8': '47163', 'rf073': '45218', 'r2fc0': '53931', 'r88c9': '49252', 're35c': '48068', 'ra334': '4433', 'r88fe': '54179', 'r4e3c': '59565', 'r5fe2': '49846', 'r34a8': '56838', 'r1b9e': '40485', 'rb0f1': '35332', 'r582e': '36496', 'r4aae': '51024', 'r7eee': '61809', 'r44c4': '36448', 'rba0d': '53570', 'rc7fc': '45240', 'r5387': '54290', 'r65c7': '30290', 'recd7': '37020', 'r2356': '37166', 'r75c7': '30164', 'r64e5': '54336', 'r886c': '59061', 'r6616': '54214', 'r86c9': '61190', 'r6f3a': '50330', 'r91d3': '49010', 'r4897': '30987', 'rb26a': '43665', 'rc27e': '51336', 'r53e0': '34184', 'rc39b': '48637', 'r9d41': '37979', 'ra701': '36739', 'ra92a': '35276', 'rc37c': '56580', 'r020f': '48368', 'r455e': '47373', 'rd197': '34842', 'r0fe5': '53343', 'ref86': '4444', 'ra628': '47963', 'rf668': '50661', 'rd892': '38816', 'r838b': '32585', 'r99d4': '41066', 'r3343': '7070', 'rbb92': '35116', 'r6504': '42675', 'r0ec2': '51885', 'r092a': '53692', 'r7e6d': '34740', 'r5292': '30303', 'r6398': '54675', 'r18ea': '54921'}\n",
      "2019-11-20 16:44:21,511 root   DEBUG    Added 493 proxies from PremProxy\n",
      "2019-11-20 16:44:21,512 root   DEBUG    Total proxies = 793\n",
      "2019-11-20 16:44:21,513 root   DEBUG    Filtered proxies = 793\n",
      "2019-11-20 16:44:24,632 selenium.webdriver.remote.remote_connection DEBUG    POST http://127.0.0.1:49737/session {\"capabilities\": {\"firstMatch\": [{}], \"alwaysMatch\": {\"browserName\": \"firefox\", \"acceptInsecureCerts\": true, \"proxy\": {\"httpProxy\": \"159.65.87.167:8080\", \"ftpProxy\": \"159.65.87.167:8080\", \"sslProxy\": \"159.65.87.167:8080\", \"proxyType\": \"manual\"}}}, \"desiredCapabilities\": {\"browserName\": \"firefox\", \"acceptInsecureCerts\": true, \"proxy\": {\"httpProxy\": \"159.65.87.167:8080\", \"ftpProxy\": \"159.65.87.167:8080\", \"sslProxy\": \"159.65.87.167:8080\", \"proxyType\": \"MANUAL\"}, \"marionette\": true}}\n",
      "2019-11-20 16:45:04,556 selenium.webdriver.remote.remote_connection DEBUG    Finished Request\n"
     ]
    },
    {
     "ename": "WebDriverException",
     "evalue": "Message: permission denied\n",
     "output_type": "error",
     "traceback": [
      "\u001b[1;31m---------------------------------------------------------------------------\u001b[0m",
      "\u001b[1;31mWebDriverException\u001b[0m                        Traceback (most recent call last)",
      "\u001b[1;32m<ipython-input-7-90cbc0997f82>\u001b[0m in \u001b[0;36m<module>\u001b[1;34m\u001b[0m\n\u001b[1;32m----> 1\u001b[1;33m \u001b[0mtest1\u001b[0m \u001b[1;33m=\u001b[0m \u001b[0mProxyPussyPopper9000\u001b[0m\u001b[1;33m(\u001b[0m\u001b[1;33m)\u001b[0m\u001b[1;33m\u001b[0m\u001b[1;33m\u001b[0m\u001b[0m\n\u001b[0m",
      "\u001b[1;32m<ipython-input-6-860ec0c99444>\u001b[0m in \u001b[0;36m__init__\u001b[1;34m(self)\u001b[0m\n\u001b[0;32m     10\u001b[0m         \u001b[1;31m# SETUP / START DRIVER\u001b[0m\u001b[1;33m\u001b[0m\u001b[1;33m\u001b[0m\u001b[1;33m\u001b[0m\u001b[0m\n\u001b[0;32m     11\u001b[0m         self.driver = self.setup_driver(list_of_proxies=self.proxies, \n\u001b[1;32m---> 12\u001b[1;33m                                    \u001b[0mpath_to_executable\u001b[0m\u001b[1;33m=\u001b[0m\u001b[1;34m\"C:/FireFox/geckodriver.exe\"\u001b[0m\u001b[1;33m\u001b[0m\u001b[1;33m\u001b[0m\u001b[0m\n\u001b[0m\u001b[0;32m     13\u001b[0m                                   )\n\u001b[0;32m     14\u001b[0m         \u001b[1;31m# GO TO WEBSITE TO CHECK PROXY SUCCESS\u001b[0m\u001b[1;33m\u001b[0m\u001b[1;33m\u001b[0m\u001b[1;33m\u001b[0m\u001b[0m\n",
      "\u001b[1;32m<ipython-input-6-860ec0c99444>\u001b[0m in \u001b[0;36msetup_driver\u001b[1;34m(self, list_of_proxies, path_to_executable)\u001b[0m\n\u001b[0;32m     46\u001b[0m             \u001b[1;34m\"proxyType\"\u001b[0m\u001b[1;33m:\u001b[0m\u001b[1;34m\"MANUAL\"\u001b[0m\u001b[1;33m,\u001b[0m\u001b[1;33m\u001b[0m\u001b[1;33m\u001b[0m\u001b[0m\n\u001b[0;32m     47\u001b[0m         }\n\u001b[1;32m---> 48\u001b[1;33m         \u001b[1;32mreturn\u001b[0m \u001b[0mwebdriver\u001b[0m\u001b[1;33m.\u001b[0m\u001b[0mFirefox\u001b[0m\u001b[1;33m(\u001b[0m\u001b[0mexecutable_path\u001b[0m\u001b[1;33m=\u001b[0m\u001b[0mpath_to_executable\u001b[0m\u001b[1;33m)\u001b[0m\u001b[1;33m\u001b[0m\u001b[1;33m\u001b[0m\u001b[0m\n\u001b[0m\u001b[0;32m     49\u001b[0m     \u001b[1;31m#}\u001b[0m\u001b[1;33m\u001b[0m\u001b[1;33m\u001b[0m\u001b[1;33m\u001b[0m\u001b[0m\n\u001b[0;32m     50\u001b[0m \u001b[1;33m\u001b[0m\u001b[0m\n",
      "\u001b[1;32m~\\Miniconda3\\lib\\site-packages\\selenium\\webdriver\\firefox\\webdriver.py\u001b[0m in \u001b[0;36m__init__\u001b[1;34m(self, firefox_profile, firefox_binary, timeout, capabilities, proxy, executable_path, options, service_log_path, firefox_options, service_args, desired_capabilities, log_path, keep_alive)\u001b[0m\n\u001b[0;32m    172\u001b[0m                 \u001b[0mcommand_executor\u001b[0m\u001b[1;33m=\u001b[0m\u001b[0mexecutor\u001b[0m\u001b[1;33m,\u001b[0m\u001b[1;33m\u001b[0m\u001b[1;33m\u001b[0m\u001b[0m\n\u001b[0;32m    173\u001b[0m                 \u001b[0mdesired_capabilities\u001b[0m\u001b[1;33m=\u001b[0m\u001b[0mcapabilities\u001b[0m\u001b[1;33m,\u001b[0m\u001b[1;33m\u001b[0m\u001b[1;33m\u001b[0m\u001b[0m\n\u001b[1;32m--> 174\u001b[1;33m                 keep_alive=True)\n\u001b[0m\u001b[0;32m    175\u001b[0m \u001b[1;33m\u001b[0m\u001b[0m\n\u001b[0;32m    176\u001b[0m         \u001b[1;31m# Selenium remote\u001b[0m\u001b[1;33m\u001b[0m\u001b[1;33m\u001b[0m\u001b[1;33m\u001b[0m\u001b[0m\n",
      "\u001b[1;32m~\\Miniconda3\\lib\\site-packages\\selenium\\webdriver\\remote\\webdriver.py\u001b[0m in \u001b[0;36m__init__\u001b[1;34m(self, command_executor, desired_capabilities, browser_profile, proxy, keep_alive, file_detector, options)\u001b[0m\n\u001b[0;32m    155\u001b[0m             warnings.warn(\"Please use FirefoxOptions to set browser profile\",\n\u001b[0;32m    156\u001b[0m                           DeprecationWarning, stacklevel=2)\n\u001b[1;32m--> 157\u001b[1;33m         \u001b[0mself\u001b[0m\u001b[1;33m.\u001b[0m\u001b[0mstart_session\u001b[0m\u001b[1;33m(\u001b[0m\u001b[0mcapabilities\u001b[0m\u001b[1;33m,\u001b[0m \u001b[0mbrowser_profile\u001b[0m\u001b[1;33m)\u001b[0m\u001b[1;33m\u001b[0m\u001b[1;33m\u001b[0m\u001b[0m\n\u001b[0m\u001b[0;32m    158\u001b[0m         \u001b[0mself\u001b[0m\u001b[1;33m.\u001b[0m\u001b[0m_switch_to\u001b[0m \u001b[1;33m=\u001b[0m \u001b[0mSwitchTo\u001b[0m\u001b[1;33m(\u001b[0m\u001b[0mself\u001b[0m\u001b[1;33m)\u001b[0m\u001b[1;33m\u001b[0m\u001b[1;33m\u001b[0m\u001b[0m\n\u001b[0;32m    159\u001b[0m         \u001b[0mself\u001b[0m\u001b[1;33m.\u001b[0m\u001b[0m_mobile\u001b[0m \u001b[1;33m=\u001b[0m \u001b[0mMobile\u001b[0m\u001b[1;33m(\u001b[0m\u001b[0mself\u001b[0m\u001b[1;33m)\u001b[0m\u001b[1;33m\u001b[0m\u001b[1;33m\u001b[0m\u001b[0m\n",
      "\u001b[1;32m~\\Miniconda3\\lib\\site-packages\\selenium\\webdriver\\remote\\webdriver.py\u001b[0m in \u001b[0;36mstart_session\u001b[1;34m(self, capabilities, browser_profile)\u001b[0m\n\u001b[0;32m    250\u001b[0m         parameters = {\"capabilities\": w3c_caps,\n\u001b[0;32m    251\u001b[0m                       \"desiredCapabilities\": capabilities}\n\u001b[1;32m--> 252\u001b[1;33m         \u001b[0mresponse\u001b[0m \u001b[1;33m=\u001b[0m \u001b[0mself\u001b[0m\u001b[1;33m.\u001b[0m\u001b[0mexecute\u001b[0m\u001b[1;33m(\u001b[0m\u001b[0mCommand\u001b[0m\u001b[1;33m.\u001b[0m\u001b[0mNEW_SESSION\u001b[0m\u001b[1;33m,\u001b[0m \u001b[0mparameters\u001b[0m\u001b[1;33m)\u001b[0m\u001b[1;33m\u001b[0m\u001b[1;33m\u001b[0m\u001b[0m\n\u001b[0m\u001b[0;32m    253\u001b[0m         \u001b[1;32mif\u001b[0m \u001b[1;34m'sessionId'\u001b[0m \u001b[1;32mnot\u001b[0m \u001b[1;32min\u001b[0m \u001b[0mresponse\u001b[0m\u001b[1;33m:\u001b[0m\u001b[1;33m\u001b[0m\u001b[1;33m\u001b[0m\u001b[0m\n\u001b[0;32m    254\u001b[0m             \u001b[0mresponse\u001b[0m \u001b[1;33m=\u001b[0m \u001b[0mresponse\u001b[0m\u001b[1;33m[\u001b[0m\u001b[1;34m'value'\u001b[0m\u001b[1;33m]\u001b[0m\u001b[1;33m\u001b[0m\u001b[1;33m\u001b[0m\u001b[0m\n",
      "\u001b[1;32m~\\Miniconda3\\lib\\site-packages\\selenium\\webdriver\\remote\\webdriver.py\u001b[0m in \u001b[0;36mexecute\u001b[1;34m(self, driver_command, params)\u001b[0m\n\u001b[0;32m    319\u001b[0m         \u001b[0mresponse\u001b[0m \u001b[1;33m=\u001b[0m \u001b[0mself\u001b[0m\u001b[1;33m.\u001b[0m\u001b[0mcommand_executor\u001b[0m\u001b[1;33m.\u001b[0m\u001b[0mexecute\u001b[0m\u001b[1;33m(\u001b[0m\u001b[0mdriver_command\u001b[0m\u001b[1;33m,\u001b[0m \u001b[0mparams\u001b[0m\u001b[1;33m)\u001b[0m\u001b[1;33m\u001b[0m\u001b[1;33m\u001b[0m\u001b[0m\n\u001b[0;32m    320\u001b[0m         \u001b[1;32mif\u001b[0m \u001b[0mresponse\u001b[0m\u001b[1;33m:\u001b[0m\u001b[1;33m\u001b[0m\u001b[1;33m\u001b[0m\u001b[0m\n\u001b[1;32m--> 321\u001b[1;33m             \u001b[0mself\u001b[0m\u001b[1;33m.\u001b[0m\u001b[0merror_handler\u001b[0m\u001b[1;33m.\u001b[0m\u001b[0mcheck_response\u001b[0m\u001b[1;33m(\u001b[0m\u001b[0mresponse\u001b[0m\u001b[1;33m)\u001b[0m\u001b[1;33m\u001b[0m\u001b[1;33m\u001b[0m\u001b[0m\n\u001b[0m\u001b[0;32m    322\u001b[0m             response['value'] = self._unwrap_value(\n\u001b[0;32m    323\u001b[0m                 response.get('value', None))\n",
      "\u001b[1;32m~\\Miniconda3\\lib\\site-packages\\selenium\\webdriver\\remote\\errorhandler.py\u001b[0m in \u001b[0;36mcheck_response\u001b[1;34m(self, response)\u001b[0m\n\u001b[0;32m    240\u001b[0m                 \u001b[0malert_text\u001b[0m \u001b[1;33m=\u001b[0m \u001b[0mvalue\u001b[0m\u001b[1;33m[\u001b[0m\u001b[1;34m'alert'\u001b[0m\u001b[1;33m]\u001b[0m\u001b[1;33m.\u001b[0m\u001b[0mget\u001b[0m\u001b[1;33m(\u001b[0m\u001b[1;34m'text'\u001b[0m\u001b[1;33m)\u001b[0m\u001b[1;33m\u001b[0m\u001b[1;33m\u001b[0m\u001b[0m\n\u001b[0;32m    241\u001b[0m             \u001b[1;32mraise\u001b[0m \u001b[0mexception_class\u001b[0m\u001b[1;33m(\u001b[0m\u001b[0mmessage\u001b[0m\u001b[1;33m,\u001b[0m \u001b[0mscreen\u001b[0m\u001b[1;33m,\u001b[0m \u001b[0mstacktrace\u001b[0m\u001b[1;33m,\u001b[0m \u001b[0malert_text\u001b[0m\u001b[1;33m)\u001b[0m\u001b[1;33m\u001b[0m\u001b[1;33m\u001b[0m\u001b[0m\n\u001b[1;32m--> 242\u001b[1;33m         \u001b[1;32mraise\u001b[0m \u001b[0mexception_class\u001b[0m\u001b[1;33m(\u001b[0m\u001b[0mmessage\u001b[0m\u001b[1;33m,\u001b[0m \u001b[0mscreen\u001b[0m\u001b[1;33m,\u001b[0m \u001b[0mstacktrace\u001b[0m\u001b[1;33m)\u001b[0m\u001b[1;33m\u001b[0m\u001b[1;33m\u001b[0m\u001b[0m\n\u001b[0m\u001b[0;32m    243\u001b[0m \u001b[1;33m\u001b[0m\u001b[0m\n\u001b[0;32m    244\u001b[0m     \u001b[1;32mdef\u001b[0m \u001b[0m_value_or_default\u001b[0m\u001b[1;33m(\u001b[0m\u001b[0mself\u001b[0m\u001b[1;33m,\u001b[0m \u001b[0mobj\u001b[0m\u001b[1;33m,\u001b[0m \u001b[0mkey\u001b[0m\u001b[1;33m,\u001b[0m \u001b[0mdefault\u001b[0m\u001b[1;33m)\u001b[0m\u001b[1;33m:\u001b[0m\u001b[1;33m\u001b[0m\u001b[1;33m\u001b[0m\u001b[0m\n",
      "\u001b[1;31mWebDriverException\u001b[0m: Message: permission denied\n"
     ]
    }
   ],
   "source": [
    "test1 = ProxyPussyPopper9000()"
   ]
  },
  {
   "cell_type": "code",
   "execution_count": null,
   "metadata": {},
   "outputs": [],
   "source": []
  },
  {
   "cell_type": "code",
   "execution_count": null,
   "metadata": {},
   "outputs": [],
   "source": []
  },
  {
   "cell_type": "code",
   "execution_count": null,
   "metadata": {},
   "outputs": [],
   "source": []
  },
  {
   "cell_type": "code",
   "execution_count": null,
   "metadata": {},
   "outputs": [],
   "source": []
  },
  {
   "cell_type": "code",
   "execution_count": null,
   "metadata": {},
   "outputs": [],
   "source": []
  },
  {
   "cell_type": "code",
   "execution_count": null,
   "metadata": {},
   "outputs": [],
   "source": []
  },
  {
   "cell_type": "code",
   "execution_count": null,
   "metadata": {},
   "outputs": [],
   "source": []
  },
  {
   "cell_type": "code",
   "execution_count": null,
   "metadata": {},
   "outputs": [],
   "source": []
  },
  {
   "cell_type": "code",
   "execution_count": null,
   "metadata": {},
   "outputs": [],
   "source": []
  },
  {
   "cell_type": "code",
   "execution_count": null,
   "metadata": {},
   "outputs": [],
   "source": []
  },
  {
   "cell_type": "code",
   "execution_count": null,
   "metadata": {},
   "outputs": [],
   "source": []
  },
  {
   "cell_type": "raw",
   "metadata": {
    "raw_mimetype": "text/x-python"
   },
   "source": [
    "def get_proxy(): #{\n",
    "    url = \"https://www.sslproxies.org\"\n",
    "    r = requests.get(url)\n",
    "    soup = BeautifulSoup(r.content, 'html5lib')\n",
    "    return {'https': choice(list(map(lambda x:x[0]+':'+x[1], list(zip(map(lambda x:x.text, soup.findAll('td')[::8]), \n",
    "                                     map(lambda x:x.text, soup.findAll('td')[1::8]))))))}\n",
    "#}"
   ]
  },
  {
   "cell_type": "code",
   "execution_count": null,
   "metadata": {},
   "outputs": [],
   "source": [
    "get_proxy()"
   ]
  },
  {
   "cell_type": "code",
   "execution_count": null,
   "metadata": {},
   "outputs": [],
   "source": [
    "def proxy_request(request_type, url, **kwargs): #{\n",
    "    while 1: #{\n",
    "        try: #{\n",
    "            proxy = get_proxy()\n",
    "            print(\"Using proxy: {}\".format(proxy))\n",
    "            r = requests.request(request_type, url, proxies=proxy, timeout=5, **kwargs)\n",
    "            break\n",
    "        #}\n",
    "        except: #{\n",
    "            pass\n",
    "        #}\n",
    "    #}\n",
    "    return r\n",
    "#}"
   ]
  },
  {
   "cell_type": "code",
   "execution_count": null,
   "metadata": {},
   "outputs": [],
   "source": [
    "r = proxy_request('get', \"https://youtube.com\")"
   ]
  },
  {
   "cell_type": "code",
   "execution_count": null,
   "metadata": {
    "scrolled": true
   },
   "outputs": [],
   "source": [
    "r.text"
   ]
  },
  {
   "cell_type": "code",
   "execution_count": null,
   "metadata": {},
   "outputs": [],
   "source": [
    "url = \"https://www.sslproxies.org\"\n",
    "r = requests.get(url)\n",
    "soup = BeautifulSoup(r.content, 'html5lib')\n",
    "soup.findAll('td')[::8]"
   ]
  },
  {
   "cell_type": "code",
   "execution_count": null,
   "metadata": {},
   "outputs": [],
   "source": []
  }
 ],
 "metadata": {
  "celltoolbar": "Raw Cell Format",
  "kernelspec": {
   "display_name": "Python 3",
   "language": "python",
   "name": "python3"
  },
  "language_info": {
   "codemirror_mode": {
    "name": "ipython",
    "version": 3
   },
   "file_extension": ".py",
   "mimetype": "text/x-python",
   "name": "python",
   "nbconvert_exporter": "python",
   "pygments_lexer": "ipython3",
   "version": "3.7.3"
  }
 },
 "nbformat": 4,
 "nbformat_minor": 4
}
