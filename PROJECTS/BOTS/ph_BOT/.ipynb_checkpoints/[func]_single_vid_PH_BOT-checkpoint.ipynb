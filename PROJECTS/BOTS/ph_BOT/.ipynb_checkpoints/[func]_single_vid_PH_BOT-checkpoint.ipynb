{
 "cells": [
  {
   "cell_type": "code",
   "execution_count": 1,
   "metadata": {},
   "outputs": [],
   "source": [
    "import os, sys, time\n",
    "from time import sleep\n",
    "from pathlib import Path\n",
    "from bs4 import BeautifulSoup\n",
    "from random import choice, randint\n",
    "import fnmatch, requests, logging\n",
    "import threading\n",
    "#from threading import Timer"
   ]
  },
  {
   "cell_type": "code",
   "execution_count": 2,
   "metadata": {},
   "outputs": [],
   "source": [
    "import pandas as pd\n",
    "import numpy as np\n",
    "from pandas import Series, DataFrame"
   ]
  },
  {
   "cell_type": "code",
   "execution_count": 3,
   "metadata": {},
   "outputs": [],
   "source": [
    "from selenium import webdriver"
   ]
  },
  {
   "cell_type": "code",
   "execution_count": 4,
   "metadata": {},
   "outputs": [],
   "source": [
    "import pyautogui"
   ]
  },
  {
   "cell_type": "code",
   "execution_count": 5,
   "metadata": {},
   "outputs": [],
   "source": [
    "class SingleVideoLooper(): #{\n",
    "    \n",
    "    def __init__(self, the_driver, the_url): #{\n",
    "        # [2019-11-11]\\\\self.the_driver = the_driver\n",
    "        # USE DRIVER THAT WAS INPUT FOR ALL CLASS FUNCTIONS\n",
    "        self.driver = the_driver\n",
    "        self.the_url = the_url\n",
    "        self.setup_logger(str(pd.Timestamp.now())[:10])\n",
    "        # [2019-11-10]\n",
    "        \"\"\"\n",
    "        # Create WEBDRIVER object\n",
    "        self.driver = webdriver.Chrome()\n",
    "        self.driver.set_window_position(125,125)\n",
    "        self.driver.maximize_window()\n",
    "        pyautogui.moveTo(x=250, y=250, duration=1.0)\n",
    "        \"\"\"\n",
    "        ################3################\n",
    "        # HANDLE MULTIPLE WINDOWES HERE #\n",
    "        #################################\n",
    "    #}\n",
    "    \n",
    "    def setup_logger(self, date_str): #{\n",
    "        logging.basicConfig(level=logging.INFO,\n",
    "                           format='%(asctime)s:%(message)s',\n",
    "                           filename='C:/data/Logs/ph-SingleVideoLoop-' \n",
    "                            + date_str \n",
    "                            + '.log',\n",
    "                           mode='a')\n",
    "        #}\n",
    "    #}\n",
    "    \n",
    "    def countdown(self, n): #{\n",
    "        while n >= 0: #{\n",
    "            logging.debug(str(n))\n",
    "            sleep(1)\n",
    "            n -= 1\n",
    "        #}\n",
    "        else: #{\n",
    "            print(\"blast off!\")\n",
    "        #}\n",
    "    #}\n",
    "    \n",
    "    def get_video_count(self, url): #{\n",
    "        # CREATE NEW VAR FOR RETURN\n",
    "        counts = []\n",
    "        # GET REQUEST FROM URL LINK\n",
    "        r = requests.get(url)\n",
    "        # set request to text\n",
    "        data = r.text\n",
    "        # CREATE SEXY SOUP OBJECT\n",
    "        soup = BeautifulSoup(data)\n",
    "        count_list = soup.find_all('span', {'class':'count'})\n",
    "        \n",
    "        for count in count_list: #{\n",
    "            print(count.get_text())\n",
    "            counts.append(str(count.get_text()))\n",
    "        #}\n",
    "        # RETURN LIST OF COUNTS\n",
    "        return str(counts[0])\n",
    "    #}\n",
    "    \n",
    "    def start_loop(self, loop_count, watch_duration): #{\n",
    "        # GET TIMESTAMP FOR \"start time\"\n",
    "        time_start = pd.Timestamp.now()\n",
    "        #############################\n",
    "        # GET PARENT WINDOW\n",
    "        parent_window = self.driver.current_window_handle\n",
    "        print(\"PARENT WINDOW == \" + str(parent_window))\n",
    "        # GET VIDEO VIEW COUNT (via request)\n",
    "        current_count = self.get_video_count(self.the_url)\n",
    "        ##############################\n",
    "        # OPPEN URL IN CHILD WINDOW\n",
    "        self.driver.execute_script(\"window.open('\" \n",
    "                                   + str(self.the_url) \n",
    "                                   + \"')\" )\n",
    "        # VISIT URL / WEB PAGE\n",
    "        # [2019-11-11]\\\\self.driver.get(self.the_url)\n",
    "        # GET LIST OF ALL WINDOWS OPENE (PARENT + CHILD)\n",
    "        all_windows = self.driver.window_handles\n",
    "        # GET CHILD WINDOW\n",
    "        child_window = [window for window in all_windows if window != parent_window][0]\n",
    "        # SWITCH TO CHILD WINDOW\n",
    "        self.driver.switch_to.window(child_window)\n",
    "        # set WEBDRIVER to SITE LINK\n",
    "        current_title = str(self.driver.title)\n",
    "        # log video title & COUNT:\n",
    "        logging.info(\"\\n\\t [TITLE] :\\n\\t\\t\" \n",
    "                     + current_title \n",
    "                     + \"\\n\\t [COUNT] :\\n\\t\\t\" \n",
    "                     + current_count\n",
    "                    )\n",
    "        \n",
    "        print(\">>> watching...\\n\" + str(self.driver.title) + \"...\")\n",
    "        while loop_count > 0: #{\n",
    "            print(\"LOOP COUNT == \" + str(loop_count))\n",
    "            # WATCH VIDEO\n",
    "            self.countdown(watch_duration)\n",
    "            # REFRESH PAGE\n",
    "            self.driver.refresh()\n",
    "            print(\"...REFRESHED page...\")\n",
    "            # DECREMENT WATCH COUNT\n",
    "            loop_count -= 1\n",
    "        #}\n",
    "        else: #{\n",
    "            # GET TIMESTAMP FOR \"end time\"\n",
    "            time_end = pd.Timestamp.now()\n",
    "            # DETERMINE RUN TIME\n",
    "            run_time = time_end - time_start\n",
    "            print(\"RUN-TIME == \" + str(run_time))\n",
    "            # CLOSE CHILD WINDOW\n",
    "            driver.close()\n",
    "            # SWITCH BACK TO PARENT WINDOW\n",
    "            driver.switch_to.window(parent_window)\n",
    "            ##print(\"SWITCH BACK TO...\" + str(driver.title))\n",
    "        #}\n",
    "    #}\n",
    "    \n",
    "#}"
   ]
  },
  {
   "cell_type": "code",
   "execution_count": 6,
   "metadata": {},
   "outputs": [
    {
     "name": "stdout",
     "output_type": "stream",
     "text": [
      "driver setup... SUCCESS!\n",
      "failed! you suck!\n"
     ]
    }
   ],
   "source": [
    "if __name__ == \"__main__\": #{\n",
    "    # TRY THE FOLLOWING:\n",
    "    try: #{\n",
    "        # SETUP DRIVER TO BE FED TO CLASS(ES)\n",
    "        driver = webdriver.Chrome()\n",
    "        driver.set_window_position(125,125)\n",
    "        driver.maximize_window()\n",
    "        pyautogui.moveTo(x=1215, y=875, duration=1.0)\n",
    "        pyautogui.click()\n",
    "        # GO TO LANDING PAGE (await commands)\n",
    "        driver.get(\"http://www.pornhub.com/video\")\n",
    "    #}\n",
    "    except: #{\n",
    "        print(\"FAILED SETTING UP DRIVER\")\n",
    "    #}\n",
    "    else: #{\n",
    "        print(\"driver setup... SUCCESS!\")\n",
    "    #}\n",
    "    # TRY THE FOLLOWING:\n",
    "    try: #{\n",
    "        a1 = SingleVideoLooper(the_driver=driver,\n",
    "                               the_url=\"https://www.pornhub.com/view_video.php?viewkey=ph5d8308fb9eca8\"\n",
    "                              )\n",
    "        a1.start_loop(loop_count=5, watch_duration=randint(60, 120))\n",
    "        a = SingleVideoLooper(the_driver=driver,\n",
    "                              the_url=\"https://www.pornhub.com/view_video.php?viewkey=ph5d71ede7a1bb9\"\n",
    "                             )\n",
    "        a.start_loop(loop_count=3,  watch_duration=randint(60, 200))\n",
    "        b1 = SingleVideoLooper(the_driver=driver,\n",
    "                               the_url=\"https://www.pornhub.com/view_video.php?viewkey=ph5d08836ad7322\"\n",
    "                              )\n",
    "        b1.start_loop(looo_count=2, watch_duration=randint(30, 90))\n",
    "        b = SingleVideoLooper(the_driver=driver,\n",
    "                              the_url=\"https://www.pornhub.com/view_video.php?viewkey=ph5d22824e4bd08\"\n",
    "                             )\n",
    "        b.start_loop(loop_count=3, watch_duration=randint(1, 38))\n",
    "        c = SingleVideoLooper(the_driver=driver,\n",
    "                              the_url=\"https://www.pornhub.com/view_video.php?viewkey=ph5c7a4145d18eb\"\n",
    "                             )\n",
    "        c.start_loop(loop_count=5, watch_duration=randint(60, 120))\n",
    "        d1 = SingleVideoLooper(the_driver=driver,\n",
    "                               the_url=\"https://www.pornhub.com/view_video.php?viewkey=ph5d5781d40496c\"\n",
    "                              )\n",
    "        d1.start_loop(loop_count=1, watch_duration=randint(60, 180))\n",
    "    #}\n",
    "    except: #{\n",
    "        print(\"failed! you suck!\")\n",
    "    #}\n",
    "    else: #{\n",
    "        pass\n",
    "    #}\n",
    "    finally: #{\n",
    "        pass\n",
    "    #}\n",
    "#}"
   ]
  },
  {
   "cell_type": "markdown",
   "metadata": {},
   "source": [
    "---\n",
    "# *scrap*"
   ]
  },
  {
   "cell_type": "code",
   "execution_count": 7,
   "metadata": {},
   "outputs": [],
   "source": [
    "def get_video_count(url): #{\n",
    "    # CREATE NEW VAR FOR RETURN\n",
    "    counts = []\n",
    "    # GET REQUEST FROM URL LINK\n",
    "    r = requests.get(url)\n",
    "    # set request to text\n",
    "    data = r.text\n",
    "    # CREATE SEXY SOUP OBJECT\n",
    "    soup = BeautifulSoup(data)\n",
    "    count_list = soup.find_all('span', {'class':'count'})\n",
    "    \n",
    "    for count in count_list: #{\n",
    "        print(count.get_text())\n",
    "        counts.append(str(count.get_text()))\n",
    "    #}\n",
    "    # RETURN LIST OF COUNTS\n",
    "    return str(counts[0])\n",
    "#}"
   ]
  },
  {
   "cell_type": "code",
   "execution_count": 8,
   "metadata": {},
   "outputs": [
    {
     "name": "stdout",
     "output_type": "stream",
     "text": [
      "19,012\n"
     ]
    }
   ],
   "source": [
    "test_list = get_video_count(\"https://www.pornhub.com/view_video.php?viewkey=ph5d71ede7a1bb9\")"
   ]
  },
  {
   "cell_type": "code",
   "execution_count": 9,
   "metadata": {},
   "outputs": [
    {
     "name": "stdout",
     "output_type": "stream",
     "text": [
      "480,878\n"
     ]
    }
   ],
   "source": [
    "test_list = get_video_count(\"https://www.pornhub.com/view_video.php?viewkey=ph5d22824e4bd08\")"
   ]
  },
  {
   "cell_type": "code",
   "execution_count": 10,
   "metadata": {},
   "outputs": [
    {
     "data": {
      "text/plain": [
       "str"
      ]
     },
     "execution_count": 10,
     "metadata": {},
     "output_type": "execute_result"
    }
   ],
   "source": [
    "type(test_list)"
   ]
  },
  {
   "cell_type": "code",
   "execution_count": null,
   "metadata": {},
   "outputs": [],
   "source": []
  }
 ],
 "metadata": {
  "kernelspec": {
   "display_name": "Python 3",
   "language": "python",
   "name": "python3"
  },
  "language_info": {
   "codemirror_mode": {
    "name": "ipython",
    "version": 3
   },
   "file_extension": ".py",
   "mimetype": "text/x-python",
   "name": "python",
   "nbconvert_exporter": "python",
   "pygments_lexer": "ipython3",
   "version": "3.7.3"
  }
 },
 "nbformat": 4,
 "nbformat_minor": 4
}
