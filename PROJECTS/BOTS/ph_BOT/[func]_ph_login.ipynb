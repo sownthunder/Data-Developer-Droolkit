{
 "cells": [
  {
   "cell_type": "code",
   "execution_count": 1,
   "metadata": {},
   "outputs": [],
   "source": [
    "import os, sys, time\n",
    "from time import sleep"
   ]
  },
  {
   "cell_type": "code",
   "execution_count": 9,
   "metadata": {},
   "outputs": [],
   "source": [
    "from random import choice\n",
    "import logging"
   ]
  },
  {
   "cell_type": "code",
   "execution_count": 2,
   "metadata": {},
   "outputs": [],
   "source": [
    "from selenium import webdriver\n",
    "from selenium.webdriver.common.by import By\n",
    "from selenium.common.exceptions import NoSuchElementException"
   ]
  },
  {
   "cell_type": "raw",
   "metadata": {
    "raw_mimetype": "text/x-python"
   },
   "source": [
    "def setup_logger(): #{\n",
    "    # TRY THE FOLLOWING:\n",
    "    try: #{\n",
    "        logging.basicConfig(level=logging.INFO,\n",
    "                           )\n",
    "    #}\n",
    "    }"
   ]
  },
  {
   "cell_type": "code",
   "execution_count": 3,
   "metadata": {},
   "outputs": [],
   "source": [
    "def ph_login(the_driver): #{\n",
    "    # NAVIGATE TO SITE\n",
    "    the_driver.get(\"http://www.pornhub.com/\")\n",
    "    sleep(2)\n",
    "    # GET LOGIN ELEMENT\n",
    "    login_elm = the_driver.find_element_by_link_text(\"Login\")\n",
    "    # PRESS ELEMENT\n",
    "    login_elm.click()\n",
    "    sleep(2)\n",
    "    #################################\n",
    "    # TRY FOR THE USERNAME BOX\n",
    "    try: #{\n",
    "        # GET USERNAME BOX\n",
    "        username_box = the_driver.find_element_by_id(\"username\")\n",
    "    #}\n",
    "    except NoSuchElementException: #{\n",
    "        print(\"...noSuchElement == username...\")\n",
    "        username_box = the_driver.find_element_by_id(\"usernameModal\")\n",
    "        # SEND KEYS\n",
    "        username_box.send_keys(\"hkdoesplay\")\n",
    "        sleep(2)\n",
    "    #}\n",
    "    else: #{\n",
    "        # SEND KEYS\n",
    "        username_box.send_keys(\"hkdoesplay\")\n",
    "        sleep(2)\n",
    "    #}\n",
    "    ###############################\n",
    "    ################################\n",
    "    # TRY FOR THE PASSWORD BOX\n",
    "    try: #{\n",
    "        # GET PASSWORD BOX\n",
    "        password_box = the_driver.find_element_by_id(\"password\")\n",
    "        #}\n",
    "    except NoSuchElementException: #{\n",
    "        print(\"...BACKUP initiated...\")\n",
    "        password_box = the_driver.find_element_by_id(\"passwordModal\")\n",
    "        # SEND KEYS\n",
    "        password_box.send_keys(\"Natick775\")\n",
    "        sleep(2)\n",
    "    #}\n",
    "    else: #{\n",
    "        # SEND KEYS\n",
    "        password_box.send_keys(\"Natick775\")\n",
    "        sleep(2)\n",
    "    #}\n",
    "    ################################\n",
    "    # GET SIGNIN BOX\n",
    "    try: #{\n",
    "        sign_in = the_driver.find_element_by_id(\"submit\")\n",
    "    #}\n",
    "    except NoSuchElementException: #{\n",
    "        print(\"...BACKUP initiated...\")\n",
    "        sign_in = the_driver.find_element_by_id(\"signinSubmit\")\n",
    "        # CLICK LOGIN BUTTON\n",
    "        sign_in.click()\n",
    "        sleep(2)\n",
    "    #}\n",
    "    else: #{\n",
    "        # CLICK LOGIN BUTTON\n",
    "        sign_in.click()\n",
    "        sleep(2)\n",
    "    #}\n",
    "#}"
   ]
  },
  {
   "cell_type": "markdown",
   "metadata": {},
   "source": [
    "7.5. Locate elements By\n",
    "These are the attributes which can be used to locate elements.\n",
    "\n",
    "See the Locating Elements chapter for example usages.\n",
    "\n",
    "The By implementation.\n",
    "\n",
    "class selenium.webdriver.common.by.By\n",
    "\n",
    "Bases: object\n",
    "\n",
    "Set of supported locator strategies.\n",
    "\n",
    "- CLASS_NAME = 'class name'\n",
    "- CSS_SELECTOR = 'css selector'\n",
    "- ID = 'id'\n",
    "- LINK_TEXT = 'link text'\n",
    "- NAME = 'name'\n",
    "- PARTIAL_LINK_TEXT = 'partial link text'\n",
    "- TAG_NAME = 'tag name'\n",
    "- XPATH = 'xpath'\n",
    "\n",
    "---\n",
    "\n",
    "# [find_element_by_id](https://pythonbasics.org/selenium_find_element/)\n",
    "\n",
    "# [selenium_screenshot](https://pythonbasics.org/selenium_screenshot/)\n",
    "\n"
   ]
  },
  {
   "cell_type": "code",
   "execution_count": 4,
   "metadata": {},
   "outputs": [],
   "source": [
    "def selenium_titles(the_driver): #{\n",
    "    # RE-INSTANTIATE GLOBALS\n",
    "    global link_list\n",
    "    # CREATE ELEMENTS VARIABLE\n",
    "    items = driver.find_elements(By.CLASS_NAME, 'title')\n",
    "    for item in items: #{\n",
    "        # [2019-11-19]\\\\print(item.text)\n",
    "        if str(item.text) != \"\": #{\n",
    "            print(item.text)\n",
    "            link_list.append(str(item.text))\n",
    "        #}\n",
    "    #}   \n",
    "#}"
   ]
  },
  {
   "cell_type": "code",
   "execution_count": 5,
   "metadata": {},
   "outputs": [],
   "source": [
    "def tear_down(the_driver): #{\n",
    "    the_driver.quit()\n",
    "#}"
   ]
  },
  {
   "cell_type": "code",
   "execution_count": 6,
   "metadata": {},
   "outputs": [
    {
     "name": "stdout",
     "output_type": "stream",
     "text": [
      "...noSuchElement == username...\n",
      "...BACKUP initiated...\n",
      "...BACKUP initiated...\n",
      "Hot Asian MILF Marica Hase Gets Her Hairy Pussy Fucked & Takes Messy Facial\n",
      "Babe Hawaiian Model Lilo Mai's very first Pro Video shoot! Nervous!\n",
      "PropertySex Super Hot Brunette with Big Natural Tits Fucks Roommate\n",
      "Bratty Sis - StepSis Gets More Cock Then Candy This Halloween S11:E9\n",
      "Kate Bloom Ask's Her Step Siblings For Hot Threesome\n",
      "Cute Southern Bell Cheats On Her Boyfriend Gets CREAMPIED!\n",
      "Blonde girl with perfect body teasing you\n",
      "GirlGirl - Peeping on My Neighbor\n",
      "Twistys - Hot petite Riley Reid & Jill Kassidy plays with each other pussy\n",
      "AllGirlMassage Squirting Stretch\n",
      "AllGirlMassage Tribbing Tension Angela White & Keisha Grey\n",
      "I prefer doggystyle before meeting with my friends\n",
      "Public Fun Fast fuck in arse with cumshot 4k\n",
      "Sex on the Beach! We let a fan Watch - Nudist Amateur MySweetApple\n",
      "Teen girl sweetly sucks cock and takes cum on tongue - close up, red lips\n",
      "Real sex with my friends little sister PABG. Phat Ass Black Girl rides dick\n",
      "lazy morning sex with cute teen blonde // Dom and Pat\n",
      "She Talks Dirty As She Orgasms UpClose\n",
      "Close Up Pee Fetish\n",
      "Anal inspectors hear Tiffany Doll and Cristine Akira Lee scream during orgy\n",
      "Sweet teen Evelina Darling loves to swallow dude's big veiny cock in bed\n",
      "Hot stunner Simony Diamond gets fucked in pussy and ass by detectives\n",
      "Anal creampie masterpiece with horny babe Athina and leggy Samantha Joons\n",
      "BANGBROS - Tali Dova Taking Big Black Dick From Her Subordinate Ricky Johns\n",
      "Skylar Snow needs a hard dick to suck fuck\n",
      "SexyHub - Two cuties eating and fingering each other's pussy\n",
      "MUMS OUT So Look At My PUSSY & WANK Your BIG DICK!\n",
      "Sharing wife with a friend FULL 1 hour\n",
      "Perfect boobs on Diana\n",
      "Raven Hart Uses Stepson To Get Revenge On Cheating Husband\n",
      "Memphis Monroe - Rockin' with Memphis masturbation, toys and orgasm\n",
      "gabby bella seductress in lingerie dirty fingering rfo\n",
      "Lucky Fan Gets a Handjob!\n",
      "GirlfriendsFilms, Foot Play& Tribbing\n",
      "SexyHub - Gorgeous girls having threesome with yoga instructor\n",
      "RealityKings - Petite Yoga teacher Vanessa Sparks gets fucked by JMac\n",
      "ANAL CREAMPIE MY STEP-SISTER! Holly Michael Lets Her BF Cum Inside Teen Sis\n",
      "College Ebony Girl Get Fuck By Her Fantasies Bbc Varsity\n",
      "Super Sluts Valentina Nappi & Kenzie Taylor Fucking their Neighbor in 4K\n",
      "RealityKings - Sexy babes Shae Summers & Alli Rae eat each others pussy\n",
      "RealityKings - Gigi Loren gets some money to get fucked in a garage\n",
      "Skinny White Girls First Big Black Cock\n",
      "RealityKings - Horny Yara Skye wants to play with his boyfriend's cock\n",
      "Twistys - Super hot babes Jaclyn Taylor & Ayumi Anime have fun\n",
      "Twistys - Hot milf Aubrey & hot babe Gracie enjoys each other\n",
      "Twistys - Adria Rae having fun with her stepmom Celeste Star on the counter\n",
      "Twistys - Milf Julia Ann goes down on teen Joseline Kelly's trimmed pussy\n",
      "RealityKings - Alea Love shares her hot body in the shower\n",
      "Daredorm - BF records his sexy GF Emma for payback\n",
      "RealityKings - Cuties wash a car and then had a threesome in the car-park\n",
      "Daredorm - Petite teen Alice gets pounded by a big cock on a sextape\n",
      "Hot Asian MILF Marica Hase Gets Her Hairy Pussy Fucked & Takes Messy Facial\n",
      "Adorable Blonde Anya Olsen Enjoys Getting Her Pussy Pounded By Tennis Coach\n",
      "Haley Reed Deepthroats & Gets Her Teen Pussy Fucked Rough Outdoors\n",
      "Insatiable Art Intern Elena Koshka Begs To Get Fucked Hard & Creampied\n",
      "Adriana Chechik put her soft lips on the tip of your throbbing hard cock\n",
      "Enjoy watching Ariana Marie go balls deep on your dick\n",
      "Information\n",
      "Work With Us\n",
      "Support and Help\n",
      "Discover\n"
     ]
    }
   ],
   "source": [
    "if __name__ == \"__main__\": #{\n",
    "    # INSTANTIATE GLOBAL VARIABLES\n",
    "    link_list = []\n",
    "    # SETUP DRIVER\n",
    "    driver = webdriver.Chrome()\n",
    "    # LOGIN TO SITE\n",
    "    ph_login(the_driver=driver)\n",
    "    # TEST PRINTING TITLES\n",
    "    selenium_titles(the_driver=driver)\n",
    "    # QUIT DRIVER\n",
    "    tear_down(the_driver=driver)\n",
    "#}"
   ]
  },
  {
   "cell_type": "code",
   "execution_count": 8,
   "metadata": {},
   "outputs": [
    {
     "data": {
      "text/plain": [
       "['Hot Asian MILF Marica Hase Gets Her Hairy Pussy Fucked & Takes Messy Facial',\n",
       " \"Babe Hawaiian Model Lilo Mai's very first Pro Video shoot! Nervous!\",\n",
       " 'PropertySex Super Hot Brunette with Big Natural Tits Fucks Roommate',\n",
       " 'Bratty Sis - StepSis Gets More Cock Then Candy This Halloween S11:E9',\n",
       " \"Kate Bloom Ask's Her Step Siblings For Hot Threesome\",\n",
       " 'Cute Southern Bell Cheats On Her Boyfriend Gets CREAMPIED!',\n",
       " 'Blonde girl with perfect body teasing you',\n",
       " 'GirlGirl - Peeping on My Neighbor',\n",
       " 'Twistys - Hot petite Riley Reid & Jill Kassidy plays with each other pussy',\n",
       " 'AllGirlMassage Squirting Stretch',\n",
       " 'AllGirlMassage Tribbing Tension Angela White & Keisha Grey',\n",
       " 'I prefer doggystyle before meeting with my friends',\n",
       " 'Public Fun Fast fuck in arse with cumshot 4k',\n",
       " 'Sex on the Beach! We let a fan Watch - Nudist Amateur MySweetApple',\n",
       " 'Teen girl sweetly sucks cock and takes cum on tongue - close up, red lips',\n",
       " 'Real sex with my friends little sister PABG. Phat Ass Black Girl rides dick',\n",
       " 'lazy morning sex with cute teen blonde // Dom and Pat',\n",
       " 'She Talks Dirty As She Orgasms UpClose',\n",
       " 'Close Up Pee Fetish',\n",
       " 'Anal inspectors hear Tiffany Doll and Cristine Akira Lee scream during orgy',\n",
       " \"Sweet teen Evelina Darling loves to swallow dude's big veiny cock in bed\",\n",
       " 'Hot stunner Simony Diamond gets fucked in pussy and ass by detectives',\n",
       " 'Anal creampie masterpiece with horny babe Athina and leggy Samantha Joons',\n",
       " 'BANGBROS - Tali Dova Taking Big Black Dick From Her Subordinate Ricky Johns',\n",
       " 'Skylar Snow needs a hard dick to suck fuck',\n",
       " \"SexyHub - Two cuties eating and fingering each other's pussy\",\n",
       " 'MUMS OUT So Look At My PUSSY & WANK Your BIG DICK!',\n",
       " 'Sharing wife with a friend FULL 1 hour',\n",
       " 'Perfect boobs on Diana',\n",
       " 'Raven Hart Uses Stepson To Get Revenge On Cheating Husband',\n",
       " \"Memphis Monroe - Rockin' with Memphis masturbation, toys and orgasm\",\n",
       " 'gabby bella seductress in lingerie dirty fingering rfo',\n",
       " 'Lucky Fan Gets a Handjob!',\n",
       " 'GirlfriendsFilms, Foot Play& Tribbing',\n",
       " 'SexyHub - Gorgeous girls having threesome with yoga instructor',\n",
       " 'RealityKings - Petite Yoga teacher Vanessa Sparks gets fucked by JMac',\n",
       " 'ANAL CREAMPIE MY STEP-SISTER! Holly Michael Lets Her BF Cum Inside Teen Sis',\n",
       " 'College Ebony Girl Get Fuck By Her Fantasies Bbc Varsity',\n",
       " 'Super Sluts Valentina Nappi & Kenzie Taylor Fucking their Neighbor in 4K',\n",
       " 'RealityKings - Sexy babes Shae Summers & Alli Rae eat each others pussy',\n",
       " 'RealityKings - Gigi Loren gets some money to get fucked in a garage',\n",
       " 'Skinny White Girls First Big Black Cock',\n",
       " \"RealityKings - Horny Yara Skye wants to play with his boyfriend's cock\",\n",
       " 'Twistys - Super hot babes Jaclyn Taylor & Ayumi Anime have fun',\n",
       " 'Twistys - Hot milf Aubrey & hot babe Gracie enjoys each other',\n",
       " 'Twistys - Adria Rae having fun with her stepmom Celeste Star on the counter',\n",
       " \"Twistys - Milf Julia Ann goes down on teen Joseline Kelly's trimmed pussy\",\n",
       " 'RealityKings - Alea Love shares her hot body in the shower',\n",
       " 'Daredorm - BF records his sexy GF Emma for payback',\n",
       " 'RealityKings - Cuties wash a car and then had a threesome in the car-park',\n",
       " 'Daredorm - Petite teen Alice gets pounded by a big cock on a sextape',\n",
       " 'Hot Asian MILF Marica Hase Gets Her Hairy Pussy Fucked & Takes Messy Facial',\n",
       " 'Adorable Blonde Anya Olsen Enjoys Getting Her Pussy Pounded By Tennis Coach',\n",
       " 'Haley Reed Deepthroats & Gets Her Teen Pussy Fucked Rough Outdoors',\n",
       " 'Insatiable Art Intern Elena Koshka Begs To Get Fucked Hard & Creampied',\n",
       " 'Adriana Chechik put her soft lips on the tip of your throbbing hard cock',\n",
       " 'Enjoy watching Ariana Marie go balls deep on your dick']"
      ]
     },
     "execution_count": 8,
     "metadata": {},
     "output_type": "execute_result"
    }
   ],
   "source": [
    "# SPLICE THE LIST\n",
    "link_list[:-4]"
   ]
  },
  {
   "cell_type": "code",
   "execution_count": 12,
   "metadata": {},
   "outputs": [
    {
     "name": "stdout",
     "output_type": "stream",
     "text": [
      "RealityKings - Gigi Loren gets some money to get fucked in a garage\n"
     ]
    }
   ],
   "source": [
    "# DISPLAY RANDOM LINK FORM LIST\n",
    "print(choice(link_list[:-4]))"
   ]
  },
  {
   "cell_type": "code",
   "execution_count": null,
   "metadata": {},
   "outputs": [],
   "source": []
  },
  {
   "cell_type": "code",
   "execution_count": null,
   "metadata": {},
   "outputs": [],
   "source": []
  }
 ],
 "metadata": {
  "celltoolbar": "Raw Cell Format",
  "kernelspec": {
   "display_name": "Python 3",
   "language": "python",
   "name": "python3"
  },
  "language_info": {
   "codemirror_mode": {
    "name": "ipython",
    "version": 3
   },
   "file_extension": ".py",
   "mimetype": "text/x-python",
   "name": "python",
   "nbconvert_exporter": "python",
   "pygments_lexer": "ipython3",
   "version": "3.7.3"
  }
 },
 "nbformat": 4,
 "nbformat_minor": 2
}
