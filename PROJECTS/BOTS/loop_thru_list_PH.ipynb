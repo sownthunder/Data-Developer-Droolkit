{
 "cells": [
  {
   "cell_type": "code",
   "execution_count": 19,
   "metadata": {},
   "outputs": [],
   "source": [
    "import os, sys, time\n",
    "from time import sleep\n",
    "from pathlib import Path"
   ]
  },
  {
   "cell_type": "code",
   "execution_count": 20,
   "metadata": {},
   "outputs": [],
   "source": [
    "import logging, random"
   ]
  },
  {
   "cell_type": "code",
   "execution_count": 21,
   "metadata": {},
   "outputs": [],
   "source": [
    "import pandas as pd\n",
    "import numpy as np\n",
    "from pandas import Series, DataFrame"
   ]
  },
  {
   "cell_type": "code",
   "execution_count": 22,
   "metadata": {},
   "outputs": [],
   "source": [
    "links = ['https://www.google.com',\n",
    "        'https://rewards.microsoft.com',\n",
    "         'https://www.reddit.com/r/all',\n",
    "         'https://www.imgur.com',\n",
    "         'https://www.youtube.com',\n",
    "         'https://www.proxynova.com']"
   ]
  },
  {
   "cell_type": "code",
   "execution_count": 23,
   "metadata": {},
   "outputs": [],
   "source": [
    "links_df = pd.DataFrame(data=links, dtype= np.str)"
   ]
  },
  {
   "cell_type": "code",
   "execution_count": 24,
   "metadata": {},
   "outputs": [
    {
     "data": {
      "text/plain": [
       "pandas.core.frame.DataFrame"
      ]
     },
     "execution_count": 24,
     "metadata": {},
     "output_type": "execute_result"
    }
   ],
   "source": [
    "type(links_df)"
   ]
  },
  {
   "cell_type": "code",
   "execution_count": 25,
   "metadata": {},
   "outputs": [],
   "source": [
    "def traverse_and_drop(the_list, interval_num): #{\n",
    "    print(\"[START]=============[START]\")\n",
    "    # setup variables\n",
    "    sleep_time = int(interval_num)\n",
    "    #####################\n",
    "    # check input types #\n",
    "    #####################\n",
    "    if type(the_list) is list: #{\n",
    "        print(\"THIS IS THE LIST:\")\n",
    "        # lOOP THROUGH\n",
    "        for list_item in the_list: #{\n",
    "            print(list_item)\n",
    "            sleep(sleep_time)\n",
    "        #}\n",
    "        print(\"[END]============[END]\")\n",
    "        # pop off item from list\n",
    "        lepop = the_list.pop(0)\n",
    "        print(\"LIST ITEM POPPED: \" + str(lepop) + \"\\n[end-TRAVERSE&DROP]==========\")\n",
    "        # RECURSIVE CALL\n",
    "        #traverse_and_drop(the_list, sleep_time + 1)\n",
    "    #}\n",
    "    elif type(the_list) is pd.core.frame.DataFrame : #{\n",
    "        # LOOP THRU DATAFRAME\n",
    "        for item in the_list.itertuples(index=False): #{\n",
    "            print(item)\n",
    "        #}\n",
    "    #}\n",
    "    else: #{\n",
    "        print(\"not a list\")\n",
    "    #}\n",
    "#}"
   ]
  },
  {
   "cell_type": "raw",
   "metadata": {
    "raw_mimetype": "text/x-python"
   },
   "source": [
    "lst_test = list(links_df[0])"
   ]
  },
  {
   "cell_type": "markdown",
   "metadata": {},
   "source": [
    "**BEFORE:**"
   ]
  },
  {
   "cell_type": "code",
   "execution_count": 26,
   "metadata": {},
   "outputs": [
    {
     "name": "stdout",
     "output_type": "stream",
     "text": [
      "0           https://www.google.com\n",
      "1    https://rewards.microsoft.com\n",
      "2     https://www.reddit.com/r/all\n",
      "3            https://www.imgur.com\n",
      "4          https://www.youtube.com\n",
      "5        https://www.proxynova.com\n",
      "Name: 0, dtype: object\n"
     ]
    }
   ],
   "source": [
    "print(links_df[0])"
   ]
  },
  {
   "cell_type": "markdown",
   "metadata": {},
   "source": [
    "## *Traverse a `list` created from `col[0]` OF `links_df[]`*\n",
    "(DataFrame & original column are **UNTOUCHED** after the operation)"
   ]
  },
  {
   "cell_type": "code",
   "execution_count": 37,
   "metadata": {},
   "outputs": [
    {
     "name": "stdout",
     "output_type": "stream",
     "text": [
      "[START]=============[START]\n",
      "THIS IS THE LIST:\n",
      "https://www.google.com\n",
      "https://rewards.microsoft.com\n",
      "https://www.reddit.com/r/all\n",
      "https://www.imgur.com\n",
      "https://www.youtube.com\n",
      "https://www.proxynova.com\n",
      "[END]============[END]\n",
      "LIST ITEM POPPED: https://www.google.com\n",
      "[end-TRAVERSE&DROP]==========\n"
     ]
    }
   ],
   "source": [
    "traverse_and_drop(list(links_df[0]), 2)"
   ]
  },
  {
   "cell_type": "code",
   "execution_count": 28,
   "metadata": {},
   "outputs": [
    {
     "name": "stdout",
     "output_type": "stream",
     "text": [
      "['https://www.google.com', 'https://rewards.microsoft.com', 'https://www.reddit.com/r/all', 'https://www.imgur.com', 'https://www.youtube.com', 'https://www.proxynova.com']\n"
     ]
    }
   ],
   "source": [
    "print(links)"
   ]
  },
  {
   "cell_type": "code",
   "execution_count": 29,
   "metadata": {},
   "outputs": [
    {
     "data": {
      "text/html": [
       "<div>\n",
       "<style scoped>\n",
       "    .dataframe tbody tr th:only-of-type {\n",
       "        vertical-align: middle;\n",
       "    }\n",
       "\n",
       "    .dataframe tbody tr th {\n",
       "        vertical-align: top;\n",
       "    }\n",
       "\n",
       "    .dataframe thead th {\n",
       "        text-align: right;\n",
       "    }\n",
       "</style>\n",
       "<table border=\"1\" class=\"dataframe\">\n",
       "  <thead>\n",
       "    <tr style=\"text-align: right;\">\n",
       "      <th></th>\n",
       "      <th>0</th>\n",
       "    </tr>\n",
       "  </thead>\n",
       "  <tbody>\n",
       "    <tr>\n",
       "      <th>0</th>\n",
       "      <td>https://www.google.com</td>\n",
       "    </tr>\n",
       "    <tr>\n",
       "      <th>1</th>\n",
       "      <td>https://rewards.microsoft.com</td>\n",
       "    </tr>\n",
       "    <tr>\n",
       "      <th>2</th>\n",
       "      <td>https://www.reddit.com/r/all</td>\n",
       "    </tr>\n",
       "    <tr>\n",
       "      <th>3</th>\n",
       "      <td>https://www.imgur.com</td>\n",
       "    </tr>\n",
       "    <tr>\n",
       "      <th>4</th>\n",
       "      <td>https://www.youtube.com</td>\n",
       "    </tr>\n",
       "    <tr>\n",
       "      <th>5</th>\n",
       "      <td>https://www.proxynova.com</td>\n",
       "    </tr>\n",
       "  </tbody>\n",
       "</table>\n",
       "</div>"
      ],
      "text/plain": [
       "                               0\n",
       "0         https://www.google.com\n",
       "1  https://rewards.microsoft.com\n",
       "2   https://www.reddit.com/r/all\n",
       "3          https://www.imgur.com\n",
       "4        https://www.youtube.com\n",
       "5      https://www.proxynova.com"
      ]
     },
     "execution_count": 29,
     "metadata": {},
     "output_type": "execute_result"
    }
   ],
   "source": [
    "links_df"
   ]
  },
  {
   "cell_type": "markdown",
   "metadata": {},
   "source": [
    "### *Traverse a `list` and `pop` the most recent, loop till empty*"
   ]
  },
  {
   "cell_type": "code",
   "execution_count": 38,
   "metadata": {},
   "outputs": [
    {
     "name": "stdout",
     "output_type": "stream",
     "text": [
      "T-MINUS 2 ...REMAINIMG!\n",
      "[START]=============[START]\n",
      "THIS IS THE LIST:\n",
      "https://www.google.com\n",
      "https://rewards.microsoft.com\n",
      "[END]============[END]\n",
      "LIST ITEM POPPED: https://www.google.com\n",
      "[end-TRAVERSE&DROP]==========\n",
      "CUrrent list:\n",
      "https://rewards.microsoft.com\n",
      "<><><><><><><><><<><><><\n",
      "T-MINUS 1 ...REMAINIMG!\n",
      "[START]=============[START]\n",
      "THIS IS THE LIST:\n",
      "https://rewards.microsoft.com\n",
      "[END]============[END]\n",
      "LIST ITEM POPPED: https://rewards.microsoft.com\n",
      "[end-TRAVERSE&DROP]==========\n",
      "CUrrent list:\n",
      "<><><><><><><><><<><><><\n"
     ]
    }
   ],
   "source": [
    "# SETUP VARIABLES\n",
    "list_len = len(links)  #len(list(links_df[0]))\n",
    "video_index = random.randint(1, list_len)\n",
    "while list_len > 0: #{\n",
    "    print(\"T-MINUS \" + str(list_len) + \" ...REMAINIMG!\")\n",
    "    traverse_and_drop(links, 1) #(list(links_df[0]), 1)\n",
    "    print(\"CUrrent list:\")\n",
    "    for link in links: #{\n",
    "        print(str(link), end=\"\\n\")\n",
    "    #}\n",
    "    print(\"<><><><><><><><><<><><><\")\n",
    "    list_len -= 1\n",
    "#}"
   ]
  },
  {
   "cell_type": "markdown",
   "metadata": {},
   "source": [
    "---\n",
    "**LOOP-THRU SINGLE VIDEO SPECIFIC NUMBER OF TIMES**"
   ]
  },
  {
   "cell_type": "code",
   "execution_count": 31,
   "metadata": {},
   "outputs": [],
   "source": [
    "# DEFINE GLOBALS\n",
    "initial_x_pos = \"\"\n",
    "initial_y_pos = \"\""
   ]
  },
  {
   "cell_type": "code",
   "execution_count": 32,
   "metadata": {},
   "outputs": [],
   "source": [
    "links = ['https://www.google.com',\n",
    "        'https://rewards.microsoft.com']\n",
    "counts = ['3','5']"
   ]
  },
  {
   "cell_type": "code",
   "execution_count": 33,
   "metadata": {},
   "outputs": [
    {
     "data": {
      "text/html": [
       "<div>\n",
       "<style scoped>\n",
       "    .dataframe tbody tr th:only-of-type {\n",
       "        vertical-align: middle;\n",
       "    }\n",
       "\n",
       "    .dataframe tbody tr th {\n",
       "        vertical-align: top;\n",
       "    }\n",
       "\n",
       "    .dataframe thead th {\n",
       "        text-align: right;\n",
       "    }\n",
       "</style>\n",
       "<table border=\"1\" class=\"dataframe\">\n",
       "  <thead>\n",
       "    <tr style=\"text-align: right;\">\n",
       "      <th></th>\n",
       "      <th>links</th>\n",
       "      <th>counts</th>\n",
       "    </tr>\n",
       "  </thead>\n",
       "  <tbody>\n",
       "    <tr>\n",
       "      <th>0</th>\n",
       "      <td>https://www.google.com</td>\n",
       "      <td>3</td>\n",
       "    </tr>\n",
       "    <tr>\n",
       "      <th>1</th>\n",
       "      <td>https://rewards.microsoft.com</td>\n",
       "      <td>5</td>\n",
       "    </tr>\n",
       "  </tbody>\n",
       "</table>\n",
       "</div>"
      ],
      "text/plain": [
       "                           links counts\n",
       "0         https://www.google.com      3\n",
       "1  https://rewards.microsoft.com      5"
      ]
     },
     "execution_count": 33,
     "metadata": {},
     "output_type": "execute_result"
    }
   ],
   "source": [
    "test_df = pd.DataFrame(data=None, dtype=np.str)\n",
    "test_df['links'] = links\n",
    "test_df['counts'] = counts\n",
    "test_df"
   ]
  },
  {
   "cell_type": "code",
   "execution_count": 34,
   "metadata": {},
   "outputs": [],
   "source": [
    "\"\"\"\n",
    "Takes in:\n",
    "(1) dataframe with links & counts\n",
    "(2) int number as index \n",
    "\"\"\"\n",
    "def visit_and_decrement(the_dataframe, the_index): #{\n",
    "    # set_up variables\n",
    "    index = int(the_index)\n",
    "    # set URL as string of first column of specified \"INDEX\" row\n",
    "    URL = str(the_dataframe.iloc[index, 0])\n",
    "    print(\"URL == \"  + str(URL))\n",
    "    # set COUNT as int of second column of \"INDEX\" row\n",
    "    count = int(the_dataframe.iloc[index, 1])\n",
    "    print(\"COUNT == \" + str(count))\n",
    "    while count > 0: #{\n",
    "        print(\"...T-MINUS \" + str(count) + \" TIMES REMAINING....\")\n",
    "        sleep(1)\n",
    "        ####################\n",
    "        # INSERT CODE HERE #\n",
    "        ####################\n",
    "        count -=1\n",
    "    #}\n",
    "    # DECREMENT COUNT\n",
    "    count_col = int(the_dataframe.iloc[index, 1])\n",
    "    count_col -= 1\n",
    "    # update col with new count\n",
    "    the_dataframe.iloc[index, 1] = count_col\n",
    "    print(\"after...\")\n",
    "    print(the_dataframe.iloc[index, 1])\n",
    "#}"
   ]
  },
  {
   "cell_type": "code",
   "execution_count": 35,
   "metadata": {},
   "outputs": [
    {
     "name": "stdout",
     "output_type": "stream",
     "text": [
      "URL == https://rewards.microsoft.com\n",
      "COUNT == 5\n",
      "...T-MINUS 5 TIMES REMAINING....\n",
      "...T-MINUS 4 TIMES REMAINING....\n",
      "...T-MINUS 3 TIMES REMAINING....\n",
      "...T-MINUS 2 TIMES REMAINING....\n",
      "...T-MINUS 1 TIMES REMAINING....\n",
      "after...\n",
      "4\n"
     ]
    }
   ],
   "source": [
    "visit_and_decrement(the_dataframe=test_df, the_index=1)"
   ]
  },
  {
   "cell_type": "code",
   "execution_count": 36,
   "metadata": {},
   "outputs": [
    {
     "data": {
      "text/html": [
       "<div>\n",
       "<style scoped>\n",
       "    .dataframe tbody tr th:only-of-type {\n",
       "        vertical-align: middle;\n",
       "    }\n",
       "\n",
       "    .dataframe tbody tr th {\n",
       "        vertical-align: top;\n",
       "    }\n",
       "\n",
       "    .dataframe thead th {\n",
       "        text-align: right;\n",
       "    }\n",
       "</style>\n",
       "<table border=\"1\" class=\"dataframe\">\n",
       "  <thead>\n",
       "    <tr style=\"text-align: right;\">\n",
       "      <th></th>\n",
       "      <th>links</th>\n",
       "      <th>counts</th>\n",
       "    </tr>\n",
       "  </thead>\n",
       "  <tbody>\n",
       "    <tr>\n",
       "      <th>0</th>\n",
       "      <td>https://www.google.com</td>\n",
       "      <td>3</td>\n",
       "    </tr>\n",
       "    <tr>\n",
       "      <th>1</th>\n",
       "      <td>https://rewards.microsoft.com</td>\n",
       "      <td>4</td>\n",
       "    </tr>\n",
       "  </tbody>\n",
       "</table>\n",
       "</div>"
      ],
      "text/plain": [
       "                           links counts\n",
       "0         https://www.google.com      3\n",
       "1  https://rewards.microsoft.com      4"
      ]
     },
     "execution_count": 36,
     "metadata": {},
     "output_type": "execute_result"
    }
   ],
   "source": [
    "test_df"
   ]
  }
 ],
 "metadata": {
  "celltoolbar": "Raw Cell Format",
  "kernelspec": {
   "display_name": "Python 3",
   "language": "python",
   "name": "python3"
  },
  "language_info": {
   "codemirror_mode": {
    "name": "ipython",
    "version": 3
   },
   "file_extension": ".py",
   "mimetype": "text/x-python",
   "name": "python",
   "nbconvert_exporter": "python",
   "pygments_lexer": "ipython3",
   "version": "3.7.3"
  }
 },
 "nbformat": 4,
 "nbformat_minor": 4
}
