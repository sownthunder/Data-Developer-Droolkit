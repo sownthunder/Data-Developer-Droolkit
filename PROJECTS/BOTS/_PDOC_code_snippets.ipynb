{
 "cells": [
  {
   "cell_type": "markdown",
   "metadata": {},
   "source": [
    "#### *Maximizing the Window:*\n",
    "\n",
    "`driver.maximize_window()`\n",
    "\n",
    "#### *Get position of the Window*\n",
    "\n",
    "`driver.get_window_position() # returns {'y', 'x'} coordinates`\n",
    "\n",
    "#### *Set position of the window*\n",
    "\n",
    "`driver.set_window_position(x, y) # pass 'x' and 'y' coords as args`\n",
    "\n",
    "#### *Get size of the window*\n",
    "\n",
    "`driver.get_window_size() # returns {'width', 'height'} values`\n",
    "\n",
    "#### *Set size of the window*\n",
    "\n",
    "`driver.set_window_size(width, height) # pass 'width' and 'height'`\n",
    "\n",
    "#### *Current page title:*\n",
    "\n",
    "`driver.title`\n",
    "\n",
    "#### *Current URL*\n",
    "\n",
    "`driver.current_url`\n",
    "\n",
    "#### *Window Handles*\n",
    "\n",
    "`driver.current_window_handle`\n",
    "\n",
    "#### *List of currently opened windows*\n",
    "\n",
    "`driver.window_handles`"
   ]
  },
  {
   "cell_type": "markdown",
   "metadata": {},
   "source": [
    "---\n",
    "\n",
    "# Handle Multiple Windows\n",
    "- *open page in new window*\n",
    "- *switch to it*\n",
    "- *do something*\n",
    "- *close it*\n",
    "- *switch back to parent window*\n",
    "\n",
    "---\n",
    "\n",
    "#### *Open \"Google\" page in parent window*\n",
    "\n",
    "`driver.get(\"https://google.com\")`\n",
    "\n",
    "`driver.title # 'Google'`\n",
    "\n",
    "#### *Get parent window*\n",
    "\n",
    "`parent_window = driver.current_window_handle`\n",
    "\n",
    "#### *Open \"Bing\" page in child window*\n",
    "\n",
    "`driver.execute_script(\"window.open('https://bing.com')\")`\n",
    "\n",
    "#### *Get list of all windows currently opened (parent + child)*\n",
    "\n",
    "`all_windows = driver.window_handles`\n",
    "\n",
    "#### *Get child window*\n",
    "\n",
    "`child_window = [window for window in all_windows if window != parent_window][0]`\n",
    "\n",
    "#### *Switch to child window*\n",
    "\n",
    "`driver.switch_to.window(child_window)`\n",
    "\n",
    "`driver.title # 'Bing'`\n",
    "\n",
    "### Close child window\n",
    "\n",
    "`driver.close()`\n",
    "\n",
    "#### switch back to parent window\n",
    "\n",
    "`driver.switch_to.window(parent_window)`\n",
    "\n",
    "`driver.title # 'Google'`"
   ]
  },
  {
   "cell_type": "markdown",
   "metadata": {},
   "source": [
    "#### *Open new window with URL*\n",
    "\n",
    "`driver.execute_script(\"window.open('http://reddit.com/r/python/')\")`"
   ]
  },
  {
   "cell_type": "code",
   "execution_count": null,
   "metadata": {},
   "outputs": [],
   "source": []
  }
 ],
 "metadata": {
  "kernelspec": {
   "display_name": "Python 3",
   "language": "python",
   "name": "python3"
  },
  "language_info": {
   "codemirror_mode": {
    "name": "ipython",
    "version": 3
   },
   "file_extension": ".py",
   "mimetype": "text/x-python",
   "name": "python",
   "nbconvert_exporter": "python",
   "pygments_lexer": "ipython3",
   "version": "3.7.3"
  }
 },
 "nbformat": 4,
 "nbformat_minor": 2
}
