{
 "cells": [
  {
   "cell_type": "markdown",
   "metadata": {},
   "source": [
    "#### *Maximizing the Window:*\n",
    "\n",
    "`driver.maximize_window()`\n",
    "\n",
    "#### *Get position of the Window*\n",
    "\n",
    "`driver.get_window_position() # returns {'y', 'x'} coordinates`\n",
    "\n",
    "#### *Set position of the window*\n",
    "\n",
    "`driver.set_window_position(x, y) # pass 'x' and 'y' coords as args`\n",
    "\n",
    "#### *Get size of the window*\n",
    "\n",
    "`driver.get_window_size() # returns {'width', 'height'} values`\n",
    "\n",
    "#### *Set size of the window*\n",
    "\n",
    "`driver.set_window_size(width, height) # pass 'width' and 'height'`\n",
    "\n",
    "#### *Current page title:*\n",
    "\n",
    "`driver.title`\n",
    "\n",
    "#### *Current URL*\n",
    "\n",
    "`driver.current_url`"
   ]
  },
  {
   "cell_type": "code",
   "execution_count": null,
   "metadata": {},
   "outputs": [],
   "source": []
  }
 ],
 "metadata": {
  "kernelspec": {
   "display_name": "Python 3",
   "language": "python",
   "name": "python3"
  },
  "language_info": {
   "codemirror_mode": {
    "name": "ipython",
    "version": 3
   },
   "file_extension": ".py",
   "mimetype": "text/x-python",
   "name": "python",
   "nbconvert_exporter": "python",
   "pygments_lexer": "ipython3",
   "version": "3.7.3"
  }
 },
 "nbformat": 4,
 "nbformat_minor": 2
}
