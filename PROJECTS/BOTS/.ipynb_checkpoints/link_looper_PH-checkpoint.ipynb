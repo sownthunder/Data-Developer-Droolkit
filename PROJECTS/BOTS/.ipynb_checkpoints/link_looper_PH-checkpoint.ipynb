{
 "cells": [
  {
   "cell_type": "markdown",
   "metadata": {},
   "source": [
    "#### *to be used with all `PH` functions*"
   ]
  },
  {
   "cell_type": "code",
   "execution_count": 1,
   "metadata": {},
   "outputs": [],
   "source": [
    "import os, sys, time\n",
    "from time import sleep\n",
    "from pathlib import Path\n",
    "import random, logging\n",
    "from urllib.parse import urlparse"
   ]
  },
  {
   "cell_type": "code",
   "execution_count": 2,
   "metadata": {},
   "outputs": [],
   "source": [
    "from selenium import webdriver\n",
    "\n",
    "from selenium.webdriver.common.keys import Keys"
   ]
  },
  {
   "cell_type": "code",
   "execution_count": 3,
   "metadata": {},
   "outputs": [],
   "source": [
    "def setup_logger(): #{\n",
    "    # TRY THE FOLLOWING\n",
    "    try: #{\n",
    "        #logging.basicConfig()\n",
    "        pass\n",
    "    #}\n",
    "    except: #{\n",
    "        pass\n",
    "    #}\n",
    "    else: #{\n",
    "        pass\n",
    "    #}\n",
    "#}"
   ]
  },
  {
   "cell_type": "code",
   "execution_count": 4,
   "metadata": {},
   "outputs": [],
   "source": [
    "def setup_driver(): #{\n",
    "    driver = webdriver.Chrome()\n",
    "    return driver\n",
    "#}"
   ]
  },
  {
   "cell_type": "code",
   "execution_count": 5,
   "metadata": {},
   "outputs": [],
   "source": [
    "def teardown_driver(the_driver): #{\n",
    "    # quit/end driver\n",
    "    the_driver.quit()\n",
    "#}"
   ]
  },
  {
   "cell_type": "code",
   "execution_count": 6,
   "metadata": {},
   "outputs": [],
   "source": [
    "def countdown(n): #{\n",
    "    while n >= 0: #{\n",
    "        print(str(n))\n",
    "        sleep(1)\n",
    "        n -= 1\n",
    "    #}\n",
    "    else: #{\n",
    "        print(\"blast off!\")\n",
    "    #}\n",
    "#}"
   ]
  },
  {
   "cell_type": "raw",
   "metadata": {},
   "source": [
    "countdown(5)"
   ]
  },
  {
   "cell_type": "code",
   "execution_count": 7,
   "metadata": {},
   "outputs": [],
   "source": [
    "\"\"\"\n",
    "TAKES IN:\n",
    "(1) selenium webdriver\n",
    "(2) URL of link to loop\n",
    "(3) # of times to loop link\n",
    "(4) min # of seconds to watch\n",
    "(5) max # of seconds to watch\n",
    "\"\"\"\n",
    "def loop_single_link(the_driver, the_link, the_count, min_time, max_time): #{\n",
    "    print(\"watch_count:\\t\" + str(the_count))\n",
    "    print(\"min_time:\\t\" + str(min_time))\n",
    "    print(\"max_time:\\t\" + str(max_time))\n",
    "    # setup variables\n",
    "    watch_time = random.randint(int(min_time), int(max_time))\n",
    "    print(\"watch_TIME:\\t\" + str(watch_time))\n",
    "    URL = str(the_link)\n",
    "    # navigate to site\n",
    "    driver.get(URL)\n",
    "    print(\"successfully navigated to... [\" + str(URL) + \"]\")\n",
    "    # LOOP THRU # of TIMES DEPENDING ON 'the_count':\n",
    "    while the_count > 0: #{\n",
    "        print(\"watching T-MINUS \" + str(the_count) + \" TIMES!\")\n",
    "        # sleep for determined duration\n",
    "        countdown(watch_time)\n",
    "        print(\"successfully watched... [ \" + str(URL) + \"] \") + str(the_count) + \"times\"\n",
    "        # \"refresh\" URL by re entering page\n",
    "        driver.get(URL)\n",
    "        print(\"...refreshing...\")\n",
    "        # decrement count\n",
    "        the_count -= 1\n",
    "    #}\n",
    "#}"
   ]
  },
  {
   "cell_type": "code",
   "execution_count": null,
   "metadata": {},
   "outputs": [
    {
     "name": "stdout",
     "output_type": "stream",
     "text": [
      "successfully setup driver...\n",
      "CALLING FUNCTION...\n",
      "watch_count:\t4\n",
      "min_time:\t120\n",
      "max_time:\t300\n",
      "watch_TIME:\t237\n",
      "successfully navigated to... [https://www.reddit.com/u/zambooxal/]\n",
      "watching T-MINUS 4 TIMES!\n",
      "237\n",
      "236\n",
      "235\n",
      "234\n",
      "233\n",
      "232\n",
      "231\n",
      "230\n",
      "229\n",
      "228\n",
      "227\n",
      "226\n",
      "225\n",
      "224\n",
      "223\n",
      "222\n",
      "221\n",
      "220\n",
      "219\n",
      "218\n",
      "217\n",
      "216\n",
      "215\n",
      "214\n",
      "213\n",
      "212\n",
      "211\n",
      "210\n",
      "209\n"
     ]
    }
   ],
   "source": [
    "if __name__ == \"__main__\": #{\n",
    "    # setup driver\n",
    "    driver = setup_driver()\n",
    "    print(\"successfully setup driver...\")\n",
    "    URL = \"https://www.reddit.com/u/zambooxal/\"\n",
    "    print(\"CALLING FUNCTION...\")\n",
    "    # CALL FUNCTION \n",
    "    loop_single_link(the_driver=driver, \n",
    "                     the_link=URL, \n",
    "                     the_count=4, \n",
    "                     min_time=120,\n",
    "                     max_time=300)\n",
    "    \n",
    "    \n",
    "#}"
   ]
  },
  {
   "cell_type": "code",
   "execution_count": null,
   "metadata": {},
   "outputs": [],
   "source": []
  }
 ],
 "metadata": {
  "kernelspec": {
   "display_name": "Python 3",
   "language": "python",
   "name": "python3"
  },
  "language_info": {
   "codemirror_mode": {
    "name": "ipython",
    "version": 3
   },
   "file_extension": ".py",
   "mimetype": "text/x-python",
   "name": "python",
   "nbconvert_exporter": "python",
   "pygments_lexer": "ipython3",
   "version": "3.7.0"
  }
 },
 "nbformat": 4,
 "nbformat_minor": 2
}
