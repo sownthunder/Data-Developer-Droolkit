{
 "cells": [
  {
   "cell_type": "markdown",
   "metadata": {},
   "source": [
    "#### *to be used with all `PH` functions*"
   ]
  },
  {
   "cell_type": "code",
   "execution_count": 1,
   "metadata": {},
   "outputs": [],
   "source": [
    "import os, sys, time\n",
    "from time import sleep\n",
    "from pathlib import Path\n",
    "import random, logging\n",
    "from urllib.parse import urlparse"
   ]
  },
  {
   "cell_type": "code",
   "execution_count": 2,
   "metadata": {},
   "outputs": [],
   "source": [
    "from selenium import webdriver\n",
    "\n",
    "from selenium.webdriver.common.keys import Keys"
   ]
  },
  {
   "cell_type": "code",
   "execution_count": 3,
   "metadata": {},
   "outputs": [],
   "source": [
    "def setup_logger(): #{\n",
    "    # TRY THE FOLLOWING\n",
    "    try: #{\n",
    "        #logging.basicConfig()\n",
    "        pass\n",
    "    #}\n",
    "    except: #{\n",
    "        pass\n",
    "    #}\n",
    "    else: #{\n",
    "        pass\n",
    "    #}\n",
    "#}"
   ]
  },
  {
   "cell_type": "code",
   "execution_count": 4,
   "metadata": {},
   "outputs": [],
   "source": [
    "def setup_driver(): #{\n",
    "    driver = webdriver.Chrome()\n",
    "    return driver\n",
    "#}"
   ]
  },
  {
   "cell_type": "code",
   "execution_count": 5,
   "metadata": {},
   "outputs": [],
   "source": [
    "def teardown_driver(the_driver): #{\n",
    "    # quit/end driver\n",
    "    the_driver.quit()\n",
    "#}"
   ]
  },
  {
   "cell_type": "code",
   "execution_count": 6,
   "metadata": {},
   "outputs": [],
   "source": [
    "def countdown(n): #{\n",
    "    while n >= 0: #{\n",
    "        print(str(n))\n",
    "        sleep(1)\n",
    "        n -= 1\n",
    "    #}\n",
    "    else: #{\n",
    "        print(\"blast off!\")\n",
    "    #}\n",
    "#}"
   ]
  },
  {
   "cell_type": "raw",
   "metadata": {},
   "source": [
    "countdown(5)"
   ]
  },
  {
   "cell_type": "code",
   "execution_count": 7,
   "metadata": {},
   "outputs": [],
   "source": [
    "\"\"\"\n",
    "TAKES IN:\n",
    "(1) selenium webdriver\n",
    "(2) URL of link to loop\n",
    "(3) # of times to loop link\n",
    "(4) min # of seconds to watch\n",
    "(5) max # of seconds to watch\n",
    "\"\"\"\n",
    "def loop_single_link(the_driver, the_link, the_count, min_time, max_time): #{\n",
    "    print(\"watch_count:\\t\" + str(the_count))\n",
    "    print(\"min_time:\\t\" + str(min_time))\n",
    "    print(\"max_time:\\t\" + str(max_time))\n",
    "    # setup variables\n",
    "    watch_time = random.randint(int(min_time), int(max_time))\n",
    "    print(\"watch_TIME:\\t\" + str(watch_time))\n",
    "    URL = str(the_link)\n",
    "    # navigate to site\n",
    "    driver.get(URL)\n",
    "    print(\"successfully navigated to... [\" + str(URL) + \"]\")\n",
    "    # LOOP THRU # of TIMES DEPENDING ON 'the_count':\n",
    "    while the_count > 0: #{\n",
    "        print(\"watching T-MINUS \" + str(the_count) + \" TIMES!\")\n",
    "        # sleep for determined duration\n",
    "        countdown(watch_time)\n",
    "        print(\"successfully watched... [ \" + str(URL) + \"] \") + str(the_count) + \"times\"\n",
    "        # \"refresh\" URL by re entering page\n",
    "        driver.get(URL)\n",
    "        print(\"...refreshing...\")\n",
    "        # decrement count\n",
    "        the_count -= 1\n",
    "    #}\n",
    "#}"
   ]
  },
  {
   "cell_type": "code",
   "execution_count": null,
   "metadata": {},
   "outputs": [
    {
     "name": "stdout",
     "output_type": "stream",
     "text": [
      "successfully setup driver...\n",
      "CALLING FUNCTION...\n",
      "watch_count:\t4\n",
      "min_time:\t120\n",
      "max_time:\t300\n",
      "watch_TIME:\t206\n",
      "successfully navigated to... [https://www.reddit.com/u/zambooxal/]\n",
      "watching T-MINUS 4 TIMES!\n",
      "206\n",
      "205\n",
      "204\n",
      "203\n",
      "202\n",
      "201\n",
      "200\n",
      "199\n",
      "198\n",
      "197\n",
      "196\n",
      "195\n",
      "194\n",
      "193\n",
      "192\n",
      "191\n",
      "190\n",
      "189\n",
      "188\n",
      "187\n",
      "186\n",
      "185\n",
      "184\n",
      "183\n",
      "182\n",
      "181\n",
      "180\n",
      "179\n",
      "178\n",
      "177\n",
      "176\n",
      "175\n",
      "174\n",
      "173\n",
      "172\n",
      "171\n",
      "170\n",
      "169\n",
      "168\n",
      "167\n",
      "166\n",
      "165\n",
      "164\n",
      "163\n",
      "162\n",
      "161\n",
      "160\n",
      "159\n",
      "158\n",
      "157\n",
      "156\n",
      "155\n",
      "154\n",
      "153\n",
      "152\n",
      "151\n",
      "150\n",
      "149\n",
      "148\n",
      "147\n",
      "146\n",
      "145\n",
      "144\n",
      "143\n",
      "142\n",
      "141\n",
      "140\n",
      "139\n",
      "138\n",
      "137\n",
      "136\n",
      "135\n",
      "134\n",
      "133\n",
      "132\n",
      "131\n",
      "130\n",
      "129\n",
      "128\n",
      "127\n",
      "126\n",
      "125\n"
     ]
    }
   ],
   "source": [
    "if __name__ == \"__main__\": #{\n",
    "    # setup driver\n",
    "    driver = setup_driver()\n",
    "    print(\"successfully setup driver...\")\n",
    "    URL = \"https://www.reddit.com/u/zambooxal/\"\n",
    "    print(\"CALLING FUNCTION...\")\n",
    "    # CALL FUNCTION \n",
    "    loop_single_link(the_driver=driver, \n",
    "                     the_link=URL, \n",
    "                     the_count=4, \n",
    "                     min_time=120,\n",
    "                     max_time=300)\n",
    "    \n",
    "    \n",
    "#}"
   ]
  },
  {
   "cell_type": "code",
   "execution_count": null,
   "metadata": {},
   "outputs": [],
   "source": []
  }
 ],
 "metadata": {
  "kernelspec": {
   "display_name": "Python 3",
   "language": "python",
   "name": "python3"
  },
  "language_info": {
   "codemirror_mode": {
    "name": "ipython",
    "version": 3
   },
   "file_extension": ".py",
   "mimetype": "text/x-python",
   "name": "python",
   "nbconvert_exporter": "python",
   "pygments_lexer": "ipython3",
   "version": "3.7.0"
  }
 },
 "nbformat": 4,
 "nbformat_minor": 2
}
