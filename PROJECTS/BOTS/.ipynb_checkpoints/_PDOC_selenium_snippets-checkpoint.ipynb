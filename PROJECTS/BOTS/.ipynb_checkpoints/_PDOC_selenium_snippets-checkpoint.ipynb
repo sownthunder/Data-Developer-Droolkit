{
 "cells": [
  {
   "cell_type": "markdown",
   "metadata": {},
   "source": [
    "#### *Maximizing the Window:*\n",
    "\n",
    "`driver.maximize_window()`\n",
    "\n",
    "#### *Get position of the Window*\n",
    "\n",
    "`driver.get_window_position() # returns {'y', 'x'} coordinates`\n",
    "\n",
    "#### *Set position of the window*\n",
    "\n",
    "`driver.set_window_position(x, y) # pass 'x' and 'y' coords as args`\n",
    "\n",
    "#### *Get size of the window*\n",
    "\n",
    "`driver.get_window_size() # returns {'width', 'height'} values`\n",
    "\n",
    "#### *Set size of the window*\n",
    "\n",
    "`driver.set_window_size(width, height) # pass 'width' and 'height'`\n",
    "\n",
    "#### *Current page title:*\n",
    "\n",
    "`driver.title`\n",
    "\n",
    "#### *Current URL*\n",
    "\n",
    "`driver.current_url`\n",
    "\n",
    "#### *Window Handles*\n",
    "\n",
    "`driver.current_window_handle`\n",
    "\n",
    "#### *List of currently opened windows*\n",
    "\n",
    "`driver.window_handles`"
   ]
  },
  {
   "cell_type": "markdown",
   "metadata": {},
   "source": [
    "---\n",
    "\n",
    "# Handle Multiple Windows\n",
    "- *open page in new window*\n",
    "- *switch to it*\n",
    "- *do something*\n",
    "- *close it*\n",
    "- *switch back to parent window*\n",
    "\n",
    "---\n",
    "\n",
    "#### *Open \"Google\" page in parent window*\n",
    "\n",
    "`driver.get(\"https://google.com\")`\n",
    "\n",
    "`driver.title # 'Google'`\n",
    "\n",
    "#### *Get parent window*\n",
    "\n",
    "`parent_window = driver.current_window_handle`\n",
    "\n",
    "#### *Open \"Bing\" page in child window*\n",
    "\n",
    "`driver.execute_script(\"window.open('https://bing.com')\")`\n",
    "\n",
    "#### *Get list of all windows currently opened (parent + child)*\n",
    "\n",
    "`all_windows = driver.window_handles`\n",
    "\n",
    "#### *Get child window*\n",
    "\n",
    "`child_window = [window for window in all_windows if window != parent_window][0]`\n",
    "\n",
    "#### *Switch to child window*\n",
    "\n",
    "`driver.switch_to.window(child_window)`\n",
    "\n",
    "`driver.title # 'Bing'`\n",
    "\n",
    "### Close child window\n",
    "\n",
    "`driver.close()`\n",
    "\n",
    "#### switch back to parent window\n",
    "\n",
    "`driver.switch_to.window(parent_window)`\n",
    "\n",
    "`driver.title # 'Google'`"
   ]
  },
  {
   "cell_type": "markdown",
   "metadata": {},
   "source": [
    "#### *Open new window with URL*\n",
    "\n",
    "`driver.execute_script(\"window.open('http://reddit.com/r/python/')\")`"
   ]
  },
  {
   "cell_type": "markdown",
   "metadata": {},
   "source": [
    "---\n",
    "# Selenium Python Tricks\n",
    "---"
   ]
  },
  {
   "cell_type": "markdown",
   "metadata": {},
   "source": [
    "#### How to login on a website, here we take example of Zomato:"
   ]
  },
  {
   "cell_type": "code",
   "execution_count": 3,
   "metadata": {},
   "outputs": [
    {
     "ename": "NoSuchElementException",
     "evalue": "Message: no such element: Unable to locate element: {\"method\":\"xpath\",\"selector\":\"//input[@id ='ld-password']\"}\n  (Session info: chrome=78.0.3904.87)\n",
     "output_type": "error",
     "traceback": [
      "\u001b[1;31m---------------------------------------------------------------------------\u001b[0m",
      "\u001b[1;31mNoSuchElementException\u001b[0m                    Traceback (most recent call last)",
      "\u001b[1;32m<ipython-input-3-9517edf193aa>\u001b[0m in \u001b[0;36m<module>\u001b[1;34m\u001b[0m\n\u001b[0;32m     32\u001b[0m \u001b[1;33m\u001b[0m\u001b[0m\n\u001b[0;32m     33\u001b[0m \u001b[1;31m# password send\u001b[0m\u001b[1;33m\u001b[0m\u001b[1;33m\u001b[0m\u001b[1;33m\u001b[0m\u001b[0m\n\u001b[1;32m---> 34\u001b[1;33m \u001b[0mb\u001b[0m \u001b[1;33m=\u001b[0m \u001b[0mbrowser\u001b[0m\u001b[1;33m.\u001b[0m\u001b[0mfind_element_by_xpath\u001b[0m\u001b[1;33m(\u001b[0m\u001b[1;34m\"//input[@id ='ld-password']\"\u001b[0m\u001b[1;33m)\u001b[0m\u001b[1;33m\u001b[0m\u001b[1;33m\u001b[0m\u001b[0m\n\u001b[0m\u001b[0;32m     35\u001b[0m \u001b[0mb\u001b[0m\u001b[1;33m.\u001b[0m\u001b[0msend_keys\u001b[0m\u001b[1;33m(\u001b[0m\u001b[0mpassword\u001b[0m\u001b[1;33m)\u001b[0m\u001b[1;33m\u001b[0m\u001b[1;33m\u001b[0m\u001b[0m\n\u001b[0;32m     36\u001b[0m \u001b[1;33m\u001b[0m\u001b[0m\n",
      "\u001b[1;32m~\\Miniconda3\\lib\\site-packages\\selenium\\webdriver\\remote\\webdriver.py\u001b[0m in \u001b[0;36mfind_element_by_xpath\u001b[1;34m(self, xpath)\u001b[0m\n\u001b[0;32m    392\u001b[0m             \u001b[0melement\u001b[0m \u001b[1;33m=\u001b[0m \u001b[0mdriver\u001b[0m\u001b[1;33m.\u001b[0m\u001b[0mfind_element_by_xpath\u001b[0m\u001b[1;33m(\u001b[0m\u001b[1;34m'//div/td[1]'\u001b[0m\u001b[1;33m)\u001b[0m\u001b[1;33m\u001b[0m\u001b[1;33m\u001b[0m\u001b[0m\n\u001b[0;32m    393\u001b[0m         \"\"\"\n\u001b[1;32m--> 394\u001b[1;33m         \u001b[1;32mreturn\u001b[0m \u001b[0mself\u001b[0m\u001b[1;33m.\u001b[0m\u001b[0mfind_element\u001b[0m\u001b[1;33m(\u001b[0m\u001b[0mby\u001b[0m\u001b[1;33m=\u001b[0m\u001b[0mBy\u001b[0m\u001b[1;33m.\u001b[0m\u001b[0mXPATH\u001b[0m\u001b[1;33m,\u001b[0m \u001b[0mvalue\u001b[0m\u001b[1;33m=\u001b[0m\u001b[0mxpath\u001b[0m\u001b[1;33m)\u001b[0m\u001b[1;33m\u001b[0m\u001b[1;33m\u001b[0m\u001b[0m\n\u001b[0m\u001b[0;32m    395\u001b[0m \u001b[1;33m\u001b[0m\u001b[0m\n\u001b[0;32m    396\u001b[0m     \u001b[1;32mdef\u001b[0m \u001b[0mfind_elements_by_xpath\u001b[0m\u001b[1;33m(\u001b[0m\u001b[0mself\u001b[0m\u001b[1;33m,\u001b[0m \u001b[0mxpath\u001b[0m\u001b[1;33m)\u001b[0m\u001b[1;33m:\u001b[0m\u001b[1;33m\u001b[0m\u001b[1;33m\u001b[0m\u001b[0m\n",
      "\u001b[1;32m~\\Miniconda3\\lib\\site-packages\\selenium\\webdriver\\remote\\webdriver.py\u001b[0m in \u001b[0;36mfind_element\u001b[1;34m(self, by, value)\u001b[0m\n\u001b[0;32m    976\u001b[0m         return self.execute(Command.FIND_ELEMENT, {\n\u001b[0;32m    977\u001b[0m             \u001b[1;34m'using'\u001b[0m\u001b[1;33m:\u001b[0m \u001b[0mby\u001b[0m\u001b[1;33m,\u001b[0m\u001b[1;33m\u001b[0m\u001b[1;33m\u001b[0m\u001b[0m\n\u001b[1;32m--> 978\u001b[1;33m             'value': value})['value']\n\u001b[0m\u001b[0;32m    979\u001b[0m \u001b[1;33m\u001b[0m\u001b[0m\n\u001b[0;32m    980\u001b[0m     \u001b[1;32mdef\u001b[0m \u001b[0mfind_elements\u001b[0m\u001b[1;33m(\u001b[0m\u001b[0mself\u001b[0m\u001b[1;33m,\u001b[0m \u001b[0mby\u001b[0m\u001b[1;33m=\u001b[0m\u001b[0mBy\u001b[0m\u001b[1;33m.\u001b[0m\u001b[0mID\u001b[0m\u001b[1;33m,\u001b[0m \u001b[0mvalue\u001b[0m\u001b[1;33m=\u001b[0m\u001b[1;32mNone\u001b[0m\u001b[1;33m)\u001b[0m\u001b[1;33m:\u001b[0m\u001b[1;33m\u001b[0m\u001b[1;33m\u001b[0m\u001b[0m\n",
      "\u001b[1;32m~\\Miniconda3\\lib\\site-packages\\selenium\\webdriver\\remote\\webdriver.py\u001b[0m in \u001b[0;36mexecute\u001b[1;34m(self, driver_command, params)\u001b[0m\n\u001b[0;32m    319\u001b[0m         \u001b[0mresponse\u001b[0m \u001b[1;33m=\u001b[0m \u001b[0mself\u001b[0m\u001b[1;33m.\u001b[0m\u001b[0mcommand_executor\u001b[0m\u001b[1;33m.\u001b[0m\u001b[0mexecute\u001b[0m\u001b[1;33m(\u001b[0m\u001b[0mdriver_command\u001b[0m\u001b[1;33m,\u001b[0m \u001b[0mparams\u001b[0m\u001b[1;33m)\u001b[0m\u001b[1;33m\u001b[0m\u001b[1;33m\u001b[0m\u001b[0m\n\u001b[0;32m    320\u001b[0m         \u001b[1;32mif\u001b[0m \u001b[0mresponse\u001b[0m\u001b[1;33m:\u001b[0m\u001b[1;33m\u001b[0m\u001b[1;33m\u001b[0m\u001b[0m\n\u001b[1;32m--> 321\u001b[1;33m             \u001b[0mself\u001b[0m\u001b[1;33m.\u001b[0m\u001b[0merror_handler\u001b[0m\u001b[1;33m.\u001b[0m\u001b[0mcheck_response\u001b[0m\u001b[1;33m(\u001b[0m\u001b[0mresponse\u001b[0m\u001b[1;33m)\u001b[0m\u001b[1;33m\u001b[0m\u001b[1;33m\u001b[0m\u001b[0m\n\u001b[0m\u001b[0;32m    322\u001b[0m             response['value'] = self._unwrap_value(\n\u001b[0;32m    323\u001b[0m                 response.get('value', None))\n",
      "\u001b[1;32m~\\Miniconda3\\lib\\site-packages\\selenium\\webdriver\\remote\\errorhandler.py\u001b[0m in \u001b[0;36mcheck_response\u001b[1;34m(self, response)\u001b[0m\n\u001b[0;32m    240\u001b[0m                 \u001b[0malert_text\u001b[0m \u001b[1;33m=\u001b[0m \u001b[0mvalue\u001b[0m\u001b[1;33m[\u001b[0m\u001b[1;34m'alert'\u001b[0m\u001b[1;33m]\u001b[0m\u001b[1;33m.\u001b[0m\u001b[0mget\u001b[0m\u001b[1;33m(\u001b[0m\u001b[1;34m'text'\u001b[0m\u001b[1;33m)\u001b[0m\u001b[1;33m\u001b[0m\u001b[1;33m\u001b[0m\u001b[0m\n\u001b[0;32m    241\u001b[0m             \u001b[1;32mraise\u001b[0m \u001b[0mexception_class\u001b[0m\u001b[1;33m(\u001b[0m\u001b[0mmessage\u001b[0m\u001b[1;33m,\u001b[0m \u001b[0mscreen\u001b[0m\u001b[1;33m,\u001b[0m \u001b[0mstacktrace\u001b[0m\u001b[1;33m,\u001b[0m \u001b[0malert_text\u001b[0m\u001b[1;33m)\u001b[0m\u001b[1;33m\u001b[0m\u001b[1;33m\u001b[0m\u001b[0m\n\u001b[1;32m--> 242\u001b[1;33m         \u001b[1;32mraise\u001b[0m \u001b[0mexception_class\u001b[0m\u001b[1;33m(\u001b[0m\u001b[0mmessage\u001b[0m\u001b[1;33m,\u001b[0m \u001b[0mscreen\u001b[0m\u001b[1;33m,\u001b[0m \u001b[0mstacktrace\u001b[0m\u001b[1;33m)\u001b[0m\u001b[1;33m\u001b[0m\u001b[1;33m\u001b[0m\u001b[0m\n\u001b[0m\u001b[0;32m    243\u001b[0m \u001b[1;33m\u001b[0m\u001b[0m\n\u001b[0;32m    244\u001b[0m     \u001b[1;32mdef\u001b[0m \u001b[0m_value_or_default\u001b[0m\u001b[1;33m(\u001b[0m\u001b[0mself\u001b[0m\u001b[1;33m,\u001b[0m \u001b[0mobj\u001b[0m\u001b[1;33m,\u001b[0m \u001b[0mkey\u001b[0m\u001b[1;33m,\u001b[0m \u001b[0mdefault\u001b[0m\u001b[1;33m)\u001b[0m\u001b[1;33m:\u001b[0m\u001b[1;33m\u001b[0m\u001b[1;33m\u001b[0m\u001b[0m\n",
      "\u001b[1;31mNoSuchElementException\u001b[0m: Message: no such element: Unable to locate element: {\"method\":\"xpath\",\"selector\":\"//input[@id ='ld-password']\"}\n  (Session info: chrome=78.0.3904.87)\n"
     ]
    }
   ],
   "source": [
    "from selenium import webdriver \n",
    "# For using sleep function because selenium \n",
    "# works only when the all the elements of the \n",
    "# page is loaded. \n",
    "import time \n",
    "# webdriver path set \n",
    "browser = webdriver.Chrome()\n",
    "#browser = webdriver.Chrome(\"C:\\Program Files (x86)\\Google\\Chrome\\chromedriver.exe\") \n",
    "\n",
    "# To maximize the browser window \n",
    "browser.maximize_window() \n",
    "\n",
    "# zomato link set \n",
    "browser.get('https://www.zomato.com/ncr') \n",
    "\n",
    "time.sleep(3) \n",
    "# Enter your user name and password here. \n",
    "username = \"test\"\n",
    "password = \"test\"\n",
    "\n",
    "\n",
    "# signin element clicked \n",
    "browser.find_element_by_xpath(\"//a[@id ='signin-link']\").click() \n",
    "time.sleep(2) \n",
    "\n",
    "# Login clicked \n",
    "browser.find_element_by_xpath(\"//a[@id ='login-email']\").click() \n",
    "\n",
    "# username send \n",
    "a = browser.find_element_by_xpath(\"//input[@id ='ld-email']\") \n",
    "a.send_keys(username) \n",
    "\n",
    "# password send \n",
    "b = browser.find_element_by_xpath(\"//input[@id ='ld-password']\") \n",
    "b.send_keys(password) \n",
    "\n",
    "# submit button clicked \n",
    "browser.find_element_by_xpath(\"//input[@id ='ld-submit-global']\").click() \n",
    "\n",
    "print('Login Successful') \n",
    "browser.close()"
   ]
  },
  {
   "cell_type": "markdown",
   "metadata": {},
   "source": [
    "---\n",
    "# Non-Blocking Wait\n",
    "---"
   ]
  },
  {
   "cell_type": "code",
   "execution_count": null,
   "metadata": {},
   "outputs": [],
   "source": [
    "from selenium import webdriver \n",
    "\n",
    "options = webdriver.ChromeOptions() \n",
    "options.add_argument(\"--start-maximized\") \n",
    "options.add_argument(\"disable-infobars\") \n",
    "\n",
    "chrome = webdriver.Chrome(the_path_of_webdriver_which_is_an_exe, \n",
    "                          chrome_options = options, service_args =['--ignore-ssl-errors = true']) \n",
    "\n",
    "login_uri = 'https://auth.geeksforgeeks.org/'\n",
    "username = 'something'\n",
    "password = 'anything'\n",
    "username_xpath = '//*[@id =\"luser\"]'\n",
    "password_xpath = '//*[@id =\"password\"]'\n",
    "sign_in_xpath = '//*[@id =\"Login\"]/button'\n",
    "\n",
    "chrome.get(login_uri) "
   ]
  },
  {
   "cell_type": "markdown",
   "metadata": {},
   "source": [
    "Explanation:\n",
    "- locator – the xpath of the element\n",
    "- timeout – until when to wait for the element to appear (beacuse we don’t want to wait forever)\n",
    "- chrome – the webdriver object we initialized earlier\n",
    "- It utilizes the inbuild utlity of ui to make the web driver wait until the element is visible (identified by xpath)\n",
    "- if it does appear within the timeout it returns True else False"
   ]
  },
  {
   "cell_type": "code",
   "execution_count": null,
   "metadata": {},
   "outputs": [],
   "source": [
    "# return True if element is visible within 30 seconds, otherwise False \n",
    "def is_visible(locator, timeout = 30): \n",
    "    try: \n",
    "        ui.WebDriverWait(chrome, timeout).until(EC.visibility_of_element_located((By.XPATH, locator))) \n",
    "        return True\n",
    "    except TimeoutException: \n",
    "        return False\n"
   ]
  },
  {
   "cell_type": "markdown",
   "metadata": {},
   "source": [
    "This is how we utilize the function:"
   ]
  },
  {
   "cell_type": "code",
   "execution_count": null,
   "metadata": {},
   "outputs": [],
   "source": [
    "if not is_visible(username_xpath): raise RuntimeError(\"Something went wrong with the username field :(\") \n",
    "username_field = chrome.find_element_by_xpath(username_xpath) \n",
    "username_field.send_keys(username) \n",
    "\n",
    "if not is_visible(password_xpath): raise RuntimeError(\"Something went wrong with the password field :(\") \n",
    "password_field = chrome.find_element_by_xpath(password_xpath) \n",
    "password_field.send_keys(password) \n",
    "\n",
    "if not is_visible(sign_in_xpath): raise RuntimeError(\"Something went wrong with the sign in field :(\") \n",
    "sign_in_btn = chrome.find_element_by_xpath(sign_in_xpath) \n",
    "sign_in_btn.click() \n"
   ]
  },
  {
   "cell_type": "markdown",
   "metadata": {},
   "source": [
    "Here we call the is_visible function and pass the xpath of username, password and sign_in button respectively and wait for the element to appear withing timeout (here 30s). If not visible then we raise an RuntimeError with appropriate message.\n",
    "\n",
    "If it appears anytime earlier than 30s it proceeds and find the element by xpath (as now it is visible on the webpage so this call wouldn’t throw exception error).\n",
    "\n",
    "We then send the data and click on sign in and you can enjoy learning on GFG without any blocking call 😛"
   ]
  },
  {
   "cell_type": "code",
   "execution_count": null,
   "metadata": {},
   "outputs": [],
   "source": []
  }
 ],
 "metadata": {
  "kernelspec": {
   "display_name": "Python 3",
   "language": "python",
   "name": "python3"
  },
  "language_info": {
   "codemirror_mode": {
    "name": "ipython",
    "version": 3
   },
   "file_extension": ".py",
   "mimetype": "text/x-python",
   "name": "python",
   "nbconvert_exporter": "python",
   "pygments_lexer": "ipython3",
   "version": "3.7.3"
  }
 },
 "nbformat": 4,
 "nbformat_minor": 2
}
