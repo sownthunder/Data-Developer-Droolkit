{
 "cells": [
  {
   "cell_type": "markdown",
   "metadata": {},
   "source": [
    "# links to scrape:\n",
    "### - [ph.com model-page](https://pornhub.com/model/heather-kane/)\n",
    "### - [ph.com hot-videos-page](https://pornhub.com/)\n",
    "### - OTHER PEOPLES VIDEOS (comment)\n",
    "\n",
    "---\n",
    "\n",
    "# two paths:\n",
    "\n",
    "1) crawl\n",
    "\n",
    "2) comment\n",
    "\n",
    "---"
   ]
  },
  {
   "cell_type": "code",
   "execution_count": 1,
   "metadata": {},
   "outputs": [],
   "source": [
    "import os, sys, time\n",
    "from time import sleep\n",
    "from pathlib import Path\n",
    "import random, fnmatch, logging\n",
    "from urllib.parse import urlparse"
   ]
  },
  {
   "cell_type": "code",
   "execution_count": 2,
   "metadata": {},
   "outputs": [],
   "source": [
    "from selenium import webdriver\n",
    "from selenium.webdriver.common.keys import Keys\n",
    "from selenium.common.exceptions import WebDriverException as WDE\n",
    "from selenium.webdriver.common.proxy import Proxy"
   ]
  },
  {
   "cell_type": "code",
   "execution_count": 3,
   "metadata": {},
   "outputs": [],
   "source": [
    "import pandas as pd\n",
    "import numpy as np\n",
    "from pandas import Series, DataFrame"
   ]
  },
  {
   "cell_type": "code",
   "execution_count": 10,
   "metadata": {},
   "outputs": [],
   "source": [
    "from bs4 import BeautifulSoup\n",
    "import requests\n",
    "# IMPORT THE LIBRARY USED TO QUERY A WEBSITE\n",
    "from urllib.request import urlopen\n",
    "import wget\n",
    "from random import choice, randint"
   ]
  },
  {
   "cell_type": "code",
   "execution_count": 5,
   "metadata": {},
   "outputs": [],
   "source": [
    "def setup_logger(): #{\n",
    "    # RE-INSTANTIATE GLOBAL\n",
    "    global timestamp_str\n",
    "    # TRY THE FOLLOWING\n",
    "    try: #{\n",
    "        logging.basicConfig(level=logging.INFO,\n",
    "                           format=\"%(asctime)s:%(message)s\",\n",
    "                           filename=\"C:/data/Logs/PH-BOT-\" + timestamp_str + \".log\",\n",
    "                           filemode=\"a\")\n",
    "    #}\n",
    "    except: #{\n",
    "        print(\"failed setting up logger yo\")\n",
    "    #}\n",
    "    else: #{\n",
    "        print(\"SUCCESS! VERY NICE!\")\n",
    "    #}\n",
    "#}"
   ]
  },
  {
   "cell_type": "code",
   "execution_count": 14,
   "metadata": {},
   "outputs": [
    {
     "ename": "WebDriverException",
     "evalue": "Message: 'geckodriver' executable needs to be in PATH. \n",
     "output_type": "error",
     "traceback": [
      "\u001b[1;31m---------------------------------------------------------------------------\u001b[0m",
      "\u001b[1;31mFileNotFoundError\u001b[0m                         Traceback (most recent call last)",
      "\u001b[1;32m~\\Miniconda3\\lib\\site-packages\\selenium\\webdriver\\common\\service.py\u001b[0m in \u001b[0;36mstart\u001b[1;34m(self)\u001b[0m\n\u001b[0;32m     75\u001b[0m                                             \u001b[0mstderr\u001b[0m\u001b[1;33m=\u001b[0m\u001b[0mself\u001b[0m\u001b[1;33m.\u001b[0m\u001b[0mlog_file\u001b[0m\u001b[1;33m,\u001b[0m\u001b[1;33m\u001b[0m\u001b[1;33m\u001b[0m\u001b[0m\n\u001b[1;32m---> 76\u001b[1;33m                                             stdin=PIPE)\n\u001b[0m\u001b[0;32m     77\u001b[0m         \u001b[1;32mexcept\u001b[0m \u001b[0mTypeError\u001b[0m\u001b[1;33m:\u001b[0m\u001b[1;33m\u001b[0m\u001b[1;33m\u001b[0m\u001b[0m\n",
      "\u001b[1;32m~\\Miniconda3\\lib\\subprocess.py\u001b[0m in \u001b[0;36m__init__\u001b[1;34m(self, args, bufsize, executable, stdin, stdout, stderr, preexec_fn, close_fds, shell, cwd, env, universal_newlines, startupinfo, creationflags, restore_signals, start_new_session, pass_fds, encoding, errors, text)\u001b[0m\n\u001b[0;32m    774\u001b[0m                                 \u001b[0merrread\u001b[0m\u001b[1;33m,\u001b[0m \u001b[0merrwrite\u001b[0m\u001b[1;33m,\u001b[0m\u001b[1;33m\u001b[0m\u001b[1;33m\u001b[0m\u001b[0m\n\u001b[1;32m--> 775\u001b[1;33m                                 restore_signals, start_new_session)\n\u001b[0m\u001b[0;32m    776\u001b[0m         \u001b[1;32mexcept\u001b[0m\u001b[1;33m:\u001b[0m\u001b[1;33m\u001b[0m\u001b[1;33m\u001b[0m\u001b[0m\n",
      "\u001b[1;32m~\\Miniconda3\\lib\\subprocess.py\u001b[0m in \u001b[0;36m_execute_child\u001b[1;34m(self, args, executable, preexec_fn, close_fds, pass_fds, cwd, env, startupinfo, creationflags, shell, p2cread, p2cwrite, c2pread, c2pwrite, errread, errwrite, unused_restore_signals, unused_start_new_session)\u001b[0m\n\u001b[0;32m   1177\u001b[0m                                          \u001b[0mos\u001b[0m\u001b[1;33m.\u001b[0m\u001b[0mfspath\u001b[0m\u001b[1;33m(\u001b[0m\u001b[0mcwd\u001b[0m\u001b[1;33m)\u001b[0m \u001b[1;32mif\u001b[0m \u001b[0mcwd\u001b[0m \u001b[1;32mis\u001b[0m \u001b[1;32mnot\u001b[0m \u001b[1;32mNone\u001b[0m \u001b[1;32melse\u001b[0m \u001b[1;32mNone\u001b[0m\u001b[1;33m,\u001b[0m\u001b[1;33m\u001b[0m\u001b[1;33m\u001b[0m\u001b[0m\n\u001b[1;32m-> 1178\u001b[1;33m                                          startupinfo)\n\u001b[0m\u001b[0;32m   1179\u001b[0m             \u001b[1;32mfinally\u001b[0m\u001b[1;33m:\u001b[0m\u001b[1;33m\u001b[0m\u001b[1;33m\u001b[0m\u001b[0m\n",
      "\u001b[1;31mFileNotFoundError\u001b[0m: [WinError 2] The system cannot find the file specified",
      "\nDuring handling of the above exception, another exception occurred:\n",
      "\u001b[1;31mWebDriverException\u001b[0m                        Traceback (most recent call last)",
      "\u001b[1;32m<ipython-input-14-7f45a696fb40>\u001b[0m in \u001b[0;36m<module>\u001b[1;34m\u001b[0m\n\u001b[1;32m----> 1\u001b[1;33m \u001b[1;32mclass\u001b[0m \u001b[0mphBot\u001b[0m\u001b[1;33m(\u001b[0m\u001b[1;33m)\u001b[0m\u001b[1;33m:\u001b[0m \u001b[1;31m#{\u001b[0m\u001b[1;33m\u001b[0m\u001b[1;33m\u001b[0m\u001b[0m\n\u001b[0m\u001b[0;32m      2\u001b[0m \u001b[1;33m\u001b[0m\u001b[0m\n\u001b[0;32m      3\u001b[0m     \u001b[1;31m# INSTANTIATE CLASS VARIABLES\u001b[0m\u001b[1;33m\u001b[0m\u001b[1;33m\u001b[0m\u001b[1;33m\u001b[0m\u001b[0m\n\u001b[0;32m      4\u001b[0m     \u001b[0mlogging_directory\u001b[0m \u001b[1;33m=\u001b[0m \u001b[1;34m\"C:/data/Logs/PH-BOT-.log\"\u001b[0m\u001b[1;33m\u001b[0m\u001b[1;33m\u001b[0m\u001b[0m\n\u001b[0;32m      5\u001b[0m     \u001b[0mlinks_df\u001b[0m \u001b[1;33m=\u001b[0m \u001b[0mpd\u001b[0m\u001b[1;33m.\u001b[0m\u001b[0mDataFrame\u001b[0m\u001b[1;33m(\u001b[0m\u001b[0mdata\u001b[0m\u001b[1;33m=\u001b[0m\u001b[1;32mNone\u001b[0m\u001b[1;33m,\u001b[0m \u001b[0mdtype\u001b[0m\u001b[1;33m=\u001b[0m\u001b[0mnp\u001b[0m\u001b[1;33m.\u001b[0m\u001b[0mstr\u001b[0m\u001b[1;33m)\u001b[0m\u001b[1;33m\u001b[0m\u001b[1;33m\u001b[0m\u001b[0m\n",
      "\u001b[1;32m<ipython-input-14-7f45a696fb40>\u001b[0m in \u001b[0;36mphBot\u001b[1;34m()\u001b[0m\n\u001b[0;32m      4\u001b[0m     \u001b[0mlogging_directory\u001b[0m \u001b[1;33m=\u001b[0m \u001b[1;34m\"C:/data/Logs/PH-BOT-.log\"\u001b[0m\u001b[1;33m\u001b[0m\u001b[1;33m\u001b[0m\u001b[0m\n\u001b[0;32m      5\u001b[0m     \u001b[0mlinks_df\u001b[0m \u001b[1;33m=\u001b[0m \u001b[0mpd\u001b[0m\u001b[1;33m.\u001b[0m\u001b[0mDataFrame\u001b[0m\u001b[1;33m(\u001b[0m\u001b[0mdata\u001b[0m\u001b[1;33m=\u001b[0m\u001b[1;32mNone\u001b[0m\u001b[1;33m,\u001b[0m \u001b[0mdtype\u001b[0m\u001b[1;33m=\u001b[0m\u001b[0mnp\u001b[0m\u001b[1;33m.\u001b[0m\u001b[0mstr\u001b[0m\u001b[1;33m)\u001b[0m\u001b[1;33m\u001b[0m\u001b[1;33m\u001b[0m\u001b[0m\n\u001b[1;32m----> 6\u001b[1;33m     \u001b[0mfirefox_driver\u001b[0m \u001b[1;33m=\u001b[0m \u001b[0mwebdriver\u001b[0m\u001b[1;33m.\u001b[0m\u001b[0mFirefox\u001b[0m\u001b[1;33m(\u001b[0m\u001b[1;33m)\u001b[0m\u001b[1;33m\u001b[0m\u001b[1;33m\u001b[0m\u001b[0m\n\u001b[0m\u001b[0;32m      7\u001b[0m     \u001b[1;31m##########################\u001b[0m\u001b[1;33m\u001b[0m\u001b[1;33m\u001b[0m\u001b[1;33m\u001b[0m\u001b[0m\n\u001b[0;32m      8\u001b[0m     \u001b[1;31m##### SETUP DRIVER HERE? #\u001b[0m\u001b[1;33m\u001b[0m\u001b[1;33m\u001b[0m\u001b[1;33m\u001b[0m\u001b[0m\n",
      "\u001b[1;32m~\\Miniconda3\\lib\\site-packages\\selenium\\webdriver\\firefox\\webdriver.py\u001b[0m in \u001b[0;36m__init__\u001b[1;34m(self, firefox_profile, firefox_binary, timeout, capabilities, proxy, executable_path, options, service_log_path, firefox_options, service_args, desired_capabilities, log_path, keep_alive)\u001b[0m\n\u001b[0;32m    162\u001b[0m                 \u001b[0mservice_args\u001b[0m\u001b[1;33m=\u001b[0m\u001b[0mservice_args\u001b[0m\u001b[1;33m,\u001b[0m\u001b[1;33m\u001b[0m\u001b[1;33m\u001b[0m\u001b[0m\n\u001b[0;32m    163\u001b[0m                 log_path=service_log_path)\n\u001b[1;32m--> 164\u001b[1;33m             \u001b[0mself\u001b[0m\u001b[1;33m.\u001b[0m\u001b[0mservice\u001b[0m\u001b[1;33m.\u001b[0m\u001b[0mstart\u001b[0m\u001b[1;33m(\u001b[0m\u001b[1;33m)\u001b[0m\u001b[1;33m\u001b[0m\u001b[1;33m\u001b[0m\u001b[0m\n\u001b[0m\u001b[0;32m    165\u001b[0m \u001b[1;33m\u001b[0m\u001b[0m\n\u001b[0;32m    166\u001b[0m             \u001b[0mcapabilities\u001b[0m\u001b[1;33m.\u001b[0m\u001b[0mupdate\u001b[0m\u001b[1;33m(\u001b[0m\u001b[0moptions\u001b[0m\u001b[1;33m.\u001b[0m\u001b[0mto_capabilities\u001b[0m\u001b[1;33m(\u001b[0m\u001b[1;33m)\u001b[0m\u001b[1;33m)\u001b[0m\u001b[1;33m\u001b[0m\u001b[1;33m\u001b[0m\u001b[0m\n",
      "\u001b[1;32m~\\Miniconda3\\lib\\site-packages\\selenium\\webdriver\\common\\service.py\u001b[0m in \u001b[0;36mstart\u001b[1;34m(self)\u001b[0m\n\u001b[0;32m     81\u001b[0m                 raise WebDriverException(\n\u001b[0;32m     82\u001b[0m                     \"'%s' executable needs to be in PATH. %s\" % (\n\u001b[1;32m---> 83\u001b[1;33m                         os.path.basename(self.path), self.start_error_message)\n\u001b[0m\u001b[0;32m     84\u001b[0m                 )\n\u001b[0;32m     85\u001b[0m             \u001b[1;32melif\u001b[0m \u001b[0merr\u001b[0m\u001b[1;33m.\u001b[0m\u001b[0merrno\u001b[0m \u001b[1;33m==\u001b[0m \u001b[0merrno\u001b[0m\u001b[1;33m.\u001b[0m\u001b[0mEACCES\u001b[0m\u001b[1;33m:\u001b[0m\u001b[1;33m\u001b[0m\u001b[1;33m\u001b[0m\u001b[0m\n",
      "\u001b[1;31mWebDriverException\u001b[0m: Message: 'geckodriver' executable needs to be in PATH. \n"
     ]
    }
   ],
   "source": [
    "class phBot(): #{\n",
    "    \n",
    "    # INSTANTIATE CLASS VARIABLES\n",
    "    logging_directory = \"C:/data/Logs/PH-BOT-.log\"\n",
    "    links_df = pd.DataFrame(data=None, dtype=np.str)\n",
    "    path_to_driver = \n",
    "    firefox_driver = webdriver.Firefox()\n",
    "    ##########################\n",
    "    ##### SETUP DRIVER HERE? #\n",
    "    ##########################\n",
    "    \n",
    "    def __init__(self, infile, duration): #{\n",
    "        self.infile = infile\n",
    "        self.duration = duration\n",
    "        # DRIVER VARIABLE\n",
    "        print(\"...SETTING UP DRIVER...\")\n",
    "        self.driver = webdriver.Chrome()\n",
    "        self.driver.minimize_window()\n",
    "        print(\"infile == \" + str(self.infile))\n",
    "        print(\"duration == \" + str(duration))\n",
    "        print(\"\\nREADING IN 'infile' \\n\")\n",
    "        # OVERWRITE / SAVE DATAFRAME\n",
    "        self.links_df = pd.read_csv(self.infile, names=['Link','Count'], dtype=np.str, engine='python')\n",
    "        print(\"len of infile == \" + str(len(self.links_df)))\n",
    "        # PRINT OUT DATAFRAME HEAD \n",
    "        print(str(self.links_df.head()))\n",
    "    #}\n",
    "    \n",
    "    def get_proxy(self): #{\n",
    "        url = \"https://www.ssslproxies.org\"\n",
    "    #}\n",
    "    \n",
    "    def proxy_request(self, request_type, url, **kwargs): #{\n",
    "        pass\n",
    "    #}\n",
    "    \n",
    "    \"\"\"\n",
    "    def setup_driver(self): #{\n",
    "        self.driver = webdriver.Chrome()\n",
    "        self.driver.minimize_window()\n",
    "    #}\n",
    "    \"\"\"\n",
    "    \n",
    "    def teardown_driver(self): #{\n",
    "        # quit/end driver\n",
    "        self.driver.close()\n",
    "    #}\n",
    "    \n",
    "    def crawl_video_list(self, interval_num): #{\n",
    "        # CREATE DATAFRAME TO HOLD LINKS\n",
    "        #links_df = pd.DataFrame(data=links, dtype= np.str)\n",
    "        the_list = list(self.links_df['Link'])\n",
    "        print(\"[START]=============[START]\")\n",
    "        # setup variables\n",
    "        sleep_time = int(interval_num)\n",
    "        #####################\n",
    "        # check input types #\n",
    "        #####################\n",
    "        if type(the_list) is list: #{\n",
    "            print(\"...list lenth == \" + str(len(the_list)))\n",
    "            print(\"...generating random number...\")\n",
    "            rand_vid_num = randint(0, len(the_list))\n",
    "            print(\"THIS IS THE LIST:\")\n",
    "            # lOOP THROUGH\n",
    "            for list_item in the_list: #{\n",
    "                # VISIT WEBSITE\n",
    "                self.driver.get(str(list_item))\n",
    "                print(list_item)\n",
    "                # PRINT SITE TITLE\n",
    "                print(str(self.driver.title))\n",
    "                sleep(sleep_time)\n",
    "            #}\n",
    "            print(\"[END]============[END]\")\n",
    "            # pop off item from list\n",
    "            lepop = the_list.pop(0)\n",
    "            print(\"LIST ITEM POPPED: \" + str(lepop) + \"\\n[end-TRAVERSE&DROP]==========\")\n",
    "            # RECURSIVE CALL\n",
    "            #traverse_and_drop(the_list, sleep_time + 1)\n",
    "        #}\n",
    "        elif type(the_list) is pd.core.frame.DataFrame : #{\n",
    "            # LOOP THRU DATAFRAME\n",
    "            for item in the_list.itertuples(index=False): #{\n",
    "                print(item)\n",
    "            #}\n",
    "        #}\n",
    "        else: #{\n",
    "            print(\"not a list\")\n",
    "        #}\n",
    "    #}\n",
    "    def print_list(self): #{\n",
    "        print(str(self.links_df['Link']))\n",
    "    #}\n",
    "    \n",
    "    def make_comments(self, link_to_comment): #{\n",
    "        pass\n",
    "    #}\n",
    "    \n",
    "    def download_thumbnails(self, url_link): #{\n",
    "        pass\n",
    "    #}\n",
    "    \n",
    "    def scrape_urls(self, url_to_scrape, save_location): #{\n",
    "        pass\n",
    "    #}\n",
    "    \n",
    "    def check_file(self, infile): #{\n",
    "        print(infile)\n",
    "        print(self.infile)\n",
    "    #}\n",
    "    \n",
    "#}"
   ]
  },
  {
   "cell_type": "code",
   "execution_count": null,
   "metadata": {},
   "outputs": [],
   "source": [
    "ph_apollo = phBot(infile=\"c:/data/inbound/PH_list.csv\", duration=120)"
   ]
  },
  {
   "cell_type": "code",
   "execution_count": null,
   "metadata": {},
   "outputs": [],
   "source": [
    "ph_apollo.print_list()"
   ]
  },
  {
   "cell_type": "code",
   "execution_count": null,
   "metadata": {},
   "outputs": [],
   "source": [
    "ph_apollo.crawl_video_list(interval_num=45)"
   ]
  },
  {
   "cell_type": "code",
   "execution_count": 12,
   "metadata": {},
   "outputs": [],
   "source": []
  },
  {
   "cell_type": "code",
   "execution_count": 13,
   "metadata": {},
   "outputs": [],
   "source": []
  },
  {
   "cell_type": "code",
   "execution_count": 14,
   "metadata": {},
   "outputs": [],
   "source": [
    "def countdown(n): #{\n",
    "    while n >= 0: #{\n",
    "        print(str(n))\n",
    "        sleep(1)\n",
    "        n -= 1\n",
    "    #}\n",
    "    else: #{\n",
    "        print(\"blast off!\")\n",
    "    #}\n",
    "#}"
   ]
  },
  {
   "cell_type": "code",
   "execution_count": 7,
   "metadata": {},
   "outputs": [
    {
     "name": "stdout",
     "output_type": "stream",
     "text": [
      "infile == C:/data/inbound/PH_list.csv\n",
      "duration == 30\n",
      "len of infile == 21\n",
      "  https://www.pornhub.com/view_video.php?viewkey=ph5d47460626ec3  3\n",
      "0  https://www.pornhub.com/view_video.php?viewkey...              4\n",
      "1  https://www.pornhub.com/view_video.php?viewkey...              2\n",
      "2  https://www.pornhub.com/view_video.php?viewkey...              2\n",
      "3  https://www.pornhub.com/view_video.php?viewkey...              6\n",
      "4  https://www.pornhub.com/view_video.php?viewkey...              4\n"
     ]
    }
   ],
   "source": [
    "ph_1 = phBot(infile=\"C:/data/inbound/PH_list.csv\", duration=30)"
   ]
  },
  {
   "cell_type": "code",
   "execution_count": 16,
   "metadata": {},
   "outputs": [
    {
     "name": "stdout",
     "output_type": "stream",
     "text": [
      "poopyHEAD\n",
      "poop\n"
     ]
    }
   ],
   "source": [
    "ph_1.check_file(\"poopyHEAD\")"
   ]
  },
  {
   "cell_type": "markdown",
   "metadata": {},
   "source": [
    "## `BeautifulSoup4`"
   ]
  },
  {
   "cell_type": "code",
   "execution_count": 17,
   "metadata": {},
   "outputs": [],
   "source": [
    "def pull_video_ids_from_url(the_url): #{\n",
    "    # [2019-10-31]\\\\url = input(\"Enter a website to extract the ID's from:\")\n",
    "    url = str(the_url)\n",
    "    # [2019-10-31]\\\\r = requests.get(\"http://\" + url)\n",
    "    r = requests.get(\"http://\" + url)\n",
    "    data = r.text\n",
    "    soup = BeautifulSoup(data)\n",
    "    for li in soup.find_all('li'): #{\n",
    "        # WRITE TO LOG\n",
    "        logging.info(li.get('id'))\n",
    "    #}\n",
    "#}"
   ]
  },
  {
   "cell_type": "code",
   "execution_count": 18,
   "metadata": {},
   "outputs": [],
   "source": [
    "def enlarge_image(the_image_file, save_location): #{\n",
    "    pass\n",
    "#}"
   ]
  },
  {
   "cell_type": "code",
   "execution_count": 19,
   "metadata": {},
   "outputs": [],
   "source": [
    "def pull_images_from_url(): #{\n",
    "    url = input(\"Enter a website to extract the IMG's from: \")\n",
    "    r = requests.get(\"http://\" + url)\n",
    "    data = r.text\n",
    "    soup = BeautifulSoup(data)\n",
    "    for img in soup.find_all('img'): #{\n",
    "        print(img.get('src'))\n",
    "        # CHECK IF .JPG\n",
    "        # WRITE TO LOG\n",
    "        logging.info(img.get('src'))\n",
    "    #}\n",
    "#}"
   ]
  },
  {
   "cell_type": "code",
   "execution_count": 20,
   "metadata": {},
   "outputs": [],
   "source": [
    "def pull_links_from_url(): #{\n",
    "    # RE-INSTANTIATE GLOBALS\n",
    "    global link_list\n",
    "    url = input(\"Enter a website to extract the URL's from: \")\n",
    "    r = requests.get(\"http://\" + url)\n",
    "    data = r.text\n",
    "    soup = BeautifulSoup(data)\n",
    "    for link in soup.find_all('a'): #{\n",
    "        # WRTIE TO LOG\n",
    "        logging.info(link.get('href'))\n",
    "        # CREATE VARIABLE OF POSSIBLE LINK\n",
    "        soup_link = str(link.get('href'))\n",
    "        # CHECK TO SEE IF VALID LINK\n",
    "        if fnmatch.fnmatch(soup_link, \"*view_video.php?*\"): #{\n",
    "            # IS A LEGIT LINK... now check if fully complete or not\n",
    "            #print(soup_link)\n",
    "            if fnmatch.fnmatch(soup_link, \"*https://www.pornhub.com/*\"): #{\n",
    "                # IT IS A COMPLETE LINK! append to list?\n",
    "                print(soup_link)\n",
    "                link_list.append(soup_link)\n",
    "            #}\n",
    "            else: #{\n",
    "                # ITS NOT COMPLETE! SO COMPLETE IT!\n",
    "                corrected_link = str(\"https://www.pornhub.com\" + soup_link)\n",
    "                print(\"CORRECTED LINK == \" + corrected_link)\n",
    "                link_list.append(soup_link)\n",
    "            #}\n",
    "        #}\n",
    "        else: #{\n",
    "            print(\"NOT LEGIT LINK!\")\n",
    "        #}\n",
    "        \n",
    "    #}\n",
    "#}"
   ]
  },
  {
   "cell_type": "code",
   "execution_count": null,
   "metadata": {},
   "outputs": [],
   "source": [
    "if __name__ == \"__main__\": #{\n",
    "    \n",
    "#}"
   ]
  }
 ],
 "metadata": {
  "kernelspec": {
   "display_name": "Python 3",
   "language": "python",
   "name": "python3"
  },
  "language_info": {
   "codemirror_mode": {
    "name": "ipython",
    "version": 3
   },
   "file_extension": ".py",
   "mimetype": "text/x-python",
   "name": "python",
   "nbconvert_exporter": "python",
   "pygments_lexer": "ipython3",
   "version": "3.7.3"
  }
 },
 "nbformat": 4,
 "nbformat_minor": 4
}
