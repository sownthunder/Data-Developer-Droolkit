{
 "cells": [
  {
   "cell_type": "code",
   "execution_count": 1,
   "metadata": {},
   "outputs": [],
   "source": [
    "import os, sys, time\n",
    "from time import sleep\n",
    "from PILL import Image"
   ]
  },
  {
   "cell_type": "markdown",
   "metadata": {},
   "source": [
    "### convert files to `JPEG`"
   ]
  },
  {
   "cell_type": "code",
   "execution_count": 2,
   "metadata": {},
   "outputs": [
    {
     "name": "stdout",
     "output_type": "stream",
     "text": [
      "cannot convert -f\n",
      "cannot convert C:\\Users\\BabyPoopSoup\\AppData\\Roaming\\jupyter\\runtime\\kernel-390f2eab-239d-4433-b4b6-c8fbd2408632.json\n"
     ]
    }
   ],
   "source": [
    "for infile in sys.argv[1:]: #{\n",
    "    f, e = os.path.splitext(infile)\n",
    "    outfile = f + \".jpg\"\n",
    "    if infile != outfile: #{\n",
    "        try: #{\n",
    "            Image.open(infile).save(outfile)\n",
    "        #}\n",
    "        except IOError: #{\n",
    "            print(\"cannot convert\", infile)\n",
    "        #}\n",
    "    #}\n",
    "#}"
   ]
  },
  {
   "cell_type": "code",
   "execution_count": null,
   "metadata": {},
   "outputs": [],
   "source": []
  }
 ],
 "metadata": {
  "kernelspec": {
   "display_name": "Python 3",
   "language": "python",
   "name": "python3"
  },
  "language_info": {
   "codemirror_mode": {
    "name": "ipython",
    "version": 3
   },
   "file_extension": ".py",
   "mimetype": "text/x-python",
   "name": "python",
   "nbconvert_exporter": "python",
   "pygments_lexer": "ipython3",
   "version": "3.7.3"
  }
 },
 "nbformat": 4,
 "nbformat_minor": 2
}
