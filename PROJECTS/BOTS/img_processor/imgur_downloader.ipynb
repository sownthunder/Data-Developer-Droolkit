{
 "cells": [
  {
   "cell_type": "code",
   "execution_count": 1,
   "metadata": {},
   "outputs": [],
   "source": [
    "import os, sys, time\n",
    "from time import sleep\n",
    "from pathlib import Path"
   ]
  },
  {
   "cell_type": "code",
   "execution_count": 2,
   "metadata": {},
   "outputs": [],
   "source": [
    "import fnmatch, logging\n",
    "import pandas as pd\n",
    "import numpy as np\n",
    "from pandas import Series, DataFrame\n",
    "from selenium import webdriver\n",
    "from selenium.webdriver.common.keys import Keys"
   ]
  },
  {
   "cell_type": "code",
   "execution_count": 3,
   "metadata": {},
   "outputs": [],
   "source": [
    "from bs4 import BeautifulSoup\n",
    "import requests\n",
    "# IMPORT THE LIBRARY USED TO QUERY A WEBSITE\n",
    "import urllib.request as urllib2\n",
    "import wget"
   ]
  },
  {
   "cell_type": "markdown",
   "metadata": {},
   "source": [
    "## Setup LOGGER"
   ]
  },
  {
   "cell_type": "code",
   "execution_count": 4,
   "metadata": {},
   "outputs": [],
   "source": [
    "def setup_logger(): #{\n",
    "    # RE-INSTANTIATE GLOBAL\n",
    "    global timestamp_str\n",
    "    # TRY THE FOLLOWING\n",
    "    try: #{\n",
    "        logging.basicConfig(level=logging.INFO,\n",
    "                           format=\"%(asctime)s:%(message)s\",\n",
    "                           filename=\"C:/data/Logs/IMGUR-downloader\" + timestamp_str + \".log\",\n",
    "                           filemode=\"a\")\n",
    "    #}\n",
    "    except: #{\n",
    "        print(\"failed setting up logger yo\")\n",
    "    #}\n",
    "    else: #{\n",
    "        print(\"SUCCESS! VERY NICE!\")\n",
    "    #}\n",
    "#}"
   ]
  },
  {
   "cell_type": "markdown",
   "metadata": {},
   "source": [
    "## MAKE DIRECTORY FOR TODAYS DATE:"
   ]
  },
  {
   "cell_type": "code",
   "execution_count": 5,
   "metadata": {
    "scrolled": true
   },
   "outputs": [
    {
     "name": "stdout",
     "output_type": "stream",
     "text": [
      "2019-10-31\n",
      "10-09-37\n",
      "2019-10-31_10-09-37\n",
      "SUCCESS! VERY NICE!\n"
     ]
    },
    {
     "name": "stderr",
     "output_type": "stream",
     "text": [
      "C:\\Users\\BabyPoopSoup\\Miniconda3\\lib\\site-packages\\ipykernel_launcher.py:26: DeprecationWarning: use options instead of chrome_options\n"
     ]
    },
    {
     "name": "stdout",
     "output_type": "stream",
     "text": [
      "https://clipcentric-a.akamaihd.net/file/869345/master/1570709107/bCsK_Oy_.webp\n",
      "2\n",
      "https://clipcentric-a.akamaihd.net/file/875533/master/1571934818/ICe2P6Xc.webp\n",
      "3\n",
      "https://s.imgur.com/desktop-assets/desktop-assets/Navbar-logo.9c748ecccb607d5f3f00d7eee7a22f42.svg\n",
      "4\n",
      "https://s.imgur.com/desktop-assets/desktop-assets/icon-new-post.13ab64f9f36ad8f25ae3544b350e2ae1.svg\n",
      "5\n",
      "https://s.imgur.com/images/favicon-32x32.png\n",
      "6\n",
      "https://s.imgur.com/desktop-assets/desktop-assets/icon-search.8d0f9b564a4659d48d8eca38b968a7f2.svg\n",
      "7\n",
      "https://s.imgur.com/desktop-assets/desktop-assets/icon-leaderboard.2c7c197ab7cc58a23c14b83dcc3025a9.svg\n",
      "8\n",
      "https://s.imgur.com/images/favicon-32x32.png\n",
      "9\n",
      "https://s.imgur.com/desktop-assets/desktop-assets/icon-pause.68f07ce1a7e07bac06d1f2c527d7a9e5.svg\n",
      "10\n",
      "https://i.imgur.com/WyZWXcn_d.jpg?maxwidth=520&shape=thumb&fidelity=high\n",
      "11\n",
      "https://s.imgur.com/desktop-assets/desktop-assets/icon-chat-filled.b12fed0067e4ce444f710411ee6a70e1.svg\n",
      "12\n",
      "https://s.imgur.com/desktop-assets/desktop-assets/icon-eye.bf703aed21e47a30269da39879c03ccf.svg\n",
      "13\n",
      "https://i.imgur.com/ojj9M4e_d.jpg?maxwidth=520&shape=thumb&fidelity=high\n",
      "14\n",
      "https://s.imgur.com/desktop-assets/desktop-assets/icon-chat-filled.b12fed0067e4ce444f710411ee6a70e1.svg\n",
      "15\n",
      "https://s.imgur.com/desktop-assets/desktop-assets/icon-eye.bf703aed21e47a30269da39879c03ccf.svg\n",
      "16\n",
      "https://i.imgur.com/A1qt8AT_d.jpg?maxwidth=520&shape=thumb&fidelity=high\n",
      "17\n",
      "https://s.imgur.com/desktop-assets/desktop-assets/icon-chat-filled.b12fed0067e4ce444f710411ee6a70e1.svg\n",
      "18\n",
      "https://s.imgur.com/desktop-assets/desktop-assets/icon-eye.bf703aed21e47a30269da39879c03ccf.svg\n",
      "19\n",
      "https://s.imgur.com/desktop-assets/desktop-assets/icon-chat-filled.b12fed0067e4ce444f710411ee6a70e1.svg\n",
      "20\n",
      "https://s.imgur.com/desktop-assets/desktop-assets/icon-eye.bf703aed21e47a30269da39879c03ccf.svg\n",
      "21\n",
      "https://s.imgur.com/desktop-assets/desktop-assets/icon-chat-filled.b12fed0067e4ce444f710411ee6a70e1.svg\n",
      "22\n",
      "https://s.imgur.com/desktop-assets/desktop-assets/icon-eye.bf703aed21e47a30269da39879c03ccf.svg\n",
      "23\n",
      "https://i.imgur.com/HLbXEHT_d.jpg?maxwidth=520&shape=thumb&fidelity=high\n",
      "24\n",
      "https://s.imgur.com/desktop-assets/desktop-assets/icon-chat-filled.b12fed0067e4ce444f710411ee6a70e1.svg\n",
      "25\n",
      "https://s.imgur.com/desktop-assets/desktop-assets/icon-eye.bf703aed21e47a30269da39879c03ccf.svg\n",
      "26\n",
      "https://i.imgur.com/fnXfOZB_d.jpg?maxwidth=520&shape=thumb&fidelity=high\n",
      "27\n",
      "https://s.imgur.com/desktop-assets/desktop-assets/icon-chat-filled.b12fed0067e4ce444f710411ee6a70e1.svg\n",
      "28\n",
      "https://s.imgur.com/desktop-assets/desktop-assets/icon-eye.bf703aed21e47a30269da39879c03ccf.svg\n",
      "29\n",
      "https://i.imgur.com/03Q7MU5_d.jpg?maxwidth=520&shape=thumb&fidelity=high\n",
      "30\n",
      "https://s.imgur.com/desktop-assets/desktop-assets/icon-chat-filled.b12fed0067e4ce444f710411ee6a70e1.svg\n",
      "31\n",
      "https://s.imgur.com/desktop-assets/desktop-assets/icon-eye.bf703aed21e47a30269da39879c03ccf.svg\n",
      "32\n",
      "https://i.imgur.com/YPlJZ8J_d.jpg?maxwidth=520&shape=thumb&fidelity=high\n",
      "33\n",
      "https://s.imgur.com/desktop-assets/desktop-assets/icon-chat-filled.b12fed0067e4ce444f710411ee6a70e1.svg\n",
      "34\n",
      "https://s.imgur.com/desktop-assets/desktop-assets/icon-eye.bf703aed21e47a30269da39879c03ccf.svg\n",
      "35\n",
      "https://s.imgur.com/desktop-assets/desktop-assets/icon-chat-filled.b12fed0067e4ce444f710411ee6a70e1.svg\n",
      "36\n",
      "https://s.imgur.com/desktop-assets/desktop-assets/icon-eye.bf703aed21e47a30269da39879c03ccf.svg\n",
      "37\n",
      "https://s.imgur.com/desktop-assets/desktop-assets/icon-chat-filled.b12fed0067e4ce444f710411ee6a70e1.svg\n",
      "38\n",
      "https://s.imgur.com/desktop-assets/desktop-assets/icon-eye.bf703aed21e47a30269da39879c03ccf.svg\n",
      "39\n",
      "https://s.imgur.com/desktop-assets/desktop-assets/icon-chat-filled.b12fed0067e4ce444f710411ee6a70e1.svg\n",
      "40\n",
      "https://s.imgur.com/desktop-assets/desktop-assets/icon-eye.bf703aed21e47a30269da39879c03ccf.svg\n",
      "41\n",
      "https://i.imgur.com/HzB57ql_d.jpg?maxwidth=520&shape=thumb&fidelity=high\n",
      "42\n",
      "https://s.imgur.com/desktop-assets/desktop-assets/icon-chat-filled.b12fed0067e4ce444f710411ee6a70e1.svg\n",
      "43\n",
      "https://s.imgur.com/desktop-assets/desktop-assets/icon-eye.bf703aed21e47a30269da39879c03ccf.svg\n",
      "44\n",
      "https://s.imgur.com/desktop-assets/desktop-assets/icon-chat-filled.b12fed0067e4ce444f710411ee6a70e1.svg\n",
      "45\n",
      "https://s.imgur.com/desktop-assets/desktop-assets/icon-eye.bf703aed21e47a30269da39879c03ccf.svg\n",
      "46\n",
      "https://i.imgur.com/zDvfJEo_d.jpg?maxwidth=520&shape=thumb&fidelity=high\n",
      "47\n",
      "https://s.imgur.com/desktop-assets/desktop-assets/icon-chat-filled.b12fed0067e4ce444f710411ee6a70e1.svg\n",
      "48\n",
      "https://s.imgur.com/desktop-assets/desktop-assets/icon-eye.bf703aed21e47a30269da39879c03ccf.svg\n",
      "49\n",
      "https://i.imgur.com/y32Bboy_d.jpg?maxwidth=520&shape=thumb&fidelity=high\n",
      "50\n",
      "https://s.imgur.com/desktop-assets/desktop-assets/icon-chat-filled.b12fed0067e4ce444f710411ee6a70e1.svg\n",
      "51\n",
      "https://s.imgur.com/desktop-assets/desktop-assets/icon-eye.bf703aed21e47a30269da39879c03ccf.svg\n",
      "52\n",
      "https://s.imgur.com/desktop-assets/desktop-assets/icon-chat-filled.b12fed0067e4ce444f710411ee6a70e1.svg\n",
      "53\n",
      "https://s.imgur.com/desktop-assets/desktop-assets/icon-eye.bf703aed21e47a30269da39879c03ccf.svg\n",
      "54\n",
      "https://i.imgur.com/rVILVmG_d.jpg?maxwidth=520&shape=thumb&fidelity=high\n",
      "55\n",
      "https://s.imgur.com/desktop-assets/desktop-assets/icon-chat-filled.b12fed0067e4ce444f710411ee6a70e1.svg\n",
      "56\n",
      "https://s.imgur.com/desktop-assets/desktop-assets/icon-eye.bf703aed21e47a30269da39879c03ccf.svg\n",
      "57\n",
      "https://s.imgur.com/desktop-assets/desktop-assets/icon-chat-filled.b12fed0067e4ce444f710411ee6a70e1.svg\n",
      "58\n",
      "https://s.imgur.com/desktop-assets/desktop-assets/icon-eye.bf703aed21e47a30269da39879c03ccf.svg\n",
      "59\n",
      "https://s.imgur.com/desktop-assets/desktop-assets/icon-points.5867bfb88971853dcfdf49b18f8455b9.svg\n",
      "60\n"
     ]
    },
    {
     "ename": "SystemExit",
     "evalue": "69",
     "output_type": "error",
     "traceback": [
      "An exception has occurred, use %tb to see the full traceback.\n",
      "\u001b[1;31mSystemExit\u001b[0m\u001b[1;31m:\u001b[0m 69\n"
     ]
    },
    {
     "name": "stderr",
     "output_type": "stream",
     "text": [
      "C:\\Users\\BabyPoopSoup\\Miniconda3\\lib\\site-packages\\IPython\\core\\interactiveshell.py:3334: UserWarning: To exit: use 'exit', 'quit', or Ctrl-D.\n",
      "  warn(\"To exit: use 'exit', 'quit', or Ctrl-D.\", stacklevel=1)\n"
     ]
    }
   ],
   "source": [
    "if __name__ == \"__main__\": #{\n",
    "    # INSTANTIATE GLOBAL VARIABLES\n",
    "    out_directory = \"C:/data/outbound/imgur/\"\n",
    "    ts_date_str = str(pd.Timestamp.now())[:10]\n",
    "    ts_time_str = str(pd.Timestamp.now())[11:19]\n",
    "    ts_time_str = ts_time_str.replace(\":\",\"-\")\n",
    "    timestamp_str = ts_date_str + \"_\" + ts_time_str\n",
    "    print(ts_date_str)\n",
    "    print(ts_time_str)\n",
    "    print(timestamp_str)\n",
    "    ###########################################################\n",
    "    setup_logger()\n",
    "    #######################################################\n",
    "    # CHECK AND CREATE NEW DIR PATH\n",
    "    new_dir_path = os.path.join(out_directory, str(ts_date_str + \"-\" + str(ts_time_str)))\n",
    "    # IF 'NEW DIR' DOES NOT EXIST (it wont)\n",
    "    if not os.path.exists(new_dir_path): #{\n",
    "        # MAKE IT EXIST!\n",
    "        os.makedirs(new_dir_path)\n",
    "    #}\n",
    "    \n",
    "    options = webdriver.ChromeOptions()\n",
    "    options.add_argument('--ignore-certificate-errors')\n",
    "    options.add_argument(\"--test-type\")\n",
    "    #options.binary_location = \"/usr/bin/chromium/\"\n",
    "    driver = webdriver.Chrome(chrome_options=options)\n",
    "    \n",
    "    driver.get('https://imgur.com/')\n",
    "    \n",
    "    images = driver.find_elements_by_tag_name('img')\n",
    "    \n",
    "    # COUNTER\n",
    "    i = 1\n",
    "    for image in images: #{\n",
    "        logging.info(image.get_attribute('src'))\n",
    "        print(str(image.get_attribute('src')))\n",
    "        # GET IMAGE SOURCE\n",
    "        src = image.get_attribute('src')\n",
    "        # CREATE FILENAME\n",
    "        file_name = ts_date_str + \"-\" + ts_time_str + str(i) + \".png\"\n",
    "        # CREATE FILE_PATH\n",
    "        file_path = os.path.join(new_dir_path, file_name)\n",
    "        # DOWNLOAD IMAGE\n",
    "        urllib2.urlretrieve(src, file_path)\n",
    "        # INCREASE COUNT\n",
    "        i += 1\n",
    "        logging.info(str(i))\n",
    "        print(str(i))\n",
    "    #}\n",
    "    # QUIT OUT OF DRIVER\n",
    "    driver.close()\n",
    "    # END THE PROGRAM\n",
    "    sys.exit(69)\n",
    "#}"
   ]
  },
  {
   "cell_type": "code",
   "execution_count": null,
   "metadata": {},
   "outputs": [],
   "source": []
  }
 ],
 "metadata": {
  "kernelspec": {
   "display_name": "Python 3",
   "language": "python",
   "name": "python3"
  },
  "language_info": {
   "codemirror_mode": {
    "name": "ipython",
    "version": 3
   },
   "file_extension": ".py",
   "mimetype": "text/x-python",
   "name": "python",
   "nbconvert_exporter": "python",
   "pygments_lexer": "ipython3",
   "version": "3.7.3"
  }
 },
 "nbformat": 4,
 "nbformat_minor": 4
}
