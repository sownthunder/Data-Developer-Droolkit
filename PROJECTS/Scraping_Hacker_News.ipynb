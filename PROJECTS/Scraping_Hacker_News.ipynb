{
 "cells": [
  {
   "cell_type": "markdown",
   "metadata": {},
   "source": [
    "We’re going to scrape the https://news.ycombinator.com/news front page, using\n",
    "requests and Beautiful Soup. \n",
    "\n",
    "Take some time to explore the page if you haven’t heard\n",
    "about it already. \n",
    "\n",
    "Hacker News is a popular aggregator of news articles that “hackers”\n",
    "(computer scientists, entrepreneurs, data scientists) find interesting.\n",
    "We’ll store the scraped information in a simple Python list of dictionary objects for\n",
    "this example. The code to scrape this page looks as follows:"
   ]
  },
  {
   "cell_type": "code",
   "execution_count": null,
   "metadata": {},
   "outputs": [],
   "source": [
    "import requests\n",
    "import re\n",
    "from bs4 import BeautifulSoup\n",
    "articles = []\n",
    "url = 'https://news.ycombinator.com/news'\n",
    "r = requests.get(url)\n",
    "html_soup = BeautifulSoup(r.text, 'html.parser')\n",
    "for item in html_soup.find_all('tr', class_='athing'):\n",
    "item_a = item.find('a', class_='storylink')\n",
    "item_link = item_a.get('href') if item_a else None\n",
    "item_text = item_a.get_text(strip=True) if item_a else None\n",
    "next_row = item.find_next_sibling('tr')\n",
    "item_score = next_row.find('span', class_='score')\n",
    "item_score = item_score.get_text(strip=True) if item_score else '0 points'\n",
    "# We use regex here to find the correct element\n",
    "item_comments = next_row.find('a', string=re.compile('\\d+(&nbsp;|\\s)\n",
    "comment(s?)'))\n",
    "item_comments = item_comments.get_text(strip=True).replace('\\xa0', ' ') \\\n",
    "if item_comments else '0 comments'\n",
    "articles.append({\n",
    "'link' : item_link,\n",
    "'title' : item_text,\n",
    "'score' : item_score,\n",
    "'comments' : item_comments})\n",
    "for article in articles:\n",
    "print(article)"
   ]
  },
  {
   "cell_type": "markdown",
   "metadata": {},
   "source": [
    "This will output the following:\n",
    "\n",
    "`{'li nk': 'http://moolenaar.net/habits.html', 'title': 'Seven habits of \n",
    "effective text editing (2000)', 'score': '44 points', 'comments': \n",
    "'9 comments'}\n",
    "{'li nk': 'https://www.repository.cam.ac.uk/handle/1810/251038', 'title': \n",
    "'Properties of expanding universes (1966)', 'score': '52 points', \n",
    "'comments': '8 comments'}\n",
    "[...]`\n",
    "\n",
    "\n",
    "Try expanding this code to scrape a link to the comments page as well. Think\n",
    "about potential use cases that would be possible when you also scrape the comments\n",
    "themselves (for example, in the context of text mining)."
   ]
  },
  {
   "cell_type": "code",
   "execution_count": null,
   "metadata": {},
   "outputs": [],
   "source": []
  }
 ],
 "metadata": {
  "kernelspec": {
   "display_name": "Python 3",
   "language": "python",
   "name": "python3"
  },
  "language_info": {
   "codemirror_mode": {
    "name": "ipython",
    "version": 3
   },
   "file_extension": ".py",
   "mimetype": "text/x-python",
   "name": "python",
   "nbconvert_exporter": "python",
   "pygments_lexer": "ipython3",
   "version": "3.7.3"
  }
 },
 "nbformat": 4,
 "nbformat_minor": 4
}
