{
 "cells": [
  {
   "cell_type": "markdown",
   "metadata": {},
   "source": [
    "Start Time == 5:00 AM\n",
    "\n",
    "Run Time == 14 Hours\n",
    "\n",
    "Drive Code Steps:\n",
    "\n",
    "1) WATCH DIRECTORY THROUGHOUT DAY\n",
    "\n",
    "2) "
   ]
  },
  {
   "cell_type": "markdown",
   "metadata": {},
   "source": [
    "---\n",
    "### *DEFINE IMPORTS*"
   ]
  },
  {
   "cell_type": "code",
   "execution_count": 1,
   "metadata": {},
   "outputs": [],
   "source": [
    "# IMPORT THE GOODS\n",
    "import os, sys, time\n",
    "from time import sleep\n",
    "from pathlib import Path\n",
    "import fnmatch, glob, shutil\n",
    "import pandas as pd\n",
    "import numpy as np\n",
    "from pandas import Series, DataFrame"
   ]
  },
  {
   "cell_type": "code",
   "execution_count": 2,
   "metadata": {},
   "outputs": [],
   "source": [
    "from threading import Timer"
   ]
  },
  {
   "cell_type": "code",
   "execution_count": 3,
   "metadata": {},
   "outputs": [],
   "source": [
    "from watchdog.observers import Observer\n",
    "from watchdog.events import FileSystemEventHandler"
   ]
  },
  {
   "cell_type": "markdown",
   "metadata": {},
   "source": [
    "### *DEFINE CLASSES*"
   ]
  },
  {
   "cell_type": "code",
   "execution_count": null,
   "metadata": {},
   "outputs": [],
   "source": [
    "class CofA_Event_Handler(FileSystemEventHandler): #{\n",
    "    \n",
    "    def __init__(self, df_save_list, in_directory): #{\n",
    "        self.df_save_list = df_save_list\n",
    "        self.in_directory = in_directory\n",
    "    #}\n",
    "    \n",
    "    def on_created(self, event): #{\n",
    "        # RE-INSTANTIATE GLOBALS\n",
    "        global df_save_list\n",
    "        # CREATE TIME STAMP\n",
    "        ts = pd.Timestamp.now()\n",
    "        # CREATE EVENT PATH VAR\n",
    "        the_event_path = Path(event.src_path)\n",
    "        # CREATE \"file_name\" VAR\n",
    "        file_name = os.path.basename(the_event_path)\n",
    "        # CHECK AND SEE IF FILE IS OF TYPE .PDF\n",
    "        if fnmatch.fnmatch(file_name, \"*.pdf\"): #{\n",
    "            # CREATE FILE NAME CONVENTION\n",
    "            file_name_conv = generate_naming_convention(file_name)\n",
    "            # CREATE EVENT ITEM FOR LIST\n",
    "            event_list = [str(file_name_conv), str(ts)]\n",
    "            # APPEND EVENT ITEM TO \"save_list\"\n",
    "            df_save_list = append_to_dataframe(the_event_list=event_list,\n",
    "                                              dataframe_to_append=df_save_list)\n",
    "        #}\n",
    "        else: #{\n",
    "            print(\"NON-PDF CREATED AT \" + str(ts))\n",
    "        #}\n",
    "    #}\n",
    "    \n",
    "#}"
   ]
  },
  {
   "cell_type": "markdown",
   "metadata": {},
   "source": [
    "### *DEFINE FUNCTIONS*"
   ]
  },
  {
   "cell_type": "code",
   "execution_count": 1,
   "metadata": {},
   "outputs": [],
   "source": [
    "\"\"\"\n",
    "TAKES IN:\n",
    "(1) path to pdf \n",
    "RETURNS: \n",
    "the STRING of that PDF to match the naming convention\n",
    "in G:/C of A's/#Email Node/ from F:/APPS/CofA/\n",
    "\"\"\"\n",
    "def generate_naming_convention(the_pdf_path): #{\n",
    "    # get/set filename to variable\n",
    "    the_file_name = str(os.path.basename(the_pdf_path))\n",
    "    # PERFORM STRING OPERATIONS\n",
    "    #################################\n",
    "    idx_mrk = the_file_name.rfind('@', 0, len(the_file_name))\n",
    "    half1 = str(the_file_name[0:idx_mrk])\n",
    "    half2 = str(the_file_name[idx_mrk + 1:len(the_file_name)])\n",
    "    print(\"\\t\\t[*************************]\")\n",
    "    print(\"\\t\\t|>>> HALF 1 == \" + half1)\n",
    "    print(\"\\t\\t|>>> HALF 2 == \" + half2)\n",
    "    #  setup NEW FILE NAME (for copy)\n",
    "    new_name = \"part \"\n",
    "    new_name += str(half1)\n",
    "    new_name += \" CofA Lot# \"\n",
    "    new_name += str(half2)\n",
    "    print(\"\\t\\t|>>> NEW NAME == \" + str(new_name))\n",
    "    print(\"\\t\\t[*************************]\")\n",
    "    #################################\n",
    "    return str(new_name)\n",
    "#}"
   ]
  },
  {
   "cell_type": "code",
   "execution_count": 2,
   "metadata": {},
   "outputs": [],
   "source": [
    "\"\"\"\n",
    "TAKES IN: \n",
    "(1) LIST-type obj containing:\n",
    "    - basename (CofA etc)[*.pdf]\n",
    "    - timestamp\n",
    "    - \"Created\" **OR** \"Modified category\"\n",
    "(2) DataFrame obj containing:\n",
    "    - that the newest row will be appended too\n",
    "RETURNS: \n",
    "DataFrame (not in-place) with newly\n",
    "appended tuple row etc \n",
    "\"\"\"\n",
    "def append_to_dataframe(the_event_list, dataframe_to_append): #{\n",
    "    # TRY THE FOLLOWING\n",
    "    try: #{\n",
    "        # CHECK IF LIST\n",
    "        if type(the_event_list) is list : #{  # WAS: (the_event_list is list)\n",
    "            print(\"\\t\\tLIST check == PASS\")\n",
    "            # SEPERATE COLUMNS\n",
    "            col_1 = str(the_event_list[0])\n",
    "            col_2 = str(the_event_list[1])\n",
    "            #col_3 = str(the_event_list[2])\n",
    "            # CREATE APPENDAGE FRAME\n",
    "            df_appendage = pd.DataFrame(data=[the_event_list], \n",
    "                                        columns=['CofA', 'Timestamp'])\n",
    "            # CREATE INSTANCE OF DATAFRAME WE ARE RETURNING\n",
    "            return_df = dataframe_to_append.append(df_appendage, ignore_index=True, sort=False)\n",
    "            print(return_df.tail(5))\n",
    "        #}\n",
    "        else: #{\n",
    "            print(\"\\t\\tLIST check == FAIL\")\n",
    "        #}\n",
    "    #}\n",
    "    except: #{\n",
    "        errorMessage = str(sys.exc_info()[0]) + \"\\n\\t\\t\"\n",
    "        errorMessage = errorMessage + str(sys.exc_info()[1]) + \"\\n\\t\\t\"\n",
    "        errorMessage = errorMessage + str(sys.exc_info()[2]) + \"\\n\"\n",
    "        exc_type, exc_obj, exc_tb = sys.exc_info()\n",
    "        fname = os.path.split(exc_tb.tb_frame.f_code.co_filename)[1]\n",
    "        typeE = str(\"TYPE : \" + str(exc_type))\n",
    "        fileE = str(\"FILE : \" + str(fname))\n",
    "        lineE = str(\"LINE : \" + str(exc_tb.tb_lineno))\n",
    "        messageE = str(\"MESG : \" + \"\\n\" + str(errorMessage) + \"\\n\")\n",
    "        logging.error(\"\\n\" + typeE +\n",
    "              \"\\n\" + fileE +\n",
    "              \"\\n\" + lineE +\n",
    "              \"\\n\" + messageE)\n",
    "    #}\n",
    "    else: #{\n",
    "        print(\"\\t\\t[Append-2-DataFrame] FIN...\")\n",
    "        return return_df\n",
    "    #}\n",
    "    finally: #{\n",
    "        # CREATE END-TIME VAR\n",
    "        time_end = pd.Timestamp.now()\n",
    "        # DETERMINE OVERALL RUN-TIME\n",
    "        run_time = pd.Timedelta(time_end - time_start)\n",
    "        # PRINT TOTAL RUNTIME\n",
    "        print(\"\\t\\t[Append-2-DataFrame] >>> time_alloted: \"+ str(run_time))\n",
    "    #}\n",
    "#}"
   ]
  },
  {
   "cell_type": "code",
   "execution_count": null,
   "metadata": {},
   "outputs": [],
   "source": [
    "def execute_scanning(): #{\n",
    "    \n",
    "#}"
   ]
  },
  {
   "cell_type": "code",
   "execution_count": null,
   "metadata": {},
   "outputs": [],
   "source": [
    "def main(): #{\n",
    "    \n",
    "#}"
   ]
  },
  {
   "cell_type": "markdown",
   "metadata": {},
   "source": [
    "---\n",
    "## `__boilerplate__`"
   ]
  },
  {
   "cell_type": "code",
   "execution_count": null,
   "metadata": {},
   "outputs": [],
   "source": [
    "if __name__ == \"__main__\": #{\n",
    "    # SETUP LOGGER\n",
    "    ##############################\n",
    "    # INSTANTIATE GLOBAL VARIABLES\n",
    "    in_directory = \"C:/Temp/F/APPS/CofA/\" # \"F:/APPS/CofA/\"\n",
    "    df_save_list = pd.DataFrame(data=None, \n",
    "                                columns=['CofA', 'Timestamp'], \n",
    "                                dtype=np.str)\n",
    "    # CREATE TIMER VAR\n",
    "    t = Timer(25, execute_scanning)\n",
    "    # START TIMER\n",
    "    t.start()\n",
    "    # CREATE INSTANCE OF CUSTOM EVENT HANDLER\n",
    "    event_handler = CofA_Event_Handler(df_save_list, in_directory)\n",
    "    observer = Observer()\n",
    "    observer.schedule(event_handler=event_handler,\n",
    "                      path=in_directory,\n",
    "                      recursive=True)\n",
    "    observer.start()\n",
    "    try: #{\n",
    "        while True: #{\n",
    "            sleep(1)\n",
    "        #}\n",
    "    #}\n",
    "    except KeyboardInterrupt: #{\n",
    "        observer.stop()\n",
    "    #}\n",
    "    observer.join()\n",
    "#}"
   ]
  }
 ],
 "metadata": {
  "kernelspec": {
   "display_name": "Python 3",
   "language": "python",
   "name": "python3"
  },
  "language_info": {
   "codemirror_mode": {
    "name": "ipython",
    "version": 3
   },
   "file_extension": ".py",
   "mimetype": "text/x-python",
   "name": "python",
   "nbconvert_exporter": "python",
   "pygments_lexer": "ipython3",
   "version": "3.7.3"
  }
 },
 "nbformat": 4,
 "nbformat_minor": 2
}
