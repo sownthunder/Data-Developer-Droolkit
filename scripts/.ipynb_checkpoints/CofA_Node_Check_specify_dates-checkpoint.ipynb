{
 "cells": [
  {
   "cell_type": "markdown",
   "metadata": {},
   "source": [
    "### *CofA_Node_Check_specify_dates*\n",
    "\n",
    "- checks the `G:/C of A's/#Email Node/` for new CofA\n",
    "- **FOR ANY CREATED BETWEEN** `TODAY` AND `SPECIFIED DATE`"
   ]
  },
  {
   "cell_type": "code",
   "execution_count": null,
   "metadata": {},
   "outputs": [],
   "source": [
    "# IMPORT THE GOODS\n",
    "import os, sys, time\n",
    "from time import sleep\n",
    "from pathlib import Path\n",
    "import fnmatch, glob, shutil\n",
    "import tempfile, logging\n",
    "import pandas as pd\n",
    "import numpy as np\n",
    "from pandas import Series, DataFrame\n",
    "from PyPDF2 import PdfFileWriter, PdfFileReader"
   ]
  },
  {
   "cell_type": "code",
   "execution_count": null,
   "metadata": {},
   "outputs": [],
   "source": [
    "\"\"\"\n",
    "TAKES IN:\n",
    "(1) file_path obj of directory to scan\n",
    "(2) str of *START* date (\"2019-08-24\")\n",
    "(3) str of *END* date\n",
    "RETURNS:\n",
    ">>> DATAFRAME OF DIFFERENCES BETEEN THE FILES WITH THE DATESTAMPS SPECIFIED\n",
    "\"\"\"\n",
    "def compare_CofA_catchup(directory_to_search, the_current_date, the_compare_date): #{\n",
    "    # TRY THE FOLLOWING\n",
    "    try: #{\n",
    "        today_str = str(the_current_date)\n",
    "    #}\n",
    "    except: #{\n",
    "        \n",
    "    #}\n",
    "    else: #{\n",
    "        \n",
    "    #}\n",
    "#}"
   ]
  }
 ],
 "metadata": {
  "kernelspec": {
   "display_name": "Python 3",
   "language": "python",
   "name": "python3"
  },
  "language_info": {
   "codemirror_mode": {
    "name": "ipython",
    "version": 3
   },
   "file_extension": ".py",
   "mimetype": "text/x-python",
   "name": "python",
   "nbconvert_exporter": "python",
   "pygments_lexer": "ipython3",
   "version": "3.7.3"
  }
 },
 "nbformat": 4,
 "nbformat_minor": 2
}
