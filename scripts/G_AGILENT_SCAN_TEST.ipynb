{
 "cells": [
  {
   "cell_type": "code",
   "execution_count": null,
   "metadata": {},
   "outputs": [
    {
     "name": "stderr",
     "output_type": "stream",
     "text": [
      "2019-08-23 14:33:27 - Created file: G:/C of A's/Agilent/New Text Document.txt\n",
      "2019-08-23 14:33:27 - Modified file: G:/C of A's/Agilent/New Text Document.txt\n",
      "2019-08-23 14:33:32 - Moved file: from G:/C of A's/Agilent/New Text Document.txt to G:/C of A's/Agilent/ssss.txt\n",
      "2019-08-23 14:33:32 - Modified file: G:/C of A's/Agilent/ssss.txt\n",
      "2019-08-23 14:41:24 - Deleted file: G:/C of A's/Agilent/ssss.txt\n"
     ]
    }
   ],
   "source": [
    "import sys\n",
    "import time\n",
    "import logging\n",
    "from watchdog.observers import Observer\n",
    "from watchdog.events import LoggingEventHandler\n",
    "\n",
    "if __name__ == \"__main__\":\n",
    "    logging.basicConfig(level=logging.INFO,\n",
    "                        format='%(asctime)s - %(message)s',\n",
    "                        datefmt='%Y-%m-%d %H:%M:%S')\n",
    "    path = \"G:/C of A's/Agilent/\"  #sys.argv[1] if len(sys.argv) > 1 else '.'\n",
    "    event_handler = LoggingEventHandler()\n",
    "    observer = Observer()\n",
    "    observer.schedule(event_handler, path, recursive=True)\n",
    "    observer.start()\n",
    "    try:\n",
    "        while True:\n",
    "            time.sleep(1)\n",
    "    except KeyboardInterrupt:\n",
    "        observer.stop()\n",
    "    observer.join()"
   ]
  },
  {
   "cell_type": "code",
   "execution_count": null,
   "metadata": {},
   "outputs": [],
   "source": []
  }
 ],
 "metadata": {
  "kernelspec": {
   "display_name": "Python 3",
   "language": "python",
   "name": "python3"
  },
  "language_info": {
   "codemirror_mode": {
    "name": "ipython",
    "version": 3
   },
   "file_extension": ".py",
   "mimetype": "text/x-python",
   "name": "python",
   "nbconvert_exporter": "python",
   "pygments_lexer": "ipython3",
   "version": "3.7.3"
  }
 },
 "nbformat": 4,
 "nbformat_minor": 2
}
