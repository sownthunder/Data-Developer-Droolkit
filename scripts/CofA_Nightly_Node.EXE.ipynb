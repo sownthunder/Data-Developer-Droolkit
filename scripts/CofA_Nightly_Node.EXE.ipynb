{
 "cells": [
  {
   "cell_type": "markdown",
   "metadata": {},
   "source": [
    "Start Time == 9:01 PM\n",
    "\n",
    "Run Time == ~2 Minutes\n",
    "\n",
    "Drive Code Steps:\n",
    "\n",
    "- GLOB FOR YESTERDAYS AND TODAYS FILE(S)\n",
    "- CREATE DIFF_DATAFRAME FROM TWO FILES\n",
    "- MOVE/COPY&WATERMARK PDFS!\n",
    "- CREATE .ZIP FILE OF WATERMARKED PDFS\n",
    "- EMAIL AND SEND .ZIP FILE and .CSV FILES"
   ]
  },
  {
   "cell_type": "markdown",
   "metadata": {},
   "source": [
    "---\n",
    "### *DEFINE IMPORTS*"
   ]
  },
  {
   "cell_type": "code",
   "execution_count": null,
   "metadata": {},
   "outputs": [],
   "source": [
    "# IMPORT THE GOODS\n",
    "import os, sys, time\n",
    "from time import sleep\n",
    "from pathlib import Path\n",
    "import fnmatch, glob, shutil\n",
    "import pandas as pd\n",
    "import numpy as np\n",
    "from pandas import Series, DataFrame"
   ]
  },
  {
   "cell_type": "code",
   "execution_count": null,
   "metadata": {},
   "outputs": [],
   "source": [
    "import tempfile, subprocess\n",
    "from PyPDF2 import PdfFileReader, PdfFileWriter\n",
    "from zipfile import ZipFile"
   ]
  },
  {
   "cell_type": "code",
   "execution_count": null,
   "metadata": {},
   "outputs": [],
   "source": [
    "import email, smtplib, ssl\n",
    "import os.path as op\n",
    "from email import encoders\n",
    "from email.mime.base import MIMEBase\n",
    "from email.mime.multipart import MIMEMultipart\n",
    "from email.mime.text import MIMEText\n",
    "from email.utils import COMMASPACE, formatdate"
   ]
  },
  {
   "cell_type": "markdown",
   "metadata": {},
   "source": [
    "### *DEFINE FUNCTIONS*"
   ]
  },
  {
   "cell_type": "code",
   "execution_count": null,
   "metadata": {},
   "outputs": [],
   "source": [
    "\"\"\"\n",
    "TAKES IN:\n",
    "(1) path to pdf \n",
    "RETURNS: \n",
    "the STRING of that PDF to match the naming convention\n",
    "in G:/C of A's/#Email Node/ from F:/APPS/CofA/\n",
    "\"\"\"\n",
    "def generate_naming_convention(the_pdf_path): #{\n",
    "    # get/set filename to variable\n",
    "    the_file_name = str(os.path.basename(the_pdf_path))\n",
    "    # PERFORM STRING OPERATIONS\n",
    "    #################################\n",
    "    idx_mrk = the_file_name.rfind('@', 0, len(the_file_name))\n",
    "    half1 = str(the_file_name[0:idx_mrk])\n",
    "    half2 = str(the_file_name[idx_mrk + 1:len(the_file_name)])\n",
    "    print(\"\\t\\t[*************************]\")\n",
    "    print(\"\\t\\t|>>> HALF 1 == \" + half1)\n",
    "    print(\"\\t\\t|>>> HALF 2 == \" + half2)\n",
    "    #  setup NEW FILE NAME (for copy)\n",
    "    new_name = \"part \"\n",
    "    new_name += str(half1)\n",
    "    new_name += \" CofA Lot# \"\n",
    "    new_name += str(half2)\n",
    "    print(\"\\t\\t|>>> NEW NAME == \" + str(new_name))\n",
    "    print(\"\\t\\t[*************************]\")\n",
    "    #################################\n",
    "    return str(new_name)\n",
    "#}"
   ]
  },
  {
   "cell_type": "code",
   "execution_count": null,
   "metadata": {},
   "outputs": [],
   "source": [
    "\"\"\"\n",
    "TAKES IN:\n",
    "PDF TO WATERMARK,\n",
    "\"\"\"\n",
    "def create_watermark(input_pdf, output, watermark): # {\n",
    "    try:  # {\n",
    "        watermark_obj = PdfFileReader(watermark)\n",
    "        watermark_page = watermark_obj.getPage(0)\n",
    "\n",
    "        pdf_reader = PdfFileReader(input_pdf)\n",
    "        pdf_writer = PdfFileWriter()\n",
    "\n",
    "        # Watermark all the pages\n",
    "        for page in range(pdf_reader.getNumPages()):  # {\n",
    "            page = pdf_reader.getPage(page)\n",
    "            page.mergePage(watermark_page)\n",
    "            pdf_writer.addPage(page)\n",
    "        # }\n",
    "\n",
    "        with open(output, 'wb') as out:  # {\n",
    "            pdf_writer.write(out)\n",
    "        # }\n",
    "    # }\n",
    "    except: # {\n",
    "        errorMessage = str(sys.exc_info()[0]) + \"\\n\\t\\t\"\n",
    "        errorMessage = errorMessage + str(sys.exc_info()[1]) + \"\\n\\t\\t\"\n",
    "        errorMessage = errorMessage + str(sys.exc_info()[2]) + \"\\n\"\n",
    "        exc_type, exc_obj, exc_tb = sys.exc_info()\n",
    "        fname = os.path.split(exc_tb.tb_frame.f_code.co_filename)[1]\n",
    "        typeE = str(\"TYPE : \" + str(exc_type))\n",
    "        fileE = str(\"FILE : \" + str(fname))\n",
    "        lineE = str(\"LINE : \" + str(exc_tb.tb_lineno))\n",
    "        messageE = str(\"MESG : \" + \"\\n\" + str(errorMessage) + \"\\n\")\n",
    "        logging.error(\"\\n\" + typeE +\n",
    "              \"\\n\" + fileE +\n",
    "              \"\\n\" + lineE +\n",
    "              \"\\n\" + messageE)\n",
    "        # }\n",
    "    else: # {\n",
    "        print(\"\\t\\t[watermark-pdf] FIN...\")\n",
    "    # }\n",
    "    finally: # {\n",
    "        # CREATE END-TIME VAR\n",
    "        time_end = pd.Timestamp.now()\n",
    "        # DETERMINE OVERALL RUN-TIME\n",
    "        run_time = pd.Timedelta(time_end - time_start)\n",
    "        # PRINT TOTAL RUNTIME\n",
    "        print(\"\\t\\t[watermark-pdf] >>> time_alloted: \" + str(run_time))\n",
    "    # }\n",
    "    return\n",
    "# }"
   ]
  },
  {
   "cell_type": "code",
   "execution_count": null,
   "metadata": {},
   "outputs": [],
   "source": [
    "def get_all_file_paths(directory): #{\n",
    "    \n",
    "    # initializing empty file paths list \n",
    "    file_paths = [] \n",
    "    \n",
    "    # crawling through directory and subdirectories \n",
    "    for root, directories, files in os.walk(directory): #{\n",
    "        for filename in files: #{\n",
    "            # join the two strings in order to form the full filepath. \n",
    "            filepath = os.path.join(root, filename) \n",
    "            file_paths.append(filepath)\n",
    "        #}\n",
    "    #}\n",
    "    \n",
    "    # returning all file paths\n",
    "    return file_paths\n",
    "#}"
   ]
  },
  {
   "cell_type": "code",
   "execution_count": 1,
   "metadata": {},
   "outputs": [],
   "source": [
    "def send_mail(send_from, send_to, subject, message, files=[], \n",
    "              server=\"cos.smtp.agilent.com\", port=587, use_tls=True): #{\n",
    "    print(\"SENDING MAIL... DATE == \" + str(pd.Timestamp.now())[:10])\n",
    "    msg = MIMEMultipart()\n",
    "    msg['From'] = send_from\n",
    "    msg['To'] = COMMASPACE.join(send_to)\n",
    "    msg['Date'] = formatdate(localtime=True)\n",
    "    msg['Subject'] = subject\n",
    "    \n",
    "    msg.attach(MIMEText(message))\n",
    "    \n",
    "    for path in files: #{\n",
    "        part = MIMEBase('application', \"octet-stream\")\n",
    "        with open(path, 'rb') as file: #{\n",
    "            part.set_payload(file.read())\n",
    "        #}\n",
    "        encoders.encode_base64(part)\n",
    "        part.add_header('Content-Disposition',\n",
    "                       'attachment; filename=\"{}\"'.format(op.basename(path)))\n",
    "        msg.attach(part)\n",
    "    #}\n",
    "    \n",
    "    smtp = smtplib.SMTP(server, port)\n",
    "    if use_tls: #{\n",
    "        smtp.starttls()\n",
    "    #}\n",
    "    smtp.sendmail(send_from, send_to, msg.as_string())\n",
    "    smtp.quit()\n",
    "#}"
   ]
  },
  {
   "cell_type": "code",
   "execution_count": null,
   "metadata": {},
   "outputs": [],
   "source": [
    "def main(): #{\n",
    "    \n",
    "#}"
   ]
  },
  {
   "cell_type": "markdown",
   "metadata": {},
   "source": [
    "---\n",
    "## `__boilterplate__`"
   ]
  },
  {
   "cell_type": "code",
   "execution_count": null,
   "metadata": {},
   "outputs": [],
   "source": [
    "if __name__ == \"__main__\": #{\n",
    "    # SETUP LOGGER\n",
    "    ##############################\n",
    "    # INSTANTIATE GLOBAL VARIABLES\n",
    "    in_file = \"C:/CofA/imp/Agilent_CofA_Letterhead_03-21-19.pdf\"\n",
    "    save_list = []\n",
    "    in_directory = \"C:/Temp/F/APPS/CofA/\"  #\"F:/APPS/CofA/\"\n",
    "    out_directory = \"C:/Temp/G/C of A's/#Email Node/\"  #\"G:/C of A's/#Email Node/\"\n",
    "    to_email = \"agilent_cofa@agilent.com\"\n",
    "    from_email = \"derek.bates@non.agilent.com\"\n",
    "    today_date_str = \"2019-08-14\"\n",
    "#}"
   ]
  }
 ],
 "metadata": {
  "kernelspec": {
   "display_name": "Python 3",
   "language": "python",
   "name": "python3"
  },
  "language_info": {
   "codemirror_mode": {
    "name": "ipython",
    "version": 3
   },
   "file_extension": ".py",
   "mimetype": "text/x-python",
   "name": "python",
   "nbconvert_exporter": "python",
   "pygments_lexer": "ipython3",
   "version": "3.7.3"
  }
 },
 "nbformat": 4,
 "nbformat_minor": 2
}
